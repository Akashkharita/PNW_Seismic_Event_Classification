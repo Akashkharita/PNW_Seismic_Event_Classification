{
 "cells": [
  {
   "cell_type": "markdown",
   "id": "b0547958",
   "metadata": {},
   "source": [
    "# Train and evaluate on ensembles of CNN models\n",
    "\n",
    "by Marine Denolle on 06/20/24\n"
   ]
  },
  {
   "cell_type": "markdown",
   "id": "1e949bd1",
   "metadata": {},
   "source": [
    "### Import modules"
   ]
  },
  {
   "cell_type": "code",
   "execution_count": 1,
   "id": "0d066669",
   "metadata": {},
   "outputs": [],
   "source": [
    "import pandas as pd\n",
    "import numpy as np\n",
    "import matplotlib.pyplot as plt\n",
    "import h5py\n",
    "# from tqdm import tqdm\n",
    "from glob import glob\n",
    "# import time\n",
    "import random\n",
    "\n",
    "from scipy import signal\n",
    "\n",
    "\n",
    "import torch\n",
    "import torch.nn as nn\n",
    "from torch.utils.data import random_split\n",
    "import torch.nn.functional as F\n",
    "from torch.utils.data import DataLoader \n",
    "from torch.utils.data import Dataset\n",
    "\n",
    "\n",
    "# Check if a GPU is available\n",
    "device = torch.device(\"cuda\" if torch.cuda.is_available() else \"cpu\")"
   ]
  },
  {
   "cell_type": "markdown",
   "id": "fb79ff4f",
   "metadata": {},
   "source": [
    "## Parameters"
   ]
  },
  {
   "cell_type": "markdown",
   "id": "77d33682",
   "metadata": {},
   "source": [
    "### Waveform data"
   ]
  },
  {
   "cell_type": "code",
   "execution_count": 2,
   "id": "06b9fdcd",
   "metadata": {},
   "outputs": [],
   "source": [
    "#data files\n",
    "file_noise=\"/1-fnp/cascadia/c-whd01/yiyu_data/PNWML/noise_waveforms.hdf5\";\n",
    "file_comcat=  \"/1-fnp/cascadia/c-whd01/yiyu_data/PNWML/comcat_waveforms.hdf5\";\n",
    "file_exotic=\"/1-fnp/cascadia/c-whd01/yiyu_data/PNWML/exotic_waveforms.hdf5\";\n",
    "# file_noise=\"/data/whd01/yiyu_data/PNWML/noise_waveforms.hdf5\";\n",
    "# file_comcat=  \"/data/whd01/yiyu_data/PNWML/comcat_waveforms.hdf5\";\n",
    "# file_exotic=\"/data/whd01/yiyu_data/PNWML/exotic_waveforms.hdf5\";"
   ]
  },
  {
   "cell_type": "markdown",
   "id": "3d6b008d",
   "metadata": {},
   "source": [
    "### Waveform Metadata"
   ]
  },
  {
   "cell_type": "code",
   "execution_count": 3,
   "id": "59012f24",
   "metadata": {},
   "outputs": [],
   "source": [
    "# metadata\n",
    "# accessing the comcat metadata\n",
    "comcat_metadata = pd.read_csv(\"/1-fnp/cascadia/c-whd01/yiyu_data/PNWML/comcat_metadata.csv\")\n",
    "# comcat_metadata = pd.read_csv(\"/data/whd01/yiyu_data/PNWML/comcat_metadata.csv\")\n",
    "\n",
    "# accessing the exotic metadata\n",
    "exotic_metadata = pd.read_csv(\"/1-fnp/cascadia/c-whd01/yiyu_data/PNWML/exotic_metadata.csv\")\n",
    "# exotic_metadata = pd.read_csv(\"/data/whd01/yiyu_data/PNWML/exotic_metadata.csv\")\n",
    "\n",
    "# accessing the data files\n",
    "metadata_noise = pd.read_csv(\"/1-fnp/cascadia/c-whd01/yiyu_data/PNWML/noise_metadata.csv\")\n",
    "# metadata_noise = pd.read_csv(\"/data/whd01/yiyu_data/PNWML/noise_metadata.csv\")\n",
    "\n",
    "# creating individual data frames for each class\n",
    "cat_exp = comcat_metadata[comcat_metadata['source_type'] == 'explosion']\n",
    "cat_eq = comcat_metadata[comcat_metadata['source_type'] == 'earthquake']\n",
    "cat_su = exotic_metadata[exotic_metadata['source_type'] == 'surface event']\n",
    "cat_noise = metadata_noise\n",
    "cat_noise['event_id'] = [cat_noise['trace_start_time'][i]+'_noise' for i in range(len(cat_noise))]\n"
   ]
  },
  {
   "cell_type": "markdown",
   "id": "5bab8e20",
   "metadata": {},
   "source": [
    "### Data Prep"
   ]
  },
  {
   "cell_type": "code",
   "execution_count": 4,
   "id": "482b90db",
   "metadata": {},
   "outputs": [],
   "source": [
    "start=-50\n",
    "input_window_length=100 # in seconds\n",
    "fs=50 # target sampling rate\n",
    "\n",
    "number_data_per_class=5000 # number of data samples per class\n",
    "num_channels=3  # number of components to check\n",
    "\n",
    "SNR_THR = 15\n",
    "\n",
    "all_data=False\n",
    "shifting=True\n",
    "augmentation=False\n",
    "\n",
    "\n",
    "# training parameters\n",
    "train_split = 70\n",
    "val_split=20\n",
    "test_split = 10\n",
    "learning_rate=0.001\n",
    "batch_size=128\n",
    "n_epochs=60\n",
    "dropout=0.4\n",
    "criterion=nn.CrossEntropyLoss()"
   ]
  },
  {
   "cell_type": "markdown",
   "id": "5daa147a",
   "metadata": {},
   "source": [
    "##  Define models"
   ]
  },
  {
   "cell_type": "code",
   "execution_count": 5,
   "id": "3000d8be",
   "metadata": {},
   "outputs": [],
   "source": [
    "# defining a very simple CNN\n",
    "        \n",
    "class MyCNN(nn.Module):\n",
    "    def __init__(self, num_classes=4, num_channels = 3,dropout_rate=0.2):\n",
    "        super(MyCNN, self).__init__()\n",
    "        # Define the layers of the CNN architecture\n",
    "        self.conv1 = nn.Conv1d(in_channels= num_channels, out_channels=8, kernel_size=9,stride=1,padding='same')\n",
    "        self.conv2 = nn.Conv1d(in_channels= 8, out_channels=8, kernel_size=9,stride=2,padding=4)       \n",
    "        self.conv3 = nn.Conv1d(in_channels= 8, out_channels=16, kernel_size=7,stride=1,padding='same')\n",
    "        self.conv4 = nn.Conv1d(in_channels= 16, out_channels=16, kernel_size=7,stride=2,padding=3)        \n",
    "        self.conv5 = nn.Conv1d(in_channels= 16, out_channels=32, kernel_size=5,stride=1,padding='same')\n",
    "        self.conv6 = nn.Conv1d(in_channels= 32, out_channels=32, kernel_size=5,stride=2,padding=2)                \n",
    "        self.conv7 = nn.Conv1d(in_channels= 32, out_channels=64, kernel_size=3,stride=1,padding='same')\n",
    "        \n",
    "        self.pool1 = nn.MaxPool1d(kernel_size=2, stride=2)\n",
    "        \n",
    "        # batch-normalization layers\n",
    "        self.bn1 = nn.BatchNorm1d(8)#, dtype=torch.float64)\n",
    "        self.bn2 = nn.BatchNorm1d(8)#, dtype=torch.float64)\n",
    "        self.bn3 = nn.BatchNorm1d(16)#, dtype=torch.float64)\n",
    "        self.bn4 = nn.BatchNorm1d(16)#, dtype=torch.float64)\n",
    "        self.bn5 = nn.BatchNorm1d(32)#, dtype=torch.float64)\n",
    "        self.bn6 = nn.BatchNorm1d(32)#, dtype=torch.float64)\n",
    "        self.bn7 = nn.BatchNorm1d(64)#, dtype=torch.float64)\n",
    "        \n",
    "        # self.fc1 = nn.Linear(5000, 128)  # Adjust input size based on your data\n",
    "        self.fc1 = nn.Linear(4992, 128)  # Adjust input size based on your data\n",
    "        self.fc2 = nn.Linear(128,num_classes)  # Adjust input size based on your data\n",
    "        self.fc1_bn = nn.BatchNorm1d(128)\n",
    "        self.fc2_bn = nn.BatchNorm1d(num_classes)\n",
    "        \n",
    "        \n",
    "        # Calculate the input size for the first fully connected layer\n",
    "        # fc_input_size = self._get_conv_output_size(num_channels, 5000)\n",
    "        \n",
    "        # define dropout\n",
    "        self.dropout = nn.Dropout(dropout_rate)\n",
    "        \n",
    "    def forward(self, x):\n",
    "        x = F.relu(self.bn1(self.conv1(x))) # feature extraction, output size of 8,5000\n",
    "        x = self.pool1(F.relu(self.bn2(self.conv2(x)))) # feature extraction, output size of 8,1250 \n",
    "        x = self.dropout(x)\n",
    "        # max pooling is done at this point, but after the 2 convolutions to avoid aliasing\n",
    "        x = F.relu(self.bn3(self.conv3(x))) # feature extraction, output size of 16,1250\n",
    "        x = self.pool1(F.relu(self.bn4(self.conv4(x)))) # feature extraction, output size of 16, 312\n",
    "        x = self.dropout(x)\n",
    "        x =  F.relu(self.bn5(self.conv5(x))) # feature extraction, output size of 32, 312\n",
    "        x = self.pool1(F.relu(self.bn6(self.conv6(x)))) # feature extraction, output size of 32, 78\n",
    "        x = self.dropout(x)\n",
    "        x = F.relu(self.bn7(self.conv7(x))) # feature extraction, output size of 64, 78            \n",
    "        x = x.view(x.size(0), -1) # Flatten before fully connected layer, 4992 features!\n",
    "        x = self.dropout(x)\n",
    "        x = F.relu(self.fc1_bn(self.fc1(x)))  # classifier\n",
    "        x = self.fc2_bn(self.fc2(x)) # classifier\n",
    "        # do not apply softmax here, as it will be applied in the loss function\n",
    "        \n",
    "        return x"
   ]
  },
  {
   "cell_type": "code",
   "execution_count": 9,
   "id": "3c5fc691",
   "metadata": {},
   "outputs": [
    {
     "data": {
      "image/png": "[encoded data removed]",
      "text/plain": [
       "<Figure size 1200x600 with 2 Axes>"
      ]
     },
     "metadata": {},
     "output_type": "display_data"
    }
   ],
   "source": [
    "import numpy as np\n",
    "import matplotlib.pyplot as plt\n",
    "\n",
    "def shuffle_phase_tensor(time_series):\n",
    "    # Compute the Fourier transform\n",
    "    new_time_series = torch.zeros(time_series.shape)\n",
    "    for ichan in range(time_series.shape[0]):\n",
    "        fourier_tensor = torch.fft.fft(torch.tensor(time_series[ichan,:]).float())\n",
    "        # Get amplitude and phase\n",
    "        amp_tensor = torch.abs(fourier_tensor)\n",
    "        phase_tensor = torch.angle(fourier_tensor)\n",
    "        \n",
    "        # Shuffle the phase\n",
    "        indices = torch.randperm(phase_tensor.size(-1)) \n",
    "        # in torch\n",
    "        phase_tensor[1:len(phase_tensor)//2] = phase_tensor[indices[1:len(phase_tensor)//2]]\n",
    "        phase_tensor[len(phase_tensor)//2+1:] = -torch.flip(phase_tensor[len(phase_tensor)//2+1:],dims=[0])  # Ensure conjugate symmetry\n",
    "        \n",
    "        # Reconstruct the Fourier transform with original amplitude and shuffled phase\n",
    "        shuffled_fourier_tensor = amp_tensor * torch.exp(1j * phase_tensor)\n",
    "        \n",
    "        # Perform the inverse Fourier transform\n",
    "        new_time_series[ichan,:] = torch.fft.ifft(shuffled_fourier_tensor).real\n",
    "\n",
    "\n",
    "        window_length = new_time_series[ichan,:].size(-1)  # Taper along the last dimension\n",
    "        hann_window = torch.hann_window(window_length).to(new_time_series.device)  # Ensure window is on the same device as tensor\n",
    "        new_time_series[ichan,:] *= hann_window\n",
    "    \n",
    "    return new_time_series  # Return the real part\n",
    "\n",
    "\n",
    "\n",
    "def shuffle_phase(time_series):\n",
    "    # Compute the Fourier transform\n",
    "    fourier_transform = np.fft.fft(time_series)\n",
    "    \n",
    "    # Get amplitude and phase\n",
    "    amplitude = np.abs(fourier_transform)\n",
    "    phase = np.angle(fourier_transform)\n",
    "  \n",
    "    # in numpy\n",
    "    np.random.shuffle(phase[1:len(phase)//2])\n",
    "    phase[len(phase)//2+1:] = -phase[len(phase)//2-1:0:-1]  # Ensure conjugate symmetry\n",
    "    # in torch\n",
    "    # Reconstruct the Fourier transform with original amplitude and shuffled phase\n",
    "    shuffled_fourier = amplitude * np.exp(1j * phase)\n",
    "    \n",
    "    # Perform the inverse Fourier transform\n",
    "    new_time_series = np.fft.ifft(shuffled_fourier)\n",
    "    \n",
    "    return new_time_series.real  # Return the real part\n",
    "\n",
    "\n",
    "# Example usage\n",
    "time_series = np.sin(np.linspace(0, 20*np.pi, 1000)) + np.random.normal(0, 0.1, 1000)\n",
    "new_time_series = shuffle_phase(time_series)\n",
    "\n",
    "# Plot the original and new time series\n",
    "plt.figure(figsize=(12, 6))\n",
    "plt.subplot(1, 2, 1)\n",
    "plt.plot(time_series)\n",
    "plt.title('Original Time Series')\n",
    "plt.subplot(1, 2, 2)\n",
    "plt.plot(new_time_series)\n",
    "plt.title('Time Series with Shuffled Phase')\n",
    "plt.show()"
   ]
  },
  {
   "cell_type": "markdown",
   "id": "d3b0145f",
   "metadata": {},
   "source": [
    "### test CNN"
   ]
  },
  {
   "cell_type": "code",
   "execution_count": 10,
   "id": "fa34f987",
   "metadata": {},
   "outputs": [
    {
     "name": "stdout",
     "output_type": "stream",
     "text": [
      "Total number of parameters in SeismicCNN in log10: 7.009762693972353\n",
      "Total number of parameters in MyCNN in log10: 5.818038406899838\n",
      "Total number of parameters in MyResCNN in log10: 4.710929320444194\n"
     ]
    }
   ],
   "source": [
    "# Assuming the input shape is (batch_size, num_channels, num_features)\n",
    "# batch_size = 64  # You can adjust the batch size as needed\n",
    "num_channels = 3\n",
    "num_features = 5000\n",
    "# Create a random input tensor with the specified shape\n",
    "random_input = torch.randn(batch_size, num_channels,int(input_window_length*fs)).to(device)\n",
    "# Initialize your model\n",
    "# model = SeismicCNN(num_classes=4, num_channels=num_channels).to(device)  # Use 'cuda' if you have a GPU available\n",
    "# total_params = sum(p.numel() for p in model.parameters() if p.requires_grad)\n",
    "# print(f\"Total number of parameters in SeismicCNN in log10: {np.log10(total_params)}\")\n",
    "# Initialize your model\n",
    "model2 = MyCNN(num_classes=4, num_channels=num_channels).to(device)  # Use 'cuda' if you have a GPU available\n",
    "total_params = sum(p.numel() for p in model2.parameters() if p.requires_grad)\n",
    "print(f\"Total number of parameters in MyCNN in log10: {np.log10(total_params)}\")\n",
    "\n",
    "# # Initialize your model\n",
    "# model3 = MyResCNN(num_classes=4, num_channels=num_channels).to(device)  # Use 'cuda' if you have a GPU available\n",
    "# total_params = sum(p.numel() for p in model3.parameters() if p.requires_grad)\n",
    "# print(f\"Total number of parameters in MyResCNN in log10: {np.log10(total_params)}\")\n"
   ]
  },
  {
   "cell_type": "code",
   "execution_count": 11,
   "id": "2fc78fc7",
   "metadata": {},
   "outputs": [],
   "source": [
    "# adding some more comments here\n",
    "from torch.utils.data import Dataset\n",
    "class PNWDataSet(Dataset): # create custom dataset\n",
    "    def __init__(self, data,labels,num_classes): # initialize\n",
    "        self.data = data \n",
    "        self.labels = labels\n",
    "        self.num_classes = num_classes\n",
    "\n",
    "    def __len__(self):\n",
    "        return len(self.data)\n",
    "\n",
    "    def __getitem__(self, index):\n",
    "        sample_data = self.data[index]\n",
    "        sample_labels = self.labels[index]\n",
    "        \n",
    "        # Convert labels to one-hot encoded vectors\n",
    "        sample_labels = torch.nn.functional.one_hot(torch.tensor(sample_labels), num_classes=self.num_classes)\n",
    "        \n",
    "        return torch.Tensor(sample_data), sample_labels.float()  # return data as a tensor\n",
    "    "
   ]
  },
  {
   "cell_type": "code",
   "execution_count": 12,
   "id": "571104de",
   "metadata": {},
   "outputs": [],
   "source": [
    "def extract_waveforms(cat, file_name, start=-20, input_window_length=100, fs=50, number_data=1000, num_channels=3, all_data=False, shifting=True):\n",
    "    \n",
    "    \"\"\"\n",
    "    This is a function defined to extract the waveforms from file of waveforms and a dataframe of metadata. \n",
    "    The functions will also filter and resample the data if the data sampling rate is different from the target sampling rate\n",
    "    The data is shuffled in order it is called from the file it was stored in.\n",
    "    The data is shuffled in time by allowing a shift in selecting the waveform window with some of the pre-P data.\n",
    "    The data us normalized to its max(abs) on either component.\n",
    "    \n",
    "    Inputs:\n",
    "    cat -  Catalog containing metadata of the events, so we can extract the data using the bucket information\n",
    "    file_name - path of the h5py file containing the data\n",
    "    start - origin or first arrival time\n",
    "    num_features - window length to extract\n",
    "    before - number of samples to take before the arrival time\n",
    "    after - number of samples to take after the arrival time.\n",
    "    num_samples - no. of events per class to extract\n",
    "    \n",
    "    input_window_length: desired window length in seconds\n",
    "    fs: desired sampling rate.\n",
    "    num_channels - no. of channels per event to extract, if set 1, will extract Z component, if set any other number, will extract - ZNE component. \n",
    "    all_samples - if true, will extract all the samples corresponding of a given class\n",
    "    shifting - if true, will extract windows randomly starting between P-5, P-20. The random numbers follow a gaussian distribution. \n",
    "    Outputs:\n",
    "    \n",
    "    \"\"\"   \n",
    "    random.seed(1234) # set seed for reproducibility\n",
    "    cat = cat.sample(frac=1).reset_index(drop=True)\n",
    "    if all_data:number_data = len(cat) # how many data to include\n",
    "    # open the file\n",
    "    f = h5py.File(file_name, 'r')\n",
    "    x=np.zeros(shape=(number_data,3,int(fs*input_window_length)))\n",
    "    event_ids = cat['event_id'].values\n",
    "    if not all_data:event_ids=event_ids[:number_data]\n",
    "        \n",
    "    for index in range(number_data):\n",
    "        # read data\n",
    "        bucket, narray = cat.loc[index]['trace_name'].split('$')\n",
    "        xx, _, _ = iter([int(i) for i in narray.split(',:')])\n",
    "        data = f['/data/%s' % bucket][xx, :, : ] # get all of the data\n",
    "        if fs != cat.loc[index,'trace_sampling_rate_hz']: #resample the data\n",
    "            nyquist = 0.5 * cat.loc[index,'trace_sampling_rate_hz']\n",
    "            low = 0.05 / nyquist;  high = 20 / nyquist\n",
    "            b, a = signal.butter(4, [low, high], btype='band')\n",
    "\n",
    "            # Apply the taper+filter to the signal\n",
    "            taper = signal.windows.tukey(data.shape[-1],alpha=0.1)\n",
    "            data = np.array([np.multiply(taper,row) for row in data])\n",
    "            filtered_signal = np.array([signal.filtfilt(b, a, row) for row in data])\n",
    "\n",
    "            # resample\n",
    "            number_of_samples = int(filtered_signal.shape[1] * fs / cat.loc[index,'trace_sampling_rate_hz'])\n",
    "            data = np.array([signal.resample(row, number_of_samples) for row in filtered_signal])\n",
    "\n",
    "            \n",
    "        if event_ids[index].split(\"_\")[-1]!=\"noise\":\n",
    "            #random start between P-20 and P-5 (upper bound is exclusive in numpy.random.randint)        \n",
    "            ii = int(np.random.randint(start,-4)*fs)\n",
    "            \n",
    "            if np.isnan(cat.loc[index, 'trace_P_arrival_sample']):continue\n",
    "            \n",
    "            istart = int(cat.loc[index, 'trace_P_arrival_sample']*fs/cat.loc[index,'trace_sampling_rate_hz']) + ii # start around the P\n",
    "            iend  = istart + int(fs*input_window_length)\n",
    "            if istart<0:\n",
    "                istart = 0\n",
    "                iend = int(fs*input_window_length)\n",
    "\n",
    "            if iend>data.shape[-1]:\n",
    "                istart = istart - (iend-data.shape[-1])\n",
    "                iend = data.shape[-1]\n",
    "        else:\n",
    "            istart=0\n",
    "            iend=istart+int(fs*input_window_length)\n",
    "\n",
    "        \n",
    "        # normalize the data\n",
    "        # mmax = np.max(np.abs(data[:,istart:iend]))\n",
    "        mmax = np.std(np.abs(data[:,istart:iend]))\n",
    "        # store data in big index\n",
    "        x[index,:,:iend-istart] = data[:,istart:iend]/mmax\n",
    "        \n",
    "        if num_channels==1:\n",
    "            x2 = x[:,2,:]\n",
    "            del x\n",
    "            x = x2\n",
    "            \n",
    "    # remove rows with zeros if there are any\n",
    "    idx=np.where(np.mean(np.abs(x[:,2,0:10]),axis=-1)>0)[0]\n",
    "                     \n",
    "    \n",
    "    f.close()\n",
    "    return x[idx,:,:], event_ids[idx]\n"
   ]
  },
  {
   "cell_type": "code",
   "execution_count": 13,
   "id": "07d19086",
   "metadata": {},
   "outputs": [],
   "source": [
    "def train_model(model, train_loader, val_loader, test_loader, n_epochs=100,\n",
    "                 learning_rate=0.001,criterion=nn.CrossEntropyLoss(),\n",
    "                 augmentation=False,patience=10):\n",
    "    \"\"\"\n",
    "    Function to train and evaluate the defined model.\n",
    "\n",
    "    Parameters:\n",
    "        model (torch.nn.Module): The neural network model.\n",
    "        train_loader (torch.utils.data.DataLoader): DataLoader for training data.\n",
    "        val_loader (torch.utils.data.Dataset): Validation dataset.\n",
    "        test_loader (torch.utils.data.DataLoader): DataLoader for validation data.\n",
    "        optimizer (torch.optim.Optimizer): Optimizer for training the model.\n",
    "        n_epochs (int): Number of training epochs.\n",
    "        number_input (int): Number of points in the input data.\n",
    "        num_channels (int): Number of channels in the input data.\n",
    "\n",
    "    Returns:\n",
    "        accuracy_list (list): List of accuracies computed from each epoch.\n",
    "        train_loss_list (list): List of training losses from each epoch.\n",
    "        val_loss_list (list): List of validation losses from each epoch.\n",
    "        y_pred (list): List of predicted values.\n",
    "        y_true (list): List of true values.\n",
    "    \"\"\"\n",
    "\n",
    "    optimizer = torch.optim.Adam(model.parameters(), lr=learning_rate)\n",
    "\n",
    "    # # Save loss and error for plotting\n",
    "    loss_time = np.zeros(n_epochs)\n",
    "    val_loss_time = np.zeros(n_epochs)\n",
    "    val_accuracy_time = np.zeros(n_epochs)\n",
    "\n",
    "    best_val_loss = float('inf')\n",
    "    total = 0   # to store the total number of samples\n",
    "    correct = 0 # to store the number of correct predictions\n",
    "\n",
    "    for epoch in range(n_epochs):\n",
    "        running_loss = 0\n",
    "        model.train()\n",
    "        for data in train_loader:\n",
    "            inputs, labels = data[0].to(device), data[1].to(device)\n",
    "            inputs = inputs.float()\n",
    "\n",
    "            # Data augmentation.\n",
    "            if augmentation:\n",
    "                inoise = torch.where(labels.argmax(1)==0)[0] # this finds noise labels in the entire data\n",
    "                # we will add noise to the data randomly\n",
    "                for iibatch in range(inputs.shape[0]):\n",
    "                    if np.random.rand(1)>0.5:\n",
    "                        iik = inoise[torch.randperm(len(inoise))][0]\n",
    "                        noise = shuffle_phase_tensor(inputs[iik,:,:]).to(device)\n",
    "                        inputs[iibatch,:,:] = inputs[iibatch,:,:] + torch.rand(1).to(device)*noise/2\n",
    "            \n",
    "\n",
    "            # Set the parameter gradients to zero\n",
    "            optimizer.zero_grad()\n",
    "            outputs = model(inputs)\n",
    "            loss = criterion(outputs, labels)\n",
    "            # computing the gradients\n",
    "            loss.backward()\n",
    "\n",
    "            # updating the parameters\n",
    "            optimizer.step()\n",
    "\n",
    "            running_loss += loss.item()\n",
    "\n",
    "        # updating the training loss list\n",
    "        loss_time[epoch] = running_loss/len(train_loader)\n",
    "\n",
    "        # We evaluate the model, so we do not need the gradient\n",
    "        model.eval()\n",
    "        with torch.no_grad(): # Context-manager that disabled gradient calculation.\n",
    "            # Loop on samples in test set\n",
    "            total = 0\n",
    "            correct = 0\n",
    "            running_test_loss = 0\n",
    "            for data in val_loader:\n",
    "                inputs, labels = data[0].to(device), data[1].to(device)\n",
    "                inputs = inputs.float()\n",
    "                labels = labels.float()\n",
    "\n",
    "                outputs = model(inputs)\n",
    "                running_test_loss += criterion(outputs, labels).item()\n",
    "\n",
    "                correct += (outputs.argmax(1) == labels.argmax(1)).sum().item()\n",
    "                total += labels.size(0)\n",
    "\n",
    "    # Check for improvement\n",
    "            if running_test_loss/len(val_loader) < best_val_loss:\n",
    "                best_val_loss = running_test_loss/len(val_loader)\n",
    "                epochs_no_improve = 0\n",
    "                # Save the model if you want to keep the best one\n",
    "                torch.save(model.state_dict(), 'best_model.pth')\n",
    "            else:\n",
    "                epochs_no_improve += 1\n",
    "                # print(f'No improvement in validation loss for {epochs_no_improve} epochs.')\n",
    "\n",
    "            if epochs_no_improve == patience:\n",
    "                # print('Early stopping triggered.')\n",
    "                \n",
    "                break\n",
    "\n",
    "        \n",
    "        val_loss_time[epoch] = running_test_loss/len(val_loader)\n",
    "\n",
    "        val_accuracy_time[epoch]=100 * correct / total\n",
    "        # Print intermediate results on screen\n",
    "        if (epoch+1) % 10 == 0:\n",
    "            if val_loader is not None:\n",
    "                print('[Epoch %d] loss: %.3f - accuracy: %.3f' %\n",
    "                (epoch + 1, running_loss/len(train_loader), 100 * correct / total))\n",
    "            else:\n",
    "                print('[Epoch %d] loss: %.3f' %\n",
    "                (epoch + 1, running_loss/len(train_loader)))\n",
    "\n",
    "\n",
    "    # Optionally, load the best model saved\n",
    "    model.load_state_dict(torch.load('best_model.pth'))\n",
    "    # testing\n",
    "        # We evaluate the model, so we do not need the gradient\n",
    "    model.eval() \n",
    "    with torch.no_grad(): # Context-manager that disabled gradient calculation.\n",
    "        # Loop on samples in test set\n",
    "        total = 0\n",
    "        correct = 0\n",
    "        running_test_loss = 0\n",
    "        for data in test_loader:\n",
    "            inputs, labels = data[0].to(device), data[1].to(device)\n",
    "            inputs = inputs.float()\n",
    "            labels = labels.float()\n",
    "\n",
    "            outputs = model(inputs)\n",
    "            running_test_loss += criterion(outputs, labels).item()\n",
    "\n",
    "            correct += (outputs.argmax(1) == labels.argmax(1)).sum().item()\n",
    "            total += labels.size(0)\n",
    "\n",
    "\n",
    "        test_loss = running_test_loss/len(test_loader)\n",
    "        test_accuracy = 100 * correct / total  \n",
    "        print('test loss: %.3f and accuracy: %.3f' % ( test_loss,test_accuracy))\n",
    "\n",
    "   \n",
    "    return loss_time, val_loss_time, val_accuracy_time, test_loss,test_accuracy"
   ]
  },
  {
   "cell_type": "markdown",
   "id": "f7bbe0eb",
   "metadata": {},
   "source": [
    "## Select only high SNR data\n",
    "\n",
    "based on the SNR value in the Z component, then store the reduced panda dataframe for each class."
   ]
  },
  {
   "cell_type": "code",
   "execution_count": 14,
   "id": "6782a2d1",
   "metadata": {},
   "outputs": [],
   "source": [
    "# explosions\n",
    "trace_snr_db_values = np.array([float(cat_exp.loc[idx, 'trace_snr_db'].split(\"|\")[-1]) for idx in cat_exp.index.values.tolist()])\n",
    "ii2= np.where(trace_snr_db_values>SNR_THR)[0].astype(int) \n",
    "df_exp = cat_exp.iloc[ii2]\n",
    "\n",
    "# earthquake\n",
    "trace_snr_db_values = np.array([float(cat_eq.loc[idx, 'trace_snr_db'].split(\"|\")[-1]) for idx in cat_eq.index.values.tolist()])\n",
    "ii2= np.where(trace_snr_db_values>SNR_THR)[0].astype(int) \n",
    "df_eq = cat_eq.iloc[ii2]\n",
    "\n",
    "# surface events\n",
    "trace_snr_db_values = np.array([float(cat_su.loc[idx, 'trace_snr_db'].split(\"|\")[-1]) for idx in cat_su.index.values.tolist()])\n",
    "ii2= np.where(trace_snr_db_values>SNR_THR-2)[0].astype(int) \n",
    "df_su = cat_su.iloc[ii2]\n",
    "\n",
    "# noise\n",
    "# does not change\n",
    "df_noise = cat_noise"
   ]
  },
  {
   "cell_type": "code",
   "execution_count": 15,
   "id": "978df7a4",
   "metadata": {},
   "outputs": [
    {
     "data": {
      "text/html": [
       "<div>\n",
       "<style scoped>\n",
       "    .dataframe tbody tr th:only-of-type {\n",
       "        vertical-align: middle;\n",
       "    }\n",
       "\n",
       "    .dataframe tbody tr th {\n",
       "        vertical-align: top;\n",
       "    }\n",
       "\n",
       "    .dataframe thead th {\n",
       "        text-align: right;\n",
       "    }\n",
       "</style>\n",
       "<table border=\"1\" class=\"dataframe\">\n",
       "  <thead>\n",
       "    <tr style=\"text-align: right;\">\n",
       "      <th></th>\n",
       "      <th>source_type</th>\n",
       "      <th>station_network_code</th>\n",
       "      <th>station_channel_code</th>\n",
       "      <th>station_code</th>\n",
       "      <th>station_location_code</th>\n",
       "      <th>station_latitude_deg</th>\n",
       "      <th>station_longitude_deg</th>\n",
       "      <th>station_elevation_m</th>\n",
       "      <th>trace_name</th>\n",
       "      <th>trace_sampling_rate_hz</th>\n",
       "      <th>trace_start_time</th>\n",
       "      <th>event_id</th>\n",
       "    </tr>\n",
       "  </thead>\n",
       "  <tbody>\n",
       "    <tr>\n",
       "      <th>0</th>\n",
       "      <td>noise</td>\n",
       "      <td>UW</td>\n",
       "      <td>BH</td>\n",
       "      <td>TTW</td>\n",
       "      <td>--</td>\n",
       "      <td>47.694</td>\n",
       "      <td>-121.690</td>\n",
       "      <td>542.0</td>\n",
       "      <td>bucket1$0,:3,:15001</td>\n",
       "      <td>100</td>\n",
       "      <td>2002-09-21T00:50:20.960000Z</td>\n",
       "      <td>2002-09-21T00:50:20.960000Z_noise</td>\n",
       "    </tr>\n",
       "    <tr>\n",
       "      <th>1</th>\n",
       "      <td>noise</td>\n",
       "      <td>UW</td>\n",
       "      <td>HH</td>\n",
       "      <td>ERW</td>\n",
       "      <td>--</td>\n",
       "      <td>48.454</td>\n",
       "      <td>-122.626</td>\n",
       "      <td>387.0</td>\n",
       "      <td>bucket2$0,:3,:15001</td>\n",
       "      <td>100</td>\n",
       "      <td>2002-09-21T00:50:20.960000Z</td>\n",
       "      <td>2002-09-21T00:50:20.960000Z_noise</td>\n",
       "    </tr>\n",
       "    <tr>\n",
       "      <th>2</th>\n",
       "      <td>noise</td>\n",
       "      <td>UW</td>\n",
       "      <td>BH</td>\n",
       "      <td>GNW</td>\n",
       "      <td>--</td>\n",
       "      <td>47.564</td>\n",
       "      <td>-122.825</td>\n",
       "      <td>220.0</td>\n",
       "      <td>bucket3$0,:3,:15001</td>\n",
       "      <td>100</td>\n",
       "      <td>2002-09-21T00:50:20.960000Z</td>\n",
       "      <td>2002-09-21T00:50:20.960000Z_noise</td>\n",
       "    </tr>\n",
       "    <tr>\n",
       "      <th>3</th>\n",
       "      <td>noise</td>\n",
       "      <td>UW</td>\n",
       "      <td>BH</td>\n",
       "      <td>OPC</td>\n",
       "      <td>--</td>\n",
       "      <td>48.100</td>\n",
       "      <td>-123.413</td>\n",
       "      <td>90.0</td>\n",
       "      <td>bucket4$0,:3,:15001</td>\n",
       "      <td>100</td>\n",
       "      <td>2002-09-21T00:50:20.960000Z</td>\n",
       "      <td>2002-09-21T00:50:20.960000Z_noise</td>\n",
       "    </tr>\n",
       "    <tr>\n",
       "      <th>4</th>\n",
       "      <td>noise</td>\n",
       "      <td>UW</td>\n",
       "      <td>BH</td>\n",
       "      <td>GNW</td>\n",
       "      <td>--</td>\n",
       "      <td>47.564</td>\n",
       "      <td>-122.825</td>\n",
       "      <td>220.0</td>\n",
       "      <td>bucket5$0,:3,:15001</td>\n",
       "      <td>100</td>\n",
       "      <td>2002-09-13T14:54:54.050000Z</td>\n",
       "      <td>2002-09-13T14:54:54.050000Z_noise</td>\n",
       "    </tr>\n",
       "  </tbody>\n",
       "</table>\n",
       "</div>"
      ],
      "text/plain": [
       "  source_type station_network_code station_channel_code station_code  \\\n",
       "0       noise                   UW                   BH          TTW   \n",
       "1       noise                   UW                   HH          ERW   \n",
       "2       noise                   UW                   BH          GNW   \n",
       "3       noise                   UW                   BH          OPC   \n",
       "4       noise                   UW                   BH          GNW   \n",
       "\n",
       "  station_location_code  station_latitude_deg  station_longitude_deg  \\\n",
       "0                    --                47.694               -121.690   \n",
       "1                    --                48.454               -122.626   \n",
       "2                    --                47.564               -122.825   \n",
       "3                    --                48.100               -123.413   \n",
       "4                    --                47.564               -122.825   \n",
       "\n",
       "   station_elevation_m           trace_name  trace_sampling_rate_hz  \\\n",
       "0                542.0  bucket1$0,:3,:15001                     100   \n",
       "1                387.0  bucket2$0,:3,:15001                     100   \n",
       "2                220.0  bucket3$0,:3,:15001                     100   \n",
       "3                 90.0  bucket4$0,:3,:15001                     100   \n",
       "4                220.0  bucket5$0,:3,:15001                     100   \n",
       "\n",
       "              trace_start_time                           event_id  \n",
       "0  2002-09-21T00:50:20.960000Z  2002-09-21T00:50:20.960000Z_noise  \n",
       "1  2002-09-21T00:50:20.960000Z  2002-09-21T00:50:20.960000Z_noise  \n",
       "2  2002-09-21T00:50:20.960000Z  2002-09-21T00:50:20.960000Z_noise  \n",
       "3  2002-09-21T00:50:20.960000Z  2002-09-21T00:50:20.960000Z_noise  \n",
       "4  2002-09-13T14:54:54.050000Z  2002-09-13T14:54:54.050000Z_noise  "
      ]
     },
     "execution_count": 15,
     "metadata": {},
     "output_type": "execute_result"
    }
   ],
   "source": [
    "df_noise.head()"
   ]
  },
  {
   "cell_type": "code",
   "execution_count": 16,
   "id": "9e5599a6",
   "metadata": {},
   "outputs": [
    {
     "name": "stdout",
     "output_type": "stream",
     "text": [
      "(1978, 3, 5000)\n"
     ]
    }
   ],
   "source": [
    "# surface events\n",
    "d_su, id_su = extract_waveforms(df_su, file_exotic, input_window_length = input_window_length, fs=fs,\n",
    "                                start =start, number_data = number_data_per_class, num_channels = num_channels,\n",
    "                                shifting = shifting, all_data = all_data)\n",
    "print(d_su.shape)"
   ]
  },
  {
   "cell_type": "code",
   "execution_count": 17,
   "id": "83b102a9",
   "metadata": {},
   "outputs": [
    {
     "name": "stdout",
     "output_type": "stream",
     "text": [
      "(2000, 3, 5000)\n"
     ]
    }
   ],
   "source": [
    "# noise\n",
    "d_noise, id_noise = extract_waveforms(df_noise, file_noise, input_window_length = input_window_length, fs=fs,\n",
    "                                      start = start, number_data = number_data_per_class,\n",
    "                                      num_channels = num_channels, shifting = shifting, all_data = all_data)\n",
    "print(d_noise.shape)"
   ]
  },
  {
   "cell_type": "code",
   "execution_count": 18,
   "id": "46ee633d",
   "metadata": {},
   "outputs": [
    {
     "name": "stdout",
     "output_type": "stream",
     "text": [
      "(2000, 3, 5000)\n"
     ]
    }
   ],
   "source": [
    "# explosions\n",
    "d_exp, id_exp = extract_waveforms(df_exp, file_comcat, input_window_length = input_window_length, fs=fs,\n",
    "                                  start = start,  number_data = number_data_per_class, num_channels = num_channels,\n",
    "                                  shifting = shifting, all_data = all_data)\n",
    "\n",
    "print(d_exp.shape)"
   ]
  },
  {
   "cell_type": "code",
   "execution_count": 19,
   "id": "d5e4c4ce",
   "metadata": {},
   "outputs": [
    {
     "name": "stdout",
     "output_type": "stream",
     "text": [
      "(2000, 3, 5000)\n"
     ]
    }
   ],
   "source": [
    "# earthquakes\n",
    "d_eq, id_eq = extract_waveforms(df_eq, file_comcat, input_window_length = input_window_length,  fs=fs,\n",
    "                                start =start,  number_data = number_data_per_class, num_channels = num_channels,\n",
    "                                shifting = shifting, all_data = all_data)\n",
    "print(d_eq.shape)"
   ]
  },
  {
   "cell_type": "code",
   "execution_count": 20,
   "id": "e2444e2e",
   "metadata": {},
   "outputs": [],
   "source": [
    "# concatenate all data into one input\n",
    "X = np.vstack([d_noise, d_exp, d_eq, d_su])\n",
    "# print(X.shape)\n",
    "# for i in range(0,1900,50):\n",
    "#     plt.figure()\n",
    "#     plt.plot(X[i,:,:].T);plt.title(i)\n",
    "#     plt.show()\n"
   ]
  },
  {
   "cell_type": "markdown",
   "id": "f20ef07b",
   "metadata": {},
   "source": [
    "## Prepare labels\n",
    "labels to encode: here we understand that the classes are labeled as integers \n",
    "\n",
    "* 0: noise\n",
    "* 1: explosion\n",
    "* 2: earthquake\n",
    "* 3: surface event"
   ]
  },
  {
   "cell_type": "code",
   "execution_count": 21,
   "id": "9a8c1bcd",
   "metadata": {},
   "outputs": [],
   "source": [
    "y = [0]*len(d_noise)+[1]*len(d_exp)+[2]*len(d_eq)+[3]*len(d_su)"
   ]
  },
  {
   "cell_type": "markdown",
   "id": "afc78577",
   "metadata": {},
   "source": [
    "## Shuffle and split data"
   ]
  },
  {
   "cell_type": "code",
   "execution_count": 23,
   "id": "b0ef0427",
   "metadata": {},
   "outputs": [
    {
     "name": "stdout",
     "output_type": "stream",
     "text": [
      "43 12 6\n"
     ]
    }
   ],
   "source": [
    "# Make the data a PNWDataSet\n",
    "custom_dataset = PNWDataSet(X,y,4)\n",
    "# first split train+val\n",
    "# Determine the size of the training set\n",
    "train_size = int(train_split/100 * len(custom_dataset)) # 80% of the data set\n",
    "val_size = int(val_split/100 * len(custom_dataset)) # 10% of the data set\n",
    "test_size = len(custom_dataset) - train_size - val_size # the rest is test\n",
    "train_dataset, val_dataset = random_split(custom_dataset, [train_size, test_size+val_size])\n",
    "# then split val into val+test\n",
    "test_dataset, val_dataset = random_split(val_dataset, [test_size,val_size])\n",
    "\n",
    "train_loader = DataLoader(train_dataset, batch_size=batch_size, shuffle=True,drop_last=True)\n",
    "val_loader = DataLoader(val_dataset, batch_size=batch_size, shuffle=True,drop_last=True)\n",
    "test_loader = DataLoader(test_dataset, batch_size=batch_size, shuffle=True,drop_last=True)\n",
    "print(len(train_loader),len(val_loader),len(test_loader))"
   ]
  },
  {
   "cell_type": "markdown",
   "id": "8f460ef4",
   "metadata": {},
   "source": [
    "## Training and Testing all the models"
   ]
  },
  {
   "cell_type": "markdown",
   "id": "acfb24ba",
   "metadata": {},
   "source": [
    "#### My CNN no augmentation"
   ]
  },
  {
   "cell_type": "code",
   "execution_count": 28,
   "id": "17160001",
   "metadata": {},
   "outputs": [
    {
     "name": "stdout",
     "output_type": "stream",
     "text": [
      "No improvement in validation loss for 1 epochs.\n",
      "[Epoch 10] loss: 0.523 - accuracy: 77.604\n",
      "No improvement in validation loss for 1 epochs.\n",
      "No improvement in validation loss for 2 epochs.\n",
      "No improvement in validation loss for 3 epochs.\n",
      "No improvement in validation loss for 4 epochs.\n",
      "No improvement in validation loss for 5 epochs.\n",
      "No improvement in validation loss for 1 epochs.\n",
      "No improvement in validation loss for 2 epochs.\n",
      "[Epoch 20] loss: 0.393 - accuracy: 77.734\n",
      "No improvement in validation loss for 3 epochs.\n",
      "No improvement in validation loss for 4 epochs.\n",
      "No improvement in validation loss for 1 epochs.\n",
      "No improvement in validation loss for 2 epochs.\n",
      "No improvement in validation loss for 3 epochs.\n",
      "No improvement in validation loss for 4 epochs.\n",
      "No improvement in validation loss for 5 epochs.\n",
      "[Epoch 30] loss: 0.308 - accuracy: 81.510\n",
      "No improvement in validation loss for 1 epochs.\n",
      "No improvement in validation loss for 2 epochs.\n",
      "No improvement in validation loss for 3 epochs.\n",
      "No improvement in validation loss for 4 epochs.\n",
      "No improvement in validation loss for 5 epochs.\n",
      "No improvement in validation loss for 1 epochs.\n",
      "No improvement in validation loss for 2 epochs.\n",
      "No improvement in validation loss for 3 epochs.\n",
      "No improvement in validation loss for 4 epochs.\n",
      "[Epoch 40] loss: 0.237 - accuracy: 79.622\n",
      "No improvement in validation loss for 5 epochs.\n",
      "No improvement in validation loss for 6 epochs.\n",
      "No improvement in validation loss for 7 epochs.\n",
      "No improvement in validation loss for 8 epochs.\n",
      "No improvement in validation loss for 9 epochs.\n",
      "No improvement in validation loss for 10 epochs.\n",
      "Early stopping triggered.\n",
      "test loss: 0.490 and accuracy: 82.422\n"
     ]
    }
   ],
   "source": [
    "model2 = MyCNN(num_classes=4, num_channels=num_channels,dropout_rate=dropout).to(device)  # Use 'cuda' if you have a GPU available\n",
    "(loss_time, val_loss_time, val_accuracy_time,test_loss,test_accuracy) = train_model(\n",
    "        model2,train_loader,val_loader,test_loader,\n",
    "        n_epochs=n_epochs,learning_rate=learning_rate,criterion=criterion,\n",
    "        augmentation=True)"
   ]
  },
  {
   "cell_type": "code",
   "execution_count": 29,
   "id": "36778f43",
   "metadata": {},
   "outputs": [
    {
     "data": {
      "image/png": "[encoded data removed]",
      "text/plain": [
       "<Figure size 640x480 with 2 Axes>"
      ]
     },
     "metadata": {},
     "output_type": "display_data"
    },
    {
     "data": {
      "text/plain": [
       "<Figure size 640x480 with 0 Axes>"
      ]
     },
     "metadata": {},
     "output_type": "display_data"
    }
   ],
   "source": [
    "NN = np.count_nonzero(loss_time)\n",
    "fig, ax1 = plt.subplots()\n",
    "ax1.set_xlabel('Epoch')\n",
    "ax1.set_ylabel('Training Loss')\n",
    "ax1.plot(np.arange(1, NN+1), loss_time[:NN], color='tab:red')\n",
    "ax1.plot(np.arange(1, NN+1), val_loss_time[:NN], color='tab:blue')\n",
    "ax1.plot(NN+1, test_loss, 'p', color='tab:blue')\n",
    "# ax1.tick_params(axis='y', labelcolor='tab:blue')\n",
    "ax2 = ax1.twinx()\n",
    "ax2.set_ylabel('Accuracy', color='tab:green')\n",
    "ax2.plot(np.arange(1, NN+1), val_accuracy_time[:NN], color='tab:green')\n",
    "ax2.plot(NN+1, test_accuracy, 's', color='tab:green')\n",
    "ax2.tick_params(axis='y', labelcolor='tab:green')\n",
    "plt.title(\"Training and Validation Loss and Accuracy on MyCNN augmentation\")\n",
    "fig.tight_layout()\n",
    "plt.show()\n",
    "plt.savefig(\"mycnn_augmentation.png\")"
   ]
  },
  {
   "cell_type": "markdown",
   "id": "5ef75206",
   "metadata": {},
   "source": [
    "## Emsemble deep learning"
   ]
  },
  {
   "cell_type": "code",
   "execution_count": 36,
   "id": "e11efa83",
   "metadata": {},
   "outputs": [
    {
     "name": "stdout",
     "output_type": "stream",
     "text": [
      "No improvement in validation loss for 1 epochs.\n",
      "No improvement in validation loss for 2 epochs.\n",
      "No improvement in validation loss for 1 epochs.\n",
      "[Epoch 10] loss: 0.522 - accuracy: 76.302\n",
      "No improvement in validation loss for 2 epochs.\n",
      "No improvement in validation loss for 1 epochs.\n",
      "No improvement in validation loss for 1 epochs.\n",
      "No improvement in validation loss for 2 epochs.\n",
      "No improvement in validation loss for 1 epochs.\n",
      "No improvement in validation loss for 2 epochs.\n",
      "[Epoch 20] loss: 0.385 - accuracy: 80.208\n",
      "No improvement in validation loss for 1 epochs.\n",
      "No improvement in validation loss for 1 epochs.\n",
      "No improvement in validation loss for 2 epochs.\n",
      "No improvement in validation loss for 3 epochs.\n",
      "No improvement in validation loss for 1 epochs.\n",
      "No improvement in validation loss for 2 epochs.\n",
      "[Epoch 30] loss: 0.304 - accuracy: 81.445\n",
      "No improvement in validation loss for 3 epochs.\n",
      "No improvement in validation loss for 4 epochs.\n",
      "No improvement in validation loss for 5 epochs.\n",
      "No improvement in validation loss for 1 epochs.\n",
      "No improvement in validation loss for 2 epochs.\n",
      "No improvement in validation loss for 3 epochs.\n",
      "No improvement in validation loss for 1 epochs.\n",
      "No improvement in validation loss for 2 epochs.\n",
      "[Epoch 40] loss: 0.238 - accuracy: 83.203\n",
      "No improvement in validation loss for 3 epochs.\n",
      "No improvement in validation loss for 4 epochs.\n",
      "No improvement in validation loss for 5 epochs.\n",
      "No improvement in validation loss for 6 epochs.\n",
      "No improvement in validation loss for 7 epochs.\n",
      "No improvement in validation loss for 8 epochs.\n",
      "No improvement in validation loss for 9 epochs.\n",
      "No improvement in validation loss for 10 epochs.\n",
      "Early stopping triggered.\n",
      "test loss: 0.422 and accuracy: 84.635\n"
     ]
    },
    {
     "data": {
      "text/plain": [
       "MyCNN(\n",
       "  (conv1): Conv1d(3, 8, kernel_size=(9,), stride=(1,), padding=same)\n",
       "  (conv2): Conv1d(8, 8, kernel_size=(9,), stride=(2,), padding=(4,))\n",
       "  (conv3): Conv1d(8, 16, kernel_size=(7,), stride=(1,), padding=same)\n",
       "  (conv4): Conv1d(16, 16, kernel_size=(7,), stride=(2,), padding=(3,))\n",
       "  (conv5): Conv1d(16, 32, kernel_size=(5,), stride=(1,), padding=same)\n",
       "  (conv6): Conv1d(32, 32, kernel_size=(5,), stride=(2,), padding=(2,))\n",
       "  (conv7): Conv1d(32, 64, kernel_size=(3,), stride=(1,), padding=same)\n",
       "  (pool1): MaxPool1d(kernel_size=2, stride=2, padding=0, dilation=1, ceil_mode=False)\n",
       "  (bn1): BatchNorm1d(8, eps=1e-05, momentum=0.1, affine=True, track_running_stats=True)\n",
       "  (bn2): BatchNorm1d(8, eps=1e-05, momentum=0.1, affine=True, track_running_stats=True)\n",
       "  (bn3): BatchNorm1d(16, eps=1e-05, momentum=0.1, affine=True, track_running_stats=True)\n",
       "  (bn4): BatchNorm1d(16, eps=1e-05, momentum=0.1, affine=True, track_running_stats=True)\n",
       "  (bn5): BatchNorm1d(32, eps=1e-05, momentum=0.1, affine=True, track_running_stats=True)\n",
       "  (bn6): BatchNorm1d(32, eps=1e-05, momentum=0.1, affine=True, track_running_stats=True)\n",
       "  (bn7): BatchNorm1d(64, eps=1e-05, momentum=0.1, affine=True, track_running_stats=True)\n",
       "  (fc1): Linear(in_features=4992, out_features=128, bias=True)\n",
       "  (fc2): Linear(in_features=128, out_features=4, bias=True)\n",
       "  (fc1_bn): BatchNorm1d(128, eps=1e-05, momentum=0.1, affine=True, track_running_stats=True)\n",
       "  (fc2_bn): BatchNorm1d(4, eps=1e-05, momentum=0.1, affine=True, track_running_stats=True)\n",
       "  (dropout): Dropout(p=0.4, inplace=False)\n",
       ")"
      ]
     },
     "execution_count": 36,
     "metadata": {},
     "output_type": "execute_result"
    }
   ],
   "source": [
    "model_1 = MyCNN(num_classes=4, num_channels=num_channels,dropout_rate=dropout).to(device)  # Use 'cuda' if you have a GPU available\n",
    "(loss_time, val_loss_time, val_accuracy_time,test_loss,test_accuracy) = train_model(\n",
    "        model_1,train_loader,val_loader,test_loader,\n",
    "        n_epochs=n_epochs,learning_rate=learning_rate,criterion=criterion,\n",
    "        augmentation=True)\n",
    "torch.save(model_1,'model_instance_1.pth')\n",
    "model_1.eval()"
   ]
  },
  {
   "cell_type": "code",
   "execution_count": 37,
   "id": "b79fd8b6",
   "metadata": {},
   "outputs": [
    {
     "name": "stdout",
     "output_type": "stream",
     "text": [
      "No improvement in validation loss for 1 epochs.\n",
      "No improvement in validation loss for 1 epochs.\n",
      "No improvement in validation loss for 2 epochs.\n",
      "No improvement in validation loss for 3 epochs.\n",
      "[Epoch 10] loss: 0.539 - accuracy: 71.224\n",
      "No improvement in validation loss for 1 epochs.\n",
      "No improvement in validation loss for 1 epochs.\n",
      "No improvement in validation loss for 2 epochs.\n",
      "No improvement in validation loss for 1 epochs.\n",
      "[Epoch 20] loss: 0.389 - accuracy: 79.297\n",
      "No improvement in validation loss for 1 epochs.\n",
      "No improvement in validation loss for 2 epochs.\n",
      "No improvement in validation loss for 3 epochs.\n",
      "No improvement in validation loss for 4 epochs.\n",
      "No improvement in validation loss for 1 epochs.\n",
      "No improvement in validation loss for 2 epochs.\n",
      "No improvement in validation loss for 1 epochs.\n",
      "[Epoch 30] loss: 0.300 - accuracy: 82.227\n",
      "No improvement in validation loss for 2 epochs.\n",
      "No improvement in validation loss for 3 epochs.\n",
      "No improvement in validation loss for 4 epochs.\n",
      "No improvement in validation loss for 5 epochs.\n",
      "No improvement in validation loss for 6 epochs.\n",
      "No improvement in validation loss for 7 epochs.\n",
      "No improvement in validation loss for 8 epochs.\n",
      "No improvement in validation loss for 9 epochs.\n",
      "No improvement in validation loss for 10 epochs.\n",
      "Early stopping triggered.\n",
      "test loss: 0.434 and accuracy: 83.464\n"
     ]
    },
    {
     "data": {
      "text/plain": [
       "MyCNN(\n",
       "  (conv1): Conv1d(3, 8, kernel_size=(9,), stride=(1,), padding=same)\n",
       "  (conv2): Conv1d(8, 8, kernel_size=(9,), stride=(2,), padding=(4,))\n",
       "  (conv3): Conv1d(8, 16, kernel_size=(7,), stride=(1,), padding=same)\n",
       "  (conv4): Conv1d(16, 16, kernel_size=(7,), stride=(2,), padding=(3,))\n",
       "  (conv5): Conv1d(16, 32, kernel_size=(5,), stride=(1,), padding=same)\n",
       "  (conv6): Conv1d(32, 32, kernel_size=(5,), stride=(2,), padding=(2,))\n",
       "  (conv7): Conv1d(32, 64, kernel_size=(3,), stride=(1,), padding=same)\n",
       "  (pool1): MaxPool1d(kernel_size=2, stride=2, padding=0, dilation=1, ceil_mode=False)\n",
       "  (bn1): BatchNorm1d(8, eps=1e-05, momentum=0.1, affine=True, track_running_stats=True)\n",
       "  (bn2): BatchNorm1d(8, eps=1e-05, momentum=0.1, affine=True, track_running_stats=True)\n",
       "  (bn3): BatchNorm1d(16, eps=1e-05, momentum=0.1, affine=True, track_running_stats=True)\n",
       "  (bn4): BatchNorm1d(16, eps=1e-05, momentum=0.1, affine=True, track_running_stats=True)\n",
       "  (bn5): BatchNorm1d(32, eps=1e-05, momentum=0.1, affine=True, track_running_stats=True)\n",
       "  (bn6): BatchNorm1d(32, eps=1e-05, momentum=0.1, affine=True, track_running_stats=True)\n",
       "  (bn7): BatchNorm1d(64, eps=1e-05, momentum=0.1, affine=True, track_running_stats=True)\n",
       "  (fc1): Linear(in_features=4992, out_features=128, bias=True)\n",
       "  (fc2): Linear(in_features=128, out_features=4, bias=True)\n",
       "  (fc1_bn): BatchNorm1d(128, eps=1e-05, momentum=0.1, affine=True, track_running_stats=True)\n",
       "  (fc2_bn): BatchNorm1d(4, eps=1e-05, momentum=0.1, affine=True, track_running_stats=True)\n",
       "  (dropout): Dropout(p=0.4, inplace=False)\n",
       ")"
      ]
     },
     "execution_count": 37,
     "metadata": {},
     "output_type": "execute_result"
    }
   ],
   "source": [
    "model_2 = MyCNN(num_classes=4, num_channels=num_channels,dropout_rate=dropout).to(device)  # Use 'cuda' if you have a GPU available\n",
    "(loss_time, val_loss_time, val_accuracy_time,test_loss,test_accuracy) = train_model(\n",
    "        model_2,train_loader,val_loader,test_loader,\n",
    "        n_epochs=n_epochs,learning_rate=learning_rate,criterion=criterion,\n",
    "        augmentation=True)\n",
    "torch.save(model_2,'model_instance_1.pth')\n",
    "model_2.eval()"
   ]
  },
  {
   "cell_type": "code",
   "execution_count": 38,
   "id": "fbecf13f",
   "metadata": {},
   "outputs": [
    {
     "name": "stdout",
     "output_type": "stream",
     "text": [
      "No improvement in validation loss for 1 epochs.\n",
      "No improvement in validation loss for 1 epochs.\n",
      "[Epoch 10] loss: 0.565 - accuracy: 69.727\n",
      "No improvement in validation loss for 2 epochs.\n",
      "No improvement in validation loss for 1 epochs.\n",
      "[Epoch 20] loss: 0.418 - accuracy: 78.711\n",
      "No improvement in validation loss for 1 epochs.\n",
      "No improvement in validation loss for 2 epochs.\n",
      "No improvement in validation loss for 1 epochs.\n",
      "No improvement in validation loss for 1 epochs.\n",
      "No improvement in validation loss for 2 epochs.\n",
      "No improvement in validation loss for 3 epochs.\n",
      "[Epoch 30] loss: 0.318 - accuracy: 81.576\n",
      "No improvement in validation loss for 1 epochs.\n",
      "No improvement in validation loss for 2 epochs.\n",
      "No improvement in validation loss for 3 epochs.\n",
      "No improvement in validation loss for 4 epochs.\n",
      "No improvement in validation loss for 1 epochs.\n",
      "No improvement in validation loss for 2 epochs.\n",
      "No improvement in validation loss for 3 epochs.\n",
      "[Epoch 40] loss: 0.249 - accuracy: 79.883\n",
      "No improvement in validation loss for 4 epochs.\n",
      "No improvement in validation loss for 5 epochs.\n",
      "No improvement in validation loss for 6 epochs.\n",
      "No improvement in validation loss for 7 epochs.\n",
      "No improvement in validation loss for 8 epochs.\n",
      "No improvement in validation loss for 9 epochs.\n",
      "No improvement in validation loss for 10 epochs.\n",
      "Early stopping triggered.\n",
      "test loss: 0.481 and accuracy: 81.510\n"
     ]
    },
    {
     "data": {
      "text/plain": [
       "MyCNN(\n",
       "  (conv1): Conv1d(3, 8, kernel_size=(9,), stride=(1,), padding=same)\n",
       "  (conv2): Conv1d(8, 8, kernel_size=(9,), stride=(2,), padding=(4,))\n",
       "  (conv3): Conv1d(8, 16, kernel_size=(7,), stride=(1,), padding=same)\n",
       "  (conv4): Conv1d(16, 16, kernel_size=(7,), stride=(2,), padding=(3,))\n",
       "  (conv5): Conv1d(16, 32, kernel_size=(5,), stride=(1,), padding=same)\n",
       "  (conv6): Conv1d(32, 32, kernel_size=(5,), stride=(2,), padding=(2,))\n",
       "  (conv7): Conv1d(32, 64, kernel_size=(3,), stride=(1,), padding=same)\n",
       "  (pool1): MaxPool1d(kernel_size=2, stride=2, padding=0, dilation=1, ceil_mode=False)\n",
       "  (bn1): BatchNorm1d(8, eps=1e-05, momentum=0.1, affine=True, track_running_stats=True)\n",
       "  (bn2): BatchNorm1d(8, eps=1e-05, momentum=0.1, affine=True, track_running_stats=True)\n",
       "  (bn3): BatchNorm1d(16, eps=1e-05, momentum=0.1, affine=True, track_running_stats=True)\n",
       "  (bn4): BatchNorm1d(16, eps=1e-05, momentum=0.1, affine=True, track_running_stats=True)\n",
       "  (bn5): BatchNorm1d(32, eps=1e-05, momentum=0.1, affine=True, track_running_stats=True)\n",
       "  (bn6): BatchNorm1d(32, eps=1e-05, momentum=0.1, affine=True, track_running_stats=True)\n",
       "  (bn7): BatchNorm1d(64, eps=1e-05, momentum=0.1, affine=True, track_running_stats=True)\n",
       "  (fc1): Linear(in_features=4992, out_features=128, bias=True)\n",
       "  (fc2): Linear(in_features=128, out_features=4, bias=True)\n",
       "  (fc1_bn): BatchNorm1d(128, eps=1e-05, momentum=0.1, affine=True, track_running_stats=True)\n",
       "  (fc2_bn): BatchNorm1d(4, eps=1e-05, momentum=0.1, affine=True, track_running_stats=True)\n",
       "  (dropout): Dropout(p=0.4, inplace=False)\n",
       ")"
      ]
     },
     "execution_count": 38,
     "metadata": {},
     "output_type": "execute_result"
    }
   ],
   "source": [
    "model_3 = MyCNN(num_classes=4, num_channels=num_channels,dropout_rate=dropout).to(device)  # Use 'cuda' if you have a GPU available\n",
    "(loss_time, val_loss_time, val_accuracy_time,test_loss,test_accuracy) = train_model(\n",
    "        model_3,train_loader,val_loader,test_loader,\n",
    "        n_epochs=n_epochs,learning_rate=learning_rate,criterion=criterion,\n",
    "        augmentation=True)\n",
    "torch.save(model_3,'model_instance_3.pth')\n",
    "model_3.eval()"
   ]
  },
  {
   "cell_type": "code",
   "execution_count": 39,
   "id": "eaec6523",
   "metadata": {},
   "outputs": [
    {
     "name": "stdout",
     "output_type": "stream",
     "text": [
      "No improvement in validation loss for 1 epochs.\n",
      "No improvement in validation loss for 1 epochs.\n",
      "[Epoch 10] loss: 0.552 - accuracy: 69.727\n",
      "No improvement in validation loss for 2 epochs.\n",
      "No improvement in validation loss for 3 epochs.\n",
      "No improvement in validation loss for 4 epochs.\n",
      "No improvement in validation loss for 5 epochs.\n",
      "No improvement in validation loss for 1 epochs.\n",
      "No improvement in validation loss for 2 epochs.\n",
      "No improvement in validation loss for 1 epochs.\n",
      "[Epoch 20] loss: 0.402 - accuracy: 76.497\n",
      "No improvement in validation loss for 2 epochs.\n",
      "No improvement in validation loss for 3 epochs.\n",
      "No improvement in validation loss for 4 epochs.\n",
      "No improvement in validation loss for 5 epochs.\n",
      "No improvement in validation loss for 6 epochs.\n",
      "No improvement in validation loss for 7 epochs.\n",
      "No improvement in validation loss for 1 epochs.\n",
      "[Epoch 30] loss: 0.313 - accuracy: 81.445\n",
      "No improvement in validation loss for 1 epochs.\n",
      "No improvement in validation loss for 2 epochs.\n",
      "No improvement in validation loss for 3 epochs.\n",
      "No improvement in validation loss for 4 epochs.\n",
      "No improvement in validation loss for 5 epochs.\n",
      "No improvement in validation loss for 6 epochs.\n",
      "No improvement in validation loss for 7 epochs.\n",
      "No improvement in validation loss for 8 epochs.\n",
      "No improvement in validation loss for 9 epochs.\n",
      "No improvement in validation loss for 10 epochs.\n",
      "Early stopping triggered.\n",
      "test loss: 0.493 and accuracy: 81.250\n"
     ]
    },
    {
     "data": {
      "text/plain": [
       "MyCNN(\n",
       "  (conv1): Conv1d(3, 8, kernel_size=(9,), stride=(1,), padding=same)\n",
       "  (conv2): Conv1d(8, 8, kernel_size=(9,), stride=(2,), padding=(4,))\n",
       "  (conv3): Conv1d(8, 16, kernel_size=(7,), stride=(1,), padding=same)\n",
       "  (conv4): Conv1d(16, 16, kernel_size=(7,), stride=(2,), padding=(3,))\n",
       "  (conv5): Conv1d(16, 32, kernel_size=(5,), stride=(1,), padding=same)\n",
       "  (conv6): Conv1d(32, 32, kernel_size=(5,), stride=(2,), padding=(2,))\n",
       "  (conv7): Conv1d(32, 64, kernel_size=(3,), stride=(1,), padding=same)\n",
       "  (pool1): MaxPool1d(kernel_size=2, stride=2, padding=0, dilation=1, ceil_mode=False)\n",
       "  (bn1): BatchNorm1d(8, eps=1e-05, momentum=0.1, affine=True, track_running_stats=True)\n",
       "  (bn2): BatchNorm1d(8, eps=1e-05, momentum=0.1, affine=True, track_running_stats=True)\n",
       "  (bn3): BatchNorm1d(16, eps=1e-05, momentum=0.1, affine=True, track_running_stats=True)\n",
       "  (bn4): BatchNorm1d(16, eps=1e-05, momentum=0.1, affine=True, track_running_stats=True)\n",
       "  (bn5): BatchNorm1d(32, eps=1e-05, momentum=0.1, affine=True, track_running_stats=True)\n",
       "  (bn6): BatchNorm1d(32, eps=1e-05, momentum=0.1, affine=True, track_running_stats=True)\n",
       "  (bn7): BatchNorm1d(64, eps=1e-05, momentum=0.1, affine=True, track_running_stats=True)\n",
       "  (fc1): Linear(in_features=4992, out_features=128, bias=True)\n",
       "  (fc2): Linear(in_features=128, out_features=4, bias=True)\n",
       "  (fc1_bn): BatchNorm1d(128, eps=1e-05, momentum=0.1, affine=True, track_running_stats=True)\n",
       "  (fc2_bn): BatchNorm1d(4, eps=1e-05, momentum=0.1, affine=True, track_running_stats=True)\n",
       "  (dropout): Dropout(p=0.4, inplace=False)\n",
       ")"
      ]
     },
     "execution_count": 39,
     "metadata": {},
     "output_type": "execute_result"
    }
   ],
   "source": [
    "model_4 = MyCNN(num_classes=4, num_channels=num_channels,dropout_rate=dropout).to(device)  # Use 'cuda' if you have a GPU available\n",
    "(loss_time, val_loss_time, val_accuracy_time,test_loss,test_accuracy) = train_model(\n",
    "        model_4,train_loader,val_loader,test_loader,\n",
    "        n_epochs=n_epochs,learning_rate=learning_rate,criterion=criterion,\n",
    "        augmentation=True)\n",
    "\n",
    "torch.save(model_4,'model_instance_4.pth')\n",
    "model_4.eval()"
   ]
  },
  {
   "cell_type": "code",
   "execution_count": 40,
   "id": "214e207f",
   "metadata": {},
   "outputs": [
    {
     "name": "stdout",
     "output_type": "stream",
     "text": [
      "[Epoch 10] loss: 0.524 - accuracy: 79.948\n",
      "No improvement in validation loss for 1 epochs.\n",
      "No improvement in validation loss for 1 epochs.\n",
      "No improvement in validation loss for 2 epochs.\n",
      "[Epoch 20] loss: 0.394 - accuracy: 81.901\n",
      "No improvement in validation loss for 1 epochs.\n",
      "No improvement in validation loss for 2 epochs.\n",
      "No improvement in validation loss for 3 epochs.\n",
      "No improvement in validation loss for 1 epochs.\n",
      "No improvement in validation loss for 2 epochs.\n",
      "[Epoch 30] loss: 0.312 - accuracy: 81.380\n",
      "No improvement in validation loss for 3 epochs.\n",
      "No improvement in validation loss for 4 epochs.\n",
      "No improvement in validation loss for 5 epochs.\n",
      "No improvement in validation loss for 6 epochs.\n",
      "No improvement in validation loss for 7 epochs.\n",
      "No improvement in validation loss for 8 epochs.\n",
      "No improvement in validation loss for 9 epochs.\n",
      "No improvement in validation loss for 10 epochs.\n",
      "Early stopping triggered.\n",
      "test loss: 0.429 and accuracy: 83.854\n"
     ]
    },
    {
     "data": {
      "text/plain": [
       "MyCNN(\n",
       "  (conv1): Conv1d(3, 8, kernel_size=(9,), stride=(1,), padding=same)\n",
       "  (conv2): Conv1d(8, 8, kernel_size=(9,), stride=(2,), padding=(4,))\n",
       "  (conv3): Conv1d(8, 16, kernel_size=(7,), stride=(1,), padding=same)\n",
       "  (conv4): Conv1d(16, 16, kernel_size=(7,), stride=(2,), padding=(3,))\n",
       "  (conv5): Conv1d(16, 32, kernel_size=(5,), stride=(1,), padding=same)\n",
       "  (conv6): Conv1d(32, 32, kernel_size=(5,), stride=(2,), padding=(2,))\n",
       "  (conv7): Conv1d(32, 64, kernel_size=(3,), stride=(1,), padding=same)\n",
       "  (pool1): MaxPool1d(kernel_size=2, stride=2, padding=0, dilation=1, ceil_mode=False)\n",
       "  (bn1): BatchNorm1d(8, eps=1e-05, momentum=0.1, affine=True, track_running_stats=True)\n",
       "  (bn2): BatchNorm1d(8, eps=1e-05, momentum=0.1, affine=True, track_running_stats=True)\n",
       "  (bn3): BatchNorm1d(16, eps=1e-05, momentum=0.1, affine=True, track_running_stats=True)\n",
       "  (bn4): BatchNorm1d(16, eps=1e-05, momentum=0.1, affine=True, track_running_stats=True)\n",
       "  (bn5): BatchNorm1d(32, eps=1e-05, momentum=0.1, affine=True, track_running_stats=True)\n",
       "  (bn6): BatchNorm1d(32, eps=1e-05, momentum=0.1, affine=True, track_running_stats=True)\n",
       "  (bn7): BatchNorm1d(64, eps=1e-05, momentum=0.1, affine=True, track_running_stats=True)\n",
       "  (fc1): Linear(in_features=4992, out_features=128, bias=True)\n",
       "  (fc2): Linear(in_features=128, out_features=4, bias=True)\n",
       "  (fc1_bn): BatchNorm1d(128, eps=1e-05, momentum=0.1, affine=True, track_running_stats=True)\n",
       "  (fc2_bn): BatchNorm1d(4, eps=1e-05, momentum=0.1, affine=True, track_running_stats=True)\n",
       "  (dropout): Dropout(p=0.4, inplace=False)\n",
       ")"
      ]
     },
     "execution_count": 40,
     "metadata": {},
     "output_type": "execute_result"
    }
   ],
   "source": [
    "model_5 = MyCNN(num_classes=4, num_channels=num_channels,dropout_rate=dropout).to(device)  # Use 'cuda' if you have a GPU available\n",
    "(loss_time, val_loss_time, val_accuracy_time,test_loss,test_accuracy) = train_model(\n",
    "        model_5,train_loader,val_loader,test_loader,\n",
    "        n_epochs=n_epochs,learning_rate=learning_rate,criterion=criterion,\n",
    "        augmentation=True)\n",
    "torch.save(model_5,'model_instance_5.pth')\n",
    "model_5.eval()"
   ]
  },
  {
   "cell_type": "code",
   "execution_count": 41,
   "id": "6fc12f4b",
   "metadata": {},
   "outputs": [
    {
     "name": "stdout",
     "output_type": "stream",
     "text": [
      "No improvement in validation loss for 1 epochs.\n",
      "No improvement in validation loss for 2 epochs.\n",
      "No improvement in validation loss for 3 epochs.\n",
      "No improvement in validation loss for 4 epochs.\n",
      "No improvement in validation loss for 5 epochs.\n",
      "No improvement in validation loss for 6 epochs.\n",
      "No improvement in validation loss for 1 epochs.\n",
      "[Epoch 10] loss: 0.535 - accuracy: 57.943\n",
      "No improvement in validation loss for 2 epochs.\n",
      "No improvement in validation loss for 1 epochs.\n",
      "No improvement in validation loss for 2 epochs.\n",
      "No improvement in validation loss for 3 epochs.\n",
      "No improvement in validation loss for 1 epochs.\n",
      "No improvement in validation loss for 1 epochs.\n",
      "No improvement in validation loss for 2 epochs.\n",
      "[Epoch 20] loss: 0.401 - accuracy: 66.211\n",
      "No improvement in validation loss for 3 epochs.\n",
      "No improvement in validation loss for 1 epochs.\n",
      "No improvement in validation loss for 2 epochs.\n",
      "No improvement in validation loss for 3 epochs.\n",
      "No improvement in validation loss for 4 epochs.\n",
      "No improvement in validation loss for 5 epochs.\n",
      "No improvement in validation loss for 6 epochs.\n",
      "No improvement in validation loss for 1 epochs.\n",
      "[Epoch 30] loss: 0.306 - accuracy: 75.846\n",
      "No improvement in validation loss for 1 epochs.\n",
      "No improvement in validation loss for 2 epochs.\n",
      "No improvement in validation loss for 3 epochs.\n",
      "No improvement in validation loss for 4 epochs.\n",
      "No improvement in validation loss for 5 epochs.\n",
      "No improvement in validation loss for 6 epochs.\n",
      "No improvement in validation loss for 7 epochs.\n",
      "No improvement in validation loss for 8 epochs.\n",
      "No improvement in validation loss for 9 epochs.\n",
      "[Epoch 40] loss: 0.239 - accuracy: 78.451\n",
      "No improvement in validation loss for 10 epochs.\n",
      "Early stopping triggered.\n",
      "test loss: 0.559 and accuracy: 79.948\n"
     ]
    },
    {
     "data": {
      "text/plain": [
       "MyCNN(\n",
       "  (conv1): Conv1d(3, 8, kernel_size=(9,), stride=(1,), padding=same)\n",
       "  (conv2): Conv1d(8, 8, kernel_size=(9,), stride=(2,), padding=(4,))\n",
       "  (conv3): Conv1d(8, 16, kernel_size=(7,), stride=(1,), padding=same)\n",
       "  (conv4): Conv1d(16, 16, kernel_size=(7,), stride=(2,), padding=(3,))\n",
       "  (conv5): Conv1d(16, 32, kernel_size=(5,), stride=(1,), padding=same)\n",
       "  (conv6): Conv1d(32, 32, kernel_size=(5,), stride=(2,), padding=(2,))\n",
       "  (conv7): Conv1d(32, 64, kernel_size=(3,), stride=(1,), padding=same)\n",
       "  (pool1): MaxPool1d(kernel_size=2, stride=2, padding=0, dilation=1, ceil_mode=False)\n",
       "  (bn1): BatchNorm1d(8, eps=1e-05, momentum=0.1, affine=True, track_running_stats=True)\n",
       "  (bn2): BatchNorm1d(8, eps=1e-05, momentum=0.1, affine=True, track_running_stats=True)\n",
       "  (bn3): BatchNorm1d(16, eps=1e-05, momentum=0.1, affine=True, track_running_stats=True)\n",
       "  (bn4): BatchNorm1d(16, eps=1e-05, momentum=0.1, affine=True, track_running_stats=True)\n",
       "  (bn5): BatchNorm1d(32, eps=1e-05, momentum=0.1, affine=True, track_running_stats=True)\n",
       "  (bn6): BatchNorm1d(32, eps=1e-05, momentum=0.1, affine=True, track_running_stats=True)\n",
       "  (bn7): BatchNorm1d(64, eps=1e-05, momentum=0.1, affine=True, track_running_stats=True)\n",
       "  (fc1): Linear(in_features=4992, out_features=128, bias=True)\n",
       "  (fc2): Linear(in_features=128, out_features=4, bias=True)\n",
       "  (fc1_bn): BatchNorm1d(128, eps=1e-05, momentum=0.1, affine=True, track_running_stats=True)\n",
       "  (fc2_bn): BatchNorm1d(4, eps=1e-05, momentum=0.1, affine=True, track_running_stats=True)\n",
       "  (dropout): Dropout(p=0.4, inplace=False)\n",
       ")"
      ]
     },
     "execution_count": 41,
     "metadata": {},
     "output_type": "execute_result"
    }
   ],
   "source": [
    "model_6 = MyCNN(num_classes=4, num_channels=num_channels,dropout_rate=dropout).to(device)  # Use 'cuda' if you have a GPU available\n",
    "(loss_time, val_loss_time, val_accuracy_time,test_loss,test_accuracy) = train_model(\n",
    "        model_6,train_loader,val_loader,test_loader,\n",
    "        n_epochs=n_epochs,learning_rate=learning_rate,criterion=criterion,\n",
    "        augmentation=True)\n",
    "\n",
    "torch.save(model_6,'model_instance_6.pth')\n",
    "model_6.eval()"
   ]
  },
  {
   "cell_type": "code",
   "execution_count": 42,
   "id": "9bd30fde",
   "metadata": {},
   "outputs": [],
   "source": [
    "def ensemble_predict(models, input):\n",
    "    # Assuming input is a tensor that can be passed directly to the models\n",
    "    # And models is a list of model instances\n",
    "    with torch.no_grad():\n",
    "        predictions = [model(input) for model in models]\n",
    "        avg_predictions = torch.mean(torch.stack(predictions), dim=0)\n",
    "    return avg_predictions"
   ]
  },
  {
   "cell_type": "code",
   "execution_count": 43,
   "id": "31933008",
   "metadata": {},
   "outputs": [
    {
     "name": "stdout",
     "output_type": "stream",
     "text": [
      "test loss: 0.395 and accuracy: 86.198\n"
     ]
    }
   ],
   "source": [
    "models = [model_1, model_2,  model_3,  model_4,  model_5,  model_6]  # List of your loaded models\n",
    "\n",
    "with torch.no_grad(): # Context-manager that disabled gradient calculation.\n",
    "    # Loop on samples in test set\n",
    "    total = 0\n",
    "    correct = 0\n",
    "    running_test_loss = 0\n",
    "    for data in test_loader:\n",
    "        inputs, labels = data[0].to(device), data[1].to(device)\n",
    "        inputs = inputs.float()\n",
    "        labels = labels.float()\n",
    "\n",
    "        outputs = ensemble_predict(models,inputs)\n",
    "        running_test_loss += criterion(outputs, labels).item()\n",
    "\n",
    "        correct += (outputs.argmax(1) == labels.argmax(1)).sum().item()\n",
    "        total += labels.size(0)\n",
    "\n",
    "\n",
    "    test_loss = running_test_loss/len(test_loader)\n",
    "    test_accuracy = 100 * correct / total  \n",
    "    print('test loss: %.3f and accuracy: %.3f' % ( test_loss,test_accuracy))\n"
   ]
  },
  {
   "cell_type": "code",
   "execution_count": 53,
   "id": "eb8b8963",
   "metadata": {},
   "outputs": [
    {
     "data": {
      "image/png": "[encoded data removed]",
      "text/plain": [
       "<Figure size 800x550 with 2 Axes>"
      ]
     },
     "metadata": {},
     "output_type": "display_data"
    }
   ],
   "source": [
    "# performance evaluation\n",
    "\n",
    "classes = ['noise', 'explosion','earthquake','surface']\n",
    "\n",
    "from sklearn.metrics import confusion_matrix\n",
    "import seaborn as sns\n",
    "\n",
    "plt.style.use('seaborn')\n",
    "\n",
    "with torch.no_grad(): # Context-manager that disabled gradient calculation.\n",
    "    # Loop on samples in test set\n",
    "    total = 0\n",
    "    correct = 0\n",
    "    running_test_loss = 0\n",
    "    y_pred=np.zeros(len(test_loader)*batch_size)\n",
    "    y_test=np.zeros(len(test_loader)*batch_size)\n",
    "    for i,data in enumerate(test_loader):\n",
    "        inputs, labels = data[0].to(device), data[1].to(device)\n",
    "        inputs = inputs.float()\n",
    "        labels = labels.float()\n",
    "\n",
    "        outputs = ensemble_predict(models,inputs)\n",
    "        y_pred[i*batch_size:(i+1)*batch_size]=outputs.argmax(1).cpu().numpy()\n",
    "        y_test[i*batch_size:(i+1)*batch_size]=labels.argmax(1).cpu().numpy()\n",
    "    cm = confusion_matrix(y_test, y_pred)\n",
    "    sns.heatmap(cm, annot=True, cmap='Blues', fmt='d', xticklabels = classes, yticklabels = classes)\n",
    "    plt.xlabel('Predicted', fontsize = 15)\n",
    "    plt.ylabel('Actual', fontsize = 15)\n",
    "    plt.title('Total samples: '+str(len(y_pred)), fontsize = 20)\n",
    "    plt.show()\n",
    "\n",
    "\n"
   ]
  },
  {
   "cell_type": "code",
   "execution_count": 52,
   "id": "b8346bc4",
   "metadata": {},
   "outputs": [
    {
     "data": {
      "text/plain": [
       "768"
      ]
     },
     "execution_count": 52,
     "metadata": {},
     "output_type": "execute_result"
    }
   ],
   "source": [
    "len(test_loader)*batch_size"
   ]
  },
  {
   "cell_type": "markdown",
   "id": "2c253910",
   "metadata": {},
   "source": [
    "### Classification"
   ]
  },
  {
   "cell_type": "code",
   "execution_count": 55,
   "id": "170237e0",
   "metadata": {},
   "outputs": [
    {
     "data": {
      "image/png": "[encoded data removed]",
      "text/plain": [
       "<Figure size 800x550 with 2 Axes>"
      ]
     },
     "metadata": {},
     "output_type": "display_data"
    }
   ],
   "source": [
    "# Calculate the classification report\n",
    "from sklearn.metrics import classification_report\n",
    "report = classification_report(y_test, y_pred, output_dict=True)\n",
    "\n",
    "# Set a pleasing style\n",
    "sns.set_style(\"whitegrid\")\n",
    "\n",
    "# Create a figure and axes for the heatmap\n",
    "plt.figure()\n",
    "ax = sns.heatmap(pd.DataFrame(report).iloc[:3, :4], annot=True, cmap='Blues', xticklabels=classes, vmin=0.5, vmax=1)\n",
    "\n",
    "# Set labels and title\n",
    "ax.set_xlabel('Metrics', fontsize=15)\n",
    "ax.set_ylabel('Classes', fontsize=15)\n",
    "ax.set_title('Classification Report', fontsize=18)\n",
    "\n",
    "# Create a colorbar\n",
    "#cbar = ax.collections[0].colorbar\n",
    "#cbar.set_ticks([0.5, 1])  # Set custom tick locations\n",
    "#cbar.set_ticklabels(['0', '0.5', '1'])  # Set custom tick labels\n",
    "\n",
    "# Adjust layout\n",
    "plt.tight_layout()\n",
    "\n",
    "# Show the plot\n",
    "plt.show()\n"
   ]
  }
 ],
 "metadata": {
  "kernelspec": {
   "display_name": "pnw_class",
   "language": "python",
   "name": "python3"
  },
  "language_info": {
   "codemirror_mode": {
    "name": "ipython",
    "version": 3
   },
   "file_extension": ".py",
   "mimetype": "text/x-python",
   "name": "python",
   "nbconvert_exporter": "python",
   "pygments_lexer": "ipython3",
   "version": "3.9.19"
  }
 },
 "nbformat": 4,
 "nbformat_minor": 5
}
