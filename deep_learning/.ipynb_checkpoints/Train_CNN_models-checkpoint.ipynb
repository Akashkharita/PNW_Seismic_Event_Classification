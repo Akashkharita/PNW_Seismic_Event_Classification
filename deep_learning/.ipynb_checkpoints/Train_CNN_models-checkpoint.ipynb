{
 "cells": [
  {
   "cell_type": "markdown",
   "id": "b0547958",
   "metadata": {},
   "source": [
    "# Train and evaluate CNN models\n",
    "\n",
    "\n",
    "\n",
    "Author: Akash Kharita\n",
    "\n",
    "Date: 02/28/2024\n",
    "\n",
    "Modified by Marine Denolle on 06/20/24\n"
   ]
  },
  {
   "cell_type": "markdown",
   "id": "1e949bd1",
   "metadata": {},
   "source": [
    "### Import modules"
   ]
  },
  {
   "cell_type": "code",
   "execution_count": 1,
   "id": "0d066669",
   "metadata": {},
   "outputs": [],
   "source": [
    "import pandas as pd\n",
    "import numpy as np\n",
    "import matplotlib.pyplot as plt\n",
    "import h5py\n",
    "import obspy\n",
    "# from tqdm import tqdm\n",
    "from glob import glob\n",
    "# import time\n",
    "import random\n",
    "import sys\n",
    "from datetime import datetime\n",
    "\n",
    "from scipy import stats,signal\n",
    "\n",
    "\n",
    "import torch\n",
    "import torch.nn as nn\n",
    "import torch.optim as optim\n",
    "from torch.utils.data import random_split\n",
    "import torchvision.transforms as transforms\n",
    "import torch.nn.functional as F\n",
    "from torch.utils.data import DataLoader, TensorDataset\n",
    "# from sklearn.preprocessing import MinMaxScaler\n",
    "from torch.utils.data import Dataset\n",
    "\n",
    "\n",
    "\n",
    "# Check if a GPU is available\n",
    "device = torch.device(\"cuda\" if torch.cuda.is_available() else \"cpu\")"
   ]
  },
  {
   "cell_type": "markdown",
   "id": "50ed8eb1",
   "metadata": {},
   "source": [
    "## Importing all the models"
   ]
  },
  {
   "cell_type": "code",
   "execution_count": 2,
   "id": "d9f219ec",
   "metadata": {},
   "outputs": [],
   "source": [
    "\n",
    "# from design_CNN_models import Archtime\n",
    "# from design_CNN_models import Archtime_do\n",
    "# from design_CNN_models import WaveDecompNet\n",
    "# from design_CNN_models import WaveDecompNet_do\n",
    "# from design_CNN_models import SeismicCNN_batch\n",
    "# from design_CNN_models import SeismicCNN_batch_do\n",
    "# from design_CNN_models import SeismicNet\n",
    "# from design_CNN_models import SeismicNet_do\n",
    "\n",
    "\n",
    "# from neural_network_processing_functions import extract_datasets\n",
    "# from neural_network_processing_functions import train_model\n",
    "# from neural_network_processing_functions import plot_train_val_loss\n",
    "# from neural_network_processing_functions import plot_accuracy\n",
    "# from neural_network_processing_functions import extract_datasets_for_test\n",
    "# from neural_network_processing_functions import train_model_for_test\n",
    "# from neural_network_processing_functions import test_model"
   ]
  },
  {
   "cell_type": "markdown",
   "id": "fb79ff4f",
   "metadata": {},
   "source": [
    "## Parameters"
   ]
  },
  {
   "cell_type": "markdown",
   "id": "77d33682",
   "metadata": {},
   "source": [
    "### Waveform data"
   ]
  },
  {
   "cell_type": "code",
   "execution_count": 3,
   "id": "06b9fdcd",
   "metadata": {},
   "outputs": [],
   "source": [
    "#data files\n",
    "file_noise=\"/data/whd01/yiyu_data/PNWML/noise_waveforms.hdf5\";\n",
    "file_comcat=  \"/data/whd01/yiyu_data/PNWML/comcat_waveforms.hdf5\";\n",
    "file_exotic=\"/data/whd01/yiyu_data/PNWML/exotic_waveforms.hdf5\";"
   ]
  },
  {
   "cell_type": "markdown",
   "id": "3d6b008d",
   "metadata": {},
   "source": [
    "### Waveform Metadata"
   ]
  },
  {
   "cell_type": "code",
   "execution_count": 4,
   "id": "59012f24",
   "metadata": {},
   "outputs": [],
   "source": [
    "# metadata\n",
    "# accessing the comcat metadata\n",
    "comcat_metadata = pd.read_csv(\"/data/whd01/yiyu_data/PNWML/comcat_metadata.csv\")\n",
    "\n",
    "# accessing the exotic metadata\n",
    "exotic_metadata = pd.read_csv(\"/data/whd01/yiyu_data/PNWML/exotic_metadata.csv\")\n",
    "\n",
    "# accessing the data files\n",
    "metadata_noise = pd.read_csv(\"/data/whd01/yiyu_data/PNWML/noise_metadata.csv\")\n",
    "\n",
    "# creating individual data frames for each class\n",
    "cat_exp = comcat_metadata[comcat_metadata['source_type'] == 'explosion']\n",
    "cat_eq = comcat_metadata[comcat_metadata['source_type'] == 'earthquake']\n",
    "cat_su = exotic_metadata[exotic_metadata['source_type'] == 'surface event']\n",
    "cat_noise = metadata_noise\n",
    "cat_noise['event_id'] = [cat_noise['trace_start_time'][i]+'_noise' for i in range(len(cat_noise))]\n"
   ]
  },
  {
   "cell_type": "markdown",
   "id": "5bab8e20",
   "metadata": {},
   "source": [
    "### Data Prep"
   ]
  },
  {
   "cell_type": "code",
   "execution_count": 88,
   "id": "482b90db",
   "metadata": {},
   "outputs": [],
   "source": [
    "start=-30\n",
    "input_window_length=100 # in seconds\n",
    "fs=50 # target sampling rate\n",
    "\n",
    "number_data_per_class=100 # number of data samples per class\n",
    "num_channels=3  # number of components to check\n",
    "\n",
    "all_data=False\n",
    "shifting=True\n",
    "\n",
    "\n",
    "# training parameters\n",
    "train_split = 80\n",
    "val_split=10\n",
    "test_split = 10\n",
    "learning_rate=0.001\n",
    "n_epochs=10"
   ]
  },
  {
   "cell_type": "markdown",
   "id": "5daa147a",
   "metadata": {},
   "source": [
    "## Additional functions"
   ]
  },
  {
   "cell_type": "code",
   "execution_count": 75,
   "id": "3000d8be",
   "metadata": {},
   "outputs": [],
   "source": [
    "# defining a very simple CNN\n",
    "        \n",
    "class SeismicCNN(nn.Module):\n",
    "    def __init__(self, num_classes=4, num_channels = 3):\n",
    "        super(SeismicCNN, self).__init__()\n",
    "        # Define the layers of the CNN architecture\n",
    "        self.conv1 = nn.Conv1d(in_channels= num_channels, out_channels=8, kernel_size=9,stride=1,padding='same')\n",
    "        self.conv2 = nn.Conv1d(in_channels= 8, out_channels=8, kernel_size=9,stride=2,padding=4)       \n",
    "        self.conv3 = nn.Conv1d(in_channels= 8, out_channels=16, kernel_size=7,stride=1,padding='same')\n",
    "        self.conv4 = nn.Conv1d(in_channels= 16, out_channels=16, kernel_size=7,stride=2,padding=3)        \n",
    "        self.conv5 = nn.Conv1d(in_channels= 16, out_channels=32, kernel_size=5,stride=1,padding='same')\n",
    "        self.conv6 = nn.Conv1d(in_channels= 32, out_channels=32, kernel_size=5,stride=2,padding=2)                \n",
    "        self.conv7 = nn.Conv1d(in_channels= 32, out_channels=64, kernel_size=3,stride=1,padding='same')\n",
    "        \n",
    "        self.pool1 = nn.MaxPool1d(kernel_size=2, stride=2)\n",
    "        \n",
    "        # batch-normalization layers\n",
    "        self.bn1 = nn.BatchNorm1d(8)#, dtype=torch.float64)\n",
    "        self.bn2 = nn.BatchNorm1d(8)#, dtype=torch.float64)\n",
    "        self.bn3 = nn.BatchNorm1d(16)#, dtype=torch.float64)\n",
    "        self.bn4 = nn.BatchNorm1d(16)#, dtype=torch.float64)\n",
    "        self.bn5 = nn.BatchNorm1d(32)#, dtype=torch.float64)\n",
    "        self.bn6 = nn.BatchNorm1d(32)#, dtype=torch.float64)\n",
    "        self.bn7 = nn.BatchNorm1d(64)#, dtype=torch.float64)\n",
    "        \n",
    "        self.fc1 = nn.Linear(4992, 128)  # Adjust input size based on your data\n",
    "        self.fc2 = nn.Linear(128,4)  # Adjust input size based on your data\n",
    "        self.fc1_bn = nn.BatchNorm1d(128)\n",
    "        self.fc2_bn = nn.BatchNorm1d(num_classes)\n",
    "        \n",
    "        \n",
    "        # Calculate the input size for the first fully connected layer\n",
    "        fc_input_size = self._get_conv_output_size(num_channels, 5000)\n",
    "        \n",
    "        # define dropout\n",
    "        self.dropout = nn.Dropout(0.2)\n",
    "        \n",
    "    def forward(self, x):\n",
    "        x = F.relu(self.bn1(self.conv1(x))) # feature extraction, output size of 8,5000\n",
    "        x = self.pool1(F.relu(self.bn2(self.conv2(x)))) # feature extraction, output size of 8,1250 \n",
    "        # max pooling is done at this point, but after the 2 convolutions to avoid aliasing\n",
    "        x = F.relu(self.bn3(self.conv3(x))) # feature extraction, output size of 16,1250\n",
    "        x = self.pool1(F.relu(self.bn4(self.conv4(x)))) # feature extraction, output size of 16, 312\n",
    "        x =  F.relu(self.bn5(self.conv5(x))) # feature extraction, output size of 32, 312\n",
    "        x = self.pool1(F.relu(self.bn6(self.conv6(x)))) # feature extraction, output size of 32, 78\n",
    "        x = F.relu(self.bn7(self.conv7(x))) # feature extraction, output size of 64, 78            \n",
    "        x = x.view(x.size(0), -1) # Flatten before fully connected layer, 4992 features!\n",
    "        x = F.relu(self.fc1_bn(self.fc1(x)))  # classifier\n",
    "        x = self.fc2_bn(self.fc2(x)) # classifier\n",
    "        \n",
    "        # Apply softmax for probabilities\n",
    "        x = torch.softmax(x, dim=1)\n",
    "        \n",
    "        return x"
   ]
  },
  {
   "cell_type": "markdown",
   "id": "9438dab1",
   "metadata": {},
   "source": [
    "### test CNN"
   ]
  },
  {
   "cell_type": "code",
   "execution_count": 73,
   "id": "a8f3a7e8",
   "metadata": {},
   "outputs": [],
   "source": [
    "# Assuming the input shape is (batch_size, num_channels, num_features)\n",
    "batch_size = 1  # You can adjust the batch size as needed\n",
    "num_channels = 3\n",
    "num_features = 5000\n",
    "\n",
    "# Create a random input tensor with the specified shape\n",
    "random_input = torch.randn(batch_size, num_channels, num_features)"
   ]
  },
  {
   "cell_type": "code",
   "execution_count": 77,
   "id": "5a5dfea2",
   "metadata": {},
   "outputs": [
    {
     "name": "stdout",
     "output_type": "stream",
     "text": [
      "tensor([[0.2212, 0.2570, 0.2654, 0.2564]], device='cuda:0')\n"
     ]
    }
   ],
   "source": [
    "# Initialize your model\n",
    "model = SeismicCNN(num_classes=4, num_channels=num_channels).to(device)  # Use 'cuda' if you have a GPU available\n",
    "\n",
    "# Move the random input to the same device as your model\n",
    "random_input = random_input.to(device).float()  # Use 'cuda' if you have a GPU available\n",
    "\n",
    "# Set the model to evaluation mode\n",
    "model.eval()\n",
    "\n",
    "# Pass the random input through the model\n",
    "with torch.no_grad():  # Disable gradient computation\n",
    "    output = model(random_input)\n",
    "print(output)"
   ]
  },
  {
   "cell_type": "code",
   "execution_count": 78,
   "id": "f0314799",
   "metadata": {},
   "outputs": [
    {
     "name": "stdout",
     "output_type": "stream",
     "text": [
      "SeismicCNN(\n",
      "  (conv1): Conv1d(3, 8, kernel_size=(9,), stride=(1,), padding=same)\n",
      "  (conv2): Conv1d(8, 8, kernel_size=(9,), stride=(2,), padding=(4,))\n",
      "  (conv3): Conv1d(8, 16, kernel_size=(7,), stride=(1,), padding=same)\n",
      "  (conv4): Conv1d(16, 16, kernel_size=(7,), stride=(2,), padding=(3,))\n",
      "  (conv5): Conv1d(16, 32, kernel_size=(5,), stride=(1,), padding=same)\n",
      "  (conv6): Conv1d(32, 32, kernel_size=(5,), stride=(2,), padding=(2,))\n",
      "  (conv7): Conv1d(32, 64, kernel_size=(3,), stride=(1,), padding=same)\n",
      "  (pool1): MaxPool1d(kernel_size=2, stride=2, padding=0, dilation=1, ceil_mode=False)\n",
      "  (bn1): BatchNorm1d(8, eps=1e-05, momentum=0.1, affine=True, track_running_stats=True)\n",
      "  (bn2): BatchNorm1d(8, eps=1e-05, momentum=0.1, affine=True, track_running_stats=True)\n",
      "  (bn3): BatchNorm1d(16, eps=1e-05, momentum=0.1, affine=True, track_running_stats=True)\n",
      "  (bn4): BatchNorm1d(16, eps=1e-05, momentum=0.1, affine=True, track_running_stats=True)\n",
      "  (bn5): BatchNorm1d(32, eps=1e-05, momentum=0.1, affine=True, track_running_stats=True)\n",
      "  (bn6): BatchNorm1d(32, eps=1e-05, momentum=0.1, affine=True, track_running_stats=True)\n",
      "  (bn7): BatchNorm1d(64, eps=1e-05, momentum=0.1, affine=True, track_running_stats=True)\n",
      "  (fc1): Linear(in_features=4992, out_features=128, bias=True)\n",
      "  (fc2): Linear(in_features=128, out_features=4, bias=True)\n",
      "  (fc1_bn): BatchNorm1d(128, eps=1e-05, momentum=0.1, affine=True, track_running_stats=True)\n",
      "  (fc2_bn): BatchNorm1d(4, eps=1e-05, momentum=0.1, affine=True, track_running_stats=True)\n",
      "  (dropout): Dropout(p=0.2, inplace=False)\n",
      ")\n"
     ]
    }
   ],
   "source": [
    "model=SeismicCNN().to(device)\n",
    "print(model)"
   ]
  },
  {
   "cell_type": "code",
   "execution_count": 79,
   "id": "2fc78fc7",
   "metadata": {},
   "outputs": [],
   "source": [
    "# adding some more comments here\n",
    "from torch.utils.data import Dataset\n",
    "class PNWDataSet(Dataset): # create custom dataset\n",
    "    def __init__(self, data,labels,num_classes): # initialize\n",
    "        self.data = data \n",
    "        self.labels = labels\n",
    "        self.num_classes = num_classes\n",
    "\n",
    "    def __len__(self):\n",
    "        return len(self.data)\n",
    "\n",
    "    def __getitem__(self, index):\n",
    "        sample_data = self.data[index]\n",
    "        sample_labels = self.labels[index]\n",
    "        \n",
    "        # Convert labels to one-hot encoded vectors\n",
    "        sample_labels = torch.nn.functional.one_hot(torch.tensor(sample_labels), num_classes=self.num_classes)\n",
    "        print(sample_labels)\n",
    "        \n",
    "        return torch.Tensor(sample_data), sample_labels.float()  # return data as a tensor\n",
    "    "
   ]
  },
  {
   "cell_type": "code",
   "execution_count": 80,
   "id": "571104de",
   "metadata": {},
   "outputs": [],
   "source": [
    "def extract_waveforms(cat, file_name, start=-20, input_window_length=100, fs=50, number_data=1000, num_channels=3, all_data=False, shifting=True):\n",
    "    \n",
    "    \"\"\"\n",
    "    This is a function defined to extract the waveforms from file of waveforms and a dataframe of metadata. \n",
    "    The functions will also filter and resample the data if the data sampling rate is different from the target sampling rate\n",
    "    The data is shuffled in order it is called from the file it was stored in.\n",
    "    The data is shuffled in time by allowing a shift in selecting the waveform window with some of the pre-P data.\n",
    "    The data us normalized to its max(abs) on either component.\n",
    "    \n",
    "    Inputs:\n",
    "    cat -  Catalog containing metadata of the events, so we can extract the data using the bucket information\n",
    "    file_name - path of the h5py file containing the data\n",
    "    start - origin or first arrival time\n",
    "    num_features - window length to extract\n",
    "    before - number of samples to take before the arrival time\n",
    "    after - number of samples to take after the arrival time.\n",
    "    num_samples - no. of events per class to extract\n",
    "    \n",
    "    input_window_length: desired window length in seconds\n",
    "    fs: desired sampling rate.\n",
    "    num_channels - no. of channels per event to extract, if set 1, will extract Z component, if set any other number, will extract - ZNE component. \n",
    "    all_samples - if true, will extract all the samples corresponding of a given class\n",
    "    shifting - if true, will extract windows randomly starting between P-5, P-20. The random numbers follow a gaussian distribution. \n",
    "    Outputs:\n",
    "    \n",
    "    \"\"\"   \n",
    "    cat = cat.sample(frac=1).reset_index(drop=True)\n",
    "    if all_data:number_data = len(cat) # how many data to include\n",
    "    # open the file\n",
    "    f = h5py.File(file_name, 'r')\n",
    "    x=np.zeros(shape=(number_data,3,int(fs*input_window_length)))\n",
    "    event_ids = cat['event_id'].values\n",
    "    if not all_data:event_ids=event_ids[:number_data]\n",
    "        \n",
    "    for index in range(number_data):\n",
    "        # read data\n",
    "        bucket, narray = cat.loc[index]['trace_name'].split('$')\n",
    "        xx, _, _ = iter([int(i) for i in narray.split(',:')])\n",
    "        data = f['/data/%s' % bucket][xx, :, : ] # get all of the data\n",
    "        if fs != cat.loc[index,'trace_sampling_rate_hz']: #resample the data\n",
    "            nyquist = 0.5 * cat.loc[index,'trace_sampling_rate_hz']\n",
    "            low = 0.05 / nyquist;  high = 20 / nyquist\n",
    "            b, a = signal.butter(4, [low, high], btype='band')\n",
    "\n",
    "            # Apply the taper+filter to the signal\n",
    "            taper = signal.windows.tukey(data.shape[-1],alpha=0.1)\n",
    "            data = np.array([np.multiply(taper,row) for row in data])\n",
    "            filtered_signal = np.array([signal.filtfilt(b, a, row) for row in data])\n",
    "\n",
    "            # resample\n",
    "            number_of_samples = int(filtered_signal.shape[1] * fs / cat.loc[index,'trace_sampling_rate_hz'])\n",
    "            data = np.array([signal.resample(row, number_of_samples) for row in filtered_signal])\n",
    "\n",
    "            \n",
    "        if event_ids[index].split(\"_\")[-1]!=\"noise\":\n",
    "            #random start between P-20 and P-5 (upper bound is exclusive in numpy.random.randint)        \n",
    "            ii = int(np.random.randint(start,-4)*fs)\n",
    "            \n",
    "            if np.isnan(cat.loc[index, 'trace_P_arrival_sample']):continue\n",
    "            \n",
    "            istart = int(cat.loc[index, 'trace_P_arrival_sample']*fs/cat.loc[index,'trace_sampling_rate_hz']) + ii # start around the P\n",
    "            iend  = istart + int(fs*input_window_length)\n",
    "            if iend>data.shape[-1]:\n",
    "                istart = istart - (iend-data.shape[-1])\n",
    "                iend = data.shape[-1]\n",
    "        else:\n",
    "            istart=0\n",
    "            iend=istart+int(fs*input_window_length)\n",
    "\n",
    "        \n",
    "        # normalize the data\n",
    "        mmax = np.max(np.abs(data[:,istart:iend]))\n",
    "        # store data in big index\n",
    "        x[index,:,:iend-istart] = data[:,istart:iend]/mmax\n",
    "        \n",
    "        if num_channels==1:\n",
    "            x2 = x[:,2,:]\n",
    "            del x\n",
    "            x = x2\n",
    "            \n",
    "    # remove rows with zeros if there are any\n",
    "    idx=np.where(np.mean(np.abs(x[:,2,0:10]),axis=-1)>0)[0]\n",
    "                     \n",
    "    \n",
    "    f.close()\n",
    "    return x[idx,:,:], event_ids[idx]\n"
   ]
  },
  {
   "cell_type": "code",
   "execution_count": 82,
   "id": "07d19086",
   "metadata": {},
   "outputs": [],
   "source": [
    "# def train_model(model, train_loader, val_loader,  n_epochs=100, batch_size=32,learning_rate=0.001,criterion=nn.CrossEntropyLoss()):\n",
    "#     \"\"\"\n",
    "#     Function to train and evaluate the defined model.\n",
    "\n",
    "#     Parameters:\n",
    "#         model (torch.nn.Module): The neural network model.\n",
    "#         train_loader (torch.utils.data.DataLoader): DataLoader for training data.\n",
    "#         val_dataset (torch.utils.data.Dataset): Validation dataset.\n",
    "#         val_loader (torch.utils.data.DataLoader): DataLoader for validation data.\n",
    "#         optimizer (torch.optim.Optimizer): Optimizer for training the model.\n",
    "#         n_epochs (int): Number of training epochs.\n",
    "#         batch_size (int): Batch size for training.\n",
    "#         number_input (int): Number of points in the input data.\n",
    "#         num_channels (int): Number of channels in the input data.\n",
    "\n",
    "#     Returns:\n",
    "#         accuracy_list (list): List of accuracies computed from each epoch.\n",
    "#         train_loss_list (list): List of training losses from each epoch.\n",
    "#         val_loss_list (list): List of validation losses from each epoch.\n",
    "#         y_pred (list): List of predicted values.\n",
    "#         y_true (list): List of true values.\n",
    "#     \"\"\"\n",
    "    \n",
    "#     optimizer = torch.optim.Adam(model.parameters(), lr=learning_rate)\n",
    "\n",
    "#     N_test = len(val_dataset)\n",
    "\n",
    "#     # to store the accuracies computed from each epoch.\n",
    "# #     accuracy_list = []\n",
    "\n",
    "#     # # Save loss and error for plotting\n",
    "#     loss_time = np.zeros(n_epochs)\n",
    "#     accuracy_time = np.zeros(n_epochs)\n",
    "\n",
    "#     # to store the predicted values\n",
    "# #     y_pred = []\n",
    "# #     y_true = []\n",
    "\n",
    "#     for epoch in range(n_epochs):\n",
    "#         running_loss = 0\n",
    "#         for data in train_loader:\n",
    "#             inputs, labels = data[0].to(device), data[1].to(device)\n",
    "#             inputs = inputs.float()\n",
    "#             labels = labels.long()\n",
    "            \n",
    "            \n",
    "#             # Set the parameter gradients to zero\n",
    "#             optimizer.zero_grad()\n",
    "            \n",
    "#             outputs = model(inputs)\n",
    "            \n",
    "#             loss = criterion(outputs, labels)\n",
    "            \n",
    "#             # computing the gradients\n",
    "#             loss.backward()\n",
    "\n",
    "#             # updating the parameters\n",
    "#             optimizer.step()\n",
    "\n",
    "#             running_loss += loss.item()\n",
    "\n",
    "#         # updating the training loss list\n",
    "#         loss_time[epoch] = running_loss/len(trainloader)\n",
    "\n",
    "#              # We evaluate the model, so we do not need the gradient\n",
    "#         with torch.no_grad(): # Context-manager that disabled gradient calculation.\n",
    "#             # Loop on samples in test set\n",
    "#             for data in trainloader:\n",
    "#                 # Get the sample and modify the format for PyTorch\n",
    "#                 inputs, labels = data[0].to(device), data[1].to(device)\n",
    "#                 inputs = inputs.float() \n",
    "#                 labels = labels.long()\n",
    "#                 # Use model for sample in the test set\n",
    "#                 outputs = model(inputs)\n",
    "#                 # Compare predicted label and true label\n",
    "#                 _, predicted = torch.max(outputs.data, 1)\n",
    "#                 total += labels.size(0)\n",
    "#                 correct += (predicted == labels).sum().item()\n",
    "#         # Save error at the end of each epochs\n",
    "#         accuracy_time[epoch] = 100 * correct / total\n",
    "\n",
    "#     # Print intermediate results on screen\n",
    "#     if testloader is not None:\n",
    "#         print('[Epoch %d] loss: %.3f - accuracy: %.3f' %\n",
    "#           (epoch + 1, running_loss/len(trainloader), 100 * correct / total))\n",
    "#     else:\n",
    "#         print('[Epoch %d] loss: %.3f' %\n",
    "#           (epoch + 1, running_loss/len(trainloader)))\n",
    "\n",
    "#     return loss_time, accuracy_time\n",
    "\n"
   ]
  },
  {
   "cell_type": "markdown",
   "id": "f7bbe0eb",
   "metadata": {},
   "source": [
    "## Select only high SNR data\n",
    "\n",
    "based on the SNR value in the Z component, then store the reduced panda dataframe for each class."
   ]
  },
  {
   "cell_type": "code",
   "execution_count": 37,
   "id": "6782a2d1",
   "metadata": {},
   "outputs": [],
   "source": [
    "# explosions\n",
    "trace_snr_db_values = np.array([float(cat_exp.loc[idx, 'trace_snr_db'].split(\"|\")[-1]) for idx in cat_exp.index.values.tolist()])\n",
    "ii2= np.where(trace_snr_db_values>18)[0].astype(int) \n",
    "df_exp = cat_exp.iloc[ii2]\n",
    "\n",
    "# earthquake\n",
    "trace_snr_db_values = np.array([float(cat_eq.loc[idx, 'trace_snr_db'].split(\"|\")[-1]) for idx in cat_eq.index.values.tolist()])\n",
    "ii2= np.where(trace_snr_db_values>18)[0].astype(int) \n",
    "df_eq = cat_eq.iloc[ii2]\n",
    "\n",
    "# surface events\n",
    "trace_snr_db_values = np.array([float(cat_su.loc[idx, 'trace_snr_db'].split(\"|\")[-1]) for idx in cat_su.index.values.tolist()])\n",
    "ii2= np.where(trace_snr_db_values>18)[0].astype(int) \n",
    "df_su = cat_su.iloc[ii2]\n",
    "\n",
    "# noise\n",
    "# does not change\n",
    "df_noise = cat_noise"
   ]
  },
  {
   "cell_type": "code",
   "execution_count": 38,
   "id": "978df7a4",
   "metadata": {},
   "outputs": [
    {
     "data": {
      "text/html": [
       "<div>\n",
       "<style scoped>\n",
       "    .dataframe tbody tr th:only-of-type {\n",
       "        vertical-align: middle;\n",
       "    }\n",
       "\n",
       "    .dataframe tbody tr th {\n",
       "        vertical-align: top;\n",
       "    }\n",
       "\n",
       "    .dataframe thead th {\n",
       "        text-align: right;\n",
       "    }\n",
       "</style>\n",
       "<table border=\"1\" class=\"dataframe\">\n",
       "  <thead>\n",
       "    <tr style=\"text-align: right;\">\n",
       "      <th></th>\n",
       "      <th>source_type</th>\n",
       "      <th>station_network_code</th>\n",
       "      <th>station_channel_code</th>\n",
       "      <th>station_code</th>\n",
       "      <th>station_location_code</th>\n",
       "      <th>station_latitude_deg</th>\n",
       "      <th>station_longitude_deg</th>\n",
       "      <th>station_elevation_m</th>\n",
       "      <th>trace_name</th>\n",
       "      <th>trace_sampling_rate_hz</th>\n",
       "      <th>trace_start_time</th>\n",
       "      <th>event_id</th>\n",
       "    </tr>\n",
       "  </thead>\n",
       "  <tbody>\n",
       "    <tr>\n",
       "      <th>0</th>\n",
       "      <td>noise</td>\n",
       "      <td>UW</td>\n",
       "      <td>BH</td>\n",
       "      <td>TTW</td>\n",
       "      <td>--</td>\n",
       "      <td>47.694</td>\n",
       "      <td>-121.690</td>\n",
       "      <td>542.0</td>\n",
       "      <td>bucket1$0,:3,:15001</td>\n",
       "      <td>100</td>\n",
       "      <td>2002-09-21T00:50:20.960000Z</td>\n",
       "      <td>2002-09-21T00:50:20.960000Z_noise</td>\n",
       "    </tr>\n",
       "    <tr>\n",
       "      <th>1</th>\n",
       "      <td>noise</td>\n",
       "      <td>UW</td>\n",
       "      <td>HH</td>\n",
       "      <td>ERW</td>\n",
       "      <td>--</td>\n",
       "      <td>48.454</td>\n",
       "      <td>-122.626</td>\n",
       "      <td>387.0</td>\n",
       "      <td>bucket2$0,:3,:15001</td>\n",
       "      <td>100</td>\n",
       "      <td>2002-09-21T00:50:20.960000Z</td>\n",
       "      <td>2002-09-21T00:50:20.960000Z_noise</td>\n",
       "    </tr>\n",
       "    <tr>\n",
       "      <th>2</th>\n",
       "      <td>noise</td>\n",
       "      <td>UW</td>\n",
       "      <td>BH</td>\n",
       "      <td>GNW</td>\n",
       "      <td>--</td>\n",
       "      <td>47.564</td>\n",
       "      <td>-122.825</td>\n",
       "      <td>220.0</td>\n",
       "      <td>bucket3$0,:3,:15001</td>\n",
       "      <td>100</td>\n",
       "      <td>2002-09-21T00:50:20.960000Z</td>\n",
       "      <td>2002-09-21T00:50:20.960000Z_noise</td>\n",
       "    </tr>\n",
       "    <tr>\n",
       "      <th>3</th>\n",
       "      <td>noise</td>\n",
       "      <td>UW</td>\n",
       "      <td>BH</td>\n",
       "      <td>OPC</td>\n",
       "      <td>--</td>\n",
       "      <td>48.100</td>\n",
       "      <td>-123.413</td>\n",
       "      <td>90.0</td>\n",
       "      <td>bucket4$0,:3,:15001</td>\n",
       "      <td>100</td>\n",
       "      <td>2002-09-21T00:50:20.960000Z</td>\n",
       "      <td>2002-09-21T00:50:20.960000Z_noise</td>\n",
       "    </tr>\n",
       "    <tr>\n",
       "      <th>4</th>\n",
       "      <td>noise</td>\n",
       "      <td>UW</td>\n",
       "      <td>BH</td>\n",
       "      <td>GNW</td>\n",
       "      <td>--</td>\n",
       "      <td>47.564</td>\n",
       "      <td>-122.825</td>\n",
       "      <td>220.0</td>\n",
       "      <td>bucket5$0,:3,:15001</td>\n",
       "      <td>100</td>\n",
       "      <td>2002-09-13T14:54:54.050000Z</td>\n",
       "      <td>2002-09-13T14:54:54.050000Z_noise</td>\n",
       "    </tr>\n",
       "  </tbody>\n",
       "</table>\n",
       "</div>"
      ],
      "text/plain": [
       "  source_type station_network_code station_channel_code station_code  \\\n",
       "0       noise                   UW                   BH          TTW   \n",
       "1       noise                   UW                   HH          ERW   \n",
       "2       noise                   UW                   BH          GNW   \n",
       "3       noise                   UW                   BH          OPC   \n",
       "4       noise                   UW                   BH          GNW   \n",
       "\n",
       "  station_location_code  station_latitude_deg  station_longitude_deg  \\\n",
       "0                    --                47.694               -121.690   \n",
       "1                    --                48.454               -122.626   \n",
       "2                    --                47.564               -122.825   \n",
       "3                    --                48.100               -123.413   \n",
       "4                    --                47.564               -122.825   \n",
       "\n",
       "   station_elevation_m           trace_name  trace_sampling_rate_hz  \\\n",
       "0                542.0  bucket1$0,:3,:15001                     100   \n",
       "1                387.0  bucket2$0,:3,:15001                     100   \n",
       "2                220.0  bucket3$0,:3,:15001                     100   \n",
       "3                 90.0  bucket4$0,:3,:15001                     100   \n",
       "4                220.0  bucket5$0,:3,:15001                     100   \n",
       "\n",
       "              trace_start_time                           event_id  \n",
       "0  2002-09-21T00:50:20.960000Z  2002-09-21T00:50:20.960000Z_noise  \n",
       "1  2002-09-21T00:50:20.960000Z  2002-09-21T00:50:20.960000Z_noise  \n",
       "2  2002-09-21T00:50:20.960000Z  2002-09-21T00:50:20.960000Z_noise  \n",
       "3  2002-09-21T00:50:20.960000Z  2002-09-21T00:50:20.960000Z_noise  \n",
       "4  2002-09-13T14:54:54.050000Z  2002-09-13T14:54:54.050000Z_noise  "
      ]
     },
     "execution_count": 38,
     "metadata": {},
     "output_type": "execute_result"
    }
   ],
   "source": [
    "df_noise.head()"
   ]
  },
  {
   "cell_type": "code",
   "execution_count": 39,
   "id": "9e5599a6",
   "metadata": {},
   "outputs": [
    {
     "name": "stdout",
     "output_type": "stream",
     "text": [
      "[0.00386314 0.0007616  0.00399152 0.00286959 0.00728698 0.00049456\n",
      " 0.00814935 0.00419846 0.00040521 0.01782257 0.00037496 0.00113141\n",
      " 0.00325163 0.00301208 0.01154385 0.00423891 0.00780877 0.00958121\n",
      " 0.01809856 0.00396552 0.00375219 0.01977364 0.00212153 0.00662052\n",
      " 0.00284718 0.0009485  0.00196113 0.00057041 0.00109425 0.00217102\n",
      " 0.00100425 0.00016775 0.00253929 0.0063596  0.00274155 0.00432271\n",
      " 0.00553427 0.00426291 0.01312644 0.00014062 0.0038931  0.00542507\n",
      " 0.00125015 0.00162803 0.00342394 0.00225399 0.00530923 0.00371311\n",
      " 0.00204035 0.00197799 0.00064365 0.00134822 0.00123811 0.01168707\n",
      " 0.02721994 0.00611469 0.002136   0.0042151  0.02134412 0.03023502\n",
      " 0.00956392 0.00647428 0.0004512  0.00329449 0.03578827 0.0037685\n",
      " 0.01104361 0.00058572 0.0006899  0.00459268 0.00680117 0.00496508\n",
      " 0.003141   0.00324455 0.004561   0.00174348 0.00535885 0.00189057\n",
      " 0.00350517 0.01602145 0.00081097 0.00042217 0.00297597 0.01548211\n",
      " 0.00099772 0.01446585 0.00595254 0.0100488  0.0106326  0.00117492\n",
      " 0.0299339  0.00327485 0.00173717 0.00153071 0.00353898 0.00335191\n",
      " 0.00768651 0.00267275 0.00043658 0.01210722]\n",
      "(100, 3, 5000)\n"
     ]
    }
   ],
   "source": [
    "# surface events\n",
    "d_su, id_su = extract_waveforms(df_su, file_exotic, input_window_length = input_window_length, fs=fs,\n",
    "                                start =start, number_data = number_data_per_class, num_channels = num_channels,\n",
    "                                shifting = shifting, all_data = False)\n",
    "print(d_su.shape)"
   ]
  },
  {
   "cell_type": "code",
   "execution_count": 14,
   "id": "83b102a9",
   "metadata": {},
   "outputs": [
    {
     "name": "stdout",
     "output_type": "stream",
     "text": [
      "[0.09017467 0.04720061 0.09701432 0.02693353 0.07446796 0.00212068\n",
      " 0.05264309 0.03363966 0.02999271 0.08461117 0.0214801  0.08354505\n",
      " 0.00250412 0.04405824 0.02330176 0.00632356 0.01508704 0.01158374\n",
      " 0.03152017 0.01474549 0.02450184 0.04396211 0.07627514 0.04870781\n",
      " 0.05158009 0.01497578 0.03479032 0.01379075 0.02130644 0.05710369\n",
      " 0.03953536 0.04202507 0.01604065 0.00390107 0.06713828 0.00924551\n",
      " 0.01275836 0.03953194 0.05778151 0.01574697 0.0600167  0.08129987\n",
      " 0.0039577  0.01163747 0.02071551 0.00195746 0.06641381 0.04119401\n",
      " 0.1027571  0.00152285 0.06004882 0.03038752 0.04057282 0.03844946\n",
      " 0.03375413 0.00439176 0.07682944 0.04667995 0.02435383 0.0383847\n",
      " 0.05327029 0.03381172 0.03801587 0.01437565 0.02894557 0.04070275\n",
      " 0.0126314  0.00839199 0.09172209 0.07312728 0.02248603 0.24499775\n",
      " 0.01029321 0.04780842 0.00509002 0.00757741 0.02275609 0.02845048\n",
      " 0.00088181 0.02451482 0.03330472 0.00368601 0.05569932 0.08741261\n",
      " 0.00045026 0.0629575  0.00082707 0.03682438 0.04658857 0.07394092\n",
      " 0.01287796 0.02634614 0.01681456 0.03141334 0.12102222 0.04697582\n",
      " 0.02803166 0.01860301 0.1056031  0.04480683]\n",
      "(100, 3, 5000)\n"
     ]
    }
   ],
   "source": [
    "# noise\n",
    "d_noise, id_noise = extract_waveforms(df_noise, file_noise, input_window_length = input_window_length, fs=fs,\n",
    "                                      start = start, number_data = number_data_per_class,\n",
    "                                      num_channels = num_channels, shifting = shifting, all_data = all_data)\n",
    "print(d_noise.shape)"
   ]
  },
  {
   "cell_type": "code",
   "execution_count": 15,
   "id": "46ee633d",
   "metadata": {},
   "outputs": [
    {
     "name": "stdout",
     "output_type": "stream",
     "text": [
      "[0.01895189 0.02691194 0.0816531  0.03005199 0.02268474 0.01099107\n",
      " 0.007783   0.05364038 0.00787047 0.01018864 0.03130157 0.00056518\n",
      " 0.01913684 0.00671011 0.00748948 0.01192377 0.00048864 0.00198668\n",
      " 0.00789642 0.00287844 0.00860692 0.00257089 0.01861273 0.00503658\n",
      " 0.01528461 0.03644732 0.00484968 0.00869799 0.02810392 0.01114839\n",
      " 0.02543565 0.01605122 0.01342622 0.00669788 0.02968949 0.01987209\n",
      " 0.00139193 0.01134816 0.00329037 0.06221937 0.02587089 0.00638181\n",
      " 0.00485205 0.0301481  0.03556673 0.01639401 0.00268633 0.01256006\n",
      " 0.01619334 0.02180193 0.00710416 0.00540232 0.00226006 0.0547673\n",
      " 0.01113859 0.0083858  0.00789041 0.02627966 0.00936863 0.0050886\n",
      " 0.00365925 0.00366947 0.00884214 0.02625331 0.01686645 0.01146272\n",
      " 0.02272564 0.00892438 0.00191444 0.00401785 0.00581393 0.01748008\n",
      " 0.01487198 0.00448495 0.00678214 0.00102215 0.01042364 0.00370383\n",
      " 0.00832862 0.0011711  0.00334713 0.01460787 0.00749725 0.02689147\n",
      " 0.01456014 0.02472538 0.01524228 0.03198682 0.01849536 0.0055251\n",
      " 0.00758225 0.00624612 0.00919644 0.0084355  0.01252925 0.01009346\n",
      " 0.00159745 0.01566771 0.00734018 0.034208  ]\n",
      "(100, 3, 5000)\n"
     ]
    }
   ],
   "source": [
    "# explosions\n",
    "d_exp, id_exp = extract_waveforms(df_exp, file_comcat, input_window_length = input_window_length, fs=fs,\n",
    "                                  start = start,  number_data = number_data_per_class, num_channels = num_channels,\n",
    "                                  shifting = shifting, all_data = all_data)\n",
    "\n",
    "print(d_exp.shape)"
   ]
  },
  {
   "cell_type": "code",
   "execution_count": 16,
   "id": "d5e4c4ce",
   "metadata": {},
   "outputs": [
    {
     "name": "stdout",
     "output_type": "stream",
     "text": [
      "[0.01611684 0.00950734 0.00242022 0.00355009 0.00142305 0.01859908\n",
      " 0.01048039 0.01222441 0.01243563 0.01468535 0.01211713 0.00769804\n",
      " 0.00841637 0.01093756 0.00174453 0.00083191 0.03260972 0.07739033\n",
      " 0.00283091 0.00205083 0.00103386 0.00581792 0.0056018  0.02219097\n",
      " 0.00599235 0.01695519 0.00694384 0.00066223 0.00550778 0.0020898\n",
      " 0.00722107 0.00991886 0.00275243 0.00327982 0.00663478 0.02952955\n",
      " 0.00858184 0.02110972 0.043549   0.02025683 0.00317018 0.01535807\n",
      " 0.0126746  0.06310745 0.00374818 0.00981322 0.02144971 0.00535097\n",
      " 0.03798938 0.00446296 0.00122239 0.02321964 0.00826039 0.00837811\n",
      " 0.00093907 0.00260604 0.01276752 0.00130318 0.00181081 0.00047387\n",
      " 0.00571833 0.0013846  0.00127031 0.01002391 0.00522351 0.00461216\n",
      " 0.00881967 0.01037256 0.02838868 0.00074806 0.02431477 0.00452745\n",
      " 0.02065541 0.02224992 0.01292389 0.06317768 0.00395042 0.03447458\n",
      " 0.00356115 0.01147121 0.00626444 0.01257344 0.0033264  0.00675358\n",
      " 0.00781474 0.01379122 0.01570465 0.00210486 0.01447345 0.01345297\n",
      " 0.00364298 0.02761109 0.00713077 0.03206154 0.00210235 0.00478572\n",
      " 0.02083959 0.02071882 0.00508162 0.00927236]\n",
      "(100, 3, 5000)\n"
     ]
    }
   ],
   "source": [
    "# earthquakes\n",
    "d_eq, id_eq = extract_waveforms(df_eq, file_comcat, input_window_length = input_window_length,  fs=fs,\n",
    "                                start =start,  number_data = number_data_per_class, num_channels = num_channels,\n",
    "                                shifting = shifting, all_data = all_data)\n",
    "print(d_eq.shape)"
   ]
  },
  {
   "cell_type": "code",
   "execution_count": 100,
   "id": "e2444e2e",
   "metadata": {},
   "outputs": [
    {
     "name": "stdout",
     "output_type": "stream",
     "text": [
      "(400, 3, 5000)\n"
     ]
    },
    {
     "data": {
      "image/png": "[encoded data removed]",
      "text/plain": [
       "<Figure size 640x480 with 1 Axes>"
      ]
     },
     "metadata": {},
     "output_type": "display_data"
    }
   ],
   "source": [
    "# concatenate all data into one input\n",
    "X = np.vstack([d_noise, d_exp, d_eq, d_su])\n",
    "print(X.shape)\n",
    "plt.plot(X[21,:,:].T)\n",
    "plt.show()\n"
   ]
  },
  {
   "cell_type": "markdown",
   "id": "f20ef07b",
   "metadata": {},
   "source": [
    "## Prepare labels\n",
    "labels to encode: here we understand that the classes are labeled as integers \n",
    "\n",
    "* 0: noise\n",
    "* 1: explosion\n",
    "* 2: earthquake\n",
    "* 3: surface event"
   ]
  },
  {
   "cell_type": "code",
   "execution_count": 24,
   "id": "9a8c1bcd",
   "metadata": {},
   "outputs": [
    {
     "name": "stdout",
     "output_type": "stream",
     "text": [
      "[0, 0, 0, 0, 0, 0, 0, 0, 0, 0, 0, 0, 0, 0, 0, 0, 0, 0, 0, 0, 0, 0, 0, 0, 0, 0, 0, 0, 0, 0, 0, 0, 0, 0, 0, 0, 0, 0, 0, 0, 0, 0, 0, 0, 0, 0, 0, 0, 0, 0, 0, 0, 0, 0, 0, 0, 0, 0, 0, 0, 0, 0, 0, 0, 0, 0, 0, 0, 0, 0, 0, 0, 0, 0, 0, 0, 0, 0, 0, 0, 0, 0, 0, 0, 0, 0, 0, 0, 0, 0, 0, 0, 0, 0, 0, 0, 0, 0, 0, 0, 1, 1, 1, 1, 1, 1, 1, 1, 1, 1, 1, 1, 1, 1, 1, 1, 1, 1, 1, 1, 1, 1, 1, 1, 1, 1, 1, 1, 1, 1, 1, 1, 1, 1, 1, 1, 1, 1, 1, 1, 1, 1, 1, 1, 1, 1, 1, 1, 1, 1, 1, 1, 1, 1, 1, 1, 1, 1, 1, 1, 1, 1, 1, 1, 1, 1, 1, 1, 1, 1, 1, 1, 1, 1, 1, 1, 1, 1, 1, 1, 1, 1, 1, 1, 1, 1, 1, 1, 1, 1, 1, 1, 1, 1, 1, 1, 1, 1, 1, 1, 2, 2, 2, 2, 2, 2, 2, 2, 2, 2, 2, 2, 2, 2, 2, 2, 2, 2, 2, 2, 2, 2, 2, 2, 2, 2, 2, 2, 2, 2, 2, 2, 2, 2, 2, 2, 2, 2, 2, 2, 2, 2, 2, 2, 2, 2, 2, 2, 2, 2, 2, 2, 2, 2, 2, 2, 2, 2, 2, 2, 2, 2, 2, 2, 2, 2, 2, 2, 2, 2, 2, 2, 2, 2, 2, 2, 2, 2, 2, 2, 2, 2, 2, 2, 2, 2, 2, 2, 2, 2, 2, 2, 2, 2, 2, 2, 2, 2, 2, 2, 3, 3, 3, 3, 3, 3, 3, 3, 3, 3, 3, 3, 3, 3, 3, 3, 3, 3, 3, 3, 3, 3, 3, 3, 3, 3, 3, 3, 3, 3, 3, 3, 3, 3, 3, 3, 3, 3, 3, 3, 3, 3, 3, 3, 3, 3, 3, 3, 3, 3, 3, 3, 3, 3, 3, 3, 3, 3, 3, 3, 3, 3, 3, 3, 3, 3, 3, 3, 3, 3, 3, 3, 3, 3, 3, 3, 3, 3, 3, 3, 3, 3, 3, 3, 3, 3, 3, 3, 3, 3, 3, 3, 3, 3, 3, 3, 3]\n"
     ]
    }
   ],
   "source": [
    "# \n",
    "# event_ids = ['noise']*len(d_noise)+['explosion']*len(d_exp)+['earthquake']*len(d_eq)+['surface']*len(d_su)\n",
    "event_ids = [0]*len(d_noise)+[1]*len(d_exp)+[2]*len(d_eq)+[3]*len(d_su)\n",
    "# y = np.hstack([id_noise, id_exp, id_eq, id_su])\n",
    "y = event_ids\n",
    "print(y)\n",
    "# y_encoded = label_encoder.fit_transform(y)\n",
    "# print(y_encoded)"
   ]
  },
  {
   "cell_type": "code",
   "execution_count": 40,
   "id": "ca452e77",
   "metadata": {},
   "outputs": [
    {
     "name": "stdout",
     "output_type": "stream",
     "text": [
      "tensor([1, 0, 0, 0])\n",
      "tensor([[ 0.0180,  0.0233,  0.0219,  ..., -0.1066, -0.0820,  0.0338],\n",
      "        [ 0.0122,  0.0169,  0.0154,  ..., -0.2089, -0.3200, -0.2864],\n",
      "        [-0.0672, -0.0952, -0.0869,  ...,  0.0021, -0.1660, -0.2751]])\n"
     ]
    }
   ],
   "source": [
    "custom_dataset = PNWDataSet(X,y,4)\n",
    "for data,yy in custom_dataset:\n",
    "    print(data)\n",
    "    break"
   ]
  },
  {
   "cell_type": "markdown",
   "id": "afc78577",
   "metadata": {},
   "source": [
    "## Shuffle and split data"
   ]
  },
  {
   "cell_type": "code",
   "execution_count": 91,
   "id": "b0ef0427",
   "metadata": {},
   "outputs": [
    {
     "name": "stdout",
     "output_type": "stream",
     "text": [
      "317 39 41\n",
      "397\n",
      "[317, 80]\n",
      "397\n"
     ]
    }
   ],
   "source": [
    "# Make the data a PNWDataSet\n",
    "custom_dataset = PNWDataSet(X,y,4)\n",
    "# first split train+val\n",
    "# Determine the size of the training set\n",
    "train_size = 317 #int(train_split/100 * len(custom_dataset)) # 80% of the data set\n",
    "val_size = 39#int(val_split/100 * len(custom_dataset)) # 10% of the data set\n",
    "test_size = 41#len(custom_dataset) - train_size - test_size # the rest is test\n",
    "print(train_size,val_size,test_size)\n",
    "print(len(custom_dataset))\n",
    "print([train_size, test_size+val_size])\n",
    "print(train_size+test_size+val_size)\n",
    "train_dataset, val_dataset = random_split(custom_dataset, [train_size, test_size+val_size])\n",
    "# then split val into val+test\n",
    "test_dataset, val_dataset = random_split(val_dataset, [test_size,val_size])"
   ]
  },
  {
   "cell_type": "markdown",
   "id": "50031aa0",
   "metadata": {},
   "source": [
    "## Defining some common parameters for all models"
   ]
  },
  {
   "cell_type": "code",
   "execution_count": 90,
   "id": "d13429d7",
   "metadata": {},
   "outputs": [],
   "source": [
    "\n",
    "# Define the loss function (e.g., Cross-Entropy)\n",
    "criterion = nn.CrossEntropyLoss()\n"
   ]
  },
  {
   "cell_type": "markdown",
   "id": "8f460ef4",
   "metadata": {},
   "source": [
    "## Training and Testing all the models"
   ]
  },
  {
   "cell_type": "code",
   "execution_count": 97,
   "id": "5afc8e2b",
   "metadata": {},
   "outputs": [
    {
     "name": "stdout",
     "output_type": "stream",
     "text": [
      "tensor([0, 1, 0, 0])\n",
      "tensor([[-1.8984e-02, -3.1674e-03,  2.2497e-04,  ...,  3.5832e-04,\n",
      "          2.7497e-04,  3.6148e-04],\n",
      "        [-1.7534e-02,  5.6354e-03,  9.2229e-03,  ...,  6.3808e-04,\n",
      "         -6.9030e-05,  1.0455e-03],\n",
      "        [ 4.0672e-02,  3.6760e-02,  2.5253e-02,  ...,  4.0325e-04,\n",
      "          9.0941e-05,  5.3551e-04]]) tensor([[-1.8984e-02, -3.1674e-03,  2.2497e-04,  ...,  3.5832e-04,\n",
      "          2.7497e-04,  3.6148e-04],\n",
      "        [-1.7534e-02,  5.6354e-03,  9.2229e-03,  ...,  6.3808e-04,\n",
      "         -6.9030e-05,  1.0455e-03],\n",
      "        [ 4.0672e-02,  3.6760e-02,  2.5253e-02,  ...,  4.0325e-04,\n",
      "          9.0941e-05,  5.3551e-04]], device='cuda:0')\n",
      "ready to estimate first\n",
      "torch.Size([3, 5000])\n"
     ]
    },
    {
     "ename": "RuntimeError",
     "evalue": "running_mean should contain 5000 elements not 8",
     "output_type": "error",
     "traceback": [
      "\u001b[0;31m---------------------------------------------------------------------------\u001b[0m",
      "\u001b[0;31mRuntimeError\u001b[0m                              Traceback (most recent call last)",
      "Cell \u001b[0;32mIn[97], line 55\u001b[0m\n\u001b[1;32m     53\u001b[0m \u001b[38;5;28mprint\u001b[39m(\u001b[38;5;124m\"\u001b[39m\u001b[38;5;124mready to estimate first\u001b[39m\u001b[38;5;124m\"\u001b[39m)\n\u001b[1;32m     54\u001b[0m \u001b[38;5;28mprint\u001b[39m(inputs\u001b[38;5;241m.\u001b[39mshape)\n\u001b[0;32m---> 55\u001b[0m outputs \u001b[38;5;241m=\u001b[39m \u001b[43mmodel\u001b[49m\u001b[43m(\u001b[49m\u001b[43minputs\u001b[49m\u001b[43m)\u001b[49m\n\u001b[1;32m     56\u001b[0m \u001b[38;5;28mprint\u001b[39m(outputs)\n\u001b[1;32m     57\u001b[0m loss \u001b[38;5;241m=\u001b[39m criterion(outputs, labels)\n",
      "File \u001b[0;32m~/miniconda3/envs/pnw_class/lib/python3.10/site-packages/torch/nn/modules/module.py:1532\u001b[0m, in \u001b[0;36mModule._wrapped_call_impl\u001b[0;34m(self, *args, **kwargs)\u001b[0m\n\u001b[1;32m   1530\u001b[0m     \u001b[38;5;28;01mreturn\u001b[39;00m \u001b[38;5;28mself\u001b[39m\u001b[38;5;241m.\u001b[39m_compiled_call_impl(\u001b[38;5;241m*\u001b[39margs, \u001b[38;5;241m*\u001b[39m\u001b[38;5;241m*\u001b[39mkwargs)  \u001b[38;5;66;03m# type: ignore[misc]\u001b[39;00m\n\u001b[1;32m   1531\u001b[0m \u001b[38;5;28;01melse\u001b[39;00m:\n\u001b[0;32m-> 1532\u001b[0m     \u001b[38;5;28;01mreturn\u001b[39;00m \u001b[38;5;28;43mself\u001b[39;49m\u001b[38;5;241;43m.\u001b[39;49m\u001b[43m_call_impl\u001b[49m\u001b[43m(\u001b[49m\u001b[38;5;241;43m*\u001b[39;49m\u001b[43margs\u001b[49m\u001b[43m,\u001b[49m\u001b[43m \u001b[49m\u001b[38;5;241;43m*\u001b[39;49m\u001b[38;5;241;43m*\u001b[39;49m\u001b[43mkwargs\u001b[49m\u001b[43m)\u001b[49m\n",
      "File \u001b[0;32m~/miniconda3/envs/pnw_class/lib/python3.10/site-packages/torch/nn/modules/module.py:1541\u001b[0m, in \u001b[0;36mModule._call_impl\u001b[0;34m(self, *args, **kwargs)\u001b[0m\n\u001b[1;32m   1536\u001b[0m \u001b[38;5;66;03m# If we don't have any hooks, we want to skip the rest of the logic in\u001b[39;00m\n\u001b[1;32m   1537\u001b[0m \u001b[38;5;66;03m# this function, and just call forward.\u001b[39;00m\n\u001b[1;32m   1538\u001b[0m \u001b[38;5;28;01mif\u001b[39;00m \u001b[38;5;129;01mnot\u001b[39;00m (\u001b[38;5;28mself\u001b[39m\u001b[38;5;241m.\u001b[39m_backward_hooks \u001b[38;5;129;01mor\u001b[39;00m \u001b[38;5;28mself\u001b[39m\u001b[38;5;241m.\u001b[39m_backward_pre_hooks \u001b[38;5;129;01mor\u001b[39;00m \u001b[38;5;28mself\u001b[39m\u001b[38;5;241m.\u001b[39m_forward_hooks \u001b[38;5;129;01mor\u001b[39;00m \u001b[38;5;28mself\u001b[39m\u001b[38;5;241m.\u001b[39m_forward_pre_hooks\n\u001b[1;32m   1539\u001b[0m         \u001b[38;5;129;01mor\u001b[39;00m _global_backward_pre_hooks \u001b[38;5;129;01mor\u001b[39;00m _global_backward_hooks\n\u001b[1;32m   1540\u001b[0m         \u001b[38;5;129;01mor\u001b[39;00m _global_forward_hooks \u001b[38;5;129;01mor\u001b[39;00m _global_forward_pre_hooks):\n\u001b[0;32m-> 1541\u001b[0m     \u001b[38;5;28;01mreturn\u001b[39;00m \u001b[43mforward_call\u001b[49m\u001b[43m(\u001b[49m\u001b[38;5;241;43m*\u001b[39;49m\u001b[43margs\u001b[49m\u001b[43m,\u001b[49m\u001b[43m \u001b[49m\u001b[38;5;241;43m*\u001b[39;49m\u001b[38;5;241;43m*\u001b[39;49m\u001b[43mkwargs\u001b[49m\u001b[43m)\u001b[49m\n\u001b[1;32m   1543\u001b[0m \u001b[38;5;28;01mtry\u001b[39;00m:\n\u001b[1;32m   1544\u001b[0m     result \u001b[38;5;241m=\u001b[39m \u001b[38;5;28;01mNone\u001b[39;00m\n",
      "Cell \u001b[0;32mIn[75], line 40\u001b[0m, in \u001b[0;36mSeismicCNN.forward\u001b[0;34m(self, x)\u001b[0m\n\u001b[1;32m     39\u001b[0m \u001b[38;5;28;01mdef\u001b[39;00m \u001b[38;5;21mforward\u001b[39m(\u001b[38;5;28mself\u001b[39m, x):\n\u001b[0;32m---> 40\u001b[0m     x \u001b[38;5;241m=\u001b[39m F\u001b[38;5;241m.\u001b[39mrelu(\u001b[38;5;28;43mself\u001b[39;49m\u001b[38;5;241;43m.\u001b[39;49m\u001b[43mbn1\u001b[49m\u001b[43m(\u001b[49m\u001b[38;5;28;43mself\u001b[39;49m\u001b[38;5;241;43m.\u001b[39;49m\u001b[43mconv1\u001b[49m\u001b[43m(\u001b[49m\u001b[43mx\u001b[49m\u001b[43m)\u001b[49m\u001b[43m)\u001b[49m) \u001b[38;5;66;03m# feature extraction, output size of 8,5000\u001b[39;00m\n\u001b[1;32m     41\u001b[0m     x \u001b[38;5;241m=\u001b[39m \u001b[38;5;28mself\u001b[39m\u001b[38;5;241m.\u001b[39mpool1(F\u001b[38;5;241m.\u001b[39mrelu(\u001b[38;5;28mself\u001b[39m\u001b[38;5;241m.\u001b[39mbn2(\u001b[38;5;28mself\u001b[39m\u001b[38;5;241m.\u001b[39mconv2(x)))) \u001b[38;5;66;03m# feature extraction, output size of 8,1250 \u001b[39;00m\n\u001b[1;32m     42\u001b[0m     \u001b[38;5;66;03m# max pooling is done at this point, but after the 2 convolutions to avoid aliasing\u001b[39;00m\n",
      "File \u001b[0;32m~/miniconda3/envs/pnw_class/lib/python3.10/site-packages/torch/nn/modules/module.py:1532\u001b[0m, in \u001b[0;36mModule._wrapped_call_impl\u001b[0;34m(self, *args, **kwargs)\u001b[0m\n\u001b[1;32m   1530\u001b[0m     \u001b[38;5;28;01mreturn\u001b[39;00m \u001b[38;5;28mself\u001b[39m\u001b[38;5;241m.\u001b[39m_compiled_call_impl(\u001b[38;5;241m*\u001b[39margs, \u001b[38;5;241m*\u001b[39m\u001b[38;5;241m*\u001b[39mkwargs)  \u001b[38;5;66;03m# type: ignore[misc]\u001b[39;00m\n\u001b[1;32m   1531\u001b[0m \u001b[38;5;28;01melse\u001b[39;00m:\n\u001b[0;32m-> 1532\u001b[0m     \u001b[38;5;28;01mreturn\u001b[39;00m \u001b[38;5;28;43mself\u001b[39;49m\u001b[38;5;241;43m.\u001b[39;49m\u001b[43m_call_impl\u001b[49m\u001b[43m(\u001b[49m\u001b[38;5;241;43m*\u001b[39;49m\u001b[43margs\u001b[49m\u001b[43m,\u001b[49m\u001b[43m \u001b[49m\u001b[38;5;241;43m*\u001b[39;49m\u001b[38;5;241;43m*\u001b[39;49m\u001b[43mkwargs\u001b[49m\u001b[43m)\u001b[49m\n",
      "File \u001b[0;32m~/miniconda3/envs/pnw_class/lib/python3.10/site-packages/torch/nn/modules/module.py:1541\u001b[0m, in \u001b[0;36mModule._call_impl\u001b[0;34m(self, *args, **kwargs)\u001b[0m\n\u001b[1;32m   1536\u001b[0m \u001b[38;5;66;03m# If we don't have any hooks, we want to skip the rest of the logic in\u001b[39;00m\n\u001b[1;32m   1537\u001b[0m \u001b[38;5;66;03m# this function, and just call forward.\u001b[39;00m\n\u001b[1;32m   1538\u001b[0m \u001b[38;5;28;01mif\u001b[39;00m \u001b[38;5;129;01mnot\u001b[39;00m (\u001b[38;5;28mself\u001b[39m\u001b[38;5;241m.\u001b[39m_backward_hooks \u001b[38;5;129;01mor\u001b[39;00m \u001b[38;5;28mself\u001b[39m\u001b[38;5;241m.\u001b[39m_backward_pre_hooks \u001b[38;5;129;01mor\u001b[39;00m \u001b[38;5;28mself\u001b[39m\u001b[38;5;241m.\u001b[39m_forward_hooks \u001b[38;5;129;01mor\u001b[39;00m \u001b[38;5;28mself\u001b[39m\u001b[38;5;241m.\u001b[39m_forward_pre_hooks\n\u001b[1;32m   1539\u001b[0m         \u001b[38;5;129;01mor\u001b[39;00m _global_backward_pre_hooks \u001b[38;5;129;01mor\u001b[39;00m _global_backward_hooks\n\u001b[1;32m   1540\u001b[0m         \u001b[38;5;129;01mor\u001b[39;00m _global_forward_hooks \u001b[38;5;129;01mor\u001b[39;00m _global_forward_pre_hooks):\n\u001b[0;32m-> 1541\u001b[0m     \u001b[38;5;28;01mreturn\u001b[39;00m \u001b[43mforward_call\u001b[49m\u001b[43m(\u001b[49m\u001b[38;5;241;43m*\u001b[39;49m\u001b[43margs\u001b[49m\u001b[43m,\u001b[49m\u001b[43m \u001b[49m\u001b[38;5;241;43m*\u001b[39;49m\u001b[38;5;241;43m*\u001b[39;49m\u001b[43mkwargs\u001b[49m\u001b[43m)\u001b[49m\n\u001b[1;32m   1543\u001b[0m \u001b[38;5;28;01mtry\u001b[39;00m:\n\u001b[1;32m   1544\u001b[0m     result \u001b[38;5;241m=\u001b[39m \u001b[38;5;28;01mNone\u001b[39;00m\n",
      "File \u001b[0;32m~/miniconda3/envs/pnw_class/lib/python3.10/site-packages/torch/nn/modules/batchnorm.py:175\u001b[0m, in \u001b[0;36m_BatchNorm.forward\u001b[0;34m(self, input)\u001b[0m\n\u001b[1;32m    168\u001b[0m     bn_training \u001b[38;5;241m=\u001b[39m (\u001b[38;5;28mself\u001b[39m\u001b[38;5;241m.\u001b[39mrunning_mean \u001b[38;5;129;01mis\u001b[39;00m \u001b[38;5;28;01mNone\u001b[39;00m) \u001b[38;5;129;01mand\u001b[39;00m (\u001b[38;5;28mself\u001b[39m\u001b[38;5;241m.\u001b[39mrunning_var \u001b[38;5;129;01mis\u001b[39;00m \u001b[38;5;28;01mNone\u001b[39;00m)\n\u001b[1;32m    170\u001b[0m \u001b[38;5;250m\u001b[39m\u001b[38;5;124mr\u001b[39m\u001b[38;5;124;03m\"\"\"\u001b[39;00m\n\u001b[1;32m    171\u001b[0m \u001b[38;5;124;03mBuffers are only updated if they are to be tracked and we are in training mode. Thus they only need to be\u001b[39;00m\n\u001b[1;32m    172\u001b[0m \u001b[38;5;124;03mpassed when the update should occur (i.e. in training mode when they are tracked), or when buffer stats are\u001b[39;00m\n\u001b[1;32m    173\u001b[0m \u001b[38;5;124;03mused for normalization (i.e. in eval mode when buffers are not None).\u001b[39;00m\n\u001b[1;32m    174\u001b[0m \u001b[38;5;124;03m\"\"\"\u001b[39;00m\n\u001b[0;32m--> 175\u001b[0m \u001b[38;5;28;01mreturn\u001b[39;00m \u001b[43mF\u001b[49m\u001b[38;5;241;43m.\u001b[39;49m\u001b[43mbatch_norm\u001b[49m\u001b[43m(\u001b[49m\n\u001b[1;32m    176\u001b[0m \u001b[43m    \u001b[49m\u001b[38;5;28;43minput\u001b[39;49m\u001b[43m,\u001b[49m\n\u001b[1;32m    177\u001b[0m \u001b[43m    \u001b[49m\u001b[38;5;66;43;03m# If buffers are not to be tracked, ensure that they won't be updated\u001b[39;49;00m\n\u001b[1;32m    178\u001b[0m \u001b[43m    \u001b[49m\u001b[38;5;28;43mself\u001b[39;49m\u001b[38;5;241;43m.\u001b[39;49m\u001b[43mrunning_mean\u001b[49m\n\u001b[1;32m    179\u001b[0m \u001b[43m    \u001b[49m\u001b[38;5;28;43;01mif\u001b[39;49;00m\u001b[43m \u001b[49m\u001b[38;5;129;43;01mnot\u001b[39;49;00m\u001b[43m \u001b[49m\u001b[38;5;28;43mself\u001b[39;49m\u001b[38;5;241;43m.\u001b[39;49m\u001b[43mtraining\u001b[49m\u001b[43m \u001b[49m\u001b[38;5;129;43;01mor\u001b[39;49;00m\u001b[43m \u001b[49m\u001b[38;5;28;43mself\u001b[39;49m\u001b[38;5;241;43m.\u001b[39;49m\u001b[43mtrack_running_stats\u001b[49m\n\u001b[1;32m    180\u001b[0m \u001b[43m    \u001b[49m\u001b[38;5;28;43;01melse\u001b[39;49;00m\u001b[43m \u001b[49m\u001b[38;5;28;43;01mNone\u001b[39;49;00m\u001b[43m,\u001b[49m\n\u001b[1;32m    181\u001b[0m \u001b[43m    \u001b[49m\u001b[38;5;28;43mself\u001b[39;49m\u001b[38;5;241;43m.\u001b[39;49m\u001b[43mrunning_var\u001b[49m\u001b[43m \u001b[49m\u001b[38;5;28;43;01mif\u001b[39;49;00m\u001b[43m \u001b[49m\u001b[38;5;129;43;01mnot\u001b[39;49;00m\u001b[43m \u001b[49m\u001b[38;5;28;43mself\u001b[39;49m\u001b[38;5;241;43m.\u001b[39;49m\u001b[43mtraining\u001b[49m\u001b[43m \u001b[49m\u001b[38;5;129;43;01mor\u001b[39;49;00m\u001b[43m \u001b[49m\u001b[38;5;28;43mself\u001b[39;49m\u001b[38;5;241;43m.\u001b[39;49m\u001b[43mtrack_running_stats\u001b[49m\u001b[43m \u001b[49m\u001b[38;5;28;43;01melse\u001b[39;49;00m\u001b[43m \u001b[49m\u001b[38;5;28;43;01mNone\u001b[39;49;00m\u001b[43m,\u001b[49m\n\u001b[1;32m    182\u001b[0m \u001b[43m    \u001b[49m\u001b[38;5;28;43mself\u001b[39;49m\u001b[38;5;241;43m.\u001b[39;49m\u001b[43mweight\u001b[49m\u001b[43m,\u001b[49m\n\u001b[1;32m    183\u001b[0m \u001b[43m    \u001b[49m\u001b[38;5;28;43mself\u001b[39;49m\u001b[38;5;241;43m.\u001b[39;49m\u001b[43mbias\u001b[49m\u001b[43m,\u001b[49m\n\u001b[1;32m    184\u001b[0m \u001b[43m    \u001b[49m\u001b[43mbn_training\u001b[49m\u001b[43m,\u001b[49m\n\u001b[1;32m    185\u001b[0m \u001b[43m    \u001b[49m\u001b[43mexponential_average_factor\u001b[49m\u001b[43m,\u001b[49m\n\u001b[1;32m    186\u001b[0m \u001b[43m    \u001b[49m\u001b[38;5;28;43mself\u001b[39;49m\u001b[38;5;241;43m.\u001b[39;49m\u001b[43meps\u001b[49m\u001b[43m,\u001b[49m\n\u001b[1;32m    187\u001b[0m \u001b[43m\u001b[49m\u001b[43m)\u001b[49m\n",
      "File \u001b[0;32m~/miniconda3/envs/pnw_class/lib/python3.10/site-packages/torch/nn/functional.py:2509\u001b[0m, in \u001b[0;36mbatch_norm\u001b[0;34m(input, running_mean, running_var, weight, bias, training, momentum, eps)\u001b[0m\n\u001b[1;32m   2506\u001b[0m \u001b[38;5;28;01mif\u001b[39;00m training:\n\u001b[1;32m   2507\u001b[0m     _verify_batch_size(\u001b[38;5;28minput\u001b[39m\u001b[38;5;241m.\u001b[39msize())\n\u001b[0;32m-> 2509\u001b[0m \u001b[38;5;28;01mreturn\u001b[39;00m \u001b[43mtorch\u001b[49m\u001b[38;5;241;43m.\u001b[39;49m\u001b[43mbatch_norm\u001b[49m\u001b[43m(\u001b[49m\n\u001b[1;32m   2510\u001b[0m \u001b[43m    \u001b[49m\u001b[38;5;28;43minput\u001b[39;49m\u001b[43m,\u001b[49m\u001b[43m \u001b[49m\u001b[43mweight\u001b[49m\u001b[43m,\u001b[49m\u001b[43m \u001b[49m\u001b[43mbias\u001b[49m\u001b[43m,\u001b[49m\u001b[43m \u001b[49m\u001b[43mrunning_mean\u001b[49m\u001b[43m,\u001b[49m\u001b[43m \u001b[49m\u001b[43mrunning_var\u001b[49m\u001b[43m,\u001b[49m\u001b[43m \u001b[49m\u001b[43mtraining\u001b[49m\u001b[43m,\u001b[49m\u001b[43m \u001b[49m\u001b[43mmomentum\u001b[49m\u001b[43m,\u001b[49m\u001b[43m \u001b[49m\u001b[43meps\u001b[49m\u001b[43m,\u001b[49m\u001b[43m \u001b[49m\u001b[43mtorch\u001b[49m\u001b[38;5;241;43m.\u001b[39;49m\u001b[43mbackends\u001b[49m\u001b[38;5;241;43m.\u001b[39;49m\u001b[43mcudnn\u001b[49m\u001b[38;5;241;43m.\u001b[39;49m\u001b[43menabled\u001b[49m\n\u001b[1;32m   2511\u001b[0m \u001b[43m\u001b[49m\u001b[43m)\u001b[49m\n",
      "\u001b[0;31mRuntimeError\u001b[0m: running_mean should contain 5000 elements not 8"
     ]
    }
   ],
   "source": [
    "train_loader = train_dataset\n",
    "val_loader = val_dataset\n",
    "# def train_model(model, train_loader, val_loader,  n_epochs=100, batch_size=32,learning_rate=0.001,criterion=nn.CrossEntropyLoss()):\n",
    "# \"\"\"\n",
    "# Function to train and evaluate the defined model.\n",
    "\n",
    "# Parameters:\n",
    "#     model (torch.nn.Module): The neural network model.\n",
    "#     train_loader (torch.utils.data.DataLoader): DataLoader for training data.\n",
    "#     val_dataset (torch.utils.data.Dataset): Validation dataset.\n",
    "#     val_loader (torch.utils.data.DataLoader): DataLoader for validation data.\n",
    "#     optimizer (torch.optim.Optimizer): Optimizer for training the model.\n",
    "#     n_epochs (int): Number of training epochs.\n",
    "#     batch_size (int): Batch size for training.\n",
    "#     number_input (int): Number of points in the input data.\n",
    "#     num_channels (int): Number of channels in the input data.\n",
    "\n",
    "# Returns:\n",
    "#     accuracy_list (list): List of accuracies computed from each epoch.\n",
    "#     train_loss_list (list): List of training losses from each epoch.\n",
    "#     val_loss_list (list): List of validation losses from each epoch.\n",
    "#     y_pred (list): List of predicted values.\n",
    "#     y_true (list): List of true values.\n",
    "# \"\"\"\n",
    "\n",
    "optimizer = torch.optim.Adam(model.parameters(), lr=learning_rate)\n",
    "\n",
    "N_test = len(val_dataset)\n",
    "\n",
    "# to store the accuracies computed from each epoch.\n",
    "#     accuracy_list = []\n",
    "\n",
    "# # Save loss and error for plotting\n",
    "loss_time = np.zeros(n_epochs)\n",
    "accuracy_time = np.zeros(n_epochs)\n",
    "\n",
    "# to store the predicted values\n",
    "#     y_pred = []\n",
    "#     y_true = []\n",
    "\n",
    "for epoch in range(n_epochs):\n",
    "    running_loss = 0\n",
    "    for data in train_loader:\n",
    "        inputs, labels = data[0].to(device), data[1].to(device)\n",
    "#         print(data)\n",
    "        print(data[0],inputs)\n",
    "        inputs = inputs.float()\n",
    "        labels = labels.long()\n",
    "\n",
    "        \n",
    "\n",
    "        # Set the parameter gradients to zero\n",
    "        optimizer.zero_grad()\n",
    "        print(\"ready to estimate first\")\n",
    "        print(inputs.shape)\n",
    "        outputs = model(inputs)\n",
    "        print(outputs)\n",
    "        loss = criterion(outputs, labels)\n",
    "        print(loss)\n",
    "        # computing the gradients\n",
    "        loss.backward()\n",
    "\n",
    "        # updating the parameters\n",
    "        optimizer.step()\n",
    "\n",
    "        running_loss += loss.item()\n",
    "\n",
    "    # updating the training loss list\n",
    "    loss_time[epoch] = running_loss/len(trainloader)\n",
    "\n",
    "         # We evaluate the model, so we do not need the gradient\n",
    "    with torch.no_grad(): # Context-manager that disabled gradient calculation.\n",
    "        # Loop on samples in test set\n",
    "        for data in trainloader:\n",
    "            # Get the sample and modify the format for PyTorch\n",
    "            inputs, labels = data[0].to(device), data[1].to(device)\n",
    "            inputs = inputs.float() \n",
    "            labels = labels.long()\n",
    "            # Use model for sample in the test set\n",
    "            outputs = model(inputs)\n",
    "            # Compare predicted label and true label\n",
    "            _, predicted = torch.max(outputs.data, 1)\n",
    "            total += labels.size(0)\n",
    "            correct += (predicted == labels).sum().item()\n",
    "    # Save error at the end of each epochs\n",
    "    accuracy_time[epoch] = 100 * correct / total\n",
    "\n",
    "# Print intermediate results on screen\n",
    "if testloader is not None:\n",
    "    print('[Epoch %d] loss: %.3f - accuracy: %.3f' %\n",
    "      (epoch + 1, running_loss/len(trainloader), 100 * correct / total))\n",
    "else:\n",
    "    print('[Epoch %d] loss: %.3f' %\n",
    "      (epoch + 1, running_loss/len(trainloader)))\n",
    "\n"
   ]
  },
  {
   "cell_type": "code",
   "execution_count": null,
   "id": "ae3d2ed6",
   "metadata": {},
   "outputs": [],
   "source": [
    "model = SeismicCNN(num_classes=4, num_channels=3)\n",
    "dummy_input = torch.randn(1, 3, 5000)\n",
    "output = model(dummy_input)"
   ]
  },
  {
   "cell_type": "code",
   "execution_count": 84,
   "id": "c6095c06",
   "metadata": {},
   "outputs": [
    {
     "name": "stdout",
     "output_type": "stream",
     "text": [
      "tensor([0, 0, 1, 0])\n"
     ]
    },
    {
     "ename": "RuntimeError",
     "evalue": "running_mean should contain 5000 elements not 8",
     "output_type": "error",
     "traceback": [
      "\u001b[0;31m---------------------------------------------------------------------------\u001b[0m",
      "\u001b[0;31mRuntimeError\u001b[0m                              Traceback (most recent call last)",
      "Cell \u001b[0;32mIn[84], line 1\u001b[0m\n\u001b[0;32m----> 1\u001b[0m (loss, accuracy) \u001b[38;5;241m=\u001b[39m \u001b[43mtrain_model\u001b[49m\u001b[43m(\u001b[49m\u001b[43mmodel\u001b[49m\u001b[43m,\u001b[49m\u001b[43mtrain_dataset\u001b[49m\u001b[43m,\u001b[49m\u001b[43mval_dataset\u001b[49m\u001b[43m)\u001b[49m\n",
      "Cell \u001b[0;32mIn[82], line 50\u001b[0m, in \u001b[0;36mtrain_model\u001b[0;34m(model, train_loader, val_loader, n_epochs, batch_size, learning_rate, criterion)\u001b[0m\n\u001b[1;32m     47\u001b[0m \u001b[38;5;66;03m# Set the parameter gradients to zero\u001b[39;00m\n\u001b[1;32m     48\u001b[0m optimizer\u001b[38;5;241m.\u001b[39mzero_grad()\n\u001b[0;32m---> 50\u001b[0m outputs \u001b[38;5;241m=\u001b[39m \u001b[43mmodel\u001b[49m\u001b[43m(\u001b[49m\u001b[43minputs\u001b[49m\u001b[43m)\u001b[49m\n\u001b[1;32m     52\u001b[0m loss \u001b[38;5;241m=\u001b[39m criterion(outputs, labels)\n\u001b[1;32m     54\u001b[0m \u001b[38;5;66;03m# computing the gradients\u001b[39;00m\n",
      "File \u001b[0;32m~/miniconda3/envs/pnw_class/lib/python3.10/site-packages/torch/nn/modules/module.py:1532\u001b[0m, in \u001b[0;36mModule._wrapped_call_impl\u001b[0;34m(self, *args, **kwargs)\u001b[0m\n\u001b[1;32m   1530\u001b[0m     \u001b[38;5;28;01mreturn\u001b[39;00m \u001b[38;5;28mself\u001b[39m\u001b[38;5;241m.\u001b[39m_compiled_call_impl(\u001b[38;5;241m*\u001b[39margs, \u001b[38;5;241m*\u001b[39m\u001b[38;5;241m*\u001b[39mkwargs)  \u001b[38;5;66;03m# type: ignore[misc]\u001b[39;00m\n\u001b[1;32m   1531\u001b[0m \u001b[38;5;28;01melse\u001b[39;00m:\n\u001b[0;32m-> 1532\u001b[0m     \u001b[38;5;28;01mreturn\u001b[39;00m \u001b[38;5;28;43mself\u001b[39;49m\u001b[38;5;241;43m.\u001b[39;49m\u001b[43m_call_impl\u001b[49m\u001b[43m(\u001b[49m\u001b[38;5;241;43m*\u001b[39;49m\u001b[43margs\u001b[49m\u001b[43m,\u001b[49m\u001b[43m \u001b[49m\u001b[38;5;241;43m*\u001b[39;49m\u001b[38;5;241;43m*\u001b[39;49m\u001b[43mkwargs\u001b[49m\u001b[43m)\u001b[49m\n",
      "File \u001b[0;32m~/miniconda3/envs/pnw_class/lib/python3.10/site-packages/torch/nn/modules/module.py:1541\u001b[0m, in \u001b[0;36mModule._call_impl\u001b[0;34m(self, *args, **kwargs)\u001b[0m\n\u001b[1;32m   1536\u001b[0m \u001b[38;5;66;03m# If we don't have any hooks, we want to skip the rest of the logic in\u001b[39;00m\n\u001b[1;32m   1537\u001b[0m \u001b[38;5;66;03m# this function, and just call forward.\u001b[39;00m\n\u001b[1;32m   1538\u001b[0m \u001b[38;5;28;01mif\u001b[39;00m \u001b[38;5;129;01mnot\u001b[39;00m (\u001b[38;5;28mself\u001b[39m\u001b[38;5;241m.\u001b[39m_backward_hooks \u001b[38;5;129;01mor\u001b[39;00m \u001b[38;5;28mself\u001b[39m\u001b[38;5;241m.\u001b[39m_backward_pre_hooks \u001b[38;5;129;01mor\u001b[39;00m \u001b[38;5;28mself\u001b[39m\u001b[38;5;241m.\u001b[39m_forward_hooks \u001b[38;5;129;01mor\u001b[39;00m \u001b[38;5;28mself\u001b[39m\u001b[38;5;241m.\u001b[39m_forward_pre_hooks\n\u001b[1;32m   1539\u001b[0m         \u001b[38;5;129;01mor\u001b[39;00m _global_backward_pre_hooks \u001b[38;5;129;01mor\u001b[39;00m _global_backward_hooks\n\u001b[1;32m   1540\u001b[0m         \u001b[38;5;129;01mor\u001b[39;00m _global_forward_hooks \u001b[38;5;129;01mor\u001b[39;00m _global_forward_pre_hooks):\n\u001b[0;32m-> 1541\u001b[0m     \u001b[38;5;28;01mreturn\u001b[39;00m \u001b[43mforward_call\u001b[49m\u001b[43m(\u001b[49m\u001b[38;5;241;43m*\u001b[39;49m\u001b[43margs\u001b[49m\u001b[43m,\u001b[49m\u001b[43m \u001b[49m\u001b[38;5;241;43m*\u001b[39;49m\u001b[38;5;241;43m*\u001b[39;49m\u001b[43mkwargs\u001b[49m\u001b[43m)\u001b[49m\n\u001b[1;32m   1543\u001b[0m \u001b[38;5;28;01mtry\u001b[39;00m:\n\u001b[1;32m   1544\u001b[0m     result \u001b[38;5;241m=\u001b[39m \u001b[38;5;28;01mNone\u001b[39;00m\n",
      "Cell \u001b[0;32mIn[75], line 40\u001b[0m, in \u001b[0;36mSeismicCNN.forward\u001b[0;34m(self, x)\u001b[0m\n\u001b[1;32m     39\u001b[0m \u001b[38;5;28;01mdef\u001b[39;00m \u001b[38;5;21mforward\u001b[39m(\u001b[38;5;28mself\u001b[39m, x):\n\u001b[0;32m---> 40\u001b[0m     x \u001b[38;5;241m=\u001b[39m F\u001b[38;5;241m.\u001b[39mrelu(\u001b[38;5;28;43mself\u001b[39;49m\u001b[38;5;241;43m.\u001b[39;49m\u001b[43mbn1\u001b[49m\u001b[43m(\u001b[49m\u001b[38;5;28;43mself\u001b[39;49m\u001b[38;5;241;43m.\u001b[39;49m\u001b[43mconv1\u001b[49m\u001b[43m(\u001b[49m\u001b[43mx\u001b[49m\u001b[43m)\u001b[49m\u001b[43m)\u001b[49m) \u001b[38;5;66;03m# feature extraction, output size of 8,5000\u001b[39;00m\n\u001b[1;32m     41\u001b[0m     x \u001b[38;5;241m=\u001b[39m \u001b[38;5;28mself\u001b[39m\u001b[38;5;241m.\u001b[39mpool1(F\u001b[38;5;241m.\u001b[39mrelu(\u001b[38;5;28mself\u001b[39m\u001b[38;5;241m.\u001b[39mbn2(\u001b[38;5;28mself\u001b[39m\u001b[38;5;241m.\u001b[39mconv2(x)))) \u001b[38;5;66;03m# feature extraction, output size of 8,1250 \u001b[39;00m\n\u001b[1;32m     42\u001b[0m     \u001b[38;5;66;03m# max pooling is done at this point, but after the 2 convolutions to avoid aliasing\u001b[39;00m\n",
      "File \u001b[0;32m~/miniconda3/envs/pnw_class/lib/python3.10/site-packages/torch/nn/modules/module.py:1532\u001b[0m, in \u001b[0;36mModule._wrapped_call_impl\u001b[0;34m(self, *args, **kwargs)\u001b[0m\n\u001b[1;32m   1530\u001b[0m     \u001b[38;5;28;01mreturn\u001b[39;00m \u001b[38;5;28mself\u001b[39m\u001b[38;5;241m.\u001b[39m_compiled_call_impl(\u001b[38;5;241m*\u001b[39margs, \u001b[38;5;241m*\u001b[39m\u001b[38;5;241m*\u001b[39mkwargs)  \u001b[38;5;66;03m# type: ignore[misc]\u001b[39;00m\n\u001b[1;32m   1531\u001b[0m \u001b[38;5;28;01melse\u001b[39;00m:\n\u001b[0;32m-> 1532\u001b[0m     \u001b[38;5;28;01mreturn\u001b[39;00m \u001b[38;5;28;43mself\u001b[39;49m\u001b[38;5;241;43m.\u001b[39;49m\u001b[43m_call_impl\u001b[49m\u001b[43m(\u001b[49m\u001b[38;5;241;43m*\u001b[39;49m\u001b[43margs\u001b[49m\u001b[43m,\u001b[49m\u001b[43m \u001b[49m\u001b[38;5;241;43m*\u001b[39;49m\u001b[38;5;241;43m*\u001b[39;49m\u001b[43mkwargs\u001b[49m\u001b[43m)\u001b[49m\n",
      "File \u001b[0;32m~/miniconda3/envs/pnw_class/lib/python3.10/site-packages/torch/nn/modules/module.py:1541\u001b[0m, in \u001b[0;36mModule._call_impl\u001b[0;34m(self, *args, **kwargs)\u001b[0m\n\u001b[1;32m   1536\u001b[0m \u001b[38;5;66;03m# If we don't have any hooks, we want to skip the rest of the logic in\u001b[39;00m\n\u001b[1;32m   1537\u001b[0m \u001b[38;5;66;03m# this function, and just call forward.\u001b[39;00m\n\u001b[1;32m   1538\u001b[0m \u001b[38;5;28;01mif\u001b[39;00m \u001b[38;5;129;01mnot\u001b[39;00m (\u001b[38;5;28mself\u001b[39m\u001b[38;5;241m.\u001b[39m_backward_hooks \u001b[38;5;129;01mor\u001b[39;00m \u001b[38;5;28mself\u001b[39m\u001b[38;5;241m.\u001b[39m_backward_pre_hooks \u001b[38;5;129;01mor\u001b[39;00m \u001b[38;5;28mself\u001b[39m\u001b[38;5;241m.\u001b[39m_forward_hooks \u001b[38;5;129;01mor\u001b[39;00m \u001b[38;5;28mself\u001b[39m\u001b[38;5;241m.\u001b[39m_forward_pre_hooks\n\u001b[1;32m   1539\u001b[0m         \u001b[38;5;129;01mor\u001b[39;00m _global_backward_pre_hooks \u001b[38;5;129;01mor\u001b[39;00m _global_backward_hooks\n\u001b[1;32m   1540\u001b[0m         \u001b[38;5;129;01mor\u001b[39;00m _global_forward_hooks \u001b[38;5;129;01mor\u001b[39;00m _global_forward_pre_hooks):\n\u001b[0;32m-> 1541\u001b[0m     \u001b[38;5;28;01mreturn\u001b[39;00m \u001b[43mforward_call\u001b[49m\u001b[43m(\u001b[49m\u001b[38;5;241;43m*\u001b[39;49m\u001b[43margs\u001b[49m\u001b[43m,\u001b[49m\u001b[43m \u001b[49m\u001b[38;5;241;43m*\u001b[39;49m\u001b[38;5;241;43m*\u001b[39;49m\u001b[43mkwargs\u001b[49m\u001b[43m)\u001b[49m\n\u001b[1;32m   1543\u001b[0m \u001b[38;5;28;01mtry\u001b[39;00m:\n\u001b[1;32m   1544\u001b[0m     result \u001b[38;5;241m=\u001b[39m \u001b[38;5;28;01mNone\u001b[39;00m\n",
      "File \u001b[0;32m~/miniconda3/envs/pnw_class/lib/python3.10/site-packages/torch/nn/modules/batchnorm.py:175\u001b[0m, in \u001b[0;36m_BatchNorm.forward\u001b[0;34m(self, input)\u001b[0m\n\u001b[1;32m    168\u001b[0m     bn_training \u001b[38;5;241m=\u001b[39m (\u001b[38;5;28mself\u001b[39m\u001b[38;5;241m.\u001b[39mrunning_mean \u001b[38;5;129;01mis\u001b[39;00m \u001b[38;5;28;01mNone\u001b[39;00m) \u001b[38;5;129;01mand\u001b[39;00m (\u001b[38;5;28mself\u001b[39m\u001b[38;5;241m.\u001b[39mrunning_var \u001b[38;5;129;01mis\u001b[39;00m \u001b[38;5;28;01mNone\u001b[39;00m)\n\u001b[1;32m    170\u001b[0m \u001b[38;5;250m\u001b[39m\u001b[38;5;124mr\u001b[39m\u001b[38;5;124;03m\"\"\"\u001b[39;00m\n\u001b[1;32m    171\u001b[0m \u001b[38;5;124;03mBuffers are only updated if they are to be tracked and we are in training mode. Thus they only need to be\u001b[39;00m\n\u001b[1;32m    172\u001b[0m \u001b[38;5;124;03mpassed when the update should occur (i.e. in training mode when they are tracked), or when buffer stats are\u001b[39;00m\n\u001b[1;32m    173\u001b[0m \u001b[38;5;124;03mused for normalization (i.e. in eval mode when buffers are not None).\u001b[39;00m\n\u001b[1;32m    174\u001b[0m \u001b[38;5;124;03m\"\"\"\u001b[39;00m\n\u001b[0;32m--> 175\u001b[0m \u001b[38;5;28;01mreturn\u001b[39;00m \u001b[43mF\u001b[49m\u001b[38;5;241;43m.\u001b[39;49m\u001b[43mbatch_norm\u001b[49m\u001b[43m(\u001b[49m\n\u001b[1;32m    176\u001b[0m \u001b[43m    \u001b[49m\u001b[38;5;28;43minput\u001b[39;49m\u001b[43m,\u001b[49m\n\u001b[1;32m    177\u001b[0m \u001b[43m    \u001b[49m\u001b[38;5;66;43;03m# If buffers are not to be tracked, ensure that they won't be updated\u001b[39;49;00m\n\u001b[1;32m    178\u001b[0m \u001b[43m    \u001b[49m\u001b[38;5;28;43mself\u001b[39;49m\u001b[38;5;241;43m.\u001b[39;49m\u001b[43mrunning_mean\u001b[49m\n\u001b[1;32m    179\u001b[0m \u001b[43m    \u001b[49m\u001b[38;5;28;43;01mif\u001b[39;49;00m\u001b[43m \u001b[49m\u001b[38;5;129;43;01mnot\u001b[39;49;00m\u001b[43m \u001b[49m\u001b[38;5;28;43mself\u001b[39;49m\u001b[38;5;241;43m.\u001b[39;49m\u001b[43mtraining\u001b[49m\u001b[43m \u001b[49m\u001b[38;5;129;43;01mor\u001b[39;49;00m\u001b[43m \u001b[49m\u001b[38;5;28;43mself\u001b[39;49m\u001b[38;5;241;43m.\u001b[39;49m\u001b[43mtrack_running_stats\u001b[49m\n\u001b[1;32m    180\u001b[0m \u001b[43m    \u001b[49m\u001b[38;5;28;43;01melse\u001b[39;49;00m\u001b[43m \u001b[49m\u001b[38;5;28;43;01mNone\u001b[39;49;00m\u001b[43m,\u001b[49m\n\u001b[1;32m    181\u001b[0m \u001b[43m    \u001b[49m\u001b[38;5;28;43mself\u001b[39;49m\u001b[38;5;241;43m.\u001b[39;49m\u001b[43mrunning_var\u001b[49m\u001b[43m \u001b[49m\u001b[38;5;28;43;01mif\u001b[39;49;00m\u001b[43m \u001b[49m\u001b[38;5;129;43;01mnot\u001b[39;49;00m\u001b[43m \u001b[49m\u001b[38;5;28;43mself\u001b[39;49m\u001b[38;5;241;43m.\u001b[39;49m\u001b[43mtraining\u001b[49m\u001b[43m \u001b[49m\u001b[38;5;129;43;01mor\u001b[39;49;00m\u001b[43m \u001b[49m\u001b[38;5;28;43mself\u001b[39;49m\u001b[38;5;241;43m.\u001b[39;49m\u001b[43mtrack_running_stats\u001b[49m\u001b[43m \u001b[49m\u001b[38;5;28;43;01melse\u001b[39;49;00m\u001b[43m \u001b[49m\u001b[38;5;28;43;01mNone\u001b[39;49;00m\u001b[43m,\u001b[49m\n\u001b[1;32m    182\u001b[0m \u001b[43m    \u001b[49m\u001b[38;5;28;43mself\u001b[39;49m\u001b[38;5;241;43m.\u001b[39;49m\u001b[43mweight\u001b[49m\u001b[43m,\u001b[49m\n\u001b[1;32m    183\u001b[0m \u001b[43m    \u001b[49m\u001b[38;5;28;43mself\u001b[39;49m\u001b[38;5;241;43m.\u001b[39;49m\u001b[43mbias\u001b[49m\u001b[43m,\u001b[49m\n\u001b[1;32m    184\u001b[0m \u001b[43m    \u001b[49m\u001b[43mbn_training\u001b[49m\u001b[43m,\u001b[49m\n\u001b[1;32m    185\u001b[0m \u001b[43m    \u001b[49m\u001b[43mexponential_average_factor\u001b[49m\u001b[43m,\u001b[49m\n\u001b[1;32m    186\u001b[0m \u001b[43m    \u001b[49m\u001b[38;5;28;43mself\u001b[39;49m\u001b[38;5;241;43m.\u001b[39;49m\u001b[43meps\u001b[49m\u001b[43m,\u001b[49m\n\u001b[1;32m    187\u001b[0m \u001b[43m\u001b[49m\u001b[43m)\u001b[49m\n",
      "File \u001b[0;32m~/miniconda3/envs/pnw_class/lib/python3.10/site-packages/torch/nn/functional.py:2509\u001b[0m, in \u001b[0;36mbatch_norm\u001b[0;34m(input, running_mean, running_var, weight, bias, training, momentum, eps)\u001b[0m\n\u001b[1;32m   2506\u001b[0m \u001b[38;5;28;01mif\u001b[39;00m training:\n\u001b[1;32m   2507\u001b[0m     _verify_batch_size(\u001b[38;5;28minput\u001b[39m\u001b[38;5;241m.\u001b[39msize())\n\u001b[0;32m-> 2509\u001b[0m \u001b[38;5;28;01mreturn\u001b[39;00m \u001b[43mtorch\u001b[49m\u001b[38;5;241;43m.\u001b[39;49m\u001b[43mbatch_norm\u001b[49m\u001b[43m(\u001b[49m\n\u001b[1;32m   2510\u001b[0m \u001b[43m    \u001b[49m\u001b[38;5;28;43minput\u001b[39;49m\u001b[43m,\u001b[49m\u001b[43m \u001b[49m\u001b[43mweight\u001b[49m\u001b[43m,\u001b[49m\u001b[43m \u001b[49m\u001b[43mbias\u001b[49m\u001b[43m,\u001b[49m\u001b[43m \u001b[49m\u001b[43mrunning_mean\u001b[49m\u001b[43m,\u001b[49m\u001b[43m \u001b[49m\u001b[43mrunning_var\u001b[49m\u001b[43m,\u001b[49m\u001b[43m \u001b[49m\u001b[43mtraining\u001b[49m\u001b[43m,\u001b[49m\u001b[43m \u001b[49m\u001b[43mmomentum\u001b[49m\u001b[43m,\u001b[49m\u001b[43m \u001b[49m\u001b[43meps\u001b[49m\u001b[43m,\u001b[49m\u001b[43m \u001b[49m\u001b[43mtorch\u001b[49m\u001b[38;5;241;43m.\u001b[39;49m\u001b[43mbackends\u001b[49m\u001b[38;5;241;43m.\u001b[39;49m\u001b[43mcudnn\u001b[49m\u001b[38;5;241;43m.\u001b[39;49m\u001b[43menabled\u001b[49m\n\u001b[1;32m   2511\u001b[0m \u001b[43m\u001b[49m\u001b[43m)\u001b[49m\n",
      "\u001b[0;31mRuntimeError\u001b[0m: running_mean should contain 5000 elements not 8"
     ]
    }
   ],
   "source": [
    "(loss, accuracy) = train_model(model,train_dataset,val_dataset)"
   ]
  },
  {
   "cell_type": "code",
   "execution_count": null,
   "id": "2bc3faf1",
   "metadata": {},
   "outputs": [],
   "source": [
    "fig, ax1 = plt.subplots()\n",
    "\n",
    "color = 'tab:red'\n",
    "ax1.set_xlabel('Epoch')\n",
    "ax1.set_ylabel('Loss', color=color)\n",
    "ax1.plot(np.arange(1, 101), loss, color=color)\n",
    "ax1.tick_params(axis='y', labelcolor=color)\n",
    "\n",
    "ax2 = ax1.twinx()\n",
    "\n",
    "color = 'tab:blue'\n",
    "ax2.set_ylabel('Correct predictions', color=color)\n",
    "ax2.plot(np.arange(1, 101), accuracy, color=color)\n",
    "ax2.tick_params(axis='y', labelcolor=color)\n",
    "\n",
    "fig.tight_layout()\n",
    "plt.show()"
   ]
  },
  {
   "cell_type": "markdown",
   "id": "68edd15a",
   "metadata": {},
   "source": [
    "## Archtime (Original)"
   ]
  },
  {
   "cell_type": "code",
   "execution_count": null,
   "id": "9b9fbaf1",
   "metadata": {},
   "outputs": [],
   "source": [
    "# Archtime_normal\n",
    "num_channels = 1\n",
    "number_features = 5000\n",
    "\n",
    "#train_dataset, train_loader, test_dataset, test_loader, val_dataset, val_loader = extract_datasets(num_channels = 1, num_samples = 5000)\n",
    "#train_dataset, train_loader, y_train, test_dataset, test_loader, y_test,  val_dataset, val_loader, y_val = extract_datasets(before = 1000, after = 40000, num_samples = 5000, batch_size = 32, num_channels = 1, train_size = 4000, test_size = 0, num_features = 5000, shifting = True)\n",
    "\n",
    "\n",
    "data_loader_train,data_loader_val,data_loader_test = prepare_datasets()\n",
    "\n",
    "\n",
    "# train_dataset, train_loader, y_train, test_dataset, test_loader, y_test,  val_dataset, val_loader, y_val, event_ids_normal = extract_datasets(before = 1000, after = 4000, num_samples = 5500, batch_size = 32, num_channels = 1, train_size = 5000, test_size = 1, num_features = 5000, shifting = True, all_samples = False)\n",
    "\n",
    "\n",
    "model_archtime = Archtime(num_channels = 3, num_input = 5000)\n",
    "\n",
    "\n",
    "optimizer = torch.optim.Adam(model_archtime.parameters(), lr=0.001)\n",
    "accuracy_archtime, train_loss_archtime, val_loss_archtime, y_pred, y_true  = train_model(model_archtime, train_loader, val_dataset, val_loader, optimizer, n_epochs = number_epochs, num_channels = num_channels, num_features = 5000)\n"
   ]
  }
 ],
 "metadata": {
  "kernelspec": {
   "display_name": "pnw_class",
   "language": "python",
   "name": "pnw_class"
  },
  "language_info": {
   "codemirror_mode": {
    "name": "ipython",
    "version": 3
   },
   "file_extension": ".py",
   "mimetype": "text/x-python",
   "name": "python",
   "nbconvert_exporter": "python",
   "pygments_lexer": "ipython3",
   "version": "3.10.14"
  }
 },
 "nbformat": 4,
 "nbformat_minor": 5
}
