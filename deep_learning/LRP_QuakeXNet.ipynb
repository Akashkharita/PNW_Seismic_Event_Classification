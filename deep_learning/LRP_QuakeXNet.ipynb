{
 "cells": [
  {
   "cell_type": "markdown",
   "id": "1e59291a",
   "metadata": {},
   "source": [
    "## The purpose of this notebook is to test the Layerwise Relevance Propagation on the QuakeXNet model"
   ]
  },
  {
   "cell_type": "code",
   "execution_count": 3,
   "id": "c874ed9c",
   "metadata": {},
   "outputs": [
    {
     "name": "stdout",
     "output_type": "stream",
     "text": [
      "cuda\n",
      "cuda\n",
      "cuda\n"
     ]
    }
   ],
   "source": [
    "# Enable autoreload\n",
    "%load_ext autoreload\n",
    "%autoreload 2\n",
    "\n",
    "import sys\n",
    "import os\n",
    "\n",
    "import pandas as pd\n",
    "import numpy as np\n",
    "import matplotlib.pyplot as plt\n",
    "import h5py\n",
    "import obspy\n",
    "# from tqdm import tqdm\n",
    "from glob import glob\n",
    "# import time\n",
    "import random\n",
    "import sys\n",
    "from datetime import datetime\n",
    "from tqdm import tqdm\n",
    "\n",
    "from scipy import stats,signal\n",
    "\n",
    "\n",
    "import torch\n",
    "import torch.nn as nn\n",
    "import torch.optim as optim\n",
    "from torch.utils.data import random_split\n",
    "import torchvision.transforms as transforms\n",
    "import torch.nn.functional as F\n",
    "from torch.utils.data import DataLoader, TensorDataset\n",
    "# from sklearn.preprocessing import MinMaxScaler\n",
    "from torch.utils.data import Dataset\n",
    "\n",
    "\n",
    "import numpy as np\n",
    "import scipy.signal as signal\n",
    "\n",
    "\n",
    "\n",
    "# Check if a GPU is available\n",
    "device = torch.device(\"cuda\" if torch.cuda.is_available() else \"cpu\")\n",
    "print(device)\n",
    "\n",
    "\n",
    "# Get the current working directory\n",
    "notebook_dir = os.getcwd()\n",
    "\n",
    "# Add the ../src directory to the Python path\n",
    "src_path = os.path.abspath(os.path.join(notebook_dir, 'scripts'))\n",
    "sys.path.insert(0, src_path)\n",
    "\n",
    "from neural_network_architectures import QuakeXNet_1d\n",
    "from neural_network_architectures import QuakeXNet_2d\n",
    "\n",
    "from neural_network_architectures import SeismicCNN_1d\n",
    "from neural_network_architectures import SeismicCNN_2d\n",
    "\n",
    "from neural_network_architectures import BasicResNet_1d\n",
    "from neural_network_architectures import BasicResNet_2d\n",
    "\n",
    "\n",
    "from helper_functions import extract_waveforms\n",
    "from helper_functions import extract_spectrograms\n",
    "from helper_functions import return_train_test_val_loaders\n",
    "from helper_functions import train_model\n",
    "from helper_functions import plot_confusion_matrix_and_cr"
   ]
  },
  {
   "cell_type": "code",
   "execution_count": null,
   "id": "a166a28c",
   "metadata": {},
   "outputs": [],
   "source": []
  },
  {
   "cell_type": "code",
   "execution_count": 2,
   "id": "0245438f",
   "metadata": {},
   "outputs": [],
   "source": [
    "#data files\n",
    "file_noise=\"/1-fnp/cascadia/c-whd01/yiyu_data/PNWML/noise_waveforms.hdf5\";\n",
    "file_comcat=  \"/1-fnp/cascadia/c-whd01/yiyu_data/PNWML/comcat_waveforms.hdf5\";\n",
    "file_exotic=\"/1-fnp/cascadia/c-whd01/yiyu_data/PNWML/exotic_waveforms.hdf5\";\n",
    "\n",
    "# metadata\n",
    "# accessing the comcat metadata\n",
    "comcat_metadata = pd.read_csv(\"/1-fnp/cascadia/c-whd01/yiyu_data/PNWML/comcat_metadata.csv\")\n",
    "# comcat_metadata = pd.read_csv(\"/data/whd01/yiyu_data/PNWML/comcat_metadata.csv\")\n",
    "\n",
    "# accessing the exotic metadata\n",
    "exotic_metadata = pd.read_csv(\"/1-fnp/cascadia/c-whd01/yiyu_data/PNWML/exotic_metadata.csv\")\n",
    "# exotic_metadata = pd.read_csv(\"/data/whd01/yiyu_data/PNWML/exotic_metadata.csv\")\n",
    "\n",
    "# accessing the data files\n",
    "metadata_noise = pd.read_csv(\"/1-fnp/cascadia/c-whd01/yiyu_data/PNWML/noise_metadata.csv\")\n",
    "# metadata_noise = pd.read_csv(\"/data/whd01/yiyu_data/PNWML/noise_metadata.csv\")\n",
    "\n",
    "# creating individual data frames for each class\n",
    "cat_exp = comcat_metadata[comcat_metadata['source_type'] == 'explosion']\n",
    "cat_eq = comcat_metadata[comcat_metadata['source_type'] == 'earthquake']\n",
    "cat_su = exotic_metadata[exotic_metadata['source_type'] == 'surface event']\n",
    "cat_noise = metadata_noise\n",
    "cat_noise['event_id'] = [cat_noise['trace_start_time'][i]+'_noise' for i in range(len(cat_noise))]\n"
   ]
  },
  {
   "cell_type": "code",
   "execution_count": 3,
   "id": "dc5525f6",
   "metadata": {},
   "outputs": [],
   "source": [
    "## defining the threshold\n",
    "SNR_THR = 1\n",
    "\n",
    "# explosions\n",
    "trace_snr_db_values = np.array([float(cat_exp.loc[idx, 'trace_snr_db'].split(\"|\")[-1]) for idx in cat_exp.index.values.tolist()])\n",
    "ii2= np.where(trace_snr_db_values>SNR_THR)[0].astype(int) \n",
    "df_exp = cat_exp.iloc[ii2]\n",
    "\n",
    "# earthquake\n",
    "trace_snr_db_values = np.array([float(cat_eq.loc[idx, 'trace_snr_db'].split(\"|\")[-1]) for idx in cat_eq.index.values.tolist()])\n",
    "ii2= np.where(trace_snr_db_values>SNR_THR)[0].astype(int) \n",
    "df_eq = cat_eq.iloc[ii2]\n",
    "\n",
    "# surface events\n",
    "trace_snr_db_values = np.array([float(cat_su.loc[idx, 'trace_snr_db'].split(\"|\")[-1]) for idx in cat_su.index.values.tolist()])\n",
    "ii2= np.where(trace_snr_db_values>SNR_THR-2)[0].astype(int) \n",
    "df_su = cat_su.iloc[ii2]\n",
    "\n",
    "# noise\n",
    "# does not change\n",
    "df_noise = cat_noise"
   ]
  },
  {
   "cell_type": "code",
   "execution_count": 4,
   "id": "b6ac716b",
   "metadata": {},
   "outputs": [],
   "source": [
    "num_channels = 3\n",
    "number_data_per_class = 8434\n",
    "lowcut = 1\n",
    "highcut = 20\n",
    "fs = 50\n",
    "nos = 2000\n",
    "all_data = False\n",
    "start = -20\n",
    "shifting = True\n",
    "input_window_length = 100\n",
    "\n",
    "# training parameters\n",
    "train_split = 70\n",
    "val_split=20\n",
    "test_split = 10\n",
    "learning_rate=0.001\n",
    "batch_size=128\n",
    "n_epochs=60\n",
    "dropout=0.4\n",
    "criterion=nn.CrossEntropyLoss()"
   ]
  },
  {
   "cell_type": "code",
   "execution_count": 5,
   "id": "dfb91808",
   "metadata": {},
   "outputs": [
    {
     "name": "stderr",
     "output_type": "stream",
     "text": [
      "100%|██████████| 8434/8434 [01:52<00:00, 75.07it/s] \n",
      "  0%|          | 6/8434 [00:00<02:37, 53.56it/s]"
     ]
    },
    {
     "name": "stdout",
     "output_type": "stream",
     "text": [
      "(3712, 3, 5000)\n"
     ]
    },
    {
     "name": "stderr",
     "output_type": "stream",
     "text": [
      "100%|██████████| 8434/8434 [01:59<00:00, 70.59it/s]\n",
      "  0%|          | 6/8434 [00:00<02:26, 57.45it/s]"
     ]
    },
    {
     "name": "stdout",
     "output_type": "stream",
     "text": [
      "(5921, 3, 5000)\n"
     ]
    },
    {
     "name": "stderr",
     "output_type": "stream",
     "text": [
      "100%|██████████| 8434/8434 [02:04<00:00, 67.81it/s]\n",
      "  0%|          | 6/8434 [00:00<02:23, 58.81it/s]"
     ]
    },
    {
     "name": "stdout",
     "output_type": "stream",
     "text": [
      "(6234, 3, 5000)\n"
     ]
    },
    {
     "name": "stderr",
     "output_type": "stream",
     "text": [
      "100%|██████████| 8434/8434 [02:04<00:00, 67.58it/s]\n"
     ]
    },
    {
     "name": "stdout",
     "output_type": "stream",
     "text": [
      "(5636, 3, 5000)\n"
     ]
    }
   ],
   "source": [
    "# surface events\n",
    "d_su, id_su = extract_waveforms(df_su, file_exotic, input_window_length = input_window_length, fs=fs,\n",
    "                                start =start, number_data = number_data_per_class, num_channels = num_channels,\n",
    "                                shifting = shifting, all_data = all_data, lowcut = lowcut , highcut =highcut)\n",
    "print(d_su.shape)\n",
    "\n",
    "# noise\n",
    "d_noise, id_noise = extract_waveforms(df_noise, file_noise, input_window_length = input_window_length, fs=fs,\n",
    "                                      start = start, number_data = number_data_per_class,\n",
    "                                      num_channels = num_channels, shifting = shifting, all_data = all_data, lowcut = lowcut , highcut =highcut)\n",
    "print(d_noise.shape)\n",
    "\n",
    "\n",
    "\n",
    "# explosions\n",
    "d_exp, id_exp = extract_waveforms(df_exp, file_comcat, input_window_length = input_window_length, fs=fs,\n",
    "                                  start = start,  number_data = number_data_per_class, num_channels = num_channels,\n",
    "                                  shifting = shifting, all_data = all_data, lowcut = lowcut , highcut =highcut)\n",
    "\n",
    "print(d_exp.shape)\n",
    "\n",
    "\n",
    "\n",
    "# earthquakes\n",
    "d_eq, id_eq = extract_waveforms(df_eq, file_comcat, input_window_length = input_window_length,  fs=fs,\n",
    "                                start =start,  number_data = number_data_per_class, num_channels = num_channels,\n",
    "                                shifting = shifting, all_data = all_data, lowcut = lowcut , highcut =highcut)\n",
    "print(d_eq.shape)\n"
   ]
  },
  {
   "cell_type": "code",
   "execution_count": 10,
   "id": "4e78cef6",
   "metadata": {},
   "outputs": [
    {
     "name": "stderr",
     "output_type": "stream",
     "text": [
      "100%|██████████| 2/2 [00:00<00:00, 1007.16it/s]"
     ]
    },
    {
     "name": "stdout",
     "output_type": "stream",
     "text": [
      "(2, 3, 129, 38)\n"
     ]
    },
    {
     "name": "stderr",
     "output_type": "stream",
     "text": [
      "\n"
     ]
    }
   ],
   "source": [
    "a = extract_spectrograms(waveforms = d_su[0:2])"
   ]
  },
  {
   "cell_type": "code",
   "execution_count": null,
   "id": "0d8f1c82",
   "metadata": {},
   "outputs": [],
   "source": [
    "def extract_spectrograms(waveforms = a, fs = fs, nperseg=256, overlap=0.5):\n",
    "    noverlap = int(nperseg * overlap)  # Calculate overlap\n",
    "\n",
    "    # Example of how to get the shape of one spectrogram\n",
    "    f, t, Sxx = signal.spectrogram(waveforms[0, 0], nperseg=nperseg, noverlap=noverlap, fs=fs)\n",
    "\n",
    "    # Initialize an array of zeros with the shape: (number of waveforms, channels, frequencies, time_segments)\n",
    "    spectrograms = np.zeros((waveforms.shape[0], waveforms.shape[1], len(f), len(t)))\n",
    "\n",
    "    for i in tqdm(range(waveforms.shape[0])):  # For each waveform\n",
    "        for j in range(waveforms.shape[1]):  # For each channel\n",
    "            _, _, Sxx = signal.spectrogram(waveforms[i, j], nperseg=nperseg, noverlap=noverlap, fs=fs)\n",
    "            spectrograms[i, j] = Sxx  # Fill the pre-initialized array\n",
    "\n",
    "    print(spectrograms.shape)\n",
    "    return spectrograms"
   ]
  },
  {
   "cell_type": "code",
   "execution_count": 31,
   "id": "722e9b8c",
   "metadata": {},
   "outputs": [],
   "source": [
    "fs = 50\n",
    "waveforms = d_su[0:2]\n",
    "f,t, Sxx = signal.spectrogram(waveforms[0, 0], nperseg=256, noverlap=128, fs=fs)"
   ]
  },
  {
   "cell_type": "code",
   "execution_count": 45,
   "id": "752c4c46",
   "metadata": {},
   "outputs": [
    {
     "data": {
      "image/png": "[encoded data removed]",
      "text/plain": [
       "<Figure size 1000x300 with 2 Axes>"
      ]
     },
     "metadata": {},
     "output_type": "display_data"
    }
   ],
   "source": [
    "import matplotlib.pyplot as plt\n",
    "from scipy import signal\n",
    "\n",
    "# Assuming fs, waveforms, f, t, and Sxx are already defined as in your code\n",
    "fs = 50\n",
    "waveforms = d_su[0:1]\n",
    "f, t, Sxx = signal.spectrogram(waveforms[0, 0], nperseg=256, noverlap=128, fs=fs)\n",
    "\n",
    "# Plot the spectrogram\n",
    "plt.figure(figsize=(10, 3))\n",
    "plt.pcolormesh(t, f, 10 * np.log10(Sxx), shading='gouraud')\n",
    "plt.ylabel('Frequency [Hz]')\n",
    "plt.xlabel('Time [sec]')\n",
    "plt.title('Spectrogram')\n",
    "plt.colorbar(label='Intensity [dB]')\n",
    "plt.show()"
   ]
  },
  {
   "cell_type": "code",
   "execution_count": null,
   "id": "100da777",
   "metadata": {},
   "outputs": [],
   "source": []
  },
  {
   "cell_type": "code",
   "execution_count": 4,
   "id": "07c5ba91",
   "metadata": {},
   "outputs": [],
   "source": [
    "## Original QuakeXNet architecture.\n",
    "class QuakeXNet_2d(nn.Module):\n",
    "    def __init__(self, num_classes=4, num_channels=3, dropout_rate=0.2):\n",
    "        super(QuakeXNet_2d, self).__init__()\n",
    "        \n",
    "        # Define the layers of the CNN architecture\n",
    "        self.conv1 = nn.Conv2d(in_channels=num_channels, out_channels=8, kernel_size=(3, 3), stride=1, padding=1)\n",
    "        self.conv2 = nn.Conv2d(in_channels=8, out_channels=8, kernel_size=(3, 3), stride=2, padding=1)\n",
    "        self.conv3 = nn.Conv2d(in_channels=8, out_channels=16, kernel_size=(3, 3), stride=1, padding=1)\n",
    "        self.conv4 = nn.Conv2d(in_channels=16, out_channels=16, kernel_size=(3, 3), stride=2, padding=1)\n",
    "        self.conv5 = nn.Conv2d(in_channels=16, out_channels=32, kernel_size=(3, 3), stride=1, padding=1)\n",
    "        self.conv6 = nn.Conv2d(in_channels=32, out_channels=32, kernel_size=(3, 3), stride=2, padding=1)\n",
    "        self.conv7 = nn.Conv2d(in_channels=32, out_channels=64, kernel_size=(3, 3), stride=1, padding=1)\n",
    "        \n",
    "        self.pool1 = nn.MaxPool2d(kernel_size=2, stride=2)\n",
    "\n",
    "        # Batch-normalization layers\n",
    "        self.bn1 = nn.BatchNorm2d(8)\n",
    "        self.bn2 = nn.BatchNorm2d(8)\n",
    "        self.bn3 = nn.BatchNorm2d(16)\n",
    "        self.bn4 = nn.BatchNorm2d(16)\n",
    "        self.bn5 = nn.BatchNorm2d(32)\n",
    "        self.bn6 = nn.BatchNorm2d(32)\n",
    "        self.bn7 = nn.BatchNorm2d(64)\n",
    "\n",
    "        # Calculate the input size for the fully connected layer dynamically\n",
    "        self.fc_input_size = self._get_conv_output_size(num_channels, (129, 38))\n",
    "        self.fc1 = nn.Linear(self.fc_input_size, 128)\n",
    "        self.fc2 = nn.Linear(128, num_classes)\n",
    "        self.fc1_bn = nn.BatchNorm1d(128)\n",
    "        self.fc2_bn = nn.BatchNorm1d(num_classes)\n",
    "\n",
    "        # Define dropout\n",
    "        self.dropout = nn.Dropout(dropout_rate)\n",
    "\n",
    "    def _get_conv_output_size(self, num_channels, input_dims):\n",
    "        # Forward pass a dummy input through the conv layers to get the output size\n",
    "        dummy_input = torch.randn(1, num_channels, *input_dims)\n",
    "        with torch.no_grad():\n",
    "            x = F.relu(self.bn1(self.conv1(dummy_input)))\n",
    "            x = self.pool1(F.relu(self.bn2(self.conv2(x))))\n",
    "            x = F.relu(self.bn3(self.conv3(x)))\n",
    "            x = self.pool1(F.relu(self.bn4(self.conv4(x))))\n",
    "            x = F.relu(self.bn5(self.conv5(x)))\n",
    "            x = F.relu(self.bn6(self.conv6(x)))\n",
    "            x = F.relu(self.bn7(self.conv7(x)))\n",
    "        return x.numel()\n",
    "\n",
    "    def forward(self, x):\n",
    "        x = F.relu(self.bn1(self.conv1(x)))  # output size: (8, 129, 38)\n",
    "        x = self.pool1(F.relu(self.bn2(self.conv2(x))))  # output size: (8, 64, 19)\n",
    "        x = self.dropout(x)\n",
    "        \n",
    "        x = F.relu(self.bn3(self.conv3(x)))  # output size: (16, 64, 19)\n",
    "        x = self.pool1(F.relu(self.bn4(self.conv4(x))))  # output size: (16, 32, 10)\n",
    "        x = self.dropout(x)\n",
    "        \n",
    "        x = F.relu(self.bn5(self.conv5(x)))  # output size: (32, 32, 10)\n",
    "        x = F.relu(self.bn6(self.conv6(x)))  # output size: (32, 16, 5)\n",
    "        x = self.dropout(x)\n",
    "        \n",
    "        x = F.relu(self.bn7(self.conv7(x)))  # output size: (64, 16, 5)\n",
    "        \n",
    "        x = x.view(x.size(0), -1)  # Flatten before fully connected layer\n",
    "        x = self.dropout(x)\n",
    "        \n",
    "        x = F.relu(self.fc1_bn(self.fc1(x)))  # classifier\n",
    "        x = self.fc2_bn(self.fc2(x))  # classifier\n",
    "        \n",
    "        # Do not apply softmax here, as it will be applied in the loss function\n",
    "        return x\n",
    "\n",
    "    \n"
   ]
  },
  {
   "cell_type": "code",
   "execution_count": 73,
   "id": "e759765f",
   "metadata": {},
   "outputs": [],
   "source": [
    "#%% QuakeXNet 2D architecture without batchnorm layers that makes it hard to perform lrp\n",
    "\n",
    "class QuakeXNet_2d_no_bn(nn.Module):\n",
    "    def __init__(self, num_classes=4, num_channels=3, dropout_rate=0.2):\n",
    "        super(QuakeXNet_2d_no_bn, self).__init__()\n",
    "        \n",
    "        # Define the layers of the CNN architecture\n",
    "        self.conv1 = nn.Conv2d(in_channels=num_channels, out_channels=8, kernel_size=(3, 3), stride=1, padding=1)\n",
    "        self.conv2 = nn.Conv2d(in_channels=8, out_channels=8, kernel_size=(3, 3), stride=2, padding=1)\n",
    "        self.conv3 = nn.Conv2d(in_channels=8, out_channels=16, kernel_size=(3, 3), stride=1, padding=1)\n",
    "        self.conv4 = nn.Conv2d(in_channels=16, out_channels=16, kernel_size=(3, 3), stride=2, padding=1)\n",
    "        self.conv5 = nn.Conv2d(in_channels=16, out_channels=32, kernel_size=(3, 3), stride=1, padding=1)\n",
    "        self.conv6 = nn.Conv2d(in_channels=32, out_channels=32, kernel_size=(3, 3), stride=2, padding=1)\n",
    "        self.conv7 = nn.Conv2d(in_channels=32, out_channels=64, kernel_size=(3, 3), stride=1, padding=1)\n",
    "        \n",
    "        self.pool1 = nn.MaxPool2d(kernel_size=2, stride=2)\n",
    "\n",
    "\n",
    "        # Calculate the input size for the fully connected layer dynamically\n",
    "        self.fc_input_size = self._get_conv_output_size(num_channels, (129, 38))\n",
    "        self.fc1 = nn.Linear(self.fc_input_size, 128)\n",
    "        self.fc2 = nn.Linear(128, num_classes)\n",
    "\n",
    "        # Define dropout\n",
    "        self.dropout = nn.Dropout(dropout_rate)\n",
    "\n",
    "    def _get_conv_output_size(self, num_channels, input_dims):\n",
    "        # Forward pass a dummy input through the conv layers to get the output size\n",
    "        dummy_input = torch.randn(1, num_channels, *input_dims).to(device)\n",
    "        with torch.no_grad():\n",
    "            x = F.relu(self.conv1(dummy_input))\n",
    "            x = self.pool1(F.relu(self.conv2(x)))\n",
    "            x = F.relu(self.conv3(x))\n",
    "            x = self.pool1(F.relu(self.conv4(x)))\n",
    "            x = F.relu(self.conv5(x))\n",
    "            x = F.relu(self.conv6(x))\n",
    "            x = F.relu(self.conv7(x))\n",
    "        return x.numel()\n",
    "\n",
    "    def forward(self, x):\n",
    "        x = F.relu(self.conv1(x))  # output size: (8, 129, 38)\n",
    "        x = self.pool1(F.relu(self.conv2(x)))  # output size: (8, 64, 19)\n",
    "        x = self.dropout(x)\n",
    "        \n",
    "        x = F.relu(self.conv3(x))  # output size: (16, 64, 19)\n",
    "        x = self.pool1(F.relu(self.conv4(x)))  # output size: (16, 32, 10)\n",
    "        x = self.dropout(x)\n",
    "        \n",
    "        x = F.relu(self.conv5(x))  # output size: (32, 32, 10)\n",
    "        x = F.relu(self.conv6(x))  # output size: (32, 16, 5)\n",
    "        x = self.dropout(x)\n",
    "        \n",
    "        x = F.relu(self.conv7(x))  # output size: (64, 16, 5)\n",
    "        \n",
    "        x = x.view(x.size(0), -1)  # Flatten before fully connected layer\n",
    "        x = self.dropout(x)\n",
    "        \n",
    "        x = F.relu(self.fc1(x))  # classifier\n",
    "        x = self.fc2(x)  # classifier\n",
    "        \n",
    "        # Do not apply softmax here, as it will be applied in the loss function\n",
    "        return x\n",
    "\n",
    "    \n"
   ]
  },
  {
   "cell_type": "code",
   "execution_count": 7,
   "id": "7732fc65",
   "metadata": {},
   "outputs": [],
   "source": [
    "# The model QuakeXNet_2d_no_bn takes the input of following shape - (batch_size, num_channels, frequency, time)"
   ]
  },
  {
   "cell_type": "markdown",
   "id": "9174fe30",
   "metadata": {},
   "source": [
    "### Let's first train the QuakeXNet_2d_no_bn model"
   ]
  },
  {
   "cell_type": "code",
   "execution_count": 10,
   "id": "1bf1121b",
   "metadata": {},
   "outputs": [],
   "source": [
    "#data files\n",
    "file_noise=\"/1-fnp/cascadia/c-whd01/yiyu_data/PNWML/noise_waveforms.hdf5\";\n",
    "file_comcat=  \"/1-fnp/cascadia/c-whd01/yiyu_data/PNWML/comcat_waveforms.hdf5\";\n",
    "file_exotic=\"/1-fnp/cascadia/c-whd01/yiyu_data/PNWML/exotic_waveforms.hdf5\";\n",
    "\n",
    "# metadata\n",
    "# accessing the comcat metadata\n",
    "comcat_metadata = pd.read_csv(\"/1-fnp/cascadia/c-whd01/yiyu_data/PNWML/comcat_metadata.csv\")\n",
    "# comcat_metadata = pd.read_csv(\"/data/whd01/yiyu_data/PNWML/comcat_metadata.csv\")\n",
    "\n",
    "# accessing the exotic metadata\n",
    "exotic_metadata = pd.read_csv(\"/1-fnp/cascadia/c-whd01/yiyu_data/PNWML/exotic_metadata.csv\")\n",
    "# exotic_metadata = pd.read_csv(\"/data/whd01/yiyu_data/PNWML/exotic_metadata.csv\")\n",
    "\n",
    "# accessing the data files\n",
    "metadata_noise = pd.read_csv(\"/1-fnp/cascadia/c-whd01/yiyu_data/PNWML/noise_metadata.csv\")\n",
    "# metadata_noise = pd.read_csv(\"/data/whd01/yiyu_data/PNWML/noise_metadata.csv\")\n",
    "\n",
    "# creating individual data frames for each class\n",
    "cat_exp = comcat_metadata[comcat_metadata['source_type'] == 'explosion']\n",
    "cat_eq = comcat_metadata[comcat_metadata['source_type'] == 'earthquake']\n",
    "cat_su = exotic_metadata[exotic_metadata['source_type'] == 'surface event']\n",
    "cat_noise = metadata_noise\n",
    "cat_noise['event_id'] = [cat_noise['trace_start_time'][i]+'_noise' for i in range(len(cat_noise))]\n"
   ]
  },
  {
   "cell_type": "code",
   "execution_count": 11,
   "id": "d33c94b9",
   "metadata": {},
   "outputs": [],
   "source": [
    "## defining the threshold\n",
    "SNR_THR = 1\n",
    "\n",
    "# explosions\n",
    "trace_snr_db_values = np.array([float(cat_exp.loc[idx, 'trace_snr_db'].split(\"|\")[-1]) for idx in cat_exp.index.values.tolist()])\n",
    "ii2= np.where(trace_snr_db_values>SNR_THR)[0].astype(int) \n",
    "df_exp = cat_exp.iloc[ii2]\n",
    "\n",
    "# earthquake\n",
    "trace_snr_db_values = np.array([float(cat_eq.loc[idx, 'trace_snr_db'].split(\"|\")[-1]) for idx in cat_eq.index.values.tolist()])\n",
    "ii2= np.where(trace_snr_db_values>SNR_THR)[0].astype(int) \n",
    "df_eq = cat_eq.iloc[ii2]\n",
    "\n",
    "# surface events\n",
    "trace_snr_db_values = np.array([float(cat_su.loc[idx, 'trace_snr_db'].split(\"|\")[-1]) for idx in cat_su.index.values.tolist()])\n",
    "ii2= np.where(trace_snr_db_values>SNR_THR-2)[0].astype(int) \n",
    "df_su = cat_su.iloc[ii2]\n",
    "\n",
    "# noise\n",
    "# does not change\n",
    "df_noise = cat_noise"
   ]
  },
  {
   "cell_type": "code",
   "execution_count": 12,
   "id": "9a34f533",
   "metadata": {},
   "outputs": [
    {
     "name": "stderr",
     "output_type": "stream",
     "text": [
      "100%|██████████| 8434/8434 [00:50<00:00, 168.51it/s]\n",
      "  0%|          | 8/8434 [00:00<01:46, 78.89it/s]"
     ]
    },
    {
     "name": "stdout",
     "output_type": "stream",
     "text": [
      "(3712, 3, 5000)\n"
     ]
    },
    {
     "name": "stderr",
     "output_type": "stream",
     "text": [
      "100%|██████████| 8434/8434 [01:48<00:00, 77.44it/s]\n",
      "  0%|          | 14/8434 [00:00<01:01, 137.75it/s]"
     ]
    },
    {
     "name": "stdout",
     "output_type": "stream",
     "text": [
      "(5975, 3, 5000)\n"
     ]
    },
    {
     "name": "stderr",
     "output_type": "stream",
     "text": [
      "100%|██████████| 8434/8434 [01:14<00:00, 112.48it/s]\n",
      "  0%|          | 7/8434 [00:00<02:01, 69.43it/s]"
     ]
    },
    {
     "name": "stdout",
     "output_type": "stream",
     "text": [
      "(6226, 3, 5000)\n"
     ]
    },
    {
     "name": "stderr",
     "output_type": "stream",
     "text": [
      "100%|██████████| 8434/8434 [02:02<00:00, 69.03it/s]\n"
     ]
    },
    {
     "name": "stdout",
     "output_type": "stream",
     "text": [
      "(5640, 3, 5000)\n"
     ]
    }
   ],
   "source": [
    "num_channels = 3\n",
    "number_data_per_class = 8434 ## This is equal to the total number of the samples in the minority class.\n",
    "\n",
    "# new sampling rate\n",
    "fs = 50\n",
    "\n",
    "nos = 2000\n",
    "\n",
    "# if we are taking all data or not. \n",
    "all_data = False\n",
    "\n",
    "# the start point will be selected randomly from (start, -4)\n",
    "start = -20\n",
    "shifting = True\n",
    "\n",
    "# training parameters\n",
    "train_split = 70                                      \n",
    "val_split=20\n",
    "test_split = 10\n",
    "learning_rate=0.001\n",
    "batch_size=128\n",
    "n_epochs=60\n",
    "dropout=0.4\n",
    "criterion=nn.CrossEntropyLoss()\n",
    "\n",
    "## filtering parameters\n",
    "highcut = 20\n",
    "lowcut = 1\n",
    "input_window_length = 100\n",
    "\n",
    "\n",
    "# surface events\n",
    "d_su, id_su = extract_waveforms(df_su, file_exotic, input_window_length = input_window_length, fs=fs,\n",
    "                                start =start, number_data = number_data_per_class, num_channels = num_channels,\n",
    "                                shifting = shifting, all_data = all_data, lowcut = lowcut , highcut =highcut)\n",
    "print(d_su.shape)\n",
    "\n",
    "# noise\n",
    "d_noise, id_noise = extract_waveforms(df_noise, file_noise, input_window_length = input_window_length, fs=fs,\n",
    "                                      start = start, number_data = number_data_per_class,\n",
    "                                      num_channels = num_channels, shifting = shifting, all_data = all_data, lowcut = lowcut , highcut =highcut)\n",
    "print(d_noise.shape)\n",
    "\n",
    "\n",
    "\n",
    "# explosions\n",
    "d_exp, id_exp = extract_waveforms(df_exp, file_comcat, input_window_length = input_window_length, fs=fs,\n",
    "                                  start = start,  number_data = number_data_per_class, num_channels = num_channels,\n",
    "                                  shifting = shifting, all_data = all_data, lowcut = lowcut , highcut =highcut)\n",
    "\n",
    "print(d_exp.shape)\n",
    "\n",
    "\n",
    "\n",
    "# earthquakes\n",
    "d_eq, id_eq = extract_waveforms(df_eq, file_comcat, input_window_length = input_window_length,  fs=fs,\n",
    "                                start =start,  number_data = number_data_per_class, num_channels = num_channels,\n",
    "                                shifting = shifting, all_data = all_data, lowcut = lowcut , highcut =highcut)\n",
    "print(d_eq.shape)\n"
   ]
  },
  {
   "cell_type": "code",
   "execution_count": 14,
   "id": "cccdf3c4",
   "metadata": {},
   "outputs": [
    {
     "name": "stderr",
     "output_type": "stream",
     "text": [
      "  0%|          | 0/2000 [00:00<?, ?it/s]"
     ]
    },
    {
     "name": "stderr",
     "output_type": "stream",
     "text": [
      "100%|██████████| 2000/2000 [00:01<00:00, 1332.14it/s]\n",
      "  7%|▋         | 138/2000 [00:00<00:01, 1373.22it/s]"
     ]
    },
    {
     "name": "stdout",
     "output_type": "stream",
     "text": [
      "(2000, 3, 129, 38)\n"
     ]
    },
    {
     "name": "stderr",
     "output_type": "stream",
     "text": [
      "100%|██████████| 2000/2000 [00:01<00:00, 1359.68it/s]\n",
      "  7%|▋         | 137/2000 [00:00<00:01, 1365.39it/s]"
     ]
    },
    {
     "name": "stdout",
     "output_type": "stream",
     "text": [
      "(2000, 3, 129, 38)\n"
     ]
    },
    {
     "name": "stderr",
     "output_type": "stream",
     "text": [
      "100%|██████████| 2000/2000 [00:01<00:00, 1352.70it/s]\n",
      "  7%|▋         | 136/2000 [00:00<00:01, 1349.47it/s]"
     ]
    },
    {
     "name": "stdout",
     "output_type": "stream",
     "text": [
      "(2000, 3, 129, 38)\n"
     ]
    },
    {
     "name": "stderr",
     "output_type": "stream",
     "text": [
      "100%|██████████| 2000/2000 [00:01<00:00, 1357.41it/s]\n"
     ]
    },
    {
     "name": "stdout",
     "output_type": "stream",
     "text": [
      "(2000, 3, 129, 38)\n",
      "43 12 6\n"
     ]
    }
   ],
   "source": [
    "s_su = extract_spectrograms(waveforms = d_su[0:nos])\n",
    "s_noise = extract_spectrograms(waveforms = d_noise[0:nos])\n",
    "s_eq = extract_spectrograms(waveforms = d_eq[0:nos])\n",
    "s_exp = extract_spectrograms(waveforms = d_exp[0:nos])\n",
    "\n",
    "# concatenate all data into one input\n",
    "X_2d = np.vstack([s_eq, s_exp, s_noise, s_su])\n",
    "\n",
    "\n",
    "y = [0]*len(d_eq[0:nos])+[1]*len(d_exp[0:nos])+[2]*len(d_noise[0:nos])+[3]*len(d_su[0:nos])\n",
    "\n",
    "## Preparing the data loaders for 1d and 2d inputs\n",
    "#train_loader_1d, val_loader_1d, test_loader_1d = return_train_test_val_loaders(X = X_1d, y = y, train_split = train_split, test_split = test_split, val_split = val_split, batch_size = batch_size)\n",
    "train_loader_2d, val_loader_2d, test_loader_2d = return_train_test_val_loaders(X = X_2d, y = y, train_split = train_split, test_split = test_split, val_split = val_split, batch_size = batch_size)"
   ]
  },
  {
   "cell_type": "code",
   "execution_count": 47,
   "id": "bec5418d",
   "metadata": {},
   "outputs": [
    {
     "name": "stderr",
     "output_type": "stream",
     "text": [
      " 10%|█         | 10/100 [00:05<00:49,  1.83it/s]"
     ]
    },
    {
     "name": "stdout",
     "output_type": "stream",
     "text": [
      "[Epoch 10] loss: 0.662 - accuracy: 74.154\n"
     ]
    },
    {
     "name": "stderr",
     "output_type": "stream",
     "text": [
      " 20%|██        | 20/100 [00:11<00:44,  1.79it/s]"
     ]
    },
    {
     "name": "stdout",
     "output_type": "stream",
     "text": [
      "[Epoch 20] loss: 0.579 - accuracy: 80.013\n"
     ]
    },
    {
     "name": "stderr",
     "output_type": "stream",
     "text": [
      " 30%|███       | 30/100 [00:16<00:38,  1.81it/s]"
     ]
    },
    {
     "name": "stdout",
     "output_type": "stream",
     "text": [
      "[Epoch 30] loss: 0.519 - accuracy: 81.380\n"
     ]
    },
    {
     "name": "stderr",
     "output_type": "stream",
     "text": [
      " 40%|████      | 40/100 [00:22<00:32,  1.82it/s]"
     ]
    },
    {
     "name": "stdout",
     "output_type": "stream",
     "text": [
      "[Epoch 40] loss: 0.488 - accuracy: 81.706\n"
     ]
    },
    {
     "name": "stderr",
     "output_type": "stream",
     "text": [
      " 50%|█████     | 50/100 [00:27<00:27,  1.84it/s]"
     ]
    },
    {
     "name": "stdout",
     "output_type": "stream",
     "text": [
      "[Epoch 50] loss: 0.458 - accuracy: 83.464\n"
     ]
    },
    {
     "name": "stderr",
     "output_type": "stream",
     "text": [
      " 60%|██████    | 60/100 [00:32<00:21,  1.85it/s]"
     ]
    },
    {
     "name": "stdout",
     "output_type": "stream",
     "text": [
      "[Epoch 60] loss: 0.446 - accuracy: 82.878\n"
     ]
    },
    {
     "name": "stderr",
     "output_type": "stream",
     "text": [
      " 70%|███████   | 70/100 [00:38<00:16,  1.84it/s]"
     ]
    },
    {
     "name": "stdout",
     "output_type": "stream",
     "text": [
      "[Epoch 70] loss: 0.414 - accuracy: 85.221\n"
     ]
    },
    {
     "name": "stderr",
     "output_type": "stream",
     "text": [
      " 80%|████████  | 80/100 [00:43<00:10,  1.84it/s]"
     ]
    },
    {
     "name": "stdout",
     "output_type": "stream",
     "text": [
      "[Epoch 80] loss: 0.399 - accuracy: 84.896\n"
     ]
    },
    {
     "name": "stderr",
     "output_type": "stream",
     "text": [
      " 90%|█████████ | 90/100 [00:49<00:05,  1.83it/s]"
     ]
    },
    {
     "name": "stdout",
     "output_type": "stream",
     "text": [
      "[Epoch 90] loss: 0.385 - accuracy: 86.719\n"
     ]
    },
    {
     "name": "stderr",
     "output_type": "stream",
     "text": [
      "100%|██████████| 100/100 [00:54<00:00,  1.83it/s]"
     ]
    },
    {
     "name": "stdout",
     "output_type": "stream",
     "text": [
      "[Epoch 100] loss: 0.382 - accuracy: 84.831\n",
      "test loss: 0.369 and accuracy: 87.500\n"
     ]
    },
    {
     "name": "stderr",
     "output_type": "stream",
     "text": [
      "\n",
      "/home/ak287/PNW_Seismic_Event_Classification/deep_learning/scripts/helper_functions.py:470: FutureWarning: You are using `torch.load` with `weights_only=False` (the current default value), which uses the default pickle module implicitly. It is possible to construct malicious pickle data which will execute arbitrary code during unpickling (See https://github.com/pytorch/pytorch/blob/main/SECURITY.md#untrusted-models for more details). In a future release, the default value for `weights_only` will be flipped to `True`. This limits the functions that could be executed during unpickling. Arbitrary objects will no longer be allowed to be loaded via this mode unless they are explicitly allowlisted by the user via `torch.serialization.add_safe_globals`. We recommend you start setting `weights_only=True` for any use case where you don't have full control of the loaded file. Please open an issue on GitHub for any issues related to this experimental feature.\n",
      "  model.load_state_dict(torch.load(model_path+model_name+'.pth'))\n"
     ]
    }
   ],
   "source": [
    "n_epochs = 100\n",
    "model_quakexnet_2d_no_bn = QuakeXNet_2d_no_bn(num_classes=4, num_channels=num_channels,dropout_rate=dropout).to(device)  # Use 'cuda' if you have a GPU available\n",
    "(loss_time_quakexnet_2d_no_bn, val_loss_time_quakexnet_2d_no_bn, val_accuracy_time_quakexnet_2d_no_bn,test_loss_quakexnet_2d_no_bn,test_accuracy_quakexnet_2d_no_bn) = train_model(model_quakexnet_2d_no_bn,\n",
    "    train_loader_2d,  val_loader_2d, test_loader_2d,n_epochs=n_epochs,learning_rate=learning_rate,\n",
    "    criterion=criterion,augmentation= False, patience = 30, model_path = 'tested_models/best_model_')"
   ]
  },
  {
   "cell_type": "code",
   "execution_count": 48,
   "id": "e0c9fea3",
   "metadata": {},
   "outputs": [
    {
     "data": {
      "image/png": "[encoded data removed]",
      "text/plain": [
       "<Figure size 800x600 with 2 Axes>"
      ]
     },
     "metadata": {},
     "output_type": "display_data"
    }
   ],
   "source": [
    "def plot_model_training(loss_time, val_loss_time, val_accuracy_time, test_loss, test_accuracy, title = 'SeismicCNN 1D'):\n",
    "\n",
    "\n",
    "    # Assuming loss_time, val_loss_time, val_accuracy_time, test_loss, test_accuracy are defined\n",
    "\n",
    "    NN = np.count_nonzero(loss_time)\n",
    "    fig, ax1 = plt.subplots(figsize=(8, 6))  # Increase figure size for better readability\n",
    "\n",
    "    # Set font sizes\n",
    "    plt.style.use('default')\n",
    "    plt.rc('font', size=12)  # Global font size\n",
    "    plt.rc('axes', titlesize=14)  # Title font size\n",
    "    plt.rc('axes', labelsize=12)  # Axis label font size\n",
    "    plt.rc('xtick', labelsize=10)  # X-axis tick label font size\n",
    "    plt.rc('ytick', labelsize=10)  # Y-axis tick label font size\n",
    "\n",
    "    # Plot Training and Validation Loss\n",
    "    ax1.set_xlabel('Epoch', fontsize=12)\n",
    "    ax1.set_ylabel('Loss', fontsize=12)\n",
    "    ax1.plot(np.arange(1, NN+1), loss_time[:NN], color='tab:red', label='Training Loss', linewidth=2)\n",
    "    ax1.plot(np.arange(1, NN+1), val_loss_time[:NN], color='tab:blue', label='Validation Loss', linewidth=2)\n",
    "    ax1.plot(NN+1, test_loss, 'p', color='tab:blue', label='Test Loss', markersize=10)\n",
    "    ax1.set_ylim(0, 2)\n",
    "    ax1.grid(True, linestyle='--', alpha=0.6)  # Add grid with some transparency\n",
    "\n",
    "    # Twin axis for accuracy\n",
    "    ax2 = ax1.twinx()\n",
    "    ax2.set_ylabel('Accuracy (%)', fontsize=12, color='tab:green')\n",
    "    ax2.plot(np.arange(1, NN+1), val_accuracy_time[:NN], color='tab:green', label='Validation Accuracy', linewidth=2)\n",
    "    ax2.plot(NN+1, test_accuracy, 's', color='tab:green', label='Test Accuracy', markersize=10)\n",
    "    ax2.set_ylim(0, 100)\n",
    "    ax2.tick_params(axis='y', labelcolor='tab:green')\n",
    "    ax2.grid(False)\n",
    "\n",
    "    # Title and legend\n",
    "    plt.title(title, fontsize=14)\n",
    "    fig.tight_layout()\n",
    "\n",
    "    # Add legends for both axes\n",
    "    ax1.legend(loc='upper left', fontsize=10)\n",
    "    ax2.legend(loc='upper right', fontsize=10)\n",
    "\n",
    "    # Save the figure with high resolution\n",
    "    plt.savefig(f\"../figures/{title}\", dpi=300, bbox_inches='tight')\n",
    "\n",
    "    plt.show()\n",
    "\n",
    "plot_model_training(loss_time_quakexnet_2d_no_bn, val_loss_time_quakexnet_2d_no_bn, val_accuracy_time_quakexnet_2d_no_bn, test_loss_quakexnet_2d_no_bn, test_accuracy_quakexnet_2d_no_bn, title = 'QuakeXNet_2D_No_BN')"
   ]
  },
  {
   "cell_type": "code",
   "execution_count": 49,
   "id": "2de56189",
   "metadata": {},
   "outputs": [
    {
     "data": {
      "text/plain": [
       "QuakeXNet_2d_no_bn(\n",
       "  (conv1): Conv2d(3, 8, kernel_size=(3, 3), stride=(1, 1), padding=(1, 1))\n",
       "  (conv2): Conv2d(8, 8, kernel_size=(3, 3), stride=(2, 2), padding=(1, 1))\n",
       "  (conv3): Conv2d(8, 16, kernel_size=(3, 3), stride=(1, 1), padding=(1, 1))\n",
       "  (conv4): Conv2d(16, 16, kernel_size=(3, 3), stride=(2, 2), padding=(1, 1))\n",
       "  (conv5): Conv2d(16, 32, kernel_size=(3, 3), stride=(1, 1), padding=(1, 1))\n",
       "  (conv6): Conv2d(32, 32, kernel_size=(3, 3), stride=(2, 2), padding=(1, 1))\n",
       "  (conv7): Conv2d(32, 64, kernel_size=(3, 3), stride=(1, 1), padding=(1, 1))\n",
       "  (pool1): MaxPool2d(kernel_size=2, stride=2, padding=0, dilation=1, ceil_mode=False)\n",
       "  (fc1): Linear(in_features=256, out_features=128, bias=True)\n",
       "  (fc2): Linear(in_features=128, out_features=4, bias=True)\n",
       "  (dropout): Dropout(p=0.4, inplace=False)\n",
       ")"
      ]
     },
     "execution_count": 49,
     "metadata": {},
     "output_type": "execute_result"
    }
   ],
   "source": [
    "## Applying the LRP\n",
    "model = model_quakexnet_2d_no_bn.eval()\n",
    "model.to(device)"
   ]
  },
  {
   "cell_type": "code",
   "execution_count": null,
   "id": "fb637ee5",
   "metadata": {},
   "outputs": [],
   "source": [
    "# Utility function to clone layers and apply custom transformations\n",
    "def new_layer(layer, g):\n",
    "    \"\"\"Clone a layer and pass its parameters through the function g.\"\"\"\n",
    "    layer = copy.deepcopy(layer)\n",
    "    try:\n",
    "        layer.weight = torch.nn.Parameter(g(layer.weight))\n",
    "    except AttributeError:\n",
    "        pass\n",
    "    try:\n",
    "        layer.bias = torch.nn.Parameter(g(layer.bias))\n",
    "    except AttributeError:\n",
    "        pass\n",
    "    return layer\n",
    "\n",
    "# Function to convert dense layers to convolutional layers (same as in VGG16 case)\n",
    "def dense_to_conv(layers):\n",
    "    \"\"\" Converts a dense layer to a conv layer \"\"\"\n",
    "    newlayers = []\n",
    "    for i, layer in enumerate(layers):\n",
    "        if isinstance(layer, nn.Linear):\n",
    "            newlayer = None\n",
    "            if i == 0:\n",
    "                m, n = 64, layer.weight.shape[0]\n",
    "                newlayer = nn.Conv2d(m, n, 1)\n",
    "                newlayer.weight = nn.Parameter(layer.weight.reshape(n, m, 1, 1))\n",
    "            else:\n",
    "                m, n = layer.weight.shape[1], layer.weight.shape[0]\n",
    "                newlayer = nn.Conv2d(m, n, 1)\n",
    "                newlayer.weight = nn.Parameter(layer.weight.reshape(n, m, 1, 1))\n",
    "            newlayer.bias = nn.Parameter(layer.bias)\n",
    "            newlayers += [newlayer]\n",
    "        else:\n",
    "            newlayers += [layer]\n",
    "    return newlayers\n",
    "\n",
    "\n"
   ]
  },
  {
   "cell_type": "code",
   "execution_count": null,
   "id": "2521d004",
   "metadata": {},
   "outputs": [],
   "source": []
  },
  {
   "cell_type": "code",
   "execution_count": 52,
   "id": "1bf9542a",
   "metadata": {},
   "outputs": [
    {
     "name": "stdout",
     "output_type": "stream",
     "text": [
      "The model is on CUDA (GPU).\n"
     ]
    },
    {
     "ename": "RuntimeError",
     "evalue": "mat1 and mat2 shapes cannot be multiplied (1024x1 and 256x128)",
     "output_type": "error",
     "traceback": [
      "\u001b[0;31m---------------------------------------------------------------------------\u001b[0m",
      "\u001b[0;31mRuntimeError\u001b[0m                              Traceback (most recent call last)",
      "\u001b[1;32m/home/ak287/PNW_Seismic_Event_Classification/deep_learning/Untitled.ipynb Cell 26\u001b[0m line \u001b[0;36m1\n\u001b[1;32m    <a href='vscode-notebook-cell://ssh-remote%2Bcascadia.ess.washington.edu/home/ak287/PNW_Seismic_Event_Classification/deep_learning/Untitled.ipynb#Y123sdnNjb2RlLXJlbW90ZQ%3D%3D?line=123'>124</a>\u001b[0m device \u001b[39m=\u001b[39m torch\u001b[39m.\u001b[39mdevice(\u001b[39m\"\u001b[39m\u001b[39mcuda\u001b[39m\u001b[39m\"\u001b[39m \u001b[39mif\u001b[39;00m torch\u001b[39m.\u001b[39mcuda\u001b[39m.\u001b[39mis_available() \u001b[39melse\u001b[39;00m \u001b[39m\"\u001b[39m\u001b[39mcpu\u001b[39m\u001b[39m\"\u001b[39m)\n\u001b[1;32m    <a href='vscode-notebook-cell://ssh-remote%2Bcascadia.ess.washington.edu/home/ak287/PNW_Seismic_Event_Classification/deep_learning/Untitled.ipynb#Y123sdnNjb2RlLXJlbW90ZQ%3D%3D?line=124'>125</a>\u001b[0m image \u001b[39m=\u001b[39m \u001b[39mnext\u001b[39m(\u001b[39miter\u001b[39m(test_loader_2d))[\u001b[39m0\u001b[39m][\u001b[39m0\u001b[39m]\u001b[39m.\u001b[39mto(device)\n\u001b[0;32m--> <a href='vscode-notebook-cell://ssh-remote%2Bcascadia.ess.washington.edu/home/ak287/PNW_Seismic_Event_Classification/deep_learning/Untitled.ipynb#Y123sdnNjb2RlLXJlbW90ZQ%3D%3D?line=125'>126</a>\u001b[0m image_relevances \u001b[39m=\u001b[39m apply_lrp_on_quakeXNet(model, image, device)\n\u001b[1;32m    <a href='vscode-notebook-cell://ssh-remote%2Bcascadia.ess.washington.edu/home/ak287/PNW_Seismic_Event_Classification/deep_learning/Untitled.ipynb#Y123sdnNjb2RlLXJlbW90ZQ%3D%3D?line=127'>128</a>\u001b[0m \u001b[39m# Visualizing the relevance scores\u001b[39;00m\n\u001b[1;32m    <a href='vscode-notebook-cell://ssh-remote%2Bcascadia.ess.washington.edu/home/ak287/PNW_Seismic_Event_Classification/deep_learning/Untitled.ipynb#Y123sdnNjb2RlLXJlbW90ZQ%3D%3D?line=128'>129</a>\u001b[0m image_relevances \u001b[39m=\u001b[39m image_relevances\u001b[39m.\u001b[39mpermute(\u001b[39m0\u001b[39m, \u001b[39m2\u001b[39m, \u001b[39m3\u001b[39m, \u001b[39m1\u001b[39m)\u001b[39m.\u001b[39mdetach()\u001b[39m.\u001b[39mcpu()\u001b[39m.\u001b[39mnumpy()[\u001b[39m0\u001b[39m]\n",
      "\u001b[1;32m/home/ak287/PNW_Seismic_Event_Classification/deep_learning/Untitled.ipynb Cell 26\u001b[0m line \u001b[0;36m7\n\u001b[1;32m     <a href='vscode-notebook-cell://ssh-remote%2Bcascadia.ess.washington.edu/home/ak287/PNW_Seismic_Event_Classification/deep_learning/Untitled.ipynb#Y123sdnNjb2RlLXJlbW90ZQ%3D%3D?line=72'>73</a>\u001b[0m \u001b[39mif\u001b[39;00m layer \u001b[39min\u001b[39;00m linear_layer_indices:\n\u001b[1;32m     <a href='vscode-notebook-cell://ssh-remote%2Bcascadia.ess.washington.edu/home/ak287/PNW_Seismic_Event_Classification/deep_learning/Untitled.ipynb#Y123sdnNjb2RlLXJlbW90ZQ%3D%3D?line=73'>74</a>\u001b[0m     activations[layer] \u001b[39m=\u001b[39m activations[layer]\u001b[39m.\u001b[39mreshape((\u001b[39m32\u001b[39m, \u001b[39m32\u001b[39m, \u001b[39m1\u001b[39m, \u001b[39m1\u001b[39m))\n\u001b[0;32m---> <a href='vscode-notebook-cell://ssh-remote%2Bcascadia.ess.washington.edu/home/ak287/PNW_Seismic_Event_Classification/deep_learning/Untitled.ipynb#Y123sdnNjb2RlLXJlbW90ZQ%3D%3D?line=74'>75</a>\u001b[0m activation \u001b[39m=\u001b[39m layers[layer]\u001b[39m.\u001b[39;49mforward(activations[layer])\n\u001b[1;32m     <a href='vscode-notebook-cell://ssh-remote%2Bcascadia.ess.washington.edu/home/ak287/PNW_Seismic_Event_Classification/deep_learning/Untitled.ipynb#Y123sdnNjb2RlLXJlbW90ZQ%3D%3D?line=75'>76</a>\u001b[0m \u001b[39mif\u001b[39;00m \u001b[39misinstance\u001b[39m(layers[layer], torch\u001b[39m.\u001b[39mnn\u001b[39m.\u001b[39mMaxPool2d):\n\u001b[1;32m     <a href='vscode-notebook-cell://ssh-remote%2Bcascadia.ess.washington.edu/home/ak287/PNW_Seismic_Event_Classification/deep_learning/Untitled.ipynb#Y123sdnNjb2RlLXJlbW90ZQ%3D%3D?line=76'>77</a>\u001b[0m     activation \u001b[39m=\u001b[39m torch\u001b[39m.\u001b[39mflatten(activation, start_dim\u001b[39m=\u001b[39m\u001b[39m1\u001b[39m)\n",
      "File \u001b[0;32m~/miniconda3/envs/surface/lib/python3.9/site-packages/torch/nn/modules/linear.py:117\u001b[0m, in \u001b[0;36mLinear.forward\u001b[0;34m(self, input)\u001b[0m\n\u001b[1;32m    116\u001b[0m \u001b[39mdef\u001b[39;00m \u001b[39mforward\u001b[39m(\u001b[39mself\u001b[39m, \u001b[39minput\u001b[39m: Tensor) \u001b[39m-\u001b[39m\u001b[39m>\u001b[39m Tensor:\n\u001b[0;32m--> 117\u001b[0m     \u001b[39mreturn\u001b[39;00m F\u001b[39m.\u001b[39;49mlinear(\u001b[39minput\u001b[39;49m, \u001b[39mself\u001b[39;49m\u001b[39m.\u001b[39;49mweight, \u001b[39mself\u001b[39;49m\u001b[39m.\u001b[39;49mbias)\n",
      "\u001b[0;31mRuntimeError\u001b[0m: mat1 and mat2 shapes cannot be multiplied (1024x1 and 256x128)"
     ]
    }
   ],
   "source": [
    "# Utility function to clone layers and apply custom transformations\n",
    "def new_layer(layer, g):\n",
    "    \"\"\"Clone a layer and pass its parameters through the function g.\"\"\"\n",
    "    layer = copy.deepcopy(layer)\n",
    "    try:\n",
    "        layer.weight = torch.nn.Parameter(g(layer.weight))\n",
    "    except AttributeError:\n",
    "        pass\n",
    "    try:\n",
    "        layer.bias = torch.nn.Parameter(g(layer.bias))\n",
    "    except AttributeError:\n",
    "        pass\n",
    "    return layer\n",
    "\n",
    "\n",
    "\n",
    "# Check if CUDA is available\n",
    "device = torch.device(\"cuda\" if torch.cuda.is_available() else \"cpu\")\n",
    "\n",
    "# Move model to the selected device (GPU if available, otherwise CPU)\n",
    "model = model.to(device)\n",
    "\n",
    "\n",
    "# Check if the model is on GPU (CUDA)\n",
    "if next(model.parameters()).is_cuda:\n",
    "    print(\"The model is on CUDA (GPU).\")\n",
    "else:\n",
    "    print(\"The model is on CPU.\")\n",
    "\n",
    "\n",
    "\n",
    "\n",
    "\n",
    "\n",
    "# LRP for QuakeXNet_2d_no_bn model\n",
    "def apply_lrp_on_quakeXNet(model, image, device):\n",
    "    image = torch.unsqueeze(image, 0).to(device)  # Add batch dimension\n",
    "    \n",
    "    # Extract layers from model (skip batchnorm layers)\n",
    "    layers = [\n",
    "        model.conv1, model.conv2, model.conv3, model.conv4,\n",
    "        model.conv5, model.conv6, model.conv7, model.pool1,\n",
    "        model.fc1, model.fc2\n",
    "    ]\n",
    "    \n",
    "    linear_layer_indices = [8,9]  # Index for fully connected layers\n",
    "\n",
    "    # Propagate image through layers and store activations\n",
    "    n_layers = len(layers)\n",
    "    activations = [image] + [None] * n_layers  # List of activations\n",
    "   \n",
    "    for layer in range(n_layers):\n",
    "        if layer in linear_layer_indices:\n",
    "            activations[layer] = activations[layer].reshape((32, 32, 1, 1))\n",
    "        activation = layers[layer].forward(activations[layer])\n",
    "        if isinstance(layers[layer], torch.nn.MaxPool2d):\n",
    "            activation = torch.flatten(activation, start_dim=1)\n",
    "        activations[layer+1] = activation\n",
    "\n",
    "    # Step 3: Replace last layer with one-hot encoding\n",
    "    output_activation = activations[-1].detach().cpu().numpy()\n",
    "    max_activation = output_activation.max()\n",
    "    one_hot_output = [val if val == max_activation else 0 for val in output_activation[0]]\n",
    "\n",
    "    activations[-1] = torch.FloatTensor([one_hot_output]).to(device)\n",
    "\n",
    "    # Step 4: Backpropagate relevance scores\n",
    "    relevances = [None] * n_layers + [activations[-1]]\n",
    "    \n",
    "    for layer in range(n_layers-1, -1, -1):\n",
    "        current = layers[layer]\n",
    "        \n",
    "        # Apply LRP for different layers\n",
    "        if isinstance(current, torch.nn.Conv2d) or isinstance(current, torch.nn.Linear):\n",
    "            activations[layer] = activations[layer].data.requires_grad_(True)\n",
    "\n",
    "            # Apply different rules based on layer depth\n",
    "            if layer <= 3:  # Early layers (Conv layers)\n",
    "                rho = lambda p: p + 0.25 * p.clamp(min=0)\n",
    "                incr = lambda z: z + 1e-9\n",
    "            elif 4 <= layer <= 7:  # Middle layers\n",
    "                rho = lambda p: p\n",
    "                incr = lambda z: z + 1e-9 + 0.25 * ((z ** 2).mean() ** 0.5).data\n",
    "            else:  # Fully connected layers\n",
    "                rho = lambda p: p\n",
    "                incr = lambda z: z + 1e-9\n",
    "\n",
    "            # Transform weights of layer and execute forward pass\n",
    "            z = incr(new_layer(layers[layer], rho).forward(activations[layer]))\n",
    "            s = (relevances[layer+1] / z).data\n",
    "            (z * s).sum().backward()  # Calculate the gradient\n",
    "            c = activations[layer].grad\n",
    "            \n",
    "            # Assign new relevance values\n",
    "            relevances[layer] = (activations[layer] * c).data\n",
    "        else:\n",
    "            relevances[layer] = relevances[layer + 1]\n",
    "\n",
    "    # Step 5: Return the relevance for the input image\n",
    "    return relevances[0]\n",
    "\n",
    "\n",
    "image = torch.randn(3, 129, 38)  # Example input image (3 channels, 129x38 size)\n",
    "device = torch.device(\"cuda\" if torch.cuda.is_available() else \"cpu\")\n",
    "image = next(iter(test_loader_2d))[0][0].to(device)\n",
    "image_relevances = apply_lrp_on_quakeXNet(model, image, device)\n",
    "\n",
    "# Visualizing the relevance scores\n",
    "image_relevances = image_relevances.permute(0, 2, 3, 1).detach().cpu().numpy()[0]\n",
    "image_relevances = np.interp(image_relevances, (image_relevances.min(), image_relevances.max()), (0, 1))\n",
    "\n",
    "# Plot the results\n",
    "plt.axis('off')\n",
    "plt.imshow(image_relevances[:, :, 0], cmap=\"seismic\")\n",
    "plt.show()"
   ]
  },
  {
   "cell_type": "code",
   "execution_count": 56,
   "id": "c2bf672b",
   "metadata": {},
   "outputs": [
    {
     "ename": "RuntimeError",
     "evalue": "shape '[128, 64, 1, 1]' is invalid for input of size 32768",
     "output_type": "error",
     "traceback": [
      "\u001b[0;31m---------------------------------------------------------------------------\u001b[0m",
      "\u001b[0;31mRuntimeError\u001b[0m                              Traceback (most recent call last)",
      "\u001b[1;32m/home/ak287/PNW_Seismic_Event_Classification/deep_learning/Untitled.ipynb Cell 27\u001b[0m line \u001b[0;36m1\n\u001b[0;32m----> <a href='vscode-notebook-cell://ssh-remote%2Bcascadia.ess.washington.edu/home/ak287/PNW_Seismic_Event_Classification/deep_learning/Untitled.ipynb#Y122sdnNjb2RlLXJlbW90ZQ%3D%3D?line=0'>1</a>\u001b[0m dense_to_conv([model\u001b[39m.\u001b[39;49mfc1, model\u001b[39m.\u001b[39;49mfc2])\n",
      "\u001b[1;32m/home/ak287/PNW_Seismic_Event_Classification/deep_learning/Untitled.ipynb Cell 27\u001b[0m line \u001b[0;36m2\n\u001b[1;32m     <a href='vscode-notebook-cell://ssh-remote%2Bcascadia.ess.washington.edu/home/ak287/PNW_Seismic_Event_Classification/deep_learning/Untitled.ipynb#Y122sdnNjb2RlLXJlbW90ZQ%3D%3D?line=22'>23</a>\u001b[0m     m, n \u001b[39m=\u001b[39m \u001b[39m64\u001b[39m, layer\u001b[39m.\u001b[39mweight\u001b[39m.\u001b[39mshape[\u001b[39m0\u001b[39m]\n\u001b[1;32m     <a href='vscode-notebook-cell://ssh-remote%2Bcascadia.ess.washington.edu/home/ak287/PNW_Seismic_Event_Classification/deep_learning/Untitled.ipynb#Y122sdnNjb2RlLXJlbW90ZQ%3D%3D?line=23'>24</a>\u001b[0m     newlayer \u001b[39m=\u001b[39m nn\u001b[39m.\u001b[39mConv2d(m, n, \u001b[39m1\u001b[39m)\n\u001b[0;32m---> <a href='vscode-notebook-cell://ssh-remote%2Bcascadia.ess.washington.edu/home/ak287/PNW_Seismic_Event_Classification/deep_learning/Untitled.ipynb#Y122sdnNjb2RlLXJlbW90ZQ%3D%3D?line=24'>25</a>\u001b[0m     newlayer\u001b[39m.\u001b[39mweight \u001b[39m=\u001b[39m nn\u001b[39m.\u001b[39mParameter(layer\u001b[39m.\u001b[39;49mweight\u001b[39m.\u001b[39;49mreshape(n, m, \u001b[39m1\u001b[39;49m, \u001b[39m1\u001b[39;49m))\n\u001b[1;32m     <a href='vscode-notebook-cell://ssh-remote%2Bcascadia.ess.washington.edu/home/ak287/PNW_Seismic_Event_Classification/deep_learning/Untitled.ipynb#Y122sdnNjb2RlLXJlbW90ZQ%3D%3D?line=25'>26</a>\u001b[0m \u001b[39melse\u001b[39;00m:\n\u001b[1;32m     <a href='vscode-notebook-cell://ssh-remote%2Bcascadia.ess.washington.edu/home/ak287/PNW_Seismic_Event_Classification/deep_learning/Untitled.ipynb#Y122sdnNjb2RlLXJlbW90ZQ%3D%3D?line=26'>27</a>\u001b[0m     m, n \u001b[39m=\u001b[39m layer\u001b[39m.\u001b[39mweight\u001b[39m.\u001b[39mshape[\u001b[39m1\u001b[39m], layer\u001b[39m.\u001b[39mweight\u001b[39m.\u001b[39mshape[\u001b[39m0\u001b[39m]\n",
      "\u001b[0;31mRuntimeError\u001b[0m: shape '[128, 64, 1, 1]' is invalid for input of size 32768"
     ]
    }
   ],
   "source": [
    "dense_to_conv([model.fc1, model.fc2])"
   ]
  },
  {
   "cell_type": "code",
   "execution_count": 46,
   "id": "62266985",
   "metadata": {},
   "outputs": [
    {
     "name": "stdout",
     "output_type": "stream",
     "text": [
      "The model is on CPU.\n"
     ]
    }
   ],
   "source": [
    "# Check if the model is on GPU (CUDA)\n",
    "if next(model.parameters()).is_cuda:\n",
    "    print(\"The model is on CUDA (GPU).\")\n",
    "else:\n",
    "    print(\"The model is on CPU.\")\n"
   ]
  },
  {
   "cell_type": "code",
   "execution_count": 59,
   "id": "9100a2f8",
   "metadata": {},
   "outputs": [
    {
     "data": {
      "text/plain": [
       "256"
      ]
     },
     "execution_count": 59,
     "metadata": {},
     "output_type": "execute_result"
    }
   ],
   "source": [
    "len(model.fc1.weight[0])"
   ]
  },
  {
   "cell_type": "code",
   "execution_count": 62,
   "id": "82ff6ae0",
   "metadata": {},
   "outputs": [
    {
     "data": {
      "text/plain": [
       "torch.Size([128, 256])"
      ]
     },
     "execution_count": 62,
     "metadata": {},
     "output_type": "execute_result"
    }
   ],
   "source": [
    "model.fc1.weight.shape"
   ]
  },
  {
   "cell_type": "code",
   "execution_count": 65,
   "id": "fc496aa1",
   "metadata": {},
   "outputs": [
    {
     "data": {
      "text/plain": [
       "MaxPool2d(kernel_size=2, stride=2, padding=0, dilation=1, ceil_mode=False)"
      ]
     },
     "execution_count": 65,
     "metadata": {},
     "output_type": "execute_result"
    }
   ],
   "source": [
    "model.pool1"
   ]
  },
  {
   "cell_type": "code",
   "execution_count": 72,
   "id": "e7f9e536",
   "metadata": {},
   "outputs": [
    {
     "ename": "RuntimeError",
     "evalue": "Expected all tensors to be on the same device, but found at least two devices, cpu and cuda:0! (when checking argument for argument weight in method wrapper_CUDA___slow_conv2d_forward)",
     "output_type": "error",
     "traceback": [
      "\u001b[0;31m---------------------------------------------------------------------------\u001b[0m",
      "\u001b[0;31mRuntimeError\u001b[0m                              Traceback (most recent call last)",
      "\u001b[1;32m/home/ak287/PNW_Seismic_Event_Classification/deep_learning/Untitled.ipynb Cell 32\u001b[0m line \u001b[0;36m1\n\u001b[0;32m----> <a href='vscode-notebook-cell://ssh-remote%2Bcascadia.ess.washington.edu/home/ak287/PNW_Seismic_Event_Classification/deep_learning/Untitled.ipynb#Y114sdnNjb2RlLXJlbW90ZQ%3D%3D?line=0'>1</a>\u001b[0m model\u001b[39m.\u001b[39;49m_get_conv_output_size(\u001b[39m3\u001b[39;49m, (\u001b[39m129\u001b[39;49m, \u001b[39m38\u001b[39;49m))\n",
      "\u001b[1;32m/home/ak287/PNW_Seismic_Event_Classification/deep_learning/Untitled.ipynb Cell 32\u001b[0m line \u001b[0;36m3\n\u001b[1;32m     <a href='vscode-notebook-cell://ssh-remote%2Bcascadia.ess.washington.edu/home/ak287/PNW_Seismic_Event_Classification/deep_learning/Untitled.ipynb#Y114sdnNjb2RlLXJlbW90ZQ%3D%3D?line=28'>29</a>\u001b[0m dummy_input \u001b[39m=\u001b[39m torch\u001b[39m.\u001b[39mrandn(\u001b[39m1\u001b[39m, num_channels, \u001b[39m*\u001b[39minput_dims)\n\u001b[1;32m     <a href='vscode-notebook-cell://ssh-remote%2Bcascadia.ess.washington.edu/home/ak287/PNW_Seismic_Event_Classification/deep_learning/Untitled.ipynb#Y114sdnNjb2RlLXJlbW90ZQ%3D%3D?line=29'>30</a>\u001b[0m \u001b[39mwith\u001b[39;00m torch\u001b[39m.\u001b[39mno_grad():\n\u001b[0;32m---> <a href='vscode-notebook-cell://ssh-remote%2Bcascadia.ess.washington.edu/home/ak287/PNW_Seismic_Event_Classification/deep_learning/Untitled.ipynb#Y114sdnNjb2RlLXJlbW90ZQ%3D%3D?line=30'>31</a>\u001b[0m     x \u001b[39m=\u001b[39m F\u001b[39m.\u001b[39mrelu(\u001b[39mself\u001b[39;49m\u001b[39m.\u001b[39;49mconv1(dummy_input))\n\u001b[1;32m     <a href='vscode-notebook-cell://ssh-remote%2Bcascadia.ess.washington.edu/home/ak287/PNW_Seismic_Event_Classification/deep_learning/Untitled.ipynb#Y114sdnNjb2RlLXJlbW90ZQ%3D%3D?line=31'>32</a>\u001b[0m     x \u001b[39m=\u001b[39m \u001b[39mself\u001b[39m\u001b[39m.\u001b[39mpool1(F\u001b[39m.\u001b[39mrelu(\u001b[39mself\u001b[39m\u001b[39m.\u001b[39mconv2(x)))\n\u001b[1;32m     <a href='vscode-notebook-cell://ssh-remote%2Bcascadia.ess.washington.edu/home/ak287/PNW_Seismic_Event_Classification/deep_learning/Untitled.ipynb#Y114sdnNjb2RlLXJlbW90ZQ%3D%3D?line=32'>33</a>\u001b[0m     x \u001b[39m=\u001b[39m F\u001b[39m.\u001b[39mrelu(\u001b[39mself\u001b[39m\u001b[39m.\u001b[39mconv3(x))\n",
      "File \u001b[0;32m~/miniconda3/envs/surface/lib/python3.9/site-packages/torch/nn/modules/module.py:1553\u001b[0m, in \u001b[0;36mModule._wrapped_call_impl\u001b[0;34m(self, *args, **kwargs)\u001b[0m\n\u001b[1;32m   1551\u001b[0m     \u001b[39mreturn\u001b[39;00m \u001b[39mself\u001b[39m\u001b[39m.\u001b[39m_compiled_call_impl(\u001b[39m*\u001b[39margs, \u001b[39m*\u001b[39m\u001b[39m*\u001b[39mkwargs)  \u001b[39m# type: ignore[misc]\u001b[39;00m\n\u001b[1;32m   1552\u001b[0m \u001b[39melse\u001b[39;00m:\n\u001b[0;32m-> 1553\u001b[0m     \u001b[39mreturn\u001b[39;00m \u001b[39mself\u001b[39;49m\u001b[39m.\u001b[39;49m_call_impl(\u001b[39m*\u001b[39;49margs, \u001b[39m*\u001b[39;49m\u001b[39m*\u001b[39;49mkwargs)\n",
      "File \u001b[0;32m~/miniconda3/envs/surface/lib/python3.9/site-packages/torch/nn/modules/module.py:1562\u001b[0m, in \u001b[0;36mModule._call_impl\u001b[0;34m(self, *args, **kwargs)\u001b[0m\n\u001b[1;32m   1557\u001b[0m \u001b[39m# If we don't have any hooks, we want to skip the rest of the logic in\u001b[39;00m\n\u001b[1;32m   1558\u001b[0m \u001b[39m# this function, and just call forward.\u001b[39;00m\n\u001b[1;32m   1559\u001b[0m \u001b[39mif\u001b[39;00m \u001b[39mnot\u001b[39;00m (\u001b[39mself\u001b[39m\u001b[39m.\u001b[39m_backward_hooks \u001b[39mor\u001b[39;00m \u001b[39mself\u001b[39m\u001b[39m.\u001b[39m_backward_pre_hooks \u001b[39mor\u001b[39;00m \u001b[39mself\u001b[39m\u001b[39m.\u001b[39m_forward_hooks \u001b[39mor\u001b[39;00m \u001b[39mself\u001b[39m\u001b[39m.\u001b[39m_forward_pre_hooks\n\u001b[1;32m   1560\u001b[0m         \u001b[39mor\u001b[39;00m _global_backward_pre_hooks \u001b[39mor\u001b[39;00m _global_backward_hooks\n\u001b[1;32m   1561\u001b[0m         \u001b[39mor\u001b[39;00m _global_forward_hooks \u001b[39mor\u001b[39;00m _global_forward_pre_hooks):\n\u001b[0;32m-> 1562\u001b[0m     \u001b[39mreturn\u001b[39;00m forward_call(\u001b[39m*\u001b[39;49margs, \u001b[39m*\u001b[39;49m\u001b[39m*\u001b[39;49mkwargs)\n\u001b[1;32m   1564\u001b[0m \u001b[39mtry\u001b[39;00m:\n\u001b[1;32m   1565\u001b[0m     result \u001b[39m=\u001b[39m \u001b[39mNone\u001b[39;00m\n",
      "File \u001b[0;32m~/miniconda3/envs/surface/lib/python3.9/site-packages/torch/nn/modules/conv.py:458\u001b[0m, in \u001b[0;36mConv2d.forward\u001b[0;34m(self, input)\u001b[0m\n\u001b[1;32m    457\u001b[0m \u001b[39mdef\u001b[39;00m \u001b[39mforward\u001b[39m(\u001b[39mself\u001b[39m, \u001b[39minput\u001b[39m: Tensor) \u001b[39m-\u001b[39m\u001b[39m>\u001b[39m Tensor:\n\u001b[0;32m--> 458\u001b[0m     \u001b[39mreturn\u001b[39;00m \u001b[39mself\u001b[39;49m\u001b[39m.\u001b[39;49m_conv_forward(\u001b[39minput\u001b[39;49m, \u001b[39mself\u001b[39;49m\u001b[39m.\u001b[39;49mweight, \u001b[39mself\u001b[39;49m\u001b[39m.\u001b[39;49mbias)\n",
      "File \u001b[0;32m~/miniconda3/envs/surface/lib/python3.9/site-packages/torch/nn/modules/conv.py:454\u001b[0m, in \u001b[0;36mConv2d._conv_forward\u001b[0;34m(self, input, weight, bias)\u001b[0m\n\u001b[1;32m    450\u001b[0m \u001b[39mif\u001b[39;00m \u001b[39mself\u001b[39m\u001b[39m.\u001b[39mpadding_mode \u001b[39m!=\u001b[39m \u001b[39m'\u001b[39m\u001b[39mzeros\u001b[39m\u001b[39m'\u001b[39m:\n\u001b[1;32m    451\u001b[0m     \u001b[39mreturn\u001b[39;00m F\u001b[39m.\u001b[39mconv2d(F\u001b[39m.\u001b[39mpad(\u001b[39minput\u001b[39m, \u001b[39mself\u001b[39m\u001b[39m.\u001b[39m_reversed_padding_repeated_twice, mode\u001b[39m=\u001b[39m\u001b[39mself\u001b[39m\u001b[39m.\u001b[39mpadding_mode),\n\u001b[1;32m    452\u001b[0m                     weight, bias, \u001b[39mself\u001b[39m\u001b[39m.\u001b[39mstride,\n\u001b[1;32m    453\u001b[0m                     _pair(\u001b[39m0\u001b[39m), \u001b[39mself\u001b[39m\u001b[39m.\u001b[39mdilation, \u001b[39mself\u001b[39m\u001b[39m.\u001b[39mgroups)\n\u001b[0;32m--> 454\u001b[0m \u001b[39mreturn\u001b[39;00m F\u001b[39m.\u001b[39;49mconv2d(\u001b[39minput\u001b[39;49m, weight, bias, \u001b[39mself\u001b[39;49m\u001b[39m.\u001b[39;49mstride,\n\u001b[1;32m    455\u001b[0m                 \u001b[39mself\u001b[39;49m\u001b[39m.\u001b[39;49mpadding, \u001b[39mself\u001b[39;49m\u001b[39m.\u001b[39;49mdilation, \u001b[39mself\u001b[39;49m\u001b[39m.\u001b[39;49mgroups)\n",
      "\u001b[0;31mRuntimeError\u001b[0m: Expected all tensors to be on the same device, but found at least two devices, cpu and cuda:0! (when checking argument for argument weight in method wrapper_CUDA___slow_conv2d_forward)"
     ]
    }
   ],
   "source": [
    "model._get_conv_output_size(3, (129, 38))"
   ]
  },
  {
   "cell_type": "code",
   "execution_count": null,
   "metadata": {},
   "outputs": [],
   "source": []
  },
  {
   "cell_type": "code",
   "execution_count": null,
   "id": "612ba7db",
   "metadata": {},
   "outputs": [],
   "source": []
  },
  {
   "cell_type": "code",
   "execution_count": null,
   "id": "98177aeb",
   "metadata": {},
   "outputs": [],
   "source": []
  },
  {
   "cell_type": "code",
   "execution_count": null,
   "id": "1d8d7e4e",
   "metadata": {},
   "outputs": [],
   "source": []
  },
  {
   "cell_type": "code",
   "execution_count": null,
   "id": "f91d4d45",
   "metadata": {},
   "outputs": [],
   "source": []
  },
  {
   "cell_type": "code",
   "execution_count": null,
   "id": "9cbf18ad",
   "metadata": {},
   "outputs": [],
   "source": []
  },
  {
   "cell_type": "code",
   "execution_count": null,
   "id": "6198158c",
   "metadata": {},
   "outputs": [],
   "source": []
  },
  {
   "cell_type": "code",
   "execution_count": null,
   "id": "76f990c3",
   "metadata": {},
   "outputs": [],
   "source": []
  },
  {
   "cell_type": "code",
   "execution_count": null,
   "id": "62b4b1b6",
   "metadata": {},
   "outputs": [],
   "source": []
  },
  {
   "cell_type": "code",
   "execution_count": null,
   "id": "4f602c36",
   "metadata": {},
   "outputs": [],
   "source": []
  },
  {
   "cell_type": "code",
   "execution_count": null,
   "id": "b237ac04",
   "metadata": {},
   "outputs": [],
   "source": []
  },
  {
   "cell_type": "code",
   "execution_count": null,
   "metadata": {},
   "outputs": [],
   "source": []
  },
  {
   "cell_type": "code",
   "execution_count": null,
   "id": "82d534db",
   "metadata": {},
   "outputs": [],
   "source": []
  },
  {
   "cell_type": "code",
   "execution_count": 66,
   "id": "f82a73d1",
   "metadata": {},
   "outputs": [
    {
     "data": {
      "text/plain": [
       "8.0"
      ]
     },
     "execution_count": 66,
     "metadata": {},
     "output_type": "execute_result"
    }
   ],
   "source": []
  },
  {
   "cell_type": "code",
   "execution_count": null,
   "id": "e48056c6",
   "metadata": {},
   "outputs": [],
   "source": []
  },
  {
   "cell_type": "code",
   "execution_count": null,
   "id": "9786aa32",
   "metadata": {},
   "outputs": [],
   "source": []
  },
  {
   "cell_type": "code",
   "execution_count": null,
   "id": "c4f23648",
   "metadata": {},
   "outputs": [],
   "source": []
  },
  {
   "cell_type": "code",
   "execution_count": null,
   "id": "a7b9b16a",
   "metadata": {},
   "outputs": [],
   "source": []
  },
  {
   "cell_type": "code",
   "execution_count": null,
   "id": "f63f1770",
   "metadata": {},
   "outputs": [],
   "source": []
  },
  {
   "cell_type": "code",
   "execution_count": 47,
   "id": "2346d122",
   "metadata": {},
   "outputs": [
    {
     "name": "stdout",
     "output_type": "stream",
     "text": [
      "Collecting captum\n",
      "  Downloading captum-0.7.0-py3-none-any.whl.metadata (26 kB)\n",
      "Requirement already satisfied: matplotlib in /home/ak287/miniconda3/envs/surface/lib/python3.9/site-packages (from captum) (3.4.2)\n",
      "Requirement already satisfied: numpy in /home/ak287/miniconda3/envs/surface/lib/python3.9/site-packages (from captum) (1.23.5)\n",
      "Requirement already satisfied: torch>=1.6 in /home/ak287/miniconda3/envs/surface/lib/python3.9/site-packages (from captum) (2.5.1)\n",
      "Requirement already satisfied: tqdm in /home/ak287/miniconda3/envs/surface/lib/python3.9/site-packages (from captum) (4.61.1)\n",
      "Requirement already satisfied: filelock in /home/ak287/miniconda3/envs/surface/lib/python3.9/site-packages (from torch>=1.6->captum) (3.15.4)\n",
      "Requirement already satisfied: typing-extensions>=4.8.0 in /home/ak287/miniconda3/envs/surface/lib/python3.9/site-packages (from torch>=1.6->captum) (4.11.0)\n",
      "Requirement already satisfied: networkx in /home/ak287/miniconda3/envs/surface/lib/python3.9/site-packages (from torch>=1.6->captum) (3.2.1)\n",
      "Requirement already satisfied: jinja2 in /home/ak287/miniconda3/envs/surface/lib/python3.9/site-packages (from torch>=1.6->captum) (3.1.3)\n",
      "Requirement already satisfied: fsspec in /home/ak287/.local/lib/python3.9/site-packages (from torch>=1.6->captum) (2022.5.0)\n",
      "Requirement already satisfied: nvidia-cuda-nvrtc-cu12==12.4.127 in /home/ak287/miniconda3/envs/surface/lib/python3.9/site-packages (from torch>=1.6->captum) (12.4.127)\n",
      "Requirement already satisfied: nvidia-cuda-runtime-cu12==12.4.127 in /home/ak287/miniconda3/envs/surface/lib/python3.9/site-packages (from torch>=1.6->captum) (12.4.127)\n",
      "Requirement already satisfied: nvidia-cuda-cupti-cu12==12.4.127 in /home/ak287/miniconda3/envs/surface/lib/python3.9/site-packages (from torch>=1.6->captum) (12.4.127)\n",
      "Requirement already satisfied: nvidia-cudnn-cu12==9.1.0.70 in /home/ak287/miniconda3/envs/surface/lib/python3.9/site-packages (from torch>=1.6->captum) (9.1.0.70)\n",
      "Requirement already satisfied: nvidia-cublas-cu12==12.4.5.8 in /home/ak287/miniconda3/envs/surface/lib/python3.9/site-packages (from torch>=1.6->captum) (12.4.5.8)\n",
      "Requirement already satisfied: nvidia-cufft-cu12==11.2.1.3 in /home/ak287/miniconda3/envs/surface/lib/python3.9/site-packages (from torch>=1.6->captum) (11.2.1.3)\n",
      "Requirement already satisfied: nvidia-curand-cu12==10.3.5.147 in /home/ak287/miniconda3/envs/surface/lib/python3.9/site-packages (from torch>=1.6->captum) (10.3.5.147)\n",
      "Requirement already satisfied: nvidia-cusolver-cu12==11.6.1.9 in /home/ak287/miniconda3/envs/surface/lib/python3.9/site-packages (from torch>=1.6->captum) (11.6.1.9)\n",
      "Requirement already satisfied: nvidia-cusparse-cu12==12.3.1.170 in /home/ak287/miniconda3/envs/surface/lib/python3.9/site-packages (from torch>=1.6->captum) (12.3.1.170)\n",
      "Requirement already satisfied: nvidia-nccl-cu12==2.21.5 in /home/ak287/miniconda3/envs/surface/lib/python3.9/site-packages (from torch>=1.6->captum) (2.21.5)\n",
      "Requirement already satisfied: nvidia-nvtx-cu12==12.4.127 in /home/ak287/miniconda3/envs/surface/lib/python3.9/site-packages (from torch>=1.6->captum) (12.4.127)\n",
      "Requirement already satisfied: nvidia-nvjitlink-cu12==12.4.127 in /home/ak287/miniconda3/envs/surface/lib/python3.9/site-packages (from torch>=1.6->captum) (12.4.127)\n",
      "Requirement already satisfied: triton==3.1.0 in /home/ak287/miniconda3/envs/surface/lib/python3.9/site-packages (from torch>=1.6->captum) (3.1.0)\n",
      "Requirement already satisfied: sympy==1.13.1 in /home/ak287/miniconda3/envs/surface/lib/python3.9/site-packages (from torch>=1.6->captum) (1.13.1)\n",
      "Requirement already satisfied: mpmath<1.4,>=1.1.0 in /home/ak287/miniconda3/envs/surface/lib/python3.9/site-packages (from sympy==1.13.1->torch>=1.6->captum) (1.3.0)\n",
      "Requirement already satisfied: cycler>=0.10 in /home/ak287/miniconda3/envs/surface/lib/python3.9/site-packages (from matplotlib->captum) (0.12.1)\n",
      "Requirement already satisfied: kiwisolver>=1.0.1 in /home/ak287/miniconda3/envs/surface/lib/python3.9/site-packages (from matplotlib->captum) (1.4.5)\n",
      "Requirement already satisfied: pillow>=6.2.0 in /home/ak287/miniconda3/envs/surface/lib/python3.9/site-packages (from matplotlib->captum) (10.3.0)\n",
      "Requirement already satisfied: pyparsing>=2.2.1 in /home/ak287/miniconda3/envs/surface/lib/python3.9/site-packages (from matplotlib->captum) (3.1.2)\n",
      "Requirement already satisfied: python-dateutil>=2.7 in /home/ak287/miniconda3/envs/surface/lib/python3.9/site-packages (from matplotlib->captum) (2.8.1)\n",
      "Requirement already satisfied: six>=1.5 in /home/ak287/miniconda3/envs/surface/lib/python3.9/site-packages (from python-dateutil>=2.7->matplotlib->captum) (1.16.0)\n",
      "Requirement already satisfied: MarkupSafe>=2.0 in /home/ak287/miniconda3/envs/surface/lib/python3.9/site-packages (from jinja2->torch>=1.6->captum) (2.1.5)\n",
      "Downloading captum-0.7.0-py3-none-any.whl (1.3 MB)\n",
      "\u001b[2K   \u001b[90m━━━━━━━━━━━━━━━━━━━━━━━━━━━━━━━━━━━━━━━━\u001b[0m \u001b[32m1.3/1.3 MB\u001b[0m \u001b[31m8.3 MB/s\u001b[0m eta \u001b[36m0:00:00\u001b[0ma \u001b[36m0:00:01\u001b[0m\n",
      "\u001b[?25hInstalling collected packages: captum\n",
      "Successfully installed captum-0.7.0\n"
     ]
    }
   ],
   "source": [
    "!pip install captum"
   ]
  },
  {
   "cell_type": "code",
   "execution_count": 48,
   "id": "ac22618c",
   "metadata": {},
   "outputs": [
    {
     "data": {
      "text/plain": [
       "4"
      ]
     },
     "execution_count": 48,
     "metadata": {},
     "output_type": "execute_result"
    }
   ],
   "source": []
  },
  {
   "cell_type": "code",
   "execution_count": null,
   "id": "a33d6a15",
   "metadata": {},
   "outputs": [],
   "source": []
  },
  {
   "cell_type": "code",
   "execution_count": null,
   "id": "532caab3",
   "metadata": {},
   "outputs": [],
   "source": []
  },
  {
   "cell_type": "code",
   "execution_count": null,
   "id": "69343cbc",
   "metadata": {},
   "outputs": [],
   "source": [
    "def compute_average_model_performance(num_iter = 10, model_name = \"model_seismiccnn_1d\", one_d = True, d_su = d_su, d_eq = d_eq, d_exp = d_exp, d_noise = d_noise, learning_rate = learning_rate, criterion = criterion):\n",
    "\n",
    "    new_train_split = 70\n",
    "    new_test_split = 28\n",
    "    new_val_split = 2\n",
    "    n_epochs = 100\n",
    "    batch_size = 128\n",
    "\n",
    "\n",
    "    nos = 3500\n",
    "    avg_cm = []\n",
    "    \n",
    "    for i in range(num_iter):\n",
    "        \n",
    "            \n",
    "        if model_name == \"model_seismiccnn_1d\":\n",
    "            model = SeismicCNN_1d(num_classes=4, num_channels=num_channels,dropout_rate=dropout).to(device)\n",
    "        if model_name == \"model_seismiccnn_2d\":\n",
    "            model = SeismicCNN_2d(num_classes=4, num_channels=num_channels,dropout_rate=dropout).to(device)\n",
    "        if model_name == \"model_mycnn_1d\":\n",
    "            model = MyCNN_1d(num_classes=4, num_channels=num_channels,dropout_rate=dropout).to(device)\n",
    "        if model_name == \"model_mycnn_2d\":\n",
    "            model = MyCNN_2d(num_classes=4, num_channels=num_channels,dropout_rate=dropout).to(device)\n",
    "        if model_name == \"model_myrescnn_2d\":\n",
    "            model = MyResCNN_2d(num_classes=4, num_channels=num_channels,dropout_rate=dropout).to(device)\n",
    "            \n",
    "        # Generate 2000 random numbers between 0 and 3500 (both inclusive)\n",
    "        rn_su = np.random.randint(0, len(d_su), size= 3500)\n",
    "\n",
    "        # Generate 2000 random numbers between 0 and 3500 (both inclusive)\n",
    "        rn_eq = np.random.randint(0, len(d_eq), size= 3500)\n",
    "\n",
    "        # Generate 2000 random numbers between 0 and 3500 (both inclusive)\n",
    "        rn_exp = np.random.randint(0, len(d_exp), size= 3500)\n",
    "\n",
    "        # Generate 2000 random numbers between 0 and 3500 (both inclusive)\n",
    "        rn_noise = np.random.randint(0, len(d_noise), size= 3500)\n",
    "\n",
    "        # concatenate all data into one input\n",
    "        X_1d = np.vstack([d_eq[rn_eq], d_exp[rn_exp], d_noise[rn_noise], d_su[rn_su]])\n",
    "\n",
    "\n",
    "        s_su = extract_spectrograms(waveforms = d_su[rn_su])\n",
    "        s_noise = extract_spectrograms(waveforms = d_noise[rn_noise])\n",
    "        s_eq = extract_spectrograms(waveforms = d_eq[rn_eq])\n",
    "        s_exp = extract_spectrograms(waveforms = d_exp[rn_exp])\n",
    "\n",
    "\n",
    "        X_2d = np.vstack([s_eq, s_exp, s_noise, s_su])\n",
    "\n",
    "\n",
    "        y = [0]*len(d_eq[rn_eq])+[1]*len(d_exp[rn_exp])+[2]*len(d_noise[rn_noise])+[3]*len(d_su[rn_su])\n",
    "\n",
    "        ## Preparing the data loaders for 1d and 2d inputs\n",
    "        train_loader_1d, val_loader_1d, test_loader_1d = return_train_test_val_loaders(X = X_1d, y = y, train_split = new_train_split, test_split = new_test_split, val_split = new_val_split, batch_size = batch_size)\n",
    "        train_loader_2d, val_loader_2d, test_loader_2d = return_train_test_val_loaders(X = X_2d, y = y, train_split = new_train_split, test_split = new_test_split, val_split = new_val_split, batch_size = batch_size)\n",
    "\n",
    "\n",
    "\n",
    "        if one_d:\n",
    "            (loss_time, val_loss_time, val_accuracy_time,test_loss,test_accuracy) = train_model(model,\n",
    "        train_loader_1d,  val_loader_1d, test_loader_1d,n_epochs=n_epochs,learning_rate=learning_rate,\n",
    "        criterion=criterion,augmentation= False, patience = 30)\n",
    "            model.eval()\n",
    "            cm,cr = plot_confusion_matrix_and_cr(model, test_loader_1d, criterion = criterion, batch_size = batch_size)\n",
    "\n",
    "        else:\n",
    "            (loss_time, val_loss_time, val_accuracy_time,test_loss,test_accuracy) = train_model(model,\n",
    "        train_loader_2d,  val_loader_2d, test_loader_2d,n_epochs=n_epochs,learning_rate=learning_rate,\n",
    "        criterion=criterion,augmentation= False, patience = 30)\n",
    "            model.eval()\n",
    "            cm,cr = plot_confusion_matrix_and_cr(model, test_loader_2d, criterion = criterion, batch_size = batch_size)\n",
    "    \n",
    "        avg_cm.append(cm)\n",
    "    \n",
    "    return avg_cm"
   ]
  },
  {
   "cell_type": "code",
   "execution_count": null,
   "id": "64a28cf9",
   "metadata": {},
   "outputs": [],
   "source": []
  },
  {
   "cell_type": "code",
   "execution_count": null,
   "id": "1a559252",
   "metadata": {},
   "outputs": [],
   "source": []
  },
  {
   "cell_type": "code",
   "execution_count": null,
   "id": "ca5e72a4",
   "metadata": {},
   "outputs": [],
   "source": []
  },
  {
   "cell_type": "code",
   "execution_count": null,
   "id": "5e5c6f45",
   "metadata": {},
   "outputs": [],
   "source": []
  },
  {
   "cell_type": "code",
   "execution_count": null,
   "id": "de15e2c2",
   "metadata": {},
   "outputs": [],
   "source": []
  },
  {
   "cell_type": "code",
   "execution_count": null,
   "id": "6b0b9494",
   "metadata": {},
   "outputs": [],
   "source": []
  },
  {
   "cell_type": "code",
   "execution_count": null,
   "id": "d31b005b",
   "metadata": {},
   "outputs": [],
   "source": []
  },
  {
   "cell_type": "code",
   "execution_count": null,
   "id": "ffafd999",
   "metadata": {},
   "outputs": [],
   "source": []
  },
  {
   "cell_type": "code",
   "execution_count": null,
   "id": "9d1397c6",
   "metadata": {},
   "outputs": [],
   "source": []
  },
  {
   "cell_type": "code",
   "execution_count": 2,
   "id": "c4b49446",
   "metadata": {},
   "outputs": [],
   "source": [
    "model = QuakeXNet_2d()"
   ]
  },
  {
   "cell_type": "code",
   "execution_count": 5,
   "id": "c54d3071",
   "metadata": {},
   "outputs": [
    {
     "data": {
      "text/plain": [
       "<bound method Module.children of QuakeXNet_2d(\n",
       "  (conv1): Conv2d(3, 8, kernel_size=(3, 3), stride=(1, 1), padding=(1, 1))\n",
       "  (conv2): Conv2d(8, 8, kernel_size=(3, 3), stride=(2, 2), padding=(1, 1))\n",
       "  (conv3): Conv2d(8, 16, kernel_size=(3, 3), stride=(1, 1), padding=(1, 1))\n",
       "  (conv4): Conv2d(16, 16, kernel_size=(3, 3), stride=(2, 2), padding=(1, 1))\n",
       "  (conv5): Conv2d(16, 32, kernel_size=(3, 3), stride=(1, 1), padding=(1, 1))\n",
       "  (conv6): Conv2d(32, 32, kernel_size=(3, 3), stride=(2, 2), padding=(1, 1))\n",
       "  (conv7): Conv2d(32, 64, kernel_size=(3, 3), stride=(1, 1), padding=(1, 1))\n",
       "  (pool1): MaxPool2d(kernel_size=2, stride=2, padding=0, dilation=1, ceil_mode=False)\n",
       "  (bn1): BatchNorm2d(8, eps=1e-05, momentum=0.1, affine=True, track_running_stats=True)\n",
       "  (bn2): BatchNorm2d(8, eps=1e-05, momentum=0.1, affine=True, track_running_stats=True)\n",
       "  (bn3): BatchNorm2d(16, eps=1e-05, momentum=0.1, affine=True, track_running_stats=True)\n",
       "  (bn4): BatchNorm2d(16, eps=1e-05, momentum=0.1, affine=True, track_running_stats=True)\n",
       "  (bn5): BatchNorm2d(32, eps=1e-05, momentum=0.1, affine=True, track_running_stats=True)\n",
       "  (bn6): BatchNorm2d(32, eps=1e-05, momentum=0.1, affine=True, track_running_stats=True)\n",
       "  (bn7): BatchNorm2d(64, eps=1e-05, momentum=0.1, affine=True, track_running_stats=True)\n",
       "  (fc1): Linear(in_features=256, out_features=128, bias=True)\n",
       "  (fc2): Linear(in_features=128, out_features=4, bias=True)\n",
       "  (fc1_bn): BatchNorm1d(128, eps=1e-05, momentum=0.1, affine=True, track_running_stats=True)\n",
       "  (fc2_bn): BatchNorm1d(4, eps=1e-05, momentum=0.1, affine=True, track_running_stats=True)\n",
       "  (dropout): Dropout(p=0.2, inplace=False)\n",
       ")>"
      ]
     },
     "execution_count": 5,
     "metadata": {},
     "output_type": "execute_result"
    }
   ],
   "source": [
    "model.children\n"
   ]
  },
  {
   "cell_type": "code",
   "execution_count": null,
   "id": "780580ac",
   "metadata": {},
   "outputs": [],
   "source": []
  }
 ],
 "metadata": {
  "kernelspec": {
   "display_name": "surface",
   "language": "python",
   "name": "surface"
  },
  "language_info": {
   "codemirror_mode": {
    "name": "ipython",
    "version": 3
   },
   "file_extension": ".py",
   "mimetype": "text/x-python",
   "name": "python",
   "nbconvert_exporter": "python",
   "pygments_lexer": "ipython3",
   "version": "3.9.5"
  }
 },
 "nbformat": 4,
 "nbformat_minor": 5
}
