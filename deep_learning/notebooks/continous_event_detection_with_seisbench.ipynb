{
 "cells": [
  {
   "cell_type": "code",
   "execution_count": 95,
   "id": "fb7942c4",
   "metadata": {},
   "outputs": [],
   "source": [
    "import obspy\n",
    "import sys\n",
    "sys.path.append('/home/ak287/seisbench/seisbench/models')\n",
    "import seisbench.models as sbm\n",
    "from obspy.clients.fdsn import Client\n",
    "import pandas as pd\n",
    "import numpy as np\n",
    "import matplotlib.pyplot as plt\n",
    "from tqdm import tqdm\n",
    "\n",
    "from obspy.clients.fdsn.mass_downloader import Restrictions, MassDownloader, CircularDomain\n",
    "\n",
    "\n",
    "client = Client('IRIS')"
   ]
  },
  {
   "cell_type": "code",
   "execution_count": 43,
   "id": "2007e73f",
   "metadata": {},
   "outputs": [],
   "source": [
    "#model1 = sbm.QuakeXNetoneD.from_pretrained(\"base\")\n",
    "model2 = sbm.SeismicCNN.from_pretrained(\"base\")"
   ]
  },
  {
   "cell_type": "code",
   "execution_count": 44,
   "id": "0bc0ed9b",
   "metadata": {},
   "outputs": [
    {
     "data": {
      "text/html": [
       "<div>\n",
       "<style scoped>\n",
       "    .dataframe tbody tr th:only-of-type {\n",
       "        vertical-align: middle;\n",
       "    }\n",
       "\n",
       "    .dataframe tbody tr th {\n",
       "        vertical-align: top;\n",
       "    }\n",
       "\n",
       "    .dataframe thead th {\n",
       "        text-align: right;\n",
       "    }\n",
       "</style>\n",
       "<table border=\"1\" class=\"dataframe\">\n",
       "  <thead>\n",
       "    <tr style=\"text-align: right;\">\n",
       "      <th></th>\n",
       "      <th>Date</th>\n",
       "      <th>Time</th>\n",
       "      <th>Lat</th>\n",
       "      <th>Lon</th>\n",
       "      <th>Depth</th>\n",
       "      <th>Mag</th>\n",
       "      <th>Magt</th>\n",
       "      <th>Nst</th>\n",
       "      <th>Gap</th>\n",
       "      <th>Clo</th>\n",
       "      <th>RMS</th>\n",
       "      <th>SRC</th>\n",
       "      <th>EventID</th>\n",
       "      <th>empty</th>\n",
       "    </tr>\n",
       "  </thead>\n",
       "  <tbody>\n",
       "    <tr>\n",
       "      <th>0</th>\n",
       "      <td>2023/06/01</td>\n",
       "      <td>18:01:32.01</td>\n",
       "      <td>46.85080</td>\n",
       "      <td>-121.79300</td>\n",
       "      <td>-3.365</td>\n",
       "      <td>-5.0</td>\n",
       "      <td>Mh</td>\n",
       "      <td>0</td>\n",
       "      <td>0</td>\n",
       "      <td>0</td>\n",
       "      <td>0.00</td>\n",
       "      <td>UW</td>\n",
       "      <td>61929751</td>\n",
       "      <td>NaN</td>\n",
       "    </tr>\n",
       "    <tr>\n",
       "      <th>1</th>\n",
       "      <td>2023/06/01</td>\n",
       "      <td>18:39:58.07</td>\n",
       "      <td>46.87080</td>\n",
       "      <td>-121.73230</td>\n",
       "      <td>-2.877</td>\n",
       "      <td>-5.0</td>\n",
       "      <td>Mh</td>\n",
       "      <td>0</td>\n",
       "      <td>0</td>\n",
       "      <td>0</td>\n",
       "      <td>0.00</td>\n",
       "      <td>UW</td>\n",
       "      <td>61929771</td>\n",
       "      <td>NaN</td>\n",
       "    </tr>\n",
       "    <tr>\n",
       "      <th>2</th>\n",
       "      <td>2023/06/01</td>\n",
       "      <td>22:16:18.26</td>\n",
       "      <td>46.83560</td>\n",
       "      <td>-121.73300</td>\n",
       "      <td>-3.077</td>\n",
       "      <td>-5.0</td>\n",
       "      <td>Mh</td>\n",
       "      <td>0</td>\n",
       "      <td>0</td>\n",
       "      <td>0</td>\n",
       "      <td>0.00</td>\n",
       "      <td>UW</td>\n",
       "      <td>61929851</td>\n",
       "      <td>NaN</td>\n",
       "    </tr>\n",
       "    <tr>\n",
       "      <th>3</th>\n",
       "      <td>2023/06/03</td>\n",
       "      <td>05:11:55.95</td>\n",
       "      <td>46.83560</td>\n",
       "      <td>-121.73300</td>\n",
       "      <td>-3.077</td>\n",
       "      <td>-5.0</td>\n",
       "      <td>Mh</td>\n",
       "      <td>0</td>\n",
       "      <td>0</td>\n",
       "      <td>0</td>\n",
       "      <td>0.00</td>\n",
       "      <td>UW</td>\n",
       "      <td>61930241</td>\n",
       "      <td>NaN</td>\n",
       "    </tr>\n",
       "    <tr>\n",
       "      <th>4</th>\n",
       "      <td>2023/06/04</td>\n",
       "      <td>02:36:58.75</td>\n",
       "      <td>46.85080</td>\n",
       "      <td>-121.79300</td>\n",
       "      <td>-3.365</td>\n",
       "      <td>-5.0</td>\n",
       "      <td>Mh</td>\n",
       "      <td>0</td>\n",
       "      <td>0</td>\n",
       "      <td>0</td>\n",
       "      <td>0.00</td>\n",
       "      <td>UW</td>\n",
       "      <td>61930391</td>\n",
       "      <td>NaN</td>\n",
       "    </tr>\n",
       "    <tr>\n",
       "      <th>5</th>\n",
       "      <td>2023/06/05</td>\n",
       "      <td>06:37:01.29</td>\n",
       "      <td>45.35860</td>\n",
       "      <td>-121.70550</td>\n",
       "      <td>-2.590</td>\n",
       "      <td>-5.0</td>\n",
       "      <td>Mh</td>\n",
       "      <td>0</td>\n",
       "      <td>0</td>\n",
       "      <td>0</td>\n",
       "      <td>0.00</td>\n",
       "      <td>UW</td>\n",
       "      <td>61930566</td>\n",
       "      <td>NaN</td>\n",
       "    </tr>\n",
       "    <tr>\n",
       "      <th>6</th>\n",
       "      <td>2023/06/06</td>\n",
       "      <td>04:41:35.30</td>\n",
       "      <td>46.83560</td>\n",
       "      <td>-121.73300</td>\n",
       "      <td>-3.077</td>\n",
       "      <td>-5.0</td>\n",
       "      <td>Mh</td>\n",
       "      <td>0</td>\n",
       "      <td>0</td>\n",
       "      <td>0</td>\n",
       "      <td>0.00</td>\n",
       "      <td>UW</td>\n",
       "      <td>61930836</td>\n",
       "      <td>NaN</td>\n",
       "    </tr>\n",
       "    <tr>\n",
       "      <th>7</th>\n",
       "      <td>2023/06/06</td>\n",
       "      <td>09:12:18.56</td>\n",
       "      <td>48.75483</td>\n",
       "      <td>-121.83933</td>\n",
       "      <td>-0.500</td>\n",
       "      <td>1.1</td>\n",
       "      <td>ML</td>\n",
       "      <td>6</td>\n",
       "      <td>99</td>\n",
       "      <td>16</td>\n",
       "      <td>0.21</td>\n",
       "      <td>UW</td>\n",
       "      <td>61930856</td>\n",
       "      <td>NaN</td>\n",
       "    </tr>\n",
       "    <tr>\n",
       "      <th>8</th>\n",
       "      <td>2023/06/07</td>\n",
       "      <td>03:52:59.25</td>\n",
       "      <td>46.85080</td>\n",
       "      <td>-121.79300</td>\n",
       "      <td>-3.365</td>\n",
       "      <td>-5.0</td>\n",
       "      <td>Mh</td>\n",
       "      <td>0</td>\n",
       "      <td>0</td>\n",
       "      <td>0</td>\n",
       "      <td>0.00</td>\n",
       "      <td>UW</td>\n",
       "      <td>61931126</td>\n",
       "      <td>NaN</td>\n",
       "    </tr>\n",
       "    <tr>\n",
       "      <th>9</th>\n",
       "      <td>2023/06/07</td>\n",
       "      <td>05:24:16.48</td>\n",
       "      <td>46.83560</td>\n",
       "      <td>-121.73300</td>\n",
       "      <td>-3.077</td>\n",
       "      <td>-5.0</td>\n",
       "      <td>Mh</td>\n",
       "      <td>0</td>\n",
       "      <td>0</td>\n",
       "      <td>0</td>\n",
       "      <td>0.00</td>\n",
       "      <td>UW</td>\n",
       "      <td>61931136</td>\n",
       "      <td>NaN</td>\n",
       "    </tr>\n",
       "  </tbody>\n",
       "</table>\n",
       "</div>"
      ],
      "text/plain": [
       "         Date         Time       Lat        Lon  Depth  Mag Magt  Nst  Gap  \\\n",
       "0  2023/06/01  18:01:32.01  46.85080 -121.79300 -3.365 -5.0   Mh    0    0   \n",
       "1  2023/06/01  18:39:58.07  46.87080 -121.73230 -2.877 -5.0   Mh    0    0   \n",
       "2  2023/06/01  22:16:18.26  46.83560 -121.73300 -3.077 -5.0   Mh    0    0   \n",
       "3  2023/06/03  05:11:55.95  46.83560 -121.73300 -3.077 -5.0   Mh    0    0   \n",
       "4  2023/06/04  02:36:58.75  46.85080 -121.79300 -3.365 -5.0   Mh    0    0   \n",
       "5  2023/06/05  06:37:01.29  45.35860 -121.70550 -2.590 -5.0   Mh    0    0   \n",
       "6  2023/06/06  04:41:35.30  46.83560 -121.73300 -3.077 -5.0   Mh    0    0   \n",
       "7  2023/06/06  09:12:18.56  48.75483 -121.83933 -0.500  1.1   ML    6   99   \n",
       "8  2023/06/07  03:52:59.25  46.85080 -121.79300 -3.365 -5.0   Mh    0    0   \n",
       "9  2023/06/07  05:24:16.48  46.83560 -121.73300 -3.077 -5.0   Mh    0    0   \n",
       "\n",
       "   Clo   RMS SRC   EventID  empty  \n",
       "0    0  0.00  UW  61929751    NaN  \n",
       "1    0  0.00  UW  61929771    NaN  \n",
       "2    0  0.00  UW  61929851    NaN  \n",
       "3    0  0.00  UW  61930241    NaN  \n",
       "4    0  0.00  UW  61930391    NaN  \n",
       "5    0  0.00  UW  61930566    NaN  \n",
       "6    0  0.00  UW  61930836    NaN  \n",
       "7   16  0.21  UW  61930856    NaN  \n",
       "8    0  0.00  UW  61931126    NaN  \n",
       "9    0  0.00  UW  61931136    NaN  "
      ]
     },
     "execution_count": 44,
     "metadata": {},
     "output_type": "execute_result"
    }
   ],
   "source": [
    "su_cat = pd.read_csv('../../data/event_catalogs_for_testing/surface_events_for_testing.csv')\n",
    "su_cat.head(10)"
   ]
  },
  {
   "cell_type": "code",
   "execution_count": 48,
   "id": "dfcc27a9",
   "metadata": {},
   "outputs": [],
   "source": [
    "# Combine Date and Time columns into a single datetime string\n",
    "datetime_strs = su_cat['Date'] + ' ' + su_cat['Time']\n",
    "\n",
    "# Convert each row to UTCDateTime\n",
    "su_cat['UTCDateTime'] = datetime_strs.apply(obspy.UTCDateTime)\n"
   ]
  },
  {
   "cell_type": "code",
   "execution_count": null,
   "id": "49857b61",
   "metadata": {},
   "outputs": [],
   "source": []
  },
  {
   "cell_type": "code",
   "execution_count": null,
   "id": "fa89f3b2",
   "metadata": {},
   "outputs": [],
   "source": []
  },
  {
   "cell_type": "markdown",
   "id": "be9dc85a",
   "metadata": {},
   "source": [
    "## Adding the station info to the catalog"
   ]
  },
  {
   "cell_type": "code",
   "execution_count": null,
   "id": "a8c737db",
   "metadata": {},
   "outputs": [],
   "source": []
  },
  {
   "cell_type": "code",
   "execution_count": 74,
   "id": "afa04e70",
   "metadata": {},
   "outputs": [
    {
     "name": "stderr",
     "output_type": "stream",
     "text": [
      "4it [00:00,  9.04it/s]"
     ]
    },
    {
     "name": "stdout",
     "output_type": "stream",
     "text": [
      "Row 2 failed: No data available for request.\n",
      "HTTP Status code: 204\n",
      "Detailed response of server:\n",
      "\n",
      "\n",
      "Row 3 failed: No data available for request.\n",
      "HTTP Status code: 204\n",
      "Detailed response of server:\n",
      "\n",
      "\n"
     ]
    },
    {
     "name": "stderr",
     "output_type": "stream",
     "text": [
      "8it [00:01,  8.03it/s]"
     ]
    },
    {
     "name": "stdout",
     "output_type": "stream",
     "text": [
      "Row 6 failed: No data available for request.\n",
      "HTTP Status code: 204\n",
      "Detailed response of server:\n",
      "\n",
      "\n",
      "Row 7 failed: No data available for request.\n",
      "HTTP Status code: 204\n",
      "Detailed response of server:\n",
      "\n",
      "\n"
     ]
    },
    {
     "name": "stderr",
     "output_type": "stream",
     "text": [
      "11it [00:02,  3.88it/s]"
     ]
    },
    {
     "name": "stdout",
     "output_type": "stream",
     "text": [
      "Row 9 failed: No data available for request.\n",
      "HTTP Status code: 204\n",
      "Detailed response of server:\n",
      "\n",
      "\n",
      "Row 10 failed: No data available for request.\n",
      "HTTP Status code: 204\n",
      "Detailed response of server:\n",
      "\n",
      "\n"
     ]
    },
    {
     "name": "stderr",
     "output_type": "stream",
     "text": [
      "\r",
      "12it [00:02,  4.62it/s]"
     ]
    },
    {
     "name": "stdout",
     "output_type": "stream",
     "text": [
      "Row 11 failed: No data available for request.\n",
      "HTTP Status code: 204\n",
      "Detailed response of server:\n",
      "\n",
      "\n"
     ]
    },
    {
     "name": "stderr",
     "output_type": "stream",
     "text": [
      "14it [00:03,  2.78it/s]"
     ]
    },
    {
     "name": "stdout",
     "output_type": "stream",
     "text": [
      "Row 13 failed: No data available for request.\n",
      "HTTP Status code: 204\n",
      "Detailed response of server:\n",
      "\n",
      "\n"
     ]
    },
    {
     "name": "stderr",
     "output_type": "stream",
     "text": [
      "17it [00:05,  2.42it/s]"
     ]
    },
    {
     "name": "stdout",
     "output_type": "stream",
     "text": [
      "Row 16 failed: No data available for request.\n",
      "HTTP Status code: 204\n",
      "Detailed response of server:\n",
      "\n",
      "\n"
     ]
    },
    {
     "name": "stderr",
     "output_type": "stream",
     "text": [
      "20it [00:07,  1.82it/s]"
     ]
    },
    {
     "name": "stdout",
     "output_type": "stream",
     "text": [
      "Row 19 failed: No data available for request.\n",
      "HTTP Status code: 204\n",
      "Detailed response of server:\n",
      "\n",
      "\n"
     ]
    },
    {
     "name": "stderr",
     "output_type": "stream",
     "text": [
      "22it [00:08,  1.70it/s]"
     ]
    },
    {
     "name": "stdout",
     "output_type": "stream",
     "text": [
      "Row 21 failed: No data available for request.\n",
      "HTTP Status code: 204\n",
      "Detailed response of server:\n",
      "\n",
      "\n"
     ]
    },
    {
     "name": "stderr",
     "output_type": "stream",
     "text": [
      "27it [00:14,  1.15it/s]"
     ]
    },
    {
     "name": "stdout",
     "output_type": "stream",
     "text": [
      "Row 26 failed: No data available for request.\n",
      "HTTP Status code: 204\n",
      "Detailed response of server:\n",
      "\n",
      "\n"
     ]
    },
    {
     "name": "stderr",
     "output_type": "stream",
     "text": [
      "29it [00:16,  1.19it/s]"
     ]
    },
    {
     "name": "stdout",
     "output_type": "stream",
     "text": [
      "Row 28 failed: No data available for request.\n",
      "HTTP Status code: 204\n",
      "Detailed response of server:\n",
      "\n",
      "\n"
     ]
    },
    {
     "name": "stderr",
     "output_type": "stream",
     "text": [
      "32it [00:17,  2.16it/s]"
     ]
    },
    {
     "name": "stdout",
     "output_type": "stream",
     "text": [
      "Row 30 failed: No data available for request.\n",
      "HTTP Status code: 204\n",
      "Detailed response of server:\n",
      "\n",
      "\n",
      "Row 31 failed: No data available for request.\n",
      "HTTP Status code: 204\n",
      "Detailed response of server:\n",
      "\n",
      "\n"
     ]
    },
    {
     "name": "stderr",
     "output_type": "stream",
     "text": [
      "37it [00:20,  2.59it/s]"
     ]
    },
    {
     "name": "stdout",
     "output_type": "stream",
     "text": [
      "Row 35 failed: No data available for request.\n",
      "HTTP Status code: 204\n",
      "Detailed response of server:\n",
      "\n",
      "\n",
      "Row 36 failed: No data available for request.\n",
      "HTTP Status code: 204\n",
      "Detailed response of server:\n",
      "\n",
      "\n"
     ]
    },
    {
     "name": "stderr",
     "output_type": "stream",
     "text": [
      "\r",
      "38it [00:20,  3.18it/s]"
     ]
    },
    {
     "name": "stdout",
     "output_type": "stream",
     "text": [
      "Row 37 failed: No data available for request.\n",
      "HTTP Status code: 204\n",
      "Detailed response of server:\n",
      "\n",
      "\n"
     ]
    },
    {
     "name": "stderr",
     "output_type": "stream",
     "text": [
      "41it [00:25,  1.12it/s]"
     ]
    },
    {
     "name": "stdout",
     "output_type": "stream",
     "text": [
      "Row 40 failed: No data available for request.\n",
      "HTTP Status code: 204\n",
      "Detailed response of server:\n",
      "\n",
      "\n"
     ]
    },
    {
     "name": "stderr",
     "output_type": "stream",
     "text": [
      "43it [00:25,  1.75it/s]"
     ]
    },
    {
     "name": "stdout",
     "output_type": "stream",
     "text": [
      "Row 42 failed: No data available for request.\n",
      "HTTP Status code: 204\n",
      "Detailed response of server:\n",
      "\n",
      "\n"
     ]
    },
    {
     "name": "stderr",
     "output_type": "stream",
     "text": [
      "48it [00:30,  1.44it/s]"
     ]
    },
    {
     "name": "stdout",
     "output_type": "stream",
     "text": [
      "Row 47 failed: No data available for request.\n",
      "HTTP Status code: 204\n",
      "Detailed response of server:\n",
      "\n",
      "\n"
     ]
    },
    {
     "name": "stderr",
     "output_type": "stream",
     "text": [
      "57it [00:45,  1.04it/s]"
     ]
    },
    {
     "name": "stdout",
     "output_type": "stream",
     "text": [
      "Row 55 failed: No data available for request.\n",
      "HTTP Status code: 204\n",
      "Detailed response of server:\n",
      "\n",
      "\n",
      "Row 56 failed: No data available for request.\n",
      "HTTP Status code: 204\n",
      "Detailed response of server:\n",
      "\n",
      "\n"
     ]
    },
    {
     "name": "stderr",
     "output_type": "stream",
     "text": [
      "65it [00:56,  1.42it/s]"
     ]
    },
    {
     "name": "stdout",
     "output_type": "stream",
     "text": [
      "Row 64 failed: No data available for request.\n",
      "HTTP Status code: 204\n",
      "Detailed response of server:\n",
      "\n",
      "\n"
     ]
    },
    {
     "name": "stderr",
     "output_type": "stream",
     "text": [
      "104it [01:53,  1.40s/it]"
     ]
    },
    {
     "name": "stdout",
     "output_type": "stream",
     "text": [
      "Row 103 failed: No data available for request.\n",
      "HTTP Status code: 204\n",
      "Detailed response of server:\n",
      "\n",
      "\n"
     ]
    },
    {
     "name": "stderr",
     "output_type": "stream",
     "text": [
      "106it [01:56,  1.29s/it]"
     ]
    },
    {
     "name": "stdout",
     "output_type": "stream",
     "text": [
      "Row 105 failed: No data available for request.\n",
      "HTTP Status code: 204\n",
      "Detailed response of server:\n",
      "\n",
      "\n"
     ]
    },
    {
     "name": "stderr",
     "output_type": "stream",
     "text": [
      "140it [02:49,  1.44s/it]"
     ]
    },
    {
     "name": "stdout",
     "output_type": "stream",
     "text": [
      "Row 139 failed: No data available for request.\n",
      "HTTP Status code: 204\n",
      "Detailed response of server:\n",
      "\n",
      "\n"
     ]
    },
    {
     "name": "stderr",
     "output_type": "stream",
     "text": [
      "144it [02:52,  1.54it/s]"
     ]
    },
    {
     "name": "stdout",
     "output_type": "stream",
     "text": [
      "Row 143 failed: No data available for request.\n",
      "HTTP Status code: 204\n",
      "Detailed response of server:\n",
      "\n",
      "\n"
     ]
    },
    {
     "name": "stderr",
     "output_type": "stream",
     "text": [
      "166it [03:14,  1.15it/s]"
     ]
    },
    {
     "name": "stdout",
     "output_type": "stream",
     "text": [
      "Row 164 failed: No data available for request.\n",
      "HTTP Status code: 204\n",
      "Detailed response of server:\n",
      "\n",
      "\n",
      "Row 165 failed: No data available for request.\n",
      "HTTP Status code: 204\n",
      "Detailed response of server:\n",
      "\n",
      "\n"
     ]
    },
    {
     "name": "stderr",
     "output_type": "stream",
     "text": [
      "181it [03:32,  1.33s/it]"
     ]
    },
    {
     "name": "stdout",
     "output_type": "stream",
     "text": [
      "Row 180 failed: No data available for request.\n",
      "HTTP Status code: 204\n",
      "Detailed response of server:\n",
      "\n",
      "\n"
     ]
    },
    {
     "name": "stderr",
     "output_type": "stream",
     "text": [
      "183it [03:33,  1.03it/s]"
     ]
    },
    {
     "name": "stdout",
     "output_type": "stream",
     "text": [
      "Row 182 failed: No data available for request.\n",
      "HTTP Status code: 204\n",
      "Detailed response of server:\n",
      "\n",
      "\n"
     ]
    },
    {
     "name": "stderr",
     "output_type": "stream",
     "text": [
      "191it [03:44,  1.19s/it]"
     ]
    },
    {
     "name": "stdout",
     "output_type": "stream",
     "text": [
      "Row 190 failed: No data available for request.\n",
      "HTTP Status code: 204\n",
      "Detailed response of server:\n",
      "\n",
      "\n"
     ]
    },
    {
     "name": "stderr",
     "output_type": "stream",
     "text": [
      "235it [04:58,  1.36s/it]"
     ]
    },
    {
     "name": "stdout",
     "output_type": "stream",
     "text": [
      "Row 234 failed: No data available for request.\n",
      "HTTP Status code: 204\n",
      "Detailed response of server:\n",
      "\n",
      "\n"
     ]
    },
    {
     "name": "stderr",
     "output_type": "stream",
     "text": [
      "255it [05:37,  1.74s/it]"
     ]
    },
    {
     "name": "stdout",
     "output_type": "stream",
     "text": [
      "Row 254 failed: No data available for request.\n",
      "HTTP Status code: 204\n",
      "Detailed response of server:\n",
      "\n",
      "\n"
     ]
    },
    {
     "name": "stderr",
     "output_type": "stream",
     "text": [
      "266it [05:53,  1.11s/it]"
     ]
    },
    {
     "name": "stdout",
     "output_type": "stream",
     "text": [
      "Row 265 failed: No data available for request.\n",
      "HTTP Status code: 204\n",
      "Detailed response of server:\n",
      "\n",
      "\n"
     ]
    },
    {
     "name": "stderr",
     "output_type": "stream",
     "text": [
      "282it [06:10,  1.14it/s]"
     ]
    },
    {
     "name": "stdout",
     "output_type": "stream",
     "text": [
      "Row 281 failed: No data available for request.\n",
      "HTTP Status code: 204\n",
      "Detailed response of server:\n",
      "\n",
      "\n"
     ]
    },
    {
     "name": "stderr",
     "output_type": "stream",
     "text": [
      "313it [07:19,  1.64s/it]"
     ]
    },
    {
     "name": "stdout",
     "output_type": "stream",
     "text": [
      "Row 312 failed: No data available for request.\n",
      "HTTP Status code: 204\n",
      "Detailed response of server:\n",
      "\n",
      "\n"
     ]
    },
    {
     "name": "stderr",
     "output_type": "stream",
     "text": [
      "319it [07:31,  1.69s/it]"
     ]
    },
    {
     "name": "stdout",
     "output_type": "stream",
     "text": [
      "Row 318 failed: No data available for request.\n",
      "HTTP Status code: 204\n",
      "Detailed response of server:\n",
      "\n",
      "\n"
     ]
    },
    {
     "name": "stderr",
     "output_type": "stream",
     "text": [
      "330it [07:50,  1.62s/it]"
     ]
    },
    {
     "name": "stdout",
     "output_type": "stream",
     "text": [
      "Row 330 failed: No data available for request.\n",
      "HTTP Status code: 204\n",
      "Detailed response of server:\n",
      "\n",
      "\n"
     ]
    },
    {
     "name": "stderr",
     "output_type": "stream",
     "text": [
      "336it [07:53,  1.43it/s]"
     ]
    },
    {
     "name": "stdout",
     "output_type": "stream",
     "text": [
      "Row 334 failed: No data available for request.\n",
      "HTTP Status code: 204\n",
      "Detailed response of server:\n",
      "\n",
      "\n",
      "Row 335 failed: No data available for request.\n",
      "HTTP Status code: 204\n",
      "Detailed response of server:\n",
      "\n",
      "\n"
     ]
    },
    {
     "name": "stderr",
     "output_type": "stream",
     "text": [
      "364it [08:21,  2.03it/s]"
     ]
    },
    {
     "name": "stdout",
     "output_type": "stream",
     "text": [
      "Row 363 failed: No data available for request.\n",
      "HTTP Status code: 204\n",
      "Detailed response of server:\n",
      "\n",
      "\n"
     ]
    },
    {
     "name": "stderr",
     "output_type": "stream",
     "text": [
      "368it [08:24,  1.61it/s]"
     ]
    },
    {
     "name": "stdout",
     "output_type": "stream",
     "text": [
      "Row 368 failed: No data available for request.\n",
      "HTTP Status code: 204\n",
      "Detailed response of server:\n",
      "\n",
      "\n"
     ]
    },
    {
     "name": "stderr",
     "output_type": "stream",
     "text": [
      "380it [08:39,  1.48s/it]"
     ]
    },
    {
     "name": "stdout",
     "output_type": "stream",
     "text": [
      "Row 380 failed: No data available for request.\n",
      "HTTP Status code: 204\n",
      "Detailed response of server:\n",
      "\n",
      "\n"
     ]
    },
    {
     "name": "stderr",
     "output_type": "stream",
     "text": [
      "\r",
      "382it [08:41,  1.27s/it]"
     ]
    },
    {
     "name": "stdout",
     "output_type": "stream",
     "text": [
      "Row 382 failed: No data available for request.\n",
      "HTTP Status code: 204\n",
      "Detailed response of server:\n",
      "\n",
      "\n"
     ]
    },
    {
     "name": "stderr",
     "output_type": "stream",
     "text": [
      "388it [08:47,  1.02s/it]"
     ]
    },
    {
     "name": "stdout",
     "output_type": "stream",
     "text": [
      "Row 388 failed: No data available for request.\n",
      "HTTP Status code: 204\n",
      "Detailed response of server:\n",
      "\n",
      "\n"
     ]
    },
    {
     "name": "stderr",
     "output_type": "stream",
     "text": [
      "393it [08:55,  1.59s/it]"
     ]
    },
    {
     "name": "stdout",
     "output_type": "stream",
     "text": [
      "Row 393 failed: No data available for request.\n",
      "HTTP Status code: 204\n",
      "Detailed response of server:\n",
      "\n",
      "\n"
     ]
    },
    {
     "name": "stderr",
     "output_type": "stream",
     "text": [
      "397it [08:58,  1.03it/s]"
     ]
    },
    {
     "name": "stdout",
     "output_type": "stream",
     "text": [
      "Row 397 failed: No data available for request.\n",
      "HTTP Status code: 204\n",
      "Detailed response of server:\n",
      "\n",
      "\n"
     ]
    },
    {
     "name": "stderr",
     "output_type": "stream",
     "text": [
      "\r",
      "399it [08:59,  1.26it/s]"
     ]
    },
    {
     "name": "stdout",
     "output_type": "stream",
     "text": [
      "Row 399 failed: No data available for request.\n",
      "HTTP Status code: 204\n",
      "Detailed response of server:\n",
      "\n",
      "\n"
     ]
    },
    {
     "name": "stderr",
     "output_type": "stream",
     "text": [
      "403it [09:06,  1.45s/it]"
     ]
    },
    {
     "name": "stdout",
     "output_type": "stream",
     "text": [
      "Row 403 failed: No data available for request.\n",
      "HTTP Status code: 204\n",
      "Detailed response of server:\n",
      "\n",
      "\n"
     ]
    },
    {
     "name": "stderr",
     "output_type": "stream",
     "text": [
      "408it [09:12,  1.32s/it]"
     ]
    },
    {
     "name": "stdout",
     "output_type": "stream",
     "text": [
      "Row 408 failed: No data available for request.\n",
      "HTTP Status code: 204\n",
      "Detailed response of server:\n",
      "\n",
      "\n"
     ]
    },
    {
     "name": "stderr",
     "output_type": "stream",
     "text": [
      "420it [09:27,  1.42s/it]"
     ]
    },
    {
     "name": "stdout",
     "output_type": "stream",
     "text": [
      "Row 420 failed: No data available for request.\n",
      "HTTP Status code: 204\n",
      "Detailed response of server:\n",
      "\n",
      "\n"
     ]
    },
    {
     "name": "stderr",
     "output_type": "stream",
     "text": [
      "\r",
      "422it [09:28,  1.01s/it]"
     ]
    },
    {
     "name": "stdout",
     "output_type": "stream",
     "text": [
      "Row 422 failed: No data available for request.\n",
      "HTTP Status code: 204\n",
      "Detailed response of server:\n",
      "\n",
      "\n"
     ]
    },
    {
     "name": "stderr",
     "output_type": "stream",
     "text": [
      "425it [09:31,  1.04s/it]"
     ]
    },
    {
     "name": "stdout",
     "output_type": "stream",
     "text": [
      "Row 425 failed: No data available for request.\n",
      "HTTP Status code: 204\n",
      "Detailed response of server:\n",
      "\n",
      "\n"
     ]
    },
    {
     "name": "stderr",
     "output_type": "stream",
     "text": [
      "437it [09:44,  1.06s/it]"
     ]
    },
    {
     "name": "stdout",
     "output_type": "stream",
     "text": [
      "Row 437 failed: No data available for request.\n",
      "HTTP Status code: 204\n",
      "Detailed response of server:\n",
      "\n",
      "\n"
     ]
    },
    {
     "name": "stderr",
     "output_type": "stream",
     "text": [
      "441it [09:46,  1.52it/s]"
     ]
    },
    {
     "name": "stdout",
     "output_type": "stream",
     "text": [
      "Row 439 failed: No data available for request.\n",
      "HTTP Status code: 204\n",
      "Detailed response of server:\n",
      "\n",
      "\n",
      "Row 440 failed: No data available for request.\n",
      "HTTP Status code: 204\n",
      "Detailed response of server:\n",
      "\n",
      "\n"
     ]
    },
    {
     "name": "stderr",
     "output_type": "stream",
     "text": [
      "448it [09:51,  1.81it/s]"
     ]
    },
    {
     "name": "stdout",
     "output_type": "stream",
     "text": [
      "Row 446 failed: No data available for request.\n",
      "HTTP Status code: 204\n",
      "Detailed response of server:\n",
      "\n",
      "\n",
      "Row 447 failed: No data available for request.\n",
      "HTTP Status code: 204\n",
      "Detailed response of server:\n",
      "\n",
      "\n"
     ]
    },
    {
     "name": "stderr",
     "output_type": "stream",
     "text": [
      "\r",
      "449it [09:51,  2.05it/s]"
     ]
    },
    {
     "name": "stdout",
     "output_type": "stream",
     "text": [
      "Row 448 failed: No data available for request.\n",
      "HTTP Status code: 204\n",
      "Detailed response of server:\n",
      "\n",
      "\n"
     ]
    },
    {
     "name": "stderr",
     "output_type": "stream",
     "text": [
      "452it [09:54,  1.30it/s]"
     ]
    },
    {
     "name": "stdout",
     "output_type": "stream",
     "text": [
      "Row 452 failed: No data available for request.\n",
      "HTTP Status code: 204\n",
      "Detailed response of server:\n",
      "\n",
      "\n"
     ]
    },
    {
     "name": "stderr",
     "output_type": "stream",
     "text": [
      "456it [09:55,  2.60it/s]"
     ]
    },
    {
     "name": "stdout",
     "output_type": "stream",
     "text": [
      "Row 454 failed: No data available for request.\n",
      "HTTP Status code: 204\n",
      "Detailed response of server:\n",
      "\n",
      "\n",
      "Row 455 failed: No data available for request.\n",
      "HTTP Status code: 204\n",
      "Detailed response of server:\n",
      "\n",
      "\n",
      "Row 456 failed: No data available for request.\n",
      "HTTP Status code: 204\n",
      "Detailed response of server:\n",
      "\n",
      "\n"
     ]
    },
    {
     "name": "stderr",
     "output_type": "stream",
     "text": [
      "460it [09:58,  1.43it/s]"
     ]
    },
    {
     "name": "stdout",
     "output_type": "stream",
     "text": [
      "Row 460 failed: No data available for request.\n",
      "HTTP Status code: 204\n",
      "Detailed response of server:\n",
      "\n",
      "\n"
     ]
    },
    {
     "name": "stderr",
     "output_type": "stream",
     "text": [
      "\r",
      "462it [09:59,  1.79it/s]"
     ]
    },
    {
     "name": "stdout",
     "output_type": "stream",
     "text": [
      "Row 462 failed: No data available for request.\n",
      "HTTP Status code: 204\n",
      "Detailed response of server:\n",
      "\n",
      "\n"
     ]
    },
    {
     "name": "stderr",
     "output_type": "stream",
     "text": [
      "\r",
      "464it [10:00,  1.65it/s]"
     ]
    },
    {
     "name": "stdout",
     "output_type": "stream",
     "text": [
      "Row 464 failed: No data available for request.\n",
      "HTTP Status code: 204\n",
      "Detailed response of server:\n",
      "\n",
      "\n"
     ]
    },
    {
     "name": "stderr",
     "output_type": "stream",
     "text": [
      "467it [10:02,  1.68it/s]"
     ]
    },
    {
     "name": "stdout",
     "output_type": "stream",
     "text": [
      "Row 467 failed: No data available for request.\n",
      "HTTP Status code: 204\n",
      "Detailed response of server:\n",
      "\n",
      "\n"
     ]
    },
    {
     "name": "stderr",
     "output_type": "stream",
     "text": [
      "475it [10:12,  1.18s/it]"
     ]
    },
    {
     "name": "stdout",
     "output_type": "stream",
     "text": [
      "Row 475 failed: No data available for request.\n",
      "HTTP Status code: 204\n",
      "Detailed response of server:\n",
      "\n",
      "\n"
     ]
    },
    {
     "name": "stderr",
     "output_type": "stream",
     "text": [
      "479it [10:16,  1.08s/it]"
     ]
    },
    {
     "name": "stdout",
     "output_type": "stream",
     "text": [
      "Row 479 failed: No data available for request.\n",
      "HTTP Status code: 204\n",
      "Detailed response of server:\n",
      "\n",
      "\n"
     ]
    },
    {
     "name": "stderr",
     "output_type": "stream",
     "text": [
      "\r",
      "481it [10:17,  1.16it/s]"
     ]
    },
    {
     "name": "stdout",
     "output_type": "stream",
     "text": [
      "Row 480 failed: No data available for request.\n",
      "HTTP Status code: 204\n",
      "Detailed response of server:\n",
      "\n",
      "\n",
      "Row 481 failed: No data available for request.\n",
      "HTTP Status code: 204\n",
      "Detailed response of server:\n",
      "\n",
      "\n"
     ]
    },
    {
     "name": "stderr",
     "output_type": "stream",
     "text": [
      "486it [10:19,  1.77it/s]"
     ]
    },
    {
     "name": "stdout",
     "output_type": "stream",
     "text": [
      "Row 484 failed: No data available for request.\n",
      "HTTP Status code: 204\n",
      "Detailed response of server:\n",
      "\n",
      "\n",
      "Row 485 failed: No data available for request.\n",
      "HTTP Status code: 204\n",
      "Detailed response of server:\n",
      "\n",
      "\n",
      "Row 486 failed: No data available for request.\n",
      "HTTP Status code: 204\n",
      "Detailed response of server:\n",
      "\n",
      "\n"
     ]
    },
    {
     "name": "stderr",
     "output_type": "stream",
     "text": [
      "492it [10:25,  1.32it/s]"
     ]
    },
    {
     "name": "stdout",
     "output_type": "stream",
     "text": [
      "Row 491 failed: No data available for request.\n",
      "HTTP Status code: 204\n",
      "Detailed response of server:\n",
      "\n",
      "\n"
     ]
    },
    {
     "name": "stderr",
     "output_type": "stream",
     "text": [
      "496it [10:28,  1.79it/s]"
     ]
    },
    {
     "name": "stdout",
     "output_type": "stream",
     "text": [
      "Row 494 failed: No data available for request.\n",
      "HTTP Status code: 204\n",
      "Detailed response of server:\n",
      "\n",
      "\n",
      "Row 495 failed: No data available for request.\n",
      "HTTP Status code: 204\n",
      "Detailed response of server:\n",
      "\n",
      "\n"
     ]
    },
    {
     "name": "stderr",
     "output_type": "stream",
     "text": [
      "\r",
      "497it [10:28,  2.35it/s]"
     ]
    },
    {
     "name": "stdout",
     "output_type": "stream",
     "text": [
      "Row 496 failed: No data available for request.\n",
      "HTTP Status code: 204\n",
      "Detailed response of server:\n",
      "\n",
      "\n"
     ]
    },
    {
     "name": "stderr",
     "output_type": "stream",
     "text": [
      "499it [10:29,  2.50it/s]"
     ]
    },
    {
     "name": "stdout",
     "output_type": "stream",
     "text": [
      "Row 498 failed: No data available for request.\n",
      "HTTP Status code: 204\n",
      "Detailed response of server:\n",
      "\n",
      "\n"
     ]
    },
    {
     "name": "stderr",
     "output_type": "stream",
     "text": [
      "502it [10:30,  2.97it/s]"
     ]
    },
    {
     "name": "stdout",
     "output_type": "stream",
     "text": [
      "Row 500 failed: No data available for request.\n",
      "HTTP Status code: 204\n",
      "Detailed response of server:\n",
      "\n",
      "\n",
      "Row 501 failed: No data available for request.\n",
      "HTTP Status code: 204\n",
      "Detailed response of server:\n",
      "\n",
      "\n"
     ]
    },
    {
     "name": "stderr",
     "output_type": "stream",
     "text": [
      "505it [10:32,  2.05it/s]"
     ]
    },
    {
     "name": "stdout",
     "output_type": "stream",
     "text": [
      "Row 504 failed: No data available for request.\n",
      "HTTP Status code: 204\n",
      "Detailed response of server:\n",
      "\n",
      "\n"
     ]
    },
    {
     "name": "stderr",
     "output_type": "stream",
     "text": [
      "\r",
      "506it [10:33,  1.48it/s]"
     ]
    },
    {
     "name": "stdout",
     "output_type": "stream",
     "text": [
      "Row 505 failed: No data available for request.\n",
      "HTTP Status code: 204\n",
      "Detailed response of server:\n",
      "\n",
      "\n"
     ]
    },
    {
     "name": "stderr",
     "output_type": "stream",
     "text": [
      "509it [10:36,  1.52it/s]"
     ]
    },
    {
     "name": "stdout",
     "output_type": "stream",
     "text": [
      "Row 507 failed: No data available for request.\n",
      "HTTP Status code: 204\n",
      "Detailed response of server:\n",
      "\n",
      "\n",
      "Row 508 failed: No data available for request.\n",
      "HTTP Status code: 204\n",
      "Detailed response of server:\n",
      "\n",
      "\n"
     ]
    },
    {
     "name": "stderr",
     "output_type": "stream",
     "text": [
      "512it [10:42,  1.21s/it]"
     ]
    },
    {
     "name": "stdout",
     "output_type": "stream",
     "text": [
      "Row 511 failed: No data available for request.\n",
      "HTTP Status code: 204\n",
      "Detailed response of server:\n",
      "\n",
      "\n"
     ]
    },
    {
     "name": "stderr",
     "output_type": "stream",
     "text": [
      "515it [10:43,  1.51it/s]"
     ]
    },
    {
     "name": "stdout",
     "output_type": "stream",
     "text": [
      "Row 513 failed: No data available for request.\n",
      "HTTP Status code: 204\n",
      "Detailed response of server:\n",
      "\n",
      "\n",
      "Row 514 failed: No data available for request.\n",
      "HTTP Status code: 204\n",
      "Detailed response of server:\n",
      "\n",
      "\n"
     ]
    },
    {
     "name": "stderr",
     "output_type": "stream",
     "text": [
      "518it [10:45,  2.12it/s]"
     ]
    },
    {
     "name": "stdout",
     "output_type": "stream",
     "text": [
      "Row 516 failed: No data available for request.\n",
      "HTTP Status code: 204\n",
      "Detailed response of server:\n",
      "\n",
      "\n",
      "Row 517 failed: No data available for request.\n",
      "HTTP Status code: 204\n",
      "Detailed response of server:\n",
      "\n",
      "\n"
     ]
    },
    {
     "name": "stderr",
     "output_type": "stream",
     "text": [
      "520it [10:45,  3.49it/s]"
     ]
    },
    {
     "name": "stdout",
     "output_type": "stream",
     "text": [
      "Row 518 failed: No data available for request.\n",
      "HTTP Status code: 204\n",
      "Detailed response of server:\n",
      "\n",
      "\n",
      "Row 519 failed: No data available for request.\n",
      "HTTP Status code: 204\n",
      "Detailed response of server:\n",
      "\n",
      "\n"
     ]
    },
    {
     "name": "stderr",
     "output_type": "stream",
     "text": [
      "523it [10:46,  2.67it/s]"
     ]
    },
    {
     "name": "stdout",
     "output_type": "stream",
     "text": [
      "Row 522 failed: No data available for request.\n",
      "HTTP Status code: 204\n",
      "Detailed response of server:\n",
      "\n",
      "\n"
     ]
    },
    {
     "name": "stderr",
     "output_type": "stream",
     "text": [
      "531it [10:54,  1.26it/s]"
     ]
    },
    {
     "name": "stdout",
     "output_type": "stream",
     "text": [
      "Row 529 failed: No data available for request.\n",
      "HTTP Status code: 204\n",
      "Detailed response of server:\n",
      "\n",
      "\n",
      "Row 530 failed: No data available for request.\n",
      "HTTP Status code: 204\n",
      "Detailed response of server:\n",
      "\n",
      "\n"
     ]
    },
    {
     "name": "stderr",
     "output_type": "stream",
     "text": [
      "532it [10:58,  1.24s/it]\n"
     ]
    }
   ],
   "source": [
    "# Add empty columns to store station info\n",
    "su_cat['network'] = None\n",
    "su_cat['station'] = None\n",
    "su_cat['location'] = None\n",
    "su_cat['channel_type'] = None\n",
    "\n",
    "# Iterate through the DataFrame rows\n",
    "for i, row in tqdm(su_cat.iterrows()):\n",
    "    try:\n",
    "        # Query station metadata near event location\n",
    "        inv = client.get_stations(latitude=row['Lat'], \n",
    "                                  longitude=row['Lon'],\n",
    "                                  starttime=row['UTCDateTime'] - 100,\n",
    "                                  endtime=row['UTCDateTime'] + 100,  # add 1 second buffer\n",
    "                                  maxradius=0.0001,\n",
    "                                  level='response')\n",
    "        \n",
    "        # Assume first match is enough\n",
    "        net = inv[0]\n",
    "        sta = net[0]\n",
    "        cha = sta[0]  # First channel (e.g., EHZ)\n",
    "\n",
    "        su_cat.at[i, 'network'] = net.code\n",
    "        su_cat.at[i, 'station'] = sta.code\n",
    "        su_cat.at[i, 'location'] = cha.location_code\n",
    "        su_cat.at[i, 'channel_type'] = cha.code[:2]  # 'EHZ' → 'EH'\n",
    "\n",
    "    except Exception as e:\n",
    "        print(f\"Row {i} failed: {e}\")\n",
    "        continue\n"
   ]
  },
  {
   "cell_type": "markdown",
   "id": "ef1e633b",
   "metadata": {},
   "source": [
    "## Finding all the unique seismic stations. \n",
    "\n",
    "To get an idea of what stations to consider and where to download the data from. "
   ]
  },
  {
   "cell_type": "code",
   "execution_count": 91,
   "id": "287f4de4",
   "metadata": {},
   "outputs": [
    {
     "name": "stdout",
     "output_type": "stream",
     "text": [
      "['B204' 'BRSP' 'CIHL' 'CLBH' 'CPCO' 'HIYU' 'HOA' 'HSR' 'LOO' 'LSON' 'MILD'\n",
      " 'OBSR' 'PALM' 'PANH' 'RCS' 'REM' 'RER' 'SEP' 'SHUK' 'SHW' 'STAR' 'SUG'\n",
      " 'TIMB' 'USFR' 'VALT' 'WIFE' 'YOCR']\n"
     ]
    }
   ],
   "source": [
    "# Filter out None before passing to np.unique\n",
    "valid_stations = [s for s in su_cat['station'].values if s is not None]\n",
    "unique_stations = np.unique(valid_stations)\n",
    "print(unique_stations)"
   ]
  },
  {
   "cell_type": "code",
   "execution_count": null,
   "id": "cb1ff51f",
   "metadata": {},
   "outputs": [],
   "source": []
  },
  {
   "cell_type": "code",
   "execution_count": 88,
   "id": "a498ff0a",
   "metadata": {},
   "outputs": [],
   "source": [
    "# Rectangular domain containing parts of southern Germany.\n",
    "domain = RectangularDomain(minlatitude=30, maxlatitude=50,\n",
    "                           minlongitude=5, maxlongitude=35)\n",
    "\n",
    "restrictions = Restrictions(\n",
    "    # Get data for a whole year.\n",
    "    starttime=obspy.UTCDateTime(2023, 6, 1),\n",
    "    endtime=obspy.UTCDateTime(2023, 6, 3),\n",
    "    # Chunk it to have one file per day.\n",
    "    chunklength_in_sec=86400,\n",
    "    # Considering the enormous amount of data associated with continuous\n",
    "    # requests, you might want to limit the data based on SEED identifiers.\n",
    "    # If the location code is specified, the location priority list is not\n",
    "    # used; the same is true for the channel argument and priority list.\n",
    "    network=\"BW\", station=\"A*\", location=\"\", channel=\"EH*\",\n",
    "    # The typical use case for such a data set are noise correlations where\n",
    "    # gaps are dealt with at a later stage.\n",
    "    reject_channels_with_gaps=False,\n",
    "    # Same is true with the minimum length. All data might be useful.\n",
    "    minimum_length=0.0,\n",
    "    # Guard against the same station having different names.\n",
    "    minimum_interstation_distance_in_m=100.0)\n",
    "\n",
    "# Restrict the number of providers if you know which serve the desired\n",
    "# data. If in doubt just don't specify - then all providers will be\n",
    "# queried.\n",
    "mdl = MassDownloader(providers=[\"IRIS\"])\n",
    "mdl.download(domain, restrictions, mseed_storage=\"../test_data/waveforms\",\n",
    "             stationxml_storage=\"../test_data/stations\")"
   ]
  },
  {
   "cell_type": "code",
   "execution_count": 89,
   "id": "0ca91436",
   "metadata": {},
   "outputs": [
    {
     "data": {
      "text/plain": [
       "1 Trace(s) in Stream:\n",
       "UW.RCS..EHZ | 2023-06-01T00:00:00.000010Z - 2023-06-01T23:59:59.430010Z | 100.0 Hz, 8639944 samples"
      ]
     },
     "execution_count": 89,
     "metadata": {},
     "output_type": "execute_result"
    }
   ],
   "source": []
  },
  {
   "cell_type": "code",
   "execution_count": 97,
   "id": "40f22852",
   "metadata": {},
   "outputs": [
    {
     "name": "stderr",
     "output_type": "stream",
     "text": [
      "[2025-06-09 09:42:48,111] - obspy.clients.fdsn.mass_downloader - INFO: Initializing FDSN client(s) for IRIS.\n",
      "[2025-06-09 09:42:48,111] - obspy.clients.fdsn.mass_downloader - INFO: Initializing FDSN client(s) for IRIS.\n",
      "[2025-06-09 09:42:48,111] - obspy.clients.fdsn.mass_downloader - INFO: Initializing FDSN client(s) for IRIS.\n",
      "[2025-06-09 09:42:48,116] - obspy.clients.fdsn.mass_downloader - INFO: Successfully initialized 1 client(s): IRIS.\n",
      "[2025-06-09 09:42:48,116] - obspy.clients.fdsn.mass_downloader - INFO: Successfully initialized 1 client(s): IRIS.\n",
      "[2025-06-09 09:42:48,116] - obspy.clients.fdsn.mass_downloader - INFO: Successfully initialized 1 client(s): IRIS.\n",
      "[2025-06-09 09:42:48,117] - obspy.clients.fdsn.mass_downloader - INFO: Total acquired or preexisting stations: 0\n",
      "[2025-06-09 09:42:48,117] - obspy.clients.fdsn.mass_downloader - INFO: Total acquired or preexisting stations: 0\n",
      "[2025-06-09 09:42:48,117] - obspy.clients.fdsn.mass_downloader - INFO: Total acquired or preexisting stations: 0\n",
      "[2025-06-09 09:42:48,118] - obspy.clients.fdsn.mass_downloader - INFO: Client 'IRIS' - Requesting reliable availability.\n",
      "[2025-06-09 09:42:48,118] - obspy.clients.fdsn.mass_downloader - INFO: Client 'IRIS' - Requesting reliable availability.\n",
      "[2025-06-09 09:42:48,118] - obspy.clients.fdsn.mass_downloader - INFO: Client 'IRIS' - Requesting reliable availability.\n",
      "[2025-06-09 09:42:48,166] - obspy.clients.fdsn.mass_downloader - INFO: Client 'IRIS' - Successfully requested availability (0.05 seconds)\n",
      "[2025-06-09 09:42:48,166] - obspy.clients.fdsn.mass_downloader - INFO: Client 'IRIS' - Successfully requested availability (0.05 seconds)\n",
      "[2025-06-09 09:42:48,166] - obspy.clients.fdsn.mass_downloader - INFO: Client 'IRIS' - Successfully requested availability (0.05 seconds)\n",
      "[2025-06-09 09:42:48,168] - obspy.clients.fdsn.mass_downloader - INFO: Client 'IRIS' - Found 1 stations (1 channels).\n",
      "[2025-06-09 09:42:48,168] - obspy.clients.fdsn.mass_downloader - INFO: Client 'IRIS' - Found 1 stations (1 channels).\n",
      "[2025-06-09 09:42:48,168] - obspy.clients.fdsn.mass_downloader - INFO: Client 'IRIS' - Found 1 stations (1 channels).\n",
      "[2025-06-09 09:42:48,169] - obspy.clients.fdsn.mass_downloader - INFO: Client 'IRIS' - Will attempt to download data from 1 stations.\n",
      "[2025-06-09 09:42:48,169] - obspy.clients.fdsn.mass_downloader - INFO: Client 'IRIS' - Will attempt to download data from 1 stations.\n",
      "[2025-06-09 09:42:48,169] - obspy.clients.fdsn.mass_downloader - INFO: Client 'IRIS' - Will attempt to download data from 1 stations.\n",
      "[2025-06-09 09:42:48,170] - obspy.clients.fdsn.mass_downloader - INFO: Client 'IRIS' - Status for 2 time intervals/channels before downloading: NEEDS_DOWNLOADING\n",
      "[2025-06-09 09:42:48,170] - obspy.clients.fdsn.mass_downloader - INFO: Client 'IRIS' - Status for 2 time intervals/channels before downloading: NEEDS_DOWNLOADING\n",
      "[2025-06-09 09:42:48,170] - obspy.clients.fdsn.mass_downloader - INFO: Client 'IRIS' - Status for 2 time intervals/channels before downloading: NEEDS_DOWNLOADING\n"
     ]
    },
    {
     "name": "stdout",
     "output_type": "stream",
     "text": [
      "⏳ Downloading UW.RCS...\n"
     ]
    },
    {
     "name": "stderr",
     "output_type": "stream",
     "text": [
      "[2025-06-09 09:42:50,866] - obspy.clients.fdsn.mass_downloader - INFO: Client 'IRIS' - Successfully downloaded 1 channels (of 1)\n",
      "[2025-06-09 09:42:50,866] - obspy.clients.fdsn.mass_downloader - INFO: Client 'IRIS' - Successfully downloaded 1 channels (of 1)\n",
      "[2025-06-09 09:42:50,866] - obspy.clients.fdsn.mass_downloader - INFO: Client 'IRIS' - Successfully downloaded 1 channels (of 1)\n",
      "[2025-06-09 09:42:51,015] - obspy.clients.fdsn.mass_downloader - INFO: Client 'IRIS' - Successfully downloaded 1 channels (of 1)\n",
      "[2025-06-09 09:42:51,015] - obspy.clients.fdsn.mass_downloader - INFO: Client 'IRIS' - Successfully downloaded 1 channels (of 1)\n",
      "[2025-06-09 09:42:51,015] - obspy.clients.fdsn.mass_downloader - INFO: Client 'IRIS' - Successfully downloaded 1 channels (of 1)\n",
      "[2025-06-09 09:42:51,017] - obspy.clients.fdsn.mass_downloader - INFO: Client 'IRIS' - Launching basic QC checks...\n",
      "[2025-06-09 09:42:51,017] - obspy.clients.fdsn.mass_downloader - INFO: Client 'IRIS' - Launching basic QC checks...\n",
      "[2025-06-09 09:42:51,017] - obspy.clients.fdsn.mass_downloader - INFO: Client 'IRIS' - Launching basic QC checks...\n",
      "[2025-06-09 09:42:51,066] - obspy.clients.fdsn.mass_downloader - INFO: Client 'IRIS' - Downloaded 12.5 MB [4498.19 KB/sec] of data, 0.0 MB of which were discarded afterwards.\n",
      "[2025-06-09 09:42:51,066] - obspy.clients.fdsn.mass_downloader - INFO: Client 'IRIS' - Downloaded 12.5 MB [4498.19 KB/sec] of data, 0.0 MB of which were discarded afterwards.\n",
      "[2025-06-09 09:42:51,066] - obspy.clients.fdsn.mass_downloader - INFO: Client 'IRIS' - Downloaded 12.5 MB [4498.19 KB/sec] of data, 0.0 MB of which were discarded afterwards.\n",
      "[2025-06-09 09:42:51,068] - obspy.clients.fdsn.mass_downloader - INFO: Client 'IRIS' - Status for 2 time intervals/channels after downloading: DOWNLOADED\n",
      "[2025-06-09 09:42:51,068] - obspy.clients.fdsn.mass_downloader - INFO: Client 'IRIS' - Status for 2 time intervals/channels after downloading: DOWNLOADED\n",
      "[2025-06-09 09:42:51,068] - obspy.clients.fdsn.mass_downloader - INFO: Client 'IRIS' - Status for 2 time intervals/channels after downloading: DOWNLOADED\n",
      "[2025-06-09 09:42:51,118] - obspy.clients.fdsn.mass_downloader - INFO: Client 'IRIS' - Successfully downloaded 'stations/UW.RCS/UW.RCS.xml'.\n",
      "[2025-06-09 09:42:51,118] - obspy.clients.fdsn.mass_downloader - INFO: Client 'IRIS' - Successfully downloaded 'stations/UW.RCS/UW.RCS.xml'.\n",
      "[2025-06-09 09:42:51,118] - obspy.clients.fdsn.mass_downloader - INFO: Client 'IRIS' - Successfully downloaded 'stations/UW.RCS/UW.RCS.xml'.\n",
      "[2025-06-09 09:42:51,120] - obspy.clients.fdsn.mass_downloader - INFO: Client 'IRIS' - Downloaded 1 station files [0.0 MB] in 0.0 seconds [140.80 KB/sec].\n",
      "[2025-06-09 09:42:51,120] - obspy.clients.fdsn.mass_downloader - INFO: Client 'IRIS' - Downloaded 1 station files [0.0 MB] in 0.0 seconds [140.80 KB/sec].\n",
      "[2025-06-09 09:42:51,120] - obspy.clients.fdsn.mass_downloader - INFO: Client 'IRIS' - Downloaded 1 station files [0.0 MB] in 0.0 seconds [140.80 KB/sec].\n",
      "[2025-06-09 09:42:51,121] - obspy.clients.fdsn.mass_downloader - INFO: ============================== Final report\n",
      "[2025-06-09 09:42:51,121] - obspy.clients.fdsn.mass_downloader - INFO: ============================== Final report\n",
      "[2025-06-09 09:42:51,121] - obspy.clients.fdsn.mass_downloader - INFO: ============================== Final report\n",
      "[2025-06-09 09:42:51,122] - obspy.clients.fdsn.mass_downloader - INFO: 0 MiniSEED files [0.0 MB] already existed.\n",
      "[2025-06-09 09:42:51,122] - obspy.clients.fdsn.mass_downloader - INFO: 0 MiniSEED files [0.0 MB] already existed.\n",
      "[2025-06-09 09:42:51,122] - obspy.clients.fdsn.mass_downloader - INFO: 0 MiniSEED files [0.0 MB] already existed.\n",
      "[2025-06-09 09:42:51,123] - obspy.clients.fdsn.mass_downloader - INFO: 0 StationXML files [0.0 MB] already existed.\n",
      "[2025-06-09 09:42:51,123] - obspy.clients.fdsn.mass_downloader - INFO: 0 StationXML files [0.0 MB] already existed.\n",
      "[2025-06-09 09:42:51,123] - obspy.clients.fdsn.mass_downloader - INFO: 0 StationXML files [0.0 MB] already existed.\n",
      "[2025-06-09 09:42:51,124] - obspy.clients.fdsn.mass_downloader - INFO: Client 'IRIS' - Acquired 2 MiniSEED files [12.5 MB].\n",
      "[2025-06-09 09:42:51,124] - obspy.clients.fdsn.mass_downloader - INFO: Client 'IRIS' - Acquired 2 MiniSEED files [12.5 MB].\n",
      "[2025-06-09 09:42:51,124] - obspy.clients.fdsn.mass_downloader - INFO: Client 'IRIS' - Acquired 2 MiniSEED files [12.5 MB].\n",
      "[2025-06-09 09:42:51,125] - obspy.clients.fdsn.mass_downloader - INFO: Client 'IRIS' - Acquired 1 StationXML files [0.0 MB].\n",
      "[2025-06-09 09:42:51,125] - obspy.clients.fdsn.mass_downloader - INFO: Client 'IRIS' - Acquired 1 StationXML files [0.0 MB].\n",
      "[2025-06-09 09:42:51,125] - obspy.clients.fdsn.mass_downloader - INFO: Client 'IRIS' - Acquired 1 StationXML files [0.0 MB].\n",
      "[2025-06-09 09:42:51,126] - obspy.clients.fdsn.mass_downloader - INFO: Downloaded 12.5 MB in total.\n",
      "[2025-06-09 09:42:51,126] - obspy.clients.fdsn.mass_downloader - INFO: Downloaded 12.5 MB in total.\n",
      "[2025-06-09 09:42:51,126] - obspy.clients.fdsn.mass_downloader - INFO: Downloaded 12.5 MB in total.\n",
      "[2025-06-09 09:42:51,127] - obspy.clients.fdsn.mass_downloader - INFO: Total acquired or preexisting stations: 0\n",
      "[2025-06-09 09:42:51,127] - obspy.clients.fdsn.mass_downloader - INFO: Total acquired or preexisting stations: 0\n",
      "[2025-06-09 09:42:51,127] - obspy.clients.fdsn.mass_downloader - INFO: Total acquired or preexisting stations: 0\n",
      "[2025-06-09 09:42:51,128] - obspy.clients.fdsn.mass_downloader - INFO: Client 'IRIS' - Requesting reliable availability.\n",
      "[2025-06-09 09:42:51,128] - obspy.clients.fdsn.mass_downloader - INFO: Client 'IRIS' - Requesting reliable availability.\n",
      "[2025-06-09 09:42:51,128] - obspy.clients.fdsn.mass_downloader - INFO: Client 'IRIS' - Requesting reliable availability.\n",
      "[2025-06-09 09:42:51,181] - obspy.clients.fdsn.mass_downloader - INFO: Client 'IRIS' - Successfully requested availability (0.05 seconds)\n",
      "[2025-06-09 09:42:51,181] - obspy.clients.fdsn.mass_downloader - INFO: Client 'IRIS' - Successfully requested availability (0.05 seconds)\n",
      "[2025-06-09 09:42:51,181] - obspy.clients.fdsn.mass_downloader - INFO: Client 'IRIS' - Successfully requested availability (0.05 seconds)\n",
      "[2025-06-09 09:42:51,185] - obspy.clients.fdsn.mass_downloader - INFO: Client 'IRIS' - Found 1 stations (3 channels).\n",
      "[2025-06-09 09:42:51,185] - obspy.clients.fdsn.mass_downloader - INFO: Client 'IRIS' - Found 1 stations (3 channels).\n",
      "[2025-06-09 09:42:51,185] - obspy.clients.fdsn.mass_downloader - INFO: Client 'IRIS' - Found 1 stations (3 channels).\n",
      "[2025-06-09 09:42:51,186] - obspy.clients.fdsn.mass_downloader - INFO: Client 'IRIS' - Will attempt to download data from 1 stations.\n",
      "[2025-06-09 09:42:51,186] - obspy.clients.fdsn.mass_downloader - INFO: Client 'IRIS' - Will attempt to download data from 1 stations.\n",
      "[2025-06-09 09:42:51,186] - obspy.clients.fdsn.mass_downloader - INFO: Client 'IRIS' - Will attempt to download data from 1 stations.\n",
      "[2025-06-09 09:42:51,187] - obspy.clients.fdsn.mass_downloader - INFO: Client 'IRIS' - Status for 6 time intervals/channels before downloading: NEEDS_DOWNLOADING\n",
      "[2025-06-09 09:42:51,187] - obspy.clients.fdsn.mass_downloader - INFO: Client 'IRIS' - Status for 6 time intervals/channels before downloading: NEEDS_DOWNLOADING\n",
      "[2025-06-09 09:42:51,187] - obspy.clients.fdsn.mass_downloader - INFO: Client 'IRIS' - Status for 6 time intervals/channels before downloading: NEEDS_DOWNLOADING\n"
     ]
    },
    {
     "name": "stdout",
     "output_type": "stream",
     "text": [
      "⏳ Downloading UW.RER...\n"
     ]
    },
    {
     "name": "stderr",
     "output_type": "stream",
     "text": [
      "[2025-06-09 09:42:55,579] - obspy.clients.fdsn.mass_downloader - INFO: Client 'IRIS' - Successfully downloaded 1 channels (of 1)\n",
      "[2025-06-09 09:42:55,579] - obspy.clients.fdsn.mass_downloader - INFO: Client 'IRIS' - Successfully downloaded 1 channels (of 1)\n",
      "[2025-06-09 09:42:55,579] - obspy.clients.fdsn.mass_downloader - INFO: Client 'IRIS' - Successfully downloaded 1 channels (of 1)\n",
      "[2025-06-09 09:42:55,905] - obspy.clients.fdsn.mass_downloader - INFO: Client 'IRIS' - Successfully downloaded 1 channels (of 1)\n",
      "[2025-06-09 09:42:55,905] - obspy.clients.fdsn.mass_downloader - INFO: Client 'IRIS' - Successfully downloaded 1 channels (of 1)\n",
      "[2025-06-09 09:42:55,905] - obspy.clients.fdsn.mass_downloader - INFO: Client 'IRIS' - Successfully downloaded 1 channels (of 1)\n",
      "[2025-06-09 09:42:55,911] - obspy.clients.fdsn.mass_downloader - INFO: Client 'IRIS' - Successfully downloaded 1 channels (of 1)\n",
      "[2025-06-09 09:42:55,911] - obspy.clients.fdsn.mass_downloader - INFO: Client 'IRIS' - Successfully downloaded 1 channels (of 1)\n",
      "[2025-06-09 09:42:55,911] - obspy.clients.fdsn.mass_downloader - INFO: Client 'IRIS' - Successfully downloaded 1 channels (of 1)\n",
      "[2025-06-09 09:42:59,435] - obspy.clients.fdsn.mass_downloader - INFO: Client 'IRIS' - Successfully downloaded 1 channels (of 1)\n",
      "[2025-06-09 09:42:59,435] - obspy.clients.fdsn.mass_downloader - INFO: Client 'IRIS' - Successfully downloaded 1 channels (of 1)\n",
      "[2025-06-09 09:42:59,435] - obspy.clients.fdsn.mass_downloader - INFO: Client 'IRIS' - Successfully downloaded 1 channels (of 1)\n",
      "[2025-06-09 09:43:00,205] - obspy.clients.fdsn.mass_downloader - INFO: Client 'IRIS' - Successfully downloaded 1 channels (of 1)\n",
      "[2025-06-09 09:43:00,205] - obspy.clients.fdsn.mass_downloader - INFO: Client 'IRIS' - Successfully downloaded 1 channels (of 1)\n",
      "[2025-06-09 09:43:00,205] - obspy.clients.fdsn.mass_downloader - INFO: Client 'IRIS' - Successfully downloaded 1 channels (of 1)\n",
      "[2025-06-09 09:43:00,268] - obspy.clients.fdsn.mass_downloader - INFO: Client 'IRIS' - Successfully downloaded 1 channels (of 1)\n",
      "[2025-06-09 09:43:00,268] - obspy.clients.fdsn.mass_downloader - INFO: Client 'IRIS' - Successfully downloaded 1 channels (of 1)\n",
      "[2025-06-09 09:43:00,268] - obspy.clients.fdsn.mass_downloader - INFO: Client 'IRIS' - Successfully downloaded 1 channels (of 1)\n",
      "[2025-06-09 09:43:00,274] - obspy.clients.fdsn.mass_downloader - INFO: Client 'IRIS' - Launching basic QC checks...\n",
      "[2025-06-09 09:43:00,274] - obspy.clients.fdsn.mass_downloader - INFO: Client 'IRIS' - Launching basic QC checks...\n",
      "[2025-06-09 09:43:00,274] - obspy.clients.fdsn.mass_downloader - INFO: Client 'IRIS' - Launching basic QC checks...\n",
      "[2025-06-09 09:43:00,349] - obspy.clients.fdsn.mass_downloader - INFO: Client 'IRIS' - Downloaded 44.7 MB [5042.57 KB/sec] of data, 0.0 MB of which were discarded afterwards.\n",
      "[2025-06-09 09:43:00,349] - obspy.clients.fdsn.mass_downloader - INFO: Client 'IRIS' - Downloaded 44.7 MB [5042.57 KB/sec] of data, 0.0 MB of which were discarded afterwards.\n",
      "[2025-06-09 09:43:00,349] - obspy.clients.fdsn.mass_downloader - INFO: Client 'IRIS' - Downloaded 44.7 MB [5042.57 KB/sec] of data, 0.0 MB of which were discarded afterwards.\n",
      "[2025-06-09 09:43:00,350] - obspy.clients.fdsn.mass_downloader - INFO: Client 'IRIS' - Status for 6 time intervals/channels after downloading: DOWNLOADED\n",
      "[2025-06-09 09:43:00,350] - obspy.clients.fdsn.mass_downloader - INFO: Client 'IRIS' - Status for 6 time intervals/channels after downloading: DOWNLOADED\n",
      "[2025-06-09 09:43:00,350] - obspy.clients.fdsn.mass_downloader - INFO: Client 'IRIS' - Status for 6 time intervals/channels after downloading: DOWNLOADED\n",
      "[2025-06-09 09:43:00,435] - obspy.clients.fdsn.mass_downloader - INFO: Client 'IRIS' - Successfully downloaded 'stations/UW.RER/UW.RER.xml'.\n",
      "[2025-06-09 09:43:00,435] - obspy.clients.fdsn.mass_downloader - INFO: Client 'IRIS' - Successfully downloaded 'stations/UW.RER/UW.RER.xml'.\n",
      "[2025-06-09 09:43:00,435] - obspy.clients.fdsn.mass_downloader - INFO: Client 'IRIS' - Successfully downloaded 'stations/UW.RER/UW.RER.xml'.\n",
      "[2025-06-09 09:43:00,438] - obspy.clients.fdsn.mass_downloader - INFO: Client 'IRIS' - Downloaded 1 station files [0.1 MB] in 0.1 seconds [944.55 KB/sec].\n",
      "[2025-06-09 09:43:00,438] - obspy.clients.fdsn.mass_downloader - INFO: Client 'IRIS' - Downloaded 1 station files [0.1 MB] in 0.1 seconds [944.55 KB/sec].\n",
      "[2025-06-09 09:43:00,438] - obspy.clients.fdsn.mass_downloader - INFO: Client 'IRIS' - Downloaded 1 station files [0.1 MB] in 0.1 seconds [944.55 KB/sec].\n",
      "[2025-06-09 09:43:00,439] - obspy.clients.fdsn.mass_downloader - INFO: ============================== Final report\n",
      "[2025-06-09 09:43:00,439] - obspy.clients.fdsn.mass_downloader - INFO: ============================== Final report\n",
      "[2025-06-09 09:43:00,439] - obspy.clients.fdsn.mass_downloader - INFO: ============================== Final report\n",
      "[2025-06-09 09:43:00,440] - obspy.clients.fdsn.mass_downloader - INFO: 0 MiniSEED files [0.0 MB] already existed.\n",
      "[2025-06-09 09:43:00,440] - obspy.clients.fdsn.mass_downloader - INFO: 0 MiniSEED files [0.0 MB] already existed.\n",
      "[2025-06-09 09:43:00,440] - obspy.clients.fdsn.mass_downloader - INFO: 0 MiniSEED files [0.0 MB] already existed.\n",
      "[2025-06-09 09:43:00,441] - obspy.clients.fdsn.mass_downloader - INFO: 0 StationXML files [0.0 MB] already existed.\n",
      "[2025-06-09 09:43:00,441] - obspy.clients.fdsn.mass_downloader - INFO: 0 StationXML files [0.0 MB] already existed.\n",
      "[2025-06-09 09:43:00,441] - obspy.clients.fdsn.mass_downloader - INFO: 0 StationXML files [0.0 MB] already existed.\n",
      "[2025-06-09 09:43:00,442] - obspy.clients.fdsn.mass_downloader - INFO: Client 'IRIS' - Acquired 6 MiniSEED files [44.7 MB].\n",
      "[2025-06-09 09:43:00,442] - obspy.clients.fdsn.mass_downloader - INFO: Client 'IRIS' - Acquired 6 MiniSEED files [44.7 MB].\n",
      "[2025-06-09 09:43:00,442] - obspy.clients.fdsn.mass_downloader - INFO: Client 'IRIS' - Acquired 6 MiniSEED files [44.7 MB].\n",
      "[2025-06-09 09:43:00,443] - obspy.clients.fdsn.mass_downloader - INFO: Client 'IRIS' - Acquired 1 StationXML files [0.1 MB].\n",
      "[2025-06-09 09:43:00,443] - obspy.clients.fdsn.mass_downloader - INFO: Client 'IRIS' - Acquired 1 StationXML files [0.1 MB].\n",
      "[2025-06-09 09:43:00,443] - obspy.clients.fdsn.mass_downloader - INFO: Client 'IRIS' - Acquired 1 StationXML files [0.1 MB].\n",
      "[2025-06-09 09:43:00,444] - obspy.clients.fdsn.mass_downloader - INFO: Downloaded 44.8 MB in total.\n",
      "[2025-06-09 09:43:00,444] - obspy.clients.fdsn.mass_downloader - INFO: Downloaded 44.8 MB in total.\n",
      "[2025-06-09 09:43:00,444] - obspy.clients.fdsn.mass_downloader - INFO: Downloaded 44.8 MB in total.\n",
      "[2025-06-09 09:43:00,445] - obspy.clients.fdsn.mass_downloader - INFO: Total acquired or preexisting stations: 0\n",
      "[2025-06-09 09:43:00,445] - obspy.clients.fdsn.mass_downloader - INFO: Total acquired or preexisting stations: 0\n",
      "[2025-06-09 09:43:00,445] - obspy.clients.fdsn.mass_downloader - INFO: Total acquired or preexisting stations: 0\n",
      "[2025-06-09 09:43:00,445] - obspy.clients.fdsn.mass_downloader - INFO: Client 'IRIS' - Requesting reliable availability.\n",
      "[2025-06-09 09:43:00,445] - obspy.clients.fdsn.mass_downloader - INFO: Client 'IRIS' - Requesting reliable availability.\n",
      "[2025-06-09 09:43:00,445] - obspy.clients.fdsn.mass_downloader - INFO: Client 'IRIS' - Requesting reliable availability.\n",
      "[2025-06-09 09:43:00,486] - obspy.clients.fdsn.mass_downloader - INFO: Client 'IRIS' - Successfully requested availability (0.04 seconds)\n",
      "[2025-06-09 09:43:00,486] - obspy.clients.fdsn.mass_downloader - INFO: Client 'IRIS' - Successfully requested availability (0.04 seconds)\n",
      "[2025-06-09 09:43:00,486] - obspy.clients.fdsn.mass_downloader - INFO: Client 'IRIS' - Successfully requested availability (0.04 seconds)\n",
      "[2025-06-09 09:43:00,487] - obspy.clients.fdsn.mass_downloader - INFO: Client 'IRIS' - Found 1 stations (3 channels).\n",
      "[2025-06-09 09:43:00,487] - obspy.clients.fdsn.mass_downloader - INFO: Client 'IRIS' - Found 1 stations (3 channels).\n",
      "[2025-06-09 09:43:00,487] - obspy.clients.fdsn.mass_downloader - INFO: Client 'IRIS' - Found 1 stations (3 channels).\n",
      "[2025-06-09 09:43:00,489] - obspy.clients.fdsn.mass_downloader - INFO: Client 'IRIS' - Will attempt to download data from 1 stations.\n"
     ]
    },
    {
     "name": "stderr",
     "output_type": "stream",
     "text": [
      "[2025-06-09 09:43:00,489] - obspy.clients.fdsn.mass_downloader - INFO: Client 'IRIS' - Will attempt to download data from 1 stations.\n",
      "[2025-06-09 09:43:00,489] - obspy.clients.fdsn.mass_downloader - INFO: Client 'IRIS' - Will attempt to download data from 1 stations.\n",
      "[2025-06-09 09:43:00,490] - obspy.clients.fdsn.mass_downloader - INFO: Client 'IRIS' - Status for 6 time intervals/channels before downloading: NEEDS_DOWNLOADING\n",
      "[2025-06-09 09:43:00,490] - obspy.clients.fdsn.mass_downloader - INFO: Client 'IRIS' - Status for 6 time intervals/channels before downloading: NEEDS_DOWNLOADING\n",
      "[2025-06-09 09:43:00,490] - obspy.clients.fdsn.mass_downloader - INFO: Client 'IRIS' - Status for 6 time intervals/channels before downloading: NEEDS_DOWNLOADING\n"
     ]
    },
    {
     "name": "stdout",
     "output_type": "stream",
     "text": [
      "⏳ Downloading UW.STAR...\n"
     ]
    },
    {
     "name": "stderr",
     "output_type": "stream",
     "text": [
      "[2025-06-09 09:43:05,697] - obspy.clients.fdsn.mass_downloader - INFO: Client 'IRIS' - Successfully downloaded 1 channels (of 1)\n",
      "[2025-06-09 09:43:05,697] - obspy.clients.fdsn.mass_downloader - INFO: Client 'IRIS' - Successfully downloaded 1 channels (of 1)\n",
      "[2025-06-09 09:43:05,697] - obspy.clients.fdsn.mass_downloader - INFO: Client 'IRIS' - Successfully downloaded 1 channels (of 1)\n",
      "[2025-06-09 09:43:05,798] - obspy.clients.fdsn.mass_downloader - INFO: Client 'IRIS' - Successfully downloaded 1 channels (of 1)\n",
      "[2025-06-09 09:43:05,798] - obspy.clients.fdsn.mass_downloader - INFO: Client 'IRIS' - Successfully downloaded 1 channels (of 1)\n",
      "[2025-06-09 09:43:05,798] - obspy.clients.fdsn.mass_downloader - INFO: Client 'IRIS' - Successfully downloaded 1 channels (of 1)\n",
      "[2025-06-09 09:43:05,862] - obspy.clients.fdsn.mass_downloader - INFO: Client 'IRIS' - Successfully downloaded 1 channels (of 1)\n",
      "[2025-06-09 09:43:05,862] - obspy.clients.fdsn.mass_downloader - INFO: Client 'IRIS' - Successfully downloaded 1 channels (of 1)\n",
      "[2025-06-09 09:43:05,862] - obspy.clients.fdsn.mass_downloader - INFO: Client 'IRIS' - Successfully downloaded 1 channels (of 1)\n",
      "[2025-06-09 09:43:09,732] - obspy.clients.fdsn.mass_downloader - INFO: Client 'IRIS' - Successfully downloaded 1 channels (of 1)\n",
      "[2025-06-09 09:43:09,732] - obspy.clients.fdsn.mass_downloader - INFO: Client 'IRIS' - Successfully downloaded 1 channels (of 1)\n",
      "[2025-06-09 09:43:09,732] - obspy.clients.fdsn.mass_downloader - INFO: Client 'IRIS' - Successfully downloaded 1 channels (of 1)\n",
      "[2025-06-09 09:43:10,437] - obspy.clients.fdsn.mass_downloader - INFO: Client 'IRIS' - Successfully downloaded 1 channels (of 1)\n",
      "[2025-06-09 09:43:10,437] - obspy.clients.fdsn.mass_downloader - INFO: Client 'IRIS' - Successfully downloaded 1 channels (of 1)\n",
      "[2025-06-09 09:43:10,437] - obspy.clients.fdsn.mass_downloader - INFO: Client 'IRIS' - Successfully downloaded 1 channels (of 1)\n",
      "[2025-06-09 09:43:10,462] - obspy.clients.fdsn.mass_downloader - INFO: Client 'IRIS' - Successfully downloaded 1 channels (of 1)\n",
      "[2025-06-09 09:43:10,462] - obspy.clients.fdsn.mass_downloader - INFO: Client 'IRIS' - Successfully downloaded 1 channels (of 1)\n",
      "[2025-06-09 09:43:10,462] - obspy.clients.fdsn.mass_downloader - INFO: Client 'IRIS' - Successfully downloaded 1 channels (of 1)\n",
      "[2025-06-09 09:43:10,464] - obspy.clients.fdsn.mass_downloader - INFO: Client 'IRIS' - Launching basic QC checks...\n",
      "[2025-06-09 09:43:10,464] - obspy.clients.fdsn.mass_downloader - INFO: Client 'IRIS' - Launching basic QC checks...\n",
      "[2025-06-09 09:43:10,464] - obspy.clients.fdsn.mass_downloader - INFO: Client 'IRIS' - Launching basic QC checks...\n",
      "[2025-06-09 09:43:10,483] - obspy.clients.fdsn.mass_downloader - INFO: File 'waveforms/UW.STAR/UW.STAR.01.EHE__20230601T000000Z__20230602T000000Z.mseed' has 9 traces and thus contains gaps or overlaps. Will be deleted.\n",
      "[2025-06-09 09:43:10,483] - obspy.clients.fdsn.mass_downloader - INFO: File 'waveforms/UW.STAR/UW.STAR.01.EHE__20230601T000000Z__20230602T000000Z.mseed' has 9 traces and thus contains gaps or overlaps. Will be deleted.\n",
      "[2025-06-09 09:43:10,483] - obspy.clients.fdsn.mass_downloader - INFO: File 'waveforms/UW.STAR/UW.STAR.01.EHE__20230601T000000Z__20230602T000000Z.mseed' has 9 traces and thus contains gaps or overlaps. Will be deleted.\n",
      "[2025-06-09 09:43:10,500] - obspy.clients.fdsn.mass_downloader - INFO: File 'waveforms/UW.STAR/UW.STAR.01.EHE__20230602T000000Z__20230603T000000Z.mseed' has 2 traces and thus contains gaps or overlaps. Will be deleted.\n",
      "[2025-06-09 09:43:10,500] - obspy.clients.fdsn.mass_downloader - INFO: File 'waveforms/UW.STAR/UW.STAR.01.EHE__20230602T000000Z__20230603T000000Z.mseed' has 2 traces and thus contains gaps or overlaps. Will be deleted.\n",
      "[2025-06-09 09:43:10,500] - obspy.clients.fdsn.mass_downloader - INFO: File 'waveforms/UW.STAR/UW.STAR.01.EHE__20230602T000000Z__20230603T000000Z.mseed' has 2 traces and thus contains gaps or overlaps. Will be deleted.\n",
      "[2025-06-09 09:43:10,514] - obspy.clients.fdsn.mass_downloader - INFO: File 'waveforms/UW.STAR/UW.STAR.01.EHN__20230601T000000Z__20230602T000000Z.mseed' has 9 traces and thus contains gaps or overlaps. Will be deleted.\n",
      "[2025-06-09 09:43:10,514] - obspy.clients.fdsn.mass_downloader - INFO: File 'waveforms/UW.STAR/UW.STAR.01.EHN__20230601T000000Z__20230602T000000Z.mseed' has 9 traces and thus contains gaps or overlaps. Will be deleted.\n",
      "[2025-06-09 09:43:10,514] - obspy.clients.fdsn.mass_downloader - INFO: File 'waveforms/UW.STAR/UW.STAR.01.EHN__20230601T000000Z__20230602T000000Z.mseed' has 9 traces and thus contains gaps or overlaps. Will be deleted.\n",
      "[2025-06-09 09:43:10,527] - obspy.clients.fdsn.mass_downloader - INFO: File 'waveforms/UW.STAR/UW.STAR.01.EHN__20230602T000000Z__20230603T000000Z.mseed' has 2 traces and thus contains gaps or overlaps. Will be deleted.\n",
      "[2025-06-09 09:43:10,527] - obspy.clients.fdsn.mass_downloader - INFO: File 'waveforms/UW.STAR/UW.STAR.01.EHN__20230602T000000Z__20230603T000000Z.mseed' has 2 traces and thus contains gaps or overlaps. Will be deleted.\n",
      "[2025-06-09 09:43:10,527] - obspy.clients.fdsn.mass_downloader - INFO: File 'waveforms/UW.STAR/UW.STAR.01.EHN__20230602T000000Z__20230603T000000Z.mseed' has 2 traces and thus contains gaps or overlaps. Will be deleted.\n",
      "[2025-06-09 09:43:10,541] - obspy.clients.fdsn.mass_downloader - INFO: File 'waveforms/UW.STAR/UW.STAR.01.EHZ__20230601T000000Z__20230602T000000Z.mseed' has 9 traces and thus contains gaps or overlaps. Will be deleted.\n",
      "[2025-06-09 09:43:10,541] - obspy.clients.fdsn.mass_downloader - INFO: File 'waveforms/UW.STAR/UW.STAR.01.EHZ__20230601T000000Z__20230602T000000Z.mseed' has 9 traces and thus contains gaps or overlaps. Will be deleted.\n",
      "[2025-06-09 09:43:10,541] - obspy.clients.fdsn.mass_downloader - INFO: File 'waveforms/UW.STAR/UW.STAR.01.EHZ__20230601T000000Z__20230602T000000Z.mseed' has 9 traces and thus contains gaps or overlaps. Will be deleted.\n",
      "[2025-06-09 09:43:10,555] - obspy.clients.fdsn.mass_downloader - INFO: File 'waveforms/UW.STAR/UW.STAR.01.EHZ__20230602T000000Z__20230603T000000Z.mseed' has 2 traces and thus contains gaps or overlaps. Will be deleted.\n",
      "[2025-06-09 09:43:10,555] - obspy.clients.fdsn.mass_downloader - INFO: File 'waveforms/UW.STAR/UW.STAR.01.EHZ__20230602T000000Z__20230603T000000Z.mseed' has 2 traces and thus contains gaps or overlaps. Will be deleted.\n",
      "[2025-06-09 09:43:10,555] - obspy.clients.fdsn.mass_downloader - INFO: File 'waveforms/UW.STAR/UW.STAR.01.EHZ__20230602T000000Z__20230603T000000Z.mseed' has 2 traces and thus contains gaps or overlaps. Will be deleted.\n",
      "[2025-06-09 09:43:10,556] - obspy.clients.fdsn.mass_downloader - INFO: Client 'IRIS' - Downloaded 47.3 MB [4858.19 KB/sec] of data, 47.3 MB of which were discarded afterwards.\n",
      "[2025-06-09 09:43:10,556] - obspy.clients.fdsn.mass_downloader - INFO: Client 'IRIS' - Downloaded 47.3 MB [4858.19 KB/sec] of data, 47.3 MB of which were discarded afterwards.\n",
      "[2025-06-09 09:43:10,556] - obspy.clients.fdsn.mass_downloader - INFO: Client 'IRIS' - Downloaded 47.3 MB [4858.19 KB/sec] of data, 47.3 MB of which were discarded afterwards.\n",
      "[2025-06-09 09:43:10,557] - obspy.clients.fdsn.mass_downloader - INFO: Client 'IRIS' - Status for 6 time intervals/channels after downloading: DOWNLOAD_REJECTED\n",
      "[2025-06-09 09:43:10,557] - obspy.clients.fdsn.mass_downloader - INFO: Client 'IRIS' - Status for 6 time intervals/channels after downloading: DOWNLOAD_REJECTED\n",
      "[2025-06-09 09:43:10,557] - obspy.clients.fdsn.mass_downloader - INFO: Client 'IRIS' - Status for 6 time intervals/channels after downloading: DOWNLOAD_REJECTED\n",
      "[2025-06-09 09:43:10,558] - obspy.clients.fdsn.mass_downloader - INFO: Client 'IRIS' - No station information to download.\n",
      "[2025-06-09 09:43:10,558] - obspy.clients.fdsn.mass_downloader - INFO: Client 'IRIS' - No station information to download.\n",
      "[2025-06-09 09:43:10,558] - obspy.clients.fdsn.mass_downloader - INFO: Client 'IRIS' - No station information to download.\n",
      "[2025-06-09 09:43:10,559] - obspy.clients.fdsn.mass_downloader - INFO: Client 'IRIS' - No data could be downloaded.\n",
      "[2025-06-09 09:43:10,559] - obspy.clients.fdsn.mass_downloader - INFO: Client 'IRIS' - No data could be downloaded.\n"
     ]
    },
    {
     "name": "stderr",
     "output_type": "stream",
     "text": [
      "[2025-06-09 09:43:10,559] - obspy.clients.fdsn.mass_downloader - INFO: Client 'IRIS' - No data could be downloaded.\n",
      "[2025-06-09 09:43:10,560] - obspy.clients.fdsn.mass_downloader - INFO: ============================== Final report\n",
      "[2025-06-09 09:43:10,560] - obspy.clients.fdsn.mass_downloader - INFO: ============================== Final report\n",
      "[2025-06-09 09:43:10,560] - obspy.clients.fdsn.mass_downloader - INFO: ============================== Final report\n",
      "[2025-06-09 09:43:10,561] - obspy.clients.fdsn.mass_downloader - INFO: 0 MiniSEED files [0.0 MB] already existed.\n",
      "[2025-06-09 09:43:10,561] - obspy.clients.fdsn.mass_downloader - INFO: 0 MiniSEED files [0.0 MB] already existed.\n",
      "[2025-06-09 09:43:10,561] - obspy.clients.fdsn.mass_downloader - INFO: 0 MiniSEED files [0.0 MB] already existed.\n",
      "[2025-06-09 09:43:10,561] - obspy.clients.fdsn.mass_downloader - INFO: 0 StationXML files [0.0 MB] already existed.\n",
      "[2025-06-09 09:43:10,561] - obspy.clients.fdsn.mass_downloader - INFO: 0 StationXML files [0.0 MB] already existed.\n",
      "[2025-06-09 09:43:10,561] - obspy.clients.fdsn.mass_downloader - INFO: 0 StationXML files [0.0 MB] already existed.\n",
      "[2025-06-09 09:43:10,562] - obspy.clients.fdsn.mass_downloader - INFO: Client 'IRIS' - Acquired 0 MiniSEED files [0.0 MB].\n",
      "[2025-06-09 09:43:10,562] - obspy.clients.fdsn.mass_downloader - INFO: Client 'IRIS' - Acquired 0 MiniSEED files [0.0 MB].\n",
      "[2025-06-09 09:43:10,562] - obspy.clients.fdsn.mass_downloader - INFO: Client 'IRIS' - Acquired 0 MiniSEED files [0.0 MB].\n",
      "[2025-06-09 09:43:10,563] - obspy.clients.fdsn.mass_downloader - INFO: Client 'IRIS' - Acquired 0 StationXML files [0.0 MB].\n",
      "[2025-06-09 09:43:10,563] - obspy.clients.fdsn.mass_downloader - INFO: Client 'IRIS' - Acquired 0 StationXML files [0.0 MB].\n",
      "[2025-06-09 09:43:10,563] - obspy.clients.fdsn.mass_downloader - INFO: Client 'IRIS' - Acquired 0 StationXML files [0.0 MB].\n",
      "[2025-06-09 09:43:10,563] - obspy.clients.fdsn.mass_downloader - INFO: Downloaded 0.0 MB in total.\n",
      "[2025-06-09 09:43:10,563] - obspy.clients.fdsn.mass_downloader - INFO: Downloaded 0.0 MB in total.\n",
      "[2025-06-09 09:43:10,563] - obspy.clients.fdsn.mass_downloader - INFO: Downloaded 0.0 MB in total.\n",
      "[2025-06-09 09:43:10,564] - obspy.clients.fdsn.mass_downloader - INFO: Total acquired or preexisting stations: 0\n",
      "[2025-06-09 09:43:10,564] - obspy.clients.fdsn.mass_downloader - INFO: Total acquired or preexisting stations: 0\n",
      "[2025-06-09 09:43:10,564] - obspy.clients.fdsn.mass_downloader - INFO: Total acquired or preexisting stations: 0\n",
      "[2025-06-09 09:43:10,565] - obspy.clients.fdsn.mass_downloader - INFO: Client 'IRIS' - Requesting reliable availability.\n",
      "[2025-06-09 09:43:10,565] - obspy.clients.fdsn.mass_downloader - INFO: Client 'IRIS' - Requesting reliable availability.\n",
      "[2025-06-09 09:43:10,565] - obspy.clients.fdsn.mass_downloader - INFO: Client 'IRIS' - Requesting reliable availability.\n",
      "[2025-06-09 09:43:10,609] - obspy.clients.fdsn.mass_downloader - INFO: Client 'IRIS' - Successfully requested availability (0.04 seconds)\n",
      "[2025-06-09 09:43:10,609] - obspy.clients.fdsn.mass_downloader - INFO: Client 'IRIS' - Successfully requested availability (0.04 seconds)\n",
      "[2025-06-09 09:43:10,609] - obspy.clients.fdsn.mass_downloader - INFO: Client 'IRIS' - Successfully requested availability (0.04 seconds)\n",
      "[2025-06-09 09:43:10,610] - obspy.clients.fdsn.mass_downloader - INFO: Client 'IRIS' - Found 1 stations (3 channels).\n",
      "[2025-06-09 09:43:10,610] - obspy.clients.fdsn.mass_downloader - INFO: Client 'IRIS' - Found 1 stations (3 channels).\n",
      "[2025-06-09 09:43:10,610] - obspy.clients.fdsn.mass_downloader - INFO: Client 'IRIS' - Found 1 stations (3 channels).\n",
      "[2025-06-09 09:43:10,612] - obspy.clients.fdsn.mass_downloader - INFO: Client 'IRIS' - Will attempt to download data from 1 stations.\n",
      "[2025-06-09 09:43:10,612] - obspy.clients.fdsn.mass_downloader - INFO: Client 'IRIS' - Will attempt to download data from 1 stations.\n",
      "[2025-06-09 09:43:10,612] - obspy.clients.fdsn.mass_downloader - INFO: Client 'IRIS' - Will attempt to download data from 1 stations.\n",
      "[2025-06-09 09:43:10,613] - obspy.clients.fdsn.mass_downloader - INFO: Client 'IRIS' - Status for 6 time intervals/channels before downloading: NEEDS_DOWNLOADING\n",
      "[2025-06-09 09:43:10,613] - obspy.clients.fdsn.mass_downloader - INFO: Client 'IRIS' - Status for 6 time intervals/channels before downloading: NEEDS_DOWNLOADING\n",
      "[2025-06-09 09:43:10,613] - obspy.clients.fdsn.mass_downloader - INFO: Client 'IRIS' - Status for 6 time intervals/channels before downloading: NEEDS_DOWNLOADING\n"
     ]
    },
    {
     "name": "stdout",
     "output_type": "stream",
     "text": [
      "⏳ Downloading CC.PANH...\n"
     ]
    },
    {
     "name": "stderr",
     "output_type": "stream",
     "text": [
      "[2025-06-09 09:43:15,511] - obspy.clients.fdsn.mass_downloader - INFO: Client 'IRIS' - Successfully downloaded 3 channels (of 3)\n",
      "[2025-06-09 09:43:15,511] - obspy.clients.fdsn.mass_downloader - INFO: Client 'IRIS' - Successfully downloaded 3 channels (of 3)\n",
      "[2025-06-09 09:43:15,511] - obspy.clients.fdsn.mass_downloader - INFO: Client 'IRIS' - Successfully downloaded 3 channels (of 3)\n",
      "[2025-06-09 09:43:15,622] - obspy.clients.fdsn.mass_downloader - INFO: Client 'IRIS' - Successfully downloaded 3 channels (of 3)\n",
      "[2025-06-09 09:43:15,622] - obspy.clients.fdsn.mass_downloader - INFO: Client 'IRIS' - Successfully downloaded 3 channels (of 3)\n",
      "[2025-06-09 09:43:15,622] - obspy.clients.fdsn.mass_downloader - INFO: Client 'IRIS' - Successfully downloaded 3 channels (of 3)\n",
      "[2025-06-09 09:43:15,625] - obspy.clients.fdsn.mass_downloader - INFO: Client 'IRIS' - Launching basic QC checks...\n",
      "[2025-06-09 09:43:15,625] - obspy.clients.fdsn.mass_downloader - INFO: Client 'IRIS' - Launching basic QC checks...\n",
      "[2025-06-09 09:43:15,625] - obspy.clients.fdsn.mass_downloader - INFO: Client 'IRIS' - Launching basic QC checks...\n",
      "[2025-06-09 09:43:15,652] - obspy.clients.fdsn.mass_downloader - INFO: File 'waveforms/CC.PANH/CC.PANH..BHE__20230602T000000Z__20230603T000000Z.mseed' has only 75637.06 seconds of data. 85536.00 are required. File will be deleted.\n",
      "[2025-06-09 09:43:15,652] - obspy.clients.fdsn.mass_downloader - INFO: File 'waveforms/CC.PANH/CC.PANH..BHE__20230602T000000Z__20230603T000000Z.mseed' has only 75637.06 seconds of data. 85536.00 are required. File will be deleted.\n",
      "[2025-06-09 09:43:15,652] - obspy.clients.fdsn.mass_downloader - INFO: File 'waveforms/CC.PANH/CC.PANH..BHE__20230602T000000Z__20230603T000000Z.mseed' has only 75637.06 seconds of data. 85536.00 are required. File will be deleted.\n",
      "[2025-06-09 09:43:15,666] - obspy.clients.fdsn.mass_downloader - INFO: File 'waveforms/CC.PANH/CC.PANH..BHN__20230602T000000Z__20230603T000000Z.mseed' has only 75641.62 seconds of data. 85536.00 are required. File will be deleted.\n",
      "[2025-06-09 09:43:15,666] - obspy.clients.fdsn.mass_downloader - INFO: File 'waveforms/CC.PANH/CC.PANH..BHN__20230602T000000Z__20230603T000000Z.mseed' has only 75641.62 seconds of data. 85536.00 are required. File will be deleted.\n",
      "[2025-06-09 09:43:15,666] - obspy.clients.fdsn.mass_downloader - INFO: File 'waveforms/CC.PANH/CC.PANH..BHN__20230602T000000Z__20230603T000000Z.mseed' has only 75641.62 seconds of data. 85536.00 are required. File will be deleted.\n",
      "[2025-06-09 09:43:15,678] - obspy.clients.fdsn.mass_downloader - INFO: File 'waveforms/CC.PANH/CC.PANH..BHZ__20230602T000000Z__20230603T000000Z.mseed' has only 75638.58 seconds of data. 85536.00 are required. File will be deleted.\n",
      "[2025-06-09 09:43:15,678] - obspy.clients.fdsn.mass_downloader - INFO: File 'waveforms/CC.PANH/CC.PANH..BHZ__20230602T000000Z__20230603T000000Z.mseed' has only 75638.58 seconds of data. 85536.00 are required. File will be deleted.\n",
      "[2025-06-09 09:43:15,678] - obspy.clients.fdsn.mass_downloader - INFO: File 'waveforms/CC.PANH/CC.PANH..BHZ__20230602T000000Z__20230603T000000Z.mseed' has only 75638.58 seconds of data. 85536.00 are required. File will be deleted.\n",
      "[2025-06-09 09:43:15,679] - obspy.clients.fdsn.mass_downloader - INFO: Client 'IRIS' - Downloaded 21.0 MB [4296.24 KB/sec] of data, 9.1 MB of which were discarded afterwards.\n",
      "[2025-06-09 09:43:15,679] - obspy.clients.fdsn.mass_downloader - INFO: Client 'IRIS' - Downloaded 21.0 MB [4296.24 KB/sec] of data, 9.1 MB of which were discarded afterwards.\n",
      "[2025-06-09 09:43:15,679] - obspy.clients.fdsn.mass_downloader - INFO: Client 'IRIS' - Downloaded 21.0 MB [4296.24 KB/sec] of data, 9.1 MB of which were discarded afterwards.\n",
      "[2025-06-09 09:43:15,680] - obspy.clients.fdsn.mass_downloader - INFO: Client 'IRIS' - Status for 3 time intervals/channels after downloading: DOWNLOAD_REJECTED\n",
      "[2025-06-09 09:43:15,680] - obspy.clients.fdsn.mass_downloader - INFO: Client 'IRIS' - Status for 3 time intervals/channels after downloading: DOWNLOAD_REJECTED\n",
      "[2025-06-09 09:43:15,680] - obspy.clients.fdsn.mass_downloader - INFO: Client 'IRIS' - Status for 3 time intervals/channels after downloading: DOWNLOAD_REJECTED\n",
      "[2025-06-09 09:43:15,681] - obspy.clients.fdsn.mass_downloader - INFO: Client 'IRIS' - Status for 3 time intervals/channels after downloading: DOWNLOADED\n",
      "[2025-06-09 09:43:15,681] - obspy.clients.fdsn.mass_downloader - INFO: Client 'IRIS' - Status for 3 time intervals/channels after downloading: DOWNLOADED\n",
      "[2025-06-09 09:43:15,681] - obspy.clients.fdsn.mass_downloader - INFO: Client 'IRIS' - Status for 3 time intervals/channels after downloading: DOWNLOADED\n",
      "[2025-06-09 09:43:15,783] - obspy.clients.fdsn.mass_downloader - INFO: Client 'IRIS' - Successfully downloaded 'stations/CC.PANH/CC.PANH.xml'.\n",
      "[2025-06-09 09:43:15,783] - obspy.clients.fdsn.mass_downloader - INFO: Client 'IRIS' - Successfully downloaded 'stations/CC.PANH/CC.PANH.xml'.\n",
      "[2025-06-09 09:43:15,783] - obspy.clients.fdsn.mass_downloader - INFO: Client 'IRIS' - Successfully downloaded 'stations/CC.PANH/CC.PANH.xml'.\n",
      "[2025-06-09 09:43:15,786] - obspy.clients.fdsn.mass_downloader - INFO: Client 'IRIS' - Downloaded 1 station files [0.1 MB] in 0.1 seconds [960.06 KB/sec].\n",
      "[2025-06-09 09:43:15,786] - obspy.clients.fdsn.mass_downloader - INFO: Client 'IRIS' - Downloaded 1 station files [0.1 MB] in 0.1 seconds [960.06 KB/sec].\n",
      "[2025-06-09 09:43:15,786] - obspy.clients.fdsn.mass_downloader - INFO: Client 'IRIS' - Downloaded 1 station files [0.1 MB] in 0.1 seconds [960.06 KB/sec].\n",
      "[2025-06-09 09:43:15,788] - obspy.clients.fdsn.mass_downloader - INFO: ============================== Final report\n",
      "[2025-06-09 09:43:15,788] - obspy.clients.fdsn.mass_downloader - INFO: ============================== Final report\n",
      "[2025-06-09 09:43:15,788] - obspy.clients.fdsn.mass_downloader - INFO: ============================== Final report\n",
      "[2025-06-09 09:43:15,788] - obspy.clients.fdsn.mass_downloader - INFO: 0 MiniSEED files [0.0 MB] already existed.\n",
      "[2025-06-09 09:43:15,788] - obspy.clients.fdsn.mass_downloader - INFO: 0 MiniSEED files [0.0 MB] already existed.\n",
      "[2025-06-09 09:43:15,788] - obspy.clients.fdsn.mass_downloader - INFO: 0 MiniSEED files [0.0 MB] already existed.\n",
      "[2025-06-09 09:43:15,789] - obspy.clients.fdsn.mass_downloader - INFO: 0 StationXML files [0.0 MB] already existed.\n",
      "[2025-06-09 09:43:15,789] - obspy.clients.fdsn.mass_downloader - INFO: 0 StationXML files [0.0 MB] already existed.\n",
      "[2025-06-09 09:43:15,789] - obspy.clients.fdsn.mass_downloader - INFO: 0 StationXML files [0.0 MB] already existed.\n",
      "[2025-06-09 09:43:15,790] - obspy.clients.fdsn.mass_downloader - INFO: Client 'IRIS' - Acquired 3 MiniSEED files [11.9 MB].\n",
      "[2025-06-09 09:43:15,790] - obspy.clients.fdsn.mass_downloader - INFO: Client 'IRIS' - Acquired 3 MiniSEED files [11.9 MB].\n",
      "[2025-06-09 09:43:15,790] - obspy.clients.fdsn.mass_downloader - INFO: Client 'IRIS' - Acquired 3 MiniSEED files [11.9 MB].\n",
      "[2025-06-09 09:43:15,791] - obspy.clients.fdsn.mass_downloader - INFO: Client 'IRIS' - Acquired 1 StationXML files [0.1 MB].\n",
      "[2025-06-09 09:43:15,791] - obspy.clients.fdsn.mass_downloader - INFO: Client 'IRIS' - Acquired 1 StationXML files [0.1 MB].\n",
      "[2025-06-09 09:43:15,791] - obspy.clients.fdsn.mass_downloader - INFO: Client 'IRIS' - Acquired 1 StationXML files [0.1 MB].\n",
      "[2025-06-09 09:43:15,792] - obspy.clients.fdsn.mass_downloader - INFO: Downloaded 12.0 MB in total.\n",
      "[2025-06-09 09:43:15,792] - obspy.clients.fdsn.mass_downloader - INFO: Downloaded 12.0 MB in total.\n",
      "[2025-06-09 09:43:15,792] - obspy.clients.fdsn.mass_downloader - INFO: Downloaded 12.0 MB in total.\n"
     ]
    }
   ],
   "source": [
    "# List of specific stations\n",
    "stations = [\n",
    "    {\"network\": \"UW\", \"station\": \"RCS\", \"channel\": \"EH?\"},\n",
    "    {\"network\": \"UW\", \"station\": \"RER\",  \"channel\": \"HH?\"},\n",
    "    {\"network\": \"UW\", \"station\": \"STAR\",  \"channel\": \"EH?\"},\n",
    "    {\"network\": \"CC\", \"station\": \"PANH\",  \"channel\": \"BH?\"}\n",
    "]\n",
    "\n",
    "start = obspy.UTCDateTime(2023, 6, 1)\n",
    "end   = obspy.UTCDateTime(2023, 6, 3)\n",
    "\n",
    "# Create downloader\n",
    "mdl = MassDownloader(providers=[\"IRIS\"])\n",
    "\n",
    "for sta in stations:\n",
    "    print(f\"⏳ Downloading {sta['network']}.{sta['station']}...\")\n",
    "\n",
    "    restrictions = Restrictions(\n",
    "        starttime=start,\n",
    "        endtime=end,\n",
    "        chunklength_in_sec=86400,\n",
    "        network=sta[\"network\"],\n",
    "        station=sta[\"station\"],\n",
    "        location= \"*\",              # Use \"\" or \"*\" to avoid missing data\n",
    "        channel= sta[\"channel\"],             # 3-component high-gain short-period\n",
    "        reject_channels_with_gaps=True,  # <-- IMPORTANT: reject days with gaps\n",
    "        minimum_length=0.99,             # Only download if >=99% of the chunk is available\n",
    "        sanitize=True\n",
    "    )\n",
    "\n",
    "    # Use a dummy domain since station is fixed\n",
    "    domain = CircularDomain(latitude=0, longitude=0, minradius=0, maxradius=180)\n",
    "\n",
    "    mdl.download(\n",
    "        domain,\n",
    "        restrictions,\n",
    "        mseed_storage=f\"waveforms/{sta['network']}.{sta['station']}\",\n",
    "        stationxml_storage=f\"stations/{sta['network']}.{sta['station']}\"\n",
    "    )\n"
   ]
  },
  {
   "cell_type": "code",
   "execution_count": 40,
   "id": "a1f0a815",
   "metadata": {},
   "outputs": [
    {
     "data": {
      "text/plain": [
       "array([[1.7990221e-01, 5.3443841e-06, 8.2007354e-01, 1.8885934e-05],\n",
       "       [2.8291645e-03, 1.9629143e-01, 2.0810401e-02, 7.8006905e-01],\n",
       "       [6.5263092e-05, 3.1172261e-02, 1.4649706e-01, 8.2226545e-01]],\n",
       "      dtype=float32)"
      ]
     },
     "execution_count": 40,
     "metadata": {},
     "output_type": "execute_result"
    }
   ],
   "source": [
    "probs_a"
   ]
  },
  {
   "cell_type": "code",
   "execution_count": null,
   "id": "982ff41f",
   "metadata": {},
   "outputs": [],
   "source": []
  },
  {
   "cell_type": "code",
   "execution_count": null,
   "id": "b19a1f7d",
   "metadata": {},
   "outputs": [],
   "source": []
  },
  {
   "cell_type": "code",
   "execution_count": 41,
   "id": "4a9256f6",
   "metadata": {},
   "outputs": [
    {
     "data": {
      "image/png": "[encoded data removed]",
      "text/plain": [
       "<Figure size 1200x800 with 4 Axes>"
      ]
     },
     "metadata": {},
     "output_type": "display_data"
    }
   ],
   "source": [
    "time = np.arange(len(probs_a))    # one tick per window\n",
    "fig, ax = plt.subplots(4, 1, sharex=True, figsize=(12, 8))\n",
    "\n",
    "class_names = [\"eq\", \"px\", \"no\", \"su\"]\n",
    "for k in range(4):\n",
    "    ax[k].plot(time, probs_a[:, k], label=\"Seisbench\", lw=1)\n",
    "    ax[k].set_ylabel(class_names[k])\n",
    "    ax[k].set_ylim(0, 1)\n",
    "ax[-1].set_xlabel(\"window index\")\n",
    "ax[0].legend(loc=\"upper right\")\n",
    "plt.tight_layout()\n",
    "plt.show()\n"
   ]
  },
  {
   "cell_type": "code",
   "execution_count": null,
   "id": "4365358f",
   "metadata": {},
   "outputs": [],
   "source": []
  },
  {
   "cell_type": "code",
   "execution_count": null,
   "id": "c353c958",
   "metadata": {},
   "outputs": [],
   "source": []
  }
 ],
 "metadata": {
  "kernelspec": {
   "display_name": "surface",
   "language": "python",
   "name": "surface"
  },
  "language_info": {
   "codemirror_mode": {
    "name": "ipython",
    "version": 3
   },
   "file_extension": ".py",
   "mimetype": "text/x-python",
   "name": "python",
   "nbconvert_exporter": "python",
   "pygments_lexer": "ipython3",
   "version": "3.9.5"
  }
 },
 "nbformat": 4,
 "nbformat_minor": 5
}
