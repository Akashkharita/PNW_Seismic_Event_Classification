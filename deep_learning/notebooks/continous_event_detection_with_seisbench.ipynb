{
 "cells": [
  {
   "cell_type": "code",
   "execution_count": 2,
   "id": "fd3370de",
   "metadata": {},
   "outputs": [],
   "source": [
    "import sys\n",
    "sys.path.append('/home/ak287/seisbench/seisbench/models')\n",
    "import seisbench.models as sbm"
   ]
  },
  {
   "cell_type": "code",
   "execution_count": 3,
   "id": "aceac7d1",
   "metadata": {},
   "outputs": [
    {
     "name": "stdout",
     "output_type": "stream",
     "text": [
      "/home/ak287/seisbench/seisbench/__init__.py\n",
      "True\n"
     ]
    }
   ],
   "source": [
    "import seisbench\n",
    "print(seisbench.__file__)  # should now point to ~/seisbench/seisbench/__init__.py\n",
    "\n",
    "import seisbench.models as sbm\n",
    "print(hasattr(sbm, \"SeismicCNN\"))  # should print True\n"
   ]
  },
  {
   "cell_type": "code",
   "execution_count": 4,
   "id": "38de6b18",
   "metadata": {},
   "outputs": [],
   "source": [
    "from seismiccnn import SeismicCNN"
   ]
  },
  {
   "cell_type": "code",
   "execution_count": 5,
   "id": "85e2dcc4",
   "metadata": {},
   "outputs": [
    {
     "name": "stdout",
     "output_type": "stream",
     "text": [
      "True\n"
     ]
    }
   ],
   "source": [
    "import seisbench.models as sbm\n",
    "print(hasattr(sbm, \"SeismicCNN\"))\n"
   ]
  },
  {
   "cell_type": "code",
   "execution_count": 6,
   "id": "69986ca6",
   "metadata": {},
   "outputs": [],
   "source": [
    "#model1 = sbm.QuakeXNetoneD.from_pretrained(\"base\")\n",
    "model2 = sbm.SeismicCNN.from_pretrained(\"base\")"
   ]
  },
  {
   "cell_type": "code",
   "execution_count": null,
   "id": "3d4dfa93",
   "metadata": {},
   "outputs": [],
   "source": []
  }
 ],
 "metadata": {
  "kernelspec": {
   "display_name": "surface",
   "language": "python",
   "name": "surface"
  },
  "language_info": {
   "codemirror_mode": {
    "name": "ipython",
    "version": 3
   },
   "file_extension": ".py",
   "mimetype": "text/x-python",
   "name": "python",
   "nbconvert_exporter": "python",
   "pygments_lexer": "ipython3",
   "version": "3.9.5"
  }
 },
 "nbformat": 4,
 "nbformat_minor": 5
}
