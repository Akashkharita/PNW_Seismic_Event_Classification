{
 "cells": [
  {
   "cell_type": "code",
   "execution_count": 145,
   "id": "fb7942c4",
   "metadata": {},
   "outputs": [],
   "source": [
    "import obspy\n",
    "import sys\n",
    "sys.path.append('/home/ak287/seisbench/seisbench/models')\n",
    "import seisbench.models as sbm\n",
    "from obspy.clients.fdsn import Client\n",
    "import pandas as pd\n",
    "import numpy as np\n",
    "import matplotlib.pyplot as plt\n",
    "from tqdm import tqdm\n",
    "\n",
    "from obspy.clients.fdsn.mass_downloader import Restrictions, MassDownloader, CircularDomain\n",
    "\n",
    "\n",
    "client = Client('IRIS')"
   ]
  },
  {
   "cell_type": "code",
   "execution_count": 146,
   "id": "2007e73f",
   "metadata": {},
   "outputs": [],
   "source": [
    "#model1 = sbm.QuakeXNetoneD.from_pretrained(\"base\")\n",
    "model2 = sbm.SeismicCNN.from_pretrained(\"base\")"
   ]
  },
  {
   "cell_type": "markdown",
   "id": "6eb403f5",
   "metadata": {},
   "source": [
    "## We have a catalog of surface events"
   ]
  },
  {
   "cell_type": "code",
   "execution_count": 147,
   "id": "0bc0ed9b",
   "metadata": {},
   "outputs": [
    {
     "data": {
      "text/html": [
       "<div>\n",
       "<style scoped>\n",
       "    .dataframe tbody tr th:only-of-type {\n",
       "        vertical-align: middle;\n",
       "    }\n",
       "\n",
       "    .dataframe tbody tr th {\n",
       "        vertical-align: top;\n",
       "    }\n",
       "\n",
       "    .dataframe thead th {\n",
       "        text-align: right;\n",
       "    }\n",
       "</style>\n",
       "<table border=\"1\" class=\"dataframe\">\n",
       "  <thead>\n",
       "    <tr style=\"text-align: right;\">\n",
       "      <th></th>\n",
       "      <th>Date</th>\n",
       "      <th>Time</th>\n",
       "      <th>Lat</th>\n",
       "      <th>Lon</th>\n",
       "      <th>Depth</th>\n",
       "      <th>Mag</th>\n",
       "      <th>Magt</th>\n",
       "      <th>Nst</th>\n",
       "      <th>Gap</th>\n",
       "      <th>Clo</th>\n",
       "      <th>RMS</th>\n",
       "      <th>SRC</th>\n",
       "      <th>EventID</th>\n",
       "      <th>empty</th>\n",
       "    </tr>\n",
       "  </thead>\n",
       "  <tbody>\n",
       "    <tr>\n",
       "      <th>0</th>\n",
       "      <td>2023/06/01</td>\n",
       "      <td>18:01:32.01</td>\n",
       "      <td>46.85080</td>\n",
       "      <td>-121.79300</td>\n",
       "      <td>-3.365</td>\n",
       "      <td>-5.0</td>\n",
       "      <td>Mh</td>\n",
       "      <td>0</td>\n",
       "      <td>0</td>\n",
       "      <td>0</td>\n",
       "      <td>0.00</td>\n",
       "      <td>UW</td>\n",
       "      <td>61929751</td>\n",
       "      <td>NaN</td>\n",
       "    </tr>\n",
       "    <tr>\n",
       "      <th>1</th>\n",
       "      <td>2023/06/01</td>\n",
       "      <td>18:39:58.07</td>\n",
       "      <td>46.87080</td>\n",
       "      <td>-121.73230</td>\n",
       "      <td>-2.877</td>\n",
       "      <td>-5.0</td>\n",
       "      <td>Mh</td>\n",
       "      <td>0</td>\n",
       "      <td>0</td>\n",
       "      <td>0</td>\n",
       "      <td>0.00</td>\n",
       "      <td>UW</td>\n",
       "      <td>61929771</td>\n",
       "      <td>NaN</td>\n",
       "    </tr>\n",
       "    <tr>\n",
       "      <th>2</th>\n",
       "      <td>2023/06/01</td>\n",
       "      <td>22:16:18.26</td>\n",
       "      <td>46.83560</td>\n",
       "      <td>-121.73300</td>\n",
       "      <td>-3.077</td>\n",
       "      <td>-5.0</td>\n",
       "      <td>Mh</td>\n",
       "      <td>0</td>\n",
       "      <td>0</td>\n",
       "      <td>0</td>\n",
       "      <td>0.00</td>\n",
       "      <td>UW</td>\n",
       "      <td>61929851</td>\n",
       "      <td>NaN</td>\n",
       "    </tr>\n",
       "    <tr>\n",
       "      <th>3</th>\n",
       "      <td>2023/06/03</td>\n",
       "      <td>05:11:55.95</td>\n",
       "      <td>46.83560</td>\n",
       "      <td>-121.73300</td>\n",
       "      <td>-3.077</td>\n",
       "      <td>-5.0</td>\n",
       "      <td>Mh</td>\n",
       "      <td>0</td>\n",
       "      <td>0</td>\n",
       "      <td>0</td>\n",
       "      <td>0.00</td>\n",
       "      <td>UW</td>\n",
       "      <td>61930241</td>\n",
       "      <td>NaN</td>\n",
       "    </tr>\n",
       "    <tr>\n",
       "      <th>4</th>\n",
       "      <td>2023/06/04</td>\n",
       "      <td>02:36:58.75</td>\n",
       "      <td>46.85080</td>\n",
       "      <td>-121.79300</td>\n",
       "      <td>-3.365</td>\n",
       "      <td>-5.0</td>\n",
       "      <td>Mh</td>\n",
       "      <td>0</td>\n",
       "      <td>0</td>\n",
       "      <td>0</td>\n",
       "      <td>0.00</td>\n",
       "      <td>UW</td>\n",
       "      <td>61930391</td>\n",
       "      <td>NaN</td>\n",
       "    </tr>\n",
       "    <tr>\n",
       "      <th>5</th>\n",
       "      <td>2023/06/05</td>\n",
       "      <td>06:37:01.29</td>\n",
       "      <td>45.35860</td>\n",
       "      <td>-121.70550</td>\n",
       "      <td>-2.590</td>\n",
       "      <td>-5.0</td>\n",
       "      <td>Mh</td>\n",
       "      <td>0</td>\n",
       "      <td>0</td>\n",
       "      <td>0</td>\n",
       "      <td>0.00</td>\n",
       "      <td>UW</td>\n",
       "      <td>61930566</td>\n",
       "      <td>NaN</td>\n",
       "    </tr>\n",
       "    <tr>\n",
       "      <th>6</th>\n",
       "      <td>2023/06/06</td>\n",
       "      <td>04:41:35.30</td>\n",
       "      <td>46.83560</td>\n",
       "      <td>-121.73300</td>\n",
       "      <td>-3.077</td>\n",
       "      <td>-5.0</td>\n",
       "      <td>Mh</td>\n",
       "      <td>0</td>\n",
       "      <td>0</td>\n",
       "      <td>0</td>\n",
       "      <td>0.00</td>\n",
       "      <td>UW</td>\n",
       "      <td>61930836</td>\n",
       "      <td>NaN</td>\n",
       "    </tr>\n",
       "    <tr>\n",
       "      <th>7</th>\n",
       "      <td>2023/06/06</td>\n",
       "      <td>09:12:18.56</td>\n",
       "      <td>48.75483</td>\n",
       "      <td>-121.83933</td>\n",
       "      <td>-0.500</td>\n",
       "      <td>1.1</td>\n",
       "      <td>ML</td>\n",
       "      <td>6</td>\n",
       "      <td>99</td>\n",
       "      <td>16</td>\n",
       "      <td>0.21</td>\n",
       "      <td>UW</td>\n",
       "      <td>61930856</td>\n",
       "      <td>NaN</td>\n",
       "    </tr>\n",
       "    <tr>\n",
       "      <th>8</th>\n",
       "      <td>2023/06/07</td>\n",
       "      <td>03:52:59.25</td>\n",
       "      <td>46.85080</td>\n",
       "      <td>-121.79300</td>\n",
       "      <td>-3.365</td>\n",
       "      <td>-5.0</td>\n",
       "      <td>Mh</td>\n",
       "      <td>0</td>\n",
       "      <td>0</td>\n",
       "      <td>0</td>\n",
       "      <td>0.00</td>\n",
       "      <td>UW</td>\n",
       "      <td>61931126</td>\n",
       "      <td>NaN</td>\n",
       "    </tr>\n",
       "    <tr>\n",
       "      <th>9</th>\n",
       "      <td>2023/06/07</td>\n",
       "      <td>05:24:16.48</td>\n",
       "      <td>46.83560</td>\n",
       "      <td>-121.73300</td>\n",
       "      <td>-3.077</td>\n",
       "      <td>-5.0</td>\n",
       "      <td>Mh</td>\n",
       "      <td>0</td>\n",
       "      <td>0</td>\n",
       "      <td>0</td>\n",
       "      <td>0.00</td>\n",
       "      <td>UW</td>\n",
       "      <td>61931136</td>\n",
       "      <td>NaN</td>\n",
       "    </tr>\n",
       "  </tbody>\n",
       "</table>\n",
       "</div>"
      ],
      "text/plain": [
       "         Date         Time       Lat        Lon  Depth  Mag Magt  Nst  Gap  \\\n",
       "0  2023/06/01  18:01:32.01  46.85080 -121.79300 -3.365 -5.0   Mh    0    0   \n",
       "1  2023/06/01  18:39:58.07  46.87080 -121.73230 -2.877 -5.0   Mh    0    0   \n",
       "2  2023/06/01  22:16:18.26  46.83560 -121.73300 -3.077 -5.0   Mh    0    0   \n",
       "3  2023/06/03  05:11:55.95  46.83560 -121.73300 -3.077 -5.0   Mh    0    0   \n",
       "4  2023/06/04  02:36:58.75  46.85080 -121.79300 -3.365 -5.0   Mh    0    0   \n",
       "5  2023/06/05  06:37:01.29  45.35860 -121.70550 -2.590 -5.0   Mh    0    0   \n",
       "6  2023/06/06  04:41:35.30  46.83560 -121.73300 -3.077 -5.0   Mh    0    0   \n",
       "7  2023/06/06  09:12:18.56  48.75483 -121.83933 -0.500  1.1   ML    6   99   \n",
       "8  2023/06/07  03:52:59.25  46.85080 -121.79300 -3.365 -5.0   Mh    0    0   \n",
       "9  2023/06/07  05:24:16.48  46.83560 -121.73300 -3.077 -5.0   Mh    0    0   \n",
       "\n",
       "   Clo   RMS SRC   EventID  empty  \n",
       "0    0  0.00  UW  61929751    NaN  \n",
       "1    0  0.00  UW  61929771    NaN  \n",
       "2    0  0.00  UW  61929851    NaN  \n",
       "3    0  0.00  UW  61930241    NaN  \n",
       "4    0  0.00  UW  61930391    NaN  \n",
       "5    0  0.00  UW  61930566    NaN  \n",
       "6    0  0.00  UW  61930836    NaN  \n",
       "7   16  0.21  UW  61930856    NaN  \n",
       "8    0  0.00  UW  61931126    NaN  \n",
       "9    0  0.00  UW  61931136    NaN  "
      ]
     },
     "execution_count": 147,
     "metadata": {},
     "output_type": "execute_result"
    }
   ],
   "source": [
    "su_cat = pd.read_csv('../../data/event_catalogs_for_testing/surface_events_for_testing.csv')\n",
    "su_cat.head(10)"
   ]
  },
  {
   "cell_type": "code",
   "execution_count": 148,
   "id": "dfcc27a9",
   "metadata": {},
   "outputs": [],
   "source": [
    "# Combine Date and Time columns into a single datetime string\n",
    "datetime_strs = su_cat['Date'] + ' ' + su_cat['Time']\n",
    "\n",
    "# Convert each row to UTCDateTime\n",
    "su_cat['UTCDateTime'] = datetime_strs.apply(obspy.UTCDateTime)\n"
   ]
  },
  {
   "cell_type": "code",
   "execution_count": null,
   "id": "49857b61",
   "metadata": {},
   "outputs": [],
   "source": []
  },
  {
   "cell_type": "code",
   "execution_count": null,
   "id": "fa89f3b2",
   "metadata": {},
   "outputs": [],
   "source": []
  },
  {
   "cell_type": "markdown",
   "id": "be9dc85a",
   "metadata": {},
   "source": [
    "## Adding the station info to the catalog"
   ]
  },
  {
   "cell_type": "code",
   "execution_count": null,
   "id": "a8c737db",
   "metadata": {},
   "outputs": [],
   "source": []
  },
  {
   "cell_type": "code",
   "execution_count": 74,
   "id": "afa04e70",
   "metadata": {},
   "outputs": [
    {
     "name": "stderr",
     "output_type": "stream",
     "text": [
      "4it [00:00,  9.04it/s]"
     ]
    },
    {
     "name": "stdout",
     "output_type": "stream",
     "text": [
      "Row 2 failed: No data available for request.\n",
      "HTTP Status code: 204\n",
      "Detailed response of server:\n",
      "\n",
      "\n",
      "Row 3 failed: No data available for request.\n",
      "HTTP Status code: 204\n",
      "Detailed response of server:\n",
      "\n",
      "\n"
     ]
    },
    {
     "name": "stderr",
     "output_type": "stream",
     "text": [
      "8it [00:01,  8.03it/s]"
     ]
    },
    {
     "name": "stdout",
     "output_type": "stream",
     "text": [
      "Row 6 failed: No data available for request.\n",
      "HTTP Status code: 204\n",
      "Detailed response of server:\n",
      "\n",
      "\n",
      "Row 7 failed: No data available for request.\n",
      "HTTP Status code: 204\n",
      "Detailed response of server:\n",
      "\n",
      "\n"
     ]
    },
    {
     "name": "stderr",
     "output_type": "stream",
     "text": [
      "11it [00:02,  3.88it/s]"
     ]
    },
    {
     "name": "stdout",
     "output_type": "stream",
     "text": [
      "Row 9 failed: No data available for request.\n",
      "HTTP Status code: 204\n",
      "Detailed response of server:\n",
      "\n",
      "\n",
      "Row 10 failed: No data available for request.\n",
      "HTTP Status code: 204\n",
      "Detailed response of server:\n",
      "\n",
      "\n"
     ]
    },
    {
     "name": "stderr",
     "output_type": "stream",
     "text": [
      "\r",
      "12it [00:02,  4.62it/s]"
     ]
    },
    {
     "name": "stdout",
     "output_type": "stream",
     "text": [
      "Row 11 failed: No data available for request.\n",
      "HTTP Status code: 204\n",
      "Detailed response of server:\n",
      "\n",
      "\n"
     ]
    },
    {
     "name": "stderr",
     "output_type": "stream",
     "text": [
      "14it [00:03,  2.78it/s]"
     ]
    },
    {
     "name": "stdout",
     "output_type": "stream",
     "text": [
      "Row 13 failed: No data available for request.\n",
      "HTTP Status code: 204\n",
      "Detailed response of server:\n",
      "\n",
      "\n"
     ]
    },
    {
     "name": "stderr",
     "output_type": "stream",
     "text": [
      "17it [00:05,  2.42it/s]"
     ]
    },
    {
     "name": "stdout",
     "output_type": "stream",
     "text": [
      "Row 16 failed: No data available for request.\n",
      "HTTP Status code: 204\n",
      "Detailed response of server:\n",
      "\n",
      "\n"
     ]
    },
    {
     "name": "stderr",
     "output_type": "stream",
     "text": [
      "20it [00:07,  1.82it/s]"
     ]
    },
    {
     "name": "stdout",
     "output_type": "stream",
     "text": [
      "Row 19 failed: No data available for request.\n",
      "HTTP Status code: 204\n",
      "Detailed response of server:\n",
      "\n",
      "\n"
     ]
    },
    {
     "name": "stderr",
     "output_type": "stream",
     "text": [
      "22it [00:08,  1.70it/s]"
     ]
    },
    {
     "name": "stdout",
     "output_type": "stream",
     "text": [
      "Row 21 failed: No data available for request.\n",
      "HTTP Status code: 204\n",
      "Detailed response of server:\n",
      "\n",
      "\n"
     ]
    },
    {
     "name": "stderr",
     "output_type": "stream",
     "text": [
      "27it [00:14,  1.15it/s]"
     ]
    },
    {
     "name": "stdout",
     "output_type": "stream",
     "text": [
      "Row 26 failed: No data available for request.\n",
      "HTTP Status code: 204\n",
      "Detailed response of server:\n",
      "\n",
      "\n"
     ]
    },
    {
     "name": "stderr",
     "output_type": "stream",
     "text": [
      "29it [00:16,  1.19it/s]"
     ]
    },
    {
     "name": "stdout",
     "output_type": "stream",
     "text": [
      "Row 28 failed: No data available for request.\n",
      "HTTP Status code: 204\n",
      "Detailed response of server:\n",
      "\n",
      "\n"
     ]
    },
    {
     "name": "stderr",
     "output_type": "stream",
     "text": [
      "32it [00:17,  2.16it/s]"
     ]
    },
    {
     "name": "stdout",
     "output_type": "stream",
     "text": [
      "Row 30 failed: No data available for request.\n",
      "HTTP Status code: 204\n",
      "Detailed response of server:\n",
      "\n",
      "\n",
      "Row 31 failed: No data available for request.\n",
      "HTTP Status code: 204\n",
      "Detailed response of server:\n",
      "\n",
      "\n"
     ]
    },
    {
     "name": "stderr",
     "output_type": "stream",
     "text": [
      "37it [00:20,  2.59it/s]"
     ]
    },
    {
     "name": "stdout",
     "output_type": "stream",
     "text": [
      "Row 35 failed: No data available for request.\n",
      "HTTP Status code: 204\n",
      "Detailed response of server:\n",
      "\n",
      "\n",
      "Row 36 failed: No data available for request.\n",
      "HTTP Status code: 204\n",
      "Detailed response of server:\n",
      "\n",
      "\n"
     ]
    },
    {
     "name": "stderr",
     "output_type": "stream",
     "text": [
      "\r",
      "38it [00:20,  3.18it/s]"
     ]
    },
    {
     "name": "stdout",
     "output_type": "stream",
     "text": [
      "Row 37 failed: No data available for request.\n",
      "HTTP Status code: 204\n",
      "Detailed response of server:\n",
      "\n",
      "\n"
     ]
    },
    {
     "name": "stderr",
     "output_type": "stream",
     "text": [
      "41it [00:25,  1.12it/s]"
     ]
    },
    {
     "name": "stdout",
     "output_type": "stream",
     "text": [
      "Row 40 failed: No data available for request.\n",
      "HTTP Status code: 204\n",
      "Detailed response of server:\n",
      "\n",
      "\n"
     ]
    },
    {
     "name": "stderr",
     "output_type": "stream",
     "text": [
      "43it [00:25,  1.75it/s]"
     ]
    },
    {
     "name": "stdout",
     "output_type": "stream",
     "text": [
      "Row 42 failed: No data available for request.\n",
      "HTTP Status code: 204\n",
      "Detailed response of server:\n",
      "\n",
      "\n"
     ]
    },
    {
     "name": "stderr",
     "output_type": "stream",
     "text": [
      "48it [00:30,  1.44it/s]"
     ]
    },
    {
     "name": "stdout",
     "output_type": "stream",
     "text": [
      "Row 47 failed: No data available for request.\n",
      "HTTP Status code: 204\n",
      "Detailed response of server:\n",
      "\n",
      "\n"
     ]
    },
    {
     "name": "stderr",
     "output_type": "stream",
     "text": [
      "57it [00:45,  1.04it/s]"
     ]
    },
    {
     "name": "stdout",
     "output_type": "stream",
     "text": [
      "Row 55 failed: No data available for request.\n",
      "HTTP Status code: 204\n",
      "Detailed response of server:\n",
      "\n",
      "\n",
      "Row 56 failed: No data available for request.\n",
      "HTTP Status code: 204\n",
      "Detailed response of server:\n",
      "\n",
      "\n"
     ]
    },
    {
     "name": "stderr",
     "output_type": "stream",
     "text": [
      "65it [00:56,  1.42it/s]"
     ]
    },
    {
     "name": "stdout",
     "output_type": "stream",
     "text": [
      "Row 64 failed: No data available for request.\n",
      "HTTP Status code: 204\n",
      "Detailed response of server:\n",
      "\n",
      "\n"
     ]
    },
    {
     "name": "stderr",
     "output_type": "stream",
     "text": [
      "104it [01:53,  1.40s/it]"
     ]
    },
    {
     "name": "stdout",
     "output_type": "stream",
     "text": [
      "Row 103 failed: No data available for request.\n",
      "HTTP Status code: 204\n",
      "Detailed response of server:\n",
      "\n",
      "\n"
     ]
    },
    {
     "name": "stderr",
     "output_type": "stream",
     "text": [
      "106it [01:56,  1.29s/it]"
     ]
    },
    {
     "name": "stdout",
     "output_type": "stream",
     "text": [
      "Row 105 failed: No data available for request.\n",
      "HTTP Status code: 204\n",
      "Detailed response of server:\n",
      "\n",
      "\n"
     ]
    },
    {
     "name": "stderr",
     "output_type": "stream",
     "text": [
      "140it [02:49,  1.44s/it]"
     ]
    },
    {
     "name": "stdout",
     "output_type": "stream",
     "text": [
      "Row 139 failed: No data available for request.\n",
      "HTTP Status code: 204\n",
      "Detailed response of server:\n",
      "\n",
      "\n"
     ]
    },
    {
     "name": "stderr",
     "output_type": "stream",
     "text": [
      "144it [02:52,  1.54it/s]"
     ]
    },
    {
     "name": "stdout",
     "output_type": "stream",
     "text": [
      "Row 143 failed: No data available for request.\n",
      "HTTP Status code: 204\n",
      "Detailed response of server:\n",
      "\n",
      "\n"
     ]
    },
    {
     "name": "stderr",
     "output_type": "stream",
     "text": [
      "166it [03:14,  1.15it/s]"
     ]
    },
    {
     "name": "stdout",
     "output_type": "stream",
     "text": [
      "Row 164 failed: No data available for request.\n",
      "HTTP Status code: 204\n",
      "Detailed response of server:\n",
      "\n",
      "\n",
      "Row 165 failed: No data available for request.\n",
      "HTTP Status code: 204\n",
      "Detailed response of server:\n",
      "\n",
      "\n"
     ]
    },
    {
     "name": "stderr",
     "output_type": "stream",
     "text": [
      "181it [03:32,  1.33s/it]"
     ]
    },
    {
     "name": "stdout",
     "output_type": "stream",
     "text": [
      "Row 180 failed: No data available for request.\n",
      "HTTP Status code: 204\n",
      "Detailed response of server:\n",
      "\n",
      "\n"
     ]
    },
    {
     "name": "stderr",
     "output_type": "stream",
     "text": [
      "183it [03:33,  1.03it/s]"
     ]
    },
    {
     "name": "stdout",
     "output_type": "stream",
     "text": [
      "Row 182 failed: No data available for request.\n",
      "HTTP Status code: 204\n",
      "Detailed response of server:\n",
      "\n",
      "\n"
     ]
    },
    {
     "name": "stderr",
     "output_type": "stream",
     "text": [
      "191it [03:44,  1.19s/it]"
     ]
    },
    {
     "name": "stdout",
     "output_type": "stream",
     "text": [
      "Row 190 failed: No data available for request.\n",
      "HTTP Status code: 204\n",
      "Detailed response of server:\n",
      "\n",
      "\n"
     ]
    },
    {
     "name": "stderr",
     "output_type": "stream",
     "text": [
      "235it [04:58,  1.36s/it]"
     ]
    },
    {
     "name": "stdout",
     "output_type": "stream",
     "text": [
      "Row 234 failed: No data available for request.\n",
      "HTTP Status code: 204\n",
      "Detailed response of server:\n",
      "\n",
      "\n"
     ]
    },
    {
     "name": "stderr",
     "output_type": "stream",
     "text": [
      "255it [05:37,  1.74s/it]"
     ]
    },
    {
     "name": "stdout",
     "output_type": "stream",
     "text": [
      "Row 254 failed: No data available for request.\n",
      "HTTP Status code: 204\n",
      "Detailed response of server:\n",
      "\n",
      "\n"
     ]
    },
    {
     "name": "stderr",
     "output_type": "stream",
     "text": [
      "266it [05:53,  1.11s/it]"
     ]
    },
    {
     "name": "stdout",
     "output_type": "stream",
     "text": [
      "Row 265 failed: No data available for request.\n",
      "HTTP Status code: 204\n",
      "Detailed response of server:\n",
      "\n",
      "\n"
     ]
    },
    {
     "name": "stderr",
     "output_type": "stream",
     "text": [
      "282it [06:10,  1.14it/s]"
     ]
    },
    {
     "name": "stdout",
     "output_type": "stream",
     "text": [
      "Row 281 failed: No data available for request.\n",
      "HTTP Status code: 204\n",
      "Detailed response of server:\n",
      "\n",
      "\n"
     ]
    },
    {
     "name": "stderr",
     "output_type": "stream",
     "text": [
      "313it [07:19,  1.64s/it]"
     ]
    },
    {
     "name": "stdout",
     "output_type": "stream",
     "text": [
      "Row 312 failed: No data available for request.\n",
      "HTTP Status code: 204\n",
      "Detailed response of server:\n",
      "\n",
      "\n"
     ]
    },
    {
     "name": "stderr",
     "output_type": "stream",
     "text": [
      "319it [07:31,  1.69s/it]"
     ]
    },
    {
     "name": "stdout",
     "output_type": "stream",
     "text": [
      "Row 318 failed: No data available for request.\n",
      "HTTP Status code: 204\n",
      "Detailed response of server:\n",
      "\n",
      "\n"
     ]
    },
    {
     "name": "stderr",
     "output_type": "stream",
     "text": [
      "330it [07:50,  1.62s/it]"
     ]
    },
    {
     "name": "stdout",
     "output_type": "stream",
     "text": [
      "Row 330 failed: No data available for request.\n",
      "HTTP Status code: 204\n",
      "Detailed response of server:\n",
      "\n",
      "\n"
     ]
    },
    {
     "name": "stderr",
     "output_type": "stream",
     "text": [
      "336it [07:53,  1.43it/s]"
     ]
    },
    {
     "name": "stdout",
     "output_type": "stream",
     "text": [
      "Row 334 failed: No data available for request.\n",
      "HTTP Status code: 204\n",
      "Detailed response of server:\n",
      "\n",
      "\n",
      "Row 335 failed: No data available for request.\n",
      "HTTP Status code: 204\n",
      "Detailed response of server:\n",
      "\n",
      "\n"
     ]
    },
    {
     "name": "stderr",
     "output_type": "stream",
     "text": [
      "364it [08:21,  2.03it/s]"
     ]
    },
    {
     "name": "stdout",
     "output_type": "stream",
     "text": [
      "Row 363 failed: No data available for request.\n",
      "HTTP Status code: 204\n",
      "Detailed response of server:\n",
      "\n",
      "\n"
     ]
    },
    {
     "name": "stderr",
     "output_type": "stream",
     "text": [
      "368it [08:24,  1.61it/s]"
     ]
    },
    {
     "name": "stdout",
     "output_type": "stream",
     "text": [
      "Row 368 failed: No data available for request.\n",
      "HTTP Status code: 204\n",
      "Detailed response of server:\n",
      "\n",
      "\n"
     ]
    },
    {
     "name": "stderr",
     "output_type": "stream",
     "text": [
      "380it [08:39,  1.48s/it]"
     ]
    },
    {
     "name": "stdout",
     "output_type": "stream",
     "text": [
      "Row 380 failed: No data available for request.\n",
      "HTTP Status code: 204\n",
      "Detailed response of server:\n",
      "\n",
      "\n"
     ]
    },
    {
     "name": "stderr",
     "output_type": "stream",
     "text": [
      "\r",
      "382it [08:41,  1.27s/it]"
     ]
    },
    {
     "name": "stdout",
     "output_type": "stream",
     "text": [
      "Row 382 failed: No data available for request.\n",
      "HTTP Status code: 204\n",
      "Detailed response of server:\n",
      "\n",
      "\n"
     ]
    },
    {
     "name": "stderr",
     "output_type": "stream",
     "text": [
      "388it [08:47,  1.02s/it]"
     ]
    },
    {
     "name": "stdout",
     "output_type": "stream",
     "text": [
      "Row 388 failed: No data available for request.\n",
      "HTTP Status code: 204\n",
      "Detailed response of server:\n",
      "\n",
      "\n"
     ]
    },
    {
     "name": "stderr",
     "output_type": "stream",
     "text": [
      "393it [08:55,  1.59s/it]"
     ]
    },
    {
     "name": "stdout",
     "output_type": "stream",
     "text": [
      "Row 393 failed: No data available for request.\n",
      "HTTP Status code: 204\n",
      "Detailed response of server:\n",
      "\n",
      "\n"
     ]
    },
    {
     "name": "stderr",
     "output_type": "stream",
     "text": [
      "397it [08:58,  1.03it/s]"
     ]
    },
    {
     "name": "stdout",
     "output_type": "stream",
     "text": [
      "Row 397 failed: No data available for request.\n",
      "HTTP Status code: 204\n",
      "Detailed response of server:\n",
      "\n",
      "\n"
     ]
    },
    {
     "name": "stderr",
     "output_type": "stream",
     "text": [
      "\r",
      "399it [08:59,  1.26it/s]"
     ]
    },
    {
     "name": "stdout",
     "output_type": "stream",
     "text": [
      "Row 399 failed: No data available for request.\n",
      "HTTP Status code: 204\n",
      "Detailed response of server:\n",
      "\n",
      "\n"
     ]
    },
    {
     "name": "stderr",
     "output_type": "stream",
     "text": [
      "403it [09:06,  1.45s/it]"
     ]
    },
    {
     "name": "stdout",
     "output_type": "stream",
     "text": [
      "Row 403 failed: No data available for request.\n",
      "HTTP Status code: 204\n",
      "Detailed response of server:\n",
      "\n",
      "\n"
     ]
    },
    {
     "name": "stderr",
     "output_type": "stream",
     "text": [
      "408it [09:12,  1.32s/it]"
     ]
    },
    {
     "name": "stdout",
     "output_type": "stream",
     "text": [
      "Row 408 failed: No data available for request.\n",
      "HTTP Status code: 204\n",
      "Detailed response of server:\n",
      "\n",
      "\n"
     ]
    },
    {
     "name": "stderr",
     "output_type": "stream",
     "text": [
      "420it [09:27,  1.42s/it]"
     ]
    },
    {
     "name": "stdout",
     "output_type": "stream",
     "text": [
      "Row 420 failed: No data available for request.\n",
      "HTTP Status code: 204\n",
      "Detailed response of server:\n",
      "\n",
      "\n"
     ]
    },
    {
     "name": "stderr",
     "output_type": "stream",
     "text": [
      "\r",
      "422it [09:28,  1.01s/it]"
     ]
    },
    {
     "name": "stdout",
     "output_type": "stream",
     "text": [
      "Row 422 failed: No data available for request.\n",
      "HTTP Status code: 204\n",
      "Detailed response of server:\n",
      "\n",
      "\n"
     ]
    },
    {
     "name": "stderr",
     "output_type": "stream",
     "text": [
      "425it [09:31,  1.04s/it]"
     ]
    },
    {
     "name": "stdout",
     "output_type": "stream",
     "text": [
      "Row 425 failed: No data available for request.\n",
      "HTTP Status code: 204\n",
      "Detailed response of server:\n",
      "\n",
      "\n"
     ]
    },
    {
     "name": "stderr",
     "output_type": "stream",
     "text": [
      "437it [09:44,  1.06s/it]"
     ]
    },
    {
     "name": "stdout",
     "output_type": "stream",
     "text": [
      "Row 437 failed: No data available for request.\n",
      "HTTP Status code: 204\n",
      "Detailed response of server:\n",
      "\n",
      "\n"
     ]
    },
    {
     "name": "stderr",
     "output_type": "stream",
     "text": [
      "441it [09:46,  1.52it/s]"
     ]
    },
    {
     "name": "stdout",
     "output_type": "stream",
     "text": [
      "Row 439 failed: No data available for request.\n",
      "HTTP Status code: 204\n",
      "Detailed response of server:\n",
      "\n",
      "\n",
      "Row 440 failed: No data available for request.\n",
      "HTTP Status code: 204\n",
      "Detailed response of server:\n",
      "\n",
      "\n"
     ]
    },
    {
     "name": "stderr",
     "output_type": "stream",
     "text": [
      "448it [09:51,  1.81it/s]"
     ]
    },
    {
     "name": "stdout",
     "output_type": "stream",
     "text": [
      "Row 446 failed: No data available for request.\n",
      "HTTP Status code: 204\n",
      "Detailed response of server:\n",
      "\n",
      "\n",
      "Row 447 failed: No data available for request.\n",
      "HTTP Status code: 204\n",
      "Detailed response of server:\n",
      "\n",
      "\n"
     ]
    },
    {
     "name": "stderr",
     "output_type": "stream",
     "text": [
      "\r",
      "449it [09:51,  2.05it/s]"
     ]
    },
    {
     "name": "stdout",
     "output_type": "stream",
     "text": [
      "Row 448 failed: No data available for request.\n",
      "HTTP Status code: 204\n",
      "Detailed response of server:\n",
      "\n",
      "\n"
     ]
    },
    {
     "name": "stderr",
     "output_type": "stream",
     "text": [
      "452it [09:54,  1.30it/s]"
     ]
    },
    {
     "name": "stdout",
     "output_type": "stream",
     "text": [
      "Row 452 failed: No data available for request.\n",
      "HTTP Status code: 204\n",
      "Detailed response of server:\n",
      "\n",
      "\n"
     ]
    },
    {
     "name": "stderr",
     "output_type": "stream",
     "text": [
      "456it [09:55,  2.60it/s]"
     ]
    },
    {
     "name": "stdout",
     "output_type": "stream",
     "text": [
      "Row 454 failed: No data available for request.\n",
      "HTTP Status code: 204\n",
      "Detailed response of server:\n",
      "\n",
      "\n",
      "Row 455 failed: No data available for request.\n",
      "HTTP Status code: 204\n",
      "Detailed response of server:\n",
      "\n",
      "\n",
      "Row 456 failed: No data available for request.\n",
      "HTTP Status code: 204\n",
      "Detailed response of server:\n",
      "\n",
      "\n"
     ]
    },
    {
     "name": "stderr",
     "output_type": "stream",
     "text": [
      "460it [09:58,  1.43it/s]"
     ]
    },
    {
     "name": "stdout",
     "output_type": "stream",
     "text": [
      "Row 460 failed: No data available for request.\n",
      "HTTP Status code: 204\n",
      "Detailed response of server:\n",
      "\n",
      "\n"
     ]
    },
    {
     "name": "stderr",
     "output_type": "stream",
     "text": [
      "\r",
      "462it [09:59,  1.79it/s]"
     ]
    },
    {
     "name": "stdout",
     "output_type": "stream",
     "text": [
      "Row 462 failed: No data available for request.\n",
      "HTTP Status code: 204\n",
      "Detailed response of server:\n",
      "\n",
      "\n"
     ]
    },
    {
     "name": "stderr",
     "output_type": "stream",
     "text": [
      "\r",
      "464it [10:00,  1.65it/s]"
     ]
    },
    {
     "name": "stdout",
     "output_type": "stream",
     "text": [
      "Row 464 failed: No data available for request.\n",
      "HTTP Status code: 204\n",
      "Detailed response of server:\n",
      "\n",
      "\n"
     ]
    },
    {
     "name": "stderr",
     "output_type": "stream",
     "text": [
      "467it [10:02,  1.68it/s]"
     ]
    },
    {
     "name": "stdout",
     "output_type": "stream",
     "text": [
      "Row 467 failed: No data available for request.\n",
      "HTTP Status code: 204\n",
      "Detailed response of server:\n",
      "\n",
      "\n"
     ]
    },
    {
     "name": "stderr",
     "output_type": "stream",
     "text": [
      "475it [10:12,  1.18s/it]"
     ]
    },
    {
     "name": "stdout",
     "output_type": "stream",
     "text": [
      "Row 475 failed: No data available for request.\n",
      "HTTP Status code: 204\n",
      "Detailed response of server:\n",
      "\n",
      "\n"
     ]
    },
    {
     "name": "stderr",
     "output_type": "stream",
     "text": [
      "479it [10:16,  1.08s/it]"
     ]
    },
    {
     "name": "stdout",
     "output_type": "stream",
     "text": [
      "Row 479 failed: No data available for request.\n",
      "HTTP Status code: 204\n",
      "Detailed response of server:\n",
      "\n",
      "\n"
     ]
    },
    {
     "name": "stderr",
     "output_type": "stream",
     "text": [
      "\r",
      "481it [10:17,  1.16it/s]"
     ]
    },
    {
     "name": "stdout",
     "output_type": "stream",
     "text": [
      "Row 480 failed: No data available for request.\n",
      "HTTP Status code: 204\n",
      "Detailed response of server:\n",
      "\n",
      "\n",
      "Row 481 failed: No data available for request.\n",
      "HTTP Status code: 204\n",
      "Detailed response of server:\n",
      "\n",
      "\n"
     ]
    },
    {
     "name": "stderr",
     "output_type": "stream",
     "text": [
      "486it [10:19,  1.77it/s]"
     ]
    },
    {
     "name": "stdout",
     "output_type": "stream",
     "text": [
      "Row 484 failed: No data available for request.\n",
      "HTTP Status code: 204\n",
      "Detailed response of server:\n",
      "\n",
      "\n",
      "Row 485 failed: No data available for request.\n",
      "HTTP Status code: 204\n",
      "Detailed response of server:\n",
      "\n",
      "\n",
      "Row 486 failed: No data available for request.\n",
      "HTTP Status code: 204\n",
      "Detailed response of server:\n",
      "\n",
      "\n"
     ]
    },
    {
     "name": "stderr",
     "output_type": "stream",
     "text": [
      "492it [10:25,  1.32it/s]"
     ]
    },
    {
     "name": "stdout",
     "output_type": "stream",
     "text": [
      "Row 491 failed: No data available for request.\n",
      "HTTP Status code: 204\n",
      "Detailed response of server:\n",
      "\n",
      "\n"
     ]
    },
    {
     "name": "stderr",
     "output_type": "stream",
     "text": [
      "496it [10:28,  1.79it/s]"
     ]
    },
    {
     "name": "stdout",
     "output_type": "stream",
     "text": [
      "Row 494 failed: No data available for request.\n",
      "HTTP Status code: 204\n",
      "Detailed response of server:\n",
      "\n",
      "\n",
      "Row 495 failed: No data available for request.\n",
      "HTTP Status code: 204\n",
      "Detailed response of server:\n",
      "\n",
      "\n"
     ]
    },
    {
     "name": "stderr",
     "output_type": "stream",
     "text": [
      "\r",
      "497it [10:28,  2.35it/s]"
     ]
    },
    {
     "name": "stdout",
     "output_type": "stream",
     "text": [
      "Row 496 failed: No data available for request.\n",
      "HTTP Status code: 204\n",
      "Detailed response of server:\n",
      "\n",
      "\n"
     ]
    },
    {
     "name": "stderr",
     "output_type": "stream",
     "text": [
      "499it [10:29,  2.50it/s]"
     ]
    },
    {
     "name": "stdout",
     "output_type": "stream",
     "text": [
      "Row 498 failed: No data available for request.\n",
      "HTTP Status code: 204\n",
      "Detailed response of server:\n",
      "\n",
      "\n"
     ]
    },
    {
     "name": "stderr",
     "output_type": "stream",
     "text": [
      "502it [10:30,  2.97it/s]"
     ]
    },
    {
     "name": "stdout",
     "output_type": "stream",
     "text": [
      "Row 500 failed: No data available for request.\n",
      "HTTP Status code: 204\n",
      "Detailed response of server:\n",
      "\n",
      "\n",
      "Row 501 failed: No data available for request.\n",
      "HTTP Status code: 204\n",
      "Detailed response of server:\n",
      "\n",
      "\n"
     ]
    },
    {
     "name": "stderr",
     "output_type": "stream",
     "text": [
      "505it [10:32,  2.05it/s]"
     ]
    },
    {
     "name": "stdout",
     "output_type": "stream",
     "text": [
      "Row 504 failed: No data available for request.\n",
      "HTTP Status code: 204\n",
      "Detailed response of server:\n",
      "\n",
      "\n"
     ]
    },
    {
     "name": "stderr",
     "output_type": "stream",
     "text": [
      "\r",
      "506it [10:33,  1.48it/s]"
     ]
    },
    {
     "name": "stdout",
     "output_type": "stream",
     "text": [
      "Row 505 failed: No data available for request.\n",
      "HTTP Status code: 204\n",
      "Detailed response of server:\n",
      "\n",
      "\n"
     ]
    },
    {
     "name": "stderr",
     "output_type": "stream",
     "text": [
      "509it [10:36,  1.52it/s]"
     ]
    },
    {
     "name": "stdout",
     "output_type": "stream",
     "text": [
      "Row 507 failed: No data available for request.\n",
      "HTTP Status code: 204\n",
      "Detailed response of server:\n",
      "\n",
      "\n",
      "Row 508 failed: No data available for request.\n",
      "HTTP Status code: 204\n",
      "Detailed response of server:\n",
      "\n",
      "\n"
     ]
    },
    {
     "name": "stderr",
     "output_type": "stream",
     "text": [
      "512it [10:42,  1.21s/it]"
     ]
    },
    {
     "name": "stdout",
     "output_type": "stream",
     "text": [
      "Row 511 failed: No data available for request.\n",
      "HTTP Status code: 204\n",
      "Detailed response of server:\n",
      "\n",
      "\n"
     ]
    },
    {
     "name": "stderr",
     "output_type": "stream",
     "text": [
      "515it [10:43,  1.51it/s]"
     ]
    },
    {
     "name": "stdout",
     "output_type": "stream",
     "text": [
      "Row 513 failed: No data available for request.\n",
      "HTTP Status code: 204\n",
      "Detailed response of server:\n",
      "\n",
      "\n",
      "Row 514 failed: No data available for request.\n",
      "HTTP Status code: 204\n",
      "Detailed response of server:\n",
      "\n",
      "\n"
     ]
    },
    {
     "name": "stderr",
     "output_type": "stream",
     "text": [
      "518it [10:45,  2.12it/s]"
     ]
    },
    {
     "name": "stdout",
     "output_type": "stream",
     "text": [
      "Row 516 failed: No data available for request.\n",
      "HTTP Status code: 204\n",
      "Detailed response of server:\n",
      "\n",
      "\n",
      "Row 517 failed: No data available for request.\n",
      "HTTP Status code: 204\n",
      "Detailed response of server:\n",
      "\n",
      "\n"
     ]
    },
    {
     "name": "stderr",
     "output_type": "stream",
     "text": [
      "520it [10:45,  3.49it/s]"
     ]
    },
    {
     "name": "stdout",
     "output_type": "stream",
     "text": [
      "Row 518 failed: No data available for request.\n",
      "HTTP Status code: 204\n",
      "Detailed response of server:\n",
      "\n",
      "\n",
      "Row 519 failed: No data available for request.\n",
      "HTTP Status code: 204\n",
      "Detailed response of server:\n",
      "\n",
      "\n"
     ]
    },
    {
     "name": "stderr",
     "output_type": "stream",
     "text": [
      "523it [10:46,  2.67it/s]"
     ]
    },
    {
     "name": "stdout",
     "output_type": "stream",
     "text": [
      "Row 522 failed: No data available for request.\n",
      "HTTP Status code: 204\n",
      "Detailed response of server:\n",
      "\n",
      "\n"
     ]
    },
    {
     "name": "stderr",
     "output_type": "stream",
     "text": [
      "531it [10:54,  1.26it/s]"
     ]
    },
    {
     "name": "stdout",
     "output_type": "stream",
     "text": [
      "Row 529 failed: No data available for request.\n",
      "HTTP Status code: 204\n",
      "Detailed response of server:\n",
      "\n",
      "\n",
      "Row 530 failed: No data available for request.\n",
      "HTTP Status code: 204\n",
      "Detailed response of server:\n",
      "\n",
      "\n"
     ]
    },
    {
     "name": "stderr",
     "output_type": "stream",
     "text": [
      "532it [10:58,  1.24s/it]\n"
     ]
    }
   ],
   "source": [
    "# Add empty columns to store station info\n",
    "su_cat['network'] = None\n",
    "su_cat['station'] = None\n",
    "su_cat['location'] = None\n",
    "su_cat['channel_type'] = None\n",
    "\n",
    "# Iterate through the DataFrame rows\n",
    "for i, row in tqdm(su_cat.iterrows()):\n",
    "    try:\n",
    "        # Query station metadata near event location\n",
    "        inv = client.get_stations(latitude=row['Lat'], \n",
    "                                  longitude=row['Lon'],\n",
    "                                  starttime=row['UTCDateTime'] - 100,\n",
    "                                  endtime=row['UTCDateTime'] + 100,  # add 1 second buffer\n",
    "                                  maxradius=0.0001,\n",
    "                                  level='response')\n",
    "        \n",
    "        # Assume first match is enough\n",
    "        net = inv[0]\n",
    "        sta = net[0]\n",
    "        cha = sta[0]  # First channel (e.g., EHZ)\n",
    "\n",
    "        su_cat.at[i, 'network'] = net.code\n",
    "        su_cat.at[i, 'station'] = sta.code\n",
    "        su_cat.at[i, 'location'] = cha.location_code\n",
    "        su_cat.at[i, 'channel_type'] = cha.code[:2]  # 'EHZ' → 'EH'\n",
    "\n",
    "    except Exception as e:\n",
    "        print(f\"Row {i} failed: {e}\")\n",
    "        continue\n"
   ]
  },
  {
   "cell_type": "markdown",
   "id": "938d12cd",
   "metadata": {},
   "source": [
    "## Finding all the unique seismic stations. \n",
    "\n",
    "To get an idea of what stations to consider and where to download the data from. "
   ]
  },
  {
   "cell_type": "code",
   "execution_count": 91,
   "id": "287f4de4",
   "metadata": {},
   "outputs": [
    {
     "name": "stdout",
     "output_type": "stream",
     "text": [
      "['B204' 'BRSP' 'CIHL' 'CLBH' 'CPCO' 'HIYU' 'HOA' 'HSR' 'LOO' 'LSON' 'MILD'\n",
      " 'OBSR' 'PALM' 'PANH' 'RCS' 'REM' 'RER' 'SEP' 'SHUK' 'SHW' 'STAR' 'SUG'\n",
      " 'TIMB' 'USFR' 'VALT' 'WIFE' 'YOCR']\n"
     ]
    }
   ],
   "source": [
    "# Filter out None before passing to np.unique\n",
    "valid_stations = [s for s in su_cat['station'].values if s is not None]\n",
    "unique_stations = np.unique(valid_stations)\n",
    "print(unique_stations)"
   ]
  },
  {
   "cell_type": "markdown",
   "id": "0ad80430",
   "metadata": {},
   "source": [
    "## Downloading the data from 30 stations"
   ]
  },
  {
   "cell_type": "code",
   "execution_count": null,
   "id": "982ff41f",
   "metadata": {},
   "outputs": [],
   "source": []
  },
  {
   "cell_type": "code",
   "execution_count": 163,
   "id": "b19a1f7d",
   "metadata": {},
   "outputs": [],
   "source": [
    "starttime = obspy.UTCDateTime(2023, 7, 30, 1, 0, 0)\n",
    "network = 'CC'\n",
    "station = 'PANH'\n",
    "channel = 'BH*'\n",
    "location = '*'\n",
    "\n",
    "stream = client.get_waveforms(network = network, \n",
    "                    station = station, \n",
    "                    channel = channel, \n",
    "                    location = loca, \n",
    "                    starttime = starttime,\n",
    "                    endtime = starttime + 100)"
   ]
  },
  {
   "cell_type": "code",
   "execution_count": 156,
   "id": "4a9256f6",
   "metadata": {},
   "outputs": [
    {
     "data": {
      "text/plain": [
       "4 Trace(s) in Stream:\n",
       "CC.PANH..SeismicCNN_eq | 2023-07-23T01:00:00.380000Z - 2023-07-23T01:00:00.380000Z | 50.0 s, 1 samples\n",
       "CC.PANH..SeismicCNN_px | 2023-07-23T01:00:00.380000Z - 2023-07-23T01:00:00.380000Z | 50.0 s, 1 samples\n",
       "CC.PANH..SeismicCNN_no | 2023-07-23T01:00:00.380000Z - 2023-07-23T01:00:00.380000Z | 50.0 s, 1 samples\n",
       "CC.PANH..SeismicCNN_su | 2023-07-23T01:00:00.380000Z - 2023-07-23T01:00:00.380000Z | 50.0 s, 1 samples"
      ]
     },
     "execution_count": 156,
     "metadata": {},
     "output_type": "execute_result"
    }
   ],
   "source": [
    "model2.annotate(stream)"
   ]
  },
  {
   "cell_type": "code",
   "execution_count": null,
   "id": "f21b1c80",
   "metadata": {},
   "outputs": [],
   "source": []
  },
  {
   "cell_type": "code",
   "execution_count": 176,
   "id": "1a8d15ea",
   "metadata": {},
   "outputs": [
    {
     "name": "stdout",
     "output_type": "stream",
     "text": [
      "Saved 4 windows for UW.RER\n",
      "Saved 4 windows for UW.STAR\n",
      "Saved 4 windows for CC.PANH\n",
      "Saved 4 windows for CC.OBSR\n",
      "Saved 4 windows for CC.MILD\n"
     ]
    }
   ],
   "source": [
    "starttime = obspy.UTCDateTime(2023, 7, 30, 1, 0, 0)\n",
    "\n",
    "\n",
    "stations = [\n",
    "    {\"network\": \"UW\", \"station\": \"RER\",  \"channel\": \"HH?\"},\n",
    "    {\"network\": \"UW\", \"station\": \"STAR\",  \"channel\": \"EH?\"},\n",
    "    {\"network\": \"CC\", \"station\": \"PANH\",  \"channel\": \"BH?\"},\n",
    "    {\"network\": \"CC\", \"station\": \"OBSR\",  \"channel\": \"BH?\"}, \n",
    "    {\"network\": \"CC\", \"station\": \"MILD\",  \"channel\": \"BH?\"}, \n",
    "]\n",
    "\n",
    "\n",
    "\n",
    "for sta in stations:\n",
    "        i = 0\n",
    "        prob_list = []\n",
    "        time_index = []\n",
    "        \n",
    "        while i < 200:\n",
    "    \n",
    "            stream = client.get_waveforms(network = sta['network'], \n",
    "                            station = sta['station'], \n",
    "                            channel = sta['channel'], \n",
    "                            location = '*', \n",
    "                            starttime = starttime+i,\n",
    "                            endtime = starttime + 100+i)\n",
    "        \n",
    "            prob_list.append(np.array(model2.annotate(stream)).flatten())\n",
    "            time_index.append(i)\n",
    "            i = i + 50\n",
    "        \n",
    "        np.savez_compressed(\n",
    "        f\"../dl_probs_csv/{sta['network']}_{sta['station']}_{starttime.date}.npz\",\n",
    "        times=np.array(time_index),\n",
    "        probs=np.vstack(prob_list) if prob_list else np.empty((0, 4))\n",
    "    )\n",
    "        print(f\"Saved {len(prob_list)} windows for {sta['network']}.{sta['station']}\")"
   ]
  },
  {
   "cell_type": "code",
   "execution_count": 177,
   "id": "e01ce680",
   "metadata": {},
   "outputs": [],
   "source": []
  },
  {
   "cell_type": "code",
   "execution_count": 178,
   "id": "9d419a42",
   "metadata": {},
   "outputs": [
    {
     "data": {
      "text/plain": [
       "array([[1.0690180e-08, 2.1076683e-04, 9.9978906e-01, 6.1024224e-08],\n",
       "       [1.0415563e-04, 5.5741198e-02, 9.1046524e-01, 3.3689383e-02],\n",
       "       [5.3443760e-04, 1.5227825e-04, 9.9928170e-01, 3.1572035e-05],\n",
       "       [5.7079078e-16, 1.3881865e-08, 2.4385240e-02, 9.7561479e-01]],\n",
       "      dtype=float32)"
      ]
     },
     "execution_count": 178,
     "metadata": {},
     "output_type": "execute_result"
    }
   ],
   "source": []
  },
  {
   "cell_type": "code",
   "execution_count": null,
   "id": "ac1257d1",
   "metadata": {},
   "outputs": [],
   "source": []
  },
  {
   "cell_type": "code",
   "execution_count": null,
   "id": "b6ae9722",
   "metadata": {},
   "outputs": [],
   "source": []
  },
  {
   "cell_type": "code",
   "execution_count": null,
   "id": "803fe19a",
   "metadata": {},
   "outputs": [],
   "source": []
  },
  {
   "cell_type": "code",
   "execution_count": null,
   "id": "319ee039",
   "metadata": {},
   "outputs": [],
   "source": []
  },
  {
   "cell_type": "code",
   "execution_count": null,
   "id": "c9b73979",
   "metadata": {},
   "outputs": [],
   "source": []
  },
  {
   "cell_type": "code",
   "execution_count": null,
   "id": "3317907f",
   "metadata": {},
   "outputs": [],
   "source": []
  },
  {
   "cell_type": "code",
   "execution_count": null,
   "id": "fb7f641f",
   "metadata": {},
   "outputs": [],
   "source": []
  },
  {
   "cell_type": "code",
   "execution_count": null,
   "id": "c2824055",
   "metadata": {},
   "outputs": [],
   "source": []
  },
  {
   "cell_type": "code",
   "execution_count": null,
   "id": "ec0797ff",
   "metadata": {},
   "outputs": [],
   "source": []
  },
  {
   "cell_type": "code",
   "execution_count": null,
   "id": "fbc833ef",
   "metadata": {},
   "outputs": [],
   "source": []
  },
  {
   "cell_type": "code",
   "execution_count": null,
   "id": "b3e75fea",
   "metadata": {},
   "outputs": [],
   "source": []
  },
  {
   "cell_type": "code",
   "execution_count": null,
   "id": "9cdd2c8e",
   "metadata": {},
   "outputs": [],
   "source": []
  },
  {
   "cell_type": "code",
   "execution_count": null,
   "id": "c8e2410e",
   "metadata": {},
   "outputs": [],
   "source": []
  },
  {
   "cell_type": "code",
   "execution_count": null,
   "id": "4365358f",
   "metadata": {},
   "outputs": [],
   "source": []
  },
  {
   "cell_type": "code",
   "execution_count": 137,
   "id": "c353c958",
   "metadata": {},
   "outputs": [
    {
     "name": "stderr",
     "output_type": "stream",
     "text": [
      "UW.RER: 100%|██████████| 2/2 [00:22<00:00, 11.45s/h]\n",
      "UW.STAR: 100%|██████████| 2/2 [00:19<00:00,  9.91s/h]\n",
      "CC.PANH: 100%|██████████| 2/2 [00:06<00:00,  3.17s/h]\n",
      "CC.OBSR: 100%|██████████| 2/2 [00:08<00:00,  4.32s/h]\n",
      "CC.MILD: 100%|██████████| 2/2 [00:04<00:00,  2.31s/h]"
     ]
    },
    {
     "name": "stdout",
     "output_type": "stream",
     "text": [
      "\n",
      "Finished – CSVs saved in “ml_probs_csv”.\n"
     ]
    },
    {
     "name": "stderr",
     "output_type": "stream",
     "text": [
      "\n"
     ]
    }
   ],
   "source": [
    "#!/usr/bin/env python3\n",
    "\"\"\"\n",
    "Classify a month of continuous data for several stations in 100-second windows.\n",
    "Outputs one CSV per station with the class probabilities per window.\n",
    "\n",
    "Assumptions\n",
    "-----------\n",
    "* model2.annotate(Stream) → Stream with 4 Traces named\n",
    "    SeismicCNN_eq/px/no/su (1 sample each = probability).\n",
    "* Model expects 3-component, 50 Hz, 100 s Stream (5 000 samples/component).\n",
    "* SeisBench or other preprocessing is handled **inside** `model2.annotate`\n",
    "  or is not needed.  If you need custom preprocessing, insert it where marked.\n",
    "\"\"\"\n",
    "\n",
    "import os\n",
    "import sys\n",
    "import math\n",
    "import csv\n",
    "from datetime import timedelta\n",
    "\n",
    "import obspy\n",
    "from obspy import UTCDateTime, Stream\n",
    "from obspy.clients.fdsn import Client\n",
    "from tqdm import tqdm   # progress bar\n",
    "\n",
    "# ────────────────────────── user config ──────────────────────────\n",
    "START = UTCDateTime(2023, 6, 1)          # beginning of month (UTC)\n",
    "END   = START + 2 * 3600           # ~30 days later\n",
    "WINDOW_SEC   = 100                       # classifier input window\n",
    "STRIDE_SEC = 50           # step between slice starts  ← NEW\n",
    "CHUNK_SEC    = 3600                      # download one hour at a time\n",
    "CLIENT       = Client(\"IRIS\")            # or regional FDSN node\n",
    "OUT_DIR      = \"ml_probs_csv\"            # output folder\n",
    "os.makedirs(OUT_DIR, exist_ok=True)\n",
    "\n",
    "stations = [\n",
    "    {\"network\": \"UW\", \"station\": \"RER\",  \"channel\": \"HH?\"},\n",
    "    {\"network\": \"UW\", \"station\": \"STAR\", \"channel\": \"EH?\"},\n",
    "    {\"network\": \"CC\", \"station\": \"PANH\", \"channel\": \"BH?\"},\n",
    "    {\"network\": \"CC\", \"station\": \"OBSR\", \"channel\": \"BH?\"},\n",
    "    {\"network\": \"CC\", \"station\": \"MILD\", \"channel\": \"BH?\"},\n",
    "]\n",
    "\n",
    "# import or create your classifier here\n",
    "# from my_models import model2\n",
    "# model2.eval()\n",
    "# ──────────────────────────────────────────────────────────────────\n",
    "\n",
    "\n",
    "def classify_window(win_st: Stream):\n",
    "    \"\"\"\n",
    "    Returns dict of class:prob for one 100-s 3-component Stream.\n",
    "    \"\"\"\n",
    "    out_st = model2.annotate(win_st)\n",
    "    # Expect 4 traces in the output stream (eq, px, no, su)\n",
    "    return {tr.stats.channel.split(\"_\")[-1]: float(tr.data[0]) for tr in out_st}\n",
    "\n",
    "\n",
    "def slice_hour_to_windows(hour_st: Stream, chunk_start: UTCDateTime):\n",
    "    \"\"\"\n",
    "    Yield (win_start, win_stream) for consecutive 100-s windows with 50-s stride\n",
    "    **inside the current 1-hour chunk**.\n",
    "\n",
    "    We skip any window whose *end* would spill past the chunk boundary.\n",
    "    The first window of the *next* chunk will cover that spill-over area,\n",
    "    so we avoid duplicate work.\n",
    "    \"\"\"\n",
    "    sr         = 50.0  # Hz  (adjust if model trained on a different rate)\n",
    "    n_samples  = int(sr * WINDOW_SEC)\n",
    "    last_start = CHUNK_SEC - WINDOW_SEC  # 3600-100 = 3500 s\n",
    "\n",
    "    for offset in range(0, last_start + 1, STRIDE_SEC):\n",
    "        win_start = chunk_start + offset\n",
    "        win_end   = win_start   + WINDOW_SEC\n",
    "\n",
    "        # Pull a copy, pad with zeros if a tiny gap exists\n",
    "        win = hour_st.copy().trim(win_start, win_end,\n",
    "                                  pad=True, fill_value=0, nearest_sample=False)\n",
    "\n",
    "        # Require exactly one Z, one N, one E trace and right sample count\n",
    "        if len(win) >= 3 and all(len(tr) == n_samples for tr in win):\n",
    "            yield win_start, win\n",
    "\n",
    "\n",
    "\n",
    "def process_station(sta):\n",
    "    \"\"\"\n",
    "    Stream-through-time loop for one station. Writes a CSV incrementally.\n",
    "    \"\"\"\n",
    "    out_path = os.path.join(OUT_DIR,\n",
    "                  f\"{sta['network']}_{sta['station']}_{START.date}.csv\")\n",
    "    header = [\"utc_start\", \"eq_prob\", \"px_prob\", \"no_prob\", \"su_prob\"]\n",
    "\n",
    "    with open(out_path, \"w\", newline=\"\") as f:\n",
    "        writer = csv.writer(f)\n",
    "        writer.writerow(header)\n",
    "\n",
    "        t = START\n",
    "        total_hours = math.ceil((END - START) / CHUNK_SEC)\n",
    "        with tqdm(total=total_hours,\n",
    "                  desc=f\"{sta['network']}.{sta['station']}\",\n",
    "                  unit=\"h\") as pbar:\n",
    "            while t < END:\n",
    "                try:\n",
    "                    hour_st = CLIENT.get_waveforms(\n",
    "                        network   = sta[\"network\"],\n",
    "                        station   = sta[\"station\"],\n",
    "                        location  = \"*\",\n",
    "                        channel   = sta[\"channel\"],\n",
    "                        starttime = t,\n",
    "                        endtime   = t + CHUNK_SEC,\n",
    "                        attach_response=False,\n",
    "                    )\n",
    "                    # OPTIONAL: pre-processing here (detrend, filter, …)\n",
    "\n",
    "                    for win_start, win in slice_hour_to_windows(hour_st, t):\n",
    "                        probs = classify_window(win)\n",
    "                        writer.writerow([\n",
    "                            win_start.isoformat(),\n",
    "                            probs.get(\"eq\", 0.0),\n",
    "                            probs.get(\"px\", 0.0),\n",
    "                            probs.get(\"no\", 0.0),\n",
    "                            probs.get(\"su\", 0.0)\n",
    "                        ])\n",
    "\n",
    "                except Exception as e:\n",
    "                    # network hiccup or no data; skip hour\n",
    "                    print(e)\n",
    "                    pass\n",
    "\n",
    "                t += CHUNK_SEC\n",
    "                pbar.update(1)\n",
    "\n",
    "\n",
    "# ───────────────────────────── main ──────────────────────────────\n",
    "if __name__ == \"__main__\":\n",
    "    for sta in stations:\n",
    "        process_station(sta)\n",
    "\n",
    "    print(f\"\\nFinished – CSVs saved in “{OUT_DIR}”.\")\n"
   ]
  },
  {
   "cell_type": "code",
   "execution_count": null,
   "id": "821a1036",
   "metadata": {},
   "outputs": [],
   "source": []
  },
  {
   "cell_type": "code",
   "execution_count": null,
   "id": "08eec016",
   "metadata": {},
   "outputs": [],
   "source": [
    "c"
   ]
  }
 ],
 "metadata": {
  "kernelspec": {
   "display_name": "surface",
   "language": "python",
   "name": "surface"
  },
  "language_info": {
   "codemirror_mode": {
    "name": "ipython",
    "version": 3
   },
   "file_extension": ".py",
   "mimetype": "text/x-python",
   "name": "python",
   "nbconvert_exporter": "python",
   "pygments_lexer": "ipython3",
   "version": "3.9.5"
  }
 },
 "nbformat": 4,
 "nbformat_minor": 5
}
