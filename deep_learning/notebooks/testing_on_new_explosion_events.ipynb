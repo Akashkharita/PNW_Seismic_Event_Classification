{
 "cells": [
  {
   "cell_type": "code",
   "execution_count": null,
   "id": "7f2d9339",
   "metadata": {},
   "outputs": [],
   "source": []
  },
  {
   "cell_type": "code",
   "execution_count": 9,
   "id": "f109ff79",
   "metadata": {},
   "outputs": [],
   "source": [
    "# ───────────────────────────────\n",
    "# 📦 Standard Libraries\n",
    "# ───────────────────────────────\n",
    "import os\n",
    "import sys\n",
    "import math\n",
    "import time\n",
    "import csv\n",
    "import pickle\n",
    "from datetime import datetime, timedelta\n",
    "from collections import Counter\n",
    "\n",
    "# ───────────────────────────────\n",
    "# 📚 Data Handling & Utilities\n",
    "# ───────────────────────────────\n",
    "import numpy as np\n",
    "import pandas as pd\n",
    "from glob import glob\n",
    "from tqdm import tqdm\n",
    "import h5py\n",
    "from joblib import dump, load\n",
    "\n",
    "# ───────────────────────────────\n",
    "# 📊 Visualization\n",
    "# ───────────────────────────────\n",
    "import matplotlib.pyplot as plt\n",
    "import seaborn as sns\n",
    "\n",
    "# ───────────────────────────────\n",
    "# 📈 Machine Learning\n",
    "# ───────────────────────────────\n",
    "from sklearn.model_selection import (\n",
    "    train_test_split, RandomizedSearchCV, GridSearchCV, cross_val_score\n",
    ")\n",
    "from sklearn.ensemble import RandomForestClassifier\n",
    "from sklearn.metrics import (\n",
    "    accuracy_score, roc_curve, roc_auc_score, auc,\n",
    "    classification_report, confusion_matrix\n",
    ")\n",
    "from sklearn.preprocessing import LabelEncoder, StandardScaler\n",
    "from imblearn.under_sampling import RandomUnderSampler\n",
    "\n",
    "# ───────────────────────────────\n",
    "# 🌍 Seismology & Signal Processing\n",
    "# ───────────────────────────────\n",
    "import obspy\n",
    "from obspy import UTCDateTime\n",
    "from obspy.geodetics.base import gps2dist_azimuth\n",
    "from obspy.clients.fdsn import Client\n",
    "from obspy.signal.filter import envelope\n",
    "from scipy import stats, signal\n",
    "\n",
    "# ───────────────────────────────\n",
    "# 🔗 External Tools\n",
    "# ───────────────────────────────\n",
    "from zenodo_get import zenodo_get\n",
    "\n",
    "# ───────────────────────────────\n",
    "# 🤖 Deep Learning\n",
    "# ───────────────────────────────\n",
    "import torch\n",
    "import torch.nn.functional as F\n",
    "\n",
    "\n",
    "# ───────────────────────────────\n",
    "# 🛠 Custom Utilities\n",
    "# ───────────────────────────────\n",
    "sys.path.insert(0, '/home/ak287/PNW_Seismic_Event_Classification/deep_learning/scripts')\n",
    "from neural_network_architectures import SeismicCNN_2d\n",
    "\n",
    "from utils import (\n",
    "    extract_waveforms,\n",
    "    compute_spectrogram,\n",
    "    normalize_spectrogram_minmax,\n",
    "    return_train_val_loaders,\n",
    "    plot_confusion_matrix_and_cr,\n",
    "    train_model,\n",
    "    WaveformPreprocessor\n",
    ")\n",
    "from collections import defaultdict\n",
    "\n",
    "# Pandas display options\n",
    "pd.set_option('display.max_columns', None)\n",
    "\n",
    "\n",
    "sys.path.append('/home/ak287/seisbench/seisbench/models')\n",
    "import seisbench.models as sbm\n",
    "\n",
    "\n",
    "\n",
    "# for extracting unique stations\n",
    "import re\n",
    "from pathlib import Path"
   ]
  },
  {
   "cell_type": "markdown",
   "id": "b4e1a9d4",
   "metadata": {},
   "source": [
    "## update 20 June, 2025 - Now that we have updated the model by retraining it with incorrectly classified explosions. "
   ]
  },
  {
   "cell_type": "code",
   "execution_count": 2,
   "id": "7b375996",
   "metadata": {},
   "outputs": [],
   "source": [
    "retest_cat = pd.read_csv('../../data/curated_new_explosions_data_for_retesting.csv', index_col = 0)\n",
    "event_ids = retest_cat['event_id'].values\n",
    "stn_list = retest_cat['station'].values\n"
   ]
  },
  {
   "cell_type": "code",
   "execution_count": null,
   "id": "207de1d9",
   "metadata": {},
   "outputs": [],
   "source": []
  },
  {
   "cell_type": "markdown",
   "id": "00f58a3b",
   "metadata": {},
   "source": [
    "## Computing the predictions"
   ]
  },
  {
   "cell_type": "code",
   "execution_count": 5,
   "id": "06f5f21c",
   "metadata": {},
   "outputs": [],
   "source": [
    "#model1 = sbm.QuakeXNetoneD.from_pretrained(\"base\")\n",
    "\n",
    "model1 = sbm.SeismicCNN.from_pretrained(\"base\", version_str = '1')\n",
    "model2 = sbm.SeismicCNN.from_pretrained(\"base\", version_str = '1')\n",
    "model3 = sbm.SeismicCNN.from_pretrained(\"base\", version_str = '1')\n",
    "model4 = sbm.SeismicCNN.from_pretrained(\"base\", version_str = '1')"
   ]
  },
  {
   "cell_type": "code",
   "execution_count": null,
   "id": "dee5e53d",
   "metadata": {},
   "outputs": [],
   "source": []
  },
  {
   "cell_type": "markdown",
   "id": "262fd3d5",
   "metadata": {},
   "source": [
    "## Code when checking the retrained model performance"
   ]
  },
  {
   "cell_type": "code",
   "execution_count": 6,
   "id": "4e47f182",
   "metadata": {},
   "outputs": [
    {
     "data": {
      "text/plain": [
       "3415"
      ]
     },
     "execution_count": 6,
     "metadata": {},
     "output_type": "execute_result"
    }
   ],
   "source": [
    "len(stn_list)"
   ]
  },
  {
   "cell_type": "code",
   "execution_count": 7,
   "id": "ecdb2ac7",
   "metadata": {},
   "outputs": [
    {
     "data": {
      "text/plain": [
       "3415"
      ]
     },
     "execution_count": 7,
     "metadata": {},
     "output_type": "execute_result"
    }
   ],
   "source": [
    "len(event_ids)"
   ]
  },
  {
   "cell_type": "code",
   "execution_count": 12,
   "id": "244253f2",
   "metadata": {},
   "outputs": [
    {
     "name": "stderr",
     "output_type": "stream",
     "text": [
      "  0%|          | 0/3415 [00:00<?, ?it/s]Task was destroyed but it is pending!\n",
      "task: <Task pending name='Task-155721' coro=<WaveformModel._async_cut_fragments_point() done, defined at /home/ak287/seisbench/seisbench/models/base.py:1084> wait_for=<Future cancelled>>\n",
      "Task was destroyed but it is pending!\n",
      "task: <Task pending name='Task-155722' coro=<WaveformModel._async_predict() done, defined at /home/ak287/seisbench/seisbench/models/base.py:1038> wait_for=<Future cancelled>>\n",
      "Task was destroyed but it is pending!\n",
      "task: <Task pending name='Task-155723' coro=<WaveformModel._async_reassemble_blocks_point() done, defined at /home/ak287/seisbench/seisbench/models/base.py:1126> wait_for=<Future cancelled>>\n",
      "Task was destroyed but it is pending!\n",
      "task: <Task pending name='Task-155724' coro=<WaveformModel._async_predictions_to_streams() done, defined at /home/ak287/seisbench/seisbench/models/base.py:1069> wait_for=<Future cancelled>>\n",
      "100%|██████████| 3415/3415 [00:55<00:00, 62.04it/s]\n"
     ]
    }
   ],
   "source": [
    "# defining an empty dictionary to add probabilities data\n",
    "probs_global = {}\n",
    "\n",
    "for i in tqdm(range(len(event_ids))):\n",
    "    chn_list = glob(f'../../data/pnw_new_explosion_2023_2025/waveforms/{event_ids[i]}/*{stn_list[i]}*')\n",
    "    \n",
    "    # Continue only if exactly 3 components are found\n",
    "    if len(chn_list) == 3:\n",
    "        try:\n",
    "            st = obspy.Stream()\n",
    "            for chn in chn_list:\n",
    "                st += obspy.read(chn)\n",
    "\n",
    "            # Optional: sort channels to ensure consistent order\n",
    "            st.sort(['channel'])\n",
    "\n",
    "            # Predict probabilities using model\n",
    "            probs_windows = np.array(model2.annotate(st))\n",
    "\n",
    "            # Store in dict\n",
    "            probs_global[(event_ids[i], stn_list[i])] = probs_windows\n",
    "\n",
    "        except Exception as e:\n",
    "            print(f\"Error with event {event_ids[i]}, station {stn_list[i]}: {e}\")\n"
   ]
  },
  {
   "cell_type": "markdown",
   "id": "556286e8",
   "metadata": {},
   "source": [
    "## Testing all four versions of the model on this dataset. "
   ]
  },
  {
   "cell_type": "code",
   "execution_count": null,
   "id": "e885da1b",
   "metadata": {},
   "outputs": [
    {
     "name": "stderr",
     "output_type": "stream",
     "text": [
      " 32%|███▏      | 1096/3415 [01:14<02:40, 14.41it/s]"
     ]
    }
   ],
   "source": [
    "# 1️⃣  Register every model you want to run\n",
    "models = {\n",
    "    \"m1\": model1,\n",
    "    \"m2\": model2,\n",
    "    \"m3\": model3,\n",
    "    \"m4\": model4,\n",
    "}\n",
    "\n",
    "# 2️⃣  Use a nested dict:  { (event, station): {model_name: probs …} }\n",
    "probs_global = defaultdict(dict)\n",
    "\n",
    "for evt_id, station in tqdm(zip(event_ids, stn_list), total=len(event_ids)):\n",
    "    chn_list = glob(\n",
    "        f\"../../data/pnw_new_explosion_2023_2025/waveforms/{evt_id}/*{station}*\"\n",
    "    )\n",
    "\n",
    "    if len(chn_list) != 3:            # skip if 3-component stream not found\n",
    "        continue\n",
    "\n",
    "    try:\n",
    "        # build & sort a 3-component Stream\n",
    "        st = obspy.Stream()\n",
    "        for chn in chn_list:\n",
    "            st += obspy.read(chn)\n",
    "        st.sort([\"channel\"])\n",
    "\n",
    "        # 3️⃣  run every model on the same Stream\n",
    "        for name, mdl in models.items():\n",
    "            probs = np.asarray(mdl.annotate(st))  # (n_windows, n_classes)\n",
    "            probs_global[(evt_id, station)][name] = probs\n",
    "\n",
    "    except Exception as e:\n",
    "        print(f\"[{evt_id} | {station}]  ➜  {e}\")\n"
   ]
  },
  {
   "cell_type": "code",
   "execution_count": null,
   "id": "29ff9dbd",
   "metadata": {},
   "outputs": [],
   "source": []
  },
  {
   "cell_type": "code",
   "execution_count": null,
   "id": "39119df8",
   "metadata": {},
   "outputs": [],
   "source": []
  },
  {
   "cell_type": "code",
   "execution_count": 15,
   "id": "f2d44211",
   "metadata": {},
   "outputs": [],
   "source": [
    "def process_probabilities(probs_dict, threshold=0.5):\n",
    "    rows = []\n",
    "    for (event_id, station), prob_array in probs_dict.items():\n",
    "        \n",
    "        prob_eq = prob_array[0].max()\n",
    "        prob_px = prob_array[1].max()\n",
    "        prob_noise = prob_array[2].max()\n",
    "        prob_su = prob_array[3].max()\n",
    "\n",
    "        max_prob = max(prob_eq, prob_px, prob_su)\n",
    "        if max_prob > threshold:\n",
    "            if max_prob == prob_eq:\n",
    "                label = 'eq'\n",
    "            elif max_prob == prob_px:\n",
    "                label = 'px'\n",
    "            else:\n",
    "                label = 'surface'\n",
    "        else:\n",
    "            label = 'noise'\n",
    "\n",
    "        rows.append({\n",
    "            'event_id': event_id,\n",
    "            'station': station,\n",
    "            'prob_eq': prob_eq,\n",
    "            'prob_px': prob_px,\n",
    "            'prob_noise': prob_noise,\n",
    "            'prob_surface': prob_su,\n",
    "            'max_prob': max_prob,\n",
    "            'assigned_label': label\n",
    "        })\n",
    "\n",
    "    return pd.DataFrame(rows)\n"
   ]
  },
  {
   "cell_type": "code",
   "execution_count": 16,
   "id": "75a3072e",
   "metadata": {},
   "outputs": [
    {
     "name": "stdout",
     "output_type": "stream",
     "text": [
      "3415\n"
     ]
    }
   ],
   "source": [
    "# Example usage:\n",
    "labels_df = process_probabilities(probs_global)\n",
    "labels_df.head()\n",
    "print(len(labels_df))"
   ]
  },
  {
   "cell_type": "code",
   "execution_count": 17,
   "id": "cb5d554a",
   "metadata": {},
   "outputs": [
    {
     "data": {
      "text/plain": [
       "<Axes: >"
      ]
     },
     "execution_count": 17,
     "metadata": {},
     "output_type": "execute_result"
    },
    {
     "data": {
      "image/png": "[encoded data removed]",
      "text/plain": [
       "<Figure size 640x480 with 1 Axes>"
      ]
     },
     "metadata": {},
     "output_type": "display_data"
    }
   ],
   "source": [
    "labels_df['assigned_label'].hist()"
   ]
  },
  {
   "cell_type": "code",
   "execution_count": 18,
   "id": "c64de426",
   "metadata": {},
   "outputs": [],
   "source": [
    "labels_df.to_csv('../seisbench_output/pnw_new_explosion_output_labels_from_retrained_model.csv')"
   ]
  },
  {
   "cell_type": "code",
   "execution_count": 19,
   "id": "1d571103",
   "metadata": {},
   "outputs": [
    {
     "data": {
      "text/html": [
       "<div>\n",
       "<style scoped>\n",
       "    .dataframe tbody tr th:only-of-type {\n",
       "        vertical-align: middle;\n",
       "    }\n",
       "\n",
       "    .dataframe tbody tr th {\n",
       "        vertical-align: top;\n",
       "    }\n",
       "\n",
       "    .dataframe thead th {\n",
       "        text-align: right;\n",
       "    }\n",
       "</style>\n",
       "<table border=\"1\" class=\"dataframe\">\n",
       "  <thead>\n",
       "    <tr style=\"text-align: right;\">\n",
       "      <th></th>\n",
       "      <th>event_id</th>\n",
       "      <th>station</th>\n",
       "      <th>prob_eq</th>\n",
       "      <th>prob_px</th>\n",
       "      <th>prob_noise</th>\n",
       "      <th>prob_surface</th>\n",
       "      <th>max_prob</th>\n",
       "      <th>assigned_label</th>\n",
       "    </tr>\n",
       "  </thead>\n",
       "  <tbody>\n",
       "    <tr>\n",
       "      <th>0</th>\n",
       "      <td>613</td>\n",
       "      <td>AGNW</td>\n",
       "      <td>0.008877</td>\n",
       "      <td>0.844120</td>\n",
       "      <td>0.992826</td>\n",
       "      <td>0.995084</td>\n",
       "      <td>0.995084</td>\n",
       "      <td>surface</td>\n",
       "    </tr>\n",
       "    <tr>\n",
       "      <th>1</th>\n",
       "      <td>613</td>\n",
       "      <td>H2O</td>\n",
       "      <td>0.032880</td>\n",
       "      <td>0.840486</td>\n",
       "      <td>0.159281</td>\n",
       "      <td>0.860872</td>\n",
       "      <td>0.860872</td>\n",
       "      <td>surface</td>\n",
       "    </tr>\n",
       "    <tr>\n",
       "      <th>2</th>\n",
       "      <td>613</td>\n",
       "      <td>PRO</td>\n",
       "      <td>0.016899</td>\n",
       "      <td>0.901478</td>\n",
       "      <td>0.983022</td>\n",
       "      <td>0.844339</td>\n",
       "      <td>0.901478</td>\n",
       "      <td>px</td>\n",
       "    </tr>\n",
       "    <tr>\n",
       "      <th>3</th>\n",
       "      <td>613</td>\n",
       "      <td>SNI2</td>\n",
       "      <td>0.008303</td>\n",
       "      <td>0.990542</td>\n",
       "      <td>0.156086</td>\n",
       "      <td>0.979507</td>\n",
       "      <td>0.990542</td>\n",
       "      <td>px</td>\n",
       "    </tr>\n",
       "    <tr>\n",
       "      <th>4</th>\n",
       "      <td>613</td>\n",
       "      <td>YPT</td>\n",
       "      <td>0.026967</td>\n",
       "      <td>0.992164</td>\n",
       "      <td>1.000000</td>\n",
       "      <td>0.916962</td>\n",
       "      <td>0.992164</td>\n",
       "      <td>px</td>\n",
       "    </tr>\n",
       "    <tr>\n",
       "      <th>...</th>\n",
       "      <td>...</td>\n",
       "      <td>...</td>\n",
       "      <td>...</td>\n",
       "      <td>...</td>\n",
       "      <td>...</td>\n",
       "      <td>...</td>\n",
       "      <td>...</td>\n",
       "      <td>...</td>\n",
       "    </tr>\n",
       "    <tr>\n",
       "      <th>3410</th>\n",
       "      <td>1442</td>\n",
       "      <td>VDEB</td>\n",
       "      <td>0.033188</td>\n",
       "      <td>0.928225</td>\n",
       "      <td>0.998669</td>\n",
       "      <td>0.998812</td>\n",
       "      <td>0.998812</td>\n",
       "      <td>surface</td>\n",
       "    </tr>\n",
       "    <tr>\n",
       "      <th>3411</th>\n",
       "      <td>1444</td>\n",
       "      <td>COWS</td>\n",
       "      <td>0.882745</td>\n",
       "      <td>0.211368</td>\n",
       "      <td>0.999961</td>\n",
       "      <td>0.046105</td>\n",
       "      <td>0.882745</td>\n",
       "      <td>eq</td>\n",
       "    </tr>\n",
       "    <tr>\n",
       "      <th>3412</th>\n",
       "      <td>1444</td>\n",
       "      <td>FMW</td>\n",
       "      <td>0.044424</td>\n",
       "      <td>0.943271</td>\n",
       "      <td>0.934445</td>\n",
       "      <td>0.990218</td>\n",
       "      <td>0.990218</td>\n",
       "      <td>surface</td>\n",
       "    </tr>\n",
       "    <tr>\n",
       "      <th>3413</th>\n",
       "      <td>1444</td>\n",
       "      <td>RER</td>\n",
       "      <td>0.106859</td>\n",
       "      <td>0.869917</td>\n",
       "      <td>0.999726</td>\n",
       "      <td>0.901491</td>\n",
       "      <td>0.901491</td>\n",
       "      <td>surface</td>\n",
       "    </tr>\n",
       "    <tr>\n",
       "      <th>3414</th>\n",
       "      <td>1445</td>\n",
       "      <td>SKAMO</td>\n",
       "      <td>0.003512</td>\n",
       "      <td>0.999325</td>\n",
       "      <td>0.999369</td>\n",
       "      <td>0.999856</td>\n",
       "      <td>0.999856</td>\n",
       "      <td>surface</td>\n",
       "    </tr>\n",
       "  </tbody>\n",
       "</table>\n",
       "<p>3415 rows × 8 columns</p>\n",
       "</div>"
      ],
      "text/plain": [
       "      event_id station   prob_eq   prob_px  prob_noise  prob_surface  \\\n",
       "0          613    AGNW  0.008877  0.844120    0.992826      0.995084   \n",
       "1          613     H2O  0.032880  0.840486    0.159281      0.860872   \n",
       "2          613     PRO  0.016899  0.901478    0.983022      0.844339   \n",
       "3          613    SNI2  0.008303  0.990542    0.156086      0.979507   \n",
       "4          613     YPT  0.026967  0.992164    1.000000      0.916962   \n",
       "...        ...     ...       ...       ...         ...           ...   \n",
       "3410      1442    VDEB  0.033188  0.928225    0.998669      0.998812   \n",
       "3411      1444    COWS  0.882745  0.211368    0.999961      0.046105   \n",
       "3412      1444     FMW  0.044424  0.943271    0.934445      0.990218   \n",
       "3413      1444     RER  0.106859  0.869917    0.999726      0.901491   \n",
       "3414      1445   SKAMO  0.003512  0.999325    0.999369      0.999856   \n",
       "\n",
       "      max_prob assigned_label  \n",
       "0     0.995084        surface  \n",
       "1     0.860872        surface  \n",
       "2     0.901478             px  \n",
       "3     0.990542             px  \n",
       "4     0.992164             px  \n",
       "...        ...            ...  \n",
       "3410  0.998812        surface  \n",
       "3411  0.882745             eq  \n",
       "3412  0.990218        surface  \n",
       "3413  0.901491        surface  \n",
       "3414  0.999856        surface  \n",
       "\n",
       "[3415 rows x 8 columns]"
      ]
     },
     "execution_count": 19,
     "metadata": {},
     "output_type": "execute_result"
    }
   ],
   "source": [
    "labels_df"
   ]
  },
  {
   "cell_type": "code",
   "execution_count": null,
   "id": "5e3a5e85",
   "metadata": {},
   "outputs": [],
   "source": []
  },
  {
   "cell_type": "code",
   "execution_count": 20,
   "id": "762a0c23",
   "metadata": {},
   "outputs": [
    {
     "name": "stderr",
     "output_type": "stream",
     "text": [
      "100%|██████████| 3415/3415 [00:18<00:00, 187.75it/s]\n"
     ]
    }
   ],
   "source": [
    "def plot_trace(tr):\n",
    "    # Assuming `tr` is your ObsPy Trace object\n",
    "    data = tr[0].data  # Amplitude values\n",
    "    npts = tr[0].stats.npts  # Number of samples\n",
    "    sampling_rate = tr[0].stats.sampling_rate  # Samples per second\n",
    "\n",
    "    # Create time axis in seconds\n",
    "    time = np.linspace(0, npts / sampling_rate, npts)\n",
    "\n",
    "    # Plot\n",
    "    plt.figure(figsize=(10, 4))\n",
    "    plt.plot(time, data, linewidth=0.8)\n",
    "    plt.xlabel(\"Time (s)\")\n",
    "    plt.ylabel(\"Amplitude\")\n",
    "    plt.title(f\"{tr[0].stats.station}.{tr[0].stats.channel} | {tr[0].stats.starttime}\")\n",
    "    plt.grid(True)\n",
    "    plt.tight_layout()\n",
    "    plt.show()\n",
    "\n",
    "    \n",
    "    \n",
    "snr = []\n",
    "for i in tqdm(range(len(labels_df))):\n",
    "    try:\n",
    "        label = labels_df['assigned_label'].values[i]\n",
    "        event_id = labels_df['event_id'].values[i]\n",
    "        station = labels_df['station'].values[i]\n",
    "        files = glob(f'../../data/pnw_new_explosion_2023_2025/waveforms/{event_id}/*{station}*HN*')\n",
    "        tr = obspy.read(files[0])\n",
    "        tr.resample(50)\n",
    "        tr.detrend('linear')\n",
    "        tr.taper(0.05)\n",
    "        tr.filter('bandpass', freqmin = 1, freqmax = 20)\n",
    "\n",
    "        #plot_trace(tr)\n",
    "        #print(label)\n",
    "        # snr - signal to noise ratio\n",
    "        d = tr[0].data\n",
    "\n",
    "        #snr = np.max(abs(d[3000:8000]))/np.sqrt(np.mean(abs(d[1000:2000])**(2)))\n",
    "        #print(snr)\n",
    "\n",
    "        \n",
    "        snr.append(np.max(abs(d[3000:8000]))/np.sqrt(np.mean(abs(d[1000:2000])**(2))))\n",
    "    except:\n",
    "        snr.append(0)\n",
    "    \n",
    "labels_df['snr_n'] = snr"
   ]
  },
  {
   "cell_type": "code",
   "execution_count": 21,
   "id": "d61f4434",
   "metadata": {},
   "outputs": [
    {
     "data": {
      "image/png": "[encoded data removed]",
      "text/plain": [
       "<Figure size 640x480 with 1 Axes>"
      ]
     },
     "metadata": {},
     "output_type": "display_data"
    }
   ],
   "source": [
    "sns.boxplot(data=labels_df, x=\"assigned_label\", y=\"snr_n\")\n",
    "plt.title(\"SNR Distribution per Label\")\n",
    "plt.ylim(0,100)\n",
    "plt.ylabel(\"SNR\")\n",
    "plt.xlabel(\"Label\")\n",
    "plt.show()\n"
   ]
  },
  {
   "cell_type": "code",
   "execution_count": 22,
   "id": "2e74c4e2",
   "metadata": {},
   "outputs": [
    {
     "name": "stderr",
     "output_type": "stream",
     "text": [
      "/tmp/ipykernel_2875840/3073214077.py:7: FutureWarning: \n",
      "\n",
      "Passing `palette` without assigning `hue` is deprecated and will be removed in v0.14.0. Assign the `x` variable to `hue` and set `legend=False` for the same effect.\n",
      "\n",
      "  ax = sns.countplot(data=filtered, x='assigned_label', palette='pastel', order=filtered['assigned_label'].value_counts().index)\n"
     ]
    },
    {
     "data": {
      "image/png": "[encoded data removed]",
      "text/plain": [
       "<Figure size 800x500 with 1 Axes>"
      ]
     },
     "metadata": {},
     "output_type": "display_data"
    }
   ],
   "source": [
    "# Set style\n",
    "sns.set(style=\"whitegrid\")\n",
    "\n",
    "# Filter and plot\n",
    "filtered = labels_df[labels_df['snr_n'] > 7]\n",
    "plt.figure(figsize=(8, 5))\n",
    "ax = sns.countplot(data=filtered, x='assigned_label', palette='pastel', order=filtered['assigned_label'].value_counts().index)\n",
    "\n",
    "# Add value labels on top of bars\n",
    "for p in ax.patches:\n",
    "    height = p.get_height()\n",
    "    ax.annotate(f'{int(height)}', (p.get_x() + p.get_width() / 2., height),\n",
    "                ha='center', va='bottom', fontsize=10, fontweight='bold')\n",
    "\n",
    "# Titles and labels\n",
    "plt.title(\"Distribution of Assigned Labels (SNR > 7)\", fontsize=14, weight='bold')\n",
    "plt.xlabel(\"Assigned Label\", fontsize=12)\n",
    "plt.ylabel(\"Count\", fontsize=12)\n",
    "plt.xticks(rotation=0)\n",
    "plt.tight_layout()\n",
    "plt.show()\n"
   ]
  },
  {
   "cell_type": "code",
   "execution_count": 23,
   "id": "032650c4",
   "metadata": {},
   "outputs": [],
   "source": [
    "good_df  = labels_df[labels_df['snr_n'] > 7]\n",
    "mean_probs = good_df.groupby('event_id')[['prob_eq', 'prob_px', 'prob_surface']].mean()\n",
    "\n",
    "# Step 2: Identify the label with the highest mean probability (excluding noise)\n",
    "mean_probs['event_label'] = mean_probs.idxmax(axis=1).str.replace('prob_', '')\n",
    "\n",
    "# Optional: merge back into original DataFrame if needed\n",
    "good_df = good_df.merge(mean_probs['event_label'], on='event_id', how='left')"
   ]
  },
  {
   "cell_type": "code",
   "execution_count": 24,
   "id": "de328e5e",
   "metadata": {},
   "outputs": [
    {
     "name": "stderr",
     "output_type": "stream",
     "text": [
      "/tmp/ipykernel_2875840/1556354953.py:2: FutureWarning: \n",
      "\n",
      "Passing `palette` without assigning `hue` is deprecated and will be removed in v0.14.0. Assign the `x` variable to `hue` and set `legend=False` for the same effect.\n",
      "\n",
      "  sns.countplot(data=mean_probs, x='event_label', palette='Set2')\n"
     ]
    },
    {
     "data": {
      "image/png": "[encoded data removed]",
      "text/plain": [
       "<Figure size 800x500 with 1 Axes>"
      ]
     },
     "metadata": {},
     "output_type": "display_data"
    }
   ],
   "source": [
    "plt.figure(figsize=(8, 5))\n",
    "sns.countplot(data=mean_probs, x='event_label', palette='Set2')\n",
    "\n",
    "plt.title('Distribution of Event Labels (Based on Mean Probabilities)', fontsize=14)\n",
    "plt.xlabel('Event Label', fontsize=12)\n",
    "plt.ylabel('Count', fontsize=12)\n",
    "plt.xticks(rotation=45)\n",
    "plt.tight_layout()\n",
    "plt.grid(axis='y', linestyle='--', alpha=0.7)\n",
    "plt.show()\n"
   ]
  },
  {
   "cell_type": "code",
   "execution_count": 49,
   "id": "60b5729c",
   "metadata": {},
   "outputs": [],
   "source": [
    "def plot_event_waveforms(event_id, labels_df, savepath = '../seisbench_output/pnw_new_classification_figures/earthquake/'):\n",
    "    # Filter rows for this event\n",
    "    subset = labels_df[labels_df['event_id'] == event_id]\n",
    "\n",
    "    if subset.empty:\n",
    "        print(f\"No data found for event {event_id}\")\n",
    "        return\n",
    "    \n",
    "    # Get event-level label from the first row\n",
    "    event_label = subset['event_label'].iloc[0]\n",
    "    \n",
    "    fig, ax = plt.subplots(figsize=(12, 1.8 * len(subset)))\n",
    "    \n",
    "    for idx, row in subset.iterrows():\n",
    "        station = row['station']\n",
    "        \n",
    "        # Find the vertical-component HZ file\n",
    "        files = glob(f'../../data/pnw_new_explosion_2023_2025/waveforms/{event_id}/*{station}*HZ*')\n",
    "        if not files:\n",
    "            print(f\"No HZ component found for {station} in event {event_id}\")\n",
    "            continue\n",
    "        \n",
    "        try:\n",
    "            tr = obspy.read(files[0])[0]\n",
    "            tr.resample(50)\n",
    "            tr.detrend('linear')\n",
    "            tr.taper(0.05)\n",
    "            tr.filter('bandpass', freqmin=1, freqmax=20)\n",
    "            data = tr.data\n",
    "            times = np.arange(len(data)) / tr.stats.sampling_rate\n",
    "\n",
    "            # Offset the waveform vertically\n",
    "            offset = idx\n",
    "            ax.plot(times, data / np.max(np.abs(data)) + offset, lw=0.8, color='steelblue')\n",
    "\n",
    "            # Format the label with probabilities\n",
    "            prob_text = f\"{station} | eq:{row['prob_eq']:.2f} px:{row['prob_px']:.2f} su:{row['prob_surface']:.2f}\"\n",
    "            ax.text(times[-1] + 2, offset, prob_text, va='center', fontsize=8)\n",
    "\n",
    "        except Exception as e:\n",
    "            print(f\"Error loading {station} for event {event_id}: {e}\")\n",
    "            continue\n",
    "    \n",
    "    ax.set_title(f\"Event {event_id} | Label: {event_label.upper()}\", fontsize=14, weight='bold')\n",
    "    ax.set_xlabel(\"Time (s)\")\n",
    "    ax.set_yticks([])  # Remove numerical ticks; we use text annotations\n",
    "    ax.set_ylabel(\"Stations (vertical offset)\")\n",
    "    ax.grid(True, linestyle='--', alpha=0.3)\n",
    "    plt.tight_layout()\n",
    "    \n",
    "    # Ensure save directory exists\n",
    "    os.makedirs(savepath, exist_ok=True)\n",
    "    # Now save\n",
    "    plt.savefig(os.path.join(savepath, f'{event_id}_from_retrained.png'))\n",
    "    \n",
    "    plt.close()"
   ]
  },
  {
   "cell_type": "code",
   "execution_count": 50,
   "id": "7a79716f",
   "metadata": {},
   "outputs": [],
   "source": [
    "eq_df = mean_probs[mean_probs['event_label'] == 'eq']\n",
    "px_df = mean_probs[mean_probs['event_label'] == 'px']\n",
    "su_df = mean_probs[mean_probs['event_label'] == 'surface']"
   ]
  },
  {
   "cell_type": "code",
   "execution_count": 51,
   "id": "a96dcf43",
   "metadata": {},
   "outputs": [],
   "source": [
    "event_ids = eq_df.index.values\n",
    "for evid in event_ids:\n",
    "    plot_event_waveforms(event_id= evid, labels_df= good_df, savepath = '../seisbench_output/pnw_new_classification_figures/earthquake/')\n",
    "\n",
    "    \n",
    "event_ids = px_df.index.values\n",
    "for evid in event_ids:\n",
    "    plot_event_waveforms(event_id= evid, labels_df= good_df, savepath = '../seisbench_output/pnw_new_classification_figures/explosion/')\n",
    "\n",
    "    \n",
    "event_ids = su_df.index.values\n",
    "for evid in event_ids:\n",
    "    plot_event_waveforms(event_id= evid, labels_df= good_df, savepath = '../seisbench_output/pnw_new_classification_figures/surface/')"
   ]
  },
  {
   "cell_type": "code",
   "execution_count": null,
   "id": "4715da80",
   "metadata": {},
   "outputs": [],
   "source": []
  },
  {
   "cell_type": "code",
   "execution_count": null,
   "id": "a2f8cec2",
   "metadata": {},
   "outputs": [],
   "source": []
  },
  {
   "cell_type": "code",
   "execution_count": null,
   "id": "67337010",
   "metadata": {},
   "outputs": [],
   "source": []
  },
  {
   "cell_type": "code",
   "execution_count": null,
   "id": "2227f4f2",
   "metadata": {},
   "outputs": [],
   "source": []
  },
  {
   "cell_type": "code",
   "execution_count": null,
   "id": "ba110a7f",
   "metadata": {},
   "outputs": [],
   "source": []
  },
  {
   "cell_type": "markdown",
   "id": "72b59401",
   "metadata": {},
   "source": [
    "## Selecting near field explosions for retraining"
   ]
  },
  {
   "cell_type": "markdown",
   "id": "91afc83a",
   "metadata": {},
   "source": [
    "### Ok it seems like near field explosion events are getting confused with surface events. We are going to select all the explosions that were labelled as surface events or earthquakes and retrain the model by including these additional explosion events, we will held out a test dataset for the purpose of further testing. "
   ]
  },
  {
   "cell_type": "code",
   "execution_count": 55,
   "id": "5f5891af",
   "metadata": {},
   "outputs": [],
   "source": [
    "retrain_df = good_df[good_df['assigned_label'] != 'px']"
   ]
  },
  {
   "cell_type": "code",
   "execution_count": 69,
   "id": "4b1fcfcc",
   "metadata": {},
   "outputs": [],
   "source": [
    "retrain_ids = np.unique(retrain_df['event_id'])[0:500]\n",
    "final_retrain_df = retrain_df[retrain_df['event_id'].isin(retrain_ids)]\n",
    "final_retest_df = retrain_df[~retrain_df['event_id'].isin(retrain_ids)]"
   ]
  },
  {
   "cell_type": "code",
   "execution_count": 70,
   "id": "d8833a7b",
   "metadata": {},
   "outputs": [
    {
     "data": {
      "text/html": [
       "<div>\n",
       "<style scoped>\n",
       "    .dataframe tbody tr th:only-of-type {\n",
       "        vertical-align: middle;\n",
       "    }\n",
       "\n",
       "    .dataframe tbody tr th {\n",
       "        vertical-align: top;\n",
       "    }\n",
       "\n",
       "    .dataframe thead th {\n",
       "        text-align: right;\n",
       "    }\n",
       "</style>\n",
       "<table border=\"1\" class=\"dataframe\">\n",
       "  <thead>\n",
       "    <tr style=\"text-align: right;\">\n",
       "      <th></th>\n",
       "      <th>event_id</th>\n",
       "      <th>station</th>\n",
       "      <th>prob_eq</th>\n",
       "      <th>prob_px</th>\n",
       "      <th>prob_noise</th>\n",
       "      <th>prob_surface</th>\n",
       "      <th>max_prob</th>\n",
       "      <th>assigned_label</th>\n",
       "      <th>snr_n</th>\n",
       "      <th>event_label</th>\n",
       "    </tr>\n",
       "  </thead>\n",
       "  <tbody>\n",
       "    <tr>\n",
       "      <th>3634</th>\n",
       "      <td>613</td>\n",
       "      <td>AGNW</td>\n",
       "      <td>0.007429</td>\n",
       "      <td>0.145115</td>\n",
       "      <td>0.625048</td>\n",
       "      <td>0.999631</td>\n",
       "      <td>0.999631</td>\n",
       "      <td>surface</td>\n",
       "      <td>65.960369</td>\n",
       "      <td>surface</td>\n",
       "    </tr>\n",
       "    <tr>\n",
       "      <th>3636</th>\n",
       "      <td>613</td>\n",
       "      <td>H2O</td>\n",
       "      <td>0.025686</td>\n",
       "      <td>0.707756</td>\n",
       "      <td>0.825063</td>\n",
       "      <td>0.999868</td>\n",
       "      <td>0.999868</td>\n",
       "      <td>surface</td>\n",
       "      <td>60.741691</td>\n",
       "      <td>surface</td>\n",
       "    </tr>\n",
       "    <tr>\n",
       "      <th>3637</th>\n",
       "      <td>613</td>\n",
       "      <td>PRO</td>\n",
       "      <td>0.029811</td>\n",
       "      <td>0.374436</td>\n",
       "      <td>0.992602</td>\n",
       "      <td>0.999868</td>\n",
       "      <td>0.999868</td>\n",
       "      <td>surface</td>\n",
       "      <td>52.151577</td>\n",
       "      <td>surface</td>\n",
       "    </tr>\n",
       "    <tr>\n",
       "      <th>3638</th>\n",
       "      <td>613</td>\n",
       "      <td>SNI2</td>\n",
       "      <td>0.042300</td>\n",
       "      <td>0.956482</td>\n",
       "      <td>0.611664</td>\n",
       "      <td>0.999122</td>\n",
       "      <td>0.999122</td>\n",
       "      <td>surface</td>\n",
       "      <td>51.560611</td>\n",
       "      <td>surface</td>\n",
       "    </tr>\n",
       "    <tr>\n",
       "      <th>3639</th>\n",
       "      <td>613</td>\n",
       "      <td>YPT</td>\n",
       "      <td>0.005421</td>\n",
       "      <td>0.855344</td>\n",
       "      <td>0.999999</td>\n",
       "      <td>0.998845</td>\n",
       "      <td>0.998845</td>\n",
       "      <td>surface</td>\n",
       "      <td>76.740406</td>\n",
       "      <td>surface</td>\n",
       "    </tr>\n",
       "    <tr>\n",
       "      <th>...</th>\n",
       "      <td>...</td>\n",
       "      <td>...</td>\n",
       "      <td>...</td>\n",
       "      <td>...</td>\n",
       "      <td>...</td>\n",
       "      <td>...</td>\n",
       "      <td>...</td>\n",
       "      <td>...</td>\n",
       "      <td>...</td>\n",
       "      <td>...</td>\n",
       "    </tr>\n",
       "    <tr>\n",
       "      <th>8382</th>\n",
       "      <td>1442</td>\n",
       "      <td>VDEB</td>\n",
       "      <td>0.029686</td>\n",
       "      <td>0.929208</td>\n",
       "      <td>0.995216</td>\n",
       "      <td>0.999971</td>\n",
       "      <td>0.999971</td>\n",
       "      <td>surface</td>\n",
       "      <td>56.570425</td>\n",
       "      <td>surface</td>\n",
       "    </tr>\n",
       "    <tr>\n",
       "      <th>8383</th>\n",
       "      <td>1444</td>\n",
       "      <td>COWS</td>\n",
       "      <td>0.554897</td>\n",
       "      <td>0.483584</td>\n",
       "      <td>0.997621</td>\n",
       "      <td>0.238631</td>\n",
       "      <td>0.554897</td>\n",
       "      <td>eq</td>\n",
       "      <td>7.470058</td>\n",
       "      <td>surface</td>\n",
       "    </tr>\n",
       "    <tr>\n",
       "      <th>8384</th>\n",
       "      <td>1444</td>\n",
       "      <td>FMW</td>\n",
       "      <td>0.247488</td>\n",
       "      <td>0.779325</td>\n",
       "      <td>0.774267</td>\n",
       "      <td>0.999721</td>\n",
       "      <td>0.999721</td>\n",
       "      <td>surface</td>\n",
       "      <td>48.308821</td>\n",
       "      <td>surface</td>\n",
       "    </tr>\n",
       "    <tr>\n",
       "      <th>8385</th>\n",
       "      <td>1444</td>\n",
       "      <td>RER</td>\n",
       "      <td>0.132664</td>\n",
       "      <td>0.845789</td>\n",
       "      <td>0.999380</td>\n",
       "      <td>0.946960</td>\n",
       "      <td>0.946960</td>\n",
       "      <td>surface</td>\n",
       "      <td>24.590500</td>\n",
       "      <td>surface</td>\n",
       "    </tr>\n",
       "    <tr>\n",
       "      <th>8386</th>\n",
       "      <td>1445</td>\n",
       "      <td>SKAMO</td>\n",
       "      <td>0.019410</td>\n",
       "      <td>0.978197</td>\n",
       "      <td>0.999490</td>\n",
       "      <td>0.999966</td>\n",
       "      <td>0.999966</td>\n",
       "      <td>surface</td>\n",
       "      <td>32.918085</td>\n",
       "      <td>surface</td>\n",
       "    </tr>\n",
       "  </tbody>\n",
       "</table>\n",
       "<p>3415 rows × 10 columns</p>\n",
       "</div>"
      ],
      "text/plain": [
       "      event_id station   prob_eq   prob_px  prob_noise  prob_surface  \\\n",
       "3634       613    AGNW  0.007429  0.145115    0.625048      0.999631   \n",
       "3636       613     H2O  0.025686  0.707756    0.825063      0.999868   \n",
       "3637       613     PRO  0.029811  0.374436    0.992602      0.999868   \n",
       "3638       613    SNI2  0.042300  0.956482    0.611664      0.999122   \n",
       "3639       613     YPT  0.005421  0.855344    0.999999      0.998845   \n",
       "...        ...     ...       ...       ...         ...           ...   \n",
       "8382      1442    VDEB  0.029686  0.929208    0.995216      0.999971   \n",
       "8383      1444    COWS  0.554897  0.483584    0.997621      0.238631   \n",
       "8384      1444     FMW  0.247488  0.779325    0.774267      0.999721   \n",
       "8385      1444     RER  0.132664  0.845789    0.999380      0.946960   \n",
       "8386      1445   SKAMO  0.019410  0.978197    0.999490      0.999966   \n",
       "\n",
       "      max_prob assigned_label      snr_n event_label  \n",
       "3634  0.999631        surface  65.960369     surface  \n",
       "3636  0.999868        surface  60.741691     surface  \n",
       "3637  0.999868        surface  52.151577     surface  \n",
       "3638  0.999122        surface  51.560611     surface  \n",
       "3639  0.998845        surface  76.740406     surface  \n",
       "...        ...            ...        ...         ...  \n",
       "8382  0.999971        surface  56.570425     surface  \n",
       "8383  0.554897             eq   7.470058     surface  \n",
       "8384  0.999721        surface  48.308821     surface  \n",
       "8385  0.946960        surface  24.590500     surface  \n",
       "8386  0.999966        surface  32.918085     surface  \n",
       "\n",
       "[3415 rows x 10 columns]"
      ]
     },
     "execution_count": 70,
     "metadata": {},
     "output_type": "execute_result"
    }
   ],
   "source": [
    "final_retest_df"
   ]
  },
  {
   "cell_type": "code",
   "execution_count": 73,
   "id": "a6509b2e",
   "metadata": {},
   "outputs": [],
   "source": [
    "final_retrain_df.to_csv('../../data/curated_new_explosions_data_for_retraining.csv')\n",
    "final_retest_df.to_csv('../../data/curated_new_explosions_data_for_retesting.csv')"
   ]
  },
  {
   "cell_type": "code",
   "execution_count": null,
   "id": "78fa1682",
   "metadata": {},
   "outputs": [],
   "source": []
  },
  {
   "cell_type": "code",
   "execution_count": null,
   "id": "39ebabe3",
   "metadata": {},
   "outputs": [],
   "source": []
  }
 ],
 "metadata": {
  "kernelspec": {
   "display_name": "surface",
   "language": "python",
   "name": "surface"
  },
  "language_info": {
   "codemirror_mode": {
    "name": "ipython",
    "version": 3
   },
   "file_extension": ".py",
   "mimetype": "text/x-python",
   "name": "python",
   "nbconvert_exporter": "python",
   "pygments_lexer": "ipython3",
   "version": "3.9.5"
  }
 },
 "nbformat": 4,
 "nbformat_minor": 5
}
