{
 "cells": [
  {
   "cell_type": "code",
   "execution_count": 13,
   "id": "a51d32b2",
   "metadata": {},
   "outputs": [
    {
     "name": "stdout",
     "output_type": "stream",
     "text": [
      "The autoreload extension is already loaded. To reload it, use:\n",
      "  %reload_ext autoreload\n"
     ]
    }
   ],
   "source": [
    "%load_ext autoreload\n",
    "%autoreload 2\n",
    "\n",
    "# === Standard Libraries ===\n",
    "import os\n",
    "import sys\n",
    "import random\n",
    "import json\n",
    "from typing import Any\n",
    "\n",
    "# === Scientific Libraries ===\n",
    "import numpy as np\n",
    "import pandas as pd\n",
    "import matplotlib.pyplot as plt\n",
    "from tqdm import tqdm\n",
    "from glob import glob\n",
    "\n",
    "# === Signal Processing ===\n",
    "import scipy\n",
    "from scipy import signal\n",
    "from scipy.signal import butter, filtfilt, correlate\n",
    "\n",
    "# === Seismology Libraries ===\n",
    "import obspy\n",
    "from obspy import UTCDateTime\n",
    "from obspy.clients.fdsn import Client\n",
    "\n",
    "# === Machine Learning Libraries ===\n",
    "from sklearn.preprocessing import LabelEncoder\n",
    "from sklearn.metrics import confusion_matrix, classification_report\n",
    "\n",
    "# === PyTorch ===\n",
    "import torch\n",
    "import torch.nn as nn\n",
    "import torch.nn.functional as F\n",
    "from torch.utils.data import Dataset, DataLoader\n",
    "\n",
    "# === File Handling ===\n",
    "import h5py\n",
    "\n",
    "# === Custom Modules ===\n",
    "module_path = os.path.abspath(os.path.join('../scripts'))\n",
    "if module_path not in sys.path:\n",
    "    sys.path.append(module_path)\n",
    "\n",
    "from sklearn.model_selection import train_test_split\n",
    "from neural_network_architectures import (\n",
    "     QuakeXNet_1d, QuakeXNet_2d, SeismicCNN_1d, SeismicCNN_2d )\n",
    "\n",
    "\n",
    "# === Seismology Client ===\n",
    "client = Client('IRIS')\n",
    "\n",
    "from utils import extract_waveforms\n",
    "from utils import compute_spectrogram\n",
    "from utils import normalize_spectrogram_minmax\n",
    "from utils import return_train_val_loaders\n",
    "from utils import plot_confusion_matrix_and_cr\n",
    "from utils import train_model\n",
    "from utils import WaveformPreprocessor\n",
    "\n",
    "\n",
    "import json"
   ]
  },
  {
   "cell_type": "markdown",
   "id": "8e6a4369",
   "metadata": {},
   "source": [
    "## I downloaded additional surface event data, the step below is just processing those additionally downloaded waveforms and these will be added later to the the total dataset. "
   ]
  },
  {
   "cell_type": "code",
   "execution_count": 2,
   "id": "affad0da",
   "metadata": {},
   "outputs": [],
   "source": [
    "nos = 2000\n",
    "\n",
    "# if we are taking all data or not. \n",
    "all_data = False\n",
    "\n",
    "# the start point will be selected randomly from (start, -4)\n",
    "start = - 40\n",
    "shifting = True\n",
    "\n",
    "# training parameters\n",
    "train_split = 70                                      \n",
    "val_split=20\n",
    "test_split = 10\n",
    "learning_rate=0.001\n",
    "batch_size=128\n",
    "n_epochs=60\n",
    "dropout=0.4\n",
    "criterion=nn.CrossEntropyLoss()\n",
    "\n",
    "\n",
    "num_channels = 3\n",
    "# new sampling rate\n",
    "fs = 50\n",
    "\n",
    "## filtering parameters\n",
    "highcut = 20\n",
    "lowcut = 1\n",
    "input_window_length = 100\n",
    "\n",
    "# randomly starting between -40 to -5s\n",
    "start = -40"
   ]
  },
  {
   "cell_type": "code",
   "execution_count": 130,
   "id": "51492d3e",
   "metadata": {},
   "outputs": [
    {
     "name": "stderr",
     "output_type": "stream",
     "text": [
      "Processing events: 100%|██████████| 6495/6495 [00:13<00:00, 480.40it/s]\n"
     ]
    }
   ],
   "source": [
    "def process_surface_events(data_path, ids_path, fs=50, original_fs = 100, lowcut=1, highcut=20, window_length=100, taper_alpha=0.1, random_offset=(-40, -5)):\n",
    "    \"\"\"\n",
    "    Processes surface event data by applying tapering, bandpass filtering, resampling, and normalization.\n",
    "    \n",
    "    Args:\n",
    "        data_path (str): Path to the surface event data (.npy file).\n",
    "        ids_path (str): Path to the surface event IDs (JSON file).\n",
    "        fs (int): Sampling rate for resampling.\n",
    "        lowcut (float): Low cutoff frequency for bandpass filter.\n",
    "        highcut (float): High cutoff frequency for bandpass filter.\n",
    "        window_length (int): Length of the waveform window (in seconds).\n",
    "        taper_alpha (float): Alpha value for the Tukey window.\n",
    "        random_offset (tuple): Range of random offsets for slicing data.\n",
    "        \n",
    "    Returns:\n",
    "        list: Processed waveform data.\n",
    "        list: Corresponding event IDs.\n",
    "    \"\"\"\n",
    "    # Load data and IDs\n",
    "    surface_data = np.load(data_path, allow_pickle=True)\n",
    "    with open(ids_path, \"r\") as file:\n",
    "        surface_ids = json.load(file)\n",
    "\n",
    "\n",
    "    processed_data = []\n",
    "    processed_ids = []\n",
    "\n",
    "    # Process each event\n",
    "    for i in tqdm(range(len(surface_data)), desc=\"Processing events\"):\n",
    "        try:\n",
    "            event_data = surface_data[i]\n",
    "            \n",
    "            orig_fs = 100\n",
    "            \n",
    "            # Randomly select a window of the specified length\n",
    "            random_shift = np.random.randint(random_offset[0], random_offset[1]) * orig_fs\n",
    "            \n",
    "            # assuming the onset at 90s\n",
    "            start_idx = int(90 * orig_fs) + random_shift\n",
    "            end_idx = start_idx + int(window_length * orig_fs)\n",
    "            \n",
    "    \n",
    "            # Handle boundary conditions\n",
    "            max_idx = event_data.shape[-1]\n",
    "            if end_idx > max_idx:\n",
    "                end_idx = max_idx\n",
    "                start_idx = end_idx - int(window_length * orig_fs)\n",
    "            if start_idx < 0:\n",
    "                start_idx = 0\n",
    "                end_idx = int(window_length * orig_fs)\n",
    "                \n",
    "                \n",
    "            sliced = event_data[:, start_idx:end_idx]\n",
    "            sliced_tensor = torch.tensor(sliced, dtype=torch.float32)\n",
    "\n",
    "            \n",
    "            processor = WaveformPreprocessor(\n",
    "            input_fs=original_fs,\n",
    "            target_fs=fs,\n",
    "            lowcut=lowcut,\n",
    "            highcut=highcut)\n",
    "            \n",
    "            processed = processor(sliced_tensor)  # (C, T)\n",
    "          \n",
    "        \n",
    "            if processed.shape[-1] != int(window_length*fs):\n",
    "                print('error')\n",
    "                continue\n",
    "\n",
    "            x = processed.numpy()\n",
    "            \n",
    "            if len(x) == 3:  # Ensure the event has three components\n",
    "                processed_data.append(x)\n",
    "                processed_ids.append(surface_ids[i])\n",
    "\n",
    "        except Exception as e:\n",
    "            # Log or print the exception if needed\n",
    "            print(f\"Error processing event {i}: {e}\")\n",
    "            continue\n",
    "\n",
    "    return processed_data, processed_ids\n",
    "\n",
    "\n",
    "# Example usage\n",
    "data_path = '../../data/new_curated_surface_event_data.npy'\n",
    "ids_path = '../../data/new_curated_surface_event_ids.json'\n",
    "\n",
    "processed_additional_su, processed_id = process_surface_events(data_path, ids_path)"
   ]
  },
  {
   "cell_type": "code",
   "execution_count": 4,
   "id": "75de5ea6",
   "metadata": {},
   "outputs": [],
   "source": [
    "#data files\n",
    "file_noise=\"/data/whd01/yiyu_data/PNWML/noise_waveforms.hdf5\";\n",
    "file_comcat=  \"/data/whd01/yiyu_data/PNWML/comcat_waveforms.hdf5\";\n",
    "file_exotic=\"/data/whd01/yiyu_data/PNWML/exotic_waveforms.hdf5\";\n",
    "\n",
    "# metadata\n",
    "# accessing the comcat metadata\n",
    "comcat_metadata = pd.read_csv(\"/data/whd01/yiyu_data/PNWML/comcat_metadata.csv\")\n",
    "# comcat_metadata = pd.read_csv(\"/data/whd01/yiyu_data/PNWML/comcat_metadata.csv\")\n",
    "\n",
    "# accessing the exotic metadata\n",
    "exotic_metadata = pd.read_csv(\"/data/whd01/yiyu_data/PNWML/exotic_metadata.csv\")\n",
    "# exotic_metadata = pd.read_csv(\"/data/whd01/yiyu_data/PNWML/exotic_metadata.csv\")\n",
    "\n",
    "# accessing the data files\n",
    "metadata_noise = pd.read_csv(\"/data/whd01/yiyu_data/PNWML/noise_metadata.csv\")\n",
    "# metadata_noise = pd.read_csv(\"/data/whd01/yiyu_data/PNWML/noise_metadata.csv\")\n",
    "\n",
    "# creating individual data frames for each class\n",
    "cat_exp = comcat_metadata[comcat_metadata['source_type'] == 'explosion']\n",
    "cat_eq = comcat_metadata[comcat_metadata['source_type'] == 'earthquake']\n",
    "cat_su = exotic_metadata[exotic_metadata['source_type'] == 'surface event']\n",
    "cat_noise = metadata_noise\n",
    "cat_noise['event_id'] = [cat_noise['trace_start_time'][i]+'_noise' for i in range(len(cat_noise))]"
   ]
  },
  {
   "cell_type": "code",
   "execution_count": 5,
   "id": "4e0f31a6",
   "metadata": {},
   "outputs": [],
   "source": [
    "## defining the threshold\n",
    "SNR_THR = 1\n",
    "\n",
    "# explosions\n",
    "trace_snr_db_values = np.array([float(cat_exp.loc[idx, 'trace_snr_db'].split(\"|\")[-1]) for idx in cat_exp.index.values.tolist()])\n",
    "ii2= np.where(trace_snr_db_values>SNR_THR)[0].astype(int) \n",
    "df_exp = cat_exp.iloc[ii2]\n",
    "\n",
    "# earthquake\n",
    "trace_snr_db_values = np.array([float(cat_eq.loc[idx, 'trace_snr_db'].split(\"|\")[-1]) for idx in cat_eq.index.values.tolist()])\n",
    "ii2= np.where(trace_snr_db_values>SNR_THR)[0].astype(int) \n",
    "df_eq = cat_eq.iloc[ii2]\n",
    "\n",
    "# surface events\n",
    "trace_snr_db_values = np.array([float(cat_su.loc[idx, 'trace_snr_db'].split(\"|\")[-1]) for idx in cat_su.index.values.tolist()])\n",
    "ii2= np.where(trace_snr_db_values>SNR_THR-2)[0].astype(int) \n",
    "df_su = cat_su.iloc[ii2]\n",
    "\n",
    "# noise\n",
    "# does not change\n",
    "df_noise = cat_noise"
   ]
  },
  {
   "cell_type": "code",
   "execution_count": 6,
   "id": "1759a0a5",
   "metadata": {},
   "outputs": [
    {
     "name": "stderr",
     "output_type": "stream",
     "text": [
      "100%|██████████| 8434/8434 [01:28<00:00, 95.41it/s] \n",
      "  0%|          | 9/15000 [00:00<02:57, 84.31it/s]"
     ]
    },
    {
     "name": "stdout",
     "output_type": "stream",
     "text": [
      "(3778, 3, 5000)\n"
     ]
    },
    {
     "name": "stderr",
     "output_type": "stream",
     "text": [
      "100%|██████████| 15000/15000 [02:59<00:00, 83.39it/s]\n",
      "  0%|          | 4/13638 [00:00<05:55, 38.30it/s]"
     ]
    },
    {
     "name": "stdout",
     "output_type": "stream",
     "text": [
      "(10529, 3, 5000)\n"
     ]
    },
    {
     "name": "stderr",
     "output_type": "stream",
     "text": [
      "100%|██████████| 13638/13638 [03:35<00:00, 63.29it/s]\n"
     ]
    },
    {
     "name": "stdout",
     "output_type": "stream",
     "text": [
      "(8779, 3, 5000)\n"
     ]
    },
    {
     "name": "stderr",
     "output_type": "stream",
     "text": [
      "100%|██████████| 17000/17000 [04:30<00:00, 62.85it/s]\n"
     ]
    },
    {
     "name": "stdout",
     "output_type": "stream",
     "text": [
      "(10477, 3, 5000)\n"
     ]
    }
   ],
   "source": [
    "number_data_per_class = len(df_su)\n",
    "# surface events\n",
    "d_su, id_su = extract_waveforms(df_su, file_exotic, input_window_length = input_window_length, fs=fs,\n",
    "                                start =start, number_data = number_data_per_class, num_channels = num_channels,\n",
    "                                shifting = shifting, all_data = all_data, lowcut = lowcut , highcut =highcut)\n",
    "print(d_su.shape)\n",
    "\n",
    "\n",
    "\n",
    "number_data_per_class = 15000\n",
    "# noise\n",
    "d_noise, id_noise = extract_waveforms(df_noise, file_noise, input_window_length = input_window_length, fs=fs,\n",
    "                                      start = start, number_data = number_data_per_class,\n",
    "                                      num_channels = num_channels, shifting = shifting, all_data = all_data, lowcut = lowcut , highcut =highcut)\n",
    "print(d_noise.shape)\n",
    "\n",
    "\n",
    "\n",
    "number_data_per_class = len(df_exp)\n",
    "# explosions\n",
    "d_exp, id_exp = extract_waveforms(df_exp, file_comcat, input_window_length = input_window_length, fs=fs,\n",
    "                                  start = start,  number_data = number_data_per_class, num_channels = num_channels,\n",
    "                                  shifting = shifting, all_data = all_data, lowcut = lowcut , highcut =highcut)\n",
    "\n",
    "print(d_exp.shape)\n",
    "\n",
    "\n",
    "number_data_per_class = 17000\n",
    "# earthquakes\n",
    "d_eq, id_eq = extract_waveforms(df_eq, file_comcat, input_window_length = input_window_length,  fs=fs,\n",
    "                                start =start,  number_data = number_data_per_class, num_channels = num_channels,\n",
    "                                shifting = shifting, all_data = all_data, lowcut = lowcut , highcut =highcut)\n",
    "print(d_eq.shape)"
   ]
  },
  {
   "cell_type": "code",
   "execution_count": null,
   "id": "c8f14b12",
   "metadata": {},
   "outputs": [],
   "source": []
  },
  {
   "cell_type": "markdown",
   "id": "4deb748b",
   "metadata": {},
   "source": [
    "## Preparing the esec waveforms in standard format"
   ]
  },
  {
   "cell_type": "code",
   "execution_count": 9,
   "id": "ac9c9e00",
   "metadata": {},
   "outputs": [],
   "source": [
    "df = pd.read_csv('../../data/curated_esec_catalog_for_retraining.csv',index_col = 0)"
   ]
  },
  {
   "cell_type": "code",
   "execution_count": 11,
   "id": "32a6a674",
   "metadata": {},
   "outputs": [
    {
     "data": {
      "text/html": [
       "<div>\n",
       "<style scoped>\n",
       "    .dataframe tbody tr th:only-of-type {\n",
       "        vertical-align: middle;\n",
       "    }\n",
       "\n",
       "    .dataframe tbody tr th {\n",
       "        vertical-align: top;\n",
       "    }\n",
       "\n",
       "    .dataframe thead th {\n",
       "        text-align: right;\n",
       "    }\n",
       "</style>\n",
       "<table border=\"1\" class=\"dataframe\">\n",
       "  <thead>\n",
       "    <tr style=\"text-align: right;\">\n",
       "      <th></th>\n",
       "      <th>event_id</th>\n",
       "      <th>station</th>\n",
       "      <th>prob_eq</th>\n",
       "      <th>prob_px</th>\n",
       "      <th>prob_noise</th>\n",
       "      <th>prob_surface</th>\n",
       "      <th>max_prob</th>\n",
       "      <th>assigned_label</th>\n",
       "      <th>snr_n</th>\n",
       "      <th>event_label_x</th>\n",
       "      <th>event_label_y</th>\n",
       "      <th>type</th>\n",
       "    </tr>\n",
       "  </thead>\n",
       "  <tbody>\n",
       "    <tr>\n",
       "      <th>0</th>\n",
       "      <td>74</td>\n",
       "      <td>SLD</td>\n",
       "      <td>0.009431</td>\n",
       "      <td>0.606736</td>\n",
       "      <td>0.999952</td>\n",
       "      <td>0.979550</td>\n",
       "      <td>0.979550</td>\n",
       "      <td>surface</td>\n",
       "      <td>10.354430</td>\n",
       "      <td>surface</td>\n",
       "      <td>surface</td>\n",
       "      <td>rock avalanche</td>\n",
       "    </tr>\n",
       "    <tr>\n",
       "      <th>1</th>\n",
       "      <td>130</td>\n",
       "      <td>PLBC</td>\n",
       "      <td>0.002547</td>\n",
       "      <td>0.965852</td>\n",
       "      <td>0.999910</td>\n",
       "      <td>0.022586</td>\n",
       "      <td>0.965852</td>\n",
       "      <td>px</td>\n",
       "      <td>12.442687</td>\n",
       "      <td>px</td>\n",
       "      <td>px</td>\n",
       "      <td>rock avalanche</td>\n",
       "    </tr>\n",
       "    <tr>\n",
       "      <th>2</th>\n",
       "      <td>160</td>\n",
       "      <td>N19K</td>\n",
       "      <td>0.077101</td>\n",
       "      <td>0.220457</td>\n",
       "      <td>0.999976</td>\n",
       "      <td>0.766895</td>\n",
       "      <td>0.766895</td>\n",
       "      <td>surface</td>\n",
       "      <td>12.884728</td>\n",
       "      <td>surface</td>\n",
       "      <td>surface</td>\n",
       "      <td>ice avalanche</td>\n",
       "    </tr>\n",
       "    <tr>\n",
       "      <th>3</th>\n",
       "      <td>160</td>\n",
       "      <td>O18K</td>\n",
       "      <td>0.241163</td>\n",
       "      <td>0.072579</td>\n",
       "      <td>0.998638</td>\n",
       "      <td>0.925733</td>\n",
       "      <td>0.925733</td>\n",
       "      <td>surface</td>\n",
       "      <td>13.624922</td>\n",
       "      <td>surface</td>\n",
       "      <td>surface</td>\n",
       "      <td>ice avalanche</td>\n",
       "    </tr>\n",
       "    <tr>\n",
       "      <th>4</th>\n",
       "      <td>160</td>\n",
       "      <td>O19K</td>\n",
       "      <td>0.036180</td>\n",
       "      <td>0.535932</td>\n",
       "      <td>0.995490</td>\n",
       "      <td>0.585888</td>\n",
       "      <td>0.585888</td>\n",
       "      <td>surface</td>\n",
       "      <td>7.214448</td>\n",
       "      <td>surface</td>\n",
       "      <td>surface</td>\n",
       "      <td>ice avalanche</td>\n",
       "    </tr>\n",
       "    <tr>\n",
       "      <th>...</th>\n",
       "      <td>...</td>\n",
       "      <td>...</td>\n",
       "      <td>...</td>\n",
       "      <td>...</td>\n",
       "      <td>...</td>\n",
       "      <td>...</td>\n",
       "      <td>...</td>\n",
       "      <td>...</td>\n",
       "      <td>...</td>\n",
       "      <td>...</td>\n",
       "      <td>...</td>\n",
       "      <td>...</td>\n",
       "    </tr>\n",
       "    <tr>\n",
       "      <th>2251</th>\n",
       "      <td>227</td>\n",
       "      <td>D156</td>\n",
       "      <td>0.565975</td>\n",
       "      <td>0.729836</td>\n",
       "      <td>0.999775</td>\n",
       "      <td>0.040341</td>\n",
       "      <td>0.729836</td>\n",
       "      <td>px</td>\n",
       "      <td>8.105497</td>\n",
       "      <td>surface</td>\n",
       "      <td>surface</td>\n",
       "      <td>rock fall</td>\n",
       "    </tr>\n",
       "    <tr>\n",
       "      <th>2252</th>\n",
       "      <td>227</td>\n",
       "      <td>D160</td>\n",
       "      <td>0.705087</td>\n",
       "      <td>0.286322</td>\n",
       "      <td>0.999996</td>\n",
       "      <td>0.959258</td>\n",
       "      <td>0.959258</td>\n",
       "      <td>surface</td>\n",
       "      <td>9.703775</td>\n",
       "      <td>surface</td>\n",
       "      <td>surface</td>\n",
       "      <td>rock fall</td>\n",
       "    </tr>\n",
       "    <tr>\n",
       "      <th>2254</th>\n",
       "      <td>227</td>\n",
       "      <td>D163</td>\n",
       "      <td>0.000114</td>\n",
       "      <td>0.028818</td>\n",
       "      <td>0.999224</td>\n",
       "      <td>0.980757</td>\n",
       "      <td>0.980757</td>\n",
       "      <td>surface</td>\n",
       "      <td>22.175401</td>\n",
       "      <td>surface</td>\n",
       "      <td>surface</td>\n",
       "      <td>rock fall</td>\n",
       "    </tr>\n",
       "    <tr>\n",
       "      <th>2255</th>\n",
       "      <td>227</td>\n",
       "      <td>KBA</td>\n",
       "      <td>0.015515</td>\n",
       "      <td>0.234649</td>\n",
       "      <td>0.999980</td>\n",
       "      <td>0.906808</td>\n",
       "      <td>0.906808</td>\n",
       "      <td>surface</td>\n",
       "      <td>74.285297</td>\n",
       "      <td>surface</td>\n",
       "      <td>surface</td>\n",
       "      <td>rock fall</td>\n",
       "    </tr>\n",
       "    <tr>\n",
       "      <th>2256</th>\n",
       "      <td>227</td>\n",
       "      <td>LESA</td>\n",
       "      <td>0.017449</td>\n",
       "      <td>0.991058</td>\n",
       "      <td>0.999997</td>\n",
       "      <td>0.164146</td>\n",
       "      <td>0.991058</td>\n",
       "      <td>px</td>\n",
       "      <td>10.337358</td>\n",
       "      <td>surface</td>\n",
       "      <td>surface</td>\n",
       "      <td>rock fall</td>\n",
       "    </tr>\n",
       "  </tbody>\n",
       "</table>\n",
       "<p>1866 rows × 12 columns</p>\n",
       "</div>"
      ],
      "text/plain": [
       "      event_id station   prob_eq   prob_px  prob_noise  prob_surface  \\\n",
       "0           74     SLD  0.009431  0.606736    0.999952      0.979550   \n",
       "1          130    PLBC  0.002547  0.965852    0.999910      0.022586   \n",
       "2          160    N19K  0.077101  0.220457    0.999976      0.766895   \n",
       "3          160    O18K  0.241163  0.072579    0.998638      0.925733   \n",
       "4          160    O19K  0.036180  0.535932    0.995490      0.585888   \n",
       "...        ...     ...       ...       ...         ...           ...   \n",
       "2251       227    D156  0.565975  0.729836    0.999775      0.040341   \n",
       "2252       227    D160  0.705087  0.286322    0.999996      0.959258   \n",
       "2254       227    D163  0.000114  0.028818    0.999224      0.980757   \n",
       "2255       227     KBA  0.015515  0.234649    0.999980      0.906808   \n",
       "2256       227    LESA  0.017449  0.991058    0.999997      0.164146   \n",
       "\n",
       "      max_prob assigned_label      snr_n event_label_x event_label_y  \\\n",
       "0     0.979550        surface  10.354430       surface       surface   \n",
       "1     0.965852             px  12.442687            px            px   \n",
       "2     0.766895        surface  12.884728       surface       surface   \n",
       "3     0.925733        surface  13.624922       surface       surface   \n",
       "4     0.585888        surface   7.214448       surface       surface   \n",
       "...        ...            ...        ...           ...           ...   \n",
       "2251  0.729836             px   8.105497       surface       surface   \n",
       "2252  0.959258        surface   9.703775       surface       surface   \n",
       "2254  0.980757        surface  22.175401       surface       surface   \n",
       "2255  0.906808        surface  74.285297       surface       surface   \n",
       "2256  0.991058             px  10.337358       surface       surface   \n",
       "\n",
       "                type  \n",
       "0     rock avalanche  \n",
       "1     rock avalanche  \n",
       "2      ice avalanche  \n",
       "3      ice avalanche  \n",
       "4      ice avalanche  \n",
       "...              ...  \n",
       "2251       rock fall  \n",
       "2252       rock fall  \n",
       "2254       rock fall  \n",
       "2255       rock fall  \n",
       "2256       rock fall  \n",
       "\n",
       "[1866 rows x 12 columns]"
      ]
     },
     "execution_count": 11,
     "metadata": {},
     "output_type": "execute_result"
    }
   ],
   "source": [
    "df"
   ]
  },
  {
   "cell_type": "code",
   "execution_count": 55,
   "id": "01d6d0bd",
   "metadata": {},
   "outputs": [
    {
     "name": "stderr",
     "output_type": "stream",
     "text": [
      "100%|██████████| 1866/1866 [00:31<00:00, 58.95it/s]\n"
     ]
    }
   ],
   "source": [
    "esec_data = []\n",
    "esec_ids = []\n",
    "\n",
    "for i in tqdm(range(len(df))):\n",
    "    try:\n",
    "        event_id = df['event_id'].iloc[i]\n",
    "        station = df['station'].iloc[i]\n",
    "\n",
    "        # Find all vertical component files for the event and station\n",
    "        files = glob(f\"../../data/iris_esec_waveforms/waveforms/{event_id}/*{station}*\")\n",
    "\n",
    "        if len(files) == 3:\n",
    "            st = obspy.Stream()\n",
    "            for file in files:\n",
    "                st += obspy.read(file)\n",
    "            \n",
    "            \n",
    "            st.resample(100)\n",
    "\n",
    "            # Convert to NumPy array and clip length to 27000 samples (if possible)\n",
    "            arr = np.stack([tr.data[:27000] for tr in st])\n",
    "            esec_data.append(arr)\n",
    "            esec_ids.append(event_id)\n",
    "\n",
    "    except Exception as e:\n",
    "        print(f\"Error on index {i}, event {df['event_id'].iloc[i]}: {e}\")\n",
    "        continue\n"
   ]
  },
  {
   "cell_type": "code",
   "execution_count": 59,
   "id": "97390364",
   "metadata": {},
   "outputs": [],
   "source": [
    "esec_data = np.array(esec_data)\n",
    "esec_ids = np.array(esec_ids)"
   ]
  },
  {
   "cell_type": "code",
   "execution_count": 120,
   "id": "a9a9e55b",
   "metadata": {},
   "outputs": [
    {
     "name": "stderr",
     "output_type": "stream",
     "text": [
      "100%|██████████| 1866/1866 [00:03<00:00, 489.53it/s]\n"
     ]
    }
   ],
   "source": [
    "processed_data = []\n",
    "processed_ids = []\n",
    "random_offset=(-40, -5)\n",
    "fs=50 \n",
    "original_fs = 100\n",
    "lowcut=1\n",
    "highcut=20\n",
    "window_length=100\n",
    "taper_alpha=0.1\n",
    "event_data = esec_data[i]\n",
    "orig_fs = 100\n",
    "\n",
    "processed_esec_data = []\n",
    "processed_esec_ids = []\n",
    "\n",
    "for i in tqdm(range(len(esec_data))):\n",
    "    event_data = esec_data[i]\n",
    "    random_shift = np.random.randint(random_offset[0], random_offset[1]) * orig_fs\n",
    "\n",
    "\n",
    "    # assuming the onset at 90s\n",
    "    start_idx = int(90 * orig_fs) + random_shift\n",
    "    end_idx = start_idx + int(window_length * orig_fs)\n",
    "\n",
    "    # Handle boundary conditions\n",
    "    max_idx = event_data.shape[-1]\n",
    "    if end_idx > max_idx:\n",
    "        end_idx = max_idx\n",
    "        start_idx = end_idx - int(window_length * orig_fs)\n",
    "    if start_idx < 0:\n",
    "        start_idx = 0\n",
    "        end_idx = int(window_length * orig_fs)\n",
    "\n",
    "\n",
    "\n",
    "    sliced = event_data[:, start_idx:end_idx]\n",
    "    sliced_tensor = torch.tensor(sliced, dtype=torch.float32)\n",
    "\n",
    "\n",
    "    processor = WaveformPreprocessor(\n",
    "    input_fs=original_fs,\n",
    "    target_fs=fs,\n",
    "    lowcut=lowcut,\n",
    "    highcut=highcut)\n",
    "\n",
    "    processed = processor(sliced_tensor)  # (C, T)\n",
    "\n",
    "\n",
    "    if processed.shape[-1] != int(window_length*fs):\n",
    "        print('error')\n",
    "        continue\n",
    "\n",
    "    x = processed.numpy()\n",
    "    \n",
    "    if len(x) == 3:  # Ensure the event has three components\n",
    "        processed_esec_data.append(x)\n",
    "        processed_esec_ids.append(esec_ids[i])\n",
    "        \n",
    "    "
   ]
  },
  {
   "cell_type": "markdown",
   "id": "5718cf17",
   "metadata": {},
   "source": [
    "## Ok so now we have a processed esec data, we will add it to the training data to augment model training"
   ]
  },
  {
   "cell_type": "markdown",
   "id": "08a649d8",
   "metadata": {},
   "source": [
    "## Preparing training and testing data"
   ]
  },
  {
   "cell_type": "code",
   "execution_count": 172,
   "id": "9a4c12ab",
   "metadata": {},
   "outputs": [
    {
     "name": "stdout",
     "output_type": "stream",
     "text": [
      "Shape of test_waveforms: (7756, 3, 5000)\n",
      "Shape of train_waveforms: (31023, 3, 5000)\n"
     ]
    }
   ],
   "source": [
    "def prepare_data(d_eq, d_exp, d_noise, d_su, processed = processed_additional_su, processed_ids = processed_ids, num_samples=10000):\n",
    "    \"\"\"\n",
    "    Prepares and concatenates seismic data for training and testing.\n",
    "    \n",
    "    Args:\n",
    "        d_eq, d_exp, d_noise, d_su (array): Arrays of waveform data for different classes.\n",
    "        processed (array): Processed surface waveforms.\n",
    "        processed_ids (array): Corresponding IDs for processed surface waveforms.\n",
    "        num_samples (int): Number of samples to extract per class.\n",
    "\n",
    "    Returns:\n",
    "        tuple: Combined waveforms (new_X_1d), event IDs (new_X), and labels (new_y).\n",
    "    \"\"\"\n",
    "    # Extract the required number of samples per class\n",
    "    new_d_eq = d_eq[:num_samples]\n",
    "    new_d_exp = d_exp[:num_samples]\n",
    "    new_d_no = d_noise[:num_samples]\n",
    "    new_d_su = np.concatenate([d_su, np.array(processed)])[:num_samples]\n",
    "\n",
    "    # Extract corresponding event IDs\n",
    "    new_id_eq = id_eq[:num_samples]\n",
    "    new_id_exp = id_exp[:num_samples]\n",
    "    new_id_no = id_noise[:num_samples]\n",
    "    new_id_su = np.concatenate([id_su, np.array(processed_ids)])[:num_samples]\n",
    "\n",
    "    # Combine data into single arrays\n",
    "    new_X_1d = np.vstack([new_d_eq, new_d_exp, new_d_no, new_d_su])  # Waveforms\n",
    "    new_X = np.hstack([new_id_eq, new_id_exp, new_id_no, new_id_su])  # Event IDs\n",
    "    new_y = (\n",
    "        [0] * len(new_d_eq) + \n",
    "        [1] * len(new_d_exp) + \n",
    "        [2] * len(new_d_no) + \n",
    "        [3] * len(new_d_su)\n",
    "    )  # Labels\n",
    "    \n",
    "    return new_X_1d, new_X, new_y\n",
    "\n",
    "def split_and_save_data(new_X, new_X_1d, new_y, test_size=0.2, random_state=42, save_path=\"../../data\"):\n",
    "    \"\"\"\n",
    "    Splits data into training and testing, and saves the results to disk.\n",
    "    \n",
    "    Args:\n",
    "        new_X (array): Event IDs.\n",
    "        new_X_1d (array): Waveform data.\n",
    "        new_y (list): Labels for the event IDs.\n",
    "        test_size (float): Proportion of test data.\n",
    "        random_state (int): Random state for reproducibility.\n",
    "        save_path (str): Directory to save the test data IDs.\n",
    "    \"\"\"\n",
    "    # Split into train and test sets\n",
    "    X_train, X_test, y_train, y_test = train_test_split(\n",
    "        new_X, new_y, test_size=test_size, random_state=random_state, stratify=new_y\n",
    "    )\n",
    "    \n",
    "    # Create a mapping of event IDs to indices\n",
    "    event_id_to_index = {event_id: idx for idx, event_id in enumerate(new_X)}\n",
    "    \n",
    "    # Retrieve indices for test and train data\n",
    "    test_indices = [event_id_to_index[event_id] for event_id in X_test]\n",
    "    train_indices = [event_id_to_index[event_id] for event_id in X_train]\n",
    "    \n",
    "    # Extract waveforms for train and test sets\n",
    "    test_waveforms = new_X_1d[test_indices]\n",
    "    train_waveforms = new_X_1d[train_indices]\n",
    "    \n",
    "    # Save test data IDs for future use\n",
    "    np.save(f\"{save_path}/common_test_data_id.npy\", X_test)\n",
    "    np.save(f\"{save_path}/common_test_data_for_deep_learning.npy\", test_waveforms)\n",
    "    np.save(f\"{save_path}/common_test_data_labels_for_deep_learning.npy\", y_test)\n",
    "    \n",
    "    print(\"Shape of test_waveforms:\", test_waveforms.shape)\n",
    "    print(\"Shape of train_waveforms:\", train_waveforms.shape)\n",
    "\n",
    "    return train_waveforms, test_waveforms, y_train, y_test\n",
    "\n",
    "\n",
    "# Example usage:\n",
    "new_X_1d, new_X, new_y = prepare_data(d_eq, d_exp, d_noise, d_su, processed_additional_su, processed_id, num_samples=10000)\n",
    "train_waveforms, test_waveforms, y_train, y_test = split_and_save_data(new_X, new_X_1d, new_y)"
   ]
  },
  {
   "cell_type": "code",
   "execution_count": null,
   "id": "b0a6b60b",
   "metadata": {},
   "outputs": [],
   "source": []
  },
  {
   "cell_type": "markdown",
   "id": "e7745555",
   "metadata": {},
   "source": [
    "## Data Augmentation Strategy\n",
    "\n",
    "So we will first add the esec surface event waveforms to surface events. \n",
    "\n",
    "Then we will augment each class so that each class have equal number of waveforms. "
   ]
  },
  {
   "cell_type": "code",
   "execution_count": null,
   "id": "881d174b",
   "metadata": {},
   "outputs": [],
   "source": []
  },
  {
   "cell_type": "code",
   "execution_count": 173,
   "id": "7ca18ee4",
   "metadata": {},
   "outputs": [],
   "source": [
    "def augment_with_noise_numpy(data, noise_pool, scale = 1, seed=None):\n",
    "    if seed is not None:\n",
    "        np.random.seed(seed)\n",
    "    \n",
    "    indices = np.random.randint(0, len(noise_pool), size=len(data))\n",
    "    noise_samples = noise_pool[indices]\n",
    "    \n",
    "    return data + scale * noise_samples\n",
    "\n",
    "\n",
    "\n",
    "y_train = np.array(y_train)\n",
    "X_train = train_waveforms\n",
    "d_eq_train  = X_train[y_train == 0]\n",
    "d_exp_train = X_train[y_train == 1]\n",
    "d_noise_train = X_train[y_train == 2]\n",
    "d_su_train = X_train[y_train == 3]\n",
    "\n",
    "\n",
    "\n",
    "aug_eq  = augment_with_noise_numpy(d_eq_train, d_noise_train, scale=1)\n",
    "aug_exp = augment_with_noise_numpy(d_exp_train, d_noise_train, scale=1)\n",
    "aug_su  = augment_with_noise_numpy(d_su_train,  d_noise_train, scale= 1)\n",
    "aug_no  = augment_with_noise_numpy(d_noise_train,  d_noise_train, scale= 1)\n",
    "\n",
    "\n",
    "# adding the esec data to surface events\n",
    "d_su_train = np.concatenate([d_su_train, np.array(processed_esec_data)], axis = 0)"
   ]
  },
  {
   "cell_type": "code",
   "execution_count": null,
   "id": "fe2e435b",
   "metadata": {},
   "outputs": [],
   "source": []
  },
  {
   "cell_type": "code",
   "execution_count": 174,
   "id": "1cb1ae80",
   "metadata": {},
   "outputs": [],
   "source": [
    "#ensuring the class balance. \n",
    "aug_eq = aug_eq[:6046]\n",
    "aug_no = aug_no[:6046]\n",
    "aug_su = aug_su[:4180]\n",
    "\n",
    "X_train_aug = np.concatenate([d_eq_train, d_exp_train, d_su_train, d_noise_train,\n",
    "                         aug_eq, aug_exp, aug_su, aug_no], axis=0)\n",
    "                              \n",
    "y_train_aug = torch.tensor(\n",
    "    [0]*len(d_eq_train) + [1]*len(d_exp_train) + [3]*len(d_su_train) + [2]*len(d_noise_train) +\n",
    "    [0]*len(aug_eq)      + [1]*len(aug_exp)      + [3]*len(aug_su) +[2]*len(aug_no)\n",
    ")"
   ]
  },
  {
   "cell_type": "code",
   "execution_count": 175,
   "id": "de47ade1",
   "metadata": {},
   "outputs": [
    {
     "data": {
      "text/plain": [
       "(array([0, 1, 2, 3]), array([14046, 14046, 14046, 14046]))"
      ]
     },
     "execution_count": 175,
     "metadata": {},
     "output_type": "execute_result"
    }
   ],
   "source": [
    "np.unique(y_train_aug.numpy(), return_counts = True)"
   ]
  },
  {
   "cell_type": "code",
   "execution_count": null,
   "id": "1424a4a9",
   "metadata": {},
   "outputs": [],
   "source": []
  },
  {
   "cell_type": "markdown",
   "id": "280a4068",
   "metadata": {},
   "source": [
    "## Preparing input data"
   ]
  },
  {
   "cell_type": "code",
   "execution_count": 176,
   "id": "7f92e072",
   "metadata": {},
   "outputs": [
    {
     "name": "stdout",
     "output_type": "stream",
     "text": [
      "Train batches: 329, Val batches: 109\n",
      "Train batches: 329, Val batches: 109\n"
     ]
    }
   ],
   "source": [
    "X_1d = X_train_aug\n",
    "X_1d = torch.tensor(X_1d, dtype = torch.float32)\n",
    "\n",
    "spec = compute_spectrogram(X_1d, 50)\n",
    "norm_spec = normalize_spectrogram_minmax(spec[0])\n",
    "\n",
    "X_2d = norm_spec\n",
    "y = y_train_aug\n",
    "\n",
    "\n",
    "train_split =75\n",
    "val_split = 25\n",
    "\n",
    "train_loader_1d, val_loader_1d = return_train_val_loaders(X = X_1d, y = y, train_split = train_split, val_split = val_split, batch_size = batch_size)\n",
    "train_loader_2d, val_loader_2d = return_train_val_loaders(X = X_2d, y = y, train_split = train_split, val_split = val_split, batch_size = batch_size)"
   ]
  },
  {
   "cell_type": "markdown",
   "id": "96bd2595",
   "metadata": {},
   "source": [
    "## SeismicCNN_1D"
   ]
  },
  {
   "cell_type": "code",
   "execution_count": 177,
   "id": "960581a3",
   "metadata": {},
   "outputs": [
    {
     "name": "stderr",
     "output_type": "stream",
     "text": [
      "  0%|          | 0/100 [00:00<?, ?it/s]/home/ak287/PNW_Seismic_Event_Classification/deep_learning/scripts/utils.py:76: UserWarning: To copy construct from a tensor, it is recommended to use sourceTensor.detach().clone() or sourceTensor.detach().clone().requires_grad_(True), rather than torch.tensor(sourceTensor).\n",
      "  sample_labels = torch.nn.functional.one_hot(torch.tensor(sample_labels), num_classes=self.num_classes)\n",
      " 10%|█         | 10/100 [01:04<09:34,  6.38s/it]"
     ]
    },
    {
     "name": "stdout",
     "output_type": "stream",
     "text": [
      "[Epoch 10] loss: 0.203 - accuracy: 84.404\n"
     ]
    },
    {
     "name": "stderr",
     "output_type": "stream",
     "text": [
      " 20%|██        | 20/100 [02:08<08:27,  6.34s/it]"
     ]
    },
    {
     "name": "stdout",
     "output_type": "stream",
     "text": [
      "[Epoch 20] loss: 0.093 - accuracy: 84.927\n"
     ]
    },
    {
     "name": "stderr",
     "output_type": "stream",
     "text": [
      " 30%|███       | 30/100 [03:11<07:20,  6.29s/it]"
     ]
    },
    {
     "name": "stdout",
     "output_type": "stream",
     "text": [
      "[Epoch 30] loss: 0.064 - accuracy: 85.909\n"
     ]
    },
    {
     "name": "stderr",
     "output_type": "stream",
     "text": [
      " 40%|████      | 40/100 [04:14<06:17,  6.29s/it]"
     ]
    },
    {
     "name": "stdout",
     "output_type": "stream",
     "text": [
      "[Epoch 40] loss: 0.049 - accuracy: 86.052\n"
     ]
    },
    {
     "name": "stderr",
     "output_type": "stream",
     "text": [
      " 43%|████▎     | 43/100 [04:40<06:11,  6.52s/it]\n"
     ]
    }
   ],
   "source": [
    "n_epochs = 100\n",
    "device = 'cuda'\n",
    "model_seismiccnn_1d = SeismicCNN_1d(num_classes=4, num_channels=num_channels,dropout_rate=dropout).to(device)  # Use 'cuda' if you have a GPU available\n",
    "(loss_time_seismiccnn_1d, val_loss_time_seismiccnn_1d, val_accuracy_time_seismiccnn_1d, model_training_time_seismiccnn_1d) = train_model(model_seismiccnn_1d,\n",
    "    train_loader_1d,  \n",
    "    val_loader_1d,\n",
    "    n_epochs=n_epochs,\n",
    "    learning_rate=learning_rate,\n",
    "    criterion=criterion,\n",
    "    augmentation= False, \n",
    "    patience = 30, \n",
    "    model_path = '../trained_models/best_model_new_augmented_esec_')"
   ]
  },
  {
   "cell_type": "markdown",
   "id": "70fcd0df",
   "metadata": {},
   "source": [
    "## Plotting model performance "
   ]
  },
  {
   "cell_type": "code",
   "execution_count": 178,
   "id": "c7a3be4f",
   "metadata": {},
   "outputs": [
    {
     "data": {
      "image/png": "[encoded data removed]",
      "text/plain": [
       "<Figure size 800x600 with 2 Axes>"
      ]
     },
     "metadata": {},
     "output_type": "display_data"
    }
   ],
   "source": [
    "def plot_model_training(loss_time, val_loss_time, val_accuracy_time, title = 'SeismicCNN 1D'):\n",
    "\n",
    "\n",
    "    # Assuming loss_time, val_loss_time, val_accuracy_time, test_loss, test_accuracy are defined\n",
    "\n",
    "    NN = np.count_nonzero(loss_time)\n",
    "    fig, ax1 = plt.subplots(figsize=(8, 6))  # Increase figure size for better readability\n",
    "\n",
    "    # Set font sizes\n",
    "    plt.style.use('default')\n",
    "    plt.rc('font', size=12)  # Global font size\n",
    "    plt.rc('axes', titlesize=14)  # Title font size\n",
    "    plt.rc('axes', labelsize=12)  # Axis label font size\n",
    "    plt.rc('xtick', labelsize=10)  # X-axis tick label font size\n",
    "    plt.rc('ytick', labelsize=10)  # Y-axis tick label font size\n",
    "\n",
    "    # Plot Training and Validation Loss\n",
    "    ax1.set_xlabel('Epoch', fontsize=12)\n",
    "    ax1.set_ylabel('Loss', fontsize=12)\n",
    "    ax1.plot(np.arange(1, NN), loss_time[:NN-1], color='tab:red', label='Training Loss', linewidth=2)\n",
    "    ax1.plot(np.arange(1, NN), val_loss_time[:NN-1], color='tab:blue', label='Validation Loss', linewidth=2)\n",
    "    #ax1.plot(NN+1, test_loss, 'p', color='tab:blue', label='Test Loss', markersize=10)\n",
    "    ax1.set_ylim(0, 2)\n",
    "    ax1.grid(True, linestyle='--', alpha=0.6)  # Add grid with some transparency\n",
    "\n",
    "    # Twin axis for accuracy\n",
    "    ax2 = ax1.twinx()\n",
    "    ax2.set_ylabel('Accuracy (%)', fontsize=12, color='tab:green')\n",
    "    ax2.plot(np.arange(1, NN), val_accuracy_time[:NN-1], color='tab:green', label='Validation Accuracy', linewidth=2)\n",
    "    #ax2.plot(NN+1, test_accuracy, 's', color='tab:green', label='Test Accuracy', markersize=10)\n",
    "    ax2.set_ylim(0, 100)\n",
    "    ax2.tick_params(axis='y', labelcolor='tab:green')\n",
    "    ax2.grid(False)\n",
    "\n",
    "    # Title and legend\n",
    "    plt.title(title, fontsize=14)\n",
    "    fig.tight_layout()\n",
    "\n",
    "    # Add legends for both axes\n",
    "    ax1.legend(loc='upper left', fontsize=10)\n",
    "    ax2.legend(loc='upper right', fontsize=10)\n",
    "\n",
    "    # Save the figure with high resolution\n",
    "    plt.savefig(f\"../figures/{title}\", dpi=300, bbox_inches='tight')\n",
    "\n",
    "    plt.show()\n",
    "\n",
    "plot_model_training(loss_time_seismiccnn_1d, val_loss_time_seismiccnn_1d, val_accuracy_time_seismiccnn_1d)"
   ]
  },
  {
   "cell_type": "code",
   "execution_count": 179,
   "id": "0d05d521",
   "metadata": {},
   "outputs": [
    {
     "name": "stderr",
     "output_type": "stream",
     "text": [
      "  0%|          | 0/100 [00:00<?, ?it/s]/home/ak287/PNW_Seismic_Event_Classification/deep_learning/scripts/utils.py:76: UserWarning: To copy construct from a tensor, it is recommended to use sourceTensor.detach().clone() or sourceTensor.detach().clone().requires_grad_(True), rather than torch.tensor(sourceTensor).\n",
      "  sample_labels = torch.nn.functional.one_hot(torch.tensor(sample_labels), num_classes=self.num_classes)\n",
      " 10%|█         | 10/100 [00:54<08:08,  5.42s/it]"
     ]
    },
    {
     "name": "stdout",
     "output_type": "stream",
     "text": [
      "[Epoch 10] loss: 0.383 - accuracy: 86.554\n"
     ]
    },
    {
     "name": "stderr",
     "output_type": "stream",
     "text": [
      " 20%|██        | 20/100 [01:48<07:14,  5.43s/it]"
     ]
    },
    {
     "name": "stdout",
     "output_type": "stream",
     "text": [
      "[Epoch 20] loss: 0.284 - accuracy: 87.170\n"
     ]
    },
    {
     "name": "stderr",
     "output_type": "stream",
     "text": [
      " 30%|███       | 30/100 [02:42<06:18,  5.41s/it]"
     ]
    },
    {
     "name": "stdout",
     "output_type": "stream",
     "text": [
      "[Epoch 30] loss: 0.234 - accuracy: 88.439\n"
     ]
    },
    {
     "name": "stderr",
     "output_type": "stream",
     "text": [
      " 40%|████      | 40/100 [03:36<05:23,  5.39s/it]"
     ]
    },
    {
     "name": "stdout",
     "output_type": "stream",
     "text": [
      "[Epoch 40] loss: 0.203 - accuracy: 89.837\n"
     ]
    },
    {
     "name": "stderr",
     "output_type": "stream",
     "text": [
      " 50%|█████     | 50/100 [04:30<04:30,  5.40s/it]"
     ]
    },
    {
     "name": "stdout",
     "output_type": "stream",
     "text": [
      "[Epoch 50] loss: 0.185 - accuracy: 89.679\n"
     ]
    },
    {
     "name": "stderr",
     "output_type": "stream",
     "text": [
      " 60%|██████    | 60/100 [05:24<03:35,  5.39s/it]"
     ]
    },
    {
     "name": "stdout",
     "output_type": "stream",
     "text": [
      "[Epoch 60] loss: 0.171 - accuracy: 90.353\n"
     ]
    },
    {
     "name": "stderr",
     "output_type": "stream",
     "text": [
      " 66%|██████▌   | 66/100 [06:02<03:06,  5.49s/it]\n"
     ]
    }
   ],
   "source": [
    "model_seismiccnn_2d = SeismicCNN_2d(num_classes=4, num_channels=num_channels,dropout_rate=dropout).to(device)  # Use 'cuda' if you have a GPU available\n",
    "(loss_time_seismiccnn_2d, val_loss_time_seismiccnn_2d, val_accuracy_time_seismiccnn_2d, model_training_time_seismiccnn_2d) = train_model(model_seismiccnn_2d,\n",
    "    train_loader_2d,  \n",
    "    val_loader_2d, \n",
    "    n_epochs=n_epochs,\n",
    "    learning_rate=learning_rate,\n",
    "    criterion=criterion,augmentation= False, patience = 30, model_path = '../trained_models/best_model_new_augmented_esec_' )"
   ]
  },
  {
   "cell_type": "code",
   "execution_count": null,
   "id": "1a75a368",
   "metadata": {},
   "outputs": [],
   "source": []
  }
 ],
 "metadata": {
  "kernelspec": {
   "display_name": "surface",
   "language": "python",
   "name": "surface"
  },
  "language_info": {
   "codemirror_mode": {
    "name": "ipython",
    "version": 3
   },
   "file_extension": ".py",
   "mimetype": "text/x-python",
   "name": "python",
   "nbconvert_exporter": "python",
   "pygments_lexer": "ipython3",
   "version": "3.9.5"
  }
 },
 "nbformat": 4,
 "nbformat_minor": 5
}
