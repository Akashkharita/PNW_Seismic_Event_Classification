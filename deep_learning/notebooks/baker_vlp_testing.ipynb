{
 "cells": [
  {
   "cell_type": "code",
   "execution_count": 1,
   "id": "c494574d",
   "metadata": {},
   "outputs": [
    {
     "name": "stdout",
     "output_type": "stream",
     "text": [
      "cuda\n"
     ]
    }
   ],
   "source": [
    "# ───────────────────────────────\n",
    "# 📦 Standard Libraries\n",
    "# ───────────────────────────────\n",
    "import os\n",
    "import sys\n",
    "import math\n",
    "import time\n",
    "import csv\n",
    "import pickle\n",
    "from datetime import datetime, timedelta\n",
    "from collections import Counter\n",
    "\n",
    "# ───────────────────────────────\n",
    "# 📚 Data Handling & Utilities\n",
    "# ───────────────────────────────\n",
    "import numpy as np\n",
    "import pandas as pd\n",
    "from glob import glob\n",
    "from tqdm import tqdm\n",
    "import h5py\n",
    "from joblib import dump, load\n",
    "\n",
    "# ───────────────────────────────\n",
    "# 📊 Visualization\n",
    "# ───────────────────────────────\n",
    "import matplotlib.pyplot as plt\n",
    "import seaborn as sns\n",
    "\n",
    "# ───────────────────────────────\n",
    "# 📈 Machine Learning\n",
    "# ───────────────────────────────\n",
    "from sklearn.model_selection import (\n",
    "    train_test_split, RandomizedSearchCV, GridSearchCV, cross_val_score\n",
    ")\n",
    "from sklearn.ensemble import RandomForestClassifier\n",
    "from sklearn.metrics import (\n",
    "    accuracy_score, roc_curve, roc_auc_score, auc,\n",
    "    classification_report, confusion_matrix\n",
    ")\n",
    "from sklearn.preprocessing import LabelEncoder, StandardScaler\n",
    "from imblearn.under_sampling import RandomUnderSampler\n",
    "\n",
    "# ───────────────────────────────\n",
    "# 🌍 Seismology & Signal Processing\n",
    "# ───────────────────────────────\n",
    "import obspy\n",
    "from obspy import UTCDateTime\n",
    "from obspy.geodetics.base import gps2dist_azimuth\n",
    "from obspy.clients.fdsn import Client\n",
    "from obspy.signal.filter import envelope\n",
    "from scipy import stats, signal\n",
    "\n",
    "# ───────────────────────────────\n",
    "# 🔗 External Tools\n",
    "# ───────────────────────────────\n",
    "from zenodo_get import zenodo_get\n",
    "\n",
    "# ───────────────────────────────\n",
    "# 🤖 Deep Learning\n",
    "# ───────────────────────────────\n",
    "import torch\n",
    "import torch.nn.functional as F\n",
    "\n",
    "\n",
    "# ───────────────────────────────\n",
    "# 🛠 Custom Utilities\n",
    "# ───────────────────────────────\n",
    "sys.path.insert(0, '/home/ak287/PNW_Seismic_Event_Classification/deep_learning/scripts')\n",
    "from neural_network_architectures import SeismicCNN_2d\n",
    "\n",
    "from utils import (\n",
    "    extract_waveforms,\n",
    "    compute_spectrogram,\n",
    "    normalize_spectrogram_minmax,\n",
    "    return_train_val_loaders,\n",
    "    plot_confusion_matrix_and_cr,\n",
    "    train_model,\n",
    "    WaveformPreprocessor\n",
    ")\n",
    "\n",
    "# Pandas display options\n",
    "pd.set_option('display.max_columns', None)\n",
    "\n",
    "\n",
    "sys.path.append('/home/ak287/seisbench/seisbench/models')\n",
    "import seisbench.models as sbm\n",
    "\n",
    "\n",
    "\n",
    "# for extracting unique stations\n",
    "import re\n",
    "from pathlib import Path"
   ]
  },
  {
   "cell_type": "code",
   "execution_count": 2,
   "id": "f82768cc",
   "metadata": {},
   "outputs": [
    {
     "data": {
      "text/plain": [
       "SeismicCNN_2d(\n",
       "  (conv1): Conv2d(3, 32, kernel_size=(3, 3), stride=(1, 1))\n",
       "  (conv2): Conv2d(32, 64, kernel_size=(3, 3), stride=(1, 1))\n",
       "  (pool): MaxPool2d(kernel_size=(2, 2), stride=(2, 2), padding=0, dilation=1, ceil_mode=False)\n",
       "  (fc1): Linear(in_features=15360, out_features=128, bias=True)\n",
       "  (fc2): Linear(in_features=128, out_features=4, bias=True)\n",
       "  (softmax): Softmax(dim=1)\n",
       "  (dropout): Dropout(p=0.9, inplace=False)\n",
       "  (bn1): BatchNorm2d(32, eps=1e-05, momentum=0.1, affine=True, track_running_stats=True)\n",
       "  (bn2): BatchNorm2d(64, eps=1e-05, momentum=0.1, affine=True, track_running_stats=True)\n",
       "  (fc1_bn): BatchNorm1d(128, eps=1e-05, momentum=0.1, affine=True, track_running_stats=True)\n",
       "  (fc2_bn): BatchNorm1d(4, eps=1e-05, momentum=0.1, affine=True, track_running_stats=True)\n",
       ")"
      ]
     },
     "execution_count": 2,
     "metadata": {},
     "output_type": "execute_result"
    }
   ],
   "source": [
    "## setting up some important parameters (not to be changed)\n",
    "num_channels = 3\n",
    "dropout = 0.9\n",
    "# Check if a GPU is available\n",
    "device = \"cuda\"\n",
    "\n",
    "\n",
    "\n",
    "model_quakexnet_2d = SeismicCNN_2d(num_classes=4, num_channels=num_channels,dropout_rate=dropout).to(device)  # Use 'cuda' if you have a GPU available\n",
    "\n",
    "# Load the saved model state dict (weights)\n",
    "saved_model_quakexnet_2d = torch.load('../trained_models/best_model_new_augmented_esec_SeismicCNN_2d.pth', map_location=torch.device('cpu'))  # No 'weights_only' argument\n",
    "model_quakexnet_2d.load_state_dict(saved_model_quakexnet_2d)\n",
    "model_quakexnet_2d.to(device)\n",
    "model_quakexnet_2d.eval()\n",
    "\n",
    "\n",
    "model = model_quakexnet_2d\n",
    "model.to('cuda')\n"
   ]
  },
  {
   "cell_type": "code",
   "execution_count": 7,
   "id": "e5631083",
   "metadata": {},
   "outputs": [],
   "source": [
    "vlp_cat = pd.read_csv('../../data/baker_vlp/MountBaker_Event_Classification_Reanalysis.csv')"
   ]
  },
  {
   "cell_type": "code",
   "execution_count": 12,
   "id": "74af1c0b",
   "metadata": {},
   "outputs": [
    {
     "data": {
      "text/plain": [
       "1969-10-02T11:17:43.000000Z"
      ]
     },
     "execution_count": 12,
     "metadata": {},
     "output_type": "execute_result"
    }
   ],
   "source": [
    "obspy.UTCDateTime(vlp_cat['prefor_time'].values[0])"
   ]
  },
  {
   "cell_type": "code",
   "execution_count": null,
   "id": "05f512df",
   "metadata": {},
   "outputs": [],
   "source": []
  }
 ],
 "metadata": {
  "kernelspec": {
   "display_name": "surface",
   "language": "python",
   "name": "surface"
  },
  "language_info": {
   "codemirror_mode": {
    "name": "ipython",
    "version": 3
   },
   "file_extension": ".py",
   "mimetype": "text/x-python",
   "name": "python",
   "nbconvert_exporter": "python",
   "pygments_lexer": "ipython3",
   "version": "3.9.5"
  }
 },
 "nbformat": 4,
 "nbformat_minor": 5
}
