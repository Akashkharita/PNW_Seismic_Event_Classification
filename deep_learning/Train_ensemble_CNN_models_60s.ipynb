{
 "cells": [
  {
   "cell_type": "markdown",
   "id": "b0547958",
   "metadata": {},
   "source": [
    "# Train and evaluate on ensembles of CNN models\n",
    "\n",
    "by Marine Denolle on 06/20/24\n"
   ]
  },
  {
   "cell_type": "markdown",
   "id": "1e949bd1",
   "metadata": {},
   "source": [
    "### Import modules"
   ]
  },
  {
   "cell_type": "code",
   "execution_count": 140,
   "id": "0d066669",
   "metadata": {},
   "outputs": [],
   "source": [
    "import pandas as pd\n",
    "import numpy as np\n",
    "import matplotlib.pyplot as plt\n",
    "import h5py\n",
    "# from tqdm import tqdm\n",
    "from glob import glob\n",
    "# import time\n",
    "import random\n",
    "\n",
    "from scipy import signal\n",
    "\n",
    "\n",
    "import torch\n",
    "import torch.nn as nn\n",
    "from torch.utils.data import random_split\n",
    "import torch.nn.functional as F\n",
    "from torch.utils.data import DataLoader \n",
    "from torch.utils.data import Dataset\n",
    "\n",
    "\n",
    "# Check if a GPU is available\n",
    "device = torch.device(\"cuda\" if torch.cuda.is_available() else \"cpu\")"
   ]
  },
  {
   "cell_type": "markdown",
   "id": "fb79ff4f",
   "metadata": {},
   "source": [
    "## Parameters"
   ]
  },
  {
   "cell_type": "markdown",
   "id": "77d33682",
   "metadata": {},
   "source": [
    "### Waveform data"
   ]
  },
  {
   "cell_type": "code",
   "execution_count": 141,
   "id": "06b9fdcd",
   "metadata": {},
   "outputs": [],
   "source": [
    "#data files\n",
    "file_noise=\"/1-fnp/cascadia/c-whd01/yiyu_data/PNWML/noise_waveforms.hdf5\";\n",
    "file_comcat=  \"/1-fnp/cascadia/c-whd01/yiyu_data/PNWML/comcat_waveforms.hdf5\";\n",
    "file_exotic=\"/1-fnp/cascadia/c-whd01/yiyu_data/PNWML/exotic_waveforms.hdf5\";\n",
    "# file_noise=\"/data/whd01/yiyu_data/PNWML/noise_waveforms.hdf5\";\n",
    "# file_comcat=  \"/data/whd01/yiyu_data/PNWML/comcat_waveforms.hdf5\";\n",
    "# file_exotic=\"/data/whd01/yiyu_data/PNWML/exotic_waveforms.hdf5\";"
   ]
  },
  {
   "cell_type": "markdown",
   "id": "3d6b008d",
   "metadata": {},
   "source": [
    "### Waveform Metadata"
   ]
  },
  {
   "cell_type": "code",
   "execution_count": 142,
   "id": "59012f24",
   "metadata": {},
   "outputs": [],
   "source": [
    "# metadata\n",
    "# accessing the comcat metadata\n",
    "comcat_metadata = pd.read_csv(\"/1-fnp/cascadia/c-whd01/yiyu_data/PNWML/comcat_metadata.csv\")\n",
    "# comcat_metadata = pd.read_csv(\"/data/whd01/yiyu_data/PNWML/comcat_metadata.csv\")\n",
    "\n",
    "# accessing the exotic metadata\n",
    "exotic_metadata = pd.read_csv(\"/1-fnp/cascadia/c-whd01/yiyu_data/PNWML/exotic_metadata.csv\")\n",
    "# exotic_metadata = pd.read_csv(\"/data/whd01/yiyu_data/PNWML/exotic_metadata.csv\")\n",
    "\n",
    "# accessing the data files\n",
    "metadata_noise = pd.read_csv(\"/1-fnp/cascadia/c-whd01/yiyu_data/PNWML/noise_metadata.csv\")\n",
    "# metadata_noise = pd.read_csv(\"/data/whd01/yiyu_data/PNWML/noise_metadata.csv\")\n",
    "\n",
    "# creating individual data frames for each class\n",
    "cat_exp = comcat_metadata[comcat_metadata['source_type'] == 'explosion']\n",
    "cat_eq = comcat_metadata[comcat_metadata['source_type'] == 'earthquake']\n",
    "cat_su = exotic_metadata[exotic_metadata['source_type'] == 'surface event']\n",
    "cat_noise = metadata_noise\n",
    "cat_noise['event_id'] = [cat_noise['trace_start_time'][i]+'_noise' for i in range(len(cat_noise))]\n"
   ]
  },
  {
   "cell_type": "markdown",
   "id": "5bab8e20",
   "metadata": {},
   "source": [
    "### Data Prep"
   ]
  },
  {
   "cell_type": "code",
   "execution_count": 143,
   "id": "482b90db",
   "metadata": {},
   "outputs": [],
   "source": [
    "start=-30\n",
    "input_window_length=60 # in seconds\n",
    "fs=100 # target sampling rate\n",
    "\n",
    "number_data_per_class=5000 # number of data samples per class\n",
    "num_channels=3  # number of components to check\n",
    "\n",
    "SNR_THR = 10\n",
    "\n",
    "all_data=False\n",
    "shifting=True\n",
    "augmentation=False\n",
    "\n",
    "\n",
    "# training parameters\n",
    "train_split = 70\n",
    "val_split=20\n",
    "test_split = 10\n",
    "learning_rate=0.001\n",
    "batch_size=128\n",
    "n_epochs=60\n",
    "dropout=0.2\n",
    "criterion=nn.CrossEntropyLoss()"
   ]
  },
  {
   "cell_type": "markdown",
   "id": "5daa147a",
   "metadata": {},
   "source": [
    "##  Define models"
   ]
  },
  {
   "cell_type": "code",
   "execution_count": 144,
   "id": "3000d8be",
   "metadata": {},
   "outputs": [],
   "source": [
    "# defining a very simple CNN\n",
    "        \n",
    "class MyCNN(nn.Module):\n",
    "    def __init__(self, num_classes=4, num_channels = 3,dropout_rate=0.2):\n",
    "        super(MyCNN, self).__init__()\n",
    "        # Define the layers of the CNN architecture\n",
    "        self.conv1 = nn.Conv1d(in_channels= num_channels, out_channels=8, kernel_size=9,stride=1,padding='same') # input size of 6000\n",
    "        self.conv2 = nn.Conv1d(in_channels= 8, out_channels=8, kernel_size=9,stride=2,padding=4)       #\n",
    "        self.conv3 = nn.Conv1d(in_channels= 8, out_channels=16, kernel_size=7,stride=1,padding='same')\n",
    "        self.conv4 = nn.Conv1d(in_channels= 16, out_channels=16, kernel_size=7,stride=2,padding=3)        \n",
    "        self.conv5 = nn.Conv1d(in_channels= 16, out_channels=32, kernel_size=5,stride=1,padding='same')\n",
    "        self.conv6 = nn.Conv1d(in_channels= 32, out_channels=32, kernel_size=5,stride=2,padding=2)                \n",
    "        self.conv7 = nn.Conv1d(in_channels= 32, out_channels=64, kernel_size=3,stride=1,padding='same')\n",
    "        \n",
    "        self.pool1 = nn.MaxPool1d(kernel_size=2, stride=2)\n",
    "        \n",
    "        # batch-normalization layers\n",
    "        self.bn1 = nn.BatchNorm1d(8)#, dtype=torch.float64)\n",
    "        self.bn2 = nn.BatchNorm1d(8)#, dtype=torch.float64)\n",
    "        self.bn3 = nn.BatchNorm1d(16)#, dtype=torch.float64)\n",
    "        self.bn4 = nn.BatchNorm1d(16)#, dtype=torch.float64)\n",
    "        self.bn5 = nn.BatchNorm1d(32)#, dtype=torch.float64)\n",
    "        self.bn6 = nn.BatchNorm1d(32)#, dtype=torch.float64)\n",
    "        self.bn7 = nn.BatchNorm1d(64)#, dtype=torch.float64)\n",
    "        \n",
    "        # self.fc1 = nn.Linear(5000, 128)  # Adjust input size based on your data\n",
    "        self.fc1 = nn.Linear(6016, 128)  # Adjust input size based on your data\n",
    "        self.fc2 = nn.Linear(128,num_classes)  # Adjust input size based on your data\n",
    "        self.fc1_bn = nn.BatchNorm1d(128)\n",
    "        self.fc2_bn = nn.BatchNorm1d(num_classes)\n",
    "        \n",
    "        \n",
    "        # Calculate the input size for the first fully connected layer\n",
    "        # fc_input_size = self._get_conv_output_size(num_channels, 5000)\n",
    "        \n",
    "        # define dropout\n",
    "        self.dropout = nn.Dropout(dropout_rate)\n",
    "        \n",
    "    def forward(self, x):\n",
    "        x = F.relu(self.bn1(self.conv1(x))) # feature extraction, output size of 8,6000\n",
    "        x = self.pool1(F.relu(self.bn2(self.conv2(x)))) # feature extraction, output size of 8,1500 \n",
    "        x = self.dropout(x)\n",
    "        # max pooling is done at this point, but after the 2 convolutions to avoid aliasing\n",
    "        x = F.relu(self.bn3(self.conv3(x))) # feature extraction, output size of 16,1500\n",
    "        x = self.pool1(F.relu(self.bn4(self.conv4(x)))) # feature extraction, output size of 16, 375\n",
    "        x = self.dropout(x)\n",
    "        x =  F.relu(self.bn5(self.conv5(x))) # feature extraction, output size of 32, 375\n",
    "        x = self.pool1(F.relu(self.bn6(self.conv6(x)))) # feature extraction, output size of 32, 94\n",
    "        x = self.dropout(x)\n",
    "        x = F.relu(self.bn7(self.conv7(x))) # feature extraction, output size of 64, 94            \n",
    "        x = x.view(x.size(0), -1) # Flatten before fully connected layer, 6000 features!\n",
    "        x = self.dropout(x)\n",
    "        x = F.relu(self.fc1_bn(self.fc1(x)))  # classifier\n",
    "        x = self.fc2_bn(self.fc2(x)) # classifier\n",
    "        # do not apply softmax here, as it will be applied in the loss function\n",
    "        \n",
    "        return x"
   ]
  },
  {
   "cell_type": "code",
   "execution_count": 145,
   "id": "751abc24",
   "metadata": {},
   "outputs": [],
   "source": [
    "# defining a very simple CNN\n",
    "        \n",
    "class MyCNN2(nn.Module):\n",
    "    def __init__(self, num_classes=4, num_channels = 3,dropout_rate=0.2):\n",
    "        super(MyCNN2, self).__init__()\n",
    "        # Define the layers of the CNN architecture\n",
    "        self.conv1 = nn.Conv1d(in_channels= num_channels, out_channels=8, kernel_size=9,stride=1,padding='same') # input size of 6000\n",
    "        self.conv2 = nn.Conv1d(in_channels= 8, out_channels=8, kernel_size=9,stride=2,padding=4)       #\n",
    "        self.conv3 = nn.Conv1d(in_channels= 8, out_channels=16, kernel_size=7,stride=1,padding='same')\n",
    "        self.conv4 = nn.Conv1d(in_channels= 16, out_channels=16, kernel_size=7,stride=2,padding=3)        \n",
    "        self.conv5 = nn.Conv1d(in_channels= 16, out_channels=32, kernel_size=5,stride=1,padding='same')\n",
    "        self.conv6 = nn.Conv1d(in_channels= 32, out_channels=32, kernel_size=5,stride=2,padding=2)                \n",
    "        self.conv7 = nn.Conv1d(in_channels= 32, out_channels=64, kernel_size=3,stride=1,padding='same')\n",
    "        \n",
    "        self.pool1 = nn.MaxPool1d(kernel_size=2, stride=2)\n",
    "        \n",
    "        # batch-normalization layers\n",
    "        self.bn1 = nn.BatchNorm1d(8)#, dtype=torch.float64)\n",
    "        self.bn2 = nn.BatchNorm1d(8)#, dtype=torch.float64)\n",
    "        self.bn3 = nn.BatchNorm1d(16)#, dtype=torch.float64)\n",
    "        self.bn4 = nn.BatchNorm1d(16)#, dtype=torch.float64)\n",
    "        self.bn5 = nn.BatchNorm1d(32)#, dtype=torch.float64)\n",
    "        self.bn6 = nn.BatchNorm1d(32)#, dtype=torch.float64)\n",
    "        self.bn7 = nn.BatchNorm1d(64)#, dtype=torch.float64)\n",
    "        \n",
    "        # Adjusted fully connected layers\n",
    "        self.fc1 = nn.Linear(6016, 1024)\n",
    "        self.fc1_bn = nn.BatchNorm1d(1024)\n",
    "        self.fc2 = nn.Linear(1024, 256)\n",
    "        self.fc2_bn = nn.BatchNorm1d(256)\n",
    "        # self.fc3 = nn.Linear(512, 256)\n",
    "        # self.fc3_bn = nn.BatchNorm1d(256)\n",
    "        self.fc4 = nn.Linear(256, num_classes)\n",
    "        self.fc4_bn = nn.BatchNorm1d(num_classes)\n",
    "\n",
    "        # # self.fc1 = nn.Linear(5000, 128)  # Adjust input size based on your data\n",
    "        # self.fc1 = nn.Linear(6016, 128)  # Adjust input size based on your data\n",
    "        # self.fc2 = nn.Linear(128,num_classes)  # Adjust input size based on your data\n",
    "        # self.fc1_bn = nn.BatchNorm1d(128)\n",
    "        # self.fc2_bn = nn.BatchNorm1d(num_classes)\n",
    "        \n",
    "        \n",
    "        # Calculate the input size for the first fully connected layer\n",
    "        # fc_input_size = self._get_conv_output_size(num_channels, 5000)\n",
    "        \n",
    "        # define dropout\n",
    "        self.dropout = nn.Dropout(dropout_rate)\n",
    "        \n",
    "    def forward(self, x):\n",
    "        x = F.relu(self.bn1(self.conv1(x))) # feature extraction, output size of 8,6000\n",
    "        x = self.pool1(F.relu(self.bn2(self.conv2(x)))) # feature extraction, output size of 8,1500 \n",
    "        x = self.dropout(x)\n",
    "        # max pooling is done at this point, but after the 2 convolutions to avoid aliasing\n",
    "        x = F.relu(self.bn3(self.conv3(x))) # feature extraction, output size of 16,1500\n",
    "        x = self.pool1(F.relu(self.bn4(self.conv4(x)))) # feature extraction, output size of 16, 375\n",
    "        x = self.dropout(x)\n",
    "        x =  F.relu(self.bn5(self.conv5(x))) # feature extraction, output size of 32, 375\n",
    "        x = self.pool1(F.relu(self.bn6(self.conv6(x)))) # feature extraction, output size of 32, 94\n",
    "        x = self.dropout(x)\n",
    "        x = F.relu(self.bn7(self.conv7(x))) # feature extraction, output size of 64, 94            \n",
    "        x = x.view(x.size(0), -1) # Flatten before fully connected layer, 6000 features!\n",
    "        x = self.dropout(x)\n",
    "        x = F.relu(self.fc1_bn(self.fc1(x)))  # classifier\n",
    "        x = F.relu(self.fc2_bn(self.fc2(x)))  # classifier\n",
    "        # x = F.relu(self.fc3_bn(self.fc3(x)))  # classifier\n",
    "        x = self.fc4_bn(self.fc4(x))  # classifier\n",
    "        # do not apply softmax here, as it will be applied in the loss function\n",
    "        \n",
    "        return x"
   ]
  },
  {
   "cell_type": "code",
   "execution_count": 146,
   "id": "afb0d806",
   "metadata": {},
   "outputs": [
    {
     "data": {
      "text/plain": [
       "6000.0"
      ]
     },
     "execution_count": 146,
     "metadata": {},
     "output_type": "execute_result"
    }
   ],
   "source": [
    "6000/4/4/4*64\n"
   ]
  },
  {
   "cell_type": "code",
   "execution_count": 147,
   "id": "95b7b71c",
   "metadata": {},
   "outputs": [
    {
     "name": "stdout",
     "output_type": "stream",
     "text": [
      "torch.Size([2, 4])\n"
     ]
    }
   ],
   "source": [
    "# Assuming MyCNN is defined as above\n",
    "model = MyCNN()\n",
    "dummy_input = torch.randn(2, 3, 6000)  # Batch size of 1, 3 channels, 6000 points\n",
    "output = model(dummy_input)\n",
    "print(output.size())"
   ]
  },
  {
   "cell_type": "code",
   "execution_count": 148,
   "id": "3c5fc691",
   "metadata": {},
   "outputs": [
    {
     "data": {
      "image/png": "[encoded data removed]",
      "text/plain": [
       "<Figure size 1200x600 with 2 Axes>"
      ]
     },
     "metadata": {},
     "output_type": "display_data"
    }
   ],
   "source": [
    "import numpy as np\n",
    "import matplotlib.pyplot as plt\n",
    "\n",
    "def shuffle_phase_tensor(time_series):\n",
    "    # Compute the Fourier transform\n",
    "    new_time_series = torch.zeros(time_series.shape)\n",
    "    for ichan in range(time_series.shape[0]):\n",
    "        fourier_tensor = torch.fft.fft(torch.tensor(time_series[ichan,:]).float())\n",
    "        # Get amplitude and phase\n",
    "        amp_tensor = torch.abs(fourier_tensor)\n",
    "        phase_tensor = torch.angle(fourier_tensor)\n",
    "        \n",
    "        # Shuffle the phase\n",
    "        indices = torch.randperm(phase_tensor.size(-1)) \n",
    "        # in torch\n",
    "        phase_tensor[1:len(phase_tensor)//2] = phase_tensor[indices[1:len(phase_tensor)//2]]\n",
    "        phase_tensor[len(phase_tensor)//2+1:] = -torch.flip(phase_tensor[len(phase_tensor)//2+1:],dims=[0])  # Ensure conjugate symmetry\n",
    "        \n",
    "        # Reconstruct the Fourier transform with original amplitude and shuffled phase\n",
    "        shuffled_fourier_tensor = amp_tensor * torch.exp(1j * phase_tensor)\n",
    "        \n",
    "        # Perform the inverse Fourier transform\n",
    "        new_time_series[ichan,:] = torch.fft.ifft(shuffled_fourier_tensor).real\n",
    "\n",
    "\n",
    "        window_length = new_time_series[ichan,:].size(-1)  # Taper along the last dimension\n",
    "        hann_window = torch.hann_window(window_length).to(new_time_series.device)  # Ensure window is on the same device as tensor\n",
    "        new_time_series[ichan,:] *= hann_window\n",
    "    \n",
    "    return new_time_series  # Return the real part\n",
    "\n",
    "\n",
    "\n",
    "def shuffle_phase(time_series):\n",
    "    # Compute the Fourier transform\n",
    "    fourier_transform = np.fft.fft(time_series)\n",
    "    \n",
    "    # Get amplitude and phase\n",
    "    amplitude = np.abs(fourier_transform)\n",
    "    phase = np.angle(fourier_transform)\n",
    "  \n",
    "    # in numpy\n",
    "    np.random.shuffle(phase[1:len(phase)//2])\n",
    "    phase[len(phase)//2+1:] = -phase[len(phase)//2-1:0:-1]  # Ensure conjugate symmetry\n",
    "    # in torch\n",
    "    # Reconstruct the Fourier transform with original amplitude and shuffled phase\n",
    "    shuffled_fourier = amplitude * np.exp(1j * phase)\n",
    "    \n",
    "    # Perform the inverse Fourier transform\n",
    "    new_time_series = np.fft.ifft(shuffled_fourier)\n",
    "    \n",
    "    return new_time_series.real  # Return the real part\n",
    "\n",
    "\n",
    "# Example usage\n",
    "time_series = np.sin(np.linspace(0, 20*np.pi, 1000)) + np.random.normal(0, 0.1, 1000)\n",
    "new_time_series = shuffle_phase(time_series)\n",
    "\n",
    "# Plot the original and new time series\n",
    "plt.figure(figsize=(12, 6))\n",
    "plt.subplot(1, 2, 1)\n",
    "plt.plot(time_series)\n",
    "plt.title('Original Time Series')\n",
    "plt.subplot(1, 2, 2)\n",
    "plt.plot(new_time_series)\n",
    "plt.title('Time Series with Shuffled Phase')\n",
    "plt.show()"
   ]
  },
  {
   "cell_type": "markdown",
   "id": "d3b0145f",
   "metadata": {},
   "source": [
    "### test CNN"
   ]
  },
  {
   "cell_type": "code",
   "execution_count": 149,
   "id": "fa34f987",
   "metadata": {},
   "outputs": [
    {
     "name": "stdout",
     "output_type": "stream",
     "text": [
      "Total number of parameters in MyCNN in log10: 5.896960294968874\n",
      "Total number of parameters in MyCNN2 in log10: 6.809238824190778\n"
     ]
    }
   ],
   "source": [
    "# Assuming the input shape is (batch_size, num_channels, num_features)\n",
    "# batch_size = 64  # You can adjust the batch size as needed\n",
    "num_channels = 3\n",
    "num_features = 5000\n",
    "# Create a random input tensor with the specified shape\n",
    "random_input = torch.randn(batch_size, num_channels,int(input_window_length*fs)).to(device)\n",
    "# Initialize your model\n",
    "# model = SeismicCNN(num_classes=4, num_channels=num_channels).to(device)  # Use 'cuda' if you have a GPU available\n",
    "# total_params = sum(p.numel() for p in model.parameters() if p.requires_grad)\n",
    "# print(f\"Total number of parameters in SeismicCNN in log10: {np.log10(total_params)}\")\n",
    "# Initialize your model\n",
    "model2 = MyCNN(num_classes=4, num_channels=num_channels).to(device)  # Use 'cuda' if you have a GPU available\n",
    "total_params = sum(p.numel() for p in model2.parameters() if p.requires_grad)\n",
    "print(f\"Total number of parameters in MyCNN in log10: {np.log10(total_params)}\")\n",
    "\n",
    "model3 = MyCNN2(num_classes=4, num_channels=num_channels).to(device)  # Use 'cuda' if you have a GPU available\n",
    "total_params = sum(p.numel() for p in model3.parameters() if p.requires_grad)\n",
    "print(f\"Total number of parameters in MyCNN2 in log10: {np.log10(total_params)}\")\n",
    "\n",
    "# # Initialize your model\n",
    "# model3 = MyResCNN(num_classes=4, num_channels=num_channels).to(device)  # Use 'cuda' if you have a GPU available\n",
    "# total_params = sum(p.numel() for p in model3.parameters() if p.requires_grad)\n",
    "# print(f\"Total number of parameters in MyResCNN in log10: {np.log10(total_params)}\")\n"
   ]
  },
  {
   "cell_type": "code",
   "execution_count": 200,
   "id": "2fc78fc7",
   "metadata": {},
   "outputs": [],
   "source": [
    "# adding some more comments here\n",
    "from torch.utils.data import Dataset\n",
    "class PNWDataSet(Dataset): # create custom dataset\n",
    "    def __init__(self, data,labels,num_classes): # initialize\n",
    "        self.data = data \n",
    "        self.labels = labels\n",
    "        self.num_classes = num_classes\n",
    "\n",
    "    def __len__(self):\n",
    "        return len(self.data)\n",
    "\n",
    "    def __getitem__(self, index):\n",
    "        sample_data = self.data[index]\n",
    "        sample_labels = self.labels[index]\n",
    "        \n",
    "        # Convert labels to one-hot encoded vectors\n",
    "        sample_labels = torch.nn.functional.one_hot(torch.tensor(sample_labels), num_classes=self.num_classes)\n",
    "        \n",
    "        return index,torch.Tensor(sample_data), sample_labels.float()  # return data as a tensor\n",
    "    "
   ]
  },
  {
   "cell_type": "code",
   "execution_count": 151,
   "id": "571104de",
   "metadata": {},
   "outputs": [],
   "source": [
    "def extract_waveforms(cat, file_name, start=-20, input_window_length=100, fs=50, number_data=1000, num_channels=3, all_data=False, shifting=True):\n",
    "    \n",
    "    \"\"\"\n",
    "    This is a function defined to extract the waveforms from file of waveforms and a dataframe of metadata. \n",
    "    The functions will also filter and resample the data if the data sampling rate is different from the target sampling rate\n",
    "    The data is shuffled in order it is called from the file it was stored in.\n",
    "    The data is shuffled in time by allowing a shift in selecting the waveform window with some of the pre-P data.\n",
    "    The data us normalized to its max(abs) on either component.\n",
    "    \n",
    "    Inputs:\n",
    "    cat -  Catalog containing metadata of the events, so we can extract the data using the bucket information\n",
    "    file_name - path of the h5py file containing the data\n",
    "    start - origin or first arrival time\n",
    "    num_features - window length to extract\n",
    "    before - number of samples to take before the arrival time\n",
    "    after - number of samples to take after the arrival time.\n",
    "    num_samples - no. of events per class to extract\n",
    "    \n",
    "    input_window_length: desired window length in seconds\n",
    "    fs: desired sampling rate.\n",
    "    num_channels - no. of channels per event to extract, if set 1, will extract Z component, if set any other number, will extract - ZNE component. \n",
    "    all_samples - if true, will extract all the samples corresponding of a given class\n",
    "    shifting - if true, will extract windows randomly starting between P-5, P-20. The random numbers follow a gaussian distribution. \n",
    "    Outputs:\n",
    "    \n",
    "    \"\"\"   \n",
    "    random.seed(1234) # set seed for reproducibility\n",
    "    cat = cat.sample(frac=1).reset_index(drop=True)\n",
    "    if all_data:number_data = len(cat) # how many data to include\n",
    "    # open the file\n",
    "    f = h5py.File(file_name, 'r')\n",
    "    x=np.zeros(shape=(number_data,3,int(fs*input_window_length)))\n",
    "    event_ids = cat['event_id'].values\n",
    "    if not all_data:event_ids=event_ids[:number_data]\n",
    "        \n",
    "    for index in range(number_data):\n",
    "        # read data\n",
    "        bucket, narray = cat.loc[index]['trace_name'].split('$')\n",
    "        xx, _, _ = iter([int(i) for i in narray.split(',:')])\n",
    "        data = f['/data/%s' % bucket][xx, :, : ] # get all of the data\n",
    "        if fs != cat.loc[index,'trace_sampling_rate_hz']: #resample the data\n",
    "            nyquist = 0.5 * cat.loc[index,'trace_sampling_rate_hz']\n",
    "            low = 0.05 / nyquist;  high = 20 / nyquist\n",
    "            b, a = signal.butter(4, [low, high], btype='band')\n",
    "\n",
    "            # Apply the taper+filter to the signal\n",
    "            taper = signal.windows.tukey(data.shape[-1],alpha=0.1)\n",
    "            data = np.array([np.multiply(taper,row) for row in data])\n",
    "            filtered_signal = np.array([signal.filtfilt(b, a, row) for row in data])\n",
    "\n",
    "            # resample\n",
    "            number_of_samples = int(filtered_signal.shape[1] * fs / cat.loc[index,'trace_sampling_rate_hz'])\n",
    "            data = np.array([signal.resample(row, number_of_samples) for row in filtered_signal])\n",
    "\n",
    "            \n",
    "        if event_ids[index].split(\"_\")[-1]!=\"noise\":\n",
    "            #random start between P-20 and P-5 (upper bound is exclusive in numpy.random.randint)        \n",
    "            ii = int(np.random.randint(start,-4)*fs)\n",
    "            \n",
    "            if np.isnan(cat.loc[index, 'trace_P_arrival_sample']):continue\n",
    "            \n",
    "            istart = int(cat.loc[index, 'trace_P_arrival_sample']*fs/cat.loc[index,'trace_sampling_rate_hz']) + ii # start around the P\n",
    "            iend  = istart + int(fs*input_window_length)\n",
    "            if istart<0:\n",
    "                istart = 0\n",
    "                iend = int(fs*input_window_length)\n",
    "\n",
    "            if iend>data.shape[-1]:\n",
    "                istart = istart - (iend-data.shape[-1])\n",
    "                iend = data.shape[-1]\n",
    "        else:\n",
    "            istart=0\n",
    "            iend=istart+int(fs*input_window_length)\n",
    "\n",
    "        \n",
    "        # normalize the data\n",
    "        # mmax = np.max(np.abs(data[:,istart:iend]))\n",
    "        mmax = np.std(np.abs(data[:,istart:iend]))\n",
    "        # store data in big index\n",
    "        x[index,:,:iend-istart] = data[:,istart:iend]/mmax\n",
    "        \n",
    "        if num_channels==1:\n",
    "            x2 = x[:,2,:]\n",
    "            del x\n",
    "            x = x2\n",
    "            \n",
    "    # remove rows with zeros if there are any\n",
    "    idx=np.where(np.mean(np.abs(x[:,2,0:10]),axis=-1)>0)[0]\n",
    "                     \n",
    "    \n",
    "    f.close()\n",
    "    return x[idx,:,:], event_ids[idx]\n"
   ]
  },
  {
   "cell_type": "code",
   "execution_count": 152,
   "id": "07d19086",
   "metadata": {},
   "outputs": [],
   "source": [
    "def train_model(model, train_loader, val_loader, test_loader, n_epochs=100,\n",
    "                 learning_rate=0.001,criterion=nn.CrossEntropyLoss(),\n",
    "                 augmentation=False,patience=10):\n",
    "    \"\"\"\n",
    "    Function to train and evaluate the defined model.\n",
    "\n",
    "    Parameters:\n",
    "        model (torch.nn.Module): The neural network model.\n",
    "        train_loader (torch.utils.data.DataLoader): DataLoader for training data.\n",
    "        val_loader (torch.utils.data.Dataset): Validation dataset.\n",
    "        test_loader (torch.utils.data.DataLoader): DataLoader for validation data.\n",
    "        optimizer (torch.optim.Optimizer): Optimizer for training the model.\n",
    "        n_epochs (int): Number of training epochs.\n",
    "        number_input (int): Number of points in the input data.\n",
    "        num_channels (int): Number of channels in the input data.\n",
    "\n",
    "    Returns:\n",
    "        accuracy_list (list): List of accuracies computed from each epoch.\n",
    "        train_loss_list (list): List of training losses from each epoch.\n",
    "        val_loss_list (list): List of validation losses from each epoch.\n",
    "        y_pred (list): List of predicted values.\n",
    "        y_true (list): List of true values.\n",
    "    \"\"\"\n",
    "\n",
    "    optimizer = torch.optim.Adam(model.parameters(), lr=learning_rate)\n",
    "\n",
    "    # # Save loss and error for plotting\n",
    "    loss_time = np.zeros(n_epochs)\n",
    "    val_loss_time = np.zeros(n_epochs)\n",
    "    val_accuracy_time = np.zeros(n_epochs)\n",
    "\n",
    "    best_val_loss = float('inf')\n",
    "    total = 0   # to store the total number of samples\n",
    "    correct = 0 # to store the number of correct predictions\n",
    "\n",
    "    for epoch in range(n_epochs):\n",
    "        running_loss = 0\n",
    "        model.train()\n",
    "        for data in train_loader:\n",
    "            inputs, labels = data[0].to(device), data[1].to(device)\n",
    "            inputs = inputs.float()\n",
    "\n",
    "            # Data augmentation.\n",
    "            if augmentation:\n",
    "                inoise = torch.where(labels.argmax(1)==0)[0] # this finds noise labels in the entire data\n",
    "                # we will add noise to the data randomly\n",
    "                for iibatch in range(inputs.shape[0]):\n",
    "                    if np.random.rand(1)>0.5:\n",
    "                        iik = inoise[torch.randperm(len(inoise))][0]\n",
    "                        noise = shuffle_phase_tensor(inputs[iik,:,:]).to(device)\n",
    "                        inputs[iibatch,:,:] = inputs[iibatch,:,:] + torch.rand(1).to(device)*noise/2\n",
    "            \n",
    "\n",
    "            # Set the parameter gradients to zero\n",
    "            optimizer.zero_grad()\n",
    "            outputs = model(inputs)\n",
    "            loss = criterion(outputs, labels)\n",
    "            # computing the gradients\n",
    "            loss.backward()\n",
    "\n",
    "            # updating the parameters\n",
    "            optimizer.step()\n",
    "\n",
    "            running_loss += loss.item()\n",
    "\n",
    "        # updating the training loss list\n",
    "        loss_time[epoch] = running_loss/len(train_loader)\n",
    "\n",
    "        # We evaluate the model, so we do not need the gradient\n",
    "        model.eval()\n",
    "        with torch.no_grad(): # Context-manager that disabled gradient calculation.\n",
    "            # Loop on samples in test set\n",
    "            total = 0\n",
    "            correct = 0\n",
    "            running_test_loss = 0\n",
    "            for data in val_loader:\n",
    "                inputs, labels = data[0].to(device), data[1].to(device)\n",
    "                inputs = inputs.float()\n",
    "                labels = labels.float()\n",
    "\n",
    "                outputs = model(inputs)\n",
    "                running_test_loss += criterion(outputs, labels).item()\n",
    "\n",
    "                correct += (outputs.argmax(1) == labels.argmax(1)).sum().item()\n",
    "                total += labels.size(0)\n",
    "\n",
    "    # Check for improvement\n",
    "            if running_test_loss/len(val_loader) < best_val_loss:\n",
    "                best_val_loss = running_test_loss/len(val_loader)\n",
    "                epochs_no_improve = 0\n",
    "                # Save the model if you want to keep the best one\n",
    "                torch.save(model.state_dict(), 'best_model.pth')\n",
    "            else:\n",
    "                epochs_no_improve += 1\n",
    "                # print(f'No improvement in validation loss for {epochs_no_improve} epochs.')\n",
    "\n",
    "            if epochs_no_improve == patience:\n",
    "                # print('Early stopping triggered.')\n",
    "                \n",
    "                break\n",
    "\n",
    "        \n",
    "        val_loss_time[epoch] = running_test_loss/len(val_loader)\n",
    "\n",
    "        val_accuracy_time[epoch]=100 * correct / total\n",
    "        # Print intermediate results on screen\n",
    "        if (epoch+1) % 10 == 0:\n",
    "            if val_loader is not None:\n",
    "                print('[Epoch %d] loss: %.3f - accuracy: %.3f' %\n",
    "                (epoch + 1, running_loss/len(train_loader), 100 * correct / total))\n",
    "            else:\n",
    "                print('[Epoch %d] loss: %.3f' %\n",
    "                (epoch + 1, running_loss/len(train_loader)))\n",
    "\n",
    "\n",
    "    # Optionally, load the best model saved\n",
    "    model.load_state_dict(torch.load('best_model.pth'))\n",
    "    # testing\n",
    "        # We evaluate the model, so we do not need the gradient\n",
    "    model.eval() \n",
    "    with torch.no_grad(): # Context-manager that disabled gradient calculation.\n",
    "        # Loop on samples in test set\n",
    "        total = 0\n",
    "        correct = 0\n",
    "        running_test_loss = 0\n",
    "        for data in test_loader:\n",
    "            inputs, labels = data[0].to(device), data[1].to(device)\n",
    "            inputs = inputs.float()\n",
    "            labels = labels.float()\n",
    "\n",
    "            outputs = model(inputs)\n",
    "            running_test_loss += criterion(outputs, labels).item()\n",
    "\n",
    "            correct += (outputs.argmax(1) == labels.argmax(1)).sum().item()\n",
    "            total += labels.size(0)\n",
    "\n",
    "\n",
    "        test_loss = running_test_loss/len(test_loader)\n",
    "        test_accuracy = 100 * correct / total  \n",
    "        print('test loss: %.3f and accuracy: %.3f' % ( test_loss,test_accuracy))\n",
    "\n",
    "   \n",
    "    return loss_time, val_loss_time, val_accuracy_time, test_loss,test_accuracy"
   ]
  },
  {
   "cell_type": "markdown",
   "id": "f7bbe0eb",
   "metadata": {},
   "source": [
    "## Select only high SNR data\n",
    "\n",
    "based on the SNR value in the Z component, then store the reduced panda dataframe for each class."
   ]
  },
  {
   "cell_type": "code",
   "execution_count": 153,
   "id": "6782a2d1",
   "metadata": {},
   "outputs": [],
   "source": [
    "# explosions\n",
    "trace_snr_db_values = np.array([float(cat_exp.loc[idx, 'trace_snr_db'].split(\"|\")[-1]) for idx in cat_exp.index.values.tolist()])\n",
    "ii2= np.where(trace_snr_db_values>SNR_THR)[0].astype(int) \n",
    "df_exp = cat_exp.iloc[ii2]\n",
    "\n",
    "# earthquake\n",
    "trace_snr_db_values = np.array([float(cat_eq.loc[idx, 'trace_snr_db'].split(\"|\")[-1]) for idx in cat_eq.index.values.tolist()])\n",
    "ii2= np.where(trace_snr_db_values>SNR_THR)[0].astype(int) \n",
    "df_eq = cat_eq.iloc[ii2]\n",
    "\n",
    "# surface events\n",
    "trace_snr_db_values = np.array([float(cat_su.loc[idx, 'trace_snr_db'].split(\"|\")[-1]) for idx in cat_su.index.values.tolist()])\n",
    "ii2= np.where(trace_snr_db_values>SNR_THR-2)[0].astype(int) \n",
    "df_su = cat_su.iloc[ii2]\n",
    "\n",
    "# noise\n",
    "# does not change\n",
    "df_noise = cat_noise"
   ]
  },
  {
   "cell_type": "code",
   "execution_count": 154,
   "id": "978df7a4",
   "metadata": {},
   "outputs": [
    {
     "data": {
      "text/html": [
       "<div>\n",
       "<style scoped>\n",
       "    .dataframe tbody tr th:only-of-type {\n",
       "        vertical-align: middle;\n",
       "    }\n",
       "\n",
       "    .dataframe tbody tr th {\n",
       "        vertical-align: top;\n",
       "    }\n",
       "\n",
       "    .dataframe thead th {\n",
       "        text-align: right;\n",
       "    }\n",
       "</style>\n",
       "<table border=\"1\" class=\"dataframe\">\n",
       "  <thead>\n",
       "    <tr style=\"text-align: right;\">\n",
       "      <th></th>\n",
       "      <th>source_type</th>\n",
       "      <th>station_network_code</th>\n",
       "      <th>station_channel_code</th>\n",
       "      <th>station_code</th>\n",
       "      <th>station_location_code</th>\n",
       "      <th>station_latitude_deg</th>\n",
       "      <th>station_longitude_deg</th>\n",
       "      <th>station_elevation_m</th>\n",
       "      <th>trace_name</th>\n",
       "      <th>trace_sampling_rate_hz</th>\n",
       "      <th>trace_start_time</th>\n",
       "      <th>event_id</th>\n",
       "    </tr>\n",
       "  </thead>\n",
       "  <tbody>\n",
       "    <tr>\n",
       "      <th>0</th>\n",
       "      <td>noise</td>\n",
       "      <td>UW</td>\n",
       "      <td>BH</td>\n",
       "      <td>TTW</td>\n",
       "      <td>--</td>\n",
       "      <td>47.694</td>\n",
       "      <td>-121.690</td>\n",
       "      <td>542.0</td>\n",
       "      <td>bucket1$0,:3,:15001</td>\n",
       "      <td>100</td>\n",
       "      <td>2002-09-21T00:50:20.960000Z</td>\n",
       "      <td>2002-09-21T00:50:20.960000Z_noise</td>\n",
       "    </tr>\n",
       "    <tr>\n",
       "      <th>1</th>\n",
       "      <td>noise</td>\n",
       "      <td>UW</td>\n",
       "      <td>HH</td>\n",
       "      <td>ERW</td>\n",
       "      <td>--</td>\n",
       "      <td>48.454</td>\n",
       "      <td>-122.626</td>\n",
       "      <td>387.0</td>\n",
       "      <td>bucket2$0,:3,:15001</td>\n",
       "      <td>100</td>\n",
       "      <td>2002-09-21T00:50:20.960000Z</td>\n",
       "      <td>2002-09-21T00:50:20.960000Z_noise</td>\n",
       "    </tr>\n",
       "    <tr>\n",
       "      <th>2</th>\n",
       "      <td>noise</td>\n",
       "      <td>UW</td>\n",
       "      <td>BH</td>\n",
       "      <td>GNW</td>\n",
       "      <td>--</td>\n",
       "      <td>47.564</td>\n",
       "      <td>-122.825</td>\n",
       "      <td>220.0</td>\n",
       "      <td>bucket3$0,:3,:15001</td>\n",
       "      <td>100</td>\n",
       "      <td>2002-09-21T00:50:20.960000Z</td>\n",
       "      <td>2002-09-21T00:50:20.960000Z_noise</td>\n",
       "    </tr>\n",
       "    <tr>\n",
       "      <th>3</th>\n",
       "      <td>noise</td>\n",
       "      <td>UW</td>\n",
       "      <td>BH</td>\n",
       "      <td>OPC</td>\n",
       "      <td>--</td>\n",
       "      <td>48.100</td>\n",
       "      <td>-123.413</td>\n",
       "      <td>90.0</td>\n",
       "      <td>bucket4$0,:3,:15001</td>\n",
       "      <td>100</td>\n",
       "      <td>2002-09-21T00:50:20.960000Z</td>\n",
       "      <td>2002-09-21T00:50:20.960000Z_noise</td>\n",
       "    </tr>\n",
       "    <tr>\n",
       "      <th>4</th>\n",
       "      <td>noise</td>\n",
       "      <td>UW</td>\n",
       "      <td>BH</td>\n",
       "      <td>GNW</td>\n",
       "      <td>--</td>\n",
       "      <td>47.564</td>\n",
       "      <td>-122.825</td>\n",
       "      <td>220.0</td>\n",
       "      <td>bucket5$0,:3,:15001</td>\n",
       "      <td>100</td>\n",
       "      <td>2002-09-13T14:54:54.050000Z</td>\n",
       "      <td>2002-09-13T14:54:54.050000Z_noise</td>\n",
       "    </tr>\n",
       "  </tbody>\n",
       "</table>\n",
       "</div>"
      ],
      "text/plain": [
       "  source_type station_network_code station_channel_code station_code  \\\n",
       "0       noise                   UW                   BH          TTW   \n",
       "1       noise                   UW                   HH          ERW   \n",
       "2       noise                   UW                   BH          GNW   \n",
       "3       noise                   UW                   BH          OPC   \n",
       "4       noise                   UW                   BH          GNW   \n",
       "\n",
       "  station_location_code  station_latitude_deg  station_longitude_deg  \\\n",
       "0                    --                47.694               -121.690   \n",
       "1                    --                48.454               -122.626   \n",
       "2                    --                47.564               -122.825   \n",
       "3                    --                48.100               -123.413   \n",
       "4                    --                47.564               -122.825   \n",
       "\n",
       "   station_elevation_m           trace_name  trace_sampling_rate_hz  \\\n",
       "0                542.0  bucket1$0,:3,:15001                     100   \n",
       "1                387.0  bucket2$0,:3,:15001                     100   \n",
       "2                220.0  bucket3$0,:3,:15001                     100   \n",
       "3                 90.0  bucket4$0,:3,:15001                     100   \n",
       "4                220.0  bucket5$0,:3,:15001                     100   \n",
       "\n",
       "              trace_start_time                           event_id  \n",
       "0  2002-09-21T00:50:20.960000Z  2002-09-21T00:50:20.960000Z_noise  \n",
       "1  2002-09-21T00:50:20.960000Z  2002-09-21T00:50:20.960000Z_noise  \n",
       "2  2002-09-21T00:50:20.960000Z  2002-09-21T00:50:20.960000Z_noise  \n",
       "3  2002-09-21T00:50:20.960000Z  2002-09-21T00:50:20.960000Z_noise  \n",
       "4  2002-09-13T14:54:54.050000Z  2002-09-13T14:54:54.050000Z_noise  "
      ]
     },
     "execution_count": 154,
     "metadata": {},
     "output_type": "execute_result"
    }
   ],
   "source": [
    "df_noise.head()"
   ]
  },
  {
   "cell_type": "code",
   "execution_count": 155,
   "id": "9e5599a6",
   "metadata": {},
   "outputs": [
    {
     "name": "stdout",
     "output_type": "stream",
     "text": [
      "(4961, 3, 6000)\n"
     ]
    }
   ],
   "source": [
    "# surface events\n",
    "d_su, id_su = extract_waveforms(df_su, file_exotic, input_window_length = input_window_length, fs=fs,\n",
    "                                start =start, number_data = number_data_per_class, num_channels = num_channels,\n",
    "                                shifting = shifting, all_data = all_data)\n",
    "print(d_su.shape)"
   ]
  },
  {
   "cell_type": "code",
   "execution_count": 156,
   "id": "83b102a9",
   "metadata": {},
   "outputs": [
    {
     "name": "stdout",
     "output_type": "stream",
     "text": [
      "(5000, 3, 6000)\n"
     ]
    }
   ],
   "source": [
    "# noise\n",
    "d_noise, id_noise = extract_waveforms(df_noise, file_noise, input_window_length = input_window_length, fs=fs,\n",
    "                                      start = start, number_data = number_data_per_class,\n",
    "                                      num_channels = num_channels, shifting = shifting, all_data = all_data)\n",
    "print(d_noise.shape)"
   ]
  },
  {
   "cell_type": "code",
   "execution_count": 157,
   "id": "46ee633d",
   "metadata": {},
   "outputs": [
    {
     "name": "stdout",
     "output_type": "stream",
     "text": [
      "(5000, 3, 6000)\n"
     ]
    }
   ],
   "source": [
    "# explosions\n",
    "d_exp, id_exp = extract_waveforms(df_exp, file_comcat, input_window_length = input_window_length, fs=fs,\n",
    "                                  start = start,  number_data = number_data_per_class, num_channels = num_channels,\n",
    "                                  shifting = shifting, all_data = all_data)\n",
    "\n",
    "print(d_exp.shape)"
   ]
  },
  {
   "cell_type": "code",
   "execution_count": 158,
   "id": "d5e4c4ce",
   "metadata": {},
   "outputs": [
    {
     "name": "stdout",
     "output_type": "stream",
     "text": [
      "(5000, 3, 6000)\n"
     ]
    }
   ],
   "source": [
    "# earthquakes\n",
    "d_eq, id_eq = extract_waveforms(df_eq, file_comcat, input_window_length = input_window_length,  fs=fs,\n",
    "                                start =start,  number_data = number_data_per_class, num_channels = num_channels,\n",
    "                                shifting = shifting, all_data = all_data)\n",
    "print(d_eq.shape)"
   ]
  },
  {
   "cell_type": "code",
   "execution_count": 159,
   "id": "e2444e2e",
   "metadata": {},
   "outputs": [],
   "source": [
    "# concatenate all data into one input\n",
    "X = np.vstack([d_noise, d_exp, d_eq, d_su])\n"
   ]
  },
  {
   "cell_type": "markdown",
   "id": "13419ec7",
   "metadata": {},
   "source": [
    "We also need to track other attributes.\n",
    "Prepare the event ID of each row of the data."
   ]
  },
  {
   "cell_type": "code",
   "execution_count": 160,
   "id": "19e6280f",
   "metadata": {},
   "outputs": [
    {
     "name": "stdout",
     "output_type": "stream",
     "text": [
      "['2022-12-08T02:07:38.460000Z_noise' '2019-08-09T07:00:45.660000Z_noise'\n",
      " '2020-09-15T22:09:41.430000Z_noise' ... 'pnsn965548' 'pnsn1802943'\n",
      " 'pnsn2155158']\n"
     ]
    }
   ],
   "source": [
    "idX = np.hstack([id_noise, id_exp, id_eq, id_su])\n",
    "print(idX)"
   ]
  },
  {
   "cell_type": "markdown",
   "id": "f20ef07b",
   "metadata": {},
   "source": [
    "## Prepare labels\n",
    "labels to encode: here we understand that the classes are labeled as integers \n",
    "\n",
    "* 0: noise\n",
    "* 1: explosion\n",
    "* 2: earthquake\n",
    "* 3: surface event"
   ]
  },
  {
   "cell_type": "code",
   "execution_count": 161,
   "id": "9a8c1bcd",
   "metadata": {},
   "outputs": [],
   "source": [
    "y = [0]*len(d_noise)+[1]*len(d_exp)+[2]*len(d_eq)+[3]*len(d_su)"
   ]
  },
  {
   "cell_type": "code",
   "execution_count": 162,
   "id": "d602695f",
   "metadata": {},
   "outputs": [
    {
     "data": {
      "text/html": [
       "<div>\n",
       "<style scoped>\n",
       "    .dataframe tbody tr th:only-of-type {\n",
       "        vertical-align: middle;\n",
       "    }\n",
       "\n",
       "    .dataframe tbody tr th {\n",
       "        vertical-align: top;\n",
       "    }\n",
       "\n",
       "    .dataframe thead th {\n",
       "        text-align: right;\n",
       "    }\n",
       "</style>\n",
       "<table border=\"1\" class=\"dataframe\">\n",
       "  <thead>\n",
       "    <tr style=\"text-align: right;\">\n",
       "      <th></th>\n",
       "      <th>id</th>\n",
       "      <th>label</th>\n",
       "    </tr>\n",
       "  </thead>\n",
       "  <tbody>\n",
       "    <tr>\n",
       "      <th>0</th>\n",
       "      <td>2022-12-08T02:07:38.460000Z_noise</td>\n",
       "      <td>0</td>\n",
       "    </tr>\n",
       "    <tr>\n",
       "      <th>1</th>\n",
       "      <td>2019-08-09T07:00:45.660000Z_noise</td>\n",
       "      <td>0</td>\n",
       "    </tr>\n",
       "    <tr>\n",
       "      <th>2</th>\n",
       "      <td>2020-09-15T22:09:41.430000Z_noise</td>\n",
       "      <td>0</td>\n",
       "    </tr>\n",
       "    <tr>\n",
       "      <th>3</th>\n",
       "      <td>2014-03-29T21:04:33.940000Z_noise</td>\n",
       "      <td>0</td>\n",
       "    </tr>\n",
       "    <tr>\n",
       "      <th>4</th>\n",
       "      <td>2013-06-05T07:10:21.000000Z_noise</td>\n",
       "      <td>0</td>\n",
       "    </tr>\n",
       "  </tbody>\n",
       "</table>\n",
       "</div>"
      ],
      "text/plain": [
       "                                  id  label\n",
       "0  2022-12-08T02:07:38.460000Z_noise      0\n",
       "1  2019-08-09T07:00:45.660000Z_noise      0\n",
       "2  2020-09-15T22:09:41.430000Z_noise      0\n",
       "3  2014-03-29T21:04:33.940000Z_noise      0\n",
       "4  2013-06-05T07:10:21.000000Z_noise      0"
      ]
     },
     "execution_count": 162,
     "metadata": {},
     "output_type": "execute_result"
    }
   ],
   "source": [
    "# make a data frame of the data attributes\n",
    "df_data = pd.DataFrame({'id':idX,'label':y})\n",
    "df_data.head()"
   ]
  },
  {
   "cell_type": "markdown",
   "id": "566c62a6",
   "metadata": {},
   "source": []
  },
  {
   "cell_type": "markdown",
   "id": "afc78577",
   "metadata": {},
   "source": [
    "## Shuffle and split data"
   ]
  },
  {
   "cell_type": "code",
   "execution_count": 201,
   "id": "b0ef0427",
   "metadata": {},
   "outputs": [
    {
     "name": "stdout",
     "output_type": "stream",
     "text": [
      "109 31 15\n"
     ]
    }
   ],
   "source": [
    "# Make the data a PNWDataSet\n",
    "custom_dataset = PNWDataSet(X,y,4)\n",
    "# first split train+val\n",
    "# Determine the size of the training set\n",
    "train_size = int(train_split/100 * len(custom_dataset)) # 80% of the data set\n",
    "val_size = int(val_split/100 * len(custom_dataset)) # 10% of the data set\n",
    "test_size = len(custom_dataset) - train_size - val_size # the rest is test\n",
    "train_dataset, val_dataset = random_split(custom_dataset, [train_size, test_size+val_size])\n",
    "# then split val into val+test\n",
    "test_dataset, val_dataset = random_split(val_dataset, [test_size,val_size])\n",
    "\n",
    "train_loader = DataLoader(train_dataset, batch_size=batch_size, shuffle=True,drop_last=True)\n",
    "val_loader = DataLoader(val_dataset, batch_size=batch_size, shuffle=True,drop_last=True)\n",
    "test_loader = DataLoader(test_dataset, batch_size=batch_size, shuffle=True,drop_last=True)\n",
    "print(len(train_loader),len(val_loader),len(test_loader))"
   ]
  },
  {
   "cell_type": "markdown",
   "id": "8f460ef4",
   "metadata": {},
   "source": [
    "## Training and Testing all the models"
   ]
  },
  {
   "cell_type": "markdown",
   "id": "acfb24ba",
   "metadata": {},
   "source": [
    "#### My CNN  augmentation"
   ]
  },
  {
   "cell_type": "code",
   "execution_count": 164,
   "id": "17160001",
   "metadata": {},
   "outputs": [
    {
     "name": "stdout",
     "output_type": "stream",
     "text": [
      "[Epoch 10] loss: 0.253 - accuracy: 85.232\n",
      "[Epoch 20] loss: 0.136 - accuracy: 88.735\n",
      "[Epoch 30] loss: 0.078 - accuracy: 90.978\n",
      "test loss: 0.246 and accuracy: 91.823\n"
     ]
    }
   ],
   "source": [
    "model2 = MyCNN(num_classes=4, num_channels=num_channels,dropout_rate=dropout).to(device)  # Use 'cuda' if you have a GPU available\n",
    "(loss_time, val_loss_time, val_accuracy_time,test_loss,test_accuracy) = train_model(\n",
    "        model2,train_loader,val_loader,test_loader,\n",
    "        n_epochs=n_epochs,learning_rate=learning_rate,criterion=criterion,\n",
    "        augmentation=False)"
   ]
  },
  {
   "cell_type": "code",
   "execution_count": 165,
   "id": "36778f43",
   "metadata": {},
   "outputs": [
    {
     "data": {
      "image/png": "[encoded data removed]",
      "text/plain": [
       "<Figure size 800x550 with 2 Axes>"
      ]
     },
     "metadata": {},
     "output_type": "display_data"
    },
    {
     "data": {
      "text/plain": [
       "<Figure size 800x550 with 0 Axes>"
      ]
     },
     "metadata": {},
     "output_type": "display_data"
    }
   ],
   "source": [
    "NN = np.count_nonzero(loss_time)\n",
    "fig, ax1 = plt.subplots()\n",
    "ax1.set_xlabel('Epoch')\n",
    "ax1.set_ylabel('Training Loss')\n",
    "ax1.plot(np.arange(1, NN+1), loss_time[:NN], color='tab:red')\n",
    "ax1.plot(np.arange(1, NN+1), val_loss_time[:NN], color='tab:blue')\n",
    "ax1.plot(NN+1, test_loss, 'p', color='tab:blue')\n",
    "# ax1.tick_params(axis='y', labelcolor='tab:blue')\n",
    "ax2 = ax1.twinx()\n",
    "ax2.set_ylabel('Accuracy', color='tab:green')\n",
    "ax2.plot(np.arange(1, NN+1), val_accuracy_time[:NN], color='tab:green')\n",
    "ax2.plot(NN+1, test_accuracy, 's', color='tab:green')\n",
    "ax2.tick_params(axis='y', labelcolor='tab:green')\n",
    "plt.title(\"Training and Validation Loss and Accuracy on MyCNN 60s shallow\")\n",
    "fig.tight_layout()\n",
    "plt.show()\n",
    "plt.savefig(\"mycnn_60s_shallow.png\")"
   ]
  },
  {
   "cell_type": "code",
   "execution_count": 217,
   "id": "21d1b683",
   "metadata": {},
   "outputs": [
    {
     "name": "stderr",
     "output_type": "stream",
     "text": [
      "/tmp/ipykernel_443028/408397615.py:27: UserWarning: Implicit dimension choice for softmax has been deprecated. Change the call to include dim=X as an argument.\n",
      "  outputs = F.softmax(model2(inputs))\n"
     ]
    },
    {
     "data": {
      "image/png": "[encoded data removed]",
      "text/plain": [
       "<Figure size 800x550 with 2 Axes>"
      ]
     },
     "metadata": {},
     "output_type": "display_data"
    },
    {
     "data": {
      "text/html": [
       "<div>\n",
       "<style scoped>\n",
       "    .dataframe tbody tr th:only-of-type {\n",
       "        vertical-align: middle;\n",
       "    }\n",
       "\n",
       "    .dataframe tbody tr th {\n",
       "        vertical-align: top;\n",
       "    }\n",
       "\n",
       "    .dataframe thead th {\n",
       "        text-align: right;\n",
       "    }\n",
       "</style>\n",
       "<table border=\"1\" class=\"dataframe\">\n",
       "  <thead>\n",
       "    <tr style=\"text-align: right;\">\n",
       "      <th></th>\n",
       "      <th>id</th>\n",
       "      <th>label</th>\n",
       "      <th>pred</th>\n",
       "      <th>prob_noise</th>\n",
       "      <th>prob_exp</th>\n",
       "      <th>prob_eq</th>\n",
       "      <th>prob_su</th>\n",
       "    </tr>\n",
       "  </thead>\n",
       "  <tbody>\n",
       "    <tr>\n",
       "      <th>0</th>\n",
       "      <td>uw60449527</td>\n",
       "      <td>2</td>\n",
       "      <td>2</td>\n",
       "      <td>0.001047</td>\n",
       "      <td>0.000450</td>\n",
       "      <td>0.981455</td>\n",
       "      <td>0.017048</td>\n",
       "    </tr>\n",
       "    <tr>\n",
       "      <th>1</th>\n",
       "      <td>uw10808858</td>\n",
       "      <td>1</td>\n",
       "      <td>1</td>\n",
       "      <td>0.004577</td>\n",
       "      <td>0.986246</td>\n",
       "      <td>0.008158</td>\n",
       "      <td>0.001019</td>\n",
       "    </tr>\n",
       "    <tr>\n",
       "      <th>2</th>\n",
       "      <td>pnsn859408</td>\n",
       "      <td>3</td>\n",
       "      <td>3</td>\n",
       "      <td>0.000549</td>\n",
       "      <td>0.000147</td>\n",
       "      <td>0.003894</td>\n",
       "      <td>0.995410</td>\n",
       "    </tr>\n",
       "    <tr>\n",
       "      <th>3</th>\n",
       "      <td>2022-01-14T03:19:31.930000Z_noise</td>\n",
       "      <td>0</td>\n",
       "      <td>0</td>\n",
       "      <td>0.989296</td>\n",
       "      <td>0.001472</td>\n",
       "      <td>0.006027</td>\n",
       "      <td>0.003205</td>\n",
       "    </tr>\n",
       "    <tr>\n",
       "      <th>4</th>\n",
       "      <td>uw60733661</td>\n",
       "      <td>1</td>\n",
       "      <td>1</td>\n",
       "      <td>0.004175</td>\n",
       "      <td>0.973325</td>\n",
       "      <td>0.004171</td>\n",
       "      <td>0.018330</td>\n",
       "    </tr>\n",
       "  </tbody>\n",
       "</table>\n",
       "</div>"
      ],
      "text/plain": [
       "                                  id  label  pred  prob_noise  prob_exp  \\\n",
       "0                         uw60449527      2     2    0.001047  0.000450   \n",
       "1                         uw10808858      1     1    0.004577  0.986246   \n",
       "2                         pnsn859408      3     3    0.000549  0.000147   \n",
       "3  2022-01-14T03:19:31.930000Z_noise      0     0    0.989296  0.001472   \n",
       "4                         uw60733661      1     1    0.004175  0.973325   \n",
       "\n",
       "    prob_eq   prob_su  \n",
       "0  0.981455  0.017048  \n",
       "1  0.008158  0.001019  \n",
       "2  0.003894  0.995410  \n",
       "3  0.006027  0.003205  \n",
       "4  0.004171  0.018330  "
      ]
     },
     "execution_count": 217,
     "metadata": {},
     "output_type": "execute_result"
    }
   ],
   "source": [
    "# performance evaluation\n",
    "\n",
    "classes = ['noise', 'explosion','earthquake','surface']\n",
    "\n",
    "from sklearn.metrics import confusion_matrix\n",
    "import seaborn as sns\n",
    "\n",
    "plt.style.use('seaborn')\n",
    "\n",
    "with torch.no_grad(): # Context-manager that disabled gradient calculation.\n",
    "    # Loop on samples in test set\n",
    "    total = 0\n",
    "    correct = 0\n",
    "    running_test_loss = 0\n",
    "    y_pred=np.zeros(len(test_loader)*batch_size)\n",
    "    y_test=np.zeros(len(test_loader)*batch_size)\n",
    "    y_pred_proba = np.zeros((len(test_loader)*batch_size,4))\n",
    "    the_ID=[]\n",
    "    for i,data in enumerate(test_loader):\n",
    "        index,inputs, labels = data[0],data[1].to(device), data[2].to(device)\n",
    "        index = index.int().cpu().numpy()\n",
    "        inputs = inputs.float()\n",
    "        labels = labels.float()\n",
    "        for ii in range(batch_size):\n",
    "            the_ID.append(idX[index[ii]])\n",
    "        #     print(idX[index[ii]],labels[ii,:])\n",
    "        outputs = F.softmax(model2(inputs))\n",
    "        y_pred[i*batch_size:(i+1)*batch_size]=outputs.argmax(1).cpu().numpy()\n",
    "        y_pred_proba[i*batch_size:(i+1)*batch_size,:]=outputs.cpu().numpy() # store all probabilities\n",
    "        y_test[i*batch_size:(i+1)*batch_size]=labels.argmax(1).cpu().numpy()\n",
    "    \n",
    "    cm = confusion_matrix(y_test, y_pred)\n",
    "    sns.heatmap(cm, annot=True, cmap='Blues', fmt='d', xticklabels = classes, yticklabels = classes)\n",
    "    plt.xlabel('Predicted', fontsize = 15)\n",
    "    plt.ylabel('Actual', fontsize = 15)\n",
    "    plt.title('CM 60s test data', fontsize = 20)\n",
    "    plt.savefig(\"confusion_matrix_mycnn_60s_shallow.png\")\n",
    "    plt.show()\n",
    "\n",
    "\n",
    "# save the probabilities, IDs and labels into a dataframe for test data\n",
    "df_test = pd.DataFrame({'id':the_ID,'label':y_test,'pred':y_pred,'prob_noise':y_pred_proba[:,0],'prob_exp':y_pred_proba[:,1],'prob_eq':y_pred_proba[:,2],'prob_su':y_pred_proba[:,3]})\n",
    "# make sure that labels and predictions are integer\n",
    "df_test['label'] = df_test['label'].astype(int)\n",
    "df_test['pred'] = df_test['pred'].astype(int)\n",
    "df_test.head()"
   ]
  },
  {
   "cell_type": "code",
   "execution_count": 222,
   "id": "6c4b4a06",
   "metadata": {},
   "outputs": [
    {
     "data": {
      "text/html": [
       "<div>\n",
       "<style scoped>\n",
       "    .dataframe tbody tr th:only-of-type {\n",
       "        vertical-align: middle;\n",
       "    }\n",
       "\n",
       "    .dataframe tbody tr th {\n",
       "        vertical-align: top;\n",
       "    }\n",
       "\n",
       "    .dataframe thead th {\n",
       "        text-align: right;\n",
       "    }\n",
       "</style>\n",
       "<table border=\"1\" class=\"dataframe\">\n",
       "  <thead>\n",
       "    <tr style=\"text-align: right;\">\n",
       "      <th></th>\n",
       "      <th>id</th>\n",
       "      <th>label</th>\n",
       "      <th>pred</th>\n",
       "      <th>prob_noise</th>\n",
       "      <th>prob_exp</th>\n",
       "      <th>prob_eq</th>\n",
       "      <th>prob_su</th>\n",
       "      <th>mean_noise</th>\n",
       "      <th>mean_exp</th>\n",
       "      <th>mean_eq</th>\n",
       "      <th>mean_su</th>\n",
       "      <th>pred_mean</th>\n",
       "      <th>event_pred</th>\n",
       "      <th>station_pred</th>\n",
       "    </tr>\n",
       "  </thead>\n",
       "  <tbody>\n",
       "    <tr>\n",
       "      <th>0</th>\n",
       "      <td>uw60449527</td>\n",
       "      <td>2</td>\n",
       "      <td>2</td>\n",
       "      <td>0.001047</td>\n",
       "      <td>0.000450</td>\n",
       "      <td>0.981455</td>\n",
       "      <td>0.017048</td>\n",
       "      <td>0.001047</td>\n",
       "      <td>0.000450</td>\n",
       "      <td>0.981455</td>\n",
       "      <td>0.017048</td>\n",
       "      <td>mean_eq</td>\n",
       "      <td>2</td>\n",
       "      <td>prob_eq</td>\n",
       "    </tr>\n",
       "    <tr>\n",
       "      <th>1</th>\n",
       "      <td>uw10808858</td>\n",
       "      <td>1</td>\n",
       "      <td>1</td>\n",
       "      <td>0.004577</td>\n",
       "      <td>0.986246</td>\n",
       "      <td>0.008158</td>\n",
       "      <td>0.001019</td>\n",
       "      <td>0.004577</td>\n",
       "      <td>0.986246</td>\n",
       "      <td>0.008158</td>\n",
       "      <td>0.001019</td>\n",
       "      <td>mean_exp</td>\n",
       "      <td>1</td>\n",
       "      <td>prob_exp</td>\n",
       "    </tr>\n",
       "    <tr>\n",
       "      <th>2</th>\n",
       "      <td>pnsn859408</td>\n",
       "      <td>3</td>\n",
       "      <td>3</td>\n",
       "      <td>0.000549</td>\n",
       "      <td>0.000147</td>\n",
       "      <td>0.003894</td>\n",
       "      <td>0.995410</td>\n",
       "      <td>0.000549</td>\n",
       "      <td>0.000147</td>\n",
       "      <td>0.003894</td>\n",
       "      <td>0.995410</td>\n",
       "      <td>mean_su</td>\n",
       "      <td>3</td>\n",
       "      <td>prob_su</td>\n",
       "    </tr>\n",
       "    <tr>\n",
       "      <th>3</th>\n",
       "      <td>2022-01-14T03:19:31.930000Z_noise</td>\n",
       "      <td>0</td>\n",
       "      <td>0</td>\n",
       "      <td>0.989296</td>\n",
       "      <td>0.001472</td>\n",
       "      <td>0.006027</td>\n",
       "      <td>0.003205</td>\n",
       "      <td>0.989296</td>\n",
       "      <td>0.001472</td>\n",
       "      <td>0.006027</td>\n",
       "      <td>0.003205</td>\n",
       "      <td>mean_noise</td>\n",
       "      <td>0</td>\n",
       "      <td>prob_noise</td>\n",
       "    </tr>\n",
       "    <tr>\n",
       "      <th>4</th>\n",
       "      <td>uw60733661</td>\n",
       "      <td>1</td>\n",
       "      <td>1</td>\n",
       "      <td>0.004175</td>\n",
       "      <td>0.973325</td>\n",
       "      <td>0.004171</td>\n",
       "      <td>0.018330</td>\n",
       "      <td>0.004030</td>\n",
       "      <td>0.981139</td>\n",
       "      <td>0.002559</td>\n",
       "      <td>0.012272</td>\n",
       "      <td>mean_exp</td>\n",
       "      <td>1</td>\n",
       "      <td>prob_exp</td>\n",
       "    </tr>\n",
       "  </tbody>\n",
       "</table>\n",
       "</div>"
      ],
      "text/plain": [
       "                                  id  label  pred  prob_noise  prob_exp  \\\n",
       "0                         uw60449527      2     2    0.001047  0.000450   \n",
       "1                         uw10808858      1     1    0.004577  0.986246   \n",
       "2                         pnsn859408      3     3    0.000549  0.000147   \n",
       "3  2022-01-14T03:19:31.930000Z_noise      0     0    0.989296  0.001472   \n",
       "4                         uw60733661      1     1    0.004175  0.973325   \n",
       "\n",
       "    prob_eq   prob_su  mean_noise  mean_exp   mean_eq   mean_su   pred_mean  \\\n",
       "0  0.981455  0.017048    0.001047  0.000450  0.981455  0.017048     mean_eq   \n",
       "1  0.008158  0.001019    0.004577  0.986246  0.008158  0.001019    mean_exp   \n",
       "2  0.003894  0.995410    0.000549  0.000147  0.003894  0.995410     mean_su   \n",
       "3  0.006027  0.003205    0.989296  0.001472  0.006027  0.003205  mean_noise   \n",
       "4  0.004171  0.018330    0.004030  0.981139  0.002559  0.012272    mean_exp   \n",
       "\n",
       "   event_pred station_pred  \n",
       "0           2      prob_eq  \n",
       "1           1     prob_exp  \n",
       "2           3      prob_su  \n",
       "3           0   prob_noise  \n",
       "4           1     prob_exp  "
      ]
     },
     "execution_count": 222,
     "metadata": {},
     "output_type": "execute_result"
    }
   ],
   "source": [
    "# now add an attribute to the data frame that takes the mean of each class, then the class of maximum mean for each group of rows that have the same id\n",
    "df_test['mean_noise'] = df_test.groupby('id')['prob_noise'].transform('mean')\n",
    "df_test['mean_exp'] = df_test.groupby('id')['prob_exp'].transform('mean')\n",
    "df_test['mean_eq'] = df_test.groupby('id')['prob_eq'].transform('mean')\n",
    "df_test['mean_su'] = df_test.groupby('id')['prob_su'].transform('mean')\n",
    "# then take the class of maximum mean but predict the index of the class\n",
    "df_test['event_pred'] = df_test[['mean_noise','mean_exp','mean_eq','mean_su']].idxmax(axis=1)\n",
    "# but then convert if event_pred is the mean_noise, output 0, if event_pred is mean_exp, output 1, if event_pred is mean_eq, output 2, if event_pred is mean_su, output 3\n",
    "df_test['event_pred'] = df_test['event_pred'].apply(lambda x: 0 if x=='mean_noise' else 1 if x=='mean_exp' else 2 if x=='mean_eq' else 3)\n",
    "df_test.head()\n"
   ]
  },
  {
   "cell_type": "code",
   "execution_count": 224,
   "id": "fbf0c0ef",
   "metadata": {},
   "outputs": [
    {
     "data": {
      "image/png": "[encoded data removed]",
      "text/plain": [
       "<Figure size 800x550 with 2 Axes>"
      ]
     },
     "metadata": {},
     "output_type": "display_data"
    }
   ],
   "source": [
    "# now let's compare the performance of the model with the mean of the probabilities between label and event_pred\n",
    "cm = confusion_matrix(df_test['label'], df_test['event_pred'])\n",
    "sns.heatmap(cm, annot=True, cmap='Blues', fmt='d', xticklabels = classes, yticklabels = classes)\n",
    "plt.xlabel('Predicted', fontsize = 15)\n",
    "plt.ylabel('Actual', fontsize = 15)\n",
    "plt.title('CM 60s test data - Event wise', fontsize = 20)\n",
    "plt.savefig(\"confusion_matrix_mycnn_60s_shallow_event_wise.png\")\n",
    "plt.show()\n"
   ]
  },
  {
   "cell_type": "code",
   "execution_count": 199,
   "id": "0520e89c",
   "metadata": {},
   "outputs": [
    {
     "data": {
      "text/plain": [
       "array([3., 2., 1., ..., 3., 3., 0.])"
      ]
     },
     "execution_count": 199,
     "metadata": {},
     "output_type": "execute_result"
    }
   ],
   "source": [
    "# Calculate the classification report\n",
    "from sklearn.metrics import classification_report\n",
    "report = classification_report(y_test, y_pred, output_dict=True)\n",
    "\n",
    "# Set a pleasing style\n",
    "sns.set_style(\"whitegrid\")\n",
    "\n",
    "# Create a figure and axes for the heatmap\n",
    "plt.figure()\n",
    "ax = sns.heatmap(pd.DataFrame(report).iloc[:3, :4], annot=True, cmap='Blues', xticklabels=classes, vmin=0.5, vmax=1)\n",
    "\n",
    "# Set labels and title\n",
    "ax.set_xlabel('Metrics', fontsize=15)\n",
    "ax.set_ylabel('Classes', fontsize=15)\n",
    "ax.set_title('Classification Report shallow 60s', fontsize=18)\n",
    "\n",
    "# Create a colorbar\n",
    "#cbar = ax.collections[0].colorbar\n",
    "#cbar.set_ticks([0.5, 1])  # Set custom tick locations\n",
    "#cbar.set_ticklabels(['0', '0.5', '1'])  # Set custom tick labels\n",
    "\n",
    "# Adjust layout\n",
    "plt.tight_layout()\n",
    "plt.savefig(\"classification_report_mycnn_60s_shallow_event_wise.png\")\n",
    "\n",
    "# Show the plot\n",
    "plt.show()\n"
   ]
  },
  {
   "cell_type": "code",
   "execution_count": null,
   "id": "1bcd2a57",
   "metadata": {},
   "outputs": [],
   "source": []
  },
  {
   "cell_type": "code",
   "execution_count": 197,
   "id": "95a4711e",
   "metadata": {},
   "outputs": [
    {
     "data": {
      "text/html": [
       "<div>\n",
       "<style scoped>\n",
       "    .dataframe tbody tr th:only-of-type {\n",
       "        vertical-align: middle;\n",
       "    }\n",
       "\n",
       "    .dataframe tbody tr th {\n",
       "        vertical-align: top;\n",
       "    }\n",
       "\n",
       "    .dataframe thead th {\n",
       "        text-align: right;\n",
       "    }\n",
       "</style>\n",
       "<table border=\"1\" class=\"dataframe\">\n",
       "  <thead>\n",
       "    <tr style=\"text-align: right;\">\n",
       "      <th></th>\n",
       "      <th>id</th>\n",
       "      <th>label</th>\n",
       "      <th>pred</th>\n",
       "      <th>prob_noise</th>\n",
       "      <th>prob_exp</th>\n",
       "      <th>prob_eq</th>\n",
       "      <th>prob_su</th>\n",
       "    </tr>\n",
       "  </thead>\n",
       "  <tbody>\n",
       "    <tr>\n",
       "      <th>0</th>\n",
       "      <td>2017-05-13T13:38:02.180000Z_noise</td>\n",
       "      <td>3</td>\n",
       "      <td>3</td>\n",
       "      <td>0.051287</td>\n",
       "      <td>0.001442</td>\n",
       "      <td>0.004000</td>\n",
       "      <td>0.943271</td>\n",
       "    </tr>\n",
       "    <tr>\n",
       "      <th>1</th>\n",
       "      <td>2019-06-10T16:05:37.700000Z_noise</td>\n",
       "      <td>2</td>\n",
       "      <td>2</td>\n",
       "      <td>0.008051</td>\n",
       "      <td>0.000750</td>\n",
       "      <td>0.863246</td>\n",
       "      <td>0.127954</td>\n",
       "    </tr>\n",
       "    <tr>\n",
       "      <th>2</th>\n",
       "      <td>2011-03-23T10:28:59.750000Z_noise</td>\n",
       "      <td>1</td>\n",
       "      <td>1</td>\n",
       "      <td>0.079938</td>\n",
       "      <td>0.914189</td>\n",
       "      <td>0.002599</td>\n",
       "      <td>0.003275</td>\n",
       "    </tr>\n",
       "    <tr>\n",
       "      <th>3</th>\n",
       "      <td>2013-07-09T17:06:25.460000Z_noise</td>\n",
       "      <td>0</td>\n",
       "      <td>0</td>\n",
       "      <td>0.991434</td>\n",
       "      <td>0.004503</td>\n",
       "      <td>0.001661</td>\n",
       "      <td>0.002402</td>\n",
       "    </tr>\n",
       "    <tr>\n",
       "      <th>4</th>\n",
       "      <td>2014-05-09T15:42:50.080000Z_noise</td>\n",
       "      <td>1</td>\n",
       "      <td>1</td>\n",
       "      <td>0.001216</td>\n",
       "      <td>0.993904</td>\n",
       "      <td>0.004371</td>\n",
       "      <td>0.000509</td>\n",
       "    </tr>\n",
       "  </tbody>\n",
       "</table>\n",
       "</div>"
      ],
      "text/plain": [
       "                                  id  label  pred  prob_noise  prob_exp  \\\n",
       "0  2017-05-13T13:38:02.180000Z_noise      3     3    0.051287  0.001442   \n",
       "1  2019-06-10T16:05:37.700000Z_noise      2     2    0.008051  0.000750   \n",
       "2  2011-03-23T10:28:59.750000Z_noise      1     1    0.079938  0.914189   \n",
       "3  2013-07-09T17:06:25.460000Z_noise      0     0    0.991434  0.004503   \n",
       "4  2014-05-09T15:42:50.080000Z_noise      1     1    0.001216  0.993904   \n",
       "\n",
       "    prob_eq   prob_su  \n",
       "0  0.004000  0.943271  \n",
       "1  0.863246  0.127954  \n",
       "2  0.002599  0.003275  \n",
       "3  0.001661  0.002402  \n",
       "4  0.004371  0.000509  "
      ]
     },
     "execution_count": 197,
     "metadata": {},
     "output_type": "execute_result"
    }
   ],
   "source": [
    "df_test.head()"
   ]
  },
  {
   "cell_type": "code",
   "execution_count": 194,
   "id": "fc02c612",
   "metadata": {},
   "outputs": [],
   "source": [
    "# now we group by the id, take the mean probabilities of each attribute prob_noise, prob_exp, prob_eq,prob_su, and take the maximum probability\n",
    "df_test_grouped = df_test.groupby('id').agg({'label':'mean','pred':'mean','prob_noise':'mean','prob_exp':'mean','prob_eq':'mean','prob_su':'mean'}).reset_index()"
   ]
  },
  {
   "cell_type": "code",
   "execution_count": 195,
   "id": "44def115",
   "metadata": {},
   "outputs": [
    {
     "data": {
      "text/html": [
       "<div>\n",
       "<style scoped>\n",
       "    .dataframe tbody tr th:only-of-type {\n",
       "        vertical-align: middle;\n",
       "    }\n",
       "\n",
       "    .dataframe tbody tr th {\n",
       "        vertical-align: top;\n",
       "    }\n",
       "\n",
       "    .dataframe thead th {\n",
       "        text-align: right;\n",
       "    }\n",
       "</style>\n",
       "<table border=\"1\" class=\"dataframe\">\n",
       "  <thead>\n",
       "    <tr style=\"text-align: right;\">\n",
       "      <th></th>\n",
       "      <th>id</th>\n",
       "      <th>label</th>\n",
       "      <th>pred</th>\n",
       "      <th>prob_noise</th>\n",
       "      <th>prob_exp</th>\n",
       "      <th>prob_eq</th>\n",
       "      <th>prob_su</th>\n",
       "    </tr>\n",
       "  </thead>\n",
       "  <tbody>\n",
       "    <tr>\n",
       "      <th>0</th>\n",
       "      <td>2002-01-30T04:08:13.470000Z_noise</td>\n",
       "      <td>0.0</td>\n",
       "      <td>0.0</td>\n",
       "      <td>0.995444</td>\n",
       "      <td>0.001856</td>\n",
       "      <td>0.000795</td>\n",
       "      <td>0.001905</td>\n",
       "    </tr>\n",
       "    <tr>\n",
       "      <th>1</th>\n",
       "      <td>2002-03-08T04:14:40.960000Z_noise</td>\n",
       "      <td>3.0</td>\n",
       "      <td>3.0</td>\n",
       "      <td>0.003683</td>\n",
       "      <td>0.000782</td>\n",
       "      <td>0.000277</td>\n",
       "      <td>0.995258</td>\n",
       "    </tr>\n",
       "    <tr>\n",
       "      <th>2</th>\n",
       "      <td>2002-03-23T22:17:24.710000Z_noise</td>\n",
       "      <td>2.0</td>\n",
       "      <td>2.0</td>\n",
       "      <td>0.001822</td>\n",
       "      <td>0.001501</td>\n",
       "      <td>0.993571</td>\n",
       "      <td>0.003106</td>\n",
       "    </tr>\n",
       "    <tr>\n",
       "      <th>3</th>\n",
       "      <td>2002-04-16T10:26:24.240000Z_noise</td>\n",
       "      <td>0.0</td>\n",
       "      <td>0.0</td>\n",
       "      <td>0.986197</td>\n",
       "      <td>0.005502</td>\n",
       "      <td>0.002677</td>\n",
       "      <td>0.005623</td>\n",
       "    </tr>\n",
       "    <tr>\n",
       "      <th>4</th>\n",
       "      <td>2002-04-16T13:33:57.850000Z_noise</td>\n",
       "      <td>3.0</td>\n",
       "      <td>3.0</td>\n",
       "      <td>0.000341</td>\n",
       "      <td>0.000254</td>\n",
       "      <td>0.000026</td>\n",
       "      <td>0.999379</td>\n",
       "    </tr>\n",
       "  </tbody>\n",
       "</table>\n",
       "</div>"
      ],
      "text/plain": [
       "                                  id  label  pred  prob_noise  prob_exp  \\\n",
       "0  2002-01-30T04:08:13.470000Z_noise    0.0   0.0    0.995444  0.001856   \n",
       "1  2002-03-08T04:14:40.960000Z_noise    3.0   3.0    0.003683  0.000782   \n",
       "2  2002-03-23T22:17:24.710000Z_noise    2.0   2.0    0.001822  0.001501   \n",
       "3  2002-04-16T10:26:24.240000Z_noise    0.0   0.0    0.986197  0.005502   \n",
       "4  2002-04-16T13:33:57.850000Z_noise    3.0   3.0    0.000341  0.000254   \n",
       "\n",
       "    prob_eq   prob_su  \n",
       "0  0.000795  0.001905  \n",
       "1  0.000277  0.995258  \n",
       "2  0.993571  0.003106  \n",
       "3  0.002677  0.005623  \n",
       "4  0.000026  0.999379  "
      ]
     },
     "execution_count": 195,
     "metadata": {},
     "output_type": "execute_result"
    }
   ],
   "source": [
    "df_test_grouped.head()"
   ]
  },
  {
   "cell_type": "code",
   "execution_count": 167,
   "id": "0b24ead0",
   "metadata": {},
   "outputs": [
    {
     "data": {
      "image/png": "[encoded data removed]",
      "text/plain": [
       "<Figure size 800x550 with 2 Axes>"
      ]
     },
     "metadata": {},
     "output_type": "display_data"
    }
   ],
   "source": [
    "# Calculate the classification report\n",
    "from sklearn.metrics import classification_report\n",
    "report = classification_report(y_test, y_pred, output_dict=True)\n",
    "\n",
    "# Set a pleasing style\n",
    "sns.set_style(\"whitegrid\")\n",
    "\n",
    "# Create a figure and axes for the heatmap\n",
    "plt.figure()\n",
    "ax = sns.heatmap(pd.DataFrame(report).iloc[:3, :4], annot=True, cmap='Blues', xticklabels=classes, vmin=0.5, vmax=1)\n",
    "\n",
    "# Set labels and title\n",
    "ax.set_xlabel('Metrics', fontsize=15)\n",
    "ax.set_ylabel('Classes', fontsize=15)\n",
    "ax.set_title('Classification Report shallow 60s', fontsize=18)\n",
    "\n",
    "# Create a colorbar\n",
    "#cbar = ax.collections[0].colorbar\n",
    "#cbar.set_ticks([0.5, 1])  # Set custom tick locations\n",
    "#cbar.set_ticklabels(['0', '0.5', '1'])  # Set custom tick labels\n",
    "\n",
    "# Adjust layout\n",
    "plt.tight_layout()\n",
    "plt.savefig(\"classification_report_mycnn_60s_shallow.png\")\n",
    "\n",
    "# Show the plot\n",
    "plt.show()\n"
   ]
  },
  {
   "cell_type": "code",
   "execution_count": 168,
   "id": "8e3947a8",
   "metadata": {},
   "outputs": [],
   "source": [
    "# model3 = MyCNN2(num_classes=4, num_channels=num_channels,dropout_rate=dropout).to(device)  # Use 'cuda' if you have a GPU available\n",
    "# (loss_time, val_loss_time, val_accuracy_time,test_loss,test_accuracy) = train_model(\n",
    "#         model3,train_loader,val_loader,test_loader,\n",
    "#         n_epochs=n_epochs,learning_rate=learning_rate,criterion=criterion,\n",
    "#         augmentation=False,patience=30)"
   ]
  },
  {
   "cell_type": "code",
   "execution_count": 169,
   "id": "53b10ed3",
   "metadata": {},
   "outputs": [],
   "source": [
    "# NN = np.count_nonzero(loss_time)\n",
    "# fig, ax1 = plt.subplots()\n",
    "# ax1.set_xlabel('Epoch')\n",
    "# ax1.set_ylabel('Training Loss')\n",
    "# ax1.plot(np.arange(1, NN+1), loss_time[:NN], color='tab:red')\n",
    "# ax1.plot(np.arange(1, NN+1), val_loss_time[:NN], color='tab:blue')\n",
    "# ax1.plot(NN+1, test_loss, 'p', color='tab:blue')\n",
    "# # ax1.tick_params(axis='y', labelcolor='tab:blue')\n",
    "# ax2 = ax1.twinx()\n",
    "# ax2.set_ylabel('Accuracy', color='tab:green')\n",
    "# ax2.plot(np.arange(1, NN+1), val_accuracy_time[:NN], color='tab:green')\n",
    "# ax2.plot(NN+1, test_accuracy, 's', color='tab:green')\n",
    "# ax2.tick_params(axis='y', labelcolor='tab:green')\n",
    "# plt.title(\"Training and Validation Loss and Accuracy on MyCNN 60s deep\")\n",
    "# fig.tight_layout()\n",
    "# plt.show()\n",
    "# plt.savefig(\"mycnn_60s_deep.png\")"
   ]
  },
  {
   "cell_type": "code",
   "execution_count": 170,
   "id": "dcb02c86",
   "metadata": {},
   "outputs": [],
   "source": [
    "# # performance evaluation\n",
    "\n",
    "# classes = ['noise', 'explosion','earthquake','surface']\n",
    "\n",
    "# from sklearn.metrics import confusion_matrix\n",
    "# import seaborn as sns\n",
    "\n",
    "# plt.style.use('seaborn')\n",
    "\n",
    "# with torch.no_grad(): # Context-manager that disabled gradient calculation.\n",
    "#     # Loop on samples in test set\n",
    "#     total = 0\n",
    "#     correct = 0\n",
    "#     running_test_loss = 0\n",
    "#     y_pred=np.zeros(len(test_loader)*batch_size)\n",
    "#     y_pred_proba=np.zeros(shape=(len(test_loader)*batch_size,4))\n",
    "#     y_test=np.zeros(len(test_loader)*batch_size)\n",
    "#     for i,data in enumerate(test_loader):\n",
    "#         print(i,data[0].shape,(i+1)*batch_size)\n",
    "#         inputs, labels = data[0].to(device), data[1].to(device)\n",
    "#         inputs = inputs.float()\n",
    "#         labels = labels.float()\n",
    "\n",
    "#         outputs = model2(inputs)\n",
    "#         y_pred[i*batch_size:(i+1)*batch_size]=outputs.argmax(1).cpu().numpy()\n",
    "#         # store the maximum probability\n",
    "#         print(torch.nn.functional.softmax(outputs,dim=0))\n",
    "#         print(labels.argmax(1).cpu().numpy())\n",
    "#         y_pred_proba[i*batch_size:(i+1)*batch_size,:]=outputs.cpu().detach().numpy()\n",
    "#         y_test[i*batch_size:(i+1)*batch_size]=labels.argmax(1).cpu().numpy()\n",
    "#     cm = confusion_matrix(y_test, y_pred)\n",
    "#     sns.heatmap(cm, annot=True, cmap='Blues', fmt='d', xticklabels = classes, yticklabels = classes)\n",
    "#     plt.xlabel('Predicted', fontsize = 15)\n",
    "#     plt.ylabel('Actual', fontsize = 15)\n",
    "#     plt.title('CM 60s test data deep', fontsize = 20)\n",
    "#     plt.savefig(\"confusion_matrix_mycnn_60s_deep.png\")\n",
    "#     plt.show()\n",
    "\n",
    "\n"
   ]
  },
  {
   "cell_type": "code",
   "execution_count": 171,
   "id": "1ef5b798",
   "metadata": {},
   "outputs": [],
   "source": [
    "# # Calculate the classification report\n",
    "# from sklearn.metrics import classification_report\n",
    "# report = classification_report(y_test, y_pred, output_dict=True)\n",
    "\n",
    "# # Set a pleasing style\n",
    "# sns.set_style(\"whitegrid\")\n",
    "\n",
    "# # Create a figure and axes for the heatmap\n",
    "# plt.figure()\n",
    "# ax = sns.heatmap(pd.DataFrame(report).iloc[:3, :4], annot=True, cmap='Blues', xticklabels=classes, vmin=0.5, vmax=1)\n",
    "\n",
    "# # Set labels and title\n",
    "# ax.set_xlabel('Metrics', fontsize=15)\n",
    "# ax.set_ylabel('Classes', fontsize=15)\n",
    "# ax.set_title('Classification Report deep 60s', fontsize=18)\n",
    "\n",
    "# # Create a colorbar\n",
    "# #cbar = ax.collections[0].colorbar\n",
    "# #cbar.set_ticks([0.5, 1])  # Set custom tick locations\n",
    "# #cbar.set_ticklabels(['0', '0.5', '1'])  # Set custom tick labels\n",
    "\n",
    "# # Adjust layout\n",
    "# plt.tight_layout()\n",
    "# plt.savefig(\"classification_report_mycnn_60s_deep.png\")\n",
    "\n",
    "# # Show the plot\n",
    "# plt.show()\n"
   ]
  },
  {
   "cell_type": "markdown",
   "id": "a11c2c7e",
   "metadata": {},
   "source": [
    "## Event-wise performance"
   ]
  },
  {
   "cell_type": "code",
   "execution_count": 172,
   "id": "495c5903",
   "metadata": {},
   "outputs": [
    {
     "name": "stdout",
     "output_type": "stream",
     "text": [
      "Train Indices: [17271, 5795, 13680, 5287, 5341, 12113, 4482, 14069, 3362, 16657]\n",
      "Validation Indices: [4060, 4182, 5594, 30, 3766, 417, 3322, 2244, 5905, 5554]\n",
      "Test Indices: [2207, 2794, 3124, 2453, 818, 1051, 1234, 2361, 4456, 2482]\n"
     ]
    }
   ],
   "source": [
    "# Accessing indices of the original dataset for each split\n",
    "train_indices = train_dataset.indices\n",
    "val_indices = val_dataset.indices\n",
    "test_indices = test_dataset.indices\n",
    "\n",
    "# Example: Print the first 10 indices of each split\n",
    "print(\"Train Indices:\", train_indices[:10])\n",
    "print(\"Validation Indices:\", val_indices[:10])\n",
    "print(\"Test Indices:\", test_indices[:10])"
   ]
  },
  {
   "cell_type": "code",
   "execution_count": 173,
   "id": "7aeb79be",
   "metadata": {},
   "outputs": [
    {
     "data": {
      "text/html": [
       "<div>\n",
       "<style scoped>\n",
       "    .dataframe tbody tr th:only-of-type {\n",
       "        vertical-align: middle;\n",
       "    }\n",
       "\n",
       "    .dataframe tbody tr th {\n",
       "        vertical-align: top;\n",
       "    }\n",
       "\n",
       "    .dataframe thead th {\n",
       "        text-align: right;\n",
       "    }\n",
       "</style>\n",
       "<table border=\"1\" class=\"dataframe\">\n",
       "  <thead>\n",
       "    <tr style=\"text-align: right;\">\n",
       "      <th></th>\n",
       "      <th>id</th>\n",
       "      <th>label</th>\n",
       "    </tr>\n",
       "  </thead>\n",
       "  <tbody>\n",
       "    <tr>\n",
       "      <th>2207</th>\n",
       "      <td>2017-05-13T13:38:02.180000Z_noise</td>\n",
       "      <td>0</td>\n",
       "    </tr>\n",
       "    <tr>\n",
       "      <th>2794</th>\n",
       "      <td>2019-06-10T16:05:37.700000Z_noise</td>\n",
       "      <td>0</td>\n",
       "    </tr>\n",
       "    <tr>\n",
       "      <th>3124</th>\n",
       "      <td>2011-03-23T10:28:59.750000Z_noise</td>\n",
       "      <td>0</td>\n",
       "    </tr>\n",
       "    <tr>\n",
       "      <th>2453</th>\n",
       "      <td>2013-07-09T17:06:25.460000Z_noise</td>\n",
       "      <td>0</td>\n",
       "    </tr>\n",
       "    <tr>\n",
       "      <th>818</th>\n",
       "      <td>2014-05-09T15:42:50.080000Z_noise</td>\n",
       "      <td>0</td>\n",
       "    </tr>\n",
       "  </tbody>\n",
       "</table>\n",
       "</div>"
      ],
      "text/plain": [
       "                                     id  label\n",
       "2207  2017-05-13T13:38:02.180000Z_noise      0\n",
       "2794  2019-06-10T16:05:37.700000Z_noise      0\n",
       "3124  2011-03-23T10:28:59.750000Z_noise      0\n",
       "2453  2013-07-09T17:06:25.460000Z_noise      0\n",
       "818   2014-05-09T15:42:50.080000Z_noise      0"
      ]
     },
     "execution_count": 173,
     "metadata": {},
     "output_type": "execute_result"
    }
   ],
   "source": [
    "df_data.loc[test_indices[0:len(test_loader)*batch_size]].head()"
   ]
  },
  {
   "cell_type": "code",
   "execution_count": 174,
   "id": "daed9234",
   "metadata": {},
   "outputs": [],
   "source": [
    "# make a data frame just for the test dat\n",
    "df_test = df_data.loc[test_indices[0:len(test_loader)*batch_size]].reset_index(drop=True)"
   ]
  },
  {
   "cell_type": "code",
   "execution_count": 175,
   "id": "7b597495",
   "metadata": {},
   "outputs": [
    {
     "data": {
      "text/html": [
       "<div>\n",
       "<style scoped>\n",
       "    .dataframe tbody tr th:only-of-type {\n",
       "        vertical-align: middle;\n",
       "    }\n",
       "\n",
       "    .dataframe tbody tr th {\n",
       "        vertical-align: top;\n",
       "    }\n",
       "\n",
       "    .dataframe thead th {\n",
       "        text-align: right;\n",
       "    }\n",
       "</style>\n",
       "<table border=\"1\" class=\"dataframe\">\n",
       "  <thead>\n",
       "    <tr style=\"text-align: right;\">\n",
       "      <th></th>\n",
       "      <th>id</th>\n",
       "      <th>label</th>\n",
       "    </tr>\n",
       "  </thead>\n",
       "  <tbody>\n",
       "    <tr>\n",
       "      <th>0</th>\n",
       "      <td>2017-05-13T13:38:02.180000Z_noise</td>\n",
       "      <td>0</td>\n",
       "    </tr>\n",
       "    <tr>\n",
       "      <th>1</th>\n",
       "      <td>2019-06-10T16:05:37.700000Z_noise</td>\n",
       "      <td>0</td>\n",
       "    </tr>\n",
       "    <tr>\n",
       "      <th>2</th>\n",
       "      <td>2011-03-23T10:28:59.750000Z_noise</td>\n",
       "      <td>0</td>\n",
       "    </tr>\n",
       "    <tr>\n",
       "      <th>3</th>\n",
       "      <td>2013-07-09T17:06:25.460000Z_noise</td>\n",
       "      <td>0</td>\n",
       "    </tr>\n",
       "    <tr>\n",
       "      <th>4</th>\n",
       "      <td>2014-05-09T15:42:50.080000Z_noise</td>\n",
       "      <td>0</td>\n",
       "    </tr>\n",
       "  </tbody>\n",
       "</table>\n",
       "</div>"
      ],
      "text/plain": [
       "                                  id  label\n",
       "0  2017-05-13T13:38:02.180000Z_noise      0\n",
       "1  2019-06-10T16:05:37.700000Z_noise      0\n",
       "2  2011-03-23T10:28:59.750000Z_noise      0\n",
       "3  2013-07-09T17:06:25.460000Z_noise      0\n",
       "4  2014-05-09T15:42:50.080000Z_noise      0"
      ]
     },
     "execution_count": 175,
     "metadata": {},
     "output_type": "execute_result"
    }
   ],
   "source": [
    "df_test.head()"
   ]
  },
  {
   "cell_type": "code",
   "execution_count": 176,
   "id": "95296640",
   "metadata": {},
   "outputs": [],
   "source": [
    "# add a column with attribute predicitons to df_test\n",
    "df_test['predictions'] = y_pred.astype(int)\n",
    "df_test['probabilities'] = y_pred_proba.tolist()"
   ]
  },
  {
   "cell_type": "code",
   "execution_count": 177,
   "id": "500efaf5",
   "metadata": {},
   "outputs": [
    {
     "data": {
      "image/png": "[encoded data removed]",
      "text/plain": [
       "<Figure size 800x550 with 1 Axes>"
      ]
     },
     "metadata": {},
     "output_type": "display_data"
    }
   ],
   "source": [
    "plt.hist(y_test-y_pred)\n",
    "plt.show()"
   ]
  },
  {
   "cell_type": "code",
   "execution_count": 178,
   "id": "d6244600",
   "metadata": {},
   "outputs": [
    {
     "data": {
      "text/html": [
       "<div>\n",
       "<style scoped>\n",
       "    .dataframe tbody tr th:only-of-type {\n",
       "        vertical-align: middle;\n",
       "    }\n",
       "\n",
       "    .dataframe tbody tr th {\n",
       "        vertical-align: top;\n",
       "    }\n",
       "\n",
       "    .dataframe thead th {\n",
       "        text-align: right;\n",
       "    }\n",
       "</style>\n",
       "<table border=\"1\" class=\"dataframe\">\n",
       "  <thead>\n",
       "    <tr style=\"text-align: right;\">\n",
       "      <th></th>\n",
       "      <th>id</th>\n",
       "      <th>label</th>\n",
       "      <th>predictions</th>\n",
       "      <th>probabilities</th>\n",
       "    </tr>\n",
       "  </thead>\n",
       "  <tbody>\n",
       "    <tr>\n",
       "      <th>0</th>\n",
       "      <td>2017-05-13T13:38:02.180000Z_noise</td>\n",
       "      <td>0</td>\n",
       "      <td>3</td>\n",
       "      <td>[0.051286641508340836, 0.0014423900283873081, ...</td>\n",
       "    </tr>\n",
       "    <tr>\n",
       "      <th>1</th>\n",
       "      <td>2019-06-10T16:05:37.700000Z_noise</td>\n",
       "      <td>0</td>\n",
       "      <td>2</td>\n",
       "      <td>[0.008050679229199886, 0.000749895756598562, 0...</td>\n",
       "    </tr>\n",
       "    <tr>\n",
       "      <th>2</th>\n",
       "      <td>2011-03-23T10:28:59.750000Z_noise</td>\n",
       "      <td>0</td>\n",
       "      <td>1</td>\n",
       "      <td>[0.07993753999471664, 0.9141886830329895, 0.00...</td>\n",
       "    </tr>\n",
       "    <tr>\n",
       "      <th>3</th>\n",
       "      <td>2013-07-09T17:06:25.460000Z_noise</td>\n",
       "      <td>0</td>\n",
       "      <td>0</td>\n",
       "      <td>[0.99143385887146, 0.004502897150814533, 0.001...</td>\n",
       "    </tr>\n",
       "    <tr>\n",
       "      <th>4</th>\n",
       "      <td>2014-05-09T15:42:50.080000Z_noise</td>\n",
       "      <td>0</td>\n",
       "      <td>1</td>\n",
       "      <td>[0.0012160149635747075, 0.9939036965370178, 0....</td>\n",
       "    </tr>\n",
       "  </tbody>\n",
       "</table>\n",
       "</div>"
      ],
      "text/plain": [
       "                                  id  label  predictions  \\\n",
       "0  2017-05-13T13:38:02.180000Z_noise      0            3   \n",
       "1  2019-06-10T16:05:37.700000Z_noise      0            2   \n",
       "2  2011-03-23T10:28:59.750000Z_noise      0            1   \n",
       "3  2013-07-09T17:06:25.460000Z_noise      0            0   \n",
       "4  2014-05-09T15:42:50.080000Z_noise      0            1   \n",
       "\n",
       "                                       probabilities  \n",
       "0  [0.051286641508340836, 0.0014423900283873081, ...  \n",
       "1  [0.008050679229199886, 0.000749895756598562, 0...  \n",
       "2  [0.07993753999471664, 0.9141886830329895, 0.00...  \n",
       "3  [0.99143385887146, 0.004502897150814533, 0.001...  \n",
       "4  [0.0012160149635747075, 0.9939036965370178, 0....  "
      ]
     },
     "execution_count": 178,
     "metadata": {},
     "output_type": "execute_result"
    }
   ],
   "source": [
    "df_test.head()"
   ]
  },
  {
   "cell_type": "code",
   "execution_count": 179,
   "id": "11ba1a24",
   "metadata": {},
   "outputs": [],
   "source": [
    "# now we are going to average the probabilities for each common id\n",
    "df_test['event_probabilities'] = df_test['probabilities'].apply(lambda x: np.array(x))"
   ]
  },
  {
   "cell_type": "code",
   "execution_count": 180,
   "id": "d090e750",
   "metadata": {},
   "outputs": [
    {
     "data": {
      "text/html": [
       "<div>\n",
       "<style scoped>\n",
       "    .dataframe tbody tr th:only-of-type {\n",
       "        vertical-align: middle;\n",
       "    }\n",
       "\n",
       "    .dataframe tbody tr th {\n",
       "        vertical-align: top;\n",
       "    }\n",
       "\n",
       "    .dataframe thead th {\n",
       "        text-align: right;\n",
       "    }\n",
       "</style>\n",
       "<table border=\"1\" class=\"dataframe\">\n",
       "  <thead>\n",
       "    <tr style=\"text-align: right;\">\n",
       "      <th></th>\n",
       "      <th>id</th>\n",
       "      <th>label</th>\n",
       "      <th>predictions</th>\n",
       "      <th>probabilities</th>\n",
       "      <th>event_probabilities</th>\n",
       "    </tr>\n",
       "  </thead>\n",
       "  <tbody>\n",
       "    <tr>\n",
       "      <th>0</th>\n",
       "      <td>2017-05-13T13:38:02.180000Z_noise</td>\n",
       "      <td>0</td>\n",
       "      <td>3</td>\n",
       "      <td>[0.051286641508340836, 0.0014423900283873081, ...</td>\n",
       "      <td>[0.051286641508340836, 0.0014423900283873081, ...</td>\n",
       "    </tr>\n",
       "    <tr>\n",
       "      <th>1</th>\n",
       "      <td>2019-06-10T16:05:37.700000Z_noise</td>\n",
       "      <td>0</td>\n",
       "      <td>2</td>\n",
       "      <td>[0.008050679229199886, 0.000749895756598562, 0...</td>\n",
       "      <td>[0.008050679229199886, 0.000749895756598562, 0...</td>\n",
       "    </tr>\n",
       "    <tr>\n",
       "      <th>2</th>\n",
       "      <td>2011-03-23T10:28:59.750000Z_noise</td>\n",
       "      <td>0</td>\n",
       "      <td>1</td>\n",
       "      <td>[0.07993753999471664, 0.9141886830329895, 0.00...</td>\n",
       "      <td>[0.07993753999471664, 0.9141886830329895, 0.00...</td>\n",
       "    </tr>\n",
       "    <tr>\n",
       "      <th>3</th>\n",
       "      <td>2013-07-09T17:06:25.460000Z_noise</td>\n",
       "      <td>0</td>\n",
       "      <td>0</td>\n",
       "      <td>[0.99143385887146, 0.004502897150814533, 0.001...</td>\n",
       "      <td>[0.99143385887146, 0.004502897150814533, 0.001...</td>\n",
       "    </tr>\n",
       "    <tr>\n",
       "      <th>4</th>\n",
       "      <td>2014-05-09T15:42:50.080000Z_noise</td>\n",
       "      <td>0</td>\n",
       "      <td>1</td>\n",
       "      <td>[0.0012160149635747075, 0.9939036965370178, 0....</td>\n",
       "      <td>[0.0012160149635747075, 0.9939036965370178, 0....</td>\n",
       "    </tr>\n",
       "  </tbody>\n",
       "</table>\n",
       "</div>"
      ],
      "text/plain": [
       "                                  id  label  predictions  \\\n",
       "0  2017-05-13T13:38:02.180000Z_noise      0            3   \n",
       "1  2019-06-10T16:05:37.700000Z_noise      0            2   \n",
       "2  2011-03-23T10:28:59.750000Z_noise      0            1   \n",
       "3  2013-07-09T17:06:25.460000Z_noise      0            0   \n",
       "4  2014-05-09T15:42:50.080000Z_noise      0            1   \n",
       "\n",
       "                                       probabilities  \\\n",
       "0  [0.051286641508340836, 0.0014423900283873081, ...   \n",
       "1  [0.008050679229199886, 0.000749895756598562, 0...   \n",
       "2  [0.07993753999471664, 0.9141886830329895, 0.00...   \n",
       "3  [0.99143385887146, 0.004502897150814533, 0.001...   \n",
       "4  [0.0012160149635747075, 0.9939036965370178, 0....   \n",
       "\n",
       "                                 event_probabilities  \n",
       "0  [0.051286641508340836, 0.0014423900283873081, ...  \n",
       "1  [0.008050679229199886, 0.000749895756598562, 0...  \n",
       "2  [0.07993753999471664, 0.9141886830329895, 0.00...  \n",
       "3  [0.99143385887146, 0.004502897150814533, 0.001...  \n",
       "4  [0.0012160149635747075, 0.9939036965370178, 0....  "
      ]
     },
     "execution_count": 180,
     "metadata": {},
     "output_type": "execute_result"
    }
   ],
   "source": [
    "df_test.head()"
   ]
  },
  {
   "cell_type": "code",
   "execution_count": 181,
   "id": "425525bd",
   "metadata": {},
   "outputs": [
    {
     "data": {
      "text/html": [
       "<div>\n",
       "<style scoped>\n",
       "    .dataframe tbody tr th:only-of-type {\n",
       "        vertical-align: middle;\n",
       "    }\n",
       "\n",
       "    .dataframe tbody tr th {\n",
       "        vertical-align: top;\n",
       "    }\n",
       "\n",
       "    .dataframe thead th {\n",
       "        text-align: right;\n",
       "    }\n",
       "</style>\n",
       "<table border=\"1\" class=\"dataframe\">\n",
       "  <thead>\n",
       "    <tr style=\"text-align: right;\">\n",
       "      <th></th>\n",
       "      <th>id</th>\n",
       "      <th>label</th>\n",
       "      <th>predictions</th>\n",
       "      <th>event_probabilities</th>\n",
       "    </tr>\n",
       "  </thead>\n",
       "  <tbody>\n",
       "    <tr>\n",
       "      <th>0</th>\n",
       "      <td>2002-01-30T04:08:13.470000Z_noise</td>\n",
       "      <td>0.0</td>\n",
       "      <td>3.0</td>\n",
       "      <td>[0.0009115842403843999, 0.00049030059017241, 0...</td>\n",
       "    </tr>\n",
       "    <tr>\n",
       "      <th>1</th>\n",
       "      <td>2002-02-05T06:16:34.050000Z_noise</td>\n",
       "      <td>0.0</td>\n",
       "      <td>1.0</td>\n",
       "      <td>[0.001365642063319683, 0.9905253648757935, 0.0...</td>\n",
       "    </tr>\n",
       "    <tr>\n",
       "      <th>2</th>\n",
       "      <td>2002-04-25T06:06:22.540000Z_noise</td>\n",
       "      <td>0.0</td>\n",
       "      <td>1.0</td>\n",
       "      <td>[0.007815299555659294, 0.9558125734329224, 0.0...</td>\n",
       "    </tr>\n",
       "    <tr>\n",
       "      <th>3</th>\n",
       "      <td>2002-05-01T09:04:45.130000Z_noise</td>\n",
       "      <td>0.0</td>\n",
       "      <td>3.0</td>\n",
       "      <td>[0.0002024857676587999, 0.0006058968720026314,...</td>\n",
       "    </tr>\n",
       "    <tr>\n",
       "      <th>4</th>\n",
       "      <td>2002-05-16T04:14:33.600000Z_noise</td>\n",
       "      <td>0.0</td>\n",
       "      <td>1.0</td>\n",
       "      <td>[0.0018862561555579305, 0.9935821294784546, 0....</td>\n",
       "    </tr>\n",
       "  </tbody>\n",
       "</table>\n",
       "</div>"
      ],
      "text/plain": [
       "                                  id  label  predictions  \\\n",
       "0  2002-01-30T04:08:13.470000Z_noise    0.0          3.0   \n",
       "1  2002-02-05T06:16:34.050000Z_noise    0.0          1.0   \n",
       "2  2002-04-25T06:06:22.540000Z_noise    0.0          1.0   \n",
       "3  2002-05-01T09:04:45.130000Z_noise    0.0          3.0   \n",
       "4  2002-05-16T04:14:33.600000Z_noise    0.0          1.0   \n",
       "\n",
       "                                 event_probabilities  \n",
       "0  [0.0009115842403843999, 0.00049030059017241, 0...  \n",
       "1  [0.001365642063319683, 0.9905253648757935, 0.0...  \n",
       "2  [0.007815299555659294, 0.9558125734329224, 0.0...  \n",
       "3  [0.0002024857676587999, 0.0006058968720026314,...  \n",
       "4  [0.0018862561555579305, 0.9935821294784546, 0....  "
      ]
     },
     "execution_count": 181,
     "metadata": {},
     "output_type": "execute_result"
    }
   ],
   "source": [
    "df_event_wise = df_test.groupby('id').agg({'label':'mean','predictions':'mean','event_probabilities':'mean'}).reset_index()\n",
    "df_event_wise.head()\n"
   ]
  },
  {
   "cell_type": "code",
   "execution_count": 182,
   "id": "6ea70a0a",
   "metadata": {},
   "outputs": [],
   "source": [
    "# now we are going to convert the label and predictions to integer and take the maximum of event_probabilities\n",
    "df_event_wise['label'] = df_event_wise['label'].astype(int)\n",
    "df_event_wise['predictions'] = df_event_wise['predictions'].astype(int)\n",
    "df_event_wise['event_probabilities'] = df_event_wise['event_probabilities'].apply(lambda x: np.argmax(x))"
   ]
  },
  {
   "cell_type": "code",
   "execution_count": 183,
   "id": "f75377a0",
   "metadata": {},
   "outputs": [
    {
     "data": {
      "text/html": [
       "<div>\n",
       "<style scoped>\n",
       "    .dataframe tbody tr th:only-of-type {\n",
       "        vertical-align: middle;\n",
       "    }\n",
       "\n",
       "    .dataframe tbody tr th {\n",
       "        vertical-align: top;\n",
       "    }\n",
       "\n",
       "    .dataframe thead th {\n",
       "        text-align: right;\n",
       "    }\n",
       "</style>\n",
       "<table border=\"1\" class=\"dataframe\">\n",
       "  <thead>\n",
       "    <tr style=\"text-align: right;\">\n",
       "      <th></th>\n",
       "      <th>id</th>\n",
       "      <th>label</th>\n",
       "      <th>predictions</th>\n",
       "      <th>event_probabilities</th>\n",
       "    </tr>\n",
       "  </thead>\n",
       "  <tbody>\n",
       "    <tr>\n",
       "      <th>0</th>\n",
       "      <td>2002-01-30T04:08:13.470000Z_noise</td>\n",
       "      <td>0</td>\n",
       "      <td>3</td>\n",
       "      <td>3</td>\n",
       "    </tr>\n",
       "    <tr>\n",
       "      <th>1</th>\n",
       "      <td>2002-02-05T06:16:34.050000Z_noise</td>\n",
       "      <td>0</td>\n",
       "      <td>1</td>\n",
       "      <td>1</td>\n",
       "    </tr>\n",
       "    <tr>\n",
       "      <th>2</th>\n",
       "      <td>2002-04-25T06:06:22.540000Z_noise</td>\n",
       "      <td>0</td>\n",
       "      <td>1</td>\n",
       "      <td>1</td>\n",
       "    </tr>\n",
       "    <tr>\n",
       "      <th>3</th>\n",
       "      <td>2002-05-01T09:04:45.130000Z_noise</td>\n",
       "      <td>0</td>\n",
       "      <td>3</td>\n",
       "      <td>3</td>\n",
       "    </tr>\n",
       "    <tr>\n",
       "      <th>4</th>\n",
       "      <td>2002-05-16T04:14:33.600000Z_noise</td>\n",
       "      <td>0</td>\n",
       "      <td>1</td>\n",
       "      <td>1</td>\n",
       "    </tr>\n",
       "  </tbody>\n",
       "</table>\n",
       "</div>"
      ],
      "text/plain": [
       "                                  id  label  predictions  event_probabilities\n",
       "0  2002-01-30T04:08:13.470000Z_noise      0            3                    3\n",
       "1  2002-02-05T06:16:34.050000Z_noise      0            1                    1\n",
       "2  2002-04-25T06:06:22.540000Z_noise      0            1                    1\n",
       "3  2002-05-01T09:04:45.130000Z_noise      0            3                    3\n",
       "4  2002-05-16T04:14:33.600000Z_noise      0            1                    1"
      ]
     },
     "execution_count": 183,
     "metadata": {},
     "output_type": "execute_result"
    }
   ],
   "source": [
    "df_event_wise.head()"
   ]
  },
  {
   "cell_type": "code",
   "execution_count": 184,
   "id": "0ea632d6",
   "metadata": {},
   "outputs": [],
   "source": [
    "# df_event_wise = df_test.groupby('id')\n",
    "# df_event_wise.head()\n",
    "# Assuming df_test is your DataFrame and it already has 'event_probabilities' as arrays or lists\n",
    "# Group by 'id' and then average the probabilities in 'event_probabilities' for each group\n",
    "# now I will add back the label, id, and event predictions by taking the index of the maximum of probabilities\n",
    "# df_event_wise['label'] = df_test.groupby('id')['label'].first().values\n",
    "# df_event_wise['predictions'] = df_test.groupby('id')['predictions'].first().values\n",
    "# df_event_wise['probabilities'] = df_test.groupby('id')['probabilities'].first().values\n",
    "# df_event_wise['event_probabilities']  = df_test.groupby('id')['probabilities'].apply(lambda x: np.mean(np.vstack(x), axis=0)).reset_index()\n",
    "\n",
    "# df_event_wise['event_predictions'] = df_event_wise['probabilities'].apply(lambda x: np.argmax(x))\n",
    "# df_event_wise.head()"
   ]
  },
  {
   "cell_type": "code",
   "execution_count": 185,
   "id": "ab4e6a7d",
   "metadata": {},
   "outputs": [
    {
     "data": {
      "text/plain": [
       "(array([ 79.,   0., 432.,   0.,   0., 421.,   0., 486.,   0., 374.]),\n",
       " array([-1. , -0.6, -0.2,  0.2,  0.6,  1. ,  1.4,  1.8,  2.2,  2.6,  3. ]),\n",
       " <BarContainer object of 10 artists>)"
      ]
     },
     "execution_count": 185,
     "metadata": {},
     "output_type": "execute_result"
    },
    {
     "data": {
      "image/png": "[encoded data removed]",
      "text/plain": [
       "<Figure size 800x550 with 1 Axes>"
      ]
     },
     "metadata": {},
     "output_type": "display_data"
    }
   ],
   "source": [
    "plt.hist(df_event_wise['event_probabilities']-df_event_wise['label'])"
   ]
  },
  {
   "cell_type": "code",
   "execution_count": 186,
   "id": "09e6f58b",
   "metadata": {},
   "outputs": [
    {
     "ename": "KeyError",
     "evalue": "'event_predictions'",
     "output_type": "error",
     "traceback": [
      "\u001b[0;31m---------------------------------------------------------------------------\u001b[0m",
      "\u001b[0;31mKeyError\u001b[0m                                  Traceback (most recent call last)",
      "File \u001b[0;32m~/miniconda/envs/surface/lib/python3.9/site-packages/pandas/core/indexes/base.py:3361\u001b[0m, in \u001b[0;36mIndex.get_loc\u001b[0;34m(self, key, method, tolerance)\u001b[0m\n\u001b[1;32m   3360\u001b[0m \u001b[38;5;28;01mtry\u001b[39;00m:\n\u001b[0;32m-> 3361\u001b[0m     \u001b[38;5;28;01mreturn\u001b[39;00m \u001b[38;5;28;43mself\u001b[39;49m\u001b[38;5;241;43m.\u001b[39;49m\u001b[43m_engine\u001b[49m\u001b[38;5;241;43m.\u001b[39;49m\u001b[43mget_loc\u001b[49m\u001b[43m(\u001b[49m\u001b[43mcasted_key\u001b[49m\u001b[43m)\u001b[49m\n\u001b[1;32m   3362\u001b[0m \u001b[38;5;28;01mexcept\u001b[39;00m \u001b[38;5;167;01mKeyError\u001b[39;00m \u001b[38;5;28;01mas\u001b[39;00m err:\n",
      "File \u001b[0;32m~/miniconda/envs/surface/lib/python3.9/site-packages/pandas/_libs/index.pyx:76\u001b[0m, in \u001b[0;36mpandas._libs.index.IndexEngine.get_loc\u001b[0;34m()\u001b[0m\n",
      "File \u001b[0;32m~/miniconda/envs/surface/lib/python3.9/site-packages/pandas/_libs/index.pyx:108\u001b[0m, in \u001b[0;36mpandas._libs.index.IndexEngine.get_loc\u001b[0;34m()\u001b[0m\n",
      "File \u001b[0;32mpandas/_libs/hashtable_class_helper.pxi:5198\u001b[0m, in \u001b[0;36mpandas._libs.hashtable.PyObjectHashTable.get_item\u001b[0;34m()\u001b[0m\n",
      "File \u001b[0;32mpandas/_libs/hashtable_class_helper.pxi:5206\u001b[0m, in \u001b[0;36mpandas._libs.hashtable.PyObjectHashTable.get_item\u001b[0;34m()\u001b[0m\n",
      "\u001b[0;31mKeyError\u001b[0m: 'event_predictions'",
      "\nThe above exception was the direct cause of the following exception:\n",
      "\u001b[0;31mKeyError\u001b[0m                                  Traceback (most recent call last)",
      "Cell \u001b[0;32mIn[186], line 3\u001b[0m\n\u001b[1;32m      1\u001b[0m \u001b[38;5;66;03m# Calculate the classification report\u001b[39;00m\n\u001b[1;32m      2\u001b[0m \u001b[38;5;28;01mfrom\u001b[39;00m \u001b[38;5;21;01msklearn\u001b[39;00m\u001b[38;5;21;01m.\u001b[39;00m\u001b[38;5;21;01mmetrics\u001b[39;00m \u001b[38;5;28;01mimport\u001b[39;00m classification_report\n\u001b[0;32m----> 3\u001b[0m report \u001b[38;5;241m=\u001b[39m classification_report(df_event_wise[\u001b[38;5;124m'\u001b[39m\u001b[38;5;124mlabel\u001b[39m\u001b[38;5;124m'\u001b[39m], \u001b[43mdf_event_wise\u001b[49m\u001b[43m[\u001b[49m\u001b[38;5;124;43m'\u001b[39;49m\u001b[38;5;124;43mevent_predictions\u001b[39;49m\u001b[38;5;124;43m'\u001b[39;49m\u001b[43m]\u001b[49m, output_dict\u001b[38;5;241m=\u001b[39m\u001b[38;5;28;01mTrue\u001b[39;00m)\n\u001b[1;32m      5\u001b[0m \u001b[38;5;66;03m# Set a pleasing style\u001b[39;00m\n\u001b[1;32m      6\u001b[0m sns\u001b[38;5;241m.\u001b[39mset_style(\u001b[38;5;124m\"\u001b[39m\u001b[38;5;124mwhitegrid\u001b[39m\u001b[38;5;124m\"\u001b[39m)\n",
      "File \u001b[0;32m~/miniconda/envs/surface/lib/python3.9/site-packages/pandas/core/frame.py:3455\u001b[0m, in \u001b[0;36mDataFrame.__getitem__\u001b[0;34m(self, key)\u001b[0m\n\u001b[1;32m   3453\u001b[0m \u001b[38;5;28;01mif\u001b[39;00m \u001b[38;5;28mself\u001b[39m\u001b[38;5;241m.\u001b[39mcolumns\u001b[38;5;241m.\u001b[39mnlevels \u001b[38;5;241m>\u001b[39m \u001b[38;5;241m1\u001b[39m:\n\u001b[1;32m   3454\u001b[0m     \u001b[38;5;28;01mreturn\u001b[39;00m \u001b[38;5;28mself\u001b[39m\u001b[38;5;241m.\u001b[39m_getitem_multilevel(key)\n\u001b[0;32m-> 3455\u001b[0m indexer \u001b[38;5;241m=\u001b[39m \u001b[38;5;28;43mself\u001b[39;49m\u001b[38;5;241;43m.\u001b[39;49m\u001b[43mcolumns\u001b[49m\u001b[38;5;241;43m.\u001b[39;49m\u001b[43mget_loc\u001b[49m\u001b[43m(\u001b[49m\u001b[43mkey\u001b[49m\u001b[43m)\u001b[49m\n\u001b[1;32m   3456\u001b[0m \u001b[38;5;28;01mif\u001b[39;00m is_integer(indexer):\n\u001b[1;32m   3457\u001b[0m     indexer \u001b[38;5;241m=\u001b[39m [indexer]\n",
      "File \u001b[0;32m~/miniconda/envs/surface/lib/python3.9/site-packages/pandas/core/indexes/base.py:3363\u001b[0m, in \u001b[0;36mIndex.get_loc\u001b[0;34m(self, key, method, tolerance)\u001b[0m\n\u001b[1;32m   3361\u001b[0m         \u001b[38;5;28;01mreturn\u001b[39;00m \u001b[38;5;28mself\u001b[39m\u001b[38;5;241m.\u001b[39m_engine\u001b[38;5;241m.\u001b[39mget_loc(casted_key)\n\u001b[1;32m   3362\u001b[0m     \u001b[38;5;28;01mexcept\u001b[39;00m \u001b[38;5;167;01mKeyError\u001b[39;00m \u001b[38;5;28;01mas\u001b[39;00m err:\n\u001b[0;32m-> 3363\u001b[0m         \u001b[38;5;28;01mraise\u001b[39;00m \u001b[38;5;167;01mKeyError\u001b[39;00m(key) \u001b[38;5;28;01mfrom\u001b[39;00m \u001b[38;5;21;01merr\u001b[39;00m\n\u001b[1;32m   3365\u001b[0m \u001b[38;5;28;01mif\u001b[39;00m is_scalar(key) \u001b[38;5;129;01mand\u001b[39;00m isna(key) \u001b[38;5;129;01mand\u001b[39;00m \u001b[38;5;129;01mnot\u001b[39;00m \u001b[38;5;28mself\u001b[39m\u001b[38;5;241m.\u001b[39mhasnans:\n\u001b[1;32m   3366\u001b[0m     \u001b[38;5;28;01mraise\u001b[39;00m \u001b[38;5;167;01mKeyError\u001b[39;00m(key)\n",
      "\u001b[0;31mKeyError\u001b[0m: 'event_predictions'"
     ]
    }
   ],
   "source": [
    "# Calculate the classification report\n",
    "from sklearn.metrics import classification_report\n",
    "report = classification_report(df_event_wise['label'], df_event_wise['event_predictions'], output_dict=True)\n",
    "\n",
    "# Set a pleasing style\n",
    "sns.set_style(\"whitegrid\")\n",
    "\n",
    "# Create a figure and axes for the heatmap\n",
    "plt.figure()\n",
    "ax = sns.heatmap(pd.DataFrame(report).iloc[:3, :4], annot=True, cmap='Blues', xticklabels=classes, vmin=0.5, vmax=1)\n",
    "\n",
    "# Set labels and title\n",
    "ax.set_xlabel('Metrics', fontsize=15)\n",
    "ax.set_ylabel('Classes', fontsize=15)\n",
    "ax.set_title('Classification Report deep 60s', fontsize=18)\n",
    "\n",
    "# Create a colorbar\n",
    "#cbar = ax.collections[0].colorbar\n",
    "#cbar.set_ticks([0.5, 1])  # Set custom tick locations\n",
    "#cbar.set_ticklabels(['0', '0.5', '1'])  # Set custom tick labels\n",
    "\n",
    "# Adjust layout\n",
    "plt.tight_layout()\n",
    "plt.savefig(\"classification_report_mycnn_60s_deep.png\")\n",
    "\n",
    "# Show the plot\n",
    "plt.show()\n"
   ]
  },
  {
   "cell_type": "markdown",
   "id": "5ef75206",
   "metadata": {},
   "source": [
    "## Ensemble deep learning"
   ]
  },
  {
   "cell_type": "code",
   "execution_count": null,
   "id": "e11efa83",
   "metadata": {},
   "outputs": [
    {
     "name": "stdout",
     "output_type": "stream",
     "text": [
      "[Epoch 10] loss: 0.318 - accuracy: 87.097\n"
     ]
    },
    {
     "name": "stdout",
     "output_type": "stream",
     "text": [
      "[Epoch 20] loss: 0.228 - accuracy: 88.760\n",
      "[Epoch 30] loss: 0.170 - accuracy: 88.180\n",
      "test loss: 0.317 and accuracy: 88.958\n"
     ]
    }
   ],
   "source": [
    "model_1 = MyCNN(num_classes=4, num_channels=num_channels,dropout_rate=dropout).to(device)  # Use 'cuda' if you have a GPU available\n",
    "(loss_time, val_loss_time, val_accuracy_time,test_loss,test_accuracy) = train_model(\n",
    "        model_1,train_loader,val_loader,test_loader,\n",
    "        n_epochs=n_epochs,learning_rate=learning_rate,criterion=criterion,\n",
    "        augmentation=False)\n",
    "torch.save(model_1,'model_instance_1.pth')\n",
    "model_1.eval();"
   ]
  },
  {
   "cell_type": "code",
   "execution_count": null,
   "id": "b79fd8b6",
   "metadata": {},
   "outputs": [
    {
     "name": "stdout",
     "output_type": "stream",
     "text": [
      "[Epoch 10] loss: 0.330 - accuracy: 84.073\n",
      "[Epoch 20] loss: 0.230 - accuracy: 87.223\n",
      "[Epoch 30] loss: 0.176 - accuracy: 88.836\n"
     ]
    },
    {
     "ename": "KeyboardInterrupt",
     "evalue": "",
     "output_type": "error",
     "traceback": [
      "\u001b[0;31m---------------------------------------------------------------------------\u001b[0m",
      "\u001b[0;31mKeyboardInterrupt\u001b[0m                         Traceback (most recent call last)",
      "Cell \u001b[0;32mIn[32], line 2\u001b[0m\n\u001b[1;32m      1\u001b[0m model_2 \u001b[38;5;241m=\u001b[39m MyCNN(num_classes\u001b[38;5;241m=\u001b[39m\u001b[38;5;241m4\u001b[39m, num_channels\u001b[38;5;241m=\u001b[39mnum_channels,dropout_rate\u001b[38;5;241m=\u001b[39mdropout)\u001b[38;5;241m.\u001b[39mto(device)  \u001b[38;5;66;03m# Use 'cuda' if you have a GPU available\u001b[39;00m\n\u001b[0;32m----> 2\u001b[0m (loss_time, val_loss_time, val_accuracy_time,test_loss,test_accuracy) \u001b[38;5;241m=\u001b[39m \u001b[43mtrain_model\u001b[49m\u001b[43m(\u001b[49m\n\u001b[1;32m      3\u001b[0m \u001b[43m        \u001b[49m\u001b[43mmodel_2\u001b[49m\u001b[43m,\u001b[49m\u001b[43mtrain_loader\u001b[49m\u001b[43m,\u001b[49m\u001b[43mval_loader\u001b[49m\u001b[43m,\u001b[49m\u001b[43mtest_loader\u001b[49m\u001b[43m,\u001b[49m\n\u001b[1;32m      4\u001b[0m \u001b[43m        \u001b[49m\u001b[43mn_epochs\u001b[49m\u001b[38;5;241;43m=\u001b[39;49m\u001b[43mn_epochs\u001b[49m\u001b[43m,\u001b[49m\u001b[43mlearning_rate\u001b[49m\u001b[38;5;241;43m=\u001b[39;49m\u001b[43mlearning_rate\u001b[49m\u001b[43m,\u001b[49m\u001b[43mcriterion\u001b[49m\u001b[38;5;241;43m=\u001b[39;49m\u001b[43mcriterion\u001b[49m\u001b[43m,\u001b[49m\n\u001b[1;32m      5\u001b[0m \u001b[43m        \u001b[49m\u001b[43maugmentation\u001b[49m\u001b[38;5;241;43m=\u001b[39;49m\u001b[38;5;28;43;01mFalse\u001b[39;49;00m\u001b[43m)\u001b[49m\n\u001b[1;32m      6\u001b[0m torch\u001b[38;5;241m.\u001b[39msave(model_2,\u001b[38;5;124m'\u001b[39m\u001b[38;5;124mmodel_instance_1.pth\u001b[39m\u001b[38;5;124m'\u001b[39m)\n\u001b[1;32m      7\u001b[0m model_2\u001b[38;5;241m.\u001b[39meval()\n",
      "Cell \u001b[0;32mIn[13], line 59\u001b[0m, in \u001b[0;36mtrain_model\u001b[0;34m(model, train_loader, val_loader, test_loader, n_epochs, learning_rate, criterion, augmentation, patience)\u001b[0m\n\u001b[1;32m     57\u001b[0m loss \u001b[38;5;241m=\u001b[39m criterion(outputs, labels)\n\u001b[1;32m     58\u001b[0m \u001b[38;5;66;03m# computing the gradients\u001b[39;00m\n\u001b[0;32m---> 59\u001b[0m \u001b[43mloss\u001b[49m\u001b[38;5;241;43m.\u001b[39;49m\u001b[43mbackward\u001b[49m\u001b[43m(\u001b[49m\u001b[43m)\u001b[49m\n\u001b[1;32m     61\u001b[0m \u001b[38;5;66;03m# updating the parameters\u001b[39;00m\n\u001b[1;32m     62\u001b[0m optimizer\u001b[38;5;241m.\u001b[39mstep()\n",
      "File \u001b[0;32m~/miniconda/envs/surface/lib/python3.9/site-packages/torch/_tensor.py:525\u001b[0m, in \u001b[0;36mTensor.backward\u001b[0;34m(self, gradient, retain_graph, create_graph, inputs)\u001b[0m\n\u001b[1;32m    515\u001b[0m \u001b[38;5;28;01mif\u001b[39;00m has_torch_function_unary(\u001b[38;5;28mself\u001b[39m):\n\u001b[1;32m    516\u001b[0m     \u001b[38;5;28;01mreturn\u001b[39;00m handle_torch_function(\n\u001b[1;32m    517\u001b[0m         Tensor\u001b[38;5;241m.\u001b[39mbackward,\n\u001b[1;32m    518\u001b[0m         (\u001b[38;5;28mself\u001b[39m,),\n\u001b[0;32m   (...)\u001b[0m\n\u001b[1;32m    523\u001b[0m         inputs\u001b[38;5;241m=\u001b[39minputs,\n\u001b[1;32m    524\u001b[0m     )\n\u001b[0;32m--> 525\u001b[0m \u001b[43mtorch\u001b[49m\u001b[38;5;241;43m.\u001b[39;49m\u001b[43mautograd\u001b[49m\u001b[38;5;241;43m.\u001b[39;49m\u001b[43mbackward\u001b[49m\u001b[43m(\u001b[49m\n\u001b[1;32m    526\u001b[0m \u001b[43m    \u001b[49m\u001b[38;5;28;43mself\u001b[39;49m\u001b[43m,\u001b[49m\u001b[43m \u001b[49m\u001b[43mgradient\u001b[49m\u001b[43m,\u001b[49m\u001b[43m \u001b[49m\u001b[43mretain_graph\u001b[49m\u001b[43m,\u001b[49m\u001b[43m \u001b[49m\u001b[43mcreate_graph\u001b[49m\u001b[43m,\u001b[49m\u001b[43m \u001b[49m\u001b[43minputs\u001b[49m\u001b[38;5;241;43m=\u001b[39;49m\u001b[43minputs\u001b[49m\n\u001b[1;32m    527\u001b[0m \u001b[43m\u001b[49m\u001b[43m)\u001b[49m\n",
      "File \u001b[0;32m~/miniconda/envs/surface/lib/python3.9/site-packages/torch/autograd/__init__.py:267\u001b[0m, in \u001b[0;36mbackward\u001b[0;34m(tensors, grad_tensors, retain_graph, create_graph, grad_variables, inputs)\u001b[0m\n\u001b[1;32m    262\u001b[0m     retain_graph \u001b[38;5;241m=\u001b[39m create_graph\n\u001b[1;32m    264\u001b[0m \u001b[38;5;66;03m# The reason we repeat the same comment below is that\u001b[39;00m\n\u001b[1;32m    265\u001b[0m \u001b[38;5;66;03m# some Python versions print out the first line of a multi-line function\u001b[39;00m\n\u001b[1;32m    266\u001b[0m \u001b[38;5;66;03m# calls in the traceback and some print out the last line\u001b[39;00m\n\u001b[0;32m--> 267\u001b[0m \u001b[43m_engine_run_backward\u001b[49m\u001b[43m(\u001b[49m\n\u001b[1;32m    268\u001b[0m \u001b[43m    \u001b[49m\u001b[43mtensors\u001b[49m\u001b[43m,\u001b[49m\n\u001b[1;32m    269\u001b[0m \u001b[43m    \u001b[49m\u001b[43mgrad_tensors_\u001b[49m\u001b[43m,\u001b[49m\n\u001b[1;32m    270\u001b[0m \u001b[43m    \u001b[49m\u001b[43mretain_graph\u001b[49m\u001b[43m,\u001b[49m\n\u001b[1;32m    271\u001b[0m \u001b[43m    \u001b[49m\u001b[43mcreate_graph\u001b[49m\u001b[43m,\u001b[49m\n\u001b[1;32m    272\u001b[0m \u001b[43m    \u001b[49m\u001b[43minputs\u001b[49m\u001b[43m,\u001b[49m\n\u001b[1;32m    273\u001b[0m \u001b[43m    \u001b[49m\u001b[43mallow_unreachable\u001b[49m\u001b[38;5;241;43m=\u001b[39;49m\u001b[38;5;28;43;01mTrue\u001b[39;49;00m\u001b[43m,\u001b[49m\n\u001b[1;32m    274\u001b[0m \u001b[43m    \u001b[49m\u001b[43maccumulate_grad\u001b[49m\u001b[38;5;241;43m=\u001b[39;49m\u001b[38;5;28;43;01mTrue\u001b[39;49;00m\u001b[43m,\u001b[49m\n\u001b[1;32m    275\u001b[0m \u001b[43m\u001b[49m\u001b[43m)\u001b[49m\n",
      "File \u001b[0;32m~/miniconda/envs/surface/lib/python3.9/site-packages/torch/autograd/graph.py:744\u001b[0m, in \u001b[0;36m_engine_run_backward\u001b[0;34m(t_outputs, *args, **kwargs)\u001b[0m\n\u001b[1;32m    742\u001b[0m     unregister_hooks \u001b[38;5;241m=\u001b[39m _register_logging_hooks_on_whole_graph(t_outputs)\n\u001b[1;32m    743\u001b[0m \u001b[38;5;28;01mtry\u001b[39;00m:\n\u001b[0;32m--> 744\u001b[0m     \u001b[38;5;28;01mreturn\u001b[39;00m \u001b[43mVariable\u001b[49m\u001b[38;5;241;43m.\u001b[39;49m\u001b[43m_execution_engine\u001b[49m\u001b[38;5;241;43m.\u001b[39;49m\u001b[43mrun_backward\u001b[49m\u001b[43m(\u001b[49m\u001b[43m  \u001b[49m\u001b[38;5;66;43;03m# Calls into the C++ engine to run the backward pass\u001b[39;49;00m\n\u001b[1;32m    745\u001b[0m \u001b[43m        \u001b[49m\u001b[43mt_outputs\u001b[49m\u001b[43m,\u001b[49m\u001b[43m \u001b[49m\u001b[38;5;241;43m*\u001b[39;49m\u001b[43margs\u001b[49m\u001b[43m,\u001b[49m\u001b[43m \u001b[49m\u001b[38;5;241;43m*\u001b[39;49m\u001b[38;5;241;43m*\u001b[39;49m\u001b[43mkwargs\u001b[49m\n\u001b[1;32m    746\u001b[0m \u001b[43m    \u001b[49m\u001b[43m)\u001b[49m  \u001b[38;5;66;03m# Calls into the C++ engine to run the backward pass\u001b[39;00m\n\u001b[1;32m    747\u001b[0m \u001b[38;5;28;01mfinally\u001b[39;00m:\n\u001b[1;32m    748\u001b[0m     \u001b[38;5;28;01mif\u001b[39;00m attach_logging_hooks:\n",
      "\u001b[0;31mKeyboardInterrupt\u001b[0m: "
     ]
    }
   ],
   "source": [
    "model_2 = MyCNN(num_classes=4, num_channels=num_channels,dropout_rate=dropout).to(device)  # Use 'cuda' if you have a GPU available\n",
    "(loss_time, val_loss_time, val_accuracy_time,test_loss,test_accuracy) = train_model(\n",
    "        model_2,train_loader,val_loader,test_loader,\n",
    "        n_epochs=n_epochs,learning_rate=learning_rate,criterion=criterion,\n",
    "        augmentation=False)\n",
    "torch.save(model_2,'model_instance_1.pth')\n",
    "model_2.eval();"
   ]
  },
  {
   "cell_type": "code",
   "execution_count": null,
   "id": "fbecf13f",
   "metadata": {},
   "outputs": [
    {
     "name": "stdout",
     "output_type": "stream",
     "text": [
      "[Epoch 10] loss: 0.369 - accuracy: 80.015\n"
     ]
    },
    {
     "name": "stdout",
     "output_type": "stream",
     "text": [
      "[Epoch 20] loss: 0.259 - accuracy: 86.668\n",
      "[Epoch 30] loss: 0.207 - accuracy: 87.878\n",
      "test loss: 0.256 and accuracy: 90.781\n"
     ]
    },
    {
     "data": {
      "text/plain": [
       "MyCNN(\n",
       "  (conv1): Conv1d(3, 8, kernel_size=(9,), stride=(1,), padding=same)\n",
       "  (conv2): Conv1d(8, 8, kernel_size=(9,), stride=(2,), padding=(4,))\n",
       "  (conv3): Conv1d(8, 16, kernel_size=(7,), stride=(1,), padding=same)\n",
       "  (conv4): Conv1d(16, 16, kernel_size=(7,), stride=(2,), padding=(3,))\n",
       "  (conv5): Conv1d(16, 32, kernel_size=(5,), stride=(1,), padding=same)\n",
       "  (conv6): Conv1d(32, 32, kernel_size=(5,), stride=(2,), padding=(2,))\n",
       "  (conv7): Conv1d(32, 64, kernel_size=(3,), stride=(1,), padding=same)\n",
       "  (pool1): MaxPool1d(kernel_size=2, stride=2, padding=0, dilation=1, ceil_mode=False)\n",
       "  (bn1): BatchNorm1d(8, eps=1e-05, momentum=0.1, affine=True, track_running_stats=True)\n",
       "  (bn2): BatchNorm1d(8, eps=1e-05, momentum=0.1, affine=True, track_running_stats=True)\n",
       "  (bn3): BatchNorm1d(16, eps=1e-05, momentum=0.1, affine=True, track_running_stats=True)\n",
       "  (bn4): BatchNorm1d(16, eps=1e-05, momentum=0.1, affine=True, track_running_stats=True)\n",
       "  (bn5): BatchNorm1d(32, eps=1e-05, momentum=0.1, affine=True, track_running_stats=True)\n",
       "  (bn6): BatchNorm1d(32, eps=1e-05, momentum=0.1, affine=True, track_running_stats=True)\n",
       "  (bn7): BatchNorm1d(64, eps=1e-05, momentum=0.1, affine=True, track_running_stats=True)\n",
       "  (fc1): Linear(in_features=4992, out_features=128, bias=True)\n",
       "  (fc2): Linear(in_features=128, out_features=4, bias=True)\n",
       "  (fc1_bn): BatchNorm1d(128, eps=1e-05, momentum=0.1, affine=True, track_running_stats=True)\n",
       "  (fc2_bn): BatchNorm1d(4, eps=1e-05, momentum=0.1, affine=True, track_running_stats=True)\n",
       "  (dropout): Dropout(p=0.4, inplace=False)\n",
       ")"
      ]
     },
     "execution_count": 37,
     "metadata": {},
     "output_type": "execute_result"
    }
   ],
   "source": [
    "model_3 = MyCNN(num_classes=4, num_channels=num_channels,dropout_rate=dropout).to(device)  # Use 'cuda' if you have a GPU available\n",
    "(loss_time, val_loss_time, val_accuracy_time,test_loss,test_accuracy) = train_model(\n",
    "        model_3,train_loader,val_loader,test_loader,\n",
    "        n_epochs=n_epochs,learning_rate=learning_rate,criterion=criterion,\n",
    "        augmentation=False)\n",
    "torch.save(model_3,'model_instance_3.pth')\n",
    "model_3.eval();"
   ]
  },
  {
   "cell_type": "code",
   "execution_count": null,
   "id": "eaec6523",
   "metadata": {},
   "outputs": [
    {
     "name": "stdout",
     "output_type": "stream",
     "text": [
      "[Epoch 10] loss: 0.343 - accuracy: 87.273\n"
     ]
    },
    {
     "name": "stdout",
     "output_type": "stream",
     "text": [
      "[Epoch 20] loss: 0.252 - accuracy: 87.500\n",
      "[Epoch 30] loss: 0.196 - accuracy: 89.365\n",
      "test loss: 0.239 and accuracy: 92.031\n"
     ]
    },
    {
     "data": {
      "text/plain": [
       "MyCNN(\n",
       "  (conv1): Conv1d(3, 8, kernel_size=(9,), stride=(1,), padding=same)\n",
       "  (conv2): Conv1d(8, 8, kernel_size=(9,), stride=(2,), padding=(4,))\n",
       "  (conv3): Conv1d(8, 16, kernel_size=(7,), stride=(1,), padding=same)\n",
       "  (conv4): Conv1d(16, 16, kernel_size=(7,), stride=(2,), padding=(3,))\n",
       "  (conv5): Conv1d(16, 32, kernel_size=(5,), stride=(1,), padding=same)\n",
       "  (conv6): Conv1d(32, 32, kernel_size=(5,), stride=(2,), padding=(2,))\n",
       "  (conv7): Conv1d(32, 64, kernel_size=(3,), stride=(1,), padding=same)\n",
       "  (pool1): MaxPool1d(kernel_size=2, stride=2, padding=0, dilation=1, ceil_mode=False)\n",
       "  (bn1): BatchNorm1d(8, eps=1e-05, momentum=0.1, affine=True, track_running_stats=True)\n",
       "  (bn2): BatchNorm1d(8, eps=1e-05, momentum=0.1, affine=True, track_running_stats=True)\n",
       "  (bn3): BatchNorm1d(16, eps=1e-05, momentum=0.1, affine=True, track_running_stats=True)\n",
       "  (bn4): BatchNorm1d(16, eps=1e-05, momentum=0.1, affine=True, track_running_stats=True)\n",
       "  (bn5): BatchNorm1d(32, eps=1e-05, momentum=0.1, affine=True, track_running_stats=True)\n",
       "  (bn6): BatchNorm1d(32, eps=1e-05, momentum=0.1, affine=True, track_running_stats=True)\n",
       "  (bn7): BatchNorm1d(64, eps=1e-05, momentum=0.1, affine=True, track_running_stats=True)\n",
       "  (fc1): Linear(in_features=4992, out_features=128, bias=True)\n",
       "  (fc2): Linear(in_features=128, out_features=4, bias=True)\n",
       "  (fc1_bn): BatchNorm1d(128, eps=1e-05, momentum=0.1, affine=True, track_running_stats=True)\n",
       "  (fc2_bn): BatchNorm1d(4, eps=1e-05, momentum=0.1, affine=True, track_running_stats=True)\n",
       "  (dropout): Dropout(p=0.4, inplace=False)\n",
       ")"
      ]
     },
     "execution_count": 38,
     "metadata": {},
     "output_type": "execute_result"
    }
   ],
   "source": [
    "model_4 = MyCNN(num_classes=4, num_channels=num_channels,dropout_rate=dropout).to(device)  # Use 'cuda' if you have a GPU available\n",
    "(loss_time, val_loss_time, val_accuracy_time,test_loss,test_accuracy) = train_model(\n",
    "        model_4,train_loader,val_loader,test_loader,\n",
    "        n_epochs=n_epochs,learning_rate=learning_rate,criterion=criterion,\n",
    "        augmentation=False)\n",
    "\n",
    "torch.save(model_4,'model_instance_4.pth')\n",
    "model_4.eval();"
   ]
  },
  {
   "cell_type": "code",
   "execution_count": null,
   "id": "214e207f",
   "metadata": {},
   "outputs": [
    {
     "name": "stdout",
     "output_type": "stream",
     "text": [
      "[Epoch 10] loss: 0.342 - accuracy: 84.098\n",
      "[Epoch 20] loss: 0.252 - accuracy: 87.903\n",
      "[Epoch 30] loss: 0.198 - accuracy: 89.264\n",
      "test loss: 0.284 and accuracy: 90.156\n"
     ]
    },
    {
     "data": {
      "text/plain": [
       "MyCNN(\n",
       "  (conv1): Conv1d(3, 8, kernel_size=(9,), stride=(1,), padding=same)\n",
       "  (conv2): Conv1d(8, 8, kernel_size=(9,), stride=(2,), padding=(4,))\n",
       "  (conv3): Conv1d(8, 16, kernel_size=(7,), stride=(1,), padding=same)\n",
       "  (conv4): Conv1d(16, 16, kernel_size=(7,), stride=(2,), padding=(3,))\n",
       "  (conv5): Conv1d(16, 32, kernel_size=(5,), stride=(1,), padding=same)\n",
       "  (conv6): Conv1d(32, 32, kernel_size=(5,), stride=(2,), padding=(2,))\n",
       "  (conv7): Conv1d(32, 64, kernel_size=(3,), stride=(1,), padding=same)\n",
       "  (pool1): MaxPool1d(kernel_size=2, stride=2, padding=0, dilation=1, ceil_mode=False)\n",
       "  (bn1): BatchNorm1d(8, eps=1e-05, momentum=0.1, affine=True, track_running_stats=True)\n",
       "  (bn2): BatchNorm1d(8, eps=1e-05, momentum=0.1, affine=True, track_running_stats=True)\n",
       "  (bn3): BatchNorm1d(16, eps=1e-05, momentum=0.1, affine=True, track_running_stats=True)\n",
       "  (bn4): BatchNorm1d(16, eps=1e-05, momentum=0.1, affine=True, track_running_stats=True)\n",
       "  (bn5): BatchNorm1d(32, eps=1e-05, momentum=0.1, affine=True, track_running_stats=True)\n",
       "  (bn6): BatchNorm1d(32, eps=1e-05, momentum=0.1, affine=True, track_running_stats=True)\n",
       "  (bn7): BatchNorm1d(64, eps=1e-05, momentum=0.1, affine=True, track_running_stats=True)\n",
       "  (fc1): Linear(in_features=4992, out_features=128, bias=True)\n",
       "  (fc2): Linear(in_features=128, out_features=4, bias=True)\n",
       "  (fc1_bn): BatchNorm1d(128, eps=1e-05, momentum=0.1, affine=True, track_running_stats=True)\n",
       "  (fc2_bn): BatchNorm1d(4, eps=1e-05, momentum=0.1, affine=True, track_running_stats=True)\n",
       "  (dropout): Dropout(p=0.4, inplace=False)\n",
       ")"
      ]
     },
     "execution_count": 39,
     "metadata": {},
     "output_type": "execute_result"
    }
   ],
   "source": [
    "model_5 = MyCNN(num_classes=4, num_channels=num_channels,dropout_rate=dropout).to(device)  # Use 'cuda' if you have a GPU available\n",
    "(loss_time, val_loss_time, val_accuracy_time,test_loss,test_accuracy) = train_model(\n",
    "        model_5,train_loader,val_loader,test_loader,\n",
    "        n_epochs=n_epochs,learning_rate=learning_rate,criterion=criterion,\n",
    "        augmentation=False)\n",
    "torch.save(model_5,'model_instance_5.pth')\n",
    "model_5.eval();"
   ]
  },
  {
   "cell_type": "code",
   "execution_count": null,
   "id": "6fc12f4b",
   "metadata": {},
   "outputs": [
    {
     "name": "stdout",
     "output_type": "stream",
     "text": [
      "[Epoch 10] loss: 0.350 - accuracy: 79.435\n"
     ]
    },
    {
     "name": "stdout",
     "output_type": "stream",
     "text": [
      "[Epoch 20] loss: 0.257 - accuracy: 84.173\n",
      "[Epoch 30] loss: 0.204 - accuracy: 85.207\n",
      "[Epoch 40] loss: 0.163 - accuracy: 85.509\n",
      "test loss: 0.308 and accuracy: 89.531\n"
     ]
    },
    {
     "data": {
      "text/plain": [
       "MyCNN(\n",
       "  (conv1): Conv1d(3, 8, kernel_size=(9,), stride=(1,), padding=same)\n",
       "  (conv2): Conv1d(8, 8, kernel_size=(9,), stride=(2,), padding=(4,))\n",
       "  (conv3): Conv1d(8, 16, kernel_size=(7,), stride=(1,), padding=same)\n",
       "  (conv4): Conv1d(16, 16, kernel_size=(7,), stride=(2,), padding=(3,))\n",
       "  (conv5): Conv1d(16, 32, kernel_size=(5,), stride=(1,), padding=same)\n",
       "  (conv6): Conv1d(32, 32, kernel_size=(5,), stride=(2,), padding=(2,))\n",
       "  (conv7): Conv1d(32, 64, kernel_size=(3,), stride=(1,), padding=same)\n",
       "  (pool1): MaxPool1d(kernel_size=2, stride=2, padding=0, dilation=1, ceil_mode=False)\n",
       "  (bn1): BatchNorm1d(8, eps=1e-05, momentum=0.1, affine=True, track_running_stats=True)\n",
       "  (bn2): BatchNorm1d(8, eps=1e-05, momentum=0.1, affine=True, track_running_stats=True)\n",
       "  (bn3): BatchNorm1d(16, eps=1e-05, momentum=0.1, affine=True, track_running_stats=True)\n",
       "  (bn4): BatchNorm1d(16, eps=1e-05, momentum=0.1, affine=True, track_running_stats=True)\n",
       "  (bn5): BatchNorm1d(32, eps=1e-05, momentum=0.1, affine=True, track_running_stats=True)\n",
       "  (bn6): BatchNorm1d(32, eps=1e-05, momentum=0.1, affine=True, track_running_stats=True)\n",
       "  (bn7): BatchNorm1d(64, eps=1e-05, momentum=0.1, affine=True, track_running_stats=True)\n",
       "  (fc1): Linear(in_features=4992, out_features=128, bias=True)\n",
       "  (fc2): Linear(in_features=128, out_features=4, bias=True)\n",
       "  (fc1_bn): BatchNorm1d(128, eps=1e-05, momentum=0.1, affine=True, track_running_stats=True)\n",
       "  (fc2_bn): BatchNorm1d(4, eps=1e-05, momentum=0.1, affine=True, track_running_stats=True)\n",
       "  (dropout): Dropout(p=0.4, inplace=False)\n",
       ")"
      ]
     },
     "execution_count": 40,
     "metadata": {},
     "output_type": "execute_result"
    }
   ],
   "source": [
    "model_6 = MyCNN(num_classes=4, num_channels=num_channels,dropout_rate=dropout).to(device)  # Use 'cuda' if you have a GPU available\n",
    "(loss_time, val_loss_time, val_accuracy_time,test_loss,test_accuracy) = train_model(\n",
    "        model_6,train_loader,val_loader,test_loader,\n",
    "        n_epochs=n_epochs,learning_rate=learning_rate,criterion=criterion,\n",
    "        augmentation=False)\n",
    "\n",
    "torch.save(model_6,'model_instance_6.pth')\n",
    "model_6.eval();"
   ]
  },
  {
   "cell_type": "code",
   "execution_count": null,
   "id": "9bd30fde",
   "metadata": {},
   "outputs": [],
   "source": [
    "def ensemble_predict(models, input):\n",
    "    # Assuming input is a tensor that can be passed directly to the models\n",
    "    # And models is a list of model instances\n",
    "    with torch.no_grad():\n",
    "        predictions = [model(input) for model in models]\n",
    "        avg_predictions = torch.mean(torch.stack(predictions), dim=0)\n",
    "    return avg_predictions"
   ]
  },
  {
   "cell_type": "code",
   "execution_count": null,
   "id": "31933008",
   "metadata": {},
   "outputs": [
    {
     "name": "stdout",
     "output_type": "stream",
     "text": [
      "test loss: 0.232 and accuracy: 92.344\n"
     ]
    }
   ],
   "source": [
    "models = [model_1, model_2,  model_3,  model_4,  model_5,  model_6]  # List of your loaded models\n",
    "\n",
    "with torch.no_grad(): # Context-manager that disabled gradient calculation.\n",
    "    # Loop on samples in test set\n",
    "    total = 0\n",
    "    correct = 0\n",
    "    running_test_loss = 0\n",
    "    for data in test_loader:\n",
    "        inputs, labels = data[0].to(device), data[1].to(device)\n",
    "        inputs = inputs.float()\n",
    "        labels = labels.float()\n",
    "\n",
    "        outputs = ensemble_predict(models,inputs)\n",
    "        running_test_loss += criterion(outputs, labels).item()\n",
    "\n",
    "        correct += (outputs.argmax(1) == labels.argmax(1)).sum().item()\n",
    "        total += labels.size(0)\n",
    "\n",
    "\n",
    "    test_loss = running_test_loss/len(test_loader)\n",
    "    test_accuracy = 100 * correct / total  \n",
    "    print('test loss: %.3f and accuracy: %.3f' % ( test_loss,test_accuracy))\n"
   ]
  },
  {
   "cell_type": "code",
   "execution_count": null,
   "id": "eb8b8963",
   "metadata": {},
   "outputs": [
    {
     "data": {
      "image/png": "[encoded data removed]",
      "text/plain": [
       "<Figure size 800x550 with 2 Axes>"
      ]
     },
     "metadata": {},
     "output_type": "display_data"
    }
   ],
   "source": [
    "# performance evaluation\n",
    "\n",
    "classes = ['noise', 'explosion','earthquake','surface']\n",
    "\n",
    "from sklearn.metrics import confusion_matrix\n",
    "import seaborn as sns\n",
    "\n",
    "plt.style.use('seaborn')\n",
    "\n",
    "with torch.no_grad(): # Context-manager that disabled gradient calculation.\n",
    "    # Loop on samples in test set\n",
    "    total = 0\n",
    "    correct = 0\n",
    "    running_test_loss = 0\n",
    "    y_pred=np.zeros(len(test_loader)*batch_size)\n",
    "    y_test=np.zeros(len(test_loader)*batch_size)\n",
    "    for i,data in enumerate(test_loader):\n",
    "        inputs, labels = data[0].to(device), data[1].to(device)\n",
    "        inputs = inputs.float()\n",
    "        labels = labels.float()\n",
    "\n",
    "        outputs = ensemble_predict(models,inputs)\n",
    "        y_pred[i*batch_size:(i+1)*batch_size]=outputs.argmax(1).cpu().numpy()\n",
    "        y_test[i*batch_size:(i+1)*batch_size]=labels.argmax(1).cpu().numpy()\n",
    "    cm = confusion_matrix(y_test, y_pred)\n",
    "    sns.heatmap(cm, annot=True, cmap='Blues', fmt='d', xticklabels = classes, yticklabels = classes)\n",
    "    plt.xlabel('Predicted', fontsize = 15)\n",
    "    plt.ylabel('Actual', fontsize = 15)\n",
    "    plt.title('Total samples: '+str(len(y_pred)), fontsize = 20)\n",
    "    plt.savefig(\"confusion_matrix_mycnn_ensemble.png\")\n",
    "    plt.show()\n",
    "\n",
    "\n"
   ]
  },
  {
   "cell_type": "markdown",
   "id": "2c253910",
   "metadata": {},
   "source": [
    "### Classification"
   ]
  },
  {
   "cell_type": "code",
   "execution_count": null,
   "id": "170237e0",
   "metadata": {},
   "outputs": [
    {
     "data": {
      "image/png": "[encoded data removed]",
      "text/plain": [
       "<Figure size 800x550 with 2 Axes>"
      ]
     },
     "metadata": {},
     "output_type": "display_data"
    }
   ],
   "source": [
    "# Calculate the classification report\n",
    "from sklearn.metrics import classification_report\n",
    "report = classification_report(y_test, y_pred, output_dict=True)\n",
    "\n",
    "# Set a pleasing style\n",
    "sns.set_style(\"whitegrid\")\n",
    "\n",
    "# Create a figure and axes for the heatmap\n",
    "plt.figure()\n",
    "ax = sns.heatmap(pd.DataFrame(report).iloc[:3, :4], annot=True, cmap='Blues', xticklabels=classes, vmin=0.5, vmax=1)\n",
    "\n",
    "# Set labels and title\n",
    "ax.set_xlabel('Metrics', fontsize=15)\n",
    "ax.set_ylabel('Classes', fontsize=15)\n",
    "ax.set_title('Classification Report', fontsize=18)\n",
    "\n",
    "# Create a colorbar\n",
    "#cbar = ax.collections[0].colorbar\n",
    "#cbar.set_ticks([0.5, 1])  # Set custom tick locations\n",
    "#cbar.set_ticklabels(['0', '0.5', '1'])  # Set custom tick labels\n",
    "\n",
    "# Adjust layout\n",
    "plt.tight_layout()\n",
    "plt.savefig(\"classification_report_mycnn_ensemble.png\")\n",
    "\n",
    "# Show the plot\n",
    "plt.show()\n"
   ]
  }
 ],
 "metadata": {
  "kernelspec": {
   "display_name": "pnw_class",
   "language": "python",
   "name": "python3"
  },
  "language_info": {
   "codemirror_mode": {
    "name": "ipython",
    "version": 3
   },
   "file_extension": ".py",
   "mimetype": "text/x-python",
   "name": "python",
   "nbconvert_exporter": "python",
   "pygments_lexer": "ipython3",
   "version": "3.9.19"
  }
 },
 "nbformat": 4,
 "nbformat_minor": 5
}
