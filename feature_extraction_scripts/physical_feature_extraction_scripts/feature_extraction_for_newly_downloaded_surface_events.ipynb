{
 "cells": [
  {
   "cell_type": "code",
   "execution_count": 1,
   "id": "ec864013",
   "metadata": {},
   "outputs": [],
   "source": [
    "# importing the dependencies. \n",
    "import pandas as pd\n",
    "import numpy as np\n",
    "import h5py\n",
    "import obspy\n",
    "from obspy.signal.filter import envelope\n",
    "from tqdm import tqdm\n",
    "import tsfel\n",
    "import warnings\n",
    "import argparse\n",
    "import sys\n",
    "import os\n",
    "\n",
    "import seis_feature\n",
    "\n",
    "# Get the absolute path of the directory two levels up\n",
    "two_levels_up = os.path.abspath(os.path.join(os.getcwd(), \"../..\"))\n",
    "\n",
    "# Append the 'src' directory located two levels up to the system path\n",
    "sys.path.append(os.path.join(two_levels_up, 'src'))\n",
    "\n",
    "from utils import apply_cosine_taper\n",
    "from utils import butterworth_filter\n",
    "from utils import resample_array\n",
    "\n",
    "# Ignore all warnings\n",
    "warnings.filterwarnings(\"ignore\")\n",
    "\n",
    "# displaying all columns from pandas dataframe\n",
    "pd.set_option('display.max_columns', None)\n",
    "import matplotlib.pyplot as plt\n",
    "\n",
    "from glob import glob"
   ]
  },
  {
   "cell_type": "code",
   "execution_count": null,
   "id": "fd825822",
   "metadata": {},
   "outputs": [],
   "source": []
  },
  {
   "cell_type": "code",
   "execution_count": null,
   "id": "68f7ab9f",
   "metadata": {},
   "outputs": [],
   "source": []
  },
  {
   "cell_type": "code",
   "execution_count": null,
   "id": "f86ea1b5",
   "metadata": {},
   "outputs": [],
   "source": []
  },
  {
   "cell_type": "markdown",
   "id": "455b6d0f",
   "metadata": {},
   "source": [
    "## Vary the parameters and extract the features"
   ]
  },
  {
   "cell_type": "code",
   "execution_count": 46,
   "id": "e6e17b8c",
   "metadata": {},
   "outputs": [
    {
     "name": "stderr",
     "output_type": "stream",
     "text": [
      "  5%|▍         | 321/6517 [00:03<01:05, 94.44it/s] "
     ]
    },
    {
     "name": "stdout",
     "output_type": "stream",
     "text": [
      "Skipping event pnsn1080683 due to error: [Errno 2] No such file or directory: '../../data/surface_event_waveforms/CC.VALT..BHZ__20100711T001407Z__20100711T001707Z.mseed'\n"
     ]
    },
    {
     "name": "stderr",
     "output_type": "stream",
     "text": [
      "  8%|▊         | 525/6517 [00:05<01:06, 89.49it/s] "
     ]
    },
    {
     "name": "stdout",
     "output_type": "stream",
     "text": [
      "Skipping event pnsn1115258 due to error: [Errno 2] No such file or directory: '../../data/surface_event_waveforms/CC.OBSR..BHZ__20110919T204456Z__20110919T204756Z.mseed'\n"
     ]
    },
    {
     "name": "stderr",
     "output_type": "stream",
     "text": [
      " 18%|█▊        | 1194/6517 [00:12<00:44, 119.50it/s]"
     ]
    },
    {
     "name": "stdout",
     "output_type": "stream",
     "text": [
      "Skipping event pnsn1440093 due to error: [Errno 2] No such file or directory: '../../data/surface_event_waveforms/CC.OBSR..BHZ__20130709T055700Z__20130709T060000Z.mseed'\n",
      "Skipping event pnsn1443143 due to error: [Errno 2] No such file or directory: '../../data/surface_event_waveforms/CC.PANH..BHZ__20130717T070058Z__20130717T070358Z.mseed'\n"
     ]
    },
    {
     "name": "stderr",
     "output_type": "stream",
     "text": [
      " 65%|██████▍   | 4212/6517 [00:42<00:23, 99.78it/s] "
     ]
    },
    {
     "name": "stdout",
     "output_type": "stream",
     "text": [
      "Skipping event pnsn3123648 due to error: [Errno 2] No such file or directory: '../../data/surface_event_waveforms/UW.LON..HHZ__20200415T214452Z__20200415T214752Z.mseed'\n"
     ]
    },
    {
     "name": "stderr",
     "output_type": "stream",
     "text": [
      "100%|██████████| 6517/6517 [01:07<00:00, 96.57it/s] \n"
     ]
    },
    {
     "name": "stdout",
     "output_type": "stream",
     "text": [
      "Data shape: (6512, 15000)\n"
     ]
    },
    {
     "name": "stderr",
     "output_type": "stream",
     "text": [
      "100%|██████████| 6512/6512 [03:11<00:00, 33.96it/s]\n"
     ]
    },
    {
     "name": "stdout",
     "output_type": "stream",
     "text": [
      "Feature DataFrame shape: (6512, 63)\n"
     ]
    }
   ],
   "source": [
    "# Load dataset\n",
    "new_su_cat = pd.read_csv(glob('../../data/additional_surface_events_good_snr.csv')[0], index_col=0)\n",
    "\n",
    "# Constants\n",
    "TAPER_AMOUNT = 10\n",
    "LOW_FREQ, HIGH_FREQ = 1, 10\n",
    "ORIGINAL_SR, NEW_SR = 100, 50\n",
    "NUM_CORNERS = 4\n",
    "START, END = 50, 100\n",
    "ARRIVAL = 7000\n",
    "\n",
    "# Initialize lists for storing results\n",
    "data, evids = [], []\n",
    "\n",
    "# Process each event\n",
    "for _, row in tqdm(new_su_cat.iterrows(), total=len(new_su_cat)):\n",
    "    try:\n",
    "        new_file_path = row['file_path'].replace('HN', 'HZ')\n",
    "        evid = f\"{row['event_id']}_{row['station_network_code']}.{row['station_code']}\"\n",
    "\n",
    "        # Read and preprocess waveform\n",
    "        stream = obspy.read('../' + new_file_path)\n",
    "        stream.detrend('linear')\n",
    "        stream.resample(ORIGINAL_SR)\n",
    "\n",
    "        tr = stream[0].data[int(ARRIVAL - START * ORIGINAL_SR) : int(ARRIVAL + END * ORIGINAL_SR)]\n",
    "        data.append(tr)\n",
    "        evids.append(evid)\n",
    "    except Exception as e:\n",
    "        print(f\"Skipping event {row['event_id']} due to error: {e}\")\n",
    "\n",
    "# Convert to NumPy array\n",
    "data = np.array(data)\n",
    "print(f\"Data shape: {data.shape}\")\n",
    "\n",
    "# Signal processing\n",
    "tapered_data = apply_cosine_taper(data, taper_percent=TAPER_AMOUNT)\n",
    "filtered_data = np.array(butterworth_filter(tapered_data, LOW_FREQ, HIGH_FREQ, ORIGINAL_SR, NUM_CORNERS, 'bandpass'))\n",
    "normalized_data = filtered_data / np.max(abs(filtered_data), axis=1, keepdims=True)\n",
    "resampled_data = np.array([resample_array(arr, ORIGINAL_SR, NEW_SR) for arr in normalized_data])\n",
    "\n",
    "# Feature extraction\n",
    "feature_list = []\n",
    "for i in tqdm(range(len(resampled_data))):\n",
    "    try:\n",
    "        features = seis_feature.FeatureCalculator(resampled_data[i], fs=NEW_SR).compute_features()\n",
    "        features['new_event_id'] = evids[i]\n",
    "        feature_list.append(features)\n",
    "    except Exception as e:\n",
    "        print(f\"Feature extraction failed for {evids[i]}: {e}\")\n",
    "\n",
    "# Combine features into a DataFrame\n",
    "features_df = pd.concat(feature_list, ignore_index=True)\n",
    "print(f\"Feature DataFrame shape: {features_df.shape}\")\n",
    "\n",
    "low_freq = str(LOW_FREQ).replace('.','')\n",
    "features_df.to_csv(f'../../extracted_features/physical_features_new_surface event_P_{START}_{END}_F_'+low_freq+f'_{HIGH_FREQ}_{NEW_SR}_part_1.csv')\n",
    "\n"
   ]
  },
  {
   "cell_type": "code",
   "execution_count": 37,
   "id": "85e86f08",
   "metadata": {},
   "outputs": [
    {
     "data": {
      "text/plain": [
       "'1'"
      ]
     },
     "execution_count": 37,
     "metadata": {},
     "output_type": "execute_result"
    }
   ],
   "source": []
  },
  {
   "cell_type": "code",
   "execution_count": null,
   "id": "21256891",
   "metadata": {},
   "outputs": [],
   "source": []
  },
  {
   "cell_type": "code",
   "execution_count": null,
   "id": "3b3ed699",
   "metadata": {},
   "outputs": [],
   "source": []
  },
  {
   "cell_type": "code",
   "execution_count": null,
   "id": "2bd5886b",
   "metadata": {},
   "outputs": [],
   "source": []
  },
  {
   "cell_type": "code",
   "execution_count": null,
   "id": "b6b165ce",
   "metadata": {},
   "outputs": [],
   "source": []
  }
 ],
 "metadata": {
  "kernelspec": {
   "display_name": "surface",
   "language": "python",
   "name": "surface"
  },
  "language_info": {
   "codemirror_mode": {
    "name": "ipython",
    "version": 3
   },
   "file_extension": ".py",
   "mimetype": "text/x-python",
   "name": "python",
   "nbconvert_exporter": "python",
   "pygments_lexer": "ipython3",
   "version": "3.9.5"
  }
 },
 "nbformat": 4,
 "nbformat_minor": 5
}
