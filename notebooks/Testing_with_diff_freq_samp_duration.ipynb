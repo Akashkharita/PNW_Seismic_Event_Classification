{
 "cells": [
  {
   "cell_type": "markdown",
   "id": "a9835252",
   "metadata": {},
   "source": [
    "- Created by Akash Kharita (PhD student, University of Washington)\n",
    "-05/26/2024\n",
    "\n",
    "This notebook involves comparison of performance of the random forest model trained on the commbination of over physical and tsfel features for various sampling rates, window lengths, and frequency bands "
   ]
  },
  {
   "cell_type": "code",
   "execution_count": 163,
   "id": "e554f7aa",
   "metadata": {},
   "outputs": [],
   "source": [
    "import numpy as np\n",
    "import pandas as pd\n",
    "from glob import glob \n",
    "from tqdm import tqdm\n",
    "import seaborn as sns \n",
    "\n",
    "# for converting the text file containing the quarry locations into csv file\n",
    "import csv\n",
    "\n",
    "# for computing the geographical distance between two points \n",
    "import math\n",
    "\n",
    "\n",
    "from sklearn.model_selection import train_test_split\n",
    "from imblearn.under_sampling import RandomUnderSampler\n",
    "import matplotlib.pyplot as plt\n",
    "from sklearn.ensemble import RandomForestClassifier\n",
    "from sklearn.metrics import accuracy_score, roc_curve, roc_auc_score, auc, classification_report, confusion_matrix\n",
    "from sklearn.model_selection import RandomizedSearchCV, GridSearchCV, cross_val_score\n",
    "from datetime import datetime\n",
    "import h5py\n",
    "from sklearn.preprocessing import LabelEncoder\n",
    "from scipy import stats, signal\n",
    "from sklearn.preprocessing import StandardScaler\n",
    "import obspy\n",
    "from obspy.geodetics.base import gps2dist_azimuth, gps2dist_azimuth\n",
    "from obspy.clients.fdsn import Client\n",
    "import time\n",
    "pd.set_option('display.max_columns', None)\n",
    "from joblib import dump, load\n",
    "from obspy.signal.filter import envelope\n",
    "import tsfel\n",
    "\n",
    "\n",
    "import sys\n",
    "sys.path.append('../feature_extraction_scripts/physical_feature_extraction_scripts')\n",
    "import seis_feature\n",
    "#from seis_feature import compute_physical_features\n",
    "from tsfel import time_series_features_extractor, get_features_by_domain\n",
    "from datetime import timedelta\n",
    "import os\n",
    "import sys\n",
    "sys.path.append('../common_scripts')\n",
    "\n",
    "from common_processing_functions import apply_cosine_taper\n",
    "from common_processing_functions import butterworth_filter\n",
    "\n",
    "import pickle\n",
    "from zenodo_get import zenodo_get\n",
    "\n",
    "from multiprocessing import Pool, cpu_count\n",
    "from scipy.signal import resample\n",
    "import pickle"
   ]
  },
  {
   "cell_type": "code",
   "execution_count": null,
   "id": "c9779846",
   "metadata": {},
   "outputs": [],
   "source": []
  },
  {
   "cell_type": "code",
   "execution_count": null,
   "id": "34c49e64",
   "metadata": {},
   "outputs": [],
   "source": []
  },
  {
   "cell_type": "code",
   "execution_count": null,
   "id": "d8ff978a",
   "metadata": {},
   "outputs": [],
   "source": []
  },
  {
   "cell_type": "code",
   "execution_count": 236,
   "id": "8fb8f4a4",
   "metadata": {},
   "outputs": [],
   "source": [
    "def resample_array(arr, original_rate, desired_rate):\n",
    "    num_samples = len(arr)\n",
    "    duration = num_samples / original_rate  # Duration of the array in seconds\n",
    "    new_num_samples = int(duration * desired_rate)\n",
    "    return resample(arr, new_num_samples)\n",
    "\n",
    "\n",
    "\n",
    "\n",
    "def process_file(h5_file, indices, buckets, times, win_before, win_after, pick_time, nos):\n",
    "    data = []\n",
    "    t = []\n",
    "    with h5py.File(h5_file, 'r') as f:\n",
    "        for i in tqdm(range(nos)):\n",
    "            data.append(f['/data/' + buckets[i]][indices[i], 2, pick_time - win_before:pick_time + win_after])\n",
    "            t.append(UTCDateTime(times[i]))\n",
    "    return np.array(data), np.array(t)\n",
    "\n",
    "def extract_features(data, t, cfg_file, fs):\n",
    "    df = pd.DataFrame([])\n",
    "    for i in tqdm(range(len(data))):\n",
    "        try:\n",
    "            tsfel_features = tsfel.time_series_features_extractor(cfg_file, data[i], fs=fs, verbose = 0)\n",
    "            physical_features = seis_feature.FeatureCalculator(data[i], fs=fs).compute_features()\n",
    "            final_features = pd.concat([tsfel_features, physical_features], axis=1)\n",
    "            final_features['hod'] = t[i].hour - 8\n",
    "            final_features['dow'] = t[i].weekday\n",
    "            final_features['moy'] = t[i].month\n",
    "            df = pd.concat([df, final_features])\n",
    "        except:\n",
    "            pass\n",
    "  \n",
    "    return df\n",
    "\n",
    "def compute_features(win_before=2000, win_after=3000, nos=300, fmin=1, fmax=10, fs=100):\n",
    "    comcat_file_name = \"/data/whd01/yiyu_data/PNWML/comcat_waveforms.hdf5\"\n",
    "    comcat_csv_file = pd.read_csv(\"/data/whd01/yiyu_data/PNWML/comcat_metadata.csv\")\n",
    "\n",
    "    buckets = [name.split('$')[0] for name in comcat_csv_file['trace_name'].values]\n",
    "    indices = [int(name.split('$')[1].split(',')[0]) for name in comcat_csv_file['trace_name'].values]\n",
    "    source = comcat_csv_file['source_type'].values\n",
    "\n",
    "    exp_indices = np.where(source == 'explosion')[0]\n",
    "    eq_indices = np.where(source == 'earthquake')[0]\n",
    "\n",
    "    data_exp, t_exp = process_file(comcat_file_name, np.array(indices)[exp_indices], np.array(buckets)[exp_indices], \n",
    "                                   comcat_csv_file['trace_start_time'].values[exp_indices], win_before, win_after, 5000, nos)\n",
    "    \n",
    "    data_eq, t_eq = process_file(comcat_file_name, np.array(indices)[eq_indices], np.array(buckets)[eq_indices], \n",
    "                                 comcat_csv_file['trace_start_time'].values[eq_indices], win_before, win_after, 5000, nos)\n",
    "\n",
    "    exotic_file_name = \"/data/whd01/yiyu_data/PNWML/exotic_waveforms.hdf5\"\n",
    "    exotic_csv_file = pd.read_csv(\"/data/whd01/yiyu_data/PNWML/exotic_metadata.csv\")\n",
    "    \n",
    "    buckets = [name.split('$')[0] for name in exotic_csv_file['trace_name'].values]\n",
    "    indices = [int(name.split('$')[1].split(',')[0]) for name in exotic_csv_file['trace_name'].values]\n",
    "    source = exotic_csv_file['source_type'].values\n",
    "    \n",
    "    su_indices = np.where(source == 'surface event')[0]\n",
    "\n",
    "    data_su, t_su = process_file(exotic_file_name, np.array(indices)[su_indices], np.array(buckets)[su_indices], \n",
    "                                 exotic_csv_file['trace_start_time'].values[su_indices], win_before, win_after, 7000, nos)\n",
    "\n",
    "    noise_file_name = \"/data/whd01/yiyu_data/PNWML/noise_waveforms.hdf5\"\n",
    "    noise_csv_file = pd.read_csv(\"/data/whd01/yiyu_data/PNWML/noise_metadata.csv\")\n",
    "\n",
    "    buckets = [name.split('$')[0] for name in noise_csv_file['trace_name'].values]\n",
    "    indices = [int(name.split('$')[1].split(',')[0]) for name in noise_csv_file['trace_name'].values]\n",
    "\n",
    "    data_no, t_no = process_file(noise_file_name, np.array(indices), np.array(buckets), \n",
    "                                 noise_csv_file['trace_start_time'].values, win_before, win_after, 5000, nos)\n",
    "\n",
    "    tp = 10\n",
    "    nc = 4\n",
    "\n",
    "    def process_data(data):\n",
    "        tapered = apply_cosine_taper(data, taper_percent=tp)\n",
    "        filtered = np.array(butterworth_filter(tapered, fmin, fmax, fs, nc, 'bandpass'))\n",
    "        return filtered / np.max(np.abs(filtered), axis=1)[:, np.newaxis]\n",
    "\n",
    "    norm_eq = process_data(data_eq)\n",
    "    norm_exp = process_data(data_exp)\n",
    "    norm_su = process_data(data_su)\n",
    "    norm_no = process_data(data_no)\n",
    "\n",
    "    norm_eq = np.array([resample_array(arr, 100, fs) for arr in norm_eq])\n",
    "    norm_exp = np.array([resample_array(arr, 100, fs) for arr in norm_exp])\n",
    "    norm_su = np.array([resample_array(arr, 100, fs) for arr in norm_su])\n",
    "    norm_no = np.array([resample_array(arr, 100, fs) for arr in norm_no])\n",
    "    \n",
    "    print(len(norm_eq[0]))\n",
    "    \n",
    "    cfg_file = tsfel.get_features_by_domain()\n",
    "\n",
    "    with Pool(cpu_count()) as pool:\n",
    "        df_eq = pool.apply_async(extract_features, (norm_eq, t_eq, cfg_file, fs)).get()\n",
    "        df_exp = pool.apply_async(extract_features, (norm_exp, t_exp, cfg_file, fs)).get()\n",
    "        df_su = pool.apply_async(extract_features, (norm_su, t_su, cfg_file, fs)).get()\n",
    "        df_no = pool.apply_async(extract_features, (norm_no, t_no, cfg_file, fs)).get()\n",
    "\n",
    "    return df_eq, df_exp, df_su, df_no\n",
    "\n",
    "\n",
    "\n",
    "\n",
    "def compute_features_single_core(win_before=2000, win_after=3000, nos=10, fmin=1, fmax=10, fs=100):\n",
    "    comcat_file_name = \"/data/whd01/yiyu_data/PNWML/comcat_waveforms.hdf5\"\n",
    "    comcat_csv_file = pd.read_csv(\"/data/whd01/yiyu_data/PNWML/comcat_metadata.csv\")\n",
    "\n",
    "    buckets = [name.split('$')[0] for name in comcat_csv_file['trace_name'].values]\n",
    "    indices = [int(name.split('$')[1].split(',')[0]) for name in comcat_csv_file['trace_name'].values]\n",
    "    source = comcat_csv_file['source_type'].values\n",
    "\n",
    "    exp_indices = np.where(source == 'explosion')[0]\n",
    "    eq_indices = np.where(source == 'earthquake')[0]\n",
    "\n",
    "    data_exp, t_exp = process_file(comcat_file_name, np.array(indices)[exp_indices], np.array(buckets)[exp_indices], \n",
    "                                   comcat_csv_file['trace_start_time'].values[exp_indices], win_before, win_after, 5000, nos)\n",
    "    \n",
    "    data_eq, t_eq = process_file(comcat_file_name, np.array(indices)[eq_indices], np.array(buckets)[eq_indices], \n",
    "                                 comcat_csv_file['trace_start_time'].values[eq_indices], win_before, win_after, 5000, nos)\n",
    "\n",
    "    exotic_file_name = \"/data/whd01/yiyu_data/PNWML/exotic_waveforms.hdf5\"\n",
    "    exotic_csv_file = pd.read_csv(\"/data/whd01/yiyu_data/PNWML/exotic_metadata.csv\")\n",
    "    \n",
    "    buckets = [name.split('$')[0] for name in exotic_csv_file['trace_name'].values]\n",
    "    indices = [int(name.split('$')[1].split(',')[0]) for name in exotic_csv_file['trace_name'].values]\n",
    "    source = exotic_csv_file['source_type'].values\n",
    "    \n",
    "    su_indices = np.where(source == 'surface event')[0]\n",
    "\n",
    "    data_su, t_su = process_file(exotic_file_name, np.array(indices)[su_indices], np.array(buckets)[su_indices], \n",
    "                                 exotic_csv_file['trace_start_time'].values[su_indices], win_before, win_after, 7000, nos)\n",
    "\n",
    "    noise_file_name = \"/data/whd01/yiyu_data/PNWML/noise_waveforms.hdf5\"\n",
    "    noise_csv_file = pd.read_csv(\"/data/whd01/yiyu_data/PNWML/noise_metadata.csv\")\n",
    "\n",
    "    buckets = [name.split('$')[0] for name in noise_csv_file['trace_name'].values]\n",
    "    indices = [int(name.split('$')[1].split(',')[0]) for name in noise_csv_file['trace_name'].values]\n",
    "\n",
    "    data_no, t_no = process_file(noise_file_name, np.array(indices), np.array(buckets), \n",
    "                                 noise_csv_file['trace_start_time'].values, win_before, win_after, 5000, nos)\n",
    "\n",
    "    tp = 10\n",
    "    nc = 4\n",
    "\n",
    "    def process_data(data):\n",
    "        tapered = apply_cosine_taper(data, taper_percent=tp)\n",
    "        filtered = np.array(butterworth_filter(tapered, fmin, fmax, fs, nc, 'bandpass'))\n",
    "        return filtered / np.max(np.abs(filtered), axis=1)[:, np.newaxis]\n",
    "\n",
    "    norm_eq = process_data(data_eq)\n",
    "    norm_exp = process_data(data_exp)\n",
    "    norm_su = process_data(data_su)\n",
    "    norm_no = process_data(data_no)\n",
    "\n",
    "    norm_eq = np.array([resample_array(arr, 100, fs) for arr in norm_eq])\n",
    "    norm_exp = np.array([resample_array(arr, 100, fs) for arr in norm_exp])\n",
    "    norm_su = np.array([resample_array(arr, 100, fs) for arr in norm_su])\n",
    "    norm_no = np.array([resample_array(arr, 100, fs) for arr in norm_no])\n",
    "    \n",
    "    print(len(norm_eq[0]))\n",
    "    \n",
    "    cfg_file = tsfel.get_features_by_domain()\n",
    "\n",
    "    # Sequential feature extraction instead of parallel\n",
    "    df_eq = extract_features(norm_eq, t_eq, cfg_file, fs)\n",
    "    df_exp = extract_features(norm_exp, t_exp, cfg_file, fs)\n",
    "    df_su = extract_features(norm_su, t_su, cfg_file, fs)\n",
    "    df_no = extract_features(norm_no, t_no, cfg_file, fs)\n",
    "\n",
    "    return df_eq, df_exp, df_su, df_no\n",
    "\n",
    "\n",
    "def return_classification_report(all_results):\n",
    "    cr_all = []\n",
    "    for i in tqdm(range(len(all_results))):\n",
    "        a, b, c, d = all_results[0][1][0], all_results[0][1][1], all_results[0][1][2], all_results[0][1][3]\n",
    "\n",
    "        all_features = pd.concat([a, b, c, d])\n",
    "        y = ['earthquake']*len(a)+['explosion']*len(b)+['surface']*len(c)+['noise']*len(d)\n",
    "        all_features['source'] = y\n",
    "        all_features = all_features.dropna(axis = 1)\n",
    "\n",
    "        all_features = all_features.replace([np.inf, -np.inf], np.nan)\n",
    "        all_features = all_features.dropna()\n",
    "        x = all_features.drop(['source'], axis = 1)\n",
    "        y  = all_features['source'].values\n",
    "\n",
    "\n",
    "        # Initialize the LabelEncoder\n",
    "        label_encoder = LabelEncoder()\n",
    "\n",
    "        # Fit the LabelEncoder on the text labels and transform them to numeric labels\n",
    "        y_num = label_encoder.fit_transform(y)\n",
    "\n",
    "        # Initialize the StandardScaler\n",
    "        scaler = StandardScaler()\n",
    "\n",
    "        # Apply standard scaling to the DataFrame\n",
    "        scaled_features = scaler.fit_transform(x)\n",
    "\n",
    "        # Create a new DataFrame with scaled features\n",
    "        x_scaled = pd.DataFrame(scaled_features, columns=x.columns)\n",
    "\n",
    "\n",
    "\n",
    "        # Split the data into training and testing sets\n",
    "        X_train, X_test, y_train, y_test = train_test_split(x_scaled, y_num, test_size=0.3)\n",
    "\n",
    "\n",
    "        # Initialize the Random Forest model\n",
    "        rf_model = RandomForestClassifier(random_state=42)\n",
    "\n",
    "\n",
    "        rf_model.fit(X_train, y_train)\n",
    "\n",
    "        y_pred = rf_model.predict(X_test)\n",
    "\n",
    "        cr_all.append(classification_report(y_test, y_pred, output_dict = True))\n",
    "        \n",
    "        \n",
    "        \n",
    "    return cr_all"
   ]
  },
  {
   "cell_type": "code",
   "execution_count": null,
   "id": "facf7365",
   "metadata": {},
   "outputs": [],
   "source": []
  },
  {
   "cell_type": "code",
   "execution_count": null,
   "id": "f938be5f",
   "metadata": {},
   "outputs": [],
   "source": []
  },
  {
   "cell_type": "code",
   "execution_count": 237,
   "id": "dedc5f6a",
   "metadata": {},
   "outputs": [],
   "source": [
    "## Extracting for 40 Hz\n",
    "# Define the path to your pickle file\n",
    "file_path = '../results/results_40.pkl'\n",
    "\n",
    "# Open the pickle file in read-binary mode\n",
    "with open(file_path, 'rb') as file:\n",
    "    # Load the content of the pickle file\n",
    "    all_results_40 = pickle.load(file)\n",
    "    \n",
    "\n",
    "## Extracting for 50 Hz\n",
    "# Define the path to your pickle file\n",
    "file_path = '../results/results_50.pkl'\n",
    "\n",
    "# Open the pickle file in read-binary mode\n",
    "with open(file_path, 'rb') as file:\n",
    "    # Load the content of the pickle file\n",
    "    all_results_50 = pickle.load(file)\n",
    "\n",
    "\n",
    "## Extracting for 100 Hz\n",
    "# Define the path to your pickle file\n",
    "file_path = '../results/results_100.pkl'\n",
    "\n",
    "# Open the pickle file in read-binary mode\n",
    "with open(file_path, 'rb') as file:\n",
    "    # Load the content of the pickle file\n",
    "    all_results_100 = pickle.load(file)"
   ]
  },
  {
   "cell_type": "code",
   "execution_count": null,
   "id": "3039f9fd",
   "metadata": {},
   "outputs": [],
   "source": []
  },
  {
   "cell_type": "code",
   "execution_count": null,
   "id": "2d3108e2",
   "metadata": {},
   "outputs": [],
   "source": []
  },
  {
   "cell_type": "code",
   "execution_count": 247,
   "id": "d9fbbb95",
   "metadata": {},
   "outputs": [
    {
     "name": "stderr",
     "output_type": "stream",
     "text": [
      "  0%|          | 0/10 [00:00<?, ?it/s]\n",
      "  0%|          | 0/20 [00:00<?, ?it/s]\u001b[A\n",
      "  5%|▌         | 1/20 [00:12<03:47, 12.00s/it]\u001b[A\n",
      " 10%|█         | 2/20 [00:24<03:38, 12.13s/it]\u001b[A\n",
      " 15%|█▌        | 3/20 [00:36<03:25, 12.07s/it]\u001b[A\n",
      " 20%|██        | 4/20 [00:48<03:13, 12.09s/it]\u001b[A\n",
      " 25%|██▌       | 5/20 [01:00<03:01, 12.08s/it]\u001b[A\n",
      " 30%|███       | 6/20 [01:12<02:48, 12.03s/it]\u001b[A\n",
      " 35%|███▌      | 7/20 [01:24<02:36, 12.01s/it]\u001b[A\n",
      " 40%|████      | 8/20 [01:36<02:24, 12.08s/it]\u001b[A\n",
      " 45%|████▌     | 9/20 [01:48<02:13, 12.11s/it]\u001b[A\n",
      " 50%|█████     | 10/20 [02:00<02:00, 12.09s/it]\u001b[A\n",
      " 55%|█████▌    | 11/20 [02:12<01:48, 12.06s/it]\u001b[A\n",
      " 60%|██████    | 12/20 [02:25<01:37, 12.13s/it]\u001b[A\n",
      " 65%|██████▌   | 13/20 [02:37<01:24, 12.14s/it]\u001b[A\n",
      " 70%|███████   | 14/20 [02:49<01:12, 12.10s/it]\u001b[A\n",
      " 75%|███████▌  | 15/20 [03:01<01:00, 12.02s/it]\u001b[A\n",
      " 80%|████████  | 16/20 [03:12<00:47, 12.00s/it]\u001b[A\n",
      " 85%|████████▌ | 17/20 [03:25<00:36, 12.09s/it]\u001b[A\n",
      " 90%|█████████ | 18/20 [03:37<00:24, 12.06s/it]\u001b[A\n",
      " 95%|█████████▌| 19/20 [03:49<00:12, 12.20s/it]\u001b[A\n",
      "100%|██████████| 20/20 [04:02<00:00, 12.10s/it]\u001b[A\n",
      "\n",
      "  0%|          | 0/20 [00:00<?, ?it/s]\u001b[A\n",
      "  5%|▌         | 1/20 [00:12<03:56, 12.44s/it]\u001b[A\n",
      " 10%|█         | 2/20 [00:24<03:44, 12.48s/it]\u001b[A\n",
      " 15%|█▌        | 3/20 [00:37<03:31, 12.47s/it]\u001b[A\n",
      " 20%|██        | 4/20 [00:49<03:19, 12.50s/it]\u001b[A\n",
      " 25%|██▌       | 5/20 [01:02<03:08, 12.54s/it]\u001b[A\n",
      " 30%|███       | 6/20 [01:14<02:55, 12.50s/it]\u001b[A\n",
      " 35%|███▌      | 7/20 [01:27<02:42, 12.49s/it]\u001b[A\n",
      " 40%|████      | 8/20 [01:40<02:30, 12.54s/it]\u001b[A\n",
      " 45%|████▌     | 9/20 [01:52<02:18, 12.57s/it]\u001b[A\n",
      " 50%|█████     | 10/20 [02:05<02:04, 12.50s/it]\u001b[A\n",
      " 55%|█████▌    | 11/20 [02:17<01:52, 12.49s/it]\u001b[A\n",
      " 60%|██████    | 12/20 [02:30<01:40, 12.50s/it]\u001b[A\n",
      " 65%|██████▌   | 13/20 [02:42<01:27, 12.52s/it]\u001b[A\n",
      " 70%|███████   | 14/20 [02:55<01:15, 12.55s/it]\u001b[A\n",
      " 75%|███████▌  | 15/20 [03:07<01:02, 12.50s/it]\u001b[A\n",
      " 80%|████████  | 16/20 [03:20<00:49, 12.48s/it]\u001b[A\n",
      " 85%|████████▌ | 17/20 [03:32<00:37, 12.43s/it]\u001b[A\n",
      " 90%|█████████ | 18/20 [03:45<00:24, 12.49s/it]\u001b[A\n",
      " 95%|█████████▌| 19/20 [03:57<00:12, 12.52s/it]\u001b[A\n",
      "100%|██████████| 20/20 [04:10<00:00, 12.51s/it]\u001b[A\n",
      "\n",
      "  0%|          | 0/20 [00:00<?, ?it/s]\u001b[A\n",
      "  5%|▌         | 1/20 [00:13<04:08, 13.10s/it]\u001b[A\n",
      " 10%|█         | 2/20 [00:26<03:59, 13.31s/it]\u001b[A\n",
      " 15%|█▌        | 3/20 [00:39<03:44, 13.20s/it]\u001b[A\n",
      " 20%|██        | 4/20 [00:52<03:31, 13.21s/it]\u001b[A\n",
      " 25%|██▌       | 5/20 [01:06<03:18, 13.25s/it]\u001b[A\n",
      " 30%|███       | 6/20 [01:19<03:04, 13.21s/it]\u001b[A\n",
      " 35%|███▌      | 7/20 [01:32<02:52, 13.26s/it]\u001b[A\n",
      " 40%|████      | 8/20 [01:45<02:37, 13.13s/it]\u001b[A\n",
      " 45%|████▌     | 9/20 [01:58<02:23, 13.09s/it]\u001b[A\n",
      " 50%|█████     | 10/20 [02:11<02:10, 13.10s/it]\u001b[A\n",
      " 55%|█████▌    | 11/20 [02:24<01:58, 13.16s/it]\u001b[A\n",
      " 60%|██████    | 12/20 [02:38<01:45, 13.18s/it]\u001b[A\n",
      " 65%|██████▌   | 13/20 [02:51<01:32, 13.22s/it]\u001b[A\n",
      " 70%|███████   | 14/20 [03:04<01:19, 13.27s/it]\u001b[A\n",
      " 75%|███████▌  | 15/20 [03:17<01:05, 13.15s/it]\u001b[A\n",
      " 80%|████████  | 16/20 [03:31<00:52, 13.25s/it]\u001b[A\n",
      " 85%|████████▌ | 17/20 [03:44<00:39, 13.21s/it]\u001b[A\n",
      " 90%|█████████ | 18/20 [03:57<00:26, 13.23s/it]\u001b[A\n",
      " 95%|█████████▌| 19/20 [04:10<00:13, 13.19s/it]\u001b[A\n",
      "100%|██████████| 20/20 [04:23<00:00, 13.19s/it]\u001b[A\n",
      " 10%|█         | 1/10 [12:36<1:53:24, 756.07s/it]\n",
      "  0%|          | 0/20 [00:00<?, ?it/s]\u001b[A\n",
      "  5%|▌         | 1/20 [00:11<03:46, 11.91s/it]\u001b[A\n",
      " 10%|█         | 2/20 [00:24<03:38, 12.15s/it]\u001b[A\n",
      " 15%|█▌        | 3/20 [00:36<03:26, 12.13s/it]\u001b[A\n",
      " 20%|██        | 4/20 [00:48<03:14, 12.17s/it]\u001b[A\n",
      " 25%|██▌       | 5/20 [01:00<03:00, 12.06s/it]\u001b[A\n",
      " 30%|███       | 6/20 [01:12<02:49, 12.10s/it]\u001b[A\n",
      " 35%|███▌      | 7/20 [01:24<02:37, 12.09s/it]\u001b[A\n",
      " 40%|████      | 8/20 [01:36<02:25, 12.11s/it]\u001b[A\n",
      " 45%|████▌     | 9/20 [01:49<02:13, 12.13s/it]\u001b[A\n",
      " 50%|█████     | 10/20 [02:01<02:01, 12.17s/it]\u001b[A\n",
      " 55%|█████▌    | 11/20 [02:13<01:49, 12.19s/it]\u001b[A\n",
      " 60%|██████    | 12/20 [02:25<01:37, 12.15s/it]\u001b[A\n",
      " 65%|██████▌   | 13/20 [02:37<01:24, 12.13s/it]\u001b[A\n",
      " 70%|███████   | 14/20 [02:49<01:12, 12.10s/it]\u001b[A\n",
      " 75%|███████▌  | 15/20 [03:01<01:00, 12.08s/it]\u001b[A\n",
      " 80%|████████  | 16/20 [03:13<00:48, 12.13s/it]\u001b[A\n",
      " 85%|████████▌ | 17/20 [03:26<00:36, 12.20s/it]\u001b[A\n",
      " 90%|█████████ | 18/20 [03:38<00:24, 12.16s/it]\u001b[A\n",
      " 95%|█████████▌| 19/20 [03:50<00:12, 12.12s/it]\u001b[A\n",
      "100%|██████████| 20/20 [04:02<00:00, 12.13s/it]\u001b[A\n",
      "\n",
      "  0%|          | 0/20 [00:00<?, ?it/s]\u001b[A\n",
      "  5%|▌         | 1/20 [00:12<03:59, 12.61s/it]\u001b[A\n",
      " 10%|█         | 2/20 [00:25<03:48, 12.68s/it]\u001b[A\n",
      " 15%|█▌        | 3/20 [00:37<03:33, 12.58s/it]\u001b[A\n",
      " 20%|██        | 4/20 [00:50<03:21, 12.58s/it]\u001b[A\n",
      " 25%|██▌       | 5/20 [01:02<03:07, 12.48s/it]\u001b[A\n",
      " 30%|███       | 6/20 [01:15<02:55, 12.52s/it]\u001b[A\n",
      " 35%|███▌      | 7/20 [01:27<02:42, 12.50s/it]\u001b[A\n",
      " 40%|████      | 8/20 [01:40<02:30, 12.52s/it]\u001b[A\n",
      " 45%|████▌     | 9/20 [01:52<02:17, 12.52s/it]\u001b[A\n",
      " 50%|█████     | 10/20 [02:05<02:05, 12.58s/it]\u001b[A\n",
      " 55%|█████▌    | 11/20 [02:17<01:52, 12.53s/it]\u001b[A\n",
      " 60%|██████    | 12/20 [02:30<01:40, 12.51s/it]\u001b[A\n",
      " 65%|██████▌   | 13/20 [02:43<01:28, 12.61s/it]\u001b[A\n",
      " 70%|███████   | 14/20 [02:55<01:15, 12.58s/it]\u001b[A\n",
      " 75%|███████▌  | 15/20 [03:08<01:03, 12.63s/it]\u001b[A\n",
      " 80%|████████  | 16/20 [03:20<00:50, 12.57s/it]\u001b[A\n",
      " 85%|████████▌ | 17/20 [03:33<00:37, 12.55s/it]\u001b[A\n",
      " 90%|█████████ | 18/20 [03:46<00:25, 12.60s/it]\u001b[A\n",
      " 95%|█████████▌| 19/20 [03:59<00:12, 12.69s/it]\u001b[A\n",
      "100%|██████████| 20/20 [04:11<00:00, 12.58s/it]\u001b[A\n",
      "\n",
      "  0%|          | 0/20 [00:00<?, ?it/s]\u001b[A\n",
      "  5%|▌         | 1/20 [00:13<04:14, 13.40s/it]\u001b[A\n",
      " 10%|█         | 2/20 [00:26<03:56, 13.11s/it]\u001b[A\n",
      " 15%|█▌        | 3/20 [00:39<03:45, 13.24s/it]\u001b[A\n",
      " 20%|██        | 4/20 [00:52<03:31, 13.21s/it]\u001b[A\n",
      " 25%|██▌       | 5/20 [01:05<03:17, 13.18s/it]\u001b[A\n",
      " 30%|███       | 6/20 [01:19<03:05, 13.27s/it]\u001b[A\n",
      " 35%|███▌      | 7/20 [01:32<02:52, 13.24s/it]\u001b[A\n",
      " 40%|████      | 8/20 [01:45<02:38, 13.23s/it]\u001b[A\n",
      " 45%|████▌     | 9/20 [01:58<02:24, 13.16s/it]\u001b[A\n",
      " 50%|█████     | 10/20 [02:12<02:11, 13.20s/it]\u001b[A\n",
      " 55%|█████▌    | 11/20 [02:25<01:59, 13.25s/it]\u001b[A\n",
      " 60%|██████    | 12/20 [02:38<01:46, 13.33s/it]\u001b[A\n",
      " 65%|██████▌   | 13/20 [02:52<01:33, 13.31s/it]\u001b[A\n",
      " 70%|███████   | 14/20 [03:05<01:20, 13.37s/it]\u001b[A\n",
      " 75%|███████▌  | 15/20 [03:19<01:06, 13.34s/it]\u001b[A\n",
      " 80%|████████  | 16/20 [03:32<00:53, 13.29s/it]\u001b[A\n",
      " 85%|████████▌ | 17/20 [03:45<00:39, 13.26s/it]\u001b[A\n",
      " 90%|█████████ | 18/20 [03:58<00:26, 13.18s/it]\u001b[A\n",
      " 95%|█████████▌| 19/20 [04:11<00:13, 13.11s/it]\u001b[A\n",
      "100%|██████████| 20/20 [04:24<00:00, 13.22s/it]\u001b[A\n",
      " 20%|██        | 2/10 [25:14<1:41:00, 757.54s/it]\n",
      "  0%|          | 0/20 [00:00<?, ?it/s]\u001b[A\n",
      "  5%|▌         | 1/20 [00:11<03:47, 11.95s/it]\u001b[A\n",
      " 10%|█         | 2/20 [00:24<03:37, 12.07s/it]\u001b[A\n",
      " 15%|█▌        | 3/20 [00:36<03:24, 12.06s/it]\u001b[A\n",
      " 20%|██        | 4/20 [00:48<03:12, 12.06s/it]\u001b[A\n",
      " 25%|██▌       | 5/20 [01:00<02:59, 11.98s/it]\u001b[A\n",
      " 30%|███       | 6/20 [01:12<02:49, 12.12s/it]\u001b[A\n",
      " 35%|███▌      | 7/20 [01:24<02:37, 12.10s/it]\u001b[A\n",
      " 40%|████      | 8/20 [01:36<02:25, 12.15s/it]\u001b[A\n",
      " 45%|████▌     | 9/20 [01:48<02:12, 12.09s/it]\u001b[A\n",
      " 50%|█████     | 10/20 [02:00<02:00, 12.10s/it]\u001b[A\n",
      " 55%|█████▌    | 11/20 [02:13<01:49, 12.12s/it]\u001b[A\n",
      " 60%|██████    | 12/20 [02:24<01:36, 12.08s/it]\u001b[A\n",
      " 65%|██████▌   | 13/20 [02:36<01:24, 12.03s/it]\u001b[A\n",
      " 70%|███████   | 14/20 [02:49<01:12, 12.07s/it]\u001b[A\n",
      " 75%|███████▌  | 15/20 [03:01<01:00, 12.05s/it]\u001b[A\n",
      " 80%|████████  | 16/20 [03:13<00:48, 12.08s/it]\u001b[A\n",
      " 85%|████████▌ | 17/20 [03:25<00:36, 12.01s/it]\u001b[A\n",
      " 90%|█████████ | 18/20 [03:37<00:24, 12.11s/it]\u001b[A\n",
      " 95%|█████████▌| 19/20 [03:49<00:12, 12.05s/it]\u001b[A\n",
      "100%|██████████| 20/20 [04:01<00:00, 12.09s/it]\u001b[A\n",
      "\n",
      "  0%|          | 0/20 [00:00<?, ?it/s]\u001b[A\n",
      "  5%|▌         | 1/20 [00:12<03:58, 12.56s/it]\u001b[A\n",
      " 10%|█         | 2/20 [00:25<03:46, 12.59s/it]\u001b[A\n",
      " 15%|█▌        | 3/20 [00:37<03:33, 12.55s/it]\u001b[A\n",
      " 20%|██        | 4/20 [00:50<03:20, 12.51s/it]\u001b[A\n",
      " 25%|██▌       | 5/20 [01:02<03:07, 12.53s/it]\u001b[A\n",
      " 30%|███       | 6/20 [01:15<02:54, 12.50s/it]\u001b[A\n",
      " 35%|███▌      | 7/20 [01:27<02:43, 12.54s/it]\u001b[A\n",
      " 40%|████      | 8/20 [01:40<02:30, 12.55s/it]\u001b[A\n",
      " 45%|████▌     | 9/20 [01:52<02:16, 12.43s/it]\u001b[A\n",
      " 50%|█████     | 10/20 [02:05<02:05, 12.53s/it]\u001b[A\n",
      " 55%|█████▌    | 11/20 [02:17<01:52, 12.52s/it]\u001b[A\n",
      " 60%|██████    | 12/20 [02:30<01:40, 12.55s/it]\u001b[A\n"
     ]
    },
    {
     "name": "stderr",
     "output_type": "stream",
     "text": [
      " 65%|██████▌   | 13/20 [02:42<01:27, 12.48s/it]\u001b[A\n",
      " 70%|███████   | 14/20 [02:55<01:15, 12.54s/it]\u001b[A\n",
      " 75%|███████▌  | 15/20 [03:08<01:03, 12.63s/it]\u001b[A\n",
      " 80%|████████  | 16/20 [03:20<00:50, 12.63s/it]\u001b[A\n",
      " 85%|████████▌ | 17/20 [03:33<00:37, 12.51s/it]\u001b[A\n",
      " 90%|█████████ | 18/20 [03:45<00:25, 12.62s/it]\u001b[A\n",
      " 95%|█████████▌| 19/20 [03:58<00:12, 12.55s/it]\u001b[A\n",
      "100%|██████████| 20/20 [04:10<00:00, 12.55s/it]\u001b[A\n",
      "\n",
      "  0%|          | 0/20 [00:00<?, ?it/s]\u001b[A\n",
      "  5%|▌         | 1/20 [00:13<04:11, 13.26s/it]\u001b[A\n",
      " 10%|█         | 2/20 [00:26<03:57, 13.18s/it]\u001b[A\n",
      " 15%|█▌        | 3/20 [00:39<03:42, 13.11s/it]\u001b[A\n",
      " 20%|██        | 4/20 [00:52<03:30, 13.15s/it]\u001b[A\n",
      " 25%|██▌       | 5/20 [01:05<03:16, 13.07s/it]\u001b[A\n",
      " 30%|███       | 6/20 [01:18<03:03, 13.10s/it]\u001b[A\n",
      " 35%|███▌      | 7/20 [01:31<02:50, 13.13s/it]\u001b[A\n",
      " 40%|████      | 8/20 [01:44<02:36, 13.06s/it]\u001b[A\n",
      " 45%|████▌     | 9/20 [01:58<02:24, 13.14s/it]\u001b[A\n",
      " 50%|█████     | 10/20 [02:11<02:11, 13.17s/it]\u001b[A\n",
      " 55%|█████▌    | 11/20 [02:24<01:58, 13.16s/it]\u001b[A\n",
      " 60%|██████    | 12/20 [02:37<01:44, 13.11s/it]\u001b[A\n",
      " 65%|██████▌   | 13/20 [02:50<01:32, 13.16s/it]\u001b[A\n",
      " 70%|███████   | 14/20 [03:03<01:19, 13.17s/it]\u001b[A\n",
      " 75%|███████▌  | 15/20 [03:17<01:06, 13.23s/it]\u001b[A\n",
      " 80%|████████  | 16/20 [03:30<00:52, 13.25s/it]\u001b[A\n",
      " 85%|████████▌ | 17/20 [03:43<00:39, 13.26s/it]\u001b[A\n",
      " 90%|█████████ | 18/20 [03:57<00:26, 13.21s/it]\u001b[A\n",
      " 95%|█████████▌| 19/20 [04:10<00:13, 13.18s/it]\u001b[A\n",
      "100%|██████████| 20/20 [04:23<00:00, 13.17s/it]\u001b[A\n",
      " 30%|███       | 3/10 [37:50<1:28:17, 756.83s/it]\n",
      "  0%|          | 0/20 [00:00<?, ?it/s]\u001b[A\n",
      "  5%|▌         | 1/20 [00:12<03:52, 12.22s/it]\u001b[A\n",
      " 10%|█         | 2/20 [00:24<03:41, 12.30s/it]\u001b[A\n",
      " 15%|█▌        | 3/20 [00:36<03:28, 12.24s/it]\u001b[A\n",
      " 20%|██        | 4/20 [00:49<03:16, 12.26s/it]\u001b[A\n",
      " 25%|██▌       | 5/20 [01:01<03:04, 12.31s/it]\u001b[A\n",
      " 30%|███       | 6/20 [01:13<02:50, 12.20s/it]\u001b[A\n",
      " 35%|███▌      | 7/20 [01:25<02:38, 12.18s/it]\u001b[A\n",
      " 40%|████      | 8/20 [01:37<02:25, 12.15s/it]\u001b[A\n",
      " 45%|████▌     | 9/20 [01:49<02:13, 12.14s/it]\u001b[A\n",
      " 50%|█████     | 10/20 [02:01<02:01, 12.14s/it]\u001b[A\n",
      " 55%|█████▌    | 11/20 [02:13<01:48, 12.07s/it]\u001b[A\n",
      " 60%|██████    | 12/20 [02:26<01:36, 12.11s/it]\u001b[A\n",
      " 65%|██████▌   | 13/20 [02:38<01:24, 12.10s/it]\u001b[A\n",
      " 70%|███████   | 14/20 [02:50<01:12, 12.12s/it]\u001b[A\n",
      " 75%|███████▌  | 15/20 [03:02<01:00, 12.11s/it]\u001b[A\n",
      " 80%|████████  | 16/20 [03:14<00:48, 12.10s/it]\u001b[A\n",
      " 85%|████████▌ | 17/20 [03:26<00:36, 12.06s/it]\u001b[A\n",
      " 90%|█████████ | 18/20 [03:38<00:24, 12.04s/it]\u001b[A\n",
      " 95%|█████████▌| 19/20 [03:50<00:12, 12.15s/it]\u001b[A\n",
      "100%|██████████| 20/20 [04:03<00:00, 12.15s/it]\u001b[A\n",
      "\n",
      "  0%|          | 0/20 [00:00<?, ?it/s]\u001b[A\n",
      "  5%|▌         | 1/20 [00:12<03:52, 12.24s/it]\u001b[A\n",
      " 10%|█         | 2/20 [00:24<03:41, 12.32s/it]\u001b[A\n",
      " 15%|█▌        | 3/20 [00:37<03:32, 12.50s/it]\u001b[A\n",
      " 20%|██        | 4/20 [00:49<03:20, 12.52s/it]\u001b[A\n",
      " 25%|██▌       | 5/20 [01:02<03:06, 12.46s/it]\u001b[A\n",
      " 30%|███       | 6/20 [01:14<02:55, 12.51s/it]\u001b[A\n",
      " 35%|███▌      | 7/20 [01:27<02:42, 12.51s/it]\u001b[A\n",
      " 40%|████      | 8/20 [01:40<02:30, 12.56s/it]\u001b[A\n",
      " 45%|████▌     | 9/20 [01:52<02:17, 12.52s/it]\u001b[A\n",
      " 50%|█████     | 10/20 [02:05<02:05, 12.54s/it]\u001b[A\n",
      " 55%|█████▌    | 11/20 [02:17<01:53, 12.60s/it]\u001b[A\n",
      " 60%|██████    | 12/20 [02:30<01:39, 12.49s/it]\u001b[A\n",
      " 65%|██████▌   | 13/20 [02:42<01:27, 12.46s/it]\u001b[A\n",
      " 70%|███████   | 14/20 [02:55<01:15, 12.53s/it]\u001b[A\n",
      " 75%|███████▌  | 15/20 [03:07<01:02, 12.51s/it]\u001b[A\n",
      " 80%|████████  | 16/20 [03:20<00:50, 12.56s/it]\u001b[A\n",
      " 85%|████████▌ | 17/20 [03:32<00:37, 12.42s/it]\u001b[A\n",
      " 90%|█████████ | 18/20 [03:45<00:25, 12.53s/it]\u001b[A\n",
      " 95%|█████████▌| 19/20 [03:57<00:12, 12.53s/it]\u001b[A\n",
      "100%|██████████| 20/20 [04:10<00:00, 12.52s/it]\u001b[A\n",
      "\n",
      "  0%|          | 0/20 [00:00<?, ?it/s]\u001b[A\n",
      "  5%|▌         | 1/20 [00:13<04:12, 13.30s/it]\u001b[A\n",
      " 10%|█         | 2/20 [00:26<03:57, 13.20s/it]\u001b[A\n",
      " 15%|█▌        | 3/20 [00:39<03:44, 13.19s/it]\u001b[A\n",
      " 20%|██        | 4/20 [00:52<03:31, 13.19s/it]\u001b[A\n",
      " 25%|██▌       | 5/20 [01:06<03:19, 13.31s/it]\u001b[A\n",
      " 30%|███       | 6/20 [01:19<03:05, 13.28s/it]\u001b[A\n",
      " 35%|███▌      | 7/20 [01:32<02:51, 13.21s/it]\u001b[A\n",
      " 40%|████      | 8/20 [01:45<02:38, 13.21s/it]\u001b[A\n",
      " 45%|████▌     | 9/20 [01:58<02:25, 13.19s/it]\u001b[A\n",
      " 50%|█████     | 10/20 [02:12<02:12, 13.24s/it]\u001b[A\n",
      " 55%|█████▌    | 11/20 [02:25<01:59, 13.25s/it]\u001b[A\n",
      " 60%|██████    | 12/20 [02:38<01:45, 13.22s/it]\u001b[A\n",
      " 65%|██████▌   | 13/20 [02:51<01:32, 13.19s/it]\u001b[A\n",
      " 70%|███████   | 14/20 [03:05<01:19, 13.21s/it]\u001b[A\n",
      " 75%|███████▌  | 15/20 [03:18<01:05, 13.18s/it]\u001b[A\n",
      " 80%|████████  | 16/20 [03:31<00:52, 13.10s/it]\u001b[A\n",
      " 85%|████████▌ | 17/20 [03:44<00:39, 13.08s/it]\u001b[A\n",
      " 90%|█████████ | 18/20 [03:57<00:26, 13.05s/it]\u001b[A\n",
      " 95%|█████████▌| 19/20 [04:10<00:13, 13.11s/it]\u001b[A\n",
      "100%|██████████| 20/20 [04:23<00:00, 13.17s/it]\u001b[A\n",
      " 40%|████      | 4/10 [50:27<1:15:41, 756.87s/it]\n",
      "  0%|          | 0/20 [00:00<?, ?it/s]\u001b[A\n",
      "  5%|▌         | 1/20 [00:12<03:53, 12.26s/it]\u001b[A\n",
      " 10%|█         | 2/20 [00:24<03:37, 12.10s/it]\u001b[A\n",
      " 15%|█▌        | 3/20 [00:36<03:27, 12.19s/it]\u001b[A\n",
      " 20%|██        | 4/20 [00:48<03:15, 12.20s/it]\u001b[A\n",
      " 25%|██▌       | 5/20 [01:00<03:03, 12.20s/it]\u001b[A\n",
      " 30%|███       | 6/20 [01:12<02:49, 12.11s/it]\u001b[A\n",
      " 35%|███▌      | 7/20 [01:25<02:38, 12.17s/it]\u001b[A\n",
      " 40%|████      | 8/20 [01:37<02:26, 12.20s/it]\u001b[A\n",
      " 45%|████▌     | 9/20 [01:49<02:13, 12.12s/it]\u001b[A\n",
      " 50%|█████     | 10/20 [02:01<02:01, 12.13s/it]\u001b[A\n",
      " 55%|█████▌    | 11/20 [02:13<01:48, 12.02s/it]\u001b[A\n",
      " 60%|██████    | 12/20 [02:25<01:37, 12.14s/it]\u001b[A\n",
      " 65%|██████▌   | 13/20 [02:37<01:25, 12.15s/it]\u001b[A\n",
      " 70%|███████   | 14/20 [02:50<01:12, 12.15s/it]\u001b[A\n",
      " 75%|███████▌  | 15/20 [03:02<01:00, 12.18s/it]\u001b[A\n",
      " 80%|████████  | 16/20 [03:14<00:48, 12.18s/it]\u001b[A\n",
      " 85%|████████▌ | 17/20 [03:26<00:36, 12.21s/it]\u001b[A\n",
      " 90%|█████████ | 18/20 [03:38<00:24, 12.21s/it]\u001b[A\n",
      " 95%|█████████▌| 19/20 [03:51<00:12, 12.20s/it]\u001b[A\n",
      "100%|██████████| 20/20 [04:03<00:00, 12.16s/it]\u001b[A\n",
      "\n",
      "  0%|          | 0/20 [00:00<?, ?it/s]\u001b[A\n",
      "  5%|▌         | 1/20 [00:12<03:57, 12.52s/it]\u001b[A\n",
      " 10%|█         | 2/20 [00:25<03:47, 12.61s/it]\u001b[A\n",
      " 15%|█▌        | 3/20 [00:37<03:34, 12.62s/it]\u001b[A\n",
      " 20%|██        | 4/20 [00:50<03:20, 12.55s/it]\u001b[A\n",
      " 25%|██▌       | 5/20 [01:02<03:08, 12.60s/it]\u001b[A\n",
      " 30%|███       | 6/20 [01:15<02:55, 12.54s/it]\u001b[A\n",
      " 35%|███▌      | 7/20 [01:27<02:42, 12.48s/it]\u001b[A\n",
      " 40%|████      | 8/20 [01:40<02:31, 12.60s/it]\u001b[A\n",
      " 45%|████▌     | 9/20 [01:53<02:17, 12.54s/it]\u001b[A\n",
      " 50%|█████     | 10/20 [02:05<02:04, 12.46s/it]\u001b[A\n",
      " 55%|█████▌    | 11/20 [02:17<01:52, 12.51s/it]\u001b[A\n",
      " 60%|██████    | 12/20 [02:30<01:40, 12.60s/it]\u001b[A\n",
      " 65%|██████▌   | 13/20 [02:43<01:28, 12.62s/it]\u001b[A\n",
      " 70%|███████   | 14/20 [02:55<01:15, 12.55s/it]\u001b[A\n",
      " 75%|███████▌  | 15/20 [03:08<01:02, 12.54s/it]\u001b[A\n",
      " 80%|████████  | 16/20 [03:20<00:50, 12.51s/it]\u001b[A\n",
      " 85%|████████▌ | 17/20 [03:33<00:37, 12.47s/it]\u001b[A\n",
      " 90%|█████████ | 18/20 [03:45<00:24, 12.49s/it]\u001b[A\n",
      " 95%|█████████▌| 19/20 [03:57<00:12, 12.43s/it]\u001b[A\n",
      "100%|██████████| 20/20 [04:10<00:00, 12.54s/it]\u001b[A\n",
      "\n",
      "  0%|          | 0/20 [00:00<?, ?it/s]\u001b[A\n",
      "  5%|▌         | 1/20 [00:12<04:05, 12.90s/it]\u001b[A\n",
      " 10%|█         | 2/20 [00:26<03:58, 13.28s/it]\u001b[A\n",
      " 15%|█▌        | 3/20 [00:39<03:44, 13.22s/it]\u001b[A\n",
      " 20%|██        | 4/20 [00:52<03:32, 13.26s/it]\u001b[A\n",
      " 25%|██▌       | 5/20 [01:05<03:17, 13.18s/it]\u001b[A\n",
      " 30%|███       | 6/20 [01:19<03:04, 13.16s/it]\u001b[A\n",
      " 35%|███▌      | 7/20 [01:32<02:50, 13.14s/it]\u001b[A\n",
      " 40%|████      | 8/20 [01:45<02:38, 13.22s/it]\u001b[A\n",
      " 45%|████▌     | 9/20 [01:58<02:25, 13.19s/it]\u001b[A\n",
      " 50%|█████     | 10/20 [02:12<02:12, 13.24s/it]\u001b[A\n",
      " 55%|█████▌    | 11/20 [02:25<01:59, 13.31s/it]\u001b[A\n",
      " 60%|██████    | 12/20 [02:38<01:45, 13.23s/it]\u001b[A\n",
      " 65%|██████▌   | 13/20 [02:51<01:32, 13.19s/it]\u001b[A\n",
      " 70%|███████   | 14/20 [03:04<01:18, 13.15s/it]\u001b[A\n",
      " 75%|███████▌  | 15/20 [03:17<01:05, 13.07s/it]\u001b[A\n",
      " 80%|████████  | 16/20 [03:30<00:52, 13.13s/it]\u001b[A\n",
      " 85%|████████▌ | 17/20 [03:44<00:39, 13.14s/it]\u001b[A\n",
      " 90%|█████████ | 18/20 [03:56<00:26, 13.09s/it]\u001b[A\n",
      " 95%|█████████▌| 19/20 [04:10<00:13, 13.11s/it]\u001b[A\n",
      "100%|██████████| 20/20 [04:23<00:00, 13.17s/it]\u001b[A\n",
      " 50%|█████     | 5/10 [1:03:04<1:03:05, 757.07s/it]\n",
      "  0%|          | 0/20 [00:00<?, ?it/s]\u001b[A\n",
      "  5%|▌         | 1/20 [00:12<03:50, 12.13s/it]\u001b[A\n",
      " 10%|█         | 2/20 [00:24<03:41, 12.28s/it]\u001b[A\n",
      " 15%|█▌        | 3/20 [00:36<03:25, 12.11s/it]\u001b[A\n",
      " 20%|██        | 4/20 [00:48<03:13, 12.12s/it]\u001b[A\n"
     ]
    },
    {
     "name": "stderr",
     "output_type": "stream",
     "text": [
      " 25%|██▌       | 5/20 [01:00<03:01, 12.11s/it]\u001b[A\n",
      " 30%|███       | 6/20 [01:12<02:48, 12.03s/it]\u001b[A\n",
      " 35%|███▌      | 7/20 [01:24<02:36, 12.03s/it]\u001b[A\n",
      " 40%|████      | 8/20 [01:37<02:26, 12.17s/it]\u001b[A\n",
      " 45%|████▌     | 9/20 [01:48<02:13, 12.11s/it]\u001b[A\n",
      " 50%|█████     | 10/20 [02:01<02:01, 12.11s/it]\u001b[A\n",
      " 55%|█████▌    | 11/20 [02:13<01:49, 12.12s/it]\u001b[A\n",
      " 60%|██████    | 12/20 [02:25<01:36, 12.11s/it]\u001b[A\n",
      " 65%|██████▌   | 13/20 [02:37<01:24, 12.14s/it]\u001b[A\n",
      " 70%|███████   | 14/20 [02:49<01:13, 12.18s/it]\u001b[A\n",
      " 75%|███████▌  | 15/20 [03:02<01:01, 12.24s/it]\u001b[A\n",
      " 80%|████████  | 16/20 [03:14<00:48, 12.23s/it]\u001b[A\n",
      " 85%|████████▌ | 17/20 [03:26<00:36, 12.19s/it]\u001b[A\n",
      " 90%|█████████ | 18/20 [03:38<00:24, 12.12s/it]\u001b[A\n",
      " 95%|█████████▌| 19/20 [03:50<00:12, 12.13s/it]\u001b[A\n",
      "100%|██████████| 20/20 [04:02<00:00, 12.14s/it]\u001b[A\n",
      "\n",
      "  0%|          | 0/20 [00:00<?, ?it/s]\u001b[A\n",
      "  5%|▌         | 1/20 [00:12<04:01, 12.70s/it]\u001b[A\n",
      " 10%|█         | 2/20 [00:24<03:44, 12.46s/it]\u001b[A\n",
      " 15%|█▌        | 3/20 [00:37<03:31, 12.46s/it]\u001b[A\n",
      " 20%|██        | 4/20 [00:49<03:18, 12.41s/it]\u001b[A\n",
      " 25%|██▌       | 5/20 [01:02<03:07, 12.48s/it]\u001b[A\n",
      " 30%|███       | 6/20 [01:14<02:53, 12.41s/it]\u001b[A\n",
      " 35%|███▌      | 7/20 [01:27<02:41, 12.40s/it]\u001b[A\n",
      " 40%|████      | 8/20 [01:39<02:28, 12.41s/it]\u001b[A\n",
      " 45%|████▌     | 9/20 [01:51<02:15, 12.35s/it]\u001b[A\n",
      " 50%|█████     | 10/20 [02:04<02:04, 12.42s/it]\u001b[A\n",
      " 55%|█████▌    | 11/20 [02:16<01:52, 12.51s/it]\u001b[A\n",
      " 60%|██████    | 12/20 [02:29<01:40, 12.51s/it]\u001b[A\n",
      " 65%|██████▌   | 13/20 [02:41<01:27, 12.48s/it]\u001b[A\n",
      " 70%|███████   | 14/20 [02:54<01:14, 12.46s/it]\u001b[A\n",
      " 75%|███████▌  | 15/20 [03:06<01:02, 12.51s/it]\u001b[A\n",
      " 80%|████████  | 16/20 [03:19<00:50, 12.56s/it]\u001b[A\n",
      " 85%|████████▌ | 17/20 [03:31<00:37, 12.47s/it]\u001b[A\n",
      " 90%|█████████ | 18/20 [03:44<00:25, 12.51s/it]\u001b[A\n",
      " 95%|█████████▌| 19/20 [03:56<00:12, 12.48s/it]\u001b[A\n",
      "100%|██████████| 20/20 [04:09<00:00, 12.46s/it]\u001b[A\n",
      "\n",
      "  0%|          | 0/20 [00:00<?, ?it/s]\u001b[A\n",
      "  5%|▌         | 1/20 [00:13<04:15, 13.44s/it]\u001b[A\n",
      " 10%|█         | 2/20 [00:26<04:01, 13.41s/it]\u001b[A\n",
      " 15%|█▌        | 3/20 [00:40<03:46, 13.30s/it]\u001b[A\n",
      " 20%|██        | 4/20 [00:53<03:32, 13.29s/it]\u001b[A\n",
      " 25%|██▌       | 5/20 [01:06<03:17, 13.14s/it]\u001b[A\n",
      " 30%|███       | 6/20 [01:19<03:03, 13.10s/it]\u001b[A\n",
      " 35%|███▌      | 7/20 [01:32<02:51, 13.19s/it]\u001b[A\n",
      " 40%|████      | 8/20 [01:45<02:39, 13.25s/it]\u001b[A\n",
      " 45%|████▌     | 9/20 [01:59<02:25, 13.20s/it]\u001b[A\n",
      " 50%|█████     | 10/20 [02:12<02:11, 13.15s/it]\u001b[A\n",
      " 55%|█████▌    | 11/20 [02:24<01:57, 13.09s/it]\u001b[A\n",
      " 60%|██████    | 12/20 [02:37<01:44, 13.03s/it]\u001b[A\n",
      " 65%|██████▌   | 13/20 [02:50<01:30, 12.98s/it]\u001b[A\n",
      " 70%|███████   | 14/20 [03:03<01:18, 13.05s/it]\u001b[A\n",
      " 75%|███████▌  | 15/20 [03:16<01:05, 13.02s/it]\u001b[A\n",
      " 80%|████████  | 16/20 [03:29<00:52, 13.03s/it]\u001b[A\n",
      " 85%|████████▌ | 17/20 [03:43<00:39, 13.07s/it]\u001b[A\n",
      " 90%|█████████ | 18/20 [03:56<00:26, 13.08s/it]\u001b[A\n",
      " 95%|█████████▌| 19/20 [04:09<00:13, 13.07s/it]\u001b[A\n",
      "100%|██████████| 20/20 [04:22<00:00, 13.13s/it]\u001b[A\n",
      " 60%|██████    | 6/10 [1:15:39<50:24, 756.21s/it]  \n",
      "  0%|          | 0/20 [00:00<?, ?it/s]\u001b[A\n",
      "  5%|▌         | 1/20 [00:12<03:50, 12.15s/it]\u001b[A\n",
      " 10%|█         | 2/20 [00:24<03:42, 12.34s/it]\u001b[A\n",
      " 15%|█▌        | 3/20 [00:36<03:25, 12.11s/it]\u001b[A\n",
      " 20%|██        | 4/20 [00:48<03:14, 12.14s/it]\u001b[A\n",
      " 25%|██▌       | 5/20 [01:00<03:02, 12.19s/it]\u001b[A\n",
      " 30%|███       | 6/20 [01:13<02:51, 12.26s/it]\u001b[A\n",
      " 35%|███▌      | 7/20 [01:25<02:38, 12.19s/it]\u001b[A\n",
      " 40%|████      | 8/20 [01:37<02:26, 12.17s/it]\u001b[A\n",
      " 45%|████▌     | 9/20 [01:49<02:14, 12.23s/it]\u001b[A\n",
      " 50%|█████     | 10/20 [02:02<02:02, 12.22s/it]\u001b[A\n",
      " 55%|█████▌    | 11/20 [02:14<01:49, 12.14s/it]\u001b[A\n",
      " 60%|██████    | 12/20 [02:26<01:37, 12.13s/it]\u001b[A\n",
      " 65%|██████▌   | 13/20 [02:38<01:25, 12.15s/it]\u001b[A\n",
      " 70%|███████   | 14/20 [02:50<01:12, 12.13s/it]\u001b[A\n",
      " 75%|███████▌  | 15/20 [03:02<01:00, 12.16s/it]\u001b[A\n",
      " 80%|████████  | 16/20 [03:14<00:48, 12.16s/it]\u001b[A\n",
      " 85%|████████▌ | 17/20 [03:26<00:36, 12.16s/it]\u001b[A\n",
      " 90%|█████████ | 18/20 [03:38<00:24, 12.09s/it]\u001b[A\n",
      " 95%|█████████▌| 19/20 [03:50<00:12, 12.09s/it]\u001b[A\n",
      "100%|██████████| 20/20 [04:03<00:00, 12.16s/it]\u001b[A\n",
      "\n",
      "  0%|          | 0/20 [00:00<?, ?it/s]\u001b[A\n",
      "  5%|▌         | 1/20 [00:12<03:55, 12.42s/it]\u001b[A\n",
      " 10%|█         | 2/20 [00:24<03:43, 12.44s/it]\u001b[A\n",
      " 15%|█▌        | 3/20 [00:37<03:32, 12.52s/it]\u001b[A\n",
      " 20%|██        | 4/20 [00:49<03:20, 12.51s/it]\u001b[A\n",
      " 25%|██▌       | 5/20 [01:02<03:06, 12.41s/it]\u001b[A\n",
      " 30%|███       | 6/20 [01:14<02:54, 12.44s/it]\u001b[A\n",
      " 35%|███▌      | 7/20 [01:27<02:41, 12.46s/it]\u001b[A\n",
      " 40%|████      | 8/20 [01:39<02:29, 12.48s/it]\u001b[A\n",
      " 45%|████▌     | 9/20 [01:52<02:17, 12.48s/it]\u001b[A\n",
      " 50%|█████     | 10/20 [02:04<02:05, 12.53s/it]\u001b[A\n",
      " 55%|█████▌    | 11/20 [02:17<01:52, 12.53s/it]\u001b[A\n",
      " 60%|██████    | 12/20 [02:30<01:40, 12.58s/it]\u001b[A\n",
      " 65%|██████▌   | 13/20 [02:42<01:27, 12.56s/it]\u001b[A\n",
      " 70%|███████   | 14/20 [02:55<01:15, 12.62s/it]\u001b[A\n",
      " 75%|███████▌  | 15/20 [03:07<01:02, 12.58s/it]\u001b[A\n",
      " 80%|████████  | 16/20 [03:20<00:50, 12.51s/it]\u001b[A\n",
      " 85%|████████▌ | 17/20 [03:32<00:37, 12.48s/it]\u001b[A\n",
      " 90%|█████████ | 18/20 [03:45<00:24, 12.47s/it]\u001b[A\n",
      " 95%|█████████▌| 19/20 [03:57<00:12, 12.44s/it]\u001b[A\n",
      "100%|██████████| 20/20 [04:10<00:00, 12.50s/it]\u001b[A\n",
      "\n",
      "  0%|          | 0/20 [00:00<?, ?it/s]\u001b[A\n",
      "  5%|▌         | 1/20 [00:13<04:13, 13.33s/it]\u001b[A\n",
      " 10%|█         | 2/20 [00:26<03:57, 13.19s/it]\u001b[A\n",
      " 15%|█▌        | 3/20 [00:39<03:46, 13.31s/it]\u001b[A\n",
      " 20%|██        | 4/20 [00:53<03:33, 13.32s/it]\u001b[A\n",
      " 25%|██▌       | 5/20 [01:06<03:18, 13.25s/it]\u001b[A\n",
      " 30%|███       | 6/20 [01:19<03:06, 13.29s/it]\u001b[A\n",
      " 35%|███▌      | 7/20 [01:32<02:51, 13.20s/it]\u001b[A\n",
      " 40%|████      | 8/20 [01:45<02:38, 13.21s/it]\u001b[A\n",
      " 45%|████▌     | 9/20 [01:59<02:25, 13.23s/it]\u001b[A\n",
      " 50%|█████     | 10/20 [02:12<02:12, 13.28s/it]\u001b[A\n",
      " 55%|█████▌    | 11/20 [02:26<01:59, 13.32s/it]\u001b[A\n",
      " 60%|██████    | 12/20 [02:39<01:46, 13.37s/it]\u001b[A\n",
      " 65%|██████▌   | 13/20 [02:52<01:33, 13.38s/it]\u001b[A\n",
      " 70%|███████   | 14/20 [03:06<01:19, 13.31s/it]\u001b[A\n",
      " 75%|███████▌  | 15/20 [03:19<01:06, 13.27s/it]\u001b[A\n",
      " 80%|████████  | 16/20 [03:32<00:53, 13.28s/it]\u001b[A\n",
      " 85%|████████▌ | 17/20 [03:45<00:39, 13.21s/it]\u001b[A\n",
      " 90%|█████████ | 18/20 [03:58<00:26, 13.26s/it]\u001b[A\n",
      " 95%|█████████▌| 19/20 [04:12<00:13, 13.22s/it]\u001b[A\n",
      "100%|██████████| 20/20 [04:25<00:00, 13.27s/it]\u001b[A\n",
      " 70%|███████   | 7/10 [1:28:18<37:51, 757.03s/it]\n",
      "  0%|          | 0/20 [00:00<?, ?it/s]\u001b[A\n",
      "  5%|▌         | 1/20 [00:11<03:46, 11.94s/it]\u001b[A\n",
      " 10%|█         | 2/20 [00:24<03:37, 12.06s/it]\u001b[A\n",
      " 15%|█▌        | 3/20 [00:36<03:24, 12.03s/it]\u001b[A\n",
      " 20%|██        | 4/20 [00:48<03:14, 12.17s/it]\u001b[A\n",
      " 25%|██▌       | 5/20 [01:00<03:02, 12.19s/it]\u001b[A\n",
      " 30%|███       | 6/20 [01:12<02:50, 12.17s/it]\u001b[A\n",
      " 35%|███▌      | 7/20 [01:24<02:37, 12.15s/it]\u001b[A\n",
      " 40%|████      | 8/20 [01:37<02:26, 12.19s/it]\u001b[A\n",
      " 45%|████▌     | 9/20 [01:49<02:12, 12.07s/it]\u001b[A\n",
      " 50%|█████     | 10/20 [02:01<02:00, 12.05s/it]\u001b[A\n",
      " 55%|█████▌    | 11/20 [02:13<01:48, 12.05s/it]\u001b[A\n",
      " 60%|██████    | 12/20 [02:25<01:37, 12.16s/it]\u001b[A\n",
      " 65%|██████▌   | 13/20 [02:37<01:24, 12.13s/it]\u001b[A\n",
      " 70%|███████   | 14/20 [02:49<01:12, 12.15s/it]\u001b[A\n",
      " 75%|███████▌  | 15/20 [03:01<01:00, 12.14s/it]\u001b[A\n",
      " 80%|████████  | 16/20 [03:14<00:48, 12.19s/it]\u001b[A\n",
      " 85%|████████▌ | 17/20 [03:26<00:36, 12.14s/it]\u001b[A\n",
      " 90%|█████████ | 18/20 [03:38<00:24, 12.20s/it]\u001b[A\n",
      " 95%|█████████▌| 19/20 [03:50<00:12, 12.11s/it]\u001b[A\n",
      "100%|██████████| 20/20 [04:02<00:00, 12.13s/it]\u001b[A\n",
      "\n",
      "  0%|          | 0/20 [00:00<?, ?it/s]\u001b[A\n",
      "  5%|▌         | 1/20 [00:12<03:56, 12.46s/it]\u001b[A\n",
      " 10%|█         | 2/20 [00:25<03:46, 12.57s/it]\u001b[A\n",
      " 15%|█▌        | 3/20 [00:37<03:33, 12.58s/it]\u001b[A\n",
      " 20%|██        | 4/20 [00:50<03:21, 12.61s/it]\u001b[A\n",
      " 25%|██▌       | 5/20 [01:02<03:07, 12.51s/it]\u001b[A\n",
      " 30%|███       | 6/20 [01:15<02:54, 12.50s/it]\u001b[A\n",
      " 35%|███▌      | 7/20 [01:27<02:42, 12.47s/it]\u001b[A\n",
      " 40%|████      | 8/20 [01:39<02:29, 12.43s/it]\u001b[A\n",
      " 45%|████▌     | 9/20 [01:52<02:16, 12.44s/it]\u001b[A\n",
      " 50%|█████     | 10/20 [02:04<02:04, 12.40s/it]\u001b[A\n",
      " 55%|█████▌    | 11/20 [02:17<01:51, 12.42s/it]\u001b[A\n",
      " 60%|██████    | 12/20 [02:29<01:39, 12.39s/it]\u001b[A\n",
      " 65%|██████▌   | 13/20 [02:42<01:27, 12.44s/it]\u001b[A\n",
      " 70%|███████   | 14/20 [02:54<01:14, 12.46s/it]\u001b[A\n",
      " 75%|███████▌  | 15/20 [03:07<01:02, 12.53s/it]\u001b[A\n",
      " 80%|████████  | 16/20 [03:19<00:50, 12.55s/it]\u001b[A\n",
      " 85%|████████▌ | 17/20 [03:32<00:37, 12.51s/it]\u001b[A\n",
      " 90%|█████████ | 18/20 [03:44<00:25, 12.52s/it]\u001b[A\n"
     ]
    },
    {
     "name": "stderr",
     "output_type": "stream",
     "text": [
      " 95%|█████████▌| 19/20 [03:57<00:12, 12.47s/it]\u001b[A\n",
      "100%|██████████| 20/20 [04:09<00:00, 12.48s/it]\u001b[A\n",
      "\n",
      "  0%|          | 0/20 [00:00<?, ?it/s]\u001b[A\n",
      "  5%|▌         | 1/20 [00:13<04:11, 13.24s/it]\u001b[A\n",
      " 10%|█         | 2/20 [00:26<03:58, 13.26s/it]\u001b[A\n",
      " 15%|█▌        | 3/20 [00:39<03:44, 13.21s/it]\u001b[A\n",
      " 20%|██        | 4/20 [00:52<03:30, 13.14s/it]\u001b[A\n",
      " 25%|██▌       | 5/20 [01:05<03:16, 13.09s/it]\u001b[A\n",
      " 30%|███       | 6/20 [01:18<03:03, 13.09s/it]\u001b[A\n",
      " 35%|███▌      | 7/20 [01:31<02:49, 13.07s/it]\u001b[A\n",
      " 40%|████      | 8/20 [01:44<02:36, 13.05s/it]\u001b[A\n",
      " 45%|████▌     | 9/20 [01:58<02:24, 13.14s/it]\u001b[A\n",
      " 50%|█████     | 10/20 [02:11<02:10, 13.09s/it]\u001b[A\n",
      " 55%|█████▌    | 11/20 [02:24<01:58, 13.20s/it]\u001b[A\n",
      " 60%|██████    | 12/20 [02:37<01:45, 13.21s/it]\u001b[A\n",
      " 65%|██████▌   | 13/20 [02:50<01:32, 13.18s/it]\u001b[A\n",
      " 70%|███████   | 14/20 [03:04<01:19, 13.21s/it]\u001b[A\n",
      " 75%|███████▌  | 15/20 [03:17<01:05, 13.16s/it]\u001b[A\n",
      " 80%|████████  | 16/20 [03:30<00:52, 13.10s/it]\u001b[A\n",
      " 85%|████████▌ | 17/20 [03:43<00:39, 13.14s/it]\u001b[A\n",
      " 90%|█████████ | 18/20 [03:56<00:26, 13.13s/it]\u001b[A\n",
      " 95%|█████████▌| 19/20 [04:09<00:13, 13.13s/it]\u001b[A\n",
      "100%|██████████| 20/20 [04:22<00:00, 13.14s/it]\u001b[A\n",
      " 80%|████████  | 8/10 [1:40:53<25:12, 756.39s/it]\n",
      "  0%|          | 0/20 [00:00<?, ?it/s]\u001b[A\n",
      "  5%|▌         | 1/20 [00:12<03:53, 12.27s/it]\u001b[A\n",
      " 10%|█         | 2/20 [00:24<03:40, 12.27s/it]\u001b[A\n",
      " 15%|█▌        | 3/20 [00:36<03:27, 12.22s/it]\u001b[A\n",
      " 20%|██        | 4/20 [00:49<03:16, 12.26s/it]\u001b[A\n",
      " 25%|██▌       | 5/20 [01:01<03:03, 12.21s/it]\u001b[A\n",
      " 30%|███       | 6/20 [01:13<02:51, 12.27s/it]\u001b[A\n",
      " 35%|███▌      | 7/20 [01:25<02:38, 12.20s/it]\u001b[A\n",
      " 40%|████      | 8/20 [01:37<02:26, 12.17s/it]\u001b[A\n",
      " 45%|████▌     | 9/20 [01:49<02:13, 12.13s/it]\u001b[A\n",
      " 50%|█████     | 10/20 [02:02<02:01, 12.19s/it]\u001b[A\n",
      " 55%|█████▌    | 11/20 [02:14<01:49, 12.19s/it]\u001b[A\n",
      " 60%|██████    | 12/20 [02:26<01:37, 12.16s/it]\u001b[A\n",
      " 65%|██████▌   | 13/20 [02:38<01:25, 12.15s/it]\u001b[A\n",
      " 70%|███████   | 14/20 [02:50<01:13, 12.18s/it]\u001b[A\n",
      " 75%|███████▌  | 15/20 [03:02<01:00, 12.15s/it]\u001b[A\n",
      " 80%|████████  | 16/20 [03:14<00:48, 12.11s/it]\u001b[A\n",
      " 85%|████████▌ | 17/20 [03:27<00:36, 12.15s/it]\u001b[A\n",
      " 90%|█████████ | 18/20 [03:39<00:24, 12.13s/it]\u001b[A\n",
      " 95%|█████████▌| 19/20 [03:51<00:12, 12.08s/it]\u001b[A\n",
      "100%|██████████| 20/20 [04:03<00:00, 12.17s/it]\u001b[A\n",
      "\n",
      "  0%|          | 0/20 [00:00<?, ?it/s]\u001b[A\n",
      "  5%|▌         | 1/20 [00:12<03:57, 12.50s/it]\u001b[A\n",
      " 10%|█         | 2/20 [00:24<03:44, 12.45s/it]\u001b[A\n",
      " 15%|█▌        | 3/20 [00:37<03:31, 12.46s/it]\u001b[A\n",
      " 20%|██        | 4/20 [00:49<03:18, 12.41s/it]\u001b[A\n",
      " 25%|██▌       | 5/20 [01:02<03:06, 12.45s/it]\u001b[A\n",
      " 30%|███       | 6/20 [01:14<02:54, 12.47s/it]\u001b[A\n",
      " 35%|███▌      | 7/20 [01:27<02:43, 12.55s/it]\u001b[A\n",
      " 40%|████      | 8/20 [01:40<02:30, 12.57s/it]\u001b[A\n",
      " 45%|████▌     | 9/20 [01:52<02:18, 12.57s/it]\u001b[A\n",
      " 50%|█████     | 10/20 [02:05<02:05, 12.58s/it]\u001b[A\n",
      " 55%|█████▌    | 11/20 [02:17<01:53, 12.58s/it]\u001b[A\n",
      " 60%|██████    | 12/20 [02:30<01:40, 12.54s/it]\u001b[A\n",
      " 65%|██████▌   | 13/20 [02:42<01:27, 12.47s/it]\u001b[A\n",
      " 70%|███████   | 14/20 [02:54<01:14, 12.42s/it]\u001b[A\n",
      " 75%|███████▌  | 15/20 [03:07<01:02, 12.53s/it]\u001b[A\n",
      " 80%|████████  | 16/20 [03:20<00:50, 12.53s/it]\u001b[A\n",
      " 85%|████████▌ | 17/20 [03:32<00:37, 12.51s/it]\u001b[A\n",
      " 90%|█████████ | 18/20 [03:44<00:24, 12.43s/it]\u001b[A\n",
      " 95%|█████████▌| 19/20 [03:57<00:12, 12.53s/it]\u001b[A\n",
      "100%|██████████| 20/20 [04:10<00:00, 12.51s/it]\u001b[A\n",
      "\n",
      "  0%|          | 0/20 [00:00<?, ?it/s]\u001b[A\n",
      "  5%|▌         | 1/20 [00:13<04:12, 13.31s/it]\u001b[A\n",
      " 10%|█         | 2/20 [00:26<03:58, 13.26s/it]\u001b[A\n",
      " 15%|█▌        | 3/20 [00:39<03:45, 13.29s/it]\u001b[A\n",
      " 20%|██        | 4/20 [00:53<03:31, 13.25s/it]\u001b[A\n",
      " 25%|██▌       | 5/20 [01:06<03:17, 13.17s/it]\u001b[A\n",
      " 30%|███       | 6/20 [01:19<03:03, 13.11s/it]\u001b[A\n",
      " 35%|███▌      | 7/20 [01:32<02:51, 13.20s/it]\u001b[A\n",
      " 40%|████      | 8/20 [01:45<02:38, 13.23s/it]\u001b[A\n",
      " 45%|████▌     | 9/20 [01:59<02:25, 13.24s/it]\u001b[A\n",
      " 50%|█████     | 10/20 [02:12<02:11, 13.19s/it]\u001b[A\n",
      " 55%|█████▌    | 11/20 [02:25<01:59, 13.23s/it]\u001b[A\n",
      " 60%|██████    | 12/20 [02:38<01:46, 13.29s/it]\u001b[A\n",
      " 65%|██████▌   | 13/20 [02:52<01:32, 13.28s/it]\u001b[A\n",
      " 70%|███████   | 14/20 [03:05<01:19, 13.25s/it]\u001b[A\n",
      " 75%|███████▌  | 15/20 [03:18<01:05, 13.15s/it]\u001b[A\n",
      " 80%|████████  | 16/20 [03:31<00:52, 13.16s/it]\u001b[A\n",
      " 85%|████████▌ | 17/20 [03:44<00:39, 13.16s/it]\u001b[A\n",
      " 90%|█████████ | 18/20 [03:57<00:26, 13.16s/it]\u001b[A\n",
      " 95%|█████████▌| 19/20 [04:10<00:13, 13.08s/it]\u001b[A\n",
      "100%|██████████| 20/20 [04:23<00:00, 13.17s/it]\u001b[A\n",
      " 90%|█████████ | 9/10 [1:53:30<12:36, 756.54s/it]\n",
      "  0%|          | 0/20 [00:00<?, ?it/s]\u001b[A\n",
      "  5%|▌         | 1/20 [00:11<03:47, 11.95s/it]\u001b[A\n",
      " 10%|█         | 2/20 [00:24<03:36, 12.02s/it]\u001b[A\n",
      " 15%|█▌        | 3/20 [00:36<03:24, 12.04s/it]\u001b[A\n",
      " 20%|██        | 4/20 [00:48<03:12, 12.06s/it]\u001b[A\n",
      " 25%|██▌       | 5/20 [01:00<03:01, 12.07s/it]\u001b[A\n",
      " 30%|███       | 6/20 [01:12<02:48, 12.04s/it]\u001b[A\n",
      " 35%|███▌      | 7/20 [01:24<02:37, 12.08s/it]\u001b[A\n",
      " 40%|████      | 8/20 [01:36<02:25, 12.10s/it]\u001b[A\n",
      " 45%|████▌     | 9/20 [01:48<02:13, 12.13s/it]\u001b[A\n",
      " 50%|█████     | 10/20 [02:00<02:00, 12.08s/it]\u001b[A\n",
      " 55%|█████▌    | 11/20 [02:12<01:48, 12.09s/it]\u001b[A\n",
      " 60%|██████    | 12/20 [02:24<01:36, 12.05s/it]\u001b[A\n",
      " 65%|██████▌   | 13/20 [02:36<01:24, 12.01s/it]\u001b[A\n",
      " 70%|███████   | 14/20 [02:48<01:12, 12.04s/it]\u001b[A\n",
      " 75%|███████▌  | 15/20 [03:01<01:00, 12.12s/it]\u001b[A\n",
      " 80%|████████  | 16/20 [03:13<00:48, 12.18s/it]\u001b[A\n",
      " 85%|████████▌ | 17/20 [03:25<00:36, 12.27s/it]\u001b[A\n",
      " 90%|█████████ | 18/20 [03:38<00:24, 12.22s/it]\u001b[A\n",
      " 95%|█████████▌| 19/20 [03:50<00:12, 12.17s/it]\u001b[A\n",
      "100%|██████████| 20/20 [04:02<00:00, 12.12s/it]\u001b[A\n",
      "\n",
      "  0%|          | 0/20 [00:00<?, ?it/s]\u001b[A\n",
      "  5%|▌         | 1/20 [00:12<04:01, 12.70s/it]\u001b[A\n",
      " 10%|█         | 2/20 [00:25<03:47, 12.64s/it]\u001b[A\n",
      " 15%|█▌        | 3/20 [00:37<03:33, 12.54s/it]\u001b[A\n",
      " 20%|██        | 4/20 [00:50<03:21, 12.59s/it]\u001b[A\n",
      " 25%|██▌       | 5/20 [01:02<03:07, 12.49s/it]\u001b[A\n",
      " 30%|███       | 6/20 [01:15<02:54, 12.46s/it]\u001b[A\n",
      " 35%|███▌      | 7/20 [01:27<02:43, 12.55s/it]\u001b[A\n",
      " 40%|████      | 8/20 [01:40<02:31, 12.59s/it]\u001b[A\n",
      " 45%|████▌     | 9/20 [01:52<02:17, 12.54s/it]\u001b[A\n",
      " 50%|█████     | 10/20 [02:06<02:07, 12.72s/it]\u001b[A\n",
      " 55%|█████▌    | 11/20 [02:18<01:53, 12.60s/it]\u001b[A\n",
      " 60%|██████    | 12/20 [02:30<01:40, 12.57s/it]\u001b[A\n",
      " 65%|██████▌   | 13/20 [02:43<01:28, 12.61s/it]\u001b[A\n",
      " 70%|███████   | 14/20 [02:56<01:15, 12.62s/it]\u001b[A\n",
      " 75%|███████▌  | 15/20 [03:08<01:02, 12.51s/it]\u001b[A\n",
      " 80%|████████  | 16/20 [03:21<00:50, 12.54s/it]\u001b[A\n",
      " 85%|████████▌ | 17/20 [03:33<00:37, 12.51s/it]\u001b[A\n",
      " 90%|█████████ | 18/20 [03:46<00:25, 12.54s/it]\u001b[A\n",
      " 95%|█████████▌| 19/20 [03:58<00:12, 12.59s/it]\u001b[A\n",
      "100%|██████████| 20/20 [04:11<00:00, 12.56s/it]\u001b[A\n",
      "\n",
      "  0%|          | 0/20 [00:00<?, ?it/s]\u001b[A\n",
      "  5%|▌         | 1/20 [00:13<04:11, 13.25s/it]\u001b[A\n",
      " 10%|█         | 2/20 [00:26<03:56, 13.16s/it]\u001b[A\n",
      " 15%|█▌        | 3/20 [00:39<03:45, 13.26s/it]\u001b[A\n",
      " 20%|██        | 4/20 [00:53<03:32, 13.28s/it]\u001b[A\n",
      " 25%|██▌       | 5/20 [01:06<03:17, 13.17s/it]\u001b[A\n",
      " 30%|███       | 6/20 [01:19<03:04, 13.20s/it]\u001b[A\n",
      " 35%|███▌      | 7/20 [01:32<02:51, 13.16s/it]\u001b[A\n",
      " 40%|████      | 8/20 [01:45<02:38, 13.17s/it]\u001b[A\n",
      " 45%|████▌     | 9/20 [01:58<02:24, 13.18s/it]\u001b[A\n",
      " 50%|█████     | 10/20 [02:11<02:11, 13.11s/it]\u001b[A\n",
      " 55%|█████▌    | 11/20 [02:24<01:58, 13.16s/it]\u001b[A\n",
      " 60%|██████    | 12/20 [02:38<01:45, 13.20s/it]\u001b[A\n",
      " 65%|██████▌   | 13/20 [02:51<01:32, 13.27s/it]\u001b[A\n",
      " 70%|███████   | 14/20 [03:04<01:19, 13.27s/it]\u001b[A\n",
      " 75%|███████▌  | 15/20 [03:18<01:06, 13.27s/it]\u001b[A\n",
      " 80%|████████  | 16/20 [03:31<00:53, 13.33s/it]\u001b[A\n",
      " 85%|████████▌ | 17/20 [03:44<00:39, 13.18s/it]\u001b[A\n",
      " 90%|█████████ | 18/20 [03:57<00:26, 13.24s/it]\u001b[A\n",
      " 95%|█████████▌| 19/20 [04:10<00:13, 13.17s/it]\u001b[A\n",
      "100%|██████████| 20/20 [04:24<00:00, 13.21s/it]\u001b[A\n",
      "100%|██████████| 10/10 [2:06:07<00:00, 756.79s/it]\n"
     ]
    }
   ],
   "source": [
    "big_40 = []\n",
    "big_50 = []\n",
    "big_100 = []\n",
    "\n",
    "n_iter = 10\n",
    "\n",
    "for i in tqdm(range(n_iter)):\n",
    "    big_40.append(return_classification_report(all_results_40))\n",
    "    big_50.append(return_classification_report(all_results_50))\n",
    "    big_100.append(return_classification_report(all_results_100))"
   ]
  },
  {
   "cell_type": "code",
   "execution_count": 250,
   "id": "39b6d50b",
   "metadata": {},
   "outputs": [
    {
     "data": {
      "text/plain": [
       "20"
      ]
     },
     "execution_count": 250,
     "metadata": {},
     "output_type": "execute_result"
    }
   ],
   "source": []
  },
  {
   "cell_type": "code",
   "execution_count": null,
   "id": "4a44cdbb",
   "metadata": {},
   "outputs": [],
   "source": []
  },
  {
   "cell_type": "code",
   "execution_count": 252,
   "id": "9a7cfc60",
   "metadata": {},
   "outputs": [],
   "source": [
    "# Function to extract F1 scores from cr_all\n",
    "def extract_f1_scores(cr_all):\n",
    "    f1_scores = []\n",
    "    for i in range(20):\n",
    "        f1_score = pd.DataFrame(cr_all[i]).loc['f1-score', 'macro avg']\n",
    "        f1_scores.append(f1_score)\n",
    "    return f1_scores\n",
    "\n",
    "# Extract F1 scores for each sampling rate\n",
    "\n",
    "big_f1_40 = []\n",
    "big_f1_50 = []\n",
    "big_f1_100 = []\n",
    "\n",
    "\n",
    "\n",
    "for i in range(n_iter):\n",
    "    big_f1_40.append(extract_f1_scores(big_40[i]))\n",
    "    big_f1_50.append(extract_f1_scores(big_50[i]))\n",
    "    big_f1_100.append(extract_f1_scores(big_100[i]))"
   ]
  },
  {
   "cell_type": "code",
   "execution_count": 261,
   "id": "f7f64b9e",
   "metadata": {},
   "outputs": [],
   "source": [
    "f1_scores_40 = np.mean(np.array(big_f1_40), axis = 0)\n",
    "f1_scores_50 = np.mean(np.array(big_f1_50), axis = 0)\n",
    "f1_scores_100 = np.mean(np.array(big_f1_100), axis = 0)"
   ]
  },
  {
   "cell_type": "code",
   "execution_count": null,
   "id": "3e8ab7de",
   "metadata": {},
   "outputs": [],
   "source": []
  },
  {
   "cell_type": "code",
   "execution_count": 262,
   "id": "9ac104a7",
   "metadata": {},
   "outputs": [
    {
     "data": {
      "image/png": "[encoded data removed]",
      "text/plain": [
       "<Figure size 1600x800 with 1 Axes>"
      ]
     },
     "metadata": {},
     "output_type": "display_data"
    }
   ],
   "source": [
    "# Split F1 scores into frequency bands\n",
    "f1_scores_1_10_40, f1_scores_1_15_40, f1_scores_05_10_40, f1_scores_05_15_40 = f1_scores_40[:5], f1_scores_40[5:10], f1_scores_40[10:15], f1_scores_40[15:20]\n",
    "f1_scores_1_10_50, f1_scores_1_15_50, f1_scores_05_10_50, f1_scores_05_15_50 = f1_scores_50[:5], f1_scores_50[5:10], f1_scores_50[10:15], f1_scores_50[15:20]\n",
    "f1_scores_1_10_100, f1_scores_1_15_100, f1_scores_05_10_100, f1_scores_05_15_100 = f1_scores_100[:5], f1_scores_100[5:10], f1_scores_100[10:15], f1_scores_100[15:20]\n",
    "\n",
    "windows = ['(P-10,P+30)', '(P-10,P+40)', '(P-20,P+50)', '(P-5,P+20)', '(P-50,P+100)']\n",
    "bar_width = 0.20  # Width of each bar\n",
    "index = np.arange(len(windows)) * 3  # Increase the separation between ticks\n",
    "\n",
    "# Color blind friendly palette\n",
    "colors = ['#1f77b4', '#ff7f0e', '#2ca02c', 'red']\n",
    "\n",
    "plt.figure(figsize=(16, 8))\n",
    "\n",
    "# Plot for 40 Hz\n",
    "plt.bar(index - 2 * bar_width, f1_scores_1_10_40, bar_width, label='40 Hz, 1-10 Hz', color=colors[0])\n",
    "plt.bar(index - 1 * bar_width, f1_scores_1_15_40, bar_width, label='40 Hz, 1-15 Hz', color=colors[1])\n",
    "plt.bar(index + 0 * bar_width, f1_scores_05_10_40, bar_width, label='40 Hz, 0.5-10 Hz', color=colors[2])\n",
    "plt.bar(index + 1 * bar_width, f1_scores_05_15_40, bar_width, label='40 Hz, 0.5-15 Hz', color=colors[3])\n",
    "\n",
    "# Plot for 50 Hz\n",
    "plt.bar(index + 2 * bar_width, f1_scores_1_10_50, bar_width, label='50 Hz, 1-10 Hz', color=colors[0], hatch='//')\n",
    "plt.bar(index + 3 * bar_width, f1_scores_1_15_50, bar_width, label='50 Hz, 1-15 Hz', color=colors[1], hatch='//')\n",
    "plt.bar(index + 4 * bar_width, f1_scores_05_10_50, bar_width, label='50 Hz, 0.5-10 Hz', color=colors[2], hatch='//')\n",
    "plt.bar(index + 5 * bar_width, f1_scores_05_15_50, bar_width, label='50 Hz, 0.5-15 Hz', color=colors[3], hatch='//')\n",
    "\n",
    "# Plot for 100 Hz\n",
    "plt.bar(index + 6 * bar_width, f1_scores_1_10_100, bar_width, label='100 Hz, 1-10 Hz', color=colors[0], edgecolor='black', hatch='..')\n",
    "plt.bar(index + 7 * bar_width, f1_scores_1_15_100, bar_width, label='100 Hz, 1-15 Hz', color=colors[1], edgecolor='black', hatch='..')\n",
    "plt.bar(index + 8 * bar_width, f1_scores_05_10_100, bar_width, label='100 Hz, 0.5-10 Hz', color=colors[2], edgecolor='black', hatch='..')\n",
    "plt.bar(index + 9 * bar_width, f1_scores_05_15_100, bar_width, label='100 Hz, 0.5-15 Hz', color=colors[3], edgecolor='black', hatch='..')\n",
    "\n",
    "# Add labels, title, and legend\n",
    "plt.xlabel('Windows with respect to P waves/origin time', fontsize=15)\n",
    "plt.ylabel('Averaged F1-score', fontsize=15)\n",
    "plt.xticks(index + 2.5 * bar_width, windows, rotation=30, fontsize=12)\n",
    "plt.ylim(0.85, 0.94)\n",
    "plt.title('Averaged F1-score for Different Windows (Tsfel+Physical features)', fontsize=20)\n",
    "plt.grid(axis='y', linestyle='--', alpha=0.7)\n",
    "plt.gca().yaxis.grid(True, which='minor', linestyle='--', alpha=0.3)\n",
    "plt.legend(loc='upper left', bbox_to_anchor=(1, 1))\n",
    "\n",
    "# Save or display the plot\n",
    "plt.tight_layout()\n",
    "plt.savefig('combined_f1_scores_plot.png', dpi=300)\n",
    "plt.show()\n"
   ]
  },
  {
   "cell_type": "code",
   "execution_count": null,
   "id": "b63c6ecd",
   "metadata": {},
   "outputs": [],
   "source": []
  },
  {
   "cell_type": "code",
   "execution_count": null,
   "id": "f6fb36ee",
   "metadata": {},
   "outputs": [],
   "source": []
  },
  {
   "cell_type": "code",
   "execution_count": null,
   "id": "d67d410a",
   "metadata": {},
   "outputs": [],
   "source": []
  },
  {
   "cell_type": "markdown",
   "id": "144d4921",
   "metadata": {},
   "source": [
    "## Computing the feature extraction time"
   ]
  },
  {
   "cell_type": "code",
   "execution_count": 240,
   "id": "62528306",
   "metadata": {},
   "outputs": [],
   "source": [
    "def compute_time(sr = 50, nos = 5):\n",
    "    def run_compute_features(params):\n",
    "        results = []\n",
    "        for param in params:\n",
    "            # Extract prefix and remove it from the parameter dictionary\n",
    "            prefix = param.pop(\"prefix\")\n",
    "            results.append((prefix, compute_features(**param)))\n",
    "            # Re-add the prefix for any future use of the parameter set\n",
    "            param[\"prefix\"] = prefix\n",
    "        return results\n",
    "\n",
    "\n",
    "\n",
    "\n",
    "    # Parameters for different runs\n",
    "    param_sets = [\n",
    "        {\"win_before\": 1000, \"win_after\": 3000, \"nos\": nos, \"fmin\": 1, \"fmax\": 10, \"fs\": sr, \"prefix\": \"10_30_1_10_50\"},\n",
    "        {\"win_before\": 1000, \"win_after\": 4000, \"nos\": nos, \"fmin\": 1, \"fmax\": 10, \"fs\": sr, \"prefix\": \"10_40_1_10_50\"},\n",
    "        {\"win_before\": 2000, \"win_after\": 5000, \"nos\": nos, \"fmin\": 1, \"fmax\": 10, \"fs\": sr, \"prefix\": \"20_50_1_10_50\"},\n",
    "        {\"win_before\": 500, \"win_after\": 2000, \"nos\": nos, \"fmin\": 1, \"fmax\": 10, \"fs\": sr, \"prefix\": \"05_20_1_10_50\"},\n",
    "        {\"win_before\": 5000, \"win_after\": 10000, \"nos\": nos, \"fmin\": 1, \"fmax\": 10, \"fs\": sr, \"prefix\": \"50_100_1_10_50\"},\n",
    "        {\"win_before\": 1000, \"win_after\": 3000, \"nos\": nos, \"fmin\": 1, \"fmax\": 15, \"fs\": sr, \"prefix\": \"10_30_1_15_50\"},\n",
    "        {\"win_before\": 1000, \"win_after\": 4000, \"nos\": nos, \"fmin\": 1, \"fmax\": 15, \"fs\": sr, \"prefix\": \"10_40_1_15_50\"},\n",
    "        {\"win_before\": 2000, \"win_after\": 5000, \"nos\": nos, \"fmin\": 1, \"fmax\": 15, \"fs\": sr, \"prefix\": \"20_50_1_15_50\"},\n",
    "        {\"win_before\": 500, \"win_after\": 2000, \"nos\": nos, \"fmin\": 1, \"fmax\": 15, \"fs\": sr, \"prefix\": \"05_20_1_15_50\"},\n",
    "        {\"win_before\": 5000, \"win_after\": 10000, \"nos\": nos, \"fmin\": 1, \"fmax\": 15, \"fs\": sr, \"prefix\": \"50_100_1_15_50\"},\n",
    "        {\"win_before\": 1000, \"win_after\": 3000, \"nos\": nos, \"fmin\": 0.5, \"fmax\": 10, \"fs\": sr, \"prefix\": \"10_30_05_10_50\"},\n",
    "        {\"win_before\": 1000, \"win_after\": 4000, \"nos\": nos, \"fmin\": 0.5, \"fmax\": 10, \"fs\": sr, \"prefix\": \"10_40_05_10_50\"},\n",
    "        {\"win_before\": 2000, \"win_after\": 5000, \"nos\": nos, \"fmin\": 0.5, \"fmax\": 10, \"fs\": sr, \"prefix\": \"20_50_05_10_50\"},\n",
    "        {\"win_before\": 500, \"win_after\": 2000, \"nos\": nos, \"fmin\": 0.5, \"fmax\": 10, \"fs\": sr, \"prefix\": \"05_20_05_10_50\"},\n",
    "        {\"win_before\": 5000, \"win_after\": 10000, \"nos\": nos, \"fmin\": 0.5, \"fmax\": 10, \"fs\": sr, \"prefix\": \"50_100_05_10_50\"},\n",
    "        {\"win_before\": 1000, \"win_after\": 3000, \"nos\": nos, \"fmin\": 0.5, \"fmax\": 15, \"fs\": sr, \"prefix\": \"10_30_05_15_50\"},\n",
    "        {\"win_before\": 1000, \"win_after\": 4000, \"nos\": nos, \"fmin\": 0.5, \"fmax\": 15, \"fs\": sr, \"prefix\": \"10_40_05_15_50\"},\n",
    "        {\"win_before\": 2000, \"win_after\": 5000, \"nos\": nos, \"fmin\": 0.5, \"fmax\": 15, \"fs\": sr, \"prefix\": \"20_50_05_15_50\"},\n",
    "        {\"win_before\": 500, \"win_after\": 2000, \"nos\": nos, \"fmin\": 0.5, \"fmax\": 15, \"fs\": sr, \"prefix\": \"05_20_05_15_50\"},\n",
    "        {\"win_before\": 5000, \"win_after\": 10000, \"nos\": nos, \"fmin\": 0.5, \"fmax\": 15, \"fs\": sr, \"prefix\": \"50_100_05_15_50\"}\n",
    "    ]\n",
    "\n",
    "    # Run the computations and measure time\n",
    "    all_results_50 = []\n",
    "    all_time_50 = []\n",
    "    for param_set in param_sets:\n",
    "        init_time = time.time()\n",
    "        results = run_compute_features([param_set])\n",
    "        for prefix, result in results:\n",
    "            a, b, c, d = result\n",
    "            all_time_50.append(time.time() - init_time)\n",
    "            all_results_50.append((prefix, result))\n",
    "            \n",
    "    return all_time_50\n",
    "\n",
    "\n",
    "\n",
    "\n",
    "def compute_time_single_core(sr = 50, nos = 10):\n",
    "    def run_compute_features(params):\n",
    "        results = []\n",
    "        for param in params:\n",
    "            # Extract prefix and remove it from the parameter dictionary\n",
    "            prefix = param.pop(\"prefix\")\n",
    "            results.append((prefix, compute_features_single_core(**param)))\n",
    "            # Re-add the prefix for any future use of the parameter set\n",
    "            param[\"prefix\"] = prefix\n",
    "        return results\n",
    "\n",
    "\n",
    "\n",
    "\n",
    "    # Parameters for different runs\n",
    "    param_sets = [\n",
    "        {\"win_before\": 1000, \"win_after\": 3000, \"nos\": nos, \"fmin\": 1, \"fmax\": 10, \"fs\": sr, \"prefix\": \"10_30_1_10_50\"},\n",
    "        {\"win_before\": 1000, \"win_after\": 4000, \"nos\": nos, \"fmin\": 1, \"fmax\": 10, \"fs\": sr, \"prefix\": \"10_40_1_10_50\"},\n",
    "        {\"win_before\": 2000, \"win_after\": 5000, \"nos\": nos, \"fmin\": 1, \"fmax\": 10, \"fs\": sr, \"prefix\": \"20_50_1_10_50\"},\n",
    "        {\"win_before\": 500, \"win_after\": 2000, \"nos\": nos, \"fmin\": 1, \"fmax\": 10, \"fs\": sr, \"prefix\": \"05_20_1_10_50\"},\n",
    "        {\"win_before\": 5000, \"win_after\": 10000, \"nos\": nos, \"fmin\": 1, \"fmax\": 10, \"fs\": sr, \"prefix\": \"50_100_1_10_50\"},\n",
    "        {\"win_before\": 1000, \"win_after\": 3000, \"nos\": nos, \"fmin\": 1, \"fmax\": 15, \"fs\": sr, \"prefix\": \"10_30_1_15_50\"},\n",
    "        {\"win_before\": 1000, \"win_after\": 4000, \"nos\": nos, \"fmin\": 1, \"fmax\": 15, \"fs\": sr, \"prefix\": \"10_40_1_15_50\"},\n",
    "        {\"win_before\": 2000, \"win_after\": 5000, \"nos\": nos, \"fmin\": 1, \"fmax\": 15, \"fs\": sr, \"prefix\": \"20_50_1_15_50\"},\n",
    "        {\"win_before\": 500, \"win_after\": 2000, \"nos\": nos, \"fmin\": 1, \"fmax\": 15, \"fs\": sr, \"prefix\": \"05_20_1_15_50\"},\n",
    "        {\"win_before\": 5000, \"win_after\": 10000, \"nos\": nos, \"fmin\": 1, \"fmax\": 15, \"fs\": sr, \"prefix\": \"50_100_1_15_50\"},\n",
    "        {\"win_before\": 1000, \"win_after\": 3000, \"nos\": nos, \"fmin\": 0.5, \"fmax\": 10, \"fs\": sr, \"prefix\": \"10_30_05_10_50\"},\n",
    "        {\"win_before\": 1000, \"win_after\": 4000, \"nos\": nos, \"fmin\": 0.5, \"fmax\": 10, \"fs\": sr, \"prefix\": \"10_40_05_10_50\"},\n",
    "        {\"win_before\": 2000, \"win_after\": 5000, \"nos\": nos, \"fmin\": 0.5, \"fmax\": 10, \"fs\": sr, \"prefix\": \"20_50_05_10_50\"},\n",
    "        {\"win_before\": 500, \"win_after\": 2000, \"nos\": nos, \"fmin\": 0.5, \"fmax\": 10, \"fs\": sr, \"prefix\": \"05_20_05_10_50\"},\n",
    "        {\"win_before\": 5000, \"win_after\": 10000, \"nos\": nos, \"fmin\": 0.5, \"fmax\": 10, \"fs\": sr, \"prefix\": \"50_100_05_10_50\"},\n",
    "        {\"win_before\": 1000, \"win_after\": 3000, \"nos\": nos, \"fmin\": 0.5, \"fmax\": 15, \"fs\": sr, \"prefix\": \"10_30_05_15_50\"},\n",
    "        {\"win_before\": 1000, \"win_after\": 4000, \"nos\": nos, \"fmin\": 0.5, \"fmax\": 15, \"fs\": sr, \"prefix\": \"10_40_05_15_50\"},\n",
    "        {\"win_before\": 2000, \"win_after\": 5000, \"nos\": nos, \"fmin\": 0.5, \"fmax\": 15, \"fs\": sr, \"prefix\": \"20_50_05_15_50\"},\n",
    "        {\"win_before\": 500, \"win_after\": 2000, \"nos\": nos, \"fmin\": 0.5, \"fmax\": 15, \"fs\": sr, \"prefix\": \"05_20_05_15_50\"},\n",
    "        {\"win_before\": 5000, \"win_after\": 10000, \"nos\": nos, \"fmin\": 0.5, \"fmax\": 15, \"fs\": sr, \"prefix\": \"50_100_05_15_50\"}\n",
    "    ]\n",
    "\n",
    "    # Run the computations and measure time\n",
    "    all_results_50 = []\n",
    "    all_time_50 = []\n",
    "    for param_set in param_sets:\n",
    "        init_time = time.time()\n",
    "        results = run_compute_features([param_set])\n",
    "        for prefix, result in results:\n",
    "            a, b, c, d = result\n",
    "            all_time_50.append(time.time() - init_time)\n",
    "            all_results_50.append((prefix, result))\n",
    "            \n",
    "    return all_time_50\n",
    "\n",
    "\n",
    "\n"
   ]
  },
  {
   "cell_type": "code",
   "execution_count": 241,
   "id": "eaad331e",
   "metadata": {
    "scrolled": true
   },
   "outputs": [
    {
     "name": "stderr",
     "output_type": "stream",
     "text": [
      "100%|██████████| 5/5 [00:00<00:00, 11.13it/s]\n",
      "100%|██████████| 5/5 [00:00<00:00, 279.05it/s]\n",
      "100%|██████████| 5/5 [00:00<00:00, 1443.72it/s]\n",
      "100%|██████████| 5/5 [00:00<00:00, 244.56it/s]"
     ]
    },
    {
     "name": "stdout",
     "output_type": "stream",
     "text": [
      "1600\n"
     ]
    },
    {
     "name": "stderr",
     "output_type": "stream",
     "text": [
      "\n",
      "  0%|          | 0/5 [00:00<?, ?it/s]/home/ak287/PNW_Seismic_Event_Classification/notebooks/../feature_extraction_scripts/physical_feature_extraction_scripts/seis_feature.py:101: RuntimeWarning: invalid value encountered in double_scalars\n",
      "  'Gamma': lambda: ((np.dot(self.freq, self.ft**(2)) / np.sum(self.ft**(2)))**(2) - ((np.dot(self.freq**(2), self.ft**(2)) / np.sum(self.ft**(2)))**(0.5))**(2))**(0.5),\n",
      "100%|██████████| 5/5 [00:00<00:00, 20.31it/s]\n",
      "  0%|          | 0/5 [00:00<?, ?it/s]/home/ak287/PNW_Seismic_Event_Classification/notebooks/../feature_extraction_scripts/physical_feature_extraction_scripts/seis_feature.py:101: RuntimeWarning: invalid value encountered in double_scalars\n",
      "  'Gamma': lambda: ((np.dot(self.freq, self.ft**(2)) / np.sum(self.ft**(2)))**(2) - ((np.dot(self.freq**(2), self.ft**(2)) / np.sum(self.ft**(2)))**(0.5))**(2))**(0.5),\n",
      "100%|██████████| 5/5 [00:00<00:00, 21.50it/s]\n",
      "  0%|          | 0/5 [00:00<?, ?it/s]/home/ak287/PNW_Seismic_Event_Classification/notebooks/../feature_extraction_scripts/physical_feature_extraction_scripts/seis_feature.py:101: RuntimeWarning: invalid value encountered in double_scalars\n",
      "  'Gamma': lambda: ((np.dot(self.freq, self.ft**(2)) / np.sum(self.ft**(2)))**(2) - ((np.dot(self.freq**(2), self.ft**(2)) / np.sum(self.ft**(2)))**(0.5))**(2))**(0.5),\n",
      "100%|██████████| 5/5 [00:00<00:00, 22.22it/s]\n",
      "  0%|          | 0/5 [00:00<?, ?it/s]/home/ak287/PNW_Seismic_Event_Classification/notebooks/../feature_extraction_scripts/physical_feature_extraction_scripts/seis_feature.py:101: RuntimeWarning: invalid value encountered in double_scalars\n",
      "  'Gamma': lambda: ((np.dot(self.freq, self.ft**(2)) / np.sum(self.ft**(2)))**(2) - ((np.dot(self.freq**(2), self.ft**(2)) / np.sum(self.ft**(2)))**(0.5))**(2))**(0.5),\n",
      "100%|██████████| 5/5 [00:00<00:00, 21.77it/s]\n",
      "100%|██████████| 5/5 [00:00<00:00, 1673.57it/s]\n",
      "100%|██████████| 5/5 [00:00<00:00, 2322.43it/s]\n",
      "100%|██████████| 5/5 [00:00<00:00, 2557.81it/s]\n",
      "100%|██████████| 5/5 [00:00<00:00, 2190.24it/s]"
     ]
    },
    {
     "name": "stdout",
     "output_type": "stream",
     "text": [
      "2000\n"
     ]
    },
    {
     "name": "stderr",
     "output_type": "stream",
     "text": [
      "\n",
      "  0%|          | 0/5 [00:00<?, ?it/s]/home/ak287/PNW_Seismic_Event_Classification/notebooks/../feature_extraction_scripts/physical_feature_extraction_scripts/seis_feature.py:101: RuntimeWarning: invalid value encountered in double_scalars\n",
      "  'Gamma': lambda: ((np.dot(self.freq, self.ft**(2)) / np.sum(self.ft**(2)))**(2) - ((np.dot(self.freq**(2), self.ft**(2)) / np.sum(self.ft**(2)))**(0.5))**(2))**(0.5),\n",
      "100%|██████████| 5/5 [00:00<00:00, 18.50it/s]\n",
      "  0%|          | 0/5 [00:00<?, ?it/s]/home/ak287/PNW_Seismic_Event_Classification/notebooks/../feature_extraction_scripts/physical_feature_extraction_scripts/seis_feature.py:101: RuntimeWarning: invalid value encountered in double_scalars\n",
      "  'Gamma': lambda: ((np.dot(self.freq, self.ft**(2)) / np.sum(self.ft**(2)))**(2) - ((np.dot(self.freq**(2), self.ft**(2)) / np.sum(self.ft**(2)))**(0.5))**(2))**(0.5),\n",
      "100%|██████████| 5/5 [00:00<00:00, 20.46it/s]\n",
      "  0%|          | 0/5 [00:00<?, ?it/s]/home/ak287/PNW_Seismic_Event_Classification/notebooks/../feature_extraction_scripts/physical_feature_extraction_scripts/seis_feature.py:101: RuntimeWarning: invalid value encountered in double_scalars\n",
      "  'Gamma': lambda: ((np.dot(self.freq, self.ft**(2)) / np.sum(self.ft**(2)))**(2) - ((np.dot(self.freq**(2), self.ft**(2)) / np.sum(self.ft**(2)))**(0.5))**(2))**(0.5),\n",
      "100%|██████████| 5/5 [00:00<00:00, 19.51it/s]\n",
      "  0%|          | 0/5 [00:00<?, ?it/s]/home/ak287/PNW_Seismic_Event_Classification/notebooks/../feature_extraction_scripts/physical_feature_extraction_scripts/seis_feature.py:101: RuntimeWarning: invalid value encountered in double_scalars\n",
      "  'Gamma': lambda: ((np.dot(self.freq, self.ft**(2)) / np.sum(self.ft**(2)))**(2) - ((np.dot(self.freq**(2), self.ft**(2)) / np.sum(self.ft**(2)))**(0.5))**(2))**(0.5),\n",
      "100%|██████████| 5/5 [00:00<00:00, 19.47it/s]\n",
      "100%|██████████| 5/5 [00:00<00:00, 143.86it/s]\n",
      "100%|██████████| 5/5 [00:00<00:00, 282.10it/s]\n",
      "100%|██████████| 5/5 [00:00<00:00, 1841.38it/s]\n",
      "100%|██████████| 5/5 [00:00<00:00, 275.64it/s]\n"
     ]
    },
    {
     "name": "stdout",
     "output_type": "stream",
     "text": [
      "2800\n"
     ]
    },
    {
     "name": "stderr",
     "output_type": "stream",
     "text": [
      "  0%|          | 0/5 [00:00<?, ?it/s]/home/ak287/PNW_Seismic_Event_Classification/notebooks/../feature_extraction_scripts/physical_feature_extraction_scripts/seis_feature.py:101: RuntimeWarning: invalid value encountered in double_scalars\n",
      "  'Gamma': lambda: ((np.dot(self.freq, self.ft**(2)) / np.sum(self.ft**(2)))**(2) - ((np.dot(self.freq**(2), self.ft**(2)) / np.sum(self.ft**(2)))**(0.5))**(2))**(0.5),\n",
      "100%|██████████| 5/5 [00:00<00:00, 18.53it/s]\n",
      "  0%|          | 0/5 [00:00<?, ?it/s]/home/ak287/PNW_Seismic_Event_Classification/notebooks/../feature_extraction_scripts/physical_feature_extraction_scripts/seis_feature.py:101: RuntimeWarning: invalid value encountered in double_scalars\n",
      "  'Gamma': lambda: ((np.dot(self.freq, self.ft**(2)) / np.sum(self.ft**(2)))**(2) - ((np.dot(self.freq**(2), self.ft**(2)) / np.sum(self.ft**(2)))**(0.5))**(2))**(0.5),\n",
      "100%|██████████| 5/5 [00:00<00:00, 18.51it/s]\n",
      "  0%|          | 0/5 [00:00<?, ?it/s]/home/ak287/PNW_Seismic_Event_Classification/notebooks/../feature_extraction_scripts/physical_feature_extraction_scripts/seis_feature.py:101: RuntimeWarning: invalid value encountered in double_scalars\n",
      "  'Gamma': lambda: ((np.dot(self.freq, self.ft**(2)) / np.sum(self.ft**(2)))**(2) - ((np.dot(self.freq**(2), self.ft**(2)) / np.sum(self.ft**(2)))**(0.5))**(2))**(0.5),\n",
      "100%|██████████| 5/5 [00:00<00:00, 18.67it/s]\n",
      "  0%|          | 0/5 [00:00<?, ?it/s]/home/ak287/PNW_Seismic_Event_Classification/notebooks/../feature_extraction_scripts/physical_feature_extraction_scripts/seis_feature.py:101: RuntimeWarning: invalid value encountered in double_scalars\n",
      "  'Gamma': lambda: ((np.dot(self.freq, self.ft**(2)) / np.sum(self.ft**(2)))**(2) - ((np.dot(self.freq**(2), self.ft**(2)) / np.sum(self.ft**(2)))**(0.5))**(2))**(0.5),\n",
      "100%|██████████| 5/5 [00:00<00:00, 19.35it/s]\n",
      "100%|██████████| 5/5 [00:00<00:00, 965.54it/s]\n",
      "100%|██████████| 5/5 [00:00<00:00, 1201.26it/s]\n",
      "100%|██████████| 5/5 [00:00<00:00, 1566.79it/s]\n",
      "100%|██████████| 5/5 [00:00<00:00, 287.46it/s]"
     ]
    },
    {
     "name": "stdout",
     "output_type": "stream",
     "text": [
      "1000\n"
     ]
    },
    {
     "name": "stderr",
     "output_type": "stream",
     "text": [
      "\n",
      "  0%|          | 0/5 [00:00<?, ?it/s]/home/ak287/PNW_Seismic_Event_Classification/notebooks/../feature_extraction_scripts/physical_feature_extraction_scripts/seis_feature.py:101: RuntimeWarning: invalid value encountered in double_scalars\n",
      "  'Gamma': lambda: ((np.dot(self.freq, self.ft**(2)) / np.sum(self.ft**(2)))**(2) - ((np.dot(self.freq**(2), self.ft**(2)) / np.sum(self.ft**(2)))**(0.5))**(2))**(0.5),\n",
      "100%|██████████| 5/5 [00:00<00:00, 22.84it/s]\n",
      "  0%|          | 0/5 [00:00<?, ?it/s]/home/ak287/PNW_Seismic_Event_Classification/notebooks/../feature_extraction_scripts/physical_feature_extraction_scripts/seis_feature.py:101: RuntimeWarning: invalid value encountered in double_scalars\n",
      "  'Gamma': lambda: ((np.dot(self.freq, self.ft**(2)) / np.sum(self.ft**(2)))**(2) - ((np.dot(self.freq**(2), self.ft**(2)) / np.sum(self.ft**(2)))**(0.5))**(2))**(0.5),\n",
      "100%|██████████| 5/5 [00:00<00:00, 24.65it/s]\n",
      "  0%|          | 0/5 [00:00<?, ?it/s]/home/ak287/PNW_Seismic_Event_Classification/notebooks/../feature_extraction_scripts/physical_feature_extraction_scripts/seis_feature.py:101: RuntimeWarning: invalid value encountered in double_scalars\n",
      "  'Gamma': lambda: ((np.dot(self.freq, self.ft**(2)) / np.sum(self.ft**(2)))**(2) - ((np.dot(self.freq**(2), self.ft**(2)) / np.sum(self.ft**(2)))**(0.5))**(2))**(0.5),\n",
      "100%|██████████| 5/5 [00:00<00:00, 23.79it/s]\n",
      "  0%|          | 0/5 [00:00<?, ?it/s]/home/ak287/PNW_Seismic_Event_Classification/notebooks/../feature_extraction_scripts/physical_feature_extraction_scripts/seis_feature.py:101: RuntimeWarning: invalid value encountered in double_scalars\n",
      "  'Gamma': lambda: ((np.dot(self.freq, self.ft**(2)) / np.sum(self.ft**(2)))**(2) - ((np.dot(self.freq**(2), self.ft**(2)) / np.sum(self.ft**(2)))**(0.5))**(2))**(0.5),\n",
      "100%|██████████| 5/5 [00:00<00:00, 23.28it/s]\n",
      "100%|██████████| 5/5 [00:00<00:00, 145.64it/s]\n",
      "100%|██████████| 5/5 [00:00<00:00, 279.77it/s]\n",
      "100%|██████████| 5/5 [00:00<00:00, 1534.35it/s]\n",
      "100%|██████████| 5/5 [00:00<00:00, 174.69it/s]"
     ]
    },
    {
     "name": "stdout",
     "output_type": "stream",
     "text": [
      "6000\n"
     ]
    },
    {
     "name": "stderr",
     "output_type": "stream",
     "text": [
      "\n",
      "  0%|          | 0/5 [00:00<?, ?it/s]/home/ak287/PNW_Seismic_Event_Classification/notebooks/../feature_extraction_scripts/physical_feature_extraction_scripts/seis_feature.py:101: RuntimeWarning: invalid value encountered in double_scalars\n",
      "  'Gamma': lambda: ((np.dot(self.freq, self.ft**(2)) / np.sum(self.ft**(2)))**(2) - ((np.dot(self.freq**(2), self.ft**(2)) / np.sum(self.ft**(2)))**(0.5))**(2))**(0.5),\n",
      "100%|██████████| 5/5 [00:00<00:00, 13.92it/s]\n",
      "  0%|          | 0/5 [00:00<?, ?it/s]/home/ak287/PNW_Seismic_Event_Classification/notebooks/../feature_extraction_scripts/physical_feature_extraction_scripts/seis_feature.py:101: RuntimeWarning: invalid value encountered in double_scalars\n",
      "  'Gamma': lambda: ((np.dot(self.freq, self.ft**(2)) / np.sum(self.ft**(2)))**(2) - ((np.dot(self.freq**(2), self.ft**(2)) / np.sum(self.ft**(2)))**(0.5))**(2))**(0.5),\n",
      "100%|██████████| 5/5 [00:00<00:00, 14.99it/s]\n",
      "  0%|          | 0/5 [00:00<?, ?it/s]/home/ak287/PNW_Seismic_Event_Classification/notebooks/../feature_extraction_scripts/physical_feature_extraction_scripts/seis_feature.py:101: RuntimeWarning: invalid value encountered in double_scalars\n",
      "  'Gamma': lambda: ((np.dot(self.freq, self.ft**(2)) / np.sum(self.ft**(2)))**(2) - ((np.dot(self.freq**(2), self.ft**(2)) / np.sum(self.ft**(2)))**(0.5))**(2))**(0.5),\n",
      "100%|██████████| 5/5 [00:00<00:00, 15.12it/s]\n",
      "  0%|          | 0/5 [00:00<?, ?it/s]/home/ak287/PNW_Seismic_Event_Classification/notebooks/../feature_extraction_scripts/physical_feature_extraction_scripts/seis_feature.py:101: RuntimeWarning: invalid value encountered in double_scalars\n",
      "  'Gamma': lambda: ((np.dot(self.freq, self.ft**(2)) / np.sum(self.ft**(2)))**(2) - ((np.dot(self.freq**(2), self.ft**(2)) / np.sum(self.ft**(2)))**(0.5))**(2))**(0.5),\n",
      "100%|██████████| 5/5 [00:00<00:00, 13.23it/s]\n",
      "100%|██████████| 5/5 [00:00<00:00, 1748.94it/s]\n",
      "100%|██████████| 5/5 [00:00<00:00, 2469.56it/s]\n",
      "100%|██████████| 5/5 [00:00<00:00, 2712.65it/s]\n",
      "100%|██████████| 5/5 [00:00<00:00, 2335.36it/s]"
     ]
    },
    {
     "name": "stdout",
     "output_type": "stream",
     "text": [
      "1600\n"
     ]
    },
    {
     "name": "stderr",
     "output_type": "stream",
     "text": [
      "\n",
      "  0%|          | 0/5 [00:00<?, ?it/s]/home/ak287/PNW_Seismic_Event_Classification/notebooks/../feature_extraction_scripts/physical_feature_extraction_scripts/seis_feature.py:101: RuntimeWarning: invalid value encountered in double_scalars\n",
      "  'Gamma': lambda: ((np.dot(self.freq, self.ft**(2)) / np.sum(self.ft**(2)))**(2) - ((np.dot(self.freq**(2), self.ft**(2)) / np.sum(self.ft**(2)))**(0.5))**(2))**(0.5),\n",
      "100%|██████████| 5/5 [00:00<00:00, 14.56it/s]\n",
      "  0%|          | 0/5 [00:00<?, ?it/s]/home/ak287/PNW_Seismic_Event_Classification/notebooks/../feature_extraction_scripts/physical_feature_extraction_scripts/seis_feature.py:101: RuntimeWarning: invalid value encountered in double_scalars\n",
      "  'Gamma': lambda: ((np.dot(self.freq, self.ft**(2)) / np.sum(self.ft**(2)))**(2) - ((np.dot(self.freq**(2), self.ft**(2)) / np.sum(self.ft**(2)))**(0.5))**(2))**(0.5),\n",
      "100%|██████████| 5/5 [00:00<00:00, 15.20it/s]\n",
      "  0%|          | 0/5 [00:00<?, ?it/s]/home/ak287/PNW_Seismic_Event_Classification/notebooks/../feature_extraction_scripts/physical_feature_extraction_scripts/seis_feature.py:101: RuntimeWarning: invalid value encountered in double_scalars\n",
      "  'Gamma': lambda: ((np.dot(self.freq, self.ft**(2)) / np.sum(self.ft**(2)))**(2) - ((np.dot(self.freq**(2), self.ft**(2)) / np.sum(self.ft**(2)))**(0.5))**(2))**(0.5),\n",
      "100%|██████████| 5/5 [00:00<00:00, 11.97it/s]\n",
      "  0%|          | 0/5 [00:00<?, ?it/s]/home/ak287/PNW_Seismic_Event_Classification/notebooks/../feature_extraction_scripts/physical_feature_extraction_scripts/seis_feature.py:101: RuntimeWarning: invalid value encountered in double_scalars\n",
      "  'Gamma': lambda: ((np.dot(self.freq, self.ft**(2)) / np.sum(self.ft**(2)))**(2) - ((np.dot(self.freq**(2), self.ft**(2)) / np.sum(self.ft**(2)))**(0.5))**(2))**(0.5),\n",
      "100%|██████████| 5/5 [00:00<00:00, 12.30it/s]\n",
      "100%|██████████| 5/5 [00:00<00:00, 1754.79it/s]\n",
      "100%|██████████| 5/5 [00:00<00:00, 2397.02it/s]\n",
      "100%|██████████| 5/5 [00:00<00:00, 2632.63it/s]\n",
      "100%|██████████| 5/5 [00:00<00:00, 2316.02it/s]"
     ]
    },
    {
     "name": "stdout",
     "output_type": "stream",
     "text": [
      "2000\n"
     ]
    },
    {
     "name": "stderr",
     "output_type": "stream",
     "text": [
      "\n",
      "  0%|          | 0/5 [00:00<?, ?it/s]/home/ak287/PNW_Seismic_Event_Classification/notebooks/../feature_extraction_scripts/physical_feature_extraction_scripts/seis_feature.py:101: RuntimeWarning: invalid value encountered in double_scalars\n",
      "  'Gamma': lambda: ((np.dot(self.freq, self.ft**(2)) / np.sum(self.ft**(2)))**(2) - ((np.dot(self.freq**(2), self.ft**(2)) / np.sum(self.ft**(2)))**(0.5))**(2))**(0.5),\n",
      "100%|██████████| 5/5 [00:00<00:00, 19.25it/s]\n",
      "  0%|          | 0/5 [00:00<?, ?it/s]/home/ak287/PNW_Seismic_Event_Classification/notebooks/../feature_extraction_scripts/physical_feature_extraction_scripts/seis_feature.py:101: RuntimeWarning: invalid value encountered in double_scalars\n",
      "  'Gamma': lambda: ((np.dot(self.freq, self.ft**(2)) / np.sum(self.ft**(2)))**(2) - ((np.dot(self.freq**(2), self.ft**(2)) / np.sum(self.ft**(2)))**(0.5))**(2))**(0.5),\n",
      "100%|██████████| 5/5 [00:00<00:00, 20.21it/s]\n",
      "  0%|          | 0/5 [00:00<?, ?it/s]/home/ak287/PNW_Seismic_Event_Classification/notebooks/../feature_extraction_scripts/physical_feature_extraction_scripts/seis_feature.py:101: RuntimeWarning: invalid value encountered in double_scalars\n",
      "  'Gamma': lambda: ((np.dot(self.freq, self.ft**(2)) / np.sum(self.ft**(2)))**(2) - ((np.dot(self.freq**(2), self.ft**(2)) / np.sum(self.ft**(2)))**(0.5))**(2))**(0.5),\n",
      "100%|██████████| 5/5 [00:00<00:00, 21.18it/s]\n",
      "  0%|          | 0/5 [00:00<?, ?it/s]/home/ak287/PNW_Seismic_Event_Classification/notebooks/../feature_extraction_scripts/physical_feature_extraction_scripts/seis_feature.py:101: RuntimeWarning: invalid value encountered in double_scalars\n",
      "  'Gamma': lambda: ((np.dot(self.freq, self.ft**(2)) / np.sum(self.ft**(2)))**(2) - ((np.dot(self.freq**(2), self.ft**(2)) / np.sum(self.ft**(2)))**(0.5))**(2))**(0.5),\n",
      "100%|██████████| 5/5 [00:00<00:00, 20.42it/s]\n",
      "100%|██████████| 5/5 [00:00<00:00, 1527.87it/s]\n",
      "100%|██████████| 5/5 [00:00<00:00, 1982.37it/s]\n",
      "100%|██████████| 5/5 [00:00<00:00, 2077.21it/s]\n",
      "100%|██████████| 5/5 [00:00<00:00, 1875.30it/s]"
     ]
    },
    {
     "name": "stdout",
     "output_type": "stream",
     "text": [
      "2800\n"
     ]
    },
    {
     "name": "stderr",
     "output_type": "stream",
     "text": [
      "\n",
      "  0%|          | 0/5 [00:00<?, ?it/s]/home/ak287/PNW_Seismic_Event_Classification/notebooks/../feature_extraction_scripts/physical_feature_extraction_scripts/seis_feature.py:101: RuntimeWarning: invalid value encountered in double_scalars\n",
      "  'Gamma': lambda: ((np.dot(self.freq, self.ft**(2)) / np.sum(self.ft**(2)))**(2) - ((np.dot(self.freq**(2), self.ft**(2)) / np.sum(self.ft**(2)))**(0.5))**(2))**(0.5),\n",
      "100%|██████████| 5/5 [00:00<00:00, 18.77it/s]\n",
      "  0%|          | 0/5 [00:00<?, ?it/s]/home/ak287/PNW_Seismic_Event_Classification/notebooks/../feature_extraction_scripts/physical_feature_extraction_scripts/seis_feature.py:101: RuntimeWarning: invalid value encountered in double_scalars\n",
      "  'Gamma': lambda: ((np.dot(self.freq, self.ft**(2)) / np.sum(self.ft**(2)))**(2) - ((np.dot(self.freq**(2), self.ft**(2)) / np.sum(self.ft**(2)))**(0.5))**(2))**(0.5),\n",
      "100%|██████████| 5/5 [00:00<00:00, 19.08it/s]\n",
      "  0%|          | 0/5 [00:00<?, ?it/s]/home/ak287/PNW_Seismic_Event_Classification/notebooks/../feature_extraction_scripts/physical_feature_extraction_scripts/seis_feature.py:101: RuntimeWarning: invalid value encountered in double_scalars\n",
      "  'Gamma': lambda: ((np.dot(self.freq, self.ft**(2)) / np.sum(self.ft**(2)))**(2) - ((np.dot(self.freq**(2), self.ft**(2)) / np.sum(self.ft**(2)))**(0.5))**(2))**(0.5),\n",
      "100%|██████████| 5/5 [00:00<00:00, 18.64it/s]\n",
      "  0%|          | 0/5 [00:00<?, ?it/s]/home/ak287/PNW_Seismic_Event_Classification/notebooks/../feature_extraction_scripts/physical_feature_extraction_scripts/seis_feature.py:101: RuntimeWarning: invalid value encountered in double_scalars\n",
      "  'Gamma': lambda: ((np.dot(self.freq, self.ft**(2)) / np.sum(self.ft**(2)))**(2) - ((np.dot(self.freq**(2), self.ft**(2)) / np.sum(self.ft**(2)))**(0.5))**(2))**(0.5),\n",
      "100%|██████████| 5/5 [00:00<00:00, 19.09it/s]\n",
      "100%|██████████| 5/5 [00:00<00:00, 1267.39it/s]\n",
      "100%|██████████| 5/5 [00:00<00:00, 1338.66it/s]\n",
      "100%|██████████| 5/5 [00:00<00:00, 1453.03it/s]\n",
      "100%|██████████| 5/5 [00:00<00:00, 204.74it/s]"
     ]
    },
    {
     "name": "stdout",
     "output_type": "stream",
     "text": [
      "1000\n"
     ]
    },
    {
     "name": "stderr",
     "output_type": "stream",
     "text": [
      "\n",
      "  0%|          | 0/5 [00:00<?, ?it/s]/home/ak287/PNW_Seismic_Event_Classification/notebooks/../feature_extraction_scripts/physical_feature_extraction_scripts/seis_feature.py:101: RuntimeWarning: invalid value encountered in double_scalars\n",
      "  'Gamma': lambda: ((np.dot(self.freq, self.ft**(2)) / np.sum(self.ft**(2)))**(2) - ((np.dot(self.freq**(2), self.ft**(2)) / np.sum(self.ft**(2)))**(0.5))**(2))**(0.5),\n",
      "100%|██████████| 5/5 [00:00<00:00, 21.84it/s]\n",
      "  0%|          | 0/5 [00:00<?, ?it/s]/home/ak287/PNW_Seismic_Event_Classification/notebooks/../feature_extraction_scripts/physical_feature_extraction_scripts/seis_feature.py:101: RuntimeWarning: invalid value encountered in double_scalars\n",
      "  'Gamma': lambda: ((np.dot(self.freq, self.ft**(2)) / np.sum(self.ft**(2)))**(2) - ((np.dot(self.freq**(2), self.ft**(2)) / np.sum(self.ft**(2)))**(0.5))**(2))**(0.5),\n",
      "100%|██████████| 5/5 [00:00<00:00, 21.71it/s]\n",
      "  0%|          | 0/5 [00:00<?, ?it/s]/home/ak287/PNW_Seismic_Event_Classification/notebooks/../feature_extraction_scripts/physical_feature_extraction_scripts/seis_feature.py:101: RuntimeWarning: invalid value encountered in double_scalars\n",
      "  'Gamma': lambda: ((np.dot(self.freq, self.ft**(2)) / np.sum(self.ft**(2)))**(2) - ((np.dot(self.freq**(2), self.ft**(2)) / np.sum(self.ft**(2)))**(0.5))**(2))**(0.5),\n",
      "100%|██████████| 5/5 [00:00<00:00, 24.10it/s]\n",
      "  0%|          | 0/5 [00:00<?, ?it/s]/home/ak287/PNW_Seismic_Event_Classification/notebooks/../feature_extraction_scripts/physical_feature_extraction_scripts/seis_feature.py:101: RuntimeWarning: invalid value encountered in double_scalars\n",
      "  'Gamma': lambda: ((np.dot(self.freq, self.ft**(2)) / np.sum(self.ft**(2)))**(2) - ((np.dot(self.freq**(2), self.ft**(2)) / np.sum(self.ft**(2)))**(0.5))**(2))**(0.5),\n",
      "100%|██████████| 5/5 [00:00<00:00, 20.83it/s]\n",
      "100%|██████████| 5/5 [00:00<00:00, 1263.95it/s]\n",
      "100%|██████████| 5/5 [00:00<00:00, 1734.76it/s]\n",
      "100%|██████████| 5/5 [00:00<00:00, 1640.96it/s]\n",
      "100%|██████████| 5/5 [00:00<00:00, 1721.23it/s]"
     ]
    },
    {
     "name": "stdout",
     "output_type": "stream",
     "text": [
      "6000\n"
     ]
    },
    {
     "name": "stderr",
     "output_type": "stream",
     "text": [
      "\n",
      "  0%|          | 0/5 [00:00<?, ?it/s]/home/ak287/PNW_Seismic_Event_Classification/notebooks/../feature_extraction_scripts/physical_feature_extraction_scripts/seis_feature.py:101: RuntimeWarning: invalid value encountered in double_scalars\n",
      "  'Gamma': lambda: ((np.dot(self.freq, self.ft**(2)) / np.sum(self.ft**(2)))**(2) - ((np.dot(self.freq**(2), self.ft**(2)) / np.sum(self.ft**(2)))**(0.5))**(2))**(0.5),\n",
      "100%|██████████| 5/5 [00:00<00:00, 14.22it/s]\n",
      "  0%|          | 0/5 [00:00<?, ?it/s]/home/ak287/PNW_Seismic_Event_Classification/notebooks/../feature_extraction_scripts/physical_feature_extraction_scripts/seis_feature.py:101: RuntimeWarning: invalid value encountered in double_scalars\n",
      "  'Gamma': lambda: ((np.dot(self.freq, self.ft**(2)) / np.sum(self.ft**(2)))**(2) - ((np.dot(self.freq**(2), self.ft**(2)) / np.sum(self.ft**(2)))**(0.5))**(2))**(0.5),\n",
      "100%|██████████| 5/5 [00:00<00:00, 14.35it/s]\n",
      "  0%|          | 0/5 [00:00<?, ?it/s]/home/ak287/PNW_Seismic_Event_Classification/notebooks/../feature_extraction_scripts/physical_feature_extraction_scripts/seis_feature.py:101: RuntimeWarning: invalid value encountered in double_scalars\n",
      "  'Gamma': lambda: ((np.dot(self.freq, self.ft**(2)) / np.sum(self.ft**(2)))**(2) - ((np.dot(self.freq**(2), self.ft**(2)) / np.sum(self.ft**(2)))**(0.5))**(2))**(0.5),\n",
      "100%|██████████| 5/5 [00:00<00:00, 14.94it/s]\n",
      "  0%|          | 0/5 [00:00<?, ?it/s]/home/ak287/PNW_Seismic_Event_Classification/notebooks/../feature_extraction_scripts/physical_feature_extraction_scripts/seis_feature.py:101: RuntimeWarning: invalid value encountered in double_scalars\n",
      "  'Gamma': lambda: ((np.dot(self.freq, self.ft**(2)) / np.sum(self.ft**(2)))**(2) - ((np.dot(self.freq**(2), self.ft**(2)) / np.sum(self.ft**(2)))**(0.5))**(2))**(0.5),\n",
      "100%|██████████| 5/5 [00:00<00:00, 14.33it/s]\n",
      "100%|██████████| 5/5 [00:00<00:00, 1535.70it/s]\n",
      "100%|██████████| 5/5 [00:00<00:00, 2211.02it/s]\n",
      "100%|██████████| 5/5 [00:00<00:00, 2570.04it/s]\n",
      "100%|██████████| 5/5 [00:00<00:00, 1991.03it/s]"
     ]
    },
    {
     "name": "stdout",
     "output_type": "stream",
     "text": [
      "1600\n"
     ]
    },
    {
     "name": "stderr",
     "output_type": "stream",
     "text": [
      "\n",
      "  0%|          | 0/5 [00:00<?, ?it/s]/home/ak287/PNW_Seismic_Event_Classification/notebooks/../feature_extraction_scripts/physical_feature_extraction_scripts/seis_feature.py:101: RuntimeWarning: invalid value encountered in double_scalars\n",
      "  'Gamma': lambda: ((np.dot(self.freq, self.ft**(2)) / np.sum(self.ft**(2)))**(2) - ((np.dot(self.freq**(2), self.ft**(2)) / np.sum(self.ft**(2)))**(0.5))**(2))**(0.5),\n",
      "100%|██████████| 5/5 [00:00<00:00, 20.18it/s]\n",
      "  0%|          | 0/5 [00:00<?, ?it/s]/home/ak287/PNW_Seismic_Event_Classification/notebooks/../feature_extraction_scripts/physical_feature_extraction_scripts/seis_feature.py:101: RuntimeWarning: invalid value encountered in double_scalars\n",
      "  'Gamma': lambda: ((np.dot(self.freq, self.ft**(2)) / np.sum(self.ft**(2)))**(2) - ((np.dot(self.freq**(2), self.ft**(2)) / np.sum(self.ft**(2)))**(0.5))**(2))**(0.5),\n",
      "100%|██████████| 5/5 [00:00<00:00, 20.80it/s]\n",
      "  0%|          | 0/5 [00:00<?, ?it/s]/home/ak287/PNW_Seismic_Event_Classification/notebooks/../feature_extraction_scripts/physical_feature_extraction_scripts/seis_feature.py:101: RuntimeWarning: invalid value encountered in double_scalars\n",
      "  'Gamma': lambda: ((np.dot(self.freq, self.ft**(2)) / np.sum(self.ft**(2)))**(2) - ((np.dot(self.freq**(2), self.ft**(2)) / np.sum(self.ft**(2)))**(0.5))**(2))**(0.5),\n",
      "100%|██████████| 5/5 [00:00<00:00, 20.67it/s]\n",
      "  0%|          | 0/5 [00:00<?, ?it/s]/home/ak287/PNW_Seismic_Event_Classification/notebooks/../feature_extraction_scripts/physical_feature_extraction_scripts/seis_feature.py:101: RuntimeWarning: invalid value encountered in double_scalars\n",
      "  'Gamma': lambda: ((np.dot(self.freq, self.ft**(2)) / np.sum(self.ft**(2)))**(2) - ((np.dot(self.freq**(2), self.ft**(2)) / np.sum(self.ft**(2)))**(0.5))**(2))**(0.5),\n",
      "100%|██████████| 5/5 [00:00<00:00, 21.73it/s]\n",
      "100%|██████████| 5/5 [00:00<00:00, 1810.07it/s]\n",
      "100%|██████████| 5/5 [00:00<00:00, 2450.52it/s]\n",
      "100%|██████████| 5/5 [00:00<00:00, 2661.36it/s]\n",
      "100%|██████████| 5/5 [00:00<00:00, 2310.66it/s]"
     ]
    },
    {
     "name": "stdout",
     "output_type": "stream",
     "text": [
      "2000\n"
     ]
    },
    {
     "name": "stderr",
     "output_type": "stream",
     "text": [
      "\n",
      "  0%|          | 0/5 [00:00<?, ?it/s]/home/ak287/PNW_Seismic_Event_Classification/notebooks/../feature_extraction_scripts/physical_feature_extraction_scripts/seis_feature.py:101: RuntimeWarning: invalid value encountered in double_scalars\n",
      "  'Gamma': lambda: ((np.dot(self.freq, self.ft**(2)) / np.sum(self.ft**(2)))**(2) - ((np.dot(self.freq**(2), self.ft**(2)) / np.sum(self.ft**(2)))**(0.5))**(2))**(0.5),\n",
      "100%|██████████| 5/5 [00:00<00:00, 19.97it/s]\n",
      "  0%|          | 0/5 [00:00<?, ?it/s]/home/ak287/PNW_Seismic_Event_Classification/notebooks/../feature_extraction_scripts/physical_feature_extraction_scripts/seis_feature.py:101: RuntimeWarning: invalid value encountered in double_scalars\n",
      "  'Gamma': lambda: ((np.dot(self.freq, self.ft**(2)) / np.sum(self.ft**(2)))**(2) - ((np.dot(self.freq**(2), self.ft**(2)) / np.sum(self.ft**(2)))**(0.5))**(2))**(0.5),\n",
      "100%|██████████| 5/5 [00:00<00:00, 18.05it/s]\n",
      "  0%|          | 0/5 [00:00<?, ?it/s]/home/ak287/PNW_Seismic_Event_Classification/notebooks/../feature_extraction_scripts/physical_feature_extraction_scripts/seis_feature.py:101: RuntimeWarning: invalid value encountered in double_scalars\n",
      "  'Gamma': lambda: ((np.dot(self.freq, self.ft**(2)) / np.sum(self.ft**(2)))**(2) - ((np.dot(self.freq**(2), self.ft**(2)) / np.sum(self.ft**(2)))**(0.5))**(2))**(0.5),\n",
      "100%|██████████| 5/5 [00:00<00:00, 19.96it/s]\n",
      "  0%|          | 0/5 [00:00<?, ?it/s]/home/ak287/PNW_Seismic_Event_Classification/notebooks/../feature_extraction_scripts/physical_feature_extraction_scripts/seis_feature.py:101: RuntimeWarning: invalid value encountered in double_scalars\n",
      "  'Gamma': lambda: ((np.dot(self.freq, self.ft**(2)) / np.sum(self.ft**(2)))**(2) - ((np.dot(self.freq**(2), self.ft**(2)) / np.sum(self.ft**(2)))**(0.5))**(2))**(0.5),\n",
      "100%|██████████| 5/5 [00:00<00:00, 20.27it/s]\n",
      "100%|██████████| 5/5 [00:00<00:00, 1735.19it/s]\n",
      "100%|██████████| 5/5 [00:00<00:00, 2374.22it/s]\n",
      "100%|██████████| 5/5 [00:00<00:00, 2636.27it/s]\n",
      "100%|██████████| 5/5 [00:00<00:00, 2230.06it/s]"
     ]
    },
    {
     "name": "stdout",
     "output_type": "stream",
     "text": [
      "2800\n"
     ]
    },
    {
     "name": "stderr",
     "output_type": "stream",
     "text": [
      "\n",
      "  0%|          | 0/5 [00:00<?, ?it/s]/home/ak287/PNW_Seismic_Event_Classification/notebooks/../feature_extraction_scripts/physical_feature_extraction_scripts/seis_feature.py:101: RuntimeWarning: invalid value encountered in double_scalars\n",
      "  'Gamma': lambda: ((np.dot(self.freq, self.ft**(2)) / np.sum(self.ft**(2)))**(2) - ((np.dot(self.freq**(2), self.ft**(2)) / np.sum(self.ft**(2)))**(0.5))**(2))**(0.5),\n",
      "100%|██████████| 5/5 [00:00<00:00, 18.30it/s]\n",
      "  0%|          | 0/5 [00:00<?, ?it/s]/home/ak287/PNW_Seismic_Event_Classification/notebooks/../feature_extraction_scripts/physical_feature_extraction_scripts/seis_feature.py:101: RuntimeWarning: invalid value encountered in double_scalars\n",
      "  'Gamma': lambda: ((np.dot(self.freq, self.ft**(2)) / np.sum(self.ft**(2)))**(2) - ((np.dot(self.freq**(2), self.ft**(2)) / np.sum(self.ft**(2)))**(0.5))**(2))**(0.5),\n",
      "100%|██████████| 5/5 [00:00<00:00, 18.75it/s]\n",
      "  0%|          | 0/5 [00:00<?, ?it/s]/home/ak287/PNW_Seismic_Event_Classification/notebooks/../feature_extraction_scripts/physical_feature_extraction_scripts/seis_feature.py:101: RuntimeWarning: invalid value encountered in double_scalars\n",
      "  'Gamma': lambda: ((np.dot(self.freq, self.ft**(2)) / np.sum(self.ft**(2)))**(2) - ((np.dot(self.freq**(2), self.ft**(2)) / np.sum(self.ft**(2)))**(0.5))**(2))**(0.5),\n",
      "100%|██████████| 5/5 [00:00<00:00, 18.92it/s]\n",
      "  0%|          | 0/5 [00:00<?, ?it/s]/home/ak287/PNW_Seismic_Event_Classification/notebooks/../feature_extraction_scripts/physical_feature_extraction_scripts/seis_feature.py:101: RuntimeWarning: invalid value encountered in double_scalars\n",
      "  'Gamma': lambda: ((np.dot(self.freq, self.ft**(2)) / np.sum(self.ft**(2)))**(2) - ((np.dot(self.freq**(2), self.ft**(2)) / np.sum(self.ft**(2)))**(0.5))**(2))**(0.5),\n",
      "100%|██████████| 5/5 [00:00<00:00, 19.73it/s]\n",
      "100%|██████████| 5/5 [00:00<00:00, 1430.33it/s]\n",
      "100%|██████████| 5/5 [00:00<00:00, 2467.24it/s]\n",
      "100%|██████████| 5/5 [00:00<00:00, 2703.21it/s]\n",
      "100%|██████████| 5/5 [00:00<00:00, 1231.37it/s]"
     ]
    },
    {
     "name": "stdout",
     "output_type": "stream",
     "text": [
      "1000\n"
     ]
    },
    {
     "name": "stderr",
     "output_type": "stream",
     "text": [
      "\n",
      "  0%|          | 0/5 [00:00<?, ?it/s]/home/ak287/PNW_Seismic_Event_Classification/notebooks/../feature_extraction_scripts/physical_feature_extraction_scripts/seis_feature.py:101: RuntimeWarning: invalid value encountered in double_scalars\n",
      "  'Gamma': lambda: ((np.dot(self.freq, self.ft**(2)) / np.sum(self.ft**(2)))**(2) - ((np.dot(self.freq**(2), self.ft**(2)) / np.sum(self.ft**(2)))**(0.5))**(2))**(0.5),\n",
      "100%|██████████| 5/5 [00:00<00:00, 23.39it/s]\n",
      "  0%|          | 0/5 [00:00<?, ?it/s]/home/ak287/PNW_Seismic_Event_Classification/notebooks/../feature_extraction_scripts/physical_feature_extraction_scripts/seis_feature.py:101: RuntimeWarning: invalid value encountered in double_scalars\n",
      "  'Gamma': lambda: ((np.dot(self.freq, self.ft**(2)) / np.sum(self.ft**(2)))**(2) - ((np.dot(self.freq**(2), self.ft**(2)) / np.sum(self.ft**(2)))**(0.5))**(2))**(0.5),\n",
      "100%|██████████| 5/5 [00:00<00:00, 24.58it/s]\n",
      "  0%|          | 0/5 [00:00<?, ?it/s]/home/ak287/PNW_Seismic_Event_Classification/notebooks/../feature_extraction_scripts/physical_feature_extraction_scripts/seis_feature.py:101: RuntimeWarning: invalid value encountered in double_scalars\n",
      "  'Gamma': lambda: ((np.dot(self.freq, self.ft**(2)) / np.sum(self.ft**(2)))**(2) - ((np.dot(self.freq**(2), self.ft**(2)) / np.sum(self.ft**(2)))**(0.5))**(2))**(0.5),\n",
      "100%|██████████| 5/5 [00:00<00:00, 23.09it/s]\n",
      "  0%|          | 0/5 [00:00<?, ?it/s]/home/ak287/PNW_Seismic_Event_Classification/notebooks/../feature_extraction_scripts/physical_feature_extraction_scripts/seis_feature.py:101: RuntimeWarning: invalid value encountered in double_scalars\n",
      "  'Gamma': lambda: ((np.dot(self.freq, self.ft**(2)) / np.sum(self.ft**(2)))**(2) - ((np.dot(self.freq**(2), self.ft**(2)) / np.sum(self.ft**(2)))**(0.5))**(2))**(0.5),\n",
      "100%|██████████| 5/5 [00:00<00:00, 23.23it/s]\n",
      "100%|██████████| 5/5 [00:00<00:00, 1654.95it/s]\n",
      "100%|██████████| 5/5 [00:00<00:00, 2199.89it/s]\n",
      "100%|██████████| 5/5 [00:00<00:00, 2307.35it/s]\n",
      "100%|██████████| 5/5 [00:00<00:00, 2244.62it/s]"
     ]
    },
    {
     "name": "stdout",
     "output_type": "stream",
     "text": [
      "6000\n"
     ]
    },
    {
     "name": "stderr",
     "output_type": "stream",
     "text": [
      "\n",
      "  0%|          | 0/5 [00:00<?, ?it/s]/home/ak287/PNW_Seismic_Event_Classification/notebooks/../feature_extraction_scripts/physical_feature_extraction_scripts/seis_feature.py:101: RuntimeWarning: invalid value encountered in double_scalars\n",
      "  'Gamma': lambda: ((np.dot(self.freq, self.ft**(2)) / np.sum(self.ft**(2)))**(2) - ((np.dot(self.freq**(2), self.ft**(2)) / np.sum(self.ft**(2)))**(0.5))**(2))**(0.5),\n",
      "100%|██████████| 5/5 [00:00<00:00, 14.26it/s]\n",
      "  0%|          | 0/5 [00:00<?, ?it/s]/home/ak287/PNW_Seismic_Event_Classification/notebooks/../feature_extraction_scripts/physical_feature_extraction_scripts/seis_feature.py:101: RuntimeWarning: invalid value encountered in double_scalars\n",
      "  'Gamma': lambda: ((np.dot(self.freq, self.ft**(2)) / np.sum(self.ft**(2)))**(2) - ((np.dot(self.freq**(2), self.ft**(2)) / np.sum(self.ft**(2)))**(0.5))**(2))**(0.5),\n",
      "100%|██████████| 5/5 [00:00<00:00, 14.43it/s]\n",
      "  0%|          | 0/5 [00:00<?, ?it/s]/home/ak287/PNW_Seismic_Event_Classification/notebooks/../feature_extraction_scripts/physical_feature_extraction_scripts/seis_feature.py:101: RuntimeWarning: invalid value encountered in double_scalars\n",
      "  'Gamma': lambda: ((np.dot(self.freq, self.ft**(2)) / np.sum(self.ft**(2)))**(2) - ((np.dot(self.freq**(2), self.ft**(2)) / np.sum(self.ft**(2)))**(0.5))**(2))**(0.5),\n",
      "100%|██████████| 5/5 [00:00<00:00, 14.76it/s]\n",
      "  0%|          | 0/5 [00:00<?, ?it/s]/home/ak287/PNW_Seismic_Event_Classification/notebooks/../feature_extraction_scripts/physical_feature_extraction_scripts/seis_feature.py:101: RuntimeWarning: invalid value encountered in double_scalars\n",
      "  'Gamma': lambda: ((np.dot(self.freq, self.ft**(2)) / np.sum(self.ft**(2)))**(2) - ((np.dot(self.freq**(2), self.ft**(2)) / np.sum(self.ft**(2)))**(0.5))**(2))**(0.5),\n",
      "100%|██████████| 5/5 [00:00<00:00, 14.49it/s]\n",
      "100%|██████████| 5/5 [00:00<00:00, 1442.33it/s]\n",
      "100%|██████████| 5/5 [00:00<00:00, 2346.86it/s]\n",
      "100%|██████████| 5/5 [00:00<00:00, 2690.38it/s]\n",
      "100%|██████████| 5/5 [00:00<00:00, 2255.73it/s]"
     ]
    },
    {
     "name": "stdout",
     "output_type": "stream",
     "text": [
      "1600\n"
     ]
    },
    {
     "name": "stderr",
     "output_type": "stream",
     "text": [
      "\n",
      "  0%|          | 0/5 [00:00<?, ?it/s]/home/ak287/PNW_Seismic_Event_Classification/notebooks/../feature_extraction_scripts/physical_feature_extraction_scripts/seis_feature.py:101: RuntimeWarning: invalid value encountered in double_scalars\n",
      "  'Gamma': lambda: ((np.dot(self.freq, self.ft**(2)) / np.sum(self.ft**(2)))**(2) - ((np.dot(self.freq**(2), self.ft**(2)) / np.sum(self.ft**(2)))**(0.5))**(2))**(0.5),\n",
      "100%|██████████| 5/5 [00:00<00:00, 20.44it/s]\n",
      "  0%|          | 0/5 [00:00<?, ?it/s]/home/ak287/PNW_Seismic_Event_Classification/notebooks/../feature_extraction_scripts/physical_feature_extraction_scripts/seis_feature.py:101: RuntimeWarning: invalid value encountered in double_scalars\n",
      "  'Gamma': lambda: ((np.dot(self.freq, self.ft**(2)) / np.sum(self.ft**(2)))**(2) - ((np.dot(self.freq**(2), self.ft**(2)) / np.sum(self.ft**(2)))**(0.5))**(2))**(0.5),\n",
      "100%|██████████| 5/5 [00:00<00:00, 20.04it/s]\n",
      "  0%|          | 0/5 [00:00<?, ?it/s]/home/ak287/PNW_Seismic_Event_Classification/notebooks/../feature_extraction_scripts/physical_feature_extraction_scripts/seis_feature.py:101: RuntimeWarning: invalid value encountered in double_scalars\n",
      "  'Gamma': lambda: ((np.dot(self.freq, self.ft**(2)) / np.sum(self.ft**(2)))**(2) - ((np.dot(self.freq**(2), self.ft**(2)) / np.sum(self.ft**(2)))**(0.5))**(2))**(0.5),\n",
      "100%|██████████| 5/5 [00:00<00:00, 20.54it/s]\n",
      "  0%|          | 0/5 [00:00<?, ?it/s]/home/ak287/PNW_Seismic_Event_Classification/notebooks/../feature_extraction_scripts/physical_feature_extraction_scripts/seis_feature.py:101: RuntimeWarning: invalid value encountered in double_scalars\n",
      "  'Gamma': lambda: ((np.dot(self.freq, self.ft**(2)) / np.sum(self.ft**(2)))**(2) - ((np.dot(self.freq**(2), self.ft**(2)) / np.sum(self.ft**(2)))**(0.5))**(2))**(0.5),\n",
      "100%|██████████| 5/5 [00:00<00:00, 20.87it/s]\n",
      "100%|██████████| 5/5 [00:00<00:00, 1722.51it/s]\n",
      "100%|██████████| 5/5 [00:00<00:00, 2483.60it/s]\n",
      "100%|██████████| 5/5 [00:00<00:00, 2724.64it/s]\n",
      "100%|██████████| 5/5 [00:00<00:00, 2217.80it/s]"
     ]
    },
    {
     "name": "stdout",
     "output_type": "stream",
     "text": [
      "2000\n"
     ]
    },
    {
     "name": "stderr",
     "output_type": "stream",
     "text": [
      "\n",
      "  0%|          | 0/5 [00:00<?, ?it/s]/home/ak287/PNW_Seismic_Event_Classification/notebooks/../feature_extraction_scripts/physical_feature_extraction_scripts/seis_feature.py:101: RuntimeWarning: invalid value encountered in double_scalars\n",
      "  'Gamma': lambda: ((np.dot(self.freq, self.ft**(2)) / np.sum(self.ft**(2)))**(2) - ((np.dot(self.freq**(2), self.ft**(2)) / np.sum(self.ft**(2)))**(0.5))**(2))**(0.5),\n",
      "100%|██████████| 5/5 [00:00<00:00, 19.60it/s]\n",
      "  0%|          | 0/5 [00:00<?, ?it/s]/home/ak287/PNW_Seismic_Event_Classification/notebooks/../feature_extraction_scripts/physical_feature_extraction_scripts/seis_feature.py:101: RuntimeWarning: invalid value encountered in double_scalars\n",
      "  'Gamma': lambda: ((np.dot(self.freq, self.ft**(2)) / np.sum(self.ft**(2)))**(2) - ((np.dot(self.freq**(2), self.ft**(2)) / np.sum(self.ft**(2)))**(0.5))**(2))**(0.5),\n",
      "100%|██████████| 5/5 [00:00<00:00, 19.56it/s]\n",
      "  0%|          | 0/5 [00:00<?, ?it/s]/home/ak287/PNW_Seismic_Event_Classification/notebooks/../feature_extraction_scripts/physical_feature_extraction_scripts/seis_feature.py:101: RuntimeWarning: invalid value encountered in double_scalars\n",
      "  'Gamma': lambda: ((np.dot(self.freq, self.ft**(2)) / np.sum(self.ft**(2)))**(2) - ((np.dot(self.freq**(2), self.ft**(2)) / np.sum(self.ft**(2)))**(0.5))**(2))**(0.5),\n",
      "100%|██████████| 5/5 [00:00<00:00, 19.81it/s]\n",
      "  0%|          | 0/5 [00:00<?, ?it/s]/home/ak287/PNW_Seismic_Event_Classification/notebooks/../feature_extraction_scripts/physical_feature_extraction_scripts/seis_feature.py:101: RuntimeWarning: invalid value encountered in double_scalars\n",
      "  'Gamma': lambda: ((np.dot(self.freq, self.ft**(2)) / np.sum(self.ft**(2)))**(2) - ((np.dot(self.freq**(2), self.ft**(2)) / np.sum(self.ft**(2)))**(0.5))**(2))**(0.5),\n",
      "100%|██████████| 5/5 [00:00<00:00, 18.45it/s]\n",
      "100%|██████████| 5/5 [00:00<00:00, 1554.94it/s]\n",
      "100%|██████████| 5/5 [00:00<00:00, 2437.42it/s]\n",
      "100%|██████████| 5/5 [00:00<00:00, 2657.31it/s]\n",
      "100%|██████████| 5/5 [00:00<00:00, 2233.15it/s]"
     ]
    },
    {
     "name": "stdout",
     "output_type": "stream",
     "text": [
      "2800\n"
     ]
    },
    {
     "name": "stderr",
     "output_type": "stream",
     "text": [
      "\n",
      "  0%|          | 0/5 [00:00<?, ?it/s]/home/ak287/PNW_Seismic_Event_Classification/notebooks/../feature_extraction_scripts/physical_feature_extraction_scripts/seis_feature.py:101: RuntimeWarning: invalid value encountered in double_scalars\n",
      "  'Gamma': lambda: ((np.dot(self.freq, self.ft**(2)) / np.sum(self.ft**(2)))**(2) - ((np.dot(self.freq**(2), self.ft**(2)) / np.sum(self.ft**(2)))**(0.5))**(2))**(0.5),\n",
      "100%|██████████| 5/5 [00:00<00:00, 18.46it/s]\n",
      "  0%|          | 0/5 [00:00<?, ?it/s]/home/ak287/PNW_Seismic_Event_Classification/notebooks/../feature_extraction_scripts/physical_feature_extraction_scripts/seis_feature.py:101: RuntimeWarning: invalid value encountered in double_scalars\n",
      "  'Gamma': lambda: ((np.dot(self.freq, self.ft**(2)) / np.sum(self.ft**(2)))**(2) - ((np.dot(self.freq**(2), self.ft**(2)) / np.sum(self.ft**(2)))**(0.5))**(2))**(0.5),\n",
      "100%|██████████| 5/5 [00:00<00:00, 18.92it/s]\n",
      "  0%|          | 0/5 [00:00<?, ?it/s]/home/ak287/PNW_Seismic_Event_Classification/notebooks/../feature_extraction_scripts/physical_feature_extraction_scripts/seis_feature.py:101: RuntimeWarning: invalid value encountered in double_scalars\n",
      "  'Gamma': lambda: ((np.dot(self.freq, self.ft**(2)) / np.sum(self.ft**(2)))**(2) - ((np.dot(self.freq**(2), self.ft**(2)) / np.sum(self.ft**(2)))**(0.5))**(2))**(0.5),\n",
      "100%|██████████| 5/5 [00:00<00:00, 17.96it/s]\n",
      "  0%|          | 0/5 [00:00<?, ?it/s]/home/ak287/PNW_Seismic_Event_Classification/notebooks/../feature_extraction_scripts/physical_feature_extraction_scripts/seis_feature.py:101: RuntimeWarning: invalid value encountered in double_scalars\n",
      "  'Gamma': lambda: ((np.dot(self.freq, self.ft**(2)) / np.sum(self.ft**(2)))**(2) - ((np.dot(self.freq**(2), self.ft**(2)) / np.sum(self.ft**(2)))**(0.5))**(2))**(0.5),\n",
      "100%|██████████| 5/5 [00:00<00:00, 19.13it/s]\n",
      "100%|██████████| 5/5 [00:00<00:00, 1694.26it/s]\n",
      "100%|██████████| 5/5 [00:00<00:00, 2411.35it/s]\n",
      "100%|██████████| 5/5 [00:00<00:00, 2636.27it/s]\n",
      "100%|██████████| 5/5 [00:00<00:00, 2227.93it/s]"
     ]
    },
    {
     "name": "stdout",
     "output_type": "stream",
     "text": [
      "1000\n"
     ]
    },
    {
     "name": "stderr",
     "output_type": "stream",
     "text": [
      "\n",
      "  0%|          | 0/5 [00:00<?, ?it/s]/home/ak287/PNW_Seismic_Event_Classification/notebooks/../feature_extraction_scripts/physical_feature_extraction_scripts/seis_feature.py:101: RuntimeWarning: invalid value encountered in double_scalars\n",
      "  'Gamma': lambda: ((np.dot(self.freq, self.ft**(2)) / np.sum(self.ft**(2)))**(2) - ((np.dot(self.freq**(2), self.ft**(2)) / np.sum(self.ft**(2)))**(0.5))**(2))**(0.5),\n",
      "100%|██████████| 5/5 [00:00<00:00, 23.22it/s]\n",
      "  0%|          | 0/5 [00:00<?, ?it/s]/home/ak287/PNW_Seismic_Event_Classification/notebooks/../feature_extraction_scripts/physical_feature_extraction_scripts/seis_feature.py:101: RuntimeWarning: invalid value encountered in double_scalars\n",
      "  'Gamma': lambda: ((np.dot(self.freq, self.ft**(2)) / np.sum(self.ft**(2)))**(2) - ((np.dot(self.freq**(2), self.ft**(2)) / np.sum(self.ft**(2)))**(0.5))**(2))**(0.5),\n",
      "100%|██████████| 5/5 [00:00<00:00, 24.60it/s]\n",
      "  0%|          | 0/5 [00:00<?, ?it/s]/home/ak287/PNW_Seismic_Event_Classification/notebooks/../feature_extraction_scripts/physical_feature_extraction_scripts/seis_feature.py:101: RuntimeWarning: invalid value encountered in double_scalars\n",
      "  'Gamma': lambda: ((np.dot(self.freq, self.ft**(2)) / np.sum(self.ft**(2)))**(2) - ((np.dot(self.freq**(2), self.ft**(2)) / np.sum(self.ft**(2)))**(0.5))**(2))**(0.5),\n",
      "100%|██████████| 5/5 [00:00<00:00, 22.69it/s]\n",
      "  0%|          | 0/5 [00:00<?, ?it/s]/home/ak287/PNW_Seismic_Event_Classification/notebooks/../feature_extraction_scripts/physical_feature_extraction_scripts/seis_feature.py:101: RuntimeWarning: invalid value encountered in double_scalars\n",
      "  'Gamma': lambda: ((np.dot(self.freq, self.ft**(2)) / np.sum(self.ft**(2)))**(2) - ((np.dot(self.freq**(2), self.ft**(2)) / np.sum(self.ft**(2)))**(0.5))**(2))**(0.5),\n",
      "100%|██████████| 5/5 [00:00<00:00, 23.57it/s]\n",
      "100%|██████████| 5/5 [00:00<00:00, 1190.68it/s]\n",
      "100%|██████████| 5/5 [00:00<00:00, 1583.83it/s]\n",
      "100%|██████████| 5/5 [00:00<00:00, 1632.15it/s]\n",
      "100%|██████████| 5/5 [00:00<00:00, 1264.94it/s]"
     ]
    },
    {
     "name": "stdout",
     "output_type": "stream",
     "text": [
      "6000\n"
     ]
    },
    {
     "name": "stderr",
     "output_type": "stream",
     "text": [
      "\n",
      "  0%|          | 0/5 [00:00<?, ?it/s]/home/ak287/PNW_Seismic_Event_Classification/notebooks/../feature_extraction_scripts/physical_feature_extraction_scripts/seis_feature.py:101: RuntimeWarning: invalid value encountered in double_scalars\n",
      "  'Gamma': lambda: ((np.dot(self.freq, self.ft**(2)) / np.sum(self.ft**(2)))**(2) - ((np.dot(self.freq**(2), self.ft**(2)) / np.sum(self.ft**(2)))**(0.5))**(2))**(0.5),\n",
      "100%|██████████| 5/5 [00:00<00:00, 14.33it/s]\n",
      "  0%|          | 0/5 [00:00<?, ?it/s]/home/ak287/PNW_Seismic_Event_Classification/notebooks/../feature_extraction_scripts/physical_feature_extraction_scripts/seis_feature.py:101: RuntimeWarning: invalid value encountered in double_scalars\n",
      "  'Gamma': lambda: ((np.dot(self.freq, self.ft**(2)) / np.sum(self.ft**(2)))**(2) - ((np.dot(self.freq**(2), self.ft**(2)) / np.sum(self.ft**(2)))**(0.5))**(2))**(0.5),\n",
      "100%|██████████| 5/5 [00:00<00:00, 14.49it/s]\n",
      "  0%|          | 0/5 [00:00<?, ?it/s]/home/ak287/PNW_Seismic_Event_Classification/notebooks/../feature_extraction_scripts/physical_feature_extraction_scripts/seis_feature.py:101: RuntimeWarning: invalid value encountered in double_scalars\n",
      "  'Gamma': lambda: ((np.dot(self.freq, self.ft**(2)) / np.sum(self.ft**(2)))**(2) - ((np.dot(self.freq**(2), self.ft**(2)) / np.sum(self.ft**(2)))**(0.5))**(2))**(0.5),\n",
      "100%|██████████| 5/5 [00:00<00:00, 14.37it/s]\n",
      "  0%|          | 0/5 [00:00<?, ?it/s]/home/ak287/PNW_Seismic_Event_Classification/notebooks/../feature_extraction_scripts/physical_feature_extraction_scripts/seis_feature.py:101: RuntimeWarning: invalid value encountered in double_scalars\n",
      "  'Gamma': lambda: ((np.dot(self.freq, self.ft**(2)) / np.sum(self.ft**(2)))**(2) - ((np.dot(self.freq**(2), self.ft**(2)) / np.sum(self.ft**(2)))**(0.5))**(2))**(0.5),\n",
      "100%|██████████| 5/5 [00:00<00:00, 14.33it/s]\n",
      "100%|██████████| 5/5 [00:00<00:00, 1837.67it/s]\n",
      "100%|██████████| 5/5 [00:00<00:00, 2323.97it/s]\n",
      "100%|██████████| 5/5 [00:00<00:00, 2583.34it/s]\n",
      "100%|██████████| 5/5 [00:00<00:00, 2127.58it/s]"
     ]
    },
    {
     "name": "stdout",
     "output_type": "stream",
     "text": [
      "2000\n"
     ]
    },
    {
     "name": "stderr",
     "output_type": "stream",
     "text": [
      "\n",
      "  0%|          | 0/5 [00:00<?, ?it/s]/home/ak287/PNW_Seismic_Event_Classification/notebooks/../feature_extraction_scripts/physical_feature_extraction_scripts/seis_feature.py:101: RuntimeWarning: invalid value encountered in double_scalars\n",
      "  'Gamma': lambda: ((np.dot(self.freq, self.ft**(2)) / np.sum(self.ft**(2)))**(2) - ((np.dot(self.freq**(2), self.ft**(2)) / np.sum(self.ft**(2)))**(0.5))**(2))**(0.5),\n",
      "100%|██████████| 5/5 [00:00<00:00, 17.92it/s]\n",
      "  0%|          | 0/5 [00:00<?, ?it/s]/home/ak287/PNW_Seismic_Event_Classification/notebooks/../feature_extraction_scripts/physical_feature_extraction_scripts/seis_feature.py:101: RuntimeWarning: invalid value encountered in double_scalars\n",
      "  'Gamma': lambda: ((np.dot(self.freq, self.ft**(2)) / np.sum(self.ft**(2)))**(2) - ((np.dot(self.freq**(2), self.ft**(2)) / np.sum(self.ft**(2)))**(0.5))**(2))**(0.5),\n",
      "100%|██████████| 5/5 [00:00<00:00, 19.25it/s]\n",
      "  0%|          | 0/5 [00:00<?, ?it/s]/home/ak287/PNW_Seismic_Event_Classification/notebooks/../feature_extraction_scripts/physical_feature_extraction_scripts/seis_feature.py:101: RuntimeWarning: invalid value encountered in double_scalars\n",
      "  'Gamma': lambda: ((np.dot(self.freq, self.ft**(2)) / np.sum(self.ft**(2)))**(2) - ((np.dot(self.freq**(2), self.ft**(2)) / np.sum(self.ft**(2)))**(0.5))**(2))**(0.5),\n",
      "100%|██████████| 5/5 [00:00<00:00, 19.66it/s]\n",
      "  0%|          | 0/5 [00:00<?, ?it/s]/home/ak287/PNW_Seismic_Event_Classification/notebooks/../feature_extraction_scripts/physical_feature_extraction_scripts/seis_feature.py:101: RuntimeWarning: invalid value encountered in double_scalars\n",
      "  'Gamma': lambda: ((np.dot(self.freq, self.ft**(2)) / np.sum(self.ft**(2)))**(2) - ((np.dot(self.freq**(2), self.ft**(2)) / np.sum(self.ft**(2)))**(0.5))**(2))**(0.5),\n",
      "100%|██████████| 5/5 [00:00<00:00, 18.60it/s]\n",
      "100%|██████████| 5/5 [00:00<00:00, 1369.88it/s]\n",
      "100%|██████████| 5/5 [00:00<00:00, 2424.17it/s]\n",
      "100%|██████████| 5/5 [00:00<00:00, 2113.85it/s]\n",
      "100%|██████████| 5/5 [00:00<00:00, 2300.52it/s]"
     ]
    },
    {
     "name": "stdout",
     "output_type": "stream",
     "text": [
      "2500\n"
     ]
    },
    {
     "name": "stderr",
     "output_type": "stream",
     "text": [
      "\n",
      "  0%|          | 0/5 [00:00<?, ?it/s]/home/ak287/PNW_Seismic_Event_Classification/notebooks/../feature_extraction_scripts/physical_feature_extraction_scripts/seis_feature.py:101: RuntimeWarning: invalid value encountered in double_scalars\n",
      "  'Gamma': lambda: ((np.dot(self.freq, self.ft**(2)) / np.sum(self.ft**(2)))**(2) - ((np.dot(self.freq**(2), self.ft**(2)) / np.sum(self.ft**(2)))**(0.5))**(2))**(0.5),\n",
      "100%|██████████| 5/5 [00:00<00:00, 18.57it/s]\n",
      "  0%|          | 0/5 [00:00<?, ?it/s]/home/ak287/PNW_Seismic_Event_Classification/notebooks/../feature_extraction_scripts/physical_feature_extraction_scripts/seis_feature.py:101: RuntimeWarning: invalid value encountered in double_scalars\n",
      "  'Gamma': lambda: ((np.dot(self.freq, self.ft**(2)) / np.sum(self.ft**(2)))**(2) - ((np.dot(self.freq**(2), self.ft**(2)) / np.sum(self.ft**(2)))**(0.5))**(2))**(0.5),\n",
      "100%|██████████| 5/5 [00:00<00:00, 18.85it/s]\n",
      "  0%|          | 0/5 [00:00<?, ?it/s]/home/ak287/PNW_Seismic_Event_Classification/notebooks/../feature_extraction_scripts/physical_feature_extraction_scripts/seis_feature.py:101: RuntimeWarning: invalid value encountered in double_scalars\n",
      "  'Gamma': lambda: ((np.dot(self.freq, self.ft**(2)) / np.sum(self.ft**(2)))**(2) - ((np.dot(self.freq**(2), self.ft**(2)) / np.sum(self.ft**(2)))**(0.5))**(2))**(0.5),\n",
      "100%|██████████| 5/5 [00:00<00:00, 18.70it/s]\n",
      "  0%|          | 0/5 [00:00<?, ?it/s]/home/ak287/PNW_Seismic_Event_Classification/notebooks/../feature_extraction_scripts/physical_feature_extraction_scripts/seis_feature.py:101: RuntimeWarning: invalid value encountered in double_scalars\n",
      "  'Gamma': lambda: ((np.dot(self.freq, self.ft**(2)) / np.sum(self.ft**(2)))**(2) - ((np.dot(self.freq**(2), self.ft**(2)) / np.sum(self.ft**(2)))**(0.5))**(2))**(0.5),\n",
      "100%|██████████| 5/5 [00:00<00:00, 18.77it/s]\n",
      "100%|██████████| 5/5 [00:00<00:00, 1884.91it/s]\n",
      "100%|██████████| 5/5 [00:00<00:00, 2394.28it/s]\n",
      "100%|██████████| 5/5 [00:00<00:00, 2621.44it/s]\n",
      "100%|██████████| 5/5 [00:00<00:00, 2335.36it/s]"
     ]
    },
    {
     "name": "stdout",
     "output_type": "stream",
     "text": [
      "3500\n"
     ]
    },
    {
     "name": "stderr",
     "output_type": "stream",
     "text": [
      "\n",
      "  0%|          | 0/5 [00:00<?, ?it/s]/home/ak287/PNW_Seismic_Event_Classification/notebooks/../feature_extraction_scripts/physical_feature_extraction_scripts/seis_feature.py:101: RuntimeWarning: invalid value encountered in double_scalars\n",
      "  'Gamma': lambda: ((np.dot(self.freq, self.ft**(2)) / np.sum(self.ft**(2)))**(2) - ((np.dot(self.freq**(2), self.ft**(2)) / np.sum(self.ft**(2)))**(0.5))**(2))**(0.5),\n",
      "100%|██████████| 5/5 [00:00<00:00, 17.48it/s]\n",
      "  0%|          | 0/5 [00:00<?, ?it/s]/home/ak287/PNW_Seismic_Event_Classification/notebooks/../feature_extraction_scripts/physical_feature_extraction_scripts/seis_feature.py:101: RuntimeWarning: invalid value encountered in double_scalars\n",
      "  'Gamma': lambda: ((np.dot(self.freq, self.ft**(2)) / np.sum(self.ft**(2)))**(2) - ((np.dot(self.freq**(2), self.ft**(2)) / np.sum(self.ft**(2)))**(0.5))**(2))**(0.5),\n",
      "100%|██████████| 5/5 [00:00<00:00, 17.89it/s]\n",
      "  0%|          | 0/5 [00:00<?, ?it/s]/home/ak287/PNW_Seismic_Event_Classification/notebooks/../feature_extraction_scripts/physical_feature_extraction_scripts/seis_feature.py:101: RuntimeWarning: invalid value encountered in double_scalars\n",
      "  'Gamma': lambda: ((np.dot(self.freq, self.ft**(2)) / np.sum(self.ft**(2)))**(2) - ((np.dot(self.freq**(2), self.ft**(2)) / np.sum(self.ft**(2)))**(0.5))**(2))**(0.5),\n",
      "100%|██████████| 5/5 [00:00<00:00, 17.57it/s]\n",
      "  0%|          | 0/5 [00:00<?, ?it/s]/home/ak287/PNW_Seismic_Event_Classification/notebooks/../feature_extraction_scripts/physical_feature_extraction_scripts/seis_feature.py:101: RuntimeWarning: invalid value encountered in double_scalars\n",
      "  'Gamma': lambda: ((np.dot(self.freq, self.ft**(2)) / np.sum(self.ft**(2)))**(2) - ((np.dot(self.freq**(2), self.ft**(2)) / np.sum(self.ft**(2)))**(0.5))**(2))**(0.5),\n",
      "100%|██████████| 5/5 [00:00<00:00, 17.60it/s]\n",
      "100%|██████████| 5/5 [00:00<00:00, 1895.82it/s]\n",
      "100%|██████████| 5/5 [00:00<00:00, 2501.08it/s]\n",
      "100%|██████████| 5/5 [00:00<00:00, 2746.04it/s]\n",
      "100%|██████████| 5/5 [00:00<00:00, 2389.92it/s]"
     ]
    },
    {
     "name": "stdout",
     "output_type": "stream",
     "text": [
      "1250\n"
     ]
    },
    {
     "name": "stderr",
     "output_type": "stream",
     "text": [
      "\n",
      "  0%|          | 0/5 [00:00<?, ?it/s]/home/ak287/PNW_Seismic_Event_Classification/notebooks/../feature_extraction_scripts/physical_feature_extraction_scripts/seis_feature.py:101: RuntimeWarning: invalid value encountered in double_scalars\n",
      "  'Gamma': lambda: ((np.dot(self.freq, self.ft**(2)) / np.sum(self.ft**(2)))**(2) - ((np.dot(self.freq**(2), self.ft**(2)) / np.sum(self.ft**(2)))**(0.5))**(2))**(0.5),\n",
      "100%|██████████| 5/5 [00:00<00:00, 21.47it/s]\n",
      "  0%|          | 0/5 [00:00<?, ?it/s]/home/ak287/PNW_Seismic_Event_Classification/notebooks/../feature_extraction_scripts/physical_feature_extraction_scripts/seis_feature.py:101: RuntimeWarning: invalid value encountered in double_scalars\n",
      "  'Gamma': lambda: ((np.dot(self.freq, self.ft**(2)) / np.sum(self.ft**(2)))**(2) - ((np.dot(self.freq**(2), self.ft**(2)) / np.sum(self.ft**(2)))**(0.5))**(2))**(0.5),\n",
      "100%|██████████| 5/5 [00:00<00:00, 20.98it/s]\n",
      "  0%|          | 0/5 [00:00<?, ?it/s]/home/ak287/PNW_Seismic_Event_Classification/notebooks/../feature_extraction_scripts/physical_feature_extraction_scripts/seis_feature.py:101: RuntimeWarning: invalid value encountered in double_scalars\n",
      "  'Gamma': lambda: ((np.dot(self.freq, self.ft**(2)) / np.sum(self.ft**(2)))**(2) - ((np.dot(self.freq**(2), self.ft**(2)) / np.sum(self.ft**(2)))**(0.5))**(2))**(0.5),\n",
      "100%|██████████| 5/5 [00:00<00:00, 18.98it/s]\n",
      "  0%|          | 0/5 [00:00<?, ?it/s]/home/ak287/PNW_Seismic_Event_Classification/notebooks/../feature_extraction_scripts/physical_feature_extraction_scripts/seis_feature.py:101: RuntimeWarning: invalid value encountered in double_scalars\n",
      "  'Gamma': lambda: ((np.dot(self.freq, self.ft**(2)) / np.sum(self.ft**(2)))**(2) - ((np.dot(self.freq**(2), self.ft**(2)) / np.sum(self.ft**(2)))**(0.5))**(2))**(0.5),\n",
      "100%|██████████| 5/5 [00:00<00:00, 21.64it/s]\n",
      "100%|██████████| 5/5 [00:00<00:00, 1744.72it/s]\n",
      "100%|██████████| 5/5 [00:00<00:00, 2326.03it/s]\n",
      "100%|██████████| 5/5 [00:00<00:00, 2532.79it/s]\n",
      "100%|██████████| 5/5 [00:00<00:00, 2133.42it/s]"
     ]
    },
    {
     "name": "stdout",
     "output_type": "stream",
     "text": [
      "7500\n"
     ]
    },
    {
     "name": "stderr",
     "output_type": "stream",
     "text": [
      "\n",
      "  0%|          | 0/5 [00:00<?, ?it/s]/home/ak287/PNW_Seismic_Event_Classification/notebooks/../feature_extraction_scripts/physical_feature_extraction_scripts/seis_feature.py:101: RuntimeWarning: invalid value encountered in double_scalars\n",
      "  'Gamma': lambda: ((np.dot(self.freq, self.ft**(2)) / np.sum(self.ft**(2)))**(2) - ((np.dot(self.freq**(2), self.ft**(2)) / np.sum(self.ft**(2)))**(0.5))**(2))**(0.5),\n",
      "100%|██████████| 5/5 [00:00<00:00, 11.92it/s]\n",
      "  0%|          | 0/5 [00:00<?, ?it/s]/home/ak287/PNW_Seismic_Event_Classification/notebooks/../feature_extraction_scripts/physical_feature_extraction_scripts/seis_feature.py:101: RuntimeWarning: invalid value encountered in double_scalars\n",
      "  'Gamma': lambda: ((np.dot(self.freq, self.ft**(2)) / np.sum(self.ft**(2)))**(2) - ((np.dot(self.freq**(2), self.ft**(2)) / np.sum(self.ft**(2)))**(0.5))**(2))**(0.5),\n",
      "100%|██████████| 5/5 [00:00<00:00, 12.79it/s]\n",
      "  0%|          | 0/5 [00:00<?, ?it/s]/home/ak287/PNW_Seismic_Event_Classification/notebooks/../feature_extraction_scripts/physical_feature_extraction_scripts/seis_feature.py:101: RuntimeWarning: invalid value encountered in double_scalars\n",
      "  'Gamma': lambda: ((np.dot(self.freq, self.ft**(2)) / np.sum(self.ft**(2)))**(2) - ((np.dot(self.freq**(2), self.ft**(2)) / np.sum(self.ft**(2)))**(0.5))**(2))**(0.5),\n",
      "100%|██████████| 5/5 [00:00<00:00, 13.09it/s]\n",
      "  0%|          | 0/5 [00:00<?, ?it/s]/home/ak287/PNW_Seismic_Event_Classification/notebooks/../feature_extraction_scripts/physical_feature_extraction_scripts/seis_feature.py:101: RuntimeWarning: invalid value encountered in double_scalars\n",
      "  'Gamma': lambda: ((np.dot(self.freq, self.ft**(2)) / np.sum(self.ft**(2)))**(2) - ((np.dot(self.freq**(2), self.ft**(2)) / np.sum(self.ft**(2)))**(0.5))**(2))**(0.5),\n",
      "100%|██████████| 5/5 [00:00<00:00, 12.31it/s]\n",
      "100%|██████████| 5/5 [00:00<00:00, 1826.63it/s]\n",
      "100%|██████████| 5/5 [00:00<00:00, 2521.83it/s]\n",
      "100%|██████████| 5/5 [00:00<00:00, 2860.66it/s]\n",
      "100%|██████████| 5/5 [00:00<00:00, 2413.85it/s]"
     ]
    },
    {
     "name": "stdout",
     "output_type": "stream",
     "text": [
      "2000\n"
     ]
    },
    {
     "name": "stderr",
     "output_type": "stream",
     "text": [
      "\n",
      "  0%|          | 0/5 [00:00<?, ?it/s]/home/ak287/PNW_Seismic_Event_Classification/notebooks/../feature_extraction_scripts/physical_feature_extraction_scripts/seis_feature.py:101: RuntimeWarning: invalid value encountered in double_scalars\n",
      "  'Gamma': lambda: ((np.dot(self.freq, self.ft**(2)) / np.sum(self.ft**(2)))**(2) - ((np.dot(self.freq**(2), self.ft**(2)) / np.sum(self.ft**(2)))**(0.5))**(2))**(0.5),\n",
      "100%|██████████| 5/5 [00:00<00:00, 18.74it/s]\n",
      "  0%|          | 0/5 [00:00<?, ?it/s]/home/ak287/PNW_Seismic_Event_Classification/notebooks/../feature_extraction_scripts/physical_feature_extraction_scripts/seis_feature.py:101: RuntimeWarning: invalid value encountered in double_scalars\n",
      "  'Gamma': lambda: ((np.dot(self.freq, self.ft**(2)) / np.sum(self.ft**(2)))**(2) - ((np.dot(self.freq**(2), self.ft**(2)) / np.sum(self.ft**(2)))**(0.5))**(2))**(0.5),\n",
      "100%|██████████| 5/5 [00:00<00:00, 19.00it/s]\n",
      "  0%|          | 0/5 [00:00<?, ?it/s]/home/ak287/PNW_Seismic_Event_Classification/notebooks/../feature_extraction_scripts/physical_feature_extraction_scripts/seis_feature.py:101: RuntimeWarning: invalid value encountered in double_scalars\n",
      "  'Gamma': lambda: ((np.dot(self.freq, self.ft**(2)) / np.sum(self.ft**(2)))**(2) - ((np.dot(self.freq**(2), self.ft**(2)) / np.sum(self.ft**(2)))**(0.5))**(2))**(0.5),\n",
      "100%|██████████| 5/5 [00:00<00:00, 20.21it/s]\n",
      "  0%|          | 0/5 [00:00<?, ?it/s]/home/ak287/PNW_Seismic_Event_Classification/notebooks/../feature_extraction_scripts/physical_feature_extraction_scripts/seis_feature.py:101: RuntimeWarning: invalid value encountered in double_scalars\n",
      "  'Gamma': lambda: ((np.dot(self.freq, self.ft**(2)) / np.sum(self.ft**(2)))**(2) - ((np.dot(self.freq**(2), self.ft**(2)) / np.sum(self.ft**(2)))**(0.5))**(2))**(0.5),\n",
      "100%|██████████| 5/5 [00:00<00:00, 20.76it/s]\n",
      "100%|██████████| 5/5 [00:00<00:00, 1845.92it/s]\n",
      "100%|██████████| 5/5 [00:00<00:00, 2423.61it/s]\n",
      "100%|██████████| 5/5 [00:00<00:00, 2755.06it/s]\n",
      "100%|██████████| 5/5 [00:00<00:00, 2274.57it/s]"
     ]
    },
    {
     "name": "stdout",
     "output_type": "stream",
     "text": [
      "2500\n"
     ]
    },
    {
     "name": "stderr",
     "output_type": "stream",
     "text": [
      "\n",
      "  0%|          | 0/5 [00:00<?, ?it/s]/home/ak287/PNW_Seismic_Event_Classification/notebooks/../feature_extraction_scripts/physical_feature_extraction_scripts/seis_feature.py:101: RuntimeWarning: invalid value encountered in double_scalars\n",
      "  'Gamma': lambda: ((np.dot(self.freq, self.ft**(2)) / np.sum(self.ft**(2)))**(2) - ((np.dot(self.freq**(2), self.ft**(2)) / np.sum(self.ft**(2)))**(0.5))**(2))**(0.5),\n",
      "100%|██████████| 5/5 [00:00<00:00, 18.37it/s]\n",
      "  0%|          | 0/5 [00:00<?, ?it/s]/home/ak287/PNW_Seismic_Event_Classification/notebooks/../feature_extraction_scripts/physical_feature_extraction_scripts/seis_feature.py:101: RuntimeWarning: invalid value encountered in double_scalars\n",
      "  'Gamma': lambda: ((np.dot(self.freq, self.ft**(2)) / np.sum(self.ft**(2)))**(2) - ((np.dot(self.freq**(2), self.ft**(2)) / np.sum(self.ft**(2)))**(0.5))**(2))**(0.5),\n",
      "100%|██████████| 5/5 [00:00<00:00, 17.24it/s]\n",
      "  0%|          | 0/5 [00:00<?, ?it/s]/home/ak287/PNW_Seismic_Event_Classification/notebooks/../feature_extraction_scripts/physical_feature_extraction_scripts/seis_feature.py:101: RuntimeWarning: invalid value encountered in double_scalars\n",
      "  'Gamma': lambda: ((np.dot(self.freq, self.ft**(2)) / np.sum(self.ft**(2)))**(2) - ((np.dot(self.freq**(2), self.ft**(2)) / np.sum(self.ft**(2)))**(0.5))**(2))**(0.5),\n",
      "100%|██████████| 5/5 [00:00<00:00, 18.04it/s]\n",
      "  0%|          | 0/5 [00:00<?, ?it/s]/home/ak287/PNW_Seismic_Event_Classification/notebooks/../feature_extraction_scripts/physical_feature_extraction_scripts/seis_feature.py:101: RuntimeWarning: invalid value encountered in double_scalars\n",
      "  'Gamma': lambda: ((np.dot(self.freq, self.ft**(2)) / np.sum(self.ft**(2)))**(2) - ((np.dot(self.freq**(2), self.ft**(2)) / np.sum(self.ft**(2)))**(0.5))**(2))**(0.5),\n",
      "100%|██████████| 5/5 [00:00<00:00, 18.82it/s]\n",
      "100%|██████████| 5/5 [00:00<00:00, 1790.30it/s]\n",
      "100%|██████████| 5/5 [00:00<00:00, 2390.46it/s]\n",
      "100%|██████████| 5/5 [00:00<00:00, 2556.26it/s]\n",
      "100%|██████████| 5/5 [00:00<00:00, 2264.25it/s]"
     ]
    },
    {
     "name": "stdout",
     "output_type": "stream",
     "text": [
      "3500\n"
     ]
    },
    {
     "name": "stderr",
     "output_type": "stream",
     "text": [
      "\n",
      "  0%|          | 0/5 [00:00<?, ?it/s]/home/ak287/PNW_Seismic_Event_Classification/notebooks/../feature_extraction_scripts/physical_feature_extraction_scripts/seis_feature.py:101: RuntimeWarning: invalid value encountered in double_scalars\n",
      "  'Gamma': lambda: ((np.dot(self.freq, self.ft**(2)) / np.sum(self.ft**(2)))**(2) - ((np.dot(self.freq**(2), self.ft**(2)) / np.sum(self.ft**(2)))**(0.5))**(2))**(0.5),\n",
      "100%|██████████| 5/5 [00:00<00:00, 17.70it/s]\n",
      "  0%|          | 0/5 [00:00<?, ?it/s]/home/ak287/PNW_Seismic_Event_Classification/notebooks/../feature_extraction_scripts/physical_feature_extraction_scripts/seis_feature.py:101: RuntimeWarning: invalid value encountered in double_scalars\n",
      "  'Gamma': lambda: ((np.dot(self.freq, self.ft**(2)) / np.sum(self.ft**(2)))**(2) - ((np.dot(self.freq**(2), self.ft**(2)) / np.sum(self.ft**(2)))**(0.5))**(2))**(0.5),\n",
      "100%|██████████| 5/5 [00:00<00:00, 17.48it/s]\n",
      "  0%|          | 0/5 [00:00<?, ?it/s]/home/ak287/PNW_Seismic_Event_Classification/notebooks/../feature_extraction_scripts/physical_feature_extraction_scripts/seis_feature.py:101: RuntimeWarning: invalid value encountered in double_scalars\n",
      "  'Gamma': lambda: ((np.dot(self.freq, self.ft**(2)) / np.sum(self.ft**(2)))**(2) - ((np.dot(self.freq**(2), self.ft**(2)) / np.sum(self.ft**(2)))**(0.5))**(2))**(0.5),\n",
      "100%|██████████| 5/5 [00:00<00:00, 17.66it/s]\n",
      "  0%|          | 0/5 [00:00<?, ?it/s]/home/ak287/PNW_Seismic_Event_Classification/notebooks/../feature_extraction_scripts/physical_feature_extraction_scripts/seis_feature.py:101: RuntimeWarning: invalid value encountered in double_scalars\n",
      "  'Gamma': lambda: ((np.dot(self.freq, self.ft**(2)) / np.sum(self.ft**(2)))**(2) - ((np.dot(self.freq**(2), self.ft**(2)) / np.sum(self.ft**(2)))**(0.5))**(2))**(0.5),\n",
      "100%|██████████| 5/5 [00:00<00:00, 17.32it/s]\n",
      "100%|██████████| 5/5 [00:00<00:00, 1830.29it/s]\n",
      "100%|██████████| 5/5 [00:00<00:00, 2388.01it/s]\n",
      "100%|██████████| 5/5 [00:00<00:00, 2611.97it/s]\n",
      "100%|██████████| 5/5 [00:00<00:00, 2218.03it/s]"
     ]
    },
    {
     "name": "stdout",
     "output_type": "stream",
     "text": [
      "1250\n"
     ]
    },
    {
     "name": "stderr",
     "output_type": "stream",
     "text": [
      "\n",
      "  0%|          | 0/5 [00:00<?, ?it/s]/home/ak287/PNW_Seismic_Event_Classification/notebooks/../feature_extraction_scripts/physical_feature_extraction_scripts/seis_feature.py:101: RuntimeWarning: invalid value encountered in double_scalars\n",
      "  'Gamma': lambda: ((np.dot(self.freq, self.ft**(2)) / np.sum(self.ft**(2)))**(2) - ((np.dot(self.freq**(2), self.ft**(2)) / np.sum(self.ft**(2)))**(0.5))**(2))**(0.5),\n",
      "100%|██████████| 5/5 [00:00<00:00, 21.82it/s]\n",
      "  0%|          | 0/5 [00:00<?, ?it/s]/home/ak287/PNW_Seismic_Event_Classification/notebooks/../feature_extraction_scripts/physical_feature_extraction_scripts/seis_feature.py:101: RuntimeWarning: invalid value encountered in double_scalars\n",
      "  'Gamma': lambda: ((np.dot(self.freq, self.ft**(2)) / np.sum(self.ft**(2)))**(2) - ((np.dot(self.freq**(2), self.ft**(2)) / np.sum(self.ft**(2)))**(0.5))**(2))**(0.5),\n",
      "100%|██████████| 5/5 [00:00<00:00, 20.65it/s]\n",
      "  0%|          | 0/5 [00:00<?, ?it/s]/home/ak287/PNW_Seismic_Event_Classification/notebooks/../feature_extraction_scripts/physical_feature_extraction_scripts/seis_feature.py:101: RuntimeWarning: invalid value encountered in double_scalars\n",
      "  'Gamma': lambda: ((np.dot(self.freq, self.ft**(2)) / np.sum(self.ft**(2)))**(2) - ((np.dot(self.freq**(2), self.ft**(2)) / np.sum(self.ft**(2)))**(0.5))**(2))**(0.5),\n",
      "100%|██████████| 5/5 [00:00<00:00, 19.41it/s]\n",
      "  0%|          | 0/5 [00:00<?, ?it/s]/home/ak287/PNW_Seismic_Event_Classification/notebooks/../feature_extraction_scripts/physical_feature_extraction_scripts/seis_feature.py:101: RuntimeWarning: invalid value encountered in double_scalars\n",
      "  'Gamma': lambda: ((np.dot(self.freq, self.ft**(2)) / np.sum(self.ft**(2)))**(2) - ((np.dot(self.freq**(2), self.ft**(2)) / np.sum(self.ft**(2)))**(0.5))**(2))**(0.5),\n",
      "100%|██████████| 5/5 [00:00<00:00, 19.13it/s]\n",
      "100%|██████████| 5/5 [00:00<00:00, 1798.74it/s]\n",
      "100%|██████████| 5/5 [00:00<00:00, 2402.51it/s]\n",
      "100%|██████████| 5/5 [00:00<00:00, 2613.27it/s]\n",
      "100%|██████████| 5/5 [00:00<00:00, 2246.79it/s]"
     ]
    },
    {
     "name": "stdout",
     "output_type": "stream",
     "text": [
      "7500\n"
     ]
    },
    {
     "name": "stderr",
     "output_type": "stream",
     "text": [
      "\n",
      "  0%|          | 0/5 [00:00<?, ?it/s]/home/ak287/PNW_Seismic_Event_Classification/notebooks/../feature_extraction_scripts/physical_feature_extraction_scripts/seis_feature.py:101: RuntimeWarning: invalid value encountered in double_scalars\n",
      "  'Gamma': lambda: ((np.dot(self.freq, self.ft**(2)) / np.sum(self.ft**(2)))**(2) - ((np.dot(self.freq**(2), self.ft**(2)) / np.sum(self.ft**(2)))**(0.5))**(2))**(0.5),\n",
      "100%|██████████| 5/5 [00:00<00:00, 12.36it/s]\n",
      "  0%|          | 0/5 [00:00<?, ?it/s]/home/ak287/PNW_Seismic_Event_Classification/notebooks/../feature_extraction_scripts/physical_feature_extraction_scripts/seis_feature.py:101: RuntimeWarning: invalid value encountered in double_scalars\n",
      "  'Gamma': lambda: ((np.dot(self.freq, self.ft**(2)) / np.sum(self.ft**(2)))**(2) - ((np.dot(self.freq**(2), self.ft**(2)) / np.sum(self.ft**(2)))**(0.5))**(2))**(0.5),\n",
      "100%|██████████| 5/5 [00:00<00:00, 12.30it/s]\n",
      "  0%|          | 0/5 [00:00<?, ?it/s]/home/ak287/PNW_Seismic_Event_Classification/notebooks/../feature_extraction_scripts/physical_feature_extraction_scripts/seis_feature.py:101: RuntimeWarning: invalid value encountered in double_scalars\n",
      "  'Gamma': lambda: ((np.dot(self.freq, self.ft**(2)) / np.sum(self.ft**(2)))**(2) - ((np.dot(self.freq**(2), self.ft**(2)) / np.sum(self.ft**(2)))**(0.5))**(2))**(0.5),\n",
      "100%|██████████| 5/5 [00:00<00:00, 12.40it/s]\n",
      "  0%|          | 0/5 [00:00<?, ?it/s]/home/ak287/PNW_Seismic_Event_Classification/notebooks/../feature_extraction_scripts/physical_feature_extraction_scripts/seis_feature.py:101: RuntimeWarning: invalid value encountered in double_scalars\n",
      "  'Gamma': lambda: ((np.dot(self.freq, self.ft**(2)) / np.sum(self.ft**(2)))**(2) - ((np.dot(self.freq**(2), self.ft**(2)) / np.sum(self.ft**(2)))**(0.5))**(2))**(0.5),\n",
      "100%|██████████| 5/5 [00:00<00:00, 11.59it/s]\n",
      "100%|██████████| 5/5 [00:00<00:00, 1693.71it/s]\n",
      "100%|██████████| 5/5 [00:00<00:00, 2362.99it/s]\n",
      "100%|██████████| 5/5 [00:00<00:00, 2504.96it/s]\n",
      "100%|██████████| 5/5 [00:00<00:00, 2163.13it/s]"
     ]
    },
    {
     "name": "stdout",
     "output_type": "stream",
     "text": [
      "2000\n"
     ]
    },
    {
     "name": "stderr",
     "output_type": "stream",
     "text": [
      "\n",
      "  0%|          | 0/5 [00:00<?, ?it/s]/home/ak287/PNW_Seismic_Event_Classification/notebooks/../feature_extraction_scripts/physical_feature_extraction_scripts/seis_feature.py:101: RuntimeWarning: invalid value encountered in double_scalars\n",
      "  'Gamma': lambda: ((np.dot(self.freq, self.ft**(2)) / np.sum(self.ft**(2)))**(2) - ((np.dot(self.freq**(2), self.ft**(2)) / np.sum(self.ft**(2)))**(0.5))**(2))**(0.5),\n",
      "100%|██████████| 5/5 [00:00<00:00, 19.71it/s]\n",
      "  0%|          | 0/5 [00:00<?, ?it/s]/home/ak287/PNW_Seismic_Event_Classification/notebooks/../feature_extraction_scripts/physical_feature_extraction_scripts/seis_feature.py:101: RuntimeWarning: invalid value encountered in double_scalars\n",
      "  'Gamma': lambda: ((np.dot(self.freq, self.ft**(2)) / np.sum(self.ft**(2)))**(2) - ((np.dot(self.freq**(2), self.ft**(2)) / np.sum(self.ft**(2)))**(0.5))**(2))**(0.5),\n",
      "100%|██████████| 5/5 [00:00<00:00, 19.67it/s]\n",
      "  0%|          | 0/5 [00:00<?, ?it/s]/home/ak287/PNW_Seismic_Event_Classification/notebooks/../feature_extraction_scripts/physical_feature_extraction_scripts/seis_feature.py:101: RuntimeWarning: invalid value encountered in double_scalars\n",
      "  'Gamma': lambda: ((np.dot(self.freq, self.ft**(2)) / np.sum(self.ft**(2)))**(2) - ((np.dot(self.freq**(2), self.ft**(2)) / np.sum(self.ft**(2)))**(0.5))**(2))**(0.5),\n",
      "100%|██████████| 5/5 [00:00<00:00, 17.98it/s]\n",
      "  0%|          | 0/5 [00:00<?, ?it/s]/home/ak287/PNW_Seismic_Event_Classification/notebooks/../feature_extraction_scripts/physical_feature_extraction_scripts/seis_feature.py:101: RuntimeWarning: invalid value encountered in double_scalars\n",
      "  'Gamma': lambda: ((np.dot(self.freq, self.ft**(2)) / np.sum(self.ft**(2)))**(2) - ((np.dot(self.freq**(2), self.ft**(2)) / np.sum(self.ft**(2)))**(0.5))**(2))**(0.5),\n",
      "100%|██████████| 5/5 [00:00<00:00, 19.70it/s]\n",
      "100%|██████████| 5/5 [00:00<00:00, 1757.88it/s]\n",
      "100%|██████████| 5/5 [00:00<00:00, 2430.92it/s]\n",
      "100%|██████████| 5/5 [00:00<00:00, 2643.91it/s]\n",
      "100%|██████████| 5/5 [00:00<00:00, 2278.03it/s]"
     ]
    },
    {
     "name": "stdout",
     "output_type": "stream",
     "text": [
      "2500\n"
     ]
    },
    {
     "name": "stderr",
     "output_type": "stream",
     "text": [
      "\n",
      "  0%|          | 0/5 [00:00<?, ?it/s]/home/ak287/PNW_Seismic_Event_Classification/notebooks/../feature_extraction_scripts/physical_feature_extraction_scripts/seis_feature.py:101: RuntimeWarning: invalid value encountered in double_scalars\n",
      "  'Gamma': lambda: ((np.dot(self.freq, self.ft**(2)) / np.sum(self.ft**(2)))**(2) - ((np.dot(self.freq**(2), self.ft**(2)) / np.sum(self.ft**(2)))**(0.5))**(2))**(0.5),\n",
      "100%|██████████| 5/5 [00:00<00:00, 18.86it/s]\n",
      "  0%|          | 0/5 [00:00<?, ?it/s]/home/ak287/PNW_Seismic_Event_Classification/notebooks/../feature_extraction_scripts/physical_feature_extraction_scripts/seis_feature.py:101: RuntimeWarning: invalid value encountered in double_scalars\n",
      "  'Gamma': lambda: ((np.dot(self.freq, self.ft**(2)) / np.sum(self.ft**(2)))**(2) - ((np.dot(self.freq**(2), self.ft**(2)) / np.sum(self.ft**(2)))**(0.5))**(2))**(0.5),\n",
      "100%|██████████| 5/5 [00:00<00:00, 19.56it/s]\n",
      "  0%|          | 0/5 [00:00<?, ?it/s]/home/ak287/PNW_Seismic_Event_Classification/notebooks/../feature_extraction_scripts/physical_feature_extraction_scripts/seis_feature.py:101: RuntimeWarning: invalid value encountered in double_scalars\n",
      "  'Gamma': lambda: ((np.dot(self.freq, self.ft**(2)) / np.sum(self.ft**(2)))**(2) - ((np.dot(self.freq**(2), self.ft**(2)) / np.sum(self.ft**(2)))**(0.5))**(2))**(0.5),\n",
      "100%|██████████| 5/5 [00:00<00:00, 19.63it/s]\n",
      "  0%|          | 0/5 [00:00<?, ?it/s]/home/ak287/PNW_Seismic_Event_Classification/notebooks/../feature_extraction_scripts/physical_feature_extraction_scripts/seis_feature.py:101: RuntimeWarning: invalid value encountered in double_scalars\n",
      "  'Gamma': lambda: ((np.dot(self.freq, self.ft**(2)) / np.sum(self.ft**(2)))**(2) - ((np.dot(self.freq**(2), self.ft**(2)) / np.sum(self.ft**(2)))**(0.5))**(2))**(0.5),\n",
      "100%|██████████| 5/5 [00:00<00:00, 18.45it/s]\n",
      "100%|██████████| 5/5 [00:00<00:00, 1437.29it/s]\n",
      "100%|██████████| 5/5 [00:00<00:00, 1926.29it/s]\n",
      "100%|██████████| 5/5 [00:00<00:00, 1992.54it/s]\n",
      "100%|██████████| 5/5 [00:00<00:00, 1816.66it/s]"
     ]
    },
    {
     "name": "stdout",
     "output_type": "stream",
     "text": [
      "3500\n"
     ]
    },
    {
     "name": "stderr",
     "output_type": "stream",
     "text": [
      "\n",
      "  0%|          | 0/5 [00:00<?, ?it/s]/home/ak287/PNW_Seismic_Event_Classification/notebooks/../feature_extraction_scripts/physical_feature_extraction_scripts/seis_feature.py:101: RuntimeWarning: invalid value encountered in double_scalars\n",
      "  'Gamma': lambda: ((np.dot(self.freq, self.ft**(2)) / np.sum(self.ft**(2)))**(2) - ((np.dot(self.freq**(2), self.ft**(2)) / np.sum(self.ft**(2)))**(0.5))**(2))**(0.5),\n",
      "100%|██████████| 5/5 [00:00<00:00, 17.75it/s]\n",
      "  0%|          | 0/5 [00:00<?, ?it/s]/home/ak287/PNW_Seismic_Event_Classification/notebooks/../feature_extraction_scripts/physical_feature_extraction_scripts/seis_feature.py:101: RuntimeWarning: invalid value encountered in double_scalars\n",
      "  'Gamma': lambda: ((np.dot(self.freq, self.ft**(2)) / np.sum(self.ft**(2)))**(2) - ((np.dot(self.freq**(2), self.ft**(2)) / np.sum(self.ft**(2)))**(0.5))**(2))**(0.5),\n",
      "100%|██████████| 5/5 [00:00<00:00, 17.85it/s]\n",
      "  0%|          | 0/5 [00:00<?, ?it/s]/home/ak287/PNW_Seismic_Event_Classification/notebooks/../feature_extraction_scripts/physical_feature_extraction_scripts/seis_feature.py:101: RuntimeWarning: invalid value encountered in double_scalars\n",
      "  'Gamma': lambda: ((np.dot(self.freq, self.ft**(2)) / np.sum(self.ft**(2)))**(2) - ((np.dot(self.freq**(2), self.ft**(2)) / np.sum(self.ft**(2)))**(0.5))**(2))**(0.5),\n",
      "100%|██████████| 5/5 [00:00<00:00, 17.28it/s]\n",
      "  0%|          | 0/5 [00:00<?, ?it/s]/home/ak287/PNW_Seismic_Event_Classification/notebooks/../feature_extraction_scripts/physical_feature_extraction_scripts/seis_feature.py:101: RuntimeWarning: invalid value encountered in double_scalars\n",
      "  'Gamma': lambda: ((np.dot(self.freq, self.ft**(2)) / np.sum(self.ft**(2)))**(2) - ((np.dot(self.freq**(2), self.ft**(2)) / np.sum(self.ft**(2)))**(0.5))**(2))**(0.5),\n",
      "100%|██████████| 5/5 [00:00<00:00, 17.49it/s]\n",
      "100%|██████████| 5/5 [00:00<00:00, 1138.46it/s]\n",
      "100%|██████████| 5/5 [00:00<00:00, 1500.43it/s]\n",
      "100%|██████████| 5/5 [00:00<00:00, 1567.26it/s]\n",
      "100%|██████████| 5/5 [00:00<00:00, 1197.41it/s]"
     ]
    },
    {
     "name": "stdout",
     "output_type": "stream",
     "text": [
      "1250\n"
     ]
    },
    {
     "name": "stderr",
     "output_type": "stream",
     "text": [
      "\n",
      "  0%|          | 0/5 [00:00<?, ?it/s]/home/ak287/PNW_Seismic_Event_Classification/notebooks/../feature_extraction_scripts/physical_feature_extraction_scripts/seis_feature.py:101: RuntimeWarning: invalid value encountered in double_scalars\n",
      "  'Gamma': lambda: ((np.dot(self.freq, self.ft**(2)) / np.sum(self.ft**(2)))**(2) - ((np.dot(self.freq**(2), self.ft**(2)) / np.sum(self.ft**(2)))**(0.5))**(2))**(0.5),\n",
      "100%|██████████| 5/5 [00:00<00:00, 21.34it/s]\n",
      "  0%|          | 0/5 [00:00<?, ?it/s]/home/ak287/PNW_Seismic_Event_Classification/notebooks/../feature_extraction_scripts/physical_feature_extraction_scripts/seis_feature.py:101: RuntimeWarning: invalid value encountered in double_scalars\n",
      "  'Gamma': lambda: ((np.dot(self.freq, self.ft**(2)) / np.sum(self.ft**(2)))**(2) - ((np.dot(self.freq**(2), self.ft**(2)) / np.sum(self.ft**(2)))**(0.5))**(2))**(0.5),\n",
      "100%|██████████| 5/5 [00:00<00:00, 22.13it/s]\n",
      "  0%|          | 0/5 [00:00<?, ?it/s]/home/ak287/PNW_Seismic_Event_Classification/notebooks/../feature_extraction_scripts/physical_feature_extraction_scripts/seis_feature.py:101: RuntimeWarning: invalid value encountered in double_scalars\n",
      "  'Gamma': lambda: ((np.dot(self.freq, self.ft**(2)) / np.sum(self.ft**(2)))**(2) - ((np.dot(self.freq**(2), self.ft**(2)) / np.sum(self.ft**(2)))**(0.5))**(2))**(0.5),\n",
      "100%|██████████| 5/5 [00:00<00:00, 20.61it/s]\n",
      "  0%|          | 0/5 [00:00<?, ?it/s]/home/ak287/PNW_Seismic_Event_Classification/notebooks/../feature_extraction_scripts/physical_feature_extraction_scripts/seis_feature.py:101: RuntimeWarning: invalid value encountered in double_scalars\n",
      "  'Gamma': lambda: ((np.dot(self.freq, self.ft**(2)) / np.sum(self.ft**(2)))**(2) - ((np.dot(self.freq**(2), self.ft**(2)) / np.sum(self.ft**(2)))**(0.5))**(2))**(0.5),\n",
      "100%|██████████| 5/5 [00:00<00:00, 20.47it/s]\n",
      "100%|██████████| 5/5 [00:00<00:00, 1415.66it/s]\n",
      "100%|██████████| 5/5 [00:00<00:00, 1724.92it/s]\n",
      "100%|██████████| 5/5 [00:00<00:00, 1542.14it/s]\n",
      "100%|██████████| 5/5 [00:00<00:00, 1546.12it/s]"
     ]
    },
    {
     "name": "stdout",
     "output_type": "stream",
     "text": [
      "7500\n"
     ]
    },
    {
     "name": "stderr",
     "output_type": "stream",
     "text": [
      "\n",
      "  0%|          | 0/5 [00:00<?, ?it/s]/home/ak287/PNW_Seismic_Event_Classification/notebooks/../feature_extraction_scripts/physical_feature_extraction_scripts/seis_feature.py:101: RuntimeWarning: invalid value encountered in double_scalars\n",
      "  'Gamma': lambda: ((np.dot(self.freq, self.ft**(2)) / np.sum(self.ft**(2)))**(2) - ((np.dot(self.freq**(2), self.ft**(2)) / np.sum(self.ft**(2)))**(0.5))**(2))**(0.5),\n",
      "100%|██████████| 5/5 [00:00<00:00, 12.99it/s]\n",
      "  0%|          | 0/5 [00:00<?, ?it/s]/home/ak287/PNW_Seismic_Event_Classification/notebooks/../feature_extraction_scripts/physical_feature_extraction_scripts/seis_feature.py:101: RuntimeWarning: invalid value encountered in double_scalars\n",
      "  'Gamma': lambda: ((np.dot(self.freq, self.ft**(2)) / np.sum(self.ft**(2)))**(2) - ((np.dot(self.freq**(2), self.ft**(2)) / np.sum(self.ft**(2)))**(0.5))**(2))**(0.5),\n",
      "100%|██████████| 5/5 [00:00<00:00, 11.82it/s]\n",
      "  0%|          | 0/5 [00:00<?, ?it/s]/home/ak287/PNW_Seismic_Event_Classification/notebooks/../feature_extraction_scripts/physical_feature_extraction_scripts/seis_feature.py:101: RuntimeWarning: invalid value encountered in double_scalars\n",
      "  'Gamma': lambda: ((np.dot(self.freq, self.ft**(2)) / np.sum(self.ft**(2)))**(2) - ((np.dot(self.freq**(2), self.ft**(2)) / np.sum(self.ft**(2)))**(0.5))**(2))**(0.5),\n",
      "100%|██████████| 5/5 [00:00<00:00, 11.27it/s]\n",
      "  0%|          | 0/5 [00:00<?, ?it/s]/home/ak287/PNW_Seismic_Event_Classification/notebooks/../feature_extraction_scripts/physical_feature_extraction_scripts/seis_feature.py:101: RuntimeWarning: invalid value encountered in double_scalars\n",
      "  'Gamma': lambda: ((np.dot(self.freq, self.ft**(2)) / np.sum(self.ft**(2)))**(2) - ((np.dot(self.freq**(2), self.ft**(2)) / np.sum(self.ft**(2)))**(0.5))**(2))**(0.5),\n",
      "100%|██████████| 5/5 [00:00<00:00, 12.21it/s]\n",
      "100%|██████████| 5/5 [00:00<00:00, 1486.50it/s]\n",
      "100%|██████████| 5/5 [00:00<00:00, 2361.39it/s]\n",
      "100%|██████████| 5/5 [00:00<00:00, 2394.01it/s]\n",
      "100%|██████████| 5/5 [00:00<00:00, 2109.17it/s]"
     ]
    },
    {
     "name": "stdout",
     "output_type": "stream",
     "text": [
      "2000\n"
     ]
    },
    {
     "name": "stderr",
     "output_type": "stream",
     "text": [
      "\n",
      "  0%|          | 0/5 [00:00<?, ?it/s]/home/ak287/PNW_Seismic_Event_Classification/notebooks/../feature_extraction_scripts/physical_feature_extraction_scripts/seis_feature.py:101: RuntimeWarning: invalid value encountered in double_scalars\n",
      "  'Gamma': lambda: ((np.dot(self.freq, self.ft**(2)) / np.sum(self.ft**(2)))**(2) - ((np.dot(self.freq**(2), self.ft**(2)) / np.sum(self.ft**(2)))**(0.5))**(2))**(0.5),\n",
      "100%|██████████| 5/5 [00:00<00:00, 19.63it/s]\n",
      "  0%|          | 0/5 [00:00<?, ?it/s]/home/ak287/PNW_Seismic_Event_Classification/notebooks/../feature_extraction_scripts/physical_feature_extraction_scripts/seis_feature.py:101: RuntimeWarning: invalid value encountered in double_scalars\n",
      "  'Gamma': lambda: ((np.dot(self.freq, self.ft**(2)) / np.sum(self.ft**(2)))**(2) - ((np.dot(self.freq**(2), self.ft**(2)) / np.sum(self.ft**(2)))**(0.5))**(2))**(0.5),\n",
      "100%|██████████| 5/5 [00:00<00:00, 19.60it/s]\n",
      "  0%|          | 0/5 [00:00<?, ?it/s]/home/ak287/PNW_Seismic_Event_Classification/notebooks/../feature_extraction_scripts/physical_feature_extraction_scripts/seis_feature.py:101: RuntimeWarning: invalid value encountered in double_scalars\n",
      "  'Gamma': lambda: ((np.dot(self.freq, self.ft**(2)) / np.sum(self.ft**(2)))**(2) - ((np.dot(self.freq**(2), self.ft**(2)) / np.sum(self.ft**(2)))**(0.5))**(2))**(0.5),\n",
      "100%|██████████| 5/5 [00:00<00:00, 19.42it/s]\n",
      "  0%|          | 0/5 [00:00<?, ?it/s]/home/ak287/PNW_Seismic_Event_Classification/notebooks/../feature_extraction_scripts/physical_feature_extraction_scripts/seis_feature.py:101: RuntimeWarning: invalid value encountered in double_scalars\n",
      "  'Gamma': lambda: ((np.dot(self.freq, self.ft**(2)) / np.sum(self.ft**(2)))**(2) - ((np.dot(self.freq**(2), self.ft**(2)) / np.sum(self.ft**(2)))**(0.5))**(2))**(0.5),\n",
      "100%|██████████| 5/5 [00:00<00:00, 19.56it/s]\n",
      "100%|██████████| 5/5 [00:00<00:00, 1793.20it/s]\n",
      "100%|██████████| 5/5 [00:00<00:00, 2348.43it/s]\n",
      "100%|██████████| 5/5 [00:00<00:00, 2637.93it/s]\n",
      "100%|██████████| 5/5 [00:00<00:00, 2271.61it/s]"
     ]
    },
    {
     "name": "stdout",
     "output_type": "stream",
     "text": [
      "2500\n"
     ]
    },
    {
     "name": "stderr",
     "output_type": "stream",
     "text": [
      "\n",
      "  0%|          | 0/5 [00:00<?, ?it/s]/home/ak287/PNW_Seismic_Event_Classification/notebooks/../feature_extraction_scripts/physical_feature_extraction_scripts/seis_feature.py:101: RuntimeWarning: invalid value encountered in double_scalars\n",
      "  'Gamma': lambda: ((np.dot(self.freq, self.ft**(2)) / np.sum(self.ft**(2)))**(2) - ((np.dot(self.freq**(2), self.ft**(2)) / np.sum(self.ft**(2)))**(0.5))**(2))**(0.5),\n",
      "100%|██████████| 5/5 [00:00<00:00, 18.30it/s]\n",
      "  0%|          | 0/5 [00:00<?, ?it/s]/home/ak287/PNW_Seismic_Event_Classification/notebooks/../feature_extraction_scripts/physical_feature_extraction_scripts/seis_feature.py:101: RuntimeWarning: invalid value encountered in double_scalars\n",
      "  'Gamma': lambda: ((np.dot(self.freq, self.ft**(2)) / np.sum(self.ft**(2)))**(2) - ((np.dot(self.freq**(2), self.ft**(2)) / np.sum(self.ft**(2)))**(0.5))**(2))**(0.5),\n",
      "100%|██████████| 5/5 [00:00<00:00, 18.50it/s]\n",
      "  0%|          | 0/5 [00:00<?, ?it/s]/home/ak287/PNW_Seismic_Event_Classification/notebooks/../feature_extraction_scripts/physical_feature_extraction_scripts/seis_feature.py:101: RuntimeWarning: invalid value encountered in double_scalars\n",
      "  'Gamma': lambda: ((np.dot(self.freq, self.ft**(2)) / np.sum(self.ft**(2)))**(2) - ((np.dot(self.freq**(2), self.ft**(2)) / np.sum(self.ft**(2)))**(0.5))**(2))**(0.5),\n",
      "100%|██████████| 5/5 [00:00<00:00, 16.75it/s]\n",
      "  0%|          | 0/5 [00:00<?, ?it/s]/home/ak287/PNW_Seismic_Event_Classification/notebooks/../feature_extraction_scripts/physical_feature_extraction_scripts/seis_feature.py:101: RuntimeWarning: invalid value encountered in double_scalars\n",
      "  'Gamma': lambda: ((np.dot(self.freq, self.ft**(2)) / np.sum(self.ft**(2)))**(2) - ((np.dot(self.freq**(2), self.ft**(2)) / np.sum(self.ft**(2)))**(0.5))**(2))**(0.5),\n",
      "100%|██████████| 5/5 [00:00<00:00, 18.72it/s]\n",
      "100%|██████████| 5/5 [00:00<00:00, 1866.29it/s]\n",
      "100%|██████████| 5/5 [00:00<00:00, 2489.20it/s]\n",
      "100%|██████████| 5/5 [00:00<00:00, 2675.62it/s]\n",
      "100%|██████████| 5/5 [00:00<00:00, 2323.97it/s]"
     ]
    },
    {
     "name": "stdout",
     "output_type": "stream",
     "text": [
      "3500\n"
     ]
    },
    {
     "name": "stderr",
     "output_type": "stream",
     "text": [
      "\n",
      "  0%|          | 0/5 [00:00<?, ?it/s]/home/ak287/PNW_Seismic_Event_Classification/notebooks/../feature_extraction_scripts/physical_feature_extraction_scripts/seis_feature.py:101: RuntimeWarning: invalid value encountered in double_scalars\n",
      "  'Gamma': lambda: ((np.dot(self.freq, self.ft**(2)) / np.sum(self.ft**(2)))**(2) - ((np.dot(self.freq**(2), self.ft**(2)) / np.sum(self.ft**(2)))**(0.5))**(2))**(0.5),\n",
      "100%|██████████| 5/5 [00:00<00:00, 16.67it/s]\n",
      "  0%|          | 0/5 [00:00<?, ?it/s]/home/ak287/PNW_Seismic_Event_Classification/notebooks/../feature_extraction_scripts/physical_feature_extraction_scripts/seis_feature.py:101: RuntimeWarning: invalid value encountered in double_scalars\n",
      "  'Gamma': lambda: ((np.dot(self.freq, self.ft**(2)) / np.sum(self.ft**(2)))**(2) - ((np.dot(self.freq**(2), self.ft**(2)) / np.sum(self.ft**(2)))**(0.5))**(2))**(0.5),\n",
      "100%|██████████| 5/5 [00:00<00:00, 17.70it/s]\n",
      "  0%|          | 0/5 [00:00<?, ?it/s]/home/ak287/PNW_Seismic_Event_Classification/notebooks/../feature_extraction_scripts/physical_feature_extraction_scripts/seis_feature.py:101: RuntimeWarning: invalid value encountered in double_scalars\n",
      "  'Gamma': lambda: ((np.dot(self.freq, self.ft**(2)) / np.sum(self.ft**(2)))**(2) - ((np.dot(self.freq**(2), self.ft**(2)) / np.sum(self.ft**(2)))**(0.5))**(2))**(0.5),\n",
      "100%|██████████| 5/5 [00:00<00:00, 16.65it/s]\n",
      "  0%|          | 0/5 [00:00<?, ?it/s]/home/ak287/PNW_Seismic_Event_Classification/notebooks/../feature_extraction_scripts/physical_feature_extraction_scripts/seis_feature.py:101: RuntimeWarning: invalid value encountered in double_scalars\n",
      "  'Gamma': lambda: ((np.dot(self.freq, self.ft**(2)) / np.sum(self.ft**(2)))**(2) - ((np.dot(self.freq**(2), self.ft**(2)) / np.sum(self.ft**(2)))**(0.5))**(2))**(0.5),\n",
      "100%|██████████| 5/5 [00:00<00:00, 17.49it/s]\n",
      "100%|██████████| 5/5 [00:00<00:00, 1792.90it/s]\n",
      "100%|██████████| 5/5 [00:00<00:00, 2436.57it/s]\n",
      "100%|██████████| 5/5 [00:00<00:00, 2701.12it/s]\n",
      "100%|██████████| 5/5 [00:00<00:00, 2306.84it/s]"
     ]
    },
    {
     "name": "stdout",
     "output_type": "stream",
     "text": [
      "1250\n"
     ]
    },
    {
     "name": "stderr",
     "output_type": "stream",
     "text": [
      "\n",
      "  0%|          | 0/5 [00:00<?, ?it/s]/home/ak287/PNW_Seismic_Event_Classification/notebooks/../feature_extraction_scripts/physical_feature_extraction_scripts/seis_feature.py:101: RuntimeWarning: invalid value encountered in double_scalars\n",
      "  'Gamma': lambda: ((np.dot(self.freq, self.ft**(2)) / np.sum(self.ft**(2)))**(2) - ((np.dot(self.freq**(2), self.ft**(2)) / np.sum(self.ft**(2)))**(0.5))**(2))**(0.5),\n",
      "100%|██████████| 5/5 [00:00<00:00, 21.49it/s]\n",
      "  0%|          | 0/5 [00:00<?, ?it/s]/home/ak287/PNW_Seismic_Event_Classification/notebooks/../feature_extraction_scripts/physical_feature_extraction_scripts/seis_feature.py:101: RuntimeWarning: invalid value encountered in double_scalars\n",
      "  'Gamma': lambda: ((np.dot(self.freq, self.ft**(2)) / np.sum(self.ft**(2)))**(2) - ((np.dot(self.freq**(2), self.ft**(2)) / np.sum(self.ft**(2)))**(0.5))**(2))**(0.5),\n",
      "100%|██████████| 5/5 [00:00<00:00, 19.90it/s]\n",
      "  0%|          | 0/5 [00:00<?, ?it/s]/home/ak287/PNW_Seismic_Event_Classification/notebooks/../feature_extraction_scripts/physical_feature_extraction_scripts/seis_feature.py:101: RuntimeWarning: invalid value encountered in double_scalars\n",
      "  'Gamma': lambda: ((np.dot(self.freq, self.ft**(2)) / np.sum(self.ft**(2)))**(2) - ((np.dot(self.freq**(2), self.ft**(2)) / np.sum(self.ft**(2)))**(0.5))**(2))**(0.5),\n",
      "100%|██████████| 5/5 [00:00<00:00, 21.96it/s]\n",
      "  0%|          | 0/5 [00:00<?, ?it/s]/home/ak287/PNW_Seismic_Event_Classification/notebooks/../feature_extraction_scripts/physical_feature_extraction_scripts/seis_feature.py:101: RuntimeWarning: invalid value encountered in double_scalars\n",
      "  'Gamma': lambda: ((np.dot(self.freq, self.ft**(2)) / np.sum(self.ft**(2)))**(2) - ((np.dot(self.freq**(2), self.ft**(2)) / np.sum(self.ft**(2)))**(0.5))**(2))**(0.5),\n",
      "100%|██████████| 5/5 [00:00<00:00, 21.32it/s]\n",
      "100%|██████████| 5/5 [00:00<00:00, 1758.62it/s]\n",
      "100%|██████████| 5/5 [00:00<00:00, 2399.76it/s]\n",
      "100%|██████████| 5/5 [00:00<00:00, 2586.20it/s]\n",
      "100%|██████████| 5/5 [00:00<00:00, 2228.17it/s]"
     ]
    },
    {
     "name": "stdout",
     "output_type": "stream",
     "text": [
      "7500\n"
     ]
    },
    {
     "name": "stderr",
     "output_type": "stream",
     "text": [
      "\n",
      "  0%|          | 0/5 [00:00<?, ?it/s]/home/ak287/PNW_Seismic_Event_Classification/notebooks/../feature_extraction_scripts/physical_feature_extraction_scripts/seis_feature.py:101: RuntimeWarning: invalid value encountered in double_scalars\n",
      "  'Gamma': lambda: ((np.dot(self.freq, self.ft**(2)) / np.sum(self.ft**(2)))**(2) - ((np.dot(self.freq**(2), self.ft**(2)) / np.sum(self.ft**(2)))**(0.5))**(2))**(0.5),\n",
      "100%|██████████| 5/5 [00:00<00:00, 12.24it/s]\n",
      "  0%|          | 0/5 [00:00<?, ?it/s]/home/ak287/PNW_Seismic_Event_Classification/notebooks/../feature_extraction_scripts/physical_feature_extraction_scripts/seis_feature.py:101: RuntimeWarning: invalid value encountered in double_scalars\n",
      "  'Gamma': lambda: ((np.dot(self.freq, self.ft**(2)) / np.sum(self.ft**(2)))**(2) - ((np.dot(self.freq**(2), self.ft**(2)) / np.sum(self.ft**(2)))**(0.5))**(2))**(0.5),\n",
      "100%|██████████| 5/5 [00:00<00:00, 12.27it/s]\n",
      "  0%|          | 0/5 [00:00<?, ?it/s]/home/ak287/PNW_Seismic_Event_Classification/notebooks/../feature_extraction_scripts/physical_feature_extraction_scripts/seis_feature.py:101: RuntimeWarning: invalid value encountered in double_scalars\n",
      "  'Gamma': lambda: ((np.dot(self.freq, self.ft**(2)) / np.sum(self.ft**(2)))**(2) - ((np.dot(self.freq**(2), self.ft**(2)) / np.sum(self.ft**(2)))**(0.5))**(2))**(0.5),\n",
      "100%|██████████| 5/5 [00:00<00:00, 12.17it/s]\n",
      "  0%|          | 0/5 [00:00<?, ?it/s]/home/ak287/PNW_Seismic_Event_Classification/notebooks/../feature_extraction_scripts/physical_feature_extraction_scripts/seis_feature.py:101: RuntimeWarning: invalid value encountered in double_scalars\n",
      "  'Gamma': lambda: ((np.dot(self.freq, self.ft**(2)) / np.sum(self.ft**(2)))**(2) - ((np.dot(self.freq**(2), self.ft**(2)) / np.sum(self.ft**(2)))**(0.5))**(2))**(0.5),\n",
      "100%|██████████| 5/5 [00:00<00:00, 12.17it/s]\n",
      "100%|██████████| 5/5 [00:00<00:00, 1637.50it/s]\n",
      "100%|██████████| 5/5 [00:00<00:00, 2343.45it/s]\n",
      "100%|██████████| 5/5 [00:00<00:00, 2483.31it/s]\n",
      "100%|██████████| 5/5 [00:00<00:00, 2171.86it/s]"
     ]
    },
    {
     "name": "stdout",
     "output_type": "stream",
     "text": [
      "4000\n"
     ]
    },
    {
     "name": "stderr",
     "output_type": "stream",
     "text": [
      "\n",
      "  0%|          | 0/5 [00:00<?, ?it/s]/home/ak287/PNW_Seismic_Event_Classification/notebooks/../feature_extraction_scripts/physical_feature_extraction_scripts/seis_feature.py:101: RuntimeWarning: invalid value encountered in double_scalars\n",
      "  'Gamma': lambda: ((np.dot(self.freq, self.ft**(2)) / np.sum(self.ft**(2)))**(2) - ((np.dot(self.freq**(2), self.ft**(2)) / np.sum(self.ft**(2)))**(0.5))**(2))**(0.5),\n",
      "100%|██████████| 5/5 [00:00<00:00, 18.76it/s]\n",
      "  0%|          | 0/5 [00:00<?, ?it/s]/home/ak287/PNW_Seismic_Event_Classification/notebooks/../feature_extraction_scripts/physical_feature_extraction_scripts/seis_feature.py:101: RuntimeWarning: invalid value encountered in double_scalars\n",
      "  'Gamma': lambda: ((np.dot(self.freq, self.ft**(2)) / np.sum(self.ft**(2)))**(2) - ((np.dot(self.freq**(2), self.ft**(2)) / np.sum(self.ft**(2)))**(0.5))**(2))**(0.5),\n",
      "100%|██████████| 5/5 [00:00<00:00, 17.59it/s]\n",
      "  0%|          | 0/5 [00:00<?, ?it/s]/home/ak287/PNW_Seismic_Event_Classification/notebooks/../feature_extraction_scripts/physical_feature_extraction_scripts/seis_feature.py:101: RuntimeWarning: invalid value encountered in double_scalars\n",
      "  'Gamma': lambda: ((np.dot(self.freq, self.ft**(2)) / np.sum(self.ft**(2)))**(2) - ((np.dot(self.freq**(2), self.ft**(2)) / np.sum(self.ft**(2)))**(0.5))**(2))**(0.5),\n",
      "100%|██████████| 5/5 [00:00<00:00, 16.54it/s]\n",
      "  0%|          | 0/5 [00:00<?, ?it/s]/home/ak287/PNW_Seismic_Event_Classification/notebooks/../feature_extraction_scripts/physical_feature_extraction_scripts/seis_feature.py:101: RuntimeWarning: invalid value encountered in double_scalars\n",
      "  'Gamma': lambda: ((np.dot(self.freq, self.ft**(2)) / np.sum(self.ft**(2)))**(2) - ((np.dot(self.freq**(2), self.ft**(2)) / np.sum(self.ft**(2)))**(0.5))**(2))**(0.5),\n",
      "100%|██████████| 5/5 [00:00<00:00, 18.42it/s]\n",
      "100%|██████████| 5/5 [00:00<00:00, 1895.47it/s]\n",
      "100%|██████████| 5/5 [00:00<00:00, 2512.46it/s]\n",
      "100%|██████████| 5/5 [00:00<00:00, 2664.07it/s]\n",
      "100%|██████████| 5/5 [00:00<00:00, 2271.37it/s]"
     ]
    },
    {
     "name": "stdout",
     "output_type": "stream",
     "text": [
      "5000\n"
     ]
    },
    {
     "name": "stderr",
     "output_type": "stream",
     "text": [
      "\n",
      "  0%|          | 0/5 [00:00<?, ?it/s]/home/ak287/PNW_Seismic_Event_Classification/notebooks/../feature_extraction_scripts/physical_feature_extraction_scripts/seis_feature.py:101: RuntimeWarning: invalid value encountered in double_scalars\n",
      "  'Gamma': lambda: ((np.dot(self.freq, self.ft**(2)) / np.sum(self.ft**(2)))**(2) - ((np.dot(self.freq**(2), self.ft**(2)) / np.sum(self.ft**(2)))**(0.5))**(2))**(0.5),\n",
      "100%|██████████| 5/5 [00:00<00:00, 14.94it/s]\n",
      "  0%|          | 0/5 [00:00<?, ?it/s]/home/ak287/PNW_Seismic_Event_Classification/notebooks/../feature_extraction_scripts/physical_feature_extraction_scripts/seis_feature.py:101: RuntimeWarning: invalid value encountered in double_scalars\n",
      "  'Gamma': lambda: ((np.dot(self.freq, self.ft**(2)) / np.sum(self.ft**(2)))**(2) - ((np.dot(self.freq**(2), self.ft**(2)) / np.sum(self.ft**(2)))**(0.5))**(2))**(0.5),\n",
      "100%|██████████| 5/5 [00:00<00:00, 15.52it/s]\n",
      "  0%|          | 0/5 [00:00<?, ?it/s]/home/ak287/PNW_Seismic_Event_Classification/notebooks/../feature_extraction_scripts/physical_feature_extraction_scripts/seis_feature.py:101: RuntimeWarning: invalid value encountered in double_scalars\n",
      "  'Gamma': lambda: ((np.dot(self.freq, self.ft**(2)) / np.sum(self.ft**(2)))**(2) - ((np.dot(self.freq**(2), self.ft**(2)) / np.sum(self.ft**(2)))**(0.5))**(2))**(0.5),\n",
      "100%|██████████| 5/5 [00:00<00:00, 14.00it/s]\n",
      "  0%|          | 0/5 [00:00<?, ?it/s]/home/ak287/PNW_Seismic_Event_Classification/notebooks/../feature_extraction_scripts/physical_feature_extraction_scripts/seis_feature.py:101: RuntimeWarning: invalid value encountered in double_scalars\n",
      "  'Gamma': lambda: ((np.dot(self.freq, self.ft**(2)) / np.sum(self.ft**(2)))**(2) - ((np.dot(self.freq**(2), self.ft**(2)) / np.sum(self.ft**(2)))**(0.5))**(2))**(0.5),\n",
      "100%|██████████| 5/5 [00:00<00:00, 16.42it/s]\n",
      "100%|██████████| 5/5 [00:00<00:00, 1623.06it/s]\n",
      "100%|██████████| 5/5 [00:00<00:00, 2438.55it/s]\n",
      "100%|██████████| 5/5 [00:00<00:00, 2678.01it/s]\n",
      "100%|██████████| 5/5 [00:00<00:00, 2263.77it/s]"
     ]
    },
    {
     "name": "stdout",
     "output_type": "stream",
     "text": [
      "7000\n"
     ]
    },
    {
     "name": "stderr",
     "output_type": "stream",
     "text": [
      "\n",
      "  0%|          | 0/5 [00:00<?, ?it/s]/home/ak287/PNW_Seismic_Event_Classification/notebooks/../feature_extraction_scripts/physical_feature_extraction_scripts/seis_feature.py:101: RuntimeWarning: invalid value encountered in double_scalars\n",
      "  'Gamma': lambda: ((np.dot(self.freq, self.ft**(2)) / np.sum(self.ft**(2)))**(2) - ((np.dot(self.freq**(2), self.ft**(2)) / np.sum(self.ft**(2)))**(0.5))**(2))**(0.5),\n",
      "100%|██████████| 5/5 [00:00<00:00, 12.70it/s]\n",
      "  0%|          | 0/5 [00:00<?, ?it/s]/home/ak287/PNW_Seismic_Event_Classification/notebooks/../feature_extraction_scripts/physical_feature_extraction_scripts/seis_feature.py:101: RuntimeWarning: invalid value encountered in double_scalars\n",
      "  'Gamma': lambda: ((np.dot(self.freq, self.ft**(2)) / np.sum(self.ft**(2)))**(2) - ((np.dot(self.freq**(2), self.ft**(2)) / np.sum(self.ft**(2)))**(0.5))**(2))**(0.5),\n",
      "100%|██████████| 5/5 [00:00<00:00, 12.92it/s]\n",
      "  0%|          | 0/5 [00:00<?, ?it/s]/home/ak287/PNW_Seismic_Event_Classification/notebooks/../feature_extraction_scripts/physical_feature_extraction_scripts/seis_feature.py:101: RuntimeWarning: invalid value encountered in double_scalars\n",
      "  'Gamma': lambda: ((np.dot(self.freq, self.ft**(2)) / np.sum(self.ft**(2)))**(2) - ((np.dot(self.freq**(2), self.ft**(2)) / np.sum(self.ft**(2)))**(0.5))**(2))**(0.5),\n",
      "100%|██████████| 5/5 [00:00<00:00, 12.70it/s]\n",
      "  0%|          | 0/5 [00:00<?, ?it/s]/home/ak287/PNW_Seismic_Event_Classification/notebooks/../feature_extraction_scripts/physical_feature_extraction_scripts/seis_feature.py:101: RuntimeWarning: invalid value encountered in double_scalars\n",
      "  'Gamma': lambda: ((np.dot(self.freq, self.ft**(2)) / np.sum(self.ft**(2)))**(2) - ((np.dot(self.freq**(2), self.ft**(2)) / np.sum(self.ft**(2)))**(0.5))**(2))**(0.5),\n",
      "100%|██████████| 5/5 [00:00<00:00, 12.10it/s]\n",
      "100%|██████████| 5/5 [00:00<00:00, 1874.47it/s]\n",
      "100%|██████████| 5/5 [00:00<00:00, 2523.04it/s]\n",
      "100%|██████████| 5/5 [00:00<00:00, 2720.04it/s]\n",
      "100%|██████████| 5/5 [00:00<00:00, 2351.59it/s]"
     ]
    },
    {
     "name": "stdout",
     "output_type": "stream",
     "text": [
      "2500\n"
     ]
    },
    {
     "name": "stderr",
     "output_type": "stream",
     "text": [
      "\n",
      "  0%|          | 0/5 [00:00<?, ?it/s]/home/ak287/PNW_Seismic_Event_Classification/notebooks/../feature_extraction_scripts/physical_feature_extraction_scripts/seis_feature.py:101: RuntimeWarning: invalid value encountered in double_scalars\n",
      "  'Gamma': lambda: ((np.dot(self.freq, self.ft**(2)) / np.sum(self.ft**(2)))**(2) - ((np.dot(self.freq**(2), self.ft**(2)) / np.sum(self.ft**(2)))**(0.5))**(2))**(0.5),\n",
      "100%|██████████| 5/5 [00:00<00:00, 18.53it/s]\n",
      "  0%|          | 0/5 [00:00<?, ?it/s]/home/ak287/PNW_Seismic_Event_Classification/notebooks/../feature_extraction_scripts/physical_feature_extraction_scripts/seis_feature.py:101: RuntimeWarning: invalid value encountered in double_scalars\n",
      "  'Gamma': lambda: ((np.dot(self.freq, self.ft**(2)) / np.sum(self.ft**(2)))**(2) - ((np.dot(self.freq**(2), self.ft**(2)) / np.sum(self.ft**(2)))**(0.5))**(2))**(0.5),\n",
      "100%|██████████| 5/5 [00:00<00:00, 19.19it/s]\n",
      "  0%|          | 0/5 [00:00<?, ?it/s]/home/ak287/PNW_Seismic_Event_Classification/notebooks/../feature_extraction_scripts/physical_feature_extraction_scripts/seis_feature.py:101: RuntimeWarning: invalid value encountered in double_scalars\n",
      "  'Gamma': lambda: ((np.dot(self.freq, self.ft**(2)) / np.sum(self.ft**(2)))**(2) - ((np.dot(self.freq**(2), self.ft**(2)) / np.sum(self.ft**(2)))**(0.5))**(2))**(0.5),\n",
      "100%|██████████| 5/5 [00:00<00:00, 18.63it/s]\n",
      "  0%|          | 0/5 [00:00<?, ?it/s]/home/ak287/PNW_Seismic_Event_Classification/notebooks/../feature_extraction_scripts/physical_feature_extraction_scripts/seis_feature.py:101: RuntimeWarning: invalid value encountered in double_scalars\n",
      "  'Gamma': lambda: ((np.dot(self.freq, self.ft**(2)) / np.sum(self.ft**(2)))**(2) - ((np.dot(self.freq**(2), self.ft**(2)) / np.sum(self.ft**(2)))**(0.5))**(2))**(0.5),\n",
      "100%|██████████| 5/5 [00:00<00:00, 18.87it/s]\n",
      "100%|██████████| 5/5 [00:00<00:00, 1629.36it/s]\n",
      "100%|██████████| 5/5 [00:00<00:00, 2354.76it/s]\n",
      "100%|██████████| 5/5 [00:00<00:00, 2504.66it/s]\n",
      "100%|██████████| 5/5 [00:00<00:00, 2214.99it/s]"
     ]
    },
    {
     "name": "stdout",
     "output_type": "stream",
     "text": [
      "15000\n"
     ]
    },
    {
     "name": "stderr",
     "output_type": "stream",
     "text": [
      "\n",
      "  0%|          | 0/5 [00:00<?, ?it/s]/home/ak287/PNW_Seismic_Event_Classification/notebooks/../feature_extraction_scripts/physical_feature_extraction_scripts/seis_feature.py:101: RuntimeWarning: invalid value encountered in double_scalars\n",
      "  'Gamma': lambda: ((np.dot(self.freq, self.ft**(2)) / np.sum(self.ft**(2)))**(2) - ((np.dot(self.freq**(2), self.ft**(2)) / np.sum(self.ft**(2)))**(0.5))**(2))**(0.5),\n",
      "100%|██████████| 5/5 [00:01<00:00,  4.11it/s]\n",
      "  0%|          | 0/5 [00:00<?, ?it/s]/home/ak287/PNW_Seismic_Event_Classification/notebooks/../feature_extraction_scripts/physical_feature_extraction_scripts/seis_feature.py:101: RuntimeWarning: invalid value encountered in double_scalars\n",
      "  'Gamma': lambda: ((np.dot(self.freq, self.ft**(2)) / np.sum(self.ft**(2)))**(2) - ((np.dot(self.freq**(2), self.ft**(2)) / np.sum(self.ft**(2)))**(0.5))**(2))**(0.5),\n",
      "100%|██████████| 5/5 [00:01<00:00,  3.29it/s]\n",
      "  0%|          | 0/5 [00:00<?, ?it/s]/home/ak287/PNW_Seismic_Event_Classification/notebooks/../feature_extraction_scripts/physical_feature_extraction_scripts/seis_feature.py:101: RuntimeWarning: invalid value encountered in double_scalars\n",
      "  'Gamma': lambda: ((np.dot(self.freq, self.ft**(2)) / np.sum(self.ft**(2)))**(2) - ((np.dot(self.freq**(2), self.ft**(2)) / np.sum(self.ft**(2)))**(0.5))**(2))**(0.5),\n",
      "100%|██████████| 5/5 [00:01<00:00,  3.23it/s]\n",
      "  0%|          | 0/5 [00:00<?, ?it/s]/home/ak287/PNW_Seismic_Event_Classification/notebooks/../feature_extraction_scripts/physical_feature_extraction_scripts/seis_feature.py:101: RuntimeWarning: invalid value encountered in double_scalars\n",
      "  'Gamma': lambda: ((np.dot(self.freq, self.ft**(2)) / np.sum(self.ft**(2)))**(2) - ((np.dot(self.freq**(2), self.ft**(2)) / np.sum(self.ft**(2)))**(0.5))**(2))**(0.5),\n",
      "100%|██████████| 5/5 [00:01<00:00,  3.94it/s]\n",
      "100%|██████████| 5/5 [00:00<00:00, 1720.67it/s]\n",
      "100%|██████████| 5/5 [00:00<00:00, 2430.35it/s]\n",
      "100%|██████████| 5/5 [00:00<00:00, 2640.92it/s]\n",
      "100%|██████████| 5/5 [00:00<00:00, 2278.52it/s]"
     ]
    },
    {
     "name": "stdout",
     "output_type": "stream",
     "text": [
      "4000\n"
     ]
    },
    {
     "name": "stderr",
     "output_type": "stream",
     "text": [
      "\n",
      "  0%|          | 0/5 [00:00<?, ?it/s]/home/ak287/PNW_Seismic_Event_Classification/notebooks/../feature_extraction_scripts/physical_feature_extraction_scripts/seis_feature.py:101: RuntimeWarning: invalid value encountered in double_scalars\n",
      "  'Gamma': lambda: ((np.dot(self.freq, self.ft**(2)) / np.sum(self.ft**(2)))**(2) - ((np.dot(self.freq**(2), self.ft**(2)) / np.sum(self.ft**(2)))**(0.5))**(2))**(0.5),\n",
      "100%|██████████| 5/5 [00:00<00:00, 16.81it/s]\n",
      "  0%|          | 0/5 [00:00<?, ?it/s]/home/ak287/PNW_Seismic_Event_Classification/notebooks/../feature_extraction_scripts/physical_feature_extraction_scripts/seis_feature.py:101: RuntimeWarning: invalid value encountered in double_scalars\n",
      "  'Gamma': lambda: ((np.dot(self.freq, self.ft**(2)) / np.sum(self.ft**(2)))**(2) - ((np.dot(self.freq**(2), self.ft**(2)) / np.sum(self.ft**(2)))**(0.5))**(2))**(0.5),\n",
      "100%|██████████| 5/5 [00:00<00:00, 16.94it/s]\n",
      "  0%|          | 0/5 [00:00<?, ?it/s]/home/ak287/PNW_Seismic_Event_Classification/notebooks/../feature_extraction_scripts/physical_feature_extraction_scripts/seis_feature.py:101: RuntimeWarning: invalid value encountered in double_scalars\n",
      "  'Gamma': lambda: ((np.dot(self.freq, self.ft**(2)) / np.sum(self.ft**(2)))**(2) - ((np.dot(self.freq**(2), self.ft**(2)) / np.sum(self.ft**(2)))**(0.5))**(2))**(0.5),\n",
      "100%|██████████| 5/5 [00:00<00:00, 16.92it/s]\n",
      "  0%|          | 0/5 [00:00<?, ?it/s]/home/ak287/PNW_Seismic_Event_Classification/notebooks/../feature_extraction_scripts/physical_feature_extraction_scripts/seis_feature.py:101: RuntimeWarning: invalid value encountered in double_scalars\n",
      "  'Gamma': lambda: ((np.dot(self.freq, self.ft**(2)) / np.sum(self.ft**(2)))**(2) - ((np.dot(self.freq**(2), self.ft**(2)) / np.sum(self.ft**(2)))**(0.5))**(2))**(0.5),\n",
      "100%|██████████| 5/5 [00:00<00:00, 15.92it/s]\n",
      "100%|██████████| 5/5 [00:00<00:00, 1594.43it/s]\n",
      "100%|██████████| 5/5 [00:00<00:00, 2493.94it/s]\n",
      "100%|██████████| 5/5 [00:00<00:00, 2751.08it/s]\n",
      "100%|██████████| 5/5 [00:00<00:00, 2372.88it/s]"
     ]
    },
    {
     "name": "stdout",
     "output_type": "stream",
     "text": [
      "5000\n"
     ]
    },
    {
     "name": "stderr",
     "output_type": "stream",
     "text": [
      "\n",
      "  0%|          | 0/5 [00:00<?, ?it/s]/home/ak287/PNW_Seismic_Event_Classification/notebooks/../feature_extraction_scripts/physical_feature_extraction_scripts/seis_feature.py:101: RuntimeWarning: invalid value encountered in double_scalars\n",
      "  'Gamma': lambda: ((np.dot(self.freq, self.ft**(2)) / np.sum(self.ft**(2)))**(2) - ((np.dot(self.freq**(2), self.ft**(2)) / np.sum(self.ft**(2)))**(0.5))**(2))**(0.5),\n",
      "100%|██████████| 5/5 [00:00<00:00, 15.14it/s]\n",
      "  0%|          | 0/5 [00:00<?, ?it/s]/home/ak287/PNW_Seismic_Event_Classification/notebooks/../feature_extraction_scripts/physical_feature_extraction_scripts/seis_feature.py:101: RuntimeWarning: invalid value encountered in double_scalars\n",
      "  'Gamma': lambda: ((np.dot(self.freq, self.ft**(2)) / np.sum(self.ft**(2)))**(2) - ((np.dot(self.freq**(2), self.ft**(2)) / np.sum(self.ft**(2)))**(0.5))**(2))**(0.5),\n",
      "100%|██████████| 5/5 [00:00<00:00, 15.37it/s]\n",
      "  0%|          | 0/5 [00:00<?, ?it/s]/home/ak287/PNW_Seismic_Event_Classification/notebooks/../feature_extraction_scripts/physical_feature_extraction_scripts/seis_feature.py:101: RuntimeWarning: invalid value encountered in double_scalars\n",
      "  'Gamma': lambda: ((np.dot(self.freq, self.ft**(2)) / np.sum(self.ft**(2)))**(2) - ((np.dot(self.freq**(2), self.ft**(2)) / np.sum(self.ft**(2)))**(0.5))**(2))**(0.5),\n",
      "100%|██████████| 5/5 [00:00<00:00, 14.09it/s]\n",
      "  0%|          | 0/5 [00:00<?, ?it/s]/home/ak287/PNW_Seismic_Event_Classification/notebooks/../feature_extraction_scripts/physical_feature_extraction_scripts/seis_feature.py:101: RuntimeWarning: invalid value encountered in double_scalars\n",
      "  'Gamma': lambda: ((np.dot(self.freq, self.ft**(2)) / np.sum(self.ft**(2)))**(2) - ((np.dot(self.freq**(2), self.ft**(2)) / np.sum(self.ft**(2)))**(0.5))**(2))**(0.5),\n",
      "100%|██████████| 5/5 [00:00<00:00, 16.25it/s]\n",
      "100%|██████████| 5/5 [00:00<00:00, 1234.56it/s]\n",
      "100%|██████████| 5/5 [00:00<00:00, 1860.83it/s]\n",
      "100%|██████████| 5/5 [00:00<00:00, 2027.21it/s]\n",
      "100%|██████████| 5/5 [00:00<00:00, 1810.54it/s]"
     ]
    },
    {
     "name": "stdout",
     "output_type": "stream",
     "text": [
      "7000\n"
     ]
    },
    {
     "name": "stderr",
     "output_type": "stream",
     "text": [
      "\n",
      "  0%|          | 0/5 [00:00<?, ?it/s]/home/ak287/PNW_Seismic_Event_Classification/notebooks/../feature_extraction_scripts/physical_feature_extraction_scripts/seis_feature.py:101: RuntimeWarning: invalid value encountered in double_scalars\n",
      "  'Gamma': lambda: ((np.dot(self.freq, self.ft**(2)) / np.sum(self.ft**(2)))**(2) - ((np.dot(self.freq**(2), self.ft**(2)) / np.sum(self.ft**(2)))**(0.5))**(2))**(0.5),\n",
      "100%|██████████| 5/5 [00:00<00:00, 12.92it/s]\n",
      "  0%|          | 0/5 [00:00<?, ?it/s]/home/ak287/PNW_Seismic_Event_Classification/notebooks/../feature_extraction_scripts/physical_feature_extraction_scripts/seis_feature.py:101: RuntimeWarning: invalid value encountered in double_scalars\n",
      "  'Gamma': lambda: ((np.dot(self.freq, self.ft**(2)) / np.sum(self.ft**(2)))**(2) - ((np.dot(self.freq**(2), self.ft**(2)) / np.sum(self.ft**(2)))**(0.5))**(2))**(0.5),\n",
      "100%|██████████| 5/5 [00:00<00:00, 12.84it/s]\n",
      "  0%|          | 0/5 [00:00<?, ?it/s]/home/ak287/PNW_Seismic_Event_Classification/notebooks/../feature_extraction_scripts/physical_feature_extraction_scripts/seis_feature.py:101: RuntimeWarning: invalid value encountered in double_scalars\n",
      "  'Gamma': lambda: ((np.dot(self.freq, self.ft**(2)) / np.sum(self.ft**(2)))**(2) - ((np.dot(self.freq**(2), self.ft**(2)) / np.sum(self.ft**(2)))**(0.5))**(2))**(0.5),\n",
      "100%|██████████| 5/5 [00:00<00:00, 12.88it/s]\n",
      "  0%|          | 0/5 [00:00<?, ?it/s]/home/ak287/PNW_Seismic_Event_Classification/notebooks/../feature_extraction_scripts/physical_feature_extraction_scripts/seis_feature.py:101: RuntimeWarning: invalid value encountered in double_scalars\n",
      "  'Gamma': lambda: ((np.dot(self.freq, self.ft**(2)) / np.sum(self.ft**(2)))**(2) - ((np.dot(self.freq**(2), self.ft**(2)) / np.sum(self.ft**(2)))**(0.5))**(2))**(0.5),\n",
      "100%|██████████| 5/5 [00:00<00:00, 13.16it/s]\n",
      "100%|██████████| 5/5 [00:00<00:00, 1144.98it/s]\n",
      "100%|██████████| 5/5 [00:00<00:00, 1538.52it/s]\n",
      "100%|██████████| 5/5 [00:00<00:00, 1629.11it/s]\n",
      "100%|██████████| 5/5 [00:00<00:00, 1310.31it/s]"
     ]
    },
    {
     "name": "stdout",
     "output_type": "stream",
     "text": [
      "2500\n"
     ]
    },
    {
     "name": "stderr",
     "output_type": "stream",
     "text": [
      "\n",
      "  0%|          | 0/5 [00:00<?, ?it/s]/home/ak287/PNW_Seismic_Event_Classification/notebooks/../feature_extraction_scripts/physical_feature_extraction_scripts/seis_feature.py:101: RuntimeWarning: invalid value encountered in double_scalars\n",
      "  'Gamma': lambda: ((np.dot(self.freq, self.ft**(2)) / np.sum(self.ft**(2)))**(2) - ((np.dot(self.freq**(2), self.ft**(2)) / np.sum(self.ft**(2)))**(0.5))**(2))**(0.5),\n",
      "100%|██████████| 5/5 [00:00<00:00, 19.76it/s]\n",
      "  0%|          | 0/5 [00:00<?, ?it/s]/home/ak287/PNW_Seismic_Event_Classification/notebooks/../feature_extraction_scripts/physical_feature_extraction_scripts/seis_feature.py:101: RuntimeWarning: invalid value encountered in double_scalars\n",
      "  'Gamma': lambda: ((np.dot(self.freq, self.ft**(2)) / np.sum(self.ft**(2)))**(2) - ((np.dot(self.freq**(2), self.ft**(2)) / np.sum(self.ft**(2)))**(0.5))**(2))**(0.5),\n",
      "100%|██████████| 5/5 [00:00<00:00, 18.87it/s]\n",
      "  0%|          | 0/5 [00:00<?, ?it/s]/home/ak287/PNW_Seismic_Event_Classification/notebooks/../feature_extraction_scripts/physical_feature_extraction_scripts/seis_feature.py:101: RuntimeWarning: invalid value encountered in double_scalars\n",
      "  'Gamma': lambda: ((np.dot(self.freq, self.ft**(2)) / np.sum(self.ft**(2)))**(2) - ((np.dot(self.freq**(2), self.ft**(2)) / np.sum(self.ft**(2)))**(0.5))**(2))**(0.5),\n",
      "100%|██████████| 5/5 [00:00<00:00, 17.23it/s]\n",
      "  0%|          | 0/5 [00:00<?, ?it/s]/home/ak287/PNW_Seismic_Event_Classification/notebooks/../feature_extraction_scripts/physical_feature_extraction_scripts/seis_feature.py:101: RuntimeWarning: invalid value encountered in double_scalars\n",
      "  'Gamma': lambda: ((np.dot(self.freq, self.ft**(2)) / np.sum(self.ft**(2)))**(2) - ((np.dot(self.freq**(2), self.ft**(2)) / np.sum(self.ft**(2)))**(0.5))**(2))**(0.5),\n",
      "100%|██████████| 5/5 [00:00<00:00, 19.01it/s]\n",
      "100%|██████████| 5/5 [00:00<00:00, 1146.36it/s]\n",
      "100%|██████████| 5/5 [00:00<00:00, 1709.17it/s]\n",
      "100%|██████████| 5/5 [00:00<00:00, 1768.41it/s]\n",
      "100%|██████████| 5/5 [00:00<00:00, 1607.63it/s]"
     ]
    },
    {
     "name": "stdout",
     "output_type": "stream",
     "text": [
      "15000\n"
     ]
    },
    {
     "name": "stderr",
     "output_type": "stream",
     "text": [
      "\n",
      "  0%|          | 0/5 [00:00<?, ?it/s]/home/ak287/PNW_Seismic_Event_Classification/notebooks/../feature_extraction_scripts/physical_feature_extraction_scripts/seis_feature.py:101: RuntimeWarning: invalid value encountered in double_scalars\n",
      "  'Gamma': lambda: ((np.dot(self.freq, self.ft**(2)) / np.sum(self.ft**(2)))**(2) - ((np.dot(self.freq**(2), self.ft**(2)) / np.sum(self.ft**(2)))**(0.5))**(2))**(0.5),\n",
      "100%|██████████| 5/5 [00:01<00:00,  3.60it/s]\n",
      "  0%|          | 0/5 [00:00<?, ?it/s]/home/ak287/PNW_Seismic_Event_Classification/notebooks/../feature_extraction_scripts/physical_feature_extraction_scripts/seis_feature.py:101: RuntimeWarning: invalid value encountered in double_scalars\n",
      "  'Gamma': lambda: ((np.dot(self.freq, self.ft**(2)) / np.sum(self.ft**(2)))**(2) - ((np.dot(self.freq**(2), self.ft**(2)) / np.sum(self.ft**(2)))**(0.5))**(2))**(0.5),\n",
      "100%|██████████| 5/5 [00:01<00:00,  3.05it/s]\n",
      "  0%|          | 0/5 [00:00<?, ?it/s]/home/ak287/PNW_Seismic_Event_Classification/notebooks/../feature_extraction_scripts/physical_feature_extraction_scripts/seis_feature.py:101: RuntimeWarning: invalid value encountered in double_scalars\n",
      "  'Gamma': lambda: ((np.dot(self.freq, self.ft**(2)) / np.sum(self.ft**(2)))**(2) - ((np.dot(self.freq**(2), self.ft**(2)) / np.sum(self.ft**(2)))**(0.5))**(2))**(0.5),\n",
      "100%|██████████| 5/5 [00:01<00:00,  3.78it/s]\n",
      "  0%|          | 0/5 [00:00<?, ?it/s]/home/ak287/PNW_Seismic_Event_Classification/notebooks/../feature_extraction_scripts/physical_feature_extraction_scripts/seis_feature.py:101: RuntimeWarning: invalid value encountered in double_scalars\n",
      "  'Gamma': lambda: ((np.dot(self.freq, self.ft**(2)) / np.sum(self.ft**(2)))**(2) - ((np.dot(self.freq**(2), self.ft**(2)) / np.sum(self.ft**(2)))**(0.5))**(2))**(0.5),\n",
      "100%|██████████| 5/5 [00:01<00:00,  3.64it/s]\n",
      "100%|██████████| 5/5 [00:00<00:00, 1426.73it/s]\n",
      "100%|██████████| 5/5 [00:00<00:00, 2505.86it/s]\n",
      "100%|██████████| 5/5 [00:00<00:00, 2673.57it/s]\n",
      "100%|██████████| 5/5 [00:00<00:00, 2307.10it/s]"
     ]
    },
    {
     "name": "stdout",
     "output_type": "stream",
     "text": [
      "4000\n"
     ]
    },
    {
     "name": "stderr",
     "output_type": "stream",
     "text": [
      "\n",
      "  0%|          | 0/5 [00:00<?, ?it/s]/home/ak287/PNW_Seismic_Event_Classification/notebooks/../feature_extraction_scripts/physical_feature_extraction_scripts/seis_feature.py:101: RuntimeWarning: invalid value encountered in double_scalars\n",
      "  'Gamma': lambda: ((np.dot(self.freq, self.ft**(2)) / np.sum(self.ft**(2)))**(2) - ((np.dot(self.freq**(2), self.ft**(2)) / np.sum(self.ft**(2)))**(0.5))**(2))**(0.5),\n",
      "100%|██████████| 5/5 [00:00<00:00, 17.06it/s]\n",
      "  0%|          | 0/5 [00:00<?, ?it/s]/home/ak287/PNW_Seismic_Event_Classification/notebooks/../feature_extraction_scripts/physical_feature_extraction_scripts/seis_feature.py:101: RuntimeWarning: invalid value encountered in double_scalars\n",
      "  'Gamma': lambda: ((np.dot(self.freq, self.ft**(2)) / np.sum(self.ft**(2)))**(2) - ((np.dot(self.freq**(2), self.ft**(2)) / np.sum(self.ft**(2)))**(0.5))**(2))**(0.5),\n",
      "100%|██████████| 5/5 [00:00<00:00, 16.85it/s]\n",
      "  0%|          | 0/5 [00:00<?, ?it/s]/home/ak287/PNW_Seismic_Event_Classification/notebooks/../feature_extraction_scripts/physical_feature_extraction_scripts/seis_feature.py:101: RuntimeWarning: invalid value encountered in double_scalars\n",
      "  'Gamma': lambda: ((np.dot(self.freq, self.ft**(2)) / np.sum(self.ft**(2)))**(2) - ((np.dot(self.freq**(2), self.ft**(2)) / np.sum(self.ft**(2)))**(0.5))**(2))**(0.5),\n",
      "100%|██████████| 5/5 [00:00<00:00, 16.41it/s]\n",
      "  0%|          | 0/5 [00:00<?, ?it/s]/home/ak287/PNW_Seismic_Event_Classification/notebooks/../feature_extraction_scripts/physical_feature_extraction_scripts/seis_feature.py:101: RuntimeWarning: invalid value encountered in double_scalars\n",
      "  'Gamma': lambda: ((np.dot(self.freq, self.ft**(2)) / np.sum(self.ft**(2)))**(2) - ((np.dot(self.freq**(2), self.ft**(2)) / np.sum(self.ft**(2)))**(0.5))**(2))**(0.5),\n",
      "100%|██████████| 5/5 [00:00<00:00, 15.74it/s]\n",
      "100%|██████████| 5/5 [00:00<00:00, 1568.08it/s]\n",
      "100%|██████████| 5/5 [00:00<00:00, 2433.17it/s]\n",
      "100%|██████████| 5/5 [00:00<00:00, 2579.52it/s]\n",
      "100%|██████████| 5/5 [00:00<00:00, 2292.97it/s]"
     ]
    },
    {
     "name": "stdout",
     "output_type": "stream",
     "text": [
      "5000\n"
     ]
    },
    {
     "name": "stderr",
     "output_type": "stream",
     "text": [
      "\n",
      "  0%|          | 0/5 [00:00<?, ?it/s]/home/ak287/PNW_Seismic_Event_Classification/notebooks/../feature_extraction_scripts/physical_feature_extraction_scripts/seis_feature.py:101: RuntimeWarning: invalid value encountered in double_scalars\n",
      "  'Gamma': lambda: ((np.dot(self.freq, self.ft**(2)) / np.sum(self.ft**(2)))**(2) - ((np.dot(self.freq**(2), self.ft**(2)) / np.sum(self.ft**(2)))**(0.5))**(2))**(0.5),\n",
      "100%|██████████| 5/5 [00:00<00:00, 14.11it/s]\n",
      "  0%|          | 0/5 [00:00<?, ?it/s]/home/ak287/PNW_Seismic_Event_Classification/notebooks/../feature_extraction_scripts/physical_feature_extraction_scripts/seis_feature.py:101: RuntimeWarning: invalid value encountered in double_scalars\n",
      "  'Gamma': lambda: ((np.dot(self.freq, self.ft**(2)) / np.sum(self.ft**(2)))**(2) - ((np.dot(self.freq**(2), self.ft**(2)) / np.sum(self.ft**(2)))**(0.5))**(2))**(0.5),\n",
      "100%|██████████| 5/5 [00:00<00:00, 15.32it/s]\n",
      "  0%|          | 0/5 [00:00<?, ?it/s]/home/ak287/PNW_Seismic_Event_Classification/notebooks/../feature_extraction_scripts/physical_feature_extraction_scripts/seis_feature.py:101: RuntimeWarning: invalid value encountered in double_scalars\n",
      "  'Gamma': lambda: ((np.dot(self.freq, self.ft**(2)) / np.sum(self.ft**(2)))**(2) - ((np.dot(self.freq**(2), self.ft**(2)) / np.sum(self.ft**(2)))**(0.5))**(2))**(0.5),\n",
      "100%|██████████| 5/5 [00:00<00:00, 15.41it/s]\n",
      "  0%|          | 0/5 [00:00<?, ?it/s]/home/ak287/PNW_Seismic_Event_Classification/notebooks/../feature_extraction_scripts/physical_feature_extraction_scripts/seis_feature.py:101: RuntimeWarning: invalid value encountered in double_scalars\n",
      "  'Gamma': lambda: ((np.dot(self.freq, self.ft**(2)) / np.sum(self.ft**(2)))**(2) - ((np.dot(self.freq**(2), self.ft**(2)) / np.sum(self.ft**(2)))**(0.5))**(2))**(0.5),\n",
      "100%|██████████| 5/5 [00:00<00:00, 15.26it/s]\n",
      "100%|██████████| 5/5 [00:00<00:00, 1798.74it/s]\n",
      "100%|██████████| 5/5 [00:00<00:00, 2367.26it/s]\n",
      "100%|██████████| 5/5 [00:00<00:00, 2620.78it/s]\n",
      "100%|██████████| 5/5 [00:00<00:00, 2238.87it/s]"
     ]
    },
    {
     "name": "stdout",
     "output_type": "stream",
     "text": [
      "7000\n"
     ]
    },
    {
     "name": "stderr",
     "output_type": "stream",
     "text": [
      "\n",
      "  0%|          | 0/5 [00:00<?, ?it/s]/home/ak287/PNW_Seismic_Event_Classification/notebooks/../feature_extraction_scripts/physical_feature_extraction_scripts/seis_feature.py:101: RuntimeWarning: invalid value encountered in double_scalars\n",
      "  'Gamma': lambda: ((np.dot(self.freq, self.ft**(2)) / np.sum(self.ft**(2)))**(2) - ((np.dot(self.freq**(2), self.ft**(2)) / np.sum(self.ft**(2)))**(0.5))**(2))**(0.5),\n",
      "100%|██████████| 5/5 [00:00<00:00, 12.78it/s]\n",
      "  0%|          | 0/5 [00:00<?, ?it/s]/home/ak287/PNW_Seismic_Event_Classification/notebooks/../feature_extraction_scripts/physical_feature_extraction_scripts/seis_feature.py:101: RuntimeWarning: invalid value encountered in double_scalars\n",
      "  'Gamma': lambda: ((np.dot(self.freq, self.ft**(2)) / np.sum(self.ft**(2)))**(2) - ((np.dot(self.freq**(2), self.ft**(2)) / np.sum(self.ft**(2)))**(0.5))**(2))**(0.5),\n",
      "100%|██████████| 5/5 [00:00<00:00, 12.52it/s]\n",
      "  0%|          | 0/5 [00:00<?, ?it/s]/home/ak287/PNW_Seismic_Event_Classification/notebooks/../feature_extraction_scripts/physical_feature_extraction_scripts/seis_feature.py:101: RuntimeWarning: invalid value encountered in double_scalars\n",
      "  'Gamma': lambda: ((np.dot(self.freq, self.ft**(2)) / np.sum(self.ft**(2)))**(2) - ((np.dot(self.freq**(2), self.ft**(2)) / np.sum(self.ft**(2)))**(0.5))**(2))**(0.5),\n",
      "100%|██████████| 5/5 [00:00<00:00, 13.01it/s]\n",
      "  0%|          | 0/5 [00:00<?, ?it/s]/home/ak287/PNW_Seismic_Event_Classification/notebooks/../feature_extraction_scripts/physical_feature_extraction_scripts/seis_feature.py:101: RuntimeWarning: invalid value encountered in double_scalars\n",
      "  'Gamma': lambda: ((np.dot(self.freq, self.ft**(2)) / np.sum(self.ft**(2)))**(2) - ((np.dot(self.freq**(2), self.ft**(2)) / np.sum(self.ft**(2)))**(0.5))**(2))**(0.5),\n",
      "100%|██████████| 5/5 [00:00<00:00, 12.81it/s]\n",
      "100%|██████████| 5/5 [00:00<00:00, 1663.09it/s]\n",
      "100%|██████████| 5/5 [00:00<00:00, 1849.83it/s]\n",
      "100%|██████████| 5/5 [00:00<00:00, 2609.37it/s]\n",
      "100%|██████████| 5/5 [00:00<00:00, 2103.46it/s]"
     ]
    },
    {
     "name": "stdout",
     "output_type": "stream",
     "text": [
      "2500\n"
     ]
    },
    {
     "name": "stderr",
     "output_type": "stream",
     "text": [
      "\n",
      "  0%|          | 0/5 [00:00<?, ?it/s]/home/ak287/PNW_Seismic_Event_Classification/notebooks/../feature_extraction_scripts/physical_feature_extraction_scripts/seis_feature.py:101: RuntimeWarning: invalid value encountered in double_scalars\n",
      "  'Gamma': lambda: ((np.dot(self.freq, self.ft**(2)) / np.sum(self.ft**(2)))**(2) - ((np.dot(self.freq**(2), self.ft**(2)) / np.sum(self.ft**(2)))**(0.5))**(2))**(0.5),\n",
      "100%|██████████| 5/5 [00:00<00:00, 18.49it/s]\n",
      "  0%|          | 0/5 [00:00<?, ?it/s]/home/ak287/PNW_Seismic_Event_Classification/notebooks/../feature_extraction_scripts/physical_feature_extraction_scripts/seis_feature.py:101: RuntimeWarning: invalid value encountered in double_scalars\n",
      "  'Gamma': lambda: ((np.dot(self.freq, self.ft**(2)) / np.sum(self.ft**(2)))**(2) - ((np.dot(self.freq**(2), self.ft**(2)) / np.sum(self.ft**(2)))**(0.5))**(2))**(0.5),\n",
      "100%|██████████| 5/5 [00:00<00:00, 18.91it/s]\n",
      "  0%|          | 0/5 [00:00<?, ?it/s]/home/ak287/PNW_Seismic_Event_Classification/notebooks/../feature_extraction_scripts/physical_feature_extraction_scripts/seis_feature.py:101: RuntimeWarning: invalid value encountered in double_scalars\n",
      "  'Gamma': lambda: ((np.dot(self.freq, self.ft**(2)) / np.sum(self.ft**(2)))**(2) - ((np.dot(self.freq**(2), self.ft**(2)) / np.sum(self.ft**(2)))**(0.5))**(2))**(0.5),\n",
      "100%|██████████| 5/5 [00:00<00:00, 18.52it/s]\n",
      "  0%|          | 0/5 [00:00<?, ?it/s]/home/ak287/PNW_Seismic_Event_Classification/notebooks/../feature_extraction_scripts/physical_feature_extraction_scripts/seis_feature.py:101: RuntimeWarning: invalid value encountered in double_scalars\n",
      "  'Gamma': lambda: ((np.dot(self.freq, self.ft**(2)) / np.sum(self.ft**(2)))**(2) - ((np.dot(self.freq**(2), self.ft**(2)) / np.sum(self.ft**(2)))**(0.5))**(2))**(0.5),\n",
      "100%|██████████| 5/5 [00:00<00:00, 17.04it/s]\n",
      "100%|██████████| 5/5 [00:00<00:00, 1114.62it/s]\n",
      "100%|██████████| 5/5 [00:00<00:00, 2404.99it/s]\n",
      "100%|██████████| 5/5 [00:00<00:00, 2619.48it/s]\n",
      "100%|██████████| 5/5 [00:00<00:00, 2290.22it/s]"
     ]
    },
    {
     "name": "stdout",
     "output_type": "stream",
     "text": [
      "15000\n"
     ]
    },
    {
     "name": "stderr",
     "output_type": "stream",
     "text": [
      "\n",
      "  0%|          | 0/5 [00:00<?, ?it/s]/home/ak287/PNW_Seismic_Event_Classification/notebooks/../feature_extraction_scripts/physical_feature_extraction_scripts/seis_feature.py:101: RuntimeWarning: invalid value encountered in double_scalars\n",
      "  'Gamma': lambda: ((np.dot(self.freq, self.ft**(2)) / np.sum(self.ft**(2)))**(2) - ((np.dot(self.freq**(2), self.ft**(2)) / np.sum(self.ft**(2)))**(0.5))**(2))**(0.5),\n",
      "100%|██████████| 5/5 [00:01<00:00,  3.63it/s]\n",
      "  0%|          | 0/5 [00:00<?, ?it/s]/home/ak287/PNW_Seismic_Event_Classification/notebooks/../feature_extraction_scripts/physical_feature_extraction_scripts/seis_feature.py:101: RuntimeWarning: invalid value encountered in double_scalars\n",
      "  'Gamma': lambda: ((np.dot(self.freq, self.ft**(2)) / np.sum(self.ft**(2)))**(2) - ((np.dot(self.freq**(2), self.ft**(2)) / np.sum(self.ft**(2)))**(0.5))**(2))**(0.5),\n",
      "100%|██████████| 5/5 [00:01<00:00,  2.86it/s]\n",
      "  0%|          | 0/5 [00:00<?, ?it/s]/home/ak287/PNW_Seismic_Event_Classification/notebooks/../feature_extraction_scripts/physical_feature_extraction_scripts/seis_feature.py:101: RuntimeWarning: invalid value encountered in double_scalars\n",
      "  'Gamma': lambda: ((np.dot(self.freq, self.ft**(2)) / np.sum(self.ft**(2)))**(2) - ((np.dot(self.freq**(2), self.ft**(2)) / np.sum(self.ft**(2)))**(0.5))**(2))**(0.5),\n",
      "100%|██████████| 5/5 [00:01<00:00,  4.02it/s]\n",
      "  0%|          | 0/5 [00:00<?, ?it/s]/home/ak287/PNW_Seismic_Event_Classification/notebooks/../feature_extraction_scripts/physical_feature_extraction_scripts/seis_feature.py:101: RuntimeWarning: invalid value encountered in double_scalars\n",
      "  'Gamma': lambda: ((np.dot(self.freq, self.ft**(2)) / np.sum(self.ft**(2)))**(2) - ((np.dot(self.freq**(2), self.ft**(2)) / np.sum(self.ft**(2)))**(0.5))**(2))**(0.5),\n",
      "100%|██████████| 5/5 [00:01<00:00,  3.32it/s]\n",
      "100%|██████████| 5/5 [00:00<00:00, 1851.63it/s]\n",
      "100%|██████████| 5/5 [00:00<00:00, 2358.74it/s]\n",
      "100%|██████████| 5/5 [00:00<00:00, 2638.26it/s]\n",
      "100%|██████████| 5/5 [00:00<00:00, 2268.17it/s]"
     ]
    },
    {
     "name": "stdout",
     "output_type": "stream",
     "text": [
      "4000\n"
     ]
    },
    {
     "name": "stderr",
     "output_type": "stream",
     "text": [
      "\n",
      "  0%|          | 0/5 [00:00<?, ?it/s]/home/ak287/PNW_Seismic_Event_Classification/notebooks/../feature_extraction_scripts/physical_feature_extraction_scripts/seis_feature.py:101: RuntimeWarning: invalid value encountered in double_scalars\n",
      "  'Gamma': lambda: ((np.dot(self.freq, self.ft**(2)) / np.sum(self.ft**(2)))**(2) - ((np.dot(self.freq**(2), self.ft**(2)) / np.sum(self.ft**(2)))**(0.5))**(2))**(0.5),\n",
      "100%|██████████| 5/5 [00:00<00:00, 16.74it/s]\n",
      "  0%|          | 0/5 [00:00<?, ?it/s]/home/ak287/PNW_Seismic_Event_Classification/notebooks/../feature_extraction_scripts/physical_feature_extraction_scripts/seis_feature.py:101: RuntimeWarning: invalid value encountered in double_scalars\n",
      "  'Gamma': lambda: ((np.dot(self.freq, self.ft**(2)) / np.sum(self.ft**(2)))**(2) - ((np.dot(self.freq**(2), self.ft**(2)) / np.sum(self.ft**(2)))**(0.5))**(2))**(0.5),\n",
      "100%|██████████| 5/5 [00:00<00:00, 15.45it/s]\n",
      "  0%|          | 0/5 [00:00<?, ?it/s]/home/ak287/PNW_Seismic_Event_Classification/notebooks/../feature_extraction_scripts/physical_feature_extraction_scripts/seis_feature.py:101: RuntimeWarning: invalid value encountered in double_scalars\n",
      "  'Gamma': lambda: ((np.dot(self.freq, self.ft**(2)) / np.sum(self.ft**(2)))**(2) - ((np.dot(self.freq**(2), self.ft**(2)) / np.sum(self.ft**(2)))**(0.5))**(2))**(0.5),\n",
      "100%|██████████| 5/5 [00:00<00:00, 16.76it/s]\n",
      "  0%|          | 0/5 [00:00<?, ?it/s]/home/ak287/PNW_Seismic_Event_Classification/notebooks/../feature_extraction_scripts/physical_feature_extraction_scripts/seis_feature.py:101: RuntimeWarning: invalid value encountered in double_scalars\n",
      "  'Gamma': lambda: ((np.dot(self.freq, self.ft**(2)) / np.sum(self.ft**(2)))**(2) - ((np.dot(self.freq**(2), self.ft**(2)) / np.sum(self.ft**(2)))**(0.5))**(2))**(0.5),\n",
      "100%|██████████| 5/5 [00:00<00:00, 17.38it/s]\n",
      "100%|██████████| 5/5 [00:00<00:00, 1797.05it/s]\n",
      "100%|██████████| 5/5 [00:00<00:00, 2378.53it/s]\n",
      "100%|██████████| 5/5 [00:00<00:00, 2602.25it/s]\n",
      "100%|██████████| 5/5 [00:00<00:00, 2259.62it/s]"
     ]
    },
    {
     "name": "stdout",
     "output_type": "stream",
     "text": [
      "5000\n"
     ]
    },
    {
     "name": "stderr",
     "output_type": "stream",
     "text": [
      "\n",
      "  0%|          | 0/5 [00:00<?, ?it/s]/home/ak287/PNW_Seismic_Event_Classification/notebooks/../feature_extraction_scripts/physical_feature_extraction_scripts/seis_feature.py:101: RuntimeWarning: invalid value encountered in double_scalars\n",
      "  'Gamma': lambda: ((np.dot(self.freq, self.ft**(2)) / np.sum(self.ft**(2)))**(2) - ((np.dot(self.freq**(2), self.ft**(2)) / np.sum(self.ft**(2)))**(0.5))**(2))**(0.5),\n",
      "100%|██████████| 5/5 [00:00<00:00, 14.04it/s]\n",
      "  0%|          | 0/5 [00:00<?, ?it/s]/home/ak287/PNW_Seismic_Event_Classification/notebooks/../feature_extraction_scripts/physical_feature_extraction_scripts/seis_feature.py:101: RuntimeWarning: invalid value encountered in double_scalars\n",
      "  'Gamma': lambda: ((np.dot(self.freq, self.ft**(2)) / np.sum(self.ft**(2)))**(2) - ((np.dot(self.freq**(2), self.ft**(2)) / np.sum(self.ft**(2)))**(0.5))**(2))**(0.5),\n",
      "100%|██████████| 5/5 [00:00<00:00, 15.15it/s]\n",
      "  0%|          | 0/5 [00:00<?, ?it/s]/home/ak287/PNW_Seismic_Event_Classification/notebooks/../feature_extraction_scripts/physical_feature_extraction_scripts/seis_feature.py:101: RuntimeWarning: invalid value encountered in double_scalars\n",
      "  'Gamma': lambda: ((np.dot(self.freq, self.ft**(2)) / np.sum(self.ft**(2)))**(2) - ((np.dot(self.freq**(2), self.ft**(2)) / np.sum(self.ft**(2)))**(0.5))**(2))**(0.5),\n",
      "100%|██████████| 5/5 [00:00<00:00, 15.06it/s]\n",
      "  0%|          | 0/5 [00:00<?, ?it/s]/home/ak287/PNW_Seismic_Event_Classification/notebooks/../feature_extraction_scripts/physical_feature_extraction_scripts/seis_feature.py:101: RuntimeWarning: invalid value encountered in double_scalars\n",
      "  'Gamma': lambda: ((np.dot(self.freq, self.ft**(2)) / np.sum(self.ft**(2)))**(2) - ((np.dot(self.freq**(2), self.ft**(2)) / np.sum(self.ft**(2)))**(0.5))**(2))**(0.5),\n",
      "100%|██████████| 5/5 [00:00<00:00, 15.39it/s]\n",
      "100%|██████████| 5/5 [00:00<00:00, 1831.57it/s]\n",
      "100%|██████████| 5/5 [00:00<00:00, 2424.45it/s]\n",
      "100%|██████████| 5/5 [00:00<00:00, 2570.67it/s]\n",
      "100%|██████████| 5/5 [00:00<00:00, 2268.66it/s]"
     ]
    },
    {
     "name": "stdout",
     "output_type": "stream",
     "text": [
      "7000\n"
     ]
    },
    {
     "name": "stderr",
     "output_type": "stream",
     "text": [
      "\n",
      "  0%|          | 0/5 [00:00<?, ?it/s]/home/ak287/PNW_Seismic_Event_Classification/notebooks/../feature_extraction_scripts/physical_feature_extraction_scripts/seis_feature.py:101: RuntimeWarning: invalid value encountered in double_scalars\n",
      "  'Gamma': lambda: ((np.dot(self.freq, self.ft**(2)) / np.sum(self.ft**(2)))**(2) - ((np.dot(self.freq**(2), self.ft**(2)) / np.sum(self.ft**(2)))**(0.5))**(2))**(0.5),\n",
      "100%|██████████| 5/5 [00:00<00:00, 12.90it/s]\n",
      "  0%|          | 0/5 [00:00<?, ?it/s]/home/ak287/PNW_Seismic_Event_Classification/notebooks/../feature_extraction_scripts/physical_feature_extraction_scripts/seis_feature.py:101: RuntimeWarning: invalid value encountered in double_scalars\n",
      "  'Gamma': lambda: ((np.dot(self.freq, self.ft**(2)) / np.sum(self.ft**(2)))**(2) - ((np.dot(self.freq**(2), self.ft**(2)) / np.sum(self.ft**(2)))**(0.5))**(2))**(0.5),\n",
      "100%|██████████| 5/5 [00:00<00:00, 12.87it/s]\n",
      "  0%|          | 0/5 [00:00<?, ?it/s]/home/ak287/PNW_Seismic_Event_Classification/notebooks/../feature_extraction_scripts/physical_feature_extraction_scripts/seis_feature.py:101: RuntimeWarning: invalid value encountered in double_scalars\n",
      "  'Gamma': lambda: ((np.dot(self.freq, self.ft**(2)) / np.sum(self.ft**(2)))**(2) - ((np.dot(self.freq**(2), self.ft**(2)) / np.sum(self.ft**(2)))**(0.5))**(2))**(0.5),\n",
      "100%|██████████| 5/5 [00:00<00:00, 12.75it/s]\n",
      "  0%|          | 0/5 [00:00<?, ?it/s]/home/ak287/PNW_Seismic_Event_Classification/notebooks/../feature_extraction_scripts/physical_feature_extraction_scripts/seis_feature.py:101: RuntimeWarning: invalid value encountered in double_scalars\n",
      "  'Gamma': lambda: ((np.dot(self.freq, self.ft**(2)) / np.sum(self.ft**(2)))**(2) - ((np.dot(self.freq**(2), self.ft**(2)) / np.sum(self.ft**(2)))**(0.5))**(2))**(0.5),\n",
      "100%|██████████| 5/5 [00:00<00:00, 12.85it/s]\n",
      "100%|██████████| 5/5 [00:00<00:00, 1836.55it/s]\n",
      "100%|██████████| 5/5 [00:00<00:00, 2476.56it/s]\n",
      "100%|██████████| 5/5 [00:00<00:00, 2664.74it/s]\n",
      "100%|██████████| 5/5 [00:00<00:00, 2318.83it/s]"
     ]
    },
    {
     "name": "stdout",
     "output_type": "stream",
     "text": [
      "2500\n"
     ]
    },
    {
     "name": "stderr",
     "output_type": "stream",
     "text": [
      "\n",
      "  0%|          | 0/5 [00:00<?, ?it/s]/home/ak287/PNW_Seismic_Event_Classification/notebooks/../feature_extraction_scripts/physical_feature_extraction_scripts/seis_feature.py:101: RuntimeWarning: invalid value encountered in double_scalars\n",
      "  'Gamma': lambda: ((np.dot(self.freq, self.ft**(2)) / np.sum(self.ft**(2)))**(2) - ((np.dot(self.freq**(2), self.ft**(2)) / np.sum(self.ft**(2)))**(0.5))**(2))**(0.5),\n",
      "100%|██████████| 5/5 [00:00<00:00, 17.20it/s]\n",
      "  0%|          | 0/5 [00:00<?, ?it/s]/home/ak287/PNW_Seismic_Event_Classification/notebooks/../feature_extraction_scripts/physical_feature_extraction_scripts/seis_feature.py:101: RuntimeWarning: invalid value encountered in double_scalars\n",
      "  'Gamma': lambda: ((np.dot(self.freq, self.ft**(2)) / np.sum(self.ft**(2)))**(2) - ((np.dot(self.freq**(2), self.ft**(2)) / np.sum(self.ft**(2)))**(0.5))**(2))**(0.5),\n",
      "100%|██████████| 5/5 [00:00<00:00, 19.78it/s]\n",
      "  0%|          | 0/5 [00:00<?, ?it/s]/home/ak287/PNW_Seismic_Event_Classification/notebooks/../feature_extraction_scripts/physical_feature_extraction_scripts/seis_feature.py:101: RuntimeWarning: invalid value encountered in double_scalars\n",
      "  'Gamma': lambda: ((np.dot(self.freq, self.ft**(2)) / np.sum(self.ft**(2)))**(2) - ((np.dot(self.freq**(2), self.ft**(2)) / np.sum(self.ft**(2)))**(0.5))**(2))**(0.5),\n",
      "100%|██████████| 5/5 [00:00<00:00, 17.88it/s]\n",
      "  0%|          | 0/5 [00:00<?, ?it/s]/home/ak287/PNW_Seismic_Event_Classification/notebooks/../feature_extraction_scripts/physical_feature_extraction_scripts/seis_feature.py:101: RuntimeWarning: invalid value encountered in double_scalars\n",
      "  'Gamma': lambda: ((np.dot(self.freq, self.ft**(2)) / np.sum(self.ft**(2)))**(2) - ((np.dot(self.freq**(2), self.ft**(2)) / np.sum(self.ft**(2)))**(0.5))**(2))**(0.5),\n",
      "100%|██████████| 5/5 [00:00<00:00, 18.13it/s]\n",
      "100%|██████████| 5/5 [00:00<00:00, 1694.26it/s]\n",
      "100%|██████████| 5/5 [00:00<00:00, 2374.22it/s]\n",
      "100%|██████████| 5/5 [00:00<00:00, 2354.23it/s]\n",
      "100%|██████████| 5/5 [00:00<00:00, 2191.38it/s]"
     ]
    },
    {
     "name": "stdout",
     "output_type": "stream",
     "text": [
      "15000\n"
     ]
    },
    {
     "name": "stderr",
     "output_type": "stream",
     "text": [
      "\n",
      "  0%|          | 0/5 [00:00<?, ?it/s]/home/ak287/PNW_Seismic_Event_Classification/notebooks/../feature_extraction_scripts/physical_feature_extraction_scripts/seis_feature.py:101: RuntimeWarning: invalid value encountered in double_scalars\n",
      "  'Gamma': lambda: ((np.dot(self.freq, self.ft**(2)) / np.sum(self.ft**(2)))**(2) - ((np.dot(self.freq**(2), self.ft**(2)) / np.sum(self.ft**(2)))**(0.5))**(2))**(0.5),\n",
      "100%|██████████| 5/5 [00:01<00:00,  3.32it/s]\n",
      "  0%|          | 0/5 [00:00<?, ?it/s]/home/ak287/PNW_Seismic_Event_Classification/notebooks/../feature_extraction_scripts/physical_feature_extraction_scripts/seis_feature.py:101: RuntimeWarning: invalid value encountered in double_scalars\n",
      "  'Gamma': lambda: ((np.dot(self.freq, self.ft**(2)) / np.sum(self.ft**(2)))**(2) - ((np.dot(self.freq**(2), self.ft**(2)) / np.sum(self.ft**(2)))**(0.5))**(2))**(0.5),\n",
      "100%|██████████| 5/5 [00:01<00:00,  3.14it/s]\n",
      "  0%|          | 0/5 [00:00<?, ?it/s]/home/ak287/PNW_Seismic_Event_Classification/notebooks/../feature_extraction_scripts/physical_feature_extraction_scripts/seis_feature.py:101: RuntimeWarning: invalid value encountered in double_scalars\n",
      "  'Gamma': lambda: ((np.dot(self.freq, self.ft**(2)) / np.sum(self.ft**(2)))**(2) - ((np.dot(self.freq**(2), self.ft**(2)) / np.sum(self.ft**(2)))**(0.5))**(2))**(0.5),\n",
      "100%|██████████| 5/5 [00:01<00:00,  3.89it/s]\n",
      "  0%|          | 0/5 [00:00<?, ?it/s]/home/ak287/PNW_Seismic_Event_Classification/notebooks/../feature_extraction_scripts/physical_feature_extraction_scripts/seis_feature.py:101: RuntimeWarning: invalid value encountered in double_scalars\n",
      "  'Gamma': lambda: ((np.dot(self.freq, self.ft**(2)) / np.sum(self.ft**(2)))**(2) - ((np.dot(self.freq**(2), self.ft**(2)) / np.sum(self.ft**(2)))**(0.5))**(2))**(0.5),\n",
      "100%|██████████| 5/5 [00:01<00:00,  3.88it/s]\n"
     ]
    }
   ],
   "source": [
    "all_time_40 = compute_time(40)\n",
    "all_time_50 = compute_time(50)\n",
    "all_time_100 = compute_time(100)"
   ]
  },
  {
   "cell_type": "code",
   "execution_count": null,
   "id": "2c81c52d",
   "metadata": {},
   "outputs": [],
   "source": []
  },
  {
   "cell_type": "code",
   "execution_count": 242,
   "id": "4b408a36",
   "metadata": {},
   "outputs": [
    {
     "name": "stderr",
     "output_type": "stream",
     "text": [
      "100%|██████████| 5/5 [00:00<00:00, 1829.18it/s]\n",
      "100%|██████████| 5/5 [00:00<00:00, 2448.23it/s]\n",
      "100%|██████████| 5/5 [00:00<00:00, 2685.21it/s]\n",
      "100%|██████████| 5/5 [00:00<00:00, 2256.22it/s]\n",
      "  0%|          | 0/5 [00:00<?, ?it/s]/home/ak287/PNW_Seismic_Event_Classification/notebooks/../feature_extraction_scripts/physical_feature_extraction_scripts/seis_feature.py:101: RuntimeWarning: invalid value encountered in double_scalars\n",
      "  'Gamma': lambda: ((np.dot(self.freq, self.ft**(2)) / np.sum(self.ft**(2)))**(2) - ((np.dot(self.freq**(2), self.ft**(2)) / np.sum(self.ft**(2)))**(0.5))**(2))**(0.5),\n",
      " 40%|████      | 2/5 [00:00<00:00, 19.35it/s]"
     ]
    },
    {
     "name": "stdout",
     "output_type": "stream",
     "text": [
      "1600\n"
     ]
    },
    {
     "name": "stderr",
     "output_type": "stream",
     "text": [
      "100%|██████████| 5/5 [00:00<00:00, 22.07it/s]\n",
      "100%|██████████| 5/5 [00:00<00:00, 25.19it/s]\n",
      "100%|██████████| 5/5 [00:00<00:00, 26.37it/s]\n",
      "100%|██████████| 5/5 [00:00<00:00, 25.47it/s]\n",
      "100%|██████████| 5/5 [00:00<00:00, 2140.39it/s]\n",
      "100%|██████████| 5/5 [00:00<00:00, 2377.18it/s]\n",
      "100%|██████████| 5/5 [00:00<00:00, 2608.07it/s]\n",
      "100%|██████████| 5/5 [00:00<00:00, 2343.71it/s]\n",
      " 60%|██████    | 3/5 [00:00<00:00, 23.62it/s]"
     ]
    },
    {
     "name": "stdout",
     "output_type": "stream",
     "text": [
      "2000\n"
     ]
    },
    {
     "name": "stderr",
     "output_type": "stream",
     "text": [
      "100%|██████████| 5/5 [00:00<00:00, 23.68it/s]\n",
      "100%|██████████| 5/5 [00:00<00:00, 24.38it/s]\n",
      "100%|██████████| 5/5 [00:00<00:00, 24.79it/s]\n",
      "100%|██████████| 5/5 [00:00<00:00, 25.26it/s]\n",
      "100%|██████████| 5/5 [00:00<00:00, 1693.71it/s]\n",
      "100%|██████████| 5/5 [00:00<00:00, 1890.18it/s]\n",
      "100%|██████████| 5/5 [00:00<00:00, 2004.54it/s]\n",
      "100%|██████████| 5/5 [00:00<00:00, 1825.83it/s]\n",
      " 60%|██████    | 3/5 [00:00<00:00, 22.28it/s]"
     ]
    },
    {
     "name": "stdout",
     "output_type": "stream",
     "text": [
      "2800\n"
     ]
    },
    {
     "name": "stderr",
     "output_type": "stream",
     "text": [
      "100%|██████████| 5/5 [00:00<00:00, 22.37it/s]\n",
      "100%|██████████| 5/5 [00:00<00:00, 22.92it/s]\n",
      "100%|██████████| 5/5 [00:00<00:00, 23.29it/s]\n",
      "100%|██████████| 5/5 [00:00<00:00, 23.94it/s]\n",
      "100%|██████████| 5/5 [00:00<00:00, 1259.02it/s]\n",
      "100%|██████████| 5/5 [00:00<00:00, 1622.43it/s]\n",
      "100%|██████████| 5/5 [00:00<00:00, 1535.48it/s]\n",
      "100%|██████████| 5/5 [00:00<00:00, 1260.99it/s]\n",
      "100%|██████████| 5/5 [00:00<00:00, 28.80it/s]\n",
      "  0%|          | 0/5 [00:00<?, ?it/s]"
     ]
    },
    {
     "name": "stdout",
     "output_type": "stream",
     "text": [
      "1000\n"
     ]
    },
    {
     "name": "stderr",
     "output_type": "stream",
     "text": [
      "100%|██████████| 5/5 [00:00<00:00, 30.43it/s]\n",
      "100%|██████████| 5/5 [00:00<00:00, 30.62it/s]\n",
      "100%|██████████| 5/5 [00:00<00:00, 29.73it/s]\n",
      "100%|██████████| 5/5 [00:00<00:00, 1462.35it/s]\n",
      "100%|██████████| 5/5 [00:00<00:00, 1762.16it/s]\n",
      "100%|██████████| 5/5 [00:00<00:00, 1701.27it/s]\n",
      "100%|██████████| 5/5 [00:00<00:00, 1733.47it/s]\n",
      " 40%|████      | 2/5 [00:00<00:00, 16.58it/s]"
     ]
    },
    {
     "name": "stdout",
     "output_type": "stream",
     "text": [
      "6000\n"
     ]
    },
    {
     "name": "stderr",
     "output_type": "stream",
     "text": [
      "100%|██████████| 5/5 [00:00<00:00, 16.74it/s]\n",
      "100%|██████████| 5/5 [00:00<00:00, 17.27it/s]\n",
      "100%|██████████| 5/5 [00:00<00:00, 17.03it/s]\n",
      "100%|██████████| 5/5 [00:00<00:00, 17.35it/s]\n",
      "100%|██████████| 5/5 [00:00<00:00, 2094.22it/s]\n",
      "100%|██████████| 5/5 [00:00<00:00, 2407.75it/s]\n",
      "100%|██████████| 5/5 [00:00<00:00, 2699.38it/s]\n",
      "100%|██████████| 5/5 [00:00<00:00, 2283.48it/s]\n",
      "100%|██████████| 5/5 [00:00<00:00, 25.03it/s]"
     ]
    },
    {
     "name": "stdout",
     "output_type": "stream",
     "text": [
      "1600\n"
     ]
    },
    {
     "name": "stderr",
     "output_type": "stream",
     "text": [
      "\n",
      "100%|██████████| 5/5 [00:00<00:00, 26.00it/s]\n",
      "100%|██████████| 5/5 [00:00<00:00, 26.74it/s]\n",
      "100%|██████████| 5/5 [00:00<00:00, 26.12it/s]\n",
      "100%|██████████| 5/5 [00:00<00:00, 1911.37it/s]\n",
      "100%|██████████| 5/5 [00:00<00:00, 2392.92it/s]\n",
      "100%|██████████| 5/5 [00:00<00:00, 2663.39it/s]\n",
      "100%|██████████| 5/5 [00:00<00:00, 2255.97it/s]\n",
      " 60%|██████    | 3/5 [00:00<00:00, 24.01it/s]"
     ]
    },
    {
     "name": "stdout",
     "output_type": "stream",
     "text": [
      "2000\n"
     ]
    },
    {
     "name": "stderr",
     "output_type": "stream",
     "text": [
      "100%|██████████| 5/5 [00:00<00:00, 24.15it/s]\n",
      "100%|██████████| 5/5 [00:00<00:00, 25.16it/s]\n",
      "100%|██████████| 5/5 [00:00<00:00, 25.17it/s]\n",
      "100%|██████████| 5/5 [00:00<00:00, 25.42it/s]\n",
      "100%|██████████| 5/5 [00:00<00:00, 2126.50it/s]\n",
      "100%|██████████| 5/5 [00:00<00:00, 2427.26it/s]\n",
      "100%|██████████| 5/5 [00:00<00:00, 2640.58it/s]\n",
      "100%|██████████| 5/5 [00:00<00:00, 2294.23it/s]\n",
      " 60%|██████    | 3/5 [00:00<00:00, 22.69it/s]"
     ]
    },
    {
     "name": "stdout",
     "output_type": "stream",
     "text": [
      "2800\n"
     ]
    },
    {
     "name": "stderr",
     "output_type": "stream",
     "text": [
      "100%|██████████| 5/5 [00:00<00:00, 22.82it/s]\n",
      "100%|██████████| 5/5 [00:00<00:00, 23.19it/s]\n",
      "100%|██████████| 5/5 [00:00<00:00, 22.90it/s]\n",
      "100%|██████████| 5/5 [00:00<00:00, 23.75it/s]\n",
      "100%|██████████| 5/5 [00:00<00:00, 2063.52it/s]\n",
      "100%|██████████| 5/5 [00:00<00:00, 2399.49it/s]\n",
      "100%|██████████| 5/5 [00:00<00:00, 1691.25it/s]\n",
      "100%|██████████| 5/5 [00:00<00:00, 2240.55it/s]\n",
      "100%|██████████| 5/5 [00:00<00:00, 29.76it/s]\n",
      "  0%|          | 0/5 [00:00<?, ?it/s]"
     ]
    },
    {
     "name": "stdout",
     "output_type": "stream",
     "text": [
      "1000\n"
     ]
    },
    {
     "name": "stderr",
     "output_type": "stream",
     "text": [
      "100%|██████████| 5/5 [00:00<00:00, 29.94it/s]\n",
      "100%|██████████| 5/5 [00:00<00:00, 30.55it/s]\n",
      "100%|██████████| 5/5 [00:00<00:00, 29.68it/s]\n",
      "100%|██████████| 5/5 [00:00<00:00, 2041.22it/s]\n",
      "100%|██████████| 5/5 [00:00<00:00, 2343.97it/s]\n",
      "100%|██████████| 5/5 [00:00<00:00, 2588.44it/s]\n",
      "100%|██████████| 5/5 [00:00<00:00, 2282.49it/s]\n",
      " 40%|████      | 2/5 [00:00<00:00, 16.53it/s]"
     ]
    },
    {
     "name": "stdout",
     "output_type": "stream",
     "text": [
      "6000\n"
     ]
    },
    {
     "name": "stderr",
     "output_type": "stream",
     "text": [
      "100%|██████████| 5/5 [00:00<00:00, 16.68it/s]\n",
      "100%|██████████| 5/5 [00:00<00:00, 17.23it/s]\n",
      "100%|██████████| 5/5 [00:00<00:00, 16.86it/s]\n",
      "100%|██████████| 5/5 [00:00<00:00, 17.24it/s]\n",
      "100%|██████████| 5/5 [00:00<00:00, 2078.65it/s]\n",
      "100%|██████████| 5/5 [00:00<00:00, 2383.67it/s]\n",
      "100%|██████████| 5/5 [00:00<00:00, 2652.94it/s]\n",
      "100%|██████████| 5/5 [00:00<00:00, 2280.50it/s]\n",
      "100%|██████████| 5/5 [00:00<00:00, 25.69it/s]\n",
      "  0%|          | 0/5 [00:00<?, ?it/s]"
     ]
    },
    {
     "name": "stdout",
     "output_type": "stream",
     "text": [
      "1600\n"
     ]
    },
    {
     "name": "stderr",
     "output_type": "stream",
     "text": [
      "100%|██████████| 5/5 [00:00<00:00, 25.50it/s]\n",
      "100%|██████████| 5/5 [00:00<00:00, 25.53it/s]\n",
      "100%|██████████| 5/5 [00:00<00:00, 26.15it/s]\n",
      "100%|██████████| 5/5 [00:00<00:00, 2088.38it/s]\n",
      "100%|██████████| 5/5 [00:00<00:00, 2425.29it/s]\n",
      "100%|██████████| 5/5 [00:00<00:00, 2620.46it/s]\n",
      "100%|██████████| 5/5 [00:00<00:00, 2263.52it/s]\n",
      " 60%|██████    | 3/5 [00:00<00:00, 24.34it/s]"
     ]
    },
    {
     "name": "stdout",
     "output_type": "stream",
     "text": [
      "2000\n"
     ]
    },
    {
     "name": "stderr",
     "output_type": "stream",
     "text": [
      "100%|██████████| 5/5 [00:00<00:00, 24.40it/s]\n",
      "100%|██████████| 5/5 [00:00<00:00, 24.83it/s]\n",
      "100%|██████████| 5/5 [00:00<00:00, 24.62it/s]\n",
      "100%|██████████| 5/5 [00:00<00:00, 25.40it/s]\n",
      "100%|██████████| 5/5 [00:00<00:00, 1941.27it/s]\n",
      "100%|██████████| 5/5 [00:00<00:00, 2414.96it/s]\n",
      "100%|██████████| 5/5 [00:00<00:00, 2657.99it/s]\n",
      "100%|██████████| 5/5 [00:00<00:00, 2274.32it/s]\n",
      " 60%|██████    | 3/5 [00:00<00:00, 22.74it/s]"
     ]
    },
    {
     "name": "stdout",
     "output_type": "stream",
     "text": [
      "2800\n"
     ]
    },
    {
     "name": "stderr",
     "output_type": "stream",
     "text": [
      "100%|██████████| 5/5 [00:00<00:00, 22.87it/s]\n",
      "100%|██████████| 5/5 [00:00<00:00, 23.34it/s]\n",
      "100%|██████████| 5/5 [00:00<00:00, 23.36it/s]\n",
      "100%|██████████| 5/5 [00:00<00:00, 23.74it/s]\n",
      "100%|██████████| 5/5 [00:00<00:00, 2114.06it/s]\n",
      "100%|██████████| 5/5 [00:00<00:00, 2438.83it/s]\n",
      "100%|██████████| 5/5 [00:00<00:00, 2685.56it/s]\n",
      "100%|██████████| 5/5 [00:00<00:00, 2231.25it/s]\n",
      "100%|██████████| 5/5 [00:00<00:00, 29.43it/s]\n",
      "  0%|          | 0/5 [00:00<?, ?it/s]"
     ]
    },
    {
     "name": "stdout",
     "output_type": "stream",
     "text": [
      "1000\n"
     ]
    },
    {
     "name": "stderr",
     "output_type": "stream",
     "text": [
      "100%|██████████| 5/5 [00:00<00:00, 30.77it/s]\n",
      "100%|██████████| 5/5 [00:00<00:00, 28.87it/s]\n",
      "100%|██████████| 5/5 [00:00<00:00, 29.88it/s]\n",
      "100%|██████████| 5/5 [00:00<00:00, 2085.47it/s]\n",
      "100%|██████████| 5/5 [00:00<00:00, 2385.02it/s]\n",
      "100%|██████████| 5/5 [00:00<00:00, 2660.35it/s]\n",
      "100%|██████████| 5/5 [00:00<00:00, 2259.38it/s]\n",
      " 40%|████      | 2/5 [00:00<00:00, 16.69it/s]"
     ]
    },
    {
     "name": "stdout",
     "output_type": "stream",
     "text": [
      "6000\n"
     ]
    },
    {
     "name": "stderr",
     "output_type": "stream",
     "text": [
      "100%|██████████| 5/5 [00:00<00:00, 16.87it/s]\n",
      "100%|██████████| 5/5 [00:00<00:00, 17.15it/s]\n",
      "100%|██████████| 5/5 [00:00<00:00, 17.09it/s]\n",
      "100%|██████████| 5/5 [00:00<00:00, 17.54it/s]\n",
      "100%|██████████| 5/5 [00:00<00:00, 2127.14it/s]\n",
      "100%|██████████| 5/5 [00:00<00:00, 2392.64it/s]\n",
      "100%|██████████| 5/5 [00:00<00:00, 2635.94it/s]\n",
      "100%|██████████| 5/5 [00:00<00:00, 2284.48it/s]\n",
      "100%|██████████| 5/5 [00:00<00:00, 25.34it/s]\n",
      "  0%|          | 0/5 [00:00<?, ?it/s]"
     ]
    },
    {
     "name": "stdout",
     "output_type": "stream",
     "text": [
      "1600\n"
     ]
    },
    {
     "name": "stderr",
     "output_type": "stream",
     "text": [
      "100%|██████████| 5/5 [00:00<00:00, 25.46it/s]\n",
      "100%|██████████| 5/5 [00:00<00:00, 25.50it/s]\n",
      "100%|██████████| 5/5 [00:00<00:00, 25.74it/s]\n",
      "100%|██████████| 5/5 [00:00<00:00, 1873.96it/s]\n",
      "100%|██████████| 5/5 [00:00<00:00, 2424.73it/s]\n",
      "100%|██████████| 5/5 [00:00<00:00, 2653.95it/s]\n",
      "100%|██████████| 5/5 [00:00<00:00, 2245.10it/s]\n",
      " 60%|██████    | 3/5 [00:00<00:00, 24.11it/s]"
     ]
    },
    {
     "name": "stdout",
     "output_type": "stream",
     "text": [
      "2000\n"
     ]
    },
    {
     "name": "stderr",
     "output_type": "stream",
     "text": [
      "100%|██████████| 5/5 [00:00<00:00, 24.23it/s]\n",
      "100%|██████████| 5/5 [00:00<00:00, 24.84it/s]\n",
      "100%|██████████| 5/5 [00:00<00:00, 24.73it/s]\n",
      "100%|██████████| 5/5 [00:00<00:00, 25.46it/s]\n",
      "100%|██████████| 5/5 [00:00<00:00, 2066.36it/s]\n",
      "100%|██████████| 5/5 [00:00<00:00, 2380.42it/s]\n",
      "100%|██████████| 5/5 [00:00<00:00, 2631.64it/s]\n",
      "100%|██████████| 5/5 [00:00<00:00, 2256.46it/s]\n",
      " 60%|██████    | 3/5 [00:00<00:00, 22.81it/s]"
     ]
    },
    {
     "name": "stdout",
     "output_type": "stream",
     "text": [
      "2800\n"
     ]
    },
    {
     "name": "stderr",
     "output_type": "stream",
     "text": [
      "100%|██████████| 5/5 [00:00<00:00, 22.92it/s]\n",
      "100%|██████████| 5/5 [00:00<00:00, 23.21it/s]\n",
      "100%|██████████| 5/5 [00:00<00:00, 23.32it/s]\n",
      "100%|██████████| 5/5 [00:00<00:00, 23.82it/s]\n",
      "100%|██████████| 5/5 [00:00<00:00, 1982.37it/s]\n",
      "100%|██████████| 5/5 [00:00<00:00, 2460.00it/s]\n",
      "100%|██████████| 5/5 [00:00<00:00, 2655.63it/s]\n",
      "100%|██████████| 5/5 [00:00<00:00, 2273.09it/s]\n",
      "100%|██████████| 5/5 [00:00<00:00, 29.27it/s]\n",
      "  0%|          | 0/5 [00:00<?, ?it/s]"
     ]
    },
    {
     "name": "stdout",
     "output_type": "stream",
     "text": [
      "1000\n"
     ]
    },
    {
     "name": "stderr",
     "output_type": "stream",
     "text": [
      "100%|██████████| 5/5 [00:00<00:00, 30.59it/s]\n",
      "100%|██████████| 5/5 [00:00<00:00, 28.92it/s]\n",
      "100%|██████████| 5/5 [00:00<00:00, 29.82it/s]\n",
      "100%|██████████| 5/5 [00:00<00:00, 2061.08it/s]\n",
      "100%|██████████| 5/5 [00:00<00:00, 2364.32it/s]\n",
      "100%|██████████| 5/5 [00:00<00:00, 2625.71it/s]\n",
      "100%|██████████| 5/5 [00:00<00:00, 2222.74it/s]\n",
      " 40%|████      | 2/5 [00:00<00:00, 17.17it/s]"
     ]
    },
    {
     "name": "stdout",
     "output_type": "stream",
     "text": [
      "6000\n"
     ]
    },
    {
     "name": "stderr",
     "output_type": "stream",
     "text": [
      "100%|██████████| 5/5 [00:00<00:00, 17.08it/s]\n",
      "100%|██████████| 5/5 [00:00<00:00, 16.86it/s]\n",
      "100%|██████████| 5/5 [00:00<00:00, 16.96it/s]\n",
      "100%|██████████| 5/5 [00:00<00:00, 17.48it/s]\n",
      "100%|██████████| 5/5 [00:00<00:00, 2101.14it/s]\n",
      "100%|██████████| 5/5 [00:00<00:00, 2454.53it/s]\n",
      "100%|██████████| 5/5 [00:00<00:00, 2674.60it/s]\n",
      "100%|██████████| 5/5 [00:00<00:00, 2271.12it/s]\n",
      " 60%|██████    | 3/5 [00:00<00:00, 23.70it/s]"
     ]
    },
    {
     "name": "stdout",
     "output_type": "stream",
     "text": [
      "2000\n"
     ]
    },
    {
     "name": "stderr",
     "output_type": "stream",
     "text": [
      "100%|██████████| 5/5 [00:00<00:00, 23.76it/s]\n",
      "100%|██████████| 5/5 [00:00<00:00, 24.24it/s]\n",
      "100%|██████████| 5/5 [00:00<00:00, 24.26it/s]\n",
      "100%|██████████| 5/5 [00:00<00:00, 24.81it/s]\n",
      "100%|██████████| 5/5 [00:00<00:00, 2096.52it/s]\n",
      "100%|██████████| 5/5 [00:00<00:00, 2393.46it/s]\n",
      "100%|██████████| 5/5 [00:00<00:00, 2664.07it/s]\n",
      "100%|██████████| 5/5 [00:00<00:00, 2268.66it/s]\n",
      " 60%|██████    | 3/5 [00:00<00:00, 22.82it/s]"
     ]
    },
    {
     "name": "stdout",
     "output_type": "stream",
     "text": [
      "2500\n"
     ]
    },
    {
     "name": "stderr",
     "output_type": "stream",
     "text": [
      "100%|██████████| 5/5 [00:00<00:00, 22.90it/s]\n",
      "100%|██████████| 5/5 [00:00<00:00, 23.35it/s]\n",
      "100%|██████████| 5/5 [00:00<00:00, 23.32it/s]\n",
      "100%|██████████| 5/5 [00:00<00:00, 23.30it/s]\n",
      "100%|██████████| 5/5 [00:00<00:00, 2029.57it/s]\n",
      "100%|██████████| 5/5 [00:00<00:00, 2378.26it/s]\n",
      "100%|██████████| 5/5 [00:00<00:00, 2665.08it/s]\n",
      "100%|██████████| 5/5 [00:00<00:00, 2270.63it/s]\n",
      " 60%|██████    | 3/5 [00:00<00:00, 21.28it/s]"
     ]
    },
    {
     "name": "stdout",
     "output_type": "stream",
     "text": [
      "3500\n"
     ]
    },
    {
     "name": "stderr",
     "output_type": "stream",
     "text": [
      "100%|██████████| 5/5 [00:00<00:00, 21.35it/s]\n",
      "100%|██████████| 5/5 [00:00<00:00, 21.56it/s]\n",
      "100%|██████████| 5/5 [00:00<00:00, 21.78it/s]\n",
      "100%|██████████| 5/5 [00:00<00:00, 21.75it/s]\n",
      "100%|██████████| 5/5 [00:00<00:00, 2127.14it/s]\n",
      "100%|██████████| 5/5 [00:00<00:00, 2436.28it/s]\n",
      "100%|██████████| 5/5 [00:00<00:00, 2668.47it/s]\n",
      "100%|██████████| 5/5 [00:00<00:00, 2283.48it/s]\n",
      "100%|██████████| 5/5 [00:00<00:00, 27.21it/s]\n",
      "  0%|          | 0/5 [00:00<?, ?it/s]"
     ]
    },
    {
     "name": "stdout",
     "output_type": "stream",
     "text": [
      "1250\n"
     ]
    },
    {
     "name": "stderr",
     "output_type": "stream",
     "text": [
      "100%|██████████| 5/5 [00:00<00:00, 26.16it/s]\n",
      "100%|██████████| 5/5 [00:00<00:00, 26.53it/s]\n",
      "100%|██████████| 5/5 [00:00<00:00, 26.91it/s]\n",
      "100%|██████████| 5/5 [00:00<00:00, 1982.37it/s]\n",
      "100%|██████████| 5/5 [00:00<00:00, 2326.81it/s]\n",
      "100%|██████████| 5/5 [00:00<00:00, 2510.96it/s]\n",
      "100%|██████████| 5/5 [00:00<00:00, 2213.12it/s]\n",
      " 40%|████      | 2/5 [00:00<00:00, 14.52it/s]"
     ]
    },
    {
     "name": "stdout",
     "output_type": "stream",
     "text": [
      "7500\n"
     ]
    },
    {
     "name": "stderr",
     "output_type": "stream",
     "text": [
      "100%|██████████| 5/5 [00:00<00:00, 14.31it/s]\n",
      "100%|██████████| 5/5 [00:00<00:00, 14.50it/s]\n",
      "100%|██████████| 5/5 [00:00<00:00, 14.55it/s]\n",
      "100%|██████████| 5/5 [00:00<00:00, 14.52it/s]\n",
      "100%|██████████| 5/5 [00:00<00:00, 2055.83it/s]\n",
      "100%|██████████| 5/5 [00:00<00:00, 2370.73it/s]\n",
      "100%|██████████| 5/5 [00:00<00:00, 2650.60it/s]\n",
      "100%|██████████| 5/5 [00:00<00:00, 2308.62it/s]\n",
      " 60%|██████    | 3/5 [00:00<00:00, 23.75it/s]"
     ]
    },
    {
     "name": "stdout",
     "output_type": "stream",
     "text": [
      "2000\n"
     ]
    },
    {
     "name": "stderr",
     "output_type": "stream",
     "text": [
      "100%|██████████| 5/5 [00:00<00:00, 23.80it/s]\n",
      "100%|██████████| 5/5 [00:00<00:00, 23.99it/s]\n",
      "100%|██████████| 5/5 [00:00<00:00, 24.25it/s]\n",
      "100%|██████████| 5/5 [00:00<00:00, 24.82it/s]\n",
      "100%|██████████| 5/5 [00:00<00:00, 2097.78it/s]\n",
      "100%|██████████| 5/5 [00:00<00:00, 2404.99it/s]\n",
      "100%|██████████| 5/5 [00:00<00:00, 2641.91it/s]\n",
      "100%|██████████| 5/5 [00:00<00:00, 2278.03it/s]\n",
      " 60%|██████    | 3/5 [00:00<00:00, 22.41it/s]"
     ]
    },
    {
     "name": "stdout",
     "output_type": "stream",
     "text": [
      "2500\n"
     ]
    },
    {
     "name": "stderr",
     "output_type": "stream",
     "text": [
      "100%|██████████| 5/5 [00:00<00:00, 22.59it/s]\n",
      "100%|██████████| 5/5 [00:00<00:00, 23.22it/s]\n",
      "100%|██████████| 5/5 [00:00<00:00, 23.30it/s]\n",
      "100%|██████████| 5/5 [00:00<00:00, 23.34it/s]\n",
      "100%|██████████| 5/5 [00:00<00:00, 1901.32it/s]\n",
      "100%|██████████| 5/5 [00:00<00:00, 2403.61it/s]\n",
      "100%|██████████| 5/5 [00:00<00:00, 2611.00it/s]\n",
      "100%|██████████| 5/5 [00:00<00:00, 2254.76it/s]\n",
      " 60%|██████    | 3/5 [00:00<00:00, 21.16it/s]"
     ]
    },
    {
     "name": "stdout",
     "output_type": "stream",
     "text": [
      "3500\n"
     ]
    },
    {
     "name": "stderr",
     "output_type": "stream",
     "text": [
      "100%|██████████| 5/5 [00:00<00:00, 21.27it/s]\n",
      "100%|██████████| 5/5 [00:00<00:00, 21.68it/s]\n",
      "100%|██████████| 5/5 [00:00<00:00, 21.78it/s]\n",
      "100%|██████████| 5/5 [00:00<00:00, 21.71it/s]\n",
      "100%|██████████| 5/5 [00:00<00:00, 2115.56it/s]\n",
      "100%|██████████| 5/5 [00:00<00:00, 2466.66it/s]\n",
      "100%|██████████| 5/5 [00:00<00:00, 2662.37it/s]\n",
      "100%|██████████| 5/5 [00:00<00:00, 2319.09it/s]\n",
      "100%|██████████| 5/5 [00:00<00:00, 27.10it/s]\n",
      "  0%|          | 0/5 [00:00<?, ?it/s]"
     ]
    },
    {
     "name": "stdout",
     "output_type": "stream",
     "text": [
      "1250\n"
     ]
    },
    {
     "name": "stderr",
     "output_type": "stream",
     "text": [
      "100%|██████████| 5/5 [00:00<00:00, 26.00it/s]\n",
      "100%|██████████| 5/5 [00:00<00:00, 26.74it/s]\n",
      "100%|██████████| 5/5 [00:00<00:00, 26.70it/s]\n",
      "100%|██████████| 5/5 [00:00<00:00, 2093.80it/s]\n",
      "100%|██████████| 5/5 [00:00<00:00, 2439.40it/s]\n",
      "100%|██████████| 5/5 [00:00<00:00, 2599.99it/s]\n",
      "100%|██████████| 5/5 [00:00<00:00, 2248.72it/s]\n",
      " 40%|████      | 2/5 [00:00<00:00, 14.28it/s]"
     ]
    },
    {
     "name": "stdout",
     "output_type": "stream",
     "text": [
      "7500\n"
     ]
    },
    {
     "name": "stderr",
     "output_type": "stream",
     "text": [
      "100%|██████████| 5/5 [00:00<00:00, 14.28it/s]\n",
      "100%|██████████| 5/5 [00:00<00:00, 14.56it/s]\n",
      "100%|██████████| 5/5 [00:00<00:00, 14.41it/s]\n",
      "100%|██████████| 5/5 [00:00<00:00, 14.45it/s]\n",
      "100%|██████████| 5/5 [00:00<00:00, 2087.55it/s]\n",
      "100%|██████████| 5/5 [00:00<00:00, 2389.64it/s]\n",
      "100%|██████████| 5/5 [00:00<00:00, 2620.46it/s]\n",
      "100%|██████████| 5/5 [00:00<00:00, 2270.63it/s]\n",
      " 60%|██████    | 3/5 [00:00<00:00, 23.72it/s]"
     ]
    },
    {
     "name": "stdout",
     "output_type": "stream",
     "text": [
      "2000\n"
     ]
    },
    {
     "name": "stderr",
     "output_type": "stream",
     "text": [
      "100%|██████████| 5/5 [00:00<00:00, 24.34it/s]\n",
      "100%|██████████| 5/5 [00:00<00:00, 24.29it/s]\n",
      "100%|██████████| 5/5 [00:00<00:00, 24.17it/s]\n",
      "100%|██████████| 5/5 [00:00<00:00, 24.68it/s]\n",
      "100%|██████████| 5/5 [00:00<00:00, 2123.27it/s]\n",
      "100%|██████████| 5/5 [00:00<00:00, 2398.12it/s]\n",
      "100%|██████████| 5/5 [00:00<00:00, 2044.21it/s]\n",
      "100%|██████████| 5/5 [00:00<00:00, 2287.47it/s]\n",
      " 60%|██████    | 3/5 [00:00<00:00, 22.79it/s]"
     ]
    },
    {
     "name": "stdout",
     "output_type": "stream",
     "text": [
      "2500\n"
     ]
    },
    {
     "name": "stderr",
     "output_type": "stream",
     "text": [
      "100%|██████████| 5/5 [00:00<00:00, 22.90it/s]\n",
      "100%|██████████| 5/5 [00:00<00:00, 23.22it/s]\n",
      "100%|██████████| 5/5 [00:00<00:00, 23.31it/s]\n",
      "100%|██████████| 5/5 [00:00<00:00, 23.37it/s]\n",
      "100%|██████████| 5/5 [00:00<00:00, 2085.47it/s]\n",
      "100%|██████████| 5/5 [00:00<00:00, 2430.64it/s]\n",
      "100%|██████████| 5/5 [00:00<00:00, 2624.39it/s]\n",
      "100%|██████████| 5/5 [00:00<00:00, 2280.26it/s]\n",
      " 60%|██████    | 3/5 [00:00<00:00, 21.24it/s]"
     ]
    },
    {
     "name": "stdout",
     "output_type": "stream",
     "text": [
      "3500\n"
     ]
    },
    {
     "name": "stderr",
     "output_type": "stream",
     "text": [
      "100%|██████████| 5/5 [00:00<00:00, 21.28it/s]\n",
      "100%|██████████| 5/5 [00:00<00:00, 21.45it/s]\n",
      "100%|██████████| 5/5 [00:00<00:00, 21.60it/s]\n",
      "100%|██████████| 5/5 [00:00<00:00, 21.73it/s]\n",
      "100%|██████████| 5/5 [00:00<00:00, 2092.34it/s]\n",
      "100%|██████████| 5/5 [00:00<00:00, 2461.73it/s]\n",
      "100%|██████████| 5/5 [00:00<00:00, 2643.25it/s]\n",
      "100%|██████████| 5/5 [00:00<00:00, 2299.76it/s]\n",
      "100%|██████████| 5/5 [00:00<00:00, 27.17it/s]\n",
      "  0%|          | 0/5 [00:00<?, ?it/s]"
     ]
    },
    {
     "name": "stdout",
     "output_type": "stream",
     "text": [
      "1250\n"
     ]
    },
    {
     "name": "stderr",
     "output_type": "stream",
     "text": [
      "100%|██████████| 5/5 [00:00<00:00, 27.37it/s]\n",
      "100%|██████████| 5/5 [00:00<00:00, 27.31it/s]\n",
      "100%|██████████| 5/5 [00:00<00:00, 26.77it/s]\n",
      "100%|██████████| 5/5 [00:00<00:00, 2068.61it/s]\n",
      "100%|██████████| 5/5 [00:00<00:00, 2449.09it/s]\n",
      "100%|██████████| 5/5 [00:00<00:00, 2633.95it/s]\n",
      "100%|██████████| 5/5 [00:00<00:00, 2227.46it/s]\n",
      " 40%|████      | 2/5 [00:00<00:00, 14.11it/s]"
     ]
    },
    {
     "name": "stdout",
     "output_type": "stream",
     "text": [
      "7500\n"
     ]
    },
    {
     "name": "stderr",
     "output_type": "stream",
     "text": [
      "100%|██████████| 5/5 [00:00<00:00, 14.28it/s]\n",
      "100%|██████████| 5/5 [00:00<00:00, 14.33it/s]\n",
      "100%|██████████| 5/5 [00:00<00:00, 14.40it/s]\n",
      "100%|██████████| 5/5 [00:00<00:00, 14.21it/s]\n",
      "100%|██████████| 5/5 [00:00<00:00, 1917.66it/s]\n",
      "100%|██████████| 5/5 [00:00<00:00, 2473.64it/s]\n",
      "100%|██████████| 5/5 [00:00<00:00, 2709.50it/s]\n",
      "100%|██████████| 5/5 [00:00<00:00, 2284.73it/s]\n",
      " 60%|██████    | 3/5 [00:00<00:00, 23.61it/s]"
     ]
    },
    {
     "name": "stdout",
     "output_type": "stream",
     "text": [
      "2000\n"
     ]
    },
    {
     "name": "stderr",
     "output_type": "stream",
     "text": [
      "100%|██████████| 5/5 [00:00<00:00, 24.25it/s]\n",
      "100%|██████████| 5/5 [00:00<00:00, 24.18it/s]\n",
      "100%|██████████| 5/5 [00:00<00:00, 24.26it/s]\n",
      "100%|██████████| 5/5 [00:00<00:00, 24.85it/s]\n",
      "100%|██████████| 5/5 [00:00<00:00, 2059.46it/s]\n",
      "100%|██████████| 5/5 [00:00<00:00, 2417.47it/s]\n",
      "100%|██████████| 5/5 [00:00<00:00, 2644.58it/s]\n",
      "100%|██████████| 5/5 [00:00<00:00, 2265.23it/s]\n",
      " 60%|██████    | 3/5 [00:00<00:00, 22.73it/s]"
     ]
    },
    {
     "name": "stdout",
     "output_type": "stream",
     "text": [
      "2500\n"
     ]
    },
    {
     "name": "stderr",
     "output_type": "stream",
     "text": [
      "100%|██████████| 5/5 [00:00<00:00, 22.86it/s]\n",
      "100%|██████████| 5/5 [00:00<00:00, 23.27it/s]\n",
      "100%|██████████| 5/5 [00:00<00:00, 23.20it/s]\n",
      "100%|██████████| 5/5 [00:00<00:00, 23.37it/s]\n",
      "100%|██████████| 5/5 [00:00<00:00, 1974.53it/s]\n",
      "100%|██████████| 5/5 [00:00<00:00, 2461.16it/s]\n",
      "100%|██████████| 5/5 [00:00<00:00, 2630.32it/s]\n",
      "100%|██████████| 5/5 [00:00<00:00, 2274.32it/s]\n",
      " 60%|██████    | 3/5 [00:00<00:00, 21.13it/s]"
     ]
    },
    {
     "name": "stdout",
     "output_type": "stream",
     "text": [
      "3500\n"
     ]
    },
    {
     "name": "stderr",
     "output_type": "stream",
     "text": [
      "100%|██████████| 5/5 [00:00<00:00, 21.25it/s]\n",
      "100%|██████████| 5/5 [00:00<00:00, 21.55it/s]\n",
      "100%|██████████| 5/5 [00:00<00:00, 21.70it/s]\n",
      "100%|██████████| 5/5 [00:00<00:00, 21.59it/s]\n",
      "100%|██████████| 5/5 [00:00<00:00, 2105.57it/s]\n",
      "100%|██████████| 5/5 [00:00<00:00, 2475.68it/s]\n",
      "100%|██████████| 5/5 [00:00<00:00, 2667.11it/s]\n",
      "100%|██████████| 5/5 [00:00<00:00, 2302.54it/s]\n",
      "100%|██████████| 5/5 [00:00<00:00, 27.18it/s]\n",
      "  0%|          | 0/5 [00:00<?, ?it/s]"
     ]
    },
    {
     "name": "stdout",
     "output_type": "stream",
     "text": [
      "1250\n"
     ]
    },
    {
     "name": "stderr",
     "output_type": "stream",
     "text": [
      "100%|██████████| 5/5 [00:00<00:00, 27.68it/s]\n",
      "100%|██████████| 5/5 [00:00<00:00, 27.55it/s]\n",
      "100%|██████████| 5/5 [00:00<00:00, 26.80it/s]\n",
      "100%|██████████| 5/5 [00:00<00:00, 2090.25it/s]\n",
      "100%|██████████| 5/5 [00:00<00:00, 2485.96it/s]\n",
      "100%|██████████| 5/5 [00:00<00:00, 2608.07it/s]\n",
      "100%|██████████| 5/5 [00:00<00:00, 2241.50it/s]\n",
      " 40%|████      | 2/5 [00:00<00:00, 14.19it/s]"
     ]
    },
    {
     "name": "stdout",
     "output_type": "stream",
     "text": [
      "7500\n"
     ]
    },
    {
     "name": "stderr",
     "output_type": "stream",
     "text": [
      "100%|██████████| 5/5 [00:00<00:00, 14.22it/s]\n",
      "100%|██████████| 5/5 [00:00<00:00, 14.46it/s]\n",
      "100%|██████████| 5/5 [00:00<00:00, 14.47it/s]\n",
      "100%|██████████| 5/5 [00:00<00:00, 14.50it/s]\n",
      "100%|██████████| 5/5 [00:00<00:00, 2096.94it/s]\n",
      "100%|██████████| 5/5 [00:00<00:00, 2477.15it/s]\n",
      "100%|██████████| 5/5 [00:00<00:00, 2591.00it/s]\n",
      "100%|██████████| 5/5 [00:00<00:00, 2227.93it/s]\n",
      " 60%|██████    | 3/5 [00:00<00:00, 20.62it/s]"
     ]
    },
    {
     "name": "stdout",
     "output_type": "stream",
     "text": [
      "4000\n"
     ]
    },
    {
     "name": "stderr",
     "output_type": "stream",
     "text": [
      "100%|██████████| 5/5 [00:00<00:00, 20.66it/s]\n",
      "100%|██████████| 5/5 [00:00<00:00, 20.86it/s]\n",
      "100%|██████████| 5/5 [00:00<00:00, 20.88it/s]\n",
      "100%|██████████| 5/5 [00:00<00:00, 21.39it/s]\n",
      "100%|██████████| 5/5 [00:00<00:00, 2105.79it/s]\n",
      "100%|██████████| 5/5 [00:00<00:00, 2495.42it/s]\n",
      "100%|██████████| 5/5 [00:00<00:00, 2636.93it/s]\n",
      "100%|██████████| 5/5 [00:00<00:00, 2340.05it/s]\n",
      " 40%|████      | 2/5 [00:00<00:00, 18.12it/s]"
     ]
    },
    {
     "name": "stdout",
     "output_type": "stream",
     "text": [
      "5000\n"
     ]
    },
    {
     "name": "stderr",
     "output_type": "stream",
     "text": [
      "100%|██████████| 5/5 [00:00<00:00, 18.26it/s]\n",
      "100%|██████████| 5/5 [00:00<00:00, 18.55it/s]\n",
      "100%|██████████| 5/5 [00:00<00:00, 18.58it/s]\n",
      "100%|██████████| 5/5 [00:00<00:00, 19.14it/s]\n",
      "100%|██████████| 5/5 [00:00<00:00, 2100.09it/s]\n",
      "100%|██████████| 5/5 [00:00<00:00, 2466.66it/s]\n",
      "100%|██████████| 5/5 [00:00<00:00, 2635.61it/s]\n",
      "100%|██████████| 5/5 [00:00<00:00, 2271.37it/s]\n",
      " 40%|████      | 2/5 [00:00<00:00, 15.18it/s]"
     ]
    },
    {
     "name": "stdout",
     "output_type": "stream",
     "text": [
      "7000\n"
     ]
    },
    {
     "name": "stderr",
     "output_type": "stream",
     "text": [
      "100%|██████████| 5/5 [00:00<00:00, 15.27it/s]\n",
      "100%|██████████| 5/5 [00:00<00:00, 15.03it/s]\n",
      "100%|██████████| 5/5 [00:00<00:00, 15.25it/s]\n",
      "100%|██████████| 5/5 [00:00<00:00, 15.00it/s]\n",
      "100%|██████████| 5/5 [00:00<00:00, 1932.68it/s]\n",
      "100%|██████████| 5/5 [00:00<00:00, 2500.78it/s]\n",
      "100%|██████████| 5/5 [00:00<00:00, 2665.76it/s]\n",
      "100%|██████████| 5/5 [00:00<00:00, 2320.12it/s]\n",
      " 60%|██████    | 3/5 [00:00<00:00, 22.86it/s]"
     ]
    },
    {
     "name": "stdout",
     "output_type": "stream",
     "text": [
      "2500\n"
     ]
    },
    {
     "name": "stderr",
     "output_type": "stream",
     "text": [
      "100%|██████████| 5/5 [00:00<00:00, 22.99it/s]\n",
      "100%|██████████| 5/5 [00:00<00:00, 23.13it/s]\n",
      "100%|██████████| 5/5 [00:00<00:00, 23.40it/s]\n",
      "100%|██████████| 5/5 [00:00<00:00, 23.99it/s]\n",
      "100%|██████████| 5/5 [00:00<00:00, 2081.75it/s]\n",
      "100%|██████████| 5/5 [00:00<00:00, 2412.46it/s]\n",
      "100%|██████████| 5/5 [00:00<00:00, 2595.81it/s]\n",
      "100%|██████████| 5/5 [00:00<00:00, 2305.07it/s]\n",
      "  0%|          | 0/5 [00:00<?, ?it/s]"
     ]
    },
    {
     "name": "stdout",
     "output_type": "stream",
     "text": [
      "15000\n"
     ]
    },
    {
     "name": "stderr",
     "output_type": "stream",
     "text": [
      "100%|██████████| 5/5 [00:01<00:00,  3.80it/s]\n",
      "100%|██████████| 5/5 [00:01<00:00,  3.28it/s]\n",
      "100%|██████████| 5/5 [00:01<00:00,  3.26it/s]\n",
      "100%|██████████| 5/5 [00:01<00:00,  3.16it/s]\n",
      "100%|██████████| 5/5 [00:00<00:00, 1777.10it/s]\n",
      "100%|██████████| 5/5 [00:00<00:00, 2457.70it/s]\n",
      "100%|██████████| 5/5 [00:00<00:00, 2579.52it/s]\n",
      "100%|██████████| 5/5 [00:00<00:00, 2256.22it/s]\n",
      " 60%|██████    | 3/5 [00:00<00:00, 20.24it/s]"
     ]
    },
    {
     "name": "stdout",
     "output_type": "stream",
     "text": [
      "4000\n"
     ]
    },
    {
     "name": "stderr",
     "output_type": "stream",
     "text": [
      "100%|██████████| 5/5 [00:00<00:00, 20.35it/s]\n",
      "100%|██████████| 5/5 [00:00<00:00, 20.70it/s]\n",
      "100%|██████████| 5/5 [00:00<00:00, 20.79it/s]\n",
      "100%|██████████| 5/5 [00:00<00:00, 21.07it/s]\n",
      "100%|██████████| 5/5 [00:00<00:00, 2081.13it/s]\n",
      "100%|██████████| 5/5 [00:00<00:00, 2388.01it/s]\n",
      "100%|██████████| 5/5 [00:00<00:00, 2599.67it/s]\n",
      "100%|██████████| 5/5 [00:00<00:00, 2287.47it/s]\n",
      " 40%|████      | 2/5 [00:00<00:00, 18.09it/s]"
     ]
    },
    {
     "name": "stdout",
     "output_type": "stream",
     "text": [
      "5000\n"
     ]
    },
    {
     "name": "stderr",
     "output_type": "stream",
     "text": [
      "100%|██████████| 5/5 [00:00<00:00, 18.23it/s]\n",
      "100%|██████████| 5/5 [00:00<00:00, 18.65it/s]\n",
      "100%|██████████| 5/5 [00:00<00:00, 18.51it/s]\n",
      "100%|██████████| 5/5 [00:00<00:00, 18.78it/s]\n",
      "100%|██████████| 5/5 [00:00<00:00, 2058.45it/s]\n",
      "100%|██████████| 5/5 [00:00<00:00, 2409.69it/s]\n",
      "100%|██████████| 5/5 [00:00<00:00, 2604.19it/s]\n",
      "100%|██████████| 5/5 [00:00<00:00, 2267.19it/s]\n",
      " 40%|████      | 2/5 [00:00<00:00, 15.05it/s]"
     ]
    },
    {
     "name": "stdout",
     "output_type": "stream",
     "text": [
      "7000\n"
     ]
    },
    {
     "name": "stderr",
     "output_type": "stream",
     "text": [
      "100%|██████████| 5/5 [00:00<00:00, 15.17it/s]\n",
      "100%|██████████| 5/5 [00:00<00:00, 14.99it/s]\n",
      "100%|██████████| 5/5 [00:00<00:00, 15.06it/s]\n",
      "100%|██████████| 5/5 [00:00<00:00, 15.35it/s]\n",
      "100%|██████████| 5/5 [00:00<00:00, 2115.13it/s]\n",
      "100%|██████████| 5/5 [00:00<00:00, 2317.04it/s]\n",
      "100%|██████████| 5/5 [00:00<00:00, 2623.74it/s]\n",
      "100%|██████████| 5/5 [00:00<00:00, 2238.16it/s]\n",
      " 60%|██████    | 3/5 [00:00<00:00, 21.96it/s]"
     ]
    },
    {
     "name": "stdout",
     "output_type": "stream",
     "text": [
      "2500\n"
     ]
    },
    {
     "name": "stderr",
     "output_type": "stream",
     "text": [
      "100%|██████████| 5/5 [00:00<00:00, 22.29it/s]\n",
      "100%|██████████| 5/5 [00:00<00:00, 23.06it/s]\n",
      "100%|██████████| 5/5 [00:00<00:00, 23.31it/s]\n",
      "100%|██████████| 5/5 [00:00<00:00, 23.83it/s]\n",
      "100%|██████████| 5/5 [00:00<00:00, 1990.46it/s]\n",
      "100%|██████████| 5/5 [00:00<00:00, 2405.54it/s]\n",
      "100%|██████████| 5/5 [00:00<00:00, 2613.27it/s]\n",
      "100%|██████████| 5/5 [00:00<00:00, 2201.73it/s]\n",
      "  0%|          | 0/5 [00:00<?, ?it/s]"
     ]
    },
    {
     "name": "stdout",
     "output_type": "stream",
     "text": [
      "15000\n"
     ]
    },
    {
     "name": "stderr",
     "output_type": "stream",
     "text": [
      "100%|██████████| 5/5 [00:01<00:00,  3.57it/s]\n",
      "100%|██████████| 5/5 [00:01<00:00,  3.42it/s]\n",
      "100%|██████████| 5/5 [00:01<00:00,  3.09it/s]\n",
      "100%|██████████| 5/5 [00:01<00:00,  3.02it/s]\n",
      "100%|██████████| 5/5 [00:00<00:00, 1262.36it/s]\n",
      "100%|██████████| 5/5 [00:00<00:00, 2517.29it/s]\n",
      "100%|██████████| 5/5 [00:00<00:00, 2529.74it/s]\n",
      "100%|██████████| 5/5 [00:00<00:00, 2143.01it/s]\n",
      " 40%|████      | 2/5 [00:00<00:00, 19.75it/s]"
     ]
    },
    {
     "name": "stdout",
     "output_type": "stream",
     "text": [
      "4000\n"
     ]
    },
    {
     "name": "stderr",
     "output_type": "stream",
     "text": [
      "100%|██████████| 5/5 [00:00<00:00, 19.81it/s]\n",
      "100%|██████████| 5/5 [00:00<00:00, 20.36it/s]\n",
      "100%|██████████| 5/5 [00:00<00:00, 20.73it/s]\n",
      "100%|██████████| 5/5 [00:00<00:00, 20.77it/s]\n",
      "100%|██████████| 5/5 [00:00<00:00, 1766.02it/s]\n",
      "100%|██████████| 5/5 [00:00<00:00, 2525.78it/s]\n",
      "100%|██████████| 5/5 [00:00<00:00, 2653.95it/s]\n",
      "100%|██████████| 5/5 [00:00<00:00, 2196.20it/s]\n",
      " 40%|████      | 2/5 [00:00<00:00, 17.91it/s]"
     ]
    },
    {
     "name": "stdout",
     "output_type": "stream",
     "text": [
      "5000\n"
     ]
    },
    {
     "name": "stderr",
     "output_type": "stream",
     "text": [
      "100%|██████████| 5/5 [00:00<00:00, 18.32it/s]\n",
      "100%|██████████| 5/5 [00:00<00:00, 18.80it/s]\n",
      "100%|██████████| 5/5 [00:00<00:00, 18.65it/s]\n",
      "100%|██████████| 5/5 [00:00<00:00, 18.70it/s]\n",
      "100%|██████████| 5/5 [00:00<00:00, 2161.34it/s]\n",
      "100%|██████████| 5/5 [00:00<00:00, 2526.38it/s]\n",
      "100%|██████████| 5/5 [00:00<00:00, 2707.40it/s]\n",
      "100%|██████████| 5/5 [00:00<00:00, 2373.96it/s]\n",
      " 40%|████      | 2/5 [00:00<00:00, 14.76it/s]"
     ]
    },
    {
     "name": "stdout",
     "output_type": "stream",
     "text": [
      "7000\n"
     ]
    },
    {
     "name": "stderr",
     "output_type": "stream",
     "text": [
      "100%|██████████| 5/5 [00:00<00:00, 14.95it/s]\n",
      "100%|██████████| 5/5 [00:00<00:00, 15.34it/s]\n",
      "100%|██████████| 5/5 [00:00<00:00, 15.24it/s]\n",
      "100%|██████████| 5/5 [00:00<00:00, 15.14it/s]\n",
      "100%|██████████| 5/5 [00:00<00:00, 1806.33it/s]\n",
      "100%|██████████| 5/5 [00:00<00:00, 2538.00it/s]\n",
      "100%|██████████| 5/5 [00:00<00:00, 2628.34it/s]\n",
      "100%|██████████| 5/5 [00:00<00:00, 2130.82it/s]\n",
      " 60%|██████    | 3/5 [00:00<00:00, 21.06it/s]"
     ]
    },
    {
     "name": "stdout",
     "output_type": "stream",
     "text": [
      "2500\n"
     ]
    },
    {
     "name": "stderr",
     "output_type": "stream",
     "text": [
      "100%|██████████| 5/5 [00:00<00:00, 21.80it/s]\n",
      "100%|██████████| 5/5 [00:00<00:00, 23.47it/s]\n",
      "100%|██████████| 5/5 [00:00<00:00, 23.49it/s]\n",
      "100%|██████████| 5/5 [00:00<00:00, 23.50it/s]\n",
      "100%|██████████| 5/5 [00:00<00:00, 2179.09it/s]\n",
      "100%|██████████| 5/5 [00:00<00:00, 2438.27it/s]\n",
      "100%|██████████| 5/5 [00:00<00:00, 2702.17it/s]\n",
      "100%|██████████| 5/5 [00:00<00:00, 2337.70it/s]\n",
      "  0%|          | 0/5 [00:00<?, ?it/s]"
     ]
    },
    {
     "name": "stdout",
     "output_type": "stream",
     "text": [
      "15000\n"
     ]
    },
    {
     "name": "stderr",
     "output_type": "stream",
     "text": [
      "100%|██████████| 5/5 [00:01<00:00,  3.33it/s]\n",
      "100%|██████████| 5/5 [00:01<00:00,  3.40it/s]\n",
      "100%|██████████| 5/5 [00:01<00:00,  3.23it/s]\n",
      "100%|██████████| 5/5 [00:01<00:00,  3.15it/s]\n",
      "100%|██████████| 5/5 [00:00<00:00, 1653.51it/s]\n",
      "100%|██████████| 5/5 [00:00<00:00, 2515.78it/s]\n",
      "100%|██████████| 5/5 [00:00<00:00, 2685.56it/s]\n",
      "100%|██████████| 5/5 [00:00<00:00, 2334.32it/s]\n",
      " 60%|██████    | 3/5 [00:00<00:00, 21.45it/s]"
     ]
    },
    {
     "name": "stdout",
     "output_type": "stream",
     "text": [
      "4000\n"
     ]
    },
    {
     "name": "stderr",
     "output_type": "stream",
     "text": [
      "100%|██████████| 5/5 [00:00<00:00, 21.66it/s]\n",
      "100%|██████████| 5/5 [00:00<00:00, 21.20it/s]\n",
      "100%|██████████| 5/5 [00:00<00:00, 21.47it/s]\n",
      "100%|██████████| 5/5 [00:00<00:00, 21.58it/s]\n",
      "100%|██████████| 5/5 [00:00<00:00, 1982.00it/s]\n",
      "100%|██████████| 5/5 [00:00<00:00, 2536.47it/s]\n",
      "100%|██████████| 5/5 [00:00<00:00, 2629.33it/s]\n",
      "100%|██████████| 5/5 [00:00<00:00, 2303.80it/s]\n",
      " 40%|████      | 2/5 [00:00<00:00, 17.94it/s]"
     ]
    },
    {
     "name": "stdout",
     "output_type": "stream",
     "text": [
      "5000\n"
     ]
    },
    {
     "name": "stderr",
     "output_type": "stream",
     "text": [
      "100%|██████████| 5/5 [00:00<00:00, 18.32it/s]\n",
      "100%|██████████| 5/5 [00:00<00:00, 18.63it/s]\n",
      "100%|██████████| 5/5 [00:00<00:00, 18.72it/s]\n",
      "100%|██████████| 5/5 [00:00<00:00, 19.18it/s]\n",
      "100%|██████████| 5/5 [00:00<00:00, 2074.54it/s]\n",
      "100%|██████████| 5/5 [00:00<00:00, 2522.13it/s]\n",
      "100%|██████████| 5/5 [00:00<00:00, 2675.62it/s]\n",
      "100%|██████████| 5/5 [00:00<00:00, 2314.23it/s]\n",
      " 40%|████      | 2/5 [00:00<00:00, 14.92it/s]"
     ]
    },
    {
     "name": "stdout",
     "output_type": "stream",
     "text": [
      "7000\n"
     ]
    },
    {
     "name": "stderr",
     "output_type": "stream",
     "text": [
      "100%|██████████| 5/5 [00:00<00:00, 15.04it/s]\n",
      "100%|██████████| 5/5 [00:00<00:00, 15.53it/s]\n",
      "100%|██████████| 5/5 [00:00<00:00, 15.29it/s]\n",
      "100%|██████████| 5/5 [00:00<00:00, 15.37it/s]\n",
      "100%|██████████| 5/5 [00:00<00:00, 2093.59it/s]\n",
      "100%|██████████| 5/5 [00:00<00:00, 2508.56it/s]\n",
      "100%|██████████| 5/5 [00:00<00:00, 2710.55it/s]\n",
      "100%|██████████| 5/5 [00:00<00:00, 2359.53it/s]\n",
      " 60%|██████    | 3/5 [00:00<00:00, 22.71it/s]"
     ]
    },
    {
     "name": "stdout",
     "output_type": "stream",
     "text": [
      "2500\n"
     ]
    },
    {
     "name": "stderr",
     "output_type": "stream",
     "text": [
      "100%|██████████| 5/5 [00:00<00:00, 22.82it/s]\n",
      "100%|██████████| 5/5 [00:00<00:00, 22.98it/s]\n",
      "100%|██████████| 5/5 [00:00<00:00, 23.18it/s]\n",
      "100%|██████████| 5/5 [00:00<00:00, 23.64it/s]\n",
      "100%|██████████| 5/5 [00:00<00:00, 1900.63it/s]\n",
      "100%|██████████| 5/5 [00:00<00:00, 2399.76it/s]\n",
      "100%|██████████| 5/5 [00:00<00:00, 2551.28it/s]\n",
      "100%|██████████| 5/5 [00:00<00:00, 2299.76it/s]\n",
      "  0%|          | 0/5 [00:00<?, ?it/s]"
     ]
    },
    {
     "name": "stdout",
     "output_type": "stream",
     "text": [
      "15000\n"
     ]
    },
    {
     "name": "stderr",
     "output_type": "stream",
     "text": [
      "100%|██████████| 5/5 [00:01<00:00,  2.91it/s]\n",
      "100%|██████████| 5/5 [00:01<00:00,  3.07it/s]\n",
      "100%|██████████| 5/5 [00:01<00:00,  3.04it/s]\n",
      "100%|██████████| 5/5 [00:01<00:00,  2.87it/s]\n"
     ]
    }
   ],
   "source": [
    "all_time_40_sc = compute_time_single_core(40, nos = 5)\n",
    "all_time_50_sc = compute_time_single_core(50, nos = 5)\n",
    "all_time_100_sc = compute_time_single_core(100, nos = 5)"
   ]
  },
  {
   "cell_type": "code",
   "execution_count": null,
   "id": "8ffafe96",
   "metadata": {},
   "outputs": [],
   "source": []
  },
  {
   "cell_type": "code",
   "execution_count": null,
   "id": "0c12717e",
   "metadata": {},
   "outputs": [],
   "source": []
  },
  {
   "cell_type": "code",
   "execution_count": 243,
   "id": "f63c20fa",
   "metadata": {},
   "outputs": [
    {
     "data": {
      "image/png": "[encoded data removed]",
      "text/plain": [
       "<Figure size 1600x800 with 1 Axes>"
      ]
     },
     "metadata": {},
     "output_type": "display_data"
    }
   ],
   "source": [
    "# Function to extract F1 scores from cr_all\n",
    "def extract_f1_scores(cr_all):\n",
    "    f1_scores = []\n",
    "    for i in range(20):\n",
    "        f1_score = pd.DataFrame(cr_all[i]).loc['f1-score', 'macro avg']\n",
    "        f1_scores.append(f1_score)\n",
    "    return f1_scores\n",
    "\n",
    "# Extract F1 scores for each sampling rate\n",
    "f1_scores_40 = extract_f1_scores(cr_all_40)\n",
    "f1_scores_50 = extract_f1_scores(cr_all_50)\n",
    "f1_scores_100 = extract_f1_scores(cr_all_100)\n",
    "\n",
    "# Split F1 scores into frequency bands\n",
    "f1_scores_1_10_40, f1_scores_1_15_40, f1_scores_05_10_40, f1_scores_05_15_40 = all_time_40[:5], all_time_40[5:10], all_time_40[10:15], all_time_40[15:20]\n",
    "f1_scores_1_10_50, f1_scores_1_15_50, f1_scores_05_10_50, f1_scores_05_15_50 = all_time_50[:5], all_time_50[5:10], all_time_50[10:15], all_time_50[15:20]\n",
    "f1_scores_1_10_100, f1_scores_1_15_100, f1_scores_05_10_100, f1_scores_05_15_100 = all_time_100[:5], all_time_100[5:10], all_time_100[10:15], all_time_100[15:20]\n",
    "\n",
    "windows = ['(P-10,P+30)', '(P-10,P+40)', '(P-20,P+50)', '(P-5,P+20)', '(P-50,P+100)']\n",
    "bar_width = 0.20  # Width of each bar\n",
    "index = np.arange(len(windows)) * 3  # Increase the separation between ticks\n",
    "\n",
    "# Color blind friendly palette\n",
    "colors = ['#1f77b4', '#ff7f0e', '#2ca02c', 'red']\n",
    "\n",
    "plt.figure(figsize=(16, 8))\n",
    "\n",
    "# Plot for 40 Hz\n",
    "plt.bar(index - 2 * bar_width, f1_scores_1_10_40, bar_width, label='40 Hz, 1-10 Hz', color=colors[0])\n",
    "plt.bar(index - 1 * bar_width, f1_scores_1_15_40, bar_width, label='40 Hz, 1-15 Hz', color=colors[1])\n",
    "plt.bar(index + 0 * bar_width, f1_scores_05_10_40, bar_width, label='40 Hz, 0.5-10 Hz', color=colors[2])\n",
    "plt.bar(index + 1 * bar_width, f1_scores_05_15_40, bar_width, label='40 Hz, 0.5-15 Hz', color=colors[3])\n",
    "\n",
    "# Plot for 50 Hz\n",
    "plt.bar(index + 2 * bar_width, f1_scores_1_10_50, bar_width, label='50 Hz, 1-10 Hz', color=colors[0], hatch='//')\n",
    "plt.bar(index + 3 * bar_width, f1_scores_1_15_50, bar_width, label='50 Hz, 1-15 Hz', color=colors[1], hatch='//')\n",
    "plt.bar(index + 4 * bar_width, f1_scores_05_10_50, bar_width, label='50 Hz, 0.5-10 Hz', color=colors[2], hatch='//')\n",
    "plt.bar(index + 5 * bar_width, f1_scores_05_15_50, bar_width, label='50 Hz, 0.5-15 Hz', color=colors[3], hatch='//')\n",
    "\n",
    "# Plot for 100 Hz\n",
    "plt.bar(index + 6 * bar_width, f1_scores_1_10_100, bar_width, label='100 Hz, 1-10 Hz', color=colors[0], edgecolor='black', hatch='..')\n",
    "plt.bar(index + 7 * bar_width, f1_scores_1_15_100, bar_width, label='100 Hz, 1-15 Hz', color=colors[1], edgecolor='black', hatch='..')\n",
    "plt.bar(index + 8 * bar_width, f1_scores_05_10_100, bar_width, label='100 Hz, 0.5-10 Hz', color=colors[2], edgecolor='black', hatch='..')\n",
    "plt.bar(index + 9 * bar_width, f1_scores_05_15_100, bar_width, label='100 Hz, 0.5-15 Hz', color=colors[3], edgecolor='black', hatch='..')\n",
    "\n",
    "# Add labels, title, and legend\n",
    "plt.xlabel('Windows with respect to P waves/origin time', fontsize=15)\n",
    "plt.ylabel('Feature Extraction Time for eight samples using parallel processing', fontsize=15)\n",
    "plt.xticks(index + 2.5 * bar_width, windows, rotation=30, fontsize=12)\n",
    "#plt.ylim(0.85, 0.94)\n",
    "#plt.title('Averaged F1-score for Different Windows (Tsfel+Physical features)', fontsize=20)\n",
    "plt.grid(axis='y', linestyle='--', alpha=0.7)\n",
    "plt.gca().yaxis.grid(True, which='minor', linestyle='--', alpha=0.3)\n",
    "plt.legend(loc='upper left', bbox_to_anchor=(1, 1))\n",
    "\n",
    "# Save or display the plot\n",
    "plt.tight_layout()\n",
    "plt.savefig('combined_f1_scores_plot.png', dpi=300)\n",
    "plt.show()\n"
   ]
  },
  {
   "cell_type": "code",
   "execution_count": null,
   "id": "f87dfc56",
   "metadata": {},
   "outputs": [],
   "source": []
  },
  {
   "cell_type": "code",
   "execution_count": null,
   "id": "b4f89a78",
   "metadata": {},
   "outputs": [],
   "source": []
  },
  {
   "cell_type": "code",
   "execution_count": 244,
   "id": "b5b78673",
   "metadata": {},
   "outputs": [
    {
     "data": {
      "image/png": "[encoded data removed]",
      "text/plain": [
       "<Figure size 1600x800 with 1 Axes>"
      ]
     },
     "metadata": {},
     "output_type": "display_data"
    }
   ],
   "source": [
    "# Function to extract F1 scores from cr_all\n",
    "def extract_f1_scores(cr_all):\n",
    "    f1_scores = []\n",
    "    for i in range(20):\n",
    "        f1_score = pd.DataFrame(cr_all[i]).loc['f1-score', 'macro avg']\n",
    "        f1_scores.append(f1_score)\n",
    "    return f1_scores\n",
    "\n",
    "\n",
    "# Split F1 scores into frequency bands\n",
    "f1_scores_1_10_40, f1_scores_1_15_40, f1_scores_05_10_40, f1_scores_05_15_40 = all_time_40_sc[:5], all_time_40_sc[5:10], all_time_40_sc[10:15], all_time_40_sc[15:20]\n",
    "f1_scores_1_10_50, f1_scores_1_15_50, f1_scores_05_10_50, f1_scores_05_15_50 = all_time_50_sc[:5], all_time_50_sc[5:10], all_time_50_sc[10:15], all_time_50_sc[15:20]\n",
    "f1_scores_1_10_100, f1_scores_1_15_100, f1_scores_05_10_100, f1_scores_05_15_100 = all_time_100_sc[:5], all_time_100_sc[5:10], all_time_100_sc[10:15], all_time_100_sc[15:20]\n",
    "\n",
    "windows = ['(P-10,P+30)', '(P-10,P+40)', '(P-20,P+50)', '(P-5,P+20)', '(P-50,P+100)']\n",
    "bar_width = 0.20  # Width of each bar\n",
    "index = np.arange(len(windows)) * 3  # Increase the separation between ticks\n",
    "\n",
    "# Color blind friendly palette\n",
    "colors = ['#1f77b4', '#ff7f0e', '#2ca02c', 'red']\n",
    "\n",
    "plt.figure(figsize=(16, 8))\n",
    "\n",
    "# Plot for 40 Hz\n",
    "plt.bar(index - 2 * bar_width, f1_scores_1_10_40, bar_width, label='40 Hz, 1-10 Hz', color=colors[0])\n",
    "plt.bar(index - 1 * bar_width, f1_scores_1_15_40, bar_width, label='40 Hz, 1-15 Hz', color=colors[1])\n",
    "plt.bar(index + 0 * bar_width, f1_scores_05_10_40, bar_width, label='40 Hz, 0.5-10 Hz', color=colors[2])\n",
    "plt.bar(index + 1 * bar_width, f1_scores_05_15_40, bar_width, label='40 Hz, 0.5-15 Hz', color=colors[3])\n",
    "\n",
    "# Plot for 50 Hz\n",
    "plt.bar(index + 2 * bar_width, f1_scores_1_10_50, bar_width, label='50 Hz, 1-10 Hz', color=colors[0], hatch='//')\n",
    "plt.bar(index + 3 * bar_width, f1_scores_1_15_50, bar_width, label='50 Hz, 1-15 Hz', color=colors[1], hatch='//')\n",
    "plt.bar(index + 4 * bar_width, f1_scores_05_10_50, bar_width, label='50 Hz, 0.5-10 Hz', color=colors[2], hatch='//')\n",
    "plt.bar(index + 5 * bar_width, f1_scores_05_15_50, bar_width, label='50 Hz, 0.5-15 Hz', color=colors[3], hatch='//')\n",
    "\n",
    "# Plot for 100 Hz\n",
    "plt.bar(index + 6 * bar_width, f1_scores_1_10_100, bar_width, label='100 Hz, 1-10 Hz', color=colors[0], edgecolor='black', hatch='..')\n",
    "plt.bar(index + 7 * bar_width, f1_scores_1_15_100, bar_width, label='100 Hz, 1-15 Hz', color=colors[1], edgecolor='black', hatch='..')\n",
    "plt.bar(index + 8 * bar_width, f1_scores_05_10_100, bar_width, label='100 Hz, 0.5-10 Hz', color=colors[2], edgecolor='black', hatch='..')\n",
    "plt.bar(index + 9 * bar_width, f1_scores_05_15_100, bar_width, label='100 Hz, 0.5-15 Hz', color=colors[3], edgecolor='black', hatch='..')\n",
    "\n",
    "# Add labels, title, and legend\n",
    "plt.xlabel('Windows with respect to P waves/origin time', fontsize=15)\n",
    "plt.ylabel('Feature Extraction Time for eight samples using single core', fontsize=15)\n",
    "plt.xticks(index + 2.5 * bar_width, windows, rotation=30, fontsize=12)\n",
    "#plt.ylim(0.85, 0.94)\n",
    "#plt.title('Averaged F1-score for Different Windows (Tsfel+Physical features)', fontsize=20)\n",
    "plt.grid(axis='y', linestyle='--', alpha=0.7)\n",
    "plt.gca().yaxis.grid(True, which='minor', linestyle='--', alpha=0.3)\n",
    "plt.legend(loc='upper left', bbox_to_anchor=(1, 1))\n",
    "\n",
    "# Save or display the plot\n",
    "plt.tight_layout()\n",
    "plt.savefig('combined_f1_scores_plot.png', dpi=300)\n",
    "plt.show()\n"
   ]
  },
  {
   "cell_type": "code",
   "execution_count": null,
   "id": "114990bf",
   "metadata": {},
   "outputs": [],
   "source": []
  },
  {
   "cell_type": "code",
   "execution_count": null,
   "id": "ab27be25",
   "metadata": {},
   "outputs": [],
   "source": []
  }
 ],
 "metadata": {
  "kernelspec": {
   "display_name": "surface",
   "language": "python",
   "name": "surface"
  },
  "language_info": {
   "codemirror_mode": {
    "name": "ipython",
    "version": 3
   },
   "file_extension": ".py",
   "mimetype": "text/x-python",
   "name": "python",
   "nbconvert_exporter": "python",
   "pygments_lexer": "ipython3",
   "version": "3.9.5"
  }
 },
 "nbformat": 4,
 "nbformat_minor": 5
}
