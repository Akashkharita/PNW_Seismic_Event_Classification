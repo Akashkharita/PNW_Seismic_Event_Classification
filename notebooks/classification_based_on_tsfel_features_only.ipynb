{
 "cells": [
  {
   "cell_type": "code",
   "execution_count": 32,
   "id": "9fc80236",
   "metadata": {},
   "outputs": [],
   "source": [
    "import numpy as np\n",
    "import pandas as pd\n",
    "from glob import glob \n",
    "from tqdm import tqdm\n",
    "import seaborn as sns \n",
    "\n",
    "# for converting the text file containing the quarry locations into csv file\n",
    "import csv\n",
    "\n",
    "# for computing the geographical distance between two points \n",
    "import math\n",
    "\n",
    "\n",
    "from sklearn.model_selection import train_test_split\n",
    "from imblearn.under_sampling import RandomUnderSampler\n",
    "import matplotlib.pyplot as plt\n",
    "from sklearn.ensemble import RandomForestClassifier\n",
    "from sklearn.metrics import accuracy_score, roc_curve, roc_auc_score, auc, classification_report, confusion_matrix\n",
    "from sklearn.model_selection import RandomizedSearchCV, GridSearchCV, cross_val_score\n",
    "from datetime import datetime\n",
    "import h5py\n",
    "from sklearn.preprocessing import LabelEncoder\n",
    "from scipy import stats, signal\n",
    "from sklearn.preprocessing import StandardScaler\n",
    "import obspy\n",
    "from obspy.geodetics.base import gps2dist_azimuth, gps2dist_azimuth\n",
    "from obspy.clients.fdsn import Client\n",
    "import time\n",
    "pd.set_option('display.max_columns', None)\n",
    "from joblib import dump, load\n",
    "from obspy.signal.filter import envelope\n",
    "import tsfel\n",
    "\n",
    "\n",
    "from tsfel import time_series_features_extractor, get_features_by_domain\n",
    "from datetime import timedelta\n",
    "import os\n",
    "import sys\n",
    "sys.path.append('../common_scripts')\n",
    "\n",
    "from common_processing_functions import apply_cosine_taper\n",
    "from common_processing_functions import butterworth_filter\n",
    "\n",
    "from zenodo_get import zenodo_get\n",
    "\n",
    "import pickle"
   ]
  },
  {
   "cell_type": "code",
   "execution_count": 9,
   "id": "74717f64",
   "metadata": {},
   "outputs": [
    {
     "name": "stderr",
     "output_type": "stream",
     "text": [
      "Title: Tsfel Features for my study on Automatic Seismic Event Classification System in Pacific Northwest (150s)\n",
      "Keywords: \n",
      "Publication date: 2024-02-21\n",
      "DOI: 10.5281/zenodo.10689824\n",
      "Total size: 1483.0 MB\n",
      "\n",
      "Link: https://zenodo.org/record/10689824/files/tsfel_features_comcat_z_earthquake_50_100_part3.csv   size: 411.4 MB\n",
      "\n",
      "Checksum is correct. (e2699d7b247688adc88aa974053d61a0)\n",
      "\n",
      "Link: https://zenodo.org/record/10689824/files/tsfel_features_comcat_z_earthquake_50_100_part2.csv   size: 295.7 MB\n",
      "\n",
      "Checksum is correct. (0426976c0a13d9e459b730962000b428)\n",
      "\n",
      "Link: https://zenodo.org/record/10689824/files/tsfel_features_comcat_z_explosion_50_100.csv   size: 96.9 MB\n",
      "\n",
      "Checksum is correct. (03b0d7d98ca50fa6d108ed88297d4c87)\n",
      "\n",
      "Link: https://zenodo.org/record/10689824/files/tsfel_features_noise_50_100.csv   size: 314.8 MB\n",
      "\n",
      "Checksum is correct. (74a2bb0aa317db40a35c77aa1a7de922)\n",
      "\n",
      "Link: https://zenodo.org/record/10689824/files/tsfel_features_exotic_50_100.csv   size: 57.0 MB\n",
      "\n",
      "Checksum is correct. (98b876afdf2ea2d0bfc38d8f83882287)\n",
      "\n",
      "Link: https://zenodo.org/record/10689824/files/tsfel_features_comcat_z_earthquake_50_100_part1.csv   size: 307.1 MB\n",
      "\n",
      "Checksum is correct. (fc7aaea6d5933201e6af4d1feff5892d)\n",
      "All files have been downloaded.\n"
     ]
    }
   ],
   "source": [
    "## Downloading the physical features \n",
    "## This is doi for physical features (for both 50s and 150s) - 10.5281/zenodo.10689585\n",
    "## This is doi for tsfel features of 50s window length - 10.5281/zenodo.10689673\n",
    "## This is doi for tsfel features of 150s window length - 10.5281/zenodo.10689824\n",
    "\n",
    "\n",
    "doi = '10.5281/zenodo.10689824'\n",
    "# Download files from the Zenodo record\n",
    "files = zenodo_get([doi])"
   ]
  },
  {
   "cell_type": "code",
   "execution_count": null,
   "id": "b43f30e8",
   "metadata": {},
   "outputs": [],
   "source": []
  },
  {
   "cell_type": "code",
   "execution_count": null,
   "id": "476f54f2",
   "metadata": {},
   "outputs": [],
   "source": []
  },
  {
   "cell_type": "markdown",
   "id": "4bf04bf8",
   "metadata": {},
   "source": [
    "## Loading tsfel features"
   ]
  },
  {
   "cell_type": "code",
   "execution_count": 10,
   "id": "fcdc84ca",
   "metadata": {},
   "outputs": [],
   "source": [
    "# These waveforms are filtered between 1-10 Hz\n",
    "# extracting features of surface events, thunder and sonic booms\n",
    "features_exotic_tsfel = pd.read_csv('tsfel_features_exotic_50_100.csv')\n",
    "\n",
    "\n",
    "features_surface_tsfel = features_exotic_tsfel[features_exotic_tsfel['source'] == 'surface']\n",
    "features_sonic_tsfel = features_exotic_tsfel[features_exotic_tsfel['source'] == 'sonic']\n",
    "features_thunder_tsfel = features_exotic_tsfel[features_exotic_tsfel['source'] == 'thunder']\n",
    "\n",
    "\n",
    "\n",
    "\n",
    "# features of noise\n",
    "features_noise_tsfel = pd.read_csv('tsfel_features_noise_50_100.csv')\n",
    "\n",
    "\n",
    "\n",
    "\n",
    "\n",
    "# features of explosion\n",
    "features_explosion_tsfel = pd.read_csv('tsfel_features_comcat_z_explosion_50_100.csv')\n",
    "\n",
    "\n",
    "\n",
    "# features of earthquake (had to extract it in three parts because of memory constraints)\n",
    "features_eq1 = pd.read_csv('tsfel_features_comcat_z_earthquake_50_100_part1.csv')\n",
    "features_eq2 = pd.read_csv('tsfel_features_comcat_z_earthquake_50_100_part2.csv')\n",
    "features_eq3 = pd.read_csv('tsfel_features_comcat_z_earthquake_50_100_part3.csv')\n",
    "\n",
    "\n",
    "\n",
    "# features of earthquakes\n",
    "features_earthquake_tsfel = pd.concat([features_eq1, features_eq2, features_eq3])\n",
    "\n",
    "\n"
   ]
  },
  {
   "cell_type": "code",
   "execution_count": null,
   "id": "8aaab722",
   "metadata": {},
   "outputs": [],
   "source": []
  },
  {
   "cell_type": "markdown",
   "id": "7b26367b",
   "metadata": {},
   "source": [
    "## Deleting the downloaded files to clean up the directory"
   ]
  },
  {
   "cell_type": "code",
   "execution_count": 11,
   "id": "ede67878",
   "metadata": {},
   "outputs": [],
   "source": [
    "# Get the current working directory\n",
    "directory = os.getcwd()\n",
    "\n",
    "# List the files in the directory\n",
    "files = os.listdir(directory)\n",
    "\n",
    "# Iterate over the files and delete CSV files\n",
    "for file in files:\n",
    "    if file.endswith(\".csv\"):\n",
    "        file_path = os.path.join(directory, file)\n",
    "        os.remove(file_path)"
   ]
  },
  {
   "cell_type": "code",
   "execution_count": null,
   "id": "870b24c7",
   "metadata": {},
   "outputs": [],
   "source": []
  },
  {
   "cell_type": "code",
   "execution_count": null,
   "id": "6e4647f5",
   "metadata": {},
   "outputs": [],
   "source": []
  },
  {
   "cell_type": "code",
   "execution_count": null,
   "id": "0ac0bef8",
   "metadata": {},
   "outputs": [],
   "source": []
  },
  {
   "cell_type": "code",
   "execution_count": null,
   "id": "9441fdd2",
   "metadata": {},
   "outputs": [],
   "source": []
  },
  {
   "cell_type": "markdown",
   "id": "97a984c0",
   "metadata": {},
   "source": [
    "## There are a total of 390 columns that contain tsfel features\n",
    "\n",
    "## Note that each dataframe contains three additional columns - \n",
    "\n",
    "-  the initial unnamed 0 column, not sure why it is there. \n",
    "- The 'serial_no' column this was added to identify the similar event to alllow merging of tsfel and physical features. Each event is associated with unique serial number. \n",
    "- The serial no. is equal to the iteration number when looping through the catalog of specific source type. \n",
    "- Third column added was the 'source'"
   ]
  },
  {
   "cell_type": "code",
   "execution_count": 12,
   "id": "1bf62843",
   "metadata": {},
   "outputs": [
    {
     "name": "stdout",
     "output_type": "stream",
     "text": [
      "So we have 240898 events and each event have 392 features\n"
     ]
    }
   ],
   "source": [
    "features_all = pd.concat([features_surface_tsfel, features_sonic_tsfel, features_thunder_tsfel, features_noise_tsfel, features_explosion_tsfel, features_earthquake_tsfel])\n",
    "features_all = features_all.drop(['Unnamed: 0'], axis = 1)\n",
    "print(f'So we have {features_all.shape[0]} events and each event have {features_all.shape[1]} features')"
   ]
  },
  {
   "cell_type": "code",
   "execution_count": null,
   "id": "f3c75ed7",
   "metadata": {},
   "outputs": [],
   "source": []
  },
  {
   "cell_type": "markdown",
   "id": "ba833882",
   "metadata": {},
   "source": [
    "## Preprocessing the input features"
   ]
  },
  {
   "cell_type": "code",
   "execution_count": 13,
   "id": "c04db24a",
   "metadata": {},
   "outputs": [
    {
     "name": "stdout",
     "output_type": "stream",
     "text": [
      "So we have 240546 events and each event have 392 features\n"
     ]
    }
   ],
   "source": [
    "# dropping the columns that contain NaNs\n",
    "features_all = features_all.dropna(axis = 1)\n",
    "\n",
    "# dropping the rows that contains NaNs\n",
    "features_all = features_all.dropna()\n",
    "\n",
    "\n",
    "## dropping all the rows containing infinity values\n",
    "features_all = features_all.replace([np.inf, -np.inf], np.nan).dropna()\n",
    "\n",
    "\n",
    "## dropping sonic boom and thunder events\n",
    "features_all = features_all[features_all['source'] != 'sonic']\n",
    "features_all = features_all[features_all['source'] != 'thunder']\n",
    "\n",
    "print(f'So we have {features_all.shape[0]} events and each event have {features_all.shape[1]} features')\n"
   ]
  },
  {
   "cell_type": "markdown",
   "id": "ef25e062",
   "metadata": {},
   "source": [
    "## Dropping the columns that contain same values for all the events, as these features do not really contribute in classification"
   ]
  },
  {
   "cell_type": "code",
   "execution_count": 14,
   "id": "036951ef",
   "metadata": {},
   "outputs": [
    {
     "name": "stdout",
     "output_type": "stream",
     "text": [
      "So we have 240546 events and each event have 379 features\n"
     ]
    }
   ],
   "source": [
    "# Check unique values in each column\n",
    "unique_counts = features_all.nunique()\n",
    "\n",
    "# Identify columns with only one unique value (same value for all rows)\n",
    "single_value_columns = unique_counts[unique_counts == 1].index\n",
    "\n",
    "\n",
    "# Drop columns with the same value for all rows\n",
    "features_all = features_all.drop(columns=single_value_columns)\n",
    "\n",
    "print(f'So we have {features_all.shape[0]} events and each event have {features_all.shape[1]} features')\n"
   ]
  },
  {
   "cell_type": "code",
   "execution_count": null,
   "id": "f14a6973",
   "metadata": {},
   "outputs": [],
   "source": []
  },
  {
   "cell_type": "markdown",
   "id": "88d3b11f",
   "metadata": {},
   "source": [
    "## Data Cleaning"
   ]
  },
  {
   "cell_type": "markdown",
   "id": "34416397",
   "metadata": {},
   "source": [
    "### Removing the outliers"
   ]
  },
  {
   "cell_type": "code",
   "execution_count": 15,
   "id": "1ce257f9",
   "metadata": {},
   "outputs": [
    {
     "name": "stdout",
     "output_type": "stream",
     "text": [
      "240546\n",
      "182062\n"
     ]
    }
   ],
   "source": [
    "df = features_all.drop(['serial_no', 'source'], axis = 1)\n",
    "# Calculate Z-scores for each feature\n",
    "z_scores = np.abs(stats.zscore(df))\n",
    "\n",
    "\n",
    "# Define a threshold for Z-score beyond which data points are considered outliers\n",
    "threshold = 4\n",
    "\n",
    "# Filter out rows with any Z-score greater than the threshold\n",
    "# Temporarily removing this \n",
    "outliers_removed_df =   features_all[(z_scores < threshold).all(axis=1)]\n",
    "\n",
    "print(len(features_all))\n",
    "print(len(outliers_removed_df))\n"
   ]
  },
  {
   "cell_type": "code",
   "execution_count": null,
   "id": "b41fe9ca",
   "metadata": {},
   "outputs": [],
   "source": []
  },
  {
   "cell_type": "markdown",
   "id": "8e715f9d",
   "metadata": {},
   "source": [
    "## Standardizing the features"
   ]
  },
  {
   "cell_type": "code",
   "execution_count": 16,
   "id": "5d96c539",
   "metadata": {},
   "outputs": [
    {
     "name": "stdout",
     "output_type": "stream",
     "text": [
      "                      Feature          Mean       Std Dev\n",
      "0    0_FFT mean coefficient_0  3.628436e-05  8.383533e-05\n",
      "1    0_FFT mean coefficient_1  3.649182e-05  1.444610e-04\n",
      "2    0_FFT mean coefficient_2  1.258779e-04  5.359184e-04\n",
      "3    0_FFT mean coefficient_3  3.958764e-04  1.555221e-03\n",
      "4    0_FFT mean coefficient_4  9.845084e-04  3.219613e-03\n",
      "..                        ...           ...           ...\n",
      "372         0_Signal distance  1.500641e+04  8.823224e+00\n",
      "373                   0_Slope -4.042476e-11  9.338214e-09\n",
      "374       0_Sum absolute diff  2.339846e+02  1.887664e+02\n",
      "375            0_Total energy  9.872037e-01  1.279965e+00\n",
      "376      0_Zero crossing rate  1.427100e+03  3.971730e+02\n",
      "\n",
      "[377 rows x 3 columns]\n"
     ]
    }
   ],
   "source": [
    "## defining the global variables X and y\n",
    "X = outliers_removed_df.drop(['serial_no','source'], axis = 1)\n",
    "y = outliers_removed_df['source']\n",
    "\n",
    "\n",
    "# Initialize the StandardScaler\n",
    "scaler = StandardScaler()\n",
    "\n",
    "\n",
    "\n",
    "# Apply standard scaling to the DataFrame\n",
    "scaled_features = scaler.fit_transform(X)\n",
    "\n",
    "\n",
    "# Access the mean and standard deviation for each feature\n",
    "means = scaler.mean_\n",
    "std_devs = scaler.scale_\n",
    "\n",
    "# Create a DataFrame to display the means and standard deviations\n",
    "scaler_params = pd.DataFrame({'Feature': X.columns, 'Mean': means, 'Std Dev': std_devs})\n",
    "print(scaler_params)\n",
    "\n",
    "\n",
    "# Create a new DataFrame with scaled features\n",
    "X_scaled = pd.DataFrame(scaled_features, columns=X.columns)\n",
    "\n",
    "\n",
    "## We are not standardizing at this stage. We will rather wait when the outlier are removed, then we will\n",
    "## standardize and save the standard scaler parameters. \n",
    "#X_scaled = X\n",
    "\n",
    "X_scaled['serial_no'] = outliers_removed_df['serial_no'].values\n",
    "X_scaled['source'] = outliers_removed_df['source'].values"
   ]
  },
  {
   "cell_type": "markdown",
   "id": "f646fb4f",
   "metadata": {},
   "source": [
    "## Merging the metadata information with the features dataframe"
   ]
  },
  {
   "cell_type": "code",
   "execution_count": 17,
   "id": "64625b54",
   "metadata": {},
   "outputs": [
    {
     "name": "stderr",
     "output_type": "stream",
     "text": [
      "/home/ak287/miniconda3/envs/roses_2021/lib/python3.9/site-packages/pandas/core/frame.py:3607: SettingWithCopyWarning: \n",
      "A value is trying to be set on a copy of a slice from a DataFrame.\n",
      "Try using .loc[row_indexer,col_indexer] = value instead\n",
      "\n",
      "See the caveats in the documentation: https://pandas.pydata.org/pandas-docs/stable/user_guide/indexing.html#returning-a-view-versus-a-copy\n",
      "  self._set_item(key, value)\n"
     ]
    }
   ],
   "source": [
    "# extracting the stored data\n",
    "comcat_file_name = h5py.File(\"/data/whd01/yiyu_data/PNWML/comcat_waveforms.hdf5\",'r')\n",
    "exotic_file_name = h5py.File(\"/data/whd01/yiyu_data/PNWML/exotic_waveforms.hdf5\",'r')\n",
    "noise_file_name = h5py.File(\"/data/whd01/yiyu_data/PNWML/noise_waveforms.hdf5\",'r')\n",
    "\n",
    "\n",
    "# extracting the catalog\n",
    "comcat_file_csv = pd.read_csv(\"/data/whd01/yiyu_data/PNWML/comcat_metadata.csv\")\n",
    "exotic_file_csv = pd.read_csv(\"/data/whd01/yiyu_data/PNWML/exotic_metadata.csv\")\n",
    "noise_file_csv = pd.read_csv(\"/data/whd01/yiyu_data/PNWML/noise_metadata.csv\")\n",
    "\n",
    "\n",
    "\n",
    "# extracting the metadata corresponding to individual events\n",
    "cat_exp = comcat_file_csv[comcat_file_csv['source_type'] == 'explosion']\n",
    "cat_eq = comcat_file_csv[comcat_file_csv['source_type'] == 'earthquake']\n",
    "cat_no = noise_file_csv\n",
    "cat_su = exotic_file_csv[exotic_file_csv['source_type'] == 'surface event']\n",
    "\n",
    "\n",
    "\n",
    "# extracting the index \n",
    "ind_exp = X_scaled[X_scaled['source'] == 'explosion']['serial_no'].values\n",
    "ind_eq = X_scaled[X_scaled['source'] == 'earthquake']['serial_no'].values\n",
    "ind_no = X_scaled[X_scaled['source'] == 'noise']['serial_no'].values\n",
    "ind_su = X_scaled[X_scaled['source'] == 'surface']['serial_no'].values\n",
    "\n",
    "\n",
    "df_exp = X_scaled[X_scaled['source'] == 'explosion']\n",
    "exp_df = cat_exp.iloc[ind_exp]\n",
    "exp_df['serial_no'] = ind_exp\n",
    "\n",
    "\n",
    "df_eq = X_scaled[X_scaled['source'] == 'earthquake']\n",
    "eq_df = cat_eq.iloc[ind_eq]\n",
    "eq_df['serial_no'] = ind_eq\n",
    "\n",
    "\n",
    "\n",
    "df_no = X_scaled[X_scaled['source'] == 'noise']\n",
    "no_df = cat_no.iloc[ind_no]\n",
    "no_df['serial_no'] = ind_no\n",
    "\n",
    "\n",
    "\n",
    "df_su = X_scaled[X_scaled['source'] == 'surface']\n",
    "su_df = cat_su.iloc[ind_su]\n",
    "su_df['serial_no'] = ind_su\n",
    "\n",
    "\n",
    "\n",
    "\n",
    "\n",
    "new_exp = pd.merge(df_exp,exp_df, on = 'serial_no')\n",
    "new_eq = pd.merge(df_eq,eq_df, on = 'serial_no')\n",
    "new_su = pd.merge(df_su,su_df, on = 'serial_no')\n",
    "new_no = pd.merge(df_no,no_df, on = 'serial_no')\n",
    "new_no['event_id'] = np.array(['noise'+str(i) for i in np.arange(len(new_no))])\n",
    "\n",
    "\n",
    "\n",
    "X_final = pd.concat([new_exp, new_eq, new_su, new_no])\n",
    "y = ['explosion']*len(new_exp)+['earthquake']*len(new_eq)+['surface']*len(new_su)+['noise']*len(new_no)\n",
    "\n"
   ]
  },
  {
   "cell_type": "markdown",
   "id": "a7bf0638",
   "metadata": {},
   "source": [
    "### Adding Hour of the Day, Days of Week and Month of Year as additional features as they have shown to significantly increase the performance of the machine learning model"
   ]
  },
  {
   "cell_type": "code",
   "execution_count": 18,
   "id": "3d3722fd",
   "metadata": {},
   "outputs": [
    {
     "name": "stderr",
     "output_type": "stream",
     "text": [
      "100%|██████████| 182062/182062 [00:02<00:00, 76952.42it/s] \n"
     ]
    }
   ],
   "source": [
    "# new_exp contains the features and the corresponding metadata information. \n",
    "datetimes = X_final['trace_start_time'].values\n",
    "\n",
    "hour_of_day = []\n",
    "days_of_week = []\n",
    "month_of_year = []\n",
    "for dt_str in tqdm(datetimes):\n",
    "        \n",
    "    # Parse the datetime string\n",
    "        dt = datetime.strptime(dt_str, '%Y-%m-%dT%H:%M:%S.%fZ')\n",
    "        hod = dt.hour - 8.  # converting to local time. \n",
    "        moy = dt.month\n",
    "        \n",
    "        \n",
    "        days_of_week.append(dt.weekday())\n",
    "        hour_of_day.append(hod)\n",
    "        month_of_year.append(moy)\n",
    "        \n",
    "X_final['hour_of_day'] = hour_of_day\n",
    "X_final['day_of_week'] = days_of_week\n",
    "X_final['month_of_year'] = month_of_year\n"
   ]
  },
  {
   "cell_type": "code",
   "execution_count": null,
   "id": "b898b98a",
   "metadata": {},
   "outputs": [],
   "source": []
  },
  {
   "cell_type": "code",
   "execution_count": 19,
   "id": "984711e1",
   "metadata": {},
   "outputs": [],
   "source": [
    "temp_X = X_final.iloc[:,0:377]\n",
    "#temp_X = temp_X.assign(hod=X_final['hour_of_day'].values, dow=X_final['day_of_week'].values, moy=X_final['month_of_year'].values)\n",
    "\n",
    "\n",
    "\n",
    "# Initialize the StandardScaler\n",
    "scaler = StandardScaler()\n",
    "\n",
    "# Apply standard scaling to the DataFrame\n",
    "scaled_features = scaler.fit_transform(temp_X)\n",
    "\n",
    "# Create a new DataFrame with scaled features\n",
    "temp_X = pd.DataFrame(scaled_features, columns= temp_X.columns)\n",
    "\n"
   ]
  },
  {
   "cell_type": "code",
   "execution_count": null,
   "id": "83b575b7",
   "metadata": {},
   "outputs": [],
   "source": []
  },
  {
   "cell_type": "markdown",
   "id": "6755245e",
   "metadata": {},
   "source": [
    "## So X_final that contains the features and corresponding metadata information for all the events"
   ]
  },
  {
   "cell_type": "markdown",
   "id": "320eff28",
   "metadata": {},
   "source": [
    "### hyperparameter tuning of the model based on 3000 samples per class and splitting into 80-20%."
   ]
  },
  {
   "cell_type": "code",
   "execution_count": 21,
   "id": "95c70baf",
   "metadata": {},
   "outputs": [
    {
     "name": "stdout",
     "output_type": "stream",
     "text": [
      "Best Parameters: {'n_estimators': 200, 'min_samples_split': 5, 'min_samples_leaf': 1, 'max_features': 'sqrt', 'max_depth': None, 'bootstrap': False}\n",
      "Best Accuracy: 0.916293343228\n",
      "Test Accuracy: 0.915833333333\n"
     ]
    }
   ],
   "source": [
    "# Apply random undersampling using imbalanced-learn library\n",
    "rus = RandomUnderSampler(sampling_strategy={'earthquake':3000, 'explosion':3000, 'surface':3000, 'noise':3000})\n",
    "X_resampled, y_resampled = rus.fit_resample(temp_X, y)\n",
    "\n",
    "# Initialize the LabelEncoder\n",
    "label_encoder = LabelEncoder()\n",
    "\n",
    "# Fit the LabelEncoder on the text labels and transform them to numeric labels\n",
    "y_num = label_encoder.fit_transform(y_resampled)\n",
    "\n",
    "\n",
    "# Split the data into training and testing sets\n",
    "X_train, X_test, y_train, y_test = train_test_split(X_resampled, y_num, test_size=0.2, stratify = y_num)\n",
    "\n",
    "\n",
    "\n",
    "# Define the hyperparameter grid for randomized search\n",
    "param_dist = {\n",
    "    'n_estimators': [100, 200, 300, 500],\n",
    "    'max_depth': [None, 10, 20, 30, 40],\n",
    "    'min_samples_split': [2, 5, 10],\n",
    "    'min_samples_leaf': [1, 2, 4],\n",
    "    'max_features': ['auto', 'sqrt', 'log2'],\n",
    "    'bootstrap': [True, False]\n",
    "}\n",
    "\n",
    "# Initialize the Random Forest model\n",
    "rf_model = RandomForestClassifier(random_state=42)\n",
    "\n",
    "# Initialize the RandomizedSearchCV with 5-fold cross-validation\n",
    "random_search = RandomizedSearchCV(\n",
    "    rf_model, param_distributions=param_dist, n_iter=50, scoring='f1_macro', cv=10, verbose=0, random_state=42, n_jobs=-1\n",
    ")\n",
    "\n",
    "# Perform randomized grid search cross-validation\n",
    "random_search.fit(X_train, y_train)\n",
    "\n",
    "# Print the best parameters and their corresponding accuracy score\n",
    "print(\"Best Parameters:\", random_search.best_params_)\n",
    "print(\"Best Accuracy:\", random_search.best_score_)\n",
    "\n",
    "# Evaluate the best model on the test set\n",
    "best_model = random_search.best_estimator_\n",
    "y_pred = best_model.predict(X_test)\n",
    "accuracy = np.sum(y_pred == y_test) / len(y_test)\n",
    "print(\"Test Accuracy:\", accuracy)\n",
    "\n",
    "\n"
   ]
  },
  {
   "cell_type": "code",
   "execution_count": null,
   "id": "6c87f703",
   "metadata": {},
   "outputs": [],
   "source": []
  },
  {
   "cell_type": "markdown",
   "id": "7d36d993",
   "metadata": {},
   "source": [
    "## Performance with best model"
   ]
  },
  {
   "cell_type": "code",
   "execution_count": 22,
   "id": "b9c404ea",
   "metadata": {},
   "outputs": [
    {
     "data": {
      "text/plain": [
       "Text(0.5, 1.0, 'Total samples: 2400')"
      ]
     },
     "execution_count": 22,
     "metadata": {},
     "output_type": "execute_result"
    },
    {
     "data": {
      "image/png": "[encoded data removed]",
      "text/plain": [
       "<Figure size 576x396 with 2 Axes>"
      ]
     },
     "metadata": {},
     "output_type": "display_data"
    }
   ],
   "source": [
    "## Performance with best model\n",
    "\n",
    "plt.style.use('seaborn')\n",
    "cm = confusion_matrix(y_test, y_pred)\n",
    "\n",
    "\n",
    "labels = ['Earthquake', 'Explosion','Noise','Surface']\n",
    "sns.heatmap(cm, annot=True, cmap='Blues', fmt='d', xticklabels = labels, yticklabels = labels)\n",
    "plt.xlabel('Predicted', fontsize = 15)\n",
    "plt.ylabel('Actual', fontsize = 15)\n",
    "plt.title('Total samples: '+str(len(y_pred)), fontsize = 20)\n",
    "\n"
   ]
  },
  {
   "cell_type": "code",
   "execution_count": null,
   "id": "94df2115",
   "metadata": {},
   "outputs": [],
   "source": []
  },
  {
   "cell_type": "markdown",
   "id": "4506cb0e",
   "metadata": {},
   "source": [
    "## Classification report with best model"
   ]
  },
  {
   "cell_type": "code",
   "execution_count": 23,
   "id": "2ee15962",
   "metadata": {},
   "outputs": [
    {
     "data": {
      "image/png": "[encoded data removed]",
      "text/plain": [
       "<Figure size 576x396 with 2 Axes>"
      ]
     },
     "metadata": {},
     "output_type": "display_data"
    }
   ],
   "source": [
    "# Calculate the classification report\n",
    "report = classification_report(y_test, y_pred, output_dict=True)\n",
    "labels = ['Earthquake', 'Explosion', 'Noise','Surface']\n",
    "\n",
    "# Set a pleasing style\n",
    "sns.set_style(\"whitegrid\")\n",
    "\n",
    "# Create a figure and axes for the heatmap\n",
    "plt.figure()\n",
    "ax = sns.heatmap(pd.DataFrame(report).iloc[:3, :4], annot=True, cmap='Blues', xticklabels=labels, vmin=0.5, vmax=1)\n",
    "\n",
    "# Set labels and title\n",
    "ax.set_xlabel('Metrics', fontsize=15)\n",
    "ax.set_ylabel('Classes', fontsize=15)\n",
    "ax.set_title('Classification Report', fontsize=18)\n",
    "\n",
    "# Create a colorbar\n",
    "#cbar = ax.collections[0].colorbar\n",
    "#cbar.set_ticks([0.5, 1])  # Set custom tick locations\n",
    "#cbar.set_ticklabels(['0', '0.5', '1'])  # Set custom tick labels\n",
    "\n",
    "# Adjust layout\n",
    "plt.tight_layout()\n",
    "\n",
    "# Show the plot\n",
    "plt.show()\n"
   ]
  },
  {
   "cell_type": "code",
   "execution_count": null,
   "id": "9eee021d",
   "metadata": {},
   "outputs": [],
   "source": []
  },
  {
   "cell_type": "code",
   "execution_count": null,
   "id": "35dd3970",
   "metadata": {},
   "outputs": [],
   "source": []
  },
  {
   "cell_type": "markdown",
   "id": "6dfb0ff1",
   "metadata": {},
   "source": [
    "## In the following code, we are randomly selecting 5000 \"Events\" per class,  and separating them from the testing dataset"
   ]
  },
  {
   "cell_type": "markdown",
   "id": "f04a6ec7",
   "metadata": {},
   "source": [
    "### First let's remove the events that have different labels assigned by USGS and PNSN, apparently there are 15 such events corresponding to 293 traces"
   ]
  },
  {
   "cell_type": "code",
   "execution_count": 24,
   "id": "046dccdf",
   "metadata": {},
   "outputs": [],
   "source": [
    "## extracting metadata information for each kind of source along with features\n",
    "a_eq = X_final[X_final['source_type_pnsn_label'] == 'eq']\n",
    "a_px = X_final[X_final['source_type_pnsn_label'] == 'px']\n",
    "a_su = X_final[X_final['source_type'] == 'surface event']\n",
    "a_no = X_final[X_final['source_type'] == 'noise']\n",
    "\n",
    "\n",
    "\n",
    "## extracting the event ids corresponding to each catalog\n",
    "eq_ids = np.unique(a_eq['event_id'].values)\n",
    "su_ids = np.unique(a_su['event_id'].values)\n",
    "no_ids = np.unique(a_no['event_id'].values)\n",
    "px_ids = np.unique(a_px['event_id'].values)\n",
    "\n",
    "\n",
    "## defining the events for training and testing in 70:30 ratio\n",
    "\n",
    "\n",
    "\"\"\"\n",
    "\n",
    "Modifying this section a bit, for a fair comparison to deep neural network. \n",
    "\n",
    "\n",
    "train_eq = eq_ids[0:int(0.7*len(eq_ids))]\n",
    "train_px = px_ids[0:int(0.7*len(px_ids))]\n",
    "train_su = su_ids[0:int(0.7*len(su_ids))]\n",
    "train_no = no_ids[0:int(0.7*len(no_ids))]\n",
    "\n",
    "\n",
    "test_eq = eq_ids[int(0.7*len(eq_ids)):len(eq_ids)]\n",
    "test_px = px_ids[int(0.7*len(px_ids)):len(px_ids)]\n",
    "test_su = su_ids[int(0.7*len(su_ids)):len(su_ids)]\n",
    "test_no = no_ids[int(0.7*len(no_ids)):len(no_ids)]\n",
    "\n",
    "\n",
    "\"\"\"\n",
    "\n",
    "## randomizing along the time. \n",
    "r1 = np.random.randint(0, len(eq_ids), 5000)\n",
    "train_eq = eq_ids[r1]\n",
    "\n",
    "## randomizing along the time. \n",
    "r2 = np.random.randint(0, len(px_ids), 5000)\n",
    "train_px = px_ids[r2]\n",
    "\n",
    "## randomizing along the time. \n",
    "r3 = np.random.randint(0, len(su_ids), 5000)\n",
    "train_su = su_ids[r3]\n",
    "\n",
    "## randomizing along the time\n",
    "r4 = np.random.randint(0, len(no_ids), 5000)\n",
    "train_no = no_ids[r4]\n",
    "\n",
    "\n",
    "\n",
    "mask_eq = np.ones(eq_ids.shape, dtype = bool)\n",
    "mask_eq[r1] = False\n",
    "\n",
    "mask_px = np.ones(px_ids.shape, dtype = bool)\n",
    "mask_px[r2] = False\n",
    "\n",
    "mask_su = np.ones(su_ids.shape, dtype = bool)\n",
    "mask_su[r3] = False\n",
    "\n",
    "mask_no = np.ones(no_ids.shape, dtype = bool)\n",
    "mask_no[r4] = False\n",
    "\n",
    "test_eq = eq_ids[mask_eq]\n",
    "test_px = px_ids[mask_px]\n",
    "test_su = su_ids[mask_su]\n",
    "test_no = no_ids[mask_no]\n",
    "\n",
    "\n",
    "\n",
    "# concatenating training ids\n",
    "all_train_ids = np.concatenate([train_eq,train_px, train_su, train_no])\n",
    "\n",
    "# concatenating testing ids\n",
    "all_test_ids = np.concatenate([test_eq,test_px, test_su, test_no])\n",
    "\n",
    "# allocating event id as index\n",
    "X_final.index = X_final['event_id'].values\n",
    "\n",
    "\n",
    "# extracting training and testing values\n",
    "X_train = X_final.loc[all_train_ids]\n",
    "X_test = X_final.loc[all_test_ids]\n",
    "\n",
    "\n",
    "\n",
    "Y_train = X_train['source_type'].values\n",
    "Y_test = X_test['source_type'].values"
   ]
  },
  {
   "cell_type": "code",
   "execution_count": null,
   "id": "31d5a94c",
   "metadata": {},
   "outputs": [],
   "source": []
  },
  {
   "cell_type": "code",
   "execution_count": 25,
   "id": "55ebac09",
   "metadata": {},
   "outputs": [],
   "source": [
    "# Case 1: without adding anything manual\n",
    "## Check the performance \n",
    "x_train = X_train.iloc[:, 0:377]\n",
    "#x_train = x_train.assign(hod=X_train['hour_of_day'].values, dow=X_train['day_of_week'].values, moy=X_train['month_of_year'].values)\n",
    "\n",
    "x_test = X_test.iloc[:, 0:377]\n",
    "#x_test = x_test.assign(hod=X_test['hour_of_day'].values, dow=X_test['day_of_week'].values, moy=X_test['month_of_year'].values)\n",
    "\n"
   ]
  },
  {
   "cell_type": "markdown",
   "id": "98ac5127",
   "metadata": {},
   "source": [
    "## Training the model on 5000 randomly samples waveforms per class and testing it on the remaining dataset"
   ]
  },
  {
   "cell_type": "code",
   "execution_count": 26,
   "id": "34791c4d",
   "metadata": {},
   "outputs": [
    {
     "data": {
      "text/plain": [
       "RandomForestClassifier(bootstrap=False, max_features='sqrt',\n",
       "                       min_samples_split=5, n_estimators=200, random_state=42)"
      ]
     },
     "execution_count": 26,
     "metadata": {},
     "output_type": "execute_result"
    }
   ],
   "source": [
    "# initiating a random undersampler\n",
    "rus = RandomUnderSampler(sampling_strategy={'earthquake':5000, 'explosion':5000,'surface event':5000,'noise':5000}, random_state = 42)\n",
    "\n",
    "# Initialize the LabelEncoder\n",
    "label_encoder = LabelEncoder()\n",
    "\n",
    "# Converting the textual labels into numerical labels\n",
    "y_num_test = label_encoder.fit_transform(Y_test)\n",
    "\n",
    "\n",
    "# randomly taking 5000 samples per class from the training dataset\n",
    "X_resampled, y_resampled = rus.fit_resample(x_train, Y_train)\n",
    "\n",
    "\n",
    "# Fit the LabelEncoder on the text labels and transform them to numeric labels\n",
    "y_num_res = label_encoder.fit_transform(y_resampled)\n",
    "\n",
    "\n",
    "\n",
    "best_model.class_weight  = None\n",
    "best_model.fit(X_resampled, y_num_res)\n",
    "\n",
    "\n"
   ]
  },
  {
   "cell_type": "code",
   "execution_count": null,
   "id": "75c3aba7",
   "metadata": {},
   "outputs": [],
   "source": []
  },
  {
   "cell_type": "markdown",
   "id": "72b93b7f",
   "metadata": {},
   "source": [
    "## Trace wise performance"
   ]
  },
  {
   "cell_type": "code",
   "execution_count": 27,
   "id": "d2f26446",
   "metadata": {},
   "outputs": [
    {
     "data": {
      "image/png": "[encoded data removed]",
      "text/plain": [
       "<Figure size 576x396 with 2 Axes>"
      ]
     },
     "metadata": {},
     "output_type": "display_data"
    },
    {
     "data": {
      "image/png": "[encoded data removed]",
      "text/plain": [
       "<Figure size 576x396 with 2 Axes>"
      ]
     },
     "metadata": {},
     "output_type": "display_data"
    }
   ],
   "source": [
    "y_pred = best_model.predict(x_test)\n",
    "plt.style.use('seaborn')\n",
    "trace_cm_tsf = confusion_matrix(y_num_test, y_pred)\n",
    "\n",
    "\n",
    "labels = ['Earthquake', 'Explosion','Noise','Surface']\n",
    "plt.figure()\n",
    "sns.heatmap(trace_cm_tsf, annot=True, cmap='Blues', fmt='d', xticklabels = labels, yticklabels = labels)\n",
    "plt.xlabel('Predicted', fontsize = 15)\n",
    "plt.ylabel('Actual', fontsize = 15)\n",
    "plt.title('Total samples: '+str(len(y_pred)), fontsize = 20)\n",
    "# Adjust layout\n",
    "plt.tight_layout()\n",
    "\n",
    "\n",
    "\n",
    "# Calculate the classification report\n",
    "trace_report_tsf = classification_report(y_num_test, y_pred, output_dict=True)\n",
    "labels = ['Precision', 'Recall', 'F1-Score']\n",
    "\n",
    "# Set a pleasing style\n",
    "sns.set_style(\"whitegrid\")\n",
    "\n",
    "# Create a figure and axes for the heatmap\n",
    "plt.figure()\n",
    "ax = sns.heatmap(pd.DataFrame(trace_report_tsf).iloc[:3, :4], annot=True, cmap='Blues', xticklabels=labels, vmin=0.8, vmax=1)\n",
    "\n",
    "# Set labels and title\n",
    "ax.set_xlabel('Metrics', fontsize=15)\n",
    "ax.set_ylabel('Classes', fontsize=15)\n",
    "ax.set_title('Classification Report', fontsize=18)\n",
    "\n",
    "# Create a colorbar\n",
    "#cbar = ax.collections[0].colorbar\n",
    "#cbar.set_ticks([0.5, 1])  # Set custom tick locations\n",
    "#cbar.set_ticklabels(['0', '0.5', '1'])  # Set custom tick labels\n",
    "\n",
    "# Adjust layout\n",
    "plt.tight_layout()\n",
    "\n",
    "# Show the plot\n",
    "plt.show()\n"
   ]
  },
  {
   "cell_type": "markdown",
   "id": "6569ad52",
   "metadata": {},
   "source": [
    "## Event wise performance"
   ]
  },
  {
   "cell_type": "code",
   "execution_count": 28,
   "id": "0413dedc",
   "metadata": {},
   "outputs": [
    {
     "data": {
      "image/png": "[encoded data removed]",
      "text/plain": [
       "<Figure size 576x396 with 2 Axes>"
      ]
     },
     "metadata": {},
     "output_type": "display_data"
    },
    {
     "data": {
      "image/png": "[encoded data removed]",
      "text/plain": [
       "<Figure size 576x396 with 2 Axes>"
      ]
     },
     "metadata": {},
     "output_type": "display_data"
    }
   ],
   "source": [
    "probs_all = best_model.predict_proba(x_test)\n",
    "\n",
    "X_test['labelled'] = y_num_test\n",
    "X_test['classified'] = y_pred\n",
    "X_test['eq_probability'] = probs_all[:,0]\n",
    "X_test['px_probability'] = probs_all[:,1]\n",
    "X_test['no_probability'] = probs_all[:,2]\n",
    "X_test['su_probability'] = probs_all[:,3]\n",
    "\n",
    "\n",
    "mean_labels = X_test.groupby('event_id').mean()['labelled'].values\n",
    "mean_ids = X_test.groupby('event_id').mean().index.values\n",
    "\n",
    "\n",
    "\n",
    "mean_eq_prob = X_test.groupby('event_id').mean()['eq_probability'].values\n",
    "mean_px_prob = X_test.groupby('event_id').mean()['px_probability'].values\n",
    "mean_no_prob = X_test.groupby('event_id').mean()['no_probability'].values\n",
    "mean_su_prob = X_test.groupby('event_id').mean()['su_probability'].values\n",
    "\n",
    "\n",
    "\n",
    "temp_class = np.argmax(np.vstack([mean_eq_prob, mean_px_prob, mean_no_prob, mean_su_prob]), axis = 0)\n",
    "temp_probs = np.max(np.vstack([mean_eq_prob, mean_px_prob, mean_no_prob, mean_su_prob]), axis = 0)\n",
    "\n",
    "\n",
    "\n",
    "cf_events_tsf = confusion_matrix(mean_labels, temp_class)\n",
    "cf_norm = cf_events_tsf/np.sum(cf_events_tsf, axis = 1, keepdims = True)\n",
    "labels = ['earthquake','explosion','noise','surface events']\n",
    "\n",
    "plt.figure()\n",
    "ax = sns.heatmap(cf_events_tsf, annot = True, cmap='Blues', xticklabels = labels, yticklabels = labels,  fmt=\"1.0f\")\n",
    "ax.set_xlabel('Predicted', fontsize = 12)\n",
    "ax.set_ylabel('Labeled', fontsize = 12)\n",
    "ax.set_title('Total Events: '+str(len(mean_labels)), fontsize = 20)\n",
    "plt.tight_layout()\n",
    "\n",
    "\n",
    "\n",
    "\n",
    "# Calculate the classification report\n",
    "report_event_tsf = classification_report(mean_labels, temp_class, output_dict=True)\n",
    "labels = ['Precision', 'Recall', 'F1-Score']\n",
    "\n",
    "# Set a pleasing style\n",
    "sns.set_style(\"whitegrid\")\n",
    "\n",
    "# Create a figure and axes for the heatmap\n",
    "plt.figure()\n",
    "ax = sns.heatmap(pd.DataFrame(report_event_tsf).iloc[:3, :4], annot=True, cmap='Blues', xticklabels=labels, vmin=0.8, vmax=1)\n",
    "\n",
    "# Set labels and title\n",
    "ax.set_xlabel('Metrics', fontsize=15)\n",
    "ax.set_ylabel('Classes', fontsize=15)\n",
    "ax.set_title('Classification Report', fontsize=18)\n",
    "\n",
    "# Create a colorbar\n",
    "#cbar = ax.collections[0].colorbar\n",
    "#cbar.set_ticks([0.5, 1])  # Set custom tick locations\n",
    "#cbar.set_ticklabels(['0', '0.5', '1'])  # Set custom tick labels\n",
    "\n",
    "# Adjust layout\n",
    "plt.tight_layout()\n",
    "\n",
    "# Show the plot\n",
    "plt.show()\n"
   ]
  },
  {
   "cell_type": "markdown",
   "id": "197fdb58",
   "metadata": {},
   "source": []
  },
  {
   "cell_type": "markdown",
   "id": "f9c32290",
   "metadata": {},
   "source": [
    "## Saving results of different models"
   ]
  },
  {
   "cell_type": "code",
   "execution_count": 33,
   "id": "bf3a0883",
   "metadata": {},
   "outputs": [],
   "source": [
    "# Saving every result into disk\n",
    "\n",
    "# Saving trace results\n",
    "\n",
    "## physical + tsfel\n",
    "# Save to a file\n",
    "with open('../results/trace_report_tsf.pkl', 'wb') as pickle_file:\n",
    "    pickle.dump(trace_report_tsf, pickle_file)\n",
    "\n",
    "    \n",
    "# Save to a file\n",
    "with open('../results/trace_confusion_matrix_tsf.pkl', 'wb') as pickle_file:\n",
    "    pickle.dump(trace_cm_tsf, pickle_file)\n",
    "    \n",
    "    \n",
    "\n",
    "# Saving event results\n",
    "\n",
    "with open('../results/event_report_tsf.pkl', 'wb') as pickle_file:\n",
    "    pickle.dump(report_event_tsf, pickle_file)\n",
    "\n",
    "    \n",
    "\n",
    "with open('../results/event_confusion_matrix_tsf.pkl', 'wb') as pickle_file:\n",
    "    pickle.dump(cf_events_tsf, pickle_file)\n",
    "\n",
    "    "
   ]
  },
  {
   "cell_type": "code",
   "execution_count": null,
   "id": "1fe5e4ee",
   "metadata": {},
   "outputs": [],
   "source": []
  },
  {
   "cell_type": "code",
   "execution_count": null,
   "id": "c8305214",
   "metadata": {},
   "outputs": [],
   "source": []
  },
  {
   "cell_type": "code",
   "execution_count": null,
   "id": "c0a93833",
   "metadata": {},
   "outputs": [],
   "source": []
  }
 ],
 "metadata": {
  "kernelspec": {
   "display_name": "roses_2021",
   "language": "python",
   "name": "roses_2021"
  },
  "language_info": {
   "codemirror_mode": {
    "name": "ipython",
    "version": 3
   },
   "file_extension": ".py",
   "mimetype": "text/x-python",
   "name": "python",
   "nbconvert_exporter": "python",
   "pygments_lexer": "ipython3",
   "version": "3.9.5"
  }
 },
 "nbformat": 4,
 "nbformat_minor": 5
}
