{
 "cells": [
  {
   "cell_type": "code",
   "execution_count": null,
   "id": "16642376",
   "metadata": {},
   "outputs": [
    {
     "name": "stderr",
     "output_type": "stream",
     "text": [
      "100%|██████████| 2/2 [00:00<00:00, 1528.26it/s]\n",
      "100%|██████████| 2/2 [00:00<00:00, 2081.54it/s]\n",
      "100%|██████████| 2/2 [00:00<00:00, 2290.72it/s]\n",
      "100%|██████████| 2/2 [00:00<00:00, 1933.30it/s]"
     ]
    },
    {
     "name": "stdout",
     "output_type": "stream",
     "text": [
      "2000\n"
     ]
    },
    {
     "name": "stderr",
     "output_type": "stream",
     "text": [
      "\n",
      "  0%|          | 0/2 [00:00<?, ?it/s]/home/ak287/PNW_Seismic_Event_Classification/notebooks/../feature_extraction_scripts/physical_feature_extraction_scripts/seis_feature.py:153: RuntimeWarning: invalid value encountered in double_scalars\n",
      "  'Gamma': lambda: ((np.dot(self.freq, self.ft**(2)) / np.sum(self.ft**(2)))**(2) - ((np.dot(self.freq**(2), self.ft**(2)) / np.sum(self.ft**(2)))**(0.5))**(2))**(0.5),\n",
      "100%|██████████| 2/2 [00:00<00:00, 11.44it/s]\n",
      "  0%|          | 0/2 [00:00<?, ?it/s]/home/ak287/PNW_Seismic_Event_Classification/notebooks/../feature_extraction_scripts/physical_feature_extraction_scripts/seis_feature.py:153: RuntimeWarning: invalid value encountered in double_scalars\n",
      "  'Gamma': lambda: ((np.dot(self.freq, self.ft**(2)) / np.sum(self.ft**(2)))**(2) - ((np.dot(self.freq**(2), self.ft**(2)) / np.sum(self.ft**(2)))**(0.5))**(2))**(0.5),\n",
      "100%|██████████| 2/2 [00:00<00:00, 15.85it/s]\n",
      "  0%|          | 0/2 [00:00<?, ?it/s]/home/ak287/PNW_Seismic_Event_Classification/notebooks/../feature_extraction_scripts/physical_feature_extraction_scripts/seis_feature.py:153: RuntimeWarning: invalid value encountered in double_scalars\n",
      "  'Gamma': lambda: ((np.dot(self.freq, self.ft**(2)) / np.sum(self.ft**(2)))**(2) - ((np.dot(self.freq**(2), self.ft**(2)) / np.sum(self.ft**(2)))**(0.5))**(2))**(0.5),\n",
      "100%|██████████| 2/2 [00:00<00:00, 11.45it/s]\n",
      "  0%|          | 0/2 [00:00<?, ?it/s]/home/ak287/PNW_Seismic_Event_Classification/notebooks/../feature_extraction_scripts/physical_feature_extraction_scripts/seis_feature.py:153: RuntimeWarning: invalid value encountered in double_scalars\n",
      "  'Gamma': lambda: ((np.dot(self.freq, self.ft**(2)) / np.sum(self.ft**(2)))**(2) - ((np.dot(self.freq**(2), self.ft**(2)) / np.sum(self.ft**(2)))**(0.5))**(2))**(0.5),\n",
      "100%|██████████| 2/2 [00:00<00:00, 12.68it/s]\n"
     ]
    },
    {
     "name": "stdout",
     "output_type": "stream",
     "text": [
      "10_30_1_10_50: 2.323258399963379\n"
     ]
    },
    {
     "name": "stderr",
     "output_type": "stream",
     "text": [
      "100%|██████████| 2/2 [00:00<00:00, 1352.13it/s]\n",
      "100%|██████████| 2/2 [00:00<00:00, 1957.67it/s]\n",
      "100%|██████████| 2/2 [00:00<00:00, 2243.54it/s]\n",
      "100%|██████████| 2/2 [00:00<00:00, 1704.66it/s]"
     ]
    },
    {
     "name": "stdout",
     "output_type": "stream",
     "text": [
      "2500\n"
     ]
    },
    {
     "name": "stderr",
     "output_type": "stream",
     "text": [
      "\n",
      "  0%|          | 0/2 [00:00<?, ?it/s]/home/ak287/PNW_Seismic_Event_Classification/notebooks/../feature_extraction_scripts/physical_feature_extraction_scripts/seis_feature.py:153: RuntimeWarning: invalid value encountered in double_scalars\n",
      "  'Gamma': lambda: ((np.dot(self.freq, self.ft**(2)) / np.sum(self.ft**(2)))**(2) - ((np.dot(self.freq**(2), self.ft**(2)) / np.sum(self.ft**(2)))**(0.5))**(2))**(0.5),\n",
      "100%|██████████| 2/2 [00:00<00:00, 12.68it/s]\n",
      "  0%|          | 0/2 [00:00<?, ?it/s]/home/ak287/PNW_Seismic_Event_Classification/notebooks/../feature_extraction_scripts/physical_feature_extraction_scripts/seis_feature.py:153: RuntimeWarning: invalid value encountered in double_scalars\n",
      "  'Gamma': lambda: ((np.dot(self.freq, self.ft**(2)) / np.sum(self.ft**(2)))**(2) - ((np.dot(self.freq**(2), self.ft**(2)) / np.sum(self.ft**(2)))**(0.5))**(2))**(0.5),\n",
      "100%|██████████| 2/2 [00:00<00:00,  9.92it/s]\n",
      "  0%|          | 0/2 [00:00<?, ?it/s]/home/ak287/PNW_Seismic_Event_Classification/notebooks/../feature_extraction_scripts/physical_feature_extraction_scripts/seis_feature.py:153: RuntimeWarning: invalid value encountered in double_scalars\n",
      "  'Gamma': lambda: ((np.dot(self.freq, self.ft**(2)) / np.sum(self.ft**(2)))**(2) - ((np.dot(self.freq**(2), self.ft**(2)) / np.sum(self.ft**(2)))**(0.5))**(2))**(0.5),\n",
      "100%|██████████| 2/2 [00:00<00:00, 12.82it/s]\n",
      "  0%|          | 0/2 [00:00<?, ?it/s]/home/ak287/PNW_Seismic_Event_Classification/notebooks/../feature_extraction_scripts/physical_feature_extraction_scripts/seis_feature.py:153: RuntimeWarning: invalid value encountered in double_scalars\n",
      "  'Gamma': lambda: ((np.dot(self.freq, self.ft**(2)) / np.sum(self.ft**(2)))**(2) - ((np.dot(self.freq**(2), self.ft**(2)) / np.sum(self.ft**(2)))**(0.5))**(2))**(0.5),\n",
      "100%|██████████| 2/2 [00:00<00:00, 10.10it/s]\n"
     ]
    },
    {
     "name": "stdout",
     "output_type": "stream",
     "text": [
      "10_40_1_10_50: 2.302011013031006\n"
     ]
    },
    {
     "name": "stderr",
     "output_type": "stream",
     "text": [
      "100%|██████████| 2/2 [00:00<00:00, 1148.02it/s]\n",
      "100%|██████████| 2/2 [00:00<00:00, 1911.72it/s]\n",
      "100%|██████████| 2/2 [00:00<00:00, 2281.37it/s]\n",
      "100%|██████████| 2/2 [00:00<00:00, 1893.16it/s]\n"
     ]
    },
    {
     "name": "stdout",
     "output_type": "stream",
     "text": [
      "3500\n"
     ]
    },
    {
     "name": "stderr",
     "output_type": "stream",
     "text": [
      "  0%|          | 0/2 [00:00<?, ?it/s]/home/ak287/PNW_Seismic_Event_Classification/notebooks/../feature_extraction_scripts/physical_feature_extraction_scripts/seis_feature.py:153: RuntimeWarning: invalid value encountered in double_scalars\n",
      "  'Gamma': lambda: ((np.dot(self.freq, self.ft**(2)) / np.sum(self.ft**(2)))**(2) - ((np.dot(self.freq**(2), self.ft**(2)) / np.sum(self.ft**(2)))**(0.5))**(2))**(0.5),\n",
      "100%|██████████| 2/2 [00:00<00:00, 10.05it/s]\n",
      "  0%|          | 0/2 [00:00<?, ?it/s]/home/ak287/PNW_Seismic_Event_Classification/notebooks/../feature_extraction_scripts/physical_feature_extraction_scripts/seis_feature.py:153: RuntimeWarning: invalid value encountered in double_scalars\n",
      "  'Gamma': lambda: ((np.dot(self.freq, self.ft**(2)) / np.sum(self.ft**(2)))**(2) - ((np.dot(self.freq**(2), self.ft**(2)) / np.sum(self.ft**(2)))**(0.5))**(2))**(0.5),\n",
      "100%|██████████| 2/2 [00:00<00:00,  7.37it/s]\n",
      "  0%|          | 0/2 [00:00<?, ?it/s]/home/ak287/PNW_Seismic_Event_Classification/notebooks/../feature_extraction_scripts/physical_feature_extraction_scripts/seis_feature.py:153: RuntimeWarning: invalid value encountered in double_scalars\n",
      "  'Gamma': lambda: ((np.dot(self.freq, self.ft**(2)) / np.sum(self.ft**(2)))**(2) - ((np.dot(self.freq**(2), self.ft**(2)) / np.sum(self.ft**(2)))**(0.5))**(2))**(0.5),\n",
      "100%|██████████| 2/2 [00:00<00:00,  9.92it/s]\n",
      "  0%|          | 0/2 [00:00<?, ?it/s]/home/ak287/PNW_Seismic_Event_Classification/notebooks/../feature_extraction_scripts/physical_feature_extraction_scripts/seis_feature.py:153: RuntimeWarning: invalid value encountered in double_scalars\n",
      "  'Gamma': lambda: ((np.dot(self.freq, self.ft**(2)) / np.sum(self.ft**(2)))**(2) - ((np.dot(self.freq**(2), self.ft**(2)) / np.sum(self.ft**(2)))**(0.5))**(2))**(0.5),\n",
      "100%|██████████| 2/2 [00:00<00:00,  9.98it/s]\n"
     ]
    },
    {
     "name": "stdout",
     "output_type": "stream",
     "text": [
      "20_50_1_10_50: 2.5460054874420166\n"
     ]
    },
    {
     "name": "stderr",
     "output_type": "stream",
     "text": [
      "100%|██████████| 2/2 [00:00<00:00, 1417.71it/s]\n",
      "100%|██████████| 2/2 [00:00<00:00, 2097.68it/s]\n",
      "100%|██████████| 2/2 [00:00<00:00, 2300.14it/s]\n",
      "100%|██████████| 2/2 [00:00<00:00, 1820.05it/s]"
     ]
    },
    {
     "name": "stdout",
     "output_type": "stream",
     "text": [
      "1250\n"
     ]
    },
    {
     "name": "stderr",
     "output_type": "stream",
     "text": [
      "\n",
      "  0%|          | 0/2 [00:00<?, ?it/s]/home/ak287/PNW_Seismic_Event_Classification/notebooks/../feature_extraction_scripts/physical_feature_extraction_scripts/seis_feature.py:153: RuntimeWarning: invalid value encountered in double_scalars\n",
      "  'Gamma': lambda: ((np.dot(self.freq, self.ft**(2)) / np.sum(self.ft**(2)))**(2) - ((np.dot(self.freq**(2), self.ft**(2)) / np.sum(self.ft**(2)))**(0.5))**(2))**(0.5),\n",
      "100%|██████████| 2/2 [00:00<00:00, 17.26it/s]\n",
      "  0%|          | 0/2 [00:00<?, ?it/s]/home/ak287/PNW_Seismic_Event_Classification/notebooks/../feature_extraction_scripts/physical_feature_extraction_scripts/seis_feature.py:153: RuntimeWarning: invalid value encountered in double_scalars\n",
      "  'Gamma': lambda: ((np.dot(self.freq, self.ft**(2)) / np.sum(self.ft**(2)))**(2) - ((np.dot(self.freq**(2), self.ft**(2)) / np.sum(self.ft**(2)))**(0.5))**(2))**(0.5),\n",
      "100%|██████████| 2/2 [00:00<00:00, 12.40it/s]\n",
      "  0%|          | 0/2 [00:00<?, ?it/s]/home/ak287/PNW_Seismic_Event_Classification/notebooks/../feature_extraction_scripts/physical_feature_extraction_scripts/seis_feature.py:153: RuntimeWarning: invalid value encountered in double_scalars\n",
      "  'Gamma': lambda: ((np.dot(self.freq, self.ft**(2)) / np.sum(self.ft**(2)))**(2) - ((np.dot(self.freq**(2), self.ft**(2)) / np.sum(self.ft**(2)))**(0.5))**(2))**(0.5),\n",
      "100%|██████████| 2/2 [00:00<00:00, 13.70it/s]\n",
      "  0%|          | 0/2 [00:00<?, ?it/s]/home/ak287/PNW_Seismic_Event_Classification/notebooks/../feature_extraction_scripts/physical_feature_extraction_scripts/seis_feature.py:153: RuntimeWarning: invalid value encountered in double_scalars\n",
      "  'Gamma': lambda: ((np.dot(self.freq, self.ft**(2)) / np.sum(self.ft**(2)))**(2) - ((np.dot(self.freq**(2), self.ft**(2)) / np.sum(self.ft**(2)))**(0.5))**(2))**(0.5),\n",
      "100%|██████████| 2/2 [00:00<00:00, 11.27it/s]\n"
     ]
    },
    {
     "name": "stdout",
     "output_type": "stream",
     "text": [
      "05_20_1_10_50: 2.2138941287994385\n"
     ]
    },
    {
     "name": "stderr",
     "output_type": "stream",
     "text": [
      "100%|██████████| 2/2 [00:00<00:00, 1362.45it/s]\n",
      "100%|██████████| 2/2 [00:00<00:00, 1796.66it/s]\n",
      "100%|██████████| 2/2 [00:00<00:00, 2159.79it/s]\n",
      "100%|██████████| 2/2 [00:00<00:00, 1743.63it/s]"
     ]
    },
    {
     "name": "stdout",
     "output_type": "stream",
     "text": [
      "7500\n"
     ]
    },
    {
     "name": "stderr",
     "output_type": "stream",
     "text": [
      "\n",
      "  0%|          | 0/2 [00:00<?, ?it/s]/home/ak287/PNW_Seismic_Event_Classification/notebooks/../feature_extraction_scripts/physical_feature_extraction_scripts/seis_feature.py:153: RuntimeWarning: invalid value encountered in double_scalars\n",
      "  'Gamma': lambda: ((np.dot(self.freq, self.ft**(2)) / np.sum(self.ft**(2)))**(2) - ((np.dot(self.freq**(2), self.ft**(2)) / np.sum(self.ft**(2)))**(0.5))**(2))**(0.5),\n",
      "100%|██████████| 2/2 [00:00<00:00,  7.44it/s]\n",
      "  0%|          | 0/2 [00:00<?, ?it/s]/home/ak287/PNW_Seismic_Event_Classification/notebooks/../feature_extraction_scripts/physical_feature_extraction_scripts/seis_feature.py:153: RuntimeWarning: invalid value encountered in double_scalars\n",
      "  'Gamma': lambda: ((np.dot(self.freq, self.ft**(2)) / np.sum(self.ft**(2)))**(2) - ((np.dot(self.freq**(2), self.ft**(2)) / np.sum(self.ft**(2)))**(0.5))**(2))**(0.5),\n",
      "100%|██████████| 2/2 [00:00<00:00,  8.40it/s]\n",
      "  0%|          | 0/2 [00:00<?, ?it/s]/home/ak287/PNW_Seismic_Event_Classification/notebooks/../feature_extraction_scripts/physical_feature_extraction_scripts/seis_feature.py:153: RuntimeWarning: invalid value encountered in double_scalars\n",
      "  'Gamma': lambda: ((np.dot(self.freq, self.ft**(2)) / np.sum(self.ft**(2)))**(2) - ((np.dot(self.freq**(2), self.ft**(2)) / np.sum(self.ft**(2)))**(0.5))**(2))**(0.5),\n",
      "100%|██████████| 2/2 [00:00<00:00,  7.38it/s]\n",
      "  0%|          | 0/2 [00:00<?, ?it/s]/home/ak287/PNW_Seismic_Event_Classification/notebooks/../feature_extraction_scripts/physical_feature_extraction_scripts/seis_feature.py:153: RuntimeWarning: invalid value encountered in double_scalars\n",
      "  'Gamma': lambda: ((np.dot(self.freq, self.ft**(2)) / np.sum(self.ft**(2)))**(2) - ((np.dot(self.freq**(2), self.ft**(2)) / np.sum(self.ft**(2)))**(0.5))**(2))**(0.5),\n",
      "100%|██████████| 2/2 [00:00<00:00,  7.29it/s]\n"
     ]
    },
    {
     "name": "stdout",
     "output_type": "stream",
     "text": [
      "50_100_1_10_50: 2.587608814239502\n"
     ]
    },
    {
     "name": "stderr",
     "output_type": "stream",
     "text": [
      "100%|██████████| 2/2 [00:00<00:00, 1303.39it/s]\n",
      "100%|██████████| 2/2 [00:00<00:00, 1838.80it/s]\n",
      "100%|██████████| 2/2 [00:00<00:00, 1985.00it/s]\n",
      "100%|██████████| 2/2 [00:00<00:00, 1703.96it/s]"
     ]
    },
    {
     "name": "stdout",
     "output_type": "stream",
     "text": [
      "2000\n"
     ]
    },
    {
     "name": "stderr",
     "output_type": "stream",
     "text": [
      "\n",
      "  0%|          | 0/2 [00:00<?, ?it/s]/home/ak287/PNW_Seismic_Event_Classification/notebooks/../feature_extraction_scripts/physical_feature_extraction_scripts/seis_feature.py:153: RuntimeWarning: invalid value encountered in double_scalars\n",
      "  'Gamma': lambda: ((np.dot(self.freq, self.ft**(2)) / np.sum(self.ft**(2)))**(2) - ((np.dot(self.freq**(2), self.ft**(2)) / np.sum(self.ft**(2)))**(0.5))**(2))**(0.5),\n",
      "100%|██████████| 2/2 [00:00<00:00, 10.77it/s]\n",
      "  0%|          | 0/2 [00:00<?, ?it/s]/home/ak287/PNW_Seismic_Event_Classification/notebooks/../feature_extraction_scripts/physical_feature_extraction_scripts/seis_feature.py:153: RuntimeWarning: invalid value encountered in double_scalars\n",
      "  'Gamma': lambda: ((np.dot(self.freq, self.ft**(2)) / np.sum(self.ft**(2)))**(2) - ((np.dot(self.freq**(2), self.ft**(2)) / np.sum(self.ft**(2)))**(0.5))**(2))**(0.5),\n",
      "100%|██████████| 2/2 [00:00<00:00, 10.54it/s]\n",
      "  0%|          | 0/2 [00:00<?, ?it/s]/home/ak287/PNW_Seismic_Event_Classification/notebooks/../feature_extraction_scripts/physical_feature_extraction_scripts/seis_feature.py:153: RuntimeWarning: invalid value encountered in double_scalars\n",
      "  'Gamma': lambda: ((np.dot(self.freq, self.ft**(2)) / np.sum(self.ft**(2)))**(2) - ((np.dot(self.freq**(2), self.ft**(2)) / np.sum(self.ft**(2)))**(0.5))**(2))**(0.5),\n",
      "100%|██████████| 2/2 [00:00<00:00, 10.89it/s]\n",
      "  0%|          | 0/2 [00:00<?, ?it/s]/home/ak287/PNW_Seismic_Event_Classification/notebooks/../feature_extraction_scripts/physical_feature_extraction_scripts/seis_feature.py:153: RuntimeWarning: invalid value encountered in double_scalars\n",
      "  'Gamma': lambda: ((np.dot(self.freq, self.ft**(2)) / np.sum(self.ft**(2)))**(2) - ((np.dot(self.freq**(2), self.ft**(2)) / np.sum(self.ft**(2)))**(0.5))**(2))**(0.5),\n",
      "100%|██████████| 2/2 [00:00<00:00, 10.31it/s]\n"
     ]
    },
    {
     "name": "stdout",
     "output_type": "stream",
     "text": [
      "10_30_1_15_50: 2.3963165283203125\n"
     ]
    },
    {
     "name": "stderr",
     "output_type": "stream",
     "text": [
      "100%|██████████| 2/2 [00:00<00:00, 1143.95it/s]\n",
      "100%|██████████| 2/2 [00:00<00:00, 1954.48it/s]\n",
      "100%|██████████| 2/2 [00:00<00:00, 2292.60it/s]\n",
      "100%|██████████| 2/2 [00:00<00:00, 1863.72it/s]"
     ]
    },
    {
     "name": "stdout",
     "output_type": "stream",
     "text": [
      "2500\n"
     ]
    },
    {
     "name": "stderr",
     "output_type": "stream",
     "text": [
      "\n",
      "  0%|          | 0/2 [00:00<?, ?it/s]/home/ak287/PNW_Seismic_Event_Classification/notebooks/../feature_extraction_scripts/physical_feature_extraction_scripts/seis_feature.py:153: RuntimeWarning: invalid value encountered in double_scalars\n",
      "  'Gamma': lambda: ((np.dot(self.freq, self.ft**(2)) / np.sum(self.ft**(2)))**(2) - ((np.dot(self.freq**(2), self.ft**(2)) / np.sum(self.ft**(2)))**(0.5))**(2))**(0.5),\n",
      "100%|██████████| 2/2 [00:00<00:00, 11.55it/s]\n",
      "  0%|          | 0/2 [00:00<?, ?it/s]/home/ak287/PNW_Seismic_Event_Classification/notebooks/../feature_extraction_scripts/physical_feature_extraction_scripts/seis_feature.py:153: RuntimeWarning: invalid value encountered in double_scalars\n",
      "  'Gamma': lambda: ((np.dot(self.freq, self.ft**(2)) / np.sum(self.ft**(2)))**(2) - ((np.dot(self.freq**(2), self.ft**(2)) / np.sum(self.ft**(2)))**(0.5))**(2))**(0.5),\n",
      "100%|██████████| 2/2 [00:00<00:00, 12.08it/s]\n",
      "  0%|          | 0/2 [00:00<?, ?it/s]/home/ak287/PNW_Seismic_Event_Classification/notebooks/../feature_extraction_scripts/physical_feature_extraction_scripts/seis_feature.py:153: RuntimeWarning: invalid value encountered in double_scalars\n",
      "  'Gamma': lambda: ((np.dot(self.freq, self.ft**(2)) / np.sum(self.ft**(2)))**(2) - ((np.dot(self.freq**(2), self.ft**(2)) / np.sum(self.ft**(2)))**(0.5))**(2))**(0.5),\n",
      "100%|██████████| 2/2 [00:00<00:00, 13.47it/s]\n",
      "  0%|          | 0/2 [00:00<?, ?it/s]/home/ak287/PNW_Seismic_Event_Classification/notebooks/../feature_extraction_scripts/physical_feature_extraction_scripts/seis_feature.py:153: RuntimeWarning: invalid value encountered in double_scalars\n",
      "  'Gamma': lambda: ((np.dot(self.freq, self.ft**(2)) / np.sum(self.ft**(2)))**(2) - ((np.dot(self.freq**(2), self.ft**(2)) / np.sum(self.ft**(2)))**(0.5))**(2))**(0.5),\n",
      "100%|██████████| 2/2 [00:00<00:00, 11.69it/s]\n"
     ]
    },
    {
     "name": "stdout",
     "output_type": "stream",
     "text": [
      "10_40_1_15_50: 2.3064804077148438\n"
     ]
    },
    {
     "name": "stderr",
     "output_type": "stream",
     "text": [
      "100%|██████████| 2/2 [00:00<00:00, 1184.16it/s]\n",
      "100%|██████████| 2/2 [00:00<00:00, 2012.14it/s]\n",
      "100%|██████████| 2/2 [00:00<00:00, 1871.62it/s]\n",
      "100%|██████████| 2/2 [00:00<00:00, 1860.41it/s]\n"
     ]
    },
    {
     "name": "stdout",
     "output_type": "stream",
     "text": [
      "3500\n"
     ]
    },
    {
     "name": "stderr",
     "output_type": "stream",
     "text": [
      "  0%|          | 0/2 [00:00<?, ?it/s]/home/ak287/PNW_Seismic_Event_Classification/notebooks/../feature_extraction_scripts/physical_feature_extraction_scripts/seis_feature.py:153: RuntimeWarning: invalid value encountered in double_scalars\n",
      "  'Gamma': lambda: ((np.dot(self.freq, self.ft**(2)) / np.sum(self.ft**(2)))**(2) - ((np.dot(self.freq**(2), self.ft**(2)) / np.sum(self.ft**(2)))**(0.5))**(2))**(0.5),\n",
      "100%|██████████| 2/2 [00:00<00:00,  9.89it/s]\n",
      "  0%|          | 0/2 [00:00<?, ?it/s]/home/ak287/PNW_Seismic_Event_Classification/notebooks/../feature_extraction_scripts/physical_feature_extraction_scripts/seis_feature.py:153: RuntimeWarning: invalid value encountered in double_scalars\n",
      "  'Gamma': lambda: ((np.dot(self.freq, self.ft**(2)) / np.sum(self.ft**(2)))**(2) - ((np.dot(self.freq**(2), self.ft**(2)) / np.sum(self.ft**(2)))**(0.5))**(2))**(0.5),\n",
      "100%|██████████| 2/2 [00:00<00:00,  9.88it/s]\n",
      "  0%|          | 0/2 [00:00<?, ?it/s]/home/ak287/PNW_Seismic_Event_Classification/notebooks/../feature_extraction_scripts/physical_feature_extraction_scripts/seis_feature.py:153: RuntimeWarning: invalid value encountered in double_scalars\n",
      "  'Gamma': lambda: ((np.dot(self.freq, self.ft**(2)) / np.sum(self.ft**(2)))**(2) - ((np.dot(self.freq**(2), self.ft**(2)) / np.sum(self.ft**(2)))**(0.5))**(2))**(0.5),\n",
      "100%|██████████| 2/2 [00:00<00:00,  9.92it/s]\n",
      "  0%|          | 0/2 [00:00<?, ?it/s]/home/ak287/PNW_Seismic_Event_Classification/notebooks/../feature_extraction_scripts/physical_feature_extraction_scripts/seis_feature.py:153: RuntimeWarning: invalid value encountered in double_scalars\n",
      "  'Gamma': lambda: ((np.dot(self.freq, self.ft**(2)) / np.sum(self.ft**(2)))**(2) - ((np.dot(self.freq**(2), self.ft**(2)) / np.sum(self.ft**(2)))**(0.5))**(2))**(0.5),\n",
      "100%|██████████| 2/2 [00:00<00:00, 10.17it/s]\n"
     ]
    },
    {
     "name": "stdout",
     "output_type": "stream",
     "text": [
      "20_50_1_15_50: 2.441948652267456\n"
     ]
    },
    {
     "name": "stderr",
     "output_type": "stream",
     "text": [
      "100%|██████████| 2/2 [00:00<00:00, 1397.87it/s]\n",
      "100%|██████████| 2/2 [00:00<00:00, 1792.05it/s]\n",
      "100%|██████████| 2/2 [00:00<00:00, 2106.63it/s]\n",
      "100%|██████████| 2/2 [00:00<00:00, 1867.04it/s]"
     ]
    },
    {
     "name": "stdout",
     "output_type": "stream",
     "text": [
      "1250\n"
     ]
    },
    {
     "name": "stderr",
     "output_type": "stream",
     "text": [
      "\n",
      "  0%|          | 0/2 [00:00<?, ?it/s]/home/ak287/PNW_Seismic_Event_Classification/notebooks/../feature_extraction_scripts/physical_feature_extraction_scripts/seis_feature.py:153: RuntimeWarning: invalid value encountered in double_scalars\n",
      "  'Gamma': lambda: ((np.dot(self.freq, self.ft**(2)) / np.sum(self.ft**(2)))**(2) - ((np.dot(self.freq**(2), self.ft**(2)) / np.sum(self.ft**(2)))**(0.5))**(2))**(0.5),\n",
      "100%|██████████| 2/2 [00:00<00:00, 12.03it/s]\n",
      "  0%|          | 0/2 [00:00<?, ?it/s]/home/ak287/PNW_Seismic_Event_Classification/notebooks/../feature_extraction_scripts/physical_feature_extraction_scripts/seis_feature.py:153: RuntimeWarning: invalid value encountered in double_scalars\n",
      "  'Gamma': lambda: ((np.dot(self.freq, self.ft**(2)) / np.sum(self.ft**(2)))**(2) - ((np.dot(self.freq**(2), self.ft**(2)) / np.sum(self.ft**(2)))**(0.5))**(2))**(0.5),\n",
      "100%|██████████| 2/2 [00:00<00:00, 11.78it/s]\n",
      "  0%|          | 0/2 [00:00<?, ?it/s]/home/ak287/PNW_Seismic_Event_Classification/notebooks/../feature_extraction_scripts/physical_feature_extraction_scripts/seis_feature.py:153: RuntimeWarning: invalid value encountered in double_scalars\n",
      "  'Gamma': lambda: ((np.dot(self.freq, self.ft**(2)) / np.sum(self.ft**(2)))**(2) - ((np.dot(self.freq**(2), self.ft**(2)) / np.sum(self.ft**(2)))**(0.5))**(2))**(0.5),\n",
      "100%|██████████| 2/2 [00:00<00:00, 10.84it/s]\n",
      "  0%|          | 0/2 [00:00<?, ?it/s]/home/ak287/PNW_Seismic_Event_Classification/notebooks/../feature_extraction_scripts/physical_feature_extraction_scripts/seis_feature.py:153: RuntimeWarning: invalid value encountered in double_scalars\n",
      "  'Gamma': lambda: ((np.dot(self.freq, self.ft**(2)) / np.sum(self.ft**(2)))**(2) - ((np.dot(self.freq**(2), self.ft**(2)) / np.sum(self.ft**(2)))**(0.5))**(2))**(0.5),\n",
      "100%|██████████| 2/2 [00:00<00:00, 10.56it/s]\n"
     ]
    },
    {
     "name": "stdout",
     "output_type": "stream",
     "text": [
      "05_20_1_15_50: 2.2917613983154297\n"
     ]
    },
    {
     "name": "stderr",
     "output_type": "stream",
     "text": [
      "100%|██████████| 2/2 [00:00<00:00, 1347.78it/s]\n",
      "100%|██████████| 2/2 [00:00<00:00, 1923.55it/s]\n",
      "100%|██████████| 2/2 [00:00<00:00, 2262.30it/s]\n",
      "100%|██████████| 2/2 [00:00<00:00, 1781.02it/s]"
     ]
    },
    {
     "name": "stdout",
     "output_type": "stream",
     "text": [
      "7500\n"
     ]
    },
    {
     "name": "stderr",
     "output_type": "stream",
     "text": [
      "\n",
      "  0%|          | 0/2 [00:00<?, ?it/s]/home/ak287/PNW_Seismic_Event_Classification/notebooks/../feature_extraction_scripts/physical_feature_extraction_scripts/seis_feature.py:153: RuntimeWarning: invalid value encountered in double_scalars\n",
      "  'Gamma': lambda: ((np.dot(self.freq, self.ft**(2)) / np.sum(self.ft**(2)))**(2) - ((np.dot(self.freq**(2), self.ft**(2)) / np.sum(self.ft**(2)))**(0.5))**(2))**(0.5),\n",
      "100%|██████████| 2/2 [00:00<00:00,  7.35it/s]\n",
      "  0%|          | 0/2 [00:00<?, ?it/s]/home/ak287/PNW_Seismic_Event_Classification/notebooks/../feature_extraction_scripts/physical_feature_extraction_scripts/seis_feature.py:153: RuntimeWarning: invalid value encountered in double_scalars\n",
      "  'Gamma': lambda: ((np.dot(self.freq, self.ft**(2)) / np.sum(self.ft**(2)))**(2) - ((np.dot(self.freq**(2), self.ft**(2)) / np.sum(self.ft**(2)))**(0.5))**(2))**(0.5),\n",
      "100%|██████████| 2/2 [00:00<00:00,  5.72it/s]\n",
      "  0%|          | 0/2 [00:00<?, ?it/s]/home/ak287/PNW_Seismic_Event_Classification/notebooks/../feature_extraction_scripts/physical_feature_extraction_scripts/seis_feature.py:153: RuntimeWarning: invalid value encountered in double_scalars\n",
      "  'Gamma': lambda: ((np.dot(self.freq, self.ft**(2)) / np.sum(self.ft**(2)))**(2) - ((np.dot(self.freq**(2), self.ft**(2)) / np.sum(self.ft**(2)))**(0.5))**(2))**(0.5),\n",
      "100%|██████████| 2/2 [00:00<00:00,  9.66it/s]\n",
      "  0%|          | 0/2 [00:00<?, ?it/s]/home/ak287/PNW_Seismic_Event_Classification/notebooks/../feature_extraction_scripts/physical_feature_extraction_scripts/seis_feature.py:153: RuntimeWarning: invalid value encountered in double_scalars\n",
      "  'Gamma': lambda: ((np.dot(self.freq, self.ft**(2)) / np.sum(self.ft**(2)))**(2) - ((np.dot(self.freq**(2), self.ft**(2)) / np.sum(self.ft**(2)))**(0.5))**(2))**(0.5),\n",
      "100%|██████████| 2/2 [00:00<00:00,  7.44it/s]\n"
     ]
    },
    {
     "name": "stdout",
     "output_type": "stream",
     "text": [
      "50_100_1_15_50: 2.6474063396453857\n"
     ]
    },
    {
     "name": "stderr",
     "output_type": "stream",
     "text": [
      "100%|██████████| 2/2 [00:00<00:00, 1135.59it/s]\n",
      "100%|██████████| 2/2 [00:00<00:00, 1914.33it/s]\n",
      "100%|██████████| 2/2 [00:00<00:00, 2182.26it/s]\n",
      "100%|██████████| 2/2 [00:00<00:00, 1680.07it/s]"
     ]
    },
    {
     "name": "stdout",
     "output_type": "stream",
     "text": [
      "2000\n"
     ]
    },
    {
     "name": "stderr",
     "output_type": "stream",
     "text": [
      "\n",
      "  0%|          | 0/2 [00:00<?, ?it/s]/home/ak287/PNW_Seismic_Event_Classification/notebooks/../feature_extraction_scripts/physical_feature_extraction_scripts/seis_feature.py:153: RuntimeWarning: invalid value encountered in double_scalars\n",
      "  'Gamma': lambda: ((np.dot(self.freq, self.ft**(2)) / np.sum(self.ft**(2)))**(2) - ((np.dot(self.freq**(2), self.ft**(2)) / np.sum(self.ft**(2)))**(0.5))**(2))**(0.5),\n",
      "100%|██████████| 2/2 [00:00<00:00, 11.41it/s]\n",
      "  0%|          | 0/2 [00:00<?, ?it/s]/home/ak287/PNW_Seismic_Event_Classification/notebooks/../feature_extraction_scripts/physical_feature_extraction_scripts/seis_feature.py:153: RuntimeWarning: invalid value encountered in double_scalars\n",
      "  'Gamma': lambda: ((np.dot(self.freq, self.ft**(2)) / np.sum(self.ft**(2)))**(2) - ((np.dot(self.freq**(2), self.ft**(2)) / np.sum(self.ft**(2)))**(0.5))**(2))**(0.5),\n",
      "100%|██████████| 2/2 [00:00<00:00,  8.29it/s]\n",
      "  0%|          | 0/2 [00:00<?, ?it/s]/home/ak287/PNW_Seismic_Event_Classification/notebooks/../feature_extraction_scripts/physical_feature_extraction_scripts/seis_feature.py:153: RuntimeWarning: invalid value encountered in double_scalars\n",
      "  'Gamma': lambda: ((np.dot(self.freq, self.ft**(2)) / np.sum(self.ft**(2)))**(2) - ((np.dot(self.freq**(2), self.ft**(2)) / np.sum(self.ft**(2)))**(0.5))**(2))**(0.5),\n",
      "100%|██████████| 2/2 [00:00<00:00, 10.96it/s]\n",
      "  0%|          | 0/2 [00:00<?, ?it/s]/home/ak287/PNW_Seismic_Event_Classification/notebooks/../feature_extraction_scripts/physical_feature_extraction_scripts/seis_feature.py:153: RuntimeWarning: invalid value encountered in double_scalars\n",
      "  'Gamma': lambda: ((np.dot(self.freq, self.ft**(2)) / np.sum(self.ft**(2)))**(2) - ((np.dot(self.freq**(2), self.ft**(2)) / np.sum(self.ft**(2)))**(0.5))**(2))**(0.5),\n",
      "100%|██████████| 2/2 [00:00<00:00, 13.41it/s]\n"
     ]
    },
    {
     "name": "stdout",
     "output_type": "stream",
     "text": [
      "10_30_05_10_50: 2.4072985649108887\n"
     ]
    },
    {
     "name": "stderr",
     "output_type": "stream",
     "text": [
      "100%|██████████| 2/2 [00:00<00:00, 1271.39it/s]\n",
      "100%|██████████| 2/2 [00:00<00:00, 2022.81it/s]\n",
      "100%|██████████| 2/2 [00:00<00:00, 2280.75it/s]\n",
      "100%|██████████| 2/2 [00:00<00:00, 1890.18it/s]"
     ]
    },
    {
     "name": "stdout",
     "output_type": "stream",
     "text": [
      "2500\n"
     ]
    },
    {
     "name": "stderr",
     "output_type": "stream",
     "text": [
      "\n",
      "  0%|          | 0/2 [00:00<?, ?it/s]/home/ak287/PNW_Seismic_Event_Classification/notebooks/../feature_extraction_scripts/physical_feature_extraction_scripts/seis_feature.py:153: RuntimeWarning: invalid value encountered in double_scalars\n",
      "  'Gamma': lambda: ((np.dot(self.freq, self.ft**(2)) / np.sum(self.ft**(2)))**(2) - ((np.dot(self.freq**(2), self.ft**(2)) / np.sum(self.ft**(2)))**(0.5))**(2))**(0.5),\n",
      " 50%|█████     | 1/2 [00:00<00:00,  7.58it/s]"
     ]
    }
   ],
   "source": [
    "import numpy as np\n",
    "import pandas as pd\n",
    "from glob import glob \n",
    "from tqdm import tqdm\n",
    "import seaborn as sns \n",
    "\n",
    "# for converting the text file containing the quarry locations into csv file\n",
    "import csv\n",
    "\n",
    "# for computing the geographical distance between two points \n",
    "import math\n",
    "\n",
    "\n",
    "from sklearn.model_selection import train_test_split\n",
    "from imblearn.under_sampling import RandomUnderSampler\n",
    "import matplotlib.pyplot as plt\n",
    "from sklearn.ensemble import RandomForestClassifier\n",
    "from sklearn.metrics import accuracy_score, roc_curve, roc_auc_score, auc, classification_report, confusion_matrix\n",
    "from sklearn.model_selection import RandomizedSearchCV, GridSearchCV, cross_val_score\n",
    "from datetime import datetime\n",
    "import h5py\n",
    "from sklearn.preprocessing import LabelEncoder\n",
    "from scipy import stats, signal\n",
    "from sklearn.preprocessing import StandardScaler\n",
    "import obspy\n",
    "from obspy.geodetics.base import gps2dist_azimuth, gps2dist_azimuth\n",
    "from obspy.clients.fdsn import Client\n",
    "import time\n",
    "pd.set_option('display.max_columns', None)\n",
    "from joblib import dump, load\n",
    "from obspy.signal.filter import envelope\n",
    "import tsfel\n",
    "\n",
    "\n",
    "import sys\n",
    "sys.path.append('../feature_extraction_scripts/physical_feature_extraction_scripts')\n",
    "import seis_feature\n",
    "#from seis_feature import compute_physical_features\n",
    "from tsfel import time_series_features_extractor, get_features_by_domain\n",
    "from datetime import timedelta\n",
    "import os\n",
    "import sys\n",
    "sys.path.append('../common_scripts')\n",
    "\n",
    "from common_processing_functions import apply_cosine_taper\n",
    "from common_processing_functions import butterworth_filter\n",
    "\n",
    "import pickle\n",
    "from zenodo_get import zenodo_get\n",
    "\n",
    "from multiprocessing import Pool, cpu_count\n",
    "from scipy.signal import resample\n",
    "from obspy import UTCDateTime\n",
    "\n",
    "\n",
    "\n",
    "\n",
    "def resample_array(arr, original_rate, desired_rate):\n",
    "    num_samples = len(arr)\n",
    "    duration = num_samples / original_rate  # Duration of the array in seconds\n",
    "    new_num_samples = int(duration * desired_rate)\n",
    "    return resample(arr, new_num_samples)\n",
    "\n",
    "\n",
    "\n",
    "\n",
    "def process_file(h5_file, indices, buckets, times, win_before, win_after, pick_time, nos):\n",
    "    data = []\n",
    "    t = []\n",
    "    with h5py.File(h5_file, 'r') as f:\n",
    "        for i in tqdm(range(nos)):\n",
    "            data.append(f['/data/' + buckets[i]][indices[i], 2, pick_time - win_before:pick_time + win_after])\n",
    "            t.append(UTCDateTime(times[i]))\n",
    "    return np.array(data), np.array(t)\n",
    "\n",
    "def extract_features(data, t, cfg_file, fs):\n",
    "    df = pd.DataFrame([])\n",
    "    for i in tqdm(range(len(data))):\n",
    "        try:\n",
    "            tsfel_features = tsfel.time_series_features_extractor(cfg_file, data[i], fs=fs, verbose = 0)\n",
    "            physical_features = seis_feature.FeatureCalculator(data[i], fs=fs).compute_features()\n",
    "            final_features = pd.concat([tsfel_features, physical_features], axis=1)\n",
    "            final_features['hod'] = t[i].hour - 8\n",
    "            final_features['dow'] = t[i].weekday\n",
    "            final_features['moy'] = t[i].month\n",
    "            df = pd.concat([df, final_features])\n",
    "        except:\n",
    "            pass\n",
    "\n",
    "  \n",
    "    return df\n",
    "\n",
    "def compute_features(win_before=2000, win_after=3000, nos=300, fmin=1, fmax=10, fs=100):\n",
    "    comcat_file_name = \"/data/whd01/yiyu_data/PNWML/comcat_waveforms.hdf5\"\n",
    "    comcat_csv_file = pd.read_csv(\"/data/whd01/yiyu_data/PNWML/comcat_metadata.csv\")\n",
    "\n",
    "    buckets = [name.split('$')[0] for name in comcat_csv_file['trace_name'].values]\n",
    "    indices = [int(name.split('$')[1].split(',')[0]) for name in comcat_csv_file['trace_name'].values]\n",
    "    source = comcat_csv_file['source_type'].values\n",
    "\n",
    "    exp_indices = np.where(source == 'explosion')[0]\n",
    "    eq_indices = np.where(source == 'earthquake')[0]\n",
    "\n",
    "    data_exp, t_exp = process_file(comcat_file_name, np.array(indices)[exp_indices], np.array(buckets)[exp_indices], \n",
    "                                   comcat_csv_file['trace_start_time'].values[exp_indices], win_before, win_after, 5000, nos)\n",
    "    \n",
    "    data_eq, t_eq = process_file(comcat_file_name, np.array(indices)[eq_indices], np.array(buckets)[eq_indices], \n",
    "                                 comcat_csv_file['trace_start_time'].values[eq_indices], win_before, win_after, 5000, nos)\n",
    "\n",
    "    exotic_file_name = \"/data/whd01/yiyu_data/PNWML/exotic_waveforms.hdf5\"\n",
    "    exotic_csv_file = pd.read_csv(\"/data/whd01/yiyu_data/PNWML/exotic_metadata.csv\")\n",
    "    \n",
    "    buckets = [name.split('$')[0] for name in exotic_csv_file['trace_name'].values]\n",
    "    indices = [int(name.split('$')[1].split(',')[0]) for name in exotic_csv_file['trace_name'].values]\n",
    "    source = exotic_csv_file['source_type'].values\n",
    "    \n",
    "    su_indices = np.where(source == 'surface event')[0]\n",
    "\n",
    "    data_su, t_su = process_file(exotic_file_name, np.array(indices)[su_indices], np.array(buckets)[su_indices], \n",
    "                                 exotic_csv_file['trace_start_time'].values[su_indices], win_before, win_after, 7000, nos)\n",
    "\n",
    "    noise_file_name = \"/data/whd01/yiyu_data/PNWML/noise_waveforms.hdf5\"\n",
    "    noise_csv_file = pd.read_csv(\"/data/whd01/yiyu_data/PNWML/noise_metadata.csv\")\n",
    "\n",
    "    buckets = [name.split('$')[0] for name in noise_csv_file['trace_name'].values]\n",
    "    indices = [int(name.split('$')[1].split(',')[0]) for name in noise_csv_file['trace_name'].values]\n",
    "\n",
    "    data_no, t_no = process_file(noise_file_name, np.array(indices), np.array(buckets), \n",
    "                                 noise_csv_file['trace_start_time'].values, win_before, win_after, 5000, nos)\n",
    "\n",
    "    tp = 10\n",
    "    nc = 4\n",
    "\n",
    "    def process_data(data):\n",
    "        tapered = apply_cosine_taper(data, taper_percent=tp)\n",
    "        filtered = np.array(butterworth_filter(tapered, fmin, fmax, fs, nc, 'bandpass'))\n",
    "        return filtered / np.max(np.abs(filtered), axis=1)[:, np.newaxis]\n",
    "\n",
    "    norm_eq = process_data(data_eq)\n",
    "    norm_exp = process_data(data_exp)\n",
    "    norm_su = process_data(data_su)\n",
    "    norm_no = process_data(data_no)\n",
    "\n",
    "    norm_eq = np.array([resample_array(arr, 100, fs) for arr in norm_eq])\n",
    "    norm_exp = np.array([resample_array(arr, 100, fs) for arr in norm_exp])\n",
    "    norm_su = np.array([resample_array(arr, 100, fs) for arr in norm_su])\n",
    "    norm_no = np.array([resample_array(arr, 100, fs) for arr in norm_no])\n",
    "    \n",
    "    print(len(norm_eq[0]))\n",
    "    \n",
    "    cfg_file = tsfel.get_features_by_domain()\n",
    "\n",
    "    with Pool(cpu_count()) as pool:\n",
    "        df_eq = pool.apply_async(extract_features, (norm_eq, t_eq, cfg_file, fs)).get()\n",
    "        df_exp = pool.apply_async(extract_features, (norm_exp, t_exp, cfg_file, fs)).get()\n",
    "        df_su = pool.apply_async(extract_features, (norm_su, t_su, cfg_file, fs)).get()\n",
    "        df_no = pool.apply_async(extract_features, (norm_no, t_no, cfg_file, fs)).get()\n",
    "\n",
    "    return df_eq, df_exp, df_su, df_no\n",
    "\n",
    "\n",
    "\n",
    "\n",
    "\n",
    "\n",
    "import time\n",
    "import pickle\n",
    "\n",
    "def run_compute_features(params):\n",
    "    results = []\n",
    "    for param in params:\n",
    "        # Extract prefix and remove it from the parameter dictionary\n",
    "        prefix = param.pop(\"prefix\")\n",
    "        results.append((prefix, compute_features(**param)))\n",
    "        # Re-add the prefix for any future use of the parameter set\n",
    "        param[\"prefix\"] = prefix\n",
    "    return results\n",
    "\n",
    "# Parameters for different runs\n",
    "param_sets = [\n",
    "    {\"win_before\": 1000, \"win_after\": 3000, \"nos\": 2, \"fmin\": 1, \"fmax\": 10, \"fs\": 50, \"prefix\": \"10_30_1_10_50\"},\n",
    "    {\"win_before\": 1000, \"win_after\": 4000, \"nos\": 2, \"fmin\": 1, \"fmax\": 10, \"fs\": 50, \"prefix\": \"10_40_1_10_50\"},\n",
    "    {\"win_before\": 2000, \"win_after\": 5000, \"nos\": 2, \"fmin\": 1, \"fmax\": 10, \"fs\": 50, \"prefix\": \"20_50_1_10_50\"},\n",
    "    {\"win_before\": 500, \"win_after\": 2000, \"nos\": 2, \"fmin\": 1, \"fmax\": 10, \"fs\": 50, \"prefix\": \"05_20_1_10_50\"},\n",
    "    {\"win_before\": 5000, \"win_after\": 10000, \"nos\": 2, \"fmin\": 1, \"fmax\": 10, \"fs\": 50, \"prefix\": \"50_100_1_10_50\"},\n",
    "    {\"win_before\": 1000, \"win_after\": 3000, \"nos\": 2, \"fmin\": 1, \"fmax\": 15, \"fs\": 50, \"prefix\": \"10_30_1_15_50\"},\n",
    "    {\"win_before\": 1000, \"win_after\": 4000, \"nos\": 2, \"fmin\": 1, \"fmax\": 15, \"fs\": 50, \"prefix\": \"10_40_1_15_50\"},\n",
    "    {\"win_before\": 2000, \"win_after\": 5000, \"nos\": 2, \"fmin\": 1, \"fmax\": 15, \"fs\": 50, \"prefix\": \"20_50_1_15_50\"},\n",
    "    {\"win_before\": 500, \"win_after\": 2000, \"nos\": 2, \"fmin\": 1, \"fmax\": 15, \"fs\": 50, \"prefix\": \"05_20_1_15_50\"},\n",
    "    {\"win_before\": 5000, \"win_after\": 10000, \"nos\": 2, \"fmin\": 1, \"fmax\": 15, \"fs\": 50, \"prefix\": \"50_100_1_15_50\"},\n",
    "    {\"win_before\": 1000, \"win_after\": 3000, \"nos\": 2, \"fmin\": 0.5, \"fmax\": 10, \"fs\": 50, \"prefix\": \"10_30_05_10_50\"},\n",
    "    {\"win_before\": 1000, \"win_after\": 4000, \"nos\": 2, \"fmin\": 0.5, \"fmax\": 10, \"fs\": 50, \"prefix\": \"10_40_05_10_50\"},\n",
    "    {\"win_before\": 2000, \"win_after\": 5000, \"nos\": 2, \"fmin\": 0.5, \"fmax\": 10, \"fs\": 50, \"prefix\": \"20_50_05_10_50\"},\n",
    "    {\"win_before\": 500, \"win_after\": 2000, \"nos\": 2, \"fmin\": 0.5, \"fmax\": 10, \"fs\": 50, \"prefix\": \"05_20_05_10_50\"},\n",
    "    {\"win_before\": 5000, \"win_after\": 10000, \"nos\": 2, \"fmin\": 0.5, \"fmax\": 10, \"fs\": 50, \"prefix\": \"50_100_05_10_50\"},\n",
    "    {\"win_before\": 1000, \"win_after\": 3000, \"nos\": 2, \"fmin\": 0.5, \"fmax\": 15, \"fs\": 50, \"prefix\": \"10_30_05_15_50\"},\n",
    "    {\"win_before\": 1000, \"win_after\": 4000, \"nos\": 2, \"fmin\": 0.5, \"fmax\": 15, \"fs\": 50, \"prefix\": \"10_40_05_15_50\"},\n",
    "    {\"win_before\": 2000, \"win_after\": 5000, \"nos\": 2, \"fmin\": 0.5, \"fmax\": 15, \"fs\": 50, \"prefix\": \"20_50_05_15_50\"},\n",
    "    {\"win_before\": 500, \"win_after\": 2000, \"nos\": 2, \"fmin\": 0.5, \"fmax\": 15, \"fs\": 50, \"prefix\": \"05_20_05_15_50\"},\n",
    "    {\"win_before\": 5000, \"win_after\": 10000, \"nos\": 2, \"fmin\": 0.5, \"fmax\": 15, \"fs\": 50, \"prefix\": \"50_100_05_15_50\"}\n",
    "]\n",
    "\n",
    "# Run the computations and measure time\n",
    "all_results = []\n",
    "for param_set in param_sets:\n",
    "    init_time = time.time()\n",
    "    results = run_compute_features([param_set])\n",
    "    for prefix, result in results:\n",
    "        a, b, c, d = result\n",
    "        print(f\"{prefix}: {time.time() - init_time}\")\n",
    "        all_results.append((prefix, result))\n",
    "\n",
    "\n",
    "        \n",
    "        \n",
    "# Save the results to disk\n",
    "with open('../results/results_50.pkl', 'wb') as f:\n",
    "    pickle.dump(all_results, f)\n",
    "\n"
   ]
  },
  {
   "cell_type": "code",
   "execution_count": null,
   "id": "74af7b13",
   "metadata": {},
   "outputs": [],
   "source": [
    "all_results"
   ]
  },
  {
   "cell_type": "code",
   "execution_count": null,
   "id": "b2a7cd5e",
   "metadata": {},
   "outputs": [],
   "source": []
  }
 ],
 "metadata": {
  "kernelspec": {
   "display_name": "surface",
   "language": "python",
   "name": "surface"
  },
  "language_info": {
   "codemirror_mode": {
    "name": "ipython",
    "version": 3
   },
   "file_extension": ".py",
   "mimetype": "text/x-python",
   "name": "python",
   "nbconvert_exporter": "python",
   "pygments_lexer": "ipython3",
   "version": "3.9.5"
  }
 },
 "nbformat": 4,
 "nbformat_minor": 5
}
