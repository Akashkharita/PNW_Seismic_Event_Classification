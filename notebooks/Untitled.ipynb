{
 "cells": [
  {
   "cell_type": "code",
   "execution_count": 1,
   "id": "604ef84e",
   "metadata": {},
   "outputs": [],
   "source": [
    "import pandas as pd"
   ]
  },
  {
   "cell_type": "code",
   "execution_count": 4,
   "id": "ac05eca6",
   "metadata": {},
   "outputs": [],
   "source": [
    "sample_df = pd.read_csv('../extracted_features/new_physical_features_comcat_z_explosion_50_100.csv')"
   ]
  },
  {
   "cell_type": "code",
   "execution_count": 7,
   "id": "b599b246",
   "metadata": {},
   "outputs": [
    {
     "data": {
      "text/plain": [
       "Index(['Unnamed: 0', 'Window_Length', 'RappMaxMean', 'RappMaxMedian', 'AsDec',\n",
       "       'KurtoSig', 'KurtoEnv', 'SkewSig', 'SkewEnv', 'CorPeakNumber',\n",
       "       'Energy1/3Cor', 'Energy2/3Cor', 'int_ratio', 'RMSDecPhaseLine',\n",
       "       'MeanFFT', 'MaxFFT', 'FMaxFFT', 'MedianFFT', 'VarFFT', 'FCentroid',\n",
       "       'Fquart1', 'Fquart3', 'NPeakFFT', 'MeanPeaksFFT', 'E1FFT', 'E2FFT',\n",
       "       'E3FFT', 'E4FFT', 'Gamma1', 'Gamma2', 'Gamma', 'KurtoMaxDFT',\n",
       "       'KurtoMedianDFT', 'MaxOverMeanDFT', 'MaxOverMedianDFT',\n",
       "       'NbrPeaksMaxDFT', 'NbrPeaksMeanDFT', 'NbrPeaksMedianDFT', '45/46',\n",
       "       '45/47', 'NbrPeaksCentralFreq', 'NbrPeaksMaxFreq', '50/51',\n",
       "       'DistMaxMeanFreqDTF', 'DistMaxMedianFreqDTF', 'DistQ2Q1DFT',\n",
       "       'DistQ3Q2DFT', 'DistQ3Q1DFT', 'Peak_Envelope_Amplitude',\n",
       "       'Average_Envelope_Amplitude', 'Envelope_Area', 'Envelope_Velocity',\n",
       "       'Envelope_Rise_Time', 'E_0.1_1', 'Kurto_0.1_1', 'E_1_3', 'Kurto_1_3',\n",
       "       'E_3_10', 'Kurto_3_10', 'E_10_20', 'Kurto_10_20', 'E_20_50',\n",
       "       'Kurto_20_50', 'serial_no', 'source'],\n",
       "      dtype='object')"
      ]
     },
     "execution_count": 7,
     "metadata": {},
     "output_type": "execute_result"
    }
   ],
   "source": [
    "sample_df.columns"
   ]
  },
  {
   "cell_type": "code",
   "execution_count": 11,
   "id": "7cb3ed42",
   "metadata": {},
   "outputs": [
    {
     "data": {
      "text/plain": [
       "<AxesSubplot:>"
      ]
     },
     "execution_count": 11,
     "metadata": {},
     "output_type": "execute_result"
    },
    {
     "data": {
      "image/png": "[encoded data removed]",
      "text/plain": [
       "<Figure size 432x288 with 1 Axes>"
      ]
     },
     "metadata": {
      "needs_background": "light"
     },
     "output_type": "display_data"
    }
   ],
   "source": [
    "sample_df['KurtoEnv'].hist()"
   ]
  },
  {
   "cell_type": "code",
   "execution_count": null,
   "id": "0ed626f3",
   "metadata": {},
   "outputs": [],
   "source": []
  }
 ],
 "metadata": {
  "kernelspec": {
   "display_name": "roses_2021",
   "language": "python",
   "name": "roses_2021"
  },
  "language_info": {
   "codemirror_mode": {
    "name": "ipython",
    "version": 3
   },
   "file_extension": ".py",
   "mimetype": "text/x-python",
   "name": "python",
   "nbconvert_exporter": "python",
   "pygments_lexer": "ipython3",
   "version": "3.9.5"
  }
 },
 "nbformat": 4,
 "nbformat_minor": 5
}
