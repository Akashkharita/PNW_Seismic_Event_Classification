{
 "cells": [
  {
   "cell_type": "markdown",
   "id": "a9835252",
   "metadata": {},
   "source": [
    "- Created by Akash Kharita (PhD student, University of Washington)\n",
    "-05/26/2024\n",
    "\n",
    "This notebook involves comparison of performance of the random forest model trained on the commbination of over physical and tsfel features for various sampling rates, window lengths, and frequency bands "
   ]
  },
  {
   "cell_type": "code",
   "execution_count": 163,
   "id": "e554f7aa",
   "metadata": {},
   "outputs": [],
   "source": [
    "import numpy as np\n",
    "import pandas as pd\n",
    "from glob import glob \n",
    "from tqdm import tqdm\n",
    "import seaborn as sns \n",
    "\n",
    "# for converting the text file containing the quarry locations into csv file\n",
    "import csv\n",
    "\n",
    "# for computing the geographical distance between two points \n",
    "import math\n",
    "\n",
    "\n",
    "from sklearn.model_selection import train_test_split\n",
    "from imblearn.under_sampling import RandomUnderSampler\n",
    "import matplotlib.pyplot as plt\n",
    "from sklearn.ensemble import RandomForestClassifier\n",
    "from sklearn.metrics import accuracy_score, roc_curve, roc_auc_score, auc, classification_report, confusion_matrix\n",
    "from sklearn.model_selection import RandomizedSearchCV, GridSearchCV, cross_val_score\n",
    "from datetime import datetime\n",
    "import h5py\n",
    "from sklearn.preprocessing import LabelEncoder\n",
    "from scipy import stats, signal\n",
    "from sklearn.preprocessing import StandardScaler\n",
    "import obspy\n",
    "from obspy.geodetics.base import gps2dist_azimuth, gps2dist_azimuth\n",
    "from obspy.clients.fdsn import Client\n",
    "import time\n",
    "pd.set_option('display.max_columns', None)\n",
    "from joblib import dump, load\n",
    "from obspy.signal.filter import envelope\n",
    "import tsfel\n",
    "\n",
    "\n",
    "import sys\n",
    "sys.path.append('../feature_extraction_scripts/physical_feature_extraction_scripts')\n",
    "import seis_feature\n",
    "#from seis_feature import compute_physical_features\n",
    "from tsfel import time_series_features_extractor, get_features_by_domain\n",
    "from datetime import timedelta\n",
    "import os\n",
    "import sys\n",
    "sys.path.append('../common_scripts')\n",
    "\n",
    "from common_processing_functions import apply_cosine_taper\n",
    "from common_processing_functions import butterworth_filter\n",
    "\n",
    "import pickle\n",
    "from zenodo_get import zenodo_get\n",
    "\n",
    "from multiprocessing import Pool, cpu_count\n",
    "from scipy.signal import resample\n",
    "import pickle"
   ]
  },
  {
   "cell_type": "code",
   "execution_count": null,
   "id": "c9779846",
   "metadata": {},
   "outputs": [],
   "source": []
  },
  {
   "cell_type": "code",
   "execution_count": null,
   "id": "6a1b9ec4",
   "metadata": {},
   "outputs": [],
   "source": []
  },
  {
   "cell_type": "code",
   "execution_count": null,
   "id": "9cf89caf",
   "metadata": {
    "scrolled": true
   },
   "outputs": [],
   "source": []
  },
  {
   "cell_type": "code",
   "execution_count": null,
   "id": "34c49e64",
   "metadata": {},
   "outputs": [],
   "source": []
  },
  {
   "cell_type": "code",
   "execution_count": null,
   "id": "d8ff978a",
   "metadata": {},
   "outputs": [],
   "source": []
  },
  {
   "cell_type": "code",
   "execution_count": 197,
   "id": "8fb8f4a4",
   "metadata": {},
   "outputs": [],
   "source": [
    "def resample_array(arr, original_rate, desired_rate):\n",
    "    num_samples = len(arr)\n",
    "    duration = num_samples / original_rate  # Duration of the array in seconds\n",
    "    new_num_samples = int(duration * desired_rate)\n",
    "    return resample(arr, new_num_samples)\n",
    "\n",
    "\n",
    "\n",
    "\n",
    "def process_file(h5_file, indices, buckets, times, win_before, win_after, pick_time, nos):\n",
    "    data = []\n",
    "    t = []\n",
    "    with h5py.File(h5_file, 'r') as f:\n",
    "        for i in tqdm(range(nos)):\n",
    "            data.append(f['/data/' + buckets[i]][indices[i], 2, pick_time - win_before:pick_time + win_after])\n",
    "            t.append(UTCDateTime(times[i]))\n",
    "    return np.array(data), np.array(t)\n",
    "\n",
    "def extract_features(data, t, cfg_file, fs):\n",
    "    df = pd.DataFrame([])\n",
    "    for i in tqdm(range(len(data))):\n",
    "        try:\n",
    "            tsfel_features = tsfel.time_series_features_extractor(cfg_file, data[i], fs=fs, verbose = 0)\n",
    "            physical_features = seis_feature.FeatureCalculator(data[i], fs=fs).compute_features()\n",
    "            final_features = pd.concat([tsfel_features, physical_features], axis=1)\n",
    "            final_features['hod'] = t[i].hour - 8\n",
    "            final_features['dow'] = t[i].weekday\n",
    "            final_features['moy'] = t[i].month\n",
    "            df = pd.concat([df, final_features])\n",
    "        except:\n",
    "            pass\n",
    "  \n",
    "    return df\n",
    "\n",
    "def compute_features(win_before=2000, win_after=3000, nos=300, fmin=1, fmax=10, fs=100):\n",
    "    comcat_file_name = \"/data/whd01/yiyu_data/PNWML/comcat_waveforms.hdf5\"\n",
    "    comcat_csv_file = pd.read_csv(\"/data/whd01/yiyu_data/PNWML/comcat_metadata.csv\")\n",
    "\n",
    "    buckets = [name.split('$')[0] for name in comcat_csv_file['trace_name'].values]\n",
    "    indices = [int(name.split('$')[1].split(',')[0]) for name in comcat_csv_file['trace_name'].values]\n",
    "    source = comcat_csv_file['source_type'].values\n",
    "\n",
    "    exp_indices = np.where(source == 'explosion')[0]\n",
    "    eq_indices = np.where(source == 'earthquake')[0]\n",
    "\n",
    "    data_exp, t_exp = process_file(comcat_file_name, np.array(indices)[exp_indices], np.array(buckets)[exp_indices], \n",
    "                                   comcat_csv_file['trace_start_time'].values[exp_indices], win_before, win_after, 5000, nos)\n",
    "    \n",
    "    data_eq, t_eq = process_file(comcat_file_name, np.array(indices)[eq_indices], np.array(buckets)[eq_indices], \n",
    "                                 comcat_csv_file['trace_start_time'].values[eq_indices], win_before, win_after, 5000, nos)\n",
    "\n",
    "    exotic_file_name = \"/data/whd01/yiyu_data/PNWML/exotic_waveforms.hdf5\"\n",
    "    exotic_csv_file = pd.read_csv(\"/data/whd01/yiyu_data/PNWML/exotic_metadata.csv\")\n",
    "    \n",
    "    buckets = [name.split('$')[0] for name in exotic_csv_file['trace_name'].values]\n",
    "    indices = [int(name.split('$')[1].split(',')[0]) for name in exotic_csv_file['trace_name'].values]\n",
    "    source = exotic_csv_file['source_type'].values\n",
    "    \n",
    "    su_indices = np.where(source == 'surface event')[0]\n",
    "\n",
    "    data_su, t_su = process_file(exotic_file_name, np.array(indices)[su_indices], np.array(buckets)[su_indices], \n",
    "                                 exotic_csv_file['trace_start_time'].values[su_indices], win_before, win_after, 7000, nos)\n",
    "\n",
    "    noise_file_name = \"/data/whd01/yiyu_data/PNWML/noise_waveforms.hdf5\"\n",
    "    noise_csv_file = pd.read_csv(\"/data/whd01/yiyu_data/PNWML/noise_metadata.csv\")\n",
    "\n",
    "    buckets = [name.split('$')[0] for name in noise_csv_file['trace_name'].values]\n",
    "    indices = [int(name.split('$')[1].split(',')[0]) for name in noise_csv_file['trace_name'].values]\n",
    "\n",
    "    data_no, t_no = process_file(noise_file_name, np.array(indices), np.array(buckets), \n",
    "                                 noise_csv_file['trace_start_time'].values, win_before, win_after, 5000, nos)\n",
    "\n",
    "    tp = 10\n",
    "    nc = 4\n",
    "\n",
    "    def process_data(data):\n",
    "        tapered = apply_cosine_taper(data, taper_percent=tp)\n",
    "        filtered = np.array(butterworth_filter(tapered, fmin, fmax, fs, nc, 'bandpass'))\n",
    "        return filtered / np.max(np.abs(filtered), axis=1)[:, np.newaxis]\n",
    "\n",
    "    norm_eq = process_data(data_eq)\n",
    "    norm_exp = process_data(data_exp)\n",
    "    norm_su = process_data(data_su)\n",
    "    norm_no = process_data(data_no)\n",
    "\n",
    "    norm_eq = np.array([resample_array(arr, 100, fs) for arr in norm_eq])\n",
    "    norm_exp = np.array([resample_array(arr, 100, fs) for arr in norm_exp])\n",
    "    norm_su = np.array([resample_array(arr, 100, fs) for arr in norm_su])\n",
    "    norm_no = np.array([resample_array(arr, 100, fs) for arr in norm_no])\n",
    "    \n",
    "    print(len(norm_eq[0]))\n",
    "    \n",
    "    cfg_file = tsfel.get_features_by_domain()\n",
    "\n",
    "    with Pool(cpu_count()) as pool:\n",
    "        df_eq = pool.apply_async(extract_features, (norm_eq, t_eq, cfg_file, fs)).get()\n",
    "        df_exp = pool.apply_async(extract_features, (norm_exp, t_exp, cfg_file, fs)).get()\n",
    "        df_su = pool.apply_async(extract_features, (norm_su, t_su, cfg_file, fs)).get()\n",
    "        df_no = pool.apply_async(extract_features, (norm_no, t_no, cfg_file, fs)).get()\n",
    "\n",
    "    return df_eq, df_exp, df_su, df_no\n",
    "\n",
    "\n",
    "\n",
    "\n",
    "def compute_features_single_core(win_before=2000, win_after=3000, nos=300, fmin=1, fmax=10, fs=100):\n",
    "    comcat_file_name = \"/data/whd01/yiyu_data/PNWML/comcat_waveforms.hdf5\"\n",
    "    comcat_csv_file = pd.read_csv(\"/data/whd01/yiyu_data/PNWML/comcat_metadata.csv\")\n",
    "\n",
    "    buckets = [name.split('$')[0] for name in comcat_csv_file['trace_name'].values]\n",
    "    indices = [int(name.split('$')[1].split(',')[0]) for name in comcat_csv_file['trace_name'].values]\n",
    "    source = comcat_csv_file['source_type'].values\n",
    "\n",
    "    exp_indices = np.where(source == 'explosion')[0]\n",
    "    eq_indices = np.where(source == 'earthquake')[0]\n",
    "\n",
    "    data_exp, t_exp = process_file(comcat_file_name, np.array(indices)[exp_indices], np.array(buckets)[exp_indices], \n",
    "                                   comcat_csv_file['trace_start_time'].values[exp_indices], win_before, win_after, 5000, nos)\n",
    "    \n",
    "    data_eq, t_eq = process_file(comcat_file_name, np.array(indices)[eq_indices], np.array(buckets)[eq_indices], \n",
    "                                 comcat_csv_file['trace_start_time'].values[eq_indices], win_before, win_after, 5000, nos)\n",
    "\n",
    "    exotic_file_name = \"/data/whd01/yiyu_data/PNWML/exotic_waveforms.hdf5\"\n",
    "    exotic_csv_file = pd.read_csv(\"/data/whd01/yiyu_data/PNWML/exotic_metadata.csv\")\n",
    "    \n",
    "    buckets = [name.split('$')[0] for name in exotic_csv_file['trace_name'].values]\n",
    "    indices = [int(name.split('$')[1].split(',')[0]) for name in exotic_csv_file['trace_name'].values]\n",
    "    source = exotic_csv_file['source_type'].values\n",
    "    \n",
    "    su_indices = np.where(source == 'surface event')[0]\n",
    "\n",
    "    data_su, t_su = process_file(exotic_file_name, np.array(indices)[su_indices], np.array(buckets)[su_indices], \n",
    "                                 exotic_csv_file['trace_start_time'].values[su_indices], win_before, win_after, 7000, nos)\n",
    "\n",
    "    noise_file_name = \"/data/whd01/yiyu_data/PNWML/noise_waveforms.hdf5\"\n",
    "    noise_csv_file = pd.read_csv(\"/data/whd01/yiyu_data/PNWML/noise_metadata.csv\")\n",
    "\n",
    "    buckets = [name.split('$')[0] for name in noise_csv_file['trace_name'].values]\n",
    "    indices = [int(name.split('$')[1].split(',')[0]) for name in noise_csv_file['trace_name'].values]\n",
    "\n",
    "    data_no, t_no = process_file(noise_file_name, np.array(indices), np.array(buckets), \n",
    "                                 noise_csv_file['trace_start_time'].values, win_before, win_after, 5000, nos)\n",
    "\n",
    "    tp = 10\n",
    "    nc = 4\n",
    "\n",
    "    def process_data(data):\n",
    "        tapered = apply_cosine_taper(data, taper_percent=tp)\n",
    "        filtered = np.array(butterworth_filter(tapered, fmin, fmax, fs, nc, 'bandpass'))\n",
    "        return filtered / np.max(np.abs(filtered), axis=1)[:, np.newaxis]\n",
    "\n",
    "    norm_eq = process_data(data_eq)\n",
    "    norm_exp = process_data(data_exp)\n",
    "    norm_su = process_data(data_su)\n",
    "    norm_no = process_data(data_no)\n",
    "\n",
    "    norm_eq = np.array([resample_array(arr, 100, fs) for arr in norm_eq])\n",
    "    norm_exp = np.array([resample_array(arr, 100, fs) for arr in norm_exp])\n",
    "    norm_su = np.array([resample_array(arr, 100, fs) for arr in norm_su])\n",
    "    norm_no = np.array([resample_array(arr, 100, fs) for arr in norm_no])\n",
    "    \n",
    "    print(len(norm_eq[0]))\n",
    "    \n",
    "    cfg_file = tsfel.get_features_by_domain()\n",
    "\n",
    "    # Sequential feature extraction instead of parallel\n",
    "    df_eq = extract_features(norm_eq, t_eq, cfg_file, fs)\n",
    "    df_exp = extract_features(norm_exp, t_exp, cfg_file, fs)\n",
    "    df_su = extract_features(norm_su, t_su, cfg_file, fs)\n",
    "    df_no = extract_features(norm_no, t_no, cfg_file, fs)\n",
    "\n",
    "    return df_eq, df_exp, df_su, df_no"
   ]
  },
  {
   "cell_type": "code",
   "execution_count": null,
   "id": "facf7365",
   "metadata": {},
   "outputs": [],
   "source": []
  },
  {
   "cell_type": "code",
   "execution_count": null,
   "id": "d5c83cde",
   "metadata": {},
   "outputs": [],
   "source": []
  },
  {
   "cell_type": "code",
   "execution_count": null,
   "id": "4c9bbc3f",
   "metadata": {},
   "outputs": [],
   "source": []
  },
  {
   "cell_type": "code",
   "execution_count": null,
   "id": "7f1eab60",
   "metadata": {},
   "outputs": [],
   "source": []
  },
  {
   "cell_type": "code",
   "execution_count": 91,
   "id": "6b1e1051",
   "metadata": {},
   "outputs": [],
   "source": [
    "## The nomenclature will be like this - "
   ]
  },
  {
   "cell_type": "code",
   "execution_count": null,
   "id": "8349b9d7",
   "metadata": {},
   "outputs": [],
   "source": []
  },
  {
   "cell_type": "code",
   "execution_count": null,
   "id": "7ad9aa22",
   "metadata": {},
   "outputs": [],
   "source": []
  },
  {
   "cell_type": "code",
   "execution_count": null,
   "id": "631c82d1",
   "metadata": {
    "scrolled": false
   },
   "outputs": [],
   "source": []
  },
  {
   "cell_type": "code",
   "execution_count": null,
   "id": "1d04a11f",
   "metadata": {},
   "outputs": [],
   "source": []
  },
  {
   "cell_type": "code",
   "execution_count": 122,
   "id": "b4bbcaa9",
   "metadata": {},
   "outputs": [
    {
     "name": "stderr",
     "output_type": "stream",
     "text": [
      "100%|██████████| 3000/3000 [00:00<00:00, 3011.44it/s]\n",
      "100%|██████████| 3000/3000 [00:00<00:00, 3067.61it/s]\n",
      "100%|██████████| 3000/3000 [00:00<00:00, 3121.66it/s]\n",
      "100%|██████████| 3000/3000 [00:00<00:00, 3152.31it/s]\n",
      "/tmp/ipykernel_2964106/3986362663.py:79: RuntimeWarning: invalid value encountered in divide\n",
      "  return filtered / np.max(np.abs(filtered), axis=1)[:, np.newaxis]\n"
     ]
    },
    {
     "name": "stdout",
     "output_type": "stream",
     "text": [
      "1600\n"
     ]
    },
    {
     "name": "stderr",
     "output_type": "stream",
     "text": [
      "  0%|          | 0/3000 [00:00<?, ?it/s]/home/ak287/PNW_Seismic_Event_Classification/notebooks/../feature_extraction_scripts/physical_feature_extraction_scripts/seis_feature.py:101: RuntimeWarning: invalid value encountered in double_scalars\n",
      "  'Gamma': lambda: ((np.dot(self.freq, self.ft**(2)) / np.sum(self.ft**(2)))**(2) - ((np.dot(self.freq**(2), self.ft**(2)) / np.sum(self.ft**(2)))**(0.5))**(2))**(0.5),\n",
      " 70%|███████   | 2109/3000 [02:03<00:47, 18.57it/s]/home/ak287/PNW_Seismic_Event_Classification/notebooks/../feature_extraction_scripts/physical_feature_extraction_scripts/seis_feature.py:69: RuntimeWarning: divide by zero encountered in double_scalars\n",
      "  self.l = np.nanmax(self.env) - ((np.nanmax(self.env) / (self.t[-1] - self.t[np.nanargmax(self.env)])) * (self.t))\n",
      "/home/ak287/PNW_Seismic_Event_Classification/notebooks/../feature_extraction_scripts/physical_feature_extraction_scripts/seis_feature.py:69: RuntimeWarning: invalid value encountered in multiply\n",
      "  self.l = np.nanmax(self.env) - ((np.nanmax(self.env) / (self.t[-1] - self.t[np.nanargmax(self.env)])) * (self.t))\n",
      "/home/ak287/PNW_Seismic_Event_Classification/notebooks/../feature_extraction_scripts/physical_feature_extraction_scripts/seis_feature.py:75: RuntimeWarning: divide by zero encountered in double_scalars\n",
      "  'AsDec': lambda: (self.t[np.argmax(self.env)] - self.t[0]) / (self.t[-1] - self.t[np.argmax(self.env)]),\n",
      "100%|██████████| 3000/3000 [02:56<00:00, 17.04it/s]\n",
      "  0%|          | 0/3000 [00:00<?, ?it/s]/home/ak287/PNW_Seismic_Event_Classification/notebooks/../feature_extraction_scripts/physical_feature_extraction_scripts/seis_feature.py:101: RuntimeWarning: invalid value encountered in double_scalars\n",
      "  'Gamma': lambda: ((np.dot(self.freq, self.ft**(2)) / np.sum(self.ft**(2)))**(2) - ((np.dot(self.freq**(2), self.ft**(2)) / np.sum(self.ft**(2)))**(0.5))**(2))**(0.5),\n",
      "100%|██████████| 3000/3000 [02:58<00:00, 16.84it/s]\n",
      "  0%|          | 0/3000 [00:00<?, ?it/s]/home/ak287/PNW_Seismic_Event_Classification/notebooks/../feature_extraction_scripts/physical_feature_extraction_scripts/seis_feature.py:101: RuntimeWarning: invalid value encountered in double_scalars\n",
      "  'Gamma': lambda: ((np.dot(self.freq, self.ft**(2)) / np.sum(self.ft**(2)))**(2) - ((np.dot(self.freq**(2), self.ft**(2)) / np.sum(self.ft**(2)))**(0.5))**(2))**(0.5),\n",
      "100%|██████████| 3000/3000 [02:57<00:00, 16.90it/s]\n",
      "  0%|          | 0/3000 [00:00<?, ?it/s]/home/ak287/PNW_Seismic_Event_Classification/notebooks/../feature_extraction_scripts/physical_feature_extraction_scripts/seis_feature.py:101: RuntimeWarning: invalid value encountered in double_scalars\n",
      "  'Gamma': lambda: ((np.dot(self.freq, self.ft**(2)) / np.sum(self.ft**(2)))**(2) - ((np.dot(self.freq**(2), self.ft**(2)) / np.sum(self.ft**(2)))**(0.5))**(2))**(0.5),\n",
      "100%|██████████| 3000/3000 [02:55<00:00, 17.10it/s]\n"
     ]
    },
    {
     "name": "stdout",
     "output_type": "stream",
     "text": [
      "10_30_1_10_40: 730.0751059055328\n"
     ]
    },
    {
     "name": "stderr",
     "output_type": "stream",
     "text": [
      "100%|██████████| 3000/3000 [00:00<00:00, 3074.36it/s]\n",
      "100%|██████████| 3000/3000 [00:01<00:00, 2972.28it/s]\n",
      "100%|██████████| 3000/3000 [00:00<00:00, 3029.45it/s]\n",
      "100%|██████████| 3000/3000 [00:00<00:00, 3105.27it/s]\n"
     ]
    },
    {
     "name": "stdout",
     "output_type": "stream",
     "text": [
      "2000\n"
     ]
    },
    {
     "name": "stderr",
     "output_type": "stream",
     "text": [
      "  0%|          | 0/3000 [00:00<?, ?it/s]/home/ak287/PNW_Seismic_Event_Classification/notebooks/../feature_extraction_scripts/physical_feature_extraction_scripts/seis_feature.py:101: RuntimeWarning: invalid value encountered in double_scalars\n",
      "  'Gamma': lambda: ((np.dot(self.freq, self.ft**(2)) / np.sum(self.ft**(2)))**(2) - ((np.dot(self.freq**(2), self.ft**(2)) / np.sum(self.ft**(2)))**(0.5))**(2))**(0.5),\n",
      "100%|██████████| 3000/3000 [02:56<00:00, 17.02it/s]\n",
      "  0%|          | 0/3000 [00:00<?, ?it/s]/home/ak287/PNW_Seismic_Event_Classification/notebooks/../feature_extraction_scripts/physical_feature_extraction_scripts/seis_feature.py:101: RuntimeWarning: invalid value encountered in double_scalars\n",
      "  'Gamma': lambda: ((np.dot(self.freq, self.ft**(2)) / np.sum(self.ft**(2)))**(2) - ((np.dot(self.freq**(2), self.ft**(2)) / np.sum(self.ft**(2)))**(0.5))**(2))**(0.5),\n",
      "100%|██████████| 3000/3000 [03:01<00:00, 16.50it/s]\n",
      "  0%|          | 0/3000 [00:00<?, ?it/s]/home/ak287/PNW_Seismic_Event_Classification/notebooks/../feature_extraction_scripts/physical_feature_extraction_scripts/seis_feature.py:101: RuntimeWarning: invalid value encountered in double_scalars\n",
      "  'Gamma': lambda: ((np.dot(self.freq, self.ft**(2)) / np.sum(self.ft**(2)))**(2) - ((np.dot(self.freq**(2), self.ft**(2)) / np.sum(self.ft**(2)))**(0.5))**(2))**(0.5),\n",
      "100%|██████████| 3000/3000 [03:03<00:00, 16.39it/s]\n",
      "  0%|          | 0/3000 [00:00<?, ?it/s]/home/ak287/PNW_Seismic_Event_Classification/notebooks/../feature_extraction_scripts/physical_feature_extraction_scripts/seis_feature.py:101: RuntimeWarning: invalid value encountered in double_scalars\n",
      "  'Gamma': lambda: ((np.dot(self.freq, self.ft**(2)) / np.sum(self.ft**(2)))**(2) - ((np.dot(self.freq**(2), self.ft**(2)) / np.sum(self.ft**(2)))**(0.5))**(2))**(0.5),\n",
      "100%|██████████| 3000/3000 [03:01<00:00, 16.53it/s]\n"
     ]
    },
    {
     "name": "stdout",
     "output_type": "stream",
     "text": [
      "10_40_1_10_40: 739.2581851482391\n"
     ]
    },
    {
     "name": "stderr",
     "output_type": "stream",
     "text": [
      "100%|██████████| 3000/3000 [00:01<00:00, 2955.63it/s]\n",
      "100%|██████████| 3000/3000 [00:01<00:00, 2971.69it/s]\n",
      "100%|██████████| 3000/3000 [00:00<00:00, 3014.15it/s]\n",
      "100%|██████████| 3000/3000 [00:01<00:00, 2985.45it/s]\n"
     ]
    },
    {
     "name": "stdout",
     "output_type": "stream",
     "text": [
      "2800\n"
     ]
    },
    {
     "name": "stderr",
     "output_type": "stream",
     "text": [
      "  0%|          | 0/3000 [00:00<?, ?it/s]/home/ak287/PNW_Seismic_Event_Classification/notebooks/../feature_extraction_scripts/physical_feature_extraction_scripts/seis_feature.py:101: RuntimeWarning: invalid value encountered in double_scalars\n",
      "  'Gamma': lambda: ((np.dot(self.freq, self.ft**(2)) / np.sum(self.ft**(2)))**(2) - ((np.dot(self.freq**(2), self.ft**(2)) / np.sum(self.ft**(2)))**(0.5))**(2))**(0.5),\n",
      "100%|██████████| 3000/3000 [03:12<00:00, 15.61it/s]\n",
      "  0%|          | 0/3000 [00:00<?, ?it/s]/home/ak287/PNW_Seismic_Event_Classification/notebooks/../feature_extraction_scripts/physical_feature_extraction_scripts/seis_feature.py:101: RuntimeWarning: invalid value encountered in double_scalars\n",
      "  'Gamma': lambda: ((np.dot(self.freq, self.ft**(2)) / np.sum(self.ft**(2)))**(2) - ((np.dot(self.freq**(2), self.ft**(2)) / np.sum(self.ft**(2)))**(0.5))**(2))**(0.5),\n",
      "100%|██████████| 3000/3000 [03:12<00:00, 15.59it/s]\n",
      "  0%|          | 0/3000 [00:00<?, ?it/s]/home/ak287/PNW_Seismic_Event_Classification/notebooks/../feature_extraction_scripts/physical_feature_extraction_scripts/seis_feature.py:101: RuntimeWarning: invalid value encountered in double_scalars\n",
      "  'Gamma': lambda: ((np.dot(self.freq, self.ft**(2)) / np.sum(self.ft**(2)))**(2) - ((np.dot(self.freq**(2), self.ft**(2)) / np.sum(self.ft**(2)))**(0.5))**(2))**(0.5),\n",
      "100%|██████████| 3000/3000 [03:12<00:00, 15.54it/s]\n",
      "  0%|          | 0/3000 [00:00<?, ?it/s]/home/ak287/PNW_Seismic_Event_Classification/notebooks/../feature_extraction_scripts/physical_feature_extraction_scripts/seis_feature.py:101: RuntimeWarning: invalid value encountered in double_scalars\n",
      "  'Gamma': lambda: ((np.dot(self.freq, self.ft**(2)) / np.sum(self.ft**(2)))**(2) - ((np.dot(self.freq**(2), self.ft**(2)) / np.sum(self.ft**(2)))**(0.5))**(2))**(0.5),\n",
      "100%|██████████| 3000/3000 [03:13<00:00, 15.51it/s]\n"
     ]
    },
    {
     "name": "stdout",
     "output_type": "stream",
     "text": [
      "20_50_1_10_40: 801.4681854248047\n"
     ]
    },
    {
     "name": "stderr",
     "output_type": "stream",
     "text": [
      "100%|██████████| 3000/3000 [00:00<00:00, 3095.11it/s]\n",
      "100%|██████████| 3000/3000 [00:00<00:00, 3030.18it/s]\n",
      "100%|██████████| 3000/3000 [00:00<00:00, 3089.95it/s]\n",
      "100%|██████████| 3000/3000 [00:00<00:00, 3111.06it/s]\n"
     ]
    },
    {
     "name": "stdout",
     "output_type": "stream",
     "text": [
      "1000\n"
     ]
    },
    {
     "name": "stderr",
     "output_type": "stream",
     "text": [
      "  0%|          | 0/3000 [00:00<?, ?it/s]/home/ak287/PNW_Seismic_Event_Classification/notebooks/../feature_extraction_scripts/physical_feature_extraction_scripts/seis_feature.py:101: RuntimeWarning: invalid value encountered in double_scalars\n",
      "  'Gamma': lambda: ((np.dot(self.freq, self.ft**(2)) / np.sum(self.ft**(2)))**(2) - ((np.dot(self.freq**(2), self.ft**(2)) / np.sum(self.ft**(2)))**(0.5))**(2))**(0.5),\n",
      "  4%|▎         | 112/3000 [00:05<02:21, 20.48it/s]/home/ak287/PNW_Seismic_Event_Classification/notebooks/../feature_extraction_scripts/physical_feature_extraction_scripts/seis_feature.py:69: RuntimeWarning: divide by zero encountered in double_scalars\n",
      "  self.l = np.nanmax(self.env) - ((np.nanmax(self.env) / (self.t[-1] - self.t[np.nanargmax(self.env)])) * (self.t))\n",
      "/home/ak287/PNW_Seismic_Event_Classification/notebooks/../feature_extraction_scripts/physical_feature_extraction_scripts/seis_feature.py:69: RuntimeWarning: invalid value encountered in multiply\n",
      "  self.l = np.nanmax(self.env) - ((np.nanmax(self.env) / (self.t[-1] - self.t[np.nanargmax(self.env)])) * (self.t))\n",
      "/home/ak287/PNW_Seismic_Event_Classification/notebooks/../feature_extraction_scripts/physical_feature_extraction_scripts/seis_feature.py:75: RuntimeWarning: divide by zero encountered in double_scalars\n",
      "  'AsDec': lambda: (self.t[np.argmax(self.env)] - self.t[0]) / (self.t[-1] - self.t[np.argmax(self.env)]),\n",
      "100%|██████████| 3000/3000 [02:32<00:00, 19.64it/s]\n",
      "  0%|          | 0/3000 [00:00<?, ?it/s]/home/ak287/PNW_Seismic_Event_Classification/notebooks/../feature_extraction_scripts/physical_feature_extraction_scripts/seis_feature.py:101: RuntimeWarning: invalid value encountered in double_scalars\n",
      "  'Gamma': lambda: ((np.dot(self.freq, self.ft**(2)) / np.sum(self.ft**(2)))**(2) - ((np.dot(self.freq**(2), self.ft**(2)) / np.sum(self.ft**(2)))**(0.5))**(2))**(0.5),\n",
      " 66%|██████▌   | 1969/3000 [01:40<00:48, 21.17it/s]/home/ak287/PNW_Seismic_Event_Classification/notebooks/../feature_extraction_scripts/physical_feature_extraction_scripts/seis_feature.py:69: RuntimeWarning: divide by zero encountered in double_scalars\n",
      "  self.l = np.nanmax(self.env) - ((np.nanmax(self.env) / (self.t[-1] - self.t[np.nanargmax(self.env)])) * (self.t))\n",
      "/home/ak287/PNW_Seismic_Event_Classification/notebooks/../feature_extraction_scripts/physical_feature_extraction_scripts/seis_feature.py:69: RuntimeWarning: invalid value encountered in multiply\n",
      "  self.l = np.nanmax(self.env) - ((np.nanmax(self.env) / (self.t[-1] - self.t[np.nanargmax(self.env)])) * (self.t))\n",
      "/home/ak287/PNW_Seismic_Event_Classification/notebooks/../feature_extraction_scripts/physical_feature_extraction_scripts/seis_feature.py:75: RuntimeWarning: divide by zero encountered in double_scalars\n",
      "  'AsDec': lambda: (self.t[np.argmax(self.env)] - self.t[0]) / (self.t[-1] - self.t[np.argmax(self.env)]),\n",
      "100%|██████████| 3000/3000 [02:30<00:00, 19.89it/s]\n",
      "  0%|          | 0/3000 [00:00<?, ?it/s]/home/ak287/PNW_Seismic_Event_Classification/notebooks/../feature_extraction_scripts/physical_feature_extraction_scripts/seis_feature.py:101: RuntimeWarning: invalid value encountered in double_scalars\n",
      "  'Gamma': lambda: ((np.dot(self.freq, self.ft**(2)) / np.sum(self.ft**(2)))**(2) - ((np.dot(self.freq**(2), self.ft**(2)) / np.sum(self.ft**(2)))**(0.5))**(2))**(0.5),\n",
      "100%|██████████| 3000/3000 [02:35<00:00, 19.26it/s]\n",
      "  0%|          | 0/3000 [00:00<?, ?it/s]/home/ak287/PNW_Seismic_Event_Classification/notebooks/../feature_extraction_scripts/physical_feature_extraction_scripts/seis_feature.py:101: RuntimeWarning: invalid value encountered in double_scalars\n",
      "  'Gamma': lambda: ((np.dot(self.freq, self.ft**(2)) / np.sum(self.ft**(2)))**(2) - ((np.dot(self.freq**(2), self.ft**(2)) / np.sum(self.ft**(2)))**(0.5))**(2))**(0.5),\n",
      "100%|██████████| 3000/3000 [02:34<00:00, 19.40it/s]\n"
     ]
    },
    {
     "name": "stdout",
     "output_type": "stream",
     "text": [
      "05_20_1_10_40: 625.7471849918365\n"
     ]
    },
    {
     "name": "stderr",
     "output_type": "stream",
     "text": [
      "100%|██████████| 3000/3000 [00:01<00:00, 2664.67it/s]\n",
      "100%|██████████| 3000/3000 [00:01<00:00, 2599.55it/s]\n",
      "100%|██████████| 3000/3000 [00:01<00:00, 2776.65it/s]\n",
      "100%|██████████| 3000/3000 [00:01<00:00, 2618.23it/s]\n"
     ]
    },
    {
     "name": "stdout",
     "output_type": "stream",
     "text": [
      "6000\n"
     ]
    },
    {
     "name": "stderr",
     "output_type": "stream",
     "text": [
      "  0%|          | 0/3000 [00:00<?, ?it/s]/home/ak287/PNW_Seismic_Event_Classification/notebooks/../feature_extraction_scripts/physical_feature_extraction_scripts/seis_feature.py:101: RuntimeWarning: invalid value encountered in double_scalars\n",
      "  'Gamma': lambda: ((np.dot(self.freq, self.ft**(2)) / np.sum(self.ft**(2)))**(2) - ((np.dot(self.freq**(2), self.ft**(2)) / np.sum(self.ft**(2)))**(0.5))**(2))**(0.5),\n",
      "100%|██████████| 3000/3000 [04:12<00:00, 11.86it/s]\n",
      "  0%|          | 0/3000 [00:00<?, ?it/s]/home/ak287/PNW_Seismic_Event_Classification/notebooks/../feature_extraction_scripts/physical_feature_extraction_scripts/seis_feature.py:101: RuntimeWarning: invalid value encountered in double_scalars\n",
      "  'Gamma': lambda: ((np.dot(self.freq, self.ft**(2)) / np.sum(self.ft**(2)))**(2) - ((np.dot(self.freq**(2), self.ft**(2)) / np.sum(self.ft**(2)))**(0.5))**(2))**(0.5),\n",
      "100%|██████████| 3000/3000 [04:20<00:00, 11.49it/s]\n",
      "  0%|          | 0/3000 [00:00<?, ?it/s]/home/ak287/PNW_Seismic_Event_Classification/notebooks/../feature_extraction_scripts/physical_feature_extraction_scripts/seis_feature.py:101: RuntimeWarning: invalid value encountered in double_scalars\n",
      "  'Gamma': lambda: ((np.dot(self.freq, self.ft**(2)) / np.sum(self.ft**(2)))**(2) - ((np.dot(self.freq**(2), self.ft**(2)) / np.sum(self.ft**(2)))**(0.5))**(2))**(0.5),\n",
      "100%|██████████| 3000/3000 [04:22<00:00, 11.44it/s]\n",
      "  0%|          | 0/3000 [00:00<?, ?it/s]/home/ak287/PNW_Seismic_Event_Classification/notebooks/../feature_extraction_scripts/physical_feature_extraction_scripts/seis_feature.py:101: RuntimeWarning: invalid value encountered in double_scalars\n",
      "  'Gamma': lambda: ((np.dot(self.freq, self.ft**(2)) / np.sum(self.ft**(2)))**(2) - ((np.dot(self.freq**(2), self.ft**(2)) / np.sum(self.ft**(2)))**(0.5))**(2))**(0.5),\n",
      "100%|██████████| 3000/3000 [04:20<00:00, 11.50it/s]\n"
     ]
    },
    {
     "name": "stdout",
     "output_type": "stream",
     "text": [
      "50_100_1_10_40: 1093.5194659233093\n"
     ]
    },
    {
     "name": "stderr",
     "output_type": "stream",
     "text": [
      "100%|██████████| 3000/3000 [00:01<00:00, 2869.99it/s]\n",
      "100%|██████████| 3000/3000 [00:01<00:00, 2735.10it/s]\n",
      "100%|██████████| 3000/3000 [00:01<00:00, 2955.46it/s]\n",
      "100%|██████████| 3000/3000 [00:01<00:00, 2354.91it/s]\n"
     ]
    },
    {
     "name": "stdout",
     "output_type": "stream",
     "text": [
      "1600\n"
     ]
    },
    {
     "name": "stderr",
     "output_type": "stream",
     "text": [
      "  0%|          | 0/3000 [00:00<?, ?it/s]/home/ak287/PNW_Seismic_Event_Classification/notebooks/../feature_extraction_scripts/physical_feature_extraction_scripts/seis_feature.py:101: RuntimeWarning: invalid value encountered in double_scalars\n",
      "  'Gamma': lambda: ((np.dot(self.freq, self.ft**(2)) / np.sum(self.ft**(2)))**(2) - ((np.dot(self.freq**(2), self.ft**(2)) / np.sum(self.ft**(2)))**(0.5))**(2))**(0.5),\n",
      " 70%|███████   | 2109/3000 [01:59<00:52, 16.91it/s]/home/ak287/PNW_Seismic_Event_Classification/notebooks/../feature_extraction_scripts/physical_feature_extraction_scripts/seis_feature.py:69: RuntimeWarning: divide by zero encountered in double_scalars\n",
      "  self.l = np.nanmax(self.env) - ((np.nanmax(self.env) / (self.t[-1] - self.t[np.nanargmax(self.env)])) * (self.t))\n",
      "/home/ak287/PNW_Seismic_Event_Classification/notebooks/../feature_extraction_scripts/physical_feature_extraction_scripts/seis_feature.py:69: RuntimeWarning: invalid value encountered in multiply\n",
      "  self.l = np.nanmax(self.env) - ((np.nanmax(self.env) / (self.t[-1] - self.t[np.nanargmax(self.env)])) * (self.t))\n",
      "/home/ak287/PNW_Seismic_Event_Classification/notebooks/../feature_extraction_scripts/physical_feature_extraction_scripts/seis_feature.py:75: RuntimeWarning: divide by zero encountered in double_scalars\n",
      "  'AsDec': lambda: (self.t[np.argmax(self.env)] - self.t[0]) / (self.t[-1] - self.t[np.argmax(self.env)]),\n",
      "100%|██████████| 3000/3000 [02:50<00:00, 17.59it/s]\n",
      "  0%|          | 0/3000 [00:00<?, ?it/s]/home/ak287/PNW_Seismic_Event_Classification/notebooks/../feature_extraction_scripts/physical_feature_extraction_scripts/seis_feature.py:101: RuntimeWarning: invalid value encountered in double_scalars\n",
      "  'Gamma': lambda: ((np.dot(self.freq, self.ft**(2)) / np.sum(self.ft**(2)))**(2) - ((np.dot(self.freq**(2), self.ft**(2)) / np.sum(self.ft**(2)))**(0.5))**(2))**(0.5),\n",
      "100%|██████████| 3000/3000 [02:58<00:00, 16.80it/s]\n",
      "  0%|          | 0/3000 [00:00<?, ?it/s]/home/ak287/PNW_Seismic_Event_Classification/notebooks/../feature_extraction_scripts/physical_feature_extraction_scripts/seis_feature.py:101: RuntimeWarning: invalid value encountered in double_scalars\n",
      "  'Gamma': lambda: ((np.dot(self.freq, self.ft**(2)) / np.sum(self.ft**(2)))**(2) - ((np.dot(self.freq**(2), self.ft**(2)) / np.sum(self.ft**(2)))**(0.5))**(2))**(0.5),\n",
      "100%|██████████| 3000/3000 [02:58<00:00, 16.83it/s]\n",
      "  0%|          | 0/3000 [00:00<?, ?it/s]/home/ak287/PNW_Seismic_Event_Classification/notebooks/../feature_extraction_scripts/physical_feature_extraction_scripts/seis_feature.py:101: RuntimeWarning: invalid value encountered in double_scalars\n",
      "  'Gamma': lambda: ((np.dot(self.freq, self.ft**(2)) / np.sum(self.ft**(2)))**(2) - ((np.dot(self.freq**(2), self.ft**(2)) / np.sum(self.ft**(2)))**(0.5))**(2))**(0.5),\n",
      "100%|██████████| 3000/3000 [02:56<00:00, 16.99it/s]\n"
     ]
    },
    {
     "name": "stdout",
     "output_type": "stream",
     "text": [
      "10_30_1_15_40: 717.9382395744324\n"
     ]
    },
    {
     "name": "stderr",
     "output_type": "stream",
     "text": [
      "100%|██████████| 3000/3000 [00:00<00:00, 3072.10it/s]\n",
      "100%|██████████| 3000/3000 [00:01<00:00, 2957.21it/s]\n",
      "100%|██████████| 3000/3000 [00:01<00:00, 2927.64it/s]\n",
      "100%|██████████| 3000/3000 [00:00<00:00, 3053.45it/s]\n"
     ]
    },
    {
     "name": "stdout",
     "output_type": "stream",
     "text": [
      "2000\n"
     ]
    },
    {
     "name": "stderr",
     "output_type": "stream",
     "text": [
      "  0%|          | 0/3000 [00:00<?, ?it/s]/home/ak287/PNW_Seismic_Event_Classification/notebooks/../feature_extraction_scripts/physical_feature_extraction_scripts/seis_feature.py:101: RuntimeWarning: invalid value encountered in double_scalars\n",
      "  'Gamma': lambda: ((np.dot(self.freq, self.ft**(2)) / np.sum(self.ft**(2)))**(2) - ((np.dot(self.freq**(2), self.ft**(2)) / np.sum(self.ft**(2)))**(0.5))**(2))**(0.5),\n",
      "100%|██████████| 3000/3000 [02:59<00:00, 16.75it/s]\n",
      "  0%|          | 0/3000 [00:00<?, ?it/s]/home/ak287/PNW_Seismic_Event_Classification/notebooks/../feature_extraction_scripts/physical_feature_extraction_scripts/seis_feature.py:101: RuntimeWarning: invalid value encountered in double_scalars\n",
      "  'Gamma': lambda: ((np.dot(self.freq, self.ft**(2)) / np.sum(self.ft**(2)))**(2) - ((np.dot(self.freq**(2), self.ft**(2)) / np.sum(self.ft**(2)))**(0.5))**(2))**(0.5),\n",
      "100%|██████████| 3000/3000 [03:03<00:00, 16.33it/s]\n",
      "  0%|          | 0/3000 [00:00<?, ?it/s]/home/ak287/PNW_Seismic_Event_Classification/notebooks/../feature_extraction_scripts/physical_feature_extraction_scripts/seis_feature.py:101: RuntimeWarning: invalid value encountered in double_scalars\n",
      "  'Gamma': lambda: ((np.dot(self.freq, self.ft**(2)) / np.sum(self.ft**(2)))**(2) - ((np.dot(self.freq**(2), self.ft**(2)) / np.sum(self.ft**(2)))**(0.5))**(2))**(0.5),\n",
      "100%|██████████| 3000/3000 [03:04<00:00, 16.25it/s]\n",
      "  0%|          | 0/3000 [00:00<?, ?it/s]/home/ak287/PNW_Seismic_Event_Classification/notebooks/../feature_extraction_scripts/physical_feature_extraction_scripts/seis_feature.py:101: RuntimeWarning: invalid value encountered in double_scalars\n",
      "  'Gamma': lambda: ((np.dot(self.freq, self.ft**(2)) / np.sum(self.ft**(2)))**(2) - ((np.dot(self.freq**(2), self.ft**(2)) / np.sum(self.ft**(2)))**(0.5))**(2))**(0.5),\n",
      "100%|██████████| 3000/3000 [03:03<00:00, 16.31it/s]\n"
     ]
    },
    {
     "name": "stdout",
     "output_type": "stream",
     "text": [
      "10_40_1_15_40: 751.6393277645111\n"
     ]
    },
    {
     "name": "stderr",
     "output_type": "stream",
     "text": [
      "100%|██████████| 3000/3000 [00:00<00:00, 3015.35it/s]\n",
      "100%|██████████| 3000/3000 [00:00<00:00, 3052.01it/s]\n",
      "100%|██████████| 3000/3000 [00:01<00:00, 2825.08it/s]\n",
      "100%|██████████| 3000/3000 [00:00<00:00, 3020.11it/s]\n"
     ]
    },
    {
     "name": "stdout",
     "output_type": "stream",
     "text": [
      "2800\n"
     ]
    },
    {
     "name": "stderr",
     "output_type": "stream",
     "text": [
      "  0%|          | 0/3000 [00:00<?, ?it/s]/home/ak287/PNW_Seismic_Event_Classification/notebooks/../feature_extraction_scripts/physical_feature_extraction_scripts/seis_feature.py:101: RuntimeWarning: invalid value encountered in double_scalars\n",
      "  'Gamma': lambda: ((np.dot(self.freq, self.ft**(2)) / np.sum(self.ft**(2)))**(2) - ((np.dot(self.freq**(2), self.ft**(2)) / np.sum(self.ft**(2)))**(0.5))**(2))**(0.5),\n",
      "100%|██████████| 3000/3000 [03:11<00:00, 15.64it/s]\n",
      "  0%|          | 0/3000 [00:00<?, ?it/s]/home/ak287/PNW_Seismic_Event_Classification/notebooks/../feature_extraction_scripts/physical_feature_extraction_scripts/seis_feature.py:101: RuntimeWarning: invalid value encountered in double_scalars\n",
      "  'Gamma': lambda: ((np.dot(self.freq, self.ft**(2)) / np.sum(self.ft**(2)))**(2) - ((np.dot(self.freq**(2), self.ft**(2)) / np.sum(self.ft**(2)))**(0.5))**(2))**(0.5),\n",
      "100%|██████████| 3000/3000 [03:08<00:00, 15.89it/s]\n",
      "  0%|          | 0/3000 [00:00<?, ?it/s]/home/ak287/PNW_Seismic_Event_Classification/notebooks/../feature_extraction_scripts/physical_feature_extraction_scripts/seis_feature.py:101: RuntimeWarning: invalid value encountered in double_scalars\n",
      "  'Gamma': lambda: ((np.dot(self.freq, self.ft**(2)) / np.sum(self.ft**(2)))**(2) - ((np.dot(self.freq**(2), self.ft**(2)) / np.sum(self.ft**(2)))**(0.5))**(2))**(0.5),\n",
      "100%|██████████| 3000/3000 [03:06<00:00, 16.09it/s]\n",
      "  0%|          | 0/3000 [00:00<?, ?it/s]/home/ak287/PNW_Seismic_Event_Classification/notebooks/../feature_extraction_scripts/physical_feature_extraction_scripts/seis_feature.py:101: RuntimeWarning: invalid value encountered in double_scalars\n",
      "  'Gamma': lambda: ((np.dot(self.freq, self.ft**(2)) / np.sum(self.ft**(2)))**(2) - ((np.dot(self.freq**(2), self.ft**(2)) / np.sum(self.ft**(2)))**(0.5))**(2))**(0.5),\n",
      " 35%|███▌      | 1061/3000 [01:05<02:22, 13.65it/s]IOPub message rate exceeded.\n",
      "The notebook server will temporarily stop sending output\n",
      "to the client in order to avoid crashing it.\n",
      "To change this limit, set the config variable\n",
      "`--NotebookApp.iopub_msg_rate_limit`.\n",
      "\n",
      "Current values:\n",
      "NotebookApp.iopub_msg_rate_limit=1000.0 (msgs/sec)\n",
      "NotebookApp.rate_limit_window=3.0 (secs)\n",
      "\n",
      "100%|██████████| 3000/3000 [04:10<00:00, 12.00it/s]\n"
     ]
    },
    {
     "name": "stdout",
     "output_type": "stream",
     "text": [
      "50_100_1_15_40: 1036.5742003917694\n"
     ]
    },
    {
     "name": "stderr",
     "output_type": "stream",
     "text": [
      "100%|██████████| 3000/3000 [00:00<00:00, 3068.24it/s]\n",
      "100%|██████████| 3000/3000 [00:00<00:00, 3069.04it/s]\n",
      "100%|██████████| 3000/3000 [00:00<00:00, 3029.85it/s]\n",
      "100%|██████████| 3000/3000 [00:01<00:00, 2819.99it/s]\n"
     ]
    },
    {
     "name": "stdout",
     "output_type": "stream",
     "text": [
      "1600\n"
     ]
    },
    {
     "name": "stderr",
     "output_type": "stream",
     "text": [
      "  0%|          | 0/3000 [00:00<?, ?it/s]/home/ak287/PNW_Seismic_Event_Classification/notebooks/../feature_extraction_scripts/physical_feature_extraction_scripts/seis_feature.py:101: RuntimeWarning: invalid value encountered in double_scalars\n",
      "  'Gamma': lambda: ((np.dot(self.freq, self.ft**(2)) / np.sum(self.ft**(2)))**(2) - ((np.dot(self.freq**(2), self.ft**(2)) / np.sum(self.ft**(2)))**(0.5))**(2))**(0.5),\n",
      " 70%|███████   | 2108/3000 [02:00<00:57, 15.60it/s]/home/ak287/PNW_Seismic_Event_Classification/notebooks/../feature_extraction_scripts/physical_feature_extraction_scripts/seis_feature.py:69: RuntimeWarning: divide by zero encountered in double_scalars\n",
      "  self.l = np.nanmax(self.env) - ((np.nanmax(self.env) / (self.t[-1] - self.t[np.nanargmax(self.env)])) * (self.t))\n",
      "/home/ak287/PNW_Seismic_Event_Classification/notebooks/../feature_extraction_scripts/physical_feature_extraction_scripts/seis_feature.py:69: RuntimeWarning: invalid value encountered in multiply\n",
      "  self.l = np.nanmax(self.env) - ((np.nanmax(self.env) / (self.t[-1] - self.t[np.nanargmax(self.env)])) * (self.t))\n",
      "/home/ak287/PNW_Seismic_Event_Classification/notebooks/../feature_extraction_scripts/physical_feature_extraction_scripts/seis_feature.py:75: RuntimeWarning: divide by zero encountered in double_scalars\n",
      "  'AsDec': lambda: (self.t[np.argmax(self.env)] - self.t[0]) / (self.t[-1] - self.t[np.argmax(self.env)]),\n",
      "100%|██████████| 3000/3000 [02:53<00:00, 17.31it/s]\n",
      "  0%|          | 0/3000 [00:00<?, ?it/s]/home/ak287/PNW_Seismic_Event_Classification/notebooks/../feature_extraction_scripts/physical_feature_extraction_scripts/seis_feature.py:101: RuntimeWarning: invalid value encountered in double_scalars\n",
      "  'Gamma': lambda: ((np.dot(self.freq, self.ft**(2)) / np.sum(self.ft**(2)))**(2) - ((np.dot(self.freq**(2), self.ft**(2)) / np.sum(self.ft**(2)))**(0.5))**(2))**(0.5),\n",
      "100%|██████████| 3000/3000 [02:49<00:00, 17.74it/s]\n",
      "  0%|          | 0/3000 [00:00<?, ?it/s]/home/ak287/PNW_Seismic_Event_Classification/notebooks/../feature_extraction_scripts/physical_feature_extraction_scripts/seis_feature.py:101: RuntimeWarning: invalid value encountered in double_scalars\n",
      "  'Gamma': lambda: ((np.dot(self.freq, self.ft**(2)) / np.sum(self.ft**(2)))**(2) - ((np.dot(self.freq**(2), self.ft**(2)) / np.sum(self.ft**(2)))**(0.5))**(2))**(0.5),\n",
      "100%|██████████| 3000/3000 [02:46<00:00, 18.04it/s]\n",
      "  0%|          | 0/3000 [00:00<?, ?it/s]/home/ak287/PNW_Seismic_Event_Classification/notebooks/../feature_extraction_scripts/physical_feature_extraction_scripts/seis_feature.py:101: RuntimeWarning: invalid value encountered in double_scalars\n",
      "  'Gamma': lambda: ((np.dot(self.freq, self.ft**(2)) / np.sum(self.ft**(2)))**(2) - ((np.dot(self.freq**(2), self.ft**(2)) / np.sum(self.ft**(2)))**(0.5))**(2))**(0.5),\n",
      "100%|██████████| 3000/3000 [02:44<00:00, 18.23it/s]\n"
     ]
    },
    {
     "name": "stdout",
     "output_type": "stream",
     "text": [
      "10_30_05_10_40: 687.4504256248474\n"
     ]
    },
    {
     "name": "stderr",
     "output_type": "stream",
     "text": [
      "100%|██████████| 3000/3000 [00:01<00:00, 2939.10it/s]\n",
      "100%|██████████| 3000/3000 [00:00<00:00, 3022.78it/s]\n",
      "100%|██████████| 3000/3000 [00:00<00:00, 3027.29it/s]\n",
      "100%|██████████| 3000/3000 [00:00<00:00, 3097.79it/s]\n"
     ]
    },
    {
     "name": "stdout",
     "output_type": "stream",
     "text": [
      "2000\n"
     ]
    },
    {
     "name": "stderr",
     "output_type": "stream",
     "text": [
      "  0%|          | 0/3000 [00:00<?, ?it/s]/home/ak287/PNW_Seismic_Event_Classification/notebooks/../feature_extraction_scripts/physical_feature_extraction_scripts/seis_feature.py:101: RuntimeWarning: invalid value encountered in double_scalars\n",
      "  'Gamma': lambda: ((np.dot(self.freq, self.ft**(2)) / np.sum(self.ft**(2)))**(2) - ((np.dot(self.freq**(2), self.ft**(2)) / np.sum(self.ft**(2)))**(0.5))**(2))**(0.5),\n",
      "100%|██████████| 3000/3000 [02:52<00:00, 17.36it/s]\n",
      "  0%|          | 0/3000 [00:00<?, ?it/s]/home/ak287/PNW_Seismic_Event_Classification/notebooks/../feature_extraction_scripts/physical_feature_extraction_scripts/seis_feature.py:101: RuntimeWarning: invalid value encountered in double_scalars\n",
      "  'Gamma': lambda: ((np.dot(self.freq, self.ft**(2)) / np.sum(self.ft**(2)))**(2) - ((np.dot(self.freq**(2), self.ft**(2)) / np.sum(self.ft**(2)))**(0.5))**(2))**(0.5),\n",
      "100%|██████████| 3000/3000 [02:54<00:00, 17.14it/s]\n",
      "  0%|          | 0/3000 [00:00<?, ?it/s]/home/ak287/PNW_Seismic_Event_Classification/notebooks/../feature_extraction_scripts/physical_feature_extraction_scripts/seis_feature.py:101: RuntimeWarning: invalid value encountered in double_scalars\n",
      "  'Gamma': lambda: ((np.dot(self.freq, self.ft**(2)) / np.sum(self.ft**(2)))**(2) - ((np.dot(self.freq**(2), self.ft**(2)) / np.sum(self.ft**(2)))**(0.5))**(2))**(0.5),\n",
      "100%|██████████| 3000/3000 [02:53<00:00, 17.33it/s]\n",
      "  0%|          | 0/3000 [00:00<?, ?it/s]/home/ak287/PNW_Seismic_Event_Classification/notebooks/../feature_extraction_scripts/physical_feature_extraction_scripts/seis_feature.py:101: RuntimeWarning: invalid value encountered in double_scalars\n",
      "  'Gamma': lambda: ((np.dot(self.freq, self.ft**(2)) / np.sum(self.ft**(2)))**(2) - ((np.dot(self.freq**(2), self.ft**(2)) / np.sum(self.ft**(2)))**(0.5))**(2))**(0.5),\n",
      "100%|██████████| 3000/3000 [02:50<00:00, 17.58it/s]\n"
     ]
    },
    {
     "name": "stdout",
     "output_type": "stream",
     "text": [
      "10_40_05_10_40: 712.2702009677887\n"
     ]
    },
    {
     "name": "stderr",
     "output_type": "stream",
     "text": [
      "100%|██████████| 3000/3000 [00:01<00:00, 2926.97it/s]\n",
      "100%|██████████| 3000/3000 [00:00<00:00, 3038.94it/s]\n",
      "100%|██████████| 3000/3000 [00:00<00:00, 3006.62it/s]\n",
      "100%|██████████| 3000/3000 [00:01<00:00, 2990.08it/s]\n"
     ]
    },
    {
     "name": "stdout",
     "output_type": "stream",
     "text": [
      "2800\n"
     ]
    },
    {
     "name": "stderr",
     "output_type": "stream",
     "text": [
      "  0%|          | 0/3000 [00:00<?, ?it/s]/home/ak287/PNW_Seismic_Event_Classification/notebooks/../feature_extraction_scripts/physical_feature_extraction_scripts/seis_feature.py:101: RuntimeWarning: invalid value encountered in double_scalars\n",
      "  'Gamma': lambda: ((np.dot(self.freq, self.ft**(2)) / np.sum(self.ft**(2)))**(2) - ((np.dot(self.freq**(2), self.ft**(2)) / np.sum(self.ft**(2)))**(0.5))**(2))**(0.5),\n",
      "100%|██████████| 3000/3000 [03:05<00:00, 16.14it/s]\n",
      "  0%|          | 0/3000 [00:00<?, ?it/s]/home/ak287/PNW_Seismic_Event_Classification/notebooks/../feature_extraction_scripts/physical_feature_extraction_scripts/seis_feature.py:101: RuntimeWarning: invalid value encountered in double_scalars\n",
      "  'Gamma': lambda: ((np.dot(self.freq, self.ft**(2)) / np.sum(self.ft**(2)))**(2) - ((np.dot(self.freq**(2), self.ft**(2)) / np.sum(self.ft**(2)))**(0.5))**(2))**(0.5),\n",
      "100%|██████████| 3000/3000 [03:00<00:00, 16.59it/s]\n",
      "  0%|          | 0/3000 [00:00<?, ?it/s]/home/ak287/PNW_Seismic_Event_Classification/notebooks/../feature_extraction_scripts/physical_feature_extraction_scripts/seis_feature.py:101: RuntimeWarning: invalid value encountered in double_scalars\n",
      "  'Gamma': lambda: ((np.dot(self.freq, self.ft**(2)) / np.sum(self.ft**(2)))**(2) - ((np.dot(self.freq**(2), self.ft**(2)) / np.sum(self.ft**(2)))**(0.5))**(2))**(0.5),\n",
      "100%|██████████| 3000/3000 [03:04<00:00, 16.27it/s]\n",
      "  0%|          | 0/3000 [00:00<?, ?it/s]/home/ak287/PNW_Seismic_Event_Classification/notebooks/../feature_extraction_scripts/physical_feature_extraction_scripts/seis_feature.py:101: RuntimeWarning: invalid value encountered in double_scalars\n",
      "  'Gamma': lambda: ((np.dot(self.freq, self.ft**(2)) / np.sum(self.ft**(2)))**(2) - ((np.dot(self.freq**(2), self.ft**(2)) / np.sum(self.ft**(2)))**(0.5))**(2))**(0.5),\n",
      "100%|██████████| 3000/3000 [03:05<00:00, 16.20it/s]\n"
     ]
    },
    {
     "name": "stdout",
     "output_type": "stream",
     "text": [
      "20_50_05_10_40: 765.554628610611\n"
     ]
    },
    {
     "name": "stderr",
     "output_type": "stream",
     "text": [
      "100%|██████████| 3000/3000 [00:00<00:00, 3002.77it/s]\n",
      "100%|██████████| 3000/3000 [00:00<00:00, 3096.34it/s]\n",
      "100%|██████████| 3000/3000 [00:01<00:00, 2939.20it/s]\n",
      "100%|██████████| 3000/3000 [00:00<00:00, 3040.48it/s]\n"
     ]
    },
    {
     "name": "stdout",
     "output_type": "stream",
     "text": [
      "1000\n"
     ]
    },
    {
     "name": "stderr",
     "output_type": "stream",
     "text": [
      "  0%|          | 0/3000 [00:00<?, ?it/s]/home/ak287/PNW_Seismic_Event_Classification/notebooks/../feature_extraction_scripts/physical_feature_extraction_scripts/seis_feature.py:101: RuntimeWarning: invalid value encountered in double_scalars\n",
      "  'Gamma': lambda: ((np.dot(self.freq, self.ft**(2)) / np.sum(self.ft**(2)))**(2) - ((np.dot(self.freq**(2), self.ft**(2)) / np.sum(self.ft**(2)))**(0.5))**(2))**(0.5),\n",
      "  4%|▍         | 113/3000 [00:05<02:32, 18.88it/s]/home/ak287/PNW_Seismic_Event_Classification/notebooks/../feature_extraction_scripts/physical_feature_extraction_scripts/seis_feature.py:69: RuntimeWarning: divide by zero encountered in double_scalars\n",
      "  self.l = np.nanmax(self.env) - ((np.nanmax(self.env) / (self.t[-1] - self.t[np.nanargmax(self.env)])) * (self.t))\n",
      "/home/ak287/PNW_Seismic_Event_Classification/notebooks/../feature_extraction_scripts/physical_feature_extraction_scripts/seis_feature.py:69: RuntimeWarning: invalid value encountered in multiply\n",
      "  self.l = np.nanmax(self.env) - ((np.nanmax(self.env) / (self.t[-1] - self.t[np.nanargmax(self.env)])) * (self.t))\n",
      "/home/ak287/PNW_Seismic_Event_Classification/notebooks/../feature_extraction_scripts/physical_feature_extraction_scripts/seis_feature.py:75: RuntimeWarning: divide by zero encountered in double_scalars\n",
      "  'AsDec': lambda: (self.t[np.argmax(self.env)] - self.t[0]) / (self.t[-1] - self.t[np.argmax(self.env)]),\n",
      "100%|██████████| 3000/3000 [02:29<00:00, 20.12it/s]\n",
      "  0%|          | 0/3000 [00:00<?, ?it/s]/home/ak287/PNW_Seismic_Event_Classification/notebooks/../feature_extraction_scripts/physical_feature_extraction_scripts/seis_feature.py:101: RuntimeWarning: invalid value encountered in double_scalars\n",
      "  'Gamma': lambda: ((np.dot(self.freq, self.ft**(2)) / np.sum(self.ft**(2)))**(2) - ((np.dot(self.freq**(2), self.ft**(2)) / np.sum(self.ft**(2)))**(0.5))**(2))**(0.5),\n",
      "100%|██████████| 3000/3000 [02:22<00:00, 21.11it/s]\n",
      "  0%|          | 0/3000 [00:00<?, ?it/s]/home/ak287/PNW_Seismic_Event_Classification/notebooks/../feature_extraction_scripts/physical_feature_extraction_scripts/seis_feature.py:101: RuntimeWarning: invalid value encountered in double_scalars\n",
      "  'Gamma': lambda: ((np.dot(self.freq, self.ft**(2)) / np.sum(self.ft**(2)))**(2) - ((np.dot(self.freq**(2), self.ft**(2)) / np.sum(self.ft**(2)))**(0.5))**(2))**(0.5),\n",
      "100%|██████████| 3000/3000 [02:29<00:00, 20.01it/s]\n",
      "  0%|          | 0/3000 [00:00<?, ?it/s]/home/ak287/PNW_Seismic_Event_Classification/notebooks/../feature_extraction_scripts/physical_feature_extraction_scripts/seis_feature.py:101: RuntimeWarning: invalid value encountered in double_scalars\n",
      "  'Gamma': lambda: ((np.dot(self.freq, self.ft**(2)) / np.sum(self.ft**(2)))**(2) - ((np.dot(self.freq**(2), self.ft**(2)) / np.sum(self.ft**(2)))**(0.5))**(2))**(0.5),\n",
      "100%|██████████| 3000/3000 [02:27<00:00, 20.38it/s]\n"
     ]
    },
    {
     "name": "stdout",
     "output_type": "stream",
     "text": [
      "05_20_05_10_40: 600.3925168514252\n"
     ]
    },
    {
     "name": "stderr",
     "output_type": "stream",
     "text": [
      "100%|██████████| 3000/3000 [00:01<00:00, 2687.79it/s]\n",
      "100%|██████████| 3000/3000 [00:01<00:00, 2799.44it/s]\n",
      "100%|██████████| 3000/3000 [00:01<00:00, 2759.16it/s]\n",
      "100%|██████████| 3000/3000 [00:01<00:00, 2652.98it/s]\n"
     ]
    },
    {
     "name": "stdout",
     "output_type": "stream",
     "text": [
      "6000\n"
     ]
    },
    {
     "name": "stderr",
     "output_type": "stream",
     "text": [
      "  0%|          | 0/3000 [00:00<?, ?it/s]/home/ak287/PNW_Seismic_Event_Classification/notebooks/../feature_extraction_scripts/physical_feature_extraction_scripts/seis_feature.py:101: RuntimeWarning: invalid value encountered in double_scalars\n",
      "  'Gamma': lambda: ((np.dot(self.freq, self.ft**(2)) / np.sum(self.ft**(2)))**(2) - ((np.dot(self.freq**(2), self.ft**(2)) / np.sum(self.ft**(2)))**(0.5))**(2))**(0.5),\n",
      "100%|██████████| 3000/3000 [04:09<00:00, 12.04it/s]\n",
      "  0%|          | 0/3000 [00:00<?, ?it/s]/home/ak287/PNW_Seismic_Event_Classification/notebooks/../feature_extraction_scripts/physical_feature_extraction_scripts/seis_feature.py:101: RuntimeWarning: invalid value encountered in double_scalars\n",
      "  'Gamma': lambda: ((np.dot(self.freq, self.ft**(2)) / np.sum(self.ft**(2)))**(2) - ((np.dot(self.freq**(2), self.ft**(2)) / np.sum(self.ft**(2)))**(0.5))**(2))**(0.5),\n",
      "100%|██████████| 3000/3000 [04:06<00:00, 12.18it/s]\n",
      "  0%|          | 0/3000 [00:00<?, ?it/s]/home/ak287/PNW_Seismic_Event_Classification/notebooks/../feature_extraction_scripts/physical_feature_extraction_scripts/seis_feature.py:101: RuntimeWarning: invalid value encountered in double_scalars\n",
      "  'Gamma': lambda: ((np.dot(self.freq, self.ft**(2)) / np.sum(self.ft**(2)))**(2) - ((np.dot(self.freq**(2), self.ft**(2)) / np.sum(self.ft**(2)))**(0.5))**(2))**(0.5),\n",
      "100%|██████████| 3000/3000 [04:02<00:00, 12.39it/s]\n",
      "  0%|          | 0/3000 [00:00<?, ?it/s]/home/ak287/PNW_Seismic_Event_Classification/notebooks/../feature_extraction_scripts/physical_feature_extraction_scripts/seis_feature.py:101: RuntimeWarning: invalid value encountered in double_scalars\n",
      "  'Gamma': lambda: ((np.dot(self.freq, self.ft**(2)) / np.sum(self.ft**(2)))**(2) - ((np.dot(self.freq**(2), self.ft**(2)) / np.sum(self.ft**(2)))**(0.5))**(2))**(0.5),\n",
      "100%|██████████| 3000/3000 [04:08<00:00, 12.08it/s]\n"
     ]
    },
    {
     "name": "stdout",
     "output_type": "stream",
     "text": [
      "50_100_05_10_40: 1040.368641614914\n"
     ]
    },
    {
     "name": "stderr",
     "output_type": "stream",
     "text": [
      "100%|██████████| 3000/3000 [00:00<00:00, 3030.32it/s]\n",
      "100%|██████████| 3000/3000 [00:00<00:00, 3057.63it/s]\n",
      "100%|██████████| 3000/3000 [00:01<00:00, 2917.69it/s]\n",
      "100%|██████████| 3000/3000 [00:00<00:00, 3037.77it/s]\n"
     ]
    },
    {
     "name": "stdout",
     "output_type": "stream",
     "text": [
      "1600\n"
     ]
    },
    {
     "name": "stderr",
     "output_type": "stream",
     "text": [
      "  0%|          | 0/3000 [00:00<?, ?it/s]/home/ak287/PNW_Seismic_Event_Classification/notebooks/../feature_extraction_scripts/physical_feature_extraction_scripts/seis_feature.py:101: RuntimeWarning: invalid value encountered in double_scalars\n",
      "  'Gamma': lambda: ((np.dot(self.freq, self.ft**(2)) / np.sum(self.ft**(2)))**(2) - ((np.dot(self.freq**(2), self.ft**(2)) / np.sum(self.ft**(2)))**(0.5))**(2))**(0.5),\n",
      " 70%|███████   | 2108/3000 [01:56<00:46, 19.02it/s]/home/ak287/PNW_Seismic_Event_Classification/notebooks/../feature_extraction_scripts/physical_feature_extraction_scripts/seis_feature.py:69: RuntimeWarning: divide by zero encountered in double_scalars\n",
      "  self.l = np.nanmax(self.env) - ((np.nanmax(self.env) / (self.t[-1] - self.t[np.nanargmax(self.env)])) * (self.t))\n",
      "/home/ak287/PNW_Seismic_Event_Classification/notebooks/../feature_extraction_scripts/physical_feature_extraction_scripts/seis_feature.py:69: RuntimeWarning: invalid value encountered in multiply\n",
      "  self.l = np.nanmax(self.env) - ((np.nanmax(self.env) / (self.t[-1] - self.t[np.nanargmax(self.env)])) * (self.t))\n",
      "/home/ak287/PNW_Seismic_Event_Classification/notebooks/../feature_extraction_scripts/physical_feature_extraction_scripts/seis_feature.py:75: RuntimeWarning: divide by zero encountered in double_scalars\n",
      "  'AsDec': lambda: (self.t[np.argmax(self.env)] - self.t[0]) / (self.t[-1] - self.t[np.argmax(self.env)]),\n",
      "100%|██████████| 3000/3000 [02:47<00:00, 17.94it/s]\n",
      "  0%|          | 0/3000 [00:00<?, ?it/s]/home/ak287/PNW_Seismic_Event_Classification/notebooks/../feature_extraction_scripts/physical_feature_extraction_scripts/seis_feature.py:101: RuntimeWarning: invalid value encountered in double_scalars\n",
      "  'Gamma': lambda: ((np.dot(self.freq, self.ft**(2)) / np.sum(self.ft**(2)))**(2) - ((np.dot(self.freq**(2), self.ft**(2)) / np.sum(self.ft**(2)))**(0.5))**(2))**(0.5),\n",
      "100%|██████████| 3000/3000 [02:44<00:00, 18.22it/s]\n",
      "  0%|          | 0/3000 [00:00<?, ?it/s]/home/ak287/PNW_Seismic_Event_Classification/notebooks/../feature_extraction_scripts/physical_feature_extraction_scripts/seis_feature.py:101: RuntimeWarning: invalid value encountered in double_scalars\n",
      "  'Gamma': lambda: ((np.dot(self.freq, self.ft**(2)) / np.sum(self.ft**(2)))**(2) - ((np.dot(self.freq**(2), self.ft**(2)) / np.sum(self.ft**(2)))**(0.5))**(2))**(0.5),\n",
      "100%|██████████| 3000/3000 [02:46<00:00, 17.99it/s]\n",
      "  0%|          | 0/3000 [00:00<?, ?it/s]/home/ak287/PNW_Seismic_Event_Classification/notebooks/../feature_extraction_scripts/physical_feature_extraction_scripts/seis_feature.py:101: RuntimeWarning: invalid value encountered in double_scalars\n",
      "  'Gamma': lambda: ((np.dot(self.freq, self.ft**(2)) / np.sum(self.ft**(2)))**(2) - ((np.dot(self.freq**(2), self.ft**(2)) / np.sum(self.ft**(2)))**(0.5))**(2))**(0.5),\n",
      "100%|██████████| 3000/3000 [02:49<00:00, 17.67it/s]\n"
     ]
    },
    {
     "name": "stdout",
     "output_type": "stream",
     "text": [
      "10_30_05_15_40: 681.7855844497681\n"
     ]
    },
    {
     "name": "stderr",
     "output_type": "stream",
     "text": [
      "100%|██████████| 3000/3000 [00:01<00:00, 2749.42it/s]\n",
      "100%|██████████| 3000/3000 [00:01<00:00, 2933.95it/s]\n",
      "100%|██████████| 3000/3000 [00:00<00:00, 3050.30it/s]\n",
      "100%|██████████| 3000/3000 [00:01<00:00, 2518.70it/s]\n"
     ]
    },
    {
     "name": "stdout",
     "output_type": "stream",
     "text": [
      "2000\n"
     ]
    },
    {
     "name": "stderr",
     "output_type": "stream",
     "text": [
      "  0%|          | 0/3000 [00:00<?, ?it/s]/home/ak287/PNW_Seismic_Event_Classification/notebooks/../feature_extraction_scripts/physical_feature_extraction_scripts/seis_feature.py:101: RuntimeWarning: invalid value encountered in double_scalars\n",
      "  'Gamma': lambda: ((np.dot(self.freq, self.ft**(2)) / np.sum(self.ft**(2)))**(2) - ((np.dot(self.freq**(2), self.ft**(2)) / np.sum(self.ft**(2)))**(0.5))**(2))**(0.5),\n",
      "100%|██████████| 3000/3000 [02:58<00:00, 16.76it/s]\n",
      "  0%|          | 0/3000 [00:00<?, ?it/s]/home/ak287/PNW_Seismic_Event_Classification/notebooks/../feature_extraction_scripts/physical_feature_extraction_scripts/seis_feature.py:101: RuntimeWarning: invalid value encountered in double_scalars\n",
      "  'Gamma': lambda: ((np.dot(self.freq, self.ft**(2)) / np.sum(self.ft**(2)))**(2) - ((np.dot(self.freq**(2), self.ft**(2)) / np.sum(self.ft**(2)))**(0.5))**(2))**(0.5),\n",
      "100%|██████████| 3000/3000 [02:56<00:00, 16.99it/s]\n",
      "  0%|          | 0/3000 [00:00<?, ?it/s]/home/ak287/PNW_Seismic_Event_Classification/notebooks/../feature_extraction_scripts/physical_feature_extraction_scripts/seis_feature.py:101: RuntimeWarning: invalid value encountered in double_scalars\n",
      "  'Gamma': lambda: ((np.dot(self.freq, self.ft**(2)) / np.sum(self.ft**(2)))**(2) - ((np.dot(self.freq**(2), self.ft**(2)) / np.sum(self.ft**(2)))**(0.5))**(2))**(0.5),\n",
      "100%|██████████| 3000/3000 [02:56<00:00, 16.97it/s]\n",
      "  0%|          | 0/3000 [00:00<?, ?it/s]/home/ak287/PNW_Seismic_Event_Classification/notebooks/../feature_extraction_scripts/physical_feature_extraction_scripts/seis_feature.py:101: RuntimeWarning: invalid value encountered in double_scalars\n",
      "  'Gamma': lambda: ((np.dot(self.freq, self.ft**(2)) / np.sum(self.ft**(2)))**(2) - ((np.dot(self.freq**(2), self.ft**(2)) / np.sum(self.ft**(2)))**(0.5))**(2))**(0.5),\n",
      "100%|██████████| 3000/3000 [02:53<00:00, 17.32it/s]\n"
     ]
    },
    {
     "name": "stdout",
     "output_type": "stream",
     "text": [
      "10_40_05_15_40: 726.0752720832825\n"
     ]
    },
    {
     "name": "stderr",
     "output_type": "stream",
     "text": [
      "100%|██████████| 3000/3000 [00:01<00:00, 2673.21it/s]\n",
      "100%|██████████| 3000/3000 [00:00<00:00, 3021.22it/s]\n",
      "100%|██████████| 3000/3000 [00:00<00:00, 3018.05it/s]\n",
      "100%|██████████| 3000/3000 [00:00<00:00, 3018.91it/s]\n"
     ]
    },
    {
     "name": "stdout",
     "output_type": "stream",
     "text": [
      "2800\n"
     ]
    },
    {
     "name": "stderr",
     "output_type": "stream",
     "text": [
      "  0%|          | 0/3000 [00:00<?, ?it/s]/home/ak287/PNW_Seismic_Event_Classification/notebooks/../feature_extraction_scripts/physical_feature_extraction_scripts/seis_feature.py:101: RuntimeWarning: invalid value encountered in double_scalars\n",
      "  'Gamma': lambda: ((np.dot(self.freq, self.ft**(2)) / np.sum(self.ft**(2)))**(2) - ((np.dot(self.freq**(2), self.ft**(2)) / np.sum(self.ft**(2)))**(0.5))**(2))**(0.5),\n",
      "100%|██████████| 3000/3000 [03:04<00:00, 16.28it/s]\n",
      "  0%|          | 0/3000 [00:00<?, ?it/s]/home/ak287/PNW_Seismic_Event_Classification/notebooks/../feature_extraction_scripts/physical_feature_extraction_scripts/seis_feature.py:101: RuntimeWarning: invalid value encountered in double_scalars\n",
      "  'Gamma': lambda: ((np.dot(self.freq, self.ft**(2)) / np.sum(self.ft**(2)))**(2) - ((np.dot(self.freq**(2), self.ft**(2)) / np.sum(self.ft**(2)))**(0.5))**(2))**(0.5),\n",
      "100%|██████████| 3000/3000 [03:03<00:00, 16.36it/s]\n",
      "  0%|          | 0/3000 [00:00<?, ?it/s]/home/ak287/PNW_Seismic_Event_Classification/notebooks/../feature_extraction_scripts/physical_feature_extraction_scripts/seis_feature.py:101: RuntimeWarning: invalid value encountered in double_scalars\n",
      "  'Gamma': lambda: ((np.dot(self.freq, self.ft**(2)) / np.sum(self.ft**(2)))**(2) - ((np.dot(self.freq**(2), self.ft**(2)) / np.sum(self.ft**(2)))**(0.5))**(2))**(0.5),\n",
      "100%|██████████| 3000/3000 [03:10<00:00, 15.71it/s]\n",
      "  0%|          | 0/3000 [00:00<?, ?it/s]/home/ak287/PNW_Seismic_Event_Classification/notebooks/../feature_extraction_scripts/physical_feature_extraction_scripts/seis_feature.py:101: RuntimeWarning: invalid value encountered in double_scalars\n",
      "  'Gamma': lambda: ((np.dot(self.freq, self.ft**(2)) / np.sum(self.ft**(2)))**(2) - ((np.dot(self.freq**(2), self.ft**(2)) / np.sum(self.ft**(2)))**(0.5))**(2))**(0.5),\n",
      "100%|██████████| 3000/3000 [03:05<00:00, 16.14it/s]\n"
     ]
    },
    {
     "name": "stdout",
     "output_type": "stream",
     "text": [
      "20_50_05_15_40: 760.3865275382996\n"
     ]
    },
    {
     "name": "stderr",
     "output_type": "stream",
     "text": [
      "100%|██████████| 3000/3000 [00:01<00:00, 2750.43it/s]\n",
      "100%|██████████| 3000/3000 [00:00<00:00, 3016.36it/s]\n",
      "100%|██████████| 3000/3000 [00:00<00:00, 3076.42it/s]\n",
      "100%|██████████| 3000/3000 [00:00<00:00, 3070.16it/s]\n"
     ]
    },
    {
     "name": "stdout",
     "output_type": "stream",
     "text": [
      "1000\n"
     ]
    },
    {
     "name": "stderr",
     "output_type": "stream",
     "text": [
      "  0%|          | 0/3000 [00:00<?, ?it/s]/home/ak287/PNW_Seismic_Event_Classification/notebooks/../feature_extraction_scripts/physical_feature_extraction_scripts/seis_feature.py:101: RuntimeWarning: invalid value encountered in double_scalars\n",
      "  'Gamma': lambda: ((np.dot(self.freq, self.ft**(2)) / np.sum(self.ft**(2)))**(2) - ((np.dot(self.freq**(2), self.ft**(2)) / np.sum(self.ft**(2)))**(0.5))**(2))**(0.5),\n",
      "  4%|▍         | 114/3000 [00:05<02:19, 20.68it/s]/home/ak287/PNW_Seismic_Event_Classification/notebooks/../feature_extraction_scripts/physical_feature_extraction_scripts/seis_feature.py:69: RuntimeWarning: divide by zero encountered in double_scalars\n",
      "  self.l = np.nanmax(self.env) - ((np.nanmax(self.env) / (self.t[-1] - self.t[np.nanargmax(self.env)])) * (self.t))\n",
      "/home/ak287/PNW_Seismic_Event_Classification/notebooks/../feature_extraction_scripts/physical_feature_extraction_scripts/seis_feature.py:69: RuntimeWarning: invalid value encountered in multiply\n",
      "  self.l = np.nanmax(self.env) - ((np.nanmax(self.env) / (self.t[-1] - self.t[np.nanargmax(self.env)])) * (self.t))\n",
      "/home/ak287/PNW_Seismic_Event_Classification/notebooks/../feature_extraction_scripts/physical_feature_extraction_scripts/seis_feature.py:75: RuntimeWarning: divide by zero encountered in double_scalars\n",
      "  'AsDec': lambda: (self.t[np.argmax(self.env)] - self.t[0]) / (self.t[-1] - self.t[np.argmax(self.env)]),\n",
      "100%|██████████| 3000/3000 [02:29<00:00, 20.09it/s]\n",
      "  0%|          | 0/3000 [00:00<?, ?it/s]/home/ak287/PNW_Seismic_Event_Classification/notebooks/../feature_extraction_scripts/physical_feature_extraction_scripts/seis_feature.py:101: RuntimeWarning: invalid value encountered in double_scalars\n",
      "  'Gamma': lambda: ((np.dot(self.freq, self.ft**(2)) / np.sum(self.ft**(2)))**(2) - ((np.dot(self.freq**(2), self.ft**(2)) / np.sum(self.ft**(2)))**(0.5))**(2))**(0.5),\n",
      "100%|██████████| 3000/3000 [02:24<00:00, 20.74it/s]\n",
      "  0%|          | 0/3000 [00:00<?, ?it/s]/home/ak287/PNW_Seismic_Event_Classification/notebooks/../feature_extraction_scripts/physical_feature_extraction_scripts/seis_feature.py:101: RuntimeWarning: invalid value encountered in double_scalars\n",
      "  'Gamma': lambda: ((np.dot(self.freq, self.ft**(2)) / np.sum(self.ft**(2)))**(2) - ((np.dot(self.freq**(2), self.ft**(2)) / np.sum(self.ft**(2)))**(0.5))**(2))**(0.5),\n",
      "100%|██████████| 3000/3000 [02:34<00:00, 19.42it/s]\n",
      "  0%|          | 0/3000 [00:00<?, ?it/s]/home/ak287/PNW_Seismic_Event_Classification/notebooks/../feature_extraction_scripts/physical_feature_extraction_scripts/seis_feature.py:101: RuntimeWarning: invalid value encountered in double_scalars\n",
      "  'Gamma': lambda: ((np.dot(self.freq, self.ft**(2)) / np.sum(self.ft**(2)))**(2) - ((np.dot(self.freq**(2), self.ft**(2)) / np.sum(self.ft**(2)))**(0.5))**(2))**(0.5),\n",
      "100%|██████████| 3000/3000 [02:31<00:00, 19.80it/s]\n"
     ]
    },
    {
     "name": "stdout",
     "output_type": "stream",
     "text": [
      "05_20_05_15_40: 612.1672337055206\n"
     ]
    },
    {
     "name": "stderr",
     "output_type": "stream",
     "text": [
      "100%|██████████| 3000/3000 [00:15<00:00, 189.41it/s] \n",
      "100%|██████████| 3000/3000 [00:01<00:00, 2190.61it/s]\n",
      "100%|██████████| 3000/3000 [00:01<00:00, 2368.57it/s]\n",
      "100%|██████████| 3000/3000 [00:01<00:00, 1889.19it/s]\n"
     ]
    },
    {
     "name": "stdout",
     "output_type": "stream",
     "text": [
      "6000\n"
     ]
    },
    {
     "name": "stderr",
     "output_type": "stream",
     "text": [
      "  0%|          | 0/3000 [00:00<?, ?it/s]/home/ak287/PNW_Seismic_Event_Classification/notebooks/../feature_extraction_scripts/physical_feature_extraction_scripts/seis_feature.py:101: RuntimeWarning: invalid value encountered in double_scalars\n",
      "  'Gamma': lambda: ((np.dot(self.freq, self.ft**(2)) / np.sum(self.ft**(2)))**(2) - ((np.dot(self.freq**(2), self.ft**(2)) / np.sum(self.ft**(2)))**(0.5))**(2))**(0.5),\n",
      "100%|██████████| 3000/3000 [04:13<00:00, 11.82it/s]\n",
      "  0%|          | 0/3000 [00:00<?, ?it/s]/home/ak287/PNW_Seismic_Event_Classification/notebooks/../feature_extraction_scripts/physical_feature_extraction_scripts/seis_feature.py:101: RuntimeWarning: invalid value encountered in double_scalars\n",
      "  'Gamma': lambda: ((np.dot(self.freq, self.ft**(2)) / np.sum(self.ft**(2)))**(2) - ((np.dot(self.freq**(2), self.ft**(2)) / np.sum(self.ft**(2)))**(0.5))**(2))**(0.5),\n",
      "100%|██████████| 3000/3000 [04:18<00:00, 11.62it/s]\n",
      "  0%|          | 0/3000 [00:00<?, ?it/s]/home/ak287/PNW_Seismic_Event_Classification/notebooks/../feature_extraction_scripts/physical_feature_extraction_scripts/seis_feature.py:101: RuntimeWarning: invalid value encountered in double_scalars\n",
      "  'Gamma': lambda: ((np.dot(self.freq, self.ft**(2)) / np.sum(self.ft**(2)))**(2) - ((np.dot(self.freq**(2), self.ft**(2)) / np.sum(self.ft**(2)))**(0.5))**(2))**(0.5),\n",
      "100%|██████████| 3000/3000 [04:11<00:00, 11.94it/s]\n",
      "  0%|          | 0/3000 [00:00<?, ?it/s]/home/ak287/PNW_Seismic_Event_Classification/notebooks/../feature_extraction_scripts/physical_feature_extraction_scripts/seis_feature.py:101: RuntimeWarning: invalid value encountered in double_scalars\n",
      "  'Gamma': lambda: ((np.dot(self.freq, self.ft**(2)) / np.sum(self.ft**(2)))**(2) - ((np.dot(self.freq**(2), self.ft**(2)) / np.sum(self.ft**(2)))**(0.5))**(2))**(0.5),\n",
      "100%|██████████| 3000/3000 [04:15<00:00, 11.75it/s]\n"
     ]
    },
    {
     "name": "stdout",
     "output_type": "stream",
     "text": [
      "50_100_05_15_40: 1070.014699459076\n"
     ]
    }
   ],
   "source": [
    "import time\n",
    "import pickle\n",
    "\n",
    "def run_compute_features(params):\n",
    "    results = []\n",
    "    for param in params:\n",
    "        # Extract prefix and remove it from the parameter dictionary\n",
    "        prefix = param.pop(\"prefix\")\n",
    "        results.append((prefix, compute_features(**param)))\n",
    "        # Re-add the prefix for any future use of the parameter set\n",
    "        param[\"prefix\"] = prefix\n",
    "    return results\n",
    "\n",
    "# Parameters for different runs\n",
    "param_sets = [\n",
    "    {\"win_before\": 1000, \"win_after\": 3000, \"nos\": 3000, \"fmin\": 1, \"fmax\": 10, \"fs\": 40, \"prefix\": \"10_30_1_10_40\"},\n",
    "    {\"win_before\": 1000, \"win_after\": 4000, \"nos\": 3000, \"fmin\": 1, \"fmax\": 10, \"fs\": 40, \"prefix\": \"10_40_1_10_40\"},\n",
    "    {\"win_before\": 2000, \"win_after\": 5000, \"nos\": 3000, \"fmin\": 1, \"fmax\": 10, \"fs\": 40, \"prefix\": \"20_50_1_10_40\"},\n",
    "    {\"win_before\": 500, \"win_after\": 2000, \"nos\": 3000, \"fmin\": 1, \"fmax\": 10, \"fs\": 40, \"prefix\": \"05_20_1_10_40\"},\n",
    "    {\"win_before\": 5000, \"win_after\": 10000, \"nos\": 3000, \"fmin\": 1, \"fmax\": 10, \"fs\": 40, \"prefix\": \"50_100_1_10_40\"},\n",
    "    {\"win_before\": 1000, \"win_after\": 3000, \"nos\": 3000, \"fmin\": 1, \"fmax\": 15, \"fs\": 40, \"prefix\": \"10_30_1_15_40\"},\n",
    "    {\"win_before\": 1000, \"win_after\": 4000, \"nos\": 3000, \"fmin\": 1, \"fmax\": 15, \"fs\": 40, \"prefix\": \"10_40_1_15_40\"},\n",
    "    {\"win_before\": 2000, \"win_after\": 5000, \"nos\": 3000, \"fmin\": 1, \"fmax\": 15, \"fs\": 40, \"prefix\": \"20_50_1_15_40\"},\n",
    "    {\"win_before\": 500, \"win_after\": 2000, \"nos\": 3000, \"fmin\": 1, \"fmax\": 15, \"fs\": 40, \"prefix\": \"05_20_1_15_40\"},\n",
    "    {\"win_before\": 5000, \"win_after\": 10000, \"nos\": 3000, \"fmin\": 1, \"fmax\": 15, \"fs\": 40, \"prefix\": \"50_100_1_15_40\"},\n",
    "    {\"win_before\": 1000, \"win_after\": 3000, \"nos\": 3000, \"fmin\": 0.5, \"fmax\": 10, \"fs\": 40, \"prefix\": \"10_30_05_10_40\"},\n",
    "    {\"win_before\": 1000, \"win_after\": 4000, \"nos\": 3000, \"fmin\": 0.5, \"fmax\": 10, \"fs\": 40, \"prefix\": \"10_40_05_10_40\"},\n",
    "    {\"win_before\": 2000, \"win_after\": 5000, \"nos\": 3000, \"fmin\": 0.5, \"fmax\": 10, \"fs\": 40, \"prefix\": \"20_50_05_10_40\"},\n",
    "    {\"win_before\": 500, \"win_after\": 2000, \"nos\": 3000, \"fmin\": 0.5, \"fmax\": 10, \"fs\": 40, \"prefix\": \"05_20_05_10_40\"},\n",
    "    {\"win_before\": 5000, \"win_after\": 10000, \"nos\": 3000, \"fmin\": 0.5, \"fmax\": 10, \"fs\": 40, \"prefix\": \"50_100_05_10_40\"},\n",
    "    {\"win_before\": 1000, \"win_after\": 3000, \"nos\": 3000, \"fmin\": 0.5, \"fmax\": 15, \"fs\": 40, \"prefix\": \"10_30_05_15_40\"},\n",
    "    {\"win_before\": 1000, \"win_after\": 4000, \"nos\": 3000, \"fmin\": 0.5, \"fmax\": 15, \"fs\": 40, \"prefix\": \"10_40_05_15_40\"},\n",
    "    {\"win_before\": 2000, \"win_after\": 5000, \"nos\": 3000, \"fmin\": 0.5, \"fmax\": 15, \"fs\": 40, \"prefix\": \"20_50_05_15_40\"},\n",
    "    {\"win_before\": 500, \"win_after\": 2000, \"nos\": 3000, \"fmin\": 0.5, \"fmax\": 15, \"fs\": 40, \"prefix\": \"05_20_05_15_40\"},\n",
    "    {\"win_before\": 5000, \"win_after\": 10000, \"nos\": 3000, \"fmin\": 0.5, \"fmax\": 15, \"fs\": 40, \"prefix\": \"50_100_05_15_40\"}\n",
    "]\n",
    "\n",
    "# Run the computations and measure time\n",
    "all_results = []\n",
    "for param_set in param_sets:\n",
    "    init_time = time.time()\n",
    "    results = run_compute_features([param_set])\n",
    "    for prefix, result in results:\n",
    "        a, b, c, d = result\n",
    "        print(f\"{prefix}: {time.time() - init_time}\")\n",
    "        all_results.append((prefix, result))\n",
    "\n"
   ]
  },
  {
   "cell_type": "code",
   "execution_count": 125,
   "id": "6093d542",
   "metadata": {},
   "outputs": [],
   "source": [
    "# Save the results to disk\n",
    "with open('../results/results_40.pkl', 'wb') as f:\n",
    "    pickle.dump(all_results, f)\n"
   ]
  },
  {
   "cell_type": "code",
   "execution_count": null,
   "id": "d8afaaa9",
   "metadata": {},
   "outputs": [],
   "source": []
  },
  {
   "cell_type": "code",
   "execution_count": null,
   "id": "19bbcaf9",
   "metadata": {},
   "outputs": [],
   "source": [
    "def run_compute_features(params):\n",
    "    results = []\n",
    "    for param in params:\n",
    "        # Extract prefix and remove it from the parameter dictionary\n",
    "        prefix = param.pop(\"prefix\")\n",
    "        results.append((prefix, compute_features(**param)))\n",
    "        # Re-add the prefix for any future use of the parameter set\n",
    "        param[\"prefix\"] = prefix\n",
    "    return results\n",
    "\n",
    "# Parameters for different runs\n",
    "param_sets = [\n",
    "    {\"win_before\": 1000, \"win_after\": 3000, \"nos\": 3000, \"fmin\": 1, \"fmax\": 10, \"fs\": 50, \"prefix\": \"10_30_1_10_50\"},\n",
    "    {\"win_before\": 1000, \"win_after\": 4000, \"nos\": 3000, \"fmin\": 1, \"fmax\": 10, \"fs\": 50, \"prefix\": \"10_40_1_10_50\"},\n",
    "    {\"win_before\": 2000, \"win_after\": 5000, \"nos\": 3000, \"fmin\": 1, \"fmax\": 10, \"fs\": 50, \"prefix\": \"20_50_1_10_50\"},\n",
    "    {\"win_before\": 500, \"win_after\": 2000, \"nos\": 3000, \"fmin\": 1, \"fmax\": 10, \"fs\": 50, \"prefix\": \"05_20_1_10_50\"},\n",
    "    {\"win_before\": 5000, \"win_after\": 10000, \"nos\": 3000, \"fmin\": 1, \"fmax\": 10, \"fs\": 50, \"prefix\": \"50_100_1_10_50\"},\n",
    "    {\"win_before\": 1000, \"win_after\": 3000, \"nos\": 3000, \"fmin\": 1, \"fmax\": 15, \"fs\": 50, \"prefix\": \"10_30_1_15_50\"},\n",
    "    {\"win_before\": 1000, \"win_after\": 4000, \"nos\": 3000, \"fmin\": 1, \"fmax\": 15, \"fs\": 50, \"prefix\": \"10_40_1_15_50\"},\n",
    "    {\"win_before\": 2000, \"win_after\": 5000, \"nos\": 3000, \"fmin\": 1, \"fmax\": 15, \"fs\": 50, \"prefix\": \"20_50_1_15_50\"},\n",
    "    {\"win_before\": 500, \"win_after\": 2000, \"nos\": 3000, \"fmin\": 1, \"fmax\": 15, \"fs\": 50, \"prefix\": \"05_20_1_15_50\"},\n",
    "    {\"win_before\": 5000, \"win_after\": 10000, \"nos\": 3000, \"fmin\": 1, \"fmax\": 15, \"fs\": 50, \"prefix\": \"50_100_1_15_50\"},\n",
    "    {\"win_before\": 1000, \"win_after\": 3000, \"nos\": 3000, \"fmin\": 0.5, \"fmax\": 10, \"fs\": 50, \"prefix\": \"10_30_05_10_50\"},\n",
    "    {\"win_before\": 1000, \"win_after\": 4000, \"nos\": 3000, \"fmin\": 0.5, \"fmax\": 10, \"fs\": 50, \"prefix\": \"10_40_05_10_50\"},\n",
    "    {\"win_before\": 2000, \"win_after\": 5000, \"nos\": 3000, \"fmin\": 0.5, \"fmax\": 10, \"fs\": 50, \"prefix\": \"20_50_05_10_50\"},\n",
    "    {\"win_before\": 500, \"win_after\": 2000, \"nos\": 3000, \"fmin\": 0.5, \"fmax\": 10, \"fs\": 50, \"prefix\": \"05_20_05_10_50\"},\n",
    "    {\"win_before\": 5000, \"win_after\": 10000, \"nos\": 3000, \"fmin\": 0.5, \"fmax\": 10, \"fs\": 50, \"prefix\": \"50_100_05_10_50\"},\n",
    "    {\"win_before\": 1000, \"win_after\": 3000, \"nos\": 3000, \"fmin\": 0.5, \"fmax\": 15, \"fs\": 50, \"prefix\": \"10_30_05_15_50\"},\n",
    "    {\"win_before\": 1000, \"win_after\": 4000, \"nos\": 3000, \"fmin\": 0.5, \"fmax\": 15, \"fs\": 50, \"prefix\": \"10_40_05_15_50\"},\n",
    "    {\"win_before\": 2000, \"win_after\": 5000, \"nos\": 3000, \"fmin\": 0.5, \"fmax\": 15, \"fs\": 50, \"prefix\": \"20_50_05_15_50\"},\n",
    "    {\"win_before\": 500, \"win_after\": 2000, \"nos\": 3000, \"fmin\": 0.5, \"fmax\": 15, \"fs\": 50, \"prefix\": \"05_20_05_15_50\"},\n",
    "    {\"win_before\": 5000, \"win_after\": 10000, \"nos\": 3000, \"fmin\": 0.5, \"fmax\": 15, \"fs\": 50, \"prefix\": \"50_100_05_15_50\"}\n",
    "]\n",
    "\n",
    "# Run the computations and measure time\n",
    "all_results_50 = []\n",
    "for param_set in param_sets:\n",
    "    init_time = time.time()\n",
    "    results = run_compute_features([param_set])\n",
    "    for prefix, result in results:\n",
    "        a, b, c, d = result\n",
    "        print(f\"{prefix}: {time.time() - init_time}\")\n",
    "        all_results_50.append((prefix, result))\n",
    "\n"
   ]
  },
  {
   "cell_type": "code",
   "execution_count": null,
   "id": "8a938751",
   "metadata": {},
   "outputs": [],
   "source": []
  },
  {
   "cell_type": "code",
   "execution_count": 152,
   "id": "2ce6e2cc",
   "metadata": {
    "scrolled": false
   },
   "outputs": [
    {
     "name": "stderr",
     "output_type": "stream",
     "text": [
      "100%|██████████| 2/2 [00:00<00:00, 18.58it/s]\n",
      "100%|██████████| 2/2 [00:00<00:00, 56.11it/s]\n",
      "100%|██████████| 2/2 [00:00<00:00, 86.57it/s]\n",
      "100%|██████████| 2/2 [00:00<00:00, 34.02it/s]"
     ]
    },
    {
     "name": "stdout",
     "output_type": "stream",
     "text": [
      "2000\n"
     ]
    },
    {
     "name": "stderr",
     "output_type": "stream",
     "text": [
      "\n",
      "  0%|          | 0/2 [00:00<?, ?it/s]/home/ak287/PNW_Seismic_Event_Classification/notebooks/../feature_extraction_scripts/physical_feature_extraction_scripts/seis_feature.py:101: RuntimeWarning: invalid value encountered in double_scalars\n",
      "  'Gamma': lambda: ((np.dot(self.freq, self.ft**(2)) / np.sum(self.ft**(2)))**(2) - ((np.dot(self.freq**(2), self.ft**(2)) / np.sum(self.ft**(2)))**(0.5))**(2))**(0.5),\n",
      "100%|██████████| 2/2 [00:00<00:00,  9.72it/s]\n",
      "  0%|          | 0/2 [00:00<?, ?it/s]/home/ak287/PNW_Seismic_Event_Classification/notebooks/../feature_extraction_scripts/physical_feature_extraction_scripts/seis_feature.py:101: RuntimeWarning: invalid value encountered in double_scalars\n",
      "  'Gamma': lambda: ((np.dot(self.freq, self.ft**(2)) / np.sum(self.ft**(2)))**(2) - ((np.dot(self.freq**(2), self.ft**(2)) / np.sum(self.ft**(2)))**(0.5))**(2))**(0.5),\n",
      "100%|██████████| 2/2 [00:00<00:00, 10.86it/s]\n",
      "  0%|          | 0/2 [00:00<?, ?it/s]/home/ak287/PNW_Seismic_Event_Classification/notebooks/../feature_extraction_scripts/physical_feature_extraction_scripts/seis_feature.py:101: RuntimeWarning: invalid value encountered in double_scalars\n",
      "  'Gamma': lambda: ((np.dot(self.freq, self.ft**(2)) / np.sum(self.ft**(2)))**(2) - ((np.dot(self.freq**(2), self.ft**(2)) / np.sum(self.ft**(2)))**(0.5))**(2))**(0.5),\n",
      "100%|██████████| 2/2 [00:00<00:00, 14.50it/s]\n",
      "  0%|          | 0/2 [00:00<?, ?it/s]/home/ak287/PNW_Seismic_Event_Classification/notebooks/../feature_extraction_scripts/physical_feature_extraction_scripts/seis_feature.py:101: RuntimeWarning: invalid value encountered in double_scalars\n",
      "  'Gamma': lambda: ((np.dot(self.freq, self.ft**(2)) / np.sum(self.ft**(2)))**(2) - ((np.dot(self.freq**(2), self.ft**(2)) / np.sum(self.ft**(2)))**(0.5))**(2))**(0.5),\n",
      "100%|██████████| 2/2 [00:00<00:00, 12.47it/s]\n"
     ]
    },
    {
     "name": "stdout",
     "output_type": "stream",
     "text": [
      "10_30_1_10_50: 6.92255973815918\n"
     ]
    },
    {
     "name": "stderr",
     "output_type": "stream",
     "text": [
      "100%|██████████| 2/2 [00:00<00:00, 1284.04it/s]\n",
      "100%|██████████| 2/2 [00:00<00:00, 1994.91it/s]\n",
      "100%|██████████| 2/2 [00:00<00:00, 2267.80it/s]\n",
      "100%|██████████| 2/2 [00:00<00:00, 1882.54it/s]"
     ]
    },
    {
     "name": "stdout",
     "output_type": "stream",
     "text": [
      "2500\n"
     ]
    },
    {
     "name": "stderr",
     "output_type": "stream",
     "text": [
      "\n",
      "  0%|          | 0/2 [00:00<?, ?it/s]/home/ak287/PNW_Seismic_Event_Classification/notebooks/../feature_extraction_scripts/physical_feature_extraction_scripts/seis_feature.py:101: RuntimeWarning: invalid value encountered in double_scalars\n",
      "  'Gamma': lambda: ((np.dot(self.freq, self.ft**(2)) / np.sum(self.ft**(2)))**(2) - ((np.dot(self.freq**(2), self.ft**(2)) / np.sum(self.ft**(2)))**(0.5))**(2))**(0.5),\n",
      "100%|██████████| 2/2 [00:00<00:00, 12.92it/s]\n",
      "  0%|          | 0/2 [00:00<?, ?it/s]/home/ak287/PNW_Seismic_Event_Classification/notebooks/../feature_extraction_scripts/physical_feature_extraction_scripts/seis_feature.py:101: RuntimeWarning: invalid value encountered in double_scalars\n",
      "  'Gamma': lambda: ((np.dot(self.freq, self.ft**(2)) / np.sum(self.ft**(2)))**(2) - ((np.dot(self.freq**(2), self.ft**(2)) / np.sum(self.ft**(2)))**(0.5))**(2))**(0.5),\n",
      "100%|██████████| 2/2 [00:00<00:00, 10.08it/s]\n",
      "  0%|          | 0/2 [00:00<?, ?it/s]/home/ak287/PNW_Seismic_Event_Classification/notebooks/../feature_extraction_scripts/physical_feature_extraction_scripts/seis_feature.py:101: RuntimeWarning: invalid value encountered in double_scalars\n",
      "  'Gamma': lambda: ((np.dot(self.freq, self.ft**(2)) / np.sum(self.ft**(2)))**(2) - ((np.dot(self.freq**(2), self.ft**(2)) / np.sum(self.ft**(2)))**(0.5))**(2))**(0.5),\n",
      "100%|██████████| 2/2 [00:00<00:00, 12.37it/s]\n",
      "  0%|          | 0/2 [00:00<?, ?it/s]/home/ak287/PNW_Seismic_Event_Classification/notebooks/../feature_extraction_scripts/physical_feature_extraction_scripts/seis_feature.py:101: RuntimeWarning: invalid value encountered in double_scalars\n",
      "  'Gamma': lambda: ((np.dot(self.freq, self.ft**(2)) / np.sum(self.ft**(2)))**(2) - ((np.dot(self.freq**(2), self.ft**(2)) / np.sum(self.ft**(2)))**(0.5))**(2))**(0.5),\n",
      "100%|██████████| 2/2 [00:00<00:00, 13.49it/s]\n"
     ]
    },
    {
     "name": "stdout",
     "output_type": "stream",
     "text": [
      "10_40_1_10_50: 3.6982991695404053\n"
     ]
    },
    {
     "name": "stderr",
     "output_type": "stream",
     "text": [
      "100%|██████████| 2/2 [00:00<00:00, 91.74it/s]\n",
      "100%|██████████| 2/2 [00:00<00:00, 192.75it/s]\n",
      "100%|██████████| 2/2 [00:00<00:00, 847.51it/s]\n",
      "100%|██████████| 2/2 [00:00<00:00, 1583.95it/s]\n"
     ]
    },
    {
     "name": "stdout",
     "output_type": "stream",
     "text": [
      "3500\n"
     ]
    },
    {
     "name": "stderr",
     "output_type": "stream",
     "text": [
      "  0%|          | 0/2 [00:00<?, ?it/s]/home/ak287/PNW_Seismic_Event_Classification/notebooks/../feature_extraction_scripts/physical_feature_extraction_scripts/seis_feature.py:101: RuntimeWarning: invalid value encountered in double_scalars\n",
      "  'Gamma': lambda: ((np.dot(self.freq, self.ft**(2)) / np.sum(self.ft**(2)))**(2) - ((np.dot(self.freq**(2), self.ft**(2)) / np.sum(self.ft**(2)))**(0.5))**(2))**(0.5),\n",
      "100%|██████████| 2/2 [00:00<00:00,  9.99it/s]\n",
      "  0%|          | 0/2 [00:00<?, ?it/s]/home/ak287/PNW_Seismic_Event_Classification/notebooks/../feature_extraction_scripts/physical_feature_extraction_scripts/seis_feature.py:101: RuntimeWarning: invalid value encountered in double_scalars\n",
      "  'Gamma': lambda: ((np.dot(self.freq, self.ft**(2)) / np.sum(self.ft**(2)))**(2) - ((np.dot(self.freq**(2), self.ft**(2)) / np.sum(self.ft**(2)))**(0.5))**(2))**(0.5),\n",
      "100%|██████████| 2/2 [00:00<00:00, 11.20it/s]\n",
      "  0%|          | 0/2 [00:00<?, ?it/s]/home/ak287/PNW_Seismic_Event_Classification/notebooks/../feature_extraction_scripts/physical_feature_extraction_scripts/seis_feature.py:101: RuntimeWarning: invalid value encountered in double_scalars\n",
      "  'Gamma': lambda: ((np.dot(self.freq, self.ft**(2)) / np.sum(self.ft**(2)))**(2) - ((np.dot(self.freq**(2), self.ft**(2)) / np.sum(self.ft**(2)))**(0.5))**(2))**(0.5),\n",
      "100%|██████████| 2/2 [00:00<00:00,  9.30it/s]\n",
      "  0%|          | 0/2 [00:00<?, ?it/s]/home/ak287/PNW_Seismic_Event_Classification/notebooks/../feature_extraction_scripts/physical_feature_extraction_scripts/seis_feature.py:101: RuntimeWarning: invalid value encountered in double_scalars\n",
      "  'Gamma': lambda: ((np.dot(self.freq, self.ft**(2)) / np.sum(self.ft**(2)))**(2) - ((np.dot(self.freq**(2), self.ft**(2)) / np.sum(self.ft**(2)))**(0.5))**(2))**(0.5),\n",
      "100%|██████████| 2/2 [00:00<00:00,  9.91it/s]\n"
     ]
    },
    {
     "name": "stdout",
     "output_type": "stream",
     "text": [
      "20_50_1_10_50: 4.072350263595581\n"
     ]
    },
    {
     "name": "stderr",
     "output_type": "stream",
     "text": [
      "100%|██████████| 2/2 [00:00<00:00, 1296.74it/s]\n",
      "100%|██████████| 2/2 [00:00<00:00, 2073.82it/s]\n",
      "100%|██████████| 2/2 [00:00<00:00, 2071.26it/s]\n",
      "100%|██████████| 2/2 [00:00<00:00, 1918.71it/s]"
     ]
    },
    {
     "name": "stdout",
     "output_type": "stream",
     "text": [
      "1250\n"
     ]
    },
    {
     "name": "stderr",
     "output_type": "stream",
     "text": [
      "\n",
      "  0%|          | 0/2 [00:00<?, ?it/s]/home/ak287/PNW_Seismic_Event_Classification/notebooks/../feature_extraction_scripts/physical_feature_extraction_scripts/seis_feature.py:101: RuntimeWarning: invalid value encountered in double_scalars\n",
      "  'Gamma': lambda: ((np.dot(self.freq, self.ft**(2)) / np.sum(self.ft**(2)))**(2) - ((np.dot(self.freq**(2), self.ft**(2)) / np.sum(self.ft**(2)))**(0.5))**(2))**(0.5),\n",
      "100%|██████████| 2/2 [00:00<00:00, 12.73it/s]\n",
      "  0%|          | 0/2 [00:00<?, ?it/s]/home/ak287/PNW_Seismic_Event_Classification/notebooks/../feature_extraction_scripts/physical_feature_extraction_scripts/seis_feature.py:101: RuntimeWarning: invalid value encountered in double_scalars\n",
      "  'Gamma': lambda: ((np.dot(self.freq, self.ft**(2)) / np.sum(self.ft**(2)))**(2) - ((np.dot(self.freq**(2), self.ft**(2)) / np.sum(self.ft**(2)))**(0.5))**(2))**(0.5),\n",
      "100%|██████████| 2/2 [00:00<00:00, 10.90it/s]\n",
      "  0%|          | 0/2 [00:00<?, ?it/s]/home/ak287/PNW_Seismic_Event_Classification/notebooks/../feature_extraction_scripts/physical_feature_extraction_scripts/seis_feature.py:101: RuntimeWarning: invalid value encountered in double_scalars\n",
      "  'Gamma': lambda: ((np.dot(self.freq, self.ft**(2)) / np.sum(self.ft**(2)))**(2) - ((np.dot(self.freq**(2), self.ft**(2)) / np.sum(self.ft**(2)))**(0.5))**(2))**(0.5),\n",
      "100%|██████████| 2/2 [00:00<00:00, 10.69it/s]\n",
      "  0%|          | 0/2 [00:00<?, ?it/s]/home/ak287/PNW_Seismic_Event_Classification/notebooks/../feature_extraction_scripts/physical_feature_extraction_scripts/seis_feature.py:101: RuntimeWarning: invalid value encountered in double_scalars\n",
      "  'Gamma': lambda: ((np.dot(self.freq, self.ft**(2)) / np.sum(self.ft**(2)))**(2) - ((np.dot(self.freq**(2), self.ft**(2)) / np.sum(self.ft**(2)))**(0.5))**(2))**(0.5),\n",
      "100%|██████████| 2/2 [00:00<00:00, 15.08it/s]\n"
     ]
    },
    {
     "name": "stdout",
     "output_type": "stream",
     "text": [
      "05_20_1_10_50: 3.631173610687256\n"
     ]
    },
    {
     "name": "stderr",
     "output_type": "stream",
     "text": [
      "100%|██████████| 2/2 [00:00<00:00, 106.68it/s]\n",
      "100%|██████████| 2/2 [00:00<00:00, 103.19it/s]\n",
      "100%|██████████| 2/2 [00:00<00:00, 1337.68it/s]\n",
      "100%|██████████| 2/2 [00:00<00:00, 122.67it/s]"
     ]
    },
    {
     "name": "stdout",
     "output_type": "stream",
     "text": [
      "7500\n"
     ]
    },
    {
     "name": "stderr",
     "output_type": "stream",
     "text": [
      "\n",
      "  0%|          | 0/2 [00:00<?, ?it/s]/home/ak287/PNW_Seismic_Event_Classification/notebooks/../feature_extraction_scripts/physical_feature_extraction_scripts/seis_feature.py:101: RuntimeWarning: invalid value encountered in double_scalars\n",
      "  'Gamma': lambda: ((np.dot(self.freq, self.ft**(2)) / np.sum(self.ft**(2)))**(2) - ((np.dot(self.freq**(2), self.ft**(2)) / np.sum(self.ft**(2)))**(0.5))**(2))**(0.5),\n",
      "100%|██████████| 2/2 [00:00<00:00,  6.30it/s]\n",
      "  0%|          | 0/2 [00:00<?, ?it/s]/home/ak287/PNW_Seismic_Event_Classification/notebooks/../feature_extraction_scripts/physical_feature_extraction_scripts/seis_feature.py:101: RuntimeWarning: invalid value encountered in double_scalars\n",
      "  'Gamma': lambda: ((np.dot(self.freq, self.ft**(2)) / np.sum(self.ft**(2)))**(2) - ((np.dot(self.freq**(2), self.ft**(2)) / np.sum(self.ft**(2)))**(0.5))**(2))**(0.5),\n",
      "100%|██████████| 2/2 [00:00<00:00,  7.10it/s]\n",
      "  0%|          | 0/2 [00:00<?, ?it/s]/home/ak287/PNW_Seismic_Event_Classification/notebooks/../feature_extraction_scripts/physical_feature_extraction_scripts/seis_feature.py:101: RuntimeWarning: invalid value encountered in double_scalars\n",
      "  'Gamma': lambda: ((np.dot(self.freq, self.ft**(2)) / np.sum(self.ft**(2)))**(2) - ((np.dot(self.freq**(2), self.ft**(2)) / np.sum(self.ft**(2)))**(0.5))**(2))**(0.5),\n",
      "100%|██████████| 2/2 [00:00<00:00,  5.39it/s]\n",
      "  0%|          | 0/2 [00:00<?, ?it/s]/home/ak287/PNW_Seismic_Event_Classification/notebooks/../feature_extraction_scripts/physical_feature_extraction_scripts/seis_feature.py:101: RuntimeWarning: invalid value encountered in double_scalars\n",
      "  'Gamma': lambda: ((np.dot(self.freq, self.ft**(2)) / np.sum(self.ft**(2)))**(2) - ((np.dot(self.freq**(2), self.ft**(2)) / np.sum(self.ft**(2)))**(0.5))**(2))**(0.5),\n",
      "100%|██████████| 2/2 [00:00<00:00,  8.51it/s]\n"
     ]
    },
    {
     "name": "stdout",
     "output_type": "stream",
     "text": [
      "50_100_1_10_50: 4.371296405792236\n"
     ]
    },
    {
     "name": "stderr",
     "output_type": "stream",
     "text": [
      "100%|██████████| 2/2 [00:00<00:00, 1183.49it/s]\n",
      "100%|██████████| 2/2 [00:00<00:00, 1939.56it/s]\n",
      "100%|██████████| 2/2 [00:00<00:00, 2067.69it/s]\n",
      "100%|██████████| 2/2 [00:00<00:00, 1953.56it/s]"
     ]
    },
    {
     "name": "stdout",
     "output_type": "stream",
     "text": [
      "2000\n"
     ]
    },
    {
     "name": "stderr",
     "output_type": "stream",
     "text": [
      "\n",
      "  0%|          | 0/2 [00:00<?, ?it/s]/home/ak287/PNW_Seismic_Event_Classification/notebooks/../feature_extraction_scripts/physical_feature_extraction_scripts/seis_feature.py:101: RuntimeWarning: invalid value encountered in double_scalars\n",
      "  'Gamma': lambda: ((np.dot(self.freq, self.ft**(2)) / np.sum(self.ft**(2)))**(2) - ((np.dot(self.freq**(2), self.ft**(2)) / np.sum(self.ft**(2)))**(0.5))**(2))**(0.5),\n",
      "100%|██████████| 2/2 [00:00<00:00, 10.60it/s]\n",
      "  0%|          | 0/2 [00:00<?, ?it/s]/home/ak287/PNW_Seismic_Event_Classification/notebooks/../feature_extraction_scripts/physical_feature_extraction_scripts/seis_feature.py:101: RuntimeWarning: invalid value encountered in double_scalars\n",
      "  'Gamma': lambda: ((np.dot(self.freq, self.ft**(2)) / np.sum(self.ft**(2)))**(2) - ((np.dot(self.freq**(2), self.ft**(2)) / np.sum(self.ft**(2)))**(0.5))**(2))**(0.5),\n",
      "100%|██████████| 2/2 [00:00<00:00, 12.33it/s]\n",
      "  0%|          | 0/2 [00:00<?, ?it/s]/home/ak287/PNW_Seismic_Event_Classification/notebooks/../feature_extraction_scripts/physical_feature_extraction_scripts/seis_feature.py:101: RuntimeWarning: invalid value encountered in double_scalars\n",
      "  'Gamma': lambda: ((np.dot(self.freq, self.ft**(2)) / np.sum(self.ft**(2)))**(2) - ((np.dot(self.freq**(2), self.ft**(2)) / np.sum(self.ft**(2)))**(0.5))**(2))**(0.5),\n",
      "100%|██████████| 2/2 [00:00<00:00, 12.03it/s]\n",
      "  0%|          | 0/2 [00:00<?, ?it/s]/home/ak287/PNW_Seismic_Event_Classification/notebooks/../feature_extraction_scripts/physical_feature_extraction_scripts/seis_feature.py:101: RuntimeWarning: invalid value encountered in double_scalars\n",
      "  'Gamma': lambda: ((np.dot(self.freq, self.ft**(2)) / np.sum(self.ft**(2)))**(2) - ((np.dot(self.freq**(2), self.ft**(2)) / np.sum(self.ft**(2)))**(0.5))**(2))**(0.5),\n",
      "100%|██████████| 2/2 [00:00<00:00, 11.41it/s]\n"
     ]
    },
    {
     "name": "stdout",
     "output_type": "stream",
     "text": [
      "10_30_1_15_50: 3.7214763164520264\n"
     ]
    },
    {
     "name": "stderr",
     "output_type": "stream",
     "text": [
      "100%|██████████| 2/2 [00:00<00:00, 949.90it/s]\n",
      "100%|██████████| 2/2 [00:00<00:00, 1764.54it/s]\n",
      "100%|██████████| 2/2 [00:00<00:00, 2096.10it/s]\n",
      "100%|██████████| 2/2 [00:00<00:00, 1885.93it/s]"
     ]
    },
    {
     "name": "stdout",
     "output_type": "stream",
     "text": [
      "2500\n"
     ]
    },
    {
     "name": "stderr",
     "output_type": "stream",
     "text": [
      "\n",
      "  0%|          | 0/2 [00:00<?, ?it/s]/home/ak287/PNW_Seismic_Event_Classification/notebooks/../feature_extraction_scripts/physical_feature_extraction_scripts/seis_feature.py:101: RuntimeWarning: invalid value encountered in double_scalars\n",
      "  'Gamma': lambda: ((np.dot(self.freq, self.ft**(2)) / np.sum(self.ft**(2)))**(2) - ((np.dot(self.freq**(2), self.ft**(2)) / np.sum(self.ft**(2)))**(0.5))**(2))**(0.5),\n",
      "100%|██████████| 2/2 [00:00<00:00, 10.26it/s]\n",
      "  0%|          | 0/2 [00:00<?, ?it/s]/home/ak287/PNW_Seismic_Event_Classification/notebooks/../feature_extraction_scripts/physical_feature_extraction_scripts/seis_feature.py:101: RuntimeWarning: invalid value encountered in double_scalars\n",
      "  'Gamma': lambda: ((np.dot(self.freq, self.ft**(2)) / np.sum(self.ft**(2)))**(2) - ((np.dot(self.freq**(2), self.ft**(2)) / np.sum(self.ft**(2)))**(0.5))**(2))**(0.5),\n",
      "100%|██████████| 2/2 [00:00<00:00, 11.85it/s]\n",
      "  0%|          | 0/2 [00:00<?, ?it/s]/home/ak287/PNW_Seismic_Event_Classification/notebooks/../feature_extraction_scripts/physical_feature_extraction_scripts/seis_feature.py:101: RuntimeWarning: invalid value encountered in double_scalars\n",
      "  'Gamma': lambda: ((np.dot(self.freq, self.ft**(2)) / np.sum(self.ft**(2)))**(2) - ((np.dot(self.freq**(2), self.ft**(2)) / np.sum(self.ft**(2)))**(0.5))**(2))**(0.5),\n",
      "100%|██████████| 2/2 [00:00<00:00, 10.20it/s]\n",
      "  0%|          | 0/2 [00:00<?, ?it/s]/home/ak287/PNW_Seismic_Event_Classification/notebooks/../feature_extraction_scripts/physical_feature_extraction_scripts/seis_feature.py:101: RuntimeWarning: invalid value encountered in double_scalars\n",
      "  'Gamma': lambda: ((np.dot(self.freq, self.ft**(2)) / np.sum(self.ft**(2)))**(2) - ((np.dot(self.freq**(2), self.ft**(2)) / np.sum(self.ft**(2)))**(0.5))**(2))**(0.5),\n",
      "100%|██████████| 2/2 [00:00<00:00, 12.01it/s]\n"
     ]
    },
    {
     "name": "stdout",
     "output_type": "stream",
     "text": [
      "10_40_1_15_50: 3.7410449981689453\n"
     ]
    },
    {
     "name": "stderr",
     "output_type": "stream",
     "text": [
      "100%|██████████| 2/2 [00:00<00:00, 1257.66it/s]\n",
      "100%|██████████| 2/2 [00:00<00:00, 2017.46it/s]\n",
      "100%|██████████| 2/2 [00:00<00:00, 1883.39it/s]\n",
      "100%|██████████| 2/2 [00:00<00:00, 1778.38it/s]"
     ]
    },
    {
     "name": "stdout",
     "output_type": "stream",
     "text": [
      "3500\n"
     ]
    },
    {
     "name": "stderr",
     "output_type": "stream",
     "text": [
      "\n",
      "  0%|          | 0/2 [00:00<?, ?it/s]/home/ak287/PNW_Seismic_Event_Classification/notebooks/../feature_extraction_scripts/physical_feature_extraction_scripts/seis_feature.py:101: RuntimeWarning: invalid value encountered in double_scalars\n",
      "  'Gamma': lambda: ((np.dot(self.freq, self.ft**(2)) / np.sum(self.ft**(2)))**(2) - ((np.dot(self.freq**(2), self.ft**(2)) / np.sum(self.ft**(2)))**(0.5))**(2))**(0.5),\n",
      "100%|██████████| 2/2 [00:00<00:00,  8.50it/s]\n",
      "  0%|          | 0/2 [00:00<?, ?it/s]/home/ak287/PNW_Seismic_Event_Classification/notebooks/../feature_extraction_scripts/physical_feature_extraction_scripts/seis_feature.py:101: RuntimeWarning: invalid value encountered in double_scalars\n",
      "  'Gamma': lambda: ((np.dot(self.freq, self.ft**(2)) / np.sum(self.ft**(2)))**(2) - ((np.dot(self.freq**(2), self.ft**(2)) / np.sum(self.ft**(2)))**(0.5))**(2))**(0.5),\n",
      "100%|██████████| 2/2 [00:00<00:00,  9.77it/s]\n",
      "  0%|          | 0/2 [00:00<?, ?it/s]/home/ak287/PNW_Seismic_Event_Classification/notebooks/../feature_extraction_scripts/physical_feature_extraction_scripts/seis_feature.py:101: RuntimeWarning: invalid value encountered in double_scalars\n",
      "  'Gamma': lambda: ((np.dot(self.freq, self.ft**(2)) / np.sum(self.ft**(2)))**(2) - ((np.dot(self.freq**(2), self.ft**(2)) / np.sum(self.ft**(2)))**(0.5))**(2))**(0.5),\n",
      "100%|██████████| 2/2 [00:00<00:00, 10.75it/s]\n",
      "  0%|          | 0/2 [00:00<?, ?it/s]/home/ak287/PNW_Seismic_Event_Classification/notebooks/../feature_extraction_scripts/physical_feature_extraction_scripts/seis_feature.py:101: RuntimeWarning: invalid value encountered in double_scalars\n",
      "  'Gamma': lambda: ((np.dot(self.freq, self.ft**(2)) / np.sum(self.ft**(2)))**(2) - ((np.dot(self.freq**(2), self.ft**(2)) / np.sum(self.ft**(2)))**(0.5))**(2))**(0.5),\n",
      "100%|██████████| 2/2 [00:00<00:00, 10.18it/s]\n"
     ]
    },
    {
     "name": "stdout",
     "output_type": "stream",
     "text": [
      "20_50_1_15_50: 3.994051456451416\n"
     ]
    },
    {
     "name": "stderr",
     "output_type": "stream",
     "text": [
      "100%|██████████| 2/2 [00:00<00:00, 1123.57it/s]\n",
      "100%|██████████| 2/2 [00:00<00:00, 1810.62it/s]\n",
      "100%|██████████| 2/2 [00:00<00:00, 1915.64it/s]\n",
      "100%|██████████| 2/2 [00:00<00:00, 1829.18it/s]"
     ]
    },
    {
     "name": "stdout",
     "output_type": "stream",
     "text": [
      "1250\n"
     ]
    },
    {
     "name": "stderr",
     "output_type": "stream",
     "text": [
      "\n",
      "  0%|          | 0/2 [00:00<?, ?it/s]/home/ak287/PNW_Seismic_Event_Classification/notebooks/../feature_extraction_scripts/physical_feature_extraction_scripts/seis_feature.py:101: RuntimeWarning: invalid value encountered in double_scalars\n",
      "  'Gamma': lambda: ((np.dot(self.freq, self.ft**(2)) / np.sum(self.ft**(2)))**(2) - ((np.dot(self.freq**(2), self.ft**(2)) / np.sum(self.ft**(2)))**(0.5))**(2))**(0.5),\n",
      "100%|██████████| 2/2 [00:00<00:00,  9.59it/s]\n",
      "  0%|          | 0/2 [00:00<?, ?it/s]/home/ak287/PNW_Seismic_Event_Classification/notebooks/../feature_extraction_scripts/physical_feature_extraction_scripts/seis_feature.py:101: RuntimeWarning: invalid value encountered in double_scalars\n",
      "  'Gamma': lambda: ((np.dot(self.freq, self.ft**(2)) / np.sum(self.ft**(2)))**(2) - ((np.dot(self.freq**(2), self.ft**(2)) / np.sum(self.ft**(2)))**(0.5))**(2))**(0.5),\n",
      "100%|██████████| 2/2 [00:00<00:00, 12.38it/s]\n",
      "  0%|          | 0/2 [00:00<?, ?it/s]/home/ak287/PNW_Seismic_Event_Classification/notebooks/../feature_extraction_scripts/physical_feature_extraction_scripts/seis_feature.py:101: RuntimeWarning: invalid value encountered in double_scalars\n",
      "  'Gamma': lambda: ((np.dot(self.freq, self.ft**(2)) / np.sum(self.ft**(2)))**(2) - ((np.dot(self.freq**(2), self.ft**(2)) / np.sum(self.ft**(2)))**(0.5))**(2))**(0.5),\n",
      "100%|██████████| 2/2 [00:00<00:00, 11.21it/s]\n",
      "  0%|          | 0/2 [00:00<?, ?it/s]/home/ak287/PNW_Seismic_Event_Classification/notebooks/../feature_extraction_scripts/physical_feature_extraction_scripts/seis_feature.py:101: RuntimeWarning: invalid value encountered in double_scalars\n",
      "  'Gamma': lambda: ((np.dot(self.freq, self.ft**(2)) / np.sum(self.ft**(2)))**(2) - ((np.dot(self.freq**(2), self.ft**(2)) / np.sum(self.ft**(2)))**(0.5))**(2))**(0.5),\n",
      "100%|██████████| 2/2 [00:00<00:00, 11.44it/s]\n"
     ]
    },
    {
     "name": "stdout",
     "output_type": "stream",
     "text": [
      "05_20_1_15_50: 3.818437099456787\n"
     ]
    },
    {
     "name": "stderr",
     "output_type": "stream",
     "text": [
      "100%|██████████| 2/2 [00:00<00:00, 1219.10it/s]\n",
      "100%|██████████| 2/2 [00:00<00:00, 2020.86it/s]\n",
      "100%|██████████| 2/2 [00:00<00:00, 2255.00it/s]\n",
      "100%|██████████| 2/2 [00:00<00:00, 1930.19it/s]"
     ]
    },
    {
     "name": "stdout",
     "output_type": "stream",
     "text": [
      "7500\n"
     ]
    },
    {
     "name": "stderr",
     "output_type": "stream",
     "text": [
      "\n",
      "  0%|          | 0/2 [00:00<?, ?it/s]/home/ak287/PNW_Seismic_Event_Classification/notebooks/../feature_extraction_scripts/physical_feature_extraction_scripts/seis_feature.py:101: RuntimeWarning: invalid value encountered in double_scalars\n",
      "  'Gamma': lambda: ((np.dot(self.freq, self.ft**(2)) / np.sum(self.ft**(2)))**(2) - ((np.dot(self.freq**(2), self.ft**(2)) / np.sum(self.ft**(2)))**(0.5))**(2))**(0.5),\n",
      "100%|██████████| 2/2 [00:00<00:00,  6.17it/s]\n",
      "  0%|          | 0/2 [00:00<?, ?it/s]/home/ak287/PNW_Seismic_Event_Classification/notebooks/../feature_extraction_scripts/physical_feature_extraction_scripts/seis_feature.py:101: RuntimeWarning: invalid value encountered in double_scalars\n",
      "  'Gamma': lambda: ((np.dot(self.freq, self.ft**(2)) / np.sum(self.ft**(2)))**(2) - ((np.dot(self.freq**(2), self.ft**(2)) / np.sum(self.ft**(2)))**(0.5))**(2))**(0.5),\n",
      "100%|██████████| 2/2 [00:00<00:00,  6.08it/s]\n",
      "  0%|          | 0/2 [00:00<?, ?it/s]/home/ak287/PNW_Seismic_Event_Classification/notebooks/../feature_extraction_scripts/physical_feature_extraction_scripts/seis_feature.py:101: RuntimeWarning: invalid value encountered in double_scalars\n",
      "  'Gamma': lambda: ((np.dot(self.freq, self.ft**(2)) / np.sum(self.ft**(2)))**(2) - ((np.dot(self.freq**(2), self.ft**(2)) / np.sum(self.ft**(2)))**(0.5))**(2))**(0.5),\n",
      "100%|██████████| 2/2 [00:00<00:00,  9.02it/s]\n",
      "  0%|          | 0/2 [00:00<?, ?it/s]/home/ak287/PNW_Seismic_Event_Classification/notebooks/../feature_extraction_scripts/physical_feature_extraction_scripts/seis_feature.py:101: RuntimeWarning: invalid value encountered in double_scalars\n",
      "  'Gamma': lambda: ((np.dot(self.freq, self.ft**(2)) / np.sum(self.ft**(2)))**(2) - ((np.dot(self.freq**(2), self.ft**(2)) / np.sum(self.ft**(2)))**(0.5))**(2))**(0.5),\n",
      "100%|██████████| 2/2 [00:00<00:00,  7.26it/s]\n"
     ]
    },
    {
     "name": "stdout",
     "output_type": "stream",
     "text": [
      "50_100_1_15_50: 4.258622169494629\n"
     ]
    },
    {
     "name": "stderr",
     "output_type": "stream",
     "text": [
      "100%|██████████| 2/2 [00:00<00:00, 1263.15it/s]\n",
      "100%|██████████| 2/2 [00:00<00:00, 1873.71it/s]\n",
      "100%|██████████| 2/2 [00:00<00:00, 2003.01it/s]\n",
      "100%|██████████| 2/2 [00:00<00:00, 1833.58it/s]"
     ]
    },
    {
     "name": "stdout",
     "output_type": "stream",
     "text": [
      "2000\n"
     ]
    },
    {
     "name": "stderr",
     "output_type": "stream",
     "text": [
      "\n",
      "  0%|          | 0/2 [00:00<?, ?it/s]/home/ak287/PNW_Seismic_Event_Classification/notebooks/../feature_extraction_scripts/physical_feature_extraction_scripts/seis_feature.py:101: RuntimeWarning: invalid value encountered in double_scalars\n",
      "  'Gamma': lambda: ((np.dot(self.freq, self.ft**(2)) / np.sum(self.ft**(2)))**(2) - ((np.dot(self.freq**(2), self.ft**(2)) / np.sum(self.ft**(2)))**(0.5))**(2))**(0.5),\n",
      "100%|██████████| 2/2 [00:00<00:00, 10.80it/s]\n",
      "  0%|          | 0/2 [00:00<?, ?it/s]/home/ak287/PNW_Seismic_Event_Classification/notebooks/../feature_extraction_scripts/physical_feature_extraction_scripts/seis_feature.py:101: RuntimeWarning: invalid value encountered in double_scalars\n",
      "  'Gamma': lambda: ((np.dot(self.freq, self.ft**(2)) / np.sum(self.ft**(2)))**(2) - ((np.dot(self.freq**(2), self.ft**(2)) / np.sum(self.ft**(2)))**(0.5))**(2))**(0.5),\n",
      "100%|██████████| 2/2 [00:00<00:00, 12.77it/s]\n",
      "  0%|          | 0/2 [00:00<?, ?it/s]/home/ak287/PNW_Seismic_Event_Classification/notebooks/../feature_extraction_scripts/physical_feature_extraction_scripts/seis_feature.py:101: RuntimeWarning: invalid value encountered in double_scalars\n",
      "  'Gamma': lambda: ((np.dot(self.freq, self.ft**(2)) / np.sum(self.ft**(2)))**(2) - ((np.dot(self.freq**(2), self.ft**(2)) / np.sum(self.ft**(2)))**(0.5))**(2))**(0.5),\n",
      "100%|██████████| 2/2 [00:00<00:00, 11.36it/s]\n",
      "  0%|          | 0/2 [00:00<?, ?it/s]/home/ak287/PNW_Seismic_Event_Classification/notebooks/../feature_extraction_scripts/physical_feature_extraction_scripts/seis_feature.py:101: RuntimeWarning: invalid value encountered in double_scalars\n",
      "  'Gamma': lambda: ((np.dot(self.freq, self.ft**(2)) / np.sum(self.ft**(2)))**(2) - ((np.dot(self.freq**(2), self.ft**(2)) / np.sum(self.ft**(2)))**(0.5))**(2))**(0.5),\n",
      "100%|██████████| 2/2 [00:00<00:00,  9.71it/s]\n"
     ]
    },
    {
     "name": "stdout",
     "output_type": "stream",
     "text": [
      "10_30_05_10_50: 3.772745132446289\n"
     ]
    },
    {
     "name": "stderr",
     "output_type": "stream",
     "text": [
      "100%|██████████| 2/2 [00:00<00:00, 1329.84it/s]\n",
      "100%|██████████| 2/2 [00:00<00:00, 1981.72it/s]\n",
      "100%|██████████| 2/2 [00:00<00:00, 2069.22it/s]\n",
      "100%|██████████| 2/2 [00:00<00:00, 1667.72it/s]"
     ]
    },
    {
     "name": "stdout",
     "output_type": "stream",
     "text": [
      "2500\n"
     ]
    },
    {
     "name": "stderr",
     "output_type": "stream",
     "text": [
      "\n",
      "  0%|          | 0/2 [00:00<?, ?it/s]/home/ak287/PNW_Seismic_Event_Classification/notebooks/../feature_extraction_scripts/physical_feature_extraction_scripts/seis_feature.py:101: RuntimeWarning: invalid value encountered in double_scalars\n",
      "  'Gamma': lambda: ((np.dot(self.freq, self.ft**(2)) / np.sum(self.ft**(2)))**(2) - ((np.dot(self.freq**(2), self.ft**(2)) / np.sum(self.ft**(2)))**(0.5))**(2))**(0.5),\n",
      "100%|██████████| 2/2 [00:00<00:00,  9.82it/s]\n",
      "  0%|          | 0/2 [00:00<?, ?it/s]/home/ak287/PNW_Seismic_Event_Classification/notebooks/../feature_extraction_scripts/physical_feature_extraction_scripts/seis_feature.py:101: RuntimeWarning: invalid value encountered in double_scalars\n",
      "  'Gamma': lambda: ((np.dot(self.freq, self.ft**(2)) / np.sum(self.ft**(2)))**(2) - ((np.dot(self.freq**(2), self.ft**(2)) / np.sum(self.ft**(2)))**(0.5))**(2))**(0.5),\n",
      "100%|██████████| 2/2 [00:00<00:00, 12.08it/s]\n",
      "  0%|          | 0/2 [00:00<?, ?it/s]/home/ak287/PNW_Seismic_Event_Classification/notebooks/../feature_extraction_scripts/physical_feature_extraction_scripts/seis_feature.py:101: RuntimeWarning: invalid value encountered in double_scalars\n",
      "  'Gamma': lambda: ((np.dot(self.freq, self.ft**(2)) / np.sum(self.ft**(2)))**(2) - ((np.dot(self.freq**(2), self.ft**(2)) / np.sum(self.ft**(2)))**(0.5))**(2))**(0.5),\n",
      "100%|██████████| 2/2 [00:00<00:00, 12.08it/s]\n",
      "  0%|          | 0/2 [00:00<?, ?it/s]/home/ak287/PNW_Seismic_Event_Classification/notebooks/../feature_extraction_scripts/physical_feature_extraction_scripts/seis_feature.py:101: RuntimeWarning: invalid value encountered in double_scalars\n",
      "  'Gamma': lambda: ((np.dot(self.freq, self.ft**(2)) / np.sum(self.ft**(2)))**(2) - ((np.dot(self.freq**(2), self.ft**(2)) / np.sum(self.ft**(2)))**(0.5))**(2))**(0.5),\n",
      "100%|██████████| 2/2 [00:00<00:00,  9.82it/s]\n"
     ]
    },
    {
     "name": "stdout",
     "output_type": "stream",
     "text": [
      "10_40_05_10_50: 3.857103109359741\n"
     ]
    },
    {
     "name": "stderr",
     "output_type": "stream",
     "text": [
      "100%|██████████| 2/2 [00:00<00:00, 1258.42it/s]\n",
      "100%|██████████| 2/2 [00:00<00:00, 2010.21it/s]\n",
      "100%|██████████| 2/2 [00:00<00:00, 984.35it/s]\n",
      "100%|██████████| 2/2 [00:00<00:00, 1855.89it/s]"
     ]
    },
    {
     "name": "stdout",
     "output_type": "stream",
     "text": [
      "3500\n"
     ]
    },
    {
     "name": "stderr",
     "output_type": "stream",
     "text": [
      "\n",
      "  0%|          | 0/2 [00:00<?, ?it/s]/home/ak287/PNW_Seismic_Event_Classification/notebooks/../feature_extraction_scripts/physical_feature_extraction_scripts/seis_feature.py:101: RuntimeWarning: invalid value encountered in double_scalars\n",
      "  'Gamma': lambda: ((np.dot(self.freq, self.ft**(2)) / np.sum(self.ft**(2)))**(2) - ((np.dot(self.freq**(2), self.ft**(2)) / np.sum(self.ft**(2)))**(0.5))**(2))**(0.5),\n",
      "100%|██████████| 2/2 [00:00<00:00, 10.78it/s]\n",
      "  0%|          | 0/2 [00:00<?, ?it/s]/home/ak287/PNW_Seismic_Event_Classification/notebooks/../feature_extraction_scripts/physical_feature_extraction_scripts/seis_feature.py:101: RuntimeWarning: invalid value encountered in double_scalars\n",
      "  'Gamma': lambda: ((np.dot(self.freq, self.ft**(2)) / np.sum(self.ft**(2)))**(2) - ((np.dot(self.freq**(2), self.ft**(2)) / np.sum(self.ft**(2)))**(0.5))**(2))**(0.5),\n",
      "100%|██████████| 2/2 [00:00<00:00, 10.15it/s]\n",
      "  0%|          | 0/2 [00:00<?, ?it/s]/home/ak287/PNW_Seismic_Event_Classification/notebooks/../feature_extraction_scripts/physical_feature_extraction_scripts/seis_feature.py:101: RuntimeWarning: invalid value encountered in double_scalars\n",
      "  'Gamma': lambda: ((np.dot(self.freq, self.ft**(2)) / np.sum(self.ft**(2)))**(2) - ((np.dot(self.freq**(2), self.ft**(2)) / np.sum(self.ft**(2)))**(0.5))**(2))**(0.5),\n",
      "100%|██████████| 2/2 [00:00<00:00,  7.96it/s]\n",
      "  0%|          | 0/2 [00:00<?, ?it/s]/home/ak287/PNW_Seismic_Event_Classification/notebooks/../feature_extraction_scripts/physical_feature_extraction_scripts/seis_feature.py:101: RuntimeWarning: invalid value encountered in double_scalars\n",
      "  'Gamma': lambda: ((np.dot(self.freq, self.ft**(2)) / np.sum(self.ft**(2)))**(2) - ((np.dot(self.freq**(2), self.ft**(2)) / np.sum(self.ft**(2)))**(0.5))**(2))**(0.5),\n",
      "100%|██████████| 2/2 [00:00<00:00,  9.66it/s]\n"
     ]
    },
    {
     "name": "stdout",
     "output_type": "stream",
     "text": [
      "20_50_05_10_50: 3.953101396560669\n"
     ]
    },
    {
     "name": "stderr",
     "output_type": "stream",
     "text": [
      "100%|██████████| 2/2 [00:00<00:00, 1282.27it/s]\n",
      "100%|██████████| 2/2 [00:00<00:00, 2058.05it/s]\n",
      "100%|██████████| 2/2 [00:00<00:00, 2163.13it/s]\n",
      "100%|██████████| 2/2 [00:00<00:00, 1867.46it/s]"
     ]
    },
    {
     "name": "stdout",
     "output_type": "stream",
     "text": [
      "1250\n"
     ]
    },
    {
     "name": "stderr",
     "output_type": "stream",
     "text": [
      "\n",
      "  0%|          | 0/2 [00:00<?, ?it/s]/home/ak287/PNW_Seismic_Event_Classification/notebooks/../feature_extraction_scripts/physical_feature_extraction_scripts/seis_feature.py:101: RuntimeWarning: invalid value encountered in double_scalars\n",
      "  'Gamma': lambda: ((np.dot(self.freq, self.ft**(2)) / np.sum(self.ft**(2)))**(2) - ((np.dot(self.freq**(2), self.ft**(2)) / np.sum(self.ft**(2)))**(0.5))**(2))**(0.5),\n",
      "100%|██████████| 2/2 [00:00<00:00, 11.94it/s]\n",
      "  0%|          | 0/2 [00:00<?, ?it/s]/home/ak287/PNW_Seismic_Event_Classification/notebooks/../feature_extraction_scripts/physical_feature_extraction_scripts/seis_feature.py:101: RuntimeWarning: invalid value encountered in double_scalars\n",
      "  'Gamma': lambda: ((np.dot(self.freq, self.ft**(2)) / np.sum(self.ft**(2)))**(2) - ((np.dot(self.freq**(2), self.ft**(2)) / np.sum(self.ft**(2)))**(0.5))**(2))**(0.5),\n",
      "100%|██████████| 2/2 [00:00<00:00, 13.30it/s]\n",
      "  0%|          | 0/2 [00:00<?, ?it/s]/home/ak287/PNW_Seismic_Event_Classification/notebooks/../feature_extraction_scripts/physical_feature_extraction_scripts/seis_feature.py:101: RuntimeWarning: invalid value encountered in double_scalars\n",
      "  'Gamma': lambda: ((np.dot(self.freq, self.ft**(2)) / np.sum(self.ft**(2)))**(2) - ((np.dot(self.freq**(2), self.ft**(2)) / np.sum(self.ft**(2)))**(0.5))**(2))**(0.5),\n",
      "100%|██████████| 2/2 [00:00<00:00,  8.54it/s]\n",
      "  0%|          | 0/2 [00:00<?, ?it/s]/home/ak287/PNW_Seismic_Event_Classification/notebooks/../feature_extraction_scripts/physical_feature_extraction_scripts/seis_feature.py:101: RuntimeWarning: invalid value encountered in double_scalars\n",
      "  'Gamma': lambda: ((np.dot(self.freq, self.ft**(2)) / np.sum(self.ft**(2)))**(2) - ((np.dot(self.freq**(2), self.ft**(2)) / np.sum(self.ft**(2)))**(0.5))**(2))**(0.5),\n",
      "100%|██████████| 2/2 [00:00<00:00, 11.27it/s]\n"
     ]
    },
    {
     "name": "stdout",
     "output_type": "stream",
     "text": [
      "05_20_05_10_50: 3.728703260421753\n"
     ]
    },
    {
     "name": "stderr",
     "output_type": "stream",
     "text": [
      "100%|██████████| 2/2 [00:00<00:00, 1104.35it/s]\n",
      "100%|██████████| 2/2 [00:00<00:00, 1725.70it/s]\n",
      "100%|██████████| 2/2 [00:00<00:00, 1867.87it/s]\n",
      "100%|██████████| 2/2 [00:00<00:00, 1683.78it/s]\n"
     ]
    },
    {
     "name": "stdout",
     "output_type": "stream",
     "text": [
      "7500\n"
     ]
    },
    {
     "name": "stderr",
     "output_type": "stream",
     "text": [
      "  0%|          | 0/2 [00:00<?, ?it/s]/home/ak287/PNW_Seismic_Event_Classification/notebooks/../feature_extraction_scripts/physical_feature_extraction_scripts/seis_feature.py:101: RuntimeWarning: invalid value encountered in double_scalars\n",
      "  'Gamma': lambda: ((np.dot(self.freq, self.ft**(2)) / np.sum(self.ft**(2)))**(2) - ((np.dot(self.freq**(2), self.ft**(2)) / np.sum(self.ft**(2)))**(0.5))**(2))**(0.5),\n",
      "100%|██████████| 2/2 [00:00<00:00,  9.46it/s]\n",
      "  0%|          | 0/2 [00:00<?, ?it/s]/home/ak287/PNW_Seismic_Event_Classification/notebooks/../feature_extraction_scripts/physical_feature_extraction_scripts/seis_feature.py:101: RuntimeWarning: invalid value encountered in double_scalars\n",
      "  'Gamma': lambda: ((np.dot(self.freq, self.ft**(2)) / np.sum(self.ft**(2)))**(2) - ((np.dot(self.freq**(2), self.ft**(2)) / np.sum(self.ft**(2)))**(0.5))**(2))**(0.5),\n",
      "100%|██████████| 2/2 [00:00<00:00,  8.48it/s]\n",
      "  0%|          | 0/2 [00:00<?, ?it/s]/home/ak287/PNW_Seismic_Event_Classification/notebooks/../feature_extraction_scripts/physical_feature_extraction_scripts/seis_feature.py:101: RuntimeWarning: invalid value encountered in double_scalars\n",
      "  'Gamma': lambda: ((np.dot(self.freq, self.ft**(2)) / np.sum(self.ft**(2)))**(2) - ((np.dot(self.freq**(2), self.ft**(2)) / np.sum(self.ft**(2)))**(0.5))**(2))**(0.5),\n",
      "100%|██████████| 2/2 [00:00<00:00,  6.91it/s]\n",
      "  0%|          | 0/2 [00:00<?, ?it/s]/home/ak287/PNW_Seismic_Event_Classification/notebooks/../feature_extraction_scripts/physical_feature_extraction_scripts/seis_feature.py:101: RuntimeWarning: invalid value encountered in double_scalars\n",
      "  'Gamma': lambda: ((np.dot(self.freq, self.ft**(2)) / np.sum(self.ft**(2)))**(2) - ((np.dot(self.freq**(2), self.ft**(2)) / np.sum(self.ft**(2)))**(0.5))**(2))**(0.5),\n",
      "100%|██████████| 2/2 [00:00<00:00,  7.65it/s]\n"
     ]
    },
    {
     "name": "stdout",
     "output_type": "stream",
     "text": [
      "50_100_05_10_50: 4.138243913650513\n"
     ]
    },
    {
     "name": "stderr",
     "output_type": "stream",
     "text": [
      "100%|██████████| 2/2 [00:00<00:00, 1300.36it/s]\n",
      "100%|██████████| 2/2 [00:00<00:00, 1807.89it/s]\n",
      "100%|██████████| 2/2 [00:00<00:00, 2078.45it/s]\n",
      "100%|██████████| 2/2 [00:00<00:00, 1793.20it/s]"
     ]
    },
    {
     "name": "stdout",
     "output_type": "stream",
     "text": [
      "2000\n"
     ]
    },
    {
     "name": "stderr",
     "output_type": "stream",
     "text": [
      "\n",
      "  0%|          | 0/2 [00:00<?, ?it/s]/home/ak287/PNW_Seismic_Event_Classification/notebooks/../feature_extraction_scripts/physical_feature_extraction_scripts/seis_feature.py:101: RuntimeWarning: invalid value encountered in double_scalars\n",
      "  'Gamma': lambda: ((np.dot(self.freq, self.ft**(2)) / np.sum(self.ft**(2)))**(2) - ((np.dot(self.freq**(2), self.ft**(2)) / np.sum(self.ft**(2)))**(0.5))**(2))**(0.5),\n",
      "100%|██████████| 2/2 [00:00<00:00, 10.06it/s]\n",
      "  0%|          | 0/2 [00:00<?, ?it/s]/home/ak287/PNW_Seismic_Event_Classification/notebooks/../feature_extraction_scripts/physical_feature_extraction_scripts/seis_feature.py:101: RuntimeWarning: invalid value encountered in double_scalars\n",
      "  'Gamma': lambda: ((np.dot(self.freq, self.ft**(2)) / np.sum(self.ft**(2)))**(2) - ((np.dot(self.freq**(2), self.ft**(2)) / np.sum(self.ft**(2)))**(0.5))**(2))**(0.5),\n",
      "100%|██████████| 2/2 [00:00<00:00,  8.75it/s]\n",
      "  0%|          | 0/2 [00:00<?, ?it/s]/home/ak287/PNW_Seismic_Event_Classification/notebooks/../feature_extraction_scripts/physical_feature_extraction_scripts/seis_feature.py:101: RuntimeWarning: invalid value encountered in double_scalars\n",
      "  'Gamma': lambda: ((np.dot(self.freq, self.ft**(2)) / np.sum(self.ft**(2)))**(2) - ((np.dot(self.freq**(2), self.ft**(2)) / np.sum(self.ft**(2)))**(0.5))**(2))**(0.5),\n",
      "100%|██████████| 2/2 [00:00<00:00, 10.10it/s]\n",
      "  0%|          | 0/2 [00:00<?, ?it/s]/home/ak287/PNW_Seismic_Event_Classification/notebooks/../feature_extraction_scripts/physical_feature_extraction_scripts/seis_feature.py:101: RuntimeWarning: invalid value encountered in double_scalars\n",
      "  'Gamma': lambda: ((np.dot(self.freq, self.ft**(2)) / np.sum(self.ft**(2)))**(2) - ((np.dot(self.freq**(2), self.ft**(2)) / np.sum(self.ft**(2)))**(0.5))**(2))**(0.5),\n",
      "100%|██████████| 2/2 [00:00<00:00, 10.93it/s]\n"
     ]
    },
    {
     "name": "stdout",
     "output_type": "stream",
     "text": [
      "10_30_05_15_50: 3.990208387374878\n"
     ]
    },
    {
     "name": "stderr",
     "output_type": "stream",
     "text": [
      "100%|██████████| 2/2 [00:00<00:00, 1290.16it/s]\n",
      "100%|██████████| 2/2 [00:00<00:00, 2014.07it/s]\n",
      "100%|██████████| 2/2 [00:00<00:00, 2183.96it/s]\n",
      "100%|██████████| 2/2 [00:00<00:00, 1846.90it/s]"
     ]
    },
    {
     "name": "stdout",
     "output_type": "stream",
     "text": [
      "2500\n"
     ]
    },
    {
     "name": "stderr",
     "output_type": "stream",
     "text": [
      "\n",
      "  0%|          | 0/2 [00:00<?, ?it/s]/home/ak287/PNW_Seismic_Event_Classification/notebooks/../feature_extraction_scripts/physical_feature_extraction_scripts/seis_feature.py:101: RuntimeWarning: invalid value encountered in double_scalars\n",
      "  'Gamma': lambda: ((np.dot(self.freq, self.ft**(2)) / np.sum(self.ft**(2)))**(2) - ((np.dot(self.freq**(2), self.ft**(2)) / np.sum(self.ft**(2)))**(0.5))**(2))**(0.5),\n",
      "100%|██████████| 2/2 [00:00<00:00,  3.98it/s]\n",
      "  0%|          | 0/2 [00:00<?, ?it/s]/home/ak287/PNW_Seismic_Event_Classification/notebooks/../feature_extraction_scripts/physical_feature_extraction_scripts/seis_feature.py:101: RuntimeWarning: invalid value encountered in double_scalars\n",
      "  'Gamma': lambda: ((np.dot(self.freq, self.ft**(2)) / np.sum(self.ft**(2)))**(2) - ((np.dot(self.freq**(2), self.ft**(2)) / np.sum(self.ft**(2)))**(0.5))**(2))**(0.5),\n",
      "100%|██████████| 2/2 [00:00<00:00,  3.67it/s]\n",
      "  0%|          | 0/2 [00:00<?, ?it/s]/home/ak287/PNW_Seismic_Event_Classification/notebooks/../feature_extraction_scripts/physical_feature_extraction_scripts/seis_feature.py:101: RuntimeWarning: invalid value encountered in double_scalars\n",
      "  'Gamma': lambda: ((np.dot(self.freq, self.ft**(2)) / np.sum(self.ft**(2)))**(2) - ((np.dot(self.freq**(2), self.ft**(2)) / np.sum(self.ft**(2)))**(0.5))**(2))**(0.5),\n",
      "100%|██████████| 2/2 [00:00<00:00,  4.62it/s]\n",
      "  0%|          | 0/2 [00:00<?, ?it/s]/home/ak287/PNW_Seismic_Event_Classification/notebooks/../feature_extraction_scripts/physical_feature_extraction_scripts/seis_feature.py:101: RuntimeWarning: invalid value encountered in double_scalars\n",
      "  'Gamma': lambda: ((np.dot(self.freq, self.ft**(2)) / np.sum(self.ft**(2)))**(2) - ((np.dot(self.freq**(2), self.ft**(2)) / np.sum(self.ft**(2)))**(0.5))**(2))**(0.5),\n",
      "100%|██████████| 2/2 [00:00<00:00,  4.58it/s]\n"
     ]
    },
    {
     "name": "stdout",
     "output_type": "stream",
     "text": [
      "10_40_05_15_50: 5.25243616104126\n"
     ]
    },
    {
     "name": "stderr",
     "output_type": "stream",
     "text": [
      "100%|██████████| 2/2 [00:00<00:00, 1100.43it/s]\n",
      "100%|██████████| 2/2 [00:00<00:00, 1598.44it/s]\n",
      "100%|██████████| 2/2 [00:00<00:00, 1719.33it/s]\n",
      "100%|██████████| 2/2 [00:00<00:00, 1686.83it/s]"
     ]
    },
    {
     "name": "stdout",
     "output_type": "stream",
     "text": [
      "3500\n"
     ]
    },
    {
     "name": "stderr",
     "output_type": "stream",
     "text": [
      "\n",
      "  0%|          | 0/2 [00:00<?, ?it/s]/home/ak287/PNW_Seismic_Event_Classification/notebooks/../feature_extraction_scripts/physical_feature_extraction_scripts/seis_feature.py:101: RuntimeWarning: invalid value encountered in double_scalars\n",
      "  'Gamma': lambda: ((np.dot(self.freq, self.ft**(2)) / np.sum(self.ft**(2)))**(2) - ((np.dot(self.freq**(2), self.ft**(2)) / np.sum(self.ft**(2)))**(0.5))**(2))**(0.5),\n",
      "100%|██████████| 2/2 [00:00<00:00, 11.71it/s]\n",
      "  0%|          | 0/2 [00:00<?, ?it/s]/home/ak287/PNW_Seismic_Event_Classification/notebooks/../feature_extraction_scripts/physical_feature_extraction_scripts/seis_feature.py:101: RuntimeWarning: invalid value encountered in double_scalars\n",
      "  'Gamma': lambda: ((np.dot(self.freq, self.ft**(2)) / np.sum(self.ft**(2)))**(2) - ((np.dot(self.freq**(2), self.ft**(2)) / np.sum(self.ft**(2)))**(0.5))**(2))**(0.5),\n",
      "100%|██████████| 2/2 [00:00<00:00,  8.53it/s]\n",
      "  0%|          | 0/2 [00:00<?, ?it/s]/home/ak287/PNW_Seismic_Event_Classification/notebooks/../feature_extraction_scripts/physical_feature_extraction_scripts/seis_feature.py:101: RuntimeWarning: invalid value encountered in double_scalars\n",
      "  'Gamma': lambda: ((np.dot(self.freq, self.ft**(2)) / np.sum(self.ft**(2)))**(2) - ((np.dot(self.freq**(2), self.ft**(2)) / np.sum(self.ft**(2)))**(0.5))**(2))**(0.5),\n",
      "100%|██████████| 2/2 [00:00<00:00, 13.33it/s]\n",
      "  0%|          | 0/2 [00:00<?, ?it/s]/home/ak287/PNW_Seismic_Event_Classification/notebooks/../feature_extraction_scripts/physical_feature_extraction_scripts/seis_feature.py:101: RuntimeWarning: invalid value encountered in double_scalars\n",
      "  'Gamma': lambda: ((np.dot(self.freq, self.ft**(2)) / np.sum(self.ft**(2)))**(2) - ((np.dot(self.freq**(2), self.ft**(2)) / np.sum(self.ft**(2)))**(0.5))**(2))**(0.5),\n",
      "100%|██████████| 2/2 [00:00<00:00, 10.50it/s]\n"
     ]
    },
    {
     "name": "stdout",
     "output_type": "stream",
     "text": [
      "20_50_05_15_50: 3.592653751373291\n"
     ]
    },
    {
     "name": "stderr",
     "output_type": "stream",
     "text": [
      "100%|██████████| 2/2 [00:00<00:00, 1327.73it/s]\n",
      "100%|██████████| 2/2 [00:00<00:00, 1907.80it/s]\n",
      "100%|██████████| 2/2 [00:00<00:00, 2132.34it/s]\n",
      "100%|██████████| 2/2 [00:00<00:00, 1794.74it/s]"
     ]
    },
    {
     "name": "stdout",
     "output_type": "stream",
     "text": [
      "1250\n"
     ]
    },
    {
     "name": "stderr",
     "output_type": "stream",
     "text": [
      "\n",
      "  0%|          | 0/2 [00:00<?, ?it/s]/home/ak287/PNW_Seismic_Event_Classification/notebooks/../feature_extraction_scripts/physical_feature_extraction_scripts/seis_feature.py:101: RuntimeWarning: invalid value encountered in double_scalars\n",
      "  'Gamma': lambda: ((np.dot(self.freq, self.ft**(2)) / np.sum(self.ft**(2)))**(2) - ((np.dot(self.freq**(2), self.ft**(2)) / np.sum(self.ft**(2)))**(0.5))**(2))**(0.5),\n",
      "100%|██████████| 2/2 [00:00<00:00, 13.46it/s]\n",
      "  0%|          | 0/2 [00:00<?, ?it/s]/home/ak287/PNW_Seismic_Event_Classification/notebooks/../feature_extraction_scripts/physical_feature_extraction_scripts/seis_feature.py:101: RuntimeWarning: invalid value encountered in double_scalars\n",
      "  'Gamma': lambda: ((np.dot(self.freq, self.ft**(2)) / np.sum(self.ft**(2)))**(2) - ((np.dot(self.freq**(2), self.ft**(2)) / np.sum(self.ft**(2)))**(0.5))**(2))**(0.5),\n",
      "100%|██████████| 2/2 [00:00<00:00, 11.26it/s]\n",
      "  0%|          | 0/2 [00:00<?, ?it/s]/home/ak287/PNW_Seismic_Event_Classification/notebooks/../feature_extraction_scripts/physical_feature_extraction_scripts/seis_feature.py:101: RuntimeWarning: invalid value encountered in double_scalars\n",
      "  'Gamma': lambda: ((np.dot(self.freq, self.ft**(2)) / np.sum(self.ft**(2)))**(2) - ((np.dot(self.freq**(2), self.ft**(2)) / np.sum(self.ft**(2)))**(0.5))**(2))**(0.5),\n",
      "100%|██████████| 2/2 [00:00<00:00, 15.62it/s]\n",
      "  0%|          | 0/2 [00:00<?, ?it/s]/home/ak287/PNW_Seismic_Event_Classification/notebooks/../feature_extraction_scripts/physical_feature_extraction_scripts/seis_feature.py:101: RuntimeWarning: invalid value encountered in double_scalars\n",
      "  'Gamma': lambda: ((np.dot(self.freq, self.ft**(2)) / np.sum(self.ft**(2)))**(2) - ((np.dot(self.freq**(2), self.ft**(2)) / np.sum(self.ft**(2)))**(0.5))**(2))**(0.5),\n",
      "100%|██████████| 2/2 [00:00<00:00, 11.63it/s]\n"
     ]
    },
    {
     "name": "stdout",
     "output_type": "stream",
     "text": [
      "05_20_05_15_50: 3.4229094982147217\n"
     ]
    },
    {
     "name": "stderr",
     "output_type": "stream",
     "text": [
      "100%|██████████| 2/2 [00:00<00:00, 1374.51it/s]\n",
      "100%|██████████| 2/2 [00:00<00:00, 1985.94it/s]\n",
      "100%|██████████| 2/2 [00:00<00:00, 2249.56it/s]\n",
      "100%|██████████| 2/2 [00:00<00:00, 1865.38it/s]"
     ]
    },
    {
     "name": "stdout",
     "output_type": "stream",
     "text": [
      "7500\n"
     ]
    },
    {
     "name": "stderr",
     "output_type": "stream",
     "text": [
      "\n",
      "  0%|          | 0/2 [00:00<?, ?it/s]/home/ak287/PNW_Seismic_Event_Classification/notebooks/../feature_extraction_scripts/physical_feature_extraction_scripts/seis_feature.py:101: RuntimeWarning: invalid value encountered in double_scalars\n",
      "  'Gamma': lambda: ((np.dot(self.freq, self.ft**(2)) / np.sum(self.ft**(2)))**(2) - ((np.dot(self.freq**(2), self.ft**(2)) / np.sum(self.ft**(2)))**(0.5))**(2))**(0.5),\n",
      "100%|██████████| 2/2 [00:00<00:00,  8.08it/s]\n",
      "  0%|          | 0/2 [00:00<?, ?it/s]/home/ak287/PNW_Seismic_Event_Classification/notebooks/../feature_extraction_scripts/physical_feature_extraction_scripts/seis_feature.py:101: RuntimeWarning: invalid value encountered in double_scalars\n",
      "  'Gamma': lambda: ((np.dot(self.freq, self.ft**(2)) / np.sum(self.ft**(2)))**(2) - ((np.dot(self.freq**(2), self.ft**(2)) / np.sum(self.ft**(2)))**(0.5))**(2))**(0.5),\n",
      "100%|██████████| 2/2 [00:00<00:00,  7.89it/s]\n",
      "  0%|          | 0/2 [00:00<?, ?it/s]/home/ak287/PNW_Seismic_Event_Classification/notebooks/../feature_extraction_scripts/physical_feature_extraction_scripts/seis_feature.py:101: RuntimeWarning: invalid value encountered in double_scalars\n",
      "  'Gamma': lambda: ((np.dot(self.freq, self.ft**(2)) / np.sum(self.ft**(2)))**(2) - ((np.dot(self.freq**(2), self.ft**(2)) / np.sum(self.ft**(2)))**(0.5))**(2))**(0.5),\n",
      "100%|██████████| 2/2 [00:00<00:00,  6.77it/s]\n",
      "  0%|          | 0/2 [00:00<?, ?it/s]/home/ak287/PNW_Seismic_Event_Classification/notebooks/../feature_extraction_scripts/physical_feature_extraction_scripts/seis_feature.py:101: RuntimeWarning: invalid value encountered in double_scalars\n",
      "  'Gamma': lambda: ((np.dot(self.freq, self.ft**(2)) / np.sum(self.ft**(2)))**(2) - ((np.dot(self.freq**(2), self.ft**(2)) / np.sum(self.ft**(2)))**(0.5))**(2))**(0.5),\n",
      "100%|██████████| 2/2 [00:00<00:00,  7.58it/s]\n"
     ]
    },
    {
     "name": "stdout",
     "output_type": "stream",
     "text": [
      "50_100_05_15_50: 3.990945339202881\n"
     ]
    }
   ],
   "source": [
    "def run_compute_features(params):\n",
    "    results = []\n",
    "    for param in params:\n",
    "        # Extract prefix and remove it from the parameter dictionary\n",
    "        prefix = param.pop(\"prefix\")\n",
    "        results.append((prefix, compute_features(**param)))\n",
    "        # Re-add the prefix for any future use of the parameter set\n",
    "        param[\"prefix\"] = prefix\n",
    "    return results\n",
    "\n",
    "# Parameters for different runs\n",
    "param_sets = [\n",
    "    {\"win_before\": 1000, \"win_after\": 3000, \"nos\": 2, \"fmin\": 1, \"fmax\": 10, \"fs\": 50, \"prefix\": \"10_30_1_10_50\"},\n",
    "    {\"win_before\": 1000, \"win_after\": 4000, \"nos\": 2, \"fmin\": 1, \"fmax\": 10, \"fs\": 50, \"prefix\": \"10_40_1_10_50\"},\n",
    "    {\"win_before\": 2000, \"win_after\": 5000, \"nos\": 2, \"fmin\": 1, \"fmax\": 10, \"fs\": 50, \"prefix\": \"20_50_1_10_50\"},\n",
    "    {\"win_before\": 500, \"win_after\": 2000, \"nos\": 2, \"fmin\": 1, \"fmax\": 10, \"fs\": 50, \"prefix\": \"05_20_1_10_50\"},\n",
    "    {\"win_before\": 5000, \"win_after\": 10000, \"nos\": 2, \"fmin\": 1, \"fmax\": 10, \"fs\": 50, \"prefix\": \"50_100_1_10_50\"},\n",
    "    {\"win_before\": 1000, \"win_after\": 3000, \"nos\": 2, \"fmin\": 1, \"fmax\": 15, \"fs\": 50, \"prefix\": \"10_30_1_15_50\"},\n",
    "    {\"win_before\": 1000, \"win_after\": 4000, \"nos\": 2, \"fmin\": 1, \"fmax\": 15, \"fs\": 50, \"prefix\": \"10_40_1_15_50\"},\n",
    "    {\"win_before\": 2000, \"win_after\": 5000, \"nos\": 2, \"fmin\": 1, \"fmax\": 15, \"fs\": 50, \"prefix\": \"20_50_1_15_50\"},\n",
    "    {\"win_before\": 500, \"win_after\": 2000, \"nos\": 2, \"fmin\": 1, \"fmax\": 15, \"fs\": 50, \"prefix\": \"05_20_1_15_50\"},\n",
    "    {\"win_before\": 5000, \"win_after\": 10000, \"nos\": 2, \"fmin\": 1, \"fmax\": 15, \"fs\": 50, \"prefix\": \"50_100_1_15_50\"},\n",
    "    {\"win_before\": 1000, \"win_after\": 3000, \"nos\": 2, \"fmin\": 0.5, \"fmax\": 10, \"fs\": 50, \"prefix\": \"10_30_05_10_50\"},\n",
    "    {\"win_before\": 1000, \"win_after\": 4000, \"nos\": 2, \"fmin\": 0.5, \"fmax\": 10, \"fs\": 50, \"prefix\": \"10_40_05_10_50\"},\n",
    "    {\"win_before\": 2000, \"win_after\": 5000, \"nos\": 2, \"fmin\": 0.5, \"fmax\": 10, \"fs\": 50, \"prefix\": \"20_50_05_10_50\"},\n",
    "    {\"win_before\": 500, \"win_after\": 2000, \"nos\": 2, \"fmin\": 0.5, \"fmax\": 10, \"fs\": 50, \"prefix\": \"05_20_05_10_50\"},\n",
    "    {\"win_before\": 5000, \"win_after\": 10000, \"nos\": 2, \"fmin\": 0.5, \"fmax\": 10, \"fs\": 50, \"prefix\": \"50_100_05_10_50\"},\n",
    "    {\"win_before\": 1000, \"win_after\": 3000, \"nos\": 2, \"fmin\": 0.5, \"fmax\": 15, \"fs\": 50, \"prefix\": \"10_30_05_15_50\"},\n",
    "    {\"win_before\": 1000, \"win_after\": 4000, \"nos\": 2, \"fmin\": 0.5, \"fmax\": 15, \"fs\": 50, \"prefix\": \"10_40_05_15_50\"},\n",
    "    {\"win_before\": 2000, \"win_after\": 5000, \"nos\": 2, \"fmin\": 0.5, \"fmax\": 15, \"fs\": 50, \"prefix\": \"20_50_05_15_50\"},\n",
    "    {\"win_before\": 500, \"win_after\": 2000, \"nos\": 2, \"fmin\": 0.5, \"fmax\": 15, \"fs\": 50, \"prefix\": \"05_20_05_15_50\"},\n",
    "    {\"win_before\": 5000, \"win_after\": 10000, \"nos\": 2, \"fmin\": 0.5, \"fmax\": 15, \"fs\": 50, \"prefix\": \"50_100_05_15_50\"}\n",
    "]\n",
    "\n",
    "# Run the computations and measure time\n",
    "all_results_50 = []\n",
    "for param_set in param_sets:\n",
    "    init_time = time.time()\n",
    "    results = run_compute_features([param_set])\n",
    "    for prefix, result in results:\n",
    "        a, b, c, d = result\n",
    "        print(f\"{prefix}: {time.time() - init_time}\")\n",
    "        all_results_50.append((prefix, result))\n"
   ]
  },
  {
   "cell_type": "code",
   "execution_count": null,
   "id": "3075d28e",
   "metadata": {},
   "outputs": [],
   "source": []
  },
  {
   "cell_type": "code",
   "execution_count": null,
   "id": "3588b36b",
   "metadata": {},
   "outputs": [],
   "source": []
  },
  {
   "cell_type": "code",
   "execution_count": null,
   "id": "f938be5f",
   "metadata": {},
   "outputs": [],
   "source": []
  },
  {
   "cell_type": "code",
   "execution_count": 160,
   "id": "dedc5f6a",
   "metadata": {},
   "outputs": [],
   "source": [
    "## Extracting for 40 Hz\n",
    "# Define the path to your pickle file\n",
    "file_path = '../results/results_40.pkl'\n",
    "\n",
    "# Open the pickle file in read-binary mode\n",
    "with open(file_path, 'rb') as file:\n",
    "    # Load the content of the pickle file\n",
    "    all_results_40 = pickle.load(file)\n",
    "    \n",
    "\n",
    "## Extracting for 50 Hz\n",
    "# Define the path to your pickle file\n",
    "file_path = '../results/results_50.pkl'\n",
    "\n",
    "# Open the pickle file in read-binary mode\n",
    "with open(file_path, 'rb') as file:\n",
    "    # Load the content of the pickle file\n",
    "    all_results_50 = pickle.load(file)\n",
    "\n",
    "\n",
    "## Extracting for 100 Hz\n",
    "# Define the path to your pickle file\n",
    "file_path = '../results/results_100.pkl'\n",
    "\n",
    "# Open the pickle file in read-binary mode\n",
    "with open(file_path, 'rb') as file:\n",
    "    # Load the content of the pickle file\n",
    "    all_results_100 = pickle.load(file)"
   ]
  },
  {
   "cell_type": "code",
   "execution_count": 132,
   "id": "3039f9fd",
   "metadata": {},
   "outputs": [],
   "source": []
  },
  {
   "cell_type": "code",
   "execution_count": 161,
   "id": "2d3108e2",
   "metadata": {},
   "outputs": [],
   "source": [
    "def return_classification_report(all_results):\n",
    "    cr_all = []\n",
    "    for i in tqdm(range(len(all_results))):\n",
    "        a, b, c, d = all_results[0][1][0], all_results[0][1][1], all_results[0][1][2], all_results[0][1][3]\n",
    "\n",
    "        all_features = pd.concat([a, b, c, d])\n",
    "        y = ['earthquake']*len(a)+['explosion']*len(b)+['surface']*len(c)+['noise']*len(d)\n",
    "        all_features['source'] = y\n",
    "        all_features = all_features.dropna(axis = 1)\n",
    "\n",
    "        all_features = all_features.replace([np.inf, -np.inf], np.nan)\n",
    "        all_features = all_features.dropna()\n",
    "        x = all_features.drop(['source'], axis = 1)\n",
    "        y  = all_features['source'].values\n",
    "\n",
    "\n",
    "        # Initialize the LabelEncoder\n",
    "        label_encoder = LabelEncoder()\n",
    "\n",
    "        # Fit the LabelEncoder on the text labels and transform them to numeric labels\n",
    "        y_num = label_encoder.fit_transform(y)\n",
    "\n",
    "        # Initialize the StandardScaler\n",
    "        scaler = StandardScaler()\n",
    "\n",
    "        # Apply standard scaling to the DataFrame\n",
    "        scaled_features = scaler.fit_transform(x)\n",
    "\n",
    "        # Create a new DataFrame with scaled features\n",
    "        x_scaled = pd.DataFrame(scaled_features, columns=x.columns)\n",
    "\n",
    "\n",
    "\n",
    "        # Split the data into training and testing sets\n",
    "        X_train, X_test, y_train, y_test = train_test_split(x_scaled, y_num, test_size=0.3)\n",
    "\n",
    "\n",
    "        # Initialize the Random Forest model\n",
    "        rf_model = RandomForestClassifier(random_state=42)\n",
    "\n",
    "\n",
    "        rf_model.fit(X_train, y_train)\n",
    "\n",
    "        y_pred = rf_model.predict(X_test)\n",
    "\n",
    "        cr_all.append(classification_report(y_test, y_pred, output_dict = True))\n",
    "        \n",
    "        \n",
    "        \n",
    "    return cr_all"
   ]
  },
  {
   "cell_type": "code",
   "execution_count": 172,
   "id": "d9fbbb95",
   "metadata": {},
   "outputs": [
    {
     "name": "stderr",
     "output_type": "stream",
     "text": [
      "100%|██████████| 20/20 [04:37<00:00, 13.88s/it]\n",
      "100%|██████████| 20/20 [04:45<00:00, 14.29s/it]\n",
      "100%|██████████| 20/20 [04:58<00:00, 14.93s/it]\n"
     ]
    }
   ],
   "source": [
    "cr_all_40 = return_classification_report(all_results_40)\n",
    "cr_all_50 = return_classification_report(all_results_50)\n",
    "cr_all_100 = return_classification_report(all_results_100)"
   ]
  },
  {
   "cell_type": "code",
   "execution_count": null,
   "id": "39b6d50b",
   "metadata": {},
   "outputs": [],
   "source": []
  },
  {
   "cell_type": "code",
   "execution_count": null,
   "id": "4a44cdbb",
   "metadata": {},
   "outputs": [],
   "source": []
  },
  {
   "cell_type": "code",
   "execution_count": null,
   "id": "9a7cfc60",
   "metadata": {},
   "outputs": [],
   "source": []
  },
  {
   "cell_type": "code",
   "execution_count": 186,
   "id": "9ac104a7",
   "metadata": {},
   "outputs": [
    {
     "data": {
      "image/png": "[encoded data removed]",
      "text/plain": [
       "<Figure size 1600x800 with 1 Axes>"
      ]
     },
     "metadata": {},
     "output_type": "display_data"
    }
   ],
   "source": [
    "# Function to extract F1 scores from cr_all\n",
    "def extract_f1_scores(cr_all):\n",
    "    f1_scores = []\n",
    "    for i in range(20):\n",
    "        f1_score = pd.DataFrame(cr_all[i]).loc['f1-score', 'macro avg']\n",
    "        f1_scores.append(f1_score)\n",
    "    return f1_scores\n",
    "\n",
    "# Extract F1 scores for each sampling rate\n",
    "f1_scores_40 = extract_f1_scores(cr_all_40)\n",
    "f1_scores_50 = extract_f1_scores(cr_all_50)\n",
    "f1_scores_100 = extract_f1_scores(cr_all_100)\n",
    "\n",
    "# Split F1 scores into frequency bands\n",
    "f1_scores_1_10_40, f1_scores_1_15_40, f1_scores_05_10_40, f1_scores_05_15_40 = f1_scores_40[:5], f1_scores_40[5:10], f1_scores_40[10:15], f1_scores_40[15:20]\n",
    "f1_scores_1_10_50, f1_scores_1_15_50, f1_scores_05_10_50, f1_scores_05_15_50 = f1_scores_50[:5], f1_scores_50[5:10], f1_scores_50[10:15], f1_scores_50[15:20]\n",
    "f1_scores_1_10_100, f1_scores_1_15_100, f1_scores_05_10_100, f1_scores_05_15_100 = f1_scores_100[:5], f1_scores_100[5:10], f1_scores_100[10:15], f1_scores_100[15:20]\n",
    "\n",
    "windows = ['(P-10,P+30)', '(P-10,P+40)', '(P-20,P+50)', '(P-5,P+20)', '(P-50,P+100)']\n",
    "bar_width = 0.20  # Width of each bar\n",
    "index = np.arange(len(windows)) * 3  # Increase the separation between ticks\n",
    "\n",
    "# Color blind friendly palette\n",
    "colors = ['#1f77b4', '#ff7f0e', '#2ca02c', 'red']\n",
    "\n",
    "plt.figure(figsize=(16, 8))\n",
    "\n",
    "# Plot for 40 Hz\n",
    "plt.bar(index - 2 * bar_width, f1_scores_1_10_40, bar_width, label='40 Hz, 1-10 Hz', color=colors[0])\n",
    "plt.bar(index - 1 * bar_width, f1_scores_1_15_40, bar_width, label='40 Hz, 1-15 Hz', color=colors[1])\n",
    "plt.bar(index + 0 * bar_width, f1_scores_05_10_40, bar_width, label='40 Hz, 0.5-10 Hz', color=colors[2])\n",
    "plt.bar(index + 1 * bar_width, f1_scores_05_15_40, bar_width, label='40 Hz, 0.5-15 Hz', color=colors[3])\n",
    "\n",
    "# Plot for 50 Hz\n",
    "plt.bar(index + 2 * bar_width, f1_scores_1_10_50, bar_width, label='50 Hz, 1-10 Hz', color=colors[0], hatch='//')\n",
    "plt.bar(index + 3 * bar_width, f1_scores_1_15_50, bar_width, label='50 Hz, 1-15 Hz', color=colors[1], hatch='//')\n",
    "plt.bar(index + 4 * bar_width, f1_scores_05_10_50, bar_width, label='50 Hz, 0.5-10 Hz', color=colors[2], hatch='//')\n",
    "plt.bar(index + 5 * bar_width, f1_scores_05_15_50, bar_width, label='50 Hz, 0.5-15 Hz', color=colors[3], hatch='//')\n",
    "\n",
    "# Plot for 100 Hz\n",
    "plt.bar(index + 6 * bar_width, f1_scores_1_10_100, bar_width, label='100 Hz, 1-10 Hz', color=colors[0], edgecolor='black', hatch='..')\n",
    "plt.bar(index + 7 * bar_width, f1_scores_1_15_100, bar_width, label='100 Hz, 1-15 Hz', color=colors[1], edgecolor='black', hatch='..')\n",
    "plt.bar(index + 8 * bar_width, f1_scores_05_10_100, bar_width, label='100 Hz, 0.5-10 Hz', color=colors[2], edgecolor='black', hatch='..')\n",
    "plt.bar(index + 9 * bar_width, f1_scores_05_15_100, bar_width, label='100 Hz, 0.5-15 Hz', color=colors[3], edgecolor='black', hatch='..')\n",
    "\n",
    "# Add labels, title, and legend\n",
    "plt.xlabel('Windows with respect to P waves/origin time', fontsize=15)\n",
    "plt.ylabel('Averaged F1-score', fontsize=15)\n",
    "plt.xticks(index + 2.5 * bar_width, windows, rotation=30, fontsize=12)\n",
    "plt.ylim(0.85, 0.94)\n",
    "plt.title('Averaged F1-score for Different Windows (Tsfel+Physical features)', fontsize=20)\n",
    "plt.grid(axis='y', linestyle='--', alpha=0.7)\n",
    "plt.gca().yaxis.grid(True, which='minor', linestyle='--', alpha=0.3)\n",
    "plt.legend(loc='upper left', bbox_to_anchor=(1, 1))\n",
    "\n",
    "# Save or display the plot\n",
    "plt.tight_layout()\n",
    "plt.savefig('combined_f1_scores_plot.png', dpi=300)\n",
    "plt.show()\n"
   ]
  },
  {
   "cell_type": "code",
   "execution_count": null,
   "id": "b63c6ecd",
   "metadata": {},
   "outputs": [],
   "source": []
  },
  {
   "cell_type": "code",
   "execution_count": null,
   "id": "f6fb36ee",
   "metadata": {},
   "outputs": [],
   "source": []
  },
  {
   "cell_type": "code",
   "execution_count": null,
   "id": "d67d410a",
   "metadata": {},
   "outputs": [],
   "source": []
  },
  {
   "cell_type": "markdown",
   "id": "144d4921",
   "metadata": {},
   "source": [
    "## Computing the feature extraction time"
   ]
  },
  {
   "cell_type": "code",
   "execution_count": 199,
   "id": "62528306",
   "metadata": {},
   "outputs": [],
   "source": [
    "def compute_time(sr = 50):\n",
    "    def run_compute_features(params):\n",
    "        results = []\n",
    "        for param in params:\n",
    "            # Extract prefix and remove it from the parameter dictionary\n",
    "            prefix = param.pop(\"prefix\")\n",
    "            results.append((prefix, compute_features(**param)))\n",
    "            # Re-add the prefix for any future use of the parameter set\n",
    "            param[\"prefix\"] = prefix\n",
    "        return results\n",
    "\n",
    "\n",
    "\n",
    "\n",
    "    # Parameters for different runs\n",
    "    param_sets = [\n",
    "        {\"win_before\": 1000, \"win_after\": 3000, \"nos\": 2, \"fmin\": 1, \"fmax\": 10, \"fs\": sr, \"prefix\": \"10_30_1_10_50\"},\n",
    "        {\"win_before\": 1000, \"win_after\": 4000, \"nos\": 2, \"fmin\": 1, \"fmax\": 10, \"fs\": sr, \"prefix\": \"10_40_1_10_50\"},\n",
    "        {\"win_before\": 2000, \"win_after\": 5000, \"nos\": 2, \"fmin\": 1, \"fmax\": 10, \"fs\": sr, \"prefix\": \"20_50_1_10_50\"},\n",
    "        {\"win_before\": 500, \"win_after\": 2000, \"nos\": 2, \"fmin\": 1, \"fmax\": 10, \"fs\": sr, \"prefix\": \"05_20_1_10_50\"},\n",
    "        {\"win_before\": 5000, \"win_after\": 10000, \"nos\": 2, \"fmin\": 1, \"fmax\": 10, \"fs\": sr, \"prefix\": \"50_100_1_10_50\"},\n",
    "        {\"win_before\": 1000, \"win_after\": 3000, \"nos\": 2, \"fmin\": 1, \"fmax\": 15, \"fs\": sr, \"prefix\": \"10_30_1_15_50\"},\n",
    "        {\"win_before\": 1000, \"win_after\": 4000, \"nos\": 2, \"fmin\": 1, \"fmax\": 15, \"fs\": sr, \"prefix\": \"10_40_1_15_50\"},\n",
    "        {\"win_before\": 2000, \"win_after\": 5000, \"nos\": 2, \"fmin\": 1, \"fmax\": 15, \"fs\": sr, \"prefix\": \"20_50_1_15_50\"},\n",
    "        {\"win_before\": 500, \"win_after\": 2000, \"nos\": 2, \"fmin\": 1, \"fmax\": 15, \"fs\": sr, \"prefix\": \"05_20_1_15_50\"},\n",
    "        {\"win_before\": 5000, \"win_after\": 10000, \"nos\": 2, \"fmin\": 1, \"fmax\": 15, \"fs\": sr, \"prefix\": \"50_100_1_15_50\"},\n",
    "        {\"win_before\": 1000, \"win_after\": 3000, \"nos\": 2, \"fmin\": 0.5, \"fmax\": 10, \"fs\": sr, \"prefix\": \"10_30_05_10_50\"},\n",
    "        {\"win_before\": 1000, \"win_after\": 4000, \"nos\": 2, \"fmin\": 0.5, \"fmax\": 10, \"fs\": sr, \"prefix\": \"10_40_05_10_50\"},\n",
    "        {\"win_before\": 2000, \"win_after\": 5000, \"nos\": 2, \"fmin\": 0.5, \"fmax\": 10, \"fs\": sr, \"prefix\": \"20_50_05_10_50\"},\n",
    "        {\"win_before\": 500, \"win_after\": 2000, \"nos\": 2, \"fmin\": 0.5, \"fmax\": 10, \"fs\": sr, \"prefix\": \"05_20_05_10_50\"},\n",
    "        {\"win_before\": 5000, \"win_after\": 10000, \"nos\": 2, \"fmin\": 0.5, \"fmax\": 10, \"fs\": sr, \"prefix\": \"50_100_05_10_50\"},\n",
    "        {\"win_before\": 1000, \"win_after\": 3000, \"nos\": 2, \"fmin\": 0.5, \"fmax\": 15, \"fs\": sr, \"prefix\": \"10_30_05_15_50\"},\n",
    "        {\"win_before\": 1000, \"win_after\": 4000, \"nos\": 2, \"fmin\": 0.5, \"fmax\": 15, \"fs\": sr, \"prefix\": \"10_40_05_15_50\"},\n",
    "        {\"win_before\": 2000, \"win_after\": 5000, \"nos\": 2, \"fmin\": 0.5, \"fmax\": 15, \"fs\": sr, \"prefix\": \"20_50_05_15_50\"},\n",
    "        {\"win_before\": 500, \"win_after\": 2000, \"nos\": 2, \"fmin\": 0.5, \"fmax\": 15, \"fs\": sr, \"prefix\": \"05_20_05_15_50\"},\n",
    "        {\"win_before\": 5000, \"win_after\": 10000, \"nos\": 2, \"fmin\": 0.5, \"fmax\": 15, \"fs\": sr, \"prefix\": \"50_100_05_15_50\"}\n",
    "    ]\n",
    "\n",
    "    # Run the computations and measure time\n",
    "    all_results_50 = []\n",
    "    all_time_50 = []\n",
    "    for param_set in param_sets:\n",
    "        init_time = time.time()\n",
    "        results = run_compute_features([param_set])\n",
    "        for prefix, result in results:\n",
    "            a, b, c, d = result\n",
    "            all_time_50.append(time.time() - init_time)\n",
    "            all_results_50.append((prefix, result))\n",
    "            \n",
    "    return all_time_50\n",
    "\n",
    "\n",
    "\n",
    "\n",
    "def compute_time_single_core(sr = 50):\n",
    "    def run_compute_features(params):\n",
    "        results = []\n",
    "        for param in params:\n",
    "            # Extract prefix and remove it from the parameter dictionary\n",
    "            prefix = param.pop(\"prefix\")\n",
    "            results.append((prefix, compute_features_single_core(**param)))\n",
    "            # Re-add the prefix for any future use of the parameter set\n",
    "            param[\"prefix\"] = prefix\n",
    "        return results\n",
    "\n",
    "\n",
    "\n",
    "\n",
    "    # Parameters for different runs\n",
    "    param_sets = [\n",
    "        {\"win_before\": 1000, \"win_after\": 3000, \"nos\": 2, \"fmin\": 1, \"fmax\": 10, \"fs\": sr, \"prefix\": \"10_30_1_10_50\"},\n",
    "        {\"win_before\": 1000, \"win_after\": 4000, \"nos\": 2, \"fmin\": 1, \"fmax\": 10, \"fs\": sr, \"prefix\": \"10_40_1_10_50\"},\n",
    "        {\"win_before\": 2000, \"win_after\": 5000, \"nos\": 2, \"fmin\": 1, \"fmax\": 10, \"fs\": sr, \"prefix\": \"20_50_1_10_50\"},\n",
    "        {\"win_before\": 500, \"win_after\": 2000, \"nos\": 2, \"fmin\": 1, \"fmax\": 10, \"fs\": sr, \"prefix\": \"05_20_1_10_50\"},\n",
    "        {\"win_before\": 5000, \"win_after\": 10000, \"nos\": 2, \"fmin\": 1, \"fmax\": 10, \"fs\": sr, \"prefix\": \"50_100_1_10_50\"},\n",
    "        {\"win_before\": 1000, \"win_after\": 3000, \"nos\": 2, \"fmin\": 1, \"fmax\": 15, \"fs\": sr, \"prefix\": \"10_30_1_15_50\"},\n",
    "        {\"win_before\": 1000, \"win_after\": 4000, \"nos\": 2, \"fmin\": 1, \"fmax\": 15, \"fs\": sr, \"prefix\": \"10_40_1_15_50\"},\n",
    "        {\"win_before\": 2000, \"win_after\": 5000, \"nos\": 2, \"fmin\": 1, \"fmax\": 15, \"fs\": sr, \"prefix\": \"20_50_1_15_50\"},\n",
    "        {\"win_before\": 500, \"win_after\": 2000, \"nos\": 2, \"fmin\": 1, \"fmax\": 15, \"fs\": sr, \"prefix\": \"05_20_1_15_50\"},\n",
    "        {\"win_before\": 5000, \"win_after\": 10000, \"nos\": 2, \"fmin\": 1, \"fmax\": 15, \"fs\": sr, \"prefix\": \"50_100_1_15_50\"},\n",
    "        {\"win_before\": 1000, \"win_after\": 3000, \"nos\": 2, \"fmin\": 0.5, \"fmax\": 10, \"fs\": sr, \"prefix\": \"10_30_05_10_50\"},\n",
    "        {\"win_before\": 1000, \"win_after\": 4000, \"nos\": 2, \"fmin\": 0.5, \"fmax\": 10, \"fs\": sr, \"prefix\": \"10_40_05_10_50\"},\n",
    "        {\"win_before\": 2000, \"win_after\": 5000, \"nos\": 2, \"fmin\": 0.5, \"fmax\": 10, \"fs\": sr, \"prefix\": \"20_50_05_10_50\"},\n",
    "        {\"win_before\": 500, \"win_after\": 2000, \"nos\": 2, \"fmin\": 0.5, \"fmax\": 10, \"fs\": sr, \"prefix\": \"05_20_05_10_50\"},\n",
    "        {\"win_before\": 5000, \"win_after\": 10000, \"nos\": 2, \"fmin\": 0.5, \"fmax\": 10, \"fs\": sr, \"prefix\": \"50_100_05_10_50\"},\n",
    "        {\"win_before\": 1000, \"win_after\": 3000, \"nos\": 2, \"fmin\": 0.5, \"fmax\": 15, \"fs\": sr, \"prefix\": \"10_30_05_15_50\"},\n",
    "        {\"win_before\": 1000, \"win_after\": 4000, \"nos\": 2, \"fmin\": 0.5, \"fmax\": 15, \"fs\": sr, \"prefix\": \"10_40_05_15_50\"},\n",
    "        {\"win_before\": 2000, \"win_after\": 5000, \"nos\": 2, \"fmin\": 0.5, \"fmax\": 15, \"fs\": sr, \"prefix\": \"20_50_05_15_50\"},\n",
    "        {\"win_before\": 500, \"win_after\": 2000, \"nos\": 2, \"fmin\": 0.5, \"fmax\": 15, \"fs\": sr, \"prefix\": \"05_20_05_15_50\"},\n",
    "        {\"win_before\": 5000, \"win_after\": 10000, \"nos\": 2, \"fmin\": 0.5, \"fmax\": 15, \"fs\": sr, \"prefix\": \"50_100_05_15_50\"}\n",
    "    ]\n",
    "\n",
    "    # Run the computations and measure time\n",
    "    all_results_50 = []\n",
    "    all_time_50 = []\n",
    "    for param_set in param_sets:\n",
    "        init_time = time.time()\n",
    "        results = run_compute_features([param_set])\n",
    "        for prefix, result in results:\n",
    "            a, b, c, d = result\n",
    "            all_time_50.append(time.time() - init_time)\n",
    "            all_results_50.append((prefix, result))\n",
    "            \n",
    "    return all_time_50\n",
    "\n",
    "\n",
    "\n"
   ]
  },
  {
   "cell_type": "code",
   "execution_count": 188,
   "id": "eaad331e",
   "metadata": {},
   "outputs": [
    {
     "name": "stderr",
     "output_type": "stream",
     "text": [
      "100%|██████████| 2/2 [00:00<00:00, 14.15it/s]\n",
      "100%|██████████| 2/2 [00:00<00:00, 52.32it/s]\n",
      "100%|██████████| 2/2 [00:00<00:00, 47.56it/s]\n",
      "100%|██████████| 2/2 [00:00<00:00, 41.31it/s]"
     ]
    },
    {
     "name": "stdout",
     "output_type": "stream",
     "text": [
      "1600\n"
     ]
    },
    {
     "name": "stderr",
     "output_type": "stream",
     "text": [
      "\n",
      "  0%|          | 0/2 [00:00<?, ?it/s]/home/ak287/PNW_Seismic_Event_Classification/notebooks/../feature_extraction_scripts/physical_feature_extraction_scripts/seis_feature.py:101: RuntimeWarning: invalid value encountered in double_scalars\n",
      "  'Gamma': lambda: ((np.dot(self.freq, self.ft**(2)) / np.sum(self.ft**(2)))**(2) - ((np.dot(self.freq**(2), self.ft**(2)) / np.sum(self.ft**(2)))**(0.5))**(2))**(0.5),\n",
      "100%|██████████| 2/2 [00:00<00:00,  8.73it/s]\n",
      "  0%|          | 0/2 [00:00<?, ?it/s]/home/ak287/PNW_Seismic_Event_Classification/notebooks/../feature_extraction_scripts/physical_feature_extraction_scripts/seis_feature.py:101: RuntimeWarning: invalid value encountered in double_scalars\n",
      "  'Gamma': lambda: ((np.dot(self.freq, self.ft**(2)) / np.sum(self.ft**(2)))**(2) - ((np.dot(self.freq**(2), self.ft**(2)) / np.sum(self.ft**(2)))**(0.5))**(2))**(0.5),\n",
      "100%|██████████| 2/2 [00:00<00:00,  8.25it/s]\n",
      "  0%|          | 0/2 [00:00<?, ?it/s]/home/ak287/PNW_Seismic_Event_Classification/notebooks/../feature_extraction_scripts/physical_feature_extraction_scripts/seis_feature.py:101: RuntimeWarning: invalid value encountered in double_scalars\n",
      "  'Gamma': lambda: ((np.dot(self.freq, self.ft**(2)) / np.sum(self.ft**(2)))**(2) - ((np.dot(self.freq**(2), self.ft**(2)) / np.sum(self.ft**(2)))**(0.5))**(2))**(0.5),\n",
      "100%|██████████| 2/2 [00:00<00:00,  9.55it/s]\n",
      "  0%|          | 0/2 [00:00<?, ?it/s]/home/ak287/PNW_Seismic_Event_Classification/notebooks/../feature_extraction_scripts/physical_feature_extraction_scripts/seis_feature.py:101: RuntimeWarning: invalid value encountered in double_scalars\n",
      "  'Gamma': lambda: ((np.dot(self.freq, self.ft**(2)) / np.sum(self.ft**(2)))**(2) - ((np.dot(self.freq**(2), self.ft**(2)) / np.sum(self.ft**(2)))**(0.5))**(2))**(0.5),\n",
      "100%|██████████| 2/2 [00:00<00:00, 10.02it/s]\n",
      "100%|██████████| 2/2 [00:00<00:00, 1064.41it/s]\n",
      "100%|██████████| 2/2 [00:00<00:00, 1763.42it/s]\n",
      "100%|██████████| 2/2 [00:00<00:00, 1837.19it/s]\n",
      "100%|██████████| 2/2 [00:00<00:00, 1634.25it/s]"
     ]
    },
    {
     "name": "stdout",
     "output_type": "stream",
     "text": [
      "2000\n"
     ]
    },
    {
     "name": "stderr",
     "output_type": "stream",
     "text": [
      "\n",
      "  0%|          | 0/2 [00:00<?, ?it/s]/home/ak287/PNW_Seismic_Event_Classification/notebooks/../feature_extraction_scripts/physical_feature_extraction_scripts/seis_feature.py:101: RuntimeWarning: invalid value encountered in double_scalars\n",
      "  'Gamma': lambda: ((np.dot(self.freq, self.ft**(2)) / np.sum(self.ft**(2)))**(2) - ((np.dot(self.freq**(2), self.ft**(2)) / np.sum(self.ft**(2)))**(0.5))**(2))**(0.5),\n",
      "100%|██████████| 2/2 [00:00<00:00,  9.95it/s]\n",
      "  0%|          | 0/2 [00:00<?, ?it/s]/home/ak287/PNW_Seismic_Event_Classification/notebooks/../feature_extraction_scripts/physical_feature_extraction_scripts/seis_feature.py:101: RuntimeWarning: invalid value encountered in double_scalars\n",
      "  'Gamma': lambda: ((np.dot(self.freq, self.ft**(2)) / np.sum(self.ft**(2)))**(2) - ((np.dot(self.freq**(2), self.ft**(2)) / np.sum(self.ft**(2)))**(0.5))**(2))**(0.5),\n",
      "100%|██████████| 2/2 [00:00<00:00,  9.44it/s]\n",
      "  0%|          | 0/2 [00:00<?, ?it/s]/home/ak287/PNW_Seismic_Event_Classification/notebooks/../feature_extraction_scripts/physical_feature_extraction_scripts/seis_feature.py:101: RuntimeWarning: invalid value encountered in double_scalars\n",
      "  'Gamma': lambda: ((np.dot(self.freq, self.ft**(2)) / np.sum(self.ft**(2)))**(2) - ((np.dot(self.freq**(2), self.ft**(2)) / np.sum(self.ft**(2)))**(0.5))**(2))**(0.5),\n",
      "100%|██████████| 2/2 [00:00<00:00, 11.60it/s]\n",
      "  0%|          | 0/2 [00:00<?, ?it/s]/home/ak287/PNW_Seismic_Event_Classification/notebooks/../feature_extraction_scripts/physical_feature_extraction_scripts/seis_feature.py:101: RuntimeWarning: invalid value encountered in double_scalars\n",
      "  'Gamma': lambda: ((np.dot(self.freq, self.ft**(2)) / np.sum(self.ft**(2)))**(2) - ((np.dot(self.freq**(2), self.ft**(2)) / np.sum(self.ft**(2)))**(0.5))**(2))**(0.5),\n",
      "100%|██████████| 2/2 [00:00<00:00, 10.78it/s]\n",
      "100%|██████████| 2/2 [00:00<00:00, 69.71it/s]\n",
      "100%|██████████| 2/2 [00:00<00:00, 71.97it/s]\n",
      "100%|██████████| 2/2 [00:00<00:00, 229.15it/s]\n",
      "100%|██████████| 2/2 [00:00<00:00, 263.62it/s]"
     ]
    },
    {
     "name": "stdout",
     "output_type": "stream",
     "text": [
      "2800\n"
     ]
    },
    {
     "name": "stderr",
     "output_type": "stream",
     "text": [
      "\n",
      "  0%|          | 0/2 [00:00<?, ?it/s]/home/ak287/PNW_Seismic_Event_Classification/notebooks/../feature_extraction_scripts/physical_feature_extraction_scripts/seis_feature.py:101: RuntimeWarning: invalid value encountered in double_scalars\n",
      "  'Gamma': lambda: ((np.dot(self.freq, self.ft**(2)) / np.sum(self.ft**(2)))**(2) - ((np.dot(self.freq**(2), self.ft**(2)) / np.sum(self.ft**(2)))**(0.5))**(2))**(0.5),\n",
      "100%|██████████| 2/2 [00:00<00:00,  9.00it/s]\n",
      "  0%|          | 0/2 [00:00<?, ?it/s]/home/ak287/PNW_Seismic_Event_Classification/notebooks/../feature_extraction_scripts/physical_feature_extraction_scripts/seis_feature.py:101: RuntimeWarning: invalid value encountered in double_scalars\n",
      "  'Gamma': lambda: ((np.dot(self.freq, self.ft**(2)) / np.sum(self.ft**(2)))**(2) - ((np.dot(self.freq**(2), self.ft**(2)) / np.sum(self.ft**(2)))**(0.5))**(2))**(0.5),\n",
      "100%|██████████| 2/2 [00:00<00:00,  9.13it/s]\n",
      "  0%|          | 0/2 [00:00<?, ?it/s]/home/ak287/PNW_Seismic_Event_Classification/notebooks/../feature_extraction_scripts/physical_feature_extraction_scripts/seis_feature.py:101: RuntimeWarning: invalid value encountered in double_scalars\n",
      "  'Gamma': lambda: ((np.dot(self.freq, self.ft**(2)) / np.sum(self.ft**(2)))**(2) - ((np.dot(self.freq**(2), self.ft**(2)) / np.sum(self.ft**(2)))**(0.5))**(2))**(0.5),\n",
      "100%|██████████| 2/2 [00:00<00:00, 10.44it/s]\n",
      "  0%|          | 0/2 [00:00<?, ?it/s]/home/ak287/PNW_Seismic_Event_Classification/notebooks/../feature_extraction_scripts/physical_feature_extraction_scripts/seis_feature.py:101: RuntimeWarning: invalid value encountered in double_scalars\n",
      "  'Gamma': lambda: ((np.dot(self.freq, self.ft**(2)) / np.sum(self.ft**(2)))**(2) - ((np.dot(self.freq**(2), self.ft**(2)) / np.sum(self.ft**(2)))**(0.5))**(2))**(0.5),\n",
      "100%|██████████| 2/2 [00:00<00:00,  9.73it/s]\n",
      "100%|██████████| 2/2 [00:00<00:00, 1114.47it/s]\n",
      "100%|██████████| 2/2 [00:00<00:00, 1901.75it/s]\n",
      "100%|██████████| 2/2 [00:00<00:00, 2069.22it/s]\n",
      "100%|██████████| 2/2 [00:00<00:00, 1351.48it/s]"
     ]
    },
    {
     "name": "stdout",
     "output_type": "stream",
     "text": [
      "1000\n"
     ]
    },
    {
     "name": "stderr",
     "output_type": "stream",
     "text": [
      "\n",
      "  0%|          | 0/2 [00:00<?, ?it/s]/home/ak287/PNW_Seismic_Event_Classification/notebooks/../feature_extraction_scripts/physical_feature_extraction_scripts/seis_feature.py:101: RuntimeWarning: invalid value encountered in double_scalars\n",
      "  'Gamma': lambda: ((np.dot(self.freq, self.ft**(2)) / np.sum(self.ft**(2)))**(2) - ((np.dot(self.freq**(2), self.ft**(2)) / np.sum(self.ft**(2)))**(0.5))**(2))**(0.5),\n",
      "100%|██████████| 2/2 [00:00<00:00, 10.78it/s]\n",
      "  0%|          | 0/2 [00:00<?, ?it/s]/home/ak287/PNW_Seismic_Event_Classification/notebooks/../feature_extraction_scripts/physical_feature_extraction_scripts/seis_feature.py:101: RuntimeWarning: invalid value encountered in double_scalars\n",
      "  'Gamma': lambda: ((np.dot(self.freq, self.ft**(2)) / np.sum(self.ft**(2)))**(2) - ((np.dot(self.freq**(2), self.ft**(2)) / np.sum(self.ft**(2)))**(0.5))**(2))**(0.5),\n",
      "100%|██████████| 2/2 [00:00<00:00, 13.03it/s]\n",
      "  0%|          | 0/2 [00:00<?, ?it/s]/home/ak287/PNW_Seismic_Event_Classification/notebooks/../feature_extraction_scripts/physical_feature_extraction_scripts/seis_feature.py:101: RuntimeWarning: invalid value encountered in double_scalars\n",
      "  'Gamma': lambda: ((np.dot(self.freq, self.ft**(2)) / np.sum(self.ft**(2)))**(2) - ((np.dot(self.freq**(2), self.ft**(2)) / np.sum(self.ft**(2)))**(0.5))**(2))**(0.5),\n",
      "100%|██████████| 2/2 [00:00<00:00, 12.05it/s]\n",
      "  0%|          | 0/2 [00:00<?, ?it/s]/home/ak287/PNW_Seismic_Event_Classification/notebooks/../feature_extraction_scripts/physical_feature_extraction_scripts/seis_feature.py:101: RuntimeWarning: invalid value encountered in double_scalars\n",
      "  'Gamma': lambda: ((np.dot(self.freq, self.ft**(2)) / np.sum(self.ft**(2)))**(2) - ((np.dot(self.freq**(2), self.ft**(2)) / np.sum(self.ft**(2)))**(0.5))**(2))**(0.5),\n",
      "100%|██████████| 2/2 [00:00<00:00, 11.62it/s]\n",
      "100%|██████████| 2/2 [00:00<00:00, 60.96it/s]\n",
      "100%|██████████| 2/2 [00:00<00:00, 87.85it/s]\n",
      "100%|██████████| 2/2 [00:00<00:00, 287.02it/s]\n",
      "100%|██████████| 2/2 [00:00<00:00, 1690.57it/s]"
     ]
    },
    {
     "name": "stdout",
     "output_type": "stream",
     "text": [
      "6000\n"
     ]
    },
    {
     "name": "stderr",
     "output_type": "stream",
     "text": [
      "\n",
      "  0%|          | 0/2 [00:00<?, ?it/s]/home/ak287/PNW_Seismic_Event_Classification/notebooks/../feature_extraction_scripts/physical_feature_extraction_scripts/seis_feature.py:101: RuntimeWarning: invalid value encountered in double_scalars\n",
      "  'Gamma': lambda: ((np.dot(self.freq, self.ft**(2)) / np.sum(self.ft**(2)))**(2) - ((np.dot(self.freq**(2), self.ft**(2)) / np.sum(self.ft**(2)))**(0.5))**(2))**(0.5),\n",
      "100%|██████████| 2/2 [00:00<00:00,  7.46it/s]\n",
      "  0%|          | 0/2 [00:00<?, ?it/s]/home/ak287/PNW_Seismic_Event_Classification/notebooks/../feature_extraction_scripts/physical_feature_extraction_scripts/seis_feature.py:101: RuntimeWarning: invalid value encountered in double_scalars\n",
      "  'Gamma': lambda: ((np.dot(self.freq, self.ft**(2)) / np.sum(self.ft**(2)))**(2) - ((np.dot(self.freq**(2), self.ft**(2)) / np.sum(self.ft**(2)))**(0.5))**(2))**(0.5),\n",
      "100%|██████████| 2/2 [00:00<00:00,  8.02it/s]\n",
      "  0%|          | 0/2 [00:00<?, ?it/s]/home/ak287/PNW_Seismic_Event_Classification/notebooks/../feature_extraction_scripts/physical_feature_extraction_scripts/seis_feature.py:101: RuntimeWarning: invalid value encountered in double_scalars\n",
      "  'Gamma': lambda: ((np.dot(self.freq, self.ft**(2)) / np.sum(self.ft**(2)))**(2) - ((np.dot(self.freq**(2), self.ft**(2)) / np.sum(self.ft**(2)))**(0.5))**(2))**(0.5),\n",
      "100%|██████████| 2/2 [00:00<00:00,  8.35it/s]\n",
      "  0%|          | 0/2 [00:00<?, ?it/s]/home/ak287/PNW_Seismic_Event_Classification/notebooks/../feature_extraction_scripts/physical_feature_extraction_scripts/seis_feature.py:101: RuntimeWarning: invalid value encountered in double_scalars\n",
      "  'Gamma': lambda: ((np.dot(self.freq, self.ft**(2)) / np.sum(self.ft**(2)))**(2) - ((np.dot(self.freq**(2), self.ft**(2)) / np.sum(self.ft**(2)))**(0.5))**(2))**(0.5),\n",
      "100%|██████████| 2/2 [00:00<00:00,  7.69it/s]\n",
      "100%|██████████| 2/2 [00:00<00:00, 1225.15it/s]\n",
      "100%|██████████| 2/2 [00:00<00:00, 1349.95it/s]\n",
      "100%|██████████| 2/2 [00:00<00:00, 1858.77it/s]\n",
      "100%|██████████| 2/2 [00:00<00:00, 1682.10it/s]\n"
     ]
    },
    {
     "name": "stdout",
     "output_type": "stream",
     "text": [
      "1600\n"
     ]
    },
    {
     "name": "stderr",
     "output_type": "stream",
     "text": [
      "  0%|          | 0/2 [00:00<?, ?it/s]/home/ak287/PNW_Seismic_Event_Classification/notebooks/../feature_extraction_scripts/physical_feature_extraction_scripts/seis_feature.py:101: RuntimeWarning: invalid value encountered in double_scalars\n",
      "  'Gamma': lambda: ((np.dot(self.freq, self.ft**(2)) / np.sum(self.ft**(2)))**(2) - ((np.dot(self.freq**(2), self.ft**(2)) / np.sum(self.ft**(2)))**(0.5))**(2))**(0.5),\n",
      "100%|██████████| 2/2 [00:00<00:00, 10.35it/s]\n",
      "  0%|          | 0/2 [00:00<?, ?it/s]/home/ak287/PNW_Seismic_Event_Classification/notebooks/../feature_extraction_scripts/physical_feature_extraction_scripts/seis_feature.py:101: RuntimeWarning: invalid value encountered in double_scalars\n",
      "  'Gamma': lambda: ((np.dot(self.freq, self.ft**(2)) / np.sum(self.ft**(2)))**(2) - ((np.dot(self.freq**(2), self.ft**(2)) / np.sum(self.ft**(2)))**(0.5))**(2))**(0.5),\n",
      "100%|██████████| 2/2 [00:00<00:00, 12.33it/s]\n",
      "  0%|          | 0/2 [00:00<?, ?it/s]/home/ak287/PNW_Seismic_Event_Classification/notebooks/../feature_extraction_scripts/physical_feature_extraction_scripts/seis_feature.py:101: RuntimeWarning: invalid value encountered in double_scalars\n",
      "  'Gamma': lambda: ((np.dot(self.freq, self.ft**(2)) / np.sum(self.ft**(2)))**(2) - ((np.dot(self.freq**(2), self.ft**(2)) / np.sum(self.ft**(2)))**(0.5))**(2))**(0.5),\n",
      "100%|██████████| 2/2 [00:00<00:00, 11.52it/s]\n",
      "  0%|          | 0/2 [00:00<?, ?it/s]/home/ak287/PNW_Seismic_Event_Classification/notebooks/../feature_extraction_scripts/physical_feature_extraction_scripts/seis_feature.py:101: RuntimeWarning: invalid value encountered in double_scalars\n",
      "  'Gamma': lambda: ((np.dot(self.freq, self.ft**(2)) / np.sum(self.ft**(2)))**(2) - ((np.dot(self.freq**(2), self.ft**(2)) / np.sum(self.ft**(2)))**(0.5))**(2))**(0.5),\n",
      "100%|██████████| 2/2 [00:00<00:00, 10.15it/s]\n",
      "100%|██████████| 2/2 [00:00<00:00, 1217.50it/s]\n",
      "100%|██████████| 2/2 [00:00<00:00, 1696.38it/s]\n",
      "100%|██████████| 2/2 [00:00<00:00, 1759.72it/s]\n",
      "100%|██████████| 2/2 [00:00<00:00, 1715.46it/s]"
     ]
    },
    {
     "name": "stdout",
     "output_type": "stream",
     "text": [
      "2000\n"
     ]
    },
    {
     "name": "stderr",
     "output_type": "stream",
     "text": [
      "\n",
      "  0%|          | 0/2 [00:00<?, ?it/s]/home/ak287/PNW_Seismic_Event_Classification/notebooks/../feature_extraction_scripts/physical_feature_extraction_scripts/seis_feature.py:101: RuntimeWarning: invalid value encountered in double_scalars\n",
      "  'Gamma': lambda: ((np.dot(self.freq, self.ft**(2)) / np.sum(self.ft**(2)))**(2) - ((np.dot(self.freq**(2), self.ft**(2)) / np.sum(self.ft**(2)))**(0.5))**(2))**(0.5),\n",
      "100%|██████████| 2/2 [00:00<00:00,  7.45it/s]\n",
      "  0%|          | 0/2 [00:00<?, ?it/s]/home/ak287/PNW_Seismic_Event_Classification/notebooks/../feature_extraction_scripts/physical_feature_extraction_scripts/seis_feature.py:101: RuntimeWarning: invalid value encountered in double_scalars\n",
      "  'Gamma': lambda: ((np.dot(self.freq, self.ft**(2)) / np.sum(self.ft**(2)))**(2) - ((np.dot(self.freq**(2), self.ft**(2)) / np.sum(self.ft**(2)))**(0.5))**(2))**(0.5),\n",
      "100%|██████████| 2/2 [00:00<00:00,  9.13it/s]\n",
      "  0%|          | 0/2 [00:00<?, ?it/s]/home/ak287/PNW_Seismic_Event_Classification/notebooks/../feature_extraction_scripts/physical_feature_extraction_scripts/seis_feature.py:101: RuntimeWarning: invalid value encountered in double_scalars\n",
      "  'Gamma': lambda: ((np.dot(self.freq, self.ft**(2)) / np.sum(self.ft**(2)))**(2) - ((np.dot(self.freq**(2), self.ft**(2)) / np.sum(self.ft**(2)))**(0.5))**(2))**(0.5),\n",
      "100%|██████████| 2/2 [00:00<00:00, 12.22it/s]\n",
      "  0%|          | 0/2 [00:00<?, ?it/s]/home/ak287/PNW_Seismic_Event_Classification/notebooks/../feature_extraction_scripts/physical_feature_extraction_scripts/seis_feature.py:101: RuntimeWarning: invalid value encountered in double_scalars\n",
      "  'Gamma': lambda: ((np.dot(self.freq, self.ft**(2)) / np.sum(self.ft**(2)))**(2) - ((np.dot(self.freq**(2), self.ft**(2)) / np.sum(self.ft**(2)))**(0.5))**(2))**(0.5),\n",
      "100%|██████████| 2/2 [00:00<00:00,  9.62it/s]\n",
      "100%|██████████| 2/2 [00:00<00:00, 1211.18it/s]\n",
      "100%|██████████| 2/2 [00:00<00:00, 1621.93it/s]\n",
      "100%|██████████| 2/2 [00:00<00:00, 1568.26it/s]\n",
      "100%|██████████| 2/2 [00:00<00:00, 1558.93it/s]"
     ]
    },
    {
     "name": "stdout",
     "output_type": "stream",
     "text": [
      "2800\n"
     ]
    },
    {
     "name": "stderr",
     "output_type": "stream",
     "text": [
      "\n",
      "  0%|          | 0/2 [00:00<?, ?it/s]/home/ak287/PNW_Seismic_Event_Classification/notebooks/../feature_extraction_scripts/physical_feature_extraction_scripts/seis_feature.py:101: RuntimeWarning: invalid value encountered in double_scalars\n",
      "  'Gamma': lambda: ((np.dot(self.freq, self.ft**(2)) / np.sum(self.ft**(2)))**(2) - ((np.dot(self.freq**(2), self.ft**(2)) / np.sum(self.ft**(2)))**(0.5))**(2))**(0.5),\n",
      "100%|██████████| 2/2 [00:00<00:00,  9.58it/s]\n",
      "  0%|          | 0/2 [00:00<?, ?it/s]/home/ak287/PNW_Seismic_Event_Classification/notebooks/../feature_extraction_scripts/physical_feature_extraction_scripts/seis_feature.py:101: RuntimeWarning: invalid value encountered in double_scalars\n",
      "  'Gamma': lambda: ((np.dot(self.freq, self.ft**(2)) / np.sum(self.ft**(2)))**(2) - ((np.dot(self.freq**(2), self.ft**(2)) / np.sum(self.ft**(2)))**(0.5))**(2))**(0.5),\n",
      "100%|██████████| 2/2 [00:00<00:00, 11.77it/s]\n",
      "  0%|          | 0/2 [00:00<?, ?it/s]/home/ak287/PNW_Seismic_Event_Classification/notebooks/../feature_extraction_scripts/physical_feature_extraction_scripts/seis_feature.py:101: RuntimeWarning: invalid value encountered in double_scalars\n",
      "  'Gamma': lambda: ((np.dot(self.freq, self.ft**(2)) / np.sum(self.ft**(2)))**(2) - ((np.dot(self.freq**(2), self.ft**(2)) / np.sum(self.ft**(2)))**(0.5))**(2))**(0.5),\n",
      "100%|██████████| 2/2 [00:00<00:00, 12.57it/s]\n",
      "  0%|          | 0/2 [00:00<?, ?it/s]/home/ak287/PNW_Seismic_Event_Classification/notebooks/../feature_extraction_scripts/physical_feature_extraction_scripts/seis_feature.py:101: RuntimeWarning: invalid value encountered in double_scalars\n",
      "  'Gamma': lambda: ((np.dot(self.freq, self.ft**(2)) / np.sum(self.ft**(2)))**(2) - ((np.dot(self.freq**(2), self.ft**(2)) / np.sum(self.ft**(2)))**(0.5))**(2))**(0.5),\n",
      "100%|██████████| 2/2 [00:00<00:00, 13.18it/s]\n",
      "100%|██████████| 2/2 [00:00<00:00, 1164.28it/s]\n",
      "100%|██████████| 2/2 [00:00<00:00, 1707.43it/s]\n",
      "100%|██████████| 2/2 [00:00<00:00, 1685.14it/s]\n",
      "100%|██████████| 2/2 [00:00<00:00, 1689.55it/s]"
     ]
    },
    {
     "name": "stdout",
     "output_type": "stream",
     "text": [
      "1000\n"
     ]
    },
    {
     "name": "stderr",
     "output_type": "stream",
     "text": [
      "\n",
      "  0%|          | 0/2 [00:00<?, ?it/s]/home/ak287/PNW_Seismic_Event_Classification/notebooks/../feature_extraction_scripts/physical_feature_extraction_scripts/seis_feature.py:101: RuntimeWarning: invalid value encountered in double_scalars\n",
      "  'Gamma': lambda: ((np.dot(self.freq, self.ft**(2)) / np.sum(self.ft**(2)))**(2) - ((np.dot(self.freq**(2), self.ft**(2)) / np.sum(self.ft**(2)))**(0.5))**(2))**(0.5),\n",
      "100%|██████████| 2/2 [00:00<00:00, 13.85it/s]\n",
      "  0%|          | 0/2 [00:00<?, ?it/s]/home/ak287/PNW_Seismic_Event_Classification/notebooks/../feature_extraction_scripts/physical_feature_extraction_scripts/seis_feature.py:101: RuntimeWarning: invalid value encountered in double_scalars\n",
      "  'Gamma': lambda: ((np.dot(self.freq, self.ft**(2)) / np.sum(self.ft**(2)))**(2) - ((np.dot(self.freq**(2), self.ft**(2)) / np.sum(self.ft**(2)))**(0.5))**(2))**(0.5),\n",
      "100%|██████████| 2/2 [00:00<00:00, 15.73it/s]\n",
      "  0%|          | 0/2 [00:00<?, ?it/s]/home/ak287/PNW_Seismic_Event_Classification/notebooks/../feature_extraction_scripts/physical_feature_extraction_scripts/seis_feature.py:101: RuntimeWarning: invalid value encountered in double_scalars\n",
      "  'Gamma': lambda: ((np.dot(self.freq, self.ft**(2)) / np.sum(self.ft**(2)))**(2) - ((np.dot(self.freq**(2), self.ft**(2)) / np.sum(self.ft**(2)))**(0.5))**(2))**(0.5),\n",
      "100%|██████████| 2/2 [00:00<00:00, 13.95it/s]\n",
      "  0%|          | 0/2 [00:00<?, ?it/s]/home/ak287/PNW_Seismic_Event_Classification/notebooks/../feature_extraction_scripts/physical_feature_extraction_scripts/seis_feature.py:101: RuntimeWarning: invalid value encountered in double_scalars\n",
      "  'Gamma': lambda: ((np.dot(self.freq, self.ft**(2)) / np.sum(self.ft**(2)))**(2) - ((np.dot(self.freq**(2), self.ft**(2)) / np.sum(self.ft**(2)))**(0.5))**(2))**(0.5),\n",
      "100%|██████████| 2/2 [00:00<00:00, 13.38it/s]\n",
      "100%|██████████| 2/2 [00:00<00:00, 1231.08it/s]\n",
      "100%|██████████| 2/2 [00:00<00:00, 1677.05it/s]\n",
      "100%|██████████| 2/2 [00:00<00:00, 1813.36it/s]\n",
      "100%|██████████| 2/2 [00:00<00:00, 1686.49it/s]\n"
     ]
    },
    {
     "name": "stdout",
     "output_type": "stream",
     "text": [
      "6000\n"
     ]
    },
    {
     "name": "stderr",
     "output_type": "stream",
     "text": [
      "  0%|          | 0/2 [00:00<?, ?it/s]/home/ak287/PNW_Seismic_Event_Classification/notebooks/../feature_extraction_scripts/physical_feature_extraction_scripts/seis_feature.py:101: RuntimeWarning: invalid value encountered in double_scalars\n",
      "  'Gamma': lambda: ((np.dot(self.freq, self.ft**(2)) / np.sum(self.ft**(2)))**(2) - ((np.dot(self.freq**(2), self.ft**(2)) / np.sum(self.ft**(2)))**(0.5))**(2))**(0.5),\n",
      "100%|██████████| 2/2 [00:00<00:00,  9.35it/s]\n",
      "  0%|          | 0/2 [00:00<?, ?it/s]/home/ak287/PNW_Seismic_Event_Classification/notebooks/../feature_extraction_scripts/physical_feature_extraction_scripts/seis_feature.py:101: RuntimeWarning: invalid value encountered in double_scalars\n",
      "  'Gamma': lambda: ((np.dot(self.freq, self.ft**(2)) / np.sum(self.ft**(2)))**(2) - ((np.dot(self.freq**(2), self.ft**(2)) / np.sum(self.ft**(2)))**(0.5))**(2))**(0.5),\n",
      "100%|██████████| 2/2 [00:00<00:00,  8.60it/s]\n",
      "  0%|          | 0/2 [00:00<?, ?it/s]/home/ak287/PNW_Seismic_Event_Classification/notebooks/../feature_extraction_scripts/physical_feature_extraction_scripts/seis_feature.py:101: RuntimeWarning: invalid value encountered in double_scalars\n",
      "  'Gamma': lambda: ((np.dot(self.freq, self.ft**(2)) / np.sum(self.ft**(2)))**(2) - ((np.dot(self.freq**(2), self.ft**(2)) / np.sum(self.ft**(2)))**(0.5))**(2))**(0.5),\n",
      "100%|██████████| 2/2 [00:00<00:00,  7.31it/s]\n",
      "  0%|          | 0/2 [00:00<?, ?it/s]/home/ak287/PNW_Seismic_Event_Classification/notebooks/../feature_extraction_scripts/physical_feature_extraction_scripts/seis_feature.py:101: RuntimeWarning: invalid value encountered in double_scalars\n",
      "  'Gamma': lambda: ((np.dot(self.freq, self.ft**(2)) / np.sum(self.ft**(2)))**(2) - ((np.dot(self.freq**(2), self.ft**(2)) / np.sum(self.ft**(2)))**(0.5))**(2))**(0.5),\n",
      "100%|██████████| 2/2 [00:00<00:00,  8.38it/s]\n",
      "100%|██████████| 2/2 [00:00<00:00, 1008.97it/s]\n",
      "100%|██████████| 2/2 [00:00<00:00, 1748.72it/s]\n",
      "100%|██████████| 2/2 [00:00<00:00, 2002.53it/s]\n",
      "100%|██████████| 2/2 [00:00<00:00, 1578.88it/s]"
     ]
    },
    {
     "name": "stdout",
     "output_type": "stream",
     "text": [
      "1600\n"
     ]
    },
    {
     "name": "stderr",
     "output_type": "stream",
     "text": [
      "\n",
      "  0%|          | 0/2 [00:00<?, ?it/s]/home/ak287/PNW_Seismic_Event_Classification/notebooks/../feature_extraction_scripts/physical_feature_extraction_scripts/seis_feature.py:101: RuntimeWarning: invalid value encountered in double_scalars\n",
      "  'Gamma': lambda: ((np.dot(self.freq, self.ft**(2)) / np.sum(self.ft**(2)))**(2) - ((np.dot(self.freq**(2), self.ft**(2)) / np.sum(self.ft**(2)))**(0.5))**(2))**(0.5),\n",
      "100%|██████████| 2/2 [00:00<00:00, 10.69it/s]\n",
      "  0%|          | 0/2 [00:00<?, ?it/s]/home/ak287/PNW_Seismic_Event_Classification/notebooks/../feature_extraction_scripts/physical_feature_extraction_scripts/seis_feature.py:101: RuntimeWarning: invalid value encountered in double_scalars\n",
      "  'Gamma': lambda: ((np.dot(self.freq, self.ft**(2)) / np.sum(self.ft**(2)))**(2) - ((np.dot(self.freq**(2), self.ft**(2)) / np.sum(self.ft**(2)))**(0.5))**(2))**(0.5),\n",
      "100%|██████████| 2/2 [00:00<00:00, 10.40it/s]\n",
      "  0%|          | 0/2 [00:00<?, ?it/s]/home/ak287/PNW_Seismic_Event_Classification/notebooks/../feature_extraction_scripts/physical_feature_extraction_scripts/seis_feature.py:101: RuntimeWarning: invalid value encountered in double_scalars\n",
      "  'Gamma': lambda: ((np.dot(self.freq, self.ft**(2)) / np.sum(self.ft**(2)))**(2) - ((np.dot(self.freq**(2), self.ft**(2)) / np.sum(self.ft**(2)))**(0.5))**(2))**(0.5),\n",
      "100%|██████████| 2/2 [00:00<00:00,  9.87it/s]\n",
      "  0%|          | 0/2 [00:00<?, ?it/s]/home/ak287/PNW_Seismic_Event_Classification/notebooks/../feature_extraction_scripts/physical_feature_extraction_scripts/seis_feature.py:101: RuntimeWarning: invalid value encountered in double_scalars\n",
      "  'Gamma': lambda: ((np.dot(self.freq, self.ft**(2)) / np.sum(self.ft**(2)))**(2) - ((np.dot(self.freq**(2), self.ft**(2)) / np.sum(self.ft**(2)))**(0.5))**(2))**(0.5),\n",
      "100%|██████████| 2/2 [00:00<00:00, 10.17it/s]\n",
      "100%|██████████| 2/2 [00:00<00:00, 1064.41it/s]\n",
      "100%|██████████| 2/2 [00:00<00:00, 1823.21it/s]\n",
      "100%|██████████| 2/2 [00:00<00:00, 2025.26it/s]\n",
      "100%|██████████| 2/2 [00:00<00:00, 1718.98it/s]"
     ]
    },
    {
     "name": "stdout",
     "output_type": "stream",
     "text": [
      "2000\n"
     ]
    },
    {
     "name": "stderr",
     "output_type": "stream",
     "text": [
      "\n",
      "  0%|          | 0/2 [00:00<?, ?it/s]/home/ak287/PNW_Seismic_Event_Classification/notebooks/../feature_extraction_scripts/physical_feature_extraction_scripts/seis_feature.py:101: RuntimeWarning: invalid value encountered in double_scalars\n",
      "  'Gamma': lambda: ((np.dot(self.freq, self.ft**(2)) / np.sum(self.ft**(2)))**(2) - ((np.dot(self.freq**(2), self.ft**(2)) / np.sum(self.ft**(2)))**(0.5))**(2))**(0.5),\n",
      "100%|██████████| 2/2 [00:00<00:00, 11.45it/s]\n",
      "  0%|          | 0/2 [00:00<?, ?it/s]/home/ak287/PNW_Seismic_Event_Classification/notebooks/../feature_extraction_scripts/physical_feature_extraction_scripts/seis_feature.py:101: RuntimeWarning: invalid value encountered in double_scalars\n",
      "  'Gamma': lambda: ((np.dot(self.freq, self.ft**(2)) / np.sum(self.ft**(2)))**(2) - ((np.dot(self.freq**(2), self.ft**(2)) / np.sum(self.ft**(2)))**(0.5))**(2))**(0.5),\n",
      "100%|██████████| 2/2 [00:00<00:00, 11.84it/s]\n",
      "  0%|          | 0/2 [00:00<?, ?it/s]/home/ak287/PNW_Seismic_Event_Classification/notebooks/../feature_extraction_scripts/physical_feature_extraction_scripts/seis_feature.py:101: RuntimeWarning: invalid value encountered in double_scalars\n",
      "  'Gamma': lambda: ((np.dot(self.freq, self.ft**(2)) / np.sum(self.ft**(2)))**(2) - ((np.dot(self.freq**(2), self.ft**(2)) / np.sum(self.ft**(2)))**(0.5))**(2))**(0.5),\n",
      "100%|██████████| 2/2 [00:00<00:00,  8.72it/s]\n",
      "  0%|          | 0/2 [00:00<?, ?it/s]/home/ak287/PNW_Seismic_Event_Classification/notebooks/../feature_extraction_scripts/physical_feature_extraction_scripts/seis_feature.py:101: RuntimeWarning: invalid value encountered in double_scalars\n",
      "  'Gamma': lambda: ((np.dot(self.freq, self.ft**(2)) / np.sum(self.ft**(2)))**(2) - ((np.dot(self.freq**(2), self.ft**(2)) / np.sum(self.ft**(2)))**(0.5))**(2))**(0.5),\n",
      "100%|██████████| 2/2 [00:00<00:00,  8.58it/s]\n",
      "100%|██████████| 2/2 [00:00<00:00, 1202.50it/s]\n",
      "100%|██████████| 2/2 [00:00<00:00, 1770.12it/s]\n",
      "100%|██████████| 2/2 [00:00<00:00, 1923.11it/s]\n",
      "100%|██████████| 2/2 [00:00<00:00, 1768.26it/s]"
     ]
    },
    {
     "name": "stdout",
     "output_type": "stream",
     "text": [
      "2800\n"
     ]
    },
    {
     "name": "stderr",
     "output_type": "stream",
     "text": [
      "\n",
      "  0%|          | 0/2 [00:00<?, ?it/s]/home/ak287/PNW_Seismic_Event_Classification/notebooks/../feature_extraction_scripts/physical_feature_extraction_scripts/seis_feature.py:101: RuntimeWarning: invalid value encountered in double_scalars\n",
      "  'Gamma': lambda: ((np.dot(self.freq, self.ft**(2)) / np.sum(self.ft**(2)))**(2) - ((np.dot(self.freq**(2), self.ft**(2)) / np.sum(self.ft**(2)))**(0.5))**(2))**(0.5),\n",
      "100%|██████████| 2/2 [00:00<00:00, 12.56it/s]\n",
      "  0%|          | 0/2 [00:00<?, ?it/s]/home/ak287/PNW_Seismic_Event_Classification/notebooks/../feature_extraction_scripts/physical_feature_extraction_scripts/seis_feature.py:101: RuntimeWarning: invalid value encountered in double_scalars\n",
      "  'Gamma': lambda: ((np.dot(self.freq, self.ft**(2)) / np.sum(self.ft**(2)))**(2) - ((np.dot(self.freq**(2), self.ft**(2)) / np.sum(self.ft**(2)))**(0.5))**(2))**(0.5),\n",
      "100%|██████████| 2/2 [00:00<00:00, 10.92it/s]\n",
      "  0%|          | 0/2 [00:00<?, ?it/s]/home/ak287/PNW_Seismic_Event_Classification/notebooks/../feature_extraction_scripts/physical_feature_extraction_scripts/seis_feature.py:101: RuntimeWarning: invalid value encountered in double_scalars\n",
      "  'Gamma': lambda: ((np.dot(self.freq, self.ft**(2)) / np.sum(self.ft**(2)))**(2) - ((np.dot(self.freq**(2), self.ft**(2)) / np.sum(self.ft**(2)))**(0.5))**(2))**(0.5),\n",
      "100%|██████████| 2/2 [00:00<00:00, 10.66it/s]\n",
      "  0%|          | 0/2 [00:00<?, ?it/s]/home/ak287/PNW_Seismic_Event_Classification/notebooks/../feature_extraction_scripts/physical_feature_extraction_scripts/seis_feature.py:101: RuntimeWarning: invalid value encountered in double_scalars\n",
      "  'Gamma': lambda: ((np.dot(self.freq, self.ft**(2)) / np.sum(self.ft**(2)))**(2) - ((np.dot(self.freq**(2), self.ft**(2)) / np.sum(self.ft**(2)))**(0.5))**(2))**(0.5),\n",
      "100%|██████████| 2/2 [00:00<00:00, 11.60it/s]\n",
      "100%|██████████| 2/2 [00:00<00:00, 1109.90it/s]\n",
      "100%|██████████| 2/2 [00:00<00:00, 1836.79it/s]\n",
      "100%|██████████| 2/2 [00:00<00:00, 1885.93it/s]\n",
      "100%|██████████| 2/2 [00:00<00:00, 1705.35it/s]"
     ]
    },
    {
     "name": "stdout",
     "output_type": "stream",
     "text": [
      "1000\n"
     ]
    },
    {
     "name": "stderr",
     "output_type": "stream",
     "text": [
      "\n",
      "  0%|          | 0/2 [00:00<?, ?it/s]/home/ak287/PNW_Seismic_Event_Classification/notebooks/../feature_extraction_scripts/physical_feature_extraction_scripts/seis_feature.py:101: RuntimeWarning: invalid value encountered in double_scalars\n",
      "  'Gamma': lambda: ((np.dot(self.freq, self.ft**(2)) / np.sum(self.ft**(2)))**(2) - ((np.dot(self.freq**(2), self.ft**(2)) / np.sum(self.ft**(2)))**(0.5))**(2))**(0.5),\n",
      "100%|██████████| 2/2 [00:00<00:00, 11.23it/s]\n",
      "  0%|          | 0/2 [00:00<?, ?it/s]/home/ak287/PNW_Seismic_Event_Classification/notebooks/../feature_extraction_scripts/physical_feature_extraction_scripts/seis_feature.py:101: RuntimeWarning: invalid value encountered in double_scalars\n",
      "  'Gamma': lambda: ((np.dot(self.freq, self.ft**(2)) / np.sum(self.ft**(2)))**(2) - ((np.dot(self.freq**(2), self.ft**(2)) / np.sum(self.ft**(2)))**(0.5))**(2))**(0.5),\n",
      "100%|██████████| 2/2 [00:00<00:00, 13.40it/s]\n",
      "  0%|          | 0/2 [00:00<?, ?it/s]/home/ak287/PNW_Seismic_Event_Classification/notebooks/../feature_extraction_scripts/physical_feature_extraction_scripts/seis_feature.py:101: RuntimeWarning: invalid value encountered in double_scalars\n",
      "  'Gamma': lambda: ((np.dot(self.freq, self.ft**(2)) / np.sum(self.ft**(2)))**(2) - ((np.dot(self.freq**(2), self.ft**(2)) / np.sum(self.ft**(2)))**(0.5))**(2))**(0.5),\n",
      "100%|██████████| 2/2 [00:00<00:00, 10.65it/s]\n",
      "  0%|          | 0/2 [00:00<?, ?it/s]/home/ak287/PNW_Seismic_Event_Classification/notebooks/../feature_extraction_scripts/physical_feature_extraction_scripts/seis_feature.py:101: RuntimeWarning: invalid value encountered in double_scalars\n",
      "  'Gamma': lambda: ((np.dot(self.freq, self.ft**(2)) / np.sum(self.ft**(2)))**(2) - ((np.dot(self.freq**(2), self.ft**(2)) / np.sum(self.ft**(2)))**(0.5))**(2))**(0.5),\n",
      "100%|██████████| 2/2 [00:00<00:00, 12.36it/s]\n",
      "100%|██████████| 2/2 [00:00<00:00, 1290.95it/s]\n",
      "100%|██████████| 2/2 [00:00<00:00, 1823.21it/s]\n",
      "100%|██████████| 2/2 [00:00<00:00, 1736.05it/s]\n",
      "100%|██████████| 2/2 [00:00<00:00, 1753.84it/s]"
     ]
    },
    {
     "name": "stdout",
     "output_type": "stream",
     "text": [
      "6000\n"
     ]
    },
    {
     "name": "stderr",
     "output_type": "stream",
     "text": [
      "\n",
      "  0%|          | 0/2 [00:00<?, ?it/s]/home/ak287/PNW_Seismic_Event_Classification/notebooks/../feature_extraction_scripts/physical_feature_extraction_scripts/seis_feature.py:101: RuntimeWarning: invalid value encountered in double_scalars\n",
      "  'Gamma': lambda: ((np.dot(self.freq, self.ft**(2)) / np.sum(self.ft**(2)))**(2) - ((np.dot(self.freq**(2), self.ft**(2)) / np.sum(self.ft**(2)))**(0.5))**(2))**(0.5),\n",
      "100%|██████████| 2/2 [00:00<00:00, 10.19it/s]\n",
      "  0%|          | 0/2 [00:00<?, ?it/s]/home/ak287/PNW_Seismic_Event_Classification/notebooks/../feature_extraction_scripts/physical_feature_extraction_scripts/seis_feature.py:101: RuntimeWarning: invalid value encountered in double_scalars\n",
      "  'Gamma': lambda: ((np.dot(self.freq, self.ft**(2)) / np.sum(self.ft**(2)))**(2) - ((np.dot(self.freq**(2), self.ft**(2)) / np.sum(self.ft**(2)))**(0.5))**(2))**(0.5),\n",
      "100%|██████████| 2/2 [00:00<00:00,  6.49it/s]\n",
      "  0%|          | 0/2 [00:00<?, ?it/s]/home/ak287/PNW_Seismic_Event_Classification/notebooks/../feature_extraction_scripts/physical_feature_extraction_scripts/seis_feature.py:101: RuntimeWarning: invalid value encountered in double_scalars\n",
      "  'Gamma': lambda: ((np.dot(self.freq, self.ft**(2)) / np.sum(self.ft**(2)))**(2) - ((np.dot(self.freq**(2), self.ft**(2)) / np.sum(self.ft**(2)))**(0.5))**(2))**(0.5),\n",
      "100%|██████████| 2/2 [00:00<00:00,  6.81it/s]\n",
      "  0%|          | 0/2 [00:00<?, ?it/s]/home/ak287/PNW_Seismic_Event_Classification/notebooks/../feature_extraction_scripts/physical_feature_extraction_scripts/seis_feature.py:101: RuntimeWarning: invalid value encountered in double_scalars\n",
      "  'Gamma': lambda: ((np.dot(self.freq, self.ft**(2)) / np.sum(self.ft**(2)))**(2) - ((np.dot(self.freq**(2), self.ft**(2)) / np.sum(self.ft**(2)))**(0.5))**(2))**(0.5),\n",
      "100%|██████████| 2/2 [00:00<00:00, 10.46it/s]\n",
      "100%|██████████| 2/2 [00:00<00:00, 1198.37it/s]\n",
      "100%|██████████| 2/2 [00:00<00:00, 1701.20it/s]\n",
      "100%|██████████| 2/2 [00:00<00:00, 1817.29it/s]\n",
      "100%|██████████| 2/2 [00:00<00:00, 1726.41it/s]"
     ]
    },
    {
     "name": "stdout",
     "output_type": "stream",
     "text": [
      "1600\n"
     ]
    },
    {
     "name": "stderr",
     "output_type": "stream",
     "text": [
      "\n",
      "  0%|          | 0/2 [00:00<?, ?it/s]/home/ak287/PNW_Seismic_Event_Classification/notebooks/../feature_extraction_scripts/physical_feature_extraction_scripts/seis_feature.py:101: RuntimeWarning: invalid value encountered in double_scalars\n",
      "  'Gamma': lambda: ((np.dot(self.freq, self.ft**(2)) / np.sum(self.ft**(2)))**(2) - ((np.dot(self.freq**(2), self.ft**(2)) / np.sum(self.ft**(2)))**(0.5))**(2))**(0.5),\n",
      "100%|██████████| 2/2 [00:00<00:00, 10.85it/s]\n",
      "  0%|          | 0/2 [00:00<?, ?it/s]/home/ak287/PNW_Seismic_Event_Classification/notebooks/../feature_extraction_scripts/physical_feature_extraction_scripts/seis_feature.py:101: RuntimeWarning: invalid value encountered in double_scalars\n",
      "  'Gamma': lambda: ((np.dot(self.freq, self.ft**(2)) / np.sum(self.ft**(2)))**(2) - ((np.dot(self.freq**(2), self.ft**(2)) / np.sum(self.ft**(2)))**(0.5))**(2))**(0.5),\n",
      "100%|██████████| 2/2 [00:00<00:00, 14.60it/s]\n",
      "  0%|          | 0/2 [00:00<?, ?it/s]/home/ak287/PNW_Seismic_Event_Classification/notebooks/../feature_extraction_scripts/physical_feature_extraction_scripts/seis_feature.py:101: RuntimeWarning: invalid value encountered in double_scalars\n",
      "  'Gamma': lambda: ((np.dot(self.freq, self.ft**(2)) / np.sum(self.ft**(2)))**(2) - ((np.dot(self.freq**(2), self.ft**(2)) / np.sum(self.ft**(2)))**(0.5))**(2))**(0.5),\n",
      "100%|██████████| 2/2 [00:00<00:00, 11.06it/s]\n",
      "  0%|          | 0/2 [00:00<?, ?it/s]/home/ak287/PNW_Seismic_Event_Classification/notebooks/../feature_extraction_scripts/physical_feature_extraction_scripts/seis_feature.py:101: RuntimeWarning: invalid value encountered in double_scalars\n",
      "  'Gamma': lambda: ((np.dot(self.freq, self.ft**(2)) / np.sum(self.ft**(2)))**(2) - ((np.dot(self.freq**(2), self.ft**(2)) / np.sum(self.ft**(2)))**(0.5))**(2))**(0.5),\n",
      "100%|██████████| 2/2 [00:00<00:00, 11.11it/s]\n",
      "100%|██████████| 2/2 [00:00<00:00, 1164.92it/s]\n",
      "100%|██████████| 2/2 [00:00<00:00, 1726.41it/s]\n",
      "100%|██████████| 2/2 [00:00<00:00, 1818.47it/s]\n",
      "100%|██████████| 2/2 [00:00<00:00, 1742.91it/s]"
     ]
    },
    {
     "name": "stdout",
     "output_type": "stream",
     "text": [
      "2000\n"
     ]
    },
    {
     "name": "stderr",
     "output_type": "stream",
     "text": [
      "\n",
      "  0%|          | 0/2 [00:00<?, ?it/s]/home/ak287/PNW_Seismic_Event_Classification/notebooks/../feature_extraction_scripts/physical_feature_extraction_scripts/seis_feature.py:101: RuntimeWarning: invalid value encountered in double_scalars\n",
      "  'Gamma': lambda: ((np.dot(self.freq, self.ft**(2)) / np.sum(self.ft**(2)))**(2) - ((np.dot(self.freq**(2), self.ft**(2)) / np.sum(self.ft**(2)))**(0.5))**(2))**(0.5),\n",
      "100%|██████████| 2/2 [00:00<00:00,  9.06it/s]\n",
      "  0%|          | 0/2 [00:00<?, ?it/s]/home/ak287/PNW_Seismic_Event_Classification/notebooks/../feature_extraction_scripts/physical_feature_extraction_scripts/seis_feature.py:101: RuntimeWarning: invalid value encountered in double_scalars\n",
      "  'Gamma': lambda: ((np.dot(self.freq, self.ft**(2)) / np.sum(self.ft**(2)))**(2) - ((np.dot(self.freq**(2), self.ft**(2)) / np.sum(self.ft**(2)))**(0.5))**(2))**(0.5),\n",
      "100%|██████████| 2/2 [00:00<00:00, 10.81it/s]\n",
      "  0%|          | 0/2 [00:00<?, ?it/s]/home/ak287/PNW_Seismic_Event_Classification/notebooks/../feature_extraction_scripts/physical_feature_extraction_scripts/seis_feature.py:101: RuntimeWarning: invalid value encountered in double_scalars\n",
      "  'Gamma': lambda: ((np.dot(self.freq, self.ft**(2)) / np.sum(self.ft**(2)))**(2) - ((np.dot(self.freq**(2), self.ft**(2)) / np.sum(self.ft**(2)))**(0.5))**(2))**(0.5),\n",
      "100%|██████████| 2/2 [00:00<00:00, 12.23it/s]\n",
      "  0%|          | 0/2 [00:00<?, ?it/s]/home/ak287/PNW_Seismic_Event_Classification/notebooks/../feature_extraction_scripts/physical_feature_extraction_scripts/seis_feature.py:101: RuntimeWarning: invalid value encountered in double_scalars\n",
      "  'Gamma': lambda: ((np.dot(self.freq, self.ft**(2)) / np.sum(self.ft**(2)))**(2) - ((np.dot(self.freq**(2), self.ft**(2)) / np.sum(self.ft**(2)))**(0.5))**(2))**(0.5),\n",
      "100%|██████████| 2/2 [00:00<00:00, 11.36it/s]\n",
      "100%|██████████| 2/2 [00:00<00:00, 1055.97it/s]\n",
      "100%|██████████| 2/2 [00:00<00:00, 1358.92it/s]\n",
      "100%|██████████| 2/2 [00:00<00:00, 1753.84it/s]\n",
      "100%|██████████| 2/2 [00:00<00:00, 1651.95it/s]"
     ]
    },
    {
     "name": "stdout",
     "output_type": "stream",
     "text": [
      "2800\n"
     ]
    },
    {
     "name": "stderr",
     "output_type": "stream",
     "text": [
      "\n",
      "  0%|          | 0/2 [00:00<?, ?it/s]/home/ak287/PNW_Seismic_Event_Classification/notebooks/../feature_extraction_scripts/physical_feature_extraction_scripts/seis_feature.py:101: RuntimeWarning: invalid value encountered in double_scalars\n",
      "  'Gamma': lambda: ((np.dot(self.freq, self.ft**(2)) / np.sum(self.ft**(2)))**(2) - ((np.dot(self.freq**(2), self.ft**(2)) / np.sum(self.ft**(2)))**(0.5))**(2))**(0.5),\n",
      "100%|██████████| 2/2 [00:00<00:00,  9.31it/s]\n",
      "  0%|          | 0/2 [00:00<?, ?it/s]/home/ak287/PNW_Seismic_Event_Classification/notebooks/../feature_extraction_scripts/physical_feature_extraction_scripts/seis_feature.py:101: RuntimeWarning: invalid value encountered in double_scalars\n",
      "  'Gamma': lambda: ((np.dot(self.freq, self.ft**(2)) / np.sum(self.ft**(2)))**(2) - ((np.dot(self.freq**(2), self.ft**(2)) / np.sum(self.ft**(2)))**(0.5))**(2))**(0.5),\n",
      "100%|██████████| 2/2 [00:00<00:00,  9.69it/s]\n",
      "  0%|          | 0/2 [00:00<?, ?it/s]/home/ak287/PNW_Seismic_Event_Classification/notebooks/../feature_extraction_scripts/physical_feature_extraction_scripts/seis_feature.py:101: RuntimeWarning: invalid value encountered in double_scalars\n",
      "  'Gamma': lambda: ((np.dot(self.freq, self.ft**(2)) / np.sum(self.ft**(2)))**(2) - ((np.dot(self.freq**(2), self.ft**(2)) / np.sum(self.ft**(2)))**(0.5))**(2))**(0.5),\n",
      "100%|██████████| 2/2 [00:00<00:00,  9.54it/s]\n",
      "  0%|          | 0/2 [00:00<?, ?it/s]/home/ak287/PNW_Seismic_Event_Classification/notebooks/../feature_extraction_scripts/physical_feature_extraction_scripts/seis_feature.py:101: RuntimeWarning: invalid value encountered in double_scalars\n",
      "  'Gamma': lambda: ((np.dot(self.freq, self.ft**(2)) / np.sum(self.ft**(2)))**(2) - ((np.dot(self.freq**(2), self.ft**(2)) / np.sum(self.ft**(2)))**(0.5))**(2))**(0.5),\n",
      "100%|██████████| 2/2 [00:00<00:00,  9.49it/s]\n",
      "100%|██████████| 2/2 [00:00<00:00, 952.39it/s]\n",
      "100%|██████████| 2/2 [00:00<00:00, 1662.76it/s]\n",
      "100%|██████████| 2/2 [00:00<00:00, 1720.03it/s]\n",
      "100%|██████████| 2/2 [00:00<00:00, 1611.03it/s]"
     ]
    },
    {
     "name": "stdout",
     "output_type": "stream",
     "text": [
      "1000\n"
     ]
    },
    {
     "name": "stderr",
     "output_type": "stream",
     "text": [
      "\n",
      "  0%|          | 0/2 [00:00<?, ?it/s]/home/ak287/PNW_Seismic_Event_Classification/notebooks/../feature_extraction_scripts/physical_feature_extraction_scripts/seis_feature.py:101: RuntimeWarning: invalid value encountered in double_scalars\n",
      "  'Gamma': lambda: ((np.dot(self.freq, self.ft**(2)) / np.sum(self.ft**(2)))**(2) - ((np.dot(self.freq**(2), self.ft**(2)) / np.sum(self.ft**(2)))**(0.5))**(2))**(0.5),\n",
      "100%|██████████| 2/2 [00:00<00:00, 10.36it/s]\n",
      "  0%|          | 0/2 [00:00<?, ?it/s]/home/ak287/PNW_Seismic_Event_Classification/notebooks/../feature_extraction_scripts/physical_feature_extraction_scripts/seis_feature.py:101: RuntimeWarning: invalid value encountered in double_scalars\n",
      "  'Gamma': lambda: ((np.dot(self.freq, self.ft**(2)) / np.sum(self.ft**(2)))**(2) - ((np.dot(self.freq**(2), self.ft**(2)) / np.sum(self.ft**(2)))**(0.5))**(2))**(0.5),\n",
      "100%|██████████| 2/2 [00:00<00:00, 13.23it/s]\n",
      "  0%|          | 0/2 [00:00<?, ?it/s]/home/ak287/PNW_Seismic_Event_Classification/notebooks/../feature_extraction_scripts/physical_feature_extraction_scripts/seis_feature.py:101: RuntimeWarning: invalid value encountered in double_scalars\n",
      "  'Gamma': lambda: ((np.dot(self.freq, self.ft**(2)) / np.sum(self.ft**(2)))**(2) - ((np.dot(self.freq**(2), self.ft**(2)) / np.sum(self.ft**(2)))**(0.5))**(2))**(0.5),\n",
      "100%|██████████| 2/2 [00:00<00:00, 18.84it/s]\n",
      "  0%|          | 0/2 [00:00<?, ?it/s]/home/ak287/PNW_Seismic_Event_Classification/notebooks/../feature_extraction_scripts/physical_feature_extraction_scripts/seis_feature.py:101: RuntimeWarning: invalid value encountered in double_scalars\n",
      "  'Gamma': lambda: ((np.dot(self.freq, self.ft**(2)) / np.sum(self.ft**(2)))**(2) - ((np.dot(self.freq**(2), self.ft**(2)) / np.sum(self.ft**(2)))**(0.5))**(2))**(0.5),\n",
      "100%|██████████| 2/2 [00:00<00:00, 11.18it/s]\n",
      "100%|██████████| 2/2 [00:00<00:00, 1064.27it/s]\n",
      "100%|██████████| 2/2 [00:00<00:00, 1690.23it/s]\n",
      "100%|██████████| 2/2 [00:00<00:00, 1823.61it/s]\n",
      "100%|██████████| 2/2 [00:00<00:00, 1621.30it/s]"
     ]
    },
    {
     "name": "stdout",
     "output_type": "stream",
     "text": [
      "6000\n"
     ]
    },
    {
     "name": "stderr",
     "output_type": "stream",
     "text": [
      "\n",
      "  0%|          | 0/2 [00:00<?, ?it/s]/home/ak287/PNW_Seismic_Event_Classification/notebooks/../feature_extraction_scripts/physical_feature_extraction_scripts/seis_feature.py:101: RuntimeWarning: invalid value encountered in double_scalars\n",
      "  'Gamma': lambda: ((np.dot(self.freq, self.ft**(2)) / np.sum(self.ft**(2)))**(2) - ((np.dot(self.freq**(2), self.ft**(2)) / np.sum(self.ft**(2)))**(0.5))**(2))**(0.5),\n",
      "100%|██████████| 2/2 [00:00<00:00,  6.97it/s]\n",
      "  0%|          | 0/2 [00:00<?, ?it/s]/home/ak287/PNW_Seismic_Event_Classification/notebooks/../feature_extraction_scripts/physical_feature_extraction_scripts/seis_feature.py:101: RuntimeWarning: invalid value encountered in double_scalars\n",
      "  'Gamma': lambda: ((np.dot(self.freq, self.ft**(2)) / np.sum(self.ft**(2)))**(2) - ((np.dot(self.freq**(2), self.ft**(2)) / np.sum(self.ft**(2)))**(0.5))**(2))**(0.5),\n",
      "100%|██████████| 2/2 [00:00<00:00,  8.20it/s]\n",
      "  0%|          | 0/2 [00:00<?, ?it/s]/home/ak287/PNW_Seismic_Event_Classification/notebooks/../feature_extraction_scripts/physical_feature_extraction_scripts/seis_feature.py:101: RuntimeWarning: invalid value encountered in double_scalars\n",
      "  'Gamma': lambda: ((np.dot(self.freq, self.ft**(2)) / np.sum(self.ft**(2)))**(2) - ((np.dot(self.freq**(2), self.ft**(2)) / np.sum(self.ft**(2)))**(0.5))**(2))**(0.5),\n",
      "100%|██████████| 2/2 [00:00<00:00,  7.41it/s]\n",
      "  0%|          | 0/2 [00:00<?, ?it/s]/home/ak287/PNW_Seismic_Event_Classification/notebooks/../feature_extraction_scripts/physical_feature_extraction_scripts/seis_feature.py:101: RuntimeWarning: invalid value encountered in double_scalars\n",
      "  'Gamma': lambda: ((np.dot(self.freq, self.ft**(2)) / np.sum(self.ft**(2)))**(2) - ((np.dot(self.freq**(2), self.ft**(2)) / np.sum(self.ft**(2)))**(0.5))**(2))**(0.5),\n",
      "100%|██████████| 2/2 [00:00<00:00,  8.79it/s]\n",
      "100%|██████████| 2/2 [00:00<00:00, 1056.23it/s]\n",
      "100%|██████████| 2/2 [00:00<00:00, 1749.45it/s]\n",
      "100%|██████████| 2/2 [00:00<00:00, 1888.05it/s]\n",
      "100%|██████████| 2/2 [00:00<00:00, 1649.35it/s]"
     ]
    },
    {
     "name": "stdout",
     "output_type": "stream",
     "text": [
      "2000\n"
     ]
    },
    {
     "name": "stderr",
     "output_type": "stream",
     "text": [
      "\n",
      "  0%|          | 0/2 [00:00<?, ?it/s]/home/ak287/PNW_Seismic_Event_Classification/notebooks/../feature_extraction_scripts/physical_feature_extraction_scripts/seis_feature.py:101: RuntimeWarning: invalid value encountered in double_scalars\n",
      "  'Gamma': lambda: ((np.dot(self.freq, self.ft**(2)) / np.sum(self.ft**(2)))**(2) - ((np.dot(self.freq**(2), self.ft**(2)) / np.sum(self.ft**(2)))**(0.5))**(2))**(0.5),\n",
      "100%|██████████| 2/2 [00:00<00:00,  9.77it/s]\n",
      "  0%|          | 0/2 [00:00<?, ?it/s]/home/ak287/PNW_Seismic_Event_Classification/notebooks/../feature_extraction_scripts/physical_feature_extraction_scripts/seis_feature.py:101: RuntimeWarning: invalid value encountered in double_scalars\n",
      "  'Gamma': lambda: ((np.dot(self.freq, self.ft**(2)) / np.sum(self.ft**(2)))**(2) - ((np.dot(self.freq**(2), self.ft**(2)) / np.sum(self.ft**(2)))**(0.5))**(2))**(0.5),\n",
      "100%|██████████| 2/2 [00:00<00:00, 12.40it/s]\n",
      "  0%|          | 0/2 [00:00<?, ?it/s]/home/ak287/PNW_Seismic_Event_Classification/notebooks/../feature_extraction_scripts/physical_feature_extraction_scripts/seis_feature.py:101: RuntimeWarning: invalid value encountered in double_scalars\n",
      "  'Gamma': lambda: ((np.dot(self.freq, self.ft**(2)) / np.sum(self.ft**(2)))**(2) - ((np.dot(self.freq**(2), self.ft**(2)) / np.sum(self.ft**(2)))**(0.5))**(2))**(0.5),\n",
      "100%|██████████| 2/2 [00:00<00:00, 10.73it/s]\n",
      "  0%|          | 0/2 [00:00<?, ?it/s]/home/ak287/PNW_Seismic_Event_Classification/notebooks/../feature_extraction_scripts/physical_feature_extraction_scripts/seis_feature.py:101: RuntimeWarning: invalid value encountered in double_scalars\n",
      "  'Gamma': lambda: ((np.dot(self.freq, self.ft**(2)) / np.sum(self.ft**(2)))**(2) - ((np.dot(self.freq**(2), self.ft**(2)) / np.sum(self.ft**(2)))**(0.5))**(2))**(0.5),\n",
      "100%|██████████| 2/2 [00:00<00:00,  9.55it/s]\n",
      "100%|██████████| 2/2 [00:00<00:00, 1222.83it/s]\n",
      "100%|██████████| 2/2 [00:00<00:00, 1561.54it/s]\n",
      "100%|██████████| 2/2 [00:00<00:00, 1787.47it/s]\n",
      "100%|██████████| 2/2 [00:00<00:00, 1665.40it/s]"
     ]
    },
    {
     "name": "stdout",
     "output_type": "stream",
     "text": [
      "2500\n"
     ]
    },
    {
     "name": "stderr",
     "output_type": "stream",
     "text": [
      "\n",
      "  0%|          | 0/2 [00:00<?, ?it/s]/home/ak287/PNW_Seismic_Event_Classification/notebooks/../feature_extraction_scripts/physical_feature_extraction_scripts/seis_feature.py:101: RuntimeWarning: invalid value encountered in double_scalars\n",
      "  'Gamma': lambda: ((np.dot(self.freq, self.ft**(2)) / np.sum(self.ft**(2)))**(2) - ((np.dot(self.freq**(2), self.ft**(2)) / np.sum(self.ft**(2)))**(0.5))**(2))**(0.5),\n",
      "100%|██████████| 2/2 [00:00<00:00, 10.81it/s]\n",
      "  0%|          | 0/2 [00:00<?, ?it/s]/home/ak287/PNW_Seismic_Event_Classification/notebooks/../feature_extraction_scripts/physical_feature_extraction_scripts/seis_feature.py:101: RuntimeWarning: invalid value encountered in double_scalars\n",
      "  'Gamma': lambda: ((np.dot(self.freq, self.ft**(2)) / np.sum(self.ft**(2)))**(2) - ((np.dot(self.freq**(2), self.ft**(2)) / np.sum(self.ft**(2)))**(0.5))**(2))**(0.5),\n",
      "100%|██████████| 2/2 [00:00<00:00,  9.87it/s]\n",
      "  0%|          | 0/2 [00:00<?, ?it/s]/home/ak287/PNW_Seismic_Event_Classification/notebooks/../feature_extraction_scripts/physical_feature_extraction_scripts/seis_feature.py:101: RuntimeWarning: invalid value encountered in double_scalars\n",
      "  'Gamma': lambda: ((np.dot(self.freq, self.ft**(2)) / np.sum(self.ft**(2)))**(2) - ((np.dot(self.freq**(2), self.ft**(2)) / np.sum(self.ft**(2)))**(0.5))**(2))**(0.5),\n",
      "100%|██████████| 2/2 [00:00<00:00, 11.76it/s]\n",
      "  0%|          | 0/2 [00:00<?, ?it/s]/home/ak287/PNW_Seismic_Event_Classification/notebooks/../feature_extraction_scripts/physical_feature_extraction_scripts/seis_feature.py:101: RuntimeWarning: invalid value encountered in double_scalars\n",
      "  'Gamma': lambda: ((np.dot(self.freq, self.ft**(2)) / np.sum(self.ft**(2)))**(2) - ((np.dot(self.freq**(2), self.ft**(2)) / np.sum(self.ft**(2)))**(0.5))**(2))**(0.5),\n",
      "100%|██████████| 2/2 [00:00<00:00,  9.02it/s]\n",
      "100%|██████████| 2/2 [00:00<00:00, 1218.21it/s]\n",
      "100%|██████████| 2/2 [00:00<00:00, 1626.96it/s]\n",
      "100%|██████████| 2/2 [00:00<00:00, 1729.25it/s]\n",
      "100%|██████████| 2/2 [00:00<00:00, 1608.25it/s]"
     ]
    },
    {
     "name": "stdout",
     "output_type": "stream",
     "text": [
      "3500\n"
     ]
    },
    {
     "name": "stderr",
     "output_type": "stream",
     "text": [
      "\n",
      "  0%|          | 0/2 [00:00<?, ?it/s]/home/ak287/PNW_Seismic_Event_Classification/notebooks/../feature_extraction_scripts/physical_feature_extraction_scripts/seis_feature.py:101: RuntimeWarning: invalid value encountered in double_scalars\n",
      "  'Gamma': lambda: ((np.dot(self.freq, self.ft**(2)) / np.sum(self.ft**(2)))**(2) - ((np.dot(self.freq**(2), self.ft**(2)) / np.sum(self.ft**(2)))**(0.5))**(2))**(0.5),\n",
      "100%|██████████| 2/2 [00:00<00:00,  9.30it/s]\n",
      "  0%|          | 0/2 [00:00<?, ?it/s]/home/ak287/PNW_Seismic_Event_Classification/notebooks/../feature_extraction_scripts/physical_feature_extraction_scripts/seis_feature.py:101: RuntimeWarning: invalid value encountered in double_scalars\n",
      "  'Gamma': lambda: ((np.dot(self.freq, self.ft**(2)) / np.sum(self.ft**(2)))**(2) - ((np.dot(self.freq**(2), self.ft**(2)) / np.sum(self.ft**(2)))**(0.5))**(2))**(0.5),\n",
      "100%|██████████| 2/2 [00:00<00:00, 10.01it/s]\n",
      "  0%|          | 0/2 [00:00<?, ?it/s]/home/ak287/PNW_Seismic_Event_Classification/notebooks/../feature_extraction_scripts/physical_feature_extraction_scripts/seis_feature.py:101: RuntimeWarning: invalid value encountered in double_scalars\n",
      "  'Gamma': lambda: ((np.dot(self.freq, self.ft**(2)) / np.sum(self.ft**(2)))**(2) - ((np.dot(self.freq**(2), self.ft**(2)) / np.sum(self.ft**(2)))**(0.5))**(2))**(0.5),\n",
      "100%|██████████| 2/2 [00:00<00:00,  9.40it/s]\n",
      "  0%|          | 0/2 [00:00<?, ?it/s]/home/ak287/PNW_Seismic_Event_Classification/notebooks/../feature_extraction_scripts/physical_feature_extraction_scripts/seis_feature.py:101: RuntimeWarning: invalid value encountered in double_scalars\n",
      "  'Gamma': lambda: ((np.dot(self.freq, self.ft**(2)) / np.sum(self.ft**(2)))**(2) - ((np.dot(self.freq**(2), self.ft**(2)) / np.sum(self.ft**(2)))**(0.5))**(2))**(0.5),\n",
      "100%|██████████| 2/2 [00:00<00:00,  9.75it/s]\n",
      "100%|██████████| 2/2 [00:00<00:00, 1166.87it/s]\n",
      "100%|██████████| 2/2 [00:00<00:00, 1680.41it/s]\n",
      "100%|██████████| 2/2 [00:00<00:00, 1873.71it/s]\n",
      "100%|██████████| 2/2 [00:00<00:00, 1700.85it/s]"
     ]
    },
    {
     "name": "stdout",
     "output_type": "stream",
     "text": [
      "1250\n"
     ]
    },
    {
     "name": "stderr",
     "output_type": "stream",
     "text": [
      "\n",
      "  0%|          | 0/2 [00:00<?, ?it/s]/home/ak287/PNW_Seismic_Event_Classification/notebooks/../feature_extraction_scripts/physical_feature_extraction_scripts/seis_feature.py:101: RuntimeWarning: invalid value encountered in double_scalars\n",
      "  'Gamma': lambda: ((np.dot(self.freq, self.ft**(2)) / np.sum(self.ft**(2)))**(2) - ((np.dot(self.freq**(2), self.ft**(2)) / np.sum(self.ft**(2)))**(0.5))**(2))**(0.5),\n",
      "100%|██████████| 2/2 [00:00<00:00, 10.28it/s]\n",
      "  0%|          | 0/2 [00:00<?, ?it/s]/home/ak287/PNW_Seismic_Event_Classification/notebooks/../feature_extraction_scripts/physical_feature_extraction_scripts/seis_feature.py:101: RuntimeWarning: invalid value encountered in double_scalars\n",
      "  'Gamma': lambda: ((np.dot(self.freq, self.ft**(2)) / np.sum(self.ft**(2)))**(2) - ((np.dot(self.freq**(2), self.ft**(2)) / np.sum(self.ft**(2)))**(0.5))**(2))**(0.5),\n",
      "100%|██████████| 2/2 [00:00<00:00, 12.02it/s]\n",
      "  0%|          | 0/2 [00:00<?, ?it/s]/home/ak287/PNW_Seismic_Event_Classification/notebooks/../feature_extraction_scripts/physical_feature_extraction_scripts/seis_feature.py:101: RuntimeWarning: invalid value encountered in double_scalars\n",
      "  'Gamma': lambda: ((np.dot(self.freq, self.ft**(2)) / np.sum(self.ft**(2)))**(2) - ((np.dot(self.freq**(2), self.ft**(2)) / np.sum(self.ft**(2)))**(0.5))**(2))**(0.5),\n",
      "100%|██████████| 2/2 [00:00<00:00, 10.28it/s]\n",
      "  0%|          | 0/2 [00:00<?, ?it/s]/home/ak287/PNW_Seismic_Event_Classification/notebooks/../feature_extraction_scripts/physical_feature_extraction_scripts/seis_feature.py:101: RuntimeWarning: invalid value encountered in double_scalars\n",
      "  'Gamma': lambda: ((np.dot(self.freq, self.ft**(2)) / np.sum(self.ft**(2)))**(2) - ((np.dot(self.freq**(2), self.ft**(2)) / np.sum(self.ft**(2)))**(0.5))**(2))**(0.5),\n",
      "100%|██████████| 2/2 [00:00<00:00, 10.75it/s]\n",
      "100%|██████████| 2/2 [00:00<00:00, 838.36it/s]\n",
      "100%|██████████| 2/2 [00:00<00:00, 1449.56it/s]\n",
      "100%|██████████| 2/2 [00:00<00:00, 1809.06it/s]\n",
      "100%|██████████| 2/2 [00:00<00:00, 1642.57it/s]\n"
     ]
    },
    {
     "name": "stdout",
     "output_type": "stream",
     "text": [
      "7500\n"
     ]
    },
    {
     "name": "stderr",
     "output_type": "stream",
     "text": [
      "  0%|          | 0/2 [00:00<?, ?it/s]/home/ak287/PNW_Seismic_Event_Classification/notebooks/../feature_extraction_scripts/physical_feature_extraction_scripts/seis_feature.py:101: RuntimeWarning: invalid value encountered in double_scalars\n",
      "  'Gamma': lambda: ((np.dot(self.freq, self.ft**(2)) / np.sum(self.ft**(2)))**(2) - ((np.dot(self.freq**(2), self.ft**(2)) / np.sum(self.ft**(2)))**(0.5))**(2))**(0.5),\n",
      "100%|██████████| 2/2 [00:00<00:00,  7.01it/s]\n",
      "  0%|          | 0/2 [00:00<?, ?it/s]/home/ak287/PNW_Seismic_Event_Classification/notebooks/../feature_extraction_scripts/physical_feature_extraction_scripts/seis_feature.py:101: RuntimeWarning: invalid value encountered in double_scalars\n",
      "  'Gamma': lambda: ((np.dot(self.freq, self.ft**(2)) / np.sum(self.ft**(2)))**(2) - ((np.dot(self.freq**(2), self.ft**(2)) / np.sum(self.ft**(2)))**(0.5))**(2))**(0.5),\n",
      "100%|██████████| 2/2 [00:00<00:00,  6.48it/s]\n",
      "  0%|          | 0/2 [00:00<?, ?it/s]/home/ak287/PNW_Seismic_Event_Classification/notebooks/../feature_extraction_scripts/physical_feature_extraction_scripts/seis_feature.py:101: RuntimeWarning: invalid value encountered in double_scalars\n",
      "  'Gamma': lambda: ((np.dot(self.freq, self.ft**(2)) / np.sum(self.ft**(2)))**(2) - ((np.dot(self.freq**(2), self.ft**(2)) / np.sum(self.ft**(2)))**(0.5))**(2))**(0.5),\n",
      "100%|██████████| 2/2 [00:00<00:00,  6.59it/s]\n",
      "  0%|          | 0/2 [00:00<?, ?it/s]/home/ak287/PNW_Seismic_Event_Classification/notebooks/../feature_extraction_scripts/physical_feature_extraction_scripts/seis_feature.py:101: RuntimeWarning: invalid value encountered in double_scalars\n",
      "  'Gamma': lambda: ((np.dot(self.freq, self.ft**(2)) / np.sum(self.ft**(2)))**(2) - ((np.dot(self.freq**(2), self.ft**(2)) / np.sum(self.ft**(2)))**(0.5))**(2))**(0.5),\n",
      "100%|██████████| 2/2 [00:00<00:00,  6.57it/s]\n",
      "100%|██████████| 2/2 [00:00<00:00, 1067.93it/s]\n",
      "100%|██████████| 2/2 [00:00<00:00, 1658.16it/s]\n",
      "100%|██████████| 2/2 [00:00<00:00, 1715.11it/s]\n",
      "100%|██████████| 2/2 [00:00<00:00, 1646.76it/s]"
     ]
    },
    {
     "name": "stdout",
     "output_type": "stream",
     "text": [
      "2000\n"
     ]
    },
    {
     "name": "stderr",
     "output_type": "stream",
     "text": [
      "\n",
      "  0%|          | 0/2 [00:00<?, ?it/s]/home/ak287/PNW_Seismic_Event_Classification/notebooks/../feature_extraction_scripts/physical_feature_extraction_scripts/seis_feature.py:101: RuntimeWarning: invalid value encountered in double_scalars\n",
      "  'Gamma': lambda: ((np.dot(self.freq, self.ft**(2)) / np.sum(self.ft**(2)))**(2) - ((np.dot(self.freq**(2), self.ft**(2)) / np.sum(self.ft**(2)))**(0.5))**(2))**(0.5),\n",
      "100%|██████████| 2/2 [00:00<00:00, 10.17it/s]\n",
      "  0%|          | 0/2 [00:00<?, ?it/s]/home/ak287/PNW_Seismic_Event_Classification/notebooks/../feature_extraction_scripts/physical_feature_extraction_scripts/seis_feature.py:101: RuntimeWarning: invalid value encountered in double_scalars\n",
      "  'Gamma': lambda: ((np.dot(self.freq, self.ft**(2)) / np.sum(self.ft**(2)))**(2) - ((np.dot(self.freq**(2), self.ft**(2)) / np.sum(self.ft**(2)))**(0.5))**(2))**(0.5),\n",
      "100%|██████████| 2/2 [00:00<00:00, 12.20it/s]\n",
      "  0%|          | 0/2 [00:00<?, ?it/s]/home/ak287/PNW_Seismic_Event_Classification/notebooks/../feature_extraction_scripts/physical_feature_extraction_scripts/seis_feature.py:101: RuntimeWarning: invalid value encountered in double_scalars\n",
      "  'Gamma': lambda: ((np.dot(self.freq, self.ft**(2)) / np.sum(self.ft**(2)))**(2) - ((np.dot(self.freq**(2), self.ft**(2)) / np.sum(self.ft**(2)))**(0.5))**(2))**(0.5),\n",
      "100%|██████████| 2/2 [00:00<00:00,  9.39it/s]\n",
      "  0%|          | 0/2 [00:00<?, ?it/s]/home/ak287/PNW_Seismic_Event_Classification/notebooks/../feature_extraction_scripts/physical_feature_extraction_scripts/seis_feature.py:101: RuntimeWarning: invalid value encountered in double_scalars\n",
      "  'Gamma': lambda: ((np.dot(self.freq, self.ft**(2)) / np.sum(self.ft**(2)))**(2) - ((np.dot(self.freq**(2), self.ft**(2)) / np.sum(self.ft**(2)))**(0.5))**(2))**(0.5),\n",
      "100%|██████████| 2/2 [00:00<00:00, 10.57it/s]\n",
      "100%|██████████| 2/2 [00:00<00:00, 1016.43it/s]\n",
      "100%|██████████| 2/2 [00:00<00:00, 1643.86it/s]\n",
      "100%|██████████| 2/2 [00:00<00:00, 1650.98it/s]\n",
      "100%|██████████| 2/2 [00:00<00:00, 1741.10it/s]"
     ]
    },
    {
     "name": "stdout",
     "output_type": "stream",
     "text": [
      "2500\n"
     ]
    },
    {
     "name": "stderr",
     "output_type": "stream",
     "text": [
      "\n",
      "  0%|          | 0/2 [00:00<?, ?it/s]/home/ak287/PNW_Seismic_Event_Classification/notebooks/../feature_extraction_scripts/physical_feature_extraction_scripts/seis_feature.py:101: RuntimeWarning: invalid value encountered in double_scalars\n",
      "  'Gamma': lambda: ((np.dot(self.freq, self.ft**(2)) / np.sum(self.ft**(2)))**(2) - ((np.dot(self.freq**(2), self.ft**(2)) / np.sum(self.ft**(2)))**(0.5))**(2))**(0.5),\n",
      "100%|██████████| 2/2 [00:00<00:00,  9.39it/s]\n",
      "  0%|          | 0/2 [00:00<?, ?it/s]/home/ak287/PNW_Seismic_Event_Classification/notebooks/../feature_extraction_scripts/physical_feature_extraction_scripts/seis_feature.py:101: RuntimeWarning: invalid value encountered in double_scalars\n",
      "  'Gamma': lambda: ((np.dot(self.freq, self.ft**(2)) / np.sum(self.ft**(2)))**(2) - ((np.dot(self.freq**(2), self.ft**(2)) / np.sum(self.ft**(2)))**(0.5))**(2))**(0.5),\n",
      "100%|██████████| 2/2 [00:00<00:00, 13.48it/s]\n",
      "  0%|          | 0/2 [00:00<?, ?it/s]/home/ak287/PNW_Seismic_Event_Classification/notebooks/../feature_extraction_scripts/physical_feature_extraction_scripts/seis_feature.py:101: RuntimeWarning: invalid value encountered in double_scalars\n",
      "  'Gamma': lambda: ((np.dot(self.freq, self.ft**(2)) / np.sum(self.ft**(2)))**(2) - ((np.dot(self.freq**(2), self.ft**(2)) / np.sum(self.ft**(2)))**(0.5))**(2))**(0.5),\n",
      "100%|██████████| 2/2 [00:00<00:00, 10.28it/s]\n",
      "  0%|          | 0/2 [00:00<?, ?it/s]/home/ak287/PNW_Seismic_Event_Classification/notebooks/../feature_extraction_scripts/physical_feature_extraction_scripts/seis_feature.py:101: RuntimeWarning: invalid value encountered in double_scalars\n",
      "  'Gamma': lambda: ((np.dot(self.freq, self.ft**(2)) / np.sum(self.ft**(2)))**(2) - ((np.dot(self.freq**(2), self.ft**(2)) / np.sum(self.ft**(2)))**(0.5))**(2))**(0.5),\n",
      "100%|██████████| 2/2 [00:00<00:00,  9.57it/s]\n",
      "100%|██████████| 2/2 [00:00<00:00, 1018.78it/s]\n",
      "100%|██████████| 2/2 [00:00<00:00, 1682.10it/s]\n",
      "100%|██████████| 2/2 [00:00<00:00, 1818.47it/s]\n",
      "100%|██████████| 2/2 [00:00<00:00, 1706.04it/s]"
     ]
    },
    {
     "name": "stdout",
     "output_type": "stream",
     "text": [
      "3500\n"
     ]
    },
    {
     "name": "stderr",
     "output_type": "stream",
     "text": [
      "\n",
      "  0%|          | 0/2 [00:00<?, ?it/s]/home/ak287/PNW_Seismic_Event_Classification/notebooks/../feature_extraction_scripts/physical_feature_extraction_scripts/seis_feature.py:101: RuntimeWarning: invalid value encountered in double_scalars\n",
      "  'Gamma': lambda: ((np.dot(self.freq, self.ft**(2)) / np.sum(self.ft**(2)))**(2) - ((np.dot(self.freq**(2), self.ft**(2)) / np.sum(self.ft**(2)))**(0.5))**(2))**(0.5),\n",
      "100%|██████████| 2/2 [00:00<00:00, 15.03it/s]\n",
      "  0%|          | 0/2 [00:00<?, ?it/s]/home/ak287/PNW_Seismic_Event_Classification/notebooks/../feature_extraction_scripts/physical_feature_extraction_scripts/seis_feature.py:101: RuntimeWarning: invalid value encountered in double_scalars\n",
      "  'Gamma': lambda: ((np.dot(self.freq, self.ft**(2)) / np.sum(self.ft**(2)))**(2) - ((np.dot(self.freq**(2), self.ft**(2)) / np.sum(self.ft**(2)))**(0.5))**(2))**(0.5),\n",
      "100%|██████████| 2/2 [00:00<00:00, 11.16it/s]\n",
      "  0%|          | 0/2 [00:00<?, ?it/s]/home/ak287/PNW_Seismic_Event_Classification/notebooks/../feature_extraction_scripts/physical_feature_extraction_scripts/seis_feature.py:101: RuntimeWarning: invalid value encountered in double_scalars\n",
      "  'Gamma': lambda: ((np.dot(self.freq, self.ft**(2)) / np.sum(self.ft**(2)))**(2) - ((np.dot(self.freq**(2), self.ft**(2)) / np.sum(self.ft**(2)))**(0.5))**(2))**(0.5),\n",
      "100%|██████████| 2/2 [00:00<00:00,  7.76it/s]\n",
      "  0%|          | 0/2 [00:00<?, ?it/s]/home/ak287/PNW_Seismic_Event_Classification/notebooks/../feature_extraction_scripts/physical_feature_extraction_scripts/seis_feature.py:101: RuntimeWarning: invalid value encountered in double_scalars\n",
      "  'Gamma': lambda: ((np.dot(self.freq, self.ft**(2)) / np.sum(self.ft**(2)))**(2) - ((np.dot(self.freq**(2), self.ft**(2)) / np.sum(self.ft**(2)))**(0.5))**(2))**(0.5),\n",
      "100%|██████████| 2/2 [00:00<00:00, 10.32it/s]\n",
      "100%|██████████| 2/2 [00:00<00:00, 1170.78it/s]\n",
      "100%|██████████| 2/2 [00:00<00:00, 1702.58it/s]\n",
      "100%|██████████| 2/2 [00:00<00:00, 1724.63it/s]\n",
      "100%|██████████| 2/2 [00:00<00:00, 1657.17it/s]"
     ]
    },
    {
     "name": "stdout",
     "output_type": "stream",
     "text": [
      "1250\n"
     ]
    },
    {
     "name": "stderr",
     "output_type": "stream",
     "text": [
      "\n",
      "  0%|          | 0/2 [00:00<?, ?it/s]/home/ak287/PNW_Seismic_Event_Classification/notebooks/../feature_extraction_scripts/physical_feature_extraction_scripts/seis_feature.py:101: RuntimeWarning: invalid value encountered in double_scalars\n",
      "  'Gamma': lambda: ((np.dot(self.freq, self.ft**(2)) / np.sum(self.ft**(2)))**(2) - ((np.dot(self.freq**(2), self.ft**(2)) / np.sum(self.ft**(2)))**(0.5))**(2))**(0.5),\n",
      "100%|██████████| 2/2 [00:00<00:00, 10.63it/s]\n",
      "  0%|          | 0/2 [00:00<?, ?it/s]/home/ak287/PNW_Seismic_Event_Classification/notebooks/../feature_extraction_scripts/physical_feature_extraction_scripts/seis_feature.py:101: RuntimeWarning: invalid value encountered in double_scalars\n",
      "  'Gamma': lambda: ((np.dot(self.freq, self.ft**(2)) / np.sum(self.ft**(2)))**(2) - ((np.dot(self.freq**(2), self.ft**(2)) / np.sum(self.ft**(2)))**(0.5))**(2))**(0.5),\n",
      "100%|██████████| 2/2 [00:00<00:00, 10.54it/s]\n",
      "  0%|          | 0/2 [00:00<?, ?it/s]/home/ak287/PNW_Seismic_Event_Classification/notebooks/../feature_extraction_scripts/physical_feature_extraction_scripts/seis_feature.py:101: RuntimeWarning: invalid value encountered in double_scalars\n",
      "  'Gamma': lambda: ((np.dot(self.freq, self.ft**(2)) / np.sum(self.ft**(2)))**(2) - ((np.dot(self.freq**(2), self.ft**(2)) / np.sum(self.ft**(2)))**(0.5))**(2))**(0.5),\n",
      "100%|██████████| 2/2 [00:00<00:00,  9.51it/s]\n",
      "  0%|          | 0/2 [00:00<?, ?it/s]/home/ak287/PNW_Seismic_Event_Classification/notebooks/../feature_extraction_scripts/physical_feature_extraction_scripts/seis_feature.py:101: RuntimeWarning: invalid value encountered in double_scalars\n",
      "  'Gamma': lambda: ((np.dot(self.freq, self.ft**(2)) / np.sum(self.ft**(2)))**(2) - ((np.dot(self.freq**(2), self.ft**(2)) / np.sum(self.ft**(2)))**(0.5))**(2))**(0.5),\n",
      "100%|██████████| 2/2 [00:00<00:00, 12.11it/s]\n",
      "100%|██████████| 2/2 [00:00<00:00, 1097.55it/s]\n",
      "100%|██████████| 2/2 [00:00<00:00, 1775.74it/s]\n",
      "100%|██████████| 2/2 [00:00<00:00, 1851.79it/s]\n",
      "100%|██████████| 2/2 [00:00<00:00, 1722.51it/s]\n"
     ]
    },
    {
     "name": "stdout",
     "output_type": "stream",
     "text": [
      "7500\n"
     ]
    },
    {
     "name": "stderr",
     "output_type": "stream",
     "text": [
      "  0%|          | 0/2 [00:00<?, ?it/s]/home/ak287/PNW_Seismic_Event_Classification/notebooks/../feature_extraction_scripts/physical_feature_extraction_scripts/seis_feature.py:101: RuntimeWarning: invalid value encountered in double_scalars\n",
      "  'Gamma': lambda: ((np.dot(self.freq, self.ft**(2)) / np.sum(self.ft**(2)))**(2) - ((np.dot(self.freq**(2), self.ft**(2)) / np.sum(self.ft**(2)))**(0.5))**(2))**(0.5),\n",
      "100%|██████████| 2/2 [00:00<00:00,  6.70it/s]\n",
      "  0%|          | 0/2 [00:00<?, ?it/s]/home/ak287/PNW_Seismic_Event_Classification/notebooks/../feature_extraction_scripts/physical_feature_extraction_scripts/seis_feature.py:101: RuntimeWarning: invalid value encountered in double_scalars\n",
      "  'Gamma': lambda: ((np.dot(self.freq, self.ft**(2)) / np.sum(self.ft**(2)))**(2) - ((np.dot(self.freq**(2), self.ft**(2)) / np.sum(self.ft**(2)))**(0.5))**(2))**(0.5),\n",
      "100%|██████████| 2/2 [00:00<00:00,  7.40it/s]\n",
      "  0%|          | 0/2 [00:00<?, ?it/s]/home/ak287/PNW_Seismic_Event_Classification/notebooks/../feature_extraction_scripts/physical_feature_extraction_scripts/seis_feature.py:101: RuntimeWarning: invalid value encountered in double_scalars\n",
      "  'Gamma': lambda: ((np.dot(self.freq, self.ft**(2)) / np.sum(self.ft**(2)))**(2) - ((np.dot(self.freq**(2), self.ft**(2)) / np.sum(self.ft**(2)))**(0.5))**(2))**(0.5),\n",
      "100%|██████████| 2/2 [00:00<00:00,  8.60it/s]\n",
      "  0%|          | 0/2 [00:00<?, ?it/s]/home/ak287/PNW_Seismic_Event_Classification/notebooks/../feature_extraction_scripts/physical_feature_extraction_scripts/seis_feature.py:101: RuntimeWarning: invalid value encountered in double_scalars\n",
      "  'Gamma': lambda: ((np.dot(self.freq, self.ft**(2)) / np.sum(self.ft**(2)))**(2) - ((np.dot(self.freq**(2), self.ft**(2)) / np.sum(self.ft**(2)))**(0.5))**(2))**(0.5),\n",
      "100%|██████████| 2/2 [00:00<00:00,  6.33it/s]\n",
      "100%|██████████| 2/2 [00:00<00:00, 1255.40it/s]\n",
      "100%|██████████| 2/2 [00:00<00:00, 1621.30it/s]\n",
      "100%|██████████| 2/2 [00:00<00:00, 1872.04it/s]\n",
      "100%|██████████| 2/2 [00:00<00:00, 1664.08it/s]"
     ]
    },
    {
     "name": "stdout",
     "output_type": "stream",
     "text": [
      "2000\n"
     ]
    },
    {
     "name": "stderr",
     "output_type": "stream",
     "text": [
      "\n",
      "  0%|          | 0/2 [00:00<?, ?it/s]/home/ak287/PNW_Seismic_Event_Classification/notebooks/../feature_extraction_scripts/physical_feature_extraction_scripts/seis_feature.py:101: RuntimeWarning: invalid value encountered in double_scalars\n",
      "  'Gamma': lambda: ((np.dot(self.freq, self.ft**(2)) / np.sum(self.ft**(2)))**(2) - ((np.dot(self.freq**(2), self.ft**(2)) / np.sum(self.ft**(2)))**(0.5))**(2))**(0.5),\n",
      "100%|██████████| 2/2 [00:00<00:00, 10.23it/s]\n",
      "  0%|          | 0/2 [00:00<?, ?it/s]/home/ak287/PNW_Seismic_Event_Classification/notebooks/../feature_extraction_scripts/physical_feature_extraction_scripts/seis_feature.py:101: RuntimeWarning: invalid value encountered in double_scalars\n",
      "  'Gamma': lambda: ((np.dot(self.freq, self.ft**(2)) / np.sum(self.ft**(2)))**(2) - ((np.dot(self.freq**(2), self.ft**(2)) / np.sum(self.ft**(2)))**(0.5))**(2))**(0.5),\n",
      "100%|██████████| 2/2 [00:00<00:00, 10.83it/s]\n",
      "  0%|          | 0/2 [00:00<?, ?it/s]/home/ak287/PNW_Seismic_Event_Classification/notebooks/../feature_extraction_scripts/physical_feature_extraction_scripts/seis_feature.py:101: RuntimeWarning: invalid value encountered in double_scalars\n",
      "  'Gamma': lambda: ((np.dot(self.freq, self.ft**(2)) / np.sum(self.ft**(2)))**(2) - ((np.dot(self.freq**(2), self.ft**(2)) / np.sum(self.ft**(2)))**(0.5))**(2))**(0.5),\n",
      "100%|██████████| 2/2 [00:00<00:00,  9.98it/s]\n",
      "  0%|          | 0/2 [00:00<?, ?it/s]/home/ak287/PNW_Seismic_Event_Classification/notebooks/../feature_extraction_scripts/physical_feature_extraction_scripts/seis_feature.py:101: RuntimeWarning: invalid value encountered in double_scalars\n",
      "  'Gamma': lambda: ((np.dot(self.freq, self.ft**(2)) / np.sum(self.ft**(2)))**(2) - ((np.dot(self.freq**(2), self.ft**(2)) / np.sum(self.ft**(2)))**(0.5))**(2))**(0.5),\n",
      "100%|██████████| 2/2 [00:00<00:00,  9.15it/s]\n",
      "100%|██████████| 2/2 [00:00<00:00, 1098.99it/s]\n",
      "100%|██████████| 2/2 [00:00<00:00, 1809.45it/s]\n",
      "100%|██████████| 2/2 [00:00<00:00, 1890.18it/s]\n",
      "100%|██████████| 2/2 [00:00<00:00, 1669.04it/s]"
     ]
    },
    {
     "name": "stdout",
     "output_type": "stream",
     "text": [
      "2500\n"
     ]
    },
    {
     "name": "stderr",
     "output_type": "stream",
     "text": [
      "\n",
      "  0%|          | 0/2 [00:00<?, ?it/s]/home/ak287/PNW_Seismic_Event_Classification/notebooks/../feature_extraction_scripts/physical_feature_extraction_scripts/seis_feature.py:101: RuntimeWarning: invalid value encountered in double_scalars\n",
      "  'Gamma': lambda: ((np.dot(self.freq, self.ft**(2)) / np.sum(self.ft**(2)))**(2) - ((np.dot(self.freq**(2), self.ft**(2)) / np.sum(self.ft**(2)))**(0.5))**(2))**(0.5),\n",
      "100%|██████████| 2/2 [00:00<00:00, 10.85it/s]\n",
      "  0%|          | 0/2 [00:00<?, ?it/s]/home/ak287/PNW_Seismic_Event_Classification/notebooks/../feature_extraction_scripts/physical_feature_extraction_scripts/seis_feature.py:101: RuntimeWarning: invalid value encountered in double_scalars\n",
      "  'Gamma': lambda: ((np.dot(self.freq, self.ft**(2)) / np.sum(self.ft**(2)))**(2) - ((np.dot(self.freq**(2), self.ft**(2)) / np.sum(self.ft**(2)))**(0.5))**(2))**(0.5),\n",
      "100%|██████████| 2/2 [00:00<00:00,  9.75it/s]\n",
      "  0%|          | 0/2 [00:00<?, ?it/s]/home/ak287/PNW_Seismic_Event_Classification/notebooks/../feature_extraction_scripts/physical_feature_extraction_scripts/seis_feature.py:101: RuntimeWarning: invalid value encountered in double_scalars\n",
      "  'Gamma': lambda: ((np.dot(self.freq, self.ft**(2)) / np.sum(self.ft**(2)))**(2) - ((np.dot(self.freq**(2), self.ft**(2)) / np.sum(self.ft**(2)))**(0.5))**(2))**(0.5),\n",
      "100%|██████████| 2/2 [00:00<00:00, 12.83it/s]\n",
      "  0%|          | 0/2 [00:00<?, ?it/s]/home/ak287/PNW_Seismic_Event_Classification/notebooks/../feature_extraction_scripts/physical_feature_extraction_scripts/seis_feature.py:101: RuntimeWarning: invalid value encountered in double_scalars\n",
      "  'Gamma': lambda: ((np.dot(self.freq, self.ft**(2)) / np.sum(self.ft**(2)))**(2) - ((np.dot(self.freq**(2), self.ft**(2)) / np.sum(self.ft**(2)))**(0.5))**(2))**(0.5),\n",
      "100%|██████████| 2/2 [00:00<00:00,  8.98it/s]\n",
      "100%|██████████| 2/2 [00:00<00:00, 1028.14it/s]\n",
      "100%|██████████| 2/2 [00:00<00:00, 1718.98it/s]\n",
      "100%|██████████| 2/2 [00:00<00:00, 1928.42it/s]\n",
      "100%|██████████| 2/2 [00:00<00:00, 1693.98it/s]"
     ]
    },
    {
     "name": "stdout",
     "output_type": "stream",
     "text": [
      "3500\n"
     ]
    },
    {
     "name": "stderr",
     "output_type": "stream",
     "text": [
      "\n",
      "  0%|          | 0/2 [00:00<?, ?it/s]/home/ak287/PNW_Seismic_Event_Classification/notebooks/../feature_extraction_scripts/physical_feature_extraction_scripts/seis_feature.py:101: RuntimeWarning: invalid value encountered in double_scalars\n",
      "  'Gamma': lambda: ((np.dot(self.freq, self.ft**(2)) / np.sum(self.ft**(2)))**(2) - ((np.dot(self.freq**(2), self.ft**(2)) / np.sum(self.ft**(2)))**(0.5))**(2))**(0.5),\n",
      "100%|██████████| 2/2 [00:00<00:00,  8.91it/s]\n",
      "  0%|          | 0/2 [00:00<?, ?it/s]/home/ak287/PNW_Seismic_Event_Classification/notebooks/../feature_extraction_scripts/physical_feature_extraction_scripts/seis_feature.py:101: RuntimeWarning: invalid value encountered in double_scalars\n",
      "  'Gamma': lambda: ((np.dot(self.freq, self.ft**(2)) / np.sum(self.ft**(2)))**(2) - ((np.dot(self.freq**(2), self.ft**(2)) / np.sum(self.ft**(2)))**(0.5))**(2))**(0.5),\n",
      "100%|██████████| 2/2 [00:00<00:00, 10.47it/s]\n",
      "  0%|          | 0/2 [00:00<?, ?it/s]/home/ak287/PNW_Seismic_Event_Classification/notebooks/../feature_extraction_scripts/physical_feature_extraction_scripts/seis_feature.py:101: RuntimeWarning: invalid value encountered in double_scalars\n",
      "  'Gamma': lambda: ((np.dot(self.freq, self.ft**(2)) / np.sum(self.ft**(2)))**(2) - ((np.dot(self.freq**(2), self.ft**(2)) / np.sum(self.ft**(2)))**(0.5))**(2))**(0.5),\n",
      "100%|██████████| 2/2 [00:00<00:00, 10.36it/s]\n",
      "  0%|          | 0/2 [00:00<?, ?it/s]/home/ak287/PNW_Seismic_Event_Classification/notebooks/../feature_extraction_scripts/physical_feature_extraction_scripts/seis_feature.py:101: RuntimeWarning: invalid value encountered in double_scalars\n",
      "  'Gamma': lambda: ((np.dot(self.freq, self.ft**(2)) / np.sum(self.ft**(2)))**(2) - ((np.dot(self.freq**(2), self.ft**(2)) / np.sum(self.ft**(2)))**(0.5))**(2))**(0.5),\n",
      "100%|██████████| 2/2 [00:00<00:00, 12.30it/s]\n",
      "100%|██████████| 2/2 [00:00<00:00, 1093.41it/s]\n",
      "100%|██████████| 2/2 [00:00<00:00, 1686.83it/s]\n",
      "100%|██████████| 2/2 [00:00<00:00, 1954.93it/s]\n",
      "100%|██████████| 2/2 [00:00<00:00, 1586.95it/s]"
     ]
    },
    {
     "name": "stdout",
     "output_type": "stream",
     "text": [
      "1250\n"
     ]
    },
    {
     "name": "stderr",
     "output_type": "stream",
     "text": [
      "\n",
      "  0%|          | 0/2 [00:00<?, ?it/s]/home/ak287/PNW_Seismic_Event_Classification/notebooks/../feature_extraction_scripts/physical_feature_extraction_scripts/seis_feature.py:101: RuntimeWarning: invalid value encountered in double_scalars\n",
      "  'Gamma': lambda: ((np.dot(self.freq, self.ft**(2)) / np.sum(self.ft**(2)))**(2) - ((np.dot(self.freq**(2), self.ft**(2)) / np.sum(self.ft**(2)))**(0.5))**(2))**(0.5),\n",
      "100%|██████████| 2/2 [00:00<00:00,  9.55it/s]\n",
      "  0%|          | 0/2 [00:00<?, ?it/s]/home/ak287/PNW_Seismic_Event_Classification/notebooks/../feature_extraction_scripts/physical_feature_extraction_scripts/seis_feature.py:101: RuntimeWarning: invalid value encountered in double_scalars\n",
      "  'Gamma': lambda: ((np.dot(self.freq, self.ft**(2)) / np.sum(self.ft**(2)))**(2) - ((np.dot(self.freq**(2), self.ft**(2)) / np.sum(self.ft**(2)))**(0.5))**(2))**(0.5),\n",
      "100%|██████████| 2/2 [00:00<00:00, 10.68it/s]\n",
      "  0%|          | 0/2 [00:00<?, ?it/s]/home/ak287/PNW_Seismic_Event_Classification/notebooks/../feature_extraction_scripts/physical_feature_extraction_scripts/seis_feature.py:101: RuntimeWarning: invalid value encountered in double_scalars\n",
      "  'Gamma': lambda: ((np.dot(self.freq, self.ft**(2)) / np.sum(self.ft**(2)))**(2) - ((np.dot(self.freq**(2), self.ft**(2)) / np.sum(self.ft**(2)))**(0.5))**(2))**(0.5),\n",
      "100%|██████████| 2/2 [00:00<00:00, 11.44it/s]\n",
      "  0%|          | 0/2 [00:00<?, ?it/s]/home/ak287/PNW_Seismic_Event_Classification/notebooks/../feature_extraction_scripts/physical_feature_extraction_scripts/seis_feature.py:101: RuntimeWarning: invalid value encountered in double_scalars\n",
      "  'Gamma': lambda: ((np.dot(self.freq, self.ft**(2)) / np.sum(self.ft**(2)))**(2) - ((np.dot(self.freq**(2), self.ft**(2)) / np.sum(self.ft**(2)))**(0.5))**(2))**(0.5),\n",
      "100%|██████████| 2/2 [00:00<00:00,  8.67it/s]\n",
      "100%|██████████| 2/2 [00:00<00:00, 1004.74it/s]\n",
      "100%|██████████| 2/2 [00:00<00:00, 1724.28it/s]\n",
      "100%|██████████| 2/2 [00:00<00:00, 1939.11it/s]\n",
      "100%|██████████| 2/2 [00:00<00:00, 1757.51it/s]"
     ]
    },
    {
     "name": "stdout",
     "output_type": "stream",
     "text": [
      "7500\n"
     ]
    },
    {
     "name": "stderr",
     "output_type": "stream",
     "text": [
      "\n",
      "  0%|          | 0/2 [00:00<?, ?it/s]/home/ak287/PNW_Seismic_Event_Classification/notebooks/../feature_extraction_scripts/physical_feature_extraction_scripts/seis_feature.py:101: RuntimeWarning: invalid value encountered in double_scalars\n",
      "  'Gamma': lambda: ((np.dot(self.freq, self.ft**(2)) / np.sum(self.ft**(2)))**(2) - ((np.dot(self.freq**(2), self.ft**(2)) / np.sum(self.ft**(2)))**(0.5))**(2))**(0.5),\n",
      "100%|██████████| 2/2 [00:00<00:00,  7.13it/s]\n",
      "  0%|          | 0/2 [00:00<?, ?it/s]/home/ak287/PNW_Seismic_Event_Classification/notebooks/../feature_extraction_scripts/physical_feature_extraction_scripts/seis_feature.py:101: RuntimeWarning: invalid value encountered in double_scalars\n",
      "  'Gamma': lambda: ((np.dot(self.freq, self.ft**(2)) / np.sum(self.ft**(2)))**(2) - ((np.dot(self.freq**(2), self.ft**(2)) / np.sum(self.ft**(2)))**(0.5))**(2))**(0.5),\n",
      "100%|██████████| 2/2 [00:00<00:00,  5.74it/s]\n",
      "  0%|          | 0/2 [00:00<?, ?it/s]/home/ak287/PNW_Seismic_Event_Classification/notebooks/../feature_extraction_scripts/physical_feature_extraction_scripts/seis_feature.py:101: RuntimeWarning: invalid value encountered in double_scalars\n",
      "  'Gamma': lambda: ((np.dot(self.freq, self.ft**(2)) / np.sum(self.ft**(2)))**(2) - ((np.dot(self.freq**(2), self.ft**(2)) / np.sum(self.ft**(2)))**(0.5))**(2))**(0.5),\n",
      "100%|██████████| 2/2 [00:00<00:00,  6.27it/s]\n",
      "  0%|          | 0/2 [00:00<?, ?it/s]/home/ak287/PNW_Seismic_Event_Classification/notebooks/../feature_extraction_scripts/physical_feature_extraction_scripts/seis_feature.py:101: RuntimeWarning: invalid value encountered in double_scalars\n",
      "  'Gamma': lambda: ((np.dot(self.freq, self.ft**(2)) / np.sum(self.ft**(2)))**(2) - ((np.dot(self.freq**(2), self.ft**(2)) / np.sum(self.ft**(2)))**(0.5))**(2))**(0.5),\n",
      "100%|██████████| 2/2 [00:00<00:00,  7.39it/s]\n",
      "100%|██████████| 2/2 [00:00<00:00, 1220.87it/s]\n",
      "100%|██████████| 2/2 [00:00<00:00, 1642.25it/s]\n",
      "100%|██████████| 2/2 [00:00<00:00, 1746.17it/s]\n",
      "100%|██████████| 2/2 [00:00<00:00, 1689.21it/s]"
     ]
    },
    {
     "name": "stdout",
     "output_type": "stream",
     "text": [
      "2000\n"
     ]
    },
    {
     "name": "stderr",
     "output_type": "stream",
     "text": [
      "\n",
      "  0%|          | 0/2 [00:00<?, ?it/s]/home/ak287/PNW_Seismic_Event_Classification/notebooks/../feature_extraction_scripts/physical_feature_extraction_scripts/seis_feature.py:101: RuntimeWarning: invalid value encountered in double_scalars\n",
      "  'Gamma': lambda: ((np.dot(self.freq, self.ft**(2)) / np.sum(self.ft**(2)))**(2) - ((np.dot(self.freq**(2), self.ft**(2)) / np.sum(self.ft**(2)))**(0.5))**(2))**(0.5),\n",
      "100%|██████████| 2/2 [00:00<00:00,  9.69it/s]\n",
      "  0%|          | 0/2 [00:00<?, ?it/s]/home/ak287/PNW_Seismic_Event_Classification/notebooks/../feature_extraction_scripts/physical_feature_extraction_scripts/seis_feature.py:101: RuntimeWarning: invalid value encountered in double_scalars\n",
      "  'Gamma': lambda: ((np.dot(self.freq, self.ft**(2)) / np.sum(self.ft**(2)))**(2) - ((np.dot(self.freq**(2), self.ft**(2)) / np.sum(self.ft**(2)))**(0.5))**(2))**(0.5),\n",
      "100%|██████████| 2/2 [00:00<00:00,  9.18it/s]\n",
      "  0%|          | 0/2 [00:00<?, ?it/s]/home/ak287/PNW_Seismic_Event_Classification/notebooks/../feature_extraction_scripts/physical_feature_extraction_scripts/seis_feature.py:101: RuntimeWarning: invalid value encountered in double_scalars\n",
      "  'Gamma': lambda: ((np.dot(self.freq, self.ft**(2)) / np.sum(self.ft**(2)))**(2) - ((np.dot(self.freq**(2), self.ft**(2)) / np.sum(self.ft**(2)))**(0.5))**(2))**(0.5),\n",
      "100%|██████████| 2/2 [00:00<00:00,  9.75it/s]\n",
      "  0%|          | 0/2 [00:00<?, ?it/s]/home/ak287/PNW_Seismic_Event_Classification/notebooks/../feature_extraction_scripts/physical_feature_extraction_scripts/seis_feature.py:101: RuntimeWarning: invalid value encountered in double_scalars\n",
      "  'Gamma': lambda: ((np.dot(self.freq, self.ft**(2)) / np.sum(self.ft**(2)))**(2) - ((np.dot(self.freq**(2), self.ft**(2)) / np.sum(self.ft**(2)))**(0.5))**(2))**(0.5),\n",
      "100%|██████████| 2/2 [00:00<00:00, 12.51it/s]\n",
      "100%|██████████| 2/2 [00:00<00:00, 1301.57it/s]\n",
      "100%|██████████| 2/2 [00:00<00:00, 1539.19it/s]\n",
      "100%|██████████| 2/2 [00:00<00:00, 1855.07it/s]\n",
      "100%|██████████| 2/2 [00:00<00:00, 1707.78it/s]"
     ]
    },
    {
     "name": "stdout",
     "output_type": "stream",
     "text": [
      "2500\n"
     ]
    },
    {
     "name": "stderr",
     "output_type": "stream",
     "text": [
      "\n",
      "  0%|          | 0/2 [00:00<?, ?it/s]/home/ak287/PNW_Seismic_Event_Classification/notebooks/../feature_extraction_scripts/physical_feature_extraction_scripts/seis_feature.py:101: RuntimeWarning: invalid value encountered in double_scalars\n",
      "  'Gamma': lambda: ((np.dot(self.freq, self.ft**(2)) / np.sum(self.ft**(2)))**(2) - ((np.dot(self.freq**(2), self.ft**(2)) / np.sum(self.ft**(2)))**(0.5))**(2))**(0.5),\n",
      "100%|██████████| 2/2 [00:00<00:00, 11.22it/s]\n",
      "  0%|          | 0/2 [00:00<?, ?it/s]/home/ak287/PNW_Seismic_Event_Classification/notebooks/../feature_extraction_scripts/physical_feature_extraction_scripts/seis_feature.py:101: RuntimeWarning: invalid value encountered in double_scalars\n",
      "  'Gamma': lambda: ((np.dot(self.freq, self.ft**(2)) / np.sum(self.ft**(2)))**(2) - ((np.dot(self.freq**(2), self.ft**(2)) / np.sum(self.ft**(2)))**(0.5))**(2))**(0.5),\n",
      "100%|██████████| 2/2 [00:00<00:00, 12.55it/s]\n",
      "  0%|          | 0/2 [00:00<?, ?it/s]/home/ak287/PNW_Seismic_Event_Classification/notebooks/../feature_extraction_scripts/physical_feature_extraction_scripts/seis_feature.py:101: RuntimeWarning: invalid value encountered in double_scalars\n",
      "  'Gamma': lambda: ((np.dot(self.freq, self.ft**(2)) / np.sum(self.ft**(2)))**(2) - ((np.dot(self.freq**(2), self.ft**(2)) / np.sum(self.ft**(2)))**(0.5))**(2))**(0.5),\n",
      "100%|██████████| 2/2 [00:00<00:00, 12.21it/s]\n",
      "  0%|          | 0/2 [00:00<?, ?it/s]/home/ak287/PNW_Seismic_Event_Classification/notebooks/../feature_extraction_scripts/physical_feature_extraction_scripts/seis_feature.py:101: RuntimeWarning: invalid value encountered in double_scalars\n",
      "  'Gamma': lambda: ((np.dot(self.freq, self.ft**(2)) / np.sum(self.ft**(2)))**(2) - ((np.dot(self.freq**(2), self.ft**(2)) / np.sum(self.ft**(2)))**(0.5))**(2))**(0.5),\n",
      "100%|██████████| 2/2 [00:00<00:00, 10.67it/s]\n",
      "100%|██████████| 2/2 [00:00<00:00, 1167.03it/s]\n",
      "100%|██████████| 2/2 [00:00<00:00, 1656.19it/s]\n",
      "100%|██████████| 2/2 [00:00<00:00, 1816.11it/s]\n",
      "100%|██████████| 2/2 [00:00<00:00, 1457.11it/s]"
     ]
    },
    {
     "name": "stdout",
     "output_type": "stream",
     "text": [
      "3500\n"
     ]
    },
    {
     "name": "stderr",
     "output_type": "stream",
     "text": [
      "\n",
      "  0%|          | 0/2 [00:00<?, ?it/s]/home/ak287/PNW_Seismic_Event_Classification/notebooks/../feature_extraction_scripts/physical_feature_extraction_scripts/seis_feature.py:101: RuntimeWarning: invalid value encountered in double_scalars\n",
      "  'Gamma': lambda: ((np.dot(self.freq, self.ft**(2)) / np.sum(self.ft**(2)))**(2) - ((np.dot(self.freq**(2), self.ft**(2)) / np.sum(self.ft**(2)))**(0.5))**(2))**(0.5),\n",
      "100%|██████████| 2/2 [00:00<00:00,  6.91it/s]\n",
      "  0%|          | 0/2 [00:00<?, ?it/s]/home/ak287/PNW_Seismic_Event_Classification/notebooks/../feature_extraction_scripts/physical_feature_extraction_scripts/seis_feature.py:101: RuntimeWarning: invalid value encountered in double_scalars\n",
      "  'Gamma': lambda: ((np.dot(self.freq, self.ft**(2)) / np.sum(self.ft**(2)))**(2) - ((np.dot(self.freq**(2), self.ft**(2)) / np.sum(self.ft**(2)))**(0.5))**(2))**(0.5),\n",
      "100%|██████████| 2/2 [00:00<00:00,  8.13it/s]\n",
      "  0%|          | 0/2 [00:00<?, ?it/s]/home/ak287/PNW_Seismic_Event_Classification/notebooks/../feature_extraction_scripts/physical_feature_extraction_scripts/seis_feature.py:101: RuntimeWarning: invalid value encountered in double_scalars\n",
      "  'Gamma': lambda: ((np.dot(self.freq, self.ft**(2)) / np.sum(self.ft**(2)))**(2) - ((np.dot(self.freq**(2), self.ft**(2)) / np.sum(self.ft**(2)))**(0.5))**(2))**(0.5),\n",
      "100%|██████████| 2/2 [00:00<00:00,  9.44it/s]\n",
      "  0%|          | 0/2 [00:00<?, ?it/s]/home/ak287/PNW_Seismic_Event_Classification/notebooks/../feature_extraction_scripts/physical_feature_extraction_scripts/seis_feature.py:101: RuntimeWarning: invalid value encountered in double_scalars\n",
      "  'Gamma': lambda: ((np.dot(self.freq, self.ft**(2)) / np.sum(self.ft**(2)))**(2) - ((np.dot(self.freq**(2), self.ft**(2)) / np.sum(self.ft**(2)))**(0.5))**(2))**(0.5),\n",
      "100%|██████████| 2/2 [00:00<00:00, 10.82it/s]\n",
      "100%|██████████| 2/2 [00:00<00:00, 1158.65it/s]\n",
      "100%|██████████| 2/2 [00:00<00:00, 1779.89it/s]\n",
      "100%|██████████| 2/2 [00:00<00:00, 1831.57it/s]\n",
      "100%|██████████| 2/2 [00:00<00:00, 1726.05it/s]"
     ]
    },
    {
     "name": "stdout",
     "output_type": "stream",
     "text": [
      "1250\n"
     ]
    },
    {
     "name": "stderr",
     "output_type": "stream",
     "text": [
      "\n",
      "  0%|          | 0/2 [00:00<?, ?it/s]/home/ak287/PNW_Seismic_Event_Classification/notebooks/../feature_extraction_scripts/physical_feature_extraction_scripts/seis_feature.py:101: RuntimeWarning: invalid value encountered in double_scalars\n",
      "  'Gamma': lambda: ((np.dot(self.freq, self.ft**(2)) / np.sum(self.ft**(2)))**(2) - ((np.dot(self.freq**(2), self.ft**(2)) / np.sum(self.ft**(2)))**(0.5))**(2))**(0.5),\n",
      "100%|██████████| 2/2 [00:00<00:00, 12.70it/s]\n",
      "  0%|          | 0/2 [00:00<?, ?it/s]/home/ak287/PNW_Seismic_Event_Classification/notebooks/../feature_extraction_scripts/physical_feature_extraction_scripts/seis_feature.py:101: RuntimeWarning: invalid value encountered in double_scalars\n",
      "  'Gamma': lambda: ((np.dot(self.freq, self.ft**(2)) / np.sum(self.ft**(2)))**(2) - ((np.dot(self.freq**(2), self.ft**(2)) / np.sum(self.ft**(2)))**(0.5))**(2))**(0.5),\n",
      "100%|██████████| 2/2 [00:00<00:00, 12.36it/s]\n",
      "  0%|          | 0/2 [00:00<?, ?it/s]/home/ak287/PNW_Seismic_Event_Classification/notebooks/../feature_extraction_scripts/physical_feature_extraction_scripts/seis_feature.py:101: RuntimeWarning: invalid value encountered in double_scalars\n",
      "  'Gamma': lambda: ((np.dot(self.freq, self.ft**(2)) / np.sum(self.ft**(2)))**(2) - ((np.dot(self.freq**(2), self.ft**(2)) / np.sum(self.ft**(2)))**(0.5))**(2))**(0.5),\n",
      "100%|██████████| 2/2 [00:00<00:00, 11.03it/s]\n",
      "  0%|          | 0/2 [00:00<?, ?it/s]/home/ak287/PNW_Seismic_Event_Classification/notebooks/../feature_extraction_scripts/physical_feature_extraction_scripts/seis_feature.py:101: RuntimeWarning: invalid value encountered in double_scalars\n",
      "  'Gamma': lambda: ((np.dot(self.freq, self.ft**(2)) / np.sum(self.ft**(2)))**(2) - ((np.dot(self.freq**(2), self.ft**(2)) / np.sum(self.ft**(2)))**(0.5))**(2))**(0.5),\n",
      "100%|██████████| 2/2 [00:00<00:00,  9.71it/s]\n",
      "100%|██████████| 2/2 [00:00<00:00, 931.96it/s]\n",
      "100%|██████████| 2/2 [00:00<00:00, 1831.57it/s]\n",
      "100%|██████████| 2/2 [00:00<00:00, 2076.39it/s]\n",
      "100%|██████████| 2/2 [00:00<00:00, 1675.04it/s]"
     ]
    },
    {
     "name": "stdout",
     "output_type": "stream",
     "text": [
      "7500\n"
     ]
    },
    {
     "name": "stderr",
     "output_type": "stream",
     "text": [
      "\n",
      "  0%|          | 0/2 [00:00<?, ?it/s]/home/ak287/PNW_Seismic_Event_Classification/notebooks/../feature_extraction_scripts/physical_feature_extraction_scripts/seis_feature.py:101: RuntimeWarning: invalid value encountered in double_scalars\n",
      "  'Gamma': lambda: ((np.dot(self.freq, self.ft**(2)) / np.sum(self.ft**(2)))**(2) - ((np.dot(self.freq**(2), self.ft**(2)) / np.sum(self.ft**(2)))**(0.5))**(2))**(0.5),\n",
      "100%|██████████| 2/2 [00:00<00:00,  6.15it/s]\n",
      "  0%|          | 0/2 [00:00<?, ?it/s]/home/ak287/PNW_Seismic_Event_Classification/notebooks/../feature_extraction_scripts/physical_feature_extraction_scripts/seis_feature.py:101: RuntimeWarning: invalid value encountered in double_scalars\n",
      "  'Gamma': lambda: ((np.dot(self.freq, self.ft**(2)) / np.sum(self.ft**(2)))**(2) - ((np.dot(self.freq**(2), self.ft**(2)) / np.sum(self.ft**(2)))**(0.5))**(2))**(0.5),\n",
      "100%|██████████| 2/2 [00:00<00:00,  6.63it/s]\n",
      "  0%|          | 0/2 [00:00<?, ?it/s]/home/ak287/PNW_Seismic_Event_Classification/notebooks/../feature_extraction_scripts/physical_feature_extraction_scripts/seis_feature.py:101: RuntimeWarning: invalid value encountered in double_scalars\n",
      "  'Gamma': lambda: ((np.dot(self.freq, self.ft**(2)) / np.sum(self.ft**(2)))**(2) - ((np.dot(self.freq**(2), self.ft**(2)) / np.sum(self.ft**(2)))**(0.5))**(2))**(0.5),\n",
      "100%|██████████| 2/2 [00:00<00:00,  7.98it/s]\n",
      "  0%|          | 0/2 [00:00<?, ?it/s]/home/ak287/PNW_Seismic_Event_Classification/notebooks/../feature_extraction_scripts/physical_feature_extraction_scripts/seis_feature.py:101: RuntimeWarning: invalid value encountered in double_scalars\n",
      "  'Gamma': lambda: ((np.dot(self.freq, self.ft**(2)) / np.sum(self.ft**(2)))**(2) - ((np.dot(self.freq**(2), self.ft**(2)) / np.sum(self.ft**(2)))**(0.5))**(2))**(0.5),\n",
      "100%|██████████| 2/2 [00:00<00:00,  6.92it/s]\n",
      "100%|██████████| 2/2 [00:00<00:00, 1165.25it/s]\n",
      "100%|██████████| 2/2 [00:00<00:00, 1699.82it/s]\n",
      "100%|██████████| 2/2 [00:00<00:00, 1989.24it/s]\n",
      "100%|██████████| 2/2 [00:00<00:00, 693.10it/s]"
     ]
    },
    {
     "name": "stdout",
     "output_type": "stream",
     "text": [
      "4000\n"
     ]
    },
    {
     "name": "stderr",
     "output_type": "stream",
     "text": [
      "\n",
      "  0%|          | 0/2 [00:00<?, ?it/s]/home/ak287/PNW_Seismic_Event_Classification/notebooks/../feature_extraction_scripts/physical_feature_extraction_scripts/seis_feature.py:101: RuntimeWarning: invalid value encountered in double_scalars\n",
      "  'Gamma': lambda: ((np.dot(self.freq, self.ft**(2)) / np.sum(self.ft**(2)))**(2) - ((np.dot(self.freq**(2), self.ft**(2)) / np.sum(self.ft**(2)))**(0.5))**(2))**(0.5),\n",
      "100%|██████████| 2/2 [00:00<00:00, 11.85it/s]\n",
      "  0%|          | 0/2 [00:00<?, ?it/s]/home/ak287/PNW_Seismic_Event_Classification/notebooks/../feature_extraction_scripts/physical_feature_extraction_scripts/seis_feature.py:101: RuntimeWarning: invalid value encountered in double_scalars\n",
      "  'Gamma': lambda: ((np.dot(self.freq, self.ft**(2)) / np.sum(self.ft**(2)))**(2) - ((np.dot(self.freq**(2), self.ft**(2)) / np.sum(self.ft**(2)))**(0.5))**(2))**(0.5),\n",
      "100%|██████████| 2/2 [00:00<00:00, 10.45it/s]\n",
      "  0%|          | 0/2 [00:00<?, ?it/s]/home/ak287/PNW_Seismic_Event_Classification/notebooks/../feature_extraction_scripts/physical_feature_extraction_scripts/seis_feature.py:101: RuntimeWarning: invalid value encountered in double_scalars\n",
      "  'Gamma': lambda: ((np.dot(self.freq, self.ft**(2)) / np.sum(self.ft**(2)))**(2) - ((np.dot(self.freq**(2), self.ft**(2)) / np.sum(self.ft**(2)))**(0.5))**(2))**(0.5),\n",
      "100%|██████████| 2/2 [00:00<00:00,  8.75it/s]\n",
      "  0%|          | 0/2 [00:00<?, ?it/s]/home/ak287/PNW_Seismic_Event_Classification/notebooks/../feature_extraction_scripts/physical_feature_extraction_scripts/seis_feature.py:101: RuntimeWarning: invalid value encountered in double_scalars\n",
      "  'Gamma': lambda: ((np.dot(self.freq, self.ft**(2)) / np.sum(self.ft**(2)))**(2) - ((np.dot(self.freq**(2), self.ft**(2)) / np.sum(self.ft**(2)))**(0.5))**(2))**(0.5),\n",
      "100%|██████████| 2/2 [00:00<00:00,  9.07it/s]\n",
      "100%|██████████| 2/2 [00:00<00:00, 1051.34it/s]\n",
      "100%|██████████| 2/2 [00:00<00:00, 1690.91it/s]\n",
      "100%|██████████| 2/2 [00:00<00:00, 1955.84it/s]\n",
      "100%|██████████| 2/2 [00:00<00:00, 1696.38it/s]"
     ]
    },
    {
     "name": "stdout",
     "output_type": "stream",
     "text": [
      "5000\n"
     ]
    },
    {
     "name": "stderr",
     "output_type": "stream",
     "text": [
      "\n",
      "  0%|          | 0/2 [00:00<?, ?it/s]/home/ak287/PNW_Seismic_Event_Classification/notebooks/../feature_extraction_scripts/physical_feature_extraction_scripts/seis_feature.py:101: RuntimeWarning: invalid value encountered in double_scalars\n",
      "  'Gamma': lambda: ((np.dot(self.freq, self.ft**(2)) / np.sum(self.ft**(2)))**(2) - ((np.dot(self.freq**(2), self.ft**(2)) / np.sum(self.ft**(2)))**(0.5))**(2))**(0.5),\n",
      "100%|██████████| 2/2 [00:00<00:00,  6.73it/s]\n",
      "  0%|          | 0/2 [00:00<?, ?it/s]/home/ak287/PNW_Seismic_Event_Classification/notebooks/../feature_extraction_scripts/physical_feature_extraction_scripts/seis_feature.py:101: RuntimeWarning: invalid value encountered in double_scalars\n",
      "  'Gamma': lambda: ((np.dot(self.freq, self.ft**(2)) / np.sum(self.ft**(2)))**(2) - ((np.dot(self.freq**(2), self.ft**(2)) / np.sum(self.ft**(2)))**(0.5))**(2))**(0.5),\n",
      "100%|██████████| 2/2 [00:00<00:00,  7.75it/s]\n",
      "  0%|          | 0/2 [00:00<?, ?it/s]/home/ak287/PNW_Seismic_Event_Classification/notebooks/../feature_extraction_scripts/physical_feature_extraction_scripts/seis_feature.py:101: RuntimeWarning: invalid value encountered in double_scalars\n",
      "  'Gamma': lambda: ((np.dot(self.freq, self.ft**(2)) / np.sum(self.ft**(2)))**(2) - ((np.dot(self.freq**(2), self.ft**(2)) / np.sum(self.ft**(2)))**(0.5))**(2))**(0.5),\n",
      "100%|██████████| 2/2 [00:00<00:00, 10.26it/s]\n",
      "  0%|          | 0/2 [00:00<?, ?it/s]/home/ak287/PNW_Seismic_Event_Classification/notebooks/../feature_extraction_scripts/physical_feature_extraction_scripts/seis_feature.py:101: RuntimeWarning: invalid value encountered in double_scalars\n",
      "  'Gamma': lambda: ((np.dot(self.freq, self.ft**(2)) / np.sum(self.ft**(2)))**(2) - ((np.dot(self.freq**(2), self.ft**(2)) / np.sum(self.ft**(2)))**(0.5))**(2))**(0.5),\n",
      "100%|██████████| 2/2 [00:00<00:00, 10.58it/s]\n",
      "100%|██████████| 2/2 [00:00<00:00, 1087.88it/s]\n",
      "100%|██████████| 2/2 [00:00<00:00, 1730.68it/s]\n",
      "100%|██████████| 2/2 [00:00<00:00, 1785.57it/s]\n",
      "100%|██████████| 2/2 [00:00<00:00, 1728.54it/s]"
     ]
    },
    {
     "name": "stdout",
     "output_type": "stream",
     "text": [
      "7000\n"
     ]
    },
    {
     "name": "stderr",
     "output_type": "stream",
     "text": [
      "\n",
      "  0%|          | 0/2 [00:00<?, ?it/s]/home/ak287/PNW_Seismic_Event_Classification/notebooks/../feature_extraction_scripts/physical_feature_extraction_scripts/seis_feature.py:101: RuntimeWarning: invalid value encountered in double_scalars\n",
      "  'Gamma': lambda: ((np.dot(self.freq, self.ft**(2)) / np.sum(self.ft**(2)))**(2) - ((np.dot(self.freq**(2), self.ft**(2)) / np.sum(self.ft**(2)))**(0.5))**(2))**(0.5),\n",
      "100%|██████████| 2/2 [00:00<00:00,  7.80it/s]\n",
      "  0%|          | 0/2 [00:00<?, ?it/s]/home/ak287/PNW_Seismic_Event_Classification/notebooks/../feature_extraction_scripts/physical_feature_extraction_scripts/seis_feature.py:101: RuntimeWarning: invalid value encountered in double_scalars\n",
      "  'Gamma': lambda: ((np.dot(self.freq, self.ft**(2)) / np.sum(self.ft**(2)))**(2) - ((np.dot(self.freq**(2), self.ft**(2)) / np.sum(self.ft**(2)))**(0.5))**(2))**(0.5),\n",
      "100%|██████████| 2/2 [00:00<00:00,  7.54it/s]\n",
      "  0%|          | 0/2 [00:00<?, ?it/s]/home/ak287/PNW_Seismic_Event_Classification/notebooks/../feature_extraction_scripts/physical_feature_extraction_scripts/seis_feature.py:101: RuntimeWarning: invalid value encountered in double_scalars\n",
      "  'Gamma': lambda: ((np.dot(self.freq, self.ft**(2)) / np.sum(self.ft**(2)))**(2) - ((np.dot(self.freq**(2), self.ft**(2)) / np.sum(self.ft**(2)))**(0.5))**(2))**(0.5),\n",
      "100%|██████████| 2/2 [00:00<00:00,  7.53it/s]\n",
      "  0%|          | 0/2 [00:00<?, ?it/s]/home/ak287/PNW_Seismic_Event_Classification/notebooks/../feature_extraction_scripts/physical_feature_extraction_scripts/seis_feature.py:101: RuntimeWarning: invalid value encountered in double_scalars\n",
      "  'Gamma': lambda: ((np.dot(self.freq, self.ft**(2)) / np.sum(self.ft**(2)))**(2) - ((np.dot(self.freq**(2), self.ft**(2)) / np.sum(self.ft**(2)))**(0.5))**(2))**(0.5),\n",
      "100%|██████████| 2/2 [00:00<00:00,  7.13it/s]\n",
      "100%|██████████| 2/2 [00:00<00:00, 1234.34it/s]\n",
      "100%|██████████| 2/2 [00:00<00:00, 1732.11it/s]\n",
      "100%|██████████| 2/2 [00:00<00:00, 1681.08it/s]\n",
      "100%|██████████| 2/2 [00:00<00:00, 1619.42it/s]\n"
     ]
    },
    {
     "name": "stdout",
     "output_type": "stream",
     "text": [
      "2500\n"
     ]
    },
    {
     "name": "stderr",
     "output_type": "stream",
     "text": [
      "  0%|          | 0/2 [00:00<?, ?it/s]/home/ak287/PNW_Seismic_Event_Classification/notebooks/../feature_extraction_scripts/physical_feature_extraction_scripts/seis_feature.py:101: RuntimeWarning: invalid value encountered in double_scalars\n",
      "  'Gamma': lambda: ((np.dot(self.freq, self.ft**(2)) / np.sum(self.ft**(2)))**(2) - ((np.dot(self.freq**(2), self.ft**(2)) / np.sum(self.ft**(2)))**(0.5))**(2))**(0.5),\n",
      "100%|██████████| 2/2 [00:00<00:00,  9.10it/s]\n",
      "  0%|          | 0/2 [00:00<?, ?it/s]/home/ak287/PNW_Seismic_Event_Classification/notebooks/../feature_extraction_scripts/physical_feature_extraction_scripts/seis_feature.py:101: RuntimeWarning: invalid value encountered in double_scalars\n",
      "  'Gamma': lambda: ((np.dot(self.freq, self.ft**(2)) / np.sum(self.ft**(2)))**(2) - ((np.dot(self.freq**(2), self.ft**(2)) / np.sum(self.ft**(2)))**(0.5))**(2))**(0.5),\n",
      "100%|██████████| 2/2 [00:00<00:00,  9.52it/s]\n",
      "  0%|          | 0/2 [00:00<?, ?it/s]/home/ak287/PNW_Seismic_Event_Classification/notebooks/../feature_extraction_scripts/physical_feature_extraction_scripts/seis_feature.py:101: RuntimeWarning: invalid value encountered in double_scalars\n",
      "  'Gamma': lambda: ((np.dot(self.freq, self.ft**(2)) / np.sum(self.ft**(2)))**(2) - ((np.dot(self.freq**(2), self.ft**(2)) / np.sum(self.ft**(2)))**(0.5))**(2))**(0.5),\n",
      "100%|██████████| 2/2 [00:00<00:00,  9.38it/s]\n",
      "  0%|          | 0/2 [00:00<?, ?it/s]/home/ak287/PNW_Seismic_Event_Classification/notebooks/../feature_extraction_scripts/physical_feature_extraction_scripts/seis_feature.py:101: RuntimeWarning: invalid value encountered in double_scalars\n",
      "  'Gamma': lambda: ((np.dot(self.freq, self.ft**(2)) / np.sum(self.ft**(2)))**(2) - ((np.dot(self.freq**(2), self.ft**(2)) / np.sum(self.ft**(2)))**(0.5))**(2))**(0.5),\n",
      "100%|██████████| 2/2 [00:00<00:00, 10.03it/s]\n",
      "100%|██████████| 2/2 [00:00<00:00, 1195.64it/s]\n",
      "100%|██████████| 2/2 [00:00<00:00, 1640.96it/s]\n",
      "100%|██████████| 2/2 [00:00<00:00, 1789.00it/s]\n",
      "100%|██████████| 2/2 [00:00<00:00, 1736.05it/s]\n"
     ]
    },
    {
     "name": "stdout",
     "output_type": "stream",
     "text": [
      "15000\n"
     ]
    },
    {
     "name": "stderr",
     "output_type": "stream",
     "text": [
      "  0%|          | 0/2 [00:00<?, ?it/s]/home/ak287/PNW_Seismic_Event_Classification/notebooks/../feature_extraction_scripts/physical_feature_extraction_scripts/seis_feature.py:101: RuntimeWarning: invalid value encountered in double_scalars\n",
      "  'Gamma': lambda: ((np.dot(self.freq, self.ft**(2)) / np.sum(self.ft**(2)))**(2) - ((np.dot(self.freq**(2), self.ft**(2)) / np.sum(self.ft**(2)))**(0.5))**(2))**(0.5),\n",
      "100%|██████████| 2/2 [00:08<00:00,  4.47s/it]\n",
      "  0%|          | 0/2 [00:00<?, ?it/s]/home/ak287/PNW_Seismic_Event_Classification/notebooks/../feature_extraction_scripts/physical_feature_extraction_scripts/seis_feature.py:101: RuntimeWarning: invalid value encountered in double_scalars\n",
      "  'Gamma': lambda: ((np.dot(self.freq, self.ft**(2)) / np.sum(self.ft**(2)))**(2) - ((np.dot(self.freq**(2), self.ft**(2)) / np.sum(self.ft**(2)))**(0.5))**(2))**(0.5),\n",
      "100%|██████████| 2/2 [00:09<00:00,  4.56s/it]\n",
      "  0%|          | 0/2 [00:00<?, ?it/s]/home/ak287/PNW_Seismic_Event_Classification/notebooks/../feature_extraction_scripts/physical_feature_extraction_scripts/seis_feature.py:101: RuntimeWarning: invalid value encountered in double_scalars\n",
      "  'Gamma': lambda: ((np.dot(self.freq, self.ft**(2)) / np.sum(self.ft**(2)))**(2) - ((np.dot(self.freq**(2), self.ft**(2)) / np.sum(self.ft**(2)))**(0.5))**(2))**(0.5),\n",
      "100%|██████████| 2/2 [00:06<00:00,  3.34s/it]\n",
      "  0%|          | 0/2 [00:00<?, ?it/s]/home/ak287/PNW_Seismic_Event_Classification/notebooks/../feature_extraction_scripts/physical_feature_extraction_scripts/seis_feature.py:101: RuntimeWarning: invalid value encountered in double_scalars\n",
      "  'Gamma': lambda: ((np.dot(self.freq, self.ft**(2)) / np.sum(self.ft**(2)))**(2) - ((np.dot(self.freq**(2), self.ft**(2)) / np.sum(self.ft**(2)))**(0.5))**(2))**(0.5),\n",
      "100%|██████████| 2/2 [00:07<00:00,  3.68s/it]\n",
      "100%|██████████| 2/2 [00:00<00:00, 1075.32it/s]\n",
      "100%|██████████| 2/2 [00:00<00:00, 1959.04it/s]\n",
      "100%|██████████| 2/2 [00:00<00:00, 431.25it/s]\n",
      "100%|██████████| 2/2 [00:00<00:00, 1733.90it/s]"
     ]
    },
    {
     "name": "stdout",
     "output_type": "stream",
     "text": [
      "4000\n"
     ]
    },
    {
     "name": "stderr",
     "output_type": "stream",
     "text": [
      "\n",
      "  0%|          | 0/2 [00:00<?, ?it/s]/home/ak287/PNW_Seismic_Event_Classification/notebooks/../feature_extraction_scripts/physical_feature_extraction_scripts/seis_feature.py:101: RuntimeWarning: invalid value encountered in double_scalars\n",
      "  'Gamma': lambda: ((np.dot(self.freq, self.ft**(2)) / np.sum(self.ft**(2)))**(2) - ((np.dot(self.freq**(2), self.ft**(2)) / np.sum(self.ft**(2)))**(0.5))**(2))**(0.5),\n",
      "100%|██████████| 2/2 [00:00<00:00, 10.58it/s]\n",
      "  0%|          | 0/2 [00:00<?, ?it/s]/home/ak287/PNW_Seismic_Event_Classification/notebooks/../feature_extraction_scripts/physical_feature_extraction_scripts/seis_feature.py:101: RuntimeWarning: invalid value encountered in double_scalars\n",
      "  'Gamma': lambda: ((np.dot(self.freq, self.ft**(2)) / np.sum(self.ft**(2)))**(2) - ((np.dot(self.freq**(2), self.ft**(2)) / np.sum(self.ft**(2)))**(0.5))**(2))**(0.5),\n",
      "100%|██████████| 2/2 [00:00<00:00,  7.65it/s]\n",
      "  0%|          | 0/2 [00:00<?, ?it/s]/home/ak287/PNW_Seismic_Event_Classification/notebooks/../feature_extraction_scripts/physical_feature_extraction_scripts/seis_feature.py:101: RuntimeWarning: invalid value encountered in double_scalars\n",
      "  'Gamma': lambda: ((np.dot(self.freq, self.ft**(2)) / np.sum(self.ft**(2)))**(2) - ((np.dot(self.freq**(2), self.ft**(2)) / np.sum(self.ft**(2)))**(0.5))**(2))**(0.5),\n",
      "100%|██████████| 2/2 [00:00<00:00, 11.61it/s]\n",
      "  0%|          | 0/2 [00:00<?, ?it/s]/home/ak287/PNW_Seismic_Event_Classification/notebooks/../feature_extraction_scripts/physical_feature_extraction_scripts/seis_feature.py:101: RuntimeWarning: invalid value encountered in double_scalars\n",
      "  'Gamma': lambda: ((np.dot(self.freq, self.ft**(2)) / np.sum(self.ft**(2)))**(2) - ((np.dot(self.freq**(2), self.ft**(2)) / np.sum(self.ft**(2)))**(0.5))**(2))**(0.5),\n",
      "100%|██████████| 2/2 [00:00<00:00, 12.44it/s]\n",
      "100%|██████████| 2/2 [00:00<00:00, 1268.50it/s]\n",
      "100%|██████████| 2/2 [00:00<00:00, 1806.33it/s]\n",
      "100%|██████████| 2/2 [00:00<00:00, 1982.65it/s]\n",
      "100%|██████████| 2/2 [00:00<00:00, 1739.65it/s]"
     ]
    },
    {
     "name": "stdout",
     "output_type": "stream",
     "text": [
      "5000\n"
     ]
    },
    {
     "name": "stderr",
     "output_type": "stream",
     "text": [
      "\n",
      "  0%|          | 0/2 [00:00<?, ?it/s]/home/ak287/PNW_Seismic_Event_Classification/notebooks/../feature_extraction_scripts/physical_feature_extraction_scripts/seis_feature.py:101: RuntimeWarning: invalid value encountered in double_scalars\n",
      "  'Gamma': lambda: ((np.dot(self.freq, self.ft**(2)) / np.sum(self.ft**(2)))**(2) - ((np.dot(self.freq**(2), self.ft**(2)) / np.sum(self.ft**(2)))**(0.5))**(2))**(0.5),\n",
      "100%|██████████| 2/2 [00:00<00:00,  8.91it/s]\n",
      "  0%|          | 0/2 [00:00<?, ?it/s]/home/ak287/PNW_Seismic_Event_Classification/notebooks/../feature_extraction_scripts/physical_feature_extraction_scripts/seis_feature.py:101: RuntimeWarning: invalid value encountered in double_scalars\n",
      "  'Gamma': lambda: ((np.dot(self.freq, self.ft**(2)) / np.sum(self.ft**(2)))**(2) - ((np.dot(self.freq**(2), self.ft**(2)) / np.sum(self.ft**(2)))**(0.5))**(2))**(0.5),\n",
      "100%|██████████| 2/2 [00:00<00:00,  8.81it/s]\n",
      "  0%|          | 0/2 [00:00<?, ?it/s]/home/ak287/PNW_Seismic_Event_Classification/notebooks/../feature_extraction_scripts/physical_feature_extraction_scripts/seis_feature.py:101: RuntimeWarning: invalid value encountered in double_scalars\n",
      "  'Gamma': lambda: ((np.dot(self.freq, self.ft**(2)) / np.sum(self.ft**(2)))**(2) - ((np.dot(self.freq**(2), self.ft**(2)) / np.sum(self.ft**(2)))**(0.5))**(2))**(0.5),\n",
      "100%|██████████| 2/2 [00:00<00:00,  9.46it/s]\n",
      "  0%|          | 0/2 [00:00<?, ?it/s]/home/ak287/PNW_Seismic_Event_Classification/notebooks/../feature_extraction_scripts/physical_feature_extraction_scripts/seis_feature.py:101: RuntimeWarning: invalid value encountered in double_scalars\n",
      "  'Gamma': lambda: ((np.dot(self.freq, self.ft**(2)) / np.sum(self.ft**(2)))**(2) - ((np.dot(self.freq**(2), self.ft**(2)) / np.sum(self.ft**(2)))**(0.5))**(2))**(0.5),\n",
      "100%|██████████| 2/2 [00:00<00:00,  8.31it/s]\n",
      "100%|██████████| 2/2 [00:00<00:00, 1230.72it/s]\n",
      "100%|██████████| 2/2 [00:00<00:00, 1745.44it/s]\n",
      "100%|██████████| 2/2 [00:00<00:00, 1973.79it/s]\n",
      "100%|██████████| 2/2 [00:00<00:00, 1646.12it/s]"
     ]
    },
    {
     "name": "stdout",
     "output_type": "stream",
     "text": [
      "7000\n"
     ]
    },
    {
     "name": "stderr",
     "output_type": "stream",
     "text": [
      "\n",
      "  0%|          | 0/2 [00:00<?, ?it/s]/home/ak287/PNW_Seismic_Event_Classification/notebooks/../feature_extraction_scripts/physical_feature_extraction_scripts/seis_feature.py:101: RuntimeWarning: invalid value encountered in double_scalars\n",
      "  'Gamma': lambda: ((np.dot(self.freq, self.ft**(2)) / np.sum(self.ft**(2)))**(2) - ((np.dot(self.freq**(2), self.ft**(2)) / np.sum(self.ft**(2)))**(0.5))**(2))**(0.5),\n",
      "100%|██████████| 2/2 [00:00<00:00,  7.55it/s]\n",
      "  0%|          | 0/2 [00:00<?, ?it/s]/home/ak287/PNW_Seismic_Event_Classification/notebooks/../feature_extraction_scripts/physical_feature_extraction_scripts/seis_feature.py:101: RuntimeWarning: invalid value encountered in double_scalars\n",
      "  'Gamma': lambda: ((np.dot(self.freq, self.ft**(2)) / np.sum(self.ft**(2)))**(2) - ((np.dot(self.freq**(2), self.ft**(2)) / np.sum(self.ft**(2)))**(0.5))**(2))**(0.5),\n",
      "100%|██████████| 2/2 [00:00<00:00,  7.08it/s]\n",
      "  0%|          | 0/2 [00:00<?, ?it/s]/home/ak287/PNW_Seismic_Event_Classification/notebooks/../feature_extraction_scripts/physical_feature_extraction_scripts/seis_feature.py:101: RuntimeWarning: invalid value encountered in double_scalars\n",
      "  'Gamma': lambda: ((np.dot(self.freq, self.ft**(2)) / np.sum(self.ft**(2)))**(2) - ((np.dot(self.freq**(2), self.ft**(2)) / np.sum(self.ft**(2)))**(0.5))**(2))**(0.5),\n",
      "100%|██████████| 2/2 [00:00<00:00,  6.99it/s]\n",
      "  0%|          | 0/2 [00:00<?, ?it/s]/home/ak287/PNW_Seismic_Event_Classification/notebooks/../feature_extraction_scripts/physical_feature_extraction_scripts/seis_feature.py:101: RuntimeWarning: invalid value encountered in double_scalars\n",
      "  'Gamma': lambda: ((np.dot(self.freq, self.ft**(2)) / np.sum(self.ft**(2)))**(2) - ((np.dot(self.freq**(2), self.ft**(2)) / np.sum(self.ft**(2)))**(0.5))**(2))**(0.5),\n",
      "100%|██████████| 2/2 [00:00<00:00,  7.27it/s]\n",
      "100%|██████████| 2/2 [00:00<00:00, 1132.37it/s]\n",
      "100%|██████████| 2/2 [00:00<00:00, 1903.91it/s]\n",
      "100%|██████████| 2/2 [00:00<00:00, 1914.33it/s]\n",
      "100%|██████████| 2/2 [00:00<00:00, 1727.12it/s]"
     ]
    },
    {
     "name": "stdout",
     "output_type": "stream",
     "text": [
      "2500\n"
     ]
    },
    {
     "name": "stderr",
     "output_type": "stream",
     "text": [
      "\n",
      "  0%|          | 0/2 [00:00<?, ?it/s]/home/ak287/PNW_Seismic_Event_Classification/notebooks/../feature_extraction_scripts/physical_feature_extraction_scripts/seis_feature.py:101: RuntimeWarning: invalid value encountered in double_scalars\n",
      "  'Gamma': lambda: ((np.dot(self.freq, self.ft**(2)) / np.sum(self.ft**(2)))**(2) - ((np.dot(self.freq**(2), self.ft**(2)) / np.sum(self.ft**(2)))**(0.5))**(2))**(0.5),\n",
      "100%|██████████| 2/2 [00:00<00:00, 12.18it/s]\n",
      "  0%|          | 0/2 [00:00<?, ?it/s]/home/ak287/PNW_Seismic_Event_Classification/notebooks/../feature_extraction_scripts/physical_feature_extraction_scripts/seis_feature.py:101: RuntimeWarning: invalid value encountered in double_scalars\n",
      "  'Gamma': lambda: ((np.dot(self.freq, self.ft**(2)) / np.sum(self.ft**(2)))**(2) - ((np.dot(self.freq**(2), self.ft**(2)) / np.sum(self.ft**(2)))**(0.5))**(2))**(0.5),\n",
      "100%|██████████| 2/2 [00:00<00:00,  8.28it/s]\n",
      "  0%|          | 0/2 [00:00<?, ?it/s]/home/ak287/PNW_Seismic_Event_Classification/notebooks/../feature_extraction_scripts/physical_feature_extraction_scripts/seis_feature.py:101: RuntimeWarning: invalid value encountered in double_scalars\n",
      "  'Gamma': lambda: ((np.dot(self.freq, self.ft**(2)) / np.sum(self.ft**(2)))**(2) - ((np.dot(self.freq**(2), self.ft**(2)) / np.sum(self.ft**(2)))**(0.5))**(2))**(0.5),\n",
      "100%|██████████| 2/2 [00:00<00:00,  9.00it/s]\n",
      "  0%|          | 0/2 [00:00<?, ?it/s]/home/ak287/PNW_Seismic_Event_Classification/notebooks/../feature_extraction_scripts/physical_feature_extraction_scripts/seis_feature.py:101: RuntimeWarning: invalid value encountered in double_scalars\n",
      "  'Gamma': lambda: ((np.dot(self.freq, self.ft**(2)) / np.sum(self.ft**(2)))**(2) - ((np.dot(self.freq**(2), self.ft**(2)) / np.sum(self.ft**(2)))**(0.5))**(2))**(0.5),\n",
      "100%|██████████| 2/2 [00:00<00:00,  9.13it/s]\n",
      "100%|██████████| 2/2 [00:00<00:00, 1128.56it/s]\n",
      "100%|██████████| 2/2 [00:00<00:00, 1737.49it/s]\n",
      "100%|██████████| 2/2 [00:00<00:00, 2161.46it/s]\n",
      "100%|██████████| 2/2 [00:00<00:00, 1670.04it/s]"
     ]
    },
    {
     "name": "stdout",
     "output_type": "stream",
     "text": [
      "15000\n"
     ]
    },
    {
     "name": "stderr",
     "output_type": "stream",
     "text": [
      "\n",
      "  0%|          | 0/2 [00:00<?, ?it/s]/home/ak287/PNW_Seismic_Event_Classification/notebooks/../feature_extraction_scripts/physical_feature_extraction_scripts/seis_feature.py:101: RuntimeWarning: invalid value encountered in double_scalars\n",
      "  'Gamma': lambda: ((np.dot(self.freq, self.ft**(2)) / np.sum(self.ft**(2)))**(2) - ((np.dot(self.freq**(2), self.ft**(2)) / np.sum(self.ft**(2)))**(0.5))**(2))**(0.5),\n",
      "100%|██████████| 2/2 [00:13<00:00,  6.80s/it]\n",
      "  0%|          | 0/2 [00:00<?, ?it/s]/home/ak287/PNW_Seismic_Event_Classification/notebooks/../feature_extraction_scripts/physical_feature_extraction_scripts/seis_feature.py:101: RuntimeWarning: invalid value encountered in double_scalars\n",
      "  'Gamma': lambda: ((np.dot(self.freq, self.ft**(2)) / np.sum(self.ft**(2)))**(2) - ((np.dot(self.freq**(2), self.ft**(2)) / np.sum(self.ft**(2)))**(0.5))**(2))**(0.5),\n",
      "100%|██████████| 2/2 [00:06<00:00,  3.37s/it]\n",
      "  0%|          | 0/2 [00:00<?, ?it/s]/home/ak287/PNW_Seismic_Event_Classification/notebooks/../feature_extraction_scripts/physical_feature_extraction_scripts/seis_feature.py:101: RuntimeWarning: invalid value encountered in double_scalars\n",
      "  'Gamma': lambda: ((np.dot(self.freq, self.ft**(2)) / np.sum(self.ft**(2)))**(2) - ((np.dot(self.freq**(2), self.ft**(2)) / np.sum(self.ft**(2)))**(0.5))**(2))**(0.5),\n",
      "100%|██████████| 2/2 [00:05<00:00,  2.58s/it]\n",
      "  0%|          | 0/2 [00:00<?, ?it/s]/home/ak287/PNW_Seismic_Event_Classification/notebooks/../feature_extraction_scripts/physical_feature_extraction_scripts/seis_feature.py:101: RuntimeWarning: invalid value encountered in double_scalars\n",
      "  'Gamma': lambda: ((np.dot(self.freq, self.ft**(2)) / np.sum(self.ft**(2)))**(2) - ((np.dot(self.freq**(2), self.ft**(2)) / np.sum(self.ft**(2)))**(0.5))**(2))**(0.5),\n",
      "100%|██████████| 2/2 [00:05<00:00,  2.65s/it]\n",
      "100%|██████████| 2/2 [00:00<00:00, 1075.88it/s]\n",
      "100%|██████████| 2/2 [00:00<00:00, 1719.68it/s]\n",
      "100%|██████████| 2/2 [00:00<00:00, 2025.26it/s]\n",
      "100%|██████████| 2/2 [00:00<00:00, 1714.76it/s]"
     ]
    },
    {
     "name": "stdout",
     "output_type": "stream",
     "text": [
      "4000\n"
     ]
    },
    {
     "name": "stderr",
     "output_type": "stream",
     "text": [
      "\n",
      "  0%|          | 0/2 [00:00<?, ?it/s]/home/ak287/PNW_Seismic_Event_Classification/notebooks/../feature_extraction_scripts/physical_feature_extraction_scripts/seis_feature.py:101: RuntimeWarning: invalid value encountered in double_scalars\n",
      "  'Gamma': lambda: ((np.dot(self.freq, self.ft**(2)) / np.sum(self.ft**(2)))**(2) - ((np.dot(self.freq**(2), self.ft**(2)) / np.sum(self.ft**(2)))**(0.5))**(2))**(0.5),\n",
      "100%|██████████| 2/2 [00:00<00:00, 10.37it/s]\n",
      "  0%|          | 0/2 [00:00<?, ?it/s]/home/ak287/PNW_Seismic_Event_Classification/notebooks/../feature_extraction_scripts/physical_feature_extraction_scripts/seis_feature.py:101: RuntimeWarning: invalid value encountered in double_scalars\n",
      "  'Gamma': lambda: ((np.dot(self.freq, self.ft**(2)) / np.sum(self.ft**(2)))**(2) - ((np.dot(self.freq**(2), self.ft**(2)) / np.sum(self.ft**(2)))**(0.5))**(2))**(0.5),\n",
      "100%|██████████| 2/2 [00:00<00:00,  8.29it/s]\n",
      "  0%|          | 0/2 [00:00<?, ?it/s]/home/ak287/PNW_Seismic_Event_Classification/notebooks/../feature_extraction_scripts/physical_feature_extraction_scripts/seis_feature.py:101: RuntimeWarning: invalid value encountered in double_scalars\n",
      "  'Gamma': lambda: ((np.dot(self.freq, self.ft**(2)) / np.sum(self.ft**(2)))**(2) - ((np.dot(self.freq**(2), self.ft**(2)) / np.sum(self.ft**(2)))**(0.5))**(2))**(0.5),\n",
      "100%|██████████| 2/2 [00:00<00:00, 10.93it/s]\n",
      "  0%|          | 0/2 [00:00<?, ?it/s]/home/ak287/PNW_Seismic_Event_Classification/notebooks/../feature_extraction_scripts/physical_feature_extraction_scripts/seis_feature.py:101: RuntimeWarning: invalid value encountered in double_scalars\n",
      "  'Gamma': lambda: ((np.dot(self.freq, self.ft**(2)) / np.sum(self.ft**(2)))**(2) - ((np.dot(self.freq**(2), self.ft**(2)) / np.sum(self.ft**(2)))**(0.5))**(2))**(0.5),\n",
      "100%|██████████| 2/2 [00:00<00:00,  9.31it/s]\n",
      "100%|██████████| 2/2 [00:00<00:00, 1178.67it/s]\n",
      "100%|██████████| 2/2 [00:00<00:00, 1779.51it/s]\n",
      "100%|██████████| 2/2 [00:00<00:00, 1711.96it/s]\n",
      "100%|██████████| 2/2 [00:00<00:00, 1670.37it/s]\n"
     ]
    },
    {
     "name": "stdout",
     "output_type": "stream",
     "text": [
      "5000\n"
     ]
    },
    {
     "name": "stderr",
     "output_type": "stream",
     "text": [
      "  0%|          | 0/2 [00:00<?, ?it/s]/home/ak287/PNW_Seismic_Event_Classification/notebooks/../feature_extraction_scripts/physical_feature_extraction_scripts/seis_feature.py:101: RuntimeWarning: invalid value encountered in double_scalars\n",
      "  'Gamma': lambda: ((np.dot(self.freq, self.ft**(2)) / np.sum(self.ft**(2)))**(2) - ((np.dot(self.freq**(2), self.ft**(2)) / np.sum(self.ft**(2)))**(0.5))**(2))**(0.5),\n",
      "100%|██████████| 2/2 [00:00<00:00,  7.27it/s]\n",
      "  0%|          | 0/2 [00:00<?, ?it/s]/home/ak287/PNW_Seismic_Event_Classification/notebooks/../feature_extraction_scripts/physical_feature_extraction_scripts/seis_feature.py:101: RuntimeWarning: invalid value encountered in double_scalars\n",
      "  'Gamma': lambda: ((np.dot(self.freq, self.ft**(2)) / np.sum(self.ft**(2)))**(2) - ((np.dot(self.freq**(2), self.ft**(2)) / np.sum(self.ft**(2)))**(0.5))**(2))**(0.5),\n",
      "100%|██████████| 2/2 [00:00<00:00,  7.22it/s]\n",
      "  0%|          | 0/2 [00:00<?, ?it/s]/home/ak287/PNW_Seismic_Event_Classification/notebooks/../feature_extraction_scripts/physical_feature_extraction_scripts/seis_feature.py:101: RuntimeWarning: invalid value encountered in double_scalars\n",
      "  'Gamma': lambda: ((np.dot(self.freq, self.ft**(2)) / np.sum(self.ft**(2)))**(2) - ((np.dot(self.freq**(2), self.ft**(2)) / np.sum(self.ft**(2)))**(0.5))**(2))**(0.5),\n",
      "100%|██████████| 2/2 [00:00<00:00,  9.47it/s]\n",
      "  0%|          | 0/2 [00:00<?, ?it/s]/home/ak287/PNW_Seismic_Event_Classification/notebooks/../feature_extraction_scripts/physical_feature_extraction_scripts/seis_feature.py:101: RuntimeWarning: invalid value encountered in double_scalars\n",
      "  'Gamma': lambda: ((np.dot(self.freq, self.ft**(2)) / np.sum(self.ft**(2)))**(2) - ((np.dot(self.freq**(2), self.ft**(2)) / np.sum(self.ft**(2)))**(0.5))**(2))**(0.5),\n",
      "100%|██████████| 2/2 [00:00<00:00,  7.07it/s]\n",
      "100%|██████████| 2/2 [00:00<00:00, 1021.13it/s]\n",
      "100%|██████████| 2/2 [00:00<00:00, 1763.42it/s]\n",
      "100%|██████████| 2/2 [00:00<00:00, 1908.67it/s]\n",
      "100%|██████████| 2/2 [00:00<00:00, 1634.57it/s]"
     ]
    },
    {
     "name": "stdout",
     "output_type": "stream",
     "text": [
      "7000\n"
     ]
    },
    {
     "name": "stderr",
     "output_type": "stream",
     "text": [
      "\n",
      "  0%|          | 0/2 [00:00<?, ?it/s]/home/ak287/PNW_Seismic_Event_Classification/notebooks/../feature_extraction_scripts/physical_feature_extraction_scripts/seis_feature.py:101: RuntimeWarning: invalid value encountered in double_scalars\n",
      "  'Gamma': lambda: ((np.dot(self.freq, self.ft**(2)) / np.sum(self.ft**(2)))**(2) - ((np.dot(self.freq**(2), self.ft**(2)) / np.sum(self.ft**(2)))**(0.5))**(2))**(0.5),\n",
      "100%|██████████| 2/2 [00:00<00:00,  8.45it/s]\n",
      "  0%|          | 0/2 [00:00<?, ?it/s]/home/ak287/PNW_Seismic_Event_Classification/notebooks/../feature_extraction_scripts/physical_feature_extraction_scripts/seis_feature.py:101: RuntimeWarning: invalid value encountered in double_scalars\n",
      "  'Gamma': lambda: ((np.dot(self.freq, self.ft**(2)) / np.sum(self.ft**(2)))**(2) - ((np.dot(self.freq**(2), self.ft**(2)) / np.sum(self.ft**(2)))**(0.5))**(2))**(0.5),\n",
      "100%|██████████| 2/2 [00:00<00:00,  8.37it/s]\n",
      "  0%|          | 0/2 [00:00<?, ?it/s]/home/ak287/PNW_Seismic_Event_Classification/notebooks/../feature_extraction_scripts/physical_feature_extraction_scripts/seis_feature.py:101: RuntimeWarning: invalid value encountered in double_scalars\n",
      "  'Gamma': lambda: ((np.dot(self.freq, self.ft**(2)) / np.sum(self.ft**(2)))**(2) - ((np.dot(self.freq**(2), self.ft**(2)) / np.sum(self.ft**(2)))**(0.5))**(2))**(0.5),\n",
      "100%|██████████| 2/2 [00:00<00:00,  6.99it/s]\n",
      "  0%|          | 0/2 [00:00<?, ?it/s]/home/ak287/PNW_Seismic_Event_Classification/notebooks/../feature_extraction_scripts/physical_feature_extraction_scripts/seis_feature.py:101: RuntimeWarning: invalid value encountered in double_scalars\n",
      "  'Gamma': lambda: ((np.dot(self.freq, self.ft**(2)) / np.sum(self.ft**(2)))**(2) - ((np.dot(self.freq**(2), self.ft**(2)) / np.sum(self.ft**(2)))**(0.5))**(2))**(0.5),\n",
      "100%|██████████| 2/2 [00:00<00:00,  6.98it/s]\n",
      "100%|██████████| 2/2 [00:00<00:00, 1265.63it/s]\n",
      "100%|██████████| 2/2 [00:00<00:00, 2088.80it/s]\n",
      "100%|██████████| 2/2 [00:00<00:00, 2313.46it/s]\n",
      "100%|██████████| 2/2 [00:00<00:00, 1888.48it/s]"
     ]
    },
    {
     "name": "stdout",
     "output_type": "stream",
     "text": [
      "2500\n"
     ]
    },
    {
     "name": "stderr",
     "output_type": "stream",
     "text": [
      "\n",
      "  0%|          | 0/2 [00:00<?, ?it/s]/home/ak287/PNW_Seismic_Event_Classification/notebooks/../feature_extraction_scripts/physical_feature_extraction_scripts/seis_feature.py:101: RuntimeWarning: invalid value encountered in double_scalars\n",
      "  'Gamma': lambda: ((np.dot(self.freq, self.ft**(2)) / np.sum(self.ft**(2)))**(2) - ((np.dot(self.freq**(2), self.ft**(2)) / np.sum(self.ft**(2)))**(0.5))**(2))**(0.5),\n",
      "100%|██████████| 2/2 [00:00<00:00, 11.14it/s]\n",
      "  0%|          | 0/2 [00:00<?, ?it/s]/home/ak287/PNW_Seismic_Event_Classification/notebooks/../feature_extraction_scripts/physical_feature_extraction_scripts/seis_feature.py:101: RuntimeWarning: invalid value encountered in double_scalars\n",
      "  'Gamma': lambda: ((np.dot(self.freq, self.ft**(2)) / np.sum(self.ft**(2)))**(2) - ((np.dot(self.freq**(2), self.ft**(2)) / np.sum(self.ft**(2)))**(0.5))**(2))**(0.5),\n",
      "100%|██████████| 2/2 [00:00<00:00, 10.78it/s]\n",
      "  0%|          | 0/2 [00:00<?, ?it/s]/home/ak287/PNW_Seismic_Event_Classification/notebooks/../feature_extraction_scripts/physical_feature_extraction_scripts/seis_feature.py:101: RuntimeWarning: invalid value encountered in double_scalars\n",
      "  'Gamma': lambda: ((np.dot(self.freq, self.ft**(2)) / np.sum(self.ft**(2)))**(2) - ((np.dot(self.freq**(2), self.ft**(2)) / np.sum(self.ft**(2)))**(0.5))**(2))**(0.5),\n",
      "100%|██████████| 2/2 [00:00<00:00,  8.33it/s]\n",
      "  0%|          | 0/2 [00:00<?, ?it/s]/home/ak287/PNW_Seismic_Event_Classification/notebooks/../feature_extraction_scripts/physical_feature_extraction_scripts/seis_feature.py:101: RuntimeWarning: invalid value encountered in double_scalars\n",
      "  'Gamma': lambda: ((np.dot(self.freq, self.ft**(2)) / np.sum(self.ft**(2)))**(2) - ((np.dot(self.freq**(2), self.ft**(2)) / np.sum(self.ft**(2)))**(0.5))**(2))**(0.5),\n",
      "100%|██████████| 2/2 [00:00<00:00,  9.53it/s]\n",
      "100%|██████████| 2/2 [00:00<00:00, 1275.64it/s]\n",
      "100%|██████████| 2/2 [00:00<00:00, 1757.14it/s]\n",
      "100%|██████████| 2/2 [00:00<00:00, 2043.01it/s]\n",
      "100%|██████████| 2/2 [00:00<00:00, 1734.98it/s]"
     ]
    },
    {
     "name": "stdout",
     "output_type": "stream",
     "text": [
      "15000\n"
     ]
    },
    {
     "name": "stderr",
     "output_type": "stream",
     "text": [
      "\n",
      "  0%|          | 0/2 [00:00<?, ?it/s]/home/ak287/PNW_Seismic_Event_Classification/notebooks/../feature_extraction_scripts/physical_feature_extraction_scripts/seis_feature.py:101: RuntimeWarning: invalid value encountered in double_scalars\n",
      "  'Gamma': lambda: ((np.dot(self.freq, self.ft**(2)) / np.sum(self.ft**(2)))**(2) - ((np.dot(self.freq**(2), self.ft**(2)) / np.sum(self.ft**(2)))**(0.5))**(2))**(0.5),\n",
      "100%|██████████| 2/2 [00:10<00:00,  5.41s/it]\n",
      "  0%|          | 0/2 [00:00<?, ?it/s]/home/ak287/PNW_Seismic_Event_Classification/notebooks/../feature_extraction_scripts/physical_feature_extraction_scripts/seis_feature.py:101: RuntimeWarning: invalid value encountered in double_scalars\n",
      "  'Gamma': lambda: ((np.dot(self.freq, self.ft**(2)) / np.sum(self.ft**(2)))**(2) - ((np.dot(self.freq**(2), self.ft**(2)) / np.sum(self.ft**(2)))**(0.5))**(2))**(0.5),\n",
      "100%|██████████| 2/2 [00:09<00:00,  4.92s/it]\n",
      "  0%|          | 0/2 [00:00<?, ?it/s]/home/ak287/PNW_Seismic_Event_Classification/notebooks/../feature_extraction_scripts/physical_feature_extraction_scripts/seis_feature.py:101: RuntimeWarning: invalid value encountered in double_scalars\n",
      "  'Gamma': lambda: ((np.dot(self.freq, self.ft**(2)) / np.sum(self.ft**(2)))**(2) - ((np.dot(self.freq**(2), self.ft**(2)) / np.sum(self.ft**(2)))**(0.5))**(2))**(0.5),\n",
      "100%|██████████| 2/2 [00:08<00:00,  4.36s/it]\n",
      "  0%|          | 0/2 [00:00<?, ?it/s]/home/ak287/PNW_Seismic_Event_Classification/notebooks/../feature_extraction_scripts/physical_feature_extraction_scripts/seis_feature.py:101: RuntimeWarning: invalid value encountered in double_scalars\n",
      "  'Gamma': lambda: ((np.dot(self.freq, self.ft**(2)) / np.sum(self.ft**(2)))**(2) - ((np.dot(self.freq**(2), self.ft**(2)) / np.sum(self.ft**(2)))**(0.5))**(2))**(0.5),\n",
      "100%|██████████| 2/2 [00:05<00:00,  2.62s/it]\n",
      "100%|██████████| 2/2 [00:00<00:00, 1190.38it/s]\n",
      "100%|██████████| 2/2 [00:00<00:00, 2002.05it/s]\n",
      "100%|██████████| 2/2 [00:00<00:00, 1829.18it/s]\n",
      "100%|██████████| 2/2 [00:00<00:00, 1742.91it/s]"
     ]
    },
    {
     "name": "stdout",
     "output_type": "stream",
     "text": [
      "4000\n"
     ]
    },
    {
     "name": "stderr",
     "output_type": "stream",
     "text": [
      "\n",
      "  0%|          | 0/2 [00:00<?, ?it/s]/home/ak287/PNW_Seismic_Event_Classification/notebooks/../feature_extraction_scripts/physical_feature_extraction_scripts/seis_feature.py:101: RuntimeWarning: invalid value encountered in double_scalars\n",
      "  'Gamma': lambda: ((np.dot(self.freq, self.ft**(2)) / np.sum(self.ft**(2)))**(2) - ((np.dot(self.freq**(2), self.ft**(2)) / np.sum(self.ft**(2)))**(0.5))**(2))**(0.5),\n",
      "100%|██████████| 2/2 [00:00<00:00,  7.93it/s]\n",
      "  0%|          | 0/2 [00:00<?, ?it/s]/home/ak287/PNW_Seismic_Event_Classification/notebooks/../feature_extraction_scripts/physical_feature_extraction_scripts/seis_feature.py:101: RuntimeWarning: invalid value encountered in double_scalars\n",
      "  'Gamma': lambda: ((np.dot(self.freq, self.ft**(2)) / np.sum(self.ft**(2)))**(2) - ((np.dot(self.freq**(2), self.ft**(2)) / np.sum(self.ft**(2)))**(0.5))**(2))**(0.5),\n",
      "100%|██████████| 2/2 [00:00<00:00,  7.78it/s]\n",
      "  0%|          | 0/2 [00:00<?, ?it/s]/home/ak287/PNW_Seismic_Event_Classification/notebooks/../feature_extraction_scripts/physical_feature_extraction_scripts/seis_feature.py:101: RuntimeWarning: invalid value encountered in double_scalars\n",
      "  'Gamma': lambda: ((np.dot(self.freq, self.ft**(2)) / np.sum(self.ft**(2)))**(2) - ((np.dot(self.freq**(2), self.ft**(2)) / np.sum(self.ft**(2)))**(0.5))**(2))**(0.5),\n",
      "100%|██████████| 2/2 [00:00<00:00,  8.29it/s]\n",
      "  0%|          | 0/2 [00:00<?, ?it/s]/home/ak287/PNW_Seismic_Event_Classification/notebooks/../feature_extraction_scripts/physical_feature_extraction_scripts/seis_feature.py:101: RuntimeWarning: invalid value encountered in double_scalars\n",
      "  'Gamma': lambda: ((np.dot(self.freq, self.ft**(2)) / np.sum(self.ft**(2)))**(2) - ((np.dot(self.freq**(2), self.ft**(2)) / np.sum(self.ft**(2)))**(0.5))**(2))**(0.5),\n",
      "100%|██████████| 2/2 [00:00<00:00,  7.38it/s]\n",
      "100%|██████████| 2/2 [00:00<00:00, 1228.02it/s]\n",
      "100%|██████████| 2/2 [00:00<00:00, 1766.02it/s]\n",
      "100%|██████████| 2/2 [00:00<00:00, 1918.27it/s]\n",
      "100%|██████████| 2/2 [00:00<00:00, 1736.41it/s]"
     ]
    },
    {
     "name": "stdout",
     "output_type": "stream",
     "text": [
      "5000\n"
     ]
    },
    {
     "name": "stderr",
     "output_type": "stream",
     "text": [
      "\n",
      "  0%|          | 0/2 [00:00<?, ?it/s]/home/ak287/PNW_Seismic_Event_Classification/notebooks/../feature_extraction_scripts/physical_feature_extraction_scripts/seis_feature.py:101: RuntimeWarning: invalid value encountered in double_scalars\n",
      "  'Gamma': lambda: ((np.dot(self.freq, self.ft**(2)) / np.sum(self.ft**(2)))**(2) - ((np.dot(self.freq**(2), self.ft**(2)) / np.sum(self.ft**(2)))**(0.5))**(2))**(0.5),\n",
      "100%|██████████| 2/2 [00:00<00:00,  7.36it/s]\n",
      "  0%|          | 0/2 [00:00<?, ?it/s]/home/ak287/PNW_Seismic_Event_Classification/notebooks/../feature_extraction_scripts/physical_feature_extraction_scripts/seis_feature.py:101: RuntimeWarning: invalid value encountered in double_scalars\n",
      "  'Gamma': lambda: ((np.dot(self.freq, self.ft**(2)) / np.sum(self.ft**(2)))**(2) - ((np.dot(self.freq**(2), self.ft**(2)) / np.sum(self.ft**(2)))**(0.5))**(2))**(0.5),\n",
      "100%|██████████| 2/2 [00:00<00:00,  8.20it/s]\n",
      "  0%|          | 0/2 [00:00<?, ?it/s]/home/ak287/PNW_Seismic_Event_Classification/notebooks/../feature_extraction_scripts/physical_feature_extraction_scripts/seis_feature.py:101: RuntimeWarning: invalid value encountered in double_scalars\n",
      "  'Gamma': lambda: ((np.dot(self.freq, self.ft**(2)) / np.sum(self.ft**(2)))**(2) - ((np.dot(self.freq**(2), self.ft**(2)) / np.sum(self.ft**(2)))**(0.5))**(2))**(0.5),\n",
      "100%|██████████| 2/2 [00:00<00:00,  7.38it/s]\n",
      "  0%|          | 0/2 [00:00<?, ?it/s]/home/ak287/PNW_Seismic_Event_Classification/notebooks/../feature_extraction_scripts/physical_feature_extraction_scripts/seis_feature.py:101: RuntimeWarning: invalid value encountered in double_scalars\n",
      "  'Gamma': lambda: ((np.dot(self.freq, self.ft**(2)) / np.sum(self.ft**(2)))**(2) - ((np.dot(self.freq**(2), self.ft**(2)) / np.sum(self.ft**(2)))**(0.5))**(2))**(0.5),\n",
      "100%|██████████| 2/2 [00:00<00:00,  8.94it/s]\n",
      "100%|██████████| 2/2 [00:00<00:00, 1145.67it/s]\n",
      "100%|██████████| 2/2 [00:00<00:00, 1824.80it/s]\n",
      "100%|██████████| 2/2 [00:00<00:00, 1947.22it/s]\n",
      "100%|██████████| 2/2 [00:00<00:00, 1687.51it/s]"
     ]
    },
    {
     "name": "stdout",
     "output_type": "stream",
     "text": [
      "7000\n"
     ]
    },
    {
     "name": "stderr",
     "output_type": "stream",
     "text": [
      "\n",
      "  0%|          | 0/2 [00:00<?, ?it/s]/home/ak287/PNW_Seismic_Event_Classification/notebooks/../feature_extraction_scripts/physical_feature_extraction_scripts/seis_feature.py:101: RuntimeWarning: invalid value encountered in double_scalars\n",
      "  'Gamma': lambda: ((np.dot(self.freq, self.ft**(2)) / np.sum(self.ft**(2)))**(2) - ((np.dot(self.freq**(2), self.ft**(2)) / np.sum(self.ft**(2)))**(0.5))**(2))**(0.5),\n",
      "100%|██████████| 2/2 [00:00<00:00,  6.35it/s]\n",
      "  0%|          | 0/2 [00:00<?, ?it/s]/home/ak287/PNW_Seismic_Event_Classification/notebooks/../feature_extraction_scripts/physical_feature_extraction_scripts/seis_feature.py:101: RuntimeWarning: invalid value encountered in double_scalars\n",
      "  'Gamma': lambda: ((np.dot(self.freq, self.ft**(2)) / np.sum(self.ft**(2)))**(2) - ((np.dot(self.freq**(2), self.ft**(2)) / np.sum(self.ft**(2)))**(0.5))**(2))**(0.5),\n",
      "100%|██████████| 2/2 [00:00<00:00,  7.35it/s]\n",
      "  0%|          | 0/2 [00:00<?, ?it/s]/home/ak287/PNW_Seismic_Event_Classification/notebooks/../feature_extraction_scripts/physical_feature_extraction_scripts/seis_feature.py:101: RuntimeWarning: invalid value encountered in double_scalars\n",
      "  'Gamma': lambda: ((np.dot(self.freq, self.ft**(2)) / np.sum(self.ft**(2)))**(2) - ((np.dot(self.freq**(2), self.ft**(2)) / np.sum(self.ft**(2)))**(0.5))**(2))**(0.5),\n",
      "100%|██████████| 2/2 [00:00<00:00,  9.74it/s]\n",
      "  0%|          | 0/2 [00:00<?, ?it/s]/home/ak287/PNW_Seismic_Event_Classification/notebooks/../feature_extraction_scripts/physical_feature_extraction_scripts/seis_feature.py:101: RuntimeWarning: invalid value encountered in double_scalars\n",
      "  'Gamma': lambda: ((np.dot(self.freq, self.ft**(2)) / np.sum(self.ft**(2)))**(2) - ((np.dot(self.freq**(2), self.ft**(2)) / np.sum(self.ft**(2)))**(0.5))**(2))**(0.5),\n",
      "100%|██████████| 2/2 [00:00<00:00,  5.99it/s]\n",
      "100%|██████████| 2/2 [00:00<00:00, 1195.47it/s]\n",
      "100%|██████████| 2/2 [00:00<00:00, 1839.61it/s]\n",
      "100%|██████████| 2/2 [00:00<00:00, 1756.41it/s]\n",
      "100%|██████████| 2/2 [00:00<00:00, 1769.38it/s]"
     ]
    },
    {
     "name": "stdout",
     "output_type": "stream",
     "text": [
      "2500\n"
     ]
    },
    {
     "name": "stderr",
     "output_type": "stream",
     "text": [
      "\n",
      "  0%|          | 0/2 [00:00<?, ?it/s]/home/ak287/PNW_Seismic_Event_Classification/notebooks/../feature_extraction_scripts/physical_feature_extraction_scripts/seis_feature.py:101: RuntimeWarning: invalid value encountered in double_scalars\n",
      "  'Gamma': lambda: ((np.dot(self.freq, self.ft**(2)) / np.sum(self.ft**(2)))**(2) - ((np.dot(self.freq**(2), self.ft**(2)) / np.sum(self.ft**(2)))**(0.5))**(2))**(0.5),\n",
      "100%|██████████| 2/2 [00:00<00:00, 11.04it/s]\n",
      "  0%|          | 0/2 [00:00<?, ?it/s]/home/ak287/PNW_Seismic_Event_Classification/notebooks/../feature_extraction_scripts/physical_feature_extraction_scripts/seis_feature.py:101: RuntimeWarning: invalid value encountered in double_scalars\n",
      "  'Gamma': lambda: ((np.dot(self.freq, self.ft**(2)) / np.sum(self.ft**(2)))**(2) - ((np.dot(self.freq**(2), self.ft**(2)) / np.sum(self.ft**(2)))**(0.5))**(2))**(0.5),\n",
      "100%|██████████| 2/2 [00:00<00:00,  9.72it/s]\n",
      "  0%|          | 0/2 [00:00<?, ?it/s]/home/ak287/PNW_Seismic_Event_Classification/notebooks/../feature_extraction_scripts/physical_feature_extraction_scripts/seis_feature.py:101: RuntimeWarning: invalid value encountered in double_scalars\n",
      "  'Gamma': lambda: ((np.dot(self.freq, self.ft**(2)) / np.sum(self.ft**(2)))**(2) - ((np.dot(self.freq**(2), self.ft**(2)) / np.sum(self.ft**(2)))**(0.5))**(2))**(0.5),\n",
      "100%|██████████| 2/2 [00:00<00:00,  8.99it/s]\n",
      "  0%|          | 0/2 [00:00<?, ?it/s]/home/ak287/PNW_Seismic_Event_Classification/notebooks/../feature_extraction_scripts/physical_feature_extraction_scripts/seis_feature.py:101: RuntimeWarning: invalid value encountered in double_scalars\n",
      "  'Gamma': lambda: ((np.dot(self.freq, self.ft**(2)) / np.sum(self.ft**(2)))**(2) - ((np.dot(self.freq**(2), self.ft**(2)) / np.sum(self.ft**(2)))**(0.5))**(2))**(0.5),\n",
      "100%|██████████| 2/2 [00:00<00:00,  9.63it/s]\n",
      "100%|██████████| 2/2 [00:00<00:00, 1247.01it/s]\n",
      "100%|██████████| 2/2 [00:00<00:00, 1760.09it/s]\n",
      "100%|██████████| 2/2 [00:00<00:00, 1936.88it/s]\n",
      "100%|██████████| 2/2 [00:00<00:00, 1711.61it/s]"
     ]
    },
    {
     "name": "stdout",
     "output_type": "stream",
     "text": [
      "15000\n"
     ]
    },
    {
     "name": "stderr",
     "output_type": "stream",
     "text": [
      "\n",
      "  0%|          | 0/2 [00:00<?, ?it/s]/home/ak287/PNW_Seismic_Event_Classification/notebooks/../feature_extraction_scripts/physical_feature_extraction_scripts/seis_feature.py:101: RuntimeWarning: invalid value encountered in double_scalars\n",
      "  'Gamma': lambda: ((np.dot(self.freq, self.ft**(2)) / np.sum(self.ft**(2)))**(2) - ((np.dot(self.freq**(2), self.ft**(2)) / np.sum(self.ft**(2)))**(0.5))**(2))**(0.5),\n",
      "100%|██████████| 2/2 [00:05<00:00,  2.54s/it]\n",
      "  0%|          | 0/2 [00:00<?, ?it/s]/home/ak287/PNW_Seismic_Event_Classification/notebooks/../feature_extraction_scripts/physical_feature_extraction_scripts/seis_feature.py:101: RuntimeWarning: invalid value encountered in double_scalars\n",
      "  'Gamma': lambda: ((np.dot(self.freq, self.ft**(2)) / np.sum(self.ft**(2)))**(2) - ((np.dot(self.freq**(2), self.ft**(2)) / np.sum(self.ft**(2)))**(0.5))**(2))**(0.5),\n",
      "100%|██████████| 2/2 [00:14<00:00,  7.10s/it]\n",
      "  0%|          | 0/2 [00:00<?, ?it/s]/home/ak287/PNW_Seismic_Event_Classification/notebooks/../feature_extraction_scripts/physical_feature_extraction_scripts/seis_feature.py:101: RuntimeWarning: invalid value encountered in double_scalars\n",
      "  'Gamma': lambda: ((np.dot(self.freq, self.ft**(2)) / np.sum(self.ft**(2)))**(2) - ((np.dot(self.freq**(2), self.ft**(2)) / np.sum(self.ft**(2)))**(0.5))**(2))**(0.5),\n",
      "100%|██████████| 2/2 [00:08<00:00,  4.26s/it]\n",
      "  0%|          | 0/2 [00:00<?, ?it/s]/home/ak287/PNW_Seismic_Event_Classification/notebooks/../feature_extraction_scripts/physical_feature_extraction_scripts/seis_feature.py:101: RuntimeWarning: invalid value encountered in double_scalars\n",
      "  'Gamma': lambda: ((np.dot(self.freq, self.ft**(2)) / np.sum(self.ft**(2)))**(2) - ((np.dot(self.freq**(2), self.ft**(2)) / np.sum(self.ft**(2)))**(0.5))**(2))**(0.5),\n",
      "100%|██████████| 2/2 [00:08<00:00,  4.35s/it]\n"
     ]
    }
   ],
   "source": [
    "all_time_40 = compute_time(40)\n",
    "all_time_50 = compute_time(50)\n",
    "all_time_100 = compute_time(100)"
   ]
  },
  {
   "cell_type": "code",
   "execution_count": null,
   "id": "2c81c52d",
   "metadata": {},
   "outputs": [],
   "source": []
  },
  {
   "cell_type": "code",
   "execution_count": 201,
   "id": "d420d6f9",
   "metadata": {},
   "outputs": [
    {
     "name": "stderr",
     "output_type": "stream",
     "text": [
      "100%|██████████| 2/2 [00:00<00:00, 1659.14it/s]\n",
      "100%|██████████| 2/2 [00:00<00:00, 2142.14it/s]\n",
      "100%|██████████| 2/2 [00:00<00:00, 2358.34it/s]\n",
      "100%|██████████| 2/2 [00:00<00:00, 1853.02it/s]\n",
      "100%|██████████| 2/2 [00:00<00:00, 25.25it/s]\n",
      "100%|██████████| 2/2 [00:00<00:00, 26.33it/s]\n",
      "  0%|          | 0/2 [00:00<?, ?it/s]"
     ]
    },
    {
     "name": "stdout",
     "output_type": "stream",
     "text": [
      "1600\n"
     ]
    },
    {
     "name": "stderr",
     "output_type": "stream",
     "text": [
      "100%|██████████| 2/2 [00:00<00:00, 28.00it/s]\n",
      "100%|██████████| 2/2 [00:00<00:00, 27.95it/s]\n",
      "100%|██████████| 2/2 [00:00<00:00, 1718.98it/s]\n",
      "100%|██████████| 2/2 [00:00<00:00, 2073.82it/s]\n",
      "100%|██████████| 2/2 [00:00<00:00, 2314.74it/s]\n",
      "100%|██████████| 2/2 [00:00<00:00, 1912.15it/s]\n",
      "100%|██████████| 2/2 [00:00<00:00, 24.87it/s]\n",
      "100%|██████████| 2/2 [00:00<00:00, 25.69it/s]\n",
      "  0%|          | 0/2 [00:00<?, ?it/s]"
     ]
    },
    {
     "name": "stdout",
     "output_type": "stream",
     "text": [
      "2000\n"
     ]
    },
    {
     "name": "stderr",
     "output_type": "stream",
     "text": [
      "100%|██████████| 2/2 [00:00<00:00, 27.15it/s]\n",
      "100%|██████████| 2/2 [00:00<00:00, 27.19it/s]\n",
      "100%|██████████| 2/2 [00:00<00:00, 1697.07it/s]\n",
      "100%|██████████| 2/2 [00:00<00:00, 2057.54it/s]\n",
      "100%|██████████| 2/2 [00:00<00:00, 2290.72it/s]\n",
      "100%|██████████| 2/2 [00:00<00:00, 1924.43it/s]\n",
      "100%|██████████| 2/2 [00:00<00:00, 23.45it/s]\n",
      "100%|██████████| 2/2 [00:00<00:00, 24.00it/s]\n",
      "  0%|          | 0/2 [00:00<?, ?it/s]"
     ]
    },
    {
     "name": "stdout",
     "output_type": "stream",
     "text": [
      "2800\n"
     ]
    },
    {
     "name": "stderr",
     "output_type": "stream",
     "text": [
      "100%|██████████| 2/2 [00:00<00:00, 24.07it/s]\n",
      "100%|██████████| 2/2 [00:00<00:00, 25.59it/s]\n",
      "100%|██████████| 2/2 [00:00<00:00, 1733.90it/s]\n",
      "100%|██████████| 2/2 [00:00<00:00, 2045.50it/s]\n",
      "100%|██████████| 2/2 [00:00<00:00, 2351.73it/s]\n",
      "100%|██████████| 2/2 [00:00<00:00, 1933.30it/s]\n",
      "100%|██████████| 2/2 [00:00<00:00, 31.26it/s]\n",
      "100%|██████████| 2/2 [00:00<00:00, 31.25it/s]\n",
      "100%|██████████| 2/2 [00:00<00:00, 31.70it/s]\n",
      "  0%|          | 0/2 [00:00<?, ?it/s]"
     ]
    },
    {
     "name": "stdout",
     "output_type": "stream",
     "text": [
      "1000\n"
     ]
    },
    {
     "name": "stderr",
     "output_type": "stream",
     "text": [
      "100%|██████████| 2/2 [00:00<00:00, 29.64it/s]\n",
      "100%|██████████| 2/2 [00:00<00:00, 1702.92it/s]\n",
      "100%|██████████| 2/2 [00:00<00:00, 2053.51it/s]\n",
      "100%|██████████| 2/2 [00:00<00:00, 2243.54it/s]\n",
      "100%|██████████| 2/2 [00:00<00:00, 1874.13it/s]\n",
      "100%|██████████| 2/2 [00:00<00:00, 17.22it/s]\n",
      "  0%|          | 0/2 [00:00<?, ?it/s]"
     ]
    },
    {
     "name": "stdout",
     "output_type": "stream",
     "text": [
      "6000\n"
     ]
    },
    {
     "name": "stderr",
     "output_type": "stream",
     "text": [
      "100%|██████████| 2/2 [00:00<00:00, 17.29it/s]\n",
      "100%|██████████| 2/2 [00:00<00:00, 17.33it/s]\n",
      "100%|██████████| 2/2 [00:00<00:00, 18.44it/s]\n",
      "100%|██████████| 2/2 [00:00<00:00, 1748.36it/s]\n",
      "100%|██████████| 2/2 [00:00<00:00, 2019.40it/s]\n",
      "100%|██████████| 2/2 [00:00<00:00, 2302.66it/s]\n",
      "100%|██████████| 2/2 [00:00<00:00, 1950.39it/s]\n",
      "100%|██████████| 2/2 [00:00<00:00, 25.43it/s]\n",
      "100%|██████████| 2/2 [00:00<00:00, 26.35it/s]\n",
      "  0%|          | 0/2 [00:00<?, ?it/s]"
     ]
    },
    {
     "name": "stdout",
     "output_type": "stream",
     "text": [
      "1600\n"
     ]
    },
    {
     "name": "stderr",
     "output_type": "stream",
     "text": [
      "100%|██████████| 2/2 [00:00<00:00, 28.03it/s]\n",
      "100%|██████████| 2/2 [00:00<00:00, 27.92it/s]\n",
      "100%|██████████| 2/2 [00:00<00:00, 1749.45it/s]\n",
      "100%|██████████| 2/2 [00:00<00:00, 2062.60it/s]\n",
      "100%|██████████| 2/2 [00:00<00:00, 2286.35it/s]\n",
      "100%|██████████| 2/2 [00:00<00:00, 1905.20it/s]\n",
      "100%|██████████| 2/2 [00:00<00:00, 24.82it/s]\n",
      "100%|██████████| 2/2 [00:00<00:00, 25.60it/s]\n",
      "  0%|          | 0/2 [00:00<?, ?it/s]"
     ]
    },
    {
     "name": "stdout",
     "output_type": "stream",
     "text": [
      "2000\n"
     ]
    },
    {
     "name": "stderr",
     "output_type": "stream",
     "text": [
      "100%|██████████| 2/2 [00:00<00:00, 27.13it/s]\n",
      "100%|██████████| 2/2 [00:00<00:00, 26.83it/s]\n",
      "100%|██████████| 2/2 [00:00<00:00, 1684.12it/s]\n",
      "100%|██████████| 2/2 [00:00<00:00, 2005.88it/s]\n",
      "100%|██████████| 2/2 [00:00<00:00, 2286.35it/s]\n",
      "100%|██████████| 2/2 [00:00<00:00, 1858.35it/s]\n",
      "100%|██████████| 2/2 [00:00<00:00, 23.46it/s]\n",
      "100%|██████████| 2/2 [00:00<00:00, 24.10it/s]\n",
      "  0%|          | 0/2 [00:00<?, ?it/s]"
     ]
    },
    {
     "name": "stdout",
     "output_type": "stream",
     "text": [
      "2800\n"
     ]
    },
    {
     "name": "stderr",
     "output_type": "stream",
     "text": [
      "100%|██████████| 2/2 [00:00<00:00, 23.98it/s]\n",
      "100%|██████████| 2/2 [00:00<00:00, 25.52it/s]\n",
      "100%|██████████| 2/2 [00:00<00:00, 1693.64it/s]\n",
      "100%|██████████| 2/2 [00:00<00:00, 1993.96it/s]\n",
      "100%|██████████| 2/2 [00:00<00:00, 2327.58it/s]\n",
      "100%|██████████| 2/2 [00:00<00:00, 1923.99it/s]\n",
      "100%|██████████| 2/2 [00:00<00:00, 31.23it/s]\n",
      "100%|██████████| 2/2 [00:00<00:00, 31.73it/s]\n",
      "100%|██████████| 2/2 [00:00<00:00, 31.66it/s]\n",
      "  0%|          | 0/2 [00:00<?, ?it/s]"
     ]
    },
    {
     "name": "stdout",
     "output_type": "stream",
     "text": [
      "1000\n"
     ]
    },
    {
     "name": "stderr",
     "output_type": "stream",
     "text": [
      "100%|██████████| 2/2 [00:00<00:00, 29.63it/s]\n",
      "100%|██████████| 2/2 [00:00<00:00, 1491.57it/s]\n",
      "100%|██████████| 2/2 [00:00<00:00, 1994.44it/s]\n",
      "100%|██████████| 2/2 [00:00<00:00, 2205.79it/s]\n",
      "100%|██████████| 2/2 [00:00<00:00, 1903.47it/s]\n",
      "100%|██████████| 2/2 [00:00<00:00, 17.35it/s]\n",
      "  0%|          | 0/2 [00:00<?, ?it/s]"
     ]
    },
    {
     "name": "stdout",
     "output_type": "stream",
     "text": [
      "6000\n"
     ]
    },
    {
     "name": "stderr",
     "output_type": "stream",
     "text": [
      "100%|██████████| 2/2 [00:00<00:00, 17.49it/s]\n",
      "100%|██████████| 2/2 [00:00<00:00, 17.90it/s]\n",
      "100%|██████████| 2/2 [00:00<00:00, 18.53it/s]\n",
      "100%|██████████| 2/2 [00:00<00:00, 1734.62it/s]\n",
      "100%|██████████| 2/2 [00:00<00:00, 2049.00it/s]\n",
      "100%|██████████| 2/2 [00:00<00:00, 2340.57it/s]\n",
      "100%|██████████| 2/2 [00:00<00:00, 1903.47it/s]\n",
      "100%|██████████| 2/2 [00:00<00:00, 25.30it/s]\n",
      "100%|██████████| 2/2 [00:00<00:00, 26.28it/s]\n",
      "  0%|          | 0/2 [00:00<?, ?it/s]"
     ]
    },
    {
     "name": "stdout",
     "output_type": "stream",
     "text": [
      "1600\n"
     ]
    },
    {
     "name": "stderr",
     "output_type": "stream",
     "text": [
      "100%|██████████| 2/2 [00:00<00:00, 26.24it/s]\n",
      "100%|██████████| 2/2 [00:00<00:00, 28.15it/s]\n",
      "100%|██████████| 2/2 [00:00<00:00, 1727.83it/s]\n",
      "100%|██████████| 2/2 [00:00<00:00, 2068.20it/s]\n",
      "100%|██████████| 2/2 [00:00<00:00, 2336.66it/s]\n",
      "100%|██████████| 2/2 [00:00<00:00, 1868.70it/s]\n",
      "100%|██████████| 2/2 [00:00<00:00, 23.65it/s]\n",
      "100%|██████████| 2/2 [00:00<00:00, 25.65it/s]\n",
      "  0%|          | 0/2 [00:00<?, ?it/s]"
     ]
    },
    {
     "name": "stdout",
     "output_type": "stream",
     "text": [
      "2000\n"
     ]
    },
    {
     "name": "stderr",
     "output_type": "stream",
     "text": [
      "100%|██████████| 2/2 [00:00<00:00, 25.57it/s]\n",
      "100%|██████████| 2/2 [00:00<00:00, 27.22it/s]\n",
      "100%|██████████| 2/2 [00:00<00:00, 1653.58it/s]\n",
      "100%|██████████| 2/2 [00:00<00:00, 2059.56it/s]\n",
      "100%|██████████| 2/2 [00:00<00:00, 2225.69it/s]\n",
      "100%|██████████| 2/2 [00:00<00:00, 1932.41it/s]\n",
      "100%|██████████| 2/2 [00:00<00:00, 23.50it/s]\n",
      "100%|██████████| 2/2 [00:00<00:00, 24.14it/s]\n",
      "  0%|          | 0/2 [00:00<?, ?it/s]"
     ]
    },
    {
     "name": "stdout",
     "output_type": "stream",
     "text": [
      "2800\n"
     ]
    },
    {
     "name": "stderr",
     "output_type": "stream",
     "text": [
      "100%|██████████| 2/2 [00:00<00:00, 24.04it/s]\n",
      "100%|██████████| 2/2 [00:00<00:00, 25.60it/s]\n",
      "100%|██████████| 2/2 [00:00<00:00, 1738.21it/s]\n",
      "100%|██████████| 2/2 [00:00<00:00, 2079.99it/s]\n",
      "100%|██████████| 2/2 [00:00<00:00, 2303.93it/s]\n",
      "100%|██████████| 2/2 [00:00<00:00, 1909.97it/s]\n",
      "100%|██████████| 2/2 [00:00<00:00, 31.47it/s]\n",
      "100%|██████████| 2/2 [00:00<00:00, 31.79it/s]\n",
      "100%|██████████| 2/2 [00:00<00:00, 31.67it/s]\n",
      "  0%|          | 0/2 [00:00<?, ?it/s]"
     ]
    },
    {
     "name": "stdout",
     "output_type": "stream",
     "text": [
      "1000\n"
     ]
    },
    {
     "name": "stderr",
     "output_type": "stream",
     "text": [
      "100%|██████████| 2/2 [00:00<00:00, 29.62it/s]\n",
      "100%|██████████| 2/2 [00:00<00:00, 1604.25it/s]\n",
      "100%|██████████| 2/2 [00:00<00:00, 2060.07it/s]\n",
      "100%|██████████| 2/2 [00:00<00:00, 2291.97it/s]\n",
      "100%|██████████| 2/2 [00:00<00:00, 1902.18it/s]\n",
      "100%|██████████| 2/2 [00:00<00:00, 17.23it/s]\n",
      "  0%|          | 0/2 [00:00<?, ?it/s]"
     ]
    },
    {
     "name": "stdout",
     "output_type": "stream",
     "text": [
      "6000\n"
     ]
    },
    {
     "name": "stderr",
     "output_type": "stream",
     "text": [
      "100%|██████████| 2/2 [00:00<00:00, 17.70it/s]\n",
      "100%|██████████| 2/2 [00:00<00:00, 17.65it/s]\n",
      "100%|██████████| 2/2 [00:00<00:00, 18.35it/s]\n",
      "100%|██████████| 2/2 [00:00<00:00, 1707.08it/s]\n",
      "100%|██████████| 2/2 [00:00<00:00, 2085.16it/s]\n",
      "100%|██████████| 2/2 [00:00<00:00, 2301.40it/s]\n",
      "100%|██████████| 2/2 [00:00<00:00, 1887.20it/s]\n",
      "100%|██████████| 2/2 [00:00<00:00, 25.54it/s]\n",
      "100%|██████████| 2/2 [00:00<00:00, 26.30it/s]\n",
      "  0%|          | 0/2 [00:00<?, ?it/s]"
     ]
    },
    {
     "name": "stdout",
     "output_type": "stream",
     "text": [
      "1600\n"
     ]
    },
    {
     "name": "stderr",
     "output_type": "stream",
     "text": [
      "100%|██████████| 2/2 [00:00<00:00, 26.19it/s]\n",
      "100%|██████████| 2/2 [00:00<00:00, 28.08it/s]\n",
      "100%|██████████| 2/2 [00:00<00:00, 1718.98it/s]\n",
      "100%|██████████| 2/2 [00:00<00:00, 2063.62it/s]\n",
      "100%|██████████| 2/2 [00:00<00:00, 2275.19it/s]\n",
      "100%|██████████| 2/2 [00:00<00:00, 1888.05it/s]\n",
      "100%|██████████| 2/2 [00:00<00:00, 24.88it/s]\n",
      "100%|██████████| 2/2 [00:00<00:00, 25.55it/s]\n",
      "  0%|          | 0/2 [00:00<?, ?it/s]"
     ]
    },
    {
     "name": "stdout",
     "output_type": "stream",
     "text": [
      "2000\n"
     ]
    },
    {
     "name": "stderr",
     "output_type": "stream",
     "text": [
      "100%|██████████| 2/2 [00:00<00:00, 25.58it/s]\n",
      "100%|██████████| 2/2 [00:00<00:00, 27.25it/s]\n",
      "100%|██████████| 2/2 [00:00<00:00, 1696.72it/s]\n",
      "100%|██████████| 2/2 [00:00<00:00, 2034.10it/s]\n",
      "100%|██████████| 2/2 [00:00<00:00, 2266.58it/s]\n",
      "100%|██████████| 2/2 [00:00<00:00, 1883.39it/s]\n",
      "100%|██████████| 2/2 [00:00<00:00, 23.41it/s]\n",
      "100%|██████████| 2/2 [00:00<00:00, 24.15it/s]\n",
      "  0%|          | 0/2 [00:00<?, ?it/s]"
     ]
    },
    {
     "name": "stdout",
     "output_type": "stream",
     "text": [
      "2800\n"
     ]
    },
    {
     "name": "stderr",
     "output_type": "stream",
     "text": [
      "100%|██████████| 2/2 [00:00<00:00, 24.03it/s]\n",
      "100%|██████████| 2/2 [00:00<00:00, 25.51it/s]\n",
      "100%|██████████| 2/2 [00:00<00:00, 1720.39it/s]\n",
      "100%|██████████| 2/2 [00:00<00:00, 2079.99it/s]\n",
      "100%|██████████| 2/2 [00:00<00:00, 2261.08it/s]\n",
      "100%|██████████| 2/2 [00:00<00:00, 1913.90it/s]\n",
      "100%|██████████| 2/2 [00:00<00:00, 31.50it/s]\n",
      "100%|██████████| 2/2 [00:00<00:00, 31.70it/s]\n",
      "100%|██████████| 2/2 [00:00<00:00, 31.65it/s]\n",
      "  0%|          | 0/2 [00:00<?, ?it/s]"
     ]
    },
    {
     "name": "stdout",
     "output_type": "stream",
     "text": [
      "1000\n"
     ]
    },
    {
     "name": "stderr",
     "output_type": "stream",
     "text": [
      "100%|██████████| 2/2 [00:00<00:00, 29.65it/s]\n",
      "100%|██████████| 2/2 [00:00<00:00, 1696.72it/s]\n",
      "100%|██████████| 2/2 [00:00<00:00, 2021.35it/s]\n",
      "100%|██████████| 2/2 [00:00<00:00, 2242.34it/s]\n",
      "100%|██████████| 2/2 [00:00<00:00, 1891.88it/s]\n",
      "100%|██████████| 2/2 [00:00<00:00, 17.00it/s]\n",
      "  0%|          | 0/2 [00:00<?, ?it/s]"
     ]
    },
    {
     "name": "stdout",
     "output_type": "stream",
     "text": [
      "6000\n"
     ]
    },
    {
     "name": "stderr",
     "output_type": "stream",
     "text": [
      "100%|██████████| 2/2 [00:00<00:00, 17.68it/s]\n",
      "100%|██████████| 2/2 [00:00<00:00, 17.59it/s]\n",
      "100%|██████████| 2/2 [00:00<00:00, 18.29it/s]\n",
      "100%|██████████| 2/2 [00:00<00:00, 1708.82it/s]\n",
      "100%|██████████| 2/2 [00:00<00:00, 2057.54it/s]\n",
      "100%|██████████| 2/2 [00:00<00:00, 2336.01it/s]\n",
      "100%|██████████| 2/2 [00:00<00:00, 1968.23it/s]\n",
      "100%|██████████| 2/2 [00:00<00:00, 24.14it/s]\n",
      "100%|██████████| 2/2 [00:00<00:00, 24.95it/s]\n",
      "  0%|          | 0/2 [00:00<?, ?it/s]"
     ]
    },
    {
     "name": "stdout",
     "output_type": "stream",
     "text": [
      "2000\n"
     ]
    },
    {
     "name": "stderr",
     "output_type": "stream",
     "text": [
      "100%|██████████| 2/2 [00:00<00:00, 24.89it/s]\n",
      "100%|██████████| 2/2 [00:00<00:00, 26.59it/s]\n",
      "100%|██████████| 2/2 [00:00<00:00, 1718.62it/s]\n",
      "100%|██████████| 2/2 [00:00<00:00, 2022.81it/s]\n",
      "100%|██████████| 2/2 [00:00<00:00, 2292.60it/s]\n",
      "100%|██████████| 2/2 [00:00<00:00, 1925.32it/s]\n",
      "100%|██████████| 2/2 [00:00<00:00, 23.37it/s]\n",
      "100%|██████████| 2/2 [00:00<00:00, 24.05it/s]\n",
      "  0%|          | 0/2 [00:00<?, ?it/s]"
     ]
    },
    {
     "name": "stdout",
     "output_type": "stream",
     "text": [
      "2500\n"
     ]
    },
    {
     "name": "stderr",
     "output_type": "stream",
     "text": [
      "100%|██████████| 2/2 [00:00<00:00, 23.99it/s]\n",
      "100%|██████████| 2/2 [00:00<00:00, 24.03it/s]\n",
      "100%|██████████| 2/2 [00:00<00:00, 1714.41it/s]\n",
      "100%|██████████| 2/2 [00:00<00:00, 2029.17it/s]\n",
      "100%|██████████| 2/2 [00:00<00:00, 2185.67it/s]\n",
      "100%|██████████| 2/2 [00:00<00:00, 1919.15it/s]\n",
      "100%|██████████| 2/2 [00:00<00:00, 21.78it/s]\n",
      "100%|██████████| 2/2 [00:00<00:00, 22.28it/s]\n",
      "  0%|          | 0/2 [00:00<?, ?it/s]"
     ]
    },
    {
     "name": "stdout",
     "output_type": "stream",
     "text": [
      "3500\n"
     ]
    },
    {
     "name": "stderr",
     "output_type": "stream",
     "text": [
      "100%|██████████| 2/2 [00:00<00:00, 22.22it/s]\n",
      "100%|██████████| 2/2 [00:00<00:00, 22.40it/s]\n",
      "100%|██████████| 2/2 [00:00<00:00, 1708.13it/s]\n",
      "100%|██████████| 2/2 [00:00<00:00, 2100.30it/s]\n",
      "100%|██████████| 2/2 [00:00<00:00, 2291.34it/s]\n",
      "100%|██████████| 2/2 [00:00<00:00, 1928.86it/s]\n",
      "100%|██████████| 2/2 [00:00<00:00, 27.54it/s]\n",
      "100%|██████████| 2/2 [00:00<00:00, 28.32it/s]\n",
      "  0%|          | 0/2 [00:00<?, ?it/s]"
     ]
    },
    {
     "name": "stdout",
     "output_type": "stream",
     "text": [
      "1250\n"
     ]
    },
    {
     "name": "stderr",
     "output_type": "stream",
     "text": [
      "100%|██████████| 2/2 [00:00<00:00, 26.24it/s]\n",
      "100%|██████████| 2/2 [00:00<00:00, 28.27it/s]\n",
      "100%|██████████| 2/2 [00:00<00:00, 1679.06it/s]\n",
      "100%|██████████| 2/2 [00:00<00:00, 2026.23it/s]\n",
      "100%|██████████| 2/2 [00:00<00:00, 2317.30it/s]\n",
      "100%|██████████| 2/2 [00:00<00:00, 1916.52it/s]\n",
      "100%|██████████| 2/2 [00:00<00:00, 14.91it/s]\n",
      "  0%|          | 0/2 [00:00<?, ?it/s]"
     ]
    },
    {
     "name": "stdout",
     "output_type": "stream",
     "text": [
      "7500\n"
     ]
    },
    {
     "name": "stderr",
     "output_type": "stream",
     "text": [
      "100%|██████████| 2/2 [00:00<00:00, 14.74it/s]\n",
      "100%|██████████| 2/2 [00:00<00:00, 14.72it/s]\n",
      "100%|██████████| 2/2 [00:00<00:00, 14.76it/s]\n",
      "100%|██████████| 2/2 [00:00<00:00, 1720.03it/s]\n",
      "100%|██████████| 2/2 [00:00<00:00, 2082.57it/s]\n",
      "100%|██████████| 2/2 [00:00<00:00, 2347.12it/s]\n",
      "100%|██████████| 2/2 [00:00<00:00, 1908.67it/s]\n",
      "100%|██████████| 2/2 [00:00<00:00, 24.24it/s]\n",
      "100%|██████████| 2/2 [00:00<00:00, 24.89it/s]\n",
      "  0%|          | 0/2 [00:00<?, ?it/s]"
     ]
    },
    {
     "name": "stdout",
     "output_type": "stream",
     "text": [
      "2000\n"
     ]
    },
    {
     "name": "stderr",
     "output_type": "stream",
     "text": [
      "100%|██████████| 2/2 [00:00<00:00, 24.59it/s]\n",
      "100%|██████████| 2/2 [00:00<00:00, 26.38it/s]\n",
      "100%|██████████| 2/2 [00:00<00:00, 1723.21it/s]\n",
      "100%|██████████| 2/2 [00:00<00:00, 2031.63it/s]\n",
      "100%|██████████| 2/2 [00:00<00:00, 2285.10it/s]\n",
      "100%|██████████| 2/2 [00:00<00:00, 1934.20it/s]\n",
      "100%|██████████| 2/2 [00:00<00:00, 23.27it/s]\n",
      "100%|██████████| 2/2 [00:00<00:00, 23.99it/s]\n",
      "  0%|          | 0/2 [00:00<?, ?it/s]"
     ]
    },
    {
     "name": "stdout",
     "output_type": "stream",
     "text": [
      "2500\n"
     ]
    },
    {
     "name": "stderr",
     "output_type": "stream",
     "text": [
      "100%|██████████| 2/2 [00:00<00:00, 23.93it/s]\n",
      "100%|██████████| 2/2 [00:00<00:00, 24.06it/s]\n",
      "100%|██████████| 2/2 [00:00<00:00, 1717.57it/s]\n",
      "100%|██████████| 2/2 [00:00<00:00, 1977.98it/s]\n",
      "100%|██████████| 2/2 [00:00<00:00, 2197.70it/s]\n",
      "100%|██████████| 2/2 [00:00<00:00, 1920.47it/s]\n",
      "100%|██████████| 2/2 [00:00<00:00, 21.73it/s]\n",
      "100%|██████████| 2/2 [00:00<00:00, 22.38it/s]\n",
      "  0%|          | 0/2 [00:00<?, ?it/s]"
     ]
    },
    {
     "name": "stdout",
     "output_type": "stream",
     "text": [
      "3500\n"
     ]
    },
    {
     "name": "stderr",
     "output_type": "stream",
     "text": [
      "100%|██████████| 2/2 [00:00<00:00, 22.24it/s]\n",
      "100%|██████████| 2/2 [00:00<00:00, 22.42it/s]\n",
      "100%|██████████| 2/2 [00:00<00:00, 1720.03it/s]\n",
      "100%|██████████| 2/2 [00:00<00:00, 2118.34it/s]\n",
      "100%|██████████| 2/2 [00:00<00:00, 2288.84it/s]\n",
      "100%|██████████| 2/2 [00:00<00:00, 1926.20it/s]\n",
      "100%|██████████| 2/2 [00:00<00:00, 27.48it/s]\n",
      "100%|██████████| 2/2 [00:00<00:00, 28.28it/s]\n",
      "  0%|          | 0/2 [00:00<?, ?it/s]"
     ]
    },
    {
     "name": "stdout",
     "output_type": "stream",
     "text": [
      "1250\n"
     ]
    },
    {
     "name": "stderr",
     "output_type": "stream",
     "text": [
      "100%|██████████| 2/2 [00:00<00:00, 26.34it/s]\n",
      "100%|██████████| 2/2 [00:00<00:00, 28.29it/s]\n",
      "100%|██████████| 2/2 [00:00<00:00, 1655.21it/s]\n",
      "100%|██████████| 2/2 [00:00<00:00, 2038.54it/s]\n",
      "100%|██████████| 2/2 [00:00<00:00, 2259.86it/s]\n",
      "100%|██████████| 2/2 [00:00<00:00, 1900.89it/s]\n",
      "100%|██████████| 2/2 [00:00<00:00, 14.91it/s]\n",
      "  0%|          | 0/2 [00:00<?, ?it/s]"
     ]
    },
    {
     "name": "stdout",
     "output_type": "stream",
     "text": [
      "7500\n"
     ]
    },
    {
     "name": "stderr",
     "output_type": "stream",
     "text": [
      "100%|██████████| 2/2 [00:00<00:00, 14.58it/s]\n",
      "100%|██████████| 2/2 [00:00<00:00, 14.65it/s]\n",
      "100%|██████████| 2/2 [00:00<00:00, 14.95it/s]\n",
      "100%|██████████| 2/2 [00:00<00:00, 1720.39it/s]\n",
      "100%|██████████| 2/2 [00:00<00:00, 2070.24it/s]\n",
      "100%|██████████| 2/2 [00:00<00:00, 2326.94it/s]\n",
      "100%|██████████| 2/2 [00:00<00:00, 1935.98it/s]\n",
      "100%|██████████| 2/2 [00:00<00:00, 24.31it/s]\n",
      "100%|██████████| 2/2 [00:00<00:00, 25.02it/s]\n",
      "  0%|          | 0/2 [00:00<?, ?it/s]"
     ]
    },
    {
     "name": "stdout",
     "output_type": "stream",
     "text": [
      "2000\n"
     ]
    },
    {
     "name": "stderr",
     "output_type": "stream",
     "text": [
      "100%|██████████| 2/2 [00:00<00:00, 24.92it/s]\n",
      "100%|██████████| 2/2 [00:00<00:00, 26.53it/s]\n",
      "100%|██████████| 2/2 [00:00<00:00, 1709.17it/s]\n",
      "100%|██████████| 2/2 [00:00<00:00, 2138.31it/s]\n",
      "100%|██████████| 2/2 [00:00<00:00, 2336.66it/s]\n",
      "100%|██████████| 2/2 [00:00<00:00, 1923.11it/s]\n",
      "100%|██████████| 2/2 [00:00<00:00, 23.37it/s]\n",
      "100%|██████████| 2/2 [00:00<00:00, 24.06it/s]\n",
      "  0%|          | 0/2 [00:00<?, ?it/s]"
     ]
    },
    {
     "name": "stdout",
     "output_type": "stream",
     "text": [
      "2500\n"
     ]
    },
    {
     "name": "stderr",
     "output_type": "stream",
     "text": [
      "100%|██████████| 2/2 [00:00<00:00, 23.97it/s]\n",
      "100%|██████████| 2/2 [00:00<00:00, 24.11it/s]\n",
      "100%|██████████| 2/2 [00:00<00:00, 1704.66it/s]\n",
      "100%|██████████| 2/2 [00:00<00:00, 2131.25it/s]\n",
      "100%|██████████| 2/2 [00:00<00:00, 2331.46it/s]\n",
      "100%|██████████| 2/2 [00:00<00:00, 1915.64it/s]\n",
      "100%|██████████| 2/2 [00:00<00:00, 21.48it/s]\n",
      "100%|██████████| 2/2 [00:00<00:00, 22.33it/s]\n",
      "  0%|          | 0/2 [00:00<?, ?it/s]"
     ]
    },
    {
     "name": "stdout",
     "output_type": "stream",
     "text": [
      "3500\n"
     ]
    },
    {
     "name": "stderr",
     "output_type": "stream",
     "text": [
      "100%|██████████| 2/2 [00:00<00:00, 22.18it/s]\n",
      "100%|██████████| 2/2 [00:00<00:00, 22.45it/s]\n",
      "100%|██████████| 2/2 [00:00<00:00, 1744.36it/s]\n",
      "100%|██████████| 2/2 [00:00<00:00, 2105.57it/s]\n",
      "100%|██████████| 2/2 [00:00<00:00, 2312.19it/s]\n",
      "100%|██████████| 2/2 [00:00<00:00, 1915.21it/s]\n",
      "100%|██████████| 2/2 [00:00<00:00, 27.49it/s]\n",
      "100%|██████████| 2/2 [00:00<00:00, 30.15it/s]\n",
      "  0%|          | 0/2 [00:00<?, ?it/s]"
     ]
    },
    {
     "name": "stdout",
     "output_type": "stream",
     "text": [
      "1250\n"
     ]
    },
    {
     "name": "stderr",
     "output_type": "stream",
     "text": [
      "100%|██████████| 2/2 [00:00<00:00, 28.02it/s]\n",
      "100%|██████████| 2/2 [00:00<00:00, 28.09it/s]\n",
      "100%|██████████| 2/2 [00:00<00:00, 1709.52it/s]\n",
      "100%|██████████| 2/2 [00:00<00:00, 2035.58it/s]\n",
      "100%|██████████| 2/2 [00:00<00:00, 2305.83it/s]\n",
      "100%|██████████| 2/2 [00:00<00:00, 1851.79it/s]\n",
      "100%|██████████| 2/2 [00:00<00:00, 14.58it/s]\n",
      "  0%|          | 0/2 [00:00<?, ?it/s]"
     ]
    },
    {
     "name": "stdout",
     "output_type": "stream",
     "text": [
      "7500\n"
     ]
    },
    {
     "name": "stderr",
     "output_type": "stream",
     "text": [
      "100%|██████████| 2/2 [00:00<00:00, 14.57it/s]\n",
      "100%|██████████| 2/2 [00:00<00:00, 14.80it/s]\n",
      "100%|██████████| 2/2 [00:00<00:00, 14.50it/s]\n",
      "100%|██████████| 2/2 [00:00<00:00, 1740.38it/s]\n",
      "100%|██████████| 2/2 [00:00<00:00, 2020.38it/s]\n",
      "100%|██████████| 2/2 [00:00<00:00, 2336.01it/s]\n",
      "100%|██████████| 2/2 [00:00<00:00, 1908.67it/s]\n",
      "100%|██████████| 2/2 [00:00<00:00, 24.25it/s]\n",
      "100%|██████████| 2/2 [00:00<00:00, 24.92it/s]\n",
      "  0%|          | 0/2 [00:00<?, ?it/s]"
     ]
    },
    {
     "name": "stdout",
     "output_type": "stream",
     "text": [
      "2000\n"
     ]
    },
    {
     "name": "stderr",
     "output_type": "stream",
     "text": [
      "100%|██████████| 2/2 [00:00<00:00, 24.90it/s]\n",
      "100%|██████████| 2/2 [00:00<00:00, 26.58it/s]\n",
      "100%|██████████| 2/2 [00:00<00:00, 1700.16it/s]\n",
      "100%|██████████| 2/2 [00:00<00:00, 2090.36it/s]\n",
      "100%|██████████| 2/2 [00:00<00:00, 2334.71it/s]\n",
      "100%|██████████| 2/2 [00:00<00:00, 1937.32it/s]\n",
      "100%|██████████| 2/2 [00:00<00:00, 23.33it/s]\n",
      "100%|██████████| 2/2 [00:00<00:00, 24.01it/s]\n",
      "  0%|          | 0/2 [00:00<?, ?it/s]"
     ]
    },
    {
     "name": "stdout",
     "output_type": "stream",
     "text": [
      "2500\n"
     ]
    },
    {
     "name": "stderr",
     "output_type": "stream",
     "text": [
      "100%|██████████| 2/2 [00:00<00:00, 24.00it/s]\n",
      "100%|██████████| 2/2 [00:00<00:00, 24.06it/s]\n",
      "100%|██████████| 2/2 [00:00<00:00, 1534.69it/s]\n",
      "100%|██████████| 2/2 [00:00<00:00, 2020.86it/s]\n",
      "100%|██████████| 2/2 [00:00<00:00, 2240.55it/s]\n",
      "100%|██████████| 2/2 [00:00<00:00, 1843.25it/s]\n",
      "100%|██████████| 2/2 [00:00<00:00, 21.51it/s]\n",
      "100%|██████████| 2/2 [00:00<00:00, 22.33it/s]\n",
      "  0%|          | 0/2 [00:00<?, ?it/s]"
     ]
    },
    {
     "name": "stdout",
     "output_type": "stream",
     "text": [
      "3500\n"
     ]
    },
    {
     "name": "stderr",
     "output_type": "stream",
     "text": [
      "100%|██████████| 2/2 [00:00<00:00, 22.16it/s]\n",
      "100%|██████████| 2/2 [00:00<00:00, 22.34it/s]\n",
      "100%|██████████| 2/2 [00:00<00:00, 1739.65it/s]\n",
      "100%|██████████| 2/2 [00:00<00:00, 2075.36it/s]\n",
      "100%|██████████| 2/2 [00:00<00:00, 2264.13it/s]\n",
      "100%|██████████| 2/2 [00:00<00:00, 1902.18it/s]\n",
      "100%|██████████| 2/2 [00:00<00:00, 27.29it/s]\n",
      "100%|██████████| 2/2 [00:00<00:00, 29.99it/s]\n",
      "  0%|          | 0/2 [00:00<?, ?it/s]"
     ]
    },
    {
     "name": "stdout",
     "output_type": "stream",
     "text": [
      "1250\n"
     ]
    },
    {
     "name": "stderr",
     "output_type": "stream",
     "text": [
      "100%|██████████| 2/2 [00:00<00:00, 27.94it/s]\n",
      "100%|██████████| 2/2 [00:00<00:00, 28.05it/s]\n",
      "100%|██████████| 2/2 [00:00<00:00, 1718.62it/s]\n",
      "100%|██████████| 2/2 [00:00<00:00, 2031.63it/s]\n",
      "100%|██████████| 2/2 [00:00<00:00, 2290.09it/s]\n",
      "100%|██████████| 2/2 [00:00<00:00, 1876.65it/s]\n",
      "100%|██████████| 2/2 [00:00<00:00, 14.42it/s]\n",
      "  0%|          | 0/2 [00:00<?, ?it/s]"
     ]
    },
    {
     "name": "stdout",
     "output_type": "stream",
     "text": [
      "7500\n"
     ]
    },
    {
     "name": "stderr",
     "output_type": "stream",
     "text": [
      "100%|██████████| 2/2 [00:00<00:00, 14.63it/s]\n",
      "100%|██████████| 2/2 [00:00<00:00, 14.97it/s]\n",
      "100%|██████████| 2/2 [00:00<00:00, 14.40it/s]\n",
      "100%|██████████| 2/2 [00:00<00:00, 1655.21it/s]\n",
      "100%|██████████| 2/2 [00:00<00:00, 2147.07it/s]\n",
      "100%|██████████| 2/2 [00:00<00:00, 2375.70it/s]\n",
      "100%|██████████| 2/2 [00:00<00:00, 1858.35it/s]\n",
      "100%|██████████| 2/2 [00:00<00:00, 20.67it/s]\n",
      "100%|██████████| 2/2 [00:00<00:00, 21.61it/s]\n",
      "  0%|          | 0/2 [00:00<?, ?it/s]"
     ]
    },
    {
     "name": "stdout",
     "output_type": "stream",
     "text": [
      "4000\n"
     ]
    },
    {
     "name": "stderr",
     "output_type": "stream",
     "text": [
      "100%|██████████| 2/2 [00:00<00:00, 21.43it/s]\n",
      "100%|██████████| 2/2 [00:00<00:00, 22.66it/s]\n",
      "100%|██████████| 2/2 [00:00<00:00, 1624.44it/s]\n",
      "100%|██████████| 2/2 [00:00<00:00, 1949.93it/s]\n",
      "100%|██████████| 2/2 [00:00<00:00, 2286.97it/s]\n",
      "100%|██████████| 2/2 [00:00<00:00, 1869.54it/s]\n",
      "100%|██████████| 2/2 [00:00<00:00, 18.59it/s]\n",
      "  0%|          | 0/2 [00:00<?, ?it/s]"
     ]
    },
    {
     "name": "stdout",
     "output_type": "stream",
     "text": [
      "5000\n"
     ]
    },
    {
     "name": "stderr",
     "output_type": "stream",
     "text": [
      "100%|██████████| 2/2 [00:00<00:00, 19.25it/s]\n",
      "100%|██████████| 2/2 [00:00<00:00, 19.03it/s]\n",
      "100%|██████████| 2/2 [00:00<00:00, 20.44it/s]\n",
      "100%|██████████| 2/2 [00:00<00:00, 1728.18it/s]\n",
      "100%|██████████| 2/2 [00:00<00:00, 2098.73it/s]\n",
      "100%|██████████| 2/2 [00:00<00:00, 2295.10it/s]\n",
      "100%|██████████| 2/2 [00:00<00:00, 1962.71it/s]\n",
      "100%|██████████| 2/2 [00:00<00:00, 15.50it/s]\n",
      "  0%|          | 0/2 [00:00<?, ?it/s]"
     ]
    },
    {
     "name": "stdout",
     "output_type": "stream",
     "text": [
      "7000\n"
     ]
    },
    {
     "name": "stderr",
     "output_type": "stream",
     "text": [
      "100%|██████████| 2/2 [00:00<00:00, 16.06it/s]\n",
      "100%|██████████| 2/2 [00:00<00:00, 15.86it/s]\n",
      "100%|██████████| 2/2 [00:00<00:00, 15.79it/s]\n",
      "100%|██████████| 2/2 [00:00<00:00, 1737.13it/s]\n",
      "100%|██████████| 2/2 [00:00<00:00, 2123.16it/s]\n",
      "100%|██████████| 2/2 [00:00<00:00, 2269.65it/s]\n",
      "100%|██████████| 2/2 [00:00<00:00, 1933.30it/s]\n",
      "100%|██████████| 2/2 [00:00<00:00, 23.48it/s]\n",
      "100%|██████████| 2/2 [00:00<00:00, 24.16it/s]\n",
      "  0%|          | 0/2 [00:00<?, ?it/s]"
     ]
    },
    {
     "name": "stdout",
     "output_type": "stream",
     "text": [
      "2500\n"
     ]
    },
    {
     "name": "stderr",
     "output_type": "stream",
     "text": [
      "100%|██████████| 2/2 [00:00<00:00, 24.02it/s]\n",
      "100%|██████████| 2/2 [00:00<00:00, 25.61it/s]\n",
      "100%|██████████| 2/2 [00:00<00:00, 1692.62it/s]\n",
      "100%|██████████| 2/2 [00:00<00:00, 2039.04it/s]\n",
      "100%|██████████| 2/2 [00:00<00:00, 2239.35it/s]\n",
      "100%|██████████| 2/2 [00:00<00:00, 1900.45it/s]\n",
      "  0%|          | 0/2 [00:00<?, ?it/s]"
     ]
    },
    {
     "name": "stdout",
     "output_type": "stream",
     "text": [
      "15000\n"
     ]
    },
    {
     "name": "stderr",
     "output_type": "stream",
     "text": [
      "100%|██████████| 2/2 [00:00<00:00,  3.55it/s]\n",
      "100%|██████████| 2/2 [00:00<00:00,  3.57it/s]\n",
      "100%|██████████| 2/2 [00:00<00:00,  3.58it/s]\n",
      "100%|██████████| 2/2 [00:00<00:00,  3.58it/s]\n",
      "100%|██████████| 2/2 [00:00<00:00, 1516.10it/s]\n",
      "100%|██████████| 2/2 [00:00<00:00, 2102.94it/s]\n",
      "100%|██████████| 2/2 [00:00<00:00, 2351.07it/s]\n",
      "100%|██████████| 2/2 [00:00<00:00, 1906.07it/s]\n",
      "100%|██████████| 2/2 [00:00<00:00, 20.26it/s]\n",
      "100%|██████████| 2/2 [00:00<00:00, 21.49it/s]\n",
      "  0%|          | 0/2 [00:00<?, ?it/s]"
     ]
    },
    {
     "name": "stdout",
     "output_type": "stream",
     "text": [
      "4000\n"
     ]
    },
    {
     "name": "stderr",
     "output_type": "stream",
     "text": [
      "100%|██████████| 2/2 [00:00<00:00, 21.61it/s]\n",
      "100%|██████████| 2/2 [00:00<00:00, 22.58it/s]\n",
      "100%|██████████| 2/2 [00:00<00:00, 1581.86it/s]\n",
      "100%|██████████| 2/2 [00:00<00:00, 2058.05it/s]\n",
      "100%|██████████| 2/2 [00:00<00:00, 2243.54it/s]\n",
      "100%|██████████| 2/2 [00:00<00:00, 1860.83it/s]\n",
      "100%|██████████| 2/2 [00:00<00:00, 18.49it/s]\n",
      "  0%|          | 0/2 [00:00<?, ?it/s]"
     ]
    },
    {
     "name": "stdout",
     "output_type": "stream",
     "text": [
      "5000\n"
     ]
    },
    {
     "name": "stderr",
     "output_type": "stream",
     "text": [
      "100%|██████████| 2/2 [00:00<00:00, 18.98it/s]\n",
      "100%|██████████| 2/2 [00:00<00:00, 18.88it/s]\n",
      "100%|██████████| 2/2 [00:00<00:00, 19.75it/s]\n",
      "100%|██████████| 2/2 [00:00<00:00, 1705.00it/s]\n",
      "100%|██████████| 2/2 [00:00<00:00, 2100.83it/s]\n",
      "100%|██████████| 2/2 [00:00<00:00, 2260.47it/s]\n",
      "100%|██████████| 2/2 [00:00<00:00, 1885.08it/s]\n",
      "100%|██████████| 2/2 [00:00<00:00, 15.53it/s]\n",
      "  0%|          | 0/2 [00:00<?, ?it/s]"
     ]
    },
    {
     "name": "stdout",
     "output_type": "stream",
     "text": [
      "7000\n"
     ]
    },
    {
     "name": "stderr",
     "output_type": "stream",
     "text": [
      "100%|██████████| 2/2 [00:00<00:00, 15.35it/s]\n",
      "100%|██████████| 2/2 [00:00<00:00, 15.84it/s]\n",
      "100%|██████████| 2/2 [00:00<00:00, 16.11it/s]\n",
      "100%|██████████| 2/2 [00:00<00:00, 1714.76it/s]\n",
      "100%|██████████| 2/2 [00:00<00:00, 2103.99it/s]\n",
      "100%|██████████| 2/2 [00:00<00:00, 2301.40it/s]\n",
      "100%|██████████| 2/2 [00:00<00:00, 1935.09it/s]\n",
      "100%|██████████| 2/2 [00:00<00:00, 23.20it/s]\n",
      "100%|██████████| 2/2 [00:00<00:00, 23.58it/s]\n",
      "  0%|          | 0/2 [00:00<?, ?it/s]"
     ]
    },
    {
     "name": "stdout",
     "output_type": "stream",
     "text": [
      "2500\n"
     ]
    },
    {
     "name": "stderr",
     "output_type": "stream",
     "text": [
      "100%|██████████| 2/2 [00:00<00:00, 23.90it/s]\n",
      "100%|██████████| 2/2 [00:00<00:00, 25.49it/s]\n",
      "100%|██████████| 2/2 [00:00<00:00, 1570.31it/s]\n",
      "100%|██████████| 2/2 [00:00<00:00, 2062.10it/s]\n",
      "100%|██████████| 2/2 [00:00<00:00, 2267.80it/s]\n",
      "100%|██████████| 2/2 [00:00<00:00, 1896.16it/s]\n",
      "  0%|          | 0/2 [00:00<?, ?it/s]"
     ]
    },
    {
     "name": "stdout",
     "output_type": "stream",
     "text": [
      "15000\n"
     ]
    },
    {
     "name": "stderr",
     "output_type": "stream",
     "text": [
      "100%|██████████| 2/2 [00:00<00:00,  3.55it/s]\n",
      "100%|██████████| 2/2 [00:00<00:00,  3.67it/s]\n",
      "100%|██████████| 2/2 [00:00<00:00,  3.66it/s]\n",
      "100%|██████████| 2/2 [00:00<00:00,  3.69it/s]\n",
      "100%|██████████| 2/2 [00:00<00:00, 1109.46it/s]\n",
      "100%|██████████| 2/2 [00:00<00:00, 1949.48it/s]\n",
      "100%|██████████| 2/2 [00:00<00:00, 2070.75it/s]\n",
      "100%|██████████| 2/2 [00:00<00:00, 1629.49it/s]\n",
      "100%|██████████| 2/2 [00:00<00:00, 20.41it/s]\n",
      "100%|██████████| 2/2 [00:00<00:00, 21.24it/s]\n",
      "  0%|          | 0/2 [00:00<?, ?it/s]"
     ]
    },
    {
     "name": "stdout",
     "output_type": "stream",
     "text": [
      "4000\n"
     ]
    },
    {
     "name": "stderr",
     "output_type": "stream",
     "text": [
      "100%|██████████| 2/2 [00:00<00:00, 21.44it/s]\n",
      "100%|██████████| 2/2 [00:00<00:00, 21.32it/s]\n",
      "100%|██████████| 2/2 [00:00<00:00, 1294.74it/s]\n",
      "100%|██████████| 2/2 [00:00<00:00, 1913.02it/s]\n",
      "100%|██████████| 2/2 [00:00<00:00, 2111.40it/s]\n",
      "100%|██████████| 2/2 [00:00<00:00, 1764.54it/s]\n",
      "100%|██████████| 2/2 [00:00<00:00, 17.03it/s]\n",
      "  0%|          | 0/2 [00:00<?, ?it/s]"
     ]
    },
    {
     "name": "stdout",
     "output_type": "stream",
     "text": [
      "5000\n"
     ]
    },
    {
     "name": "stderr",
     "output_type": "stream",
     "text": [
      "100%|██████████| 2/2 [00:00<00:00, 17.45it/s]\n",
      "100%|██████████| 2/2 [00:00<00:00, 17.76it/s]\n",
      "100%|██████████| 2/2 [00:00<00:00, 18.15it/s]\n",
      "100%|██████████| 2/2 [00:00<00:00, 643.30it/s]\n",
      "100%|██████████| 2/2 [00:00<00:00, 896.22it/s]\n",
      "100%|██████████| 2/2 [00:00<00:00, 1814.93it/s]\n",
      "100%|██████████| 2/2 [00:00<00:00, 1534.97it/s]\n",
      "100%|██████████| 2/2 [00:00<00:00, 13.18it/s]\n",
      "  0%|          | 0/2 [00:00<?, ?it/s]"
     ]
    },
    {
     "name": "stdout",
     "output_type": "stream",
     "text": [
      "7000\n"
     ]
    },
    {
     "name": "stderr",
     "output_type": "stream",
     "text": [
      "100%|██████████| 2/2 [00:00<00:00, 15.07it/s]\n",
      "100%|██████████| 2/2 [00:00<00:00, 14.46it/s]\n",
      "100%|██████████| 2/2 [00:00<00:00, 13.47it/s]\n",
      "100%|██████████| 2/2 [00:00<00:00, 852.50it/s]\n",
      "100%|██████████| 2/2 [00:00<00:00, 1982.65it/s]\n",
      "100%|██████████| 2/2 [00:00<00:00, 1736.41it/s]\n",
      "100%|██████████| 2/2 [00:00<00:00, 1639.68it/s]\n",
      "100%|██████████| 2/2 [00:00<00:00, 22.87it/s]\n",
      "100%|██████████| 2/2 [00:00<00:00, 23.69it/s]\n",
      "  0%|          | 0/2 [00:00<?, ?it/s]"
     ]
    },
    {
     "name": "stdout",
     "output_type": "stream",
     "text": [
      "2500\n"
     ]
    },
    {
     "name": "stderr",
     "output_type": "stream",
     "text": [
      "100%|██████████| 2/2 [00:00<00:00, 23.61it/s]\n",
      "100%|██████████| 2/2 [00:00<00:00, 23.46it/s]\n",
      "100%|██████████| 2/2 [00:00<00:00, 1557.48it/s]\n",
      "100%|██████████| 2/2 [00:00<00:00, 1674.37it/s]\n",
      "100%|██████████| 2/2 [00:00<00:00, 1809.45it/s]\n",
      "100%|██████████| 2/2 [00:00<00:00, 1891.88it/s]\n",
      "  0%|          | 0/2 [00:00<?, ?it/s]"
     ]
    },
    {
     "name": "stdout",
     "output_type": "stream",
     "text": [
      "15000\n"
     ]
    },
    {
     "name": "stderr",
     "output_type": "stream",
     "text": [
      "100%|██████████| 2/2 [00:00<00:00,  3.36it/s]\n",
      "100%|██████████| 2/2 [00:00<00:00,  3.38it/s]\n",
      "100%|██████████| 2/2 [00:00<00:00,  3.44it/s]\n",
      "100%|██████████| 2/2 [00:00<00:00,  3.68it/s]\n",
      "100%|██████████| 2/2 [00:00<00:00, 1321.67it/s]\n",
      "100%|██████████| 2/2 [00:00<00:00, 1664.08it/s]\n",
      "100%|██████████| 2/2 [00:00<00:00, 2198.85it/s]\n",
      "100%|██████████| 2/2 [00:00<00:00, 1561.25it/s]\n",
      "100%|██████████| 2/2 [00:00<00:00, 20.52it/s]\n",
      "100%|██████████| 2/2 [00:00<00:00, 21.34it/s]\n",
      "  0%|          | 0/2 [00:00<?, ?it/s]"
     ]
    },
    {
     "name": "stdout",
     "output_type": "stream",
     "text": [
      "4000\n"
     ]
    },
    {
     "name": "stderr",
     "output_type": "stream",
     "text": [
      "100%|██████████| 2/2 [00:00<00:00, 21.20it/s]\n",
      "100%|██████████| 2/2 [00:00<00:00, 22.19it/s]\n",
      "100%|██████████| 2/2 [00:00<00:00, 1665.73it/s]\n",
      "100%|██████████| 2/2 [00:00<00:00, 2048.00it/s]\n",
      "100%|██████████| 2/2 [00:00<00:00, 2199.43it/s]\n",
      "100%|██████████| 2/2 [00:00<00:00, 1832.77it/s]\n",
      "100%|██████████| 2/2 [00:00<00:00, 18.43it/s]\n",
      "  0%|          | 0/2 [00:00<?, ?it/s]"
     ]
    },
    {
     "name": "stdout",
     "output_type": "stream",
     "text": [
      "5000\n"
     ]
    },
    {
     "name": "stderr",
     "output_type": "stream",
     "text": [
      "100%|██████████| 2/2 [00:00<00:00, 18.98it/s]\n",
      "100%|██████████| 2/2 [00:00<00:00, 18.93it/s]\n",
      "100%|██████████| 2/2 [00:00<00:00, 19.87it/s]\n",
      "100%|██████████| 2/2 [00:00<00:00, 1355.63it/s]\n",
      "100%|██████████| 2/2 [00:00<00:00, 1767.51it/s]\n",
      "100%|██████████| 2/2 [00:00<00:00, 2118.87it/s]\n",
      "100%|██████████| 2/2 [00:00<00:00, 1574.14it/s]\n",
      "100%|██████████| 2/2 [00:00<00:00, 14.70it/s]\n",
      "  0%|          | 0/2 [00:00<?, ?it/s]"
     ]
    },
    {
     "name": "stdout",
     "output_type": "stream",
     "text": [
      "7000\n"
     ]
    },
    {
     "name": "stderr",
     "output_type": "stream",
     "text": [
      "100%|██████████| 2/2 [00:00<00:00, 15.33it/s]\n",
      "100%|██████████| 2/2 [00:00<00:00, 13.99it/s]\n",
      "100%|██████████| 2/2 [00:00<00:00, 15.51it/s]\n",
      "100%|██████████| 2/2 [00:00<00:00, 963.88it/s]\n",
      "100%|██████████| 2/2 [00:00<00:00, 2055.02it/s]\n",
      "100%|██████████| 2/2 [00:00<00:00, 1864.55it/s]\n",
      "100%|██████████| 2/2 [00:00<00:00, 1646.44it/s]\n",
      "100%|██████████| 2/2 [00:00<00:00, 22.74it/s]\n",
      "100%|██████████| 2/2 [00:00<00:00, 23.80it/s]\n",
      "  0%|          | 0/2 [00:00<?, ?it/s]"
     ]
    },
    {
     "name": "stdout",
     "output_type": "stream",
     "text": [
      "2500\n"
     ]
    },
    {
     "name": "stderr",
     "output_type": "stream",
     "text": [
      "100%|██████████| 2/2 [00:00<00:00, 23.74it/s]\n",
      "100%|██████████| 2/2 [00:00<00:00, 19.48it/s]\n",
      "100%|██████████| 2/2 [00:00<00:00, 1382.66it/s]\n",
      "100%|██████████| 2/2 [00:00<00:00, 1944.51it/s]\n",
      "100%|██████████| 2/2 [00:00<00:00, 2163.13it/s]\n",
      "100%|██████████| 2/2 [00:00<00:00, 1613.19it/s]\n",
      "  0%|          | 0/2 [00:00<?, ?it/s]"
     ]
    },
    {
     "name": "stdout",
     "output_type": "stream",
     "text": [
      "15000\n"
     ]
    },
    {
     "name": "stderr",
     "output_type": "stream",
     "text": [
      "100%|██████████| 2/2 [00:00<00:00,  3.71it/s]\n",
      "100%|██████████| 2/2 [00:00<00:00,  3.70it/s]\n",
      "100%|██████████| 2/2 [00:00<00:00,  3.63it/s]\n",
      "100%|██████████| 2/2 [00:00<00:00,  3.62it/s]\n"
     ]
    }
   ],
   "source": [
    "all_time_40_sc = compute_time_single_core(40)\n",
    "all_time_50_sc = compute_time_single_core(50)\n",
    "all_time_100_sc = compute_time_single_core(100)"
   ]
  },
  {
   "cell_type": "code",
   "execution_count": 203,
   "id": "ec3b8bf2",
   "metadata": {},
   "outputs": [
    {
     "data": {
      "text/plain": [
       "[1.188166618347168,\n",
       " 1.241868257522583,\n",
       " 1.3226094245910645,\n",
       " 1.1477813720703125,\n",
       " 3.0780866146087646,\n",
       " 1.2101390361785889,\n",
       " 1.247506856918335,\n",
       " 1.3347883224487305,\n",
       " 1.171358585357666,\n",
       " 3.0376527309417725,\n",
       " 1.2525978088378906,\n",
       " 1.341911792755127,\n",
       " 1.538210153579712,\n",
       " 1.246753215789795,\n",
       " 3.157600164413452,\n",
       " 1.2023131847381592,\n",
       " 1.2468171119689941,\n",
       " 1.3929789066314697,\n",
       " 1.19667649269104,\n",
       " 3.029202938079834]"
      ]
     },
     "execution_count": 203,
     "metadata": {},
     "output_type": "execute_result"
    }
   ],
   "source": []
  },
  {
   "cell_type": "code",
   "execution_count": null,
   "id": "e68714d6",
   "metadata": {},
   "outputs": [],
   "source": []
  },
  {
   "cell_type": "code",
   "execution_count": 196,
   "id": "f63c20fa",
   "metadata": {},
   "outputs": [
    {
     "data": {
      "image/png": "[encoded data removed]",
      "text/plain": [
       "<Figure size 1600x800 with 1 Axes>"
      ]
     },
     "metadata": {},
     "output_type": "display_data"
    }
   ],
   "source": [
    "# Function to extract F1 scores from cr_all\n",
    "def extract_f1_scores(cr_all):\n",
    "    f1_scores = []\n",
    "    for i in range(20):\n",
    "        f1_score = pd.DataFrame(cr_all[i]).loc['f1-score', 'macro avg']\n",
    "        f1_scores.append(f1_score)\n",
    "    return f1_scores\n",
    "\n",
    "# Extract F1 scores for each sampling rate\n",
    "f1_scores_40 = extract_f1_scores(cr_all_40)\n",
    "f1_scores_50 = extract_f1_scores(cr_all_50)\n",
    "f1_scores_100 = extract_f1_scores(cr_all_100)\n",
    "\n",
    "# Split F1 scores into frequency bands\n",
    "f1_scores_1_10_40, f1_scores_1_15_40, f1_scores_05_10_40, f1_scores_05_15_40 = all_time_40[:5], all_time_40[5:10], all_time_40[10:15], all_time_40[15:20]\n",
    "f1_scores_1_10_50, f1_scores_1_15_50, f1_scores_05_10_50, f1_scores_05_15_50 = all_time_50[:5], all_time_50[5:10], all_time_50[10:15], all_time_50[15:20]\n",
    "f1_scores_1_10_100, f1_scores_1_15_100, f1_scores_05_10_100, f1_scores_05_15_100 = all_time_100[:5], all_time_100[5:10], all_time_100[10:15], all_time_100[15:20]\n",
    "\n",
    "windows = ['(P-10,P+30)', '(P-10,P+40)', '(P-20,P+50)', '(P-5,P+20)', '(P-50,P+100)']\n",
    "bar_width = 0.20  # Width of each bar\n",
    "index = np.arange(len(windows)) * 3  # Increase the separation between ticks\n",
    "\n",
    "# Color blind friendly palette\n",
    "colors = ['#1f77b4', '#ff7f0e', '#2ca02c', 'red']\n",
    "\n",
    "plt.figure(figsize=(16, 8))\n",
    "\n",
    "# Plot for 40 Hz\n",
    "plt.bar(index - 2 * bar_width, f1_scores_1_10_40, bar_width, label='40 Hz, 1-10 Hz', color=colors[0])\n",
    "plt.bar(index - 1 * bar_width, f1_scores_1_15_40, bar_width, label='40 Hz, 1-15 Hz', color=colors[1])\n",
    "plt.bar(index + 0 * bar_width, f1_scores_05_10_40, bar_width, label='40 Hz, 0.5-10 Hz', color=colors[2])\n",
    "plt.bar(index + 1 * bar_width, f1_scores_05_15_40, bar_width, label='40 Hz, 0.5-15 Hz', color=colors[3])\n",
    "\n",
    "# Plot for 50 Hz\n",
    "plt.bar(index + 2 * bar_width, f1_scores_1_10_50, bar_width, label='50 Hz, 1-10 Hz', color=colors[0], hatch='//')\n",
    "plt.bar(index + 3 * bar_width, f1_scores_1_15_50, bar_width, label='50 Hz, 1-15 Hz', color=colors[1], hatch='//')\n",
    "plt.bar(index + 4 * bar_width, f1_scores_05_10_50, bar_width, label='50 Hz, 0.5-10 Hz', color=colors[2], hatch='//')\n",
    "plt.bar(index + 5 * bar_width, f1_scores_05_15_50, bar_width, label='50 Hz, 0.5-15 Hz', color=colors[3], hatch='//')\n",
    "\n",
    "# Plot for 100 Hz\n",
    "plt.bar(index + 6 * bar_width, f1_scores_1_10_100, bar_width, label='100 Hz, 1-10 Hz', color=colors[0], edgecolor='black', hatch='..')\n",
    "plt.bar(index + 7 * bar_width, f1_scores_1_15_100, bar_width, label='100 Hz, 1-15 Hz', color=colors[1], edgecolor='black', hatch='..')\n",
    "plt.bar(index + 8 * bar_width, f1_scores_05_10_100, bar_width, label='100 Hz, 0.5-10 Hz', color=colors[2], edgecolor='black', hatch='..')\n",
    "plt.bar(index + 9 * bar_width, f1_scores_05_15_100, bar_width, label='100 Hz, 0.5-15 Hz', color=colors[3], edgecolor='black', hatch='..')\n",
    "\n",
    "# Add labels, title, and legend\n",
    "plt.xlabel('Windows with respect to P waves/origin time', fontsize=15)\n",
    "plt.ylabel('Feature Extraction Time for eight samples using parallel processing', fontsize=15)\n",
    "plt.xticks(index + 2.5 * bar_width, windows, rotation=30, fontsize=12)\n",
    "#plt.ylim(0.85, 0.94)\n",
    "#plt.title('Averaged F1-score for Different Windows (Tsfel+Physical features)', fontsize=20)\n",
    "plt.grid(axis='y', linestyle='--', alpha=0.7)\n",
    "plt.gca().yaxis.grid(True, which='minor', linestyle='--', alpha=0.3)\n",
    "plt.legend(loc='upper left', bbox_to_anchor=(1, 1))\n",
    "\n",
    "# Save or display the plot\n",
    "plt.tight_layout()\n",
    "plt.savefig('combined_f1_scores_plot.png', dpi=300)\n",
    "plt.show()\n"
   ]
  },
  {
   "cell_type": "code",
   "execution_count": null,
   "id": "f87dfc56",
   "metadata": {},
   "outputs": [],
   "source": []
  }
 ],
 "metadata": {
  "kernelspec": {
   "display_name": "surface",
   "language": "python",
   "name": "surface"
  },
  "language_info": {
   "codemirror_mode": {
    "name": "ipython",
    "version": 3
   },
   "file_extension": ".py",
   "mimetype": "text/x-python",
   "name": "python",
   "nbconvert_exporter": "python",
   "pygments_lexer": "ipython3",
   "version": "3.9.5"
  }
 },
 "nbformat": 4,
 "nbformat_minor": 5
}
