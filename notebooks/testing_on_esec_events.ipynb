{
 "cells": [
  {
   "cell_type": "code",
   "execution_count": 1,
   "id": "aa58cc8c",
   "metadata": {},
   "outputs": [],
   "source": [
    "import numpy as np\n",
    "import pandas as pd\n",
    "from glob import glob \n",
    "from tqdm import tqdm\n",
    "import seaborn as sns \n",
    "\n",
    "# for converting the text file containing the quarry locations into csv file\n",
    "import csv\n",
    "\n",
    "# for computing the geographical distance between two points \n",
    "import math\n",
    "\n",
    "\n",
    "from sklearn.model_selection import train_test_split\n",
    "from imblearn.under_sampling import RandomUnderSampler\n",
    "import matplotlib.pyplot as plt\n",
    "from sklearn.ensemble import RandomForestClassifier\n",
    "from sklearn.metrics import accuracy_score, roc_curve, roc_auc_score, auc, classification_report, confusion_matrix\n",
    "from sklearn.model_selection import RandomizedSearchCV, GridSearchCV, cross_val_score\n",
    "from datetime import datetime\n",
    "import h5py\n",
    "from sklearn.preprocessing import LabelEncoder\n",
    "from scipy import stats, signal\n",
    "from sklearn.preprocessing import StandardScaler\n",
    "import obspy\n",
    "from obspy.geodetics.base import gps2dist_azimuth, gps2dist_azimuth\n",
    "from obspy.clients.fdsn import Client\n",
    "import time\n",
    "pd.set_option('display.max_columns', None)\n",
    "from joblib import dump, load\n",
    "from obspy.signal.filter import envelope\n",
    "import tsfel\n",
    "\n",
    "\n",
    "import sys\n",
    "sys.path.append('../feature_extraction_scripts/physical_feature_extraction_scripts')\n",
    "import seis_feature\n",
    "#from seis_feature import compute_physical_features\n",
    "from tsfel import time_series_features_extractor, get_features_by_domain\n",
    "from datetime import timedelta\n",
    "import os\n",
    "import sys\n",
    "sys.path.append('../common_scripts')\n",
    "\n",
    "from common_processing_functions import apply_cosine_taper\n",
    "from common_processing_functions import butterworth_filter\n",
    "\n",
    "import pickle\n",
    "from zenodo_get import zenodo_get"
   ]
  },
  {
   "cell_type": "markdown",
   "id": "c530dc81",
   "metadata": {},
   "source": [
    "## Defining some custom functions"
   ]
  },
  {
   "cell_type": "code",
   "execution_count": 2,
   "id": "062d5c8a",
   "metadata": {},
   "outputs": [],
   "source": [
    "# Function to extract information\n",
    "def extract_datetime_info(date_str):\n",
    "    date_obj = datetime.strptime(date_str, '%Y_%m_%d %H%M%S')\n",
    "    hour_of_day = date_obj.hour - 8\n",
    "    day_of_week = date_obj.weekday()  # Full day name\n",
    "    month_of_year = date_obj.month  # Full month name\n",
    "    return hour_of_day, day_of_week, month_of_year\n",
    "\n",
    "\n",
    "\n",
    "def conv_to_datetime(df):\n",
    "    new_df = []\n",
    "    for i in range(len(df)):\n",
    "        year = int(df[i].split('_')[0])\n",
    "        month = int(df[i].split('_')[1])\n",
    "        day = int(df[i].split('_')[2].split(' ')[0])\n",
    "        hour = int(df[i].split('_')[2].split(' ')[1][0:2])\n",
    "        minute = int(df[i].split('_')[2].split(' ')[1][2:4])\n",
    "        second = int(df[i].split('_')[2].split(' ')[1][4:])\n",
    "        new_df.append(obspy.UTCDateTime(year, month, day, hour, minute, second))\n",
    "        \n",
    "    return np.array(new_df)"
   ]
  },
  {
   "cell_type": "code",
   "execution_count": null,
   "id": "c9615a64",
   "metadata": {},
   "outputs": [],
   "source": []
  },
  {
   "cell_type": "code",
   "execution_count": 3,
   "id": "d7f1c052",
   "metadata": {},
   "outputs": [],
   "source": [
    "pd.set_option('display.max_columns', None)\n",
    "cat = pd.read_csv('../data/IRISExoticEventCatalog.txt', sep='|')\n"
   ]
  },
  {
   "cell_type": "code",
   "execution_count": 4,
   "id": "a301af5e",
   "metadata": {},
   "outputs": [],
   "source": [
    "event_ids = cat['eventid'].values\n",
    "source_types = cat['type'].values\n",
    "source_subtypes = cat['subtype'].values"
   ]
  },
  {
   "cell_type": "code",
   "execution_count": 5,
   "id": "4fe9f786",
   "metadata": {},
   "outputs": [],
   "source": [
    "hod = [extract_datetime_info(i)[0] for i in cat['starttime'].values]\n",
    "dow = [extract_datetime_info(i)[1] for i in cat['starttime'].values]\n",
    "moy = [extract_datetime_info(i)[2] for i in cat['starttime'].values]"
   ]
  },
  {
   "cell_type": "code",
   "execution_count": 6,
   "id": "69b3b1ac",
   "metadata": {},
   "outputs": [],
   "source": [
    "## computing the durations\n",
    "sttime = cat['starttime']\n",
    "ettime = cat['endtime']\n",
    "\n",
    "starttimes = conv_to_datetime(sttime)\n",
    "endtimes = conv_to_datetime(ettime)\n",
    "dur = conv_to_datetime(ettime) - conv_to_datetime(sttime)"
   ]
  },
  {
   "cell_type": "code",
   "execution_count": 7,
   "id": "f510f1e5",
   "metadata": {},
   "outputs": [
    {
     "data": {
      "text/html": [
       "<div>\n",
       "<style scoped>\n",
       "    .dataframe tbody tr th:only-of-type {\n",
       "        vertical-align: middle;\n",
       "    }\n",
       "\n",
       "    .dataframe tbody tr th {\n",
       "        vertical-align: top;\n",
       "    }\n",
       "\n",
       "    .dataframe thead th {\n",
       "        text-align: right;\n",
       "    }\n",
       "</style>\n",
       "<table border=\"1\" class=\"dataframe\">\n",
       "  <thead>\n",
       "    <tr style=\"text-align: right;\">\n",
       "      <th></th>\n",
       "      <th>areaSource</th>\n",
       "      <th>areaSourceHigh</th>\n",
       "      <th>areaSourceLow</th>\n",
       "      <th>areaTotal</th>\n",
       "      <th>associationId</th>\n",
       "      <th>datlocation</th>\n",
       "      <th>depth</th>\n",
       "      <th>endtime</th>\n",
       "      <th>eventid</th>\n",
       "      <th>h</th>\n",
       "      <th>hHigh</th>\n",
       "      <th>hLow</th>\n",
       "      <th>hfall</th>\n",
       "      <th>hfall_high</th>\n",
       "      <th>hfall_low</th>\n",
       "      <th>l</th>\n",
       "      <th>lHigh</th>\n",
       "      <th>lLow</th>\n",
       "      <th>latitude</th>\n",
       "      <th>locuncertKm</th>\n",
       "      <th>longitude</th>\n",
       "      <th>lppotential</th>\n",
       "      <th>mass</th>\n",
       "      <th>massHigh</th>\n",
       "      <th>massLow</th>\n",
       "      <th>maxdistvhfKm</th>\n",
       "      <th>maxdistvhfReached</th>\n",
       "      <th>maxdisthfKm</th>\n",
       "      <th>maxdisthfReached</th>\n",
       "      <th>maxdistipKm</th>\n",
       "      <th>maxdistipReached</th>\n",
       "      <th>maxdistlpKm</th>\n",
       "      <th>maxdistlpReached</th>\n",
       "      <th>maxdistinfraKm</th>\n",
       "      <th>maxdistinfraReached</th>\n",
       "      <th>infraDetected</th>\n",
       "      <th>name</th>\n",
       "      <th>otherdataquality1to5</th>\n",
       "      <th>peakDischarge</th>\n",
       "      <th>peakDischargeLow</th>\n",
       "      <th>peakDischargeHigh</th>\n",
       "      <th>peakFlowheight</th>\n",
       "      <th>peakFlowheightLow</th>\n",
       "      <th>peakFlowheightHigh</th>\n",
       "      <th>starttime</th>\n",
       "      <th>sources</th>\n",
       "      <th>toeLat</th>\n",
       "      <th>toeLon</th>\n",
       "      <th>topLat</th>\n",
       "      <th>topLon</th>\n",
       "      <th>upstreamDrainarea</th>\n",
       "      <th>type</th>\n",
       "      <th>subtype</th>\n",
       "      <th>volume</th>\n",
       "      <th>volumeHigh</th>\n",
       "      <th>volumeLow</th>\n",
       "    </tr>\n",
       "  </thead>\n",
       "  <tbody>\n",
       "    <tr>\n",
       "      <th>0</th>\n",
       "      <td>NaN</td>\n",
       "      <td>NaN</td>\n",
       "      <td>NaN</td>\n",
       "      <td>NaN</td>\n",
       "      <td>22</td>\n",
       "      <td>IRIS</td>\n",
       "      <td>NaN</td>\n",
       "      <td>2007_07_25 010251</td>\n",
       "      <td>22</td>\n",
       "      <td>1860.0</td>\n",
       "      <td>NaN</td>\n",
       "      <td>NaN</td>\n",
       "      <td>NaN</td>\n",
       "      <td>NaN</td>\n",
       "      <td>NaN</td>\n",
       "      <td>5760.0</td>\n",
       "      <td>NaN</td>\n",
       "      <td>NaN</td>\n",
       "      <td>61.10249</td>\n",
       "      <td>0.00</td>\n",
       "      <td>-140.30550</td>\n",
       "      <td>1</td>\n",
       "      <td>1.080000e+11</td>\n",
       "      <td>NaN</td>\n",
       "      <td>NaN</td>\n",
       "      <td>NaN</td>\n",
       "      <td>NaN</td>\n",
       "      <td>1079.0</td>\n",
       "      <td>True</td>\n",
       "      <td>NaN</td>\n",
       "      <td>NaN</td>\n",
       "      <td>1100.0</td>\n",
       "      <td>False</td>\n",
       "      <td>NaN</td>\n",
       "      <td>NaN</td>\n",
       "      <td>NaN</td>\n",
       "      <td>Mount Steele 2</td>\n",
       "      <td>5</td>\n",
       "      <td>NaN</td>\n",
       "      <td>NaN</td>\n",
       "      <td>NaN</td>\n",
       "      <td>NaN</td>\n",
       "      <td>NaN</td>\n",
       "      <td>NaN</td>\n",
       "      <td>2007_07_25 005835</td>\n",
       "      <td>Allstadt, Kate E., McVey, Brennah G., and Malo...</td>\n",
       "      <td>61.14054</td>\n",
       "      <td>-140.25324</td>\n",
       "      <td>61.10249</td>\n",
       "      <td>-140.30550</td>\n",
       "      <td>NaN</td>\n",
       "      <td>rock and ice avalanche</td>\n",
       "      <td>Rock/ice/debris avalanches and slides</td>\n",
       "      <td>54000000.0</td>\n",
       "      <td>80500000.0</td>\n",
       "      <td>27500000.0</td>\n",
       "    </tr>\n",
       "    <tr>\n",
       "      <th>1</th>\n",
       "      <td>NaN</td>\n",
       "      <td>NaN</td>\n",
       "      <td>NaN</td>\n",
       "      <td>NaN</td>\n",
       "      <td>218</td>\n",
       "      <td>RESIF, ETH, ORFEUS, LMU, BGR, IRIS, INGV</td>\n",
       "      <td>NaN</td>\n",
       "      <td>2017_08_23 093828</td>\n",
       "      <td>218</td>\n",
       "      <td>NaN</td>\n",
       "      <td>NaN</td>\n",
       "      <td>NaN</td>\n",
       "      <td>NaN</td>\n",
       "      <td>NaN</td>\n",
       "      <td>NaN</td>\n",
       "      <td>NaN</td>\n",
       "      <td>NaN</td>\n",
       "      <td>NaN</td>\n",
       "      <td>46.29552</td>\n",
       "      <td>NaN</td>\n",
       "      <td>9.60190</td>\n",
       "      <td>0</td>\n",
       "      <td>NaN</td>\n",
       "      <td>NaN</td>\n",
       "      <td>NaN</td>\n",
       "      <td>NaN</td>\n",
       "      <td>NaN</td>\n",
       "      <td>246.0</td>\n",
       "      <td>False</td>\n",
       "      <td>NaN</td>\n",
       "      <td>NaN</td>\n",
       "      <td>0.0</td>\n",
       "      <td>NaN</td>\n",
       "      <td>NaN</td>\n",
       "      <td>NaN</td>\n",
       "      <td>NaN</td>\n",
       "      <td>Piz Cengalo 4, Switzerland</td>\n",
       "      <td>1</td>\n",
       "      <td>NaN</td>\n",
       "      <td>NaN</td>\n",
       "      <td>NaN</td>\n",
       "      <td>NaN</td>\n",
       "      <td>NaN</td>\n",
       "      <td>NaN</td>\n",
       "      <td>2017_08_23 093617</td>\n",
       "      <td>Collins, E.A., Allstadt, K.E., Groult, C., Hib...</td>\n",
       "      <td>NaN</td>\n",
       "      <td>NaN</td>\n",
       "      <td>NaN</td>\n",
       "      <td>NaN</td>\n",
       "      <td>NaN</td>\n",
       "      <td>landslide</td>\n",
       "      <td>Rock/ice/debris avalanches and slides</td>\n",
       "      <td>NaN</td>\n",
       "      <td>NaN</td>\n",
       "      <td>NaN</td>\n",
       "    </tr>\n",
       "    <tr>\n",
       "      <th>2</th>\n",
       "      <td>111000.0</td>\n",
       "      <td>NaN</td>\n",
       "      <td>NaN</td>\n",
       "      <td>1130000.0</td>\n",
       "      <td>127</td>\n",
       "      <td>IRIS</td>\n",
       "      <td>NaN</td>\n",
       "      <td>2017_07_22 205957</td>\n",
       "      <td>127</td>\n",
       "      <td>931.0</td>\n",
       "      <td>NaN</td>\n",
       "      <td>NaN</td>\n",
       "      <td>NaN</td>\n",
       "      <td>NaN</td>\n",
       "      <td>NaN</td>\n",
       "      <td>3730.0</td>\n",
       "      <td>NaN</td>\n",
       "      <td>NaN</td>\n",
       "      <td>60.07385</td>\n",
       "      <td>0.00</td>\n",
       "      <td>-139.84532</td>\n",
       "      <td>1</td>\n",
       "      <td>NaN</td>\n",
       "      <td>NaN</td>\n",
       "      <td>NaN</td>\n",
       "      <td>NaN</td>\n",
       "      <td>NaN</td>\n",
       "      <td>351.0</td>\n",
       "      <td>False</td>\n",
       "      <td>NaN</td>\n",
       "      <td>NaN</td>\n",
       "      <td>386.0</td>\n",
       "      <td>False</td>\n",
       "      <td>0.0</td>\n",
       "      <td>NaN</td>\n",
       "      <td>False</td>\n",
       "      <td>Lucia Glacier</td>\n",
       "      <td>4</td>\n",
       "      <td>NaN</td>\n",
       "      <td>NaN</td>\n",
       "      <td>NaN</td>\n",
       "      <td>NaN</td>\n",
       "      <td>NaN</td>\n",
       "      <td>NaN</td>\n",
       "      <td>2017_07_22 205630</td>\n",
       "      <td>Collins, E.A., Allstadt, K.E., Groult, C., Hib...</td>\n",
       "      <td>60.06616</td>\n",
       "      <td>-139.90755</td>\n",
       "      <td>60.07385</td>\n",
       "      <td>-139.84532</td>\n",
       "      <td>NaN</td>\n",
       "      <td>rock avalanche</td>\n",
       "      <td>Rock/ice/debris avalanches and slides</td>\n",
       "      <td>3000000.0</td>\n",
       "      <td>4000000.0</td>\n",
       "      <td>2300000.0</td>\n",
       "    </tr>\n",
       "    <tr>\n",
       "      <th>3</th>\n",
       "      <td>100000.0</td>\n",
       "      <td>150000.0</td>\n",
       "      <td>65000.0</td>\n",
       "      <td>820000.0</td>\n",
       "      <td>186</td>\n",
       "      <td>IRIS, NCEDC</td>\n",
       "      <td>NaN</td>\n",
       "      <td>2013_07_25 101727</td>\n",
       "      <td>186</td>\n",
       "      <td>690.0</td>\n",
       "      <td>760.0</td>\n",
       "      <td>640.0</td>\n",
       "      <td>NaN</td>\n",
       "      <td>NaN</td>\n",
       "      <td>NaN</td>\n",
       "      <td>2000.0</td>\n",
       "      <td>2100.0</td>\n",
       "      <td>1600.0</td>\n",
       "      <td>61.98450</td>\n",
       "      <td>0.00</td>\n",
       "      <td>-143.16830</td>\n",
       "      <td>1</td>\n",
       "      <td>4.000000e+10</td>\n",
       "      <td>NaN</td>\n",
       "      <td>NaN</td>\n",
       "      <td>NaN</td>\n",
       "      <td>NaN</td>\n",
       "      <td>500.0</td>\n",
       "      <td>False</td>\n",
       "      <td>NaN</td>\n",
       "      <td>NaN</td>\n",
       "      <td>500.0</td>\n",
       "      <td>False</td>\n",
       "      <td>NaN</td>\n",
       "      <td>NaN</td>\n",
       "      <td>NaN</td>\n",
       "      <td>Wrangell Mountains</td>\n",
       "      <td>4</td>\n",
       "      <td>NaN</td>\n",
       "      <td>NaN</td>\n",
       "      <td>NaN</td>\n",
       "      <td>NaN</td>\n",
       "      <td>NaN</td>\n",
       "      <td>NaN</td>\n",
       "      <td>2013_07_25 101456</td>\n",
       "      <td>Collins, E.A., Allstadt, K.E., Groult, C., Hib...</td>\n",
       "      <td>61.97220</td>\n",
       "      <td>-143.14950</td>\n",
       "      <td>61.98450</td>\n",
       "      <td>-143.16830</td>\n",
       "      <td>NaN</td>\n",
       "      <td>rock and debris avalanche</td>\n",
       "      <td>Rock/ice/debris avalanches and slides</td>\n",
       "      <td>2600000.0</td>\n",
       "      <td>3900000.0</td>\n",
       "      <td>1800000.0</td>\n",
       "    </tr>\n",
       "    <tr>\n",
       "      <th>4</th>\n",
       "      <td>23400.0</td>\n",
       "      <td>NaN</td>\n",
       "      <td>NaN</td>\n",
       "      <td>NaN</td>\n",
       "      <td>147</td>\n",
       "      <td>IRIS</td>\n",
       "      <td>NaN</td>\n",
       "      <td>2019_05_13 144245</td>\n",
       "      <td>147</td>\n",
       "      <td>1240.0</td>\n",
       "      <td>NaN</td>\n",
       "      <td>NaN</td>\n",
       "      <td>NaN</td>\n",
       "      <td>NaN</td>\n",
       "      <td>NaN</td>\n",
       "      <td>4320.0</td>\n",
       "      <td>NaN</td>\n",
       "      <td>NaN</td>\n",
       "      <td>50.34480</td>\n",
       "      <td>0.00</td>\n",
       "      <td>-122.45110</td>\n",
       "      <td>1</td>\n",
       "      <td>NaN</td>\n",
       "      <td>NaN</td>\n",
       "      <td>NaN</td>\n",
       "      <td>NaN</td>\n",
       "      <td>NaN</td>\n",
       "      <td>391.0</td>\n",
       "      <td>True</td>\n",
       "      <td>NaN</td>\n",
       "      <td>NaN</td>\n",
       "      <td>301.0</td>\n",
       "      <td>True</td>\n",
       "      <td>NaN</td>\n",
       "      <td>NaN</td>\n",
       "      <td>NaN</td>\n",
       "      <td>Mount Joffre 1</td>\n",
       "      <td>5</td>\n",
       "      <td>NaN</td>\n",
       "      <td>NaN</td>\n",
       "      <td>NaN</td>\n",
       "      <td>NaN</td>\n",
       "      <td>NaN</td>\n",
       "      <td>NaN</td>\n",
       "      <td>2019_05_13 143955</td>\n",
       "      <td>Collins, E.A., Allstadt, K.E., Groult, C., Hib...</td>\n",
       "      <td>50.36720</td>\n",
       "      <td>-122.41540</td>\n",
       "      <td>50.34480</td>\n",
       "      <td>-122.45110</td>\n",
       "      <td>NaN</td>\n",
       "      <td>rock avalanche, debris flow</td>\n",
       "      <td>Rock/ice/debris avalanches and slides</td>\n",
       "      <td>1900000.0</td>\n",
       "      <td>NaN</td>\n",
       "      <td>NaN</td>\n",
       "    </tr>\n",
       "    <tr>\n",
       "      <th>...</th>\n",
       "      <td>...</td>\n",
       "      <td>...</td>\n",
       "      <td>...</td>\n",
       "      <td>...</td>\n",
       "      <td>...</td>\n",
       "      <td>...</td>\n",
       "      <td>...</td>\n",
       "      <td>...</td>\n",
       "      <td>...</td>\n",
       "      <td>...</td>\n",
       "      <td>...</td>\n",
       "      <td>...</td>\n",
       "      <td>...</td>\n",
       "      <td>...</td>\n",
       "      <td>...</td>\n",
       "      <td>...</td>\n",
       "      <td>...</td>\n",
       "      <td>...</td>\n",
       "      <td>...</td>\n",
       "      <td>...</td>\n",
       "      <td>...</td>\n",
       "      <td>...</td>\n",
       "      <td>...</td>\n",
       "      <td>...</td>\n",
       "      <td>...</td>\n",
       "      <td>...</td>\n",
       "      <td>...</td>\n",
       "      <td>...</td>\n",
       "      <td>...</td>\n",
       "      <td>...</td>\n",
       "      <td>...</td>\n",
       "      <td>...</td>\n",
       "      <td>...</td>\n",
       "      <td>...</td>\n",
       "      <td>...</td>\n",
       "      <td>...</td>\n",
       "      <td>...</td>\n",
       "      <td>...</td>\n",
       "      <td>...</td>\n",
       "      <td>...</td>\n",
       "      <td>...</td>\n",
       "      <td>...</td>\n",
       "      <td>...</td>\n",
       "      <td>...</td>\n",
       "      <td>...</td>\n",
       "      <td>...</td>\n",
       "      <td>...</td>\n",
       "      <td>...</td>\n",
       "      <td>...</td>\n",
       "      <td>...</td>\n",
       "      <td>...</td>\n",
       "      <td>...</td>\n",
       "      <td>...</td>\n",
       "      <td>...</td>\n",
       "      <td>...</td>\n",
       "      <td>...</td>\n",
       "    </tr>\n",
       "    <tr>\n",
       "      <th>240</th>\n",
       "      <td>NaN</td>\n",
       "      <td>NaN</td>\n",
       "      <td>NaN</td>\n",
       "      <td>NaN</td>\n",
       "      <td>185</td>\n",
       "      <td>Attachments below</td>\n",
       "      <td>NaN</td>\n",
       "      <td>2015_06_09 160558</td>\n",
       "      <td>185</td>\n",
       "      <td>NaN</td>\n",
       "      <td>NaN</td>\n",
       "      <td>NaN</td>\n",
       "      <td>NaN</td>\n",
       "      <td>NaN</td>\n",
       "      <td>NaN</td>\n",
       "      <td>NaN</td>\n",
       "      <td>NaN</td>\n",
       "      <td>NaN</td>\n",
       "      <td>46.67199</td>\n",
       "      <td>NaN</td>\n",
       "      <td>10.72268</td>\n",
       "      <td>0</td>\n",
       "      <td>NaN</td>\n",
       "      <td>NaN</td>\n",
       "      <td>NaN</td>\n",
       "      <td>3.0</td>\n",
       "      <td>NaN</td>\n",
       "      <td>3.0</td>\n",
       "      <td>True</td>\n",
       "      <td>NaN</td>\n",
       "      <td>NaN</td>\n",
       "      <td>0.0</td>\n",
       "      <td>NaN</td>\n",
       "      <td>NaN</td>\n",
       "      <td>NaN</td>\n",
       "      <td>NaN</td>\n",
       "      <td>Gadria 3</td>\n",
       "      <td>5</td>\n",
       "      <td>27.0</td>\n",
       "      <td>NaN</td>\n",
       "      <td>NaN</td>\n",
       "      <td>1.7</td>\n",
       "      <td>NaN</td>\n",
       "      <td>NaN</td>\n",
       "      <td>2015_06_09 151558</td>\n",
       "      <td>Coviello, V., Arattano, M., Comiti, F., Maccon...</td>\n",
       "      <td>NaN</td>\n",
       "      <td>NaN</td>\n",
       "      <td>NaN</td>\n",
       "      <td>NaN</td>\n",
       "      <td>6.3</td>\n",
       "      <td>debris flow</td>\n",
       "      <td>Lahar/debris flow/outburst flood</td>\n",
       "      <td>12600.0</td>\n",
       "      <td>NaN</td>\n",
       "      <td>NaN</td>\n",
       "    </tr>\n",
       "    <tr>\n",
       "      <th>241</th>\n",
       "      <td>310000.0</td>\n",
       "      <td>520000.0</td>\n",
       "      <td>200000.0</td>\n",
       "      <td>7900000.0</td>\n",
       "      <td>19</td>\n",
       "      <td>IRIS</td>\n",
       "      <td>NaN</td>\n",
       "      <td>2012_06_11 222652</td>\n",
       "      <td>19</td>\n",
       "      <td>2400.0</td>\n",
       "      <td>2500.0</td>\n",
       "      <td>2300.0</td>\n",
       "      <td>NaN</td>\n",
       "      <td>NaN</td>\n",
       "      <td>NaN</td>\n",
       "      <td>9300.0</td>\n",
       "      <td>9500.0</td>\n",
       "      <td>9100.0</td>\n",
       "      <td>58.79367</td>\n",
       "      <td>0.00</td>\n",
       "      <td>-137.44247</td>\n",
       "      <td>1</td>\n",
       "      <td>2.000000e+10</td>\n",
       "      <td>NaN</td>\n",
       "      <td>NaN</td>\n",
       "      <td>NaN</td>\n",
       "      <td>NaN</td>\n",
       "      <td>890.0</td>\n",
       "      <td>True</td>\n",
       "      <td>NaN</td>\n",
       "      <td>NaN</td>\n",
       "      <td>1000.0</td>\n",
       "      <td>False</td>\n",
       "      <td>NaN</td>\n",
       "      <td>NaN</td>\n",
       "      <td>NaN</td>\n",
       "      <td>Mount Lituya main</td>\n",
       "      <td>4</td>\n",
       "      <td>NaN</td>\n",
       "      <td>NaN</td>\n",
       "      <td>NaN</td>\n",
       "      <td>NaN</td>\n",
       "      <td>NaN</td>\n",
       "      <td>NaN</td>\n",
       "      <td>2012_06_11 222400</td>\n",
       "      <td>Allstadt, Kate E., McVey, Brennah G., and Malo...</td>\n",
       "      <td>58.81626</td>\n",
       "      <td>-137.30032</td>\n",
       "      <td>58.79367</td>\n",
       "      <td>-137.44247</td>\n",
       "      <td>NaN</td>\n",
       "      <td>rock and ice avalanche</td>\n",
       "      <td>Rock/ice/debris avalanches and slides</td>\n",
       "      <td>13000000.0</td>\n",
       "      <td>60000000.0</td>\n",
       "      <td>2800000.0</td>\n",
       "    </tr>\n",
       "    <tr>\n",
       "      <th>242</th>\n",
       "      <td>130000.0</td>\n",
       "      <td>160000.0</td>\n",
       "      <td>84000.0</td>\n",
       "      <td>3000000.0</td>\n",
       "      <td>188</td>\n",
       "      <td>IRIS, NCEDC</td>\n",
       "      <td>NaN</td>\n",
       "      <td>2010_07_09 073820</td>\n",
       "      <td>188</td>\n",
       "      <td>1800.0</td>\n",
       "      <td>1900.0</td>\n",
       "      <td>1600.0</td>\n",
       "      <td>NaN</td>\n",
       "      <td>NaN</td>\n",
       "      <td>NaN</td>\n",
       "      <td>7600.0</td>\n",
       "      <td>7900.0</td>\n",
       "      <td>7300.0</td>\n",
       "      <td>51.87130</td>\n",
       "      <td>0.00</td>\n",
       "      <td>-125.94340</td>\n",
       "      <td>1</td>\n",
       "      <td>NaN</td>\n",
       "      <td>NaN</td>\n",
       "      <td>NaN</td>\n",
       "      <td>NaN</td>\n",
       "      <td>NaN</td>\n",
       "      <td>500.0</td>\n",
       "      <td>False</td>\n",
       "      <td>NaN</td>\n",
       "      <td>NaN</td>\n",
       "      <td>500.0</td>\n",
       "      <td>False</td>\n",
       "      <td>NaN</td>\n",
       "      <td>NaN</td>\n",
       "      <td>NaN</td>\n",
       "      <td>Sheemahant Glacier</td>\n",
       "      <td>4</td>\n",
       "      <td>NaN</td>\n",
       "      <td>NaN</td>\n",
       "      <td>NaN</td>\n",
       "      <td>NaN</td>\n",
       "      <td>NaN</td>\n",
       "      <td>NaN</td>\n",
       "      <td>2010_07_09 073435</td>\n",
       "      <td>Collins, E.A., Allstadt, K.E., Groult, C., Hib...</td>\n",
       "      <td>51.84780</td>\n",
       "      <td>-126.02910</td>\n",
       "      <td>51.87130</td>\n",
       "      <td>-125.94340</td>\n",
       "      <td>NaN</td>\n",
       "      <td>rock slide</td>\n",
       "      <td>Rock/ice/debris avalanches and slides</td>\n",
       "      <td>3800000.0</td>\n",
       "      <td>5400000.0</td>\n",
       "      <td>2700000.0</td>\n",
       "    </tr>\n",
       "    <tr>\n",
       "      <th>243</th>\n",
       "      <td>NaN</td>\n",
       "      <td>NaN</td>\n",
       "      <td>NaN</td>\n",
       "      <td>NaN</td>\n",
       "      <td>159</td>\n",
       "      <td>IRIS</td>\n",
       "      <td>NaN</td>\n",
       "      <td>2017_03_06 234541</td>\n",
       "      <td>159</td>\n",
       "      <td>NaN</td>\n",
       "      <td>NaN</td>\n",
       "      <td>NaN</td>\n",
       "      <td>NaN</td>\n",
       "      <td>NaN</td>\n",
       "      <td>NaN</td>\n",
       "      <td>NaN</td>\n",
       "      <td>NaN</td>\n",
       "      <td>NaN</td>\n",
       "      <td>60.03300</td>\n",
       "      <td>1.00</td>\n",
       "      <td>-153.09870</td>\n",
       "      <td>1</td>\n",
       "      <td>NaN</td>\n",
       "      <td>NaN</td>\n",
       "      <td>NaN</td>\n",
       "      <td>NaN</td>\n",
       "      <td>NaN</td>\n",
       "      <td>319.0</td>\n",
       "      <td>True</td>\n",
       "      <td>NaN</td>\n",
       "      <td>NaN</td>\n",
       "      <td>136.0</td>\n",
       "      <td>True</td>\n",
       "      <td>NaN</td>\n",
       "      <td>NaN</td>\n",
       "      <td>True</td>\n",
       "      <td>Iliamna</td>\n",
       "      <td>2</td>\n",
       "      <td>NaN</td>\n",
       "      <td>NaN</td>\n",
       "      <td>NaN</td>\n",
       "      <td>NaN</td>\n",
       "      <td>NaN</td>\n",
       "      <td>NaN</td>\n",
       "      <td>2017_03_06 232627</td>\n",
       "      <td>Collins, E.A., Allstadt, K.E., Groult, C., Hib...</td>\n",
       "      <td>NaN</td>\n",
       "      <td>NaN</td>\n",
       "      <td>NaN</td>\n",
       "      <td>NaN</td>\n",
       "      <td>NaN</td>\n",
       "      <td>ice avalanche</td>\n",
       "      <td>Rock/ice/debris avalanches and slides</td>\n",
       "      <td>NaN</td>\n",
       "      <td>NaN</td>\n",
       "      <td>NaN</td>\n",
       "    </tr>\n",
       "    <tr>\n",
       "      <th>244</th>\n",
       "      <td>NaN</td>\n",
       "      <td>NaN</td>\n",
       "      <td>NaN</td>\n",
       "      <td>NaN</td>\n",
       "      <td>227</td>\n",
       "      <td>ORFEUS, LMU, INGV</td>\n",
       "      <td>NaN</td>\n",
       "      <td>2019_10_24 194221</td>\n",
       "      <td>227</td>\n",
       "      <td>NaN</td>\n",
       "      <td>NaN</td>\n",
       "      <td>NaN</td>\n",
       "      <td>NaN</td>\n",
       "      <td>NaN</td>\n",
       "      <td>NaN</td>\n",
       "      <td>NaN</td>\n",
       "      <td>NaN</td>\n",
       "      <td>NaN</td>\n",
       "      <td>47.16708</td>\n",
       "      <td>0.05</td>\n",
       "      <td>13.27217</td>\n",
       "      <td>0</td>\n",
       "      <td>NaN</td>\n",
       "      <td>NaN</td>\n",
       "      <td>NaN</td>\n",
       "      <td>NaN</td>\n",
       "      <td>NaN</td>\n",
       "      <td>70.0</td>\n",
       "      <td>False</td>\n",
       "      <td>NaN</td>\n",
       "      <td>NaN</td>\n",
       "      <td>0.0</td>\n",
       "      <td>NaN</td>\n",
       "      <td>NaN</td>\n",
       "      <td>NaN</td>\n",
       "      <td>NaN</td>\n",
       "      <td>Karteis 2, Austria</td>\n",
       "      <td>4</td>\n",
       "      <td>NaN</td>\n",
       "      <td>NaN</td>\n",
       "      <td>NaN</td>\n",
       "      <td>NaN</td>\n",
       "      <td>NaN</td>\n",
       "      <td>NaN</td>\n",
       "      <td>2019_10_24 194114</td>\n",
       "      <td>Collins, E.A., Allstadt, K.E., Groult, C., Hib...</td>\n",
       "      <td>NaN</td>\n",
       "      <td>NaN</td>\n",
       "      <td>NaN</td>\n",
       "      <td>NaN</td>\n",
       "      <td>NaN</td>\n",
       "      <td>rock fall</td>\n",
       "      <td>Rock/debris falls</td>\n",
       "      <td>NaN</td>\n",
       "      <td>NaN</td>\n",
       "      <td>NaN</td>\n",
       "    </tr>\n",
       "  </tbody>\n",
       "</table>\n",
       "<p>245 rows × 56 columns</p>\n",
       "</div>"
      ],
      "text/plain": [
       "     areaSource  areaSourceHigh  areaSourceLow  areaTotal  associationId  \\\n",
       "0           NaN             NaN            NaN        NaN             22   \n",
       "1           NaN             NaN            NaN        NaN            218   \n",
       "2      111000.0             NaN            NaN  1130000.0            127   \n",
       "3      100000.0        150000.0        65000.0   820000.0            186   \n",
       "4       23400.0             NaN            NaN        NaN            147   \n",
       "..          ...             ...            ...        ...            ...   \n",
       "240         NaN             NaN            NaN        NaN            185   \n",
       "241    310000.0        520000.0       200000.0  7900000.0             19   \n",
       "242    130000.0        160000.0        84000.0  3000000.0            188   \n",
       "243         NaN             NaN            NaN        NaN            159   \n",
       "244         NaN             NaN            NaN        NaN            227   \n",
       "\n",
       "                                  datlocation  depth            endtime  \\\n",
       "0                                        IRIS    NaN  2007_07_25 010251   \n",
       "1    RESIF, ETH, ORFEUS, LMU, BGR, IRIS, INGV    NaN  2017_08_23 093828   \n",
       "2                                        IRIS    NaN  2017_07_22 205957   \n",
       "3                                 IRIS, NCEDC    NaN  2013_07_25 101727   \n",
       "4                                        IRIS    NaN  2019_05_13 144245   \n",
       "..                                        ...    ...                ...   \n",
       "240                         Attachments below    NaN  2015_06_09 160558   \n",
       "241                                      IRIS    NaN  2012_06_11 222652   \n",
       "242                               IRIS, NCEDC    NaN  2010_07_09 073820   \n",
       "243                                      IRIS    NaN  2017_03_06 234541   \n",
       "244                         ORFEUS, LMU, INGV    NaN  2019_10_24 194221   \n",
       "\n",
       "     eventid       h   hHigh    hLow  hfall  hfall_high  hfall_low       l  \\\n",
       "0         22  1860.0     NaN     NaN    NaN         NaN        NaN  5760.0   \n",
       "1        218     NaN     NaN     NaN    NaN         NaN        NaN     NaN   \n",
       "2        127   931.0     NaN     NaN    NaN         NaN        NaN  3730.0   \n",
       "3        186   690.0   760.0   640.0    NaN         NaN        NaN  2000.0   \n",
       "4        147  1240.0     NaN     NaN    NaN         NaN        NaN  4320.0   \n",
       "..       ...     ...     ...     ...    ...         ...        ...     ...   \n",
       "240      185     NaN     NaN     NaN    NaN         NaN        NaN     NaN   \n",
       "241       19  2400.0  2500.0  2300.0    NaN         NaN        NaN  9300.0   \n",
       "242      188  1800.0  1900.0  1600.0    NaN         NaN        NaN  7600.0   \n",
       "243      159     NaN     NaN     NaN    NaN         NaN        NaN     NaN   \n",
       "244      227     NaN     NaN     NaN    NaN         NaN        NaN     NaN   \n",
       "\n",
       "      lHigh    lLow  latitude  locuncertKm  longitude  lppotential  \\\n",
       "0       NaN     NaN  61.10249         0.00 -140.30550            1   \n",
       "1       NaN     NaN  46.29552          NaN    9.60190            0   \n",
       "2       NaN     NaN  60.07385         0.00 -139.84532            1   \n",
       "3    2100.0  1600.0  61.98450         0.00 -143.16830            1   \n",
       "4       NaN     NaN  50.34480         0.00 -122.45110            1   \n",
       "..      ...     ...       ...          ...        ...          ...   \n",
       "240     NaN     NaN  46.67199          NaN   10.72268            0   \n",
       "241  9500.0  9100.0  58.79367         0.00 -137.44247            1   \n",
       "242  7900.0  7300.0  51.87130         0.00 -125.94340            1   \n",
       "243     NaN     NaN  60.03300         1.00 -153.09870            1   \n",
       "244     NaN     NaN  47.16708         0.05   13.27217            0   \n",
       "\n",
       "             mass  massHigh  massLow  maxdistvhfKm  maxdistvhfReached  \\\n",
       "0    1.080000e+11       NaN      NaN           NaN                NaN   \n",
       "1             NaN       NaN      NaN           NaN                NaN   \n",
       "2             NaN       NaN      NaN           NaN                NaN   \n",
       "3    4.000000e+10       NaN      NaN           NaN                NaN   \n",
       "4             NaN       NaN      NaN           NaN                NaN   \n",
       "..            ...       ...      ...           ...                ...   \n",
       "240           NaN       NaN      NaN           3.0                NaN   \n",
       "241  2.000000e+10       NaN      NaN           NaN                NaN   \n",
       "242           NaN       NaN      NaN           NaN                NaN   \n",
       "243           NaN       NaN      NaN           NaN                NaN   \n",
       "244           NaN       NaN      NaN           NaN                NaN   \n",
       "\n",
       "     maxdisthfKm maxdisthfReached  maxdistipKm  maxdistipReached  maxdistlpKm  \\\n",
       "0         1079.0             True          NaN               NaN       1100.0   \n",
       "1          246.0            False          NaN               NaN          0.0   \n",
       "2          351.0            False          NaN               NaN        386.0   \n",
       "3          500.0            False          NaN               NaN        500.0   \n",
       "4          391.0             True          NaN               NaN        301.0   \n",
       "..           ...              ...          ...               ...          ...   \n",
       "240          3.0             True          NaN               NaN          0.0   \n",
       "241        890.0             True          NaN               NaN       1000.0   \n",
       "242        500.0            False          NaN               NaN        500.0   \n",
       "243        319.0             True          NaN               NaN        136.0   \n",
       "244         70.0            False          NaN               NaN          0.0   \n",
       "\n",
       "    maxdistlpReached  maxdistinfraKm maxdistinfraReached infraDetected  \\\n",
       "0              False             NaN                 NaN           NaN   \n",
       "1                NaN             NaN                 NaN           NaN   \n",
       "2              False             0.0                 NaN         False   \n",
       "3              False             NaN                 NaN           NaN   \n",
       "4               True             NaN                 NaN           NaN   \n",
       "..               ...             ...                 ...           ...   \n",
       "240              NaN             NaN                 NaN           NaN   \n",
       "241            False             NaN                 NaN           NaN   \n",
       "242            False             NaN                 NaN           NaN   \n",
       "243             True             NaN                 NaN          True   \n",
       "244              NaN             NaN                 NaN           NaN   \n",
       "\n",
       "                           name  otherdataquality1to5  peakDischarge  \\\n",
       "0                Mount Steele 2                     5            NaN   \n",
       "1    Piz Cengalo 4, Switzerland                     1            NaN   \n",
       "2                 Lucia Glacier                     4            NaN   \n",
       "3            Wrangell Mountains                     4            NaN   \n",
       "4                Mount Joffre 1                     5            NaN   \n",
       "..                          ...                   ...            ...   \n",
       "240                    Gadria 3                     5           27.0   \n",
       "241           Mount Lituya main                     4            NaN   \n",
       "242          Sheemahant Glacier                     4            NaN   \n",
       "243                     Iliamna                     2            NaN   \n",
       "244          Karteis 2, Austria                     4            NaN   \n",
       "\n",
       "     peakDischargeLow  peakDischargeHigh  peakFlowheight  peakFlowheightLow  \\\n",
       "0                 NaN                NaN             NaN                NaN   \n",
       "1                 NaN                NaN             NaN                NaN   \n",
       "2                 NaN                NaN             NaN                NaN   \n",
       "3                 NaN                NaN             NaN                NaN   \n",
       "4                 NaN                NaN             NaN                NaN   \n",
       "..                ...                ...             ...                ...   \n",
       "240               NaN                NaN             1.7                NaN   \n",
       "241               NaN                NaN             NaN                NaN   \n",
       "242               NaN                NaN             NaN                NaN   \n",
       "243               NaN                NaN             NaN                NaN   \n",
       "244               NaN                NaN             NaN                NaN   \n",
       "\n",
       "     peakFlowheightHigh          starttime  \\\n",
       "0                   NaN  2007_07_25 005835   \n",
       "1                   NaN  2017_08_23 093617   \n",
       "2                   NaN  2017_07_22 205630   \n",
       "3                   NaN  2013_07_25 101456   \n",
       "4                   NaN  2019_05_13 143955   \n",
       "..                  ...                ...   \n",
       "240                 NaN  2015_06_09 151558   \n",
       "241                 NaN  2012_06_11 222400   \n",
       "242                 NaN  2010_07_09 073435   \n",
       "243                 NaN  2017_03_06 232627   \n",
       "244                 NaN  2019_10_24 194114   \n",
       "\n",
       "                                               sources    toeLat     toeLon  \\\n",
       "0    Allstadt, Kate E., McVey, Brennah G., and Malo...  61.14054 -140.25324   \n",
       "1    Collins, E.A., Allstadt, K.E., Groult, C., Hib...       NaN        NaN   \n",
       "2    Collins, E.A., Allstadt, K.E., Groult, C., Hib...  60.06616 -139.90755   \n",
       "3    Collins, E.A., Allstadt, K.E., Groult, C., Hib...  61.97220 -143.14950   \n",
       "4    Collins, E.A., Allstadt, K.E., Groult, C., Hib...  50.36720 -122.41540   \n",
       "..                                                 ...       ...        ...   \n",
       "240  Coviello, V., Arattano, M., Comiti, F., Maccon...       NaN        NaN   \n",
       "241  Allstadt, Kate E., McVey, Brennah G., and Malo...  58.81626 -137.30032   \n",
       "242  Collins, E.A., Allstadt, K.E., Groult, C., Hib...  51.84780 -126.02910   \n",
       "243  Collins, E.A., Allstadt, K.E., Groult, C., Hib...       NaN        NaN   \n",
       "244  Collins, E.A., Allstadt, K.E., Groult, C., Hib...       NaN        NaN   \n",
       "\n",
       "       topLat     topLon  upstreamDrainarea                         type  \\\n",
       "0    61.10249 -140.30550                NaN       rock and ice avalanche   \n",
       "1         NaN        NaN                NaN                    landslide   \n",
       "2    60.07385 -139.84532                NaN               rock avalanche   \n",
       "3    61.98450 -143.16830                NaN    rock and debris avalanche   \n",
       "4    50.34480 -122.45110                NaN  rock avalanche, debris flow   \n",
       "..        ...        ...                ...                          ...   \n",
       "240       NaN        NaN                6.3                  debris flow   \n",
       "241  58.79367 -137.44247                NaN       rock and ice avalanche   \n",
       "242  51.87130 -125.94340                NaN                   rock slide   \n",
       "243       NaN        NaN                NaN                ice avalanche   \n",
       "244       NaN        NaN                NaN                    rock fall   \n",
       "\n",
       "                                   subtype      volume  volumeHigh   volumeLow  \n",
       "0    Rock/ice/debris avalanches and slides  54000000.0  80500000.0  27500000.0  \n",
       "1    Rock/ice/debris avalanches and slides         NaN         NaN         NaN  \n",
       "2    Rock/ice/debris avalanches and slides   3000000.0   4000000.0   2300000.0  \n",
       "3    Rock/ice/debris avalanches and slides   2600000.0   3900000.0   1800000.0  \n",
       "4    Rock/ice/debris avalanches and slides   1900000.0         NaN         NaN  \n",
       "..                                     ...         ...         ...         ...  \n",
       "240       Lahar/debris flow/outburst flood     12600.0         NaN         NaN  \n",
       "241  Rock/ice/debris avalanches and slides  13000000.0  60000000.0   2800000.0  \n",
       "242  Rock/ice/debris avalanches and slides   3800000.0   5400000.0   2700000.0  \n",
       "243  Rock/ice/debris avalanches and slides         NaN         NaN         NaN  \n",
       "244                      Rock/debris falls         NaN         NaN         NaN  \n",
       "\n",
       "[245 rows x 56 columns]"
      ]
     },
     "execution_count": 7,
     "metadata": {},
     "output_type": "execute_result"
    }
   ],
   "source": [
    "cat"
   ]
  },
  {
   "cell_type": "code",
   "execution_count": 8,
   "id": "7b1163b2",
   "metadata": {},
   "outputs": [],
   "source": [
    "st_z = []\n",
    "st_data = []\n",
    "evids = []\n",
    "hod_trace = []\n",
    "dow_trace = []\n",
    "moy_trace = []\n",
    "event_types = []\n",
    "event_subtypes = []\n",
    "event_duration = []\n",
    "trids = []\n",
    "\n",
    "\n",
    "for i in range(len(event_ids)):\n",
    "    try:\n",
    "        files = glob(\"../data/iris_esec_waveforms/IRIS_ESEC/waveforms/\"+str(event_ids[i])+'/*HZ*')\n",
    "        for file in files:\n",
    "            tr = obspy.read(file)\n",
    "            \n",
    "            d = tr[0].resample(100).data\n",
    "            data = d[2000:17000]\n",
    "            snr = np.nanmax(abs(data))/np.nanmean(abs(data))\n",
    "\n",
    "            if snr > 2:\n",
    "                st_data.append(data)\n",
    "                evids.append(event_ids[i])           \n",
    "                trids.append(tr[0].id)\n",
    "                hod_trace.append(hod[i])\n",
    "                dow_trace.append(dow[i])\n",
    "                moy_trace.append(moy[i])\n",
    "                event_types.append(source_types[i])\n",
    "                event_subtypes.append(source_subtypes[i])\n",
    "                event_duration.append(dur[i])\n",
    "                \n",
    "    except:\n",
    "        pass\n",
    "    "
   ]
  },
  {
   "cell_type": "markdown",
   "id": "932bd8e4",
   "metadata": {},
   "source": [
    "## Processing the downloaded waveforms for the events corresponding to ESEC"
   ]
  },
  {
   "cell_type": "code",
   "execution_count": 9,
   "id": "698488bf",
   "metadata": {},
   "outputs": [],
   "source": [
    "st_array = np.stack(st_data)\n",
    "tapered_ex = apply_cosine_taper(st_array, taper_percent = 10) \n",
    "filtered_ex = np.array(butterworth_filter(tapered_ex, 1, 10, 100, 4, 'bandpass'))\n",
    "ex_Z = filtered_ex\n",
    "ex_Z = ex_Z/np.max(abs(ex_Z), axis = 1)[:, np.newaxis]\n",
    "\n"
   ]
  },
  {
   "cell_type": "markdown",
   "id": "9156cb33",
   "metadata": {},
   "source": [
    "## Extracting Tsfel features"
   ]
  },
  {
   "cell_type": "code",
   "execution_count": 10,
   "id": "76e68fa5",
   "metadata": {
    "scrolled": true
   },
   "outputs": [
    {
     "name": "stderr",
     "output_type": "stream",
     "text": [
      "100%|██████████| 336/336 [11:15<00:00,  2.01s/it]\n"
     ]
    }
   ],
   "source": [
    "cfg_file = tsfel.get_features_by_domain()\n",
    "# Extract features for surface event\n",
    "features_ex_tsfel = pd.DataFrame([])\n",
    "\n",
    "for i in tqdm(range(len(ex_Z))):\n",
    "    try:\n",
    "        df = time_series_features_extractor(cfg_file, ex_Z[i], fs=100,  verbose = 0)\n",
    "        df['event_id'] = evids[i]\n",
    "        df['trace_id'] = trids[i]\n",
    "        features_ex_tsfel = pd.concat([features_ex_tsfel,df])\n",
    "    except:\n",
    "        pass"
   ]
  },
  {
   "cell_type": "code",
   "execution_count": null,
   "id": "619569c0",
   "metadata": {},
   "outputs": [],
   "source": []
  },
  {
   "cell_type": "markdown",
   "id": "111068bb",
   "metadata": {},
   "source": [
    "## Extracting physical features"
   ]
  },
  {
   "cell_type": "code",
   "execution_count": 11,
   "id": "b4525e0e",
   "metadata": {},
   "outputs": [
    {
     "name": "stderr",
     "output_type": "stream",
     "text": [
      "  0%|          | 0/336 [00:00<?, ?it/s]/home/ak287/PNW_Seismic_Event_Classification/notebooks/../feature_extraction_scripts/physical_feature_extraction_scripts/seis_feature.py:101: RuntimeWarning: invalid value encountered in double_scalars\n",
      "  'Gamma': lambda: ((np.dot(self.freq, self.ft**(2)) / np.sum(self.ft**(2)))**(2) - ((np.dot(self.freq**(2), self.ft**(2)) / np.sum(self.ft**(2)))**(0.5))**(2))**(0.5),\n",
      "100%|██████████| 336/336 [07:30<00:00,  1.34s/it]"
     ]
    },
    {
     "name": "stdout",
     "output_type": "stream",
     "text": [
      "450.6931993961334\n"
     ]
    },
    {
     "name": "stderr",
     "output_type": "stream",
     "text": [
      "\n"
     ]
    }
   ],
   "source": [
    "code_sttime = time.time()\n",
    "features_ex_physical = pd.DataFrame([])\n",
    "\n",
    "for i in tqdm(range(len(ex_Z))):\n",
    "    try: \n",
    "        df = seis_feature.FeatureCalculator(ex_Z[i]).compute_features()\n",
    "        df['serial_no'] = i\n",
    "        df['event_id'] = evids[i]\n",
    "        df['trace_id'] = trids[i]\n",
    "        df['hod'] = hod_trace[i]\n",
    "        df['dow'] = dow_trace[i]\n",
    "        df['moy'] = moy_trace[i]\n",
    "        df['event_type'] = event_types[i]\n",
    "        df['event_subtype'] = event_subtypes[i]\n",
    "        df['duration'] = event_duration[i]\n",
    "        features_ex_physical = pd.concat([features_ex_physical, df])\n",
    "    except:\n",
    "        pass\n",
    "    \n",
    "print(time.time() - code_sttime)"
   ]
  },
  {
   "cell_type": "code",
   "execution_count": null,
   "id": "7e710b6b",
   "metadata": {},
   "outputs": [],
   "source": []
  },
  {
   "cell_type": "markdown",
   "id": "eed92ac9",
   "metadata": {},
   "source": [
    "## Loading the common dataset to extract only the features on which the model was trained"
   ]
  },
  {
   "cell_type": "code",
   "execution_count": 12,
   "id": "f5ba08e9",
   "metadata": {},
   "outputs": [
    {
     "name": "stderr",
     "output_type": "stream",
     "text": [
      "/home/ak287/miniconda3/envs/roses_2021/lib/python3.9/site-packages/IPython/core/interactiveshell.py:3441: DtypeWarning: Columns (307,313,331,332,333,334,335) have mixed types.Specify dtype option on import or set low_memory=False.\n",
      "  exec(code_obj, self.user_global_ns, self.user_ns)\n"
     ]
    }
   ],
   "source": [
    "# loading the common dataset on which the model was trained so I can grab its columns. \n",
    "common_dataset = pd.read_csv('../results/common_dataset.csv')"
   ]
  },
  {
   "cell_type": "code",
   "execution_count": 13,
   "id": "f8318bfc",
   "metadata": {},
   "outputs": [],
   "source": [
    "columns = common_dataset.columns[1:304]\n",
    "columns = columns.append(pd.Index(['hod', 'dow', 'moy']))"
   ]
  },
  {
   "cell_type": "code",
   "execution_count": null,
   "id": "f99ea431",
   "metadata": {},
   "outputs": [],
   "source": []
  },
  {
   "cell_type": "code",
   "execution_count": null,
   "id": "50c08b8b",
   "metadata": {},
   "outputs": [],
   "source": []
  },
  {
   "cell_type": "code",
   "execution_count": 14,
   "id": "67ae733d",
   "metadata": {},
   "outputs": [],
   "source": [
    "# Later, you can load the model from disk\n",
    "loaded_model = load('../results/best_rf_model_all_features_50_100.joblib')\n",
    "\n"
   ]
  },
  {
   "cell_type": "code",
   "execution_count": null,
   "id": "eb438b99",
   "metadata": {},
   "outputs": [],
   "source": []
  },
  {
   "cell_type": "code",
   "execution_count": null,
   "id": "8f2f986d",
   "metadata": {},
   "outputs": [],
   "source": []
  },
  {
   "cell_type": "code",
   "execution_count": 16,
   "id": "ea70fd2e",
   "metadata": {},
   "outputs": [],
   "source": [
    "# merging the event id and trace id to give each trace a unique id, that will allow us to merge physical and tsfel features\n",
    "# for a given trace. \n",
    "features_ex_tsfel['source_id'] = features_ex_tsfel['trace_id']+'_'+features_ex_tsfel['event_id'].astype('str')\n",
    "features_ex_physical['source_id'] = features_ex_physical['trace_id']+'_'+features_ex_physical['event_id'].astype('str')\n",
    "\n",
    "\n",
    "# merging physical and tsfel features. \n",
    "features_all = pd.merge(features_ex_physical, features_ex_tsfel)\n",
    "\n",
    "\n",
    "events_ids = features_all['event_id']\n",
    "\n",
    "# grabbing the relevant columns\n",
    "final_features = features_all.loc[:,columns]\n",
    "\n",
    "\n",
    "scaler_params = pd.read_csv('../results/scaler_params.csv')\n",
    "scaler_params.index = scaler_params['Feature']\n",
    "\n",
    "final_scaler_params = scaler_params.loc[final_features.columns[:-3]]\n",
    "\n",
    "\n",
    "for i in range(len(final_features.columns[:-3])):\n",
    "    final_features.iloc[:,i] = (final_features.iloc[:,i]-final_scaler_params.iloc[i,2])/(final_scaler_params.iloc[i,3])\n",
    "    \n",
    "    \n",
    "X_scaled = final_features"
   ]
  },
  {
   "cell_type": "code",
   "execution_count": 17,
   "id": "8c66a83a",
   "metadata": {},
   "outputs": [],
   "source": [
    "results = loaded_model.predict(X_scaled)\n",
    "probs = loaded_model.predict_proba(X_scaled)"
   ]
  },
  {
   "cell_type": "code",
   "execution_count": 20,
   "id": "1a603a1e",
   "metadata": {},
   "outputs": [
    {
     "data": {
      "image/png": "[encoded data removed]",
      "text/plain": [
       "<Figure size 720x576 with 1 Axes>"
      ]
     },
     "metadata": {},
     "output_type": "display_data"
    }
   ],
   "source": [
    "plt.style.use('seaborn')\n",
    "plt.figure(figsize=(10, 8))\n",
    "ax = sns.histplot(results, bins=range(5), color='skyblue', edgecolor='black', alpha=0.7)\n",
    "plt.title('Distribution of Results for IRIS ESEC Events', fontsize=16)\n",
    "plt.xlabel('Event Categories', fontsize=14)\n",
    "plt.ylabel('Frequency', fontsize=14)\n",
    "plt.xticks(range(4), labels=['Earthquake', 'Explosion', 'Noise', 'Surface'])\n",
    "plt.grid(axis='y', linestyle='--', alpha=0.5)\n",
    "\n",
    "# Adding annotations with the number of events in each bin\n",
    "for p in ax.patches:\n",
    "    ax.annotate(f'{int(p.get_height())}', (p.get_x() + p.get_width() / 2., p.get_height()),\n",
    "                ha='center', va='baseline', fontsize=10, color='black', xytext=(0, 5),\n",
    "                textcoords='offset points')\n",
    "\n",
    "plt.show()"
   ]
  },
  {
   "cell_type": "code",
   "execution_count": null,
   "id": "022ecde7",
   "metadata": {},
   "outputs": [],
   "source": []
  },
  {
   "cell_type": "markdown",
   "id": "82d58231",
   "metadata": {},
   "source": [
    "## We want to plot how many avalanches were correctly classified or the distribution of labels of avalanches only. "
   ]
  },
  {
   "cell_type": "code",
   "execution_count": 21,
   "id": "d56cd087",
   "metadata": {},
   "outputs": [],
   "source": [
    "# merging the event id and trace id to give each trace a unique id, that will allow us to merge physical and tsfel features\n",
    "# for a given trace. \n",
    "features_ex_tsfel['source_id'] = features_ex_tsfel['trace_id']+'_'+features_ex_tsfel['event_id'].astype('str')\n",
    "features_ex_physical['source_id'] = features_ex_physical['trace_id']+'_'+features_ex_physical['event_id'].astype('str')\n",
    "\n",
    "features_physical_flows = features_ex_physical[features_ex_physical['event_subtype'] == 'Lahar/debris flow/outburst flood']\n",
    "features_physical_falls = features_ex_physical[features_ex_physical['event_subtype'] == 'Rock/debris falls']\n",
    "features_physical_avalanches = features_ex_physical[features_ex_physical['event_subtype'] == 'Rock/ice/debris avalanches and slides']\n",
    "features_physical_snow_av = features_ex_physical[features_ex_physical['event_subtype'] == 'Snow avalanches']\n",
    "\n",
    "\n",
    "def compute_results_types(features_physical_flows):\n",
    "\n",
    "    # merging physical and tsfel features. \n",
    "    features_all = pd.merge(features_physical_flows, features_ex_tsfel, on = 'source_id')\n",
    "\n",
    "\n",
    "    events_ids = features_all['event_id_x']\n",
    "\n",
    "    # grabbing the relevant columns\n",
    "    final_features = features_all.loc[:,columns]\n",
    "\n",
    "    scaler_params = pd.read_csv('../results/scaler_params.csv')\n",
    "    scaler_params.index = scaler_params['Feature']\n",
    "\n",
    "    final_scaler_params = scaler_params.loc[final_features.columns[:-3]]\n",
    "\n",
    "\n",
    "    for i in range(len(final_features.columns[:-3])):\n",
    "        final_features.iloc[:,i] = (final_features.iloc[:,i]-final_scaler_params.iloc[i,2])/(final_scaler_params.iloc[i,3])\n",
    "    \n",
    "    \n",
    "    X_scaled = final_features\n",
    "                                         \n",
    "    results = loaded_model.predict(X_scaled)\n",
    "    probs = loaded_model.predict_proba(X_scaled)\n",
    "    durs = features_all['duration'].values\n",
    "    esec_ids = [int(features_all['source_id'].values[i].split('_')[1]) for i in range(len(features_all))]     \n",
    "    return results, durs, esec_ids\n",
    "                                         \n",
    "\n",
    "    \n",
    "results_flows, dur_flows, esec_ids_flows = compute_results_types(features_physical_flows)\n",
    "results_falls, dur_falls, esec_ids_falls = compute_results_types(features_physical_falls)\n",
    "results_avalanches, dur_avalanches, esec_ids_avalanches = compute_results_types(features_physical_avalanches)\n",
    "results_snow_av, dur_snow_av, esec_ids_snow_av = compute_results_types(features_physical_snow_av)"
   ]
  },
  {
   "cell_type": "code",
   "execution_count": null,
   "id": "aded3491",
   "metadata": {},
   "outputs": [],
   "source": []
  },
  {
   "cell_type": "code",
   "execution_count": null,
   "id": "b5087c25",
   "metadata": {},
   "outputs": [],
   "source": []
  },
  {
   "cell_type": "markdown",
   "id": "5f94926d",
   "metadata": {},
   "source": [
    "## Location wise distribution of results"
   ]
  },
  {
   "cell_type": "code",
   "execution_count": 22,
   "id": "8fe9f263",
   "metadata": {},
   "outputs": [],
   "source": [
    "snow_av_lats = [cat[cat['eventid'] == esec_ids_snow_av[i]]['latitude'].values[0] for i in range(len(esec_ids_snow_av))]\n",
    "snow_av_lons = [cat[cat['eventid'] == esec_ids_snow_av[i]]['longitude'].values[0] for i in range(len(esec_ids_snow_av))]\n",
    "\n",
    "fall_lats = [cat[cat['eventid'] == esec_ids_falls[i]]['latitude'].values[0] for i in range(len(esec_ids_falls))]\n",
    "fall_lons = [cat[cat['eventid'] == esec_ids_falls[i]]['longitude'].values[0] for i in range(len(esec_ids_falls))]\n",
    "\n",
    "av_lats = [cat[cat['eventid'] == esec_ids_avalanches[i]]['latitude'].values[0] for i in range(len(esec_ids_avalanches))]\n",
    "av_lons = [cat[cat['eventid'] == esec_ids_avalanches[i]]['longitude'].values[0] for i in range(len(esec_ids_avalanches))]\n",
    "\n",
    "flow_lats = [cat[cat['eventid'] == esec_ids_flows[i]]['latitude'].values[0] for i in range(len(esec_ids_flows))]\n",
    "flow_lons =  [cat[cat['eventid'] == esec_ids_flows[i]]['longitude'].values[0] for i in range(len(esec_ids_flows))]\n",
    "\n",
    "\n",
    "\n",
    "\n",
    "\n",
    "\n",
    "\n"
   ]
  },
  {
   "cell_type": "code",
   "execution_count": null,
   "id": "8ee463cd",
   "metadata": {},
   "outputs": [],
   "source": []
  },
  {
   "cell_type": "code",
   "execution_count": 23,
   "id": "3077b0b1",
   "metadata": {},
   "outputs": [],
   "source": [
    "final_results = pd.DataFrame([])\n",
    "final_results['labels'] = np.hstack([results_flows, results_falls, results_avalanches, results_snow_av])\n",
    "final_results['source_subtype'] = ['flows']*len(results_flows) + ['falls']*len(results_falls) + ['avalanches']*len(results_avalanches) + ['snow avalanches']*len(results_snow_av)\n",
    "final_results['duration'] = np.hstack([dur_flows, dur_falls, dur_avalanches, dur_snow_av])\n",
    "final_results['ev_lats'] = np.hstack([flow_lats, fall_lats, av_lats, snow_av_lats])\n",
    "final_results['ev_lons'] = np.hstack([flow_lons, fall_lons, av_lons, snow_av_lons])\n",
    "\n",
    "\n",
    "\n"
   ]
  },
  {
   "cell_type": "code",
   "execution_count": 25,
   "id": "698022ea",
   "metadata": {},
   "outputs": [],
   "source": [
    "temp_results = final_results[final_results['source_subtype'] == 'avalanches']"
   ]
  },
  {
   "cell_type": "code",
   "execution_count": 26,
   "id": "55db7483",
   "metadata": {},
   "outputs": [
    {
     "data": {
      "application/vnd.plotly.v1+json": {
       "config": {
        "plotlyServerURL": "https://plot.ly"
       },
       "data": [
        {
         "geo": "geo",
         "hovertemplate": "ev_lats=%{lat}<br>ev_lons=%{lon}<br>labels=%{marker.color}<extra></extra>",
         "lat": [
          61.10249,
          50.3448,
          47.0051,
          47.0051,
          47.0051,
          43.85,
          37.75212,
          60.0336,
          60.0336,
          60.0336,
          60.0285,
          61.2992,
          61.2992,
          61.2992,
          46.34038,
          46.34038,
          47.3535,
          41.37499,
          47.04884,
          47.04884,
          47.04884,
          47.04884,
          47.04884,
          47.04884,
          47.04884,
          47.04884,
          47.04884,
          47.04884,
          46.843,
          46.843,
          46.843,
          47.5831,
          47.5831,
          47.5831,
          46.1674,
          46.1674,
          46.1674,
          47.1673,
          47.1673,
          47.1673,
          47.1673,
          60.0287,
          60.0287,
          46.843,
          46.843,
          46.20042,
          46.20042,
          48.28631,
          46.843,
          46.843,
          61.2992,
          61.2992,
          61.2992,
          46.38,
          46.38,
          46.843,
          46.38,
          46.38,
          48.74668,
          43.62,
          45.97228,
          45.97228,
          45.97228,
          45.97228,
          45.97228,
          45.97228,
          45.97228,
          45.97228,
          61.64019,
          46.3971,
          46.3971,
          46.20175,
          46.2516,
          46.2516,
          46.49321,
          46.49321,
          61.29739,
          61.29739,
          61.29739,
          61.29739,
          61.29739,
          61.29739,
          46.70162,
          46.70162,
          47.1673,
          47.1673,
          47.1673,
          47.1673,
          47.1673,
          47.1673,
          47.1673,
          47.1673,
          49.46736,
          46.38,
          46.38,
          45.93284,
          45.93284,
          46.843,
          46.843,
          46.6425,
          46.6425,
          46.6425,
          46.6425,
          44.65,
          44.65,
          44.65,
          44.65,
          45.00412,
          45.00412,
          46.84462,
          44.75,
          44.75,
          46.5914,
          46.5914,
          46.843,
          46.843,
          50.3431,
          50.3431,
          46.29552,
          46.29552,
          46.29552,
          46.843,
          46.843,
          47.089,
          47.089,
          54.7576,
          54.7576,
          54.7576,
          54.7576,
          46.76111,
          46.76111,
          46.76111,
          46.76111,
          46.76111,
          46.76111,
          60.0277,
          47.33429,
          47.33429,
          47.33429,
          47.33429,
          47.33429,
          45.95,
          45.09,
          45.09,
          46.5367,
          46.5367,
          46.5367,
          46.295,
          46.749,
          46.749,
          46.749,
          46.749,
          46.749,
          46.749,
          61.64019,
          47.3511,
          47.3511,
          47.3511,
          47.3511,
          47.3511,
          46.6149,
          46.6149,
          46.6149,
          46.6149,
          46.6149,
          46.6149,
          46.843,
          47.353,
          47.353,
          47.353,
          47.353,
          47.353,
          60.02716,
          60.033
         ],
         "legendgroup": "",
         "lon": [
          -140.3055,
          -122.4511,
          10.9728,
          10.9728,
          10.9728,
          6.7,
          -119.54105,
          -153.076,
          -153.076,
          -153.076,
          -153.0924,
          -152.2542,
          -152.2542,
          -152.2542,
          9.63292,
          9.63292,
          11.0041,
          -122.15457,
          11.53554,
          11.53554,
          11.53554,
          11.53554,
          11.53554,
          11.53554,
          11.53554,
          11.53554,
          11.53554,
          11.53554,
          -121.75,
          -121.75,
          -121.75,
          13.0847,
          13.0847,
          13.0847,
          7.7871,
          7.7871,
          7.7871,
          12.764,
          12.764,
          12.764,
          12.764,
          -153.0738,
          -153.0738,
          -121.75,
          -121.75,
          -121.49931,
          -121.49931,
          -121.85259,
          -121.75,
          -121.75,
          -152.2542,
          -152.2542,
          -152.2542,
          8.43997,
          8.43997,
          -121.75,
          8.43997,
          8.43997,
          -121.86256,
          6.75,
          6.65257,
          6.65257,
          6.65257,
          6.65257,
          6.65257,
          6.65257,
          6.65257,
          6.65257,
          -141.5603,
          9.6319,
          9.6319,
          -121.49862,
          8.9846,
          8.9846,
          10.52494,
          10.52494,
          -152.24213,
          -152.24213,
          -152.24213,
          -152.24213,
          -152.24213,
          -152.24213,
          8.76787,
          8.76787,
          12.764,
          12.764,
          12.764,
          12.764,
          12.764,
          12.764,
          12.764,
          12.764,
          -122.01218,
          8.43997,
          8.43997,
          7.87915,
          7.87915,
          -121.75,
          -121.75,
          12.1388,
          12.1388,
          12.1388,
          12.1388,
          6.46,
          6.46,
          6.46,
          6.46,
          6.30448,
          6.30448,
          -121.75226,
          6.72,
          6.72,
          13.7326,
          13.7326,
          -121.75,
          -121.75,
          -122.4488,
          -122.4488,
          9.6019,
          9.6019,
          9.6019,
          -121.75,
          -121.75,
          11.3634,
          11.3634,
          -163.7315,
          -163.7315,
          -163.7315,
          -163.7315,
          9.96477,
          9.96477,
          9.96477,
          9.96477,
          9.96477,
          9.96477,
          -153.0749,
          9.7936,
          9.7936,
          9.7936,
          9.7936,
          9.7936,
          7.06,
          6.2,
          6.2,
          8.6418,
          8.6418,
          8.6418,
          9.602,
          9.0677,
          9.0677,
          9.0677,
          9.0677,
          9.0677,
          9.0677,
          -141.5603,
          9.8366,
          9.8366,
          9.8366,
          9.8366,
          9.8366,
          12.3749,
          12.3749,
          12.3749,
          12.3749,
          12.3749,
          12.3749,
          -121.75,
          9.815,
          9.815,
          9.815,
          9.815,
          9.815,
          -153.0767,
          -153.0987
         ],
         "marker": {
          "color": [
           3,
           3,
           3,
           3,
           3,
           2,
           3,
           3,
           1,
           2,
           3,
           3,
           3,
           3,
           3,
           2,
           2,
           2,
           1,
           3,
           3,
           2,
           1,
           3,
           3,
           3,
           3,
           3,
           3,
           3,
           1,
           3,
           3,
           3,
           3,
           3,
           2,
           3,
           2,
           2,
           2,
           3,
           1,
           3,
           2,
           2,
           3,
           1,
           3,
           2,
           3,
           3,
           2,
           3,
           2,
           3,
           3,
           3,
           2,
           2,
           1,
           3,
           3,
           2,
           3,
           3,
           1,
           2,
           1,
           3,
           3,
           3,
           3,
           3,
           1,
           1,
           3,
           3,
           3,
           3,
           1,
           3,
           3,
           2,
           3,
           2,
           2,
           2,
           2,
           2,
           2,
           3,
           1,
           3,
           3,
           3,
           3,
           3,
           3,
           3,
           3,
           3,
           1,
           2,
           2,
           2,
           2,
           2,
           2,
           3,
           2,
           2,
           2,
           3,
           3,
           1,
           3,
           3,
           3,
           3,
           3,
           3,
           2,
           3,
           3,
           3,
           2,
           3,
           3,
           3,
           3,
           2,
           2,
           2,
           2,
           1,
           1,
           1,
           3,
           2,
           3,
           2,
           2,
           2,
           3,
           2,
           2,
           3,
           3,
           3,
           1,
           3,
           2,
           2,
           1,
           3,
           3,
           1,
           3,
           3,
           3,
           3,
           3,
           3,
           3,
           3,
           3,
           1,
           2,
           2,
           2,
           1,
           3,
           2
          ],
          "coloraxis": "coloraxis",
          "symbol": "circle"
         },
         "mode": "markers",
         "name": "",
         "showlegend": false,
         "type": "scattergeo"
        }
       ],
       "layout": {
        "coloraxis": {
         "colorbar": {
          "title": {
           "text": "labels"
          }
         },
         "colorscale": [
          [
           0,
           "#0d0887"
          ],
          [
           0.1111111111111111,
           "#46039f"
          ],
          [
           0.2222222222222222,
           "#7201a8"
          ],
          [
           0.3333333333333333,
           "#9c179e"
          ],
          [
           0.4444444444444444,
           "#bd3786"
          ],
          [
           0.5555555555555556,
           "#d8576b"
          ],
          [
           0.6666666666666666,
           "#ed7953"
          ],
          [
           0.7777777777777778,
           "#fb9f3a"
          ],
          [
           0.8888888888888888,
           "#fdca26"
          ],
          [
           1,
           "#f0f921"
          ]
         ]
        },
        "geo": {
         "center": {},
         "domain": {
          "x": [
           0,
           1
          ],
          "y": [
           0,
           1
          ]
         }
        },
        "legend": {
         "tracegroupgap": 0
        },
        "margin": {
         "t": 60
        },
        "template": {
         "data": {
          "bar": [
           {
            "error_x": {
             "color": "#2a3f5f"
            },
            "error_y": {
             "color": "#2a3f5f"
            },
            "marker": {
             "line": {
              "color": "#E5ECF6",
              "width": 0.5
             },
             "pattern": {
              "fillmode": "overlay",
              "size": 10,
              "solidity": 0.2
             }
            },
            "type": "bar"
           }
          ],
          "barpolar": [
           {
            "marker": {
             "line": {
              "color": "#E5ECF6",
              "width": 0.5
             },
             "pattern": {
              "fillmode": "overlay",
              "size": 10,
              "solidity": 0.2
             }
            },
            "type": "barpolar"
           }
          ],
          "carpet": [
           {
            "aaxis": {
             "endlinecolor": "#2a3f5f",
             "gridcolor": "white",
             "linecolor": "white",
             "minorgridcolor": "white",
             "startlinecolor": "#2a3f5f"
            },
            "baxis": {
             "endlinecolor": "#2a3f5f",
             "gridcolor": "white",
             "linecolor": "white",
             "minorgridcolor": "white",
             "startlinecolor": "#2a3f5f"
            },
            "type": "carpet"
           }
          ],
          "choropleth": [
           {
            "colorbar": {
             "outlinewidth": 0,
             "ticks": ""
            },
            "type": "choropleth"
           }
          ],
          "contour": [
           {
            "colorbar": {
             "outlinewidth": 0,
             "ticks": ""
            },
            "colorscale": [
             [
              0,
              "#0d0887"
             ],
             [
              0.1111111111111111,
              "#46039f"
             ],
             [
              0.2222222222222222,
              "#7201a8"
             ],
             [
              0.3333333333333333,
              "#9c179e"
             ],
             [
              0.4444444444444444,
              "#bd3786"
             ],
             [
              0.5555555555555556,
              "#d8576b"
             ],
             [
              0.6666666666666666,
              "#ed7953"
             ],
             [
              0.7777777777777778,
              "#fb9f3a"
             ],
             [
              0.8888888888888888,
              "#fdca26"
             ],
             [
              1,
              "#f0f921"
             ]
            ],
            "type": "contour"
           }
          ],
          "contourcarpet": [
           {
            "colorbar": {
             "outlinewidth": 0,
             "ticks": ""
            },
            "type": "contourcarpet"
           }
          ],
          "heatmap": [
           {
            "colorbar": {
             "outlinewidth": 0,
             "ticks": ""
            },
            "colorscale": [
             [
              0,
              "#0d0887"
             ],
             [
              0.1111111111111111,
              "#46039f"
             ],
             [
              0.2222222222222222,
              "#7201a8"
             ],
             [
              0.3333333333333333,
              "#9c179e"
             ],
             [
              0.4444444444444444,
              "#bd3786"
             ],
             [
              0.5555555555555556,
              "#d8576b"
             ],
             [
              0.6666666666666666,
              "#ed7953"
             ],
             [
              0.7777777777777778,
              "#fb9f3a"
             ],
             [
              0.8888888888888888,
              "#fdca26"
             ],
             [
              1,
              "#f0f921"
             ]
            ],
            "type": "heatmap"
           }
          ],
          "heatmapgl": [
           {
            "colorbar": {
             "outlinewidth": 0,
             "ticks": ""
            },
            "colorscale": [
             [
              0,
              "#0d0887"
             ],
             [
              0.1111111111111111,
              "#46039f"
             ],
             [
              0.2222222222222222,
              "#7201a8"
             ],
             [
              0.3333333333333333,
              "#9c179e"
             ],
             [
              0.4444444444444444,
              "#bd3786"
             ],
             [
              0.5555555555555556,
              "#d8576b"
             ],
             [
              0.6666666666666666,
              "#ed7953"
             ],
             [
              0.7777777777777778,
              "#fb9f3a"
             ],
             [
              0.8888888888888888,
              "#fdca26"
             ],
             [
              1,
              "#f0f921"
             ]
            ],
            "type": "heatmapgl"
           }
          ],
          "histogram": [
           {
            "marker": {
             "pattern": {
              "fillmode": "overlay",
              "size": 10,
              "solidity": 0.2
             }
            },
            "type": "histogram"
           }
          ],
          "histogram2d": [
           {
            "colorbar": {
             "outlinewidth": 0,
             "ticks": ""
            },
            "colorscale": [
             [
              0,
              "#0d0887"
             ],
             [
              0.1111111111111111,
              "#46039f"
             ],
             [
              0.2222222222222222,
              "#7201a8"
             ],
             [
              0.3333333333333333,
              "#9c179e"
             ],
             [
              0.4444444444444444,
              "#bd3786"
             ],
             [
              0.5555555555555556,
              "#d8576b"
             ],
             [
              0.6666666666666666,
              "#ed7953"
             ],
             [
              0.7777777777777778,
              "#fb9f3a"
             ],
             [
              0.8888888888888888,
              "#fdca26"
             ],
             [
              1,
              "#f0f921"
             ]
            ],
            "type": "histogram2d"
           }
          ],
          "histogram2dcontour": [
           {
            "colorbar": {
             "outlinewidth": 0,
             "ticks": ""
            },
            "colorscale": [
             [
              0,
              "#0d0887"
             ],
             [
              0.1111111111111111,
              "#46039f"
             ],
             [
              0.2222222222222222,
              "#7201a8"
             ],
             [
              0.3333333333333333,
              "#9c179e"
             ],
             [
              0.4444444444444444,
              "#bd3786"
             ],
             [
              0.5555555555555556,
              "#d8576b"
             ],
             [
              0.6666666666666666,
              "#ed7953"
             ],
             [
              0.7777777777777778,
              "#fb9f3a"
             ],
             [
              0.8888888888888888,
              "#fdca26"
             ],
             [
              1,
              "#f0f921"
             ]
            ],
            "type": "histogram2dcontour"
           }
          ],
          "mesh3d": [
           {
            "colorbar": {
             "outlinewidth": 0,
             "ticks": ""
            },
            "type": "mesh3d"
           }
          ],
          "parcoords": [
           {
            "line": {
             "colorbar": {
              "outlinewidth": 0,
              "ticks": ""
             }
            },
            "type": "parcoords"
           }
          ],
          "pie": [
           {
            "automargin": true,
            "type": "pie"
           }
          ],
          "scatter": [
           {
            "marker": {
             "colorbar": {
              "outlinewidth": 0,
              "ticks": ""
             }
            },
            "type": "scatter"
           }
          ],
          "scatter3d": [
           {
            "line": {
             "colorbar": {
              "outlinewidth": 0,
              "ticks": ""
             }
            },
            "marker": {
             "colorbar": {
              "outlinewidth": 0,
              "ticks": ""
             }
            },
            "type": "scatter3d"
           }
          ],
          "scattercarpet": [
           {
            "marker": {
             "colorbar": {
              "outlinewidth": 0,
              "ticks": ""
             }
            },
            "type": "scattercarpet"
           }
          ],
          "scattergeo": [
           {
            "marker": {
             "colorbar": {
              "outlinewidth": 0,
              "ticks": ""
             }
            },
            "type": "scattergeo"
           }
          ],
          "scattergl": [
           {
            "marker": {
             "colorbar": {
              "outlinewidth": 0,
              "ticks": ""
             }
            },
            "type": "scattergl"
           }
          ],
          "scattermapbox": [
           {
            "marker": {
             "colorbar": {
              "outlinewidth": 0,
              "ticks": ""
             }
            },
            "type": "scattermapbox"
           }
          ],
          "scatterpolar": [
           {
            "marker": {
             "colorbar": {
              "outlinewidth": 0,
              "ticks": ""
             }
            },
            "type": "scatterpolar"
           }
          ],
          "scatterpolargl": [
           {
            "marker": {
             "colorbar": {
              "outlinewidth": 0,
              "ticks": ""
             }
            },
            "type": "scatterpolargl"
           }
          ],
          "scatterternary": [
           {
            "marker": {
             "colorbar": {
              "outlinewidth": 0,
              "ticks": ""
             }
            },
            "type": "scatterternary"
           }
          ],
          "surface": [
           {
            "colorbar": {
             "outlinewidth": 0,
             "ticks": ""
            },
            "colorscale": [
             [
              0,
              "#0d0887"
             ],
             [
              0.1111111111111111,
              "#46039f"
             ],
             [
              0.2222222222222222,
              "#7201a8"
             ],
             [
              0.3333333333333333,
              "#9c179e"
             ],
             [
              0.4444444444444444,
              "#bd3786"
             ],
             [
              0.5555555555555556,
              "#d8576b"
             ],
             [
              0.6666666666666666,
              "#ed7953"
             ],
             [
              0.7777777777777778,
              "#fb9f3a"
             ],
             [
              0.8888888888888888,
              "#fdca26"
             ],
             [
              1,
              "#f0f921"
             ]
            ],
            "type": "surface"
           }
          ],
          "table": [
           {
            "cells": {
             "fill": {
              "color": "#EBF0F8"
             },
             "line": {
              "color": "white"
             }
            },
            "header": {
             "fill": {
              "color": "#C8D4E3"
             },
             "line": {
              "color": "white"
             }
            },
            "type": "table"
           }
          ]
         },
         "layout": {
          "annotationdefaults": {
           "arrowcolor": "#2a3f5f",
           "arrowhead": 0,
           "arrowwidth": 1
          },
          "autotypenumbers": "strict",
          "coloraxis": {
           "colorbar": {
            "outlinewidth": 0,
            "ticks": ""
           }
          },
          "colorscale": {
           "diverging": [
            [
             0,
             "#8e0152"
            ],
            [
             0.1,
             "#c51b7d"
            ],
            [
             0.2,
             "#de77ae"
            ],
            [
             0.3,
             "#f1b6da"
            ],
            [
             0.4,
             "#fde0ef"
            ],
            [
             0.5,
             "#f7f7f7"
            ],
            [
             0.6,
             "#e6f5d0"
            ],
            [
             0.7,
             "#b8e186"
            ],
            [
             0.8,
             "#7fbc41"
            ],
            [
             0.9,
             "#4d9221"
            ],
            [
             1,
             "#276419"
            ]
           ],
           "sequential": [
            [
             0,
             "#0d0887"
            ],
            [
             0.1111111111111111,
             "#46039f"
            ],
            [
             0.2222222222222222,
             "#7201a8"
            ],
            [
             0.3333333333333333,
             "#9c179e"
            ],
            [
             0.4444444444444444,
             "#bd3786"
            ],
            [
             0.5555555555555556,
             "#d8576b"
            ],
            [
             0.6666666666666666,
             "#ed7953"
            ],
            [
             0.7777777777777778,
             "#fb9f3a"
            ],
            [
             0.8888888888888888,
             "#fdca26"
            ],
            [
             1,
             "#f0f921"
            ]
           ],
           "sequentialminus": [
            [
             0,
             "#0d0887"
            ],
            [
             0.1111111111111111,
             "#46039f"
            ],
            [
             0.2222222222222222,
             "#7201a8"
            ],
            [
             0.3333333333333333,
             "#9c179e"
            ],
            [
             0.4444444444444444,
             "#bd3786"
            ],
            [
             0.5555555555555556,
             "#d8576b"
            ],
            [
             0.6666666666666666,
             "#ed7953"
            ],
            [
             0.7777777777777778,
             "#fb9f3a"
            ],
            [
             0.8888888888888888,
             "#fdca26"
            ],
            [
             1,
             "#f0f921"
            ]
           ]
          },
          "colorway": [
           "#636efa",
           "#EF553B",
           "#00cc96",
           "#ab63fa",
           "#FFA15A",
           "#19d3f3",
           "#FF6692",
           "#B6E880",
           "#FF97FF",
           "#FECB52"
          ],
          "font": {
           "color": "#2a3f5f"
          },
          "geo": {
           "bgcolor": "white",
           "lakecolor": "white",
           "landcolor": "#E5ECF6",
           "showlakes": true,
           "showland": true,
           "subunitcolor": "white"
          },
          "hoverlabel": {
           "align": "left"
          },
          "hovermode": "closest",
          "mapbox": {
           "style": "light"
          },
          "paper_bgcolor": "white",
          "plot_bgcolor": "#E5ECF6",
          "polar": {
           "angularaxis": {
            "gridcolor": "white",
            "linecolor": "white",
            "ticks": ""
           },
           "bgcolor": "#E5ECF6",
           "radialaxis": {
            "gridcolor": "white",
            "linecolor": "white",
            "ticks": ""
           }
          },
          "scene": {
           "xaxis": {
            "backgroundcolor": "#E5ECF6",
            "gridcolor": "white",
            "gridwidth": 2,
            "linecolor": "white",
            "showbackground": true,
            "ticks": "",
            "zerolinecolor": "white"
           },
           "yaxis": {
            "backgroundcolor": "#E5ECF6",
            "gridcolor": "white",
            "gridwidth": 2,
            "linecolor": "white",
            "showbackground": true,
            "ticks": "",
            "zerolinecolor": "white"
           },
           "zaxis": {
            "backgroundcolor": "#E5ECF6",
            "gridcolor": "white",
            "gridwidth": 2,
            "linecolor": "white",
            "showbackground": true,
            "ticks": "",
            "zerolinecolor": "white"
           }
          },
          "shapedefaults": {
           "line": {
            "color": "#2a3f5f"
           }
          },
          "ternary": {
           "aaxis": {
            "gridcolor": "white",
            "linecolor": "white",
            "ticks": ""
           },
           "baxis": {
            "gridcolor": "white",
            "linecolor": "white",
            "ticks": ""
           },
           "bgcolor": "#E5ECF6",
           "caxis": {
            "gridcolor": "white",
            "linecolor": "white",
            "ticks": ""
           }
          },
          "title": {
           "x": 0.05
          },
          "xaxis": {
           "automargin": true,
           "gridcolor": "white",
           "linecolor": "white",
           "ticks": "",
           "title": {
            "standoff": 15
           },
           "zerolinecolor": "white",
           "zerolinewidth": 2
          },
          "yaxis": {
           "automargin": true,
           "gridcolor": "white",
           "linecolor": "white",
           "ticks": "",
           "title": {
            "standoff": 15
           },
           "zerolinecolor": "white",
           "zerolinewidth": 2
          }
         }
        }
       }
      },
      "text/html": [
       "<div>                            <div id=\"0277864a-af9d-4a6e-9346-565d9a0642e9\" class=\"plotly-graph-div\" style=\"height:525px; width:100%;\"></div>            <script type=\"text/javascript\">                require([\"plotly\"], function(Plotly) {                    window.PLOTLYENV=window.PLOTLYENV || {};                                    if (document.getElementById(\"0277864a-af9d-4a6e-9346-565d9a0642e9\")) {                    Plotly.newPlot(                        \"0277864a-af9d-4a6e-9346-565d9a0642e9\",                        [{\"geo\":\"geo\",\"hovertemplate\":\"ev_lats=%{lat}<br>ev_lons=%{lon}<br>labels=%{marker.color}<extra></extra>\",\"lat\":[61.10249,50.3448,47.0051,47.0051,47.0051,43.85,37.75212,60.0336,60.0336,60.0336,60.0285,61.2992,61.2992,61.2992,46.34038,46.34038,47.3535,41.37499,47.04884,47.04884,47.04884,47.04884,47.04884,47.04884,47.04884,47.04884,47.04884,47.04884,46.843,46.843,46.843,47.5831,47.5831,47.5831,46.1674,46.1674,46.1674,47.1673,47.1673,47.1673,47.1673,60.0287,60.0287,46.843,46.843,46.20042,46.20042,48.28631,46.843,46.843,61.2992,61.2992,61.2992,46.38,46.38,46.843,46.38,46.38,48.74668,43.62,45.97228,45.97228,45.97228,45.97228,45.97228,45.97228,45.97228,45.97228,61.64019,46.3971,46.3971,46.20175,46.2516,46.2516,46.49321,46.49321,61.29739,61.29739,61.29739,61.29739,61.29739,61.29739,46.70162,46.70162,47.1673,47.1673,47.1673,47.1673,47.1673,47.1673,47.1673,47.1673,49.46736,46.38,46.38,45.93284,45.93284,46.843,46.843,46.6425,46.6425,46.6425,46.6425,44.65,44.65,44.65,44.65,45.00412,45.00412,46.84462,44.75,44.75,46.5914,46.5914,46.843,46.843,50.3431,50.3431,46.29552,46.29552,46.29552,46.843,46.843,47.089,47.089,54.7576,54.7576,54.7576,54.7576,46.76111,46.76111,46.76111,46.76111,46.76111,46.76111,60.0277,47.33429,47.33429,47.33429,47.33429,47.33429,45.95,45.09,45.09,46.5367,46.5367,46.5367,46.295,46.749,46.749,46.749,46.749,46.749,46.749,61.64019,47.3511,47.3511,47.3511,47.3511,47.3511,46.6149,46.6149,46.6149,46.6149,46.6149,46.6149,46.843,47.353,47.353,47.353,47.353,47.353,60.02716,60.033],\"legendgroup\":\"\",\"lon\":[-140.3055,-122.4511,10.9728,10.9728,10.9728,6.7,-119.54105,-153.076,-153.076,-153.076,-153.0924,-152.2542,-152.2542,-152.2542,9.63292,9.63292,11.0041,-122.15457,11.53554,11.53554,11.53554,11.53554,11.53554,11.53554,11.53554,11.53554,11.53554,11.53554,-121.75,-121.75,-121.75,13.0847,13.0847,13.0847,7.7871,7.7871,7.7871,12.764,12.764,12.764,12.764,-153.0738,-153.0738,-121.75,-121.75,-121.49931,-121.49931,-121.85259,-121.75,-121.75,-152.2542,-152.2542,-152.2542,8.43997,8.43997,-121.75,8.43997,8.43997,-121.86256,6.75,6.65257,6.65257,6.65257,6.65257,6.65257,6.65257,6.65257,6.65257,-141.5603,9.6319,9.6319,-121.49862,8.9846,8.9846,10.52494,10.52494,-152.24213,-152.24213,-152.24213,-152.24213,-152.24213,-152.24213,8.76787,8.76787,12.764,12.764,12.764,12.764,12.764,12.764,12.764,12.764,-122.01218,8.43997,8.43997,7.87915,7.87915,-121.75,-121.75,12.1388,12.1388,12.1388,12.1388,6.46,6.46,6.46,6.46,6.30448,6.30448,-121.75226,6.72,6.72,13.7326,13.7326,-121.75,-121.75,-122.4488,-122.4488,9.6019,9.6019,9.6019,-121.75,-121.75,11.3634,11.3634,-163.7315,-163.7315,-163.7315,-163.7315,9.96477,9.96477,9.96477,9.96477,9.96477,9.96477,-153.0749,9.7936,9.7936,9.7936,9.7936,9.7936,7.06,6.2,6.2,8.6418,8.6418,8.6418,9.602,9.0677,9.0677,9.0677,9.0677,9.0677,9.0677,-141.5603,9.8366,9.8366,9.8366,9.8366,9.8366,12.3749,12.3749,12.3749,12.3749,12.3749,12.3749,-121.75,9.815,9.815,9.815,9.815,9.815,-153.0767,-153.0987],\"marker\":{\"color\":[3,3,3,3,3,2,3,3,1,2,3,3,3,3,3,2,2,2,1,3,3,2,1,3,3,3,3,3,3,3,1,3,3,3,3,3,2,3,2,2,2,3,1,3,2,2,3,1,3,2,3,3,2,3,2,3,3,3,2,2,1,3,3,2,3,3,1,2,1,3,3,3,3,3,1,1,3,3,3,3,1,3,3,2,3,2,2,2,2,2,2,3,1,3,3,3,3,3,3,3,3,3,1,2,2,2,2,2,2,3,2,2,2,3,3,1,3,3,3,3,3,3,2,3,3,3,2,3,3,3,3,2,2,2,2,1,1,1,3,2,3,2,2,2,3,2,2,3,3,3,1,3,2,2,1,3,3,1,3,3,3,3,3,3,3,3,3,1,2,2,2,1,3,2],\"coloraxis\":\"coloraxis\",\"symbol\":\"circle\"},\"mode\":\"markers\",\"name\":\"\",\"showlegend\":false,\"type\":\"scattergeo\"}],                        {\"coloraxis\":{\"colorbar\":{\"title\":{\"text\":\"labels\"}},\"colorscale\":[[0.0,\"#0d0887\"],[0.1111111111111111,\"#46039f\"],[0.2222222222222222,\"#7201a8\"],[0.3333333333333333,\"#9c179e\"],[0.4444444444444444,\"#bd3786\"],[0.5555555555555556,\"#d8576b\"],[0.6666666666666666,\"#ed7953\"],[0.7777777777777778,\"#fb9f3a\"],[0.8888888888888888,\"#fdca26\"],[1.0,\"#f0f921\"]]},\"geo\":{\"center\":{},\"domain\":{\"x\":[0.0,1.0],\"y\":[0.0,1.0]}},\"legend\":{\"tracegroupgap\":0},\"margin\":{\"t\":60},\"template\":{\"data\":{\"bar\":[{\"error_x\":{\"color\":\"#2a3f5f\"},\"error_y\":{\"color\":\"#2a3f5f\"},\"marker\":{\"line\":{\"color\":\"#E5ECF6\",\"width\":0.5},\"pattern\":{\"fillmode\":\"overlay\",\"size\":10,\"solidity\":0.2}},\"type\":\"bar\"}],\"barpolar\":[{\"marker\":{\"line\":{\"color\":\"#E5ECF6\",\"width\":0.5},\"pattern\":{\"fillmode\":\"overlay\",\"size\":10,\"solidity\":0.2}},\"type\":\"barpolar\"}],\"carpet\":[{\"aaxis\":{\"endlinecolor\":\"#2a3f5f\",\"gridcolor\":\"white\",\"linecolor\":\"white\",\"minorgridcolor\":\"white\",\"startlinecolor\":\"#2a3f5f\"},\"baxis\":{\"endlinecolor\":\"#2a3f5f\",\"gridcolor\":\"white\",\"linecolor\":\"white\",\"minorgridcolor\":\"white\",\"startlinecolor\":\"#2a3f5f\"},\"type\":\"carpet\"}],\"choropleth\":[{\"colorbar\":{\"outlinewidth\":0,\"ticks\":\"\"},\"type\":\"choropleth\"}],\"contour\":[{\"colorbar\":{\"outlinewidth\":0,\"ticks\":\"\"},\"colorscale\":[[0.0,\"#0d0887\"],[0.1111111111111111,\"#46039f\"],[0.2222222222222222,\"#7201a8\"],[0.3333333333333333,\"#9c179e\"],[0.4444444444444444,\"#bd3786\"],[0.5555555555555556,\"#d8576b\"],[0.6666666666666666,\"#ed7953\"],[0.7777777777777778,\"#fb9f3a\"],[0.8888888888888888,\"#fdca26\"],[1.0,\"#f0f921\"]],\"type\":\"contour\"}],\"contourcarpet\":[{\"colorbar\":{\"outlinewidth\":0,\"ticks\":\"\"},\"type\":\"contourcarpet\"}],\"heatmap\":[{\"colorbar\":{\"outlinewidth\":0,\"ticks\":\"\"},\"colorscale\":[[0.0,\"#0d0887\"],[0.1111111111111111,\"#46039f\"],[0.2222222222222222,\"#7201a8\"],[0.3333333333333333,\"#9c179e\"],[0.4444444444444444,\"#bd3786\"],[0.5555555555555556,\"#d8576b\"],[0.6666666666666666,\"#ed7953\"],[0.7777777777777778,\"#fb9f3a\"],[0.8888888888888888,\"#fdca26\"],[1.0,\"#f0f921\"]],\"type\":\"heatmap\"}],\"heatmapgl\":[{\"colorbar\":{\"outlinewidth\":0,\"ticks\":\"\"},\"colorscale\":[[0.0,\"#0d0887\"],[0.1111111111111111,\"#46039f\"],[0.2222222222222222,\"#7201a8\"],[0.3333333333333333,\"#9c179e\"],[0.4444444444444444,\"#bd3786\"],[0.5555555555555556,\"#d8576b\"],[0.6666666666666666,\"#ed7953\"],[0.7777777777777778,\"#fb9f3a\"],[0.8888888888888888,\"#fdca26\"],[1.0,\"#f0f921\"]],\"type\":\"heatmapgl\"}],\"histogram\":[{\"marker\":{\"pattern\":{\"fillmode\":\"overlay\",\"size\":10,\"solidity\":0.2}},\"type\":\"histogram\"}],\"histogram2d\":[{\"colorbar\":{\"outlinewidth\":0,\"ticks\":\"\"},\"colorscale\":[[0.0,\"#0d0887\"],[0.1111111111111111,\"#46039f\"],[0.2222222222222222,\"#7201a8\"],[0.3333333333333333,\"#9c179e\"],[0.4444444444444444,\"#bd3786\"],[0.5555555555555556,\"#d8576b\"],[0.6666666666666666,\"#ed7953\"],[0.7777777777777778,\"#fb9f3a\"],[0.8888888888888888,\"#fdca26\"],[1.0,\"#f0f921\"]],\"type\":\"histogram2d\"}],\"histogram2dcontour\":[{\"colorbar\":{\"outlinewidth\":0,\"ticks\":\"\"},\"colorscale\":[[0.0,\"#0d0887\"],[0.1111111111111111,\"#46039f\"],[0.2222222222222222,\"#7201a8\"],[0.3333333333333333,\"#9c179e\"],[0.4444444444444444,\"#bd3786\"],[0.5555555555555556,\"#d8576b\"],[0.6666666666666666,\"#ed7953\"],[0.7777777777777778,\"#fb9f3a\"],[0.8888888888888888,\"#fdca26\"],[1.0,\"#f0f921\"]],\"type\":\"histogram2dcontour\"}],\"mesh3d\":[{\"colorbar\":{\"outlinewidth\":0,\"ticks\":\"\"},\"type\":\"mesh3d\"}],\"parcoords\":[{\"line\":{\"colorbar\":{\"outlinewidth\":0,\"ticks\":\"\"}},\"type\":\"parcoords\"}],\"pie\":[{\"automargin\":true,\"type\":\"pie\"}],\"scatter\":[{\"marker\":{\"colorbar\":{\"outlinewidth\":0,\"ticks\":\"\"}},\"type\":\"scatter\"}],\"scatter3d\":[{\"line\":{\"colorbar\":{\"outlinewidth\":0,\"ticks\":\"\"}},\"marker\":{\"colorbar\":{\"outlinewidth\":0,\"ticks\":\"\"}},\"type\":\"scatter3d\"}],\"scattercarpet\":[{\"marker\":{\"colorbar\":{\"outlinewidth\":0,\"ticks\":\"\"}},\"type\":\"scattercarpet\"}],\"scattergeo\":[{\"marker\":{\"colorbar\":{\"outlinewidth\":0,\"ticks\":\"\"}},\"type\":\"scattergeo\"}],\"scattergl\":[{\"marker\":{\"colorbar\":{\"outlinewidth\":0,\"ticks\":\"\"}},\"type\":\"scattergl\"}],\"scattermapbox\":[{\"marker\":{\"colorbar\":{\"outlinewidth\":0,\"ticks\":\"\"}},\"type\":\"scattermapbox\"}],\"scatterpolar\":[{\"marker\":{\"colorbar\":{\"outlinewidth\":0,\"ticks\":\"\"}},\"type\":\"scatterpolar\"}],\"scatterpolargl\":[{\"marker\":{\"colorbar\":{\"outlinewidth\":0,\"ticks\":\"\"}},\"type\":\"scatterpolargl\"}],\"scatterternary\":[{\"marker\":{\"colorbar\":{\"outlinewidth\":0,\"ticks\":\"\"}},\"type\":\"scatterternary\"}],\"surface\":[{\"colorbar\":{\"outlinewidth\":0,\"ticks\":\"\"},\"colorscale\":[[0.0,\"#0d0887\"],[0.1111111111111111,\"#46039f\"],[0.2222222222222222,\"#7201a8\"],[0.3333333333333333,\"#9c179e\"],[0.4444444444444444,\"#bd3786\"],[0.5555555555555556,\"#d8576b\"],[0.6666666666666666,\"#ed7953\"],[0.7777777777777778,\"#fb9f3a\"],[0.8888888888888888,\"#fdca26\"],[1.0,\"#f0f921\"]],\"type\":\"surface\"}],\"table\":[{\"cells\":{\"fill\":{\"color\":\"#EBF0F8\"},\"line\":{\"color\":\"white\"}},\"header\":{\"fill\":{\"color\":\"#C8D4E3\"},\"line\":{\"color\":\"white\"}},\"type\":\"table\"}]},\"layout\":{\"annotationdefaults\":{\"arrowcolor\":\"#2a3f5f\",\"arrowhead\":0,\"arrowwidth\":1},\"autotypenumbers\":\"strict\",\"coloraxis\":{\"colorbar\":{\"outlinewidth\":0,\"ticks\":\"\"}},\"colorscale\":{\"diverging\":[[0,\"#8e0152\"],[0.1,\"#c51b7d\"],[0.2,\"#de77ae\"],[0.3,\"#f1b6da\"],[0.4,\"#fde0ef\"],[0.5,\"#f7f7f7\"],[0.6,\"#e6f5d0\"],[0.7,\"#b8e186\"],[0.8,\"#7fbc41\"],[0.9,\"#4d9221\"],[1,\"#276419\"]],\"sequential\":[[0.0,\"#0d0887\"],[0.1111111111111111,\"#46039f\"],[0.2222222222222222,\"#7201a8\"],[0.3333333333333333,\"#9c179e\"],[0.4444444444444444,\"#bd3786\"],[0.5555555555555556,\"#d8576b\"],[0.6666666666666666,\"#ed7953\"],[0.7777777777777778,\"#fb9f3a\"],[0.8888888888888888,\"#fdca26\"],[1.0,\"#f0f921\"]],\"sequentialminus\":[[0.0,\"#0d0887\"],[0.1111111111111111,\"#46039f\"],[0.2222222222222222,\"#7201a8\"],[0.3333333333333333,\"#9c179e\"],[0.4444444444444444,\"#bd3786\"],[0.5555555555555556,\"#d8576b\"],[0.6666666666666666,\"#ed7953\"],[0.7777777777777778,\"#fb9f3a\"],[0.8888888888888888,\"#fdca26\"],[1.0,\"#f0f921\"]]},\"colorway\":[\"#636efa\",\"#EF553B\",\"#00cc96\",\"#ab63fa\",\"#FFA15A\",\"#19d3f3\",\"#FF6692\",\"#B6E880\",\"#FF97FF\",\"#FECB52\"],\"font\":{\"color\":\"#2a3f5f\"},\"geo\":{\"bgcolor\":\"white\",\"lakecolor\":\"white\",\"landcolor\":\"#E5ECF6\",\"showlakes\":true,\"showland\":true,\"subunitcolor\":\"white\"},\"hoverlabel\":{\"align\":\"left\"},\"hovermode\":\"closest\",\"mapbox\":{\"style\":\"light\"},\"paper_bgcolor\":\"white\",\"plot_bgcolor\":\"#E5ECF6\",\"polar\":{\"angularaxis\":{\"gridcolor\":\"white\",\"linecolor\":\"white\",\"ticks\":\"\"},\"bgcolor\":\"#E5ECF6\",\"radialaxis\":{\"gridcolor\":\"white\",\"linecolor\":\"white\",\"ticks\":\"\"}},\"scene\":{\"xaxis\":{\"backgroundcolor\":\"#E5ECF6\",\"gridcolor\":\"white\",\"gridwidth\":2,\"linecolor\":\"white\",\"showbackground\":true,\"ticks\":\"\",\"zerolinecolor\":\"white\"},\"yaxis\":{\"backgroundcolor\":\"#E5ECF6\",\"gridcolor\":\"white\",\"gridwidth\":2,\"linecolor\":\"white\",\"showbackground\":true,\"ticks\":\"\",\"zerolinecolor\":\"white\"},\"zaxis\":{\"backgroundcolor\":\"#E5ECF6\",\"gridcolor\":\"white\",\"gridwidth\":2,\"linecolor\":\"white\",\"showbackground\":true,\"ticks\":\"\",\"zerolinecolor\":\"white\"}},\"shapedefaults\":{\"line\":{\"color\":\"#2a3f5f\"}},\"ternary\":{\"aaxis\":{\"gridcolor\":\"white\",\"linecolor\":\"white\",\"ticks\":\"\"},\"baxis\":{\"gridcolor\":\"white\",\"linecolor\":\"white\",\"ticks\":\"\"},\"bgcolor\":\"#E5ECF6\",\"caxis\":{\"gridcolor\":\"white\",\"linecolor\":\"white\",\"ticks\":\"\"}},\"title\":{\"x\":0.05},\"xaxis\":{\"automargin\":true,\"gridcolor\":\"white\",\"linecolor\":\"white\",\"ticks\":\"\",\"title\":{\"standoff\":15},\"zerolinecolor\":\"white\",\"zerolinewidth\":2},\"yaxis\":{\"automargin\":true,\"gridcolor\":\"white\",\"linecolor\":\"white\",\"ticks\":\"\",\"title\":{\"standoff\":15},\"zerolinecolor\":\"white\",\"zerolinewidth\":2}}}},                        {\"responsive\": true}                    ).then(function(){\n",
       "                            \n",
       "var gd = document.getElementById('0277864a-af9d-4a6e-9346-565d9a0642e9');\n",
       "var x = new MutationObserver(function (mutations, observer) {{\n",
       "        var display = window.getComputedStyle(gd).display;\n",
       "        if (!display || display === 'none') {{\n",
       "            console.log([gd, 'removed!']);\n",
       "            Plotly.purge(gd);\n",
       "            observer.disconnect();\n",
       "        }}\n",
       "}});\n",
       "\n",
       "// Listen for the removal of the full notebook cells\n",
       "var notebookContainer = gd.closest('#notebook-container');\n",
       "if (notebookContainer) {{\n",
       "    x.observe(notebookContainer, {childList: true});\n",
       "}}\n",
       "\n",
       "// Listen for the clearing of the current output cell\n",
       "var outputEl = gd.closest('.output');\n",
       "if (outputEl) {{\n",
       "    x.observe(outputEl, {childList: true});\n",
       "}}\n",
       "\n",
       "                        })                };                });            </script>        </div>"
      ]
     },
     "metadata": {},
     "output_type": "display_data"
    }
   ],
   "source": [
    "import pandas as pd\n",
    "import plotly.express as px\n",
    "\n",
    "\n",
    "df = temp_results.copy()\n",
    "fig = px.scatter_geo(df, lat='ev_lats', lon='ev_lons', color='labels')\n",
    "fig.show()\n"
   ]
  },
  {
   "cell_type": "code",
   "execution_count": null,
   "id": "1fe8088d",
   "metadata": {},
   "outputs": [],
   "source": []
  },
  {
   "cell_type": "code",
   "execution_count": null,
   "id": "4a340df5",
   "metadata": {},
   "outputs": [],
   "source": []
  },
  {
   "cell_type": "code",
   "execution_count": 198,
   "id": "41f0c7fd",
   "metadata": {
    "scrolled": false
   },
   "outputs": [
    {
     "data": {
      "image/png": "[encoded data removed]",
      "text/plain": [
       "<Figure size 1000x600 with 1 Axes>"
      ]
     },
     "metadata": {},
     "output_type": "display_data"
    }
   ],
   "source": [
    "df = final_results.copy()\n",
    "\n",
    "# Create the violin plot\n",
    "plt.figure(figsize=(10, 6))\n",
    "sns.violinplot(x='labels', y='duration', data=df, palette='muted')\n",
    "\n",
    "# Add labels and title\n",
    "plt.xlabel('Labels', fontsize=14)\n",
    "plt.ylabel('Duration', fontsize=14)\n",
    "plt.title('Violin Plot of Durations for Different Labels', fontsize=16)\n",
    "#plt.ylim(-500, 700)\n",
    "# Show the plot\n",
    "plt.tight_layout()\n",
    "plt.show()\n"
   ]
  },
  {
   "cell_type": "code",
   "execution_count": 196,
   "id": "fd68f2e1",
   "metadata": {
    "scrolled": false
   },
   "outputs": [
    {
     "data": {
      "text/plain": [
       "<AxesSubplot:>"
      ]
     },
     "execution_count": 196,
     "metadata": {},
     "output_type": "execute_result"
    },
    {
     "data": {
      "image/png": "[encoded data removed]",
      "text/plain": [
       "<Figure size 640x480 with 1 Axes>"
      ]
     },
     "metadata": {},
     "output_type": "display_data"
    }
   ],
   "source": [
    "final_results['duration'].hist()\n"
   ]
  },
  {
   "cell_type": "code",
   "execution_count": null,
   "id": "6d5c7f1e",
   "metadata": {},
   "outputs": [],
   "source": []
  },
  {
   "cell_type": "markdown",
   "id": "0ab9c22a",
   "metadata": {},
   "source": [
    "## Distribution of sources in different labels"
   ]
  },
  {
   "cell_type": "code",
   "execution_count": 161,
   "id": "5897752b",
   "metadata": {},
   "outputs": [
    {
     "data": {
      "image/png": "[encoded data removed]",
      "text/plain": [
       "<Figure size 1000x600 with 1 Axes>"
      ]
     },
     "metadata": {},
     "output_type": "display_data"
    }
   ],
   "source": [
    "# Copy the DataFrame\n",
    "df = final_results.copy()\n",
    "\n",
    "# Count occurrences for each subtype per label\n",
    "flows = df[df['source_subtype'] == 'flows']['labels']\n",
    "snow_avalanches = df[df['source_subtype'] == 'snow avalanches']['labels']\n",
    "rock_avalanches = df[df['source_subtype'] == 'avalanches']['labels']\n",
    "falls = df[df['source_subtype'] == 'falls']['labels']\n",
    "\n",
    "# Define the data\n",
    "data = [flows, snow_avalanches, rock_avalanches, falls]\n",
    "\n",
    "# Define the colors\n",
    "colors = ['#ff9999', '#66b3ff', 'lightgreen', 'violet']\n",
    "\n",
    "# Create the histogram\n",
    "plt.figure(figsize=(10, 6))\n",
    "plt.hist(data, bins=np.arange(0, 5, 1), stacked=True, density=True, color=colors, align='mid', label=['Flows', 'Snow Avalanches', 'Rock Avalanches', 'Falls'], width=0.5)\n",
    "\n",
    "# Add labels, title, and legend\n",
    "plt.xlabel('Assigned Labels', fontsize=14)\n",
    "plt.ylabel('Frequency', fontsize=14)\n",
    "plt.title('Stacked Histogram of Source Subtypes', fontsize=16)\n",
    "plt.xticks(np.arange(0, 4), ['Earthquake', 'Explosion', 'Noise', 'Surface'], fontsize=12)\n",
    "plt.yticks(fontsize=12)\n",
    "plt.legend(title='Source Subtypes', fontsize=12, title_fontsize=14, loc='upper right')\n",
    "plt.grid(axis='y', alpha=0.75)\n",
    "\n",
    "# Show the plot\n",
    "plt.tight_layout()\n",
    "plt.show()\n"
   ]
  },
  {
   "cell_type": "code",
   "execution_count": null,
   "id": "8ff7bd4c",
   "metadata": {},
   "outputs": [],
   "source": []
  },
  {
   "cell_type": "code",
   "execution_count": null,
   "id": "1cd228cc",
   "metadata": {},
   "outputs": [],
   "source": []
  },
  {
   "cell_type": "markdown",
   "id": "16eb7034",
   "metadata": {},
   "source": [
    "## Distribution of different labels in sources"
   ]
  },
  {
   "cell_type": "code",
   "execution_count": 172,
   "id": "6b28cf45",
   "metadata": {
    "scrolled": false
   },
   "outputs": [
    {
     "data": {
      "image/png": "[encoded data removed]",
      "text/plain": [
       "<Figure size 1000x600 with 1 Axes>"
      ]
     },
     "metadata": {},
     "output_type": "display_data"
    }
   ],
   "source": [
    "# Copy the DataFrame\n",
    "df = final_results.copy()\n",
    "\n",
    "# Convert source_subtype to categorical codes\n",
    "df['source_subtype_code'] = df['source_subtype'].astype('category').cat.codes\n",
    "\n",
    "\n",
    "# Count occurrences for each subtype per label\n",
    "earthquakes = df[df['labels'] == 0]['source_subtype_code']\n",
    "explosions = df[df['labels'] == 1]['source_subtype_code']\n",
    "noise = df[df['labels'] == 2]['source_subtype_code']\n",
    "surface = df[df['labels'] == 3]['source_subtype_code']\n",
    "\n",
    "# Define the data\n",
    "data = [earthquakes, explosions, noise, surface]\n",
    "\n",
    "# Define the colors\n",
    "colors = ['#ff9999', '#66b3ff', 'lightgreen', 'violet']\n",
    "\n",
    "# Create the histogram\n",
    "plt.figure(figsize=(10, 6))\n",
    "plt.hist(data, bins=np.arange(0, 5, 1), stacked=True, density=True, color=colors, align='mid', label=['Earthquake', 'Explosion', 'Noise', 'Surface'], width=0.5)\n",
    "\n",
    "# Add labels, title, and legend\n",
    "plt.xlabel('Assigned Labels', fontsize=14)\n",
    "plt.ylabel('Frequency', fontsize=14)\n",
    "plt.title('Stacked Histogram of Source Subtypes', fontsize=16)\n",
    "plt.xticks(np.arange(0, 4), ['Avalanches', 'Falls', 'Flows', 'Snow Avalanches'], fontsize=12)\n",
    "plt.yticks(fontsize=12)\n",
    "plt.legend(title='Source Subtypes', fontsize=12, title_fontsize=14, loc='upper right')\n",
    "plt.grid(axis='y', alpha=0.75)\n",
    "\n",
    "# Show the plot\n",
    "plt.tight_layout()\n",
    "plt.show()\n"
   ]
  },
  {
   "cell_type": "code",
   "execution_count": null,
   "id": "d020b165",
   "metadata": {},
   "outputs": [],
   "source": []
  },
  {
   "cell_type": "code",
   "execution_count": 205,
   "id": "f110237c",
   "metadata": {},
   "outputs": [
    {
     "data": {
      "image/png": "[encoded data removed]",
      "text/plain": [
       "<Figure size 800x600 with 1 Axes>"
      ]
     },
     "metadata": {},
     "output_type": "display_data"
    }
   ],
   "source": [
    "plt.figure(figsize=(8, 6))\n",
    "ax = sns.histplot(final_results, bins=range(5), color='skyblue', edgecolor='black', alpha=0.7)\n",
    "plt.title('Distribution of Results for IRIS ESEC Events', fontsize=16)\n",
    "plt.xlabel('Event Categories', fontsize=14)\n",
    "plt.ylabel('Frequency', fontsize=14)\n",
    "plt.xticks(range(4), labels=['Earthquake', 'Explosion', 'Noise', 'Surface'])\n",
    "plt.grid(axis='y', linestyle='--', alpha=0.5)\n",
    "\n",
    "# Adding annotations with the number of events in each bin\n",
    "for p in ax.patches:\n",
    "    ax.annotate(f'{int(p.get_height())}', (p.get_x() + p.get_width() / 2., p.get_height()),\n",
    "                ha='center', va='baseline', fontsize=10, color='black', xytext=(0, 5),\n",
    "                textcoords='offset points')\n",
    "\n",
    "plt.show()                                        "
   ]
  },
  {
   "cell_type": "code",
   "execution_count": 206,
   "id": "be65f1e9",
   "metadata": {},
   "outputs": [
    {
     "data": {
      "text/plain": [
       "0.4332344213649852"
      ]
     },
     "execution_count": 206,
     "metadata": {},
     "output_type": "execute_result"
    }
   ],
   "source": [
    "146/337\n"
   ]
  },
  {
   "cell_type": "code",
   "execution_count": 93,
   "id": "d859a4e3",
   "metadata": {},
   "outputs": [
    {
     "data": {
      "text/plain": [
       "([0, 1, 2, 3],\n",
       " [Text(0, 0, ''), Text(0, 0, ''), Text(0, 0, ''), Text(0, 0, '')])"
      ]
     },
     "execution_count": 93,
     "metadata": {},
     "output_type": "execute_result"
    },
    {
     "data": {
      "image/png": "[encoded data removed]",
      "text/plain": [
       "<Figure size 640x480 with 1 Axes>"
      ]
     },
     "metadata": {},
     "output_type": "display_data"
    }
   ],
   "source": [
    "plt.hist(features_ex_physical['event_subtype'])\n",
    "plt.xticks(rotation = 45)"
   ]
  },
  {
   "cell_type": "code",
   "execution_count": 96,
   "id": "1f4eb955",
   "metadata": {},
   "outputs": [
    {
     "data": {
      "image/png": "[encoded data removed]",
      "text/plain": [
       "<Figure size 1000x700 with 1 Axes>"
      ]
     },
     "metadata": {},
     "output_type": "display_data"
    }
   ],
   "source": [
    "plt.figure(figsize = [10,7])\n",
    "plt.hist(features_ex_physical['event_type'])\n",
    "plt.xticks(rotation = 45)\n",
    "plt.show()"
   ]
  },
  {
   "cell_type": "code",
   "execution_count": null,
   "id": "cb51c9a7",
   "metadata": {},
   "outputs": [],
   "source": []
  }
 ],
 "metadata": {
  "kernelspec": {
   "display_name": "roses_2021",
   "language": "python",
   "name": "roses_2021"
  },
  "language_info": {
   "codemirror_mode": {
    "name": "ipython",
    "version": 3
   },
   "file_extension": ".py",
   "mimetype": "text/x-python",
   "name": "python",
   "nbconvert_exporter": "python",
   "pygments_lexer": "ipython3",
   "version": "3.9.5"
  }
 },
 "nbformat": 4,
 "nbformat_minor": 5
}
